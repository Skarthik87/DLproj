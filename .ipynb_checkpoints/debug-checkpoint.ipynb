{
 "cells": [
  {
   "cell_type": "code",
   "execution_count": 1,
   "metadata": {
    "scrolled": false
   },
   "outputs": [
    {
     "name": "stderr",
     "output_type": "stream",
     "text": [
      "Using TensorFlow backend.\n"
     ]
    }
   ],
   "source": [
    "from keras.preprocessing.image import *"
   ]
  },
  {
   "cell_type": "code",
   "execution_count": 23,
   "metadata": {},
   "outputs": [],
   "source": [
    "from keras.preprocessing.image import _list_valid_filenames_in_directory"
   ]
  },
  {
   "cell_type": "code",
   "execution_count": 1,
   "metadata": {},
   "outputs": [],
   "source": [
    "import multiprocessing\n",
    "import pandas as pd\n",
    "import numpy as np"
   ]
  },
  {
   "cell_type": "code",
   "execution_count": 17,
   "metadata": {},
   "outputs": [],
   "source": [
    "from importlib import reload\n",
    "import keras_addon\n",
    "reload(keras_addon)\n",
    "from keras_addon import ImageFrameGenerator"
   ]
  },
  {
   "cell_type": "code",
   "execution_count": 18,
   "metadata": {},
   "outputs": [],
   "source": [
    "frame_gen = ImageFrameGenerator(rotation_range=10, width_shift_range=0.1, height_shift_range=0.1, zoom_range=0.1, shear_range=0.1)"
   ]
  },
  {
   "cell_type": "code",
   "execution_count": 19,
   "metadata": {},
   "outputs": [
    {
     "name": "stdout",
     "output_type": "stream",
     "text": [
      "Found 10 images.\n"
     ]
    }
   ],
   "source": [
    "test_gen = frame_gen.flow_from_frame(path, df, file_names='filenames', labels=['label1', 'label2'], target_size=(256, 256), batch_size=4)"
   ]
  },
  {
   "cell_type": "code",
   "execution_count": 20,
   "metadata": {},
   "outputs": [
    {
     "ename": "IndexError",
     "evalue": "list index out of range",
     "output_type": "error",
     "traceback": [
      "\u001b[0;31m---------------------------------------------------------------------------\u001b[0m",
      "\u001b[0;31mIndexError\u001b[0m                                Traceback (most recent call last)",
      "\u001b[0;32m<ipython-input-20-6d7b7c686a56>\u001b[0m in \u001b[0;36m<module>\u001b[0;34m()\u001b[0m\n\u001b[0;32m----> 1\u001b[0;31m \u001b[0mx_batch\u001b[0m\u001b[0;34m,\u001b[0m \u001b[0my_batch\u001b[0m \u001b[0;34m=\u001b[0m \u001b[0mnext\u001b[0m\u001b[0;34m(\u001b[0m\u001b[0mtest_gen\u001b[0m\u001b[0;34m)\u001b[0m\u001b[0;34m\u001b[0m\u001b[0m\n\u001b[0m",
      "\u001b[0;32m~/.local/lib/python3.5/site-packages/keras/preprocessing/image.py\u001b[0m in \u001b[0;36m__next__\u001b[0;34m(self, *args, **kwargs)\u001b[0m\n\u001b[1;32m    794\u001b[0m \u001b[0;34m\u001b[0m\u001b[0m\n\u001b[1;32m    795\u001b[0m     \u001b[0;32mdef\u001b[0m \u001b[0m__next__\u001b[0m\u001b[0;34m(\u001b[0m\u001b[0mself\u001b[0m\u001b[0;34m,\u001b[0m \u001b[0;34m*\u001b[0m\u001b[0margs\u001b[0m\u001b[0;34m,\u001b[0m \u001b[0;34m**\u001b[0m\u001b[0mkwargs\u001b[0m\u001b[0;34m)\u001b[0m\u001b[0;34m:\u001b[0m\u001b[0;34m\u001b[0m\u001b[0m\n\u001b[0;32m--> 796\u001b[0;31m         \u001b[0;32mreturn\u001b[0m \u001b[0mself\u001b[0m\u001b[0;34m.\u001b[0m\u001b[0mnext\u001b[0m\u001b[0;34m(\u001b[0m\u001b[0;34m*\u001b[0m\u001b[0margs\u001b[0m\u001b[0;34m,\u001b[0m \u001b[0;34m**\u001b[0m\u001b[0mkwargs\u001b[0m\u001b[0;34m)\u001b[0m\u001b[0;34m\u001b[0m\u001b[0m\n\u001b[0m\u001b[1;32m    797\u001b[0m \u001b[0;34m\u001b[0m\u001b[0m\n\u001b[1;32m    798\u001b[0m     \u001b[0;32mdef\u001b[0m \u001b[0m_get_batches_of_transformed_samples\u001b[0m\u001b[0;34m(\u001b[0m\u001b[0mself\u001b[0m\u001b[0;34m,\u001b[0m \u001b[0mindex_array\u001b[0m\u001b[0;34m)\u001b[0m\u001b[0;34m:\u001b[0m\u001b[0;34m\u001b[0m\u001b[0m\n",
      "\u001b[0;32m~/Codes/DLproj/keras_addon.py\u001b[0m in \u001b[0;36mnext\u001b[0;34m(self)\u001b[0m\n\u001b[1;32m    144\u001b[0m         \u001b[0;31m# The transformation of images is not under thread lock\u001b[0m\u001b[0;34m\u001b[0m\u001b[0;34m\u001b[0m\u001b[0m\n\u001b[1;32m    145\u001b[0m         \u001b[0;31m# so it can be done in parallel\u001b[0m\u001b[0;34m\u001b[0m\u001b[0;34m\u001b[0m\u001b[0m\n\u001b[0;32m--> 146\u001b[0;31m         \u001b[0;32mreturn\u001b[0m \u001b[0mself\u001b[0m\u001b[0;34m.\u001b[0m\u001b[0m_get_batches_of_transformed_samples\u001b[0m\u001b[0;34m(\u001b[0m\u001b[0mindex_array\u001b[0m\u001b[0;34m)\u001b[0m\u001b[0;34m\u001b[0m\u001b[0m\n\u001b[0m\u001b[1;32m    147\u001b[0m \u001b[0;34m\u001b[0m\u001b[0m\n\u001b[1;32m    148\u001b[0m \u001b[0;34m\u001b[0m\u001b[0m\n",
      "\u001b[0;32m~/Codes/DLproj/keras_addon.py\u001b[0m in \u001b[0;36m_get_batches_of_transformed_samples\u001b[0;34m(self, index_array)\u001b[0m\n\u001b[1;32m    107\u001b[0m         \u001b[0;31m# build batch of image data\u001b[0m\u001b[0;34m\u001b[0m\u001b[0;34m\u001b[0m\u001b[0m\n\u001b[1;32m    108\u001b[0m         \u001b[0;32mfor\u001b[0m \u001b[0mi\u001b[0m\u001b[0;34m,\u001b[0m \u001b[0mj\u001b[0m \u001b[0;32min\u001b[0m \u001b[0menumerate\u001b[0m\u001b[0;34m(\u001b[0m\u001b[0mindex_array\u001b[0m\u001b[0;34m)\u001b[0m\u001b[0;34m:\u001b[0m\u001b[0;34m\u001b[0m\u001b[0m\n\u001b[0;32m--> 109\u001b[0;31m             \u001b[0mfname\u001b[0m \u001b[0;34m=\u001b[0m \u001b[0mself\u001b[0m\u001b[0;34m.\u001b[0m\u001b[0mfilenames\u001b[0m\u001b[0;34m[\u001b[0m\u001b[0mj\u001b[0m\u001b[0;34m]\u001b[0m\u001b[0;34m\u001b[0m\u001b[0m\n\u001b[0m\u001b[1;32m    110\u001b[0m             img = load_img(os.path.join(self.directory, fname),\n\u001b[1;32m    111\u001b[0m                            \u001b[0mgrayscale\u001b[0m\u001b[0;34m=\u001b[0m\u001b[0mgrayscale\u001b[0m\u001b[0;34m,\u001b[0m\u001b[0;34m\u001b[0m\u001b[0m\n",
      "\u001b[0;31mIndexError\u001b[0m: list index out of range"
     ]
    }
   ],
   "source": [
    "x_batch, y_batch = next(test_gen)"
   ]
  },
  {
   "cell_type": "code",
   "execution_count": 5,
   "metadata": {},
   "outputs": [],
   "source": [
    "filenames = ['cat.160'+str(j) for j in range(10)] + ['dog.160'+str(j) for j in range(10)]\n",
    "label1 = [0 for j in range(10)] + [1 for j in range(10)]\n",
    "label2 = np.random.randn(20)\n",
    "\n",
    "df = pd.DataFrame(dict(filenames = filenames, label1=label1, label2=label2))"
   ]
  },
  {
   "cell_type": "code",
   "execution_count": 4,
   "metadata": {},
   "outputs": [],
   "source": [
    "df = df.set_index('filenames', drop=True)"
   ]
  },
  {
   "cell_type": "code",
   "execution_count": 6,
   "metadata": {},
   "outputs": [
    {
     "data": {
      "text/html": [
       "<div>\n",
       "<style scoped>\n",
       "    .dataframe tbody tr th:only-of-type {\n",
       "        vertical-align: middle;\n",
       "    }\n",
       "\n",
       "    .dataframe tbody tr th {\n",
       "        vertical-align: top;\n",
       "    }\n",
       "\n",
       "    .dataframe thead th {\n",
       "        text-align: right;\n",
       "    }\n",
       "</style>\n",
       "<table border=\"1\" class=\"dataframe\">\n",
       "  <thead>\n",
       "    <tr style=\"text-align: right;\">\n",
       "      <th></th>\n",
       "      <th>filenames</th>\n",
       "      <th>label1</th>\n",
       "      <th>label2</th>\n",
       "    </tr>\n",
       "  </thead>\n",
       "  <tbody>\n",
       "    <tr>\n",
       "      <th>0</th>\n",
       "      <td>cat.1600</td>\n",
       "      <td>0</td>\n",
       "      <td>-0.487396</td>\n",
       "    </tr>\n",
       "    <tr>\n",
       "      <th>1</th>\n",
       "      <td>cat.1601</td>\n",
       "      <td>0</td>\n",
       "      <td>-2.039925</td>\n",
       "    </tr>\n",
       "    <tr>\n",
       "      <th>2</th>\n",
       "      <td>cat.1602</td>\n",
       "      <td>0</td>\n",
       "      <td>-0.983927</td>\n",
       "    </tr>\n",
       "    <tr>\n",
       "      <th>3</th>\n",
       "      <td>cat.1603</td>\n",
       "      <td>0</td>\n",
       "      <td>1.295343</td>\n",
       "    </tr>\n",
       "    <tr>\n",
       "      <th>4</th>\n",
       "      <td>cat.1604</td>\n",
       "      <td>0</td>\n",
       "      <td>-0.036100</td>\n",
       "    </tr>\n",
       "    <tr>\n",
       "      <th>5</th>\n",
       "      <td>cat.1605</td>\n",
       "      <td>0</td>\n",
       "      <td>-1.220007</td>\n",
       "    </tr>\n",
       "    <tr>\n",
       "      <th>6</th>\n",
       "      <td>cat.1606</td>\n",
       "      <td>0</td>\n",
       "      <td>0.390655</td>\n",
       "    </tr>\n",
       "    <tr>\n",
       "      <th>7</th>\n",
       "      <td>cat.1607</td>\n",
       "      <td>0</td>\n",
       "      <td>-0.233772</td>\n",
       "    </tr>\n",
       "    <tr>\n",
       "      <th>8</th>\n",
       "      <td>cat.1608</td>\n",
       "      <td>0</td>\n",
       "      <td>0.473058</td>\n",
       "    </tr>\n",
       "    <tr>\n",
       "      <th>9</th>\n",
       "      <td>cat.1609</td>\n",
       "      <td>0</td>\n",
       "      <td>0.912236</td>\n",
       "    </tr>\n",
       "    <tr>\n",
       "      <th>10</th>\n",
       "      <td>dog.1600</td>\n",
       "      <td>1</td>\n",
       "      <td>-0.952183</td>\n",
       "    </tr>\n",
       "    <tr>\n",
       "      <th>11</th>\n",
       "      <td>dog.1601</td>\n",
       "      <td>1</td>\n",
       "      <td>-1.608337</td>\n",
       "    </tr>\n",
       "    <tr>\n",
       "      <th>12</th>\n",
       "      <td>dog.1602</td>\n",
       "      <td>1</td>\n",
       "      <td>-1.282370</td>\n",
       "    </tr>\n",
       "    <tr>\n",
       "      <th>13</th>\n",
       "      <td>dog.1603</td>\n",
       "      <td>1</td>\n",
       "      <td>-0.682644</td>\n",
       "    </tr>\n",
       "    <tr>\n",
       "      <th>14</th>\n",
       "      <td>dog.1604</td>\n",
       "      <td>1</td>\n",
       "      <td>0.046507</td>\n",
       "    </tr>\n",
       "    <tr>\n",
       "      <th>15</th>\n",
       "      <td>dog.1605</td>\n",
       "      <td>1</td>\n",
       "      <td>-0.311652</td>\n",
       "    </tr>\n",
       "    <tr>\n",
       "      <th>16</th>\n",
       "      <td>dog.1606</td>\n",
       "      <td>1</td>\n",
       "      <td>0.460124</td>\n",
       "    </tr>\n",
       "    <tr>\n",
       "      <th>17</th>\n",
       "      <td>dog.1607</td>\n",
       "      <td>1</td>\n",
       "      <td>-0.103464</td>\n",
       "    </tr>\n",
       "    <tr>\n",
       "      <th>18</th>\n",
       "      <td>dog.1608</td>\n",
       "      <td>1</td>\n",
       "      <td>-0.552133</td>\n",
       "    </tr>\n",
       "    <tr>\n",
       "      <th>19</th>\n",
       "      <td>dog.1609</td>\n",
       "      <td>1</td>\n",
       "      <td>-1.292357</td>\n",
       "    </tr>\n",
       "  </tbody>\n",
       "</table>\n",
       "</div>"
      ],
      "text/plain": [
       "   filenames  label1    label2\n",
       "0   cat.1600       0 -0.487396\n",
       "1   cat.1601       0 -2.039925\n",
       "2   cat.1602       0 -0.983927\n",
       "3   cat.1603       0  1.295343\n",
       "4   cat.1604       0 -0.036100\n",
       "5   cat.1605       0 -1.220007\n",
       "6   cat.1606       0  0.390655\n",
       "7   cat.1607       0 -0.233772\n",
       "8   cat.1608       0  0.473058\n",
       "9   cat.1609       0  0.912236\n",
       "10  dog.1600       1 -0.952183\n",
       "11  dog.1601       1 -1.608337\n",
       "12  dog.1602       1 -1.282370\n",
       "13  dog.1603       1 -0.682644\n",
       "14  dog.1604       1  0.046507\n",
       "15  dog.1605       1 -0.311652\n",
       "16  dog.1606       1  0.460124\n",
       "17  dog.1607       1 -0.103464\n",
       "18  dog.1608       1 -0.552133\n",
       "19  dog.1609       1 -1.292357"
      ]
     },
     "execution_count": 6,
     "metadata": {},
     "output_type": "execute_result"
    }
   ],
   "source": [
    "df"
   ]
  },
  {
   "cell_type": "code",
   "execution_count": 8,
   "metadata": {},
   "outputs": [],
   "source": [
    "index_batch = np.random.choice(filenames, 4)"
   ]
  },
  {
   "cell_type": "code",
   "execution_count": 9,
   "metadata": {},
   "outputs": [
    {
     "data": {
      "text/plain": [
       "array(['dog.1601', 'dog.1603', 'cat.1607', 'cat.1604'],\n",
       "      dtype='<U8')"
      ]
     },
     "execution_count": 9,
     "metadata": {},
     "output_type": "execute_result"
    }
   ],
   "source": [
    "index_batch"
   ]
  },
  {
   "cell_type": "code",
   "execution_count": 10,
   "metadata": {},
   "outputs": [],
   "source": [
    "y_sample = df.loc[index_batch, :]"
   ]
  },
  {
   "cell_type": "code",
   "execution_count": 12,
   "metadata": {},
   "outputs": [
    {
     "data": {
      "text/html": [
       "<div>\n",
       "<style scoped>\n",
       "    .dataframe tbody tr th:only-of-type {\n",
       "        vertical-align: middle;\n",
       "    }\n",
       "\n",
       "    .dataframe tbody tr th {\n",
       "        vertical-align: top;\n",
       "    }\n",
       "\n",
       "    .dataframe thead th {\n",
       "        text-align: right;\n",
       "    }\n",
       "</style>\n",
       "<table border=\"1\" class=\"dataframe\">\n",
       "  <thead>\n",
       "    <tr style=\"text-align: right;\">\n",
       "      <th></th>\n",
       "      <th>label1</th>\n",
       "      <th>label2</th>\n",
       "    </tr>\n",
       "    <tr>\n",
       "      <th>filenames</th>\n",
       "      <th></th>\n",
       "      <th></th>\n",
       "    </tr>\n",
       "  </thead>\n",
       "  <tbody>\n",
       "    <tr>\n",
       "      <th>dog.1601</th>\n",
       "      <td>1</td>\n",
       "      <td>-0.210288</td>\n",
       "    </tr>\n",
       "    <tr>\n",
       "      <th>dog.1603</th>\n",
       "      <td>1</td>\n",
       "      <td>0.729328</td>\n",
       "    </tr>\n",
       "    <tr>\n",
       "      <th>cat.1607</th>\n",
       "      <td>0</td>\n",
       "      <td>0.397530</td>\n",
       "    </tr>\n",
       "    <tr>\n",
       "      <th>cat.1604</th>\n",
       "      <td>0</td>\n",
       "      <td>-0.325356</td>\n",
       "    </tr>\n",
       "  </tbody>\n",
       "</table>\n",
       "</div>"
      ],
      "text/plain": [
       "           label1    label2\n",
       "filenames                  \n",
       "dog.1601        1 -0.210288\n",
       "dog.1603        1  0.729328\n",
       "cat.1607        0  0.397530\n",
       "cat.1604        0 -0.325356"
      ]
     },
     "execution_count": 12,
     "metadata": {},
     "output_type": "execute_result"
    }
   ],
   "source": [
    "y_sample"
   ]
  },
  {
   "cell_type": "code",
   "execution_count": 17,
   "metadata": {},
   "outputs": [],
   "source": [
    "labels = ['label1', 'label2']"
   ]
  },
  {
   "cell_type": "code",
   "execution_count": 18,
   "metadata": {
    "scrolled": false
   },
   "outputs": [
    {
     "data": {
      "text/html": [
       "<div>\n",
       "<style scoped>\n",
       "    .dataframe tbody tr th:only-of-type {\n",
       "        vertical-align: middle;\n",
       "    }\n",
       "\n",
       "    .dataframe tbody tr th {\n",
       "        vertical-align: top;\n",
       "    }\n",
       "\n",
       "    .dataframe thead th {\n",
       "        text-align: right;\n",
       "    }\n",
       "</style>\n",
       "<table border=\"1\" class=\"dataframe\">\n",
       "  <thead>\n",
       "    <tr style=\"text-align: right;\">\n",
       "      <th></th>\n",
       "      <th>label1</th>\n",
       "      <th>label2</th>\n",
       "    </tr>\n",
       "    <tr>\n",
       "      <th>filenames</th>\n",
       "      <th></th>\n",
       "      <th></th>\n",
       "    </tr>\n",
       "  </thead>\n",
       "  <tbody>\n",
       "    <tr>\n",
       "      <th>cat.1600</th>\n",
       "      <td>0</td>\n",
       "      <td>-1.155101</td>\n",
       "    </tr>\n",
       "    <tr>\n",
       "      <th>cat.1601</th>\n",
       "      <td>0</td>\n",
       "      <td>-0.669458</td>\n",
       "    </tr>\n",
       "    <tr>\n",
       "      <th>cat.1602</th>\n",
       "      <td>0</td>\n",
       "      <td>0.134517</td>\n",
       "    </tr>\n",
       "    <tr>\n",
       "      <th>cat.1603</th>\n",
       "      <td>0</td>\n",
       "      <td>0.325929</td>\n",
       "    </tr>\n",
       "    <tr>\n",
       "      <th>cat.1604</th>\n",
       "      <td>0</td>\n",
       "      <td>-0.325356</td>\n",
       "    </tr>\n",
       "    <tr>\n",
       "      <th>cat.1605</th>\n",
       "      <td>0</td>\n",
       "      <td>0.978885</td>\n",
       "    </tr>\n",
       "    <tr>\n",
       "      <th>cat.1606</th>\n",
       "      <td>0</td>\n",
       "      <td>-0.338622</td>\n",
       "    </tr>\n",
       "    <tr>\n",
       "      <th>cat.1607</th>\n",
       "      <td>0</td>\n",
       "      <td>0.397530</td>\n",
       "    </tr>\n",
       "    <tr>\n",
       "      <th>cat.1608</th>\n",
       "      <td>0</td>\n",
       "      <td>-0.258856</td>\n",
       "    </tr>\n",
       "    <tr>\n",
       "      <th>cat.1609</th>\n",
       "      <td>0</td>\n",
       "      <td>-1.293990</td>\n",
       "    </tr>\n",
       "    <tr>\n",
       "      <th>dog.1600</th>\n",
       "      <td>1</td>\n",
       "      <td>0.521982</td>\n",
       "    </tr>\n",
       "    <tr>\n",
       "      <th>dog.1601</th>\n",
       "      <td>1</td>\n",
       "      <td>-0.210288</td>\n",
       "    </tr>\n",
       "    <tr>\n",
       "      <th>dog.1602</th>\n",
       "      <td>1</td>\n",
       "      <td>0.020743</td>\n",
       "    </tr>\n",
       "    <tr>\n",
       "      <th>dog.1603</th>\n",
       "      <td>1</td>\n",
       "      <td>0.729328</td>\n",
       "    </tr>\n",
       "    <tr>\n",
       "      <th>dog.1604</th>\n",
       "      <td>1</td>\n",
       "      <td>-0.241661</td>\n",
       "    </tr>\n",
       "    <tr>\n",
       "      <th>dog.1605</th>\n",
       "      <td>1</td>\n",
       "      <td>1.107315</td>\n",
       "    </tr>\n",
       "    <tr>\n",
       "      <th>dog.1606</th>\n",
       "      <td>1</td>\n",
       "      <td>0.345619</td>\n",
       "    </tr>\n",
       "    <tr>\n",
       "      <th>dog.1607</th>\n",
       "      <td>1</td>\n",
       "      <td>-0.405578</td>\n",
       "    </tr>\n",
       "    <tr>\n",
       "      <th>dog.1608</th>\n",
       "      <td>1</td>\n",
       "      <td>1.790196</td>\n",
       "    </tr>\n",
       "    <tr>\n",
       "      <th>dog.1609</th>\n",
       "      <td>1</td>\n",
       "      <td>-1.064871</td>\n",
       "    </tr>\n",
       "  </tbody>\n",
       "</table>\n",
       "</div>"
      ],
      "text/plain": [
       "           label1    label2\n",
       "filenames                  \n",
       "cat.1600        0 -1.155101\n",
       "cat.1601        0 -0.669458\n",
       "cat.1602        0  0.134517\n",
       "cat.1603        0  0.325929\n",
       "cat.1604        0 -0.325356\n",
       "cat.1605        0  0.978885\n",
       "cat.1606        0 -0.338622\n",
       "cat.1607        0  0.397530\n",
       "cat.1608        0 -0.258856\n",
       "cat.1609        0 -1.293990\n",
       "dog.1600        1  0.521982\n",
       "dog.1601        1 -0.210288\n",
       "dog.1602        1  0.020743\n",
       "dog.1603        1  0.729328\n",
       "dog.1604        1 -0.241661\n",
       "dog.1605        1  1.107315\n",
       "dog.1606        1  0.345619\n",
       "dog.1607        1 -0.405578\n",
       "dog.1608        1  1.790196\n",
       "dog.1609        1 -1.064871"
      ]
     },
     "execution_count": 18,
     "metadata": {},
     "output_type": "execute_result"
    }
   ],
   "source": [
    "df.loc[filenames,labels]"
   ]
  },
  {
   "cell_type": "code",
   "execution_count": 22,
   "metadata": {},
   "outputs": [],
   "source": [
    "batch_y = {}"
   ]
  },
  {
   "cell_type": "code",
   "execution_count": 25,
   "metadata": {},
   "outputs": [],
   "source": [
    "for l in labels:\n",
    "    batch_y[l] = df.loc[index_batch, l].values"
   ]
  },
  {
   "cell_type": "code",
   "execution_count": 26,
   "metadata": {},
   "outputs": [
    {
     "data": {
      "text/plain": [
       "{'label1': array([1, 1, 0, 0]),\n",
       " 'label2': array([-0.21028779,  0.72932843,  0.39752981, -0.32535628])}"
      ]
     },
     "execution_count": 26,
     "metadata": {},
     "output_type": "execute_result"
    }
   ],
   "source": [
    "batch_y"
   ]
  },
  {
   "cell_type": "code",
   "execution_count": 14,
   "metadata": {
    "scrolled": true
   },
   "outputs": [
    {
     "data": {
      "text/plain": [
       "array([1, 1, 0, 0])"
      ]
     },
     "execution_count": 14,
     "metadata": {},
     "output_type": "execute_result"
    }
   ],
   "source": [
    "dict(y_sample)['label1'].values"
   ]
  },
  {
   "cell_type": "code",
   "execution_count": 7,
   "metadata": {},
   "outputs": [],
   "source": [
    "path = '/nfs/turbo/intmed-bnallamo-turbo/wsliu/Data/dogs_cats/data/train20/dogs'"
   ]
  },
  {
   "cell_type": "code",
   "execution_count": 15,
   "metadata": {},
   "outputs": [],
   "source": [
    "white_list_formats = {'png', 'jpg', 'jpeg', 'bmp', 'ppm', 'tif', 'tiff'}\n",
    "class_indices = {'cats':0, 'dogs':1}"
   ]
  },
  {
   "cell_type": "code",
   "execution_count": 27,
   "metadata": {},
   "outputs": [
    {
     "data": {
      "text/plain": [
       "[]"
      ]
     },
     "execution_count": 27,
     "metadata": {},
     "output_type": "execute_result"
    }
   ],
   "source": [
    "list_pictures(path)"
   ]
  },
  {
   "cell_type": "code",
   "execution_count": 51,
   "metadata": {
    "scrolled": true
   },
   "outputs": [
    {
     "data": {
      "text/plain": [
       "([1, 1, 1, 1, 1, 1, 1, 1, 1, 1],\n",
       " ['dogs/dog.1600.jpg',\n",
       "  'dogs/dog.1601.jpg',\n",
       "  'dogs/dog.1602.jpg',\n",
       "  'dogs/dog.1603.jpg',\n",
       "  'dogs/dog.1604.jpg',\n",
       "  'dogs/dog.1605.jpg',\n",
       "  'dogs/dog.1606.jpg',\n",
       "  'dogs/dog.1607.jpg',\n",
       "  'dogs/dog.1608.jpg',\n",
       "  'dogs/dog.1609.jpg'])"
      ]
     },
     "execution_count": 51,
     "metadata": {},
     "output_type": "execute_result"
    }
   ],
   "source": [
    "_list_valid_filenames_in_directory(path, white_list_formats, class_indices, False)"
   ]
  },
  {
   "cell_type": "code",
   "execution_count": 6,
   "metadata": {},
   "outputs": [
    {
     "data": {
      "text/plain": [
       "''"
      ]
     },
     "execution_count": 6,
     "metadata": {},
     "output_type": "execute_result"
    }
   ],
   "source": [
    "os.path.basename(path)"
   ]
  },
  {
   "cell_type": "code",
   "execution_count": 7,
   "metadata": {},
   "outputs": [
    {
     "data": {
      "text/plain": [
       "'/nfs/turbo/intmed-bnallamo-turbo/wsliu/Data/dogs_cats/data/train20/cats'"
      ]
     },
     "execution_count": 7,
     "metadata": {},
     "output_type": "execute_result"
    }
   ],
   "source": [
    "os.path.dirname(path)"
   ]
  },
  {
   "cell_type": "code",
   "execution_count": 21,
   "metadata": {},
   "outputs": [
    {
     "data": {
      "text/plain": [
       "['dog.1603.jpg',\n",
       " 'dog.1602.jpg',\n",
       " 'dog.1604.jpg',\n",
       " 'dog.1608.jpg',\n",
       " 'dog.1605.jpg',\n",
       " 'dog.1609.jpg',\n",
       " 'dog.1607.jpg',\n",
       " 'dog.1600.jpg',\n",
       " 'dog.1606.jpg',\n",
       " 'dog.1601.jpg']"
      ]
     },
     "execution_count": 21,
     "metadata": {},
     "output_type": "execute_result"
    }
   ],
   "source": [
    "os.listdir(path)"
   ]
  },
  {
   "cell_type": "code",
   "execution_count": 20,
   "metadata": {
    "scrolled": true
   },
   "outputs": [
    {
     "data": {
      "text/plain": [
       "10"
      ]
     },
     "execution_count": 20,
     "metadata": {},
     "output_type": "execute_result"
    }
   ],
   "source": [
    "_count_valid_files_in_directory(path, white_list_formats, False)"
   ]
  },
  {
   "cell_type": "code",
   "execution_count": 31,
   "metadata": {},
   "outputs": [],
   "source": [
    "classes = []\n",
    "for subdir in sorted(os.listdir(path)):\n",
    "    if os.path.isdir(os.path.join(path, subdir)):\n",
    "        classes.append(subdir)\n",
    "num_classes = len(classes)\n",
    "class_indices = dict(zip(classes, range(len(classes))))"
   ]
  },
  {
   "cell_type": "code",
   "execution_count": 34,
   "metadata": {},
   "outputs": [
    {
     "data": {
      "text/plain": [
       "{'cats': 0, 'dogs': 1}"
      ]
     },
     "execution_count": 34,
     "metadata": {},
     "output_type": "execute_result"
    }
   ],
   "source": [
    "class_indices"
   ]
  },
  {
   "cell_type": "code",
   "execution_count": 39,
   "metadata": {},
   "outputs": [],
   "source": [
    "follow_links = False\n",
    "directory = path"
   ]
  },
  {
   "cell_type": "code",
   "execution_count": 41,
   "metadata": {},
   "outputs": [
    {
     "name": "stdout",
     "output_type": "stream",
     "text": [
      "Found 20 images belonging to 2 classes.\n"
     ]
    }
   ],
   "source": [
    "pool = multiprocessing.pool.ThreadPool()\n",
    "function_partial = partial(_count_valid_files_in_directory,\n",
    "                                   white_list_formats=white_list_formats,\n",
    "                                   follow_links=follow_links)\n",
    "samples = sum(pool.map(function_partial,\n",
    "                                    (os.path.join(directory, subdir)\n",
    "                                     for subdir in classes)))\n",
    "\n",
    "print('Found %d images belonging to %d classes.' % (samples, num_classes))"
   ]
  },
  {
   "cell_type": "code",
   "execution_count": 43,
   "metadata": {},
   "outputs": [],
   "source": [
    "results = []\n",
    "self_filenames = []\n",
    "self_classes = np.zeros((samples,), dtype='int32')"
   ]
  },
  {
   "cell_type": "code",
   "execution_count": 44,
   "metadata": {},
   "outputs": [],
   "source": [
    "i = 0\n",
    "for dirpath in (os.path.join(directory, subdir) for subdir in classes):\n",
    "    results.append(pool.apply_async(_list_valid_filenames_in_directory,\n",
    "                                            (dirpath, white_list_formats,\n",
    "                                             class_indices, follow_links)))"
   ]
  },
  {
   "cell_type": "code",
   "execution_count": 45,
   "metadata": {},
   "outputs": [
    {
     "data": {
      "text/plain": [
       "[<multiprocessing.pool.ApplyResult at 0x2ad9b7ebc6a0>,\n",
       " <multiprocessing.pool.ApplyResult at 0x2ad9b7ebc710>]"
      ]
     },
     "execution_count": 45,
     "metadata": {},
     "output_type": "execute_result"
    }
   ],
   "source": [
    "results"
   ]
  },
  {
   "cell_type": "code",
   "execution_count": 46,
   "metadata": {},
   "outputs": [],
   "source": [
    "for res in results:\n",
    "    classes, filenames = res.get()\n",
    "    self_classes[i:i + len(classes)] = classes\n",
    "    self_filenames += filenames\n",
    "    i += len(classes)\n",
    "pool.close()\n",
    "pool.join()"
   ]
  },
  {
   "cell_type": "code",
   "execution_count": 47,
   "metadata": {},
   "outputs": [
    {
     "data": {
      "text/plain": [
       "array([0, 0, 0, 0, 0, 0, 0, 0, 0, 0, 1, 1, 1, 1, 1, 1, 1, 1, 1, 1], dtype=int32)"
      ]
     },
     "execution_count": 47,
     "metadata": {},
     "output_type": "execute_result"
    }
   ],
   "source": [
    "self_classes"
   ]
  },
  {
   "cell_type": "code",
   "execution_count": 48,
   "metadata": {},
   "outputs": [
    {
     "data": {
      "text/plain": [
       "['cats/cat.1600.jpg',\n",
       " 'cats/cat.1601.jpg',\n",
       " 'cats/cat.1602.jpg',\n",
       " 'cats/cat.1603.jpg',\n",
       " 'cats/cat.1604.jpg',\n",
       " 'cats/cat.1605.jpg',\n",
       " 'cats/cat.1606.jpg',\n",
       " 'cats/cat.1607.jpg',\n",
       " 'cats/cat.1608.jpg',\n",
       " 'cats/cat.1609.jpg',\n",
       " 'dogs/dog.1600.jpg',\n",
       " 'dogs/dog.1601.jpg',\n",
       " 'dogs/dog.1602.jpg',\n",
       " 'dogs/dog.1603.jpg',\n",
       " 'dogs/dog.1604.jpg',\n",
       " 'dogs/dog.1605.jpg',\n",
       " 'dogs/dog.1606.jpg',\n",
       " 'dogs/dog.1607.jpg',\n",
       " 'dogs/dog.1608.jpg',\n",
       " 'dogs/dog.1609.jpg']"
      ]
     },
     "execution_count": 48,
     "metadata": {},
     "output_type": "execute_result"
    }
   ],
   "source": [
    "self_filenames"
   ]
  }
 ],
 "metadata": {
  "kernelspec": {
   "display_name": "Python 3",
   "language": "python",
   "name": "python3"
  },
  "language_info": {
   "codemirror_mode": {
    "name": "ipython",
    "version": 3
   },
   "file_extension": ".py",
   "mimetype": "text/x-python",
   "name": "python",
   "nbconvert_exporter": "python",
   "pygments_lexer": "ipython3",
   "version": "3.5.4"
  }
 },
 "nbformat": 4,
 "nbformat_minor": 2
}
