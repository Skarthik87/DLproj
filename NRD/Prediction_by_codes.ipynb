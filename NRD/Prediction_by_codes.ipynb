{
 "cells": [
  {
   "cell_type": "markdown",
   "metadata": {},
   "source": [
    "# Prediction models by codes\n",
    "In this notebook we consider ICD9 diagnosis and precedure codes as predictors to predict the 30-day readmission rate."
   ]
  },
  {
   "cell_type": "code",
   "execution_count": 1,
   "metadata": {},
   "outputs": [],
   "source": [
    "import pandas as pd\n",
    "import numpy as np\n",
    "import matplotlib.pyplot as plt\n",
    "#import statsmodels.api as sm\n",
    "from sklearn.model_selection import train_test_split\n",
    "import os"
   ]
  },
  {
   "cell_type": "code",
   "execution_count": 2,
   "metadata": {},
   "outputs": [],
   "source": [
    "%matplotlib inline"
   ]
  },
  {
   "cell_type": "code",
   "execution_count": null,
   "metadata": {},
   "outputs": [],
   "source": [
    "path = '/nfs/turbo/intmed-bnallamo-turbo/wsliu/Data/NRD/'"
   ]
  },
  {
   "cell_type": "code",
   "execution_count": 3,
   "metadata": {},
   "outputs": [],
   "source": [
    "path = '/nfs/turbo/umms-awaljee/wsliu/Data/NRD/'"
   ]
  },
  {
   "cell_type": "code",
   "execution_count": 4,
   "metadata": {},
   "outputs": [],
   "source": [
    "model_path = path + 'models/'\n",
    "if not os.path.exists(model_path): os.mkdir(model_path)"
   ]
  },
  {
   "cell_type": "code",
   "execution_count": 6,
   "metadata": {},
   "outputs": [],
   "source": [
    "with open('output/hyper_tune_large.csv', 'w') as f:\n",
    "    f.write('depth,width,DX_dim,hosp_dim,lr,dropout,batchsize,auc\\n')"
   ]
  },
  {
   "cell_type": "code",
   "execution_count": 4,
   "metadata": {},
   "outputs": [],
   "source": [
    "hyper_df = pd.read_csv('./hyper_tune.csv')"
   ]
  },
  {
   "cell_type": "code",
   "execution_count": 5,
   "metadata": {},
   "outputs": [
    {
     "data": {
      "text/html": [
       "<div>\n",
       "<style scoped>\n",
       "    .dataframe tbody tr th:only-of-type {\n",
       "        vertical-align: middle;\n",
       "    }\n",
       "\n",
       "    .dataframe tbody tr th {\n",
       "        vertical-align: top;\n",
       "    }\n",
       "\n",
       "    .dataframe thead th {\n",
       "        text-align: right;\n",
       "    }\n",
       "</style>\n",
       "<table border=\"1\" class=\"dataframe\">\n",
       "  <thead>\n",
       "    <tr style=\"text-align: right;\">\n",
       "      <th></th>\n",
       "      <th>depth</th>\n",
       "      <th>width</th>\n",
       "      <th>DX_dim</th>\n",
       "      <th>hosp_dim</th>\n",
       "      <th>auc</th>\n",
       "    </tr>\n",
       "  </thead>\n",
       "  <tbody>\n",
       "    <tr>\n",
       "      <th>7</th>\n",
       "      <td>20</td>\n",
       "      <td>128</td>\n",
       "      <td>5</td>\n",
       "      <td>5</td>\n",
       "      <td>0.592</td>\n",
       "    </tr>\n",
       "    <tr>\n",
       "      <th>22</th>\n",
       "      <td>10</td>\n",
       "      <td>128</td>\n",
       "      <td>50</td>\n",
       "      <td>3</td>\n",
       "      <td>0.592</td>\n",
       "    </tr>\n",
       "    <tr>\n",
       "      <th>30</th>\n",
       "      <td>3</td>\n",
       "      <td>128</td>\n",
       "      <td>5</td>\n",
       "      <td>1</td>\n",
       "      <td>0.604</td>\n",
       "    </tr>\n",
       "    <tr>\n",
       "      <th>33</th>\n",
       "      <td>1</td>\n",
       "      <td>64</td>\n",
       "      <td>5</td>\n",
       "      <td>5</td>\n",
       "      <td>0.591</td>\n",
       "    </tr>\n",
       "    <tr>\n",
       "      <th>35</th>\n",
       "      <td>3</td>\n",
       "      <td>64</td>\n",
       "      <td>10</td>\n",
       "      <td>5</td>\n",
       "      <td>0.598</td>\n",
       "    </tr>\n",
       "  </tbody>\n",
       "</table>\n",
       "</div>"
      ],
      "text/plain": [
       "    depth  width  DX_dim  hosp_dim    auc\n",
       "7      20    128       5         5  0.592\n",
       "22     10    128      50         3  0.592\n",
       "30      3    128       5         1  0.604\n",
       "33      1     64       5         5  0.591\n",
       "35      3     64      10         5  0.598"
      ]
     },
     "execution_count": 5,
     "metadata": {},
     "output_type": "execute_result"
    }
   ],
   "source": [
    "hyper_df[hyper_df['auc']>0.59]"
   ]
  },
  {
   "cell_type": "markdown",
   "metadata": {},
   "source": [
    "## Data reading and splitting"
   ]
  },
  {
   "cell_type": "code",
   "execution_count": 6,
   "metadata": {},
   "outputs": [],
   "source": [
    "core_dtypes_pd = {'AGE': float,\n",
    " 'AWEEKEND': float,\n",
    " 'DIED': float,\n",
    " 'DISCWT': float,\n",
    " 'DISPUNIFORM': float,\n",
    " 'DMONTH': float,\n",
    " 'DQTR': float,\n",
    " 'DRG': float,\n",
    " 'DRGVER': float,\n",
    " 'DRG_NoPOA': float,\n",
    " 'DX1': bytes,\n",
    " 'DX10': bytes,\n",
    " 'DX11': bytes,\n",
    " 'DX12': bytes,\n",
    " 'DX13': bytes,\n",
    " 'DX14': bytes,\n",
    " 'DX15': bytes,\n",
    " 'DX16': bytes,\n",
    " 'DX17': bytes,\n",
    " 'DX18': bytes,\n",
    " 'DX19': bytes,\n",
    " 'DX2': bytes,\n",
    " 'DX20': bytes,\n",
    " 'DX21': bytes,\n",
    " 'DX22': bytes,\n",
    " 'DX23': bytes,\n",
    " 'DX24': bytes,\n",
    " 'DX25': bytes,\n",
    " 'DX26': bytes,\n",
    " 'DX27': bytes,\n",
    " 'DX28': bytes,\n",
    " 'DX29': bytes,\n",
    " 'DX3': bytes,\n",
    " 'DX30': bytes,\n",
    " 'DX4': bytes,\n",
    " 'DX5': bytes,\n",
    " 'DX6': bytes,\n",
    " 'DX7': bytes,\n",
    " 'DX8': bytes,\n",
    " 'DX9': bytes,\n",
    " 'DXCCS1': float,\n",
    " 'DXCCS10': float,\n",
    " 'DXCCS11': float,\n",
    " 'DXCCS12': float,\n",
    " 'DXCCS13': float,\n",
    " 'DXCCS14': float,\n",
    " 'DXCCS15': float,\n",
    " 'DXCCS16': float,\n",
    " 'DXCCS17': float,\n",
    " 'DXCCS18': float,\n",
    " 'DXCCS19': float,\n",
    " 'DXCCS2': float,\n",
    " 'DXCCS20': float,\n",
    " 'DXCCS21': float,\n",
    " 'DXCCS22': float,\n",
    " 'DXCCS23': float,\n",
    " 'DXCCS24': float,\n",
    " 'DXCCS25': float,\n",
    " 'DXCCS26': float,\n",
    " 'DXCCS27': float,\n",
    " 'DXCCS28': float,\n",
    " 'DXCCS29': float,\n",
    " 'DXCCS3': float,\n",
    " 'DXCCS30': float,\n",
    " 'DXCCS4': float,\n",
    " 'DXCCS5': float,\n",
    " 'DXCCS6': float,\n",
    " 'DXCCS7': float,\n",
    " 'DXCCS8': float,\n",
    " 'DXCCS9': float,\n",
    " 'ECODE1': bytes,\n",
    " 'ECODE2': bytes,\n",
    " 'ECODE3': bytes,\n",
    " 'ECODE4': bytes,\n",
    " 'ELECTIVE': float,\n",
    " 'E_CCS1': float,\n",
    " 'E_CCS2': float,\n",
    " 'E_CCS3': float,\n",
    " 'E_CCS4': float,\n",
    " 'FEMALE': float,\n",
    " 'HCUP_ED': float,\n",
    " 'HOSP_NRD': float,\n",
    " 'KEY_NRD': float,\n",
    " 'LOS': float,\n",
    " 'MDC': float,\n",
    " 'MDC_NoPOA': float,\n",
    " 'NCHRONIC': float,\n",
    " 'NDX': float,\n",
    " 'NECODE': float,\n",
    " 'NPR': float,\n",
    " 'NRD_DaysToEvent': float,\n",
    " 'NRD_STRATUM': float,\n",
    " 'NRD_VisitLink': bytes,\n",
    " 'ORPROC': float,\n",
    " 'PAY1': float,\n",
    " 'PL_NCHS': float,\n",
    " 'PR1': bytes,\n",
    " 'PR10': bytes,\n",
    " 'PR11': bytes,\n",
    " 'PR12': bytes,\n",
    " 'PR13': bytes,\n",
    " 'PR14': bytes,\n",
    " 'PR15': bytes,\n",
    " 'PR2': bytes,\n",
    " 'PR3': bytes,\n",
    " 'PR4': bytes,\n",
    " 'PR5': bytes,\n",
    " 'PR6': bytes,\n",
    " 'PR7': bytes,\n",
    " 'PR8': bytes,\n",
    " 'PR9': bytes,\n",
    " 'PRCCS1': float,\n",
    " 'PRCCS10': float,\n",
    " 'PRCCS11': float,\n",
    " 'PRCCS12': float,\n",
    " 'PRCCS13': float,\n",
    " 'PRCCS14': float,\n",
    " 'PRCCS15': float,\n",
    " 'PRCCS2': float,\n",
    " 'PRCCS3': float,\n",
    " 'PRCCS4': float,\n",
    " 'PRCCS5': float,\n",
    " 'PRCCS6': float,\n",
    " 'PRCCS7': float,\n",
    " 'PRCCS8': float,\n",
    " 'PRCCS9': float,\n",
    " 'PRDAY1': float,\n",
    " 'PRDAY10': float,\n",
    " 'PRDAY11': float,\n",
    " 'PRDAY12': float,\n",
    " 'PRDAY13': float,\n",
    " 'PRDAY14': float,\n",
    " 'PRDAY15': float,\n",
    " 'PRDAY2': float,\n",
    " 'PRDAY3': float,\n",
    " 'PRDAY4': float,\n",
    " 'PRDAY5': float,\n",
    " 'PRDAY6': float,\n",
    " 'PRDAY7': float,\n",
    " 'PRDAY8': float,\n",
    " 'PRDAY9': float,\n",
    " 'REHABTRANSFER': float,\n",
    " 'RESIDENT': float,\n",
    " 'SAMEDAYEVENT': bytes,\n",
    " 'SERVICELINE': float,\n",
    " 'TOTCHG': float,\n",
    " 'YEAR': float,\n",
    " 'ZIPINC_QRTL': float}"
   ]
  },
  {
   "cell_type": "markdown",
   "metadata": {},
   "source": [
    "Read the same admissions as in the comorbidities dataset, but the variables from the core data set:"
   ]
  },
  {
   "cell_type": "code",
   "execution_count": 7,
   "metadata": {},
   "outputs": [],
   "source": [
    "ami_index = pd.read_csv(path+'cohorts/ami_index.csv', dtype=core_dtypes_pd)\n",
    "\n",
    "train_comorb = pd.read_csv(path+'cohorts/ami/comorb_train.csv')\n",
    "test_comorb = pd.read_csv(path+'cohorts/ami/comorb_test.csv')\n",
    "\n",
    "train_df = ami_index[ami_index['KEY_NRD'].isin(train_comorb['KEY_NRD'])]\n",
    "tst_df = ami_index[ami_index['KEY_NRD'].isin(test_comorb['KEY_NRD'])]\n",
    "\n",
    "N_trn = len(train_df)\n",
    "N_tst = len(tst_df)\n",
    "all_df = pd.concat([train_df, tst_df])\n",
    "\n",
    "del(ami_index, train_comorb, test_comorb)"
   ]
  },
  {
   "cell_type": "markdown",
   "metadata": {},
   "source": [
    "## Prediction by raw ICD9 diagnosis codes"
   ]
  },
  {
   "cell_type": "code",
   "execution_count": 8,
   "metadata": {
    "scrolled": true
   },
   "outputs": [
    {
     "name": "stderr",
     "output_type": "stream",
     "text": [
      "/sw/lsa/centos7/python-anaconda-arc-connect/created-20170421/lib/python3.5/site-packages/h5py/__init__.py:36: FutureWarning: Conversion of the second argument of issubdtype from `float` to `np.floating` is deprecated. In future, it will be treated as `np.float64 == np.dtype(float).type`.\n",
      "  from ._conv import register_converters as _register_converters\n",
      "Using TensorFlow backend.\n"
     ]
    }
   ],
   "source": [
    "from keras.layers import Input, Embedding, concatenate, Reshape, BatchNormalization, add\n",
    "from keras.models import Model\n",
    "from keras.layers.core import Dense, Activation, Dropout\n",
    "from keras.callbacks import ModelCheckpoint, ReduceLROnPlateau, EarlyStopping\n",
    "from keras.utils import to_categorical\n",
    "from keras.optimizers import Adam"
   ]
  },
  {
   "cell_type": "code",
   "execution_count": 10,
   "metadata": {},
   "outputs": [],
   "source": [
    "import os, sys\n",
    "module_path = os.path.abspath(os.path.join('..'))\n",
    "if module_path not in sys.path:\n",
    "    sys.path.append(module_path)\n",
    "from DL_utils import plot_roc"
   ]
  },
  {
   "cell_type": "markdown",
   "metadata": {},
   "source": [
    "### Data Preparation"
   ]
  },
  {
   "cell_type": "markdown",
   "metadata": {},
   "source": [
    "DX2-DX30 are considered as categorical variables that share levels (around 6000 levels). We change their values into integers from 0 to number of levels, so that they can feed into embedding layers. "
   ]
  },
  {
   "cell_type": "code",
   "execution_count": 11,
   "metadata": {},
   "outputs": [],
   "source": [
    "N_DX = 29\n",
    "DXs = ['DX'+str(n) for n in range(2, N_DX+2)]"
   ]
  },
  {
   "cell_type": "code",
   "execution_count": null,
   "metadata": {},
   "outputs": [],
   "source": []
  },
  {
   "cell_type": "markdown",
   "metadata": {},
   "source": [
    "## Additive Emedding"
   ]
  },
  {
   "cell_type": "code",
   "execution_count": 129,
   "metadata": {},
   "outputs": [],
   "source": [
    "DX_series = pd.concat([all_df[DX] for DX in DXs])\n",
    "DX_series = DX_series.fillna('missing')\n",
    "DX_series = DX_series.astype('category')\n",
    "\n",
    "DX_cat = DX_series.cat.categories\n",
    "n_DX_cat = len(DX_cat)\n",
    "DX_series = DX_series.cat.rename_categories(range(n_DX_cat))\n",
    "\n",
    "DX_mat = DX_series.astype(int).values.reshape(len(all_df), N_DX)"
   ]
  },
  {
   "cell_type": "markdown",
   "metadata": {},
   "source": [
    "The demographic variables are age and gender. Age is normalized to the same scale as other variables. "
   ]
  },
  {
   "cell_type": "code",
   "execution_count": 11,
   "metadata": {},
   "outputs": [],
   "source": [
    "demo_mat = all_df[['AGE', 'FEMALE']].values\n",
    "\n",
    "age_mean = all_df['AGE'].mean()\n",
    "age_std = all_df['AGE'].std()\n",
    "\n",
    "demo_mat[:, 0] = (demo_mat[:, 0]-age_mean)/age_std"
   ]
  },
  {
   "cell_type": "markdown",
   "metadata": {},
   "source": [
    "Hospital is a categorical variable with around 800 levels. It will be processed as embedding, just like DXns."
   ]
  },
  {
   "cell_type": "code",
   "execution_count": 12,
   "metadata": {},
   "outputs": [],
   "source": [
    "hosp_series = all_df['HOSP_NRD'].astype('category')\n",
    "hosp_cat = hosp_series.cat.categories\n",
    "hosp_series = hosp_series.cat.rename_categories(range(len(hosp_cat)))\n",
    "hosp_array = hosp_series.astype(int).values"
   ]
  },
  {
   "cell_type": "markdown",
   "metadata": {},
   "source": [
    "DX1 is a categorical variable with 20 levels. It will be transformed into one-hot-encoding matrix before feed into neural nets. "
   ]
  },
  {
   "cell_type": "code",
   "execution_count": 13,
   "metadata": {},
   "outputs": [],
   "source": [
    "DX1_series = all_df['DX1'].astype('category')\n",
    "DX1_cat = DX1_series.cat.categories\n",
    "DX1_series = DX1_series.cat.rename_categories(range(len(DX1_cat)))\n",
    "DX1_array = DX1_series.astype(int).values\n",
    "\n",
    "DX1_mat = to_categorical(DX1_array, num_classes=len(DX1_cat))"
   ]
  },
  {
   "cell_type": "markdown",
   "metadata": {},
   "source": [
    "The label/outcome in this problem is the whether there is an unexpected all-cause 30-day readmission following this index admission. It is considered as an integer with value 0 and 1. "
   ]
  },
  {
   "cell_type": "code",
   "execution_count": 14,
   "metadata": {},
   "outputs": [],
   "source": [
    "y = all_df['readm30'].values.astype(int)\n",
    "\n",
    "y_train = to_categorical(y[:N_train])\n",
    "y_test = to_categorical(y[N_train:])"
   ]
  },
  {
   "cell_type": "code",
   "execution_count": 45,
   "metadata": {
    "scrolled": true
   },
   "outputs": [
    {
     "data": {
      "text/plain": [
       "((195695, 29), (195695, 2), (195695,), (195695, 20), (195695,))"
      ]
     },
     "execution_count": 45,
     "metadata": {},
     "output_type": "execute_result"
    }
   ],
   "source": [
    "DX_mat.shape, demo_mat.shape, hosp_array.shape, DX1_mat.shape, y.shape"
   ]
  },
  {
   "cell_type": "markdown",
   "metadata": {},
   "source": [
    "### Model Building"
   ]
  },
  {
   "cell_type": "code",
   "execution_count": 15,
   "metadata": {},
   "outputs": [],
   "source": [
    "def sc_block(input_tensor, nodes):\n",
    "    '''Short-cut block'''\n",
    "    x = Dense(nodes)(input_tensor)\n",
    "    x = BatchNormalization()(x)\n",
    "    x = Activation('relu')(x)\n",
    "    \n",
    "    x = Dense(nodes)(x)\n",
    "    x = BatchNormalization()(x)\n",
    "    x = Activation('relu')(x)\n",
    "    \n",
    "    x = Dense(nodes)(x)\n",
    "    x = BatchNormalization()(x)\n",
    "    \n",
    "    x = add([input_tensor, x])\n",
    "    x = Activation('relu')(x)\n",
    "    return x"
   ]
  },
  {
   "cell_type": "code",
   "execution_count": 131,
   "metadata": {},
   "outputs": [],
   "source": [
    "#width = 128\n",
    "#depth = 2\n",
    "DX_embed_dim = 1\n",
    "hosp_embed_dim = 3\n",
    "\n",
    "input_DX = Input(shape = (N_DX,))\n",
    "DX_embed = Embedding(input_dim=n_DX_cat, output_dim=DX_embed_dim, input_length=N_DX)(input_DX)\n",
    "DX_embed = Reshape((N_DX*DX_embed_dim,))(DX_embed)\n",
    "\n",
    "input_demo = Input(shape=(2, ))\n",
    "\n",
    "input_DX1 = Input(shape=(len(DX1_cat),))\n",
    "\n",
    "input_hosp = Input(shape=(1,))\n",
    "hosp_embed = Embedding(input_dim=len(hosp_cat), output_dim=hosp_embed_dim, input_length=1)(input_hosp)\n",
    "hosp_embed = Reshape((hosp_embed_dim, ))(hosp_embed)\n",
    "\n",
    "merged = concatenate([input_demo, input_DX1, DX_embed, hosp_embed], axis=1)"
   ]
  },
  {
   "cell_type": "code",
   "execution_count": 132,
   "metadata": {},
   "outputs": [
    {
     "data": {
      "text/plain": [
       "TensorShape([Dimension(None), Dimension(26)])"
      ]
     },
     "execution_count": 132,
     "metadata": {},
     "output_type": "execute_result"
    }
   ],
   "source": [
    "merged.shape"
   ]
  },
  {
   "cell_type": "code",
   "execution_count": 133,
   "metadata": {},
   "outputs": [],
   "source": [
    "x = Dense(64)(merged)\n",
    "x = BatchNormalization()(x)\n",
    "x = Activation('relu')(x)\n",
    "#x = Dense(256)(x)\n",
    "#x = BatchNormalization()(x)\n",
    "#x = Activation('relu')(x)\n",
    "#x = Dense(512)(x)\n",
    "#x = BatchNormalization()(x)\n",
    "#x = Activation('relu')(x)\n",
    "x = Dense(32)(x)\n",
    "x = BatchNormalization()(x)\n",
    "x = Activation('relu')(x)\n",
    "#x = Dense(32, activation='relu')(x)\n",
    "x = Dropout(0.5)(x)\n",
    "#x = Dense(16, activation='relu')(x)\n",
    "prediction = Dense(2, activation='softmax')(x)\n",
    "model = Model(inputs=[input_demo, input_DX1, input_DX, input_hosp], outputs=prediction)"
   ]
  },
  {
   "cell_type": "code",
   "execution_count": 18,
   "metadata": {
    "collapsed": true
   },
   "outputs": [
    {
     "name": "stdout",
     "output_type": "stream",
     "text": [
      "__________________________________________________________________________________________________\n",
      "Layer (type)                    Output Shape         Param #     Connected to                     \n",
      "==================================================================================================\n",
      "input_1 (InputLayer)            (None, 29)           0                                            \n",
      "__________________________________________________________________________________________________\n",
      "input_4 (InputLayer)            (None, 1)            0                                            \n",
      "__________________________________________________________________________________________________\n",
      "embedding_1 (Embedding)         (None, 29, 10)       54580       input_1[0][0]                    \n",
      "__________________________________________________________________________________________________\n",
      "embedding_2 (Embedding)         (None, 1, 3)         2607        input_4[0][0]                    \n",
      "__________________________________________________________________________________________________\n",
      "input_2 (InputLayer)            (None, 2)            0                                            \n",
      "__________________________________________________________________________________________________\n",
      "input_3 (InputLayer)            (None, 20)           0                                            \n",
      "__________________________________________________________________________________________________\n",
      "reshape_1 (Reshape)             (None, 290)          0           embedding_1[0][0]                \n",
      "__________________________________________________________________________________________________\n",
      "reshape_2 (Reshape)             (None, 3)            0           embedding_2[0][0]                \n",
      "__________________________________________________________________________________________________\n",
      "concatenate_1 (Concatenate)     (None, 315)          0           input_2[0][0]                    \n",
      "                                                                 input_3[0][0]                    \n",
      "                                                                 reshape_1[0][0]                  \n",
      "                                                                 reshape_2[0][0]                  \n",
      "__________________________________________________________________________________________________\n",
      "dense_4 (Dense)                 (None, 64)           20224       concatenate_1[0][0]              \n",
      "__________________________________________________________________________________________________\n",
      "batch_normalization_4 (BatchNor (None, 64)           256         dense_4[0][0]                    \n",
      "__________________________________________________________________________________________________\n",
      "activation_4 (Activation)       (None, 64)           0           batch_normalization_4[0][0]      \n",
      "__________________________________________________________________________________________________\n",
      "dense_5 (Dense)                 (None, 32)           2080        activation_4[0][0]               \n",
      "__________________________________________________________________________________________________\n",
      "dropout_1 (Dropout)             (None, 32)           0           dense_5[0][0]                    \n",
      "__________________________________________________________________________________________________\n",
      "dense_6 (Dense)                 (None, 16)           528         dropout_1[0][0]                  \n",
      "__________________________________________________________________________________________________\n",
      "dense_7 (Dense)                 (None, 2)            34          dense_6[0][0]                    \n",
      "==================================================================================================\n",
      "Total params: 80,309\n",
      "Trainable params: 80,181\n",
      "Non-trainable params: 128\n",
      "__________________________________________________________________________________________________\n"
     ]
    }
   ],
   "source": [
    "model.summary()"
   ]
  },
  {
   "cell_type": "code",
   "execution_count": 134,
   "metadata": {},
   "outputs": [],
   "source": [
    "adam = Adam(lr=0.0005)\n",
    "model.compile(optimizer=adam, loss='categorical_crossentropy', metrics=['accuracy'])"
   ]
  },
  {
   "cell_type": "code",
   "execution_count": 135,
   "metadata": {},
   "outputs": [],
   "source": [
    "checkpointer = ModelCheckpoint(filepath=model_path+'ami_icd9_1.h5', verbose=0, save_best_only=True, save_weights_only=True)\n",
    "reduce_lr = ReduceLROnPlateau(monitor='val_loss', factor=0.2, patience=10, min_lr=1.e-8)\n",
    "earlystop = EarlyStopping(monitor='val_loss', patience=20)"
   ]
  },
  {
   "cell_type": "code",
   "execution_count": 60,
   "metadata": {},
   "outputs": [],
   "source": [
    "class_weight = {0:(y_train.shape[0]/sum(y_train[:, 0])), 1:(y_train.shape[0]/sum(y_train[:, 1]))}"
   ]
  },
  {
   "cell_type": "code",
   "execution_count": 136,
   "metadata": {
    "scrolled": false
   },
   "outputs": [
    {
     "name": "stdout",
     "output_type": "stream",
     "text": [
      "Train on 136392 samples, validate on 45465 samples\n",
      "Epoch 1/100\n",
      " - 4s - loss: 1.6792 - acc: 0.5744 - val_loss: 0.6311 - val_acc: 0.6058\n",
      "Epoch 2/100\n",
      " - 2s - loss: 1.4562 - acc: 0.5358 - val_loss: 0.6519 - val_acc: 0.5751\n",
      "Epoch 3/100\n",
      " - 2s - loss: 1.3870 - acc: 0.5344 - val_loss: 0.6583 - val_acc: 0.5583\n",
      "Epoch 4/100\n",
      " - 2s - loss: 1.3526 - acc: 0.5347 - val_loss: 0.6577 - val_acc: 0.5629\n",
      "Epoch 5/100\n",
      " - 2s - loss: 1.3353 - acc: 0.5401 - val_loss: 0.6506 - val_acc: 0.5609\n",
      "Epoch 6/100\n",
      " - 2s - loss: 1.3231 - acc: 0.5514 - val_loss: 0.6630 - val_acc: 0.5535\n",
      "Epoch 7/100\n",
      " - 2s - loss: 1.3099 - acc: 0.5560 - val_loss: 0.6434 - val_acc: 0.5820\n",
      "Epoch 8/100\n",
      " - 2s - loss: 1.2996 - acc: 0.5644 - val_loss: 0.6384 - val_acc: 0.5953\n",
      "Epoch 9/100\n",
      " - 2s - loss: 1.2888 - acc: 0.5709 - val_loss: 0.6537 - val_acc: 0.5723\n",
      "Epoch 10/100\n",
      " - 2s - loss: 1.2843 - acc: 0.5757 - val_loss: 0.6541 - val_acc: 0.5609\n",
      "Epoch 11/100\n",
      " - 2s - loss: 1.2751 - acc: 0.5749 - val_loss: 0.6462 - val_acc: 0.5738\n",
      "Epoch 12/100\n",
      " - 2s - loss: 1.2721 - acc: 0.5787 - val_loss: 0.6499 - val_acc: 0.5642\n",
      "Epoch 13/100\n",
      " - 2s - loss: 1.2630 - acc: 0.5759 - val_loss: 0.6514 - val_acc: 0.5669\n",
      "Epoch 14/100\n",
      " - 2s - loss: 1.2622 - acc: 0.5851 - val_loss: 0.6514 - val_acc: 0.5675\n",
      "Epoch 15/100\n",
      " - 2s - loss: 1.2583 - acc: 0.5805 - val_loss: 0.6464 - val_acc: 0.5729\n",
      "Epoch 16/100\n",
      " - 2s - loss: 1.2582 - acc: 0.5843 - val_loss: 0.6550 - val_acc: 0.5631\n",
      "Epoch 17/100\n",
      " - 2s - loss: 1.2585 - acc: 0.5836 - val_loss: 0.6561 - val_acc: 0.5634\n",
      "Epoch 18/100\n",
      " - 2s - loss: 1.2570 - acc: 0.5833 - val_loss: 0.6515 - val_acc: 0.5679\n",
      "Epoch 19/100\n",
      " - 2s - loss: 1.2564 - acc: 0.5849 - val_loss: 0.6523 - val_acc: 0.5666\n",
      "Epoch 20/100\n",
      " - 2s - loss: 1.2564 - acc: 0.5860 - val_loss: 0.6512 - val_acc: 0.5670\n",
      "Epoch 21/100\n",
      " - 2s - loss: 1.2549 - acc: 0.5832 - val_loss: 0.6469 - val_acc: 0.5716\n"
     ]
    }
   ],
   "source": [
    "hist = model.fit([demo_mat[:N_train, :], DX1_mat[:N_train, :], DX_mat[:N_train, :], hosp_array[:N_train]], y_train, \n",
    "                 batch_size=512, epochs=100, callbacks=[checkpointer, reduce_lr, earlystop], class_weight=class_weight, \n",
    "                 validation_data=[[demo_mat[N_train:, :], DX1_mat[N_train:, :], DX_mat[N_train:, :], hosp_array[N_train:]], y_test], \n",
    "                verbose=2)"
   ]
  },
  {
   "cell_type": "code",
   "execution_count": 137,
   "metadata": {},
   "outputs": [],
   "source": [
    "model.load_weights(model_path+'ami_icd9_1.h5')\n",
    "y_pred = model.predict([demo_mat[N_train:, :], DX1_mat[N_train:, :], DX_mat[N_train:, :], hosp_array[N_train:]], batch_size=256)"
   ]
  },
  {
   "cell_type": "code",
   "execution_count": 138,
   "metadata": {},
   "outputs": [
    {
     "data": {
      "text/plain": [
       "{0: 0.5899000984297051}"
      ]
     },
     "execution_count": 138,
     "metadata": {},
     "output_type": "execute_result"
    },
    {
     "data": {
      "image/png": "[encoded data removed]",
      "text/plain": [
       "<Figure size 432x288 with 1 Axes>"
      ]
     },
     "metadata": {},
     "output_type": "display_data"
    }
   ],
   "source": [
    "plot_roc(y_pred[:, 0], y_test[:, 0])"
   ]
  },
  {
   "cell_type": "markdown",
   "metadata": {},
   "source": [
    "#### Save data for hyper parameter tuning:"
   ]
  },
  {
   "cell_type": "code",
   "execution_count": 63,
   "metadata": {},
   "outputs": [],
   "source": [
    "np.savez(path+'temp/data_temp.npz', demo_mat=demo_mat, DX1_mat=DX1_mat, DX_mat=DX_mat, hosp_array=hosp_array, y_train=y_train, \n",
    "        y_test=y_test, n_DX_cat=n_DX_cat, n_DX1_cat = len(DX1_cat), n_hosp_cat=len(hosp_cat))"
   ]
  },
  {
   "cell_type": "markdown",
   "metadata": {},
   "source": [
    "### Prediction model by summing over DX embedding"
   ]
  },
  {
   "cell_type": "code",
   "execution_count": null,
   "metadata": {},
   "outputs": [],
   "source": []
  }
 ],
 "metadata": {
  "kernelspec": {
   "display_name": "Python 3",
   "language": "python",
   "name": "python3"
  },
  "language_info": {
   "codemirror_mode": {
    "name": "ipython",
    "version": 3
   },
   "file_extension": ".py",
   "mimetype": "text/x-python",
   "name": "python",
   "nbconvert_exporter": "python",
   "pygments_lexer": "ipython3",
   "version": "3.5.4"
  }
 },
 "nbformat": 4,
 "nbformat_minor": 2
}
