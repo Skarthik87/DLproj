{
 "cells": [
  {
   "cell_type": "markdown",
   "metadata": {},
   "source": [
    "# Prediction models by codes\n",
    "In this notebook we consider ICD9 diagnosis and precedure codes as predictors to predict the 30-day readmission rate."
   ]
  },
  {
   "cell_type": "code",
   "execution_count": 1,
   "metadata": {},
   "outputs": [],
   "source": [
    "import pandas as pd\n",
    "import numpy as np\n",
    "import matplotlib.pyplot as plt\n",
    "#import statsmodels.api as sm\n",
    "from sklearn.model_selection import train_test_split\n",
    "import os"
   ]
  },
  {
   "cell_type": "code",
   "execution_count": 2,
   "metadata": {},
   "outputs": [],
   "source": [
    "%matplotlib inline"
   ]
  },
  {
   "cell_type": "code",
   "execution_count": 3,
   "metadata": {},
   "outputs": [],
   "source": [
    "path = '/nfs/turbo/intmed-bnallamo-turbo/wsliu/Data/NRD/'\n",
    "model_path = path + 'models/'\n",
    "if not os.path.exists(model_path): os.mkdir(model_path)"
   ]
  },
  {
   "cell_type": "code",
   "execution_count": 6,
   "metadata": {},
   "outputs": [],
   "source": [
    "with open('output/hyper_tune_large.csv', 'w') as f:\n",
    "    f.write('depth,width,DX_dim,hosp_dim,lr,dropout,batchsize,auc\\n')"
   ]
  },
  {
   "cell_type": "code",
   "execution_count": 4,
   "metadata": {},
   "outputs": [],
   "source": [
    "hyper_df = pd.read_csv('./hyper_tune.csv')"
   ]
  },
  {
   "cell_type": "code",
   "execution_count": 5,
   "metadata": {},
   "outputs": [
    {
     "data": {
      "text/html": [
       "<div>\n",
       "<style scoped>\n",
       "    .dataframe tbody tr th:only-of-type {\n",
       "        vertical-align: middle;\n",
       "    }\n",
       "\n",
       "    .dataframe tbody tr th {\n",
       "        vertical-align: top;\n",
       "    }\n",
       "\n",
       "    .dataframe thead th {\n",
       "        text-align: right;\n",
       "    }\n",
       "</style>\n",
       "<table border=\"1\" class=\"dataframe\">\n",
       "  <thead>\n",
       "    <tr style=\"text-align: right;\">\n",
       "      <th></th>\n",
       "      <th>depth</th>\n",
       "      <th>width</th>\n",
       "      <th>DX_dim</th>\n",
       "      <th>hosp_dim</th>\n",
       "      <th>auc</th>\n",
       "    </tr>\n",
       "  </thead>\n",
       "  <tbody>\n",
       "    <tr>\n",
       "      <th>7</th>\n",
       "      <td>20</td>\n",
       "      <td>128</td>\n",
       "      <td>5</td>\n",
       "      <td>5</td>\n",
       "      <td>0.592</td>\n",
       "    </tr>\n",
       "    <tr>\n",
       "      <th>22</th>\n",
       "      <td>10</td>\n",
       "      <td>128</td>\n",
       "      <td>50</td>\n",
       "      <td>3</td>\n",
       "      <td>0.592</td>\n",
       "    </tr>\n",
       "    <tr>\n",
       "      <th>30</th>\n",
       "      <td>3</td>\n",
       "      <td>128</td>\n",
       "      <td>5</td>\n",
       "      <td>1</td>\n",
       "      <td>0.604</td>\n",
       "    </tr>\n",
       "    <tr>\n",
       "      <th>33</th>\n",
       "      <td>1</td>\n",
       "      <td>64</td>\n",
       "      <td>5</td>\n",
       "      <td>5</td>\n",
       "      <td>0.591</td>\n",
       "    </tr>\n",
       "    <tr>\n",
       "      <th>35</th>\n",
       "      <td>3</td>\n",
       "      <td>64</td>\n",
       "      <td>10</td>\n",
       "      <td>5</td>\n",
       "      <td>0.598</td>\n",
       "    </tr>\n",
       "  </tbody>\n",
       "</table>\n",
       "</div>"
      ],
      "text/plain": [
       "    depth  width  DX_dim  hosp_dim    auc\n",
       "7      20    128       5         5  0.592\n",
       "22     10    128      50         3  0.592\n",
       "30      3    128       5         1  0.604\n",
       "33      1     64       5         5  0.591\n",
       "35      3     64      10         5  0.598"
      ]
     },
     "execution_count": 5,
     "metadata": {},
     "output_type": "execute_result"
    }
   ],
   "source": [
    "hyper_df[hyper_df['auc']>0.59]"
   ]
  },
  {
   "cell_type": "markdown",
   "metadata": {},
   "source": [
    "## Data reading and splitting"
   ]
  },
  {
   "cell_type": "code",
   "execution_count": 4,
   "metadata": {},
   "outputs": [],
   "source": [
    "core_dtypes_pd = {'AGE': float,\n",
    " 'AWEEKEND': float,\n",
    " 'DIED': float,\n",
    " 'DISCWT': float,\n",
    " 'DISPUNIFORM': float,\n",
    " 'DMONTH': float,\n",
    " 'DQTR': float,\n",
    " 'DRG': float,\n",
    " 'DRGVER': float,\n",
    " 'DRG_NoPOA': float,\n",
    " 'DX1': bytes,\n",
    " 'DX10': bytes,\n",
    " 'DX11': bytes,\n",
    " 'DX12': bytes,\n",
    " 'DX13': bytes,\n",
    " 'DX14': bytes,\n",
    " 'DX15': bytes,\n",
    " 'DX16': bytes,\n",
    " 'DX17': bytes,\n",
    " 'DX18': bytes,\n",
    " 'DX19': bytes,\n",
    " 'DX2': bytes,\n",
    " 'DX20': bytes,\n",
    " 'DX21': bytes,\n",
    " 'DX22': bytes,\n",
    " 'DX23': bytes,\n",
    " 'DX24': bytes,\n",
    " 'DX25': bytes,\n",
    " 'DX26': bytes,\n",
    " 'DX27': bytes,\n",
    " 'DX28': bytes,\n",
    " 'DX29': bytes,\n",
    " 'DX3': bytes,\n",
    " 'DX30': bytes,\n",
    " 'DX4': bytes,\n",
    " 'DX5': bytes,\n",
    " 'DX6': bytes,\n",
    " 'DX7': bytes,\n",
    " 'DX8': bytes,\n",
    " 'DX9': bytes,\n",
    " 'DXCCS1': float,\n",
    " 'DXCCS10': float,\n",
    " 'DXCCS11': float,\n",
    " 'DXCCS12': float,\n",
    " 'DXCCS13': float,\n",
    " 'DXCCS14': float,\n",
    " 'DXCCS15': float,\n",
    " 'DXCCS16': float,\n",
    " 'DXCCS17': float,\n",
    " 'DXCCS18': float,\n",
    " 'DXCCS19': float,\n",
    " 'DXCCS2': float,\n",
    " 'DXCCS20': float,\n",
    " 'DXCCS21': float,\n",
    " 'DXCCS22': float,\n",
    " 'DXCCS23': float,\n",
    " 'DXCCS24': float,\n",
    " 'DXCCS25': float,\n",
    " 'DXCCS26': float,\n",
    " 'DXCCS27': float,\n",
    " 'DXCCS28': float,\n",
    " 'DXCCS29': float,\n",
    " 'DXCCS3': float,\n",
    " 'DXCCS30': float,\n",
    " 'DXCCS4': float,\n",
    " 'DXCCS5': float,\n",
    " 'DXCCS6': float,\n",
    " 'DXCCS7': float,\n",
    " 'DXCCS8': float,\n",
    " 'DXCCS9': float,\n",
    " 'ECODE1': bytes,\n",
    " 'ECODE2': bytes,\n",
    " 'ECODE3': bytes,\n",
    " 'ECODE4': bytes,\n",
    " 'ELECTIVE': float,\n",
    " 'E_CCS1': float,\n",
    " 'E_CCS2': float,\n",
    " 'E_CCS3': float,\n",
    " 'E_CCS4': float,\n",
    " 'FEMALE': float,\n",
    " 'HCUP_ED': float,\n",
    " 'HOSP_NRD': float,\n",
    " 'KEY_NRD': float,\n",
    " 'LOS': float,\n",
    " 'MDC': float,\n",
    " 'MDC_NoPOA': float,\n",
    " 'NCHRONIC': float,\n",
    " 'NDX': float,\n",
    " 'NECODE': float,\n",
    " 'NPR': float,\n",
    " 'NRD_DaysToEvent': float,\n",
    " 'NRD_STRATUM': float,\n",
    " 'NRD_VisitLink': bytes,\n",
    " 'ORPROC': float,\n",
    " 'PAY1': float,\n",
    " 'PL_NCHS': float,\n",
    " 'PR1': bytes,\n",
    " 'PR10': bytes,\n",
    " 'PR11': bytes,\n",
    " 'PR12': bytes,\n",
    " 'PR13': bytes,\n",
    " 'PR14': bytes,\n",
    " 'PR15': bytes,\n",
    " 'PR2': bytes,\n",
    " 'PR3': bytes,\n",
    " 'PR4': bytes,\n",
    " 'PR5': bytes,\n",
    " 'PR6': bytes,\n",
    " 'PR7': bytes,\n",
    " 'PR8': bytes,\n",
    " 'PR9': bytes,\n",
    " 'PRCCS1': float,\n",
    " 'PRCCS10': float,\n",
    " 'PRCCS11': float,\n",
    " 'PRCCS12': float,\n",
    " 'PRCCS13': float,\n",
    " 'PRCCS14': float,\n",
    " 'PRCCS15': float,\n",
    " 'PRCCS2': float,\n",
    " 'PRCCS3': float,\n",
    " 'PRCCS4': float,\n",
    " 'PRCCS5': float,\n",
    " 'PRCCS6': float,\n",
    " 'PRCCS7': float,\n",
    " 'PRCCS8': float,\n",
    " 'PRCCS9': float,\n",
    " 'PRDAY1': float,\n",
    " 'PRDAY10': float,\n",
    " 'PRDAY11': float,\n",
    " 'PRDAY12': float,\n",
    " 'PRDAY13': float,\n",
    " 'PRDAY14': float,\n",
    " 'PRDAY15': float,\n",
    " 'PRDAY2': float,\n",
    " 'PRDAY3': float,\n",
    " 'PRDAY4': float,\n",
    " 'PRDAY5': float,\n",
    " 'PRDAY6': float,\n",
    " 'PRDAY7': float,\n",
    " 'PRDAY8': float,\n",
    " 'PRDAY9': float,\n",
    " 'REHABTRANSFER': float,\n",
    " 'RESIDENT': float,\n",
    " 'SAMEDAYEVENT': bytes,\n",
    " 'SERVICELINE': float,\n",
    " 'TOTCHG': float,\n",
    " 'YEAR': float,\n",
    " 'ZIPINC_QRTL': float}"
   ]
  },
  {
   "cell_type": "markdown",
   "metadata": {},
   "source": [
    "Read the same admissions as in the comorbidities dataset, but the variables from the core data set:"
   ]
  },
  {
   "cell_type": "code",
   "execution_count": 5,
   "metadata": {},
   "outputs": [],
   "source": [
    "ami_index = pd.read_csv(path+'cohorts/ami_index.csv', dtype=core_dtypes_pd)\n",
    "\n",
    "train_comorb = pd.read_csv(path+'cohorts/ami/comorb_train.csv')\n",
    "test_comorb = pd.read_csv(path+'cohorts/ami/comorb_test.csv')\n",
    "\n",
    "train_df = ami_index[ami_index['KEY_NRD'].isin(train_comorb['KEY_NRD'])]\n",
    "test_df = ami_index[ami_index['KEY_NRD'].isin(test_comorb['KEY_NRD'])]\n",
    "\n",
    "train_df.shape, test_df.shape\n",
    "\n",
    "N_train = len(train_df)\n",
    "N_test = len(test_df)\n",
    "all_df = pd.concat([train_df, test_df])\n",
    "\n",
    "del(ami_index, train_comorb, test_comorb)"
   ]
  },
  {
   "cell_type": "markdown",
   "metadata": {},
   "source": [
    "## Prediction by raw ICD9 diagnosis codes"
   ]
  },
  {
   "cell_type": "code",
   "execution_count": 6,
   "metadata": {},
   "outputs": [
    {
     "name": "stderr",
     "output_type": "stream",
     "text": [
      "Using TensorFlow backend.\n"
     ]
    }
   ],
   "source": [
    "from keras.layers import Input, Embedding, concatenate, Reshape, BatchNormalization, add\n",
    "from keras.models import Model\n",
    "from keras.layers.core import Dense, Activation, Dropout\n",
    "from keras.callbacks import ModelCheckpoint, ReduceLROnPlateau, EarlyStopping\n",
    "from keras.utils import to_categorical\n",
    "from keras.optimizers import Adam"
   ]
  },
  {
   "cell_type": "code",
   "execution_count": 7,
   "metadata": {},
   "outputs": [],
   "source": [
    "import os, sys\n",
    "module_path = os.path.abspath(os.path.join('..'))\n",
    "if module_path not in sys.path:\n",
    "    sys.path.append(module_path)\n",
    "from utils import plot_roc"
   ]
  },
  {
   "cell_type": "markdown",
   "metadata": {},
   "source": [
    "### Data Preparation"
   ]
  },
  {
   "cell_type": "markdown",
   "metadata": {},
   "source": [
    "DX2-DX30 are considered as categorical variables that share levels (around 6000 levels). We change their values into integers from 0 to number of levels, so that they can feed into embedding layers. "
   ]
  },
  {
   "cell_type": "code",
   "execution_count": 8,
   "metadata": {},
   "outputs": [],
   "source": [
    "DXs = ['DX'+str(n) for n in range(2, 31)]"
   ]
  },
  {
   "cell_type": "code",
   "execution_count": 9,
   "metadata": {},
   "outputs": [],
   "source": [
    "DX_series = pd.concat([all_df[DX] for DX in DXs])\n",
    "DX_series = DX_series.fillna('missing')\n",
    "DX_series = DX_series.astype('category')\n",
    "\n",
    "DX_cat = DX_series.cat.categories\n",
    "n_DX_cat = len(DX_cat)\n",
    "DX_series = DX_series.cat.rename_categories(range(n_DX_cat))\n",
    "\n",
    "DX_mat = DX_series.astype(int).values.reshape(len(all_df), 29)"
   ]
  },
  {
   "cell_type": "markdown",
   "metadata": {},
   "source": [
    "The demographic variables are age and gender. Age is normalized to the same scale as other variables. "
   ]
  },
  {
   "cell_type": "code",
   "execution_count": 10,
   "metadata": {},
   "outputs": [],
   "source": [
    "demo_mat = all_df[['AGE', 'FEMALE']].values\n",
    "\n",
    "age_mean = all_df['AGE'].mean()\n",
    "age_std = all_df['AGE'].std()\n",
    "\n",
    "demo_mat[:, 0] = (demo_mat[:, 0]-age_mean)/age_std"
   ]
  },
  {
   "cell_type": "markdown",
   "metadata": {},
   "source": [
    "Hospital is a categorical variable with around 800 levels. It will be processed as embedding, just like DXns."
   ]
  },
  {
   "cell_type": "code",
   "execution_count": 11,
   "metadata": {},
   "outputs": [],
   "source": [
    "hosp_series = all_df['HOSP_NRD'].astype('category')\n",
    "hosp_cat = hosp_series.cat.categories\n",
    "hosp_series = hosp_series.cat.rename_categories(range(len(hosp_cat)))\n",
    "hosp_array = hosp_series.astype(int).values"
   ]
  },
  {
   "cell_type": "markdown",
   "metadata": {},
   "source": [
    "DX1 is a categorical variable with 20 levels. It will be transformed into one-hot-encoding matrix before feed into neural nets. "
   ]
  },
  {
   "cell_type": "code",
   "execution_count": 12,
   "metadata": {},
   "outputs": [],
   "source": [
    "DX1_series = all_df['DX1'].astype('category')\n",
    "DX1_cat = DX1_series.cat.categories\n",
    "DX1_series = DX1_series.cat.rename_categories(range(len(DX1_cat)))\n",
    "DX1_array = DX1_series.astype(int).values\n",
    "\n",
    "DX1_mat = to_categorical(DX1_array, num_classes=len(DX1_cat))"
   ]
  },
  {
   "cell_type": "markdown",
   "metadata": {},
   "source": [
    "The label/outcome in this problem is the whether there is an unexpected all-cause 30-day readmission following this index admission. It is considered as an integer with value 0 and 1. "
   ]
  },
  {
   "cell_type": "code",
   "execution_count": 13,
   "metadata": {},
   "outputs": [],
   "source": [
    "y = all_df['readm30'].values.astype(int)\n",
    "\n",
    "y_train = to_categorical(y[:N_train])\n",
    "y_test = to_categorical(y[N_train:])"
   ]
  },
  {
   "cell_type": "code",
   "execution_count": 45,
   "metadata": {
    "scrolled": true
   },
   "outputs": [
    {
     "data": {
      "text/plain": [
       "((195695, 29), (195695, 2), (195695,), (195695, 20), (195695,))"
      ]
     },
     "execution_count": 45,
     "metadata": {},
     "output_type": "execute_result"
    }
   ],
   "source": [
    "DX_mat.shape, demo_mat.shape, hosp_array.shape, DX1_mat.shape, y.shape"
   ]
  },
  {
   "cell_type": "markdown",
   "metadata": {},
   "source": [
    "### Model Building"
   ]
  },
  {
   "cell_type": "code",
   "execution_count": 14,
   "metadata": {},
   "outputs": [],
   "source": [
    "def sc_block(input_tensor, nodes):\n",
    "    '''Short-cut block'''\n",
    "    x = Dense(nodes)(input_tensor)\n",
    "    x = BatchNormalization()(x)\n",
    "    x = Activation('relu')(x)\n",
    "    \n",
    "    x = Dense(nodes)(x)\n",
    "    x = BatchNormalization()(x)\n",
    "    x = Activation('relu')(x)\n",
    "    \n",
    "    x = Dense(nodes)(x)\n",
    "    x = BatchNormalization()(x)\n",
    "    \n",
    "    x = add([input_tensor, x])\n",
    "    x = Activation('relu')(x)\n",
    "    return x"
   ]
  },
  {
   "cell_type": "code",
   "execution_count": 24,
   "metadata": {},
   "outputs": [],
   "source": [
    "width = 128\n",
    "depth = 3\n",
    "DX_embed_dim = 5\n",
    "hosp_embed_dim = 1\n",
    "\n",
    "input_DX = Input(shape = (29,))\n",
    "DX_embed = Embedding(input_dim=n_DX_cat, output_dim=DX_embed_dim, input_length=29)(input_DX)\n",
    "DX_embed = Reshape((29*DX_embed_dim,))(DX_embed)\n",
    "\n",
    "input_demo = Input(shape=(2, ))\n",
    "\n",
    "input_DX1 = Input(shape=(len(DX1_cat),))\n",
    "\n",
    "input_hosp = Input(shape=(1,))\n",
    "hosp_embed = Embedding(input_dim=len(hosp_cat), output_dim=hosp_embed_dim, input_length=1)(input_hosp)\n",
    "hosp_embed = Reshape((hosp_embed_dim, ))(hosp_embed)\n",
    "\n",
    "merged = concatenate([input_demo, input_DX1, DX_embed, hosp_embed], axis=1)\n",
    "x = Dense(width, activation='relu')(merged)\n",
    "\n",
    "for j in range(depth):\n",
    "    x = sc_block(x, width)\n",
    "\n",
    "x = Dense(width, activation='relu')(x)\n",
    "x = Dropout(0.9)(x)\n",
    "x = Dense(width, activation='relu')(x)\n",
    "prediction = Dense(2, activation='softmax')(x)\n",
    "model = Model(inputs=[input_demo, input_DX1, input_DX, input_hosp], outputs=prediction)"
   ]
  },
  {
   "cell_type": "code",
   "execution_count": 18,
   "metadata": {
    "collapsed": true
   },
   "outputs": [
    {
     "name": "stdout",
     "output_type": "stream",
     "text": [
      "__________________________________________________________________________________________________\n",
      "Layer (type)                    Output Shape         Param #     Connected to                     \n",
      "==================================================================================================\n",
      "input_1 (InputLayer)            (None, 29)           0                                            \n",
      "__________________________________________________________________________________________________\n",
      "input_4 (InputLayer)            (None, 1)            0                                            \n",
      "__________________________________________________________________________________________________\n",
      "embedding_1 (Embedding)         (None, 29, 5)        27765       input_1[0][0]                    \n",
      "__________________________________________________________________________________________________\n",
      "embedding_2 (Embedding)         (None, 1, 1)         874         input_4[0][0]                    \n",
      "__________________________________________________________________________________________________\n",
      "input_2 (InputLayer)            (None, 2)            0                                            \n",
      "__________________________________________________________________________________________________\n",
      "input_3 (InputLayer)            (None, 20)           0                                            \n",
      "__________________________________________________________________________________________________\n",
      "reshape_1 (Reshape)             (None, 145)          0           embedding_1[0][0]                \n",
      "__________________________________________________________________________________________________\n",
      "reshape_2 (Reshape)             (None, 1)            0           embedding_2[0][0]                \n",
      "__________________________________________________________________________________________________\n",
      "concatenate_1 (Concatenate)     (None, 168)          0           input_2[0][0]                    \n",
      "                                                                 input_3[0][0]                    \n",
      "                                                                 reshape_1[0][0]                  \n",
      "                                                                 reshape_2[0][0]                  \n",
      "__________________________________________________________________________________________________\n",
      "dense_1 (Dense)                 (None, 128)          21632       concatenate_1[0][0]              \n",
      "__________________________________________________________________________________________________\n",
      "dense_2 (Dense)                 (None, 128)          16512       dense_1[0][0]                    \n",
      "__________________________________________________________________________________________________\n",
      "batch_normalization_1 (BatchNor (None, 128)          512         dense_2[0][0]                    \n",
      "__________________________________________________________________________________________________\n",
      "activation_1 (Activation)       (None, 128)          0           batch_normalization_1[0][0]      \n",
      "__________________________________________________________________________________________________\n",
      "dense_3 (Dense)                 (None, 128)          16512       activation_1[0][0]               \n",
      "__________________________________________________________________________________________________\n",
      "batch_normalization_2 (BatchNor (None, 128)          512         dense_3[0][0]                    \n",
      "__________________________________________________________________________________________________\n",
      "activation_2 (Activation)       (None, 128)          0           batch_normalization_2[0][0]      \n",
      "__________________________________________________________________________________________________\n",
      "dense_4 (Dense)                 (None, 128)          16512       activation_2[0][0]               \n",
      "__________________________________________________________________________________________________\n",
      "batch_normalization_3 (BatchNor (None, 128)          512         dense_4[0][0]                    \n",
      "__________________________________________________________________________________________________\n",
      "add_1 (Add)                     (None, 128)          0           dense_1[0][0]                    \n",
      "                                                                 batch_normalization_3[0][0]      \n",
      "__________________________________________________________________________________________________\n",
      "activation_3 (Activation)       (None, 128)          0           add_1[0][0]                      \n",
      "__________________________________________________________________________________________________\n",
      "dense_5 (Dense)                 (None, 128)          16512       activation_3[0][0]               \n",
      "__________________________________________________________________________________________________\n",
      "batch_normalization_4 (BatchNor (None, 128)          512         dense_5[0][0]                    \n",
      "__________________________________________________________________________________________________\n",
      "activation_4 (Activation)       (None, 128)          0           batch_normalization_4[0][0]      \n",
      "__________________________________________________________________________________________________\n",
      "dense_6 (Dense)                 (None, 128)          16512       activation_4[0][0]               \n",
      "__________________________________________________________________________________________________\n",
      "batch_normalization_5 (BatchNor (None, 128)          512         dense_6[0][0]                    \n",
      "__________________________________________________________________________________________________\n",
      "activation_5 (Activation)       (None, 128)          0           batch_normalization_5[0][0]      \n",
      "__________________________________________________________________________________________________\n",
      "dense_7 (Dense)                 (None, 128)          16512       activation_5[0][0]               \n",
      "__________________________________________________________________________________________________\n",
      "batch_normalization_6 (BatchNor (None, 128)          512         dense_7[0][0]                    \n",
      "__________________________________________________________________________________________________\n",
      "add_2 (Add)                     (None, 128)          0           activation_3[0][0]               \n",
      "                                                                 batch_normalization_6[0][0]      \n",
      "__________________________________________________________________________________________________\n",
      "activation_6 (Activation)       (None, 128)          0           add_2[0][0]                      \n",
      "__________________________________________________________________________________________________\n",
      "dense_8 (Dense)                 (None, 128)          16512       activation_6[0][0]               \n",
      "__________________________________________________________________________________________________\n",
      "batch_normalization_7 (BatchNor (None, 128)          512         dense_8[0][0]                    \n",
      "__________________________________________________________________________________________________\n",
      "activation_7 (Activation)       (None, 128)          0           batch_normalization_7[0][0]      \n",
      "__________________________________________________________________________________________________\n",
      "dense_9 (Dense)                 (None, 128)          16512       activation_7[0][0]               \n",
      "__________________________________________________________________________________________________\n",
      "batch_normalization_8 (BatchNor (None, 128)          512         dense_9[0][0]                    \n",
      "__________________________________________________________________________________________________\n",
      "activation_8 (Activation)       (None, 128)          0           batch_normalization_8[0][0]      \n",
      "__________________________________________________________________________________________________\n",
      "dense_10 (Dense)                (None, 128)          16512       activation_8[0][0]               \n",
      "__________________________________________________________________________________________________\n",
      "batch_normalization_9 (BatchNor (None, 128)          512         dense_10[0][0]                   \n",
      "__________________________________________________________________________________________________\n",
      "add_3 (Add)                     (None, 128)          0           activation_6[0][0]               \n",
      "                                                                 batch_normalization_9[0][0]      \n",
      "__________________________________________________________________________________________________\n",
      "activation_9 (Activation)       (None, 128)          0           add_3[0][0]                      \n",
      "__________________________________________________________________________________________________\n",
      "dense_11 (Dense)                (None, 128)          16512       activation_9[0][0]               \n",
      "__________________________________________________________________________________________________\n",
      "dropout_1 (Dropout)             (None, 128)          0           dense_11[0][0]                   \n",
      "__________________________________________________________________________________________________\n",
      "dense_12 (Dense)                (None, 128)          16512       dropout_1[0][0]                  \n",
      "__________________________________________________________________________________________________\n",
      "dense_13 (Dense)                (None, 2)            258         dense_12[0][0]                   \n",
      "==================================================================================================\n",
      "Total params: 236,769\n",
      "Trainable params: 234,465\n",
      "Non-trainable params: 2,304\n",
      "__________________________________________________________________________________________________\n"
     ]
    }
   ],
   "source": [
    "model.summary()"
   ]
  },
  {
   "cell_type": "code",
   "execution_count": 25,
   "metadata": {},
   "outputs": [],
   "source": [
    "adam = Adam(lr=0.001)\n",
    "model.compile(optimizer=adam, loss='categorical_crossentropy', metrics=['accuracy'])"
   ]
  },
  {
   "cell_type": "code",
   "execution_count": 26,
   "metadata": {},
   "outputs": [],
   "source": [
    "checkpointer = ModelCheckpoint(filepath=model_path+'ami_icd9_1.h5', verbose=0, save_best_only=True, save_weights_only=True)\n",
    "reduce_lr = ReduceLROnPlateau(monitor='val_loss', factor=0.2, patience=5, min_lr=1.e-8)\n",
    "earlystop = EarlyStopping(monitor='val_loss', patience=15)"
   ]
  },
  {
   "cell_type": "code",
   "execution_count": 27,
   "metadata": {},
   "outputs": [],
   "source": [
    "class_weight = {0:(y_train.shape[0]/sum(y_train[:, 0])), 1:(y_train.shape[0]/sum(y_train[:, 1]))}"
   ]
  },
  {
   "cell_type": "code",
   "execution_count": 28,
   "metadata": {
    "scrolled": false
   },
   "outputs": [
    {
     "name": "stdout",
     "output_type": "stream",
     "text": [
      "Train on 146771 samples, validate on 48924 samples\n",
      "Epoch 1/100\n",
      " - 13s - loss: 1.4629 - acc: 0.4586 - val_loss: 0.6991 - val_acc: 0.3203\n",
      "Epoch 2/100\n",
      " - 10s - loss: 1.3848 - acc: 0.6239 - val_loss: 0.6857 - val_acc: 0.5530\n",
      "Epoch 3/100\n",
      " - 10s - loss: 1.3850 - acc: 0.7313 - val_loss: 0.6963 - val_acc: 0.3138\n",
      "Epoch 4/100\n",
      " - 10s - loss: 1.3845 - acc: 0.5799 - val_loss: 0.6907 - val_acc: 0.6423\n",
      "Epoch 5/100\n",
      " - 10s - loss: 1.3840 - acc: 0.7777 - val_loss: 0.6988 - val_acc: 0.4834\n",
      "Epoch 6/100\n",
      " - 10s - loss: 1.3847 - acc: 0.7776 - val_loss: 0.7169 - val_acc: 0.4011\n",
      "Epoch 7/100\n",
      " - 10s - loss: 1.3828 - acc: 0.7678 - val_loss: 0.7070 - val_acc: 0.5116\n",
      "Epoch 8/100\n",
      " - 10s - loss: 1.3823 - acc: 0.7336 - val_loss: 0.7152 - val_acc: 0.4793\n",
      "Epoch 9/100\n",
      " - 10s - loss: 1.3797 - acc: 0.7162 - val_loss: 0.7023 - val_acc: 0.4598\n",
      "Epoch 10/100\n",
      " - 10s - loss: 1.3781 - acc: 0.6992 - val_loss: 0.6956 - val_acc: 0.4878\n",
      "Epoch 11/100\n",
      " - 10s - loss: 1.3755 - acc: 0.6621 - val_loss: 0.6928 - val_acc: 0.5165\n",
      "Epoch 12/100\n",
      " - 10s - loss: 1.3742 - acc: 0.6611 - val_loss: 0.6830 - val_acc: 0.5686\n",
      "Epoch 13/100\n",
      " - 10s - loss: 1.3730 - acc: 0.6449 - val_loss: 0.6841 - val_acc: 0.5221\n",
      "Epoch 14/100\n",
      " - 10s - loss: 1.3728 - acc: 0.6301 - val_loss: 0.6749 - val_acc: 0.5795\n",
      "Epoch 15/100\n",
      " - 10s - loss: 1.3718 - acc: 0.6355 - val_loss: 0.6757 - val_acc: 0.5357\n",
      "Epoch 16/100\n",
      " - 10s - loss: 1.3728 - acc: 0.6443 - val_loss: 0.6807 - val_acc: 0.4961\n",
      "Epoch 17/100\n",
      " - 10s - loss: 1.3704 - acc: 0.6316 - val_loss: 0.6801 - val_acc: 0.4903\n",
      "Epoch 18/100\n",
      " - 10s - loss: 1.3693 - acc: 0.6054 - val_loss: 0.6656 - val_acc: 0.6400\n",
      "Epoch 19/100\n",
      " - 10s - loss: 1.3672 - acc: 0.6012 - val_loss: 0.6630 - val_acc: 0.7603\n",
      "Epoch 20/100\n",
      " - 10s - loss: 1.3615 - acc: 0.6290 - val_loss: 0.6473 - val_acc: 0.8174\n",
      "Epoch 21/100\n",
      " - 10s - loss: 1.3584 - acc: 0.6473 - val_loss: 0.6449 - val_acc: 0.7156\n",
      "Epoch 22/100\n",
      " - 10s - loss: 1.3505 - acc: 0.6680 - val_loss: 0.6358 - val_acc: 0.8712\n",
      "Epoch 23/100\n",
      " - 10s - loss: 1.3430 - acc: 0.6834 - val_loss: 0.6301 - val_acc: 0.8251\n",
      "Epoch 24/100\n",
      " - 10s - loss: 1.3366 - acc: 0.7030 - val_loss: 0.6232 - val_acc: 0.8654\n",
      "Epoch 25/100\n",
      " - 10s - loss: 1.3276 - acc: 0.7054 - val_loss: 0.6098 - val_acc: 0.8715\n",
      "Epoch 26/100\n",
      " - 10s - loss: 1.3217 - acc: 0.7181 - val_loss: 0.6017 - val_acc: 0.8715\n",
      "Epoch 27/100\n",
      " - 10s - loss: 1.3111 - acc: 0.7281 - val_loss: 0.5963 - val_acc: 0.8715\n",
      "Epoch 28/100\n",
      " - 10s - loss: 1.3053 - acc: 0.7356 - val_loss: 0.5920 - val_acc: 0.8715\n",
      "Epoch 29/100\n",
      " - 10s - loss: 1.2958 - acc: 0.7454 - val_loss: 0.5844 - val_acc: 0.8714\n",
      "Epoch 30/100\n",
      " - 10s - loss: 1.2879 - acc: 0.7567 - val_loss: 0.5823 - val_acc: 0.8715\n",
      "Epoch 31/100\n",
      " - 10s - loss: 1.2790 - acc: 0.7635 - val_loss: 0.5731 - val_acc: 0.8715\n",
      "Epoch 32/100\n",
      " - 10s - loss: 1.2701 - acc: 0.7757 - val_loss: 0.5754 - val_acc: 0.8715\n",
      "Epoch 33/100\n",
      " - 10s - loss: 1.2616 - acc: 0.7794 - val_loss: 0.5689 - val_acc: 0.8715\n",
      "Epoch 34/100\n",
      " - 10s - loss: 1.2527 - acc: 0.7848 - val_loss: 0.5627 - val_acc: 0.8715\n",
      "Epoch 35/100\n",
      " - 10s - loss: 1.2456 - acc: 0.7954 - val_loss: 0.5622 - val_acc: 0.8715\n",
      "Epoch 36/100\n",
      " - 10s - loss: 1.2364 - acc: 0.7997 - val_loss: 0.5570 - val_acc: 0.8715\n",
      "Epoch 37/100\n",
      " - 10s - loss: 1.2299 - acc: 0.8015 - val_loss: 0.5568 - val_acc: 0.8715\n",
      "Epoch 38/100\n",
      " - 10s - loss: 1.2218 - acc: 0.8134 - val_loss: 0.5527 - val_acc: 0.8715\n",
      "Epoch 39/100\n",
      " - 10s - loss: 1.2146 - acc: 0.8155 - val_loss: 0.5485 - val_acc: 0.8715\n",
      "Epoch 40/100\n",
      " - 10s - loss: 1.2084 - acc: 0.8173 - val_loss: 0.5484 - val_acc: 0.8715\n",
      "Epoch 41/100\n",
      " - 10s - loss: 1.1971 - acc: 0.8256 - val_loss: 0.5452 - val_acc: 0.8715\n",
      "Epoch 42/100\n",
      " - 10s - loss: 1.1949 - acc: 0.8236 - val_loss: 0.5462 - val_acc: 0.8715\n",
      "Epoch 43/100\n",
      " - 10s - loss: 1.1874 - acc: 0.8280 - val_loss: 0.5428 - val_acc: 0.8715\n",
      "Epoch 44/100\n",
      " - 10s - loss: 1.1799 - acc: 0.8324 - val_loss: 0.5434 - val_acc: 0.8715\n",
      "Epoch 45/100\n",
      " - 10s - loss: 1.1727 - acc: 0.8356 - val_loss: 0.5384 - val_acc: 0.8715\n",
      "Epoch 46/100\n",
      " - 10s - loss: 1.1686 - acc: 0.8391 - val_loss: 0.5381 - val_acc: 0.8715\n",
      "Epoch 47/100\n",
      " - 10s - loss: 1.1597 - acc: 0.8414 - val_loss: 0.5368 - val_acc: 0.8715\n",
      "Epoch 48/100\n",
      " - 10s - loss: 1.1524 - acc: 0.8449 - val_loss: 0.5334 - val_acc: 0.8715\n",
      "Epoch 49/100\n",
      " - 10s - loss: 1.1488 - acc: 0.8475 - val_loss: 0.5301 - val_acc: 0.8715\n",
      "Epoch 50/100\n",
      " - 10s - loss: 1.1422 - acc: 0.8505 - val_loss: 0.5298 - val_acc: 0.8715\n",
      "Epoch 51/100\n",
      " - 10s - loss: 1.1421 - acc: 0.8474 - val_loss: 0.5301 - val_acc: 0.8715\n",
      "Epoch 52/100\n",
      " - 10s - loss: 1.1348 - acc: 0.8526 - val_loss: 0.5305 - val_acc: 0.8715\n",
      "Epoch 53/100\n",
      " - 10s - loss: 1.1296 - acc: 0.8548 - val_loss: 0.5264 - val_acc: 0.8715\n",
      "Epoch 54/100\n",
      " - 10s - loss: 1.1277 - acc: 0.8555 - val_loss: 0.5283 - val_acc: 0.8715\n",
      "Epoch 55/100\n",
      " - 10s - loss: 1.1233 - acc: 0.8557 - val_loss: 0.5259 - val_acc: 0.8715\n",
      "Epoch 56/100\n",
      " - 10s - loss: 1.1172 - acc: 0.8615 - val_loss: 0.5230 - val_acc: 0.8715\n",
      "Epoch 57/100\n",
      " - 10s - loss: 1.1138 - acc: 0.8612 - val_loss: 0.5211 - val_acc: 0.8715\n",
      "Epoch 58/100\n",
      " - 10s - loss: 1.1090 - acc: 0.8635 - val_loss: 0.5226 - val_acc: 0.8715\n",
      "Epoch 59/100\n",
      " - 10s - loss: 1.1032 - acc: 0.8633 - val_loss: 0.5222 - val_acc: 0.8715\n",
      "Epoch 60/100\n",
      " - 10s - loss: 1.1032 - acc: 0.8661 - val_loss: 0.5245 - val_acc: 0.8715\n",
      "Epoch 61/100\n",
      " - 10s - loss: 1.0958 - acc: 0.8675 - val_loss: 0.5250 - val_acc: 0.8715\n",
      "Epoch 62/100\n",
      " - 10s - loss: 1.0882 - acc: 0.8700 - val_loss: 0.5236 - val_acc: 0.8715\n",
      "Epoch 63/100\n",
      " - 10s - loss: 1.0879 - acc: 0.8701 - val_loss: 0.5214 - val_acc: 0.8715\n",
      "Epoch 64/100\n",
      " - 10s - loss: 1.0608 - acc: 0.8802 - val_loss: 0.5195 - val_acc: 0.8715\n",
      "Epoch 65/100\n",
      " - 10s - loss: 1.0532 - acc: 0.8847 - val_loss: 0.5193 - val_acc: 0.8715\n",
      "Epoch 66/100\n",
      " - 10s - loss: 1.0492 - acc: 0.8863 - val_loss: 0.5171 - val_acc: 0.8715\n",
      "Epoch 67/100\n",
      " - 10s - loss: 1.0466 - acc: 0.8893 - val_loss: 0.5172 - val_acc: 0.8715\n",
      "Epoch 68/100\n",
      " - 10s - loss: 1.0434 - acc: 0.8889 - val_loss: 0.5165 - val_acc: 0.8715\n",
      "Epoch 69/100\n",
      " - 10s - loss: 1.0393 - acc: 0.8910 - val_loss: 0.5149 - val_acc: 0.8715\n",
      "Epoch 70/100\n",
      " - 10s - loss: 1.0373 - acc: 0.8926 - val_loss: 0.5154 - val_acc: 0.8715\n",
      "Epoch 71/100\n",
      " - 10s - loss: 1.0379 - acc: 0.8918 - val_loss: 0.5157 - val_acc: 0.8715\n",
      "Epoch 72/100\n",
      " - 10s - loss: 1.0323 - acc: 0.8929 - val_loss: 0.5145 - val_acc: 0.8715\n",
      "Epoch 73/100\n",
      " - 10s - loss: 1.0337 - acc: 0.8940 - val_loss: 0.5145 - val_acc: 0.8715\n",
      "Epoch 74/100\n",
      " - 10s - loss: 1.0322 - acc: 0.8933 - val_loss: 0.5140 - val_acc: 0.8715\n",
      "Epoch 75/100\n",
      " - 10s - loss: 1.0308 - acc: 0.8951 - val_loss: 0.5137 - val_acc: 0.8715\n",
      "Epoch 76/100\n",
      " - 10s - loss: 1.0272 - acc: 0.8970 - val_loss: 0.5135 - val_acc: 0.8715\n",
      "Epoch 77/100\n",
      " - 10s - loss: 1.0258 - acc: 0.8976 - val_loss: 0.5125 - val_acc: 0.8715\n",
      "Epoch 78/100\n",
      " - 10s - loss: 1.0263 - acc: 0.8980 - val_loss: 0.5130 - val_acc: 0.8715\n",
      "Epoch 79/100\n",
      " - 10s - loss: 1.0248 - acc: 0.8981 - val_loss: 0.5126 - val_acc: 0.8715\n",
      "Epoch 80/100\n",
      " - 10s - loss: 1.0223 - acc: 0.8987 - val_loss: 0.5127 - val_acc: 0.8715\n",
      "Epoch 81/100\n",
      " - 10s - loss: 1.0191 - acc: 0.9004 - val_loss: 0.5116 - val_acc: 0.8715\n",
      "Epoch 82/100\n",
      " - 10s - loss: 1.0191 - acc: 0.9002 - val_loss: 0.5104 - val_acc: 0.8715\n",
      "Epoch 83/100\n",
      " - 10s - loss: 1.0201 - acc: 0.9000 - val_loss: 0.5084 - val_acc: 0.8715\n",
      "Epoch 84/100\n",
      " - 10s - loss: 1.0185 - acc: 0.9014 - val_loss: 0.5100 - val_acc: 0.8715\n",
      "Epoch 85/100\n",
      " - 10s - loss: 1.0181 - acc: 0.9019 - val_loss: 0.5106 - val_acc: 0.8715\n",
      "Epoch 86/100\n",
      " - 10s - loss: 1.0136 - acc: 0.9028 - val_loss: 0.5095 - val_acc: 0.8715\n",
      "Epoch 87/100\n",
      " - 10s - loss: 1.0133 - acc: 0.9038 - val_loss: 0.5095 - val_acc: 0.8715\n",
      "Epoch 88/100\n",
      " - 10s - loss: 1.0131 - acc: 0.9033 - val_loss: 0.5087 - val_acc: 0.8715\n",
      "Epoch 89/100\n",
      " - 10s - loss: 1.0099 - acc: 0.9038 - val_loss: 0.5099 - val_acc: 0.8715\n",
      "Epoch 90/100\n",
      " - 10s - loss: 1.0050 - acc: 0.9055 - val_loss: 0.5087 - val_acc: 0.8715\n",
      "Epoch 91/100\n",
      " - 10s - loss: 1.0039 - acc: 0.9060 - val_loss: 0.5089 - val_acc: 0.8715\n",
      "Epoch 92/100\n",
      " - 10s - loss: 1.0025 - acc: 0.9065 - val_loss: 0.5095 - val_acc: 0.8715\n",
      "Epoch 93/100\n",
      " - 10s - loss: 1.0050 - acc: 0.9065 - val_loss: 0.5091 - val_acc: 0.8715\n",
      "Epoch 94/100\n",
      " - 10s - loss: 1.0011 - acc: 0.9071 - val_loss: 0.5092 - val_acc: 0.8715\n",
      "Epoch 95/100\n",
      " - 10s - loss: 1.0010 - acc: 0.9073 - val_loss: 0.5091 - val_acc: 0.8715\n"
     ]
    },
    {
     "name": "stdout",
     "output_type": "stream",
     "text": [
      "Epoch 96/100\n",
      " - 10s - loss: 0.9993 - acc: 0.9076 - val_loss: 0.5091 - val_acc: 0.8715\n",
      "Epoch 97/100\n",
      " - 10s - loss: 0.9993 - acc: 0.9083 - val_loss: 0.5092 - val_acc: 0.8715\n",
      "Epoch 98/100\n",
      " - 10s - loss: 0.9988 - acc: 0.9078 - val_loss: 0.5090 - val_acc: 0.8715\n"
     ]
    }
   ],
   "source": [
    "hist = model.fit([demo_mat[:N_train, :], DX1_mat[:N_train, :], DX_mat[:N_train, :], hosp_array[:N_train]], y_train, \n",
    "                 batch_size=512, epochs=100, callbacks=[checkpointer, reduce_lr, earlystop], class_weight=class_weight, \n",
    "                 validation_data=[[demo_mat[N_train:, :], DX1_mat[N_train:, :], DX_mat[N_train:, :], hosp_array[N_train:]], y_test], \n",
    "                verbose=2)"
   ]
  },
  {
   "cell_type": "code",
   "execution_count": 29,
   "metadata": {},
   "outputs": [],
   "source": [
    "model.load_weights(model_path+'ami_icd9_1.h5')\n",
    "y_pred = model.predict([demo_mat[N_train:, :], DX1_mat[N_train:, :], DX_mat[N_train:, :], hosp_array[N_train:]], batch_size=256)"
   ]
  },
  {
   "cell_type": "code",
   "execution_count": 30,
   "metadata": {},
   "outputs": [
    {
     "data": {
      "text/plain": [
       "{0: 0.52140342398766504}"
      ]
     },
     "execution_count": 30,
     "metadata": {},
     "output_type": "execute_result"
    },
    {
     "data": {
      "image/png": "[encoded data removed]",
      "text/plain": [
       "<Figure size 432x288 with 1 Axes>"
      ]
     },
     "metadata": {},
     "output_type": "display_data"
    }
   ],
   "source": [
    "plot_roc(y_pred[:, 0], y_test[:, 0])"
   ]
  },
  {
   "cell_type": "markdown",
   "metadata": {},
   "source": [
    "#### Save data for hyper parameter tuning:"
   ]
  },
  {
   "cell_type": "code",
   "execution_count": 63,
   "metadata": {},
   "outputs": [],
   "source": [
    "np.savez(path+'temp/data_temp.npz', demo_mat=demo_mat, DX1_mat=DX1_mat, DX_mat=DX_mat, hosp_array=hosp_array, y_train=y_train, \n",
    "        y_test=y_test, n_DX_cat=n_DX_cat, n_DX1_cat = len(DX1_cat), n_hosp_cat=len(hosp_cat))"
   ]
  }
 ],
 "metadata": {
  "kernelspec": {
   "display_name": "Python 3",
   "language": "python",
   "name": "python3"
  },
  "language_info": {
   "codemirror_mode": {
    "name": "ipython",
    "version": 3
   },
   "file_extension": ".py",
   "mimetype": "text/x-python",
   "name": "python",
   "nbconvert_exporter": "python",
   "pygments_lexer": "ipython3",
   "version": "3.5.4"
  }
 },
 "nbformat": 4,
 "nbformat_minor": 2
}
