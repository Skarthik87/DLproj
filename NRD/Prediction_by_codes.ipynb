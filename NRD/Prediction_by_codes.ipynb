{
 "cells": [
  {
   "cell_type": "markdown",
   "metadata": {},
   "source": [
    "# Prediction models by codes\n",
    "In this notebook we consider ICD9 diagnosis and precedure codes as predictors to predict the 30-day readmission rate."
   ]
  },
  {
   "cell_type": "code",
   "execution_count": 1,
   "metadata": {},
   "outputs": [],
   "source": [
    "import pandas as pd\n",
    "import numpy as np\n",
    "import matplotlib.pyplot as plt\n",
    "#import statsmodels.api as sm\n",
    "from sklearn.model_selection import train_test_split\n",
    "import os"
   ]
  },
  {
   "cell_type": "code",
   "execution_count": 2,
   "metadata": {},
   "outputs": [],
   "source": [
    "%matplotlib inline"
   ]
  },
  {
   "cell_type": "code",
   "execution_count": 2,
   "metadata": {},
   "outputs": [],
   "source": [
    "path = '/nfs/turbo/intmed-bnallamo-turbo/wsliu/Data/NRD/'"
   ]
  },
  {
   "cell_type": "code",
   "execution_count": 2,
   "metadata": {},
   "outputs": [],
   "source": [
    "path = '/nfs/turbo/umms-awaljee/wsliu/Data/NRD/'"
   ]
  },
  {
   "cell_type": "code",
   "execution_count": 3,
   "metadata": {},
   "outputs": [],
   "source": [
    "model_path = path + 'models/'\n",
    "if not os.path.exists(model_path): os.mkdir(model_path)"
   ]
  },
  {
   "cell_type": "markdown",
   "metadata": {},
   "source": [
    "## Data reading and splitting"
   ]
  },
  {
   "cell_type": "code",
   "execution_count": 4,
   "metadata": {},
   "outputs": [],
   "source": [
    "core_dtypes_pd = {'AGE': float,\n",
    " 'AWEEKEND': float,\n",
    " 'DIED': float,\n",
    " 'DISCWT': float,\n",
    " 'DISPUNIFORM': float,\n",
    " 'DMONTH': float,\n",
    " 'DQTR': float,\n",
    " 'DRG': float,\n",
    " 'DRGVER': float,\n",
    " 'DRG_NoPOA': float,\n",
    " 'DX1': bytes,\n",
    " 'DX10': bytes,\n",
    " 'DX11': bytes,\n",
    " 'DX12': bytes,\n",
    " 'DX13': bytes,\n",
    " 'DX14': bytes,\n",
    " 'DX15': bytes,\n",
    " 'DX16': bytes,\n",
    " 'DX17': bytes,\n",
    " 'DX18': bytes,\n",
    " 'DX19': bytes,\n",
    " 'DX2': bytes,\n",
    " 'DX20': bytes,\n",
    " 'DX21': bytes,\n",
    " 'DX22': bytes,\n",
    " 'DX23': bytes,\n",
    " 'DX24': bytes,\n",
    " 'DX25': bytes,\n",
    " 'DX26': bytes,\n",
    " 'DX27': bytes,\n",
    " 'DX28': bytes,\n",
    " 'DX29': bytes,\n",
    " 'DX3': bytes,\n",
    " 'DX30': bytes,\n",
    " 'DX4': bytes,\n",
    " 'DX5': bytes,\n",
    " 'DX6': bytes,\n",
    " 'DX7': bytes,\n",
    " 'DX8': bytes,\n",
    " 'DX9': bytes,\n",
    " 'DXCCS1': float,\n",
    " 'DXCCS10': float,\n",
    " 'DXCCS11': float,\n",
    " 'DXCCS12': float,\n",
    " 'DXCCS13': float,\n",
    " 'DXCCS14': float,\n",
    " 'DXCCS15': float,\n",
    " 'DXCCS16': float,\n",
    " 'DXCCS17': float,\n",
    " 'DXCCS18': float,\n",
    " 'DXCCS19': float,\n",
    " 'DXCCS2': float,\n",
    " 'DXCCS20': float,\n",
    " 'DXCCS21': float,\n",
    " 'DXCCS22': float,\n",
    " 'DXCCS23': float,\n",
    " 'DXCCS24': float,\n",
    " 'DXCCS25': float,\n",
    " 'DXCCS26': float,\n",
    " 'DXCCS27': float,\n",
    " 'DXCCS28': float,\n",
    " 'DXCCS29': float,\n",
    " 'DXCCS3': float,\n",
    " 'DXCCS30': float,\n",
    " 'DXCCS4': float,\n",
    " 'DXCCS5': float,\n",
    " 'DXCCS6': float,\n",
    " 'DXCCS7': float,\n",
    " 'DXCCS8': float,\n",
    " 'DXCCS9': float,\n",
    " 'ECODE1': bytes,\n",
    " 'ECODE2': bytes,\n",
    " 'ECODE3': bytes,\n",
    " 'ECODE4': bytes,\n",
    " 'ELECTIVE': float,\n",
    " 'E_CCS1': float,\n",
    " 'E_CCS2': float,\n",
    " 'E_CCS3': float,\n",
    " 'E_CCS4': float,\n",
    " 'FEMALE': float,\n",
    " 'HCUP_ED': float,\n",
    " 'HOSP_NRD': float,\n",
    " 'KEY_NRD': float,\n",
    " 'LOS': float,\n",
    " 'MDC': float,\n",
    " 'MDC_NoPOA': float,\n",
    " 'NCHRONIC': float,\n",
    " 'NDX': float,\n",
    " 'NECODE': float,\n",
    " 'NPR': float,\n",
    " 'NRD_DaysToEvent': float,\n",
    " 'NRD_STRATUM': float,\n",
    " 'NRD_VisitLink': bytes,\n",
    " 'ORPROC': float,\n",
    " 'PAY1': float,\n",
    " 'PL_NCHS': float,\n",
    " 'PR1': bytes,\n",
    " 'PR10': bytes,\n",
    " 'PR11': bytes,\n",
    " 'PR12': bytes,\n",
    " 'PR13': bytes,\n",
    " 'PR14': bytes,\n",
    " 'PR15': bytes,\n",
    " 'PR2': bytes,\n",
    " 'PR3': bytes,\n",
    " 'PR4': bytes,\n",
    " 'PR5': bytes,\n",
    " 'PR6': bytes,\n",
    " 'PR7': bytes,\n",
    " 'PR8': bytes,\n",
    " 'PR9': bytes,\n",
    " 'PRCCS1': float,\n",
    " 'PRCCS10': float,\n",
    " 'PRCCS11': float,\n",
    " 'PRCCS12': float,\n",
    " 'PRCCS13': float,\n",
    " 'PRCCS14': float,\n",
    " 'PRCCS15': float,\n",
    " 'PRCCS2': float,\n",
    " 'PRCCS3': float,\n",
    " 'PRCCS4': float,\n",
    " 'PRCCS5': float,\n",
    " 'PRCCS6': float,\n",
    " 'PRCCS7': float,\n",
    " 'PRCCS8': float,\n",
    " 'PRCCS9': float,\n",
    " 'PRDAY1': float,\n",
    " 'PRDAY10': float,\n",
    " 'PRDAY11': float,\n",
    " 'PRDAY12': float,\n",
    " 'PRDAY13': float,\n",
    " 'PRDAY14': float,\n",
    " 'PRDAY15': float,\n",
    " 'PRDAY2': float,\n",
    " 'PRDAY3': float,\n",
    " 'PRDAY4': float,\n",
    " 'PRDAY5': float,\n",
    " 'PRDAY6': float,\n",
    " 'PRDAY7': float,\n",
    " 'PRDAY8': float,\n",
    " 'PRDAY9': float,\n",
    " 'REHABTRANSFER': float,\n",
    " 'RESIDENT': float,\n",
    " 'SAMEDAYEVENT': bytes,\n",
    " 'SERVICELINE': float,\n",
    " 'TOTCHG': float,\n",
    " 'YEAR': float,\n",
    " 'ZIPINC_QRTL': float}"
   ]
  },
  {
   "cell_type": "markdown",
   "metadata": {},
   "source": [
    "Read the same admissions as in the comorbidities dataset, but the variables from the core data set:"
   ]
  },
  {
   "cell_type": "code",
   "execution_count": 7,
   "metadata": {},
   "outputs": [],
   "source": [
    "ami_index = pd.read_csv(path+'cohorts/ami_index.csv', dtype=core_dtypes_pd)\n",
    "\n",
    "train_comorb = pd.read_csv(path+'cohorts/ami/comorb_train.csv')\n",
    "tst_comorb = pd.read_csv(path+'cohorts/ami/comorb_tst.csv')\n",
    "\n",
    "train_df = ami_index[ami_index['KEY_NRD'].isin(train_comorb['KEY_NRD'])]\n",
    "tst_df = ami_index[ami_index['KEY_NRD'].isin(tst_comorb['KEY_NRD'])]\n",
    "\n",
    "N_train = len(train_df)\n",
    "N_tst = len(tst_df)\n",
    "all_df = pd.concat([train_df, tst_df])\n",
    "\n",
    "del(ami_index, train_comorb, tst_comorb)"
   ]
  },
  {
   "cell_type": "markdown",
   "metadata": {},
   "source": [
    "## Prediction by raw ICD9 diagnosis codes"
   ]
  },
  {
   "cell_type": "code",
   "execution_count": 6,
   "metadata": {
    "scrolled": true
   },
   "outputs": [
    {
     "name": "stderr",
     "output_type": "stream",
     "text": [
      "Using TensorFlow backend.\n"
     ]
    }
   ],
   "source": [
    "from keras.layers import Input, Embedding, concatenate, Reshape, BatchNormalization, add\n",
    "from keras.models import Model\n",
    "from keras.layers.core import Dense, Activation, Dropout\n",
    "from keras.callbacks import ModelCheckpoint, ReduceLROnPlateau, EarlyStopping\n",
    "from keras.utils import to_categorical\n",
    "from keras.optimizers import Adam"
   ]
  },
  {
   "cell_type": "code",
   "execution_count": 8,
   "metadata": {},
   "outputs": [],
   "source": [
    "import os, sys\n",
    "module_path = os.path.abspath(os.path.join('..'))\n",
    "if module_path not in sys.path:\n",
    "    sys.path.append(module_path)\n",
    "from DL_utils import plot_roc"
   ]
  },
  {
   "cell_type": "markdown",
   "metadata": {},
   "source": [
    "### Data Preparation\n",
    "\n",
    "DX2-DX30 are considered as categorical variables that share levels (around 6000 levels). We change their values into integers from 0 to number of levels, so that they can feed into embedding layers. "
   ]
  },
  {
   "cell_type": "code",
   "execution_count": 9,
   "metadata": {},
   "outputs": [],
   "source": [
    "N_DX = 29\n",
    "DXs = ['DX'+str(n) for n in range(2, N_DX+2)]"
   ]
  },
  {
   "cell_type": "code",
   "execution_count": 10,
   "metadata": {},
   "outputs": [],
   "source": [
    "DX_series = pd.concat([all_df[DX] for DX in DXs])\n",
    "\n",
    "DX_series = DX_series.replace('invl', np.nan).replace('incn', np.nan).astype('category')\n",
    "DX_cat = DX_series.cat.categories\n",
    "\n",
    "n_DX_cat = len(DX_cat)\n",
    "\n",
    "DX_int_cat = range(n_DX_cat)\n",
    "DX_dict = dict(zip(DX_cat, DX_int_cat))"
   ]
  },
  {
   "cell_type": "code",
   "execution_count": 11,
   "metadata": {},
   "outputs": [],
   "source": [
    "trn_df, val_df = train_test_split(train_df, test_size=0.11, stratify=train_df.HOSP_NRD)\n",
    "\n",
    "N_trn = len(trn_df)\n",
    "N_val = len(val_df)\n",
    "\n",
    "train_df = pd.concat([trn_df, val_df])"
   ]
  },
  {
   "cell_type": "code",
   "execution_count": 12,
   "metadata": {},
   "outputs": [],
   "source": [
    "DX_ohe = np.zeros((len(train_df), n_DX_cat))\n",
    "\n",
    "DX_mat = train_df[DXs].replace('invl', np.nan).replace('incn', np.nan).values\n",
    "\n",
    "for j in range(DX_mat.shape[0]):\n",
    "    for i in range(DX_mat.shape[1]):\n",
    "        if not DX_mat[j, i] is np.nan:\n",
    "            DX_ohe[j, DX_dict[DX_mat[j, i]]] = 1\n",
    "\n",
    "DX_ohe_trn = DX_ohe[:N_trn, ]\n",
    "DX_ohe_val = DX_ohe[N_trn:, ]"
   ]
  },
  {
   "cell_type": "markdown",
   "metadata": {},
   "source": [
    "The demographic variables are age and gender. Age is normalized to the same scale as other variables. "
   ]
  },
  {
   "cell_type": "code",
   "execution_count": 13,
   "metadata": {},
   "outputs": [],
   "source": [
    "demo_mat = train_df[['AGE', 'FEMALE']].values\n",
    "\n",
    "age_mean = train_df['AGE'].mean()\n",
    "age_std = train_df['AGE'].std()\n",
    "\n",
    "demo_mat[:, 0] = (demo_mat[:, 0]-age_mean)/age_std\n",
    "\n",
    "demo_mat_trn = demo_mat[:N_trn, ]\n",
    "demo_mat_val = demo_mat[N_trn:, ]"
   ]
  },
  {
   "cell_type": "markdown",
   "metadata": {},
   "source": [
    "Hospital is a categorical variable with around 800 levels. It will be processed as embedding, just like DXns."
   ]
  },
  {
   "cell_type": "code",
   "execution_count": 14,
   "metadata": {},
   "outputs": [],
   "source": [
    "hosp_series = train_df['HOSP_NRD'].astype('category')\n",
    "hosp_cat = hosp_series.cat.categories\n",
    "hosp_series = hosp_series.cat.rename_categories(range(len(hosp_cat)))\n",
    "hosp_array = hosp_series.astype(int).values\n",
    "\n",
    "hosp_array_trn = hosp_array[:N_trn]\n",
    "hosp_array_val = hosp_array[N_trn:]"
   ]
  },
  {
   "cell_type": "markdown",
   "metadata": {},
   "source": [
    "DX1 is a categorical variable with 20 levels. It will be transformed into one-hot-encoding matrix before feed into neural nets. "
   ]
  },
  {
   "cell_type": "code",
   "execution_count": 15,
   "metadata": {},
   "outputs": [],
   "source": [
    "DX1_series = train_df['DX1'].astype('category')\n",
    "DX1_cat = DX1_series.cat.categories\n",
    "DX1_int_cat = range(len(DX1_cat))\n",
    "\n",
    "DX1_dict = dict(zip(DX1_cat, DX1_int_cat))\n",
    "\n",
    "DX1_mat = np.zeros((len(DX1_series), len(DX1_cat)))\n",
    "\n",
    "for i, dx1 in enumerate(DX1_series.values):\n",
    "    DX1_mat[i, DX1_dict[dx1]] = 1\n",
    "\n",
    "DX1_mat_trn = DX1_mat[:N_trn, ]\n",
    "DX1_mat_val = DX1_mat[N_trn:, ]"
   ]
  },
  {
   "cell_type": "markdown",
   "metadata": {},
   "source": [
    "The label/outcome in this problem is the whether there is an unexpected all-cause 30-day readmission following this index admission. It is considered as an integer with value 0 and 1. "
   ]
  },
  {
   "cell_type": "code",
   "execution_count": 16,
   "metadata": {},
   "outputs": [],
   "source": [
    "y = train_df['readm30'].values.astype(int)\n",
    "\n",
    "Y_trn = to_categorical(y[:N_trn])\n",
    "Y_val = to_categorical(y[N_trn:])"
   ]
  },
  {
   "cell_type": "code",
   "execution_count": 17,
   "metadata": {},
   "outputs": [
    {
     "data": {
      "text/plain": [
       "5455"
      ]
     },
     "execution_count": 17,
     "metadata": {},
     "output_type": "execute_result"
    }
   ],
   "source": [
    "n_DX_cat"
   ]
  },
  {
   "cell_type": "markdown",
   "metadata": {},
   "source": [
    "### Model Building"
   ]
  },
  {
   "cell_type": "code",
   "execution_count": 18,
   "metadata": {},
   "outputs": [],
   "source": [
    "from keras_addon import AUCCheckPoint"
   ]
  },
  {
   "cell_type": "code",
   "execution_count": 19,
   "metadata": {},
   "outputs": [],
   "source": [
    "hosp_embed_dim = 1\n",
    "\n",
    "input_DX = Input(shape = (n_DX_cat,))\n",
    "\n",
    "input_demo = Input(shape=(2, ))\n",
    "\n",
    "input_DX1 = Input(shape=(len(DX1_cat),))\n",
    "\n",
    "input_hosp = Input(shape=(1,))\n",
    "hosp_embed = Embedding(input_dim=len(hosp_cat), output_dim=hosp_embed_dim, input_length=1)(input_hosp)\n",
    "hosp_embed = Reshape((hosp_embed_dim, ))(hosp_embed)\n",
    "\n",
    "merged = concatenate([input_demo, input_DX1, input_DX, hosp_embed], axis=1)\n",
    "\n",
    "x = Dense(1024, activation='relu')(merged)\n",
    "x = Dense(256, activation='relu')(x)\n",
    "x = Dropout(0.5)(x)\n",
    "\n",
    "prediction = Dense(2, activation='softmax')(x)\n",
    "model = Model(inputs=[input_demo, input_DX1, input_DX, input_hosp], outputs=prediction)"
   ]
  },
  {
   "cell_type": "code",
   "execution_count": 20,
   "metadata": {},
   "outputs": [],
   "source": [
    "adam = Adam(lr=0.00002)\n",
    "model.compile(optimizer=adam, loss='categorical_crossentropy', metrics=['accuracy'])"
   ]
  },
  {
   "cell_type": "code",
   "execution_count": 21,
   "metadata": {},
   "outputs": [],
   "source": [
    "checkpointer = ModelCheckpoint(filepath=model_path+'ami_icd9_valloss1.h5', verbose=0, save_best_only=True, \n",
    "                               save_weights_only=True)\n",
    "auccheckpt = AUCCheckPoint(filepath=model_path+'ami_icd9_auc1.h5', validation_y=Y_val[:, 1], \n",
    "                             validation_x=[demo_mat_val, DX1_mat_val, DX_ohe_val, hosp_array_val])\n",
    "reduce_lr = ReduceLROnPlateau(monitor='loss', factor=0.2, patience=3, min_lr=1.e-8)\n",
    "earlystop = EarlyStopping(monitor='val_loss', patience=15)"
   ]
  },
  {
   "cell_type": "code",
   "execution_count": 22,
   "metadata": {},
   "outputs": [],
   "source": [
    "class_weight = {0:(Y_trn.shape[0]/sum(Y_trn[:, 0])), 1:(Y_trn.shape[0]/sum(Y_trn[:, 1]))}"
   ]
  },
  {
   "cell_type": "code",
   "execution_count": 55,
   "metadata": {},
   "outputs": [],
   "source": [
    "class_weight = {0:1., 1:1.}"
   ]
  },
  {
   "cell_type": "code",
   "execution_count": 24,
   "metadata": {
    "scrolled": true
   },
   "outputs": [
    {
     "name": "stdout",
     "output_type": "stream",
     "text": [
      "Train on 145667 samples, validate on 18004 samples\n",
      "Epoch 1/20\n",
      "145667/145667 [==============================] - 9s 60us/step - loss: 1.3343 - acc: 0.5689 - val_loss: 0.6700 - val_acc: 0.6186\n",
      "AUC: 0.6833\n",
      "\n",
      "Epoch 2/20\n",
      "145667/145667 [==============================] - 5s 34us/step - loss: 1.2791 - acc: 0.6336 - val_loss: 0.6417 - val_acc: 0.6492\n",
      "AUC: 0.6915\n",
      "\n",
      "Epoch 3/20\n",
      "145667/145667 [==============================] - 5s 38us/step - loss: 1.2604 - acc: 0.6447 - val_loss: 0.6274 - val_acc: 0.6575\n",
      "AUC: 0.6957\n",
      "\n",
      "Epoch 4/20\n",
      "145667/145667 [==============================] - 6s 38us/step - loss: 1.2478 - acc: 0.6487 - val_loss: 0.6330 - val_acc: 0.6459\n",
      "AUC: 0.6982\n",
      "\n",
      "Epoch 5/20\n",
      "145667/145667 [==============================] - 5s 36us/step - loss: 1.2372 - acc: 0.6528 - val_loss: 0.6252 - val_acc: 0.6519\n",
      "AUC: 0.6997\n",
      "\n",
      "Epoch 6/20\n",
      "145667/145667 [==============================] - 5s 35us/step - loss: 1.2285 - acc: 0.6544 - val_loss: 0.6174 - val_acc: 0.6599\n",
      "AUC: 0.7006\n",
      "\n",
      "Epoch 7/20\n",
      "145667/145667 [==============================] - 5s 36us/step - loss: 1.2192 - acc: 0.6620 - val_loss: 0.6096 - val_acc: 0.6643\n",
      "AUC: 0.7010\n",
      "\n",
      "Epoch 8/20\n",
      "145667/145667 [==============================] - 5s 37us/step - loss: 1.2094 - acc: 0.6643 - val_loss: 0.6168 - val_acc: 0.6569\n",
      "AUC: 0.7013\n",
      "\n",
      "Epoch 9/20\n",
      "145667/145667 [==============================] - 5s 37us/step - loss: 1.1995 - acc: 0.6702 - val_loss: 0.6190 - val_acc: 0.6554\n",
      "AUC: 0.7011\n",
      "\n",
      "Epoch 10/20\n",
      "145667/145667 [==============================] - 5s 35us/step - loss: 1.1892 - acc: 0.6752 - val_loss: 0.6004 - val_acc: 0.6738\n",
      "AUC: 0.7004\n",
      "\n",
      "Epoch 11/20\n",
      "145667/145667 [==============================] - 5s 37us/step - loss: 1.1790 - acc: 0.6814 - val_loss: 0.5905 - val_acc: 0.6811\n",
      "AUC: 0.6992\n",
      "\n",
      "Epoch 12/20\n",
      "145667/145667 [==============================] - 5s 36us/step - loss: 1.1670 - acc: 0.6879 - val_loss: 0.6055 - val_acc: 0.6687\n",
      "AUC: 0.6981\n",
      "\n",
      "Epoch 13/20\n",
      "145667/145667 [==============================] - 5s 36us/step - loss: 1.1540 - acc: 0.6930 - val_loss: 0.5999 - val_acc: 0.6738\n",
      "AUC: 0.6956\n",
      "\n",
      "Epoch 14/20\n",
      "145667/145667 [==============================] - 5s 35us/step - loss: 1.1411 - acc: 0.6995 - val_loss: 0.5758 - val_acc: 0.6969\n",
      "AUC: 0.6932\n",
      "\n",
      "Epoch 15/20\n",
      "145667/145667 [==============================] - 5s 34us/step - loss: 1.1255 - acc: 0.7068 - val_loss: 0.5912 - val_acc: 0.6834\n",
      "AUC: 0.6904\n",
      "\n",
      "Epoch 16/20\n",
      "145667/145667 [==============================] - 5s 34us/step - loss: 1.1087 - acc: 0.7143 - val_loss: 0.5828 - val_acc: 0.6903\n",
      "AUC: 0.6880\n",
      "\n",
      "Epoch 17/20\n",
      "145667/145667 [==============================] - 5s 35us/step - loss: 1.0906 - acc: 0.7228 - val_loss: 0.5843 - val_acc: 0.6915\n",
      "AUC: 0.6834\n",
      "\n",
      "Epoch 18/20\n",
      "145667/145667 [==============================] - 5s 35us/step - loss: 1.0694 - acc: 0.7321 - val_loss: 0.5792 - val_acc: 0.6961\n",
      "AUC: 0.6797\n",
      "\n",
      "Epoch 19/20\n",
      "145667/145667 [==============================] - 5s 34us/step - loss: 1.0491 - acc: 0.7414 - val_loss: 0.5658 - val_acc: 0.7065\n",
      "AUC: 0.6756\n",
      "\n",
      "Epoch 20/20\n",
      "145667/145667 [==============================] - 5s 35us/step - loss: 1.0278 - acc: 0.7499 - val_loss: 0.5702 - val_acc: 0.7036\n",
      "AUC: 0.6708\n",
      "\n"
     ]
    }
   ],
   "source": [
    "hist = model.fit([demo_mat_trn, DX1_mat_trn, DX_ohe_trn, hosp_array_trn], Y_trn, \n",
    "                 batch_size=512, epochs=20, callbacks=[checkpointer, auccheckpt, reduce_lr, earlystop], \n",
    "                 class_weight=class_weight, validation_data=[[demo_mat_val, DX1_mat_val, DX_ohe_val, hosp_array_val], Y_val], \n",
    "                verbose=1)"
   ]
  },
  {
   "cell_type": "markdown",
   "metadata": {},
   "source": [
    "### Model Testing"
   ]
  },
  {
   "cell_type": "code",
   "execution_count": 25,
   "metadata": {},
   "outputs": [],
   "source": [
    "DX_ohe_tst = np.zeros((len(tst_df), n_DX_cat))\n",
    "\n",
    "DX_mat_tst = tst_df[DXs].replace('invl', np.nan).replace('incn', np.nan).values\n",
    "\n",
    "for j in range(DX_mat_tst.shape[0]):\n",
    "    for i in range(DX_mat_tst.shape[1]):\n",
    "        if not DX_mat_tst[j, i] is np.nan:\n",
    "            DX_ohe_tst[j, DX_dict[DX_mat_tst[j, i]]] = 1"
   ]
  },
  {
   "cell_type": "code",
   "execution_count": 26,
   "metadata": {},
   "outputs": [],
   "source": [
    "demo_mat_tst = tst_df[['AGE', 'FEMALE']].values\n",
    "\n",
    "demo_mat_tst[:, 0] = (demo_mat_tst[:, 0]-age_mean)/age_std"
   ]
  },
  {
   "cell_type": "code",
   "execution_count": 27,
   "metadata": {},
   "outputs": [],
   "source": [
    "hosp_array_tst = tst_df['HOSP_NRD'].astype('category').cat.rename_categories(range(len(hosp_cat))).astype(int).values"
   ]
  },
  {
   "cell_type": "code",
   "execution_count": 28,
   "metadata": {},
   "outputs": [],
   "source": [
    "DX1_array_tst = tst_df['DX1'].astype('category').values\n",
    "\n",
    "DX1_mat_tst = np.zeros((len(DX1_array_tst), len(DX1_cat)))\n",
    "for i, dx1 in enumerate(DX1_array_tst):\n",
    "    DX1_mat_tst[i, DX1_dict[dx1]] = 1"
   ]
  },
  {
   "cell_type": "code",
   "execution_count": 29,
   "metadata": {},
   "outputs": [],
   "source": [
    "y_tst = tst_df['readm30'].values.astype(int)\n",
    "\n",
    "Y_tst = to_categorical(y_tst)"
   ]
  },
  {
   "cell_type": "code",
   "execution_count": 32,
   "metadata": {},
   "outputs": [
    {
     "name": "stdout",
     "output_type": "stream",
     "text": [
      "18186/18186 [==============================] - 0s 22us/step\n"
     ]
    }
   ],
   "source": [
    "model.load_weights(model_path+'ami_icd9_valloss1.h5')\n",
    "\n",
    "y_pred = model.predict([demo_mat_tst, DX1_mat_tst, DX_ohe_tst, hosp_array_tst], batch_size=256, verbose=1)"
   ]
  },
  {
   "cell_type": "code",
   "execution_count": 33,
   "metadata": {},
   "outputs": [
    {
     "data": {
      "text/plain": [
       "{0: 0.6824842214629057}"
      ]
     },
     "execution_count": 33,
     "metadata": {},
     "output_type": "execute_result"
    },
    {
     "data": {
      "image/png": "[encoded data removed]",
      "text/plain": [
       "<Figure size 432x288 with 1 Axes>"
      ]
     },
     "metadata": {},
     "output_type": "display_data"
    }
   ],
   "source": [
    "plot_roc(y_pred[:, 1], Y_tst[:, 1])"
   ]
  },
  {
   "cell_type": "markdown",
   "metadata": {},
   "source": [
    "## Additive Emedding"
   ]
  },
  {
   "cell_type": "markdown",
   "metadata": {},
   "source": [
    "### Model Building"
   ]
  },
  {
   "cell_type": "code",
   "execution_count": 32,
   "metadata": {},
   "outputs": [],
   "source": [
    "DX_embed_dim = 100\n",
    "hosp_embed_dim = 3\n",
    "\n",
    "input_DX = Input(shape = (n_DX_cat,))\n",
    "DX_embed = Dense(DX_embed_dim)(input_DX)\n",
    "\n",
    "input_demo = Input(shape=(2, ))\n",
    "\n",
    "input_DX1 = Input(shape=(len(DX1_cat),))\n",
    "\n",
    "input_hosp = Input(shape=(1,))\n",
    "hosp_embed = Embedding(input_dim=len(hosp_cat), output_dim=hosp_embed_dim, input_length=1)(input_hosp)\n",
    "hosp_embed = Reshape((hosp_embed_dim, ))(hosp_embed)\n",
    "\n",
    "merged = concatenate([input_demo, input_DX1, DX_embed, hosp_embed], axis=1)\n",
    "\n",
    "x = Dense(128, activation='relu')(merged)\n",
    "x = Dense(32, activation='relu')(x)\n",
    "x = Dropout(0.2)(x)\n",
    "\n",
    "prediction = Dense(2, activation='softmax')(x)\n",
    "model = Model(inputs=[input_demo, input_DX1, input_DX, input_hosp], outputs=prediction)"
   ]
  },
  {
   "cell_type": "code",
   "execution_count": 24,
   "metadata": {},
   "outputs": [
    {
     "data": {
      "text/plain": [
       "TensorShape([Dimension(None), Dimension(125)])"
      ]
     },
     "execution_count": 24,
     "metadata": {},
     "output_type": "execute_result"
    }
   ],
   "source": [
    "merged.shape"
   ]
  },
  {
   "cell_type": "code",
   "execution_count": 33,
   "metadata": {},
   "outputs": [],
   "source": [
    "adam = Adam(lr=0.0001)\n",
    "model.compile(optimizer=adam, loss='categorical_crossentropy', metrics=['accuracy'])"
   ]
  },
  {
   "cell_type": "code",
   "execution_count": 34,
   "metadata": {},
   "outputs": [],
   "source": [
    "checkpointer = AUCCheckPoint(filepath=model_path+'ami_icd9_addembed_auc1.h5', validation_y=Y_val[:, 1], \n",
    "                             validation_x=[demo_mat_val, DX1_mat_val, DX_ohe_val, hosp_array_val])\n",
    "reduce_lr = ReduceLROnPlateau(monitor='loss', factor=0.2, patience=3, min_lr=1.e-8)\n",
    "earlystop = EarlyStopping(monitor='val_loss', patience=5)"
   ]
  },
  {
   "cell_type": "code",
   "execution_count": 35,
   "metadata": {},
   "outputs": [],
   "source": [
    "class_weight = {0:(Y_trn.shape[0]/sum(Y_trn[:, 0])), 1:(Y_trn.shape[0]/sum(Y_trn[:, 1]))}"
   ]
  },
  {
   "cell_type": "code",
   "execution_count": 55,
   "metadata": {},
   "outputs": [],
   "source": [
    "class_weight = {0:1., 1:1.}"
   ]
  },
  {
   "cell_type": "code",
   "execution_count": 36,
   "metadata": {
    "scrolled": true
   },
   "outputs": [
    {
     "name": "stdout",
     "output_type": "stream",
     "text": [
      "Train on 145667 samples, validate on 18004 samples\n",
      "Epoch 1/30\n",
      " - 5s - loss: 1.3296 - acc: 0.6148 - val_loss: 0.6502 - val_acc: 0.6400\n",
      "AUC: 0.6888\n",
      "\n",
      "Epoch 2/30\n",
      " - 5s - loss: 1.2760 - acc: 0.6442 - val_loss: 0.6379 - val_acc: 0.6361\n",
      "AUC: 0.6969\n",
      "\n",
      "Epoch 3/30\n",
      " - 5s - loss: 1.2589 - acc: 0.6444 - val_loss: 0.6395 - val_acc: 0.6256\n",
      "AUC: 0.6995\n",
      "\n",
      "Epoch 4/30\n",
      " - 5s - loss: 1.2462 - acc: 0.6483 - val_loss: 0.6474 - val_acc: 0.6191\n",
      "AUC: 0.6995\n",
      "\n",
      "Epoch 5/30\n",
      " - 4s - loss: 1.2357 - acc: 0.6518 - val_loss: 0.6408 - val_acc: 0.6250\n",
      "AUC: 0.6989\n",
      "\n",
      "Epoch 6/30\n",
      " - 4s - loss: 1.2234 - acc: 0.6567 - val_loss: 0.6373 - val_acc: 0.6290\n",
      "AUC: 0.6971\n",
      "\n",
      "Epoch 7/30\n",
      " - 4s - loss: 1.2125 - acc: 0.6596 - val_loss: 0.6046 - val_acc: 0.6579\n",
      "AUC: 0.6960\n",
      "\n",
      "Epoch 8/30\n",
      " - 4s - loss: 1.2005 - acc: 0.6642 - val_loss: 0.6170 - val_acc: 0.6461\n",
      "AUC: 0.6934\n",
      "\n",
      "Epoch 9/30\n",
      " - 5s - loss: 1.1890 - acc: 0.6663 - val_loss: 0.6201 - val_acc: 0.6440\n",
      "AUC: 0.6922\n",
      "\n",
      "Epoch 10/30\n",
      " - 4s - loss: 1.1777 - acc: 0.6705 - val_loss: 0.5907 - val_acc: 0.6680\n",
      "AUC: 0.6920\n",
      "\n",
      "Epoch 11/30\n",
      " - 5s - loss: 1.1645 - acc: 0.6753 - val_loss: 0.6178 - val_acc: 0.6472\n",
      "AUC: 0.6892\n",
      "\n",
      "Epoch 12/30\n",
      " - 4s - loss: 1.1542 - acc: 0.6788 - val_loss: 0.6441 - val_acc: 0.6210\n",
      "AUC: 0.6869\n",
      "\n",
      "Epoch 13/30\n",
      " - 4s - loss: 1.1416 - acc: 0.6820 - val_loss: 0.6237 - val_acc: 0.6406\n",
      "AUC: 0.6817\n",
      "\n",
      "Epoch 14/30\n",
      " - 4s - loss: 1.1306 - acc: 0.6868 - val_loss: 0.6368 - val_acc: 0.6322\n",
      "AUC: 0.6821\n",
      "\n",
      "Epoch 15/30\n",
      " - 5s - loss: 1.1202 - acc: 0.6911 - val_loss: 0.6160 - val_acc: 0.6482\n",
      "AUC: 0.6784\n",
      "\n"
     ]
    }
   ],
   "source": [
    "hist = model.fit([demo_mat_trn, DX1_mat_trn, DX_ohe_trn, hosp_array_trn], Y_trn, \n",
    "                 batch_size=512, epochs=30, callbacks=[checkpointer, reduce_lr, earlystop], class_weight=class_weight, \n",
    "                 validation_data=[[demo_mat_val, DX1_mat_val, DX_ohe_val, hosp_array_val], Y_val], \n",
    "                verbose=2)"
   ]
  },
  {
   "cell_type": "markdown",
   "metadata": {},
   "source": [
    "### Model Testing"
   ]
  },
  {
   "cell_type": "code",
   "execution_count": 37,
   "metadata": {},
   "outputs": [
    {
     "name": "stdout",
     "output_type": "stream",
     "text": [
      "18186/18186 [==============================] - 1s 61us/step\n"
     ]
    }
   ],
   "source": [
    "model.load_weights(model_path+'ami_icd9_addembed_auc1.h5')\n",
    "y_pred = model.predict([demo_mat_tst, DX1_mat_tst, DX_ohe_tst, hosp_array_tst], batch_size=256, verbose=1)"
   ]
  },
  {
   "cell_type": "code",
   "execution_count": 38,
   "metadata": {},
   "outputs": [
    {
     "data": {
      "text/plain": [
       "{0: 0.6955175900340639}"
      ]
     },
     "execution_count": 38,
     "metadata": {},
     "output_type": "execute_result"
    },
    {
     "data": {
      "image/png": "[encoded data removed]",
      "text/plain": [
       "<Figure size 432x288 with 1 Axes>"
      ]
     },
     "metadata": {},
     "output_type": "display_data"
    }
   ],
   "source": [
    "plot_roc(y_pred[:, 1], Y_tst[:, 1])"
   ]
  },
  {
   "cell_type": "markdown",
   "metadata": {},
   "source": [
    "## Prediction by Single-Level CSS codes"
   ]
  },
  {
   "cell_type": "markdown",
   "metadata": {},
   "source": [
    "### Data Preparation\n",
    "\n",
    "DX2-DX30 are considered as categorical variables that share levels (around 6000 levels). We change their values into integers from 0 to number of levels, so that they can feed into embedding layers. "
   ]
  },
  {
   "cell_type": "code",
   "execution_count": 34,
   "metadata": {},
   "outputs": [],
   "source": [
    "N_DX = 29\n",
    "DXCCSs = ['DXCCS'+str(n) for n in range(2, N_DX+2)]"
   ]
  },
  {
   "cell_type": "code",
   "execution_count": 35,
   "metadata": {},
   "outputs": [],
   "source": [
    "DXCCS_series = pd.concat([all_df[DXCCS] for DXCCS in DXCCSs])"
   ]
  },
  {
   "cell_type": "code",
   "execution_count": 36,
   "metadata": {},
   "outputs": [],
   "source": [
    "DXCCS_series = DXCCS_series.astype('category')\n",
    "\n",
    "DXCCS_cat = DXCCS_series.cat.categories"
   ]
  },
  {
   "cell_type": "code",
   "execution_count": 37,
   "metadata": {},
   "outputs": [],
   "source": [
    "n_DXCCS_cat = len(DXCCS_cat)\n",
    "\n",
    "DXCCS_int_cat = range(n_DXCCS_cat)\n",
    "DXCCS_dict = dict(zip(DXCCS_cat, DXCCS_int_cat))"
   ]
  },
  {
   "cell_type": "code",
   "execution_count": 38,
   "metadata": {},
   "outputs": [],
   "source": [
    "trn_df, val_df = train_test_split(train_df, test_size=0.11, stratify=train_df.HOSP_NRD)\n",
    "\n",
    "N_trn = len(trn_df)\n",
    "N_val = len(val_df)\n",
    "\n",
    "train_df = pd.concat([trn_df, val_df])"
   ]
  },
  {
   "cell_type": "code",
   "execution_count": 39,
   "metadata": {},
   "outputs": [],
   "source": [
    "DXCCS_ohe = np.zeros((len(train_df), n_DXCCS_cat))\n",
    "\n",
    "DXCCS_mat = train_df[DXCCSs].values\n",
    "\n",
    "for j in range(DXCCS_mat.shape[0]):\n",
    "    for i in range(DXCCS_mat.shape[1]):\n",
    "        if not np.isnan(DXCCS_mat[j, i]):\n",
    "            DXCCS_ohe[j, DXCCS_dict[DXCCS_mat[j, i]]] = 1\n",
    "\n",
    "DXCCS_ohe_trn = DXCCS_ohe[:N_trn, ]\n",
    "DXCCS_ohe_val = DXCCS_ohe[N_trn:, ]"
   ]
  },
  {
   "cell_type": "markdown",
   "metadata": {},
   "source": [
    "The demographic variables are age and gender. Age is normalized to the same scale as other variables. "
   ]
  },
  {
   "cell_type": "code",
   "execution_count": 40,
   "metadata": {},
   "outputs": [],
   "source": [
    "demo_mat = train_df[['AGE', 'FEMALE']].values\n",
    "\n",
    "age_mean = train_df['AGE'].mean()\n",
    "age_std = train_df['AGE'].std()\n",
    "\n",
    "demo_mat[:, 0] = (demo_mat[:, 0]-age_mean)/age_std\n",
    "\n",
    "demo_mat_trn = demo_mat[:N_trn, ]\n",
    "demo_mat_val = demo_mat[N_trn:, ]"
   ]
  },
  {
   "cell_type": "markdown",
   "metadata": {},
   "source": [
    "Hospital is a categorical variable with around 800 levels. It will be processed as embedding, just like DXns."
   ]
  },
  {
   "cell_type": "code",
   "execution_count": 41,
   "metadata": {},
   "outputs": [],
   "source": [
    "hosp_series = train_df['HOSP_NRD'].astype('category')\n",
    "hosp_cat = hosp_series.cat.categories\n",
    "hosp_series = hosp_series.cat.rename_categories(range(len(hosp_cat)))\n",
    "hosp_array = hosp_series.astype(int).values\n",
    "\n",
    "hosp_array_trn = hosp_array[:N_trn]\n",
    "hosp_array_val = hosp_array[N_trn:]"
   ]
  },
  {
   "cell_type": "markdown",
   "metadata": {},
   "source": [
    "DX1 is a categorical variable with 20 levels. It will be transformed into one-hot-encoding matrix before feed into neural nets. "
   ]
  },
  {
   "cell_type": "code",
   "execution_count": 42,
   "metadata": {},
   "outputs": [],
   "source": [
    "DX1_series = train_df['DX1'].astype('category')\n",
    "DX1_cat = DX1_series.cat.categories\n",
    "DX1_int_cat = range(len(DX1_cat))\n",
    "\n",
    "DX1_dict = dict(zip(DX1_cat, DX1_int_cat))\n",
    "\n",
    "DX1_mat = np.zeros((len(DX1_series), len(DX1_cat)))\n",
    "\n",
    "for i, dx1 in enumerate(DX1_series.values):\n",
    "    DX1_mat[i, DX1_dict[dx1]] = 1\n",
    "\n",
    "DX1_mat_trn = DX1_mat[:N_trn, ]\n",
    "DX1_mat_val = DX1_mat[N_trn:, ]"
   ]
  },
  {
   "cell_type": "markdown",
   "metadata": {},
   "source": [
    "The label/outcome in this problem is the whether there is an unexpected all-cause 30-day readmission following this index admission. It is considered as an integer with value 0 and 1. "
   ]
  },
  {
   "cell_type": "code",
   "execution_count": 43,
   "metadata": {},
   "outputs": [],
   "source": [
    "y = train_df['readm30'].values.astype(int)\n",
    "\n",
    "Y_trn = to_categorical(y[:N_trn])\n",
    "Y_val = to_categorical(y[N_trn:])"
   ]
  },
  {
   "cell_type": "markdown",
   "metadata": {},
   "source": [
    "### Model Building"
   ]
  },
  {
   "cell_type": "code",
   "execution_count": 17,
   "metadata": {},
   "outputs": [],
   "source": [
    "from keras_addon import AUCCheckPoint"
   ]
  },
  {
   "cell_type": "code",
   "execution_count": 54,
   "metadata": {},
   "outputs": [],
   "source": [
    "hosp_embed_dim = 1\n",
    "\n",
    "input_DXCCS = Input(shape = (n_DXCCS_cat,))\n",
    "\n",
    "input_demo = Input(shape=(2, ))\n",
    "\n",
    "input_DX1 = Input(shape=(len(DX1_cat),))\n",
    "\n",
    "input_hosp = Input(shape=(1,))\n",
    "hosp_embed = Embedding(input_dim=len(hosp_cat), output_dim=hosp_embed_dim, input_length=1)(input_hosp)\n",
    "hosp_embed = Reshape((hosp_embed_dim, ))(hosp_embed)\n",
    "\n",
    "merged = concatenate([input_demo, input_DX1, input_DXCCS, hosp_embed], axis=1)\n",
    "\n",
    "x = Dense(256, activation='relu')(merged)\n",
    "x = Dense(64, activation='relu')(x)\n",
    "x = Dropout(0.3)(x)\n",
    "\n",
    "prediction = Dense(2, activation='softmax')(x)\n",
    "model = Model(inputs=[input_demo, input_DX1, input_DXCCS, input_hosp], outputs=prediction)"
   ]
  },
  {
   "cell_type": "code",
   "execution_count": 55,
   "metadata": {},
   "outputs": [],
   "source": [
    "adam = Adam(lr=0.0001)\n",
    "model.compile(optimizer=adam, loss='categorical_crossentropy', metrics=['accuracy'])"
   ]
  },
  {
   "cell_type": "code",
   "execution_count": 56,
   "metadata": {},
   "outputs": [],
   "source": [
    "checkpointer = AUCCheckPoint(filepath=model_path+'ami_icd9dxccs_auc1.h5', validation_y=Y_val[:, 1], \n",
    "                             validation_x=[demo_mat_val, DX1_mat_val, DXCCS_ohe_val, hosp_array_val])\n",
    "reduce_lr = ReduceLROnPlateau(monitor='loss', factor=0.2, patience=3, min_lr=1.e-8)\n",
    "earlystop = EarlyStopping(monitor='val_loss', patience=20)"
   ]
  },
  {
   "cell_type": "code",
   "execution_count": 47,
   "metadata": {},
   "outputs": [],
   "source": [
    "class_weight = {0:(Y_trn.shape[0]/sum(Y_trn[:, 0])), 1:(Y_trn.shape[0]/sum(Y_trn[:, 1]))}"
   ]
  },
  {
   "cell_type": "code",
   "execution_count": 57,
   "metadata": {
    "scrolled": true
   },
   "outputs": [
    {
     "name": "stdout",
     "output_type": "stream",
     "text": [
      "Train on 145667 samples, validate on 18004 samples\n",
      "Epoch 1/30\n",
      "145667/145667 [==============================] - 2s 12us/step - loss: 1.3217 - acc: 0.5701 - val_loss: 0.6542 - val_acc: 0.6236\n",
      "AUC: 0.6809\n",
      "\n",
      "Epoch 2/30\n",
      "145667/145667 [==============================] - 1s 9us/step - loss: 1.2785 - acc: 0.6245 - val_loss: 0.6439 - val_acc: 0.6202\n",
      "AUC: 0.6894\n",
      "\n",
      "Epoch 3/30\n",
      "145667/145667 [==============================] - 1s 9us/step - loss: 1.2657 - acc: 0.6227 - val_loss: 0.6179 - val_acc: 0.6405\n",
      "AUC: 0.6918\n",
      "\n",
      "Epoch 4/30\n",
      "145667/145667 [==============================] - 1s 9us/step - loss: 1.2597 - acc: 0.6230 - val_loss: 0.6484 - val_acc: 0.6048\n",
      "AUC: 0.6934\n",
      "\n",
      "Epoch 5/30\n",
      "145667/145667 [==============================] - 1s 9us/step - loss: 1.2544 - acc: 0.6226 - val_loss: 0.6392 - val_acc: 0.6125\n",
      "AUC: 0.6945\n",
      "\n",
      "Epoch 6/30\n",
      "145667/145667 [==============================] - 1s 9us/step - loss: 1.2499 - acc: 0.6240 - val_loss: 0.6255 - val_acc: 0.6241\n",
      "AUC: 0.6953\n",
      "\n",
      "Epoch 7/30\n",
      "145667/145667 [==============================] - 1s 9us/step - loss: 1.2466 - acc: 0.6246 - val_loss: 0.6188 - val_acc: 0.6275\n",
      "AUC: 0.6959\n",
      "\n",
      "Epoch 8/30\n",
      "145667/145667 [==============================] - 1s 9us/step - loss: 1.2413 - acc: 0.6279 - val_loss: 0.6177 - val_acc: 0.6284\n",
      "AUC: 0.6965\n",
      "\n",
      "Epoch 9/30\n",
      "145667/145667 [==============================] - 1s 9us/step - loss: 1.2362 - acc: 0.6290 - val_loss: 0.6473 - val_acc: 0.6051\n",
      "AUC: 0.6976\n",
      "\n",
      "Epoch 10/30\n",
      "145667/145667 [==============================] - 1s 9us/step - loss: 1.2313 - acc: 0.6305 - val_loss: 0.6207 - val_acc: 0.6265\n",
      "AUC: 0.6985\n",
      "\n",
      "Epoch 11/30\n",
      "145667/145667 [==============================] - 1s 9us/step - loss: 1.2259 - acc: 0.6340 - val_loss: 0.6205 - val_acc: 0.6267\n",
      "AUC: 0.6985\n",
      "\n",
      "Epoch 12/30\n",
      "145667/145667 [==============================] - 1s 9us/step - loss: 1.2224 - acc: 0.6337 - val_loss: 0.6094 - val_acc: 0.6356\n",
      "AUC: 0.6989\n",
      "\n",
      "Epoch 13/30\n",
      "145667/145667 [==============================] - 1s 9us/step - loss: 1.2167 - acc: 0.6383 - val_loss: 0.6206 - val_acc: 0.6225\n",
      "AUC: 0.6987\n",
      "\n",
      "Epoch 14/30\n",
      "145667/145667 [==============================] - 1s 9us/step - loss: 1.2115 - acc: 0.6381 - val_loss: 0.5907 - val_acc: 0.6510\n",
      "AUC: 0.6988\n",
      "\n",
      "Epoch 15/30\n",
      "145667/145667 [==============================] - 1s 9us/step - loss: 1.2063 - acc: 0.6404 - val_loss: 0.6037 - val_acc: 0.6372\n",
      "AUC: 0.6980\n",
      "\n",
      "Epoch 16/30\n",
      "145667/145667 [==============================] - 1s 9us/step - loss: 1.2020 - acc: 0.6431 - val_loss: 0.6058 - val_acc: 0.6325\n",
      "AUC: 0.6984\n",
      "\n",
      "Epoch 17/30\n",
      "145667/145667 [==============================] - 1s 9us/step - loss: 1.1962 - acc: 0.6445 - val_loss: 0.5940 - val_acc: 0.6456\n",
      "AUC: 0.6983\n",
      "\n",
      "Epoch 18/30\n",
      "145667/145667 [==============================] - 1s 9us/step - loss: 1.1928 - acc: 0.6469 - val_loss: 0.6192 - val_acc: 0.6219\n",
      "AUC: 0.6972\n",
      "\n",
      "Epoch 19/30\n",
      "145667/145667 [==============================] - 1s 9us/step - loss: 1.1883 - acc: 0.6486 - val_loss: 0.6026 - val_acc: 0.6345\n",
      "AUC: 0.6963\n",
      "\n",
      "Epoch 20/30\n",
      "145667/145667 [==============================] - 1s 9us/step - loss: 1.1836 - acc: 0.6493 - val_loss: 0.6251 - val_acc: 0.6177\n",
      "AUC: 0.6966\n",
      "\n",
      "Epoch 21/30\n",
      "145667/145667 [==============================] - 1s 9us/step - loss: 1.1789 - acc: 0.6498 - val_loss: 0.6063 - val_acc: 0.6311\n",
      "AUC: 0.6953\n",
      "\n",
      "Epoch 22/30\n",
      "145667/145667 [==============================] - 1s 9us/step - loss: 1.1746 - acc: 0.6536 - val_loss: 0.5915 - val_acc: 0.6475\n",
      "AUC: 0.6958\n",
      "\n",
      "Epoch 23/30\n",
      "145667/145667 [==============================] - 1s 9us/step - loss: 1.1702 - acc: 0.6536 - val_loss: 0.6166 - val_acc: 0.6266\n",
      "AUC: 0.6954\n",
      "\n",
      "Epoch 24/30\n",
      "145667/145667 [==============================] - 1s 9us/step - loss: 1.1656 - acc: 0.6559 - val_loss: 0.6108 - val_acc: 0.6302\n",
      "AUC: 0.6941\n",
      "\n",
      "Epoch 25/30\n",
      "145667/145667 [==============================] - 1s 9us/step - loss: 1.1601 - acc: 0.6590 - val_loss: 0.6050 - val_acc: 0.6362\n",
      "AUC: 0.6942\n",
      "\n",
      "Epoch 26/30\n",
      "145667/145667 [==============================] - 1s 9us/step - loss: 1.1547 - acc: 0.6608 - val_loss: 0.5836 - val_acc: 0.6539\n",
      "AUC: 0.6937\n",
      "\n",
      "Epoch 27/30\n",
      "145667/145667 [==============================] - 1s 10us/step - loss: 1.1491 - acc: 0.6644 - val_loss: 0.6009 - val_acc: 0.6384\n",
      "AUC: 0.6928\n",
      "\n",
      "Epoch 28/30\n",
      "145667/145667 [==============================] - 1s 9us/step - loss: 1.1436 - acc: 0.6659 - val_loss: 0.6082 - val_acc: 0.6351\n",
      "AUC: 0.6923\n",
      "\n",
      "Epoch 29/30\n",
      "145667/145667 [==============================] - 1s 9us/step - loss: 1.1398 - acc: 0.6673 - val_loss: 0.6101 - val_acc: 0.6350\n",
      "AUC: 0.6898\n",
      "\n",
      "Epoch 30/30\n",
      "145667/145667 [==============================] - 1s 9us/step - loss: 1.1345 - acc: 0.6711 - val_loss: 0.6137 - val_acc: 0.6336\n",
      "AUC: 0.6904\n",
      "\n"
     ]
    }
   ],
   "source": [
    "hist = model.fit([demo_mat_trn, DX1_mat_trn, DXCCS_ohe_trn, hosp_array_trn], Y_trn, \n",
    "                 batch_size=512, epochs=30, callbacks=[checkpointer, reduce_lr, earlystop], class_weight=class_weight, \n",
    "                 validation_data=[[demo_mat_val, DX1_mat_val, DXCCS_ohe_val, hosp_array_val], Y_val], \n",
    "                verbose=1)"
   ]
  },
  {
   "cell_type": "code",
   "execution_count": 58,
   "metadata": {},
   "outputs": [],
   "source": [
    "DXCCS_ohe_tst = np.zeros((len(tst_df), n_DXCCS_cat))\n",
    "\n",
    "DXCCS_mat_tst = tst_df[DXCCSs].values\n",
    "\n",
    "for j in range(DXCCS_mat_tst.shape[0]):\n",
    "    for i in range(DXCCS_mat_tst.shape[1]):\n",
    "        if not np.isnan(DXCCS_mat_tst[j, i]):\n",
    "            DXCCS_ohe_tst[j, DXCCS_dict[DXCCS_mat_tst[j, i]]] = 1"
   ]
  },
  {
   "cell_type": "code",
   "execution_count": 59,
   "metadata": {
    "scrolled": true
   },
   "outputs": [
    {
     "name": "stdout",
     "output_type": "stream",
     "text": [
      "18186/18186 [==============================] - 0s 4us/step\n"
     ]
    }
   ],
   "source": [
    "model.load_weights(model_path+'ami_icd9dxccs_auc1.h5')\n",
    "y_pred = model.predict([demo_mat_tst, DX1_mat_tst, DXCCS_ohe_tst, hosp_array_tst], batch_size=256, verbose=1)"
   ]
  },
  {
   "cell_type": "code",
   "execution_count": 60,
   "metadata": {},
   "outputs": [
    {
     "data": {
      "text/plain": [
       "{0: 0.7004847199133477}"
      ]
     },
     "execution_count": 60,
     "metadata": {},
     "output_type": "execute_result"
    },
    {
     "data": {
      "image/png": "[encoded data removed]",
      "text/plain": [
       "<Figure size 432x288 with 1 Axes>"
      ]
     },
     "metadata": {},
     "output_type": "display_data"
    }
   ],
   "source": [
    "plot_roc(y_pred[:, 1], Y_tst[:, 1])"
   ]
  },
  {
   "cell_type": "markdown",
   "metadata": {},
   "source": [
    "#### Save data for hyper parameter tuning:"
   ]
  },
  {
   "cell_type": "code",
   "execution_count": 63,
   "metadata": {},
   "outputs": [],
   "source": [
    "np.savez(path+'temp/data_temp.npz', demo_mat=demo_mat, DX1_mat=DX1_mat, DX_mat=DX_mat, hosp_array=hosp_array, y_train=y_train, \n",
    "        y_test=y_test, n_DX_cat=n_DX_cat, n_DX1_cat = len(DX1_cat), n_hosp_cat=len(hosp_cat))"
   ]
  },
  {
   "cell_type": "markdown",
   "metadata": {},
   "source": [
    "### Hyper Tuning"
   ]
  },
  {
   "cell_type": "code",
   "execution_count": 6,
   "metadata": {},
   "outputs": [],
   "source": [
    "with open('output/hyper_tune_large.csv', 'w') as f:\n",
    "    f.write('depth,width,DX_dim,hosp_dim,lr,dropout,batchsize,auc\\n')"
   ]
  },
  {
   "cell_type": "code",
   "execution_count": 4,
   "metadata": {},
   "outputs": [],
   "source": [
    "hyper_df = pd.read_csv('./hyper_tune.csv')"
   ]
  },
  {
   "cell_type": "code",
   "execution_count": 5,
   "metadata": {},
   "outputs": [
    {
     "data": {
      "text/html": [
       "<div>\n",
       "<style scoped>\n",
       "    .dataframe tbody tr th:only-of-type {\n",
       "        vertical-align: middle;\n",
       "    }\n",
       "\n",
       "    .dataframe tbody tr th {\n",
       "        vertical-align: top;\n",
       "    }\n",
       "\n",
       "    .dataframe thead th {\n",
       "        text-align: right;\n",
       "    }\n",
       "</style>\n",
       "<table border=\"1\" class=\"dataframe\">\n",
       "  <thead>\n",
       "    <tr style=\"text-align: right;\">\n",
       "      <th></th>\n",
       "      <th>depth</th>\n",
       "      <th>width</th>\n",
       "      <th>DX_dim</th>\n",
       "      <th>hosp_dim</th>\n",
       "      <th>auc</th>\n",
       "    </tr>\n",
       "  </thead>\n",
       "  <tbody>\n",
       "    <tr>\n",
       "      <th>7</th>\n",
       "      <td>20</td>\n",
       "      <td>128</td>\n",
       "      <td>5</td>\n",
       "      <td>5</td>\n",
       "      <td>0.592</td>\n",
       "    </tr>\n",
       "    <tr>\n",
       "      <th>22</th>\n",
       "      <td>10</td>\n",
       "      <td>128</td>\n",
       "      <td>50</td>\n",
       "      <td>3</td>\n",
       "      <td>0.592</td>\n",
       "    </tr>\n",
       "    <tr>\n",
       "      <th>30</th>\n",
       "      <td>3</td>\n",
       "      <td>128</td>\n",
       "      <td>5</td>\n",
       "      <td>1</td>\n",
       "      <td>0.604</td>\n",
       "    </tr>\n",
       "    <tr>\n",
       "      <th>33</th>\n",
       "      <td>1</td>\n",
       "      <td>64</td>\n",
       "      <td>5</td>\n",
       "      <td>5</td>\n",
       "      <td>0.591</td>\n",
       "    </tr>\n",
       "    <tr>\n",
       "      <th>35</th>\n",
       "      <td>3</td>\n",
       "      <td>64</td>\n",
       "      <td>10</td>\n",
       "      <td>5</td>\n",
       "      <td>0.598</td>\n",
       "    </tr>\n",
       "  </tbody>\n",
       "</table>\n",
       "</div>"
      ],
      "text/plain": [
       "    depth  width  DX_dim  hosp_dim    auc\n",
       "7      20    128       5         5  0.592\n",
       "22     10    128      50         3  0.592\n",
       "30      3    128       5         1  0.604\n",
       "33      1     64       5         5  0.591\n",
       "35      3     64      10         5  0.598"
      ]
     },
     "execution_count": 5,
     "metadata": {},
     "output_type": "execute_result"
    }
   ],
   "source": [
    "hyper_df[hyper_df['auc']>0.59]"
   ]
  }
 ],
 "metadata": {
  "kernelspec": {
   "display_name": "Python 3",
   "language": "python",
   "name": "python3"
  },
  "language_info": {
   "codemirror_mode": {
    "name": "ipython",
    "version": 3
   },
   "file_extension": ".py",
   "mimetype": "text/x-python",
   "name": "python",
   "nbconvert_exporter": "python",
   "pygments_lexer": "ipython3",
   "version": "3.5.4"
  }
 },
 "nbformat": 4,
 "nbformat_minor": 2
}
