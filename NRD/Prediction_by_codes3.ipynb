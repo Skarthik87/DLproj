{
 "cells": [
  {
   "cell_type": "markdown",
   "metadata": {},
   "source": [
    "# Prediction by Diagnosis Codes\n",
    "In this notebook we use some fancier networks. "
   ]
  },
  {
   "cell_type": "code",
   "execution_count": 1,
   "metadata": {},
   "outputs": [],
   "source": [
    "import pandas as pd\n",
    "import numpy as np\n",
    "import matplotlib.pyplot as plt\n",
    "#import statsmodels.api as sm\n",
    "from sklearn.model_selection import train_test_split, StratifiedShuffleSplit\n",
    "import os, sys\n",
    "\n",
    "%matplotlib inline"
   ]
  },
  {
   "cell_type": "code",
   "execution_count": 2,
   "metadata": {},
   "outputs": [],
   "source": [
    "os.environ['CUDA_VISIBLE_DEVICES'] = ''"
   ]
  },
  {
   "cell_type": "code",
   "execution_count": 2,
   "metadata": {},
   "outputs": [],
   "source": [
    "path = '/nfs/turbo/intmed-bnallamo-turbo/wsliu/Data/NRD/'"
   ]
  },
  {
   "cell_type": "code",
   "execution_count": 2,
   "metadata": {},
   "outputs": [],
   "source": [
    "path = '/nfs/turbo/umms-awaljee/wsliu/Data/NRD/'"
   ]
  },
  {
   "cell_type": "code",
   "execution_count": 3,
   "metadata": {},
   "outputs": [],
   "source": [
    "model_path = path + 'models/'\n",
    "if not os.path.exists(model_path): os.mkdir(model_path)"
   ]
  },
  {
   "cell_type": "code",
   "execution_count": 4,
   "metadata": {
    "scrolled": true
   },
   "outputs": [
    {
     "name": "stderr",
     "output_type": "stream",
     "text": [
      "Using TensorFlow backend.\n"
     ]
    }
   ],
   "source": [
    "from keras.layers import Input, Embedding, Concatenate, Reshape, BatchNormalization, LSTM, CuDNNLSTM, CuDNNGRU, Lambda\n",
    "from keras.models import Model\n",
    "from keras.layers.core import Dense, Activation, Dropout, RepeatVector\n",
    "from keras.callbacks import ModelCheckpoint, ReduceLROnPlateau, EarlyStopping\n",
    "from keras.utils import to_categorical\n",
    "from keras.optimizers import Adam\n",
    "from keras.initializers import Constant\n",
    "import keras.backend as K"
   ]
  },
  {
   "cell_type": "code",
   "execution_count": 5,
   "metadata": {},
   "outputs": [],
   "source": [
    "module_path = os.path.abspath(os.path.join('..'))\n",
    "if module_path not in sys.path:\n",
    "    sys.path.append(module_path)\n",
    "from DL_utils import plot_roc\n",
    "from keras_addon import AUCCheckPoint\n",
    "from utils import Mat_reg, core_dtypes_pd"
   ]
  },
  {
   "cell_type": "code",
   "execution_count": 6,
   "metadata": {},
   "outputs": [],
   "source": [
    "from ccs_tools import dx_multi, pr_multi"
   ]
  },
  {
   "cell_type": "markdown",
   "metadata": {},
   "source": [
    "## Data Preparation"
   ]
  },
  {
   "cell_type": "code",
   "execution_count": 7,
   "metadata": {},
   "outputs": [],
   "source": [
    "train_df = pd.read_csv(path+'cohorts/ami/DX_train.csv', dtype=core_dtypes_pd)\n",
    "tst_df = pd.read_csv(path+'cohorts/ami/DX_tst.csv', dtype=core_dtypes_pd)"
   ]
  },
  {
   "cell_type": "code",
   "execution_count": 18,
   "metadata": {},
   "outputs": [
    {
     "data": {
      "text/plain": [
       "(163671, 150)"
      ]
     },
     "execution_count": 18,
     "metadata": {},
     "output_type": "execute_result"
    }
   ],
   "source": [
    "train_df.shape"
   ]
  },
  {
   "cell_type": "code",
   "execution_count": 8,
   "metadata": {},
   "outputs": [],
   "source": [
    "all_df = pd.concat([train_df, tst_df])"
   ]
  },
  {
   "cell_type": "markdown",
   "metadata": {},
   "source": [
    "Define the dictionaries for DX, DX1 and hosp, from value to int. "
   ]
  },
  {
   "cell_type": "code",
   "execution_count": 9,
   "metadata": {},
   "outputs": [],
   "source": [
    "N_DX = 30\n",
    "DXs = ['DX'+str(n) for n in range(1, N_DX+1)]\n",
    "\n",
    "DX_series = pd.concat([all_df[DX] for DX in DXs])\n",
    "DX_series = DX_series.fillna('missing')\n",
    "DX_series[DX_series.isin(['invl', 'incn'])] = 'missing'"
   ]
  },
  {
   "cell_type": "code",
   "execution_count": 10,
   "metadata": {},
   "outputs": [],
   "source": [
    "unclassified = set(dx_multi.loc[dx_multi.CCS_LVL1 == '18', 'ICD9CM_CODE'])\n",
    "DX_series.loc[DX_series.isin(unclassified)] = 'missing'"
   ]
  },
  {
   "cell_type": "code",
   "execution_count": 11,
   "metadata": {},
   "outputs": [],
   "source": [
    "rare_cutpoint = 1\n",
    "code_freq = DX_series.value_counts()\n",
    "rare_code = code_freq[code_freq<rare_cutpoint].index\n",
    "DX_series.loc[DX_series.isin(rare_code)] = 'missing' # also consider coding as 'rare'"
   ]
  },
  {
   "cell_type": "code",
   "execution_count": 12,
   "metadata": {},
   "outputs": [],
   "source": [
    "DX_series = DX_series.astype('category')\n",
    "DX_cat = DX_series.cat.categories\n",
    "n_DX_cat = len(DX_cat)\n",
    "DX_int_cat = list(range(n_DX_cat)[1:]) +[0]\n",
    "DX_dict = dict(zip(DX_cat, DX_int_cat))"
   ]
  },
  {
   "cell_type": "code",
   "execution_count": 13,
   "metadata": {},
   "outputs": [
    {
     "data": {
      "text/plain": [
       "5251"
      ]
     },
     "execution_count": 13,
     "metadata": {},
     "output_type": "execute_result"
    }
   ],
   "source": [
    "n_DX_cat"
   ]
  },
  {
   "cell_type": "code",
   "execution_count": 14,
   "metadata": {},
   "outputs": [],
   "source": [
    "N_PR = 15\n",
    "PRs = ['PR'+str(n) for n in range(1, N_PR+1)]\n",
    "\n",
    "PR_series = pd.concat([all_df[PR] for PR in PRs])\n",
    "\n",
    "PR_series = PR_series.fillna('missing')\n",
    "PR_series[PR_series.isin(['invl', 'incn'])] = 'missing'\n",
    "\n",
    "pr_rare_cutpoint = 1\n",
    "pr_code_freq = PR_series.value_counts()\n",
    "pr_rare_code = pr_code_freq[pr_code_freq<pr_rare_cutpoint].index\n",
    "PR_series.loc[PR_series.isin(pr_rare_code)] = 'missing' # also consider coding as 'rare'\n",
    "\n",
    "PR_series = PR_series.astype('category')\n",
    "PR_cat = PR_series.cat.categories\n",
    "n_PR_cat = len(PR_cat)\n",
    "PR_int_cat = list(range(n_PR_cat)[1:]) +[0]\n",
    "PR_dict = dict(zip(PR_cat, PR_int_cat))"
   ]
  },
  {
   "cell_type": "code",
   "execution_count": 15,
   "metadata": {},
   "outputs": [
    {
     "data": {
      "text/plain": [
       "1260"
      ]
     },
     "execution_count": 15,
     "metadata": {},
     "output_type": "execute_result"
    }
   ],
   "source": [
    "n_PR_cat"
   ]
  },
  {
   "cell_type": "code",
   "execution_count": 16,
   "metadata": {},
   "outputs": [],
   "source": [
    "DX1_series = all_df['DX1'].astype('category')\n",
    "DX1_cat = DX1_series.cat.categories\n",
    "DX1_int_cat = range(len(DX1_cat))\n",
    "\n",
    "DX1_dict = dict(zip(DX1_cat, DX1_int_cat))"
   ]
  },
  {
   "cell_type": "code",
   "execution_count": 16,
   "metadata": {},
   "outputs": [],
   "source": [
    "hosp_series = all_df['HOSP_NRD'].astype('category')\n",
    "hosp_cat = hosp_series.cat.categories\n",
    "\n",
    "hosp_dict = dict(zip(hosp_cat, range(len(hosp_cat))))"
   ]
  },
  {
   "cell_type": "markdown",
   "metadata": {},
   "source": [
    "## Multi-Level CCS Codes"
   ]
  },
  {
   "cell_type": "markdown",
   "metadata": {},
   "source": [
    "### Define the parent matrix"
   ]
  },
  {
   "cell_type": "markdown",
   "metadata": {},
   "source": [
    "Read the ICD9 CCS multi-level category dictionary file. "
   ]
  },
  {
   "cell_type": "code",
   "execution_count": null,
   "metadata": {},
   "outputs": [],
   "source": [
    "from ccs_tools import dx_label"
   ]
  },
  {
   "cell_type": "code",
   "execution_count": 22,
   "metadata": {},
   "outputs": [],
   "source": [
    "rare_desc = icd_dict.loc[icd_dict.dgns_cd.isin(rare_code), ['dgns_cd', 'longdesc']]"
   ]
  },
  {
   "cell_type": "code",
   "execution_count": 23,
   "metadata": {},
   "outputs": [],
   "source": [
    "rare_desc.to_csv(path+'rare_icd9.csv', index=False)"
   ]
  },
  {
   "cell_type": "code",
   "execution_count": 31,
   "metadata": {},
   "outputs": [
    {
     "data": {
      "text/plain": [
       "Injury and poisoning                                                                 2764\n",
       "Residual codes; unclassified; all E codes [259. and 260.]                            1589\n",
       "Diseases of the nervous system and sense organs                                      1587\n",
       "Infectious and parasitic diseases                                                    1226\n",
       "Complications of pregnancy; childbirth; and the puerperium                           1205\n",
       "Neoplasms                                                                            1114\n",
       "Diseases of the musculoskeletal system and connective tissue                          863\n",
       "Diseases of the digestive system                                                      757\n",
       "Mental Illness                                                                        597\n",
       "Diseases of the circulatory system                                                    553\n",
       "Diseases of the genitourinary system                                                  498\n",
       "Endocrine; nutritional; and metabolic diseases and immunity disorders                 445\n",
       "Congenital anomalies                                                                  444\n",
       "Symptoms; signs; and ill-defined conditions and factors influencing health status     403\n",
       "Certain conditions originating in the perinatal period                                351\n",
       "Diseases of the respiratory system                                                    342\n",
       "Diseases of the skin and subcutaneous tissue                                          190\n",
       "Diseases of the blood and blood-forming organs                                        134\n",
       "Mental illness                                                                         10\n",
       "Name: CCS_LVL1_LABEL, dtype: int64"
      ]
     },
     "execution_count": 31,
     "metadata": {},
     "output_type": "execute_result"
    }
   ],
   "source": [
    "dx_multi.CCS_LVL1_LABEL.value_counts()"
   ]
  },
  {
   "cell_type": "markdown",
   "metadata": {},
   "source": [
    "Create one list to store all possible ICD9 code and their CCS multi-level in a list. Creat two dataframe to store the parent of each code and the indices of the parent. "
   ]
  },
  {
   "cell_type": "code",
   "execution_count": 32,
   "metadata": {},
   "outputs": [],
   "source": [
    "dx_multi_ami = dx_multi.loc[dx_multi.ICD9CM_CODE.isin(DX_cat)]"
   ]
  },
  {
   "cell_type": "code",
   "execution_count": 33,
   "metadata": {
    "scrolled": true
   },
   "outputs": [
    {
     "data": {
      "text/plain": [
       "(5250, 9)"
      ]
     },
     "execution_count": 33,
     "metadata": {},
     "output_type": "execute_result"
    }
   ],
   "source": [
    "dx_multi_ami.shape"
   ]
  },
  {
   "cell_type": "code",
   "execution_count": 19,
   "metadata": {},
   "outputs": [],
   "source": [
    "ccs_cat = pd.concat([ami_ccs.CCS_LVL1, ami_ccs.CCS_LVL2, ami_ccs.CCS_LVL3, ami_ccs.CCS_LVL4]).astype('category').cat.categories"
   ]
  },
  {
   "cell_type": "code",
   "execution_count": 165,
   "metadata": {},
   "outputs": [
    {
     "data": {
      "text/plain": [
       "562"
      ]
     },
     "execution_count": 165,
     "metadata": {},
     "output_type": "execute_result"
    }
   ],
   "source": [
    "len(ccs_cat)"
   ]
  },
  {
   "cell_type": "code",
   "execution_count": 20,
   "metadata": {},
   "outputs": [],
   "source": [
    "all_codes = [DX_cat[-1]]+list(DX_cat[:-1]) + list(ccs_cat[1:])"
   ]
  },
  {
   "cell_type": "code",
   "execution_count": 21,
   "metadata": {},
   "outputs": [
    {
     "data": {
      "text/plain": [
       "5891"
      ]
     },
     "execution_count": 21,
     "metadata": {},
     "output_type": "execute_result"
    }
   ],
   "source": [
    "len(all_codes)"
   ]
  },
  {
   "cell_type": "code",
   "execution_count": 22,
   "metadata": {},
   "outputs": [],
   "source": [
    "def get_CCS_ind(code):\n",
    "    try:\n",
    "        ind = all_codes.index(code)\n",
    "    except ValueError:\n",
    "        ind = -1\n",
    "    return ind\n",
    "\n",
    "def get_CCS_lvl(code):\n",
    "    if code=='':\n",
    "        return 0\n",
    "    else:\n",
    "        lvl = len(code.split('.'))\n",
    "        return lvl"
   ]
  },
  {
   "cell_type": "code",
   "execution_count": 23,
   "metadata": {
    "scrolled": false
   },
   "outputs": [],
   "source": [
    "ami_ccs = ami_ccs.set_index(ami_ccs.ICD9CM_CODE, drop=True).drop(['ICD9CM_CODE'], axis=1)\n",
    "\n",
    "ami_ccs['finest_non_empty'] = ami_ccs.CCS_LVL4\n",
    "ami_ccs.finest_non_empty[ami_ccs.finest_non_empty==''] = ami_ccs.CCS_LVL3[ami_ccs.finest_non_empty == '']\n",
    "ami_ccs.finest_non_empty[ami_ccs.finest_non_empty==''] = ami_ccs.CCS_LVL2[ami_ccs.finest_non_empty == '']\n",
    "ami_ccs.finest_non_empty[ami_ccs.finest_non_empty==''] = ami_ccs.CCS_LVL1[ami_ccs.finest_non_empty == '']\n",
    "\n",
    "DX_parent = ami_ccs[['finest_non_empty']]\n",
    "\n",
    "DX_parent.columns = ['parent_code']\n",
    "\n",
    "DX_parent = DX_parent.assign(parent_index=DX_parent.parent_code.apply(lambda x:all_codes.index(x)).values)\n",
    "DX_parent = DX_parent.assign(parent_level=DX_parent.parent_code.apply(get_CCS_lvl).values)\n",
    "DX_parent = DX_parent.append(pd.DataFrame(index=['missing'], data=dict(parent_code = ['NA'], \n",
    "                                                                                       parent_index=[-1], parent_level=[0])))"
   ]
  },
  {
   "cell_type": "code",
   "execution_count": 24,
   "metadata": {},
   "outputs": [],
   "source": [
    "CCS_parent = pd.DataFrame(dict(CCS_code=ccs_cat[1:]))\n",
    "\n",
    "CCS_parent = CCS_parent.assign(parent_code=CCS_parent.CCS_code.apply(lambda x:'.'.join(x.split('.')[:-1])))\n",
    "\n",
    "CCS_parent = CCS_parent.assign(parent_index=CCS_parent.parent_code.apply(get_CCS_ind).values)\n",
    "CCS_parent = CCS_parent.assign(parent_level=CCS_parent.parent_code.apply(get_CCS_lvl).values)\n",
    "CCS_parent = CCS_parent.set_index(CCS_parent.CCS_code, drop=True).drop(['CCS_code'], axis=1)"
   ]
  },
  {
   "cell_type": "code",
   "execution_count": 52,
   "metadata": {
    "scrolled": true
   },
   "outputs": [
    {
     "data": {
      "text/html": [
       "<div>\n",
       "<style scoped>\n",
       "    .dataframe tbody tr th:only-of-type {\n",
       "        vertical-align: middle;\n",
       "    }\n",
       "\n",
       "    .dataframe tbody tr th {\n",
       "        vertical-align: top;\n",
       "    }\n",
       "\n",
       "    .dataframe thead th {\n",
       "        text-align: right;\n",
       "    }\n",
       "</style>\n",
       "<table border=\"1\" class=\"dataframe\">\n",
       "  <thead>\n",
       "    <tr style=\"text-align: right;\">\n",
       "      <th></th>\n",
       "      <th>parent_code</th>\n",
       "      <th>parent_index</th>\n",
       "      <th>parent_level</th>\n",
       "    </tr>\n",
       "    <tr>\n",
       "      <th>CCS_code</th>\n",
       "      <th></th>\n",
       "      <th></th>\n",
       "      <th></th>\n",
       "    </tr>\n",
       "  </thead>\n",
       "  <tbody>\n",
       "    <tr>\n",
       "      <th>1</th>\n",
       "      <td></td>\n",
       "      <td>-1</td>\n",
       "      <td>0</td>\n",
       "    </tr>\n",
       "    <tr>\n",
       "      <th>1.1</th>\n",
       "      <td>1</td>\n",
       "      <td>2378</td>\n",
       "      <td>1</td>\n",
       "    </tr>\n",
       "    <tr>\n",
       "      <th>1.1.1</th>\n",
       "      <td>1.1</td>\n",
       "      <td>2379</td>\n",
       "      <td>2</td>\n",
       "    </tr>\n",
       "    <tr>\n",
       "      <th>1.1.2</th>\n",
       "      <td>1.1</td>\n",
       "      <td>2379</td>\n",
       "      <td>2</td>\n",
       "    </tr>\n",
       "    <tr>\n",
       "      <th>1.1.2.1</th>\n",
       "      <td>1.1.2</td>\n",
       "      <td>2381</td>\n",
       "      <td>3</td>\n",
       "    </tr>\n",
       "    <tr>\n",
       "      <th>1.1.2.2</th>\n",
       "      <td>1.1.2</td>\n",
       "      <td>2381</td>\n",
       "      <td>3</td>\n",
       "    </tr>\n",
       "    <tr>\n",
       "      <th>1.1.2.3</th>\n",
       "      <td>1.1.2</td>\n",
       "      <td>2381</td>\n",
       "      <td>3</td>\n",
       "    </tr>\n",
       "    <tr>\n",
       "      <th>1.1.2.4</th>\n",
       "      <td>1.1.2</td>\n",
       "      <td>2381</td>\n",
       "      <td>3</td>\n",
       "    </tr>\n",
       "    <tr>\n",
       "      <th>1.1.2.5</th>\n",
       "      <td>1.1.2</td>\n",
       "      <td>2381</td>\n",
       "      <td>3</td>\n",
       "    </tr>\n",
       "    <tr>\n",
       "      <th>1.1.2.6</th>\n",
       "      <td>1.1.2</td>\n",
       "      <td>2381</td>\n",
       "      <td>3</td>\n",
       "    </tr>\n",
       "    <tr>\n",
       "      <th>1.1.3</th>\n",
       "      <td>1.1</td>\n",
       "      <td>2379</td>\n",
       "      <td>2</td>\n",
       "    </tr>\n",
       "    <tr>\n",
       "      <th>1.1.4</th>\n",
       "      <td>1.1</td>\n",
       "      <td>2379</td>\n",
       "      <td>2</td>\n",
       "    </tr>\n",
       "    <tr>\n",
       "      <th>1.2</th>\n",
       "      <td>1</td>\n",
       "      <td>2378</td>\n",
       "      <td>1</td>\n",
       "    </tr>\n",
       "    <tr>\n",
       "      <th>1.2.1</th>\n",
       "      <td>1.2</td>\n",
       "      <td>2390</td>\n",
       "      <td>2</td>\n",
       "    </tr>\n",
       "    <tr>\n",
       "      <th>1.2.2</th>\n",
       "      <td>1.2</td>\n",
       "      <td>2390</td>\n",
       "      <td>2</td>\n",
       "    </tr>\n",
       "    <tr>\n",
       "      <th>1.3</th>\n",
       "      <td>1</td>\n",
       "      <td>2378</td>\n",
       "      <td>1</td>\n",
       "    </tr>\n",
       "    <tr>\n",
       "      <th>1.3.1</th>\n",
       "      <td>1.3</td>\n",
       "      <td>2393</td>\n",
       "      <td>2</td>\n",
       "    </tr>\n",
       "    <tr>\n",
       "      <th>1.3.2</th>\n",
       "      <td>1.3</td>\n",
       "      <td>2393</td>\n",
       "      <td>2</td>\n",
       "    </tr>\n",
       "    <tr>\n",
       "      <th>1.3.3</th>\n",
       "      <td>1.3</td>\n",
       "      <td>2393</td>\n",
       "      <td>2</td>\n",
       "    </tr>\n",
       "    <tr>\n",
       "      <th>1.3.3.1</th>\n",
       "      <td>1.3.3</td>\n",
       "      <td>2396</td>\n",
       "      <td>3</td>\n",
       "    </tr>\n",
       "    <tr>\n",
       "      <th>1.3.3.2</th>\n",
       "      <td>1.3.3</td>\n",
       "      <td>2396</td>\n",
       "      <td>3</td>\n",
       "    </tr>\n",
       "    <tr>\n",
       "      <th>1.3.3.3</th>\n",
       "      <td>1.3.3</td>\n",
       "      <td>2396</td>\n",
       "      <td>3</td>\n",
       "    </tr>\n",
       "    <tr>\n",
       "      <th>1.4</th>\n",
       "      <td>1</td>\n",
       "      <td>2378</td>\n",
       "      <td>1</td>\n",
       "    </tr>\n",
       "    <tr>\n",
       "      <th>1.5</th>\n",
       "      <td>1</td>\n",
       "      <td>2378</td>\n",
       "      <td>1</td>\n",
       "    </tr>\n",
       "    <tr>\n",
       "      <th>10</th>\n",
       "      <td></td>\n",
       "      <td>-1</td>\n",
       "      <td>0</td>\n",
       "    </tr>\n",
       "    <tr>\n",
       "      <th>10.1</th>\n",
       "      <td>10</td>\n",
       "      <td>2402</td>\n",
       "      <td>1</td>\n",
       "    </tr>\n",
       "    <tr>\n",
       "      <th>10.1.1</th>\n",
       "      <td>10.1</td>\n",
       "      <td>2403</td>\n",
       "      <td>2</td>\n",
       "    </tr>\n",
       "    <tr>\n",
       "      <th>10.1.2</th>\n",
       "      <td>10.1</td>\n",
       "      <td>2403</td>\n",
       "      <td>2</td>\n",
       "    </tr>\n",
       "    <tr>\n",
       "      <th>10.1.2.1</th>\n",
       "      <td>10.1.2</td>\n",
       "      <td>2405</td>\n",
       "      <td>3</td>\n",
       "    </tr>\n",
       "    <tr>\n",
       "      <th>10.1.2.2</th>\n",
       "      <td>10.1.2</td>\n",
       "      <td>2405</td>\n",
       "      <td>3</td>\n",
       "    </tr>\n",
       "    <tr>\n",
       "      <th>...</th>\n",
       "      <td>...</td>\n",
       "      <td>...</td>\n",
       "      <td>...</td>\n",
       "    </tr>\n",
       "    <tr>\n",
       "      <th>9.6.1</th>\n",
       "      <td>9.6</td>\n",
       "      <td>2907</td>\n",
       "      <td>2</td>\n",
       "    </tr>\n",
       "    <tr>\n",
       "      <th>9.6.1.2</th>\n",
       "      <td>9.6.1</td>\n",
       "      <td>2908</td>\n",
       "      <td>3</td>\n",
       "    </tr>\n",
       "    <tr>\n",
       "      <th>9.6.2</th>\n",
       "      <td>9.6</td>\n",
       "      <td>2907</td>\n",
       "      <td>2</td>\n",
       "    </tr>\n",
       "    <tr>\n",
       "      <th>9.6.3</th>\n",
       "      <td>9.6</td>\n",
       "      <td>2907</td>\n",
       "      <td>2</td>\n",
       "    </tr>\n",
       "    <tr>\n",
       "      <th>9.6.3.1</th>\n",
       "      <td>9.6.3</td>\n",
       "      <td>2911</td>\n",
       "      <td>3</td>\n",
       "    </tr>\n",
       "    <tr>\n",
       "      <th>9.6.3.2</th>\n",
       "      <td>9.6.3</td>\n",
       "      <td>2911</td>\n",
       "      <td>3</td>\n",
       "    </tr>\n",
       "    <tr>\n",
       "      <th>9.6.3.3</th>\n",
       "      <td>9.6.3</td>\n",
       "      <td>2911</td>\n",
       "      <td>3</td>\n",
       "    </tr>\n",
       "    <tr>\n",
       "      <th>9.6.3.4</th>\n",
       "      <td>9.6.3</td>\n",
       "      <td>2911</td>\n",
       "      <td>3</td>\n",
       "    </tr>\n",
       "    <tr>\n",
       "      <th>9.6.4</th>\n",
       "      <td>9.6</td>\n",
       "      <td>2907</td>\n",
       "      <td>2</td>\n",
       "    </tr>\n",
       "    <tr>\n",
       "      <th>9.6.4.1</th>\n",
       "      <td>9.6.4</td>\n",
       "      <td>2916</td>\n",
       "      <td>3</td>\n",
       "    </tr>\n",
       "    <tr>\n",
       "      <th>9.6.4.2</th>\n",
       "      <td>9.6.4</td>\n",
       "      <td>2916</td>\n",
       "      <td>3</td>\n",
       "    </tr>\n",
       "    <tr>\n",
       "      <th>9.6.5</th>\n",
       "      <td>9.6</td>\n",
       "      <td>2907</td>\n",
       "      <td>2</td>\n",
       "    </tr>\n",
       "    <tr>\n",
       "      <th>9.6.6</th>\n",
       "      <td>9.6</td>\n",
       "      <td>2907</td>\n",
       "      <td>2</td>\n",
       "    </tr>\n",
       "    <tr>\n",
       "      <th>9.7</th>\n",
       "      <td>9</td>\n",
       "      <td>2865</td>\n",
       "      <td>1</td>\n",
       "    </tr>\n",
       "    <tr>\n",
       "      <th>9.7.1</th>\n",
       "      <td>9.7</td>\n",
       "      <td>2921</td>\n",
       "      <td>2</td>\n",
       "    </tr>\n",
       "    <tr>\n",
       "      <th>9.7.2</th>\n",
       "      <td>9.7</td>\n",
       "      <td>2921</td>\n",
       "      <td>2</td>\n",
       "    </tr>\n",
       "    <tr>\n",
       "      <th>9.7.3</th>\n",
       "      <td>9.7</td>\n",
       "      <td>2921</td>\n",
       "      <td>2</td>\n",
       "    </tr>\n",
       "    <tr>\n",
       "      <th>9.7.4</th>\n",
       "      <td>9.7</td>\n",
       "      <td>2921</td>\n",
       "      <td>2</td>\n",
       "    </tr>\n",
       "    <tr>\n",
       "      <th>9.7.5</th>\n",
       "      <td>9.7</td>\n",
       "      <td>2921</td>\n",
       "      <td>2</td>\n",
       "    </tr>\n",
       "    <tr>\n",
       "      <th>9.7.6</th>\n",
       "      <td>9.7</td>\n",
       "      <td>2921</td>\n",
       "      <td>2</td>\n",
       "    </tr>\n",
       "    <tr>\n",
       "      <th>9.8</th>\n",
       "      <td>9</td>\n",
       "      <td>2865</td>\n",
       "      <td>1</td>\n",
       "    </tr>\n",
       "    <tr>\n",
       "      <th>9.8.2</th>\n",
       "      <td>9.8</td>\n",
       "      <td>2928</td>\n",
       "      <td>2</td>\n",
       "    </tr>\n",
       "    <tr>\n",
       "      <th>9.8.2.1</th>\n",
       "      <td>9.8.2</td>\n",
       "      <td>2929</td>\n",
       "      <td>3</td>\n",
       "    </tr>\n",
       "    <tr>\n",
       "      <th>9.8.2.2</th>\n",
       "      <td>9.8.2</td>\n",
       "      <td>2929</td>\n",
       "      <td>3</td>\n",
       "    </tr>\n",
       "    <tr>\n",
       "      <th>9.8.2.3</th>\n",
       "      <td>9.8.2</td>\n",
       "      <td>2929</td>\n",
       "      <td>3</td>\n",
       "    </tr>\n",
       "    <tr>\n",
       "      <th>9.8.2.4</th>\n",
       "      <td>9.8.2</td>\n",
       "      <td>2929</td>\n",
       "      <td>3</td>\n",
       "    </tr>\n",
       "    <tr>\n",
       "      <th>9.9</th>\n",
       "      <td>9</td>\n",
       "      <td>2865</td>\n",
       "      <td>1</td>\n",
       "    </tr>\n",
       "    <tr>\n",
       "      <th>9.9.1</th>\n",
       "      <td>9.9</td>\n",
       "      <td>2934</td>\n",
       "      <td>2</td>\n",
       "    </tr>\n",
       "    <tr>\n",
       "      <th>9.9.2</th>\n",
       "      <td>9.9</td>\n",
       "      <td>2934</td>\n",
       "      <td>2</td>\n",
       "    </tr>\n",
       "    <tr>\n",
       "      <th>9.9.3</th>\n",
       "      <td>9.9</td>\n",
       "      <td>2934</td>\n",
       "      <td>2</td>\n",
       "    </tr>\n",
       "  </tbody>\n",
       "</table>\n",
       "<p>560 rows × 3 columns</p>\n",
       "</div>"
      ],
      "text/plain": [
       "         parent_code  parent_index  parent_level\n",
       "CCS_code                                        \n",
       "1                               -1             0\n",
       "1.1                1          2378             1\n",
       "1.1.1            1.1          2379             2\n",
       "1.1.2            1.1          2379             2\n",
       "1.1.2.1        1.1.2          2381             3\n",
       "1.1.2.2        1.1.2          2381             3\n",
       "1.1.2.3        1.1.2          2381             3\n",
       "1.1.2.4        1.1.2          2381             3\n",
       "1.1.2.5        1.1.2          2381             3\n",
       "1.1.2.6        1.1.2          2381             3\n",
       "1.1.3            1.1          2379             2\n",
       "1.1.4            1.1          2379             2\n",
       "1.2                1          2378             1\n",
       "1.2.1            1.2          2390             2\n",
       "1.2.2            1.2          2390             2\n",
       "1.3                1          2378             1\n",
       "1.3.1            1.3          2393             2\n",
       "1.3.2            1.3          2393             2\n",
       "1.3.3            1.3          2393             2\n",
       "1.3.3.1        1.3.3          2396             3\n",
       "1.3.3.2        1.3.3          2396             3\n",
       "1.3.3.3        1.3.3          2396             3\n",
       "1.4                1          2378             1\n",
       "1.5                1          2378             1\n",
       "10                              -1             0\n",
       "10.1              10          2402             1\n",
       "10.1.1          10.1          2403             2\n",
       "10.1.2          10.1          2403             2\n",
       "10.1.2.1      10.1.2          2405             3\n",
       "10.1.2.2      10.1.2          2405             3\n",
       "...              ...           ...           ...\n",
       "9.6.1            9.6          2907             2\n",
       "9.6.1.2        9.6.1          2908             3\n",
       "9.6.2            9.6          2907             2\n",
       "9.6.3            9.6          2907             2\n",
       "9.6.3.1        9.6.3          2911             3\n",
       "9.6.3.2        9.6.3          2911             3\n",
       "9.6.3.3        9.6.3          2911             3\n",
       "9.6.3.4        9.6.3          2911             3\n",
       "9.6.4            9.6          2907             2\n",
       "9.6.4.1        9.6.4          2916             3\n",
       "9.6.4.2        9.6.4          2916             3\n",
       "9.6.5            9.6          2907             2\n",
       "9.6.6            9.6          2907             2\n",
       "9.7                9          2865             1\n",
       "9.7.1            9.7          2921             2\n",
       "9.7.2            9.7          2921             2\n",
       "9.7.3            9.7          2921             2\n",
       "9.7.4            9.7          2921             2\n",
       "9.7.5            9.7          2921             2\n",
       "9.7.6            9.7          2921             2\n",
       "9.8                9          2865             1\n",
       "9.8.2            9.8          2928             2\n",
       "9.8.2.1        9.8.2          2929             3\n",
       "9.8.2.2        9.8.2          2929             3\n",
       "9.8.2.3        9.8.2          2929             3\n",
       "9.8.2.4        9.8.2          2929             3\n",
       "9.9                9          2865             1\n",
       "9.9.1            9.9          2934             2\n",
       "9.9.2            9.9          2934             2\n",
       "9.9.3            9.9          2934             2\n",
       "\n",
       "[560 rows x 3 columns]"
      ]
     },
     "execution_count": 52,
     "metadata": {},
     "output_type": "execute_result"
    }
   ],
   "source": [
    "CCS_parent"
   ]
  },
  {
   "cell_type": "code",
   "execution_count": 53,
   "metadata": {
    "scrolled": true
   },
   "outputs": [
    {
     "data": {
      "text/html": [
       "<div>\n",
       "<style scoped>\n",
       "    .dataframe tbody tr th:only-of-type {\n",
       "        vertical-align: middle;\n",
       "    }\n",
       "\n",
       "    .dataframe tbody tr th {\n",
       "        vertical-align: top;\n",
       "    }\n",
       "\n",
       "    .dataframe thead th {\n",
       "        text-align: right;\n",
       "    }\n",
       "</style>\n",
       "<table border=\"1\" class=\"dataframe\">\n",
       "  <thead>\n",
       "    <tr style=\"text-align: right;\">\n",
       "      <th></th>\n",
       "      <th>parent_code</th>\n",
       "      <th>parent_index</th>\n",
       "      <th>parent_level</th>\n",
       "    </tr>\n",
       "  </thead>\n",
       "  <tbody>\n",
       "    <tr>\n",
       "      <th>01190</th>\n",
       "      <td>1.1.1</td>\n",
       "      <td>2380</td>\n",
       "      <td>3</td>\n",
       "    </tr>\n",
       "    <tr>\n",
       "      <th>V1201</th>\n",
       "      <td>1.1.1</td>\n",
       "      <td>2380</td>\n",
       "      <td>3</td>\n",
       "    </tr>\n",
       "    <tr>\n",
       "      <th>0380</th>\n",
       "      <td>1.1.2.1</td>\n",
       "      <td>2382</td>\n",
       "      <td>4</td>\n",
       "    </tr>\n",
       "    <tr>\n",
       "      <th>03810</th>\n",
       "      <td>1.1.2.2</td>\n",
       "      <td>2383</td>\n",
       "      <td>4</td>\n",
       "    </tr>\n",
       "    <tr>\n",
       "      <th>03811</th>\n",
       "      <td>1.1.2.2</td>\n",
       "      <td>2383</td>\n",
       "      <td>4</td>\n",
       "    </tr>\n",
       "    <tr>\n",
       "      <th>03812</th>\n",
       "      <td>1.1.2.2</td>\n",
       "      <td>2383</td>\n",
       "      <td>4</td>\n",
       "    </tr>\n",
       "    <tr>\n",
       "      <th>03819</th>\n",
       "      <td>1.1.2.2</td>\n",
       "      <td>2383</td>\n",
       "      <td>4</td>\n",
       "    </tr>\n",
       "    <tr>\n",
       "      <th>03842</th>\n",
       "      <td>1.1.2.3</td>\n",
       "      <td>2384</td>\n",
       "      <td>4</td>\n",
       "    </tr>\n",
       "    <tr>\n",
       "      <th>03840</th>\n",
       "      <td>1.1.2.4</td>\n",
       "      <td>2385</td>\n",
       "      <td>4</td>\n",
       "    </tr>\n",
       "    <tr>\n",
       "      <th>03843</th>\n",
       "      <td>1.1.2.4</td>\n",
       "      <td>2385</td>\n",
       "      <td>4</td>\n",
       "    </tr>\n",
       "    <tr>\n",
       "      <th>03849</th>\n",
       "      <td>1.1.2.4</td>\n",
       "      <td>2385</td>\n",
       "      <td>4</td>\n",
       "    </tr>\n",
       "    <tr>\n",
       "      <th>0382</th>\n",
       "      <td>1.1.2.5</td>\n",
       "      <td>2386</td>\n",
       "      <td>4</td>\n",
       "    </tr>\n",
       "    <tr>\n",
       "      <th>0383</th>\n",
       "      <td>1.1.2.5</td>\n",
       "      <td>2386</td>\n",
       "      <td>4</td>\n",
       "    </tr>\n",
       "    <tr>\n",
       "      <th>0388</th>\n",
       "      <td>1.1.2.6</td>\n",
       "      <td>2387</td>\n",
       "      <td>4</td>\n",
       "    </tr>\n",
       "    <tr>\n",
       "      <th>0389</th>\n",
       "      <td>1.1.2.6</td>\n",
       "      <td>2387</td>\n",
       "      <td>4</td>\n",
       "    </tr>\n",
       "    <tr>\n",
       "      <th>449</th>\n",
       "      <td>1.1.2.6</td>\n",
       "      <td>2387</td>\n",
       "      <td>4</td>\n",
       "    </tr>\n",
       "    <tr>\n",
       "      <th>7907</th>\n",
       "      <td>1.1.2.6</td>\n",
       "      <td>2387</td>\n",
       "      <td>4</td>\n",
       "    </tr>\n",
       "    <tr>\n",
       "      <th>99591</th>\n",
       "      <td>1.1.2.6</td>\n",
       "      <td>2387</td>\n",
       "      <td>4</td>\n",
       "    </tr>\n",
       "    <tr>\n",
       "      <th>99592</th>\n",
       "      <td>1.1.2.6</td>\n",
       "      <td>2387</td>\n",
       "      <td>4</td>\n",
       "    </tr>\n",
       "    <tr>\n",
       "      <th>0940</th>\n",
       "      <td>1.1.3</td>\n",
       "      <td>2388</td>\n",
       "      <td>3</td>\n",
       "    </tr>\n",
       "    <tr>\n",
       "      <th>0941</th>\n",
       "      <td>1.1.3</td>\n",
       "      <td>2388</td>\n",
       "      <td>3</td>\n",
       "    </tr>\n",
       "    <tr>\n",
       "      <th>0971</th>\n",
       "      <td>1.1.3</td>\n",
       "      <td>2388</td>\n",
       "      <td>3</td>\n",
       "    </tr>\n",
       "    <tr>\n",
       "      <th>0312</th>\n",
       "      <td>1.1.4</td>\n",
       "      <td>2389</td>\n",
       "      <td>3</td>\n",
       "    </tr>\n",
       "    <tr>\n",
       "      <th>04100</th>\n",
       "      <td>1.1.4</td>\n",
       "      <td>2389</td>\n",
       "      <td>3</td>\n",
       "    </tr>\n",
       "    <tr>\n",
       "      <th>04101</th>\n",
       "      <td>1.1.4</td>\n",
       "      <td>2389</td>\n",
       "      <td>3</td>\n",
       "    </tr>\n",
       "    <tr>\n",
       "      <th>04102</th>\n",
       "      <td>1.1.4</td>\n",
       "      <td>2389</td>\n",
       "      <td>3</td>\n",
       "    </tr>\n",
       "    <tr>\n",
       "      <th>04104</th>\n",
       "      <td>1.1.4</td>\n",
       "      <td>2389</td>\n",
       "      <td>3</td>\n",
       "    </tr>\n",
       "    <tr>\n",
       "      <th>04109</th>\n",
       "      <td>1.1.4</td>\n",
       "      <td>2389</td>\n",
       "      <td>3</td>\n",
       "    </tr>\n",
       "    <tr>\n",
       "      <th>04110</th>\n",
       "      <td>1.1.4</td>\n",
       "      <td>2389</td>\n",
       "      <td>3</td>\n",
       "    </tr>\n",
       "    <tr>\n",
       "      <th>04111</th>\n",
       "      <td>1.1.4</td>\n",
       "      <td>2389</td>\n",
       "      <td>3</td>\n",
       "    </tr>\n",
       "    <tr>\n",
       "      <th>...</th>\n",
       "      <td>...</td>\n",
       "      <td>...</td>\n",
       "      <td>...</td>\n",
       "    </tr>\n",
       "    <tr>\n",
       "      <th>V620</th>\n",
       "      <td>17.2.2</td>\n",
       "      <td>2577</td>\n",
       "      <td>3</td>\n",
       "    </tr>\n",
       "    <tr>\n",
       "      <th>V626</th>\n",
       "      <td>17.2.2</td>\n",
       "      <td>2577</td>\n",
       "      <td>3</td>\n",
       "    </tr>\n",
       "    <tr>\n",
       "      <th>V6282</th>\n",
       "      <td>17.2.2</td>\n",
       "      <td>2577</td>\n",
       "      <td>3</td>\n",
       "    </tr>\n",
       "    <tr>\n",
       "      <th>V6289</th>\n",
       "      <td>17.2.2</td>\n",
       "      <td>2577</td>\n",
       "      <td>3</td>\n",
       "    </tr>\n",
       "    <tr>\n",
       "      <th>V632</th>\n",
       "      <td>17.2.2</td>\n",
       "      <td>2577</td>\n",
       "      <td>3</td>\n",
       "    </tr>\n",
       "    <tr>\n",
       "      <th>V652</th>\n",
       "      <td>17.2.2</td>\n",
       "      <td>2577</td>\n",
       "      <td>3</td>\n",
       "    </tr>\n",
       "    <tr>\n",
       "      <th>V653</th>\n",
       "      <td>17.2.2</td>\n",
       "      <td>2577</td>\n",
       "      <td>3</td>\n",
       "    </tr>\n",
       "    <tr>\n",
       "      <th>V6549</th>\n",
       "      <td>17.2.2</td>\n",
       "      <td>2577</td>\n",
       "      <td>3</td>\n",
       "    </tr>\n",
       "    <tr>\n",
       "      <th>V689</th>\n",
       "      <td>17.2.2</td>\n",
       "      <td>2577</td>\n",
       "      <td>3</td>\n",
       "    </tr>\n",
       "    <tr>\n",
       "      <th>V707</th>\n",
       "      <td>17.2.3</td>\n",
       "      <td>2578</td>\n",
       "      <td>3</td>\n",
       "    </tr>\n",
       "    <tr>\n",
       "      <th>V7281</th>\n",
       "      <td>17.2.3</td>\n",
       "      <td>2578</td>\n",
       "      <td>3</td>\n",
       "    </tr>\n",
       "    <tr>\n",
       "      <th>V7283</th>\n",
       "      <td>17.2.3</td>\n",
       "      <td>2578</td>\n",
       "      <td>3</td>\n",
       "    </tr>\n",
       "    <tr>\n",
       "      <th>V5481</th>\n",
       "      <td>17.2.4</td>\n",
       "      <td>2579</td>\n",
       "      <td>3</td>\n",
       "    </tr>\n",
       "    <tr>\n",
       "      <th>V5489</th>\n",
       "      <td>17.2.4</td>\n",
       "      <td>2579</td>\n",
       "      <td>3</td>\n",
       "    </tr>\n",
       "    <tr>\n",
       "      <th>V549</th>\n",
       "      <td>17.2.4</td>\n",
       "      <td>2579</td>\n",
       "      <td>3</td>\n",
       "    </tr>\n",
       "    <tr>\n",
       "      <th>V5831</th>\n",
       "      <td>17.2.4</td>\n",
       "      <td>2579</td>\n",
       "      <td>3</td>\n",
       "    </tr>\n",
       "    <tr>\n",
       "      <th>V5849</th>\n",
       "      <td>17.2.4</td>\n",
       "      <td>2579</td>\n",
       "      <td>3</td>\n",
       "    </tr>\n",
       "    <tr>\n",
       "      <th>V5861</th>\n",
       "      <td>17.2.4</td>\n",
       "      <td>2579</td>\n",
       "      <td>3</td>\n",
       "    </tr>\n",
       "    <tr>\n",
       "      <th>V5862</th>\n",
       "      <td>17.2.4</td>\n",
       "      <td>2579</td>\n",
       "      <td>3</td>\n",
       "    </tr>\n",
       "    <tr>\n",
       "      <th>V5863</th>\n",
       "      <td>17.2.4</td>\n",
       "      <td>2579</td>\n",
       "      <td>3</td>\n",
       "    </tr>\n",
       "    <tr>\n",
       "      <th>V5864</th>\n",
       "      <td>17.2.4</td>\n",
       "      <td>2579</td>\n",
       "      <td>3</td>\n",
       "    </tr>\n",
       "    <tr>\n",
       "      <th>V5865</th>\n",
       "      <td>17.2.4</td>\n",
       "      <td>2579</td>\n",
       "      <td>3</td>\n",
       "    </tr>\n",
       "    <tr>\n",
       "      <th>V5866</th>\n",
       "      <td>17.2.4</td>\n",
       "      <td>2579</td>\n",
       "      <td>3</td>\n",
       "    </tr>\n",
       "    <tr>\n",
       "      <th>V5867</th>\n",
       "      <td>17.2.4</td>\n",
       "      <td>2579</td>\n",
       "      <td>3</td>\n",
       "    </tr>\n",
       "    <tr>\n",
       "      <th>V5868</th>\n",
       "      <td>17.2.4</td>\n",
       "      <td>2579</td>\n",
       "      <td>3</td>\n",
       "    </tr>\n",
       "    <tr>\n",
       "      <th>V5869</th>\n",
       "      <td>17.2.4</td>\n",
       "      <td>2579</td>\n",
       "      <td>3</td>\n",
       "    </tr>\n",
       "    <tr>\n",
       "      <th>V5873</th>\n",
       "      <td>17.2.4</td>\n",
       "      <td>2579</td>\n",
       "      <td>3</td>\n",
       "    </tr>\n",
       "    <tr>\n",
       "      <th>V5883</th>\n",
       "      <td>17.2.4</td>\n",
       "      <td>2579</td>\n",
       "      <td>3</td>\n",
       "    </tr>\n",
       "    <tr>\n",
       "      <th>V667</th>\n",
       "      <td>17.2.4</td>\n",
       "      <td>2579</td>\n",
       "      <td>3</td>\n",
       "    </tr>\n",
       "    <tr>\n",
       "      <th>missing</th>\n",
       "      <td>NA</td>\n",
       "      <td>-1</td>\n",
       "      <td>0</td>\n",
       "    </tr>\n",
       "  </tbody>\n",
       "</table>\n",
       "<p>2378 rows × 3 columns</p>\n",
       "</div>"
      ],
      "text/plain": [
       "        parent_code  parent_index  parent_level\n",
       "01190         1.1.1          2380             3\n",
       "V1201         1.1.1          2380             3\n",
       "0380        1.1.2.1          2382             4\n",
       "03810       1.1.2.2          2383             4\n",
       "03811       1.1.2.2          2383             4\n",
       "03812       1.1.2.2          2383             4\n",
       "03819       1.1.2.2          2383             4\n",
       "03842       1.1.2.3          2384             4\n",
       "03840       1.1.2.4          2385             4\n",
       "03843       1.1.2.4          2385             4\n",
       "03849       1.1.2.4          2385             4\n",
       "0382        1.1.2.5          2386             4\n",
       "0383        1.1.2.5          2386             4\n",
       "0388        1.1.2.6          2387             4\n",
       "0389        1.1.2.6          2387             4\n",
       "449         1.1.2.6          2387             4\n",
       "7907        1.1.2.6          2387             4\n",
       "99591       1.1.2.6          2387             4\n",
       "99592       1.1.2.6          2387             4\n",
       "0940          1.1.3          2388             3\n",
       "0941          1.1.3          2388             3\n",
       "0971          1.1.3          2388             3\n",
       "0312          1.1.4          2389             3\n",
       "04100         1.1.4          2389             3\n",
       "04101         1.1.4          2389             3\n",
       "04102         1.1.4          2389             3\n",
       "04104         1.1.4          2389             3\n",
       "04109         1.1.4          2389             3\n",
       "04110         1.1.4          2389             3\n",
       "04111         1.1.4          2389             3\n",
       "...             ...           ...           ...\n",
       "V620         17.2.2          2577             3\n",
       "V626         17.2.2          2577             3\n",
       "V6282        17.2.2          2577             3\n",
       "V6289        17.2.2          2577             3\n",
       "V632         17.2.2          2577             3\n",
       "V652         17.2.2          2577             3\n",
       "V653         17.2.2          2577             3\n",
       "V6549        17.2.2          2577             3\n",
       "V689         17.2.2          2577             3\n",
       "V707         17.2.3          2578             3\n",
       "V7281        17.2.3          2578             3\n",
       "V7283        17.2.3          2578             3\n",
       "V5481        17.2.4          2579             3\n",
       "V5489        17.2.4          2579             3\n",
       "V549         17.2.4          2579             3\n",
       "V5831        17.2.4          2579             3\n",
       "V5849        17.2.4          2579             3\n",
       "V5861        17.2.4          2579             3\n",
       "V5862        17.2.4          2579             3\n",
       "V5863        17.2.4          2579             3\n",
       "V5864        17.2.4          2579             3\n",
       "V5865        17.2.4          2579             3\n",
       "V5866        17.2.4          2579             3\n",
       "V5867        17.2.4          2579             3\n",
       "V5868        17.2.4          2579             3\n",
       "V5869        17.2.4          2579             3\n",
       "V5873        17.2.4          2579             3\n",
       "V5883        17.2.4          2579             3\n",
       "V667         17.2.4          2579             3\n",
       "missing          NA            -1             0\n",
       "\n",
       "[2378 rows x 3 columns]"
      ]
     },
     "execution_count": 53,
     "metadata": {},
     "output_type": "execute_result"
    }
   ],
   "source": [
    "DX_parent"
   ]
  },
  {
   "cell_type": "code",
   "execution_count": 25,
   "metadata": {},
   "outputs": [],
   "source": [
    "parent_df = pd.concat([DX_parent, CCS_parent], axis=0)"
   ]
  },
  {
   "cell_type": "code",
   "execution_count": 28,
   "metadata": {},
   "outputs": [],
   "source": [
    "parent_mat = np.identity(len(all_codes))"
   ]
  },
  {
   "cell_type": "code",
   "execution_count": 27,
   "metadata": {
    "scrolled": true
   },
   "outputs": [],
   "source": [
    "for i, c in enumerate(all_codes):\n",
    "    parent_ind = parent_df.loc[c, 'parent_index']\n",
    "    if not parent_ind == -1:\n",
    "        parent_mat[i, parent_ind] = -1"
   ]
  },
  {
   "cell_type": "code",
   "execution_count": 29,
   "metadata": {
    "scrolled": true
   },
   "outputs": [],
   "source": [
    "for i, c in enumerate(all_codes):\n",
    "    parent_ind = parent_df.loc[c, 'parent_index']\n",
    "    parent_lvl = parent_df.loc[c, 'parent_level']\n",
    "    if not parent_ind == -1:\n",
    "        parent_mat[i, parent_ind] = -parent_lvl\n",
    "        parent_mat[i, i] = parent_lvl"
   ]
  },
  {
   "cell_type": "code",
   "execution_count": 35,
   "metadata": {
    "scrolled": true
   },
   "outputs": [],
   "source": [
    "for i, c in enumerate(all_codes):\n",
    "    parent_ind = parent_df.loc[c, 'parent_index']\n",
    "    parent_lvl = parent_df.loc[c, 'parent_level']\n",
    "    if not parent_ind == -1:\n",
    "        parent_mat[i, parent_ind] = -np.sqrt(parent_lvl)\n",
    "        parent_mat[i, i] = np.sqrt(parent_lvl)"
   ]
  },
  {
   "cell_type": "code",
   "execution_count": 30,
   "metadata": {},
   "outputs": [],
   "source": [
    "no_parent = np.where(parent_mat.sum(axis=1)>0)[0]"
   ]
  },
  {
   "cell_type": "code",
   "execution_count": 31,
   "metadata": {
    "scrolled": true
   },
   "outputs": [
    {
     "data": {
      "text/plain": [
       "array(['missing', '1', '10', '11', '12', '13', '14', '15', '16', '17',\n",
       "       '2', '3', '4', '5', '6', '7', '8', '9'], dtype='<U9')"
      ]
     },
     "execution_count": 31,
     "metadata": {},
     "output_type": "execute_result"
    }
   ],
   "source": [
    "np.array(all_codes)[no_parent]"
   ]
  },
  {
   "cell_type": "code",
   "execution_count": 32,
   "metadata": {},
   "outputs": [],
   "source": [
    "parent_mat = parent_mat[parent_mat.sum(axis=1)==0, :]"
   ]
  },
  {
   "cell_type": "code",
   "execution_count": 33,
   "metadata": {},
   "outputs": [
    {
     "data": {
      "text/plain": [
       "(5873, 5891)"
      ]
     },
     "execution_count": 33,
     "metadata": {},
     "output_type": "execute_result"
    }
   ],
   "source": [
    "parent_mat.shape"
   ]
  },
  {
   "cell_type": "code",
   "execution_count": 36,
   "metadata": {},
   "outputs": [],
   "source": [
    "np.save(path+'cohorts/ami/parent_mat3.npy', parent_mat) #code freq >= 5, no CCS cat 18"
   ]
  },
  {
   "cell_type": "markdown",
   "metadata": {},
   "source": [
    "## Further Predictors"
   ]
  },
  {
   "cell_type": "markdown",
   "metadata": {},
   "source": [
    "### Data Formatting"
   ]
  },
  {
   "cell_type": "code",
   "execution_count": 17,
   "metadata": {},
   "outputs": [],
   "source": [
    "trn_df, val_df = train_test_split(train_df, test_size=0.11, stratify=train_df.HOSP_NRD)\n",
    "N_trn = len(trn_df)\n",
    "N_val = len(val_df)\n",
    "train_df = pd.concat([trn_df, val_df])"
   ]
  },
  {
   "cell_type": "code",
   "execution_count": 18,
   "metadata": {},
   "outputs": [],
   "source": [
    "DX_df = train_df[DXs]\n",
    "\n",
    "DX_df = DX_df.fillna('missing')\n",
    "DX_df[DX_df.isin(['invl', 'incn'])] = 'missing'\n",
    "DX_df[DX_df.isin(rare_code)] = 'missing'\n",
    "DX_df[DX_df.isin(unclassified)] = 'missing'\n",
    "\n",
    "for dx in DXs:\n",
    "    DX_df[dx] = DX_df[dx].map(DX_dict)\n",
    "\n",
    "DX_mat = DX_df.values\n",
    "\n",
    "DX_mat.sort(axis=1)\n",
    "#DX_mat = DX_mat[:, ::-1]\n",
    "\n",
    "DX_mat_trn = DX_mat[:N_trn, ]\n",
    "DX_mat_val = DX_mat[N_trn:, ]"
   ]
  },
  {
   "cell_type": "code",
   "execution_count": 19,
   "metadata": {},
   "outputs": [],
   "source": [
    "PR_df = train_df[PRs]\n",
    "\n",
    "PR_df = PR_df.fillna('missing')\n",
    "PR_df[PR_df.isin(['invl', 'incn'])] = 'missing'\n",
    "PR_df[PR_df.isin(pr_rare_code)] = 'missing'\n",
    "\n",
    "for pr in PRs:\n",
    "    PR_df[pr] = PR_df[pr].map(PR_dict)\n",
    "\n",
    "PR_mat = PR_df.values\n",
    "\n",
    "PR_mat.sort(axis=1)\n",
    "#DX_mat = DX_mat[:, ::-1]\n",
    "\n",
    "PR_mat_trn = PR_mat[:N_trn, ]\n",
    "PR_mat_val = PR_mat[N_trn:, ]"
   ]
  },
  {
   "cell_type": "code",
   "execution_count": 20,
   "metadata": {},
   "outputs": [],
   "source": [
    "hosp_series = train_df['HOSP_NRD'].map(hosp_dict)\n",
    "hosp_array = hosp_series.values\n",
    "\n",
    "hosp_array_trn = hosp_array[:N_trn]\n",
    "hosp_array_val = hosp_array[N_trn:]"
   ]
  },
  {
   "cell_type": "code",
   "execution_count": 21,
   "metadata": {},
   "outputs": [],
   "source": [
    "demo_mat = train_df[['AGE', 'FEMALE']].values\n",
    "\n",
    "age_mean = train_df['AGE'].mean()\n",
    "age_std = train_df['AGE'].std()\n",
    "\n",
    "demo_mat[:, 0] = (demo_mat[:, 0]-age_mean)/age_std"
   ]
  },
  {
   "cell_type": "code",
   "execution_count": 38,
   "metadata": {},
   "outputs": [],
   "source": [
    "DX1_series = train_df['DX1'].map(DX1_dict)\n",
    "\n",
    "DX1_mat = np.zeros((len(DX1_series), len(DX1_dict)))\n",
    "for i, dx1 in enumerate(DX1_series.values):\n",
    "    DX1_mat[i, dx1] = 1"
   ]
  },
  {
   "cell_type": "code",
   "execution_count": 22,
   "metadata": {},
   "outputs": [],
   "source": [
    "pay1_mat = to_categorical(train_df.PAY1.values)[:, 1:]\n",
    "\n",
    "los_array = train_df.LOS.values\n",
    "los_mean = np.mean(los_array)\n",
    "los_std = np.std(los_array)\n",
    "los_array = (los_array - los_mean)/los_std\n",
    "\n",
    "ed_mat = to_categorical(train_df.HCUP_ED.values)\n",
    "\n",
    "zipinc_mat = to_categorical(train_df.ZIPINC_QRTL.values)[:, 1:]\n",
    "\n",
    "transfer_mat = to_categorical(train_df.SAMEDAYEVENT.values)"
   ]
  },
  {
   "cell_type": "code",
   "execution_count": 23,
   "metadata": {},
   "outputs": [],
   "source": [
    "other_mat = np.concatenate((demo_mat, pay1_mat, los_array.reshape(los_array.shape+(1,)), ed_mat, zipinc_mat, \n",
    "                            transfer_mat), axis=1)\n",
    "other_mat_trn = other_mat[:N_trn, ]\n",
    "other_mat_val = other_mat[N_trn:, ]"
   ]
  },
  {
   "cell_type": "code",
   "execution_count": 24,
   "metadata": {},
   "outputs": [],
   "source": [
    "y = train_df['readm30'].values.astype(int)\n",
    "\n",
    "Y_trn = to_categorical(y[:N_trn])\n",
    "Y_val = to_categorical(y[N_trn:])"
   ]
  },
  {
   "cell_type": "markdown",
   "metadata": {},
   "source": [
    "## Model Building"
   ]
  },
  {
   "cell_type": "code",
   "execution_count": 25,
   "metadata": {},
   "outputs": [],
   "source": [
    "from setsum_layer import SetSum, MaskedSum, MaskedDense"
   ]
  },
  {
   "cell_type": "code",
   "execution_count": 26,
   "metadata": {},
   "outputs": [],
   "source": [
    "DX_embed_dim = 100\n",
    "PR_embed_dim = 100\n",
    "hosp_embed_dim = 1"
   ]
  },
  {
   "cell_type": "code",
   "execution_count": 27,
   "metadata": {},
   "outputs": [],
   "source": [
    "embed_glove = np.load(path+'cohorts/ami/embed_mat0817.npy')"
   ]
  },
  {
   "cell_type": "code",
   "execution_count": 28,
   "metadata": {},
   "outputs": [
    {
     "data": {
      "text/plain": [
       "(6510, 100)"
      ]
     },
     "execution_count": 28,
     "metadata": {},
     "output_type": "execute_result"
    }
   ],
   "source": [
    "embed_glove.shape"
   ]
  },
  {
   "cell_type": "code",
   "execution_count": 32,
   "metadata": {},
   "outputs": [],
   "source": [
    "DX_embed_glove = embed_glove[:n_DX_cat, :]\n",
    "PR_embed_glove = embed_glove[np.r_[0, n_DX_cat:embed_glove.shape[0]]]"
   ]
  },
  {
   "cell_type": "code",
   "execution_count": 45,
   "metadata": {},
   "outputs": [],
   "source": [
    "DX_embed_glove = np.load(path+'cohorts/ami/dx_embed_glove.npy')\n",
    "PR_embed_glove = np.load(path+'cohorts/ami/pr_embed_glove.npy')"
   ]
  },
  {
   "cell_type": "code",
   "execution_count": 34,
   "metadata": {},
   "outputs": [],
   "source": [
    "input_DX = Input(shape = (N_DX,))\n",
    "DX_embed = Embedding(input_dim=n_DX_cat, output_dim=DX_embed_dim, mask_zero=True, embeddings_initializer=Constant(DX_embed_glove), \n",
    "                     name='DX_embed')(input_DX)\n",
    "\n",
    "DX_feature = MaskedDense(DX_embed_dim, activation='relu')(DX_embed)\n",
    "#DX_feature = MaskedDense(DX_embed_dim, activation='relu')(DX_feature)\n",
    "DX_feature = MaskedSum()(DX_feature)\n",
    "\n",
    "input_PR = Input(shape = (N_PR,))\n",
    "PR_embed = Embedding(input_dim=n_PR_cat, output_dim=PR_embed_dim, mask_zero=True, embeddings_initializer=Constant(PR_embed_glove),\n",
    "                     name='PR_embed')(input_PR)\n",
    "\n",
    "PR_feature = MaskedDense(PR_embed_dim, activation='relu')(PR_embed)\n",
    "PR_feature = MaskedSum()(PR_feature)\n",
    "\n",
    "input_hosp = Input(shape=(1,))\n",
    "hosp_embed = Embedding(input_dim=len(hosp_cat), output_dim=hosp_embed_dim, input_length=1)(input_hosp)\n",
    "hosp_embed = Reshape((hosp_embed_dim, ))(hosp_embed)\n",
    "\n",
    "input_other = Input(shape=(other_mat.shape[1], ))\n",
    "\n",
    "merged = Concatenate(axis=1)([DX_feature, PR_feature, hosp_embed, input_other])\n",
    "\n",
    "x = Dense(64, activation='relu')(merged)\n",
    "#x = Dense(64, activation='relu')(x)\n",
    "x = Dropout(0.3)(x)\n",
    "\n",
    "prediction = Dense(2, activation='softmax')(x)\n",
    "model = Model(inputs=[input_DX, input_PR, input_hosp, input_other], outputs=prediction)"
   ]
  },
  {
   "cell_type": "code",
   "execution_count": 35,
   "metadata": {
    "scrolled": true
   },
   "outputs": [],
   "source": [
    "for l in model.layers:\n",
    "    if l.name=='DX_embed' or l.name=='PR_embed':\n",
    "        l.trainable = False"
   ]
  },
  {
   "cell_type": "code",
   "execution_count": 36,
   "metadata": {},
   "outputs": [],
   "source": [
    "adam = Adam(lr=0.0002)\n",
    "model.compile(optimizer=adam, loss='categorical_crossentropy')"
   ]
  },
  {
   "cell_type": "code",
   "execution_count": 37,
   "metadata": {},
   "outputs": [],
   "source": [
    "checkpoint = ModelCheckpoint(filepath=model_path+'ami_ccs_glove_valloss2.h5', save_best_only=True, save_weights_only=True)\n",
    "auccheckpoint = AUCCheckPoint(filepath=model_path+'ami_ccs_glove_auc2.h5', validation_y=Y_val[:, 1], \n",
    "                             validation_x=[DX_mat_val, PR_mat_val, hosp_array_val, other_mat_val])\n",
    "reduce_lr = ReduceLROnPlateau(monitor='val_loss', factor=0.2, patience=10, min_lr=K.epsilon())\n",
    "earlystop = EarlyStopping(monitor='val_loss', patience=30)"
   ]
  },
  {
   "cell_type": "code",
   "execution_count": 38,
   "metadata": {},
   "outputs": [],
   "source": [
    "class_weight = {0:(Y_trn.shape[0]/sum(Y_trn[:, 0])), 1:(Y_trn.shape[0]/sum(Y_trn[:, 1]))}"
   ]
  },
  {
   "cell_type": "code",
   "execution_count": 39,
   "metadata": {
    "scrolled": true
   },
   "outputs": [
    {
     "name": "stdout",
     "output_type": "stream",
     "text": [
      "Train on 145667 samples, validate on 18004 samples\n",
      "Epoch 1/30\n",
      "145667/145667 [==============================] - 6s 40us/step - loss: 1.3021 - val_loss: 0.6895\n",
      "AUC: 0.7060\n",
      "\n",
      "Epoch 2/30\n",
      "145667/145667 [==============================] - 4s 30us/step - loss: 1.2638 - val_loss: 0.6309\n",
      "AUC: 0.7133\n",
      "\n",
      "Epoch 3/30\n",
      "145667/145667 [==============================] - 4s 29us/step - loss: 1.2541 - val_loss: 0.5928\n",
      "AUC: 0.7167\n",
      "\n",
      "Epoch 4/30\n",
      "145667/145667 [==============================] - 4s 30us/step - loss: 1.2485 - val_loss: 0.6336\n",
      "AUC: 0.7178\n",
      "\n",
      "Epoch 5/30\n",
      "145667/145667 [==============================] - 4s 29us/step - loss: 1.2424 - val_loss: 0.5730\n",
      "AUC: 0.7198\n",
      "\n",
      "Epoch 6/30\n",
      "145667/145667 [==============================] - 4s 30us/step - loss: 1.2377 - val_loss: 0.6649\n",
      "AUC: 0.7203\n",
      "\n",
      "Epoch 7/30\n",
      "145667/145667 [==============================] - 4s 29us/step - loss: 1.2332 - val_loss: 0.6591\n",
      "AUC: 0.7202\n",
      "\n",
      "Epoch 8/30\n",
      "145667/145667 [==============================] - 4s 29us/step - loss: 1.2273 - val_loss: 0.6219\n",
      "AUC: 0.7218\n",
      "\n",
      "Epoch 9/30\n",
      "145667/145667 [==============================] - 4s 30us/step - loss: 1.2230 - val_loss: 0.5575\n",
      "AUC: 0.7205\n",
      "\n",
      "Epoch 10/30\n",
      "145667/145667 [==============================] - 4s 29us/step - loss: 1.2183 - val_loss: 0.5963\n",
      "AUC: 0.7210\n",
      "\n",
      "Epoch 11/30\n",
      "145667/145667 [==============================] - 4s 29us/step - loss: 1.2144 - val_loss: 0.6175\n",
      "AUC: 0.7207\n",
      "\n",
      "Epoch 12/30\n",
      "145667/145667 [==============================] - 4s 29us/step - loss: 1.2110 - val_loss: 0.5936\n",
      "AUC: 0.7206\n",
      "\n",
      "Epoch 13/30\n",
      "145667/145667 [==============================] - 4s 29us/step - loss: 1.2089 - val_loss: 0.6073\n",
      "AUC: 0.7201\n",
      "\n",
      "Epoch 14/30\n",
      "145667/145667 [==============================] - 4s 29us/step - loss: 1.2029 - val_loss: 0.6368\n",
      "AUC: 0.7206\n",
      "\n",
      "Epoch 15/30\n",
      "145667/145667 [==============================] - 4s 29us/step - loss: 1.2013 - val_loss: 0.6164\n",
      "AUC: 0.7205\n",
      "\n",
      "Epoch 16/30\n",
      "145667/145667 [==============================] - 4s 29us/step - loss: 1.2007 - val_loss: 0.6192\n",
      "AUC: 0.7195\n",
      "\n",
      "Epoch 17/30\n",
      "145667/145667 [==============================] - 4s 29us/step - loss: 1.1951 - val_loss: 0.6316\n",
      "AUC: 0.7188\n",
      "\n",
      "Epoch 18/30\n",
      "145667/145667 [==============================] - 4s 29us/step - loss: 1.1943 - val_loss: 0.5638\n",
      "AUC: 0.7181\n",
      "\n",
      "Epoch 19/30\n",
      "145667/145667 [==============================] - 4s 29us/step - loss: 1.1888 - val_loss: 0.6025\n",
      "AUC: 0.7184\n",
      "\n",
      "Epoch 20/30\n",
      "145667/145667 [==============================] - 4s 29us/step - loss: 1.1816 - val_loss: 0.6042\n",
      "AUC: 0.7176\n",
      "\n",
      "Epoch 21/30\n",
      "145667/145667 [==============================] - 4s 29us/step - loss: 1.1798 - val_loss: 0.5985\n",
      "AUC: 0.7173\n",
      "\n",
      "Epoch 22/30\n",
      "145667/145667 [==============================] - 4s 29us/step - loss: 1.1779 - val_loss: 0.5944\n",
      "AUC: 0.7163\n",
      "\n",
      "Epoch 23/30\n",
      "145667/145667 [==============================] - 4s 29us/step - loss: 1.1782 - val_loss: 0.6010\n",
      "AUC: 0.7162\n",
      "\n",
      "Epoch 24/30\n",
      "145667/145667 [==============================] - 4s 29us/step - loss: 1.1768 - val_loss: 0.6027\n",
      "AUC: 0.7163\n",
      "\n",
      "Epoch 25/30\n",
      "145667/145667 [==============================] - 4s 29us/step - loss: 1.1765 - val_loss: 0.6013\n",
      "AUC: 0.7162\n",
      "\n",
      "Epoch 26/30\n",
      "145667/145667 [==============================] - 4s 29us/step - loss: 1.1754 - val_loss: 0.6179\n",
      "AUC: 0.7164\n",
      "\n",
      "Epoch 27/30\n",
      "145667/145667 [==============================] - 4s 29us/step - loss: 1.1749 - val_loss: 0.5919\n",
      "AUC: 0.7157\n",
      "\n",
      "Epoch 28/30\n",
      "145667/145667 [==============================] - 4s 30us/step - loss: 1.1754 - val_loss: 0.6058\n",
      "AUC: 0.7152\n",
      "\n",
      "Epoch 29/30\n",
      "145667/145667 [==============================] - 4s 29us/step - loss: 1.1733 - val_loss: 0.6058\n",
      "AUC: 0.7163\n",
      "\n",
      "Epoch 30/30\n",
      "145667/145667 [==============================] - 4s 29us/step - loss: 1.1713 - val_loss: 0.6074\n",
      "AUC: 0.7156\n",
      "\n"
     ]
    }
   ],
   "source": [
    "hist = model.fit([DX_mat_trn, PR_mat_trn, hosp_array_trn, other_mat_trn], Y_trn, \n",
    "                 batch_size=128, epochs=30, callbacks=[checkpoint, auccheckpoint, reduce_lr, earlystop], class_weight=class_weight, \n",
    "                 validation_data=[[DX_mat_val, PR_mat_val, hosp_array_val, other_mat_val], Y_val], \n",
    "                verbose=1)"
   ]
  },
  {
   "cell_type": "code",
   "execution_count": 40,
   "metadata": {
    "scrolled": true
   },
   "outputs": [
    {
     "data": {
      "text/plain": [
       "[<matplotlib.lines.Line2D at 0x2b4c2fb5a1d0>]"
      ]
     },
     "execution_count": 40,
     "metadata": {},
     "output_type": "execute_result"
    },
    {
     "data": {
      "image/png": "[encoded data removed]",
      "text/plain": [
       "<Figure size 432x288 with 1 Axes>"
      ]
     },
     "metadata": {},
     "output_type": "display_data"
    }
   ],
   "source": [
    "plt.plot(hist.history['val_loss'])"
   ]
  },
  {
   "cell_type": "code",
   "execution_count": 41,
   "metadata": {
    "scrolled": false
   },
   "outputs": [
    {
     "data": {
      "text/plain": [
       "[<matplotlib.lines.Line2D at 0x2b4c3c803278>]"
      ]
     },
     "execution_count": 41,
     "metadata": {},
     "output_type": "execute_result"
    },
    {
     "data": {
      "image/png": "[encoded data removed]",
      "text/plain": [
       "<Figure size 432x288 with 1 Axes>"
      ]
     },
     "metadata": {},
     "output_type": "display_data"
    }
   ],
   "source": [
    "plt.plot(auccheckpoint.auc_history)"
   ]
  },
  {
   "cell_type": "code",
   "execution_count": 42,
   "metadata": {},
   "outputs": [],
   "source": [
    "DX_df_tst = tst_df[DXs]\n",
    "DX_df_tst = DX_df_tst.fillna('missing')\n",
    "DX_df_tst[DX_df_tst.isin(['invl', 'incn'])]\n",
    "DX_df_tst[DX_df_tst.isin(rare_code)] = 'missing'\n",
    "DX_df_tst[DX_df_tst.isin(unclassified)] = 'missing'\n",
    "\n",
    "for dx in DXs:\n",
    "    DX_df_tst[dx] = DX_df_tst[dx].map(DX_dict)\n",
    "\n",
    "DX_mat_tst = DX_df_tst.values\n",
    "\n",
    "DX_mat_tst.sort(axis=1)\n",
    "#DX_mat_tst = DX_mat_tst[:, ::-1]"
   ]
  },
  {
   "cell_type": "code",
   "execution_count": 43,
   "metadata": {},
   "outputs": [],
   "source": [
    "PR_df_tst = tst_df[PRs]\n",
    "PR_df_tst = PR_df_tst.fillna('missing')\n",
    "PR_df_tst[PR_df_tst.isin(['invl', 'incn'])] = 'missing'\n",
    "PR_df_tst[PR_df_tst.isin(pr_rare_code)] = 'missing'\n",
    "\n",
    "for pr in PRs:\n",
    "    PR_df_tst[pr] = PR_df_tst[pr].map(PR_dict)\n",
    "\n",
    "PR_mat_tst = PR_df_tst.values\n",
    "PR_mat_tst.sort(axis=1)"
   ]
  },
  {
   "cell_type": "code",
   "execution_count": 44,
   "metadata": {},
   "outputs": [],
   "source": [
    "demo_mat_tst = tst_df[['AGE', 'FEMALE']].values\n",
    "demo_mat_tst[:, 0] = (demo_mat_tst[:, 0]-age_mean)/age_std"
   ]
  },
  {
   "cell_type": "code",
   "execution_count": 45,
   "metadata": {},
   "outputs": [],
   "source": [
    "hosp_array_tst = tst_df['HOSP_NRD'].map(hosp_dict).values"
   ]
  },
  {
   "cell_type": "code",
   "execution_count": 56,
   "metadata": {},
   "outputs": [],
   "source": [
    "DX1_series_tst = tst_df.DX1.map(DX1_dict)\n",
    "\n",
    "DX1_mat_tst = np.zeros((len(tst_df), len(DX1_dict)))\n",
    "for i, dx1 in enumerate(DX1_series_tst.values):\n",
    "    DX1_mat_tst[i, dx1] = 1"
   ]
  },
  {
   "cell_type": "code",
   "execution_count": 46,
   "metadata": {},
   "outputs": [],
   "source": [
    "pay1_mat_tst = to_categorical(tst_df.PAY1.values)[:, 1:]\n",
    "\n",
    "los_array_tst = (tst_df.LOS.values - los_mean)/los_std\n",
    "\n",
    "ed_mat_tst = to_categorical(tst_df.HCUP_ED.values)\n",
    "\n",
    "zipinc_mat_tst = to_categorical(tst_df.ZIPINC_QRTL.values)[:, 1:]\n",
    "\n",
    "transfer_mat_tst = to_categorical(tst_df.SAMEDAYEVENT.values)"
   ]
  },
  {
   "cell_type": "code",
   "execution_count": 47,
   "metadata": {},
   "outputs": [],
   "source": [
    "other_mat_tst = np.concatenate((demo_mat_tst, pay1_mat_tst, los_array_tst.reshape(los_array_tst.shape+(1,)), \n",
    "                                ed_mat_tst, zipinc_mat_tst, transfer_mat_tst), axis=1)"
   ]
  },
  {
   "cell_type": "code",
   "execution_count": 51,
   "metadata": {},
   "outputs": [],
   "source": [
    "model.load_weights(model_path+'ami_ccs_glove_auc2.h5')"
   ]
  },
  {
   "cell_type": "code",
   "execution_count": 52,
   "metadata": {},
   "outputs": [
    {
     "name": "stdout",
     "output_type": "stream",
     "text": [
      "18186/18186 [==============================] - 1s 30us/step\n"
     ]
    }
   ],
   "source": [
    "y = model.predict([DX_mat_tst, PR_mat_tst, hosp_array_tst, other_mat_tst], verbose=1)\n",
    "\n",
    "y_pred = y[:, 1]\n",
    "y_true = tst_df.readm30.astype(int).values"
   ]
  },
  {
   "cell_type": "code",
   "execution_count": 53,
   "metadata": {
    "scrolled": false
   },
   "outputs": [
    {
     "data": {
      "text/plain": [
       "{0: 0.7149966683482707}"
      ]
     },
     "execution_count": 53,
     "metadata": {},
     "output_type": "execute_result"
    },
    {
     "data": {
      "image/png": "[encoded data removed]",
      "text/plain": [
       "<Figure size 432x288 with 1 Axes>"
      ]
     },
     "metadata": {},
     "output_type": "display_data"
    }
   ],
   "source": [
    "plot_roc(y_pred, y_true)"
   ]
  },
  {
   "cell_type": "markdown",
   "metadata": {},
   "source": [
    "## Embedding Visualization"
   ]
  },
  {
   "cell_type": "code",
   "execution_count": 52,
   "metadata": {
    "scrolled": false
   },
   "outputs": [
    {
     "data": {
      "text/plain": [
       "[<keras.engine.input_layer.InputLayer at 0x2aae44f2b860>,\n",
       " <keras.layers.embeddings.Embedding at 0x2aae44f2ba90>,\n",
       " <setsum_layer.MaskedDense at 0x2aae44ebb780>,\n",
       " <keras.engine.input_layer.InputLayer at 0x2aae44f93f28>,\n",
       " <setsum_layer.MaskedDense at 0x2aae44f2ba20>,\n",
       " <keras.layers.embeddings.Embedding at 0x2aae44fbce48>,\n",
       " <keras.engine.input_layer.InputLayer at 0x2aae44f71b38>,\n",
       " <keras.engine.input_layer.InputLayer at 0x2aae44f71a20>,\n",
       " <setsum_layer.MaskedSum at 0x2aae44f2be80>,\n",
       " <keras.layers.core.Reshape at 0x2aae44fbccc0>,\n",
       " <keras.layers.merge.Concatenate at 0x2aae44fbc860>,\n",
       " <keras.layers.core.Dense at 0x2aae44fbcc18>,\n",
       " <keras.layers.core.Dense at 0x2aae44fe4358>,\n",
       " <keras.layers.core.Dropout at 0x2aae44fe4470>,\n",
       " <keras.layers.core.Dense at 0x2aae44ff6cc0>]"
      ]
     },
     "execution_count": 52,
     "metadata": {},
     "output_type": "execute_result"
    }
   ],
   "source": [
    "model.layers"
   ]
  },
  {
   "cell_type": "code",
   "execution_count": 75,
   "metadata": {},
   "outputs": [],
   "source": [
    "embed_mat = model.layers[1].get_weights()[0]"
   ]
  },
  {
   "cell_type": "code",
   "execution_count": 76,
   "metadata": {
    "scrolled": false
   },
   "outputs": [
    {
     "data": {
      "text/plain": [
       "array([0.27371907, 0.02746173, 0.02711867, 0.02759813, 0.02779855,\n",
       "       0.0377774 , 0.04125843, 0.03902006, 0.03486356, 0.0380565 ,\n",
       "       0.0385935 , 0.03802396, 0.03793211, 0.03798343, 0.03800374,\n",
       "       0.03801001, 0.03802638, 0.03894252, 0.03806452, 0.0381002 ,\n",
       "       0.03877238, 0.04099286, 0.03906104, 0.03905932, 0.03906114,\n",
       "       0.0419651 , 0.03902812, 0.03908337, 0.0400243 , 0.03901803],\n",
       "      dtype=float32)"
      ]
     },
     "execution_count": 76,
     "metadata": {},
     "output_type": "execute_result"
    }
   ],
   "source": [
    "np.linalg.norm(embed_mat, axis=1, ord=2)[:30]"
   ]
  },
  {
   "cell_type": "code",
   "execution_count": 96,
   "metadata": {
    "scrolled": false
   },
   "outputs": [
    {
     "data": {
      "text/plain": [
       "array([0.19206613, 0.05574033, 0.05200075, 0.05206684, 0.06145821,\n",
       "       0.09432068, 0.05461602, 0.03741015, 0.05191894, 0.03062067,\n",
       "       0.04970593, 0.05317962, 0.05420603, 0.03656052, 0.04274737,\n",
       "       0.04807642, 0.05005065, 0.04716379, 0.04575374, 0.03864745,\n",
       "       0.03666022, 0.03635335, 0.03762525, 0.04590897, 0.03675134,\n",
       "       0.03597372, 0.03329653, 0.05921885, 0.06657047, 0.05399343],\n",
       "      dtype=float32)"
      ]
     },
     "execution_count": 96,
     "metadata": {},
     "output_type": "execute_result"
    }
   ],
   "source": [
    "np.linalg.norm(embed_mat, axis=1, ord=2)[:30]"
   ]
  },
  {
   "cell_type": "code",
   "execution_count": 85,
   "metadata": {
    "scrolled": true
   },
   "outputs": [],
   "source": [
    "distances = np.linalg.norm(np.dot(parent_mat, embed_mat), axis=1, ord=2)"
   ]
  },
  {
   "cell_type": "code",
   "execution_count": 59,
   "metadata": {},
   "outputs": [],
   "source": [
    "from sklearn import decomposition, manifold\n",
    "\n",
    "tsne = manifold.TSNE(n_components=2, init='pca', random_state=0)\n",
    "\n",
    "embed_tsne = tsne.fit_transform(embed_mat[1:(n_DX_cat-2),:])\n",
    "\n",
    "ccs_lvl1 = [ami_ccs.loc[c, 'CCS_LVL1'] for c in all_codes[1:(n_DX_cat-2)]]\n",
    "\n",
    "fine_group = [ami_ccs.loc[c, 'finest_non_empty'] for c in all_codes[1:(n_DX_cat-2)]]\n",
    "\n",
    "plot_df = pd.DataFrame(dict(x=embed_tsne[:, 0], y=embed_tsne[:, 1], lvl1=ccs_lvl1, fine_group=fine_group))"
   ]
  },
  {
   "cell_type": "code",
   "execution_count": 80,
   "metadata": {},
   "outputs": [],
   "source": [
    "plot_df = plot_df.assign(level=[len(g.split('.')) for g in plot_df.fine_group])"
   ]
  },
  {
   "cell_type": "code",
   "execution_count": 81,
   "metadata": {
    "scrolled": true
   },
   "outputs": [],
   "source": [
    "groups = plot_df.groupby('lvl1')\n",
    "\n",
    "gkey = groups.groups.keys()"
   ]
  },
  {
   "cell_type": "code",
   "execution_count": 82,
   "metadata": {},
   "outputs": [
    {
     "data": {
      "text/plain": [
       "<matplotlib.legend.Legend at 0x2aae84be5c88>"
      ]
     },
     "execution_count": 82,
     "metadata": {},
     "output_type": "execute_result"
    },
    {
     "data": {
      "image/png": "[encoded data removed]",
      "text/plain": [
       "<Figure size 720x576 with 1 Axes>"
      ]
     },
     "metadata": {},
     "output_type": "display_data"
    }
   ],
   "source": [
    "fig, ax = plt.subplots(figsize=(10, 8))\n",
    "for name in list(gkey)[:10]:\n",
    "    group = groups.get_group(name)\n",
    "    ax.plot(group.x, group.y, marker='o', linestyle='', ms=3, label=name)\n",
    "ax.legend()"
   ]
  },
  {
   "cell_type": "code",
   "execution_count": 83,
   "metadata": {},
   "outputs": [],
   "source": [
    "top_fine_cat = ami_ccs.finest_non_empty.value_counts().iloc[:10].index\n",
    "\n",
    "plot_subdf = plot_df.loc[plot_df.fine_group.isin(top_fine_cat)]"
   ]
  },
  {
   "cell_type": "code",
   "execution_count": 84,
   "metadata": {
    "scrolled": false
   },
   "outputs": [
    {
     "data": {
      "text/plain": [
       "<matplotlib.legend.Legend at 0x2aae87e68ba8>"
      ]
     },
     "execution_count": 84,
     "metadata": {},
     "output_type": "execute_result"
    },
    {
     "data": {
      "image/png": "[encoded data removed]",
      "text/plain": [
       "<Figure size 720x576 with 1 Axes>"
      ]
     },
     "metadata": {},
     "output_type": "display_data"
    }
   ],
   "source": [
    "groups = plot_subdf.groupby('fine_group')\n",
    "\n",
    "fig, ax = plt.subplots(figsize=(10, 8))\n",
    "for name, group in groups:\n",
    "    ax.plot(group.x, group.y, marker='o', linestyle='', ms=3, label=name)\n",
    "ax.legend()"
   ]
  },
  {
   "cell_type": "code",
   "execution_count": 153,
   "metadata": {},
   "outputs": [],
   "source": [
    "plot_subdf = plot_df.loc[plot_df.lvl1=='3']"
   ]
  },
  {
   "cell_type": "code",
   "execution_count": 154,
   "metadata": {},
   "outputs": [
    {
     "data": {
      "text/plain": [
       "<matplotlib.legend.Legend at 0x2ba0e4bb5320>"
      ]
     },
     "execution_count": 154,
     "metadata": {},
     "output_type": "execute_result"
    },
    {
     "data": {
      "image/png": "[encoded data removed]",
      "text/plain": [
       "<Figure size 720x576 with 1 Axes>"
      ]
     },
     "metadata": {},
     "output_type": "display_data"
    }
   ],
   "source": [
    "groups = plot_subdf.groupby('level')\n",
    "\n",
    "fig, ax = plt.subplots(figsize=(10, 8))\n",
    "for name, group in groups:\n",
    "    ax.plot(group.x, group.y, marker='o', linestyle='', ms=3, label=name)\n",
    "ax.legend()"
   ]
  },
  {
   "cell_type": "code",
   "execution_count": 108,
   "metadata": {
    "scrolled": true
   },
   "outputs": [
    {
     "data": {
      "text/plain": [
       "Index(['18', '13.8', '6.7.6', '16.12', '13.2.3', '16.8', '5.12', '6.9.1',\n",
       "       '16.5', '2.16.2.5', '9.12.3', '16.10.2.7', '1.1.4', '9.2', '3.11.3',\n",
       "       '3.4', '16.6.1', '17.1.9', '8.9', '10.1.8.3'],\n",
       "      dtype='object')"
      ]
     },
     "execution_count": 108,
     "metadata": {},
     "output_type": "execute_result"
    }
   ],
   "source": [
    "top_fine_cat"
   ]
  }
 ],
 "metadata": {
  "kernelspec": {
   "display_name": "Python 3",
   "language": "python",
   "name": "python3"
  },
  "language_info": {
   "codemirror_mode": {
    "name": "ipython",
    "version": 3
   },
   "file_extension": ".py",
   "mimetype": "text/x-python",
   "name": "python",
   "nbconvert_exporter": "python",
   "pygments_lexer": "ipython3",
   "version": "3.5.4"
  }
 },
 "nbformat": 4,
 "nbformat_minor": 2
}
