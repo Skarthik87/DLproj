{
 "cells": [
  {
   "cell_type": "markdown",
   "metadata": {},
   "source": [
    "# Pretraining of the Code Embedding by GloVe"
   ]
  },
  {
   "cell_type": "markdown",
   "metadata": {},
   "source": [
    "In this notebook we try to use Keras backend implement the optimization problem of GloVe. \n",
    "$$J = \\sum_{i, j=1}^{V}f(X_{ij})(\\mathbf{w}_i^T\\mathbf{v_j} + b_i + a_j - \\log X_{ij})^2$$\n",
    "$$ \\mathbf{W}, \\mathbf{V}, \\mathbf{b}, \\mathbf{a} = \\text{argmin}(J)$$"
   ]
  },
  {
   "cell_type": "code",
   "execution_count": 1,
   "metadata": {},
   "outputs": [],
   "source": [
    "import pandas as pd\n",
    "import numpy as np\n",
    "import matplotlib.pyplot as plt\n",
    "#import statsmodels.api as sm\n",
    "from sklearn.model_selection import train_test_split, StratifiedShuffleSplit\n",
    "import os, sys\n",
    "from importlib import reload\n",
    "import scipy.sparse as sp\n",
    "import time\n",
    "\n",
    "%matplotlib inline"
   ]
  },
  {
   "cell_type": "code",
   "execution_count": 4,
   "metadata": {},
   "outputs": [],
   "source": [
    "os.environ['CUDA_VISIBLE_DEVICES'] = ''"
   ]
  },
  {
   "cell_type": "code",
   "execution_count": 2,
   "metadata": {},
   "outputs": [],
   "source": [
    "path = '/nfs/turbo/intmed-bnallamo-turbo/wsliu/Data/NRD/'"
   ]
  },
  {
   "cell_type": "code",
   "execution_count": 2,
   "metadata": {},
   "outputs": [],
   "source": [
    "path = '/nfs/turbo/umms-awaljee/wsliu/Data/NRD/'"
   ]
  },
  {
   "cell_type": "code",
   "execution_count": 3,
   "metadata": {},
   "outputs": [],
   "source": [
    "model_path = path + 'models/'\n",
    "if not os.path.exists(model_path): os.mkdir(model_path)"
   ]
  },
  {
   "cell_type": "code",
   "execution_count": 4,
   "metadata": {
    "scrolled": true
   },
   "outputs": [
    {
     "name": "stderr",
     "output_type": "stream",
     "text": [
      "Using TensorFlow backend.\n"
     ]
    }
   ],
   "source": [
    "from keras.layers import Input, Embedding, Concatenate, Reshape, BatchNormalization, LSTM, CuDNNLSTM, CuDNNGRU, Lambda, Multiply\n",
    "from keras.models import Model\n",
    "from keras.layers.core import Dense, Activation, Dropout, RepeatVector\n",
    "from keras.callbacks import ModelCheckpoint, ReduceLROnPlateau, EarlyStopping\n",
    "from keras.utils import to_categorical\n",
    "from keras.optimizers import Adam\n",
    "from keras.initializers import Constant\n",
    "import keras.backend as K"
   ]
  },
  {
   "cell_type": "code",
   "execution_count": 6,
   "metadata": {},
   "outputs": [],
   "source": [
    "module_path = os.path.abspath(os.path.join('..'))\n",
    "if module_path not in sys.path:\n",
    "    sys.path.append(module_path)\n",
    "from DL_utils import plot_roc\n",
    "from keras_addon import AUCCheckPoint\n",
    "from utils import Mat_reg, Parent_reg\n",
    "from glove import Glove"
   ]
  },
  {
   "cell_type": "code",
   "execution_count": 7,
   "metadata": {},
   "outputs": [],
   "source": [
    "from ccs_tools import dx_multi, pr_multi, dx_label, core_dtypes_pd"
   ]
  },
  {
   "cell_type": "markdown",
   "metadata": {},
   "source": [
    "## Train Embedding with Co-occurences in AMI Cohort\n",
    "### Reading Data"
   ]
  },
  {
   "cell_type": "code",
   "execution_count": 8,
   "metadata": {},
   "outputs": [],
   "source": [
    "train_df = pd.read_csv(path+'cohorts/ami/DX_train.csv', dtype=core_dtypes_pd)\n",
    "tst_df = pd.read_csv(path+'cohorts/ami/DX_tst.csv', dtype=core_dtypes_pd)"
   ]
  },
  {
   "cell_type": "code",
   "execution_count": 14,
   "metadata": {},
   "outputs": [
    {
     "data": {
      "text/plain": [
       "(163671, 150)"
      ]
     },
     "execution_count": 14,
     "metadata": {},
     "output_type": "execute_result"
    }
   ],
   "source": [
    "train_df.shape"
   ]
  },
  {
   "cell_type": "code",
   "execution_count": 9,
   "metadata": {},
   "outputs": [],
   "source": [
    "all_df = pd.concat([train_df, tst_df])"
   ]
  },
  {
   "cell_type": "markdown",
   "metadata": {},
   "source": [
    "### Define the dictionaries for DX, PR and hosp, from value to int. "
   ]
  },
  {
   "cell_type": "code",
   "execution_count": 171,
   "metadata": {},
   "outputs": [],
   "source": [
    "N_DX = 29\n",
    "DXs = ['DX'+str(n) for n in range(2, N_DX+2)]\n",
    "\n",
    "DX_series = pd.concat([all_df[DX] for DX in DXs])\n",
    "DX_series = DX_series.fillna('missing')\n",
    "DX_series[DX_series.isin(['invl', 'incn'])] = 'missing'\n",
    "\n",
    "unclassified = set(dx_multi.loc[dx_multi.CCS_LVL1 == '18', 'ICD9CM_CODE'])\n",
    "DX_series.loc[DX_series.isin(unclassified)] = 'missing'\n",
    "\n",
    "rare_cutpoint = 1\n",
    "code_freq = DX_series.value_counts()\n",
    "rare_code = code_freq[code_freq<rare_cutpoint].index\n",
    "DX_series.loc[DX_series.isin(rare_code)] = 'missing' # also consider coding as 'rare'"
   ]
  },
  {
   "cell_type": "code",
   "execution_count": 17,
   "metadata": {},
   "outputs": [],
   "source": [
    "ami_DX = ['41000', '41001', '41010', '41011', '41020', '41021', '41030', '41031', '41040', '41041', '41050', '41051', '41060', '41061', '41070', '41071', '41080', '41081', '41090', '41091']"
   ]
  },
  {
   "cell_type": "code",
   "execution_count": 64,
   "metadata": {},
   "outputs": [],
   "source": [
    "amidx_top10 = code_freq[1:11]\n",
    "amidx_top20 = code_freq[1:21]\n",
    "amidx_top50 = code_freq[1:51]\n",
    "amidx_top100 = code_freq[1:101]"
   ]
  },
  {
   "cell_type": "code",
   "execution_count": 9,
   "metadata": {},
   "outputs": [],
   "source": [
    "DX_series = DX_series.astype('category')\n",
    "DX_cat = DX_series.cat.categories\n",
    "n_DX_cat = len(DX_cat)\n",
    "DX_int_cat = list(range(n_DX_cat)[1:]) +[0]\n",
    "DX_dict = dict(zip(DX_cat, DX_int_cat))"
   ]
  },
  {
   "cell_type": "code",
   "execution_count": 10,
   "metadata": {},
   "outputs": [
    {
     "data": {
      "text/plain": [
       "5251"
      ]
     },
     "execution_count": 10,
     "metadata": {},
     "output_type": "execute_result"
    }
   ],
   "source": [
    "n_DX_cat"
   ]
  },
  {
   "cell_type": "code",
   "execution_count": 11,
   "metadata": {},
   "outputs": [],
   "source": [
    "N_PR = 15\n",
    "PRs = ['PR'+str(n) for n in range(1, N_PR+1)]\n",
    "\n",
    "PR_series = pd.concat([all_df[PR] for PR in PRs])\n",
    "\n",
    "PR_series = PR_series.fillna('missing')\n",
    "PR_series[PR_series.isin(['invl', 'incn'])] = 'missing'\n",
    "\n",
    "pr_rare_cutpoint = 1\n",
    "pr_code_freq = PR_series.value_counts()\n",
    "pr_rare_code = pr_code_freq[pr_code_freq<pr_rare_cutpoint].index\n",
    "PR_series.loc[PR_series.isin(pr_rare_code)] = 'missing' # also consider coding as 'rare'\n",
    "\n",
    "PR_series = PR_series.astype('category')\n",
    "PR_cat = PR_series.cat.categories\n",
    "n_PR_cat = len(PR_cat)\n",
    "\n",
    "PR_int_cat = list(np.array(range(n_PR_cat)[:-1])+n_DX_cat) + [0]\n",
    "\n",
    "PR_dict = dict(zip(PR_cat, PR_int_cat))"
   ]
  },
  {
   "cell_type": "code",
   "execution_count": 12,
   "metadata": {},
   "outputs": [
    {
     "data": {
      "text/plain": [
       "1260"
      ]
     },
     "execution_count": 12,
     "metadata": {},
     "output_type": "execute_result"
    }
   ],
   "source": [
    "n_PR_cat"
   ]
  },
  {
   "cell_type": "code",
   "execution_count": 13,
   "metadata": {},
   "outputs": [],
   "source": [
    "code_lst = ['missing']+list(DX_cat[:-1])+list(PR_cat[:-1])"
   ]
  },
  {
   "cell_type": "code",
   "execution_count": 14,
   "metadata": {},
   "outputs": [
    {
     "data": {
      "text/plain": [
       "(6510, 6511)"
      ]
     },
     "execution_count": 14,
     "metadata": {},
     "output_type": "execute_result"
    }
   ],
   "source": [
    "len(code_lst), n_PR_cat+n_DX_cat"
   ]
  },
  {
   "cell_type": "code",
   "execution_count": 17,
   "metadata": {},
   "outputs": [],
   "source": [
    "DX_df = train_df[DXs]\n",
    "\n",
    "DX_df = DX_df.fillna('missing')\n",
    "DX_df[DX_df.isin(['invl', 'incn'])] = 'missing'\n",
    "#DX_df[DX_df.isin(rare_code)] = 'missing'\n",
    "DX_df[DX_df.isin(unclassified)] = 'missing'\n",
    "\n",
    "for dx in DXs:\n",
    "    DX_df[dx] = DX_df[dx].map(DX_dict)\n",
    "\n",
    "#DX_mat = DX_df.values"
   ]
  },
  {
   "cell_type": "code",
   "execution_count": 18,
   "metadata": {},
   "outputs": [],
   "source": [
    "PR_df = train_df[PRs]\n",
    "\n",
    "PR_df = PR_df.fillna('missing')\n",
    "PR_df[PR_df.isin(['invl', 'incn'])] = 'missing'\n",
    "#PR_df[PR_df.isin(pr_rare_code)] = 'missing'\n",
    "\n",
    "for pr in PRs:\n",
    "    PR_df[pr] = PR_df[pr].map(PR_dict)\n",
    "\n",
    "#PR_mat = PR_df.values"
   ]
  },
  {
   "cell_type": "code",
   "execution_count": 19,
   "metadata": {},
   "outputs": [],
   "source": [
    "code_df = pd.concat([DX_df, PR_df], axis=1)"
   ]
  },
  {
   "cell_type": "code",
   "execution_count": 7,
   "metadata": {},
   "outputs": [],
   "source": [
    "from glove import Glove"
   ]
  },
  {
   "cell_type": "code",
   "execution_count": 16,
   "metadata": {},
   "outputs": [],
   "source": [
    "g = Glove(input_dim=n_code_cat, embedding_dim=100)"
   ]
  },
  {
   "cell_type": "code",
   "execution_count": 20,
   "metadata": {
    "scrolled": true
   },
   "outputs": [
    {
     "name": "stdout",
     "output_type": "stream",
     "text": [
      "Updating co-occurrence matrix from a Dataframe with 163671 rows...\n",
      "Finished. It takes 26.6 seconds to update the cooccurrences.\n"
     ]
    }
   ],
   "source": [
    "g.update_cooccur(code_df)"
   ]
  },
  {
   "cell_type": "code",
   "execution_count": 34,
   "metadata": {},
   "outputs": [],
   "source": [
    "cooccur_df = g.get_cooccur_df()"
   ]
  },
  {
   "cell_type": "code",
   "execution_count": 28,
   "metadata": {
    "collapsed": true
   },
   "outputs": [
    {
     "name": "stdout",
     "output_type": "stream",
     "text": [
      "Preparing data...\n",
      "Defining the GloVe model...\n",
      "Training the GloVe model...\n",
      "Train on 800963 samples, validate on 200241 samples\n",
      "Epoch 1/50\n",
      "800963/800963 [==============================] - 6s 7us/step - loss: 0.4747 - val_loss: 0.0537\n",
      "Epoch 2/50\n",
      "800963/800963 [==============================] - 5s 7us/step - loss: 0.0492 - val_loss: 0.0421\n",
      "Epoch 3/50\n",
      "800963/800963 [==============================] - 5s 7us/step - loss: 0.0359 - val_loss: 0.0324\n",
      "Epoch 4/50\n",
      "800963/800963 [==============================] - 5s 7us/step - loss: 0.0278 - val_loss: 0.0265\n",
      "Epoch 5/50\n",
      "800963/800963 [==============================] - 5s 7us/step - loss: 0.0227 - val_loss: 0.0226\n",
      "Epoch 6/50\n",
      "800963/800963 [==============================] - 5s 7us/step - loss: 0.0193 - val_loss: 0.0204\n",
      "Epoch 7/50\n",
      "800963/800963 [==============================] - 5s 7us/step - loss: 0.0170 - val_loss: 0.0189\n",
      "Epoch 8/50\n",
      "800963/800963 [==============================] - 5s 7us/step - loss: 0.0154 - val_loss: 0.0180\n",
      "Epoch 9/50\n",
      "800963/800963 [==============================] - 5s 7us/step - loss: 0.0142 - val_loss: 0.0175\n",
      "Epoch 10/50\n",
      "800963/800963 [==============================] - 5s 7us/step - loss: 0.0133 - val_loss: 0.0172\n",
      "Epoch 11/50\n",
      "800963/800963 [==============================] - 5s 7us/step - loss: 0.0125 - val_loss: 0.0171\n",
      "Epoch 12/50\n",
      "800963/800963 [==============================] - 5s 7us/step - loss: 0.0119 - val_loss: 0.0170\n",
      "Epoch 13/50\n",
      "800963/800963 [==============================] - 5s 7us/step - loss: 0.0113 - val_loss: 0.0173\n",
      "Epoch 14/50\n",
      "800963/800963 [==============================] - 5s 7us/step - loss: 0.0109 - val_loss: 0.0172\n",
      "Epoch 15/50\n",
      "800963/800963 [==============================] - 5s 7us/step - loss: 0.0093 - val_loss: 0.0166\n",
      "Epoch 16/50\n",
      "800963/800963 [==============================] - 5s 7us/step - loss: 0.0091 - val_loss: 0.0166\n",
      "Epoch 17/50\n",
      "800963/800963 [==============================] - 5s 7us/step - loss: 0.0090 - val_loss: 0.0167\n",
      "Epoch 18/50\n",
      "800963/800963 [==============================] - 5s 7us/step - loss: 0.0089 - val_loss: 0.0167\n",
      "Epoch 19/50\n",
      "800963/800963 [==============================] - 6s 7us/step - loss: 0.0086 - val_loss: 0.0167\n",
      "Epoch 20/50\n",
      "800963/800963 [==============================] - 5s 7us/step - loss: 0.0086 - val_loss: 0.0167\n",
      "Epoch 21/50\n",
      "800963/800963 [==============================] - 5s 7us/step - loss: 0.0086 - val_loss: 0.0167\n",
      "Epoch 22/50\n",
      "800963/800963 [==============================] - 5s 7us/step - loss: 0.0085 - val_loss: 0.0167\n",
      "Epoch 23/50\n",
      "800963/800963 [==============================] - 5s 7us/step - loss: 0.0085 - val_loss: 0.0167\n",
      "Epoch 24/50\n",
      "800963/800963 [==============================] - 5s 7us/step - loss: 0.0085 - val_loss: 0.0167\n",
      "Epoch 25/50\n",
      "800963/800963 [==============================] - 5s 7us/step - loss: 0.0085 - val_loss: 0.0167\n",
      "Epoch 26/50\n",
      "800963/800963 [==============================] - 5s 7us/step - loss: 0.0085 - val_loss: 0.0167\n",
      "Epoch 27/50\n",
      "800963/800963 [==============================] - 5s 7us/step - loss: 0.0085 - val_loss: 0.0167\n",
      "Epoch 28/50\n",
      "800963/800963 [==============================] - 5s 7us/step - loss: 0.0084 - val_loss: 0.0167\n",
      "Epoch 29/50\n",
      "800963/800963 [==============================] - 5s 7us/step - loss: 0.0084 - val_loss: 0.0167\n",
      "Epoch 30/50\n",
      "800963/800963 [==============================] - 5s 7us/step - loss: 0.0084 - val_loss: 0.0167\n",
      "Epoch 31/50\n",
      "800963/800963 [==============================] - 5s 7us/step - loss: 0.0084 - val_loss: 0.0167\n",
      "Epoch 32/50\n",
      "800963/800963 [==============================] - 5s 7us/step - loss: 0.0084 - val_loss: 0.0167\n",
      "Epoch 33/50\n",
      "800963/800963 [==============================] - 5s 7us/step - loss: 0.0084 - val_loss: 0.0167\n",
      "Epoch 34/50\n",
      "800963/800963 [==============================] - 5s 7us/step - loss: 0.0084 - val_loss: 0.0167\n",
      "Epoch 35/50\n",
      "800963/800963 [==============================] - 5s 7us/step - loss: 0.0084 - val_loss: 0.0167\n",
      "Finished. The pretrained embedding matrix can be retrieved by .get_embed_mat().\n"
     ]
    }
   ],
   "source": [
    "g.train_glove(cache_path=model_path, epochs=50, reducelr_patience=3)"
   ]
  },
  {
   "cell_type": "code",
   "execution_count": 31,
   "metadata": {},
   "outputs": [],
   "source": [
    "embed_mat = g.get_embed_mat()"
   ]
  },
  {
   "cell_type": "code",
   "execution_count": 33,
   "metadata": {},
   "outputs": [],
   "source": [
    "np.save(path+'cohorts/ami/embed_mat_ami0824.npy', embed_mat)"
   ]
  },
  {
   "cell_type": "markdown",
   "metadata": {},
   "source": [
    "## Get the cooccurrences from the whole database"
   ]
  },
  {
   "cell_type": "code",
   "execution_count": 9,
   "metadata": {},
   "outputs": [],
   "source": [
    "from ccs_tools import dx_multi, pr_multi\n",
    "from glove import Glove\n",
    "from ccs_tools import core_cols, core_dtypes_pd, na_values"
   ]
  },
  {
   "cell_type": "markdown",
   "metadata": {},
   "source": [
    "### Not separate DX1"
   ]
  },
  {
   "cell_type": "code",
   "execution_count": 9,
   "metadata": {},
   "outputs": [],
   "source": [
    "DX_cat = ['missing'] + sorted(dx_multi.ICD9CM_CODE)\n",
    "PR_cat = ['missing'] + sorted(pr_multi.ICD9CM_CODE)\n",
    "\n",
    "n_DX_cat = len(DX_cat)\n",
    "n_PR_cat = len(PR_cat)\n",
    "\n",
    "DX_dict = dict(zip(DX_cat, range(len(DX_cat))))\n",
    "PR_dict = dict(zip(PR_cat, [0] + list(range(len(DX_cat), len(DX_cat)+len(PR_cat)))))\n",
    "\n",
    "n_DX = 30\n",
    "n_PR = 15\n",
    "DXs = ['DX'+str(j) for j in range(1, n_DX+1)]\n",
    "PRs = ['PR'+str(j) for j in range(1, n_PR+1)]"
   ]
  },
  {
   "cell_type": "code",
   "execution_count": 10,
   "metadata": {},
   "outputs": [],
   "source": [
    "unclassified = set(dx_multi.loc[dx_multi.CCS_LVL1 == '18', 'ICD9CM_CODE'])"
   ]
  },
  {
   "cell_type": "code",
   "execution_count": 11,
   "metadata": {},
   "outputs": [],
   "source": [
    "code_cat = ['missing'] + sorted(dx_multi.ICD9CM_CODE) + sorted(pr_multi.ICD9CM_CODE)\n",
    "n_code_cat = len(code_cat)"
   ]
  },
  {
   "cell_type": "code",
   "execution_count": 17,
   "metadata": {},
   "outputs": [],
   "source": [
    "g = Glove(input_dim=len(code_cat), embedding_dim=100)"
   ]
  },
  {
   "cell_type": "code",
   "execution_count": 18,
   "metadata": {},
   "outputs": [],
   "source": [
    "dxpr_df = pd.read_csv(path+'raw/2014/NRD_2014_Core.CSV', sep=',', \n",
    "                           header = None, \n",
    "                           names=core_cols, \n",
    "                           dtype=core_dtypes_pd, \n",
    "                           na_values=na_values, \n",
    "                           chunksize=500000)"
   ]
  },
  {
   "cell_type": "code",
   "execution_count": 19,
   "metadata": {
    "collapsed": true
   },
   "outputs": [
    {
     "name": "stdout",
     "output_type": "stream",
     "text": [
      "Updating co-occurrence matrix from a Dataframe with 500000 rows...\n",
      "Finished. It takes 67.0 seconds to update the cooccurrences.\n",
      "Chunk 0 finished. It takes 75.6 seconds.\n",
      "Updating co-occurrence matrix from a Dataframe with 500000 rows...\n",
      "Finished. It takes 66.6 seconds to update the cooccurrences.\n",
      "Chunk 1 finished. It takes 77.6 seconds.\n",
      "Updating co-occurrence matrix from a Dataframe with 500000 rows...\n",
      "Finished. It takes 68.1 seconds to update the cooccurrences.\n",
      "Chunk 2 finished. It takes 79.3 seconds.\n",
      "Updating co-occurrence matrix from a Dataframe with 500000 rows...\n",
      "Finished. It takes 67.6 seconds to update the cooccurrences.\n",
      "Chunk 3 finished. It takes 79.1 seconds.\n",
      "Updating co-occurrence matrix from a Dataframe with 500000 rows...\n",
      "Finished. It takes 64.4 seconds to update the cooccurrences.\n",
      "Chunk 4 finished. It takes 76.1 seconds.\n",
      "Updating co-occurrence matrix from a Dataframe with 500000 rows...\n",
      "Finished. It takes 62.7 seconds to update the cooccurrences.\n",
      "Chunk 5 finished. It takes 75.4 seconds.\n",
      "Updating co-occurrence matrix from a Dataframe with 500000 rows...\n",
      "Finished. It takes 63.4 seconds to update the cooccurrences.\n",
      "Chunk 6 finished. It takes 77.0 seconds.\n",
      "Updating co-occurrence matrix from a Dataframe with 500000 rows...\n",
      "Finished. It takes 65.8 seconds to update the cooccurrences.\n",
      "Chunk 7 finished. It takes 79.1 seconds.\n",
      "Updating co-occurrence matrix from a Dataframe with 500000 rows...\n",
      "Finished. It takes 67.7 seconds to update the cooccurrences.\n",
      "Chunk 8 finished. It takes 81.3 seconds.\n",
      "Updating co-occurrence matrix from a Dataframe with 500000 rows...\n",
      "Finished. It takes 62.0 seconds to update the cooccurrences.\n",
      "Chunk 9 finished. It takes 75.6 seconds.\n",
      "Updating co-occurrence matrix from a Dataframe with 500000 rows...\n",
      "Finished. It takes 68.6 seconds to update the cooccurrences.\n",
      "Chunk 10 finished. It takes 82.2 seconds.\n",
      "Updating co-occurrence matrix from a Dataframe with 500000 rows...\n",
      "Finished. It takes 64.7 seconds to update the cooccurrences.\n",
      "Chunk 11 finished. It takes 78.4 seconds.\n",
      "Updating co-occurrence matrix from a Dataframe with 500000 rows...\n",
      "Finished. It takes 72.5 seconds to update the cooccurrences.\n",
      "Chunk 12 finished. It takes 86.3 seconds.\n",
      "Updating co-occurrence matrix from a Dataframe with 500000 rows...\n",
      "Finished. It takes 65.3 seconds to update the cooccurrences.\n",
      "Chunk 13 finished. It takes 79.1 seconds.\n",
      "Updating co-occurrence matrix from a Dataframe with 500000 rows...\n",
      "Finished. It takes 69.2 seconds to update the cooccurrences.\n",
      "Chunk 14 finished. It takes 84.1 seconds.\n",
      "Updating co-occurrence matrix from a Dataframe with 500000 rows...\n",
      "Finished. It takes 67.3 seconds to update the cooccurrences.\n",
      "Chunk 15 finished. It takes 82.0 seconds.\n",
      "Updating co-occurrence matrix from a Dataframe with 500000 rows...\n",
      "Finished. It takes 66.1 seconds to update the cooccurrences.\n",
      "Chunk 16 finished. It takes 80.7 seconds.\n",
      "Updating co-occurrence matrix from a Dataframe with 500000 rows...\n",
      "Finished. It takes 64.9 seconds to update the cooccurrences.\n",
      "Chunk 17 finished. It takes 79.6 seconds.\n",
      "Updating co-occurrence matrix from a Dataframe with 500000 rows...\n",
      "Finished. It takes 68.1 seconds to update the cooccurrences.\n",
      "Chunk 18 finished. It takes 82.5 seconds.\n",
      "Updating co-occurrence matrix from a Dataframe with 500000 rows...\n",
      "Finished. It takes 67.1 seconds to update the cooccurrences.\n",
      "Chunk 19 finished. It takes 81.7 seconds.\n",
      "Updating co-occurrence matrix from a Dataframe with 500000 rows...\n",
      "Finished. It takes 64.6 seconds to update the cooccurrences.\n",
      "Chunk 20 finished. It takes 81.0 seconds.\n",
      "Updating co-occurrence matrix from a Dataframe with 500000 rows...\n",
      "Finished. It takes 63.1 seconds to update the cooccurrences.\n",
      "Chunk 21 finished. It takes 79.7 seconds.\n",
      "Updating co-occurrence matrix from a Dataframe with 500000 rows...\n",
      "Finished. It takes 68.9 seconds to update the cooccurrences.\n",
      "Chunk 22 finished. It takes 85.7 seconds.\n",
      "Updating co-occurrence matrix from a Dataframe with 500000 rows...\n",
      "Finished. It takes 64.4 seconds to update the cooccurrences.\n",
      "Chunk 23 finished. It takes 81.2 seconds.\n",
      "Updating co-occurrence matrix from a Dataframe with 500000 rows...\n",
      "Finished. It takes 65.3 seconds to update the cooccurrences.\n",
      "Chunk 24 finished. It takes 82.3 seconds.\n",
      "Updating co-occurrence matrix from a Dataframe with 500000 rows...\n",
      "Finished. It takes 67.8 seconds to update the cooccurrences.\n",
      "Chunk 25 finished. It takes 84.9 seconds.\n",
      "Updating co-occurrence matrix from a Dataframe with 500000 rows...\n",
      "Finished. It takes 65.0 seconds to update the cooccurrences.\n",
      "Chunk 26 finished. It takes 82.1 seconds.\n",
      "Updating co-occurrence matrix from a Dataframe with 500000 rows...\n",
      "Finished. It takes 68.4 seconds to update the cooccurrences.\n",
      "Chunk 27 finished. It takes 85.7 seconds.\n",
      "Updating co-occurrence matrix from a Dataframe with 500000 rows...\n",
      "Finished. It takes 63.5 seconds to update the cooccurrences.\n",
      "Chunk 28 finished. It takes 80.9 seconds.\n",
      "Updating co-occurrence matrix from a Dataframe with 394613 rows...\n",
      "Finished. It takes 51.8 seconds to update the cooccurrences.\n",
      "Chunk 29 finished. It takes 67.7 seconds.\n"
     ]
    }
   ],
   "source": [
    "chunk_id = 0\n",
    "for df in dxpr_df:\n",
    "    start = time.time()\n",
    "    DX_df = df[DXs]\n",
    "    DX_df = DX_df.fillna('missing')\n",
    "    DX_df[DX_df.isin(['invl', 'incn'])] = 'missing'\n",
    "    DX_df[DX_df.isin(unclassified)] = 'missing'\n",
    "    for dx in DXs:\n",
    "        DX_df[dx] = DX_df[dx].map(DX_dict)\n",
    "        \n",
    "    PR_df = df[PRs]\n",
    "    PR_df = PR_df.fillna('missing')\n",
    "    PR_df[PR_df.isin(['invl', 'incn'])] = 'missing'\n",
    "    for pr in PRs:\n",
    "        PR_df[pr] = PR_df[pr].map(PR_dict)\n",
    "        \n",
    "    df = pd.concat([DX_df, PR_df], axis=1)\n",
    "    g.update_cooccur(df)\n",
    "    print('Chunk {} finished. It takes {:.1f} seconds.'.format(chunk_id, time.time()-start))\n",
    "    chunk_id += 1"
   ]
  },
  {
   "cell_type": "code",
   "execution_count": 11,
   "metadata": {},
   "outputs": [],
   "source": [
    "cooccur_df = pd.read_csv(path+'all/cooccur_df.csv')"
   ]
  },
  {
   "cell_type": "code",
   "execution_count": 12,
   "metadata": {},
   "outputs": [
    {
     "data": {
      "text/plain": [
       "(12866672, 3)"
      ]
     },
     "execution_count": 12,
     "metadata": {},
     "output_type": "execute_result"
    }
   ],
   "source": [
    "cooccur_df.shape"
   ]
  },
  {
   "cell_type": "code",
   "execution_count": 14,
   "metadata": {
    "collapsed": true
   },
   "outputs": [
    {
     "name": "stdout",
     "output_type": "stream",
     "text": [
      "Preparing data...\n",
      "Defining the GloVe model...\n",
      "Training the GloVe model...\n",
      "Train on 10293337 samples, validate on 2573335 samples\n",
      "Epoch 1/20\n",
      "10293337/10293337 [==============================] - 61s 6us/step - loss: 0.2768 - val_loss: 0.0678\n",
      "Epoch 2/20\n",
      "10293337/10293337 [==============================] - 59s 6us/step - loss: 0.0531 - val_loss: 0.0455\n",
      "Epoch 3/20\n",
      "10293337/10293337 [==============================] - 59s 6us/step - loss: 0.0410 - val_loss: 0.0410\n",
      "Epoch 4/20\n",
      "10293337/10293337 [==============================] - 59s 6us/step - loss: 0.0374 - val_loss: 0.0398\n",
      "Epoch 5/20\n",
      "10293337/10293337 [==============================] - 59s 6us/step - loss: 0.0358 - val_loss: 0.0393\n",
      "Epoch 6/20\n",
      "10293337/10293337 [==============================] - 59s 6us/step - loss: 0.0349 - val_loss: 0.0390\n",
      "Epoch 7/20\n",
      "10293337/10293337 [==============================] - 59s 6us/step - loss: 0.0344 - val_loss: 0.0390\n",
      "Epoch 8/20\n",
      "10293337/10293337 [==============================] - 59s 6us/step - loss: 0.0340 - val_loss: 0.0389\n",
      "Epoch 9/20\n",
      "10293337/10293337 [==============================] - 59s 6us/step - loss: 0.0337 - val_loss: 0.0388\n",
      "Epoch 10/20\n",
      "10293337/10293337 [==============================] - 59s 6us/step - loss: 0.0334 - val_loss: 0.0389\n",
      "Epoch 11/20\n",
      "10293337/10293337 [==============================] - 59s 6us/step - loss: 0.0332 - val_loss: 0.0389\n",
      "Epoch 12/20\n",
      "10293337/10293337 [==============================] - 59s 6us/step - loss: 0.0330 - val_loss: 0.0388\n",
      "Epoch 13/20\n",
      "10293337/10293337 [==============================] - 59s 6us/step - loss: 0.0329 - val_loss: 0.0389\n",
      "Epoch 14/20\n",
      "10293337/10293337 [==============================] - 59s 6us/step - loss: 0.0328 - val_loss: 0.0388\n",
      "Epoch 15/20\n",
      "10293337/10293337 [==============================] - 60s 6us/step - loss: 0.0326 - val_loss: 0.0388\n",
      "Epoch 16/20\n",
      "10293337/10293337 [==============================] - 59s 6us/step - loss: 0.0325 - val_loss: 0.0388\n",
      "Epoch 17/20\n",
      "10293337/10293337 [==============================] - 59s 6us/step - loss: 0.0324 - val_loss: 0.0388\n",
      "Epoch 18/20\n",
      "10293337/10293337 [==============================] - 59s 6us/step - loss: 0.0323 - val_loss: 0.0389\n",
      "Epoch 19/20\n",
      "10293337/10293337 [==============================] - 59s 6us/step - loss: 0.0323 - val_loss: 0.0388\n",
      "Epoch 20/20\n",
      "10293337/10293337 [==============================] - 59s 6us/step - loss: 0.0275 - val_loss: 0.0358\n",
      "Finished. The pretrained embedding matrix can be retrieved by .get_embed_mat().\n"
     ]
    }
   ],
   "source": [
    "g.train_glove(cooccur_df=cooccur_df, cache_path=model_path, epochs=20)"
   ]
  },
  {
   "cell_type": "code",
   "execution_count": 20,
   "metadata": {},
   "outputs": [],
   "source": [
    "cooccur_dict = g.get_cooccur_dict()"
   ]
  },
  {
   "cell_type": "markdown",
   "metadata": {},
   "source": [
    "### Co-Occurence Matrices for cross-validation"
   ]
  },
  {
   "cell_type": "code",
   "execution_count": 23,
   "metadata": {},
   "outputs": [],
   "source": [
    "ami_df = pd.read_csv(path+'cohorts/ami/ami_pred.csv', dtype=core_dtypes_pd)"
   ]
  },
  {
   "cell_type": "code",
   "execution_count": 39,
   "metadata": {
    "collapsed": true
   },
   "outputs": [
    {
     "name": "stdout",
     "output_type": "stream",
     "text": [
      "Starting seed1\n",
      "Updating co-occurrence matrix from a Dataframe with 18186 rows...\n",
      "Finished. It takes 3.3 seconds to update the cooccurrences.\n",
      "Converting to cooccur_df...\n",
      "Starting seed2\n",
      "Updating co-occurrence matrix from a Dataframe with 18186 rows...\n",
      "Finished. It takes 3.2 seconds to update the cooccurrences.\n",
      "Converting to cooccur_df...\n",
      "Starting seed3\n",
      "Updating co-occurrence matrix from a Dataframe with 18186 rows...\n",
      "Finished. It takes 3.2 seconds to update the cooccurrences.\n",
      "Converting to cooccur_df...\n",
      "Starting seed4\n",
      "Updating co-occurrence matrix from a Dataframe with 18186 rows...\n",
      "Finished. It takes 3.2 seconds to update the cooccurrences.\n",
      "Converting to cooccur_df...\n",
      "Starting seed5\n",
      "Updating co-occurrence matrix from a Dataframe with 18186 rows...\n",
      "Finished. It takes 3.2 seconds to update the cooccurrences.\n",
      "Converting to cooccur_df...\n",
      "Starting seed6\n",
      "Updating co-occurrence matrix from a Dataframe with 18186 rows...\n",
      "Finished. It takes 3.2 seconds to update the cooccurrences.\n",
      "Converting to cooccur_df...\n",
      "Starting seed7\n",
      "Updating co-occurrence matrix from a Dataframe with 18186 rows...\n",
      "Finished. It takes 3.3 seconds to update the cooccurrences.\n",
      "Converting to cooccur_df...\n",
      "Starting seed8\n",
      "Updating co-occurrence matrix from a Dataframe with 18186 rows...\n",
      "Finished. It takes 3.2 seconds to update the cooccurrences.\n",
      "Converting to cooccur_df...\n",
      "Starting seed9\n",
      "Updating co-occurrence matrix from a Dataframe with 18186 rows...\n",
      "Finished. It takes 3.2 seconds to update the cooccurrences.\n",
      "Converting to cooccur_df...\n"
     ]
    }
   ],
   "source": [
    "for seed in range(1,10):\n",
    "    print('Starting seed'+str(seed))\n",
    "    train_df, tst_df = train_test_split(ami_df, test_size=0.1, stratify=ami_df.HOSP_NRD, random_state=seed)\n",
    "\n",
    "    DX_df = tst_df[DXs]\n",
    "    DX_df = DX_df.fillna('missing')\n",
    "    DX_df[DX_df.isin(['invl', 'incn'])] = 'missing'\n",
    "    DX_df[DX_df.isin(unclassified)] = 'missing'\n",
    "    for dx in DXs:\n",
    "        DX_df[dx] = DX_df[dx].map(DX_dict)\n",
    "        \n",
    "    PR_df = tst_df[PRs]\n",
    "    PR_df = PR_df.fillna('missing')\n",
    "    PR_df[PR_df.isin(['invl', 'incn'])] = 'missing'\n",
    "    for pr in PRs:\n",
    "        PR_df[pr] = PR_df[pr].map(PR_dict)\n",
    "        \n",
    "    int_df = pd.concat([DX_df, PR_df], axis=1)\n",
    "\n",
    "    g2 = Glove(input_dim=len(code_cat), embedding_dim=100)\n",
    "\n",
    "    g2.update_cooccur(int_df)\n",
    "\n",
    "    cooccur_dict_tst = g2.get_cooccur_dict()\n",
    "\n",
    "    cooccur_dict0 = cooccur_dict.copy()\n",
    "\n",
    "    for k, v in cooccur_dict_tst.items():\n",
    "        cooccur_dict0[k] -= v\n",
    "    print('Converting to cooccur_df...')\n",
    "    pairs = list(cooccur_dict0.keys())\n",
    "    counts = list(cooccur_dict0.values())\n",
    "    focal, context = zip(*pairs)\n",
    "    cooccur_df0 = pd.DataFrame(dict(focal_index=focal, context_index=context, cooccur_counts=counts), \n",
    "                              columns=['focal_index', 'context_index', 'cooccur_counts'])\n",
    "\n",
    "    cooccur_df0.to_csv(path+'all/cooccur_df_ami'+str(seed)+'.csv', index=False)"
   ]
  },
  {
   "cell_type": "markdown",
   "metadata": {},
   "source": [
    "### Separate DX1"
   ]
  },
  {
   "cell_type": "code",
   "execution_count": 10,
   "metadata": {},
   "outputs": [],
   "source": [
    "DX1_cat = ['missing'] + sorted(dx_multi.ICD9CM_CODE)\n",
    "DX_cat = ['missing'] + sorted(dx_multi.ICD9CM_CODE)\n",
    "PR_cat = ['missing'] + sorted(pr_multi.ICD9CM_CODE)\n",
    "code_cat = ['missing'] + sorted(dx_multi.ICD9CM_CODE) + sorted(dx_multi.ICD9CM_CODE) + sorted(pr_multi.ICD9CM_CODE)\n",
    "\n",
    "n_DX_cat = len(DX_cat)\n",
    "n_PR_cat = len(PR_cat)\n",
    "n_code_cat = len(code_cat)\n",
    "\n",
    "DX1_dict = dict(zip(DX1_cat, range(len(DX_cat))))\n",
    "DX_dict = dict(zip(DX_cat, [0] + list(range(len(DX_cat), len(DX_cat)*2))))\n",
    "PR_dict = dict(zip(PR_cat, [0] + list(range(len(DX_cat)*2-1, len(DX_cat)*2+len(PR_cat)-1))))\n",
    "\n",
    "DXs = ['DX'+str(j) for j in range(2, 31)]\n",
    "PRs = ['PR'+str(j) for j in range(1, 16)]"
   ]
  },
  {
   "cell_type": "code",
   "execution_count": 11,
   "metadata": {},
   "outputs": [],
   "source": [
    "unclassified = set(dx_multi.loc[dx_multi.CCS_LVL1 == '18', 'ICD9CM_CODE'])"
   ]
  },
  {
   "cell_type": "code",
   "execution_count": 14,
   "metadata": {},
   "outputs": [],
   "source": [
    "g = Glove(input_dim=len(code_cat), embedding_dim=100)"
   ]
  },
  {
   "cell_type": "code",
   "execution_count": 11,
   "metadata": {},
   "outputs": [],
   "source": [
    "dxpr_df = pd.read_csv(path+'raw/2014/NRD_2014_Core.CSV', sep=',', \n",
    "                           header = None, \n",
    "                           names=core_cols, \n",
    "                           dtype=core_dtypes_pd, \n",
    "                           na_values=na_values, \n",
    "                           chunksize=500000)"
   ]
  },
  {
   "cell_type": "code",
   "execution_count": 15,
   "metadata": {
    "collapsed": true
   },
   "outputs": [
    {
     "name": "stdout",
     "output_type": "stream",
     "text": [
      "Updating co-occurrence matrix from a Dataframe with 500000 rows...\n",
      "Finished. It takes 83.0 seconds to update the cooccurrences.\n",
      "Chunk 0 finished. It takes 93.2 seconds.\n",
      "Updating co-occurrence matrix from a Dataframe with 500000 rows...\n",
      "Finished. It takes 80.6 seconds to update the cooccurrences.\n",
      "Chunk 1 finished. It takes 93.7 seconds.\n",
      "Updating co-occurrence matrix from a Dataframe with 500000 rows...\n",
      "Finished. It takes 83.6 seconds to update the cooccurrences.\n",
      "Chunk 2 finished. It takes 96.0 seconds.\n",
      "Updating co-occurrence matrix from a Dataframe with 500000 rows...\n",
      "Finished. It takes 84.7 seconds to update the cooccurrences.\n",
      "Chunk 3 finished. It takes 98.9 seconds.\n",
      "Updating co-occurrence matrix from a Dataframe with 500000 rows...\n",
      "Finished. It takes 82.5 seconds to update the cooccurrences.\n",
      "Chunk 4 finished. It takes 96.6 seconds.\n",
      "Updating co-occurrence matrix from a Dataframe with 500000 rows...\n",
      "Finished. It takes 80.6 seconds to update the cooccurrences.\n",
      "Chunk 5 finished. It takes 95.1 seconds.\n",
      "Updating co-occurrence matrix from a Dataframe with 500000 rows...\n",
      "Finished. It takes 81.7 seconds to update the cooccurrences.\n",
      "Chunk 6 finished. It takes 96.6 seconds.\n",
      "Updating co-occurrence matrix from a Dataframe with 500000 rows...\n",
      "Finished. It takes 83.1 seconds to update the cooccurrences.\n",
      "Chunk 7 finished. It takes 98.5 seconds.\n",
      "Updating co-occurrence matrix from a Dataframe with 500000 rows...\n",
      "Finished. It takes 86.0 seconds to update the cooccurrences.\n",
      "Chunk 8 finished. It takes 101.7 seconds.\n",
      "Updating co-occurrence matrix from a Dataframe with 500000 rows...\n",
      "Finished. It takes 79.6 seconds to update the cooccurrences.\n",
      "Chunk 9 finished. It takes 95.5 seconds.\n",
      "Updating co-occurrence matrix from a Dataframe with 500000 rows...\n",
      "Finished. It takes 87.3 seconds to update the cooccurrences.\n",
      "Chunk 10 finished. It takes 103.7 seconds.\n",
      "Updating co-occurrence matrix from a Dataframe with 500000 rows...\n",
      "Finished. It takes 84.1 seconds to update the cooccurrences.\n",
      "Chunk 11 finished. It takes 101.7 seconds.\n",
      "Updating co-occurrence matrix from a Dataframe with 500000 rows...\n",
      "Finished. It takes 91.9 seconds to update the cooccurrences.\n",
      "Chunk 12 finished. It takes 110.7 seconds.\n",
      "Updating co-occurrence matrix from a Dataframe with 500000 rows...\n",
      "Finished. It takes 82.8 seconds to update the cooccurrences.\n",
      "Chunk 13 finished. It takes 106.6 seconds.\n",
      "Updating co-occurrence matrix from a Dataframe with 500000 rows...\n",
      "Finished. It takes 103.5 seconds to update the cooccurrences.\n",
      "Chunk 14 finished. It takes 122.6 seconds.\n",
      "Updating co-occurrence matrix from a Dataframe with 500000 rows...\n",
      "Finished. It takes 101.8 seconds to update the cooccurrences.\n",
      "Chunk 15 finished. It takes 130.4 seconds.\n",
      "Updating co-occurrence matrix from a Dataframe with 500000 rows...\n",
      "Finished. It takes 89.0 seconds to update the cooccurrences.\n",
      "Chunk 16 finished. It takes 114.8 seconds.\n",
      "Updating co-occurrence matrix from a Dataframe with 500000 rows...\n",
      "Finished. It takes 92.1 seconds to update the cooccurrences.\n",
      "Chunk 17 finished. It takes 120.2 seconds.\n",
      "Updating co-occurrence matrix from a Dataframe with 500000 rows...\n",
      "Finished. It takes 94.8 seconds to update the cooccurrences.\n",
      "Chunk 18 finished. It takes 122.3 seconds.\n",
      "Updating co-occurrence matrix from a Dataframe with 500000 rows...\n",
      "Finished. It takes 117.7 seconds to update the cooccurrences.\n",
      "Chunk 19 finished. It takes 146.3 seconds.\n",
      "Updating co-occurrence matrix from a Dataframe with 500000 rows...\n",
      "Finished. It takes 96.3 seconds to update the cooccurrences.\n",
      "Chunk 20 finished. It takes 128.6 seconds.\n",
      "Updating co-occurrence matrix from a Dataframe with 500000 rows...\n",
      "Finished. It takes 91.4 seconds to update the cooccurrences.\n",
      "Chunk 21 finished. It takes 118.3 seconds.\n",
      "Updating co-occurrence matrix from a Dataframe with 500000 rows...\n",
      "Finished. It takes 93.4 seconds to update the cooccurrences.\n",
      "Chunk 22 finished. It takes 121.8 seconds.\n",
      "Updating co-occurrence matrix from a Dataframe with 500000 rows...\n",
      "Finished. It takes 105.0 seconds to update the cooccurrences.\n",
      "Chunk 23 finished. It takes 145.6 seconds.\n",
      "Updating co-occurrence matrix from a Dataframe with 500000 rows...\n",
      "Finished. It takes 94.4 seconds to update the cooccurrences.\n",
      "Chunk 24 finished. It takes 126.0 seconds.\n",
      "Updating co-occurrence matrix from a Dataframe with 500000 rows...\n",
      "Finished. It takes 98.5 seconds to update the cooccurrences.\n",
      "Chunk 25 finished. It takes 134.0 seconds.\n",
      "Updating co-occurrence matrix from a Dataframe with 500000 rows...\n",
      "Finished. It takes 91.6 seconds to update the cooccurrences.\n",
      "Chunk 26 finished. It takes 127.5 seconds.\n",
      "Updating co-occurrence matrix from a Dataframe with 500000 rows...\n",
      "Finished. It takes 102.1 seconds to update the cooccurrences.\n",
      "Chunk 27 finished. It takes 137.2 seconds.\n",
      "Updating co-occurrence matrix from a Dataframe with 500000 rows...\n",
      "Finished. It takes 96.1 seconds to update the cooccurrences.\n",
      "Chunk 28 finished. It takes 138.0 seconds.\n",
      "Updating co-occurrence matrix from a Dataframe with 394613 rows...\n",
      "Finished. It takes 78.1 seconds to update the cooccurrences.\n",
      "Chunk 29 finished. It takes 110.5 seconds.\n"
     ]
    }
   ],
   "source": [
    "chunk_id = 0\n",
    "for df in dxpr_df:\n",
    "    start = time.time()\n",
    "    DX1_df = df[['DX1']]\n",
    "    DX1_df = DX1_df.fillna('missing')\n",
    "    DX1_df[DX1_df.isin(['invl', 'incn'])] = 'missing'\n",
    "    DX1_df[DX1_df.isin(unclassified)] = 'missing'\n",
    "    DX1_df['DX1'] = DX1_df['DX1'].map(DX1_dict)\n",
    "    \n",
    "    DX_df = df[DXs]\n",
    "    DX_df = DX_df.fillna('missing')\n",
    "    DX_df[DX_df.isin(['invl', 'incn'])] = 'missing'\n",
    "    DX_df[DX_df.isin(unclassified)] = 'missing'\n",
    "    for dx in DXs:\n",
    "        DX_df[dx] = DX_df[dx].map(DX_dict)\n",
    "        \n",
    "    PR_df = df[PRs]\n",
    "    PR_df = PR_df.fillna('missing')\n",
    "    PR_df[PR_df.isin(['invl', 'incn'])] = 'missing'\n",
    "    for pr in PRs:\n",
    "        PR_df[pr] = PR_df[pr].map(PR_dict)\n",
    "        \n",
    "    df = pd.concat([DX1_df, DX_df, PR_df], axis=1)\n",
    "    g.update_cooccur(df)\n",
    "    print('Chunk {} finished. It takes {:.1f} seconds.'.format(chunk_id, time.time()-start))\n",
    "    chunk_id += 1"
   ]
  },
  {
   "cell_type": "code",
   "execution_count": 16,
   "metadata": {},
   "outputs": [],
   "source": [
    "cooccur_dict = g.get_cooccur_dict()"
   ]
  },
  {
   "cell_type": "markdown",
   "metadata": {},
   "source": [
    "### Co-Occurence Matrices for cross-validation"
   ]
  },
  {
   "cell_type": "code",
   "execution_count": 20,
   "metadata": {},
   "outputs": [],
   "source": [
    "ami_df = pd.read_csv(path+'cohorts/ami/ami_pred.csv', dtype=core_dtypes_pd)"
   ]
  },
  {
   "cell_type": "code",
   "execution_count": 26,
   "metadata": {
    "collapsed": true
   },
   "outputs": [
    {
     "name": "stdout",
     "output_type": "stream",
     "text": [
      "Starting seed1\n",
      "Updating co-occurrence matrix from a Dataframe with 18186 rows...\n",
      "Finished. It takes 4.8 seconds to update the cooccurrences.\n",
      "Converting to cooccur_df...\n"
     ]
    },
    {
     "ename": "KeyboardInterrupt",
     "evalue": "",
     "output_type": "error",
     "traceback": [
      "\u001b[0;31m---------------------------------------------------------------------------\u001b[0m",
      "\u001b[0;31mKeyboardInterrupt\u001b[0m                         Traceback (most recent call last)",
      "\u001b[0;32m<ipython-input-26-b1611c39f2a5>\u001b[0m in \u001b[0;36m<module>\u001b[0;34m()\u001b[0m\n\u001b[1;32m     39\u001b[0m     \u001b[0mfocal\u001b[0m\u001b[0;34m,\u001b[0m \u001b[0mcontext\u001b[0m \u001b[0;34m=\u001b[0m \u001b[0mzip\u001b[0m\u001b[0;34m(\u001b[0m\u001b[0;34m*\u001b[0m\u001b[0mpairs\u001b[0m\u001b[0;34m)\u001b[0m\u001b[0;34m\u001b[0m\u001b[0m\n\u001b[1;32m     40\u001b[0m     cooccur_df0 = pd.DataFrame(dict(focal_index=focal, context_index=context, cooccur_counts=counts), \n\u001b[0;32m---> 41\u001b[0;31m                               columns=['focal_index', 'context_index', 'cooccur_counts'])\n\u001b[0m\u001b[1;32m     42\u001b[0m     \u001b[0mcooccur_df0\u001b[0m \u001b[0;34m=\u001b[0m \u001b[0mcooccur_df0\u001b[0m\u001b[0;34m.\u001b[0m\u001b[0mloc\u001b[0m\u001b[0;34m[\u001b[0m\u001b[0mcooccur_df0\u001b[0m\u001b[0;34m.\u001b[0m\u001b[0mcooccur_counts\u001b[0m\u001b[0;34m>\u001b[0m\u001b[0;36m0\u001b[0m\u001b[0;34m]\u001b[0m\u001b[0;34m\u001b[0m\u001b[0m\n\u001b[1;32m     43\u001b[0m     \u001b[0mcooccur_df0\u001b[0m\u001b[0;34m.\u001b[0m\u001b[0mto_csv\u001b[0m\u001b[0;34m(\u001b[0m\u001b[0mpath\u001b[0m\u001b[0;34m+\u001b[0m\u001b[0;34m'all/sepdx1/cooccur_df_ami'\u001b[0m\u001b[0;34m+\u001b[0m\u001b[0mstr\u001b[0m\u001b[0;34m(\u001b[0m\u001b[0mseed\u001b[0m\u001b[0;34m)\u001b[0m\u001b[0;34m+\u001b[0m\u001b[0;34m'.csv'\u001b[0m\u001b[0;34m,\u001b[0m \u001b[0mindex\u001b[0m\u001b[0;34m=\u001b[0m\u001b[0;32mFalse\u001b[0m\u001b[0;34m)\u001b[0m\u001b[0;34m\u001b[0m\u001b[0m\n",
      "\u001b[0;32m/sw/lsa/centos7/python-anaconda-arc-connect/created-20170421/lib/python3.5/site-packages/pandas/core/frame.py\u001b[0m in \u001b[0;36m__init__\u001b[0;34m(self, data, index, columns, dtype, copy)\u001b[0m\n\u001b[1;32m    346\u001b[0m                                  dtype=dtype, copy=copy)\n\u001b[1;32m    347\u001b[0m         \u001b[0;32melif\u001b[0m \u001b[0misinstance\u001b[0m\u001b[0;34m(\u001b[0m\u001b[0mdata\u001b[0m\u001b[0;34m,\u001b[0m \u001b[0mdict\u001b[0m\u001b[0;34m)\u001b[0m\u001b[0;34m:\u001b[0m\u001b[0;34m\u001b[0m\u001b[0m\n\u001b[0;32m--> 348\u001b[0;31m             \u001b[0mmgr\u001b[0m \u001b[0;34m=\u001b[0m \u001b[0mself\u001b[0m\u001b[0;34m.\u001b[0m\u001b[0m_init_dict\u001b[0m\u001b[0;34m(\u001b[0m\u001b[0mdata\u001b[0m\u001b[0;34m,\u001b[0m \u001b[0mindex\u001b[0m\u001b[0;34m,\u001b[0m \u001b[0mcolumns\u001b[0m\u001b[0;34m,\u001b[0m \u001b[0mdtype\u001b[0m\u001b[0;34m=\u001b[0m\u001b[0mdtype\u001b[0m\u001b[0;34m)\u001b[0m\u001b[0;34m\u001b[0m\u001b[0m\n\u001b[0m\u001b[1;32m    349\u001b[0m         \u001b[0;32melif\u001b[0m \u001b[0misinstance\u001b[0m\u001b[0;34m(\u001b[0m\u001b[0mdata\u001b[0m\u001b[0;34m,\u001b[0m \u001b[0mma\u001b[0m\u001b[0;34m.\u001b[0m\u001b[0mMaskedArray\u001b[0m\u001b[0;34m)\u001b[0m\u001b[0;34m:\u001b[0m\u001b[0;34m\u001b[0m\u001b[0m\n\u001b[1;32m    350\u001b[0m             \u001b[0;32mimport\u001b[0m \u001b[0mnumpy\u001b[0m\u001b[0;34m.\u001b[0m\u001b[0mma\u001b[0m\u001b[0;34m.\u001b[0m\u001b[0mmrecords\u001b[0m \u001b[0;32mas\u001b[0m \u001b[0mmrecords\u001b[0m\u001b[0;34m\u001b[0m\u001b[0m\n",
      "\u001b[0;32m/sw/lsa/centos7/python-anaconda-arc-connect/created-20170421/lib/python3.5/site-packages/pandas/core/frame.py\u001b[0m in \u001b[0;36m_init_dict\u001b[0;34m(self, data, index, columns, dtype)\u001b[0m\n\u001b[1;32m    457\u001b[0m             \u001b[0marrays\u001b[0m \u001b[0;34m=\u001b[0m \u001b[0;34m[\u001b[0m\u001b[0mdata\u001b[0m\u001b[0;34m[\u001b[0m\u001b[0mk\u001b[0m\u001b[0;34m]\u001b[0m \u001b[0;32mfor\u001b[0m \u001b[0mk\u001b[0m \u001b[0;32min\u001b[0m \u001b[0mkeys\u001b[0m\u001b[0;34m]\u001b[0m\u001b[0;34m\u001b[0m\u001b[0m\n\u001b[1;32m    458\u001b[0m \u001b[0;34m\u001b[0m\u001b[0m\n\u001b[0;32m--> 459\u001b[0;31m         \u001b[0;32mreturn\u001b[0m \u001b[0m_arrays_to_mgr\u001b[0m\u001b[0;34m(\u001b[0m\u001b[0marrays\u001b[0m\u001b[0;34m,\u001b[0m \u001b[0mdata_names\u001b[0m\u001b[0;34m,\u001b[0m \u001b[0mindex\u001b[0m\u001b[0;34m,\u001b[0m \u001b[0mcolumns\u001b[0m\u001b[0;34m,\u001b[0m \u001b[0mdtype\u001b[0m\u001b[0;34m=\u001b[0m\u001b[0mdtype\u001b[0m\u001b[0;34m)\u001b[0m\u001b[0;34m\u001b[0m\u001b[0m\n\u001b[0m\u001b[1;32m    460\u001b[0m \u001b[0;34m\u001b[0m\u001b[0m\n\u001b[1;32m    461\u001b[0m     \u001b[0;32mdef\u001b[0m \u001b[0m_init_ndarray\u001b[0m\u001b[0;34m(\u001b[0m\u001b[0mself\u001b[0m\u001b[0;34m,\u001b[0m \u001b[0mvalues\u001b[0m\u001b[0;34m,\u001b[0m \u001b[0mindex\u001b[0m\u001b[0;34m,\u001b[0m \u001b[0mcolumns\u001b[0m\u001b[0;34m,\u001b[0m \u001b[0mdtype\u001b[0m\u001b[0;34m=\u001b[0m\u001b[0;32mNone\u001b[0m\u001b[0;34m,\u001b[0m \u001b[0mcopy\u001b[0m\u001b[0;34m=\u001b[0m\u001b[0;32mFalse\u001b[0m\u001b[0;34m)\u001b[0m\u001b[0;34m:\u001b[0m\u001b[0;34m\u001b[0m\u001b[0m\n",
      "\u001b[0;32m/sw/lsa/centos7/python-anaconda-arc-connect/created-20170421/lib/python3.5/site-packages/pandas/core/frame.py\u001b[0m in \u001b[0;36m_arrays_to_mgr\u001b[0;34m(arrays, arr_names, index, columns, dtype)\u001b[0m\n\u001b[1;32m   7357\u001b[0m \u001b[0;34m\u001b[0m\u001b[0m\n\u001b[1;32m   7358\u001b[0m     \u001b[0;31m# don't force copy because getting jammed in an ndarray anyway\u001b[0m\u001b[0;34m\u001b[0m\u001b[0;34m\u001b[0m\u001b[0m\n\u001b[0;32m-> 7359\u001b[0;31m     \u001b[0marrays\u001b[0m \u001b[0;34m=\u001b[0m \u001b[0m_homogenize\u001b[0m\u001b[0;34m(\u001b[0m\u001b[0marrays\u001b[0m\u001b[0;34m,\u001b[0m \u001b[0mindex\u001b[0m\u001b[0;34m,\u001b[0m \u001b[0mdtype\u001b[0m\u001b[0;34m)\u001b[0m\u001b[0;34m\u001b[0m\u001b[0m\n\u001b[0m\u001b[1;32m   7360\u001b[0m \u001b[0;34m\u001b[0m\u001b[0m\n\u001b[1;32m   7361\u001b[0m     \u001b[0;31m# from BlockManager perspective\u001b[0m\u001b[0;34m\u001b[0m\u001b[0;34m\u001b[0m\u001b[0m\n",
      "\u001b[0;32m/sw/lsa/centos7/python-anaconda-arc-connect/created-20170421/lib/python3.5/site-packages/pandas/core/frame.py\u001b[0m in \u001b[0;36m_homogenize\u001b[0;34m(data, index, dtype)\u001b[0m\n\u001b[1;32m   7667\u001b[0m                 \u001b[0mv\u001b[0m \u001b[0;34m=\u001b[0m \u001b[0mlib\u001b[0m\u001b[0;34m.\u001b[0m\u001b[0mfast_multiget\u001b[0m\u001b[0;34m(\u001b[0m\u001b[0mv\u001b[0m\u001b[0;34m,\u001b[0m \u001b[0moindex\u001b[0m\u001b[0;34m.\u001b[0m\u001b[0mvalues\u001b[0m\u001b[0;34m,\u001b[0m \u001b[0mdefault\u001b[0m\u001b[0;34m=\u001b[0m\u001b[0mnp\u001b[0m\u001b[0;34m.\u001b[0m\u001b[0mnan\u001b[0m\u001b[0;34m)\u001b[0m\u001b[0;34m\u001b[0m\u001b[0m\n\u001b[1;32m   7668\u001b[0m             v = _sanitize_array(v, index, dtype=dtype, copy=False,\n\u001b[0;32m-> 7669\u001b[0;31m                                 raise_cast_failure=False)\n\u001b[0m\u001b[1;32m   7670\u001b[0m \u001b[0;34m\u001b[0m\u001b[0m\n\u001b[1;32m   7671\u001b[0m         \u001b[0mhomogenized\u001b[0m\u001b[0;34m.\u001b[0m\u001b[0mappend\u001b[0m\u001b[0;34m(\u001b[0m\u001b[0mv\u001b[0m\u001b[0;34m)\u001b[0m\u001b[0;34m\u001b[0m\u001b[0m\n",
      "\u001b[0;32m/sw/lsa/centos7/python-anaconda-arc-connect/created-20170421/lib/python3.5/site-packages/pandas/core/series.py\u001b[0m in \u001b[0;36m_sanitize_array\u001b[0;34m(data, index, dtype, copy, raise_cast_failure)\u001b[0m\n\u001b[1;32m   4120\u001b[0m \u001b[0;34m\u001b[0m\u001b[0m\n\u001b[1;32m   4121\u001b[0m         \u001b[0;32melse\u001b[0m\u001b[0;34m:\u001b[0m\u001b[0;34m\u001b[0m\u001b[0m\n\u001b[0;32m-> 4122\u001b[0;31m             \u001b[0msubarr\u001b[0m \u001b[0;34m=\u001b[0m \u001b[0mmaybe_convert_platform\u001b[0m\u001b[0;34m(\u001b[0m\u001b[0mdata\u001b[0m\u001b[0;34m)\u001b[0m\u001b[0;34m\u001b[0m\u001b[0m\n\u001b[0m\u001b[1;32m   4123\u001b[0m \u001b[0;34m\u001b[0m\u001b[0m\n\u001b[1;32m   4124\u001b[0m         \u001b[0msubarr\u001b[0m \u001b[0;34m=\u001b[0m \u001b[0mmaybe_cast_to_datetime\u001b[0m\u001b[0;34m(\u001b[0m\u001b[0msubarr\u001b[0m\u001b[0;34m,\u001b[0m \u001b[0mdtype\u001b[0m\u001b[0;34m)\u001b[0m\u001b[0;34m\u001b[0m\u001b[0m\n",
      "\u001b[0;31mKeyboardInterrupt\u001b[0m: "
     ]
    }
   ],
   "source": [
    "for seed in range(1,10):\n",
    "    print('Starting seed'+str(seed))\n",
    "    train_df, tst_df = train_test_split(ami_df, test_size=0.1, stratify=ami_df.HOSP_NRD, random_state=seed)\n",
    "\n",
    "    DX1_df = tst_df[['DX1']]\n",
    "    DX1_df = DX1_df.fillna('missing')\n",
    "    DX1_df[DX1_df.isin(['invl', 'incn'])] = 'missing'\n",
    "    DX1_df[DX1_df.isin(unclassified)] = 'missing'\n",
    "    DX1_df['DX1'] = DX1_df['DX1'].map(DX1_dict)\n",
    "    \n",
    "    DX_df = tst_df[DXs]\n",
    "    DX_df = DX_df.fillna('missing')\n",
    "    DX_df[DX_df.isin(['invl', 'incn'])] = 'missing'\n",
    "    DX_df[DX_df.isin(unclassified)] = 'missing'\n",
    "    for dx in DXs:\n",
    "        DX_df[dx] = DX_df[dx].map(DX_dict)\n",
    "        \n",
    "    PR_df = tst_df[PRs]\n",
    "    PR_df = PR_df.fillna('missing')\n",
    "    PR_df[PR_df.isin(['invl', 'incn'])] = 'missing'\n",
    "    for pr in PRs:\n",
    "        PR_df[pr] = PR_df[pr].map(PR_dict)\n",
    "        \n",
    "    int_df = pd.concat([DX1_df, DX_df, PR_df], axis=1)\n",
    "\n",
    "    g2 = Glove(input_dim=len(code_cat), embedding_dim=100)\n",
    "\n",
    "    g2.update_cooccur(int_df)\n",
    "\n",
    "    cooccur_dict_tst = g2.get_cooccur_dict()\n",
    "\n",
    "    cooccur_dict0 = cooccur_dict.copy()\n",
    "\n",
    "    for k, v in cooccur_dict_tst.items():\n",
    "        cooccur_dict0[k] -= v\n",
    "    print('Converting to cooccur_df...')\n",
    "    pairs = list(cooccur_dict0.keys())\n",
    "    counts = list(cooccur_dict0.values())\n",
    "    focal, context = zip(*pairs)\n",
    "    cooccur_df0 = pd.DataFrame(dict(focal_index=focal, context_index=context, cooccur_counts=counts), \n",
    "                              columns=['focal_index', 'context_index', 'cooccur_counts'])\n",
    "    cooccur_df0 = cooccur_df0.loc[cooccur_df0.cooccur_counts>0]\n",
    "    cooccur_df0.to_csv(path+'all/sepdx1/cooccur_df_ami'+str(seed)+'.csv', index=False)"
   ]
  },
  {
   "cell_type": "markdown",
   "metadata": {},
   "source": [
    "### Cooccurrence between DX1 and DX"
   ]
  },
  {
   "cell_type": "code",
   "execution_count": 10,
   "metadata": {},
   "outputs": [],
   "source": [
    "DX1_int_set = set(DX1_dict.values())"
   ]
  },
  {
   "cell_type": "code",
   "execution_count": 11,
   "metadata": {},
   "outputs": [],
   "source": [
    "DX1_DX_df = cooccur_df.loc[cooccur_df.context_index.isin(DX1_int_set)]"
   ]
  },
  {
   "cell_type": "code",
   "execution_count": 21,
   "metadata": {},
   "outputs": [],
   "source": [
    "DX_cooccur_df = cooccur_df.loc[~cooccur_df.context_index.isin(DX1_int_set)]"
   ]
  },
  {
   "cell_type": "code",
   "execution_count": 31,
   "metadata": {
    "collapsed": true
   },
   "outputs": [
    {
     "name": "stdout",
     "output_type": "stream",
     "text": [
      "Preparing data...\n",
      "Defining the GloVe model...\n",
      "Training the GloVe model...\n",
      "Train on 9528371 samples, validate on 2382093 samples\n",
      "Epoch 1/50\n",
      "9528371/9528371 [==============================] - 62s 7us/step - loss: 0.2679 - val_loss: 0.0617\n",
      "Epoch 2/50\n",
      "9528371/9528371 [==============================] - 62s 7us/step - loss: 0.0484 - val_loss: 0.0414\n",
      "Epoch 3/50\n",
      "9528371/9528371 [==============================] - 62s 7us/step - loss: 0.0372 - val_loss: 0.0370\n",
      "Epoch 4/50\n",
      "9528371/9528371 [==============================] - 62s 6us/step - loss: 0.0338 - val_loss: 0.0359\n",
      "Epoch 5/50\n",
      "9528371/9528371 [==============================] - 62s 7us/step - loss: 0.0323 - val_loss: 0.0355\n",
      "Epoch 6/50\n",
      "9528371/9528371 [==============================] - 62s 6us/step - loss: 0.0315 - val_loss: 0.0354\n",
      "Epoch 7/50\n",
      "9528371/9528371 [==============================] - 62s 7us/step - loss: 0.0309 - val_loss: 0.0354\n",
      "Epoch 8/50\n",
      "9528371/9528371 [==============================] - 62s 6us/step - loss: 0.0306 - val_loss: 0.0352\n",
      "Epoch 9/50\n",
      "9528371/9528371 [==============================] - 62s 7us/step - loss: 0.0303 - val_loss: 0.0352\n",
      "Epoch 10/50\n",
      "9528371/9528371 [==============================] - 62s 7us/step - loss: 0.0300 - val_loss: 0.0354\n",
      "Epoch 11/50\n",
      "9528371/9528371 [==============================] - 62s 7us/step - loss: 0.0299 - val_loss: 0.0354\n",
      "Epoch 12/50\n",
      "9528371/9528371 [==============================] - 62s 7us/step - loss: 0.0297 - val_loss: 0.0354\n",
      "Epoch 13/50\n",
      "9528371/9528371 [==============================] - 62s 6us/step - loss: 0.0295 - val_loss: 0.0354\n",
      "Epoch 14/50\n",
      "9528371/9528371 [==============================] - 62s 7us/step - loss: 0.0294 - val_loss: 0.0354\n",
      "Epoch 15/50\n",
      "9528371/9528371 [==============================] - 62s 7us/step - loss: 0.0293 - val_loss: 0.0353\n",
      "Epoch 16/50\n",
      "9528371/9528371 [==============================] - 62s 7us/step - loss: 0.0292 - val_loss: 0.0354\n",
      "Epoch 17/50\n",
      "9528371/9528371 [==============================] - 62s 6us/step - loss: 0.0291 - val_loss: 0.0354\n",
      "Epoch 18/50\n",
      "9528371/9528371 [==============================] - 62s 7us/step - loss: 0.0290 - val_loss: 0.0354\n",
      "Epoch 19/50\n",
      "9528371/9528371 [==============================] - 62s 7us/step - loss: 0.0246 - val_loss: 0.0325\n",
      "Epoch 20/50\n",
      "9528371/9528371 [==============================] - 62s 7us/step - loss: 0.0238 - val_loss: 0.0324\n",
      "Epoch 21/50\n",
      "9528371/9528371 [==============================] - 62s 7us/step - loss: 0.0236 - val_loss: 0.0324\n",
      "Epoch 22/50\n",
      "9528371/9528371 [==============================] - 62s 7us/step - loss: 0.0236 - val_loss: 0.0325\n",
      "Epoch 23/50\n",
      "9528371/9528371 [==============================] - 62s 7us/step - loss: 0.0236 - val_loss: 0.0325\n",
      "Epoch 24/50\n",
      "9528371/9528371 [==============================] - 62s 7us/step - loss: 0.0235 - val_loss: 0.0326\n",
      "Epoch 25/50\n",
      "9528371/9528371 [==============================] - 62s 7us/step - loss: 0.0235 - val_loss: 0.0326\n",
      "Epoch 26/50\n",
      "9528371/9528371 [==============================] - 62s 7us/step - loss: 0.0235 - val_loss: 0.0327\n",
      "Epoch 27/50\n",
      "9528371/9528371 [==============================] - 62s 7us/step - loss: 0.0235 - val_loss: 0.0327\n",
      "Epoch 28/50\n",
      "9528371/9528371 [==============================] - 62s 6us/step - loss: 0.0235 - val_loss: 0.0328\n",
      "Epoch 29/50\n",
      "9528371/9528371 [==============================] - 62s 7us/step - loss: 0.0235 - val_loss: 0.0328\n",
      "Epoch 30/50\n",
      "9528371/9528371 [==============================] - 62s 7us/step - loss: 0.0225 - val_loss: 0.0326\n",
      "Epoch 31/50\n",
      "9528371/9528371 [==============================] - 62s 6us/step - loss: 0.0224 - val_loss: 0.0326\n",
      "Epoch 32/50\n",
      "9528371/9528371 [==============================] - 62s 7us/step - loss: 0.0224 - val_loss: 0.0326\n",
      "Epoch 33/50\n",
      "9528371/9528371 [==============================] - 62s 7us/step - loss: 0.0224 - val_loss: 0.0326\n",
      "Epoch 34/50\n",
      "9528371/9528371 [==============================] - 62s 7us/step - loss: 0.0224 - val_loss: 0.0326\n",
      "Epoch 35/50\n",
      "9528371/9528371 [==============================] - 62s 7us/step - loss: 0.0224 - val_loss: 0.0327\n",
      "Epoch 36/50\n",
      "9528371/9528371 [==============================] - 62s 7us/step - loss: 0.0224 - val_loss: 0.0327\n",
      "Epoch 37/50\n",
      "9528371/9528371 [==============================] - 62s 7us/step - loss: 0.0224 - val_loss: 0.0327\n",
      "Epoch 38/50\n",
      "9528371/9528371 [==============================] - 62s 7us/step - loss: 0.0224 - val_loss: 0.0327\n",
      "Epoch 39/50\n",
      "9528371/9528371 [==============================] - 62s 7us/step - loss: 0.0224 - val_loss: 0.0327\n",
      "Epoch 40/50\n",
      "9528371/9528371 [==============================] - 62s 6us/step - loss: 0.0221 - val_loss: 0.0327\n",
      "Finished. The pretrained embedding matrix can be retrieved by .get_embed_mat().\n"
     ]
    }
   ],
   "source": [
    "g.train_glove(cooccur_df=DX_cooccur_df, cache_path=model_path, epochs=50)"
   ]
  },
  {
   "cell_type": "code",
   "execution_count": 32,
   "metadata": {},
   "outputs": [],
   "source": [
    "embed_mat = g.get_embed_mat()"
   ]
  },
  {
   "cell_type": "code",
   "execution_count": 34,
   "metadata": {},
   "outputs": [],
   "source": [
    "np.save(path+'all/embed_mat_secondary.npy', embed_mat)"
   ]
  },
  {
   "cell_type": "code",
   "execution_count": 12,
   "metadata": {},
   "outputs": [],
   "source": [
    "secondary_embed_mat = np.load(path+'all/embed_mat_secondary.npy')"
   ]
  },
  {
   "cell_type": "code",
   "execution_count": 23,
   "metadata": {},
   "outputs": [],
   "source": [
    "g = Glove(input_dim=n_code_cat, embedding_dim=100)"
   ]
  },
  {
   "cell_type": "code",
   "execution_count": 24,
   "metadata": {
    "collapsed": true
   },
   "outputs": [
    {
     "name": "stdout",
     "output_type": "stream",
     "text": [
      "Preparing data...\n",
      "Defining the GloVe model...\n",
      "Training the GloVe model...\n",
      "Train on 4184553 samples, validate on 1046139 samples\n",
      "Epoch 1/50\n",
      "4184553/4184553 [==============================] - 29s 7us/step - loss: 0.3180 - val_loss: 0.0661\n",
      "Epoch 2/50\n",
      "4184553/4184553 [==============================] - 28s 7us/step - loss: 0.0497 - val_loss: 0.0438\n",
      "Epoch 3/50\n",
      "4184553/4184553 [==============================] - 28s 7us/step - loss: 0.0375 - val_loss: 0.0395\n",
      "Epoch 4/50\n",
      "4184553/4184553 [==============================] - 29s 7us/step - loss: 0.0338 - val_loss: 0.0380\n",
      "Epoch 5/50\n",
      "4184553/4184553 [==============================] - 28s 7us/step - loss: 0.0322 - val_loss: 0.0375\n",
      "Epoch 6/50\n",
      "4184553/4184553 [==============================] - 28s 7us/step - loss: 0.0313 - val_loss: 0.0374\n",
      "Epoch 7/50\n",
      "4184553/4184553 [==============================] - 28s 7us/step - loss: 0.0307 - val_loss: 0.0373\n",
      "Epoch 8/50\n",
      "4184553/4184553 [==============================] - 28s 7us/step - loss: 0.0303 - val_loss: 0.0374\n",
      "Epoch 9/50\n",
      "4184553/4184553 [==============================] - 28s 7us/step - loss: 0.0301 - val_loss: 0.0375\n",
      "Epoch 10/50\n",
      "4184553/4184553 [==============================] - 28s 7us/step - loss: 0.0299 - val_loss: 0.0376\n",
      "Epoch 11/50\n",
      "4184553/4184553 [==============================] - 28s 7us/step - loss: 0.0297 - val_loss: 0.0378\n",
      "Epoch 12/50\n",
      "4184553/4184553 [==============================] - 28s 7us/step - loss: 0.0273 - val_loss: 0.0369\n",
      "Epoch 13/50\n",
      "4184553/4184553 [==============================] - 28s 7us/step - loss: 0.0271 - val_loss: 0.0368\n",
      "Epoch 14/50\n",
      "4184553/4184553 [==============================] - 28s 7us/step - loss: 0.0270 - val_loss: 0.0368\n",
      "Epoch 15/50\n",
      "4184553/4184553 [==============================] - 28s 7us/step - loss: 0.0269 - val_loss: 0.0369\n",
      "Epoch 16/50\n",
      "4184553/4184553 [==============================] - 28s 7us/step - loss: 0.0269 - val_loss: 0.0369\n",
      "Epoch 17/50\n",
      "4184553/4184553 [==============================] - 29s 7us/step - loss: 0.0269 - val_loss: 0.0369\n",
      "Epoch 18/50\n",
      "4184553/4184553 [==============================] - 28s 7us/step - loss: 0.0263 - val_loss: 0.0368\n",
      "Epoch 19/50\n",
      "4184553/4184553 [==============================] - 29s 7us/step - loss: 0.0263 - val_loss: 0.0368\n",
      "Epoch 20/50\n",
      "4184553/4184553 [==============================] - 28s 7us/step - loss: 0.0263 - val_loss: 0.0368\n",
      "Epoch 21/50\n",
      "4184553/4184553 [==============================] - 28s 7us/step - loss: 0.0263 - val_loss: 0.0368\n",
      "Epoch 22/50\n",
      "4184553/4184553 [==============================] - 28s 7us/step - loss: 0.0263 - val_loss: 0.0368\n",
      "Epoch 23/50\n",
      "4184553/4184553 [==============================] - 28s 7us/step - loss: 0.0262 - val_loss: 0.0368\n",
      "Epoch 24/50\n",
      "4184553/4184553 [==============================] - 28s 7us/step - loss: 0.0262 - val_loss: 0.0368\n",
      "Epoch 25/50\n",
      "4184553/4184553 [==============================] - 29s 7us/step - loss: 0.0262 - val_loss: 0.0368\n",
      "Epoch 26/50\n",
      "4184553/4184553 [==============================] - 28s 7us/step - loss: 0.0262 - val_loss: 0.0368\n",
      "Epoch 27/50\n",
      "4184553/4184553 [==============================] - 28s 7us/step - loss: 0.0262 - val_loss: 0.0368\n",
      "Epoch 28/50\n",
      "4184553/4184553 [==============================] - 28s 7us/step - loss: 0.0261 - val_loss: 0.0368\n",
      "Epoch 29/50\n",
      "4184553/4184553 [==============================] - 28s 7us/step - loss: 0.0261 - val_loss: 0.0368\n",
      "Epoch 30/50\n",
      "4184553/4184553 [==============================] - 28s 7us/step - loss: 0.0261 - val_loss: 0.0368\n",
      "Epoch 31/50\n",
      "4184553/4184553 [==============================] - 28s 7us/step - loss: 0.0261 - val_loss: 0.0368\n",
      "Epoch 32/50\n",
      "4184553/4184553 [==============================] - 28s 7us/step - loss: 0.0261 - val_loss: 0.0368\n",
      "Epoch 33/50\n",
      "4184553/4184553 [==============================] - 28s 7us/step - loss: 0.0261 - val_loss: 0.0368\n",
      "Epoch 34/50\n",
      "4184553/4184553 [==============================] - 29s 7us/step - loss: 0.0261 - val_loss: 0.0368\n",
      "Epoch 35/50\n",
      "4184553/4184553 [==============================] - 28s 7us/step - loss: 0.0261 - val_loss: 0.0368\n",
      "Epoch 36/50\n",
      "4184553/4184553 [==============================] - 29s 7us/step - loss: 0.0261 - val_loss: 0.0368\n",
      "Epoch 37/50\n",
      "4184553/4184553 [==============================] - 28s 7us/step - loss: 0.0261 - val_loss: 0.0368\n",
      "Epoch 38/50\n",
      "4184553/4184553 [==============================] - 29s 7us/step - loss: 0.0261 - val_loss: 0.0368\n",
      "Epoch 39/50\n",
      "4184553/4184553 [==============================] - 29s 7us/step - loss: 0.0261 - val_loss: 0.0368\n",
      "Finished. The pretrained embedding matrix can be retrieved by .get_embed_mat().\n"
     ]
    }
   ],
   "source": [
    "g.train_glove_double(cooccur_df=DX1_DX_df, cache_path=model_path, focal_initializer=Constant(secondary_embed_mat), \n",
    "                     focal_trainable=False, reducelr_patience=5)"
   ]
  },
  {
   "cell_type": "code",
   "execution_count": 27,
   "metadata": {},
   "outputs": [],
   "source": [
    "focal_embed, context_embed = g.get_embed_mat(double=True)"
   ]
  },
  {
   "cell_type": "code",
   "execution_count": 30,
   "metadata": {},
   "outputs": [],
   "source": [
    "embed_mat = focal_embed\n",
    "embed_mat[:n_DX_cat, ] = context_embed[:n_DX_cat, ]"
   ]
  },
  {
   "cell_type": "code",
   "execution_count": 31,
   "metadata": {},
   "outputs": [],
   "source": [
    "np.save(path+'all/embed_mat_double.npy', embed_mat)"
   ]
  },
  {
   "cell_type": "markdown",
   "metadata": {},
   "source": [
    "### Co-Occurence Matrices for cross-validation"
   ]
  },
  {
   "cell_type": "code",
   "execution_count": 10,
   "metadata": {},
   "outputs": [],
   "source": [
    "ami_df = pd.read_csv(path+'cohorts/ami/ami_pred.csv', dtype=core_dtypes_pd)"
   ]
  },
  {
   "cell_type": "code",
   "execution_count": 39,
   "metadata": {
    "collapsed": true
   },
   "outputs": [
    {
     "name": "stdout",
     "output_type": "stream",
     "text": [
      "Starting seed1\n",
      "Updating co-occurrence matrix from a Dataframe with 18186 rows...\n",
      "Finished. It takes 3.3 seconds to update the cooccurrences.\n",
      "Converting to cooccur_df...\n",
      "Starting seed2\n",
      "Updating co-occurrence matrix from a Dataframe with 18186 rows...\n",
      "Finished. It takes 3.2 seconds to update the cooccurrences.\n",
      "Converting to cooccur_df...\n",
      "Starting seed3\n",
      "Updating co-occurrence matrix from a Dataframe with 18186 rows...\n",
      "Finished. It takes 3.2 seconds to update the cooccurrences.\n",
      "Converting to cooccur_df...\n",
      "Starting seed4\n",
      "Updating co-occurrence matrix from a Dataframe with 18186 rows...\n",
      "Finished. It takes 3.2 seconds to update the cooccurrences.\n",
      "Converting to cooccur_df...\n",
      "Starting seed5\n",
      "Updating co-occurrence matrix from a Dataframe with 18186 rows...\n",
      "Finished. It takes 3.2 seconds to update the cooccurrences.\n",
      "Converting to cooccur_df...\n",
      "Starting seed6\n",
      "Updating co-occurrence matrix from a Dataframe with 18186 rows...\n",
      "Finished. It takes 3.2 seconds to update the cooccurrences.\n",
      "Converting to cooccur_df...\n",
      "Starting seed7\n",
      "Updating co-occurrence matrix from a Dataframe with 18186 rows...\n",
      "Finished. It takes 3.3 seconds to update the cooccurrences.\n",
      "Converting to cooccur_df...\n",
      "Starting seed8\n",
      "Updating co-occurrence matrix from a Dataframe with 18186 rows...\n",
      "Finished. It takes 3.2 seconds to update the cooccurrences.\n",
      "Converting to cooccur_df...\n",
      "Starting seed9\n",
      "Updating co-occurrence matrix from a Dataframe with 18186 rows...\n",
      "Finished. It takes 3.2 seconds to update the cooccurrences.\n",
      "Converting to cooccur_df...\n"
     ]
    }
   ],
   "source": [
    "for seed in range(1,10):\n",
    "    print('Starting seed'+str(seed))\n",
    "    train_df, tst_df = train_test_split(ami_df, test_size=0.1, stratify=ami_df.HOSP_NRD, random_state=seed)\n",
    "\n",
    "    DX_df = tst_df[DXs]\n",
    "    DX_df = DX_df.fillna('missing')\n",
    "    DX_df[DX_df.isin(['invl', 'incn'])] = 'missing'\n",
    "    DX_df[DX_df.isin(unclassified)] = 'missing'\n",
    "    for dx in DXs:\n",
    "        DX_df[dx] = DX_df[dx].map(DX_dict)\n",
    "        \n",
    "    PR_df = tst_df[PRs]\n",
    "    PR_df = PR_df.fillna('missing')\n",
    "    PR_df[PR_df.isin(['invl', 'incn'])] = 'missing'\n",
    "    for pr in PRs:\n",
    "        PR_df[pr] = PR_df[pr].map(PR_dict)\n",
    "        \n",
    "    int_df = pd.concat([DX_df, PR_df], axis=1)\n",
    "\n",
    "    g2 = Glove(input_dim=len(code_cat), embedding_dim=100)\n",
    "\n",
    "    g2.update_cooccur(int_df)\n",
    "\n",
    "    cooccur_dict_tst = g2.get_cooccur_dict()\n",
    "\n",
    "    cooccur_dict0 = cooccur_dict.copy()\n",
    "\n",
    "    for k, v in cooccur_dict_tst.items():\n",
    "        cooccur_dict0[k] -= v\n",
    "    print('Converting to cooccur_df...')\n",
    "    pairs = list(cooccur_dict0.keys())\n",
    "    counts = list(cooccur_dict0.values())\n",
    "    focal, context = zip(*pairs)\n",
    "    cooccur_df0 = pd.DataFrame(dict(focal_index=focal, context_index=context, cooccur_counts=counts), \n",
    "                              columns=['focal_index', 'context_index', 'cooccur_counts'])\n",
    "\n",
    "    cooccur_df0.to_csv(path+'all/cooccur_df_ami'+str(seed)+'.csv', index=False)"
   ]
  },
  {
   "cell_type": "code",
   "execution_count": 15,
   "metadata": {},
   "outputs": [],
   "source": [
    "embed_mat = g.get_embed_mat()"
   ]
  },
  {
   "cell_type": "code",
   "execution_count": 16,
   "metadata": {},
   "outputs": [
    {
     "data": {
      "text/plain": [
       "(19021, 100)"
      ]
     },
     "execution_count": 16,
     "metadata": {},
     "output_type": "execute_result"
    }
   ],
   "source": [
    "embed_mat.shape"
   ]
  },
  {
   "cell_type": "code",
   "execution_count": 24,
   "metadata": {},
   "outputs": [],
   "source": [
    "np.save(path+'all/embed_mat0821.npy', embed_mat)"
   ]
  },
  {
   "cell_type": "markdown",
   "metadata": {},
   "source": [
    "### Adding Multi-Level Penalization\n",
    "Not separate dx1"
   ]
  },
  {
   "cell_type": "code",
   "execution_count": 8,
   "metadata": {},
   "outputs": [],
   "source": [
    "DX_cat = ['missing'] + sorted(dx_multi.ICD9CM_CODE)\n",
    "PR_cat = ['missing'] + sorted(pr_multi.ICD9CM_CODE)\n",
    "\n",
    "n_DX_cat = len(DX_cat)\n",
    "n_PR_cat = len(PR_cat)\n",
    "\n",
    "DX_dict = dict(zip(DX_cat, range(len(DX_cat))))\n",
    "PR_dict = dict(zip(PR_cat, [0] + list(range(len(DX_cat), len(DX_cat)+len(PR_cat)))))\n",
    "\n",
    "unclassified = set(dx_multi.loc[dx_multi.CCS_LVL1 == '18', 'ICD9CM_CODE'])\n",
    "\n",
    "dx_ccs_cat = pd.concat([dx_multi.CCS_LVL1, dx_multi.CCS_LVL2, dx_multi.CCS_LVL3, dx_multi.CCS_LVL4]).astype('category').cat.categories\n",
    "pr_ccs_cat = pd.concat([pr_multi.CCS_LVL1, pr_multi.CCS_LVL2, pr_multi.CCS_LVL3]).astype('category').cat.categories\n",
    "\n",
    "code_cat = ['missing'] + sorted(dx_multi.ICD9CM_CODE) + sorted(pr_multi.ICD9CM_CODE) + sorted(dx_ccs_cat)[1:] + sorted(pr_ccs_cat)[1:]\n",
    "n_code_cat = len(code_cat)\n",
    "\n",
    "dx_ccs_dict = dict(zip(dx_ccs_cat[1:], range(len(dx_multi)+len(pr_multi)+1, len(dx_multi)+len(pr_multi)+len(dx_ccs_cat))))\n",
    "pr_ccs_dict = dict(zip(pr_ccs_cat[1:], range(len(dx_multi)+len(pr_multi)+len(dx_ccs_cat), n_code_cat)))"
   ]
  },
  {
   "cell_type": "code",
   "execution_count": 12,
   "metadata": {},
   "outputs": [
    {
     "data": {
      "text/plain": [
       "20153"
      ]
     },
     "execution_count": 12,
     "metadata": {},
     "output_type": "execute_result"
    }
   ],
   "source": [
    "n_code_cat"
   ]
  },
  {
   "cell_type": "code",
   "execution_count": 9,
   "metadata": {},
   "outputs": [],
   "source": [
    "parent_pairs = []\n",
    "for dx in DX_cat[1:]:\n",
    "    if not dx in unclassified:\n",
    "        parent = dx_multi.loc[dx, 'finest_non_empty']\n",
    "        parent_pairs.append((DX_dict[dx], dx_ccs_dict[parent]))\n",
    "for pr in PR_cat[1:]:\n",
    "    parent = pr_multi.loc[pr, 'finest_non_empty']\n",
    "    parent_pairs.append((PR_dict[pr], pr_ccs_dict[parent]))\n",
    "for c in dx_ccs_cat[1:]:\n",
    "    parent = '.'.join(c.split('.')[:-1])\n",
    "    if not parent=='':\n",
    "        parent_pairs.append((dx_ccs_dict[c], dx_ccs_dict[parent]))\n",
    "for c in pr_ccs_cat[1:]:\n",
    "    parent = '.'.join(c.split('.')[:-1])\n",
    "    if not parent=='':\n",
    "        parent_pairs.append((pr_ccs_dict[c], pr_ccs_dict[parent]))"
   ]
  },
  {
   "cell_type": "code",
   "execution_count": 17,
   "metadata": {},
   "outputs": [
    {
     "data": {
      "text/plain": [
       "18529"
      ]
     },
     "execution_count": 17,
     "metadata": {},
     "output_type": "execute_result"
    }
   ],
   "source": [
    "len(parent_pairs)"
   ]
  },
  {
   "cell_type": "code",
   "execution_count": 29,
   "metadata": {},
   "outputs": [],
   "source": [
    "g = Glove(input_dim=len(code_cat), embedding_dim=100)"
   ]
  },
  {
   "cell_type": "code",
   "execution_count": 18,
   "metadata": {},
   "outputs": [],
   "source": [
    "cooccur_df = pd.read_csv(path+'all/cooccur_df.csv')"
   ]
  },
  {
   "cell_type": "code",
   "execution_count": 84,
   "metadata": {},
   "outputs": [
    {
     "data": {
      "text/plain": [
       "(12866672, 3)"
      ]
     },
     "execution_count": 84,
     "metadata": {},
     "output_type": "execute_result"
    }
   ],
   "source": [
    "cooccur_df.shape"
   ]
  },
  {
   "cell_type": "code",
   "execution_count": 86,
   "metadata": {},
   "outputs": [],
   "source": [
    "import glove\n",
    "reload(glove)\n",
    "from glove import Glove"
   ]
  },
  {
   "cell_type": "code",
   "execution_count": 30,
   "metadata": {
    "collapsed": true
   },
   "outputs": [
    {
     "name": "stdout",
     "output_type": "stream",
     "text": [
      "Preparing data...\n",
      "Defining the GloVe model...\n",
      "Training the GloVe model...\n",
      "Train on 10293337 samples, validate on 2573335 samples\n",
      "Epoch 1/20\n",
      "10293337/10293337 [==============================] - 67s 6us/step - loss: 0.3101 - val_loss: 0.1280\n",
      "Epoch 2/20\n",
      "10293337/10293337 [==============================] - 67s 7us/step - loss: 0.1187 - val_loss: 0.1111\n",
      "Epoch 3/20\n",
      "10293337/10293337 [==============================] - 67s 6us/step - loss: 0.1095 - val_loss: 0.1068\n",
      "Epoch 4/20\n",
      "10293337/10293337 [==============================] - 67s 6us/step - loss: 0.1068 - val_loss: 0.1054\n",
      "Epoch 5/20\n",
      "10293337/10293337 [==============================] - 67s 7us/step - loss: 0.1058 - val_loss: 0.1047\n",
      "Epoch 6/20\n",
      "10293337/10293337 [==============================] - 67s 7us/step - loss: 0.1053 - val_loss: 0.1046\n",
      "Epoch 7/20\n",
      "10293337/10293337 [==============================] - 67s 7us/step - loss: 0.1049 - val_loss: 0.1041\n",
      "Epoch 8/20\n",
      "10293337/10293337 [==============================] - 67s 6us/step - loss: 0.1047 - val_loss: 0.1041\n",
      "Epoch 9/20\n",
      "10293337/10293337 [==============================] - 67s 7us/step - loss: 0.1045 - val_loss: 0.1037\n",
      "Epoch 10/20\n",
      "10293337/10293337 [==============================] - 67s 6us/step - loss: 0.1043 - val_loss: 0.1038\n",
      "Epoch 11/20\n",
      "10293337/10293337 [==============================] - 67s 7us/step - loss: 0.1041 - val_loss: 0.1037\n",
      "Epoch 12/20\n",
      "10293337/10293337 [==============================] - 67s 6us/step - loss: 0.1040 - val_loss: 0.1032\n",
      "Epoch 13/20\n",
      "10293337/10293337 [==============================] - 67s 6us/step - loss: 0.1038 - val_loss: 0.1032\n",
      "Epoch 14/20\n",
      "10293337/10293337 [==============================] - 67s 7us/step - loss: 0.1037 - val_loss: 0.1031\n",
      "Epoch 15/20\n",
      "10293337/10293337 [==============================] - 67s 7us/step - loss: 0.1036 - val_loss: 0.1030\n",
      "Epoch 16/20\n",
      "10293337/10293337 [==============================] - 67s 7us/step - loss: 0.1035 - val_loss: 0.1028\n",
      "Epoch 17/20\n",
      "10293337/10293337 [==============================] - 67s 6us/step - loss: 0.1034 - val_loss: 0.1027\n",
      "Epoch 18/20\n",
      "10293337/10293337 [==============================] - 67s 6us/step - loss: 0.1033 - val_loss: 0.1027\n",
      "Epoch 19/20\n",
      "10293337/10293337 [==============================] - 67s 7us/step - loss: 0.1032 - val_loss: 0.1027\n",
      "Epoch 20/20\n",
      "10293337/10293337 [==============================] - 67s 7us/step - loss: 0.1031 - val_loss: 0.1024\n",
      "Finished. The pretrained embedding matrix can be retrieved by .get_embed_mat().\n"
     ]
    }
   ],
   "source": [
    "g.train_glove(cooccur_df=cooccur_df, cache_path=model_path, epochs=20, reducelr_patience=5, parent_pairs=parent_pairs, lamb=1e-5, norm=2)"
   ]
  },
  {
   "cell_type": "code",
   "execution_count": 31,
   "metadata": {},
   "outputs": [],
   "source": [
    "embed_mat = g.get_embed_mat()"
   ]
  },
  {
   "cell_type": "code",
   "execution_count": 16,
   "metadata": {},
   "outputs": [
    {
     "data": {
      "text/plain": [
       "(19021, 100)"
      ]
     },
     "execution_count": 16,
     "metadata": {},
     "output_type": "execute_result"
    }
   ],
   "source": [
    "embed_mat.shape"
   ]
  },
  {
   "cell_type": "code",
   "execution_count": 34,
   "metadata": {},
   "outputs": [],
   "source": [
    "np.save(path+'all/embed_mat_pen0824.npy', embed_mat)"
   ]
  },
  {
   "cell_type": "markdown",
   "metadata": {},
   "source": [
    "Separate DX1"
   ]
  },
  {
   "cell_type": "code",
   "execution_count": 12,
   "metadata": {},
   "outputs": [],
   "source": [
    "DX_cat = ['missing'] + sorted(dx_multi.ICD9CM_CODE)\n",
    "PR_cat = ['missing'] + sorted(pr_multi.ICD9CM_CODE)\n",
    "\n",
    "n_DX_cat = len(DX_cat)\n",
    "n_PR_cat = len(PR_cat)\n",
    "\n",
    "DX1_dict = dict(zip(DX_cat, range(len(DX_cat))))\n",
    "DX_dict = dict(zip(DX_cat, [0] + list(range(len(DX_cat), len(DX_cat)*2))))\n",
    "PR_dict = dict(zip(PR_cat, [0] + list(range(len(DX_cat)*2-1, len(DX_cat)*2+len(PR_cat)-1))))\n",
    "\n",
    "DXs = ['DX'+str(j) for j in range(2, 31)]\n",
    "PRs = ['PR'+str(j) for j in range(1, 16)]\n",
    "\n",
    "unclassified = set(dx_multi.loc[dx_multi.CCS_LVL1 == '18', 'ICD9CM_CODE'])\n",
    "\n",
    "dx_ccs_cat = pd.concat([dx_multi.CCS_LVL1, dx_multi.CCS_LVL2, dx_multi.CCS_LVL3, dx_multi.CCS_LVL4]).astype('category').cat.categories\n",
    "pr_ccs_cat = pd.concat([pr_multi.CCS_LVL1, pr_multi.CCS_LVL2, pr_multi.CCS_LVL3]).astype('category').cat.categories\n",
    "\n",
    "code_cat = ['missing'] + sorted(dx_multi.ICD9CM_CODE)*2 + sorted(pr_multi.ICD9CM_CODE)+ sorted(dx_ccs_cat)[1:]*2 + sorted(pr_ccs_cat)[1:]\n",
    "n_code_cat = len(code_cat)\n",
    "\n",
    "dx1_ccs_dict = dict(zip(dx_ccs_cat[1:], range(1+len(dx_multi)*2+len(pr_multi), len(dx_multi)*2+len(pr_multi)+len(dx_ccs_cat))))\n",
    "dx_ccs_dict = dict(zip(dx_ccs_cat[1:], range(1+len(dx_multi)*2+len(pr_multi)+len(dx_ccs_cat[1:]), 1+len(dx_multi)*2+len(pr_multi)+len(dx_ccs_cat[1:])*2)))\n",
    "pr_ccs_dict = dict(zip(pr_ccs_cat[1:], range(1+len(dx_multi)*2+len(pr_multi)+len(dx_ccs_cat[1:])*2, n_code_cat)))"
   ]
  },
  {
   "cell_type": "code",
   "execution_count": 13,
   "metadata": {},
   "outputs": [],
   "source": [
    "parent_pairs = []\n",
    "for dx in DX_cat[1:]:\n",
    "    if not dx in unclassified:\n",
    "        parent = dx_multi.loc[dx, 'finest_non_empty']\n",
    "        parent_pairs.append((DX1_dict[dx], dx1_ccs_dict[parent]))\n",
    "        parent_pairs.append((DX_dict[dx], dx_ccs_dict[parent]))\n",
    "for pr in PR_cat[1:]:\n",
    "    parent = pr_multi.loc[pr, 'finest_non_empty']\n",
    "    parent_pairs.append((PR_dict[pr], pr_ccs_dict[parent]))\n",
    "for c in dx_ccs_cat[1:]:\n",
    "    parent = '.'.join(c.split('.')[:-1])\n",
    "    if not parent=='':\n",
    "        parent_pairs.append((dx1_ccs_dict[c], dx1_ccs_dict[parent]))\n",
    "        parent_pairs.append((dx_ccs_dict[c], dx_ccs_dict[parent]))\n",
    "for c in pr_ccs_cat[1:]:\n",
    "    parent = '.'.join(c.split('.')[:-1])\n",
    "    if not parent=='':\n",
    "        parent_pairs.append((pr_ccs_dict[c], pr_ccs_dict[parent]))"
   ]
  },
  {
   "cell_type": "code",
   "execution_count": 9,
   "metadata": {},
   "outputs": [],
   "source": [
    "g = Glove(input_dim=len(code_cat), embedding_dim=200)"
   ]
  },
  {
   "cell_type": "code",
   "execution_count": 10,
   "metadata": {},
   "outputs": [],
   "source": [
    "cooccur_df = pd.read_csv(path+'all/sepdx1/cooccur_df_ami0.csv')"
   ]
  },
  {
   "cell_type": "code",
   "execution_count": 15,
   "metadata": {},
   "outputs": [
    {
     "data": {
      "text/plain": [
       "(17136813, 3)"
      ]
     },
     "execution_count": 15,
     "metadata": {},
     "output_type": "execute_result"
    }
   ],
   "source": [
    "cooccur_df.shape"
   ]
  },
  {
   "cell_type": "code",
   "execution_count": 12,
   "metadata": {
    "scrolled": true
   },
   "outputs": [
    {
     "name": "stdout",
     "output_type": "stream",
     "text": [
      "Preparing data...\n",
      "Defining the GloVe model...\n",
      "Training the GloVe model...\n",
      "Epoch 1/30\n",
      "17136813/17136813 [==============================] - 238s 14us/step - loss: 0.1609\n",
      "Epoch 2/30\n",
      "17136813/17136813 [==============================] - 236s 14us/step - loss: 0.0412\n",
      "Epoch 3/30\n",
      "17136813/17136813 [==============================] - 236s 14us/step - loss: 0.0362\n",
      "Epoch 4/30\n",
      "17136813/17136813 [==============================] - 236s 14us/step - loss: 0.0342\n",
      "Epoch 5/30\n",
      "17136813/17136813 [==============================] - 236s 14us/step - loss: 0.0330\n",
      "Epoch 6/30\n",
      "17136813/17136813 [==============================] - 236s 14us/step - loss: 0.0322\n",
      "Epoch 7/30\n",
      "17136813/17136813 [==============================] - 236s 14us/step - loss: 0.0317\n",
      "Epoch 8/30\n",
      "17136813/17136813 [==============================] - 236s 14us/step - loss: 0.0313\n",
      "Epoch 9/30\n",
      "17136813/17136813 [==============================] - 236s 14us/step - loss: 0.0309\n",
      "Epoch 10/30\n",
      "17136813/17136813 [==============================] - 236s 14us/step - loss: 0.0307\n",
      "Epoch 11/30\n",
      "17136813/17136813 [==============================] - 235s 14us/step - loss: 0.0305\n",
      "Epoch 12/30\n",
      "17136813/17136813 [==============================] - 235s 14us/step - loss: 0.0303\n",
      "Epoch 13/30\n",
      "17136813/17136813 [==============================] - 234s 14us/step - loss: 0.0301\n",
      "Epoch 14/30\n",
      "17136813/17136813 [==============================] - 234s 14us/step - loss: 0.0300\n",
      "Epoch 15/30\n",
      "17136813/17136813 [==============================] - 234s 14us/step - loss: 0.0299\n",
      "Epoch 16/30\n",
      "17136813/17136813 [==============================] - 234s 14us/step - loss: 0.0298\n",
      "Epoch 17/30\n",
      "17136813/17136813 [==============================] - 234s 14us/step - loss: 0.0297\n",
      "Epoch 18/30\n",
      "17136813/17136813 [==============================] - 234s 14us/step - loss: 0.0297\n",
      "Epoch 19/30\n",
      "17136813/17136813 [==============================] - 234s 14us/step - loss: 0.0296\n",
      "Epoch 20/30\n",
      "17136813/17136813 [==============================] - 234s 14us/step - loss: 0.0296\n",
      "Epoch 21/30\n",
      "17136813/17136813 [==============================] - 234s 14us/step - loss: 0.0295\n",
      "Epoch 22/30\n",
      "17136813/17136813 [==============================] - 234s 14us/step - loss: 0.0295\n",
      "Epoch 23/30\n",
      "17136813/17136813 [==============================] - 233s 14us/step - loss: 0.0234\n",
      "Epoch 24/30\n",
      "17136813/17136813 [==============================] - 234s 14us/step - loss: 0.0215\n",
      "Epoch 25/30\n",
      "17136813/17136813 [==============================] - 234s 14us/step - loss: 0.0211\n",
      "Epoch 26/30\n",
      "17136813/17136813 [==============================] - 234s 14us/step - loss: 0.0209\n",
      "Epoch 27/30\n",
      "17136813/17136813 [==============================] - 234s 14us/step - loss: 0.0208\n",
      "Epoch 28/30\n",
      "17136813/17136813 [==============================] - 234s 14us/step - loss: 0.0208\n",
      "Epoch 29/30\n",
      "17136813/17136813 [==============================] - 234s 14us/step - loss: 0.0207\n",
      "Epoch 30/30\n",
      "17136813/17136813 [==============================] - 234s 14us/step - loss: 0.0207\n",
      "Finished. The pretrained embedding matrix can be retrieved by .get_embed_mat().\n"
     ]
    }
   ],
   "source": [
    "g.train_glove(cooccur_df=cooccur_df, cache_path=model_path, epochs=30, reducelr_patience=2, parent_pairs=parent_pairs, lamb=0., \n",
    "              metric='cosine')"
   ]
  },
  {
   "cell_type": "code",
   "execution_count": 17,
   "metadata": {},
   "outputs": [
    {
     "data": {
      "text/plain": [
       "[<matplotlib.lines.Line2D at 0x2ba3dbf6bc18>]"
      ]
     },
     "execution_count": 17,
     "metadata": {},
     "output_type": "execute_result"
    },
    {
     "data": {
      "image/png": "[encoded data removed]",
      "text/plain": [
       "<Figure size 432x288 with 1 Axes>"
      ]
     },
     "metadata": {},
     "output_type": "display_data"
    }
   ],
   "source": [
    "plt.plot(g.train_history.history['loss'])"
   ]
  },
  {
   "cell_type": "code",
   "execution_count": 18,
   "metadata": {},
   "outputs": [
    {
     "data": {
      "text/plain": [
       "[<matplotlib.lines.Line2D at 0x2ba3e7e14b00>]"
      ]
     },
     "execution_count": 18,
     "metadata": {},
     "output_type": "execute_result"
    },
    {
     "data": {
      "image/png": "[encoded data removed]",
      "text/plain": [
       "<Figure size 432x288 with 1 Axes>"
      ]
     },
     "metadata": {},
     "output_type": "display_data"
    }
   ],
   "source": [
    "plt.plot(g.train_history.history['lr'])"
   ]
  },
  {
   "cell_type": "code",
   "execution_count": 20,
   "metadata": {},
   "outputs": [],
   "source": [
    "embed_mat = g.get_embed_mat()"
   ]
  },
  {
   "cell_type": "markdown",
   "metadata": {},
   "source": [
    "## Embedding Visualization"
   ]
  },
  {
   "cell_type": "code",
   "execution_count": 7,
   "metadata": {},
   "outputs": [],
   "source": [
    "from sklearn import decomposition, manifold"
   ]
  },
  {
   "cell_type": "code",
   "execution_count": 42,
   "metadata": {},
   "outputs": [],
   "source": [
    "from MulticoreTSNE import MulticoreTSNE as TSNE"
   ]
  },
  {
   "cell_type": "code",
   "execution_count": 8,
   "metadata": {},
   "outputs": [],
   "source": [
    "from collections import defaultdict"
   ]
  },
  {
   "cell_type": "code",
   "execution_count": 14,
   "metadata": {},
   "outputs": [],
   "source": [
    "embed_mat = np.load(path+'all/sepdx1/test_embed/cosine/embed_mat_200_0.000_20_ami0.npy')"
   ]
  },
  {
   "cell_type": "code",
   "execution_count": 15,
   "metadata": {},
   "outputs": [],
   "source": [
    "bias_mat = np.load(path+'all/sepdx1/test_embed/cosine/bias_mat_200_0.000_20_ami0.npy')"
   ]
  },
  {
   "cell_type": "code",
   "execution_count": 19,
   "metadata": {},
   "outputs": [],
   "source": [
    "DX_bias_array = bias_mat[DX_dict[DX_cat[1]]:(DX_dict[DX_cat[-1]]+1), 0]"
   ]
  },
  {
   "cell_type": "code",
   "execution_count": 17,
   "metadata": {},
   "outputs": [],
   "source": [
    "DX_marg_freq = pd.read_csv(path+'all/sepdx1/DX_marg_freq.csv')"
   ]
  },
  {
   "cell_type": "code",
   "execution_count": 20,
   "metadata": {},
   "outputs": [
    {
     "data": {
      "text/plain": [
       "((15072,), (15072, 2))"
      ]
     },
     "execution_count": 20,
     "metadata": {},
     "output_type": "execute_result"
    }
   ],
   "source": [
    "DX_bias_array.shape, DX_marg_freq.shape"
   ]
  },
  {
   "cell_type": "code",
   "execution_count": 27,
   "metadata": {},
   "outputs": [],
   "source": [
    "DX_marg_freq = DX_marg_freq.sort_values(by='DX')"
   ]
  },
  {
   "cell_type": "code",
   "execution_count": 25,
   "metadata": {},
   "outputs": [
    {
     "data": {
      "text/plain": [
       "['missing', '0010', '0011', '0019', '0020']"
      ]
     },
     "execution_count": 25,
     "metadata": {},
     "output_type": "execute_result"
    }
   ],
   "source": [
    "DX_cat[:5]"
   ]
  },
  {
   "cell_type": "code",
   "execution_count": 28,
   "metadata": {},
   "outputs": [
    {
     "data": {
      "text/plain": [
       "<matplotlib.collections.PathCollection at 0x2b045af88198>"
      ]
     },
     "execution_count": 28,
     "metadata": {},
     "output_type": "execute_result"
    },
    {
     "data": {
      "image/png": "[encoded data removed]",
      "text/plain": [
       "<Figure size 432x288 with 1 Axes>"
      ]
     },
     "metadata": {},
     "output_type": "display_data"
    }
   ],
   "source": [
    "plt.scatter(DX_bias_array, np.log(DX_marg_freq.marg_freq.values+1))"
   ]
  },
  {
   "cell_type": "markdown",
   "metadata": {},
   "source": [
    "Get marginal frequency:"
   ]
  },
  {
   "cell_type": "code",
   "execution_count": 198,
   "metadata": {},
   "outputs": [],
   "source": [
    "cooccur_df = pd.read_csv(path+'all/sepdx1/cooccur_df0820.csv')"
   ]
  },
  {
   "cell_type": "code",
   "execution_count": 199,
   "metadata": {},
   "outputs": [],
   "source": [
    "DX_freq_dict = defaultdict(float)"
   ]
  },
  {
   "cell_type": "code",
   "execution_count": 200,
   "metadata": {},
   "outputs": [
    {
     "data": {
      "text/html": [
       "<div>\n",
       "<style scoped>\n",
       "    .dataframe tbody tr th:only-of-type {\n",
       "        vertical-align: middle;\n",
       "    }\n",
       "\n",
       "    .dataframe tbody tr th {\n",
       "        vertical-align: top;\n",
       "    }\n",
       "\n",
       "    .dataframe thead th {\n",
       "        text-align: right;\n",
       "    }\n",
       "</style>\n",
       "<table border=\"1\" class=\"dataframe\">\n",
       "  <thead>\n",
       "    <tr style=\"text-align: right;\">\n",
       "      <th></th>\n",
       "      <th>focal_index</th>\n",
       "      <th>context_index</th>\n",
       "      <th>cooccur_counts</th>\n",
       "    </tr>\n",
       "  </thead>\n",
       "  <tbody>\n",
       "    <tr>\n",
       "      <th>0</th>\n",
       "      <td>24701</td>\n",
       "      <td>1137</td>\n",
       "      <td>2.0</td>\n",
       "    </tr>\n",
       "    <tr>\n",
       "      <th>1</th>\n",
       "      <td>27577</td>\n",
       "      <td>18219</td>\n",
       "      <td>43.0</td>\n",
       "    </tr>\n",
       "    <tr>\n",
       "      <th>2</th>\n",
       "      <td>29464</td>\n",
       "      <td>18045</td>\n",
       "      <td>1.0</td>\n",
       "    </tr>\n",
       "    <tr>\n",
       "      <th>3</th>\n",
       "      <td>26365</td>\n",
       "      <td>25684</td>\n",
       "      <td>5.0</td>\n",
       "    </tr>\n",
       "    <tr>\n",
       "      <th>4</th>\n",
       "      <td>25636</td>\n",
       "      <td>8684</td>\n",
       "      <td>14.0</td>\n",
       "    </tr>\n",
       "  </tbody>\n",
       "</table>\n",
       "</div>"
      ],
      "text/plain": [
       "   focal_index  context_index  cooccur_counts\n",
       "0        24701           1137             2.0\n",
       "1        27577          18219            43.0\n",
       "2        29464          18045             1.0\n",
       "3        26365          25684             5.0\n",
       "4        25636           8684            14.0"
      ]
     },
     "execution_count": 200,
     "metadata": {},
     "output_type": "execute_result"
    }
   ],
   "source": [
    "cooccur_df.head()"
   ]
  },
  {
   "cell_type": "code",
   "execution_count": 201,
   "metadata": {},
   "outputs": [],
   "source": [
    "for _, row in cooccur_df.iterrows():\n",
    "    DX_freq_dict[row.focal_index] += row.cooccur_counts\n",
    "    DX_freq_dict[row.context_index] += row.cooccur_counts"
   ]
  },
  {
   "cell_type": "code",
   "execution_count": 202,
   "metadata": {},
   "outputs": [
    {
     "data": {
      "text/plain": [
       "25393"
      ]
     },
     "execution_count": 202,
     "metadata": {},
     "output_type": "execute_result"
    }
   ],
   "source": [
    "len(DX_freq_dict)"
   ]
  },
  {
   "cell_type": "code",
   "execution_count": 204,
   "metadata": {},
   "outputs": [],
   "source": [
    "DX1_marg_freq = pd.DataFrame(dict(DX1=dx_multi.ICD9CM_CODE.values, \n",
    "                                  marg_freq=dx_multi.ICD9CM_CODE.apply(lambda x:DX_freq_dict[DX1_dict[x]])))\n",
    "\n",
    "DX_marg_freq = pd.DataFrame(dict(DX=dx_multi.ICD9CM_CODE.values, \n",
    "                                  marg_freq=dx_multi.ICD9CM_CODE.apply(lambda x:DX_freq_dict[DX_dict[x]])))\n",
    "\n",
    "PR_marg_freq = pd.DataFrame(dict(PR=pr_multi.ICD9CM_CODE.values, \n",
    "                                  marg_freq=pr_multi.ICD9CM_CODE.apply(lambda x:DX_freq_dict[PR_dict[x]])))"
   ]
  },
  {
   "cell_type": "code",
   "execution_count": 230,
   "metadata": {},
   "outputs": [],
   "source": [
    "DX1_marg_freq.to_csv(path+'all/sepdx1/DX1_marg_freq.csv', index=False)\n",
    "\n",
    "DX_marg_freq.to_csv(path+'all/sepdx1/DX_marg_freq.csv', index=False)\n",
    "\n",
    "PR_marg_freq.to_csv(path+'all/sepdx1/PR_marg_freq.csv', index=False)"
   ]
  },
  {
   "cell_type": "code",
   "execution_count": 10,
   "metadata": {},
   "outputs": [],
   "source": [
    "marg_freq = pd.read_csv(path+'all/sepdx1/marginal_freq.csv', dtype={'DX':bytes})\n",
    "\n",
    "marg_freq = marg_freq.set_index(marg_freq.DX)"
   ]
  },
  {
   "cell_type": "code",
   "execution_count": 11,
   "metadata": {},
   "outputs": [],
   "source": [
    "not_appear = marg_freq.loc[marg_freq.marg_freq==0, 'DX']"
   ]
  },
  {
   "cell_type": "code",
   "execution_count": 44,
   "metadata": {},
   "outputs": [
    {
     "data": {
      "text/plain": [
       "25393"
      ]
     },
     "execution_count": 44,
     "metadata": {},
     "output_type": "execute_result"
    }
   ],
   "source": [
    "len(DX_freq_dict)"
   ]
  },
  {
   "cell_type": "code",
   "execution_count": 13,
   "metadata": {},
   "outputs": [
    {
     "data": {
      "text/plain": [
       "(35952, 200)"
      ]
     },
     "execution_count": 13,
     "metadata": {},
     "output_type": "execute_result"
    }
   ],
   "source": [
    "embed_mat.shape"
   ]
  },
  {
   "cell_type": "code",
   "execution_count": 22,
   "metadata": {},
   "outputs": [],
   "source": [
    "DX_cat_clean = [dx for dx in DX_cat if dx not in unclassified if dx not in not_appear]\n",
    "\n",
    "DX_cat_clean = DX_cat_clean[1:]"
   ]
  },
  {
   "cell_type": "code",
   "execution_count": 190,
   "metadata": {},
   "outputs": [],
   "source": [
    "DX1_embed_mat = embed_mat[np.array([DX1_dict[dx] for dx in DX_cat_clean]), :]\n",
    "DX_embed_mat = embed_mat[np.array([DX_dict[dx] for dx in DX_cat_clean]), :]\n",
    "PR_embed_mat = embed_mat[np.array([PR_dict[pr] for pr in PR_cat[1:]]), :]"
   ]
  },
  {
   "cell_type": "code",
   "execution_count": 191,
   "metadata": {},
   "outputs": [],
   "source": [
    "tsne = TSNE(n_components=2, init='random', random_state=0)"
   ]
  },
  {
   "cell_type": "code",
   "execution_count": 192,
   "metadata": {},
   "outputs": [
    {
     "name": "stdout",
     "output_type": "stream",
     "text": [
      "Time used: 86.26013612747192 sec\n"
     ]
    }
   ],
   "source": [
    "start = time.time()\n",
    "DX_tsne = tsne.fit_transform(DX_embed_mat)\n",
    "print('Time used: {} sec'.format(time.time()-start))"
   ]
  },
  {
   "cell_type": "code",
   "execution_count": 193,
   "metadata": {},
   "outputs": [],
   "source": [
    "plot_df = pd.DataFrame(dict(x=DX_tsne[:, 0], y=DX_tsne[:, 1]), index=DX_cat_clean)"
   ]
  },
  {
   "cell_type": "markdown",
   "metadata": {},
   "source": [
    "CCS category labels:"
   ]
  },
  {
   "cell_type": "code",
   "execution_count": 194,
   "metadata": {},
   "outputs": [],
   "source": [
    "plot_df = plot_df.assign(ccs_lvl1=[dx_multi.loc[dx, 'CCS_LVL1']+' '+dx_multi.loc[dx, 'CCS_LVL1_LABEL'] for dx in plot_df.index])"
   ]
  },
  {
   "cell_type": "code",
   "execution_count": 195,
   "metadata": {},
   "outputs": [],
   "source": [
    "plot_df = plot_df.assign(marg_freq=marg_freq.loc[plot_df.index, 'marg_freq'])\n",
    "\n",
    "plot_df = plot_df.assign(dot_size=plot_df.marg_freq.apply(lambda x:np.log(x+1)**2/5))"
   ]
  },
  {
   "cell_type": "code",
   "execution_count": 150,
   "metadata": {},
   "outputs": [
    {
     "data": {
      "text/html": [
       "<div>\n",
       "<style scoped>\n",
       "    .dataframe tbody tr th:only-of-type {\n",
       "        vertical-align: middle;\n",
       "    }\n",
       "\n",
       "    .dataframe tbody tr th {\n",
       "        vertical-align: top;\n",
       "    }\n",
       "\n",
       "    .dataframe thead th {\n",
       "        text-align: right;\n",
       "    }\n",
       "</style>\n",
       "<table border=\"1\" class=\"dataframe\">\n",
       "  <thead>\n",
       "    <tr style=\"text-align: right;\">\n",
       "      <th></th>\n",
       "      <th>x</th>\n",
       "      <th>y</th>\n",
       "      <th>ccs_lvl1</th>\n",
       "      <th>marg_freq</th>\n",
       "      <th>dot_size</th>\n",
       "    </tr>\n",
       "  </thead>\n",
       "  <tbody>\n",
       "    <tr>\n",
       "      <th>0010</th>\n",
       "      <td>-8.924175</td>\n",
       "      <td>-16.874761</td>\n",
       "      <td>9 Diseases of the digestive system</td>\n",
       "      <td>66.0</td>\n",
       "      <td>3.535888</td>\n",
       "    </tr>\n",
       "    <tr>\n",
       "      <th>0019</th>\n",
       "      <td>-8.428122</td>\n",
       "      <td>-16.784478</td>\n",
       "      <td>9 Diseases of the digestive system</td>\n",
       "      <td>46.0</td>\n",
       "      <td>2.964727</td>\n",
       "    </tr>\n",
       "    <tr>\n",
       "      <th>0020</th>\n",
       "      <td>-8.250372</td>\n",
       "      <td>-17.170166</td>\n",
       "      <td>9 Diseases of the digestive system</td>\n",
       "      <td>906.0</td>\n",
       "      <td>9.275608</td>\n",
       "    </tr>\n",
       "    <tr>\n",
       "      <th>0021</th>\n",
       "      <td>-8.876140</td>\n",
       "      <td>-16.841060</td>\n",
       "      <td>9 Diseases of the digestive system</td>\n",
       "      <td>48.0</td>\n",
       "      <td>3.029253</td>\n",
       "    </tr>\n",
       "    <tr>\n",
       "      <th>0029</th>\n",
       "      <td>-8.832216</td>\n",
       "      <td>-16.880285</td>\n",
       "      <td>9 Diseases of the digestive system</td>\n",
       "      <td>77.0</td>\n",
       "      <td>3.796182</td>\n",
       "    </tr>\n",
       "    <tr>\n",
       "      <th>0030</th>\n",
       "      <td>-7.075158</td>\n",
       "      <td>-17.578424</td>\n",
       "      <td>9 Diseases of the digestive system</td>\n",
       "      <td>12799.0</td>\n",
       "      <td>17.887728</td>\n",
       "    </tr>\n",
       "    <tr>\n",
       "      <th>0031</th>\n",
       "      <td>-9.736203</td>\n",
       "      <td>-14.057403</td>\n",
       "      <td>1 Infectious and parasitic diseases</td>\n",
       "      <td>2549.0</td>\n",
       "      <td>12.305192</td>\n",
       "    </tr>\n",
       "    <tr>\n",
       "      <th>00320</th>\n",
       "      <td>-9.261261</td>\n",
       "      <td>-16.949209</td>\n",
       "      <td>9 Diseases of the digestive system</td>\n",
       "      <td>91.0</td>\n",
       "      <td>4.089314</td>\n",
       "    </tr>\n",
       "    <tr>\n",
       "      <th>00321</th>\n",
       "      <td>-2.612608</td>\n",
       "      <td>8.609093</td>\n",
       "      <td>6 Diseases of the nervous system and sense organs</td>\n",
       "      <td>67.0</td>\n",
       "      <td>3.560849</td>\n",
       "    </tr>\n",
       "    <tr>\n",
       "      <th>00322</th>\n",
       "      <td>2.452895</td>\n",
       "      <td>-12.785293</td>\n",
       "      <td>8 Diseases of the respiratory system</td>\n",
       "      <td>170.0</td>\n",
       "      <td>5.287341</td>\n",
       "    </tr>\n",
       "  </tbody>\n",
       "</table>\n",
       "</div>"
      ],
      "text/plain": [
       "              x          y                                           ccs_lvl1  \\\n",
       "0010  -8.924175 -16.874761                 9 Diseases of the digestive system   \n",
       "0019  -8.428122 -16.784478                 9 Diseases of the digestive system   \n",
       "0020  -8.250372 -17.170166                 9 Diseases of the digestive system   \n",
       "0021  -8.876140 -16.841060                 9 Diseases of the digestive system   \n",
       "0029  -8.832216 -16.880285                 9 Diseases of the digestive system   \n",
       "0030  -7.075158 -17.578424                 9 Diseases of the digestive system   \n",
       "0031  -9.736203 -14.057403                1 Infectious and parasitic diseases   \n",
       "00320 -9.261261 -16.949209                 9 Diseases of the digestive system   \n",
       "00321 -2.612608   8.609093  6 Diseases of the nervous system and sense organs   \n",
       "00322  2.452895 -12.785293               8 Diseases of the respiratory system   \n",
       "\n",
       "       marg_freq   dot_size  \n",
       "0010        66.0   3.535888  \n",
       "0019        46.0   2.964727  \n",
       "0020       906.0   9.275608  \n",
       "0021        48.0   3.029253  \n",
       "0029        77.0   3.796182  \n",
       "0030     12799.0  17.887728  \n",
       "0031      2549.0  12.305192  \n",
       "00320       91.0   4.089314  \n",
       "00321       67.0   3.560849  \n",
       "00322      170.0   5.287341  "
      ]
     },
     "execution_count": 150,
     "metadata": {},
     "output_type": "execute_result"
    }
   ],
   "source": [
    "plot_df.head(10)"
   ]
  },
  {
   "cell_type": "code",
   "execution_count": 155,
   "metadata": {},
   "outputs": [],
   "source": [
    "plot_df = plot_df.assign(label = 'other')"
   ]
  },
  {
   "cell_type": "markdown",
   "metadata": {},
   "source": [
    "AMI cohort labels:"
   ]
  },
  {
   "cell_type": "code",
   "execution_count": 67,
   "metadata": {},
   "outputs": [],
   "source": [
    "plot_df.loc[plot_df.index.isin(ami_DX), 'label'] = 'AMI_major'"
   ]
  },
  {
   "cell_type": "code",
   "execution_count": 146,
   "metadata": {},
   "outputs": [],
   "source": [
    "ami_DX0 = [c for c in ami_DX if c[-1]=='0']\n",
    "ami_DX1 = [c for c in ami_DX if c[-1]=='1']\n",
    "\n",
    "plot_df.loc[plot_df.index.isin(ami_DX0), 'label'] = 'Major DX 410x0'\n",
    "plot_df.loc[plot_df.index.isin(ami_DX1), 'label'] = 'Major DX 410x1'"
   ]
  },
  {
   "cell_type": "code",
   "execution_count": 147,
   "metadata": {},
   "outputs": [],
   "source": [
    "plot_df.loc[plot_df.index.isin(amidx_top100.index), 'label'] = 'Top 51-100 frequent DX in AMI'\n",
    "plot_df.loc[plot_df.index.isin(amidx_top50.index), 'label'] = 'Top 21-50 frequent DX in AMI'\n",
    "plot_df.loc[plot_df.index.isin(amidx_top20.index), 'label'] = 'Top 11-20 frequent DX in AMI'\n",
    "plot_df.loc[plot_df.index.isin(amidx_top10.index), 'label'] = 'Top 10 frequent DX in AMI'"
   ]
  },
  {
   "cell_type": "markdown",
   "metadata": {},
   "source": [
    "Diabetes Mellitus, Hyperlipidemia, and Hypertension labels:"
   ]
  },
  {
   "cell_type": "code",
   "execution_count": 156,
   "metadata": {},
   "outputs": [],
   "source": [
    "htn = [c for c in dx_label.dgns_cd.values if c.startswith('401')]\n",
    "dm = [c for c in dx_label.dgns_cd.values if c.startswith('2500')]\n",
    "hl = [c for c in dx_label.dgns_cd.values if c.startswith('2724')]"
   ]
  },
  {
   "cell_type": "code",
   "execution_count": 115,
   "metadata": {},
   "outputs": [
    {
     "data": {
      "text/plain": [
       "(['4010', '4011', '4019'], ['25000', '25001', '25002', '25003'], ['2724'])"
      ]
     },
     "execution_count": 115,
     "metadata": {},
     "output_type": "execute_result"
    }
   ],
   "source": [
    "htn, dm, hl"
   ]
  },
  {
   "cell_type": "code",
   "execution_count": 123,
   "metadata": {},
   "outputs": [],
   "source": [
    "plot_df.loc[htn, 'label'] = 'Hypertension 401.xx'\n",
    "plot_df.loc[dm, 'label'] = 'Diabetes Mellitus 250.0x'\n",
    "plot_df.loc[hl, 'label'] = 'Hyperlipidemia 272.4x'"
   ]
  },
  {
   "cell_type": "code",
   "execution_count": 157,
   "metadata": {},
   "outputs": [],
   "source": [
    "plot_df.loc[htn, 'label'] = dx_label.loc[htn, 'shortdesc']\n",
    "plot_df.loc[dm, 'label'] = dx_label.loc[dm, 'shortdesc']\n",
    "plot_df.loc[hl, 'label'] = dx_label.loc[hl, 'shortdesc']"
   ]
  },
  {
   "cell_type": "code",
   "execution_count": 165,
   "metadata": {},
   "outputs": [],
   "source": [
    "plot_df.loc[htn, 'label'] = htn\n",
    "plot_df.loc[dm, 'label'] = dm\n",
    "plot_df.loc[hl, 'label'] = hl"
   ]
  },
  {
   "cell_type": "code",
   "execution_count": 166,
   "metadata": {},
   "outputs": [
    {
     "data": {
      "text/plain": [
       "other    15064\n",
       "4019         1\n",
       "4010         1\n",
       "25000        1\n",
       "2724         1\n",
       "25003        1\n",
       "25001        1\n",
       "4011         1\n",
       "25002        1\n",
       "Name: label, dtype: int64"
      ]
     },
     "execution_count": 166,
     "metadata": {},
     "output_type": "execute_result"
    }
   ],
   "source": [
    "plot_df.label.value_counts()"
   ]
  },
  {
   "cell_type": "code",
   "execution_count": 196,
   "metadata": {
    "scrolled": true
   },
   "outputs": [],
   "source": [
    "#groups = plot_df.groupby('freq_label')\n",
    "groups = plot_df.groupby('ccs_lvl1')\n",
    "gkey = groups.size().sort_values(ascending=False).index"
   ]
  },
  {
   "cell_type": "code",
   "execution_count": 197,
   "metadata": {},
   "outputs": [
    {
     "data": {
      "image/png": "[encoded data removed]",
      "text/plain": [
       "<Figure size 1296x1080 with 1 Axes>"
      ]
     },
     "metadata": {},
     "output_type": "display_data"
    }
   ],
   "source": [
    "fig, ax = plt.subplots(figsize=(18, 15))\n",
    "for name in gkey[:10]:\n",
    "    group = groups.get_group(name)\n",
    "    ax.scatter(group.x, group.y, marker='o', s=group.dot_size.values, label=name)\n",
    "    #plt.annotate(name, xy=(group.x.values, group.y.values), xytext=(group.x.values, group.y.values))\n",
    "ax.legend()\n",
    "plt.savefig('output/embed.png', dpi=200)"
   ]
  },
  {
   "cell_type": "code",
   "execution_count": 155,
   "metadata": {},
   "outputs": [],
   "source": [
    "top_fine_cat = ami_ccs.finest_non_empty.value_counts().iloc[:10].index\n",
    "plot_subdf = plot_df.loc[plot_df.fine_group.isin(top_fine_cat)]"
   ]
  },
  {
   "cell_type": "code",
   "execution_count": 156,
   "metadata": {
    "scrolled": true
   },
   "outputs": [
    {
     "data": {
      "text/plain": [
       "<matplotlib.legend.Legend at 0x2ab943f57ef0>"
      ]
     },
     "execution_count": 156,
     "metadata": {},
     "output_type": "execute_result"
    },
    {
     "data": {
      "image/png": "[encoded data removed]",
      "text/plain": [
       "<Figure size 720x576 with 1 Axes>"
      ]
     },
     "metadata": {},
     "output_type": "display_data"
    }
   ],
   "source": [
    "groups = plot_subdf.groupby('fine_group')\n",
    "fig, ax = plt.subplots(figsize=(10, 8))\n",
    "for name, group in groups:\n",
    "    ax.plot(group.x, group.y, marker='o', linestyle='', ms=3, label=name)\n",
    "ax.legend()"
   ]
  },
  {
   "cell_type": "markdown",
   "metadata": {},
   "source": [
    "### backups"
   ]
  },
  {
   "cell_type": "code",
   "execution_count": 89,
   "metadata": {},
   "outputs": [],
   "source": [
    "mat = K.variable(embed_mat)"
   ]
  },
  {
   "cell_type": "code",
   "execution_count": 90,
   "metadata": {},
   "outputs": [
    {
     "data": {
      "text/plain": [
       "TensorShape([Dimension(34093), Dimension(100)])"
      ]
     },
     "execution_count": 90,
     "metadata": {},
     "output_type": "execute_result"
    }
   ],
   "source": [
    "mat.shape"
   ]
  },
  {
   "cell_type": "code",
   "execution_count": 23,
   "metadata": {},
   "outputs": [
    {
     "data": {
      "text/plain": [
       "array([[1., 2., 3.],\n",
       "       [4., 5., 6.]], dtype=float32)"
      ]
     },
     "execution_count": 23,
     "metadata": {},
     "output_type": "execute_result"
    }
   ],
   "source": [
    "K.get_value(mat)"
   ]
  },
  {
   "cell_type": "code",
   "execution_count": 92,
   "metadata": {},
   "outputs": [],
   "source": [
    "embeds = K.gather(mat, code_ind)"
   ]
  },
  {
   "cell_type": "code",
   "execution_count": 93,
   "metadata": {},
   "outputs": [
    {
     "data": {
      "text/plain": [
       "TensorShape([Dimension(18529), Dimension(100)])"
      ]
     },
     "execution_count": 93,
     "metadata": {},
     "output_type": "execute_result"
    }
   ],
   "source": [
    "embeds.shape"
   ]
  },
  {
   "cell_type": "code",
   "execution_count": 94,
   "metadata": {},
   "outputs": [],
   "source": [
    "parents = K.gather(mat, parent_ind)"
   ]
  },
  {
   "cell_type": "code",
   "execution_count": 95,
   "metadata": {},
   "outputs": [
    {
     "data": {
      "text/plain": [
       "TensorShape([Dimension(18529), Dimension(100)])"
      ]
     },
     "execution_count": 95,
     "metadata": {},
     "output_type": "execute_result"
    }
   ],
   "source": [
    "parents.shape"
   ]
  },
  {
   "cell_type": "code",
   "execution_count": 96,
   "metadata": {},
   "outputs": [],
   "source": [
    "diff = embeds - parents"
   ]
  },
  {
   "cell_type": "code",
   "execution_count": 99,
   "metadata": {},
   "outputs": [],
   "source": [
    "penalty = K.sum(K.square(diff))"
   ]
  },
  {
   "cell_type": "code",
   "execution_count": 100,
   "metadata": {},
   "outputs": [
    {
     "data": {
      "text/plain": [
       "27770.062"
      ]
     },
     "execution_count": 100,
     "metadata": {},
     "output_type": "execute_result"
    }
   ],
   "source": [
    "K.get_value(penalty)"
   ]
  },
  {
   "cell_type": "code",
   "execution_count": 34,
   "metadata": {},
   "outputs": [
    {
     "data": {
      "text/plain": [
       "array([[4., 5., 6.],\n",
       "       [1., 2., 3.]], dtype=float32)"
      ]
     },
     "execution_count": 34,
     "metadata": {},
     "output_type": "execute_result"
    }
   ],
   "source": [
    "K.get_value(submat)"
   ]
  }
 ],
 "metadata": {
  "kernelspec": {
   "display_name": "Python 3",
   "language": "python",
   "name": "python3"
  },
  "language_info": {
   "codemirror_mode": {
    "name": "ipython",
    "version": 3
   },
   "file_extension": ".py",
   "mimetype": "text/x-python",
   "name": "python",
   "nbconvert_exporter": "python",
   "pygments_lexer": "ipython3",
   "version": "3.5.4"
  }
 },
 "nbformat": 4,
 "nbformat_minor": 2
}
