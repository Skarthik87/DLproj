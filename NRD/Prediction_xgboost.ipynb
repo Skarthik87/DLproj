{
 "cells": [
  {
   "cell_type": "code",
   "execution_count": 1,
   "metadata": {},
   "outputs": [],
   "source": [
    "import pandas as pd\n",
    "import numpy as np\n",
    "import matplotlib.pyplot as plt\n",
    "#import statsmodels.api as sm\n",
    "from sklearn.model_selection import train_test_split, StratifiedKFold\n",
    "from sklearn.metrics import roc_curve, auc\n",
    "import os, sys, time\n",
    "from importlib import reload\n",
    "%matplotlib inline"
   ]
  },
  {
   "cell_type": "code",
   "execution_count": 2,
   "metadata": {},
   "outputs": [],
   "source": [
    "path = '/nfs/turbo/umms-awaljee/wsliu/Data/NRD/'"
   ]
  },
  {
   "cell_type": "code",
   "execution_count": 3,
   "metadata": {},
   "outputs": [],
   "source": [
    "model_path = path + 'models/'\n",
    "if not os.path.exists(model_path): os.mkdir(model_path)"
   ]
  },
  {
   "cell_type": "code",
   "execution_count": 4,
   "metadata": {},
   "outputs": [
    {
     "name": "stderr",
     "output_type": "stream",
     "text": [
      "Using TensorFlow backend.\n"
     ]
    }
   ],
   "source": [
    "from keras.utils import to_categorical"
   ]
  },
  {
   "cell_type": "code",
   "execution_count": 5,
   "metadata": {
    "scrolled": true
   },
   "outputs": [],
   "source": [
    "module_path = os.path.abspath(os.path.join('..'))\n",
    "if module_path not in sys.path:\n",
    "    sys.path.append(module_path)\n",
    "from DL_utils import plot_roc\n",
    "#from keras_addon import AUCCheckPoint\n",
    "from utils import get_frequency, preprocess\n",
    "\n",
    "from ccs_tools import dx_multi, pr_multi, core_dtypes_pd"
   ]
  },
  {
   "cell_type": "code",
   "execution_count": 6,
   "metadata": {},
   "outputs": [],
   "source": [
    "from ccs_tools import dx_label"
   ]
  },
  {
   "cell_type": "markdown",
   "metadata": {},
   "source": [
    "## Data Preparation"
   ]
  },
  {
   "cell_type": "code",
   "execution_count": 17,
   "metadata": {},
   "outputs": [],
   "source": [
    "cohort = 'ami'\n",
    "tst_seed = 0\n",
    "DX_rarecutpoint = 100\n",
    "PR_rarecutpoint = 100\n",
    "n_fold = 7"
   ]
  },
  {
   "cell_type": "code",
   "execution_count": 18,
   "metadata": {},
   "outputs": [],
   "source": [
    "n_DX = 29\n",
    "n_PR = 15\n",
    "DXs = ['DX'+str(n) for n in range(2, n_DX+2)]\n",
    "PRs = ['PR'+str(n) for n in range(1, n_PR+1)]\n",
    "    \n",
    "folder = 'multi_space_glove/'\n",
    "all_df = pd.read_csv(path+folder+'cohorts10/{}/pred_comorb.csv'.format(cohort), dtype=core_dtypes_pd)\n",
    "preprocessed = preprocess(all_df, DX_rarecutpoint=DX_rarecutpoint, PR_rarecutpoint=PR_rarecutpoint)\n",
    "all_df = preprocessed['int_df']\n",
    "\n",
    "tst_key = pd.read_csv(path+folder+'cohorts10/{}/tst_key{}.csv'.format(cohort, tst_seed), names = ['KEY_NRD'])\n",
    "tst_df = all_df.loc[all_df.KEY_NRD.isin(tst_key.KEY_NRD)]\n",
    "train_df0 = all_df.loc[~all_df.KEY_NRD.isin(tst_key.KEY_NRD)].reset_index()\n",
    "\n",
    "## convert different variables into different np.array\n",
    "DX1_cat = preprocessed['DX1_cat']\n",
    "DX_cat = preprocessed['DX_cat']\n",
    "PR_cat = preprocessed['PR_cat']\n",
    "DX1_dict = preprocessed['DX1_dict']\n",
    "DX_dict = preprocessed['DX_dict']\n",
    "PR_dict = preprocessed['PR_dict']\n",
    "code_cat = preprocessed['code_cat']\n",
    "hosp_cat = preprocessed['hosp_cat']\n",
    "age_mean = train_df0['AGE'].mean()\n",
    "age_std = train_df0['AGE'].std()\n",
    "#los_mean = train_df0['LOS'].mean()\n",
    "#los_std = train_df0['LOS'].std()\n",
    "\n",
    "code_mat_tst = tst_df[['DX1']+DXs+PRs].values\n",
    "code_ohe_tst = np.zeros((len(tst_df), len(code_cat)))\n",
    "for i in range(code_mat_tst.shape[0]):\n",
    "    for j in range(code_mat_tst.shape[1]):\n",
    "        if not code_mat_tst[i,j]==0:\n",
    "            code_ohe_tst[i, code_mat_tst[i,j]] = 1.\n",
    "\n",
    "hosp_array_tst = tst_df['HOSP_NRD'].values\n",
    "hosp_ohe_tst = np.zeros((len(tst_df), len(hosp_cat)))\n",
    "for j, hosp in enumerate(hosp_array_tst):\n",
    "    hosp_ohe_tst[j, hosp] = 1.\n",
    "    \n",
    "demo_mat_tst = tst_df[['AGE', 'FEMALE']].values\n",
    "demo_mat_tst[:, 0] = (demo_mat_tst[:, 0]-age_mean)/age_std\n",
    "\n",
    "other_mat_tst = demo_mat_tst\n",
    "y_true = tst_df.readm30.astype(int).values"
   ]
  },
  {
   "cell_type": "code",
   "execution_count": 19,
   "metadata": {},
   "outputs": [],
   "source": [
    "X_tst = np.concatenate([code_ohe_tst, hosp_ohe_tst, other_mat_tst], axis=1)"
   ]
  },
  {
   "cell_type": "code",
   "execution_count": 20,
   "metadata": {},
   "outputs": [
    {
     "data": {
      "text/plain": [
       "((20719, 2892), (20719,))"
      ]
     },
     "execution_count": 20,
     "metadata": {},
     "output_type": "execute_result"
    }
   ],
   "source": [
    "X_tst.shape, y_true.shape"
   ]
  },
  {
   "cell_type": "code",
   "execution_count": 21,
   "metadata": {},
   "outputs": [],
   "source": [
    "skf = StratifiedKFold(n_splits=n_fold, random_state=24, shuffle=True)\n",
    "trn_idx, val_idx = next(skf.split(train_df0, train_df0.HOSP_NRD))"
   ]
  },
  {
   "cell_type": "code",
   "execution_count": 22,
   "metadata": {},
   "outputs": [],
   "source": [
    "train_df = train_df0.copy()\n",
    "    \n",
    "code_mat_train = train_df[['DX1']+DXs+PRs].values\n",
    "code_ohe_train = np.zeros((len(train_df), len(code_cat)))\n",
    "for i in range(code_mat_train.shape[0]):\n",
    "    for j in range(code_mat_train.shape[1]):\n",
    "        if not code_mat_train[i,j]==0:\n",
    "            code_ohe_train[i, code_mat_train[i,j]] = 1.\n",
    "            \n",
    "#code_ohe_trn = code_ohe_train[trn_idx, :]\n",
    "#code_ohe_val = code_ohe_train[val_idx, :]\n",
    "    \n",
    "hosp_array_train = train_df['HOSP_NRD'].values\n",
    "hosp_ohe_train = np.zeros((len(train_df), len(hosp_cat)))\n",
    "for j, hosp in enumerate(hosp_array_train):\n",
    "    hosp_ohe_train[j, hosp] = 1.\n",
    "    \n",
    "#hosp_ohe_trn = hosp_ohe_train[trn_idx, :]\n",
    "#hosp_ohe_val = hosp_ohe_train[val_idx, :]\n",
    "    \n",
    "demo_mat_train = train_df[['AGE', 'FEMALE']].values\n",
    "demo_mat_train[:, 0] = (demo_mat_train[:, 0]-age_mean)/age_std\n",
    "other_mat_train = demo_mat_train\n",
    "\n",
    "#other_mat_trn = other_mat_train[trn_idx, :]\n",
    "#other_mat_val = other_mat_train[val_idx, :]\n",
    "\n",
    "y_train = train_df.readm30.astype(int).values\n",
    "#Y_trn = to_categorical(y_train[trn_idx])\n",
    "#Y_val = to_categorical(y_train[val_idx])"
   ]
  },
  {
   "cell_type": "code",
   "execution_count": 23,
   "metadata": {},
   "outputs": [],
   "source": [
    "X_train = np.concatenate([code_ohe_train, hosp_ohe_train, other_mat_train], axis=1)"
   ]
  },
  {
   "cell_type": "code",
   "execution_count": 13,
   "metadata": {},
   "outputs": [],
   "source": [
    "X_trn = X_train[trn_idx, :]\n",
    "X_val = X_train[val_idx, :]\n",
    "\n",
    "y_trn = y_train[trn_idx]\n",
    "y_val = y_train[val_idx]"
   ]
  },
  {
   "cell_type": "code",
   "execution_count": 24,
   "metadata": {},
   "outputs": [
    {
     "data": {
      "text/plain": [
       "((181319, 2892), (181319,))"
      ]
     },
     "execution_count": 24,
     "metadata": {},
     "output_type": "execute_result"
    }
   ],
   "source": [
    "X_train.shape, y_train.shape"
   ]
  },
  {
   "cell_type": "markdown",
   "metadata": {},
   "source": [
    "## Model Training and Testing"
   ]
  },
  {
   "cell_type": "code",
   "execution_count": 25,
   "metadata": {},
   "outputs": [],
   "source": [
    "from xgboost import XGBClassifier"
   ]
  },
  {
   "cell_type": "code",
   "execution_count": 26,
   "metadata": {},
   "outputs": [],
   "source": [
    "model = XGBClassifier()"
   ]
  },
  {
   "cell_type": "code",
   "execution_count": 27,
   "metadata": {},
   "outputs": [
    {
     "name": "stdout",
     "output_type": "stream",
     "text": [
      "It takes 1634.6824173927307 sec to train.\n"
     ]
    }
   ],
   "source": [
    "start = time.time()\n",
    "xgb = model.fit(X_train, y_train)\n",
    "print('It takes {} sec to train.'.format(time.time()-start))"
   ]
  },
  {
   "cell_type": "code",
   "execution_count": 28,
   "metadata": {},
   "outputs": [],
   "source": [
    "y_pred = xgb.predict_proba(X_tst)"
   ]
  },
  {
   "cell_type": "code",
   "execution_count": 29,
   "metadata": {},
   "outputs": [
    {
     "data": {
      "text/plain": [
       "{0: 0.6918724299755339}"
      ]
     },
     "execution_count": 29,
     "metadata": {},
     "output_type": "execute_result"
    },
    {
     "data": {
      "image/png": "[encoded data removed]",
      "text/plain": [
       "<Figure size 432x288 with 1 Axes>"
      ]
     },
     "metadata": {},
     "output_type": "display_data"
    }
   ],
   "source": [
    "plot_roc(y_pred[:, 1], y_true)"
   ]
  }
 ],
 "metadata": {
  "kernelspec": {
   "display_name": "Python 3",
   "language": "python",
   "name": "python3"
  },
  "language_info": {
   "codemirror_mode": {
    "name": "ipython",
    "version": 3
   },
   "file_extension": ".py",
   "mimetype": "text/x-python",
   "name": "python",
   "nbconvert_exporter": "python",
   "pygments_lexer": "ipython3",
   "version": "3.5.4"
  }
 },
 "nbformat": 4,
 "nbformat_minor": 2
}
