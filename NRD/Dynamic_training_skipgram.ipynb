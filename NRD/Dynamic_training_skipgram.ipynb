{
 "cells": [
  {
   "cell_type": "markdown",
   "metadata": {},
   "source": [
    "# Dynamic Training with Skipgram\n",
    "In this notebook we train the predictions model together with skipgram dynamically. "
   ]
  },
  {
   "cell_type": "code",
   "execution_count": 1,
   "metadata": {},
   "outputs": [],
   "source": [
    "import pandas as pd\n",
    "import numpy as np\n",
    "import matplotlib.pyplot as plt\n",
    "#import statsmodels.api as sm\n",
    "from sklearn.model_selection import train_test_split, StratifiedKFold\n",
    "from sklearn.metrics import roc_curve, auc\n",
    "import os, sys, time\n",
    "from importlib import reload\n",
    "%matplotlib inline"
   ]
  },
  {
   "cell_type": "code",
   "execution_count": 2,
   "metadata": {},
   "outputs": [],
   "source": [
    "os.environ['CUDA_VISIBLE_DEVICES'] = ''"
   ]
  },
  {
   "cell_type": "code",
   "execution_count": 2,
   "metadata": {},
   "outputs": [],
   "source": [
    "path = '/nfs/turbo/intmed-bnallamo-turbo/wsliu/Data/NRD/'"
   ]
  },
  {
   "cell_type": "code",
   "execution_count": 2,
   "metadata": {},
   "outputs": [],
   "source": [
    "path = '/nfs/turbo/umms-awaljee/wsliu/Data/NRD/'"
   ]
  },
  {
   "cell_type": "code",
   "execution_count": 3,
   "metadata": {},
   "outputs": [],
   "source": [
    "model_path = path + 'models/'\n",
    "if not os.path.exists(model_path): os.mkdir(model_path)"
   ]
  },
  {
   "cell_type": "code",
   "execution_count": 4,
   "metadata": {},
   "outputs": [
    {
     "name": "stderr",
     "output_type": "stream",
     "text": [
      "Using TensorFlow backend.\n"
     ]
    }
   ],
   "source": [
    "from keras.layers import Input, Embedding, Concatenate, Reshape, BatchNormalization, LSTM, CuDNNLSTM, CuDNNGRU, Lambda\n",
    "from keras.models import Model\n",
    "from keras.layers.core import Dense, Activation, Dropout, RepeatVector\n",
    "from keras.callbacks import ModelCheckpoint, ReduceLROnPlateau, EarlyStopping\n",
    "from keras.utils import to_categorical\n",
    "from keras.optimizers import Adam\n",
    "from keras.initializers import Constant\n",
    "import keras.backend as K\n",
    "import tensorflow as tf\n",
    "\n",
    "module_path = os.path.abspath(os.path.join('..'))\n",
    "if module_path not in sys.path:\n",
    "    sys.path.append(module_path)\n",
    "from DL_utils import plot_roc\n",
    "from keras_addon import AUCCheckPoint\n",
    "from utils import get_frequency, preprocess"
   ]
  },
  {
   "cell_type": "code",
   "execution_count": 5,
   "metadata": {
    "scrolled": true
   },
   "outputs": [],
   "source": [
    "from ccs_tools import dx_multi, pr_multi, core_dtypes_pd"
   ]
  },
  {
   "cell_type": "markdown",
   "metadata": {},
   "source": [
    "## Data Preparation"
   ]
  },
  {
   "cell_type": "code",
   "execution_count": 6,
   "metadata": {},
   "outputs": [],
   "source": [
    "cohort='ami'\n",
    "tst_seed=0"
   ]
  },
  {
   "cell_type": "code",
   "execution_count": 7,
   "metadata": {},
   "outputs": [],
   "source": [
    "all_df = pd.read_csv(path+'cohorts/{}/{}_pred.csv'.format(cohort, cohort), dtype=core_dtypes_pd)"
   ]
  },
  {
   "cell_type": "code",
   "execution_count": 8,
   "metadata": {},
   "outputs": [],
   "source": [
    "n_DX = 29\n",
    "n_PR = 15\n",
    "DXs = ['DX'+str(n) for n in range(2, n_DX+2)]\n",
    "PRs = ['PR'+str(n) for n in range(1, n_PR+1)]"
   ]
  },
  {
   "cell_type": "code",
   "execution_count": 9,
   "metadata": {},
   "outputs": [],
   "source": [
    "preprocessed = preprocess(all_df, DX_rarecutpoint=20, PR_rarecutpoint=20)"
   ]
  },
  {
   "cell_type": "code",
   "execution_count": 10,
   "metadata": {},
   "outputs": [],
   "source": [
    "all_df = preprocessed['int_df']"
   ]
  },
  {
   "cell_type": "code",
   "execution_count": 11,
   "metadata": {},
   "outputs": [],
   "source": [
    "tst_key = pd.read_csv(path+'cohorts/{}/tst_key{}.csv'.format(cohort, tst_seed), names = ['KEY_NRD'])\n",
    "tst_df = all_df.loc[all_df.KEY_NRD.isin(tst_key.KEY_NRD)]\n",
    "train_df0 = all_df.loc[~all_df.KEY_NRD.isin(tst_key.KEY_NRD)].reset_index()"
   ]
  },
  {
   "cell_type": "code",
   "execution_count": 12,
   "metadata": {},
   "outputs": [
    {
     "data": {
      "text/plain": [
       "((167841, 180), (187055, 179))"
      ]
     },
     "execution_count": 12,
     "metadata": {},
     "output_type": "execute_result"
    }
   ],
   "source": [
    "train_df0.shape, all_df.shape"
   ]
  },
  {
   "cell_type": "markdown",
   "metadata": {},
   "source": [
    "### Data formating"
   ]
  },
  {
   "cell_type": "code",
   "execution_count": 12,
   "metadata": {},
   "outputs": [],
   "source": [
    "DX1_cat = preprocessed['DX1_cat']\n",
    "DX_cat = preprocessed['DX_cat']\n",
    "PR_cat = preprocessed['PR_cat']\n",
    "DX1_dict = preprocessed['DX1_dict']\n",
    "DX_dict = preprocessed['DX_dict']\n",
    "PR_dict = preprocessed['PR_dict']\n",
    "code_cat = preprocessed['code_cat']\n",
    "hosp_cat = preprocessed['hosp_cat']\n",
    "age_mean = train_df0['AGE'].mean()\n",
    "age_std = train_df0['AGE'].std()\n",
    "los_mean = train_df0['LOS'].mean()\n",
    "los_std = train_df0['LOS'].std()\n",
    "\n",
    "DX1_array_tst = tst_df['DX1'].values\n",
    "DX_mat_tst = tst_df[DXs].values\n",
    "PR_mat_tst = tst_df[PRs].values\n",
    "\n",
    "hosp_array_tst = tst_df['HOSP_NRD'].values\n",
    "    \n",
    "demo_mat_tst = tst_df[['AGE', 'FEMALE']].values\n",
    "demo_mat_tst[:, 0] = (demo_mat_tst[:, 0]-age_mean)/age_std\n",
    "pay1_mat_tst = to_categorical(tst_df.PAY1.values)[:, 1:]\n",
    "los_array_tst = (tst_df.LOS.values - los_mean)/los_std\n",
    "ed_mat_tst = to_categorical(tst_df.HCUP_ED.values)\n",
    "zipinc_mat_tst = to_categorical(tst_df.ZIPINC_QRTL.values)[:, 1:]\n",
    "#transfer_mat_tst = to_categorical(tst_df.SAMEDAYEVENT.values)\n",
    "other_mat_tst = np.concatenate((demo_mat_tst, pay1_mat_tst, los_array_tst.reshape(los_array_tst.shape+(1,)), \n",
    "                                ed_mat_tst, zipinc_mat_tst), axis=1)\n",
    "y_true = tst_df.readm30.astype(int).values"
   ]
  },
  {
   "cell_type": "code",
   "execution_count": 13,
   "metadata": {},
   "outputs": [],
   "source": [
    "train_df = train_df0.copy()"
   ]
  },
  {
   "cell_type": "code",
   "execution_count": 73,
   "metadata": {},
   "outputs": [],
   "source": [
    "mat_train = train_df[['DX1']+DXs+PRs].values\n",
    "labels_flatten = np.concatenate((mat_train,np.repeat(mat_train,29,axis=1),np.repeat(mat_train,15,axis=1)),axis=1)"
   ]
  },
  {
   "cell_type": "code",
   "execution_count": 22,
   "metadata": {},
   "outputs": [
    {
     "data": {
      "text/plain": [
       "((167841, 45), (167841, 2025), 2719024200)"
      ]
     },
     "execution_count": 22,
     "metadata": {},
     "output_type": "execute_result"
    }
   ],
   "source": [
    "mat_train.shape, labels_flatten.shape, labels_flatten.nbytes"
   ]
  },
  {
   "cell_type": "code",
   "execution_count": 15,
   "metadata": {},
   "outputs": [],
   "source": [
    "#Construct conditions according to labels_flatten\n",
    "conditions = labels_flatten != 0\n",
    "# labels = 0 then conditions = 0\n",
    "conditions = conditions.astype(int)\n",
    "# same index pair corresponding to 0\n",
    "# index of x is 0 and index of y is 0\n",
    "conditions[:,0] = 0\n",
    "# index of x from 1 to 29 and the index of same y in labels\n",
    "for i in range(0,29):\n",
    "    conditions[:,74+30*i] = 0\n",
    "# index of x from 30 to 44\n",
    "for i in range(0,15):\n",
    "    conditions[:, 1800+16*i] = 0\n",
    "# index where embed input = 0 \n",
    "nn = mat_train.shape[0]\n",
    "for i in range(nn):\n",
    "    for j in range(1,30):\n",
    "        if mat_train[i,j] == 0:\n",
    "            for k in range(45):\n",
    "                conditions[i,45+29*k+j-1] = 0\n",
    "    for j in range(30,45):\n",
    "        if mat_train[i,j] == 0:\n",
    "            for k in range(45):\n",
    "                conditions[i,1350+15*k+j-30] = 0            "
   ]
  },
  {
   "cell_type": "code",
   "execution_count": 16,
   "metadata": {},
   "outputs": [],
   "source": [
    "n_fold = 5"
   ]
  },
  {
   "cell_type": "code",
   "execution_count": 17,
   "metadata": {},
   "outputs": [],
   "source": [
    "skf = StratifiedKFold(n_splits=n_fold, random_state=24, shuffle=True)"
   ]
  },
  {
   "cell_type": "code",
   "execution_count": 18,
   "metadata": {},
   "outputs": [],
   "source": [
    "trn_idx, val_idx = next(skf.split(train_df, train_df0.HOSP_NRD))"
   ]
  },
  {
   "cell_type": "code",
   "execution_count": 19,
   "metadata": {},
   "outputs": [],
   "source": [
    "DX1_array_train = train_df['DX1'].values\n",
    "            \n",
    "DX1_array_trn = DX1_array_train[trn_idx]\n",
    "DX1_array_val = DX1_array_train[val_idx]\n",
    "\n",
    "DX_mat_train = train_df[DXs].values\n",
    "            \n",
    "DX_mat_trn = DX_mat_train[trn_idx, :]\n",
    "DX_mat_val = DX_mat_train[val_idx, :]\n",
    "\n",
    "PR_mat_train = train_df[PRs].values\n",
    "            \n",
    "PR_mat_trn = PR_mat_train[trn_idx, :]\n",
    "PR_mat_val = PR_mat_train[val_idx, :]"
   ]
  },
  {
   "cell_type": "code",
   "execution_count": 20,
   "metadata": {},
   "outputs": [],
   "source": [
    "hosp_array_train = train_df['HOSP_NRD'].values\n",
    "    \n",
    "hosp_array_trn = hosp_array_train[trn_idx]\n",
    "hosp_array_val = hosp_array_train[val_idx]"
   ]
  },
  {
   "cell_type": "code",
   "execution_count": 21,
   "metadata": {},
   "outputs": [],
   "source": [
    "demo_mat_train = train_df[['AGE', 'FEMALE']].values\n",
    "demo_mat_train[:, 0] = (demo_mat_train[:, 0]-age_mean)/age_std\n",
    "pay1_mat_train = to_categorical(train_df.PAY1.values)[:, 1:]\n",
    "los_array_train = (train_df.LOS.values - los_mean)/los_std\n",
    "ed_mat_train = to_categorical(train_df.HCUP_ED.values)\n",
    "zipinc_mat_train = to_categorical(train_df.ZIPINC_QRTL.values)[:, 1:]\n",
    "#transfer_mat_train = to_categorical(train_df.SAMEDAYEVENT.values)\n",
    "other_mat_train = np.concatenate((demo_mat_train, pay1_mat_train, los_array_train.reshape(los_array_train.shape+(1,)), \n",
    "                                ed_mat_train, zipinc_mat_train), axis=1)\n",
    "\n",
    "other_mat_trn = other_mat_train[trn_idx, :]\n",
    "other_mat_val = other_mat_train[val_idx, :]\n",
    "\n",
    "y_train = train_df.readm30.astype(int).values\n",
    "y_trn = y_train[trn_idx]\n",
    "y_val = y_train[val_idx]\n",
    "Y_trn = to_categorical(y_train[trn_idx])\n",
    "Y_val = to_categorical(y_train[val_idx])"
   ]
  },
  {
   "cell_type": "code",
   "execution_count": 22,
   "metadata": {},
   "outputs": [],
   "source": [
    "labels_flatten_train = labels_flatten[trn_idx,:]\n",
    "labels_flatten_val = labels_flatten[val_idx,:]\n",
    "conditions_train = conditions[trn_idx,:]\n",
    "conditions_val = conditions[val_idx,:]"
   ]
  },
  {
   "cell_type": "code",
   "execution_count": 23,
   "metadata": {},
   "outputs": [],
   "source": [
    "n_disease=len(DX1_cat)+len(DX_cat)+len(PR_cat)+1"
   ]
  },
  {
   "cell_type": "code",
   "execution_count": 90,
   "metadata": {},
   "outputs": [],
   "source": [
    "code_embed_dim = 100\n",
    "md_width = 128\n",
    "fc_width = 512\n",
    "hosp_embed_dim = 1\n",
    "dropout = 0.3\n",
    "job_index = 0\n",
    "batchsize = 512\n",
    "n_samples=100\n",
    "lamb = 1."
   ]
  },
  {
   "cell_type": "code",
   "execution_count": 26,
   "metadata": {},
   "outputs": [],
   "source": [
    "embed_mat=np.random.uniform(0,1,size=[n_disease,code_embed_dim])\n",
    "embed_initializer = Constant(embed_mat)"
   ]
  },
  {
   "cell_type": "markdown",
   "metadata": {},
   "source": [
    "### Model Building"
   ]
  },
  {
   "cell_type": "code",
   "execution_count": 75,
   "metadata": {},
   "outputs": [],
   "source": [
    "from keras.engine.topology import Layer\n",
    "from keras import objectives\n",
    "\n",
    "def zero_loss(y_true, y_pred):\n",
    "    return K.zeros_like(y_pred)\n",
    "\n",
    "\n",
    "class SkipgramRegularization(Layer):\n",
    "    \"\"\"Layer written by Wenyi to do dynamic training with skipgram. \n",
    "    \"\"\"\n",
    "    def __init__(self, num_samples, num_classes, lamb, **kwargs):\n",
    "        self.num_samples = num_samples #number of netagive sample\n",
    "        self.num_classes = num_classes #number of code categories\n",
    "        self.lamb = lamb #tuning parameter to control the weight between skipgram and prediction model\n",
    "        super(SkipgramRegularization, self).__init__(**kwargs)\n",
    "        \n",
    "    def build(self, input_shape):\n",
    "        dx0_shape, dx_shape,pr_shape, label_flatten_shape,input_conditions_shape = input_shape\n",
    "        self.kernel = self.add_weight(name='kernel',\n",
    "                                      shape=(self.num_classes, dx0_shape[2]),\n",
    "                                      initializer='uniform',\n",
    "                                      trainable=True)\n",
    "        self.bias = self.add_weight(name='bias',\n",
    "                                    shape=(self.num_classes,),\n",
    "                                    initializer='uniform',\n",
    "                                    trainable=True) \n",
    "        super(SkipgramRegularization, self).build(input_shape)\n",
    "\n",
    "    def call(self,x):\n",
    "        dx0_embed, dx_embed, pr_embed, labels_flatten,input_conditions = x\n",
    "        inputs_in = tf.concat([dx0_embed,dx_embed,pr_embed],axis=1)\n",
    "        inputs_in = tf.cast(inputs_in, tf.float32)\n",
    "        #labels_in1 = tf.cast(labels_in, tf.float32)\n",
    "        total_loss = 0\n",
    "        n_codes = 2\n",
    "        #labels_in = tf.gather(labels_flatten,list(np.arange(0,45)),axis=1)\n",
    "        inputs_in = tf.concat([tf.tile(dx0_embed,[1,45,1]),tf.tile(dx_embed,[1,45,1]),tf.tile(pr_embed,[1,45,1])],axis=1)\n",
    "        inputs_reshape = tf.reshape(inputs_in,[-1,dx_embed.shape[2]])\n",
    "        labels_reshape = tf.reshape(labels_flatten,[-1,1])\n",
    "        conditions_reshape = tf.reshape(input_conditions,[-1,1])\n",
    "        loss = tf.nn.sampled_softmax_loss(\n",
    "                             weights = self.kernel,\n",
    "                             biases = self.bias,\n",
    "                             labels = labels_reshape,\n",
    "                             inputs = inputs_reshape,\n",
    "                             num_sampled=self.num_samples,\n",
    "                             num_classes=self.num_classes,\n",
    "                             num_true=1)\n",
    "        loss = tf.reshape(loss, [-1,1])\n",
    "        loss = tf.multiply(loss,conditions_reshape)\n",
    "        non_zero = tf.cast(tf.count_nonzero(loss),tf.float32)\n",
    "        cost = tf.reduce_sum(loss)/non_zero\n",
    "        self.add_loss(cost,x)\n",
    "        return cost\n",
    "\n",
    "    def compute_output_shape(self, input_shape):\n",
    "        dx0_shape, dx_shape,pr_shape,label_flatten_shape,input_conditions_shape= input_shape\n",
    "        return (dx0_shape[0],)"
   ]
  },
  {
   "cell_type": "code",
   "execution_count": 28,
   "metadata": {},
   "outputs": [],
   "source": [
    "from setsum_layer import SetSum, MaskedSum, MaskedDense, MaskedPooling"
   ]
  },
  {
   "cell_type": "code",
   "execution_count": 29,
   "metadata": {},
   "outputs": [],
   "source": [
    "numvar=45"
   ]
  },
  {
   "cell_type": "code",
   "execution_count": 32,
   "metadata": {},
   "outputs": [],
   "source": [
    "embed_initializer = Constant(embed_mat)"
   ]
  },
  {
   "cell_type": "code",
   "execution_count": 21,
   "metadata": {},
   "outputs": [],
   "source": [
    "embed_initializer = 'uniform'"
   ]
  },
  {
   "cell_type": "markdown",
   "metadata": {},
   "source": [
    "Model building: \n",
    "- setsum_nn \n",
    "- setsum_lr\n",
    "- embed_sum\n",
    "- embed_pool"
   ]
  },
  {
   "cell_type": "code",
   "execution_count": 30,
   "metadata": {},
   "outputs": [],
   "source": [
    "from setsum_layer import SkipgramRegularization, zero_loss"
   ]
  },
  {
   "cell_type": "code",
   "execution_count": null,
   "metadata": {},
   "outputs": [],
   "source": [
    "tf.reset_default_graph()"
   ]
  },
  {
   "cell_type": "code",
   "execution_count": 111,
   "metadata": {},
   "outputs": [],
   "source": [
    "input_DX1 = Input(shape=(1,))\n",
    "DX1_embed0 = Embedding(input_dim=embed_mat.shape[0], output_dim=code_embed_dim, embeddings_initializer=embed_initializer, \n",
    "                      name='DX1_embed')(input_DX1)\n",
    "DX1_embed = Reshape((code_embed_dim,))(DX1_embed0)\n",
    "\n",
    "input_DX = Input(shape = (len(DXs),))\n",
    "DX_embed0 = Embedding(input_dim=embed_mat.shape[0], output_dim=code_embed_dim, mask_zero=False, embeddings_initializer=embed_initializer, \n",
    "                     name='DX_embed')(input_DX)\n",
    "DX_embed = MaskedDense(md_width, activation='relu')(DX_embed0)\n",
    "DX_embed = MaskedSum()(DX_embed0)\n",
    "\n",
    "input_PR = Input(shape = (len(PRs),))\n",
    "PR_embed0 = Embedding(input_dim=embed_mat.shape[0], output_dim=code_embed_dim, mask_zero=False, embeddings_initializer=embed_initializer, \n",
    "                     name='PR_embed')(input_PR)\n",
    "PR_embed = MaskedDense(md_width, activation='relu')(PR_embed0)\n",
    "PR_embed = MaskedSum()(PR_embed0)\n",
    "\n",
    "input_hosp = Input(shape=(1,))\n",
    "hosp_embed = Embedding(input_dim=len(hosp_cat), output_dim=hosp_embed_dim, input_length=1)(input_hosp)\n",
    "hosp_embed = Reshape((hosp_embed_dim, ))(hosp_embed)\n",
    "input_other = Input(shape=(other_mat_train.shape[1], ))\n",
    "\n",
    "merged = Concatenate(axis=1)([DX1_embed, DX_embed, PR_embed, hosp_embed, input_other])\n",
    "input_labels_flatten = Input(shape=(2025, ))\n",
    "input_conditions = Input(shape=(2025, ))\n",
    "cr =  SkipgramRegularization(n_samples, n_disease, 0.001)([DX1_embed0, DX_embed0, PR_embed0, input_labels_flatten, \n",
    "                                                           input_conditions])\n",
    "\n",
    "merged = Dense(fc_width, activation='relu')(merged)\n",
    "merged = Dropout(dropout)(merged)\n",
    "prediction = Dense(2, activation='softmax', name='prediction')(merged)\n",
    "model = Model(inputs=[input_DX1, input_DX, input_PR, input_hosp, input_other,input_labels_flatten,input_conditions], outputs=[prediction,cr])"
   ]
  },
  {
   "cell_type": "code",
   "execution_count": 105,
   "metadata": {},
   "outputs": [],
   "source": [
    "from keras_addon import AUCCheckPoint"
   ]
  },
  {
   "cell_type": "code",
   "execution_count": 107,
   "metadata": {
    "scrolled": true
   },
   "outputs": [],
   "source": [
    "for l in model.layers:\n",
    "    if l.name=='DX_embed' or l.name=='PR_embed':\n",
    "        l.trainable = False"
   ]
  },
  {
   "cell_type": "code",
   "execution_count": 112,
   "metadata": {},
   "outputs": [],
   "source": [
    "adam = Adam(lr=0.0002)\n",
    "model.compile(optimizer=adam, loss=[K.binary_crossentropy,zero_loss])"
   ]
  },
  {
   "cell_type": "code",
   "execution_count": 113,
   "metadata": {},
   "outputs": [],
   "source": [
    "auccheckpoint = AUCCheckPoint(filepath=model_path+'embeding_nn_temp'+str(job_index)+'.h5', \n",
    "                              validation_y=[Y_val, np.random.randn(Y_val.shape[0],1)], \n",
    "                                 validation_x=[DX1_array_val, DX_mat_val, PR_mat_val, hosp_array_val, other_mat_val, \n",
    "                                               labels_flatten_val, conditions_val], \n",
    "                              auc_output_idx=[0])\n",
    "reduce_lr = ReduceLROnPlateau(monitor='val_loss', factor=0.2, patience=10, min_lr=K.epsilon())\n",
    "earlystop = EarlyStopping(monitor='val_loss', patience=20)"
   ]
  },
  {
   "cell_type": "code",
   "execution_count": null,
   "metadata": {},
   "outputs": [
    {
     "name": "stdout",
     "output_type": "stream",
     "text": [
      "Train on 133832 samples, validate on 34009 samples\n",
      "Epoch 1/5\n",
      " 59392/133832 [============>.................] - ETA: 1:54 - loss: 4.8342 - prediction_loss: 1.1237 - skipgram_regularization_7_loss: 0.0000e+00"
     ]
    }
   ],
   "source": [
    "hist = model.fit([DX1_array_trn, DX_mat_trn, PR_mat_trn, hosp_array_trn, other_mat_trn, labels_flatten_train, conditions_train], \n",
    "                 [Y_trn, np.random.randn(Y_trn.shape[0], 1)], batch_size=batchsize, epochs=5, \n",
    "                 validation_data=[[DX1_array_val, DX_mat_val, PR_mat_val, hosp_array_val, other_mat_val, labels_flatten_val, \n",
    "                                   conditions_val], [Y_val, np.random.randn(Y_val.shape[0],1)]], \n",
    "                    callbacks=[auccheckpoint, reduce_lr, earlystop], verbose=1)"
   ]
  },
  {
   "cell_type": "code",
   "execution_count": 45,
   "metadata": {},
   "outputs": [
    {
     "data": {
      "text/plain": [
       "(167841, 2025)"
      ]
     },
     "execution_count": 45,
     "metadata": {},
     "output_type": "execute_result"
    }
   ],
   "source": [
    "conditions.shape"
   ]
  },
  {
   "cell_type": "code",
   "execution_count": 30,
   "metadata": {
    "scrolled": true
   },
   "outputs": [
    {
     "data": {
      "text/plain": [
       "[<matplotlib.lines.Line2D at 0x2aeb8d114710>]"
      ]
     },
     "execution_count": 30,
     "metadata": {},
     "output_type": "execute_result"
    },
    {
     "data": {
      "image/png": "[encoded data removed]",
      "text/plain": [
       "<Figure size 432x288 with 1 Axes>"
      ]
     },
     "metadata": {},
     "output_type": "display_data"
    }
   ],
   "source": [
    "plt.plot(hist.history['val_loss'])"
   ]
  },
  {
   "cell_type": "code",
   "execution_count": 40,
   "metadata": {
    "scrolled": false
   },
   "outputs": [
    {
     "data": {
      "text/plain": [
       "[<matplotlib.lines.Line2D at 0x2adfd89a6c18>]"
      ]
     },
     "execution_count": 40,
     "metadata": {},
     "output_type": "execute_result"
    },
    {
     "data": {
      "image/png": "[encoded data removed]",
      "text/plain": [
       "<Figure size 432x288 with 1 Axes>"
      ]
     },
     "metadata": {},
     "output_type": "display_data"
    }
   ],
   "source": [
    "plt.plot(auccheckpoint.auc_history)"
   ]
  },
  {
   "cell_type": "code",
   "execution_count": 31,
   "metadata": {},
   "outputs": [],
   "source": [
    "model.load_weights(model_path+'embeding_nn_temp'+str(job_index)+'.h5')"
   ]
  },
  {
   "cell_type": "code",
   "execution_count": 32,
   "metadata": {},
   "outputs": [
    {
     "name": "stdout",
     "output_type": "stream",
     "text": [
      "19214/19214 [==============================] - 1s 50us/step\n"
     ]
    }
   ],
   "source": [
    "y = model.predict([DX1_array_tst, DX_mat_tst, PR_mat_tst, hosp_array_tst, other_mat_tst], verbose=1)"
   ]
  },
  {
   "cell_type": "code",
   "execution_count": 33,
   "metadata": {},
   "outputs": [],
   "source": [
    "y_pred = y[0][:, 0]\n",
    "y_true = tst_df.readm30.astype(int).values"
   ]
  },
  {
   "cell_type": "code",
   "execution_count": 34,
   "metadata": {
    "scrolled": true
   },
   "outputs": [
    {
     "data": {
      "text/plain": [
       "{0: 0.7112889554433763}"
      ]
     },
     "execution_count": 34,
     "metadata": {},
     "output_type": "execute_result"
    },
    {
     "data": {
      "image/png": "[encoded data removed]",
      "text/plain": [
       "<Figure size 432x288 with 1 Axes>"
      ]
     },
     "metadata": {},
     "output_type": "display_data"
    }
   ],
   "source": [
    "plot_roc(y_pred, y_true)"
   ]
  },
  {
   "cell_type": "markdown",
   "metadata": {},
   "source": [
    "### Less predictors"
   ]
  },
  {
   "cell_type": "code",
   "execution_count": 248,
   "metadata": {},
   "outputs": [],
   "source": [
    "model_name = 'setsum_nn'"
   ]
  },
  {
   "cell_type": "code",
   "execution_count": 274,
   "metadata": {},
   "outputs": [],
   "source": [
    "embed_initializer = 'uniform'"
   ]
  },
  {
   "cell_type": "code",
   "execution_count": 249,
   "metadata": {},
   "outputs": [],
   "source": [
    "embed_initializer = Constant(embed_mat)"
   ]
  },
  {
   "cell_type": "code",
   "execution_count": 250,
   "metadata": {},
   "outputs": [],
   "source": [
    "code_embed_dim = 100\n",
    "md_width = 128"
   ]
  },
  {
   "cell_type": "code",
   "execution_count": 286,
   "metadata": {},
   "outputs": [],
   "source": [
    "input_DX1 = Input(shape=(1,))\n",
    "DX1_embed = Embedding(input_dim=len(code_cat), output_dim=code_embed_dim, embeddings_initializer=embed_initializer, \n",
    "                      name='DX1_embed')(input_DX1)\n",
    "DX1_embed = Reshape((code_embed_dim,))(DX1_embed)\n",
    "input_DX = Input(shape = (len(DXs),))\n",
    "DX_embed = Embedding(input_dim=len(code_cat), output_dim=code_embed_dim, mask_zero=True, embeddings_initializer=embed_initializer, \n",
    "                     name='DX_embed')(input_DX)\n",
    "if model_name=='setsum_nn' or 'setsum_lr':\n",
    "    DX_embed = MaskedDense(md_width, activation='relu')(DX_embed)\n",
    "    DX_embed = MaskedSum()(DX_embed)\n",
    "elif model_name=='embed_sum':\n",
    "    DX_embed = MaskedSum()(DX_embed)\n",
    "elif model_name=='embed_pool':\n",
    "    DX_embed = MaskedPooling()(DX_embed)\n",
    "input_PR = Input(shape = (len(PRs),))\n",
    "PR_embed = Embedding(input_dim=len(code_cat), output_dim=code_embed_dim, mask_zero=True, embeddings_initializer=embed_initializer, \n",
    "                     name='PR_embed')(input_PR)\n",
    "if model_name=='setsum_nn' or 'setsum_lr':\n",
    "    PR_embed = MaskedDense(md_width, activation='relu')(PR_embed)\n",
    "    PR_embed = MaskedSum()(PR_embed)\n",
    "elif model_name=='embed_sum':\n",
    "    PR_embed = MaskedSum()(PR_embed)\n",
    "elif model_name=='embed_pool':\n",
    "    PR_embed = MaskedPooling()(PR_embed)\n",
    "input_hosp = Input(shape=(1,))\n",
    "hosp_embed = Embedding(input_dim=len(hosp_cat), output_dim=hosp_embed_dim, input_length=1)(input_hosp)\n",
    "hosp_embed = Reshape((hosp_embed_dim, ))(hosp_embed)\n",
    "input_other = Input(shape=(other_mat_train.shape[1], ))\n",
    "merged = Concatenate(axis=1)([DX1_embed, DX_embed, PR_embed, hosp_embed])\n",
    "if model_name=='setsum_nn':\n",
    "    merged = Dense(fc_width, activation='relu')(merged)\n",
    "    merged = Dropout(dropout)(merged)\n",
    "prediction = Dense(2, activation='softmax')(merged)\n",
    "model = Model(inputs=[input_DX1, input_DX, input_PR, input_hosp], outputs=prediction)"
   ]
  },
  {
   "cell_type": "code",
   "execution_count": 287,
   "metadata": {
    "scrolled": true
   },
   "outputs": [],
   "source": [
    "for l in model.layers:\n",
    "    if l.name=='DX_embed' or l.name=='PR_embed':\n",
    "        l.trainable = False"
   ]
  },
  {
   "cell_type": "code",
   "execution_count": 288,
   "metadata": {},
   "outputs": [],
   "source": [
    "adam = Adam(lr=0.0002)\n",
    "model.compile(optimizer=adam, loss='categorical_crossentropy')"
   ]
  },
  {
   "cell_type": "code",
   "execution_count": 289,
   "metadata": {},
   "outputs": [],
   "source": [
    "auccheckpoint = AUCCheckPoint(filepath=model_path+'embeding_nn_temp'+str(job_index)+'.h5', validation_y=Y_val[:, 1], \n",
    "                                 validation_x=[DX1_array_val, DX_mat_val, PR_mat_val, hosp_array_val])\n",
    "reduce_lr = ReduceLROnPlateau(monitor='val_loss', factor=0.2, patience=10, min_lr=K.epsilon())\n",
    "earlystop = EarlyStopping(monitor='val_loss', patience=20)"
   ]
  },
  {
   "cell_type": "code",
   "execution_count": 290,
   "metadata": {},
   "outputs": [],
   "source": [
    "class_weight = {0:(Y_trn.shape[0]/sum(Y_trn[:, 0])), 1:(Y_trn.shape[0]/sum(Y_trn[:, 1]))}"
   ]
  },
  {
   "cell_type": "code",
   "execution_count": 291,
   "metadata": {
    "scrolled": true
   },
   "outputs": [
    {
     "name": "stdout",
     "output_type": "stream",
     "text": [
      "Train on 133832 samples, validate on 34009 samples\n",
      "Epoch 1/30\n",
      "133832/133832 [==============================] - 4s 27us/step - loss: 1.2962 - val_loss: 0.6593\n",
      "AUC: 0.6928\n",
      "\n",
      "Epoch 2/30\n",
      "133832/133832 [==============================] - 2s 14us/step - loss: 1.2701 - val_loss: 0.6217\n",
      "AUC: 0.6995\n",
      "\n",
      "Epoch 3/30\n",
      "133832/133832 [==============================] - 2s 14us/step - loss: 1.2605 - val_loss: 0.6324\n",
      "AUC: 0.7031\n",
      "\n",
      "Epoch 4/30\n",
      "133832/133832 [==============================] - 2s 15us/step - loss: 1.2536 - val_loss: 0.6406\n",
      "AUC: 0.7056\n",
      "\n",
      "Epoch 5/30\n",
      "133832/133832 [==============================] - 2s 15us/step - loss: 1.2472 - val_loss: 0.5979\n",
      "AUC: 0.7069\n",
      "\n",
      "Epoch 6/30\n",
      "133832/133832 [==============================] - 2s 15us/step - loss: 1.2405 - val_loss: 0.6093\n",
      "AUC: 0.7078\n",
      "\n",
      "Epoch 7/30\n",
      "133832/133832 [==============================] - 2s 14us/step - loss: 1.2342 - val_loss: 0.5931\n",
      "AUC: 0.7070\n",
      "\n",
      "Epoch 8/30\n",
      "133832/133832 [==============================] - 2s 14us/step - loss: 1.2295 - val_loss: 0.6434\n",
      "AUC: 0.7056\n",
      "\n",
      "Epoch 9/30\n",
      "133832/133832 [==============================] - 2s 14us/step - loss: 1.2267 - val_loss: 0.6237\n",
      "AUC: 0.7074\n",
      "\n",
      "Epoch 10/30\n",
      "133832/133832 [==============================] - 2s 14us/step - loss: 1.2235 - val_loss: 0.6480\n",
      "AUC: 0.7064\n",
      "\n",
      "Epoch 11/30\n",
      "133832/133832 [==============================] - 2s 14us/step - loss: 1.2197 - val_loss: 0.6378\n",
      "AUC: 0.7034\n",
      "\n",
      "Epoch 12/30\n",
      "133832/133832 [==============================] - 2s 15us/step - loss: 1.2182 - val_loss: 0.6534\n",
      "AUC: 0.7062\n",
      "\n",
      "Epoch 13/30\n",
      "133832/133832 [==============================] - 2s 15us/step - loss: 1.2166 - val_loss: 0.5781\n",
      "AUC: 0.7019\n",
      "\n",
      "Epoch 14/30\n",
      "133832/133832 [==============================] - 2s 15us/step - loss: 1.2132 - val_loss: 0.5593\n",
      "AUC: 0.7060\n",
      "\n",
      "Epoch 15/30\n",
      "133832/133832 [==============================] - 2s 15us/step - loss: 1.2111 - val_loss: 0.6014\n",
      "AUC: 0.7045\n",
      "\n",
      "Epoch 16/30\n",
      "133832/133832 [==============================] - 2s 15us/step - loss: 1.2099 - val_loss: 0.6084\n",
      "AUC: 0.7058\n",
      "\n",
      "Epoch 17/30\n",
      "133832/133832 [==============================] - 2s 14us/step - loss: 1.2068 - val_loss: 0.5815\n",
      "AUC: 0.7033\n",
      "\n",
      "Epoch 18/30\n",
      "133832/133832 [==============================] - 2s 14us/step - loss: 1.2059 - val_loss: 0.5920\n",
      "AUC: 0.7051\n",
      "\n",
      "Epoch 19/30\n",
      "133832/133832 [==============================] - 2s 15us/step - loss: 1.2045 - val_loss: 0.5644\n",
      "AUC: 0.7040\n",
      "\n",
      "Epoch 20/30\n",
      "133832/133832 [==============================] - 2s 14us/step - loss: 1.2027 - val_loss: 0.6276\n",
      "AUC: 0.7026\n",
      "\n",
      "Epoch 21/30\n",
      "133832/133832 [==============================] - 2s 14us/step - loss: 1.2005 - val_loss: 0.6109\n",
      "AUC: 0.7045\n",
      "\n",
      "Epoch 22/30\n",
      "133832/133832 [==============================] - 2s 14us/step - loss: 1.1991 - val_loss: 0.6190\n",
      "AUC: 0.7025\n",
      "\n",
      "Epoch 23/30\n",
      "133832/133832 [==============================] - 2s 14us/step - loss: 1.1969 - val_loss: 0.6040\n",
      "AUC: 0.7028\n",
      "\n",
      "Epoch 24/30\n",
      "133832/133832 [==============================] - 2s 14us/step - loss: 1.1947 - val_loss: 0.6066\n",
      "AUC: 0.7033\n",
      "\n",
      "Epoch 25/30\n",
      "133832/133832 [==============================] - 2s 14us/step - loss: 1.1888 - val_loss: 0.6322\n",
      "AUC: 0.7019\n",
      "\n",
      "Epoch 26/30\n",
      "133832/133832 [==============================] - 2s 14us/step - loss: 1.1875 - val_loss: 0.6172\n",
      "AUC: 0.7006\n",
      "\n",
      "Epoch 27/30\n",
      "133832/133832 [==============================] - 2s 14us/step - loss: 1.1872 - val_loss: 0.6272\n",
      "AUC: 0.7016\n",
      "\n",
      "Epoch 28/30\n",
      "133832/133832 [==============================] - 2s 14us/step - loss: 1.1863 - val_loss: 0.6217\n",
      "AUC: 0.7010\n",
      "\n",
      "Epoch 29/30\n",
      "133832/133832 [==============================] - 2s 14us/step - loss: 1.1860 - val_loss: 0.6304\n",
      "AUC: 0.7007\n",
      "\n",
      "Epoch 30/30\n",
      "133832/133832 [==============================] - 2s 14us/step - loss: 1.1850 - val_loss: 0.6039\n",
      "AUC: 0.6998\n",
      "\n"
     ]
    }
   ],
   "source": [
    "hist = model.fit([DX1_array_trn, DX_mat_trn, PR_mat_trn, hosp_array_trn], Y_trn, \n",
    "                     batch_size=batchsize, epochs=30, callbacks=[auccheckpoint, reduce_lr, earlystop], class_weight=class_weight, \n",
    "                     validation_data=[[DX1_array_val, DX_mat_val, PR_mat_val, hosp_array_val], Y_val], \n",
    "                    verbose=1)"
   ]
  },
  {
   "cell_type": "code",
   "execution_count": 292,
   "metadata": {
    "scrolled": true
   },
   "outputs": [
    {
     "data": {
      "text/plain": [
       "[<matplotlib.lines.Line2D at 0x2b8b532ff0f0>]"
      ]
     },
     "execution_count": 292,
     "metadata": {},
     "output_type": "execute_result"
    },
    {
     "data": {
      "image/png": "[encoded data removed]",
      "text/plain": [
       "<Figure size 432x288 with 1 Axes>"
      ]
     },
     "metadata": {},
     "output_type": "display_data"
    }
   ],
   "source": [
    "plt.plot(hist.history['val_loss'])"
   ]
  },
  {
   "cell_type": "code",
   "execution_count": 293,
   "metadata": {
    "scrolled": false
   },
   "outputs": [
    {
     "data": {
      "text/plain": [
       "[<matplotlib.lines.Line2D at 0x2b8b4e963f28>]"
      ]
     },
     "execution_count": 293,
     "metadata": {},
     "output_type": "execute_result"
    },
    {
     "data": {
      "image/png": "[encoded data removed]",
      "text/plain": [
       "<Figure size 432x288 with 1 Axes>"
      ]
     },
     "metadata": {},
     "output_type": "display_data"
    }
   ],
   "source": [
    "plt.plot(auccheckpoint.auc_history)"
   ]
  },
  {
   "cell_type": "code",
   "execution_count": 294,
   "metadata": {},
   "outputs": [],
   "source": [
    "model.load_weights(model_path+'embeding_nn_temp'+str(job_index)+'.h5')"
   ]
  },
  {
   "cell_type": "code",
   "execution_count": 295,
   "metadata": {},
   "outputs": [
    {
     "name": "stdout",
     "output_type": "stream",
     "text": [
      "19214/19214 [==============================] - 1s 50us/step\n"
     ]
    }
   ],
   "source": [
    "y = model.predict([DX1_array_tst, DX_mat_tst, PR_mat_tst, hosp_array_tst], verbose=1)\n",
    "\n",
    "y_pred = y[:, 1]\n",
    "y_true = tst_df.readm30.astype(int).values"
   ]
  },
  {
   "cell_type": "code",
   "execution_count": 296,
   "metadata": {
    "scrolled": false
   },
   "outputs": [
    {
     "data": {
      "text/plain": [
       "{0: 0.701814176877337}"
      ]
     },
     "execution_count": 296,
     "metadata": {},
     "output_type": "execute_result"
    },
    {
     "data": {
      "image/png": "[encoded data removed]",
      "text/plain": [
       "<Figure size 432x288 with 1 Axes>"
      ]
     },
     "metadata": {},
     "output_type": "display_data"
    }
   ],
   "source": [
    "plot_roc(y_pred, y_true)"
   ]
  },
  {
   "cell_type": "markdown",
   "metadata": {},
   "source": [
    "## Train with One-Hot-Encoding"
   ]
  },
  {
   "cell_type": "code",
   "execution_count": 55,
   "metadata": {},
   "outputs": [],
   "source": [
    "DX1_cat = preprocessed['DX1_cat']\n",
    "DX_cat = preprocessed['DX_cat']\n",
    "PR_cat = preprocessed['PR_cat']\n",
    "DX1_dict = preprocessed['DX1_dict']\n",
    "DX_dict = preprocessed['DX_dict']\n",
    "PR_dict = preprocessed['PR_dict']\n",
    "code_cat = preprocessed['code_cat']\n",
    "hosp_cat = preprocessed['hosp_cat']\n",
    "age_mean = train_df0['AGE'].mean()\n",
    "age_std = train_df0['AGE'].std()\n",
    "los_mean = train_df0['LOS'].mean()\n",
    "los_std = train_df0['LOS'].std()"
   ]
  },
  {
   "cell_type": "code",
   "execution_count": 32,
   "metadata": {},
   "outputs": [],
   "source": [
    "code_mat_tst = tst_df[['DX1']+DXs+PRs].values\n",
    "code_ohe_tst = np.zeros((len(tst_df), len(code_cat)))\n",
    "for i in range(code_mat_tst.shape[0]):\n",
    "    for j in range(code_mat_tst.shape[1]):\n",
    "        if not code_mat_tst[i,j]==0:\n",
    "            code_ohe_tst[i, code_mat_tst[i,j]] = 1."
   ]
  },
  {
   "cell_type": "code",
   "execution_count": 56,
   "metadata": {},
   "outputs": [],
   "source": [
    "hosp_array_tst = tst_df['HOSP_NRD'].values\n",
    "hosp_ohe_tst = np.zeros((len(tst_df), len(hosp_cat)))\n",
    "for j, hosp in enumerate(hosp_array_tst):\n",
    "    hosp_ohe_tst[j, hosp] = 1."
   ]
  },
  {
   "cell_type": "code",
   "execution_count": 59,
   "metadata": {},
   "outputs": [],
   "source": [
    "demo_mat_tst = tst_df[['AGE', 'FEMALE']].values\n",
    "demo_mat_tst[:, 0] = (demo_mat_tst[:, 0]-age_mean)/age_std\n",
    "pay1_mat_tst = to_categorical(tst_df.PAY1.values)[:, 1:]\n",
    "los_array_tst = (tst_df.LOS.values - los_mean)/los_std\n",
    "ed_mat_tst = to_categorical(tst_df.HCUP_ED.values)\n",
    "zipinc_mat_tst = to_categorical(tst_df.ZIPINC_QRTL.values)[:, 1:]\n",
    "transfer_mat_tst = to_categorical(tst_df.SAMEDAYEVENT.values)\n",
    "other_mat_tst = np.concatenate((demo_mat_tst, pay1_mat_tst, los_array_tst.reshape(los_array_tst.shape+(1,)), \n",
    "                                ed_mat_tst, zipinc_mat_tst, transfer_mat_tst), axis=1)\n",
    "y_true = tst_df.readm30.astype(int).values"
   ]
  },
  {
   "cell_type": "code",
   "execution_count": 63,
   "metadata": {},
   "outputs": [],
   "source": [
    "n_fold=3"
   ]
  },
  {
   "cell_type": "code",
   "execution_count": 64,
   "metadata": {},
   "outputs": [],
   "source": [
    "skf = StratifiedKFold(n_splits=n_fold, random_state=24, shuffle=True)"
   ]
  },
  {
   "cell_type": "code",
   "execution_count": 65,
   "metadata": {},
   "outputs": [],
   "source": [
    "trn_idx, val_idx = next(skf.split(train_df0, train_df0.HOSP_NRD))"
   ]
  },
  {
   "cell_type": "code",
   "execution_count": 69,
   "metadata": {},
   "outputs": [],
   "source": [
    "train_df = train_df0.copy()"
   ]
  },
  {
   "cell_type": "code",
   "execution_count": 85,
   "metadata": {},
   "outputs": [],
   "source": [
    "code_mat_train = train_df[['DX1']+DXs+PRs].values\n",
    "code_ohe_train = np.zeros((len(train_df), len(code_cat)))\n",
    "for i in range(code_mat_train.shape[0]):\n",
    "    for j in range(code_mat_train.shape[1]):\n",
    "        if not code_mat_train[i,j]==0:\n",
    "            code_ohe_train[i, code_mat_train[i,j]] = 1.\n",
    "            \n",
    "code_ohe_trn = code_ohe_train[trn_idx, :]\n",
    "code_ohe_val = code_ohe_train[val_idx, :]"
   ]
  },
  {
   "cell_type": "code",
   "execution_count": 73,
   "metadata": {},
   "outputs": [],
   "source": [
    "hosp_array_train = train_df['HOSP_NRD'].values\n",
    "hosp_ohe_train = np.zeros((len(train_df), len(hosp_cat)))\n",
    "for j, hosp in enumerate(hosp_array_train):\n",
    "    hosp_ohe_train[j, hosp] = 1.\n",
    "    \n",
    "hosp_ohe_trn = hosp_ohe_train[trn_idx, :]\n",
    "hosp_ohe_val = hosp_ohe_train[val_idx, :]"
   ]
  },
  {
   "cell_type": "code",
   "execution_count": 75,
   "metadata": {},
   "outputs": [],
   "source": [
    "demo_mat_train = train_df[['AGE', 'FEMALE']].values\n",
    "demo_mat_train[:, 0] = (demo_mat_train[:, 0]-age_mean)/age_std\n",
    "pay1_mat_train = to_categorical(train_df.PAY1.values)[:, 1:]\n",
    "los_array_train = (train_df.LOS.values - los_mean)/los_std\n",
    "ed_mat_train = to_categorical(train_df.HCUP_ED.values)\n",
    "zipinc_mat_train = to_categorical(train_df.ZIPINC_QRTL.values)[:, 1:]\n",
    "transfer_mat_train = to_categorical(train_df.SAMEDAYEVENT.values)\n",
    "other_mat_train = np.concatenate((demo_mat_train, pay1_mat_train, los_array_train.reshape(los_array_train.shape+(1,)), \n",
    "                                ed_mat_train, zipinc_mat_train, transfer_mat_train), axis=1)\n",
    "\n",
    "other_mat_trn = other_mat_train[trn_idx, :]\n",
    "other_mat_val = other_mat_train[val_idx, :]\n",
    "\n",
    "y_train = train_df.readm30.astype(int).values\n",
    "Y_trn = to_categorical(y_train[trn_idx])\n",
    "Y_val = to_categorical(y_train[val_idx])"
   ]
  },
  {
   "cell_type": "markdown",
   "metadata": {},
   "source": [
    "### Model Building"
   ]
  },
  {
   "cell_type": "code",
   "execution_count": 93,
   "metadata": {},
   "outputs": [],
   "source": [
    "fc_width1 = 1024\n",
    "fc_width2 = 256\n",
    "dropout = 0.3\n",
    "lr = 1e-4\n",
    "batchsize = 512"
   ]
  },
  {
   "cell_type": "code",
   "execution_count": 94,
   "metadata": {},
   "outputs": [],
   "source": [
    "input_code = Input(shape = (len(code_cat),))\n",
    "input_hosp = Input(shape=(len(hosp_cat),))\n",
    "input_other = Input(shape=(other_mat_train.shape[1], ))\n",
    "\n",
    "merged = Concatenate(axis=1)([input_code, input_hosp, input_other])\n",
    "\n",
    "x = Dense(fc_width1, activation='relu')(merged)\n",
    "x = Dense(fc_width2, activation='relu')(x)\n",
    "x = Dropout(dropout)(x)\n",
    "\n",
    "prediction = Dense(2, activation='softmax')(x)\n",
    "model = Model(inputs=[input_code, input_hosp, input_other], outputs=prediction)"
   ]
  },
  {
   "cell_type": "code",
   "execution_count": 95,
   "metadata": {},
   "outputs": [],
   "source": [
    "adam = Adam(lr=lr)\n",
    "model.compile(optimizer=adam, loss='categorical_crossentropy')    "
   ]
  },
  {
   "cell_type": "code",
   "execution_count": 96,
   "metadata": {},
   "outputs": [],
   "source": [
    "auccheckpoint = AUCCheckPoint(filepath=model_path+'ohe_temp.h5', validation_y=Y_val[:, 1], \n",
    "                            validation_x=[code_ohe_val, hosp_ohe_val, other_mat_val])\n",
    "reduce_lr = ReduceLROnPlateau(monitor='val_loss', factor=0.2, patience=10, min_lr=K.epsilon())\n",
    "earlystop = EarlyStopping(monitor='val_loss', patience=20)"
   ]
  },
  {
   "cell_type": "code",
   "execution_count": 97,
   "metadata": {},
   "outputs": [],
   "source": [
    "class_weight = {0:(Y_trn.shape[0]/sum(Y_trn[:, 0])), 1:(Y_trn.shape[0]/sum(Y_trn[:, 1]))}"
   ]
  },
  {
   "cell_type": "code",
   "execution_count": 98,
   "metadata": {
    "collapsed": true
   },
   "outputs": [
    {
     "name": "stdout",
     "output_type": "stream",
     "text": [
      "Train on 111558 samples, validate on 56283 samples\n",
      "Epoch 1/5\n",
      "111558/111558 [==============================] - 6s 55us/step - loss: 1.2705 - val_loss: 0.6081\n",
      "AUC: 0.7145\n",
      "\n",
      "Epoch 2/5\n",
      "111558/111558 [==============================] - 5s 47us/step - loss: 1.2121 - val_loss: 0.6304\n",
      "AUC: 0.7153\n",
      "\n",
      "Epoch 3/5\n",
      "111558/111558 [==============================] - 5s 47us/step - loss: 1.1628 - val_loss: 0.6129\n",
      "AUC: 0.7097\n",
      "\n",
      "Epoch 4/5\n",
      "111558/111558 [==============================] - 5s 47us/step - loss: 1.0916 - val_loss: 0.6359\n",
      "AUC: 0.6957\n",
      "\n",
      "Epoch 5/5\n",
      "111558/111558 [==============================] - 5s 47us/step - loss: 0.9802 - val_loss: 0.5691\n",
      "AUC: 0.6664\n",
      "\n"
     ]
    }
   ],
   "source": [
    "hist = model.fit([code_ohe_trn, hosp_ohe_trn, other_mat_trn], Y_trn, \n",
    "                     batch_size=batchsize, epochs=5, callbacks=[auccheckpoint, reduce_lr, earlystop], class_weight=class_weight, \n",
    "                     validation_data=[[code_ohe_val, hosp_ohe_val, other_mat_val], Y_val], verbose=1)"
   ]
  },
  {
   "cell_type": "code",
   "execution_count": 99,
   "metadata": {},
   "outputs": [],
   "source": [
    "model.load_weights(model_path+'ohe_temp.h5')"
   ]
  },
  {
   "cell_type": "code",
   "execution_count": 100,
   "metadata": {},
   "outputs": [],
   "source": [
    "y_output = model.predict([code_ohe_tst, hosp_ohe_tst, other_mat_tst], verbose=0)  "
   ]
  },
  {
   "cell_type": "code",
   "execution_count": 104,
   "metadata": {},
   "outputs": [],
   "source": [
    "y_pred = y_output[:, 1]\n",
    "fpr, tpr, _ = roc_curve(y_true, y_pred)\n",
    "roc_auc = auc(fpr, tpr)"
   ]
  },
  {
   "cell_type": "code",
   "execution_count": 105,
   "metadata": {},
   "outputs": [
    {
     "data": {
      "text/plain": [
       "0.7117707427053499"
      ]
     },
     "execution_count": 105,
     "metadata": {},
     "output_type": "execute_result"
    }
   ],
   "source": [
    "roc_auc"
   ]
  },
  {
   "cell_type": "markdown",
   "metadata": {},
   "source": [
    "### backups"
   ]
  },
  {
   "cell_type": "markdown",
   "metadata": {},
   "source": [
    "Define the dictionaries for DX, DX1 and hosp, from value to int. "
   ]
  },
  {
   "cell_type": "code",
   "execution_count": 9,
   "metadata": {},
   "outputs": [],
   "source": [
    "freq = get_frequency(train_df0)"
   ]
  },
  {
   "cell_type": "code",
   "execution_count": 10,
   "metadata": {},
   "outputs": [],
   "source": [
    "unclassified = set(dx_multi.loc[dx_multi.CCS_LVL1 == '18', 'ICD9CM_CODE'])"
   ]
  },
  {
   "cell_type": "code",
   "execution_count": 11,
   "metadata": {},
   "outputs": [],
   "source": [
    "DX_rarecutpoint = 10\n",
    "PR_rarecutpoint = 10"
   ]
  },
  {
   "cell_type": "code",
   "execution_count": 12,
   "metadata": {},
   "outputs": [],
   "source": [
    "DX1_cat = sorted(freq['DX1'].index)\n",
    "DX_cat = sorted(freq['DX'].loc[(freq['DX']>DX_rarecutpoint) & (~freq['DX'].index.isin(unclassified)) & \n",
    "                               (~freq['DX'].index.isin(['invl', 'incn']))].index)\n",
    "PR_cat = sorted(freq['PR'].loc[(freq['PR']>PR_rarecutpoint) & (~freq['PR'].index.isin(['invl', 'incn']))].index)"
   ]
  },
  {
   "cell_type": "code",
   "execution_count": 14,
   "metadata": {},
   "outputs": [
    {
     "data": {
      "text/plain": [
       "(20, 2231, 413)"
      ]
     },
     "execution_count": 14,
     "metadata": {},
     "output_type": "execute_result"
    }
   ],
   "source": [
    "len(DX1_cat), len(DX_cat), len(PR_cat)"
   ]
  },
  {
   "cell_type": "code",
   "execution_count": 13,
   "metadata": {},
   "outputs": [],
   "source": [
    "dx1_multi_sub = dx_multi.loc[dx_multi.ICD9CM_CODE.isin(DX1_cat)]\n",
    "dx1_ccs_cat = sorted(pd.concat([dx1_multi_sub['CCS_LVL'+str(j)] for j in range(1, 5)]).unique())\n",
    "if '' in dx1_ccs_cat:\n",
    "    dx1_ccs_cat.remove('')\n",
    "dx_multi_sub = dx_multi.loc[dx_multi.ICD9CM_CODE.isin(DX_cat)]\n",
    "dx_ccs_cat = sorted(pd.concat([dx_multi_sub['CCS_LVL'+str(j)] for j in range(1, 5)]).unique())\n",
    "if '' in dx_ccs_cat:\n",
    "    dx_ccs_cat.remove('')\n",
    "\n",
    "pr_multi_sub = pr_multi.loc[pr_multi.ICD9CM_CODE.isin(PR_cat)]\n",
    "pr_ccs_cat = sorted(pd.concat([pr_multi_sub['CCS_LVL'+str(j)] for j in range(1, 4)]).unique())\n",
    "if '' in pr_ccs_cat:\n",
    "    pr_ccs_cat.remove('')"
   ]
  },
  {
   "cell_type": "code",
   "execution_count": 14,
   "metadata": {},
   "outputs": [],
   "source": [
    "code_cat = DX1_cat+DX_cat+PR_cat+dx1_ccs_cat+dx_ccs_cat+pr_ccs_cat"
   ]
  },
  {
   "cell_type": "code",
   "execution_count": 15,
   "metadata": {},
   "outputs": [],
   "source": [
    "DX1_dict = dict(zip(DX1_cat, range(1, len(DX1_cat)+1)))\n",
    "DX_dict = dict(zip(DX_cat, range(len(DX1_cat)+1, len(DX1_cat)+len(DX_cat)+1)))\n",
    "PR_dict = dict(zip(PR_cat, range(len(DX1_cat)+len(DX_cat)+1, len(DX1_cat)+len(DX_cat)+len(PR_cat)+1)))\n",
    "DX1_dict['missing'] = 0\n",
    "DX_dict['missing'] = 0\n",
    "PR_dict['missing'] = 0\n",
    "dx1_ccs_dict = dict(zip(dx1_ccs_cat, range(len(DX1_cat)+len(DX_cat)+len(PR_cat)+1, \n",
    "                                          len(DX1_cat)+len(DX_cat)+len(PR_cat)+len(dx1_ccs_cat)+1)))\n",
    "dx_ccs_dict = dict(zip(dx_ccs_cat, range(len(DX1_cat)+len(DX_cat)+len(PR_cat)+len(dx1_ccs_cat)+1, \n",
    "                                         len(DX1_cat)+len(DX_cat)+len(PR_cat)+len(dx1_ccs_cat)+len(dx_ccs_cat)+1)))\n",
    "pr_ccs_dict = dict(zip(pr_ccs_cat, range(len(DX1_cat)+len(DX_cat)+len(PR_cat)+len(dx1_ccs_cat)+len(dx_ccs_cat)+1, \n",
    "                                        len(DX1_cat)+len(DX_cat)+len(PR_cat)+len(dx1_ccs_cat)+len(dx_ccs_cat)+len(pr_ccs_cat)+1)))"
   ]
  },
  {
   "cell_type": "code",
   "execution_count": 16,
   "metadata": {},
   "outputs": [],
   "source": [
    "hosp_cat = sorted(all_df['HOSP_NRD'].value_counts().index)\n",
    "hosp_dict = dict(zip(hosp_cat, range(len(hosp_cat))))"
   ]
  },
  {
   "cell_type": "code",
   "execution_count": 18,
   "metadata": {},
   "outputs": [],
   "source": [
    "int_df = all_df.copy()"
   ]
  },
  {
   "cell_type": "code",
   "execution_count": 19,
   "metadata": {},
   "outputs": [],
   "source": [
    "int_df.loc[~int_df.DX1.isin(DX1_cat), 'DX1'] = 'missing'\n",
    "\n",
    "int_df['DX1'] = int_df['DX1'].map(DX1_dict)"
   ]
  },
  {
   "cell_type": "code",
   "execution_count": 20,
   "metadata": {},
   "outputs": [],
   "source": [
    "for dx in DXs:\n",
    "    int_df.loc[~int_df[dx].isin(DX_cat), dx] = 'missing'\n",
    "    int_df[dx] = int_df[dx].map(DX_dict)"
   ]
  },
  {
   "cell_type": "code",
   "execution_count": 21,
   "metadata": {},
   "outputs": [],
   "source": [
    "for pr in PRs:\n",
    "    int_df.loc[~int_df[pr].isin(PR_cat), pr] = 'missing'\n",
    "    int_df[pr] = int_df[pr].map(PR_dict)"
   ]
  },
  {
   "cell_type": "code",
   "execution_count": 22,
   "metadata": {},
   "outputs": [],
   "source": [
    "int_df['HOSP_NRD'] = int_df['HOSP_NRD'].map(hosp_dict)"
   ]
  }
 ],
 "metadata": {
  "kernelspec": {
   "display_name": "Python 3",
   "language": "python",
   "name": "python3"
  },
  "language_info": {
   "codemirror_mode": {
    "name": "ipython",
    "version": 3
   },
   "file_extension": ".py",
   "mimetype": "text/x-python",
   "name": "python",
   "nbconvert_exporter": "python",
   "pygments_lexer": "ipython3",
   "version": "3.5.4"
  }
 },
 "nbformat": 4,
 "nbformat_minor": 2
}
