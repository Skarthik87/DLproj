{
 "cells": [
  {
   "cell_type": "markdown",
   "metadata": {},
   "source": [
    "# Prediction by Diagnosis Codes\n",
    "In this notebook we use some fancier networks. "
   ]
  },
  {
   "cell_type": "code",
   "execution_count": 1,
   "metadata": {},
   "outputs": [],
   "source": [
    "import pandas as pd\n",
    "import numpy as np\n",
    "import matplotlib.pyplot as plt\n",
    "#import statsmodels.api as sm\n",
    "from sklearn.model_selection import train_test_split\n",
    "import os, sys\n",
    "\n",
    "%matplotlib inline"
   ]
  },
  {
   "cell_type": "code",
   "execution_count": 2,
   "metadata": {},
   "outputs": [],
   "source": [
    "path = '/nfs/turbo/intmed-bnallamo-turbo/wsliu/Data/NRD/'"
   ]
  },
  {
   "cell_type": "code",
   "execution_count": 2,
   "metadata": {},
   "outputs": [],
   "source": [
    "path = '/nfs/turbo/umms-awaljee/wsliu/Data/NRD/'"
   ]
  },
  {
   "cell_type": "code",
   "execution_count": 3,
   "metadata": {},
   "outputs": [],
   "source": [
    "model_path = path + 'models/'\n",
    "if not os.path.exists(model_path): os.mkdir(model_path)"
   ]
  },
  {
   "cell_type": "code",
   "execution_count": 4,
   "metadata": {
    "scrolled": true
   },
   "outputs": [
    {
     "name": "stderr",
     "output_type": "stream",
     "text": [
      "Using TensorFlow backend.\n"
     ]
    }
   ],
   "source": [
    "from keras.layers import Input, Embedding, concatenate, Reshape, BatchNormalization, add, LSTM, CuDNNLSTM, CuDNNGRU, Lambda\n",
    "from keras.models import Model\n",
    "from keras.layers.core import Dense, Activation, Dropout\n",
    "from keras.callbacks import ModelCheckpoint, ReduceLROnPlateau, EarlyStopping\n",
    "from keras.utils import to_categorical\n",
    "from keras.optimizers import Adam\n",
    "import keras.backend as K"
   ]
  },
  {
   "cell_type": "code",
   "execution_count": 5,
   "metadata": {},
   "outputs": [],
   "source": [
    "module_path = os.path.abspath(os.path.join('..'))\n",
    "if module_path not in sys.path:\n",
    "    sys.path.append(module_path)\n",
    "from DL_utils import plot_roc\n",
    "from keras_addon import AUCCheckPoint\n",
    "from utils import Mat_reg"
   ]
  },
  {
   "cell_type": "markdown",
   "metadata": {},
   "source": [
    "## Data Preparation"
   ]
  },
  {
   "cell_type": "code",
   "execution_count": 6,
   "metadata": {},
   "outputs": [],
   "source": [
    "core_dtypes_pd = {'AGE': float,\n",
    " 'AWEEKEND': float,\n",
    " 'DIED': float,\n",
    " 'DISCWT': float,\n",
    " 'DISPUNIFORM': float,\n",
    " 'DMONTH': float,\n",
    " 'DQTR': float,\n",
    " 'DRG': float,\n",
    " 'DRGVER': float,\n",
    " 'DRG_NoPOA': float,\n",
    " 'DX1': bytes,\n",
    " 'DX10': bytes,\n",
    " 'DX11': bytes,\n",
    " 'DX12': bytes,\n",
    " 'DX13': bytes,\n",
    " 'DX14': bytes,\n",
    " 'DX15': bytes,\n",
    " 'DX16': bytes,\n",
    " 'DX17': bytes,\n",
    " 'DX18': bytes,\n",
    " 'DX19': bytes,\n",
    " 'DX2': bytes,\n",
    " 'DX20': bytes,\n",
    " 'DX21': bytes,\n",
    " 'DX22': bytes,\n",
    " 'DX23': bytes,\n",
    " 'DX24': bytes,\n",
    " 'DX25': bytes,\n",
    " 'DX26': bytes,\n",
    " 'DX27': bytes,\n",
    " 'DX28': bytes,\n",
    " 'DX29': bytes,\n",
    " 'DX3': bytes,\n",
    " 'DX30': bytes,\n",
    " 'DX4': bytes,\n",
    " 'DX5': bytes,\n",
    " 'DX6': bytes,\n",
    " 'DX7': bytes,\n",
    " 'DX8': bytes,\n",
    " 'DX9': bytes,\n",
    " 'DXCCS1': float,\n",
    " 'DXCCS10': float,\n",
    " 'DXCCS11': float,\n",
    " 'DXCCS12': float,\n",
    " 'DXCCS13': float,\n",
    " 'DXCCS14': float,\n",
    " 'DXCCS15': float,\n",
    " 'DXCCS16': float,\n",
    " 'DXCCS17': float,\n",
    " 'DXCCS18': float,\n",
    " 'DXCCS19': float,\n",
    " 'DXCCS2': float,\n",
    " 'DXCCS20': float,\n",
    " 'DXCCS21': float,\n",
    " 'DXCCS22': float,\n",
    " 'DXCCS23': float,\n",
    " 'DXCCS24': float,\n",
    " 'DXCCS25': float,\n",
    " 'DXCCS26': float,\n",
    " 'DXCCS27': float,\n",
    " 'DXCCS28': float,\n",
    " 'DXCCS29': float,\n",
    " 'DXCCS3': float,\n",
    " 'DXCCS30': float,\n",
    " 'DXCCS4': float,\n",
    " 'DXCCS5': float,\n",
    " 'DXCCS6': float,\n",
    " 'DXCCS7': float,\n",
    " 'DXCCS8': float,\n",
    " 'DXCCS9': float,\n",
    " 'ECODE1': bytes,\n",
    " 'ECODE2': bytes,\n",
    " 'ECODE3': bytes,\n",
    " 'ECODE4': bytes,\n",
    " 'ELECTIVE': float,\n",
    " 'E_CCS1': float,\n",
    " 'E_CCS2': float,\n",
    " 'E_CCS3': float,\n",
    " 'E_CCS4': float,\n",
    " 'FEMALE': float,\n",
    " 'HCUP_ED': float,\n",
    " 'HOSP_NRD': float,\n",
    " 'KEY_NRD': float,\n",
    " 'LOS': float,\n",
    " 'MDC': float,\n",
    " 'MDC_NoPOA': float,\n",
    " 'NCHRONIC': float,\n",
    " 'NDX': float,\n",
    " 'NECODE': float,\n",
    " 'NPR': float,\n",
    " 'NRD_DaysToEvent': float,\n",
    " 'NRD_STRATUM': float,\n",
    " 'NRD_VisitLink': bytes,\n",
    " 'ORPROC': float,\n",
    " 'PAY1': float,\n",
    " 'PL_NCHS': float,\n",
    " 'PR1': bytes,\n",
    " 'PR10': bytes,\n",
    " 'PR11': bytes,\n",
    " 'PR12': bytes,\n",
    " 'PR13': bytes,\n",
    " 'PR14': bytes,\n",
    " 'PR15': bytes,\n",
    " 'PR2': bytes,\n",
    " 'PR3': bytes,\n",
    " 'PR4': bytes,\n",
    " 'PR5': bytes,\n",
    " 'PR6': bytes,\n",
    " 'PR7': bytes,\n",
    " 'PR8': bytes,\n",
    " 'PR9': bytes,\n",
    " 'PRCCS1': float,\n",
    " 'PRCCS10': float,\n",
    " 'PRCCS11': float,\n",
    " 'PRCCS12': float,\n",
    " 'PRCCS13': float,\n",
    " 'PRCCS14': float,\n",
    " 'PRCCS15': float,\n",
    " 'PRCCS2': float,\n",
    " 'PRCCS3': float,\n",
    " 'PRCCS4': float,\n",
    " 'PRCCS5': float,\n",
    " 'PRCCS6': float,\n",
    " 'PRCCS7': float,\n",
    " 'PRCCS8': float,\n",
    " 'PRCCS9': float,\n",
    " 'PRDAY1': float,\n",
    " 'PRDAY10': float,\n",
    " 'PRDAY11': float,\n",
    " 'PRDAY12': float,\n",
    " 'PRDAY13': float,\n",
    " 'PRDAY14': float,\n",
    " 'PRDAY15': float,\n",
    " 'PRDAY2': float,\n",
    " 'PRDAY3': float,\n",
    " 'PRDAY4': float,\n",
    " 'PRDAY5': float,\n",
    " 'PRDAY6': float,\n",
    " 'PRDAY7': float,\n",
    " 'PRDAY8': float,\n",
    " 'PRDAY9': float,\n",
    " 'REHABTRANSFER': float,\n",
    " 'RESIDENT': float,\n",
    " 'SAMEDAYEVENT': bytes,\n",
    " 'SERVICELINE': float,\n",
    " 'TOTCHG': float,\n",
    " 'YEAR': float,\n",
    " 'ZIPINC_QRTL': float}"
   ]
  },
  {
   "cell_type": "code",
   "execution_count": 7,
   "metadata": {},
   "outputs": [],
   "source": [
    "ami_index = pd.read_csv(path+'cohorts/ami_index.csv', dtype=core_dtypes_pd)\n",
    "\n",
    "train_comorb = pd.read_csv(path+'cohorts/ami/comorb_train.csv')\n",
    "tst_comorb = pd.read_csv(path+'cohorts/ami/comorb_tst.csv')\n",
    "\n",
    "train_df = ami_index[ami_index['KEY_NRD'].isin(train_comorb['KEY_NRD'])]\n",
    "tst_df = ami_index[ami_index['KEY_NRD'].isin(tst_comorb['KEY_NRD'])]\n",
    "\n",
    "N_train = len(train_df)\n",
    "N_tst = len(tst_df)\n",
    "all_df = pd.concat([train_df, tst_df])\n",
    "\n",
    "del(ami_index, train_comorb, tst_comorb)"
   ]
  },
  {
   "cell_type": "code",
   "execution_count": 8,
   "metadata": {},
   "outputs": [],
   "source": [
    "train_df.to_csv(path+'cohorts/ami/DX_train.csv', index=False)\n",
    "tst_df.to_csv(path+'cohorts/ami/DX_tst.csv', index=False)"
   ]
  },
  {
   "cell_type": "code",
   "execution_count": 97,
   "metadata": {},
   "outputs": [],
   "source": [
    "train_df = pd.read_csv(path+'cohorts/ami/DX_train.csv', dtype=core_dtypes_pd)\n",
    "tst_df = pd.read_csv(path+'cohorts/ami/DX_tst.csv', dtype=core_dtypes_pd)"
   ]
  },
  {
   "cell_type": "code",
   "execution_count": 8,
   "metadata": {},
   "outputs": [],
   "source": [
    "train_df = pd.read_csv(path+'all/DXs_train.csv', dtype=core_dtypes_pd)\n",
    "tst_df = pd.read_csv(path+'all/DXs_tst.csv', dtype=core_dtypes_pd)"
   ]
  },
  {
   "cell_type": "code",
   "execution_count": 98,
   "metadata": {},
   "outputs": [
    {
     "data": {
      "text/plain": [
       "(163671, 150)"
      ]
     },
     "execution_count": 98,
     "metadata": {},
     "output_type": "execute_result"
    }
   ],
   "source": [
    "train_df.shape"
   ]
  },
  {
   "cell_type": "code",
   "execution_count": 99,
   "metadata": {},
   "outputs": [],
   "source": [
    "trn_df, val_df = train_test_split(train_df, test_size=0.11, stratify=train_df.HOSP_NRD)\n",
    "N_trn = len(trn_df)\n",
    "N_val = len(val_df)\n",
    "\n",
    "#train_df = pd.concat([trn_df, val_df])\n",
    "all_df = pd.concat([train_df, tst_df])"
   ]
  },
  {
   "cell_type": "markdown",
   "metadata": {},
   "source": [
    "Define the dictionaries for DX, DX1 and hosp, from value to int. "
   ]
  },
  {
   "cell_type": "code",
   "execution_count": 189,
   "metadata": {},
   "outputs": [],
   "source": [
    "N_DX = 29\n",
    "DXs = ['DX'+str(n) for n in range(2, N_DX+2)]\n",
    "\n",
    "DX_series = pd.concat([all_df[DX] for DX in DXs])\n",
    "DX_series = DX_series.fillna('missing')\n",
    "DX_series[DX_series.isin(['invl', 'incn'])] = 'missing'"
   ]
  },
  {
   "cell_type": "code",
   "execution_count": 101,
   "metadata": {
    "scrolled": true
   },
   "outputs": [],
   "source": [
    "multi_ccs = pd.read_csv(path+'ccs_multi_dx_tool_2015.csv')\n",
    "\n",
    "multi_ccs.columns = ['ICD9CM_CODE', 'CCS_LVL1', 'CCS_LVL1_LABEL', 'CCS_LVL2', 'CCS_LVL2_LABEL', 'CCS_LVL3', 'CCS_LVL3_LABEL', \n",
    "                    'CCS_LVL4', 'CCS_LVL4_LABEL']\n",
    "\n",
    "multi_ccs.ICD9CM_CODE = multi_ccs.ICD9CM_CODE.apply(lambda x:x.replace(\"'\", \"\").replace(' ', ''))\n",
    "for j in range(1, 5):\n",
    "    multi_ccs['CCS_LVL'+str(j)] = multi_ccs['CCS_LVL'+str(j)].apply(lambda x:x.replace(\"'\", \"\").replace(' ', ''))\n",
    "\n",
    "multi_ccs = multi_ccs[['ICD9CM_CODE', 'CCS_LVL1', 'CCS_LVL2', 'CCS_LVL3', 'CCS_LVL4']]"
   ]
  },
  {
   "cell_type": "code",
   "execution_count": 120,
   "metadata": {},
   "outputs": [],
   "source": [
    "unclassified = set(multi_ccs.loc[multi_ccs.CCS_LVL1 == '18', 'ICD9CM_CODE'])\n",
    "DX_series.loc[DX_series.isin(unclassified)] = 'missing'"
   ]
  },
  {
   "cell_type": "code",
   "execution_count": 190,
   "metadata": {},
   "outputs": [],
   "source": [
    "rare_cutpoint = 20\n",
    "code_freq = DX_series.value_counts()\n",
    "rare_code = code_freq[code_freq<rare_cutpoint].index\n",
    "DX_series.loc[DX_series.isin(rare_code)] = 'missing' # also consider coding as 'rare'"
   ]
  },
  {
   "cell_type": "code",
   "execution_count": 191,
   "metadata": {},
   "outputs": [],
   "source": [
    "DX_series = DX_series.astype('category')\n",
    "DX_cat = DX_series.cat.categories\n",
    "n_DX_cat = len(DX_cat)\n",
    "DX_int_cat = list(range(n_DX_cat)[1:]) +[0]\n",
    "DX_dict = dict(zip(DX_cat, DX_int_cat))"
   ]
  },
  {
   "cell_type": "code",
   "execution_count": 192,
   "metadata": {},
   "outputs": [
    {
     "data": {
      "text/plain": [
       "1886"
      ]
     },
     "execution_count": 192,
     "metadata": {},
     "output_type": "execute_result"
    }
   ],
   "source": [
    "n_DX_cat"
   ]
  },
  {
   "cell_type": "code",
   "execution_count": 161,
   "metadata": {},
   "outputs": [],
   "source": [
    "DX1_series = all_df['DX1'].astype('category')\n",
    "DX1_cat = DX1_series.cat.categories\n",
    "DX1_int_cat = range(len(DX1_cat))\n",
    "\n",
    "DX1_dict = dict(zip(DX1_cat, DX1_int_cat))"
   ]
  },
  {
   "cell_type": "code",
   "execution_count": 162,
   "metadata": {},
   "outputs": [],
   "source": [
    "hosp_series = all_df['HOSP_NRD'].astype('category')\n",
    "hosp_cat = hosp_series.cat.categories\n",
    "\n",
    "hosp_dict = dict(zip(hosp_cat, range(len(hosp_cat))))"
   ]
  },
  {
   "cell_type": "markdown",
   "metadata": {},
   "source": [
    "## LSTM with Raw ICD9 codes"
   ]
  },
  {
   "cell_type": "code",
   "execution_count": 16,
   "metadata": {},
   "outputs": [],
   "source": [
    "DX_df = train_df[DXs]\n",
    "DX_df = DX_df.fillna('missing')\n",
    "DX_df[DX_df.isin(rare_code)] = 'rare'\n",
    "\n",
    "for dx in DXs:\n",
    "    DX_df[dx] = DX_df[dx].map(DX_dict)\n",
    "\n",
    "DX_mat = DX_df.values\n",
    "DX_mat_trn = DX_df.values[:N_trn, ]\n",
    "DX_mat_val = DX_df.values[N_trn:, ]"
   ]
  },
  {
   "cell_type": "code",
   "execution_count": 20,
   "metadata": {},
   "outputs": [],
   "source": [
    "DX_ohe = np.zeros((len(train_df), n_DX_cat))\n",
    "\n",
    "for j in range(DX_mat.shape[0]):\n",
    "    for i in range(DX_mat.shape[1]):\n",
    "        DX_ohe[j, DX_mat[j, i]] = 1\n",
    "\n",
    "DX_ohe_trn = DX_ohe[:N_trn, ]\n",
    "DX_ohe_val = DX_ohe[N_trn:, ]"
   ]
  },
  {
   "cell_type": "code",
   "execution_count": 17,
   "metadata": {},
   "outputs": [],
   "source": [
    "demo_mat = train_df[['AGE', 'FEMALE']].values\n",
    "\n",
    "age_mean = train_df['AGE'].mean()\n",
    "age_std = train_df['AGE'].std()\n",
    "\n",
    "demo_mat[:, 0] = (demo_mat[:, 0]-age_mean)/age_std\n",
    "\n",
    "demo_mat_trn = demo_mat[:N_trn, ]\n",
    "demo_mat_val = demo_mat[N_trn:, ]"
   ]
  },
  {
   "cell_type": "code",
   "execution_count": 18,
   "metadata": {},
   "outputs": [],
   "source": [
    "hosp_series = train_df['HOSP_NRD'].map(hosp_dict)\n",
    "hosp_array = hosp_series.values\n",
    "\n",
    "hosp_array_trn = hosp_array[:N_trn]\n",
    "hosp_array_val = hosp_array[N_trn:]"
   ]
  },
  {
   "cell_type": "code",
   "execution_count": 19,
   "metadata": {},
   "outputs": [],
   "source": [
    "DX1_series = train_df['DX1'].map(DX1_dict)\n",
    "\n",
    "DX1_mat = np.zeros((len(DX1_series), len(DX1_dict)))\n",
    "for i, dx1 in enumerate(DX1_series.values):\n",
    "    DX1_mat[i, dx1] = 1\n",
    "\n",
    "DX1_mat_trn = DX1_mat[:N_trn, ]\n",
    "DX1_mat_val = DX1_mat[N_trn:, ]"
   ]
  },
  {
   "cell_type": "code",
   "execution_count": 20,
   "metadata": {},
   "outputs": [],
   "source": [
    "y = train_df['readm30'].values.astype(int)\n",
    "\n",
    "Y_trn = to_categorical(y[:N_trn])\n",
    "Y_val = to_categorical(y[N_trn:])"
   ]
  },
  {
   "cell_type": "markdown",
   "metadata": {},
   "source": [
    "### Model Building with Embedding"
   ]
  },
  {
   "cell_type": "code",
   "execution_count": 21,
   "metadata": {},
   "outputs": [],
   "source": [
    "DX_embed_dim = 50\n",
    "hosp_embed_dim = 1"
   ]
  },
  {
   "cell_type": "code",
   "execution_count": 146,
   "metadata": {},
   "outputs": [],
   "source": [
    "input_DX = Input(shape = (N_DX,))\n",
    "DX_embed = Embedding(input_dim=n_DX_cat, output_dim=DX_embed_dim, input_length=N_DX)(input_DX)\n",
    "\n",
    "#DX_out, _, DX_feature = CuDNNLSTM(DX_embed_dim, return_sequences=False, return_state=True)(DX_embed)\n",
    "#DX_feature = Lambda(lambda x: K.sum(x, axis=1))(DX_embed)\n",
    "DX_feature = CuDNNLSTM(DX_embed_dim, return_sequences=False)(DX_embed)\n",
    "\n",
    "input_demo = Input(shape=(2, ))\n",
    "\n",
    "input_DX1 = Input(shape=(len(DX1_cat),))\n",
    "\n",
    "input_hosp = Input(shape=(1,))\n",
    "hosp_embed = Embedding(input_dim=len(hosp_cat), output_dim=hosp_embed_dim, input_length=1)(input_hosp)\n",
    "hosp_embed = Reshape((hosp_embed_dim, ))(hosp_embed)\n",
    "\n",
    "merged = concatenate([input_demo, input_DX1, DX_feature, hosp_embed], axis=1)\n",
    "\n",
    "x = Dense(128, activation='relu')(merged)\n",
    "x = Dense(32, activation='relu')(x)\n",
    "x = Dropout(0.5)(x)\n",
    "\n",
    "prediction = Dense(2, activation='softmax')(x)\n",
    "model = Model(inputs=[input_demo, input_DX1, input_DX, input_hosp], outputs=prediction)"
   ]
  },
  {
   "cell_type": "code",
   "execution_count": 68,
   "metadata": {
    "collapsed": true
   },
   "outputs": [
    {
     "name": "stdout",
     "output_type": "stream",
     "text": [
      "__________________________________________________________________________________________________\n",
      "Layer (type)                    Output Shape         Param #     Connected to                     \n",
      "==================================================================================================\n",
      "input_17 (InputLayer)           (None, 29)           0                                            \n",
      "__________________________________________________________________________________________________\n",
      "input_20 (InputLayer)           (None, 1)            0                                            \n",
      "__________________________________________________________________________________________________\n",
      "embedding_7 (Embedding)         (None, 29, 50)       266400      input_17[0][0]                   \n",
      "__________________________________________________________________________________________________\n",
      "embedding_8 (Embedding)         (None, 1, 1)         869         input_20[0][0]                   \n",
      "__________________________________________________________________________________________________\n",
      "input_18 (InputLayer)           (None, 2)            0                                            \n",
      "__________________________________________________________________________________________________\n",
      "input_19 (InputLayer)           (None, 20)           0                                            \n",
      "__________________________________________________________________________________________________\n",
      "cu_dnnlstm_1 (CuDNNLSTM)        (None, 50)           20400       embedding_7[0][0]                \n",
      "__________________________________________________________________________________________________\n",
      "reshape_5 (Reshape)             (None, 1)            0           embedding_8[0][0]                \n",
      "__________________________________________________________________________________________________\n",
      "concatenate_5 (Concatenate)     (None, 73)           0           input_18[0][0]                   \n",
      "                                                                 input_19[0][0]                   \n",
      "                                                                 cu_dnnlstm_1[0][0]               \n",
      "                                                                 reshape_5[0][0]                  \n",
      "__________________________________________________________________________________________________\n",
      "dense_15 (Dense)                (None, 128)          9472        concatenate_5[0][0]              \n",
      "__________________________________________________________________________________________________\n",
      "dense_16 (Dense)                (None, 32)           4128        dense_15[0][0]                   \n",
      "__________________________________________________________________________________________________\n",
      "dropout_5 (Dropout)             (None, 32)           0           dense_16[0][0]                   \n",
      "__________________________________________________________________________________________________\n",
      "dense_17 (Dense)                (None, 2)            66          dropout_5[0][0]                  \n",
      "==================================================================================================\n",
      "Total params: 301,335\n",
      "Trainable params: 301,335\n",
      "Non-trainable params: 0\n",
      "__________________________________________________________________________________________________\n"
     ]
    }
   ],
   "source": [
    "model.summary()"
   ]
  },
  {
   "cell_type": "code",
   "execution_count": 147,
   "metadata": {},
   "outputs": [],
   "source": [
    "adam = Adam(lr=0.0002)\n",
    "model.compile(optimizer=adam, loss='categorical_crossentropy', metrics=['accuracy'])"
   ]
  },
  {
   "cell_type": "code",
   "execution_count": 148,
   "metadata": {},
   "outputs": [],
   "source": [
    "checkpoint = ModelCheckpoint(filepath=model_path+'ami_icd9_lstm_valloss1.h5', save_best_only=True, save_weights_only=True)\n",
    "auccheckpoint = AUCCheckPoint(filepath=model_path+'ami_icd9_lstm_auc1.h5', validation_y=Y_val[:, 1], \n",
    "                             validation_x=[demo_mat_val, DX1_mat_val, DX_mat_val, hosp_array_val])\n",
    "reduce_lr = ReduceLROnPlateau(monitor='loss', factor=0.2, patience=3, min_lr=1.e-8)\n",
    "earlystop = EarlyStopping(monitor='val_loss', patience=20)"
   ]
  },
  {
   "cell_type": "code",
   "execution_count": 149,
   "metadata": {},
   "outputs": [],
   "source": [
    "class_weight = {0:(Y_trn.shape[0]/sum(Y_trn[:, 0])), 1:(Y_trn.shape[0]/sum(Y_trn[:, 1]))}"
   ]
  },
  {
   "cell_type": "code",
   "execution_count": 150,
   "metadata": {
    "scrolled": true
   },
   "outputs": [
    {
     "name": "stdout",
     "output_type": "stream",
     "text": [
      "Train on 145667 samples, validate on 18004 samples\n",
      "Epoch 1/20\n",
      "145667/145667 [==============================] - 3s 23us/step - loss: 1.3184 - acc: 0.6007 - val_loss: 0.6395 - val_acc: 0.5991\n",
      "AUC: 0.6896\n",
      "\n",
      "Epoch 2/20\n",
      "145667/145667 [==============================] - 2s 15us/step - loss: 1.2609 - acc: 0.6178 - val_loss: 0.6346 - val_acc: 0.6035\n",
      "AUC: 0.6955\n",
      "\n",
      "Epoch 3/20\n",
      "145667/145667 [==============================] - 2s 15us/step - loss: 1.2497 - acc: 0.6205 - val_loss: 0.6506 - val_acc: 0.5970\n",
      "AUC: 0.6957\n",
      "\n",
      "Epoch 4/20\n",
      "145667/145667 [==============================] - 2s 15us/step - loss: 1.2427 - acc: 0.6249 - val_loss: 0.6191 - val_acc: 0.6244\n",
      "AUC: 0.6966\n",
      "\n",
      "Epoch 5/20\n",
      "145667/145667 [==============================] - 2s 15us/step - loss: 1.2401 - acc: 0.6250 - val_loss: 0.5905 - val_acc: 0.6412\n",
      "AUC: 0.6957\n",
      "\n",
      "Epoch 6/20\n",
      "145667/145667 [==============================] - 2s 15us/step - loss: 1.2357 - acc: 0.6234 - val_loss: 0.6054 - val_acc: 0.6371\n",
      "AUC: 0.6947\n",
      "\n",
      "Epoch 7/20\n",
      "145667/145667 [==============================] - 2s 15us/step - loss: 1.2337 - acc: 0.6245 - val_loss: 0.5594 - val_acc: 0.6606\n",
      "AUC: 0.6946\n",
      "\n",
      "Epoch 8/20\n",
      "145667/145667 [==============================] - 2s 15us/step - loss: 1.2292 - acc: 0.6241 - val_loss: 0.6514 - val_acc: 0.5904\n",
      "AUC: 0.6940\n",
      "\n",
      "Epoch 9/20\n",
      "145667/145667 [==============================] - 2s 15us/step - loss: 1.2254 - acc: 0.6247 - val_loss: 0.6189 - val_acc: 0.6135\n",
      "AUC: 0.6950\n",
      "\n",
      "Epoch 10/20\n",
      "145667/145667 [==============================] - 2s 15us/step - loss: 1.2216 - acc: 0.6259 - val_loss: 0.6083 - val_acc: 0.6219\n",
      "AUC: 0.6947\n",
      "\n",
      "Epoch 11/20\n",
      "145667/145667 [==============================] - 2s 15us/step - loss: 1.2194 - acc: 0.6206 - val_loss: 0.6503 - val_acc: 0.5798\n",
      "AUC: 0.6931\n",
      "\n",
      "Epoch 12/20\n",
      "145667/145667 [==============================] - 2s 15us/step - loss: 1.2157 - acc: 0.6185 - val_loss: 0.6253 - val_acc: 0.6112\n",
      "AUC: 0.6931\n",
      "\n",
      "Epoch 13/20\n",
      "145667/145667 [==============================] - 2s 15us/step - loss: 1.2126 - acc: 0.6175 - val_loss: 0.5847 - val_acc: 0.6294\n",
      "AUC: 0.6933\n",
      "\n",
      "Epoch 14/20\n",
      "145667/145667 [==============================] - 2s 15us/step - loss: 1.2107 - acc: 0.6169 - val_loss: 0.6553 - val_acc: 0.5683\n",
      "AUC: 0.6915\n",
      "\n",
      "Epoch 15/20\n",
      "145667/145667 [==============================] - 2s 15us/step - loss: 1.2075 - acc: 0.6121 - val_loss: 0.6135 - val_acc: 0.6050\n",
      "AUC: 0.6911\n",
      "\n",
      "Epoch 16/20\n",
      "145667/145667 [==============================] - 2s 15us/step - loss: 1.2040 - acc: 0.6112 - val_loss: 0.6428 - val_acc: 0.5781\n",
      "AUC: 0.6903\n",
      "\n",
      "Epoch 17/20\n",
      "145667/145667 [==============================] - 2s 15us/step - loss: 1.2059 - acc: 0.6071 - val_loss: 0.6333 - val_acc: 0.5808\n",
      "AUC: 0.6897\n",
      "\n",
      "Epoch 18/20\n",
      "145667/145667 [==============================] - 2s 15us/step - loss: 1.2052 - acc: 0.6053 - val_loss: 0.6265 - val_acc: 0.5960\n",
      "AUC: 0.6897\n",
      "\n",
      "Epoch 19/20\n",
      "145667/145667 [==============================] - 2s 15us/step - loss: 1.2026 - acc: 0.6047 - val_loss: 0.6438 - val_acc: 0.5824\n",
      "AUC: 0.6887\n",
      "\n",
      "Epoch 20/20\n",
      "145667/145667 [==============================] - 2s 15us/step - loss: 1.1991 - acc: 0.6049 - val_loss: 0.6404 - val_acc: 0.5741\n",
      "AUC: 0.6892\n",
      "\n"
     ]
    }
   ],
   "source": [
    "hist = model.fit([demo_mat_trn, DX1_mat_trn, DX_mat_trn, hosp_array_trn], Y_trn, \n",
    "                 batch_size=512, epochs=20, callbacks=[checkpoint, auccheckpoint, reduce_lr, earlystop], class_weight=class_weight, \n",
    "                 validation_data=[[demo_mat_val, DX1_mat_val, DX_mat_val, hosp_array_val], Y_val], \n",
    "                verbose=1)"
   ]
  },
  {
   "cell_type": "markdown",
   "metadata": {},
   "source": [
    "### Model testing"
   ]
  },
  {
   "cell_type": "code",
   "execution_count": 151,
   "metadata": {},
   "outputs": [],
   "source": [
    "DX_df_tst = tst_df[DXs]\n",
    "DX_df_tst = DX_df_tst.fillna('missing')\n",
    "DX_df_tst[DX_df_tst.isin(rare_code)] = 'rare'\n",
    "\n",
    "for dx in DXs:\n",
    "    DX_df_tst[dx] = DX_df_tst[dx].map(DX_dict)\n",
    "\n",
    "DX_mat_tst = DX_df_tst.values"
   ]
  },
  {
   "cell_type": "code",
   "execution_count": 34,
   "metadata": {},
   "outputs": [],
   "source": [
    "demo_mat_tst = tst_df[['AGE', 'FEMALE']].values\n",
    "demo_mat_tst[:, 0] = (demo_mat_tst[:, 0]-age_mean)/age_std"
   ]
  },
  {
   "cell_type": "code",
   "execution_count": 35,
   "metadata": {},
   "outputs": [],
   "source": [
    "hosp_array_tst = tst_df['HOSP_NRD'].map(hosp_dict).values"
   ]
  },
  {
   "cell_type": "code",
   "execution_count": 36,
   "metadata": {},
   "outputs": [],
   "source": [
    "DX1_series_tst = tst_df.DX1.map(DX1_dict)\n",
    "\n",
    "DX1_mat_tst = np.zeros((len(tst_df), len(DX1_dict)))\n",
    "for i, dx1 in enumerate(DX1_series_tst.values):\n",
    "    DX1_mat_tst[i, dx1] = 1"
   ]
  },
  {
   "cell_type": "code",
   "execution_count": 152,
   "metadata": {},
   "outputs": [],
   "source": [
    "model.load_weights(model_path+'ami_icd9_lstm_auc1.h5')"
   ]
  },
  {
   "cell_type": "code",
   "execution_count": 153,
   "metadata": {},
   "outputs": [
    {
     "name": "stdout",
     "output_type": "stream",
     "text": [
      "18186/18186 [==============================] - 1s 58us/step\n"
     ]
    }
   ],
   "source": [
    "y = model.predict([demo_mat_tst, DX1_mat_tst, DX_mat_tst, hosp_array_tst], verbose=1)\n",
    "\n",
    "y_pred = y[:, 1]\n",
    "y_true = tst_df.readm30.astype(int).values"
   ]
  },
  {
   "cell_type": "code",
   "execution_count": 155,
   "metadata": {},
   "outputs": [
    {
     "data": {
      "text/plain": [
       "{0: 0.7063960981175992}"
      ]
     },
     "execution_count": 155,
     "metadata": {},
     "output_type": "execute_result"
    },
    {
     "data": {
      "image/png": "[encoded data removed]",
      "text/plain": [
       "<Figure size 432x288 with 1 Axes>"
      ]
     },
     "metadata": {},
     "output_type": "display_data"
    }
   ],
   "source": [
    "plot_roc(y_pred, y_true)"
   ]
  },
  {
   "cell_type": "markdown",
   "metadata": {},
   "source": [
    "## Multi-Level CCS Codes"
   ]
  },
  {
   "cell_type": "markdown",
   "metadata": {},
   "source": [
    "### Define the parent matrix"
   ]
  },
  {
   "cell_type": "markdown",
   "metadata": {},
   "source": [
    "Read the ICD9 CCS multi-level category dictionary file. "
   ]
  },
  {
   "cell_type": "code",
   "execution_count": 23,
   "metadata": {
    "scrolled": true
   },
   "outputs": [],
   "source": [
    "multi_ccs = pd.read_csv(path+'ccs_multi_dx_tool_2015.csv')\n",
    "\n",
    "multi_ccs.columns = ['ICD9CM_CODE', 'CCS_LVL1', 'CCS_LVL1_LABEL', 'CCS_LVL2', 'CCS_LVL2_LABEL', 'CCS_LVL3', 'CCS_LVL3_LABEL', \n",
    "                    'CCS_LVL4', 'CCS_LVL4_LABEL']\n",
    "\n",
    "multi_ccs.ICD9CM_CODE = multi_ccs.ICD9CM_CODE.apply(lambda x:x.replace(\"'\", \"\").replace(' ', ''))\n",
    "for j in range(1, 5):\n",
    "    multi_ccs['CCS_LVL'+str(j)] = multi_ccs['CCS_LVL'+str(j)].apply(lambda x:x.replace(\"'\", \"\").replace(' ', ''))"
   ]
  },
  {
   "cell_type": "code",
   "execution_count": 24,
   "metadata": {},
   "outputs": [],
   "source": [
    "multi_ccs = multi_ccs[['ICD9CM_CODE', 'CCS_LVL1', 'CCS_LVL2', 'CCS_LVL3', 'CCS_LVL4']]"
   ]
  },
  {
   "cell_type": "code",
   "execution_count": 21,
   "metadata": {
    "scrolled": true
   },
   "outputs": [
    {
     "data": {
      "text/plain": [
       "(15072, 5)"
      ]
     },
     "execution_count": 21,
     "metadata": {},
     "output_type": "execute_result"
    }
   ],
   "source": [
    "multi_ccs.shape"
   ]
  },
  {
   "cell_type": "code",
   "execution_count": 23,
   "metadata": {},
   "outputs": [
    {
     "data": {
      "text/plain": [
       "Injury and poisoning                                                                 2764\n",
       "Residual codes; unclassified; all E codes [259. and 260.]                            1589\n",
       "Diseases of the nervous system and sense organs                                      1587\n",
       "Infectious and parasitic diseases                                                    1226\n",
       "Complications of pregnancy; childbirth; and the puerperium                           1205\n",
       "Neoplasms                                                                            1114\n",
       "Diseases of the musculoskeletal system and connective tissue                          863\n",
       "Diseases of the digestive system                                                      757\n",
       "Mental Illness                                                                        597\n",
       "Diseases of the circulatory system                                                    553\n",
       "Diseases of the genitourinary system                                                  498\n",
       "Endocrine; nutritional; and metabolic diseases and immunity disorders                 445\n",
       "Congenital anomalies                                                                  444\n",
       "Symptoms; signs; and ill-defined conditions and factors influencing health status     403\n",
       "Certain conditions originating in the perinatal period                                351\n",
       "Diseases of the respiratory system                                                    342\n",
       "Diseases of the skin and subcutaneous tissue                                          190\n",
       "Diseases of the blood and blood-forming organs                                        134\n",
       "Mental illness                                                                         10\n",
       "Name: CCS_LVL1_LABEL, dtype: int64"
      ]
     },
     "execution_count": 23,
     "metadata": {},
     "output_type": "execute_result"
    }
   ],
   "source": [
    "multi_ccs.CCS_LVL1_LABEL.value_counts()"
   ]
  },
  {
   "cell_type": "markdown",
   "metadata": {},
   "source": [
    "Create one list to store all possible ICD9 code and their CCS multi-level in a list. Creat two dataframe to store the parent of each code and the indices of the parent. "
   ]
  },
  {
   "cell_type": "code",
   "execution_count": 193,
   "metadata": {},
   "outputs": [],
   "source": [
    "ami_ccs = multi_ccs.loc[multi_ccs.ICD9CM_CODE.isin(DX_cat)]"
   ]
  },
  {
   "cell_type": "code",
   "execution_count": 19,
   "metadata": {
    "scrolled": true
   },
   "outputs": [
    {
     "data": {
      "text/plain": [
       "(3014, 5)"
      ]
     },
     "execution_count": 19,
     "metadata": {},
     "output_type": "execute_result"
    }
   ],
   "source": [
    "ami_ccs.shape"
   ]
  },
  {
   "cell_type": "code",
   "execution_count": 194,
   "metadata": {},
   "outputs": [],
   "source": [
    "ccs_cat = pd.concat([ami_ccs.CCS_LVL1, ami_ccs.CCS_LVL2, ami_ccs.CCS_LVL3, ami_ccs.CCS_LVL4]).astype('category').cat.categories"
   ]
  },
  {
   "cell_type": "code",
   "execution_count": 165,
   "metadata": {},
   "outputs": [
    {
     "data": {
      "text/plain": [
       "562"
      ]
     },
     "execution_count": 165,
     "metadata": {},
     "output_type": "execute_result"
    }
   ],
   "source": [
    "len(ccs_cat)"
   ]
  },
  {
   "cell_type": "code",
   "execution_count": 195,
   "metadata": {},
   "outputs": [],
   "source": [
    "all_codes = [DX_cat[-1]]+list(DX_cat[:-1]) + list(ccs_cat[1:])"
   ]
  },
  {
   "cell_type": "code",
   "execution_count": 196,
   "metadata": {},
   "outputs": [
    {
     "data": {
      "text/plain": [
       "2415"
      ]
     },
     "execution_count": 196,
     "metadata": {},
     "output_type": "execute_result"
    }
   ],
   "source": [
    "len(all_codes)"
   ]
  },
  {
   "cell_type": "code",
   "execution_count": 197,
   "metadata": {
    "scrolled": false
   },
   "outputs": [],
   "source": [
    "ami_ccs = ami_ccs.set_index(ami_ccs.ICD9CM_CODE, drop=True).drop(['ICD9CM_CODE'], axis=1)\n",
    "\n",
    "ami_ccs['finest_non_empty'] = ami_ccs.CCS_LVL4\n",
    "ami_ccs.finest_non_empty[ami_ccs.finest_non_empty==''] = ami_ccs.CCS_LVL3[ami_ccs.finest_non_empty == '']\n",
    "ami_ccs.finest_non_empty[ami_ccs.finest_non_empty==''] = ami_ccs.CCS_LVL2[ami_ccs.finest_non_empty == '']\n",
    "ami_ccs.finest_non_empty[ami_ccs.finest_non_empty==''] = ami_ccs.CCS_LVL1[ami_ccs.finest_non_empty == '']\n",
    "\n",
    "DX_parent = ami_ccs[['finest_non_empty']]\n",
    "\n",
    "DX_parent.columns = ['parent_code']\n",
    "\n",
    "DX_parent = DX_parent.assign(parent_index=DX_parent.parent_code.apply(lambda x:all_codes.index(x)).values)\n",
    "\n",
    "DX_parent = DX_parent.append(pd.DataFrame(index=['missing'], data=dict(parent_code = ['NA'], \n",
    "                                                                                       parent_index=[-1])))"
   ]
  },
  {
   "cell_type": "code",
   "execution_count": 198,
   "metadata": {},
   "outputs": [],
   "source": [
    "CCS_parent = pd.DataFrame(dict(CCS_code=ccs_cat[1:]))\n",
    "\n",
    "CCS_parent = CCS_parent.assign(parent_code=CCS_parent.CCS_code.apply(lambda x:'.'.join(x.split('.')[:-1])))\n",
    "\n",
    "def get_CCS_ind(code):\n",
    "    try:\n",
    "        ind = all_codes.index(code)\n",
    "    except ValueError:\n",
    "        ind = -1\n",
    "    return ind\n",
    "CCS_parent = CCS_parent.assign(parent_index=CCS_parent.parent_code.apply(get_CCS_ind).values)\n",
    "\n",
    "CCS_parent = CCS_parent.set_index(CCS_parent.CCS_code, drop=True).drop(['CCS_code'], axis=1)"
   ]
  },
  {
   "cell_type": "code",
   "execution_count": 62,
   "metadata": {
    "scrolled": true
   },
   "outputs": [
    {
     "data": {
      "text/html": [
       "<div>\n",
       "<style scoped>\n",
       "    .dataframe tbody tr th:only-of-type {\n",
       "        vertical-align: middle;\n",
       "    }\n",
       "\n",
       "    .dataframe tbody tr th {\n",
       "        vertical-align: top;\n",
       "    }\n",
       "\n",
       "    .dataframe thead th {\n",
       "        text-align: right;\n",
       "    }\n",
       "</style>\n",
       "<table border=\"1\" class=\"dataframe\">\n",
       "  <thead>\n",
       "    <tr style=\"text-align: right;\">\n",
       "      <th></th>\n",
       "      <th>parent_code</th>\n",
       "      <th>parent_index</th>\n",
       "    </tr>\n",
       "    <tr>\n",
       "      <th>CCS_code</th>\n",
       "      <th></th>\n",
       "      <th></th>\n",
       "    </tr>\n",
       "  </thead>\n",
       "  <tbody>\n",
       "    <tr>\n",
       "      <th>1</th>\n",
       "      <td></td>\n",
       "      <td>-1</td>\n",
       "    </tr>\n",
       "    <tr>\n",
       "      <th>1.1</th>\n",
       "      <td>1</td>\n",
       "      <td>3015</td>\n",
       "    </tr>\n",
       "    <tr>\n",
       "      <th>1.1.1</th>\n",
       "      <td>1.1</td>\n",
       "      <td>3016</td>\n",
       "    </tr>\n",
       "    <tr>\n",
       "      <th>1.1.2</th>\n",
       "      <td>1.1</td>\n",
       "      <td>3016</td>\n",
       "    </tr>\n",
       "    <tr>\n",
       "      <th>1.1.2.1</th>\n",
       "      <td>1.1.2</td>\n",
       "      <td>3018</td>\n",
       "    </tr>\n",
       "    <tr>\n",
       "      <th>1.1.2.2</th>\n",
       "      <td>1.1.2</td>\n",
       "      <td>3018</td>\n",
       "    </tr>\n",
       "    <tr>\n",
       "      <th>1.1.2.3</th>\n",
       "      <td>1.1.2</td>\n",
       "      <td>3018</td>\n",
       "    </tr>\n",
       "    <tr>\n",
       "      <th>1.1.2.4</th>\n",
       "      <td>1.1.2</td>\n",
       "      <td>3018</td>\n",
       "    </tr>\n",
       "    <tr>\n",
       "      <th>1.1.2.5</th>\n",
       "      <td>1.1.2</td>\n",
       "      <td>3018</td>\n",
       "    </tr>\n",
       "    <tr>\n",
       "      <th>1.1.2.6</th>\n",
       "      <td>1.1.2</td>\n",
       "      <td>3018</td>\n",
       "    </tr>\n",
       "    <tr>\n",
       "      <th>1.1.3</th>\n",
       "      <td>1.1</td>\n",
       "      <td>3016</td>\n",
       "    </tr>\n",
       "    <tr>\n",
       "      <th>1.1.4</th>\n",
       "      <td>1.1</td>\n",
       "      <td>3016</td>\n",
       "    </tr>\n",
       "    <tr>\n",
       "      <th>1.2</th>\n",
       "      <td>1</td>\n",
       "      <td>3015</td>\n",
       "    </tr>\n",
       "    <tr>\n",
       "      <th>1.2.1</th>\n",
       "      <td>1.2</td>\n",
       "      <td>3027</td>\n",
       "    </tr>\n",
       "    <tr>\n",
       "      <th>1.2.2</th>\n",
       "      <td>1.2</td>\n",
       "      <td>3027</td>\n",
       "    </tr>\n",
       "    <tr>\n",
       "      <th>1.3</th>\n",
       "      <td>1</td>\n",
       "      <td>3015</td>\n",
       "    </tr>\n",
       "    <tr>\n",
       "      <th>1.3.1</th>\n",
       "      <td>1.3</td>\n",
       "      <td>3030</td>\n",
       "    </tr>\n",
       "    <tr>\n",
       "      <th>1.3.2</th>\n",
       "      <td>1.3</td>\n",
       "      <td>3030</td>\n",
       "    </tr>\n",
       "    <tr>\n",
       "      <th>1.3.3</th>\n",
       "      <td>1.3</td>\n",
       "      <td>3030</td>\n",
       "    </tr>\n",
       "    <tr>\n",
       "      <th>1.3.3.1</th>\n",
       "      <td>1.3.3</td>\n",
       "      <td>3033</td>\n",
       "    </tr>\n",
       "    <tr>\n",
       "      <th>1.3.3.2</th>\n",
       "      <td>1.3.3</td>\n",
       "      <td>3033</td>\n",
       "    </tr>\n",
       "    <tr>\n",
       "      <th>1.3.3.3</th>\n",
       "      <td>1.3.3</td>\n",
       "      <td>3033</td>\n",
       "    </tr>\n",
       "    <tr>\n",
       "      <th>1.4</th>\n",
       "      <td>1</td>\n",
       "      <td>3015</td>\n",
       "    </tr>\n",
       "    <tr>\n",
       "      <th>1.5</th>\n",
       "      <td>1</td>\n",
       "      <td>3015</td>\n",
       "    </tr>\n",
       "    <tr>\n",
       "      <th>10</th>\n",
       "      <td></td>\n",
       "      <td>-1</td>\n",
       "    </tr>\n",
       "    <tr>\n",
       "      <th>10.1</th>\n",
       "      <td>10</td>\n",
       "      <td>3039</td>\n",
       "    </tr>\n",
       "    <tr>\n",
       "      <th>10.1.1</th>\n",
       "      <td>10.1</td>\n",
       "      <td>3040</td>\n",
       "    </tr>\n",
       "    <tr>\n",
       "      <th>10.1.2</th>\n",
       "      <td>10.1</td>\n",
       "      <td>3040</td>\n",
       "    </tr>\n",
       "    <tr>\n",
       "      <th>10.1.2.1</th>\n",
       "      <td>10.1.2</td>\n",
       "      <td>3042</td>\n",
       "    </tr>\n",
       "    <tr>\n",
       "      <th>10.1.2.2</th>\n",
       "      <td>10.1.2</td>\n",
       "      <td>3042</td>\n",
       "    </tr>\n",
       "    <tr>\n",
       "      <th>...</th>\n",
       "      <td>...</td>\n",
       "      <td>...</td>\n",
       "    </tr>\n",
       "    <tr>\n",
       "      <th>9.6.1.1</th>\n",
       "      <td>9.6.1</td>\n",
       "      <td>3574</td>\n",
       "    </tr>\n",
       "    <tr>\n",
       "      <th>9.6.1.2</th>\n",
       "      <td>9.6.1</td>\n",
       "      <td>3574</td>\n",
       "    </tr>\n",
       "    <tr>\n",
       "      <th>9.6.2</th>\n",
       "      <td>9.6</td>\n",
       "      <td>3573</td>\n",
       "    </tr>\n",
       "    <tr>\n",
       "      <th>9.6.3</th>\n",
       "      <td>9.6</td>\n",
       "      <td>3573</td>\n",
       "    </tr>\n",
       "    <tr>\n",
       "      <th>9.6.3.1</th>\n",
       "      <td>9.6.3</td>\n",
       "      <td>3578</td>\n",
       "    </tr>\n",
       "    <tr>\n",
       "      <th>9.6.3.2</th>\n",
       "      <td>9.6.3</td>\n",
       "      <td>3578</td>\n",
       "    </tr>\n",
       "    <tr>\n",
       "      <th>9.6.3.3</th>\n",
       "      <td>9.6.3</td>\n",
       "      <td>3578</td>\n",
       "    </tr>\n",
       "    <tr>\n",
       "      <th>9.6.3.4</th>\n",
       "      <td>9.6.3</td>\n",
       "      <td>3578</td>\n",
       "    </tr>\n",
       "    <tr>\n",
       "      <th>9.6.4</th>\n",
       "      <td>9.6</td>\n",
       "      <td>3573</td>\n",
       "    </tr>\n",
       "    <tr>\n",
       "      <th>9.6.4.1</th>\n",
       "      <td>9.6.4</td>\n",
       "      <td>3583</td>\n",
       "    </tr>\n",
       "    <tr>\n",
       "      <th>9.6.4.2</th>\n",
       "      <td>9.6.4</td>\n",
       "      <td>3583</td>\n",
       "    </tr>\n",
       "    <tr>\n",
       "      <th>9.6.5</th>\n",
       "      <td>9.6</td>\n",
       "      <td>3573</td>\n",
       "    </tr>\n",
       "    <tr>\n",
       "      <th>9.6.6</th>\n",
       "      <td>9.6</td>\n",
       "      <td>3573</td>\n",
       "    </tr>\n",
       "    <tr>\n",
       "      <th>9.7</th>\n",
       "      <td>9</td>\n",
       "      <td>3529</td>\n",
       "    </tr>\n",
       "    <tr>\n",
       "      <th>9.7.1</th>\n",
       "      <td>9.7</td>\n",
       "      <td>3588</td>\n",
       "    </tr>\n",
       "    <tr>\n",
       "      <th>9.7.2</th>\n",
       "      <td>9.7</td>\n",
       "      <td>3588</td>\n",
       "    </tr>\n",
       "    <tr>\n",
       "      <th>9.7.3</th>\n",
       "      <td>9.7</td>\n",
       "      <td>3588</td>\n",
       "    </tr>\n",
       "    <tr>\n",
       "      <th>9.7.4</th>\n",
       "      <td>9.7</td>\n",
       "      <td>3588</td>\n",
       "    </tr>\n",
       "    <tr>\n",
       "      <th>9.7.5</th>\n",
       "      <td>9.7</td>\n",
       "      <td>3588</td>\n",
       "    </tr>\n",
       "    <tr>\n",
       "      <th>9.7.6</th>\n",
       "      <td>9.7</td>\n",
       "      <td>3588</td>\n",
       "    </tr>\n",
       "    <tr>\n",
       "      <th>9.8</th>\n",
       "      <td>9</td>\n",
       "      <td>3529</td>\n",
       "    </tr>\n",
       "    <tr>\n",
       "      <th>9.8.2</th>\n",
       "      <td>9.8</td>\n",
       "      <td>3595</td>\n",
       "    </tr>\n",
       "    <tr>\n",
       "      <th>9.8.2.1</th>\n",
       "      <td>9.8.2</td>\n",
       "      <td>3596</td>\n",
       "    </tr>\n",
       "    <tr>\n",
       "      <th>9.8.2.2</th>\n",
       "      <td>9.8.2</td>\n",
       "      <td>3596</td>\n",
       "    </tr>\n",
       "    <tr>\n",
       "      <th>9.8.2.3</th>\n",
       "      <td>9.8.2</td>\n",
       "      <td>3596</td>\n",
       "    </tr>\n",
       "    <tr>\n",
       "      <th>9.8.2.4</th>\n",
       "      <td>9.8.2</td>\n",
       "      <td>3596</td>\n",
       "    </tr>\n",
       "    <tr>\n",
       "      <th>9.9</th>\n",
       "      <td>9</td>\n",
       "      <td>3529</td>\n",
       "    </tr>\n",
       "    <tr>\n",
       "      <th>9.9.1</th>\n",
       "      <td>9.9</td>\n",
       "      <td>3601</td>\n",
       "    </tr>\n",
       "    <tr>\n",
       "      <th>9.9.2</th>\n",
       "      <td>9.9</td>\n",
       "      <td>3601</td>\n",
       "    </tr>\n",
       "    <tr>\n",
       "      <th>9.9.3</th>\n",
       "      <td>9.9</td>\n",
       "      <td>3601</td>\n",
       "    </tr>\n",
       "  </tbody>\n",
       "</table>\n",
       "<p>590 rows × 2 columns</p>\n",
       "</div>"
      ],
      "text/plain": [
       "         parent_code  parent_index\n",
       "CCS_code                          \n",
       "1                               -1\n",
       "1.1                1          3015\n",
       "1.1.1            1.1          3016\n",
       "1.1.2            1.1          3016\n",
       "1.1.2.1        1.1.2          3018\n",
       "1.1.2.2        1.1.2          3018\n",
       "1.1.2.3        1.1.2          3018\n",
       "1.1.2.4        1.1.2          3018\n",
       "1.1.2.5        1.1.2          3018\n",
       "1.1.2.6        1.1.2          3018\n",
       "1.1.3            1.1          3016\n",
       "1.1.4            1.1          3016\n",
       "1.2                1          3015\n",
       "1.2.1            1.2          3027\n",
       "1.2.2            1.2          3027\n",
       "1.3                1          3015\n",
       "1.3.1            1.3          3030\n",
       "1.3.2            1.3          3030\n",
       "1.3.3            1.3          3030\n",
       "1.3.3.1        1.3.3          3033\n",
       "1.3.3.2        1.3.3          3033\n",
       "1.3.3.3        1.3.3          3033\n",
       "1.4                1          3015\n",
       "1.5                1          3015\n",
       "10                              -1\n",
       "10.1              10          3039\n",
       "10.1.1          10.1          3040\n",
       "10.1.2          10.1          3040\n",
       "10.1.2.1      10.1.2          3042\n",
       "10.1.2.2      10.1.2          3042\n",
       "...              ...           ...\n",
       "9.6.1.1        9.6.1          3574\n",
       "9.6.1.2        9.6.1          3574\n",
       "9.6.2            9.6          3573\n",
       "9.6.3            9.6          3573\n",
       "9.6.3.1        9.6.3          3578\n",
       "9.6.3.2        9.6.3          3578\n",
       "9.6.3.3        9.6.3          3578\n",
       "9.6.3.4        9.6.3          3578\n",
       "9.6.4            9.6          3573\n",
       "9.6.4.1        9.6.4          3583\n",
       "9.6.4.2        9.6.4          3583\n",
       "9.6.5            9.6          3573\n",
       "9.6.6            9.6          3573\n",
       "9.7                9          3529\n",
       "9.7.1            9.7          3588\n",
       "9.7.2            9.7          3588\n",
       "9.7.3            9.7          3588\n",
       "9.7.4            9.7          3588\n",
       "9.7.5            9.7          3588\n",
       "9.7.6            9.7          3588\n",
       "9.8                9          3529\n",
       "9.8.2            9.8          3595\n",
       "9.8.2.1        9.8.2          3596\n",
       "9.8.2.2        9.8.2          3596\n",
       "9.8.2.3        9.8.2          3596\n",
       "9.8.2.4        9.8.2          3596\n",
       "9.9                9          3529\n",
       "9.9.1            9.9          3601\n",
       "9.9.2            9.9          3601\n",
       "9.9.3            9.9          3601\n",
       "\n",
       "[590 rows x 2 columns]"
      ]
     },
     "execution_count": 62,
     "metadata": {},
     "output_type": "execute_result"
    }
   ],
   "source": [
    "CCS_parent"
   ]
  },
  {
   "cell_type": "code",
   "execution_count": 63,
   "metadata": {
    "scrolled": true
   },
   "outputs": [
    {
     "data": {
      "text/html": [
       "<div>\n",
       "<style scoped>\n",
       "    .dataframe tbody tr th:only-of-type {\n",
       "        vertical-align: middle;\n",
       "    }\n",
       "\n",
       "    .dataframe tbody tr th {\n",
       "        vertical-align: top;\n",
       "    }\n",
       "\n",
       "    .dataframe thead th {\n",
       "        text-align: right;\n",
       "    }\n",
       "</style>\n",
       "<table border=\"1\" class=\"dataframe\">\n",
       "  <thead>\n",
       "    <tr style=\"text-align: right;\">\n",
       "      <th></th>\n",
       "      <th>parent_code</th>\n",
       "      <th>parent_index</th>\n",
       "    </tr>\n",
       "  </thead>\n",
       "  <tbody>\n",
       "    <tr>\n",
       "      <th>01190</th>\n",
       "      <td>1.1.1</td>\n",
       "      <td>3017</td>\n",
       "    </tr>\n",
       "    <tr>\n",
       "      <th>V1201</th>\n",
       "      <td>1.1.1</td>\n",
       "      <td>3017</td>\n",
       "    </tr>\n",
       "    <tr>\n",
       "      <th>0380</th>\n",
       "      <td>1.1.2.1</td>\n",
       "      <td>3019</td>\n",
       "    </tr>\n",
       "    <tr>\n",
       "      <th>03810</th>\n",
       "      <td>1.1.2.2</td>\n",
       "      <td>3020</td>\n",
       "    </tr>\n",
       "    <tr>\n",
       "      <th>03811</th>\n",
       "      <td>1.1.2.2</td>\n",
       "      <td>3020</td>\n",
       "    </tr>\n",
       "    <tr>\n",
       "      <th>03812</th>\n",
       "      <td>1.1.2.2</td>\n",
       "      <td>3020</td>\n",
       "    </tr>\n",
       "    <tr>\n",
       "      <th>03819</th>\n",
       "      <td>1.1.2.2</td>\n",
       "      <td>3020</td>\n",
       "    </tr>\n",
       "    <tr>\n",
       "      <th>03842</th>\n",
       "      <td>1.1.2.3</td>\n",
       "      <td>3021</td>\n",
       "    </tr>\n",
       "    <tr>\n",
       "      <th>03840</th>\n",
       "      <td>1.1.2.4</td>\n",
       "      <td>3022</td>\n",
       "    </tr>\n",
       "    <tr>\n",
       "      <th>03841</th>\n",
       "      <td>1.1.2.4</td>\n",
       "      <td>3022</td>\n",
       "    </tr>\n",
       "    <tr>\n",
       "      <th>03843</th>\n",
       "      <td>1.1.2.4</td>\n",
       "      <td>3022</td>\n",
       "    </tr>\n",
       "    <tr>\n",
       "      <th>03844</th>\n",
       "      <td>1.1.2.4</td>\n",
       "      <td>3022</td>\n",
       "    </tr>\n",
       "    <tr>\n",
       "      <th>03849</th>\n",
       "      <td>1.1.2.4</td>\n",
       "      <td>3022</td>\n",
       "    </tr>\n",
       "    <tr>\n",
       "      <th>0382</th>\n",
       "      <td>1.1.2.5</td>\n",
       "      <td>3023</td>\n",
       "    </tr>\n",
       "    <tr>\n",
       "      <th>0383</th>\n",
       "      <td>1.1.2.5</td>\n",
       "      <td>3023</td>\n",
       "    </tr>\n",
       "    <tr>\n",
       "      <th>0388</th>\n",
       "      <td>1.1.2.6</td>\n",
       "      <td>3024</td>\n",
       "    </tr>\n",
       "    <tr>\n",
       "      <th>0389</th>\n",
       "      <td>1.1.2.6</td>\n",
       "      <td>3024</td>\n",
       "    </tr>\n",
       "    <tr>\n",
       "      <th>449</th>\n",
       "      <td>1.1.2.6</td>\n",
       "      <td>3024</td>\n",
       "    </tr>\n",
       "    <tr>\n",
       "      <th>7907</th>\n",
       "      <td>1.1.2.6</td>\n",
       "      <td>3024</td>\n",
       "    </tr>\n",
       "    <tr>\n",
       "      <th>99591</th>\n",
       "      <td>1.1.2.6</td>\n",
       "      <td>3024</td>\n",
       "    </tr>\n",
       "    <tr>\n",
       "      <th>99592</th>\n",
       "      <td>1.1.2.6</td>\n",
       "      <td>3024</td>\n",
       "    </tr>\n",
       "    <tr>\n",
       "      <th>0940</th>\n",
       "      <td>1.1.3</td>\n",
       "      <td>3025</td>\n",
       "    </tr>\n",
       "    <tr>\n",
       "      <th>0941</th>\n",
       "      <td>1.1.3</td>\n",
       "      <td>3025</td>\n",
       "    </tr>\n",
       "    <tr>\n",
       "      <th>0971</th>\n",
       "      <td>1.1.3</td>\n",
       "      <td>3025</td>\n",
       "    </tr>\n",
       "    <tr>\n",
       "      <th>0979</th>\n",
       "      <td>1.1.3</td>\n",
       "      <td>3025</td>\n",
       "    </tr>\n",
       "    <tr>\n",
       "      <th>0993</th>\n",
       "      <td>1.1.3</td>\n",
       "      <td>3025</td>\n",
       "    </tr>\n",
       "    <tr>\n",
       "      <th>0312</th>\n",
       "      <td>1.1.4</td>\n",
       "      <td>3026</td>\n",
       "    </tr>\n",
       "    <tr>\n",
       "      <th>0319</th>\n",
       "      <td>1.1.4</td>\n",
       "      <td>3026</td>\n",
       "    </tr>\n",
       "    <tr>\n",
       "      <th>0400</th>\n",
       "      <td>1.1.4</td>\n",
       "      <td>3026</td>\n",
       "    </tr>\n",
       "    <tr>\n",
       "      <th>04100</th>\n",
       "      <td>1.1.4</td>\n",
       "      <td>3026</td>\n",
       "    </tr>\n",
       "    <tr>\n",
       "      <th>...</th>\n",
       "      <td>...</td>\n",
       "      <td>...</td>\n",
       "    </tr>\n",
       "    <tr>\n",
       "      <th>V707</th>\n",
       "      <td>17.2.3</td>\n",
       "      <td>3231</td>\n",
       "    </tr>\n",
       "    <tr>\n",
       "      <th>V7263</th>\n",
       "      <td>17.2.3</td>\n",
       "      <td>3231</td>\n",
       "    </tr>\n",
       "    <tr>\n",
       "      <th>V7281</th>\n",
       "      <td>17.2.3</td>\n",
       "      <td>3231</td>\n",
       "    </tr>\n",
       "    <tr>\n",
       "      <th>V7283</th>\n",
       "      <td>17.2.3</td>\n",
       "      <td>3231</td>\n",
       "    </tr>\n",
       "    <tr>\n",
       "      <th>V7284</th>\n",
       "      <td>17.2.3</td>\n",
       "      <td>3231</td>\n",
       "    </tr>\n",
       "    <tr>\n",
       "      <th>V5481</th>\n",
       "      <td>17.2.4</td>\n",
       "      <td>3232</td>\n",
       "    </tr>\n",
       "    <tr>\n",
       "      <th>V5489</th>\n",
       "      <td>17.2.4</td>\n",
       "      <td>3232</td>\n",
       "    </tr>\n",
       "    <tr>\n",
       "      <th>V549</th>\n",
       "      <td>17.2.4</td>\n",
       "      <td>3232</td>\n",
       "    </tr>\n",
       "    <tr>\n",
       "      <th>V5830</th>\n",
       "      <td>17.2.4</td>\n",
       "      <td>3232</td>\n",
       "    </tr>\n",
       "    <tr>\n",
       "      <th>V5831</th>\n",
       "      <td>17.2.4</td>\n",
       "      <td>3232</td>\n",
       "    </tr>\n",
       "    <tr>\n",
       "      <th>V5832</th>\n",
       "      <td>17.2.4</td>\n",
       "      <td>3232</td>\n",
       "    </tr>\n",
       "    <tr>\n",
       "      <th>V5849</th>\n",
       "      <td>17.2.4</td>\n",
       "      <td>3232</td>\n",
       "    </tr>\n",
       "    <tr>\n",
       "      <th>V5861</th>\n",
       "      <td>17.2.4</td>\n",
       "      <td>3232</td>\n",
       "    </tr>\n",
       "    <tr>\n",
       "      <th>V5862</th>\n",
       "      <td>17.2.4</td>\n",
       "      <td>3232</td>\n",
       "    </tr>\n",
       "    <tr>\n",
       "      <th>V5863</th>\n",
       "      <td>17.2.4</td>\n",
       "      <td>3232</td>\n",
       "    </tr>\n",
       "    <tr>\n",
       "      <th>V5864</th>\n",
       "      <td>17.2.4</td>\n",
       "      <td>3232</td>\n",
       "    </tr>\n",
       "    <tr>\n",
       "      <th>V5865</th>\n",
       "      <td>17.2.4</td>\n",
       "      <td>3232</td>\n",
       "    </tr>\n",
       "    <tr>\n",
       "      <th>V5866</th>\n",
       "      <td>17.2.4</td>\n",
       "      <td>3232</td>\n",
       "    </tr>\n",
       "    <tr>\n",
       "      <th>V5867</th>\n",
       "      <td>17.2.4</td>\n",
       "      <td>3232</td>\n",
       "    </tr>\n",
       "    <tr>\n",
       "      <th>V5868</th>\n",
       "      <td>17.2.4</td>\n",
       "      <td>3232</td>\n",
       "    </tr>\n",
       "    <tr>\n",
       "      <th>V5869</th>\n",
       "      <td>17.2.4</td>\n",
       "      <td>3232</td>\n",
       "    </tr>\n",
       "    <tr>\n",
       "      <th>V5873</th>\n",
       "      <td>17.2.4</td>\n",
       "      <td>3232</td>\n",
       "    </tr>\n",
       "    <tr>\n",
       "      <th>V5875</th>\n",
       "      <td>17.2.4</td>\n",
       "      <td>3232</td>\n",
       "    </tr>\n",
       "    <tr>\n",
       "      <th>V5876</th>\n",
       "      <td>17.2.4</td>\n",
       "      <td>3232</td>\n",
       "    </tr>\n",
       "    <tr>\n",
       "      <th>V5878</th>\n",
       "      <td>17.2.4</td>\n",
       "      <td>3232</td>\n",
       "    </tr>\n",
       "    <tr>\n",
       "      <th>V5881</th>\n",
       "      <td>17.2.4</td>\n",
       "      <td>3232</td>\n",
       "    </tr>\n",
       "    <tr>\n",
       "      <th>V5883</th>\n",
       "      <td>17.2.4</td>\n",
       "      <td>3232</td>\n",
       "    </tr>\n",
       "    <tr>\n",
       "      <th>V5889</th>\n",
       "      <td>17.2.4</td>\n",
       "      <td>3232</td>\n",
       "    </tr>\n",
       "    <tr>\n",
       "      <th>V667</th>\n",
       "      <td>17.2.4</td>\n",
       "      <td>3232</td>\n",
       "    </tr>\n",
       "    <tr>\n",
       "      <th>missing</th>\n",
       "      <td>NA</td>\n",
       "      <td>-1</td>\n",
       "    </tr>\n",
       "  </tbody>\n",
       "</table>\n",
       "<p>3015 rows × 2 columns</p>\n",
       "</div>"
      ],
      "text/plain": [
       "        parent_code  parent_index\n",
       "01190         1.1.1          3017\n",
       "V1201         1.1.1          3017\n",
       "0380        1.1.2.1          3019\n",
       "03810       1.1.2.2          3020\n",
       "03811       1.1.2.2          3020\n",
       "03812       1.1.2.2          3020\n",
       "03819       1.1.2.2          3020\n",
       "03842       1.1.2.3          3021\n",
       "03840       1.1.2.4          3022\n",
       "03841       1.1.2.4          3022\n",
       "03843       1.1.2.4          3022\n",
       "03844       1.1.2.4          3022\n",
       "03849       1.1.2.4          3022\n",
       "0382        1.1.2.5          3023\n",
       "0383        1.1.2.5          3023\n",
       "0388        1.1.2.6          3024\n",
       "0389        1.1.2.6          3024\n",
       "449         1.1.2.6          3024\n",
       "7907        1.1.2.6          3024\n",
       "99591       1.1.2.6          3024\n",
       "99592       1.1.2.6          3024\n",
       "0940          1.1.3          3025\n",
       "0941          1.1.3          3025\n",
       "0971          1.1.3          3025\n",
       "0979          1.1.3          3025\n",
       "0993          1.1.3          3025\n",
       "0312          1.1.4          3026\n",
       "0319          1.1.4          3026\n",
       "0400          1.1.4          3026\n",
       "04100         1.1.4          3026\n",
       "...             ...           ...\n",
       "V707         17.2.3          3231\n",
       "V7263        17.2.3          3231\n",
       "V7281        17.2.3          3231\n",
       "V7283        17.2.3          3231\n",
       "V7284        17.2.3          3231\n",
       "V5481        17.2.4          3232\n",
       "V5489        17.2.4          3232\n",
       "V549         17.2.4          3232\n",
       "V5830        17.2.4          3232\n",
       "V5831        17.2.4          3232\n",
       "V5832        17.2.4          3232\n",
       "V5849        17.2.4          3232\n",
       "V5861        17.2.4          3232\n",
       "V5862        17.2.4          3232\n",
       "V5863        17.2.4          3232\n",
       "V5864        17.2.4          3232\n",
       "V5865        17.2.4          3232\n",
       "V5866        17.2.4          3232\n",
       "V5867        17.2.4          3232\n",
       "V5868        17.2.4          3232\n",
       "V5869        17.2.4          3232\n",
       "V5873        17.2.4          3232\n",
       "V5875        17.2.4          3232\n",
       "V5876        17.2.4          3232\n",
       "V5878        17.2.4          3232\n",
       "V5881        17.2.4          3232\n",
       "V5883        17.2.4          3232\n",
       "V5889        17.2.4          3232\n",
       "V667         17.2.4          3232\n",
       "missing          NA            -1\n",
       "\n",
       "[3015 rows x 2 columns]"
      ]
     },
     "execution_count": 63,
     "metadata": {},
     "output_type": "execute_result"
    }
   ],
   "source": [
    "DX_parent"
   ]
  },
  {
   "cell_type": "code",
   "execution_count": 199,
   "metadata": {},
   "outputs": [],
   "source": [
    "parent_df = pd.concat([DX_parent, CCS_parent], axis=0)"
   ]
  },
  {
   "cell_type": "code",
   "execution_count": 200,
   "metadata": {},
   "outputs": [],
   "source": [
    "parent_mat = np.identity(len(all_codes))"
   ]
  },
  {
   "cell_type": "code",
   "execution_count": 201,
   "metadata": {
    "scrolled": true
   },
   "outputs": [],
   "source": [
    "for i, c in enumerate(all_codes):\n",
    "    parent_ind = parent_df.loc[c, 'parent_index']\n",
    "    if not parent_ind == -1:\n",
    "        parent_mat[i, parent_ind] = -1"
   ]
  },
  {
   "cell_type": "code",
   "execution_count": 202,
   "metadata": {},
   "outputs": [],
   "source": [
    "no_parent = np.where(parent_mat.sum(axis=1)>0)[0]"
   ]
  },
  {
   "cell_type": "code",
   "execution_count": 203,
   "metadata": {
    "scrolled": true
   },
   "outputs": [
    {
     "data": {
      "text/plain": [
       "array(['missing', '1', '10', '11', '12', '13', '14', '16', '17', '18',\n",
       "       '2', '3', '4', '5', '6', '7', '8', '9'], dtype='<U9')"
      ]
     },
     "execution_count": 203,
     "metadata": {},
     "output_type": "execute_result"
    }
   ],
   "source": [
    "np.array(all_codes)[no_parent]"
   ]
  },
  {
   "cell_type": "code",
   "execution_count": 204,
   "metadata": {},
   "outputs": [],
   "source": [
    "parent_mat = parent_mat[parent_mat.sum(axis=1)==0, :]"
   ]
  },
  {
   "cell_type": "code",
   "execution_count": 205,
   "metadata": {},
   "outputs": [
    {
     "data": {
      "text/plain": [
       "(2397, 2415)"
      ]
     },
     "execution_count": 205,
     "metadata": {},
     "output_type": "execute_result"
    }
   ],
   "source": [
    "parent_mat.shape"
   ]
  },
  {
   "cell_type": "code",
   "execution_count": 36,
   "metadata": {},
   "outputs": [],
   "source": [
    "np.save(path+'cohorts/ami/parent_mat3.npy', parent_mat) #code freq >= 5, no CCS cat 18"
   ]
  },
  {
   "cell_type": "markdown",
   "metadata": {},
   "source": [
    "### Data Formatting"
   ]
  },
  {
   "cell_type": "code",
   "execution_count": 34,
   "metadata": {},
   "outputs": [],
   "source": [
    "N_DX = 29\n",
    "DXs = ['DX'+str(n) for n in range(2, N_DX+2)]"
   ]
  },
  {
   "cell_type": "code",
   "execution_count": 206,
   "metadata": {},
   "outputs": [],
   "source": [
    "DX_df = train_df[DXs]\n",
    "DX_df = DX_df.fillna('missing')\n",
    "DX_df[DX_df.isin(['invl', 'incn'])] = 'missing'\n",
    "DX_df[DX_df.isin(rare_code)] = 'missing'\n",
    "DX_df[DX_df.isin(unclassified)] = 'missing'\n",
    "\n",
    "for dx in DXs:\n",
    "    DX_df[dx] = DX_df[dx].map(DX_dict)\n",
    "\n",
    "DX_mat = DX_df.values\n",
    "\n",
    "DX_mat.sort(axis=1)\n",
    "#DX_mat = DX_mat[:, ::-1]\n",
    "\n",
    "DX_mat_trn = DX_df.values[:N_trn, ]\n",
    "DX_mat_val = DX_df.values[N_trn:, ]"
   ]
  },
  {
   "cell_type": "code",
   "execution_count": 137,
   "metadata": {},
   "outputs": [],
   "source": [
    "demo_mat = train_df[['AGE', 'FEMALE']].values\n",
    "\n",
    "age_mean = train_df['AGE'].mean()\n",
    "age_std = train_df['AGE'].std()\n",
    "\n",
    "demo_mat[:, 0] = (demo_mat[:, 0]-age_mean)/age_std\n",
    "\n",
    "demo_mat_trn = demo_mat[:N_trn, ]\n",
    "demo_mat_val = demo_mat[N_trn:, ]"
   ]
  },
  {
   "cell_type": "code",
   "execution_count": 138,
   "metadata": {},
   "outputs": [],
   "source": [
    "hosp_series = train_df['HOSP_NRD'].map(hosp_dict)\n",
    "hosp_array = hosp_series.values\n",
    "\n",
    "hosp_array_trn = hosp_array[:N_trn]\n",
    "hosp_array_val = hosp_array[N_trn:]"
   ]
  },
  {
   "cell_type": "code",
   "execution_count": 139,
   "metadata": {},
   "outputs": [],
   "source": [
    "DX1_series = train_df['DX1'].map(DX1_dict)\n",
    "\n",
    "DX1_mat = np.zeros((len(DX1_series), len(DX1_dict)))\n",
    "for i, dx1 in enumerate(DX1_series.values):\n",
    "    DX1_mat[i, dx1] = 1\n",
    "\n",
    "DX1_mat_trn = DX1_mat[:N_trn, ]\n",
    "DX1_mat_val = DX1_mat[N_trn:, ]"
   ]
  },
  {
   "cell_type": "code",
   "execution_count": 140,
   "metadata": {},
   "outputs": [],
   "source": [
    "y = train_df['readm30'].values.astype(int)\n",
    "\n",
    "Y_trn = to_categorical(y[:N_trn])\n",
    "Y_val = to_categorical(y[N_trn:])"
   ]
  },
  {
   "cell_type": "markdown",
   "metadata": {},
   "source": [
    "## Model Building"
   ]
  },
  {
   "cell_type": "code",
   "execution_count": 43,
   "metadata": {},
   "outputs": [],
   "source": [
    "from setsum_layer import SetSum, MaskedSum"
   ]
  },
  {
   "cell_type": "code",
   "execution_count": 141,
   "metadata": {},
   "outputs": [],
   "source": [
    "DX_embed_dim = 50\n",
    "hosp_embed_dim = 2"
   ]
  },
  {
   "cell_type": "code",
   "execution_count": 37,
   "metadata": {
    "scrolled": true
   },
   "outputs": [],
   "source": [
    "parent_mat = np.load(path+'cohorts/ami/parent_mat3.npy')"
   ]
  },
  {
   "cell_type": "code",
   "execution_count": 209,
   "metadata": {},
   "outputs": [],
   "source": [
    "input_DX = Input(shape = (N_DX,))\n",
    "DX_embed = Embedding(input_dim=parent_mat.shape[1], output_dim=DX_embed_dim, mask_zero=True,\n",
    "                     embeddings_regularizer=Mat_reg(parent_mat, 0.01), name='DX_embed')(input_DX)\n",
    "\n",
    "#DX_feature = SetSum(DX_embed_dim, activation='tanh')(DX_embed)\n",
    "DX_feature = MaskedSum()(DX_embed)"
   ]
  },
  {
   "cell_type": "code",
   "execution_count": 124,
   "metadata": {},
   "outputs": [],
   "source": [
    "input_DX = Input(shape = (N_DX,))\n",
    "DX_embed = Embedding(input_dim=parent_mat.shape[1], output_dim=DX_embed_dim, input_length=N_DX,\n",
    "                     embeddings_regularizer=Mat_reg(parent_mat, 0.0005), name='DX_embed')(input_DX)\n",
    "\n",
    "DX_feature = Lambda(lambda x: K.sum(x, axis=1))(DX_embed)\n",
    "#DX_feature = CuDNNLSTM(DX_embed_dim, return_sequences=False)(DX_embed)"
   ]
  },
  {
   "cell_type": "code",
   "execution_count": 210,
   "metadata": {},
   "outputs": [],
   "source": [
    "input_demo = Input(shape=(2, ))\n",
    "\n",
    "input_DX1 = Input(shape=(len(DX1_cat),))\n",
    "\n",
    "input_hosp = Input(shape=(1,))\n",
    "hosp_embed = Embedding(input_dim=len(hosp_cat), output_dim=hosp_embed_dim, input_length=1)(input_hosp)\n",
    "hosp_embed = Reshape((hosp_embed_dim, ))(hosp_embed)\n",
    "\n",
    "merged = concatenate([input_demo, input_DX1, DX_feature, hosp_embed], axis=1)\n",
    "\n",
    "x = Dense(32, activation='relu')(merged)\n",
    "#x = Dense(32, activation='relu')(x)\n",
    "x = Dropout(0.2)(x)\n",
    "\n",
    "prediction = Dense(2, activation='softmax')(x)\n",
    "model = Model(inputs=[input_demo, input_DX1, input_DX, input_hosp], outputs=prediction)"
   ]
  },
  {
   "cell_type": "code",
   "execution_count": 69,
   "metadata": {},
   "outputs": [
    {
     "data": {
      "text/plain": [
       "[<tf.Variable 'DX_embed_2/embeddings:0' shape=(3605, 50) dtype=float32_ref>]"
      ]
     },
     "execution_count": 69,
     "metadata": {},
     "output_type": "execute_result"
    }
   ],
   "source": [
    "model.layers[2].weights"
   ]
  },
  {
   "cell_type": "code",
   "execution_count": 211,
   "metadata": {},
   "outputs": [],
   "source": [
    "adam = Adam(lr=0.0002)\n",
    "model.compile(optimizer=adam, loss='categorical_crossentropy')"
   ]
  },
  {
   "cell_type": "code",
   "execution_count": 212,
   "metadata": {},
   "outputs": [],
   "source": [
    "checkpoint = ModelCheckpoint(filepath=model_path+'ami_ccs_lstm_valloss1.h5', save_best_only=True, save_weights_only=True)\n",
    "auccheckpoint = AUCCheckPoint(filepath=model_path+'ami_ccs_lstm_auc1.h5', validation_y=Y_val[:, 1], \n",
    "                             validation_x=[demo_mat_val, DX1_mat_val, DX_mat_val, hosp_array_val])\n",
    "reduce_lr = ReduceLROnPlateau(monitor='loss', factor=0.3, patience=5, min_lr=K.epsilon())\n",
    "earlystop = EarlyStopping(monitor='val_loss', patience=30)"
   ]
  },
  {
   "cell_type": "code",
   "execution_count": 146,
   "metadata": {},
   "outputs": [],
   "source": [
    "class_weight = {0:(Y_trn.shape[0]/sum(Y_trn[:, 0])), 1:(Y_trn.shape[0]/sum(Y_trn[:, 1]))}"
   ]
  },
  {
   "cell_type": "code",
   "execution_count": 213,
   "metadata": {
    "scrolled": true
   },
   "outputs": [
    {
     "name": "stdout",
     "output_type": "stream",
     "text": [
      "Train on 145667 samples, validate on 18004 samples\n",
      "Epoch 1/30\n",
      "145667/145667 [==============================] - 4s 30us/step - loss: 1.6156 - val_loss: 0.6699\n",
      "AUC: 0.6909\n",
      "\n",
      "Epoch 2/30\n",
      "145667/145667 [==============================] - 3s 20us/step - loss: 1.2851 - val_loss: 0.6641\n",
      "AUC: 0.6987\n",
      "\n",
      "Epoch 3/30\n",
      "145667/145667 [==============================] - 3s 20us/step - loss: 1.2686 - val_loss: 0.6394\n",
      "AUC: 0.7022\n",
      "\n",
      "Epoch 4/30\n",
      "145667/145667 [==============================] - 3s 20us/step - loss: 1.2605 - val_loss: 0.6368\n",
      "AUC: 0.7038\n",
      "\n",
      "Epoch 5/30\n",
      "145667/145667 [==============================] - 3s 20us/step - loss: 1.2526 - val_loss: 0.6436\n",
      "AUC: 0.7065\n",
      "\n",
      "Epoch 6/30\n",
      "145667/145667 [==============================] - 3s 20us/step - loss: 1.2470 - val_loss: 0.6400\n",
      "AUC: 0.7059\n",
      "\n",
      "Epoch 7/30\n",
      "145667/145667 [==============================] - 3s 20us/step - loss: 1.2416 - val_loss: 0.6449\n",
      "AUC: 0.7056\n",
      "\n",
      "Epoch 8/30\n",
      "145667/145667 [==============================] - 3s 20us/step - loss: 1.2354 - val_loss: 0.6264\n",
      "AUC: 0.7047\n",
      "\n",
      "Epoch 9/30\n",
      "145667/145667 [==============================] - 3s 20us/step - loss: 1.2330 - val_loss: 0.6361\n",
      "AUC: 0.7048\n",
      "\n",
      "Epoch 10/30\n",
      "145667/145667 [==============================] - 3s 20us/step - loss: 1.2301 - val_loss: 0.6377\n",
      "AUC: 0.7041\n",
      "\n",
      "Epoch 11/30\n",
      "145667/145667 [==============================] - 3s 20us/step - loss: 1.2271 - val_loss: 0.6130\n",
      "AUC: 0.7029\n",
      "\n",
      "Epoch 12/30\n",
      "145667/145667 [==============================] - 3s 20us/step - loss: 1.2266 - val_loss: 0.6172\n",
      "AUC: 0.7031\n",
      "\n",
      "Epoch 13/30\n",
      "145667/145667 [==============================] - 3s 20us/step - loss: 1.2247 - val_loss: 0.6215\n",
      "AUC: 0.7023\n",
      "\n",
      "Epoch 14/30\n",
      "145667/145667 [==============================] - 3s 20us/step - loss: 1.2226 - val_loss: 0.6214\n",
      "AUC: 0.7016\n",
      "\n",
      "Epoch 15/30\n",
      "145667/145667 [==============================] - 3s 20us/step - loss: 1.2224 - val_loss: 0.6331\n",
      "AUC: 0.7021\n",
      "\n",
      "Epoch 16/30\n",
      "145667/145667 [==============================] - 3s 20us/step - loss: 1.2214 - val_loss: 0.6033\n",
      "AUC: 0.7016\n",
      "\n",
      "Epoch 17/30\n",
      "145667/145667 [==============================] - 3s 20us/step - loss: 1.2212 - val_loss: 0.6362\n",
      "AUC: 0.7017\n",
      "\n",
      "Epoch 18/30\n",
      "145667/145667 [==============================] - 3s 20us/step - loss: 1.2202 - val_loss: 0.6181\n",
      "AUC: 0.7020\n",
      "\n",
      "Epoch 19/30\n",
      "145667/145667 [==============================] - 3s 20us/step - loss: 1.2179 - val_loss: 0.6321\n",
      "AUC: 0.7021\n",
      "\n",
      "Epoch 20/30\n",
      "145667/145667 [==============================] - 3s 20us/step - loss: 1.2179 - val_loss: 0.6383\n",
      "AUC: 0.7018\n",
      "\n",
      "Epoch 21/30\n",
      "145667/145667 [==============================] - 3s 20us/step - loss: 1.2167 - val_loss: 0.6225\n",
      "AUC: 0.7007\n",
      "\n",
      "Epoch 22/30\n",
      "145667/145667 [==============================] - 3s 20us/step - loss: 1.2160 - val_loss: 0.6397\n",
      "AUC: 0.7009\n",
      "\n",
      "Epoch 23/30\n",
      "145667/145667 [==============================] - 3s 20us/step - loss: 1.2148 - val_loss: 0.6462\n",
      "AUC: 0.7020\n",
      "\n",
      "Epoch 24/30\n",
      "145667/145667 [==============================] - 3s 20us/step - loss: 1.2147 - val_loss: 0.6245\n",
      "AUC: 0.7007\n",
      "\n",
      "Epoch 25/30\n",
      "145667/145667 [==============================] - 3s 20us/step - loss: 1.2128 - val_loss: 0.6275\n",
      "AUC: 0.7019\n",
      "\n",
      "Epoch 26/30\n",
      "145667/145667 [==============================] - 3s 20us/step - loss: 1.2133 - val_loss: 0.6231\n",
      "AUC: 0.7008\n",
      "\n",
      "Epoch 27/30\n",
      "145667/145667 [==============================] - 3s 20us/step - loss: 1.2109 - val_loss: 0.6367\n",
      "AUC: 0.7008\n",
      "\n",
      "Epoch 28/30\n",
      "145667/145667 [==============================] - 3s 21us/step - loss: 1.2108 - val_loss: 0.6335\n",
      "AUC: 0.7011\n",
      "\n",
      "Epoch 29/30\n",
      "145667/145667 [==============================] - 3s 20us/step - loss: 1.2095 - val_loss: 0.6541\n",
      "AUC: 0.7005\n",
      "\n",
      "Epoch 30/30\n",
      "145667/145667 [==============================] - 3s 20us/step - loss: 1.2093 - val_loss: 0.6398\n",
      "AUC: 0.6987\n",
      "\n"
     ]
    }
   ],
   "source": [
    "hist = model.fit([demo_mat_trn, DX1_mat_trn, DX_mat_trn, hosp_array_trn], Y_trn, \n",
    "                 batch_size=256, epochs=30, callbacks=[checkpoint, auccheckpoint, reduce_lr, earlystop], class_weight=class_weight, \n",
    "                 validation_data=[[demo_mat_val, DX1_mat_val, DX_mat_val, hosp_array_val], Y_val], \n",
    "                verbose=1)"
   ]
  },
  {
   "cell_type": "code",
   "execution_count": 214,
   "metadata": {
    "scrolled": true
   },
   "outputs": [
    {
     "data": {
      "text/plain": [
       "[<matplotlib.lines.Line2D at 0x2b910bd8bda0>]"
      ]
     },
     "execution_count": 214,
     "metadata": {},
     "output_type": "execute_result"
    },
    {
     "data": {
      "image/png": "[encoded data removed]",
      "text/plain": [
       "<Figure size 432x288 with 1 Axes>"
      ]
     },
     "metadata": {},
     "output_type": "display_data"
    }
   ],
   "source": [
    "plt.plot(hist.history['val_loss'])"
   ]
  },
  {
   "cell_type": "code",
   "execution_count": 215,
   "metadata": {
    "scrolled": true
   },
   "outputs": [
    {
     "data": {
      "text/plain": [
       "[<matplotlib.lines.Line2D at 0x2b910d23aeb8>]"
      ]
     },
     "execution_count": 215,
     "metadata": {},
     "output_type": "execute_result"
    },
    {
     "data": {
      "image/png": "[encoded data removed]",
      "text/plain": [
       "<Figure size 432x288 with 1 Axes>"
      ]
     },
     "metadata": {},
     "output_type": "display_data"
    }
   ],
   "source": [
    "plt.plot(auccheckpoint.auc_history)"
   ]
  },
  {
   "cell_type": "markdown",
   "metadata": {},
   "source": [
    "### Model testing"
   ]
  },
  {
   "cell_type": "code",
   "execution_count": 216,
   "metadata": {},
   "outputs": [],
   "source": [
    "DX_df_tst = tst_df[DXs]\n",
    "DX_df_tst = DX_df_tst.fillna('missing')\n",
    "DX_df_tst[DX_df_tst.isin(['invl', 'incn'])]\n",
    "DX_df_tst[DX_df_tst.isin(rare_code)] = 'missing'\n",
    "DX_df_tst[DX_df_tst.isin(unclassified)] = 'missing'\n",
    "\n",
    "for dx in DXs:\n",
    "    DX_df_tst[dx] = DX_df_tst[dx].map(DX_dict)\n",
    "\n",
    "DX_mat_tst = DX_df_tst.values\n",
    "\n",
    "DX_mat_tst.sort(axis=1)\n",
    "#DX_mat_tst = DX_mat_tst[:, ::-1]"
   ]
  },
  {
   "cell_type": "code",
   "execution_count": 151,
   "metadata": {},
   "outputs": [],
   "source": [
    "demo_mat_tst = tst_df[['AGE', 'FEMALE']].values\n",
    "demo_mat_tst[:, 0] = (demo_mat_tst[:, 0]-age_mean)/age_std"
   ]
  },
  {
   "cell_type": "code",
   "execution_count": 152,
   "metadata": {},
   "outputs": [],
   "source": [
    "hosp_array_tst = tst_df['HOSP_NRD'].map(hosp_dict).values"
   ]
  },
  {
   "cell_type": "code",
   "execution_count": 153,
   "metadata": {},
   "outputs": [],
   "source": [
    "DX1_series_tst = tst_df.DX1.map(DX1_dict)\n",
    "\n",
    "DX1_mat_tst = np.zeros((len(tst_df), len(DX1_dict)))\n",
    "for i, dx1 in enumerate(DX1_series_tst.values):\n",
    "    DX1_mat_tst[i, dx1] = 1"
   ]
  },
  {
   "cell_type": "code",
   "execution_count": 217,
   "metadata": {},
   "outputs": [],
   "source": [
    "model.load_weights(model_path+'ami_ccs_lstm_auc1.h5')"
   ]
  },
  {
   "cell_type": "code",
   "execution_count": 218,
   "metadata": {},
   "outputs": [
    {
     "name": "stdout",
     "output_type": "stream",
     "text": [
      "18186/18186 [==============================] - 1s 30us/step\n"
     ]
    }
   ],
   "source": [
    "y = model.predict([demo_mat_tst, DX1_mat_tst, DX_mat_tst, hosp_array_tst], verbose=1)\n",
    "\n",
    "y_pred = y[:, 1]\n",
    "y_true = tst_df.readm30.astype(int).values"
   ]
  },
  {
   "cell_type": "code",
   "execution_count": 219,
   "metadata": {
    "scrolled": true
   },
   "outputs": [
    {
     "data": {
      "text/plain": [
       "{0: 0.7056342150744933}"
      ]
     },
     "execution_count": 219,
     "metadata": {},
     "output_type": "execute_result"
    },
    {
     "data": {
      "image/png": "[encoded data removed]",
      "text/plain": [
       "<Figure size 432x288 with 1 Axes>"
      ]
     },
     "metadata": {},
     "output_type": "display_data"
    }
   ],
   "source": [
    "plot_roc(y_pred, y_true)"
   ]
  },
  {
   "cell_type": "code",
   "execution_count": 95,
   "metadata": {},
   "outputs": [],
   "source": [
    "embed_mat = model.layers[2].get_weights()[0]"
   ]
  },
  {
   "cell_type": "code",
   "execution_count": 88,
   "metadata": {
    "scrolled": false
   },
   "outputs": [
    {
     "data": {
      "text/plain": [
       "array([0.19206613, 0.18525071, 0.19214025, 0.22261131, 0.21991327,\n",
       "       0.21312036, 0.21395865, 0.18042475, 0.23263112, 0.20849742,\n",
       "       0.2171706 , 0.221458  , 0.20803829, 0.18642162, 0.18367086,\n",
       "       0.19607946, 0.19855969, 0.19378251, 0.23564704, 0.20976073,\n",
       "       0.20245887, 0.2339789 , 0.18185973, 0.22081879, 0.20342825,\n",
       "       0.1960982 , 0.19690487, 0.19222978, 0.19159055, 0.20484276],\n",
       "      dtype=float32)"
      ]
     },
     "execution_count": 88,
     "metadata": {},
     "output_type": "execute_result"
    }
   ],
   "source": [
    "np.linalg.norm(embed_mat, axis=1, ord=2)[:30]"
   ]
  },
  {
   "cell_type": "code",
   "execution_count": 96,
   "metadata": {
    "scrolled": false
   },
   "outputs": [
    {
     "data": {
      "text/plain": [
       "array([0.19206613, 0.05574033, 0.05200075, 0.05206684, 0.06145821,\n",
       "       0.09432068, 0.05461602, 0.03741015, 0.05191894, 0.03062067,\n",
       "       0.04970593, 0.05317962, 0.05420603, 0.03656052, 0.04274737,\n",
       "       0.04807642, 0.05005065, 0.04716379, 0.04575374, 0.03864745,\n",
       "       0.03666022, 0.03635335, 0.03762525, 0.04590897, 0.03675134,\n",
       "       0.03597372, 0.03329653, 0.05921885, 0.06657047, 0.05399343],\n",
       "      dtype=float32)"
      ]
     },
     "execution_count": 96,
     "metadata": {},
     "output_type": "execute_result"
    }
   ],
   "source": [
    "np.linalg.norm(embed_mat, axis=1, ord=2)[:30]"
   ]
  },
  {
   "cell_type": "code",
   "execution_count": 87,
   "metadata": {},
   "outputs": [
    {
     "data": {
      "text/html": [
       "<div>\n",
       "<style scoped>\n",
       "    .dataframe tbody tr th:only-of-type {\n",
       "        vertical-align: middle;\n",
       "    }\n",
       "\n",
       "    .dataframe tbody tr th {\n",
       "        vertical-align: top;\n",
       "    }\n",
       "\n",
       "    .dataframe thead th {\n",
       "        text-align: right;\n",
       "    }\n",
       "</style>\n",
       "<table border=\"1\" class=\"dataframe\">\n",
       "  <thead>\n",
       "    <tr style=\"text-align: right;\">\n",
       "      <th></th>\n",
       "      <th>ICD9CM_CODE</th>\n",
       "      <th>CCS_LVL1</th>\n",
       "      <th>CCS_LVL2</th>\n",
       "      <th>CCS_LVL3</th>\n",
       "      <th>CCS_LVL4</th>\n",
       "    </tr>\n",
       "  </thead>\n",
       "  <tbody>\n",
       "    <tr>\n",
       "      <th>91</th>\n",
       "      <td>01190</td>\n",
       "      <td>1</td>\n",
       "      <td>1.1</td>\n",
       "      <td>1.1.1</td>\n",
       "      <td></td>\n",
       "    </tr>\n",
       "    <tr>\n",
       "      <th>425</th>\n",
       "      <td>V1201</td>\n",
       "      <td>1</td>\n",
       "      <td>1.1</td>\n",
       "      <td>1.1.1</td>\n",
       "      <td></td>\n",
       "    </tr>\n",
       "    <tr>\n",
       "      <th>426</th>\n",
       "      <td>0380</td>\n",
       "      <td>1</td>\n",
       "      <td>1.1</td>\n",
       "      <td>1.1.2</td>\n",
       "      <td>1.1.2.1</td>\n",
       "    </tr>\n",
       "    <tr>\n",
       "      <th>428</th>\n",
       "      <td>03810</td>\n",
       "      <td>1</td>\n",
       "      <td>1.1</td>\n",
       "      <td>1.1.2</td>\n",
       "      <td>1.1.2.2</td>\n",
       "    </tr>\n",
       "    <tr>\n",
       "      <th>429</th>\n",
       "      <td>03811</td>\n",
       "      <td>1</td>\n",
       "      <td>1.1</td>\n",
       "      <td>1.1.2</td>\n",
       "      <td>1.1.2.2</td>\n",
       "    </tr>\n",
       "  </tbody>\n",
       "</table>\n",
       "</div>"
      ],
      "text/plain": [
       "    ICD9CM_CODE CCS_LVL1 CCS_LVL2 CCS_LVL3 CCS_LVL4\n",
       "91        01190        1      1.1    1.1.1         \n",
       "425       V1201        1      1.1    1.1.1         \n",
       "426        0380        1      1.1    1.1.2  1.1.2.1\n",
       "428       03810        1      1.1    1.1.2  1.1.2.2\n",
       "429       03811        1      1.1    1.1.2  1.1.2.2"
      ]
     },
     "execution_count": 87,
     "metadata": {},
     "output_type": "execute_result"
    }
   ],
   "source": [
    "ami_ccs.head()"
   ]
  },
  {
   "cell_type": "code",
   "execution_count": 66,
   "metadata": {
    "scrolled": true
   },
   "outputs": [
    {
     "data": {
      "text/plain": [
       "array([0.01805247, 0.01935255, 0.03103866, 0.00956126, 0.14596854,\n",
       "       0.01274131, 0.10231429, 0.02529758, 0.02614069, 0.02074293,\n",
       "       0.03423172, 0.02106512, 0.02336136, 0.04806978, 0.02870569,\n",
       "       0.06002716, 0.03298613, 0.02912723, 0.02108174, 0.01832154])"
      ]
     },
     "execution_count": 66,
     "metadata": {},
     "output_type": "execute_result"
    }
   ],
   "source": [
    "np.linalg.norm(np.dot(parent_mat, embed_mat), axis=1, ord=2)[:20]"
   ]
  },
  {
   "cell_type": "code",
   "execution_count": 74,
   "metadata": {},
   "outputs": [],
   "source": [
    "from sklearn import decomposition, manifold"
   ]
  },
  {
   "cell_type": "code",
   "execution_count": 75,
   "metadata": {},
   "outputs": [],
   "source": [
    "tsne = manifold.TSNE(n_components=2, init='pca', random_state=0)"
   ]
  },
  {
   "cell_type": "code",
   "execution_count": 76,
   "metadata": {},
   "outputs": [],
   "source": [
    "embed_tsne = tsne.fit_transform(embed_mat[1:(n_DX_cat-2),:])"
   ]
  },
  {
   "cell_type": "code",
   "execution_count": 77,
   "metadata": {},
   "outputs": [],
   "source": [
    "ccs_lvl1 = [ami_ccs.loc[c, 'CCS_LVL1'] for c in all_codes[1:(n_DX_cat-2)]]\n",
    "\n",
    "fine_group = [ami_ccs.loc[c, 'finest_non_empty'] for c in all_codes[1:(n_DX_cat-2)]]\n",
    "\n",
    "plot_df = pd.DataFrame(dict(x=embed_tsne[:, 0], y=embed_tsne[:, 1], lvl1=ccs_lvl1, fine_group=fine_group))"
   ]
  },
  {
   "cell_type": "code",
   "execution_count": 78,
   "metadata": {},
   "outputs": [],
   "source": [
    "plot_df = plot_df.assign(level=[len(g.split('.')) for g in plot_df.fine_group])"
   ]
  },
  {
   "cell_type": "code",
   "execution_count": 79,
   "metadata": {
    "scrolled": true
   },
   "outputs": [],
   "source": [
    "groups = plot_df.groupby('lvl1')\n",
    "\n",
    "gkey = groups.groups.keys()"
   ]
  },
  {
   "cell_type": "code",
   "execution_count": 80,
   "metadata": {},
   "outputs": [
    {
     "data": {
      "text/plain": [
       "<matplotlib.legend.Legend at 0x2ba5cdd93828>"
      ]
     },
     "execution_count": 80,
     "metadata": {},
     "output_type": "execute_result"
    },
    {
     "data": {
      "image/png": "[encoded data removed]",
      "text/plain": [
       "<Figure size 720x576 with 1 Axes>"
      ]
     },
     "metadata": {},
     "output_type": "display_data"
    }
   ],
   "source": [
    "fig, ax = plt.subplots(figsize=(10, 8))\n",
    "for name in list(gkey)[:10]:\n",
    "    group = groups.get_group(name)\n",
    "    ax.plot(group.x, group.y, marker='o', linestyle='', ms=3, label=name)\n",
    "ax.legend()"
   ]
  },
  {
   "cell_type": "code",
   "execution_count": 90,
   "metadata": {},
   "outputs": [],
   "source": [
    "top_fine_cat = ami_ccs.finest_non_empty.value_counts().iloc[:10].index\n",
    "\n",
    "plot_subdf = plot_df.loc[plot_df.fine_group.isin(top_fine_cat)]"
   ]
  },
  {
   "cell_type": "code",
   "execution_count": 91,
   "metadata": {
    "scrolled": false
   },
   "outputs": [
    {
     "data": {
      "text/plain": [
       "<matplotlib.legend.Legend at 0x2ba0bbf5ab70>"
      ]
     },
     "execution_count": 91,
     "metadata": {},
     "output_type": "execute_result"
    },
    {
     "data": {
      "image/png": "[encoded data removed]",
      "text/plain": [
       "<Figure size 720x576 with 1 Axes>"
      ]
     },
     "metadata": {},
     "output_type": "display_data"
    }
   ],
   "source": [
    "groups = plot_subdf.groupby('fine_group')\n",
    "\n",
    "fig, ax = plt.subplots(figsize=(10, 8))\n",
    "for name, group in groups:\n",
    "    ax.plot(group.x, group.y, marker='o', linestyle='', ms=3, label=name)\n",
    "ax.legend()"
   ]
  },
  {
   "cell_type": "code",
   "execution_count": 153,
   "metadata": {},
   "outputs": [],
   "source": [
    "plot_subdf = plot_df.loc[plot_df.lvl1=='3']"
   ]
  },
  {
   "cell_type": "code",
   "execution_count": 154,
   "metadata": {},
   "outputs": [
    {
     "data": {
      "text/plain": [
       "<matplotlib.legend.Legend at 0x2ba0e4bb5320>"
      ]
     },
     "execution_count": 154,
     "metadata": {},
     "output_type": "execute_result"
    },
    {
     "data": {
      "image/png": "[encoded data removed]",
      "text/plain": [
       "<Figure size 720x576 with 1 Axes>"
      ]
     },
     "metadata": {},
     "output_type": "display_data"
    }
   ],
   "source": [
    "groups = plot_subdf.groupby('level')\n",
    "\n",
    "fig, ax = plt.subplots(figsize=(10, 8))\n",
    "for name, group in groups:\n",
    "    ax.plot(group.x, group.y, marker='o', linestyle='', ms=3, label=name)\n",
    "ax.legend()"
   ]
  },
  {
   "cell_type": "code",
   "execution_count": 108,
   "metadata": {
    "scrolled": true
   },
   "outputs": [
    {
     "data": {
      "text/plain": [
       "Index(['18', '13.8', '6.7.6', '16.12', '13.2.3', '16.8', '5.12', '6.9.1',\n",
       "       '16.5', '2.16.2.5', '9.12.3', '16.10.2.7', '1.1.4', '9.2', '3.11.3',\n",
       "       '3.4', '16.6.1', '17.1.9', '8.9', '10.1.8.3'],\n",
       "      dtype='object')"
      ]
     },
     "execution_count": 108,
     "metadata": {},
     "output_type": "execute_result"
    }
   ],
   "source": [
    "top_fine_cat"
   ]
  },
  {
   "cell_type": "markdown",
   "metadata": {},
   "source": [
    "### Hyper Tuning"
   ]
  },
  {
   "cell_type": "code",
   "execution_count": 68,
   "metadata": {},
   "outputs": [],
   "source": [
    "with open('output/hyper_tune_nomask.csv', 'a') as f:\n",
    "    f.write('DX_dim,hosp_dim,penalty,fc_width,dropout,lr,batch_size,auc\\n')"
   ]
  },
  {
   "cell_type": "code",
   "execution_count": 27,
   "metadata": {},
   "outputs": [],
   "source": [
    "col_names = ['DX_dim', 'hosp_dim', 'penalty', 'fc_width', 'dropout', 'lr', 'batch_size', 'auc']"
   ]
  },
  {
   "cell_type": "code",
   "execution_count": 28,
   "metadata": {
    "scrolled": true
   },
   "outputs": [],
   "source": [
    "hp = pd.read_csv('output/hyper_tune_nomask_no18.csv', names=col_names)"
   ]
  },
  {
   "cell_type": "code",
   "execution_count": 24,
   "metadata": {},
   "outputs": [
    {
     "data": {
      "text/plain": [
       "91"
      ]
     },
     "execution_count": 24,
     "metadata": {},
     "output_type": "execute_result"
    }
   ],
   "source": [
    "len(hp)"
   ]
  },
  {
   "cell_type": "code",
   "execution_count": 30,
   "metadata": {},
   "outputs": [
    {
     "data": {
      "text/html": [
       "<div>\n",
       "<style scoped>\n",
       "    .dataframe tbody tr th:only-of-type {\n",
       "        vertical-align: middle;\n",
       "    }\n",
       "\n",
       "    .dataframe tbody tr th {\n",
       "        vertical-align: top;\n",
       "    }\n",
       "\n",
       "    .dataframe thead th {\n",
       "        text-align: right;\n",
       "    }\n",
       "</style>\n",
       "<table border=\"1\" class=\"dataframe\">\n",
       "  <thead>\n",
       "    <tr style=\"text-align: right;\">\n",
       "      <th></th>\n",
       "      <th>DX_dim</th>\n",
       "      <th>hosp_dim</th>\n",
       "      <th>penalty</th>\n",
       "      <th>fc_width</th>\n",
       "      <th>dropout</th>\n",
       "      <th>lr</th>\n",
       "      <th>batch_size</th>\n",
       "      <th>auc</th>\n",
       "    </tr>\n",
       "  </thead>\n",
       "  <tbody>\n",
       "    <tr>\n",
       "      <th>18</th>\n",
       "      <td>20</td>\n",
       "      <td>2</td>\n",
       "      <td>0.000874</td>\n",
       "      <td>32</td>\n",
       "      <td>0.267511</td>\n",
       "      <td>0.0002</td>\n",
       "      <td>256</td>\n",
       "      <td>0.7093</td>\n",
       "    </tr>\n",
       "    <tr>\n",
       "      <th>24</th>\n",
       "      <td>27</td>\n",
       "      <td>2</td>\n",
       "      <td>0.000295</td>\n",
       "      <td>64</td>\n",
       "      <td>0.143071</td>\n",
       "      <td>0.0002</td>\n",
       "      <td>128</td>\n",
       "      <td>0.7092</td>\n",
       "    </tr>\n",
       "    <tr>\n",
       "      <th>56</th>\n",
       "      <td>28</td>\n",
       "      <td>3</td>\n",
       "      <td>0.000079</td>\n",
       "      <td>64</td>\n",
       "      <td>0.245499</td>\n",
       "      <td>0.0005</td>\n",
       "      <td>256</td>\n",
       "      <td>0.7092</td>\n",
       "    </tr>\n",
       "    <tr>\n",
       "      <th>67</th>\n",
       "      <td>24</td>\n",
       "      <td>1</td>\n",
       "      <td>0.000003</td>\n",
       "      <td>64</td>\n",
       "      <td>0.043036</td>\n",
       "      <td>0.0005</td>\n",
       "      <td>256</td>\n",
       "      <td>0.7094</td>\n",
       "    </tr>\n",
       "  </tbody>\n",
       "</table>\n",
       "</div>"
      ],
      "text/plain": [
       "    DX_dim  hosp_dim   penalty  fc_width   dropout      lr  batch_size     auc\n",
       "18      20         2  0.000874        32  0.267511  0.0002         256  0.7093\n",
       "24      27         2  0.000295        64  0.143071  0.0002         128  0.7092\n",
       "56      28         3  0.000079        64  0.245499  0.0005         256  0.7092\n",
       "67      24         1  0.000003        64  0.043036  0.0005         256  0.7094"
      ]
     },
     "execution_count": 30,
     "metadata": {},
     "output_type": "execute_result"
    }
   ],
   "source": [
    "hp.loc[hp.auc>0.709]"
   ]
  },
  {
   "cell_type": "code",
   "execution_count": 31,
   "metadata": {
    "scrolled": true
   },
   "outputs": [
    {
     "data": {
      "text/plain": [
       "<matplotlib.axes._subplots.AxesSubplot at 0x2adc8f9d8f28>"
      ]
     },
     "execution_count": 31,
     "metadata": {},
     "output_type": "execute_result"
    },
    {
     "data": {
      "image/png": "[encoded data removed]",
      "text/plain": [
       "<Figure size 432x288 with 1 Axes>"
      ]
     },
     "metadata": {},
     "output_type": "display_data"
    }
   ],
   "source": [
    "hp.plot.scatter('penalty', 'auc', xlim=(-0.0001, 0.002), ylim=(0.706, 0.71))"
   ]
  },
  {
   "cell_type": "markdown",
   "metadata": {},
   "source": [
    "### Backups"
   ]
  },
  {
   "cell_type": "markdown",
   "metadata": {},
   "source": [
    "### Model Building with OHE"
   ]
  },
  {
   "cell_type": "code",
   "execution_count": 20,
   "metadata": {},
   "outputs": [],
   "source": [
    "DX_embed_dim = 50\n",
    "hosp_embed_dim = 1"
   ]
  },
  {
   "cell_type": "code",
   "execution_count": 55,
   "metadata": {},
   "outputs": [],
   "source": [
    "input_DX = Input(shape = (n_DX_cat,))\n",
    "DX_feature = Dense(DX_embed_dim, use_bias=False)(input_DX)\n",
    "\n",
    "input_demo = Input(shape=(2, ))\n",
    "\n",
    "input_DX1 = Input(shape=(len(DX1_cat),))\n",
    "\n",
    "input_hosp = Input(shape=(1,))\n",
    "hosp_embed = Embedding(input_dim=len(hosp_cat), output_dim=hosp_embed_dim, input_length=1)(input_hosp)\n",
    "hosp_embed = Reshape((hosp_embed_dim, ))(hosp_embed)\n",
    "\n",
    "merged = concatenate([input_demo, input_DX1, DX_feature, hosp_embed], axis=1)\n",
    "\n",
    "x = Dense(128, activation='relu')(merged)\n",
    "#x = Dense(64, activation='relu')(x)\n",
    "x = Dense(32, activation='relu')(x)\n",
    "#x = Dense(16, activation='relu')(x)\n",
    "x = Dropout(0.5)(x)\n",
    "\n",
    "prediction = Dense(2, activation='softmax')(x)\n",
    "model = Model(inputs=[input_demo, input_DX1, input_DX, input_hosp], outputs=prediction)"
   ]
  },
  {
   "cell_type": "code",
   "execution_count": 56,
   "metadata": {},
   "outputs": [
    {
     "data": {
      "text/plain": [
       "TensorShape([Dimension(None), Dimension(50)])"
      ]
     },
     "execution_count": 56,
     "metadata": {},
     "output_type": "execute_result"
    }
   ],
   "source": [
    "DX_feature.shape"
   ]
  },
  {
   "cell_type": "code",
   "execution_count": 58,
   "metadata": {},
   "outputs": [],
   "source": [
    "adam = Adam(lr=0.0002)\n",
    "model.compile(optimizer=adam, loss='categorical_crossentropy', metrics=['accuracy'])"
   ]
  },
  {
   "cell_type": "code",
   "execution_count": 59,
   "metadata": {},
   "outputs": [],
   "source": [
    "checkpoint = ModelCheckpoint(filepath=model_path+'ami_icd9_ohe_valloss1.h5', save_best_only=True, save_weights_only=True)\n",
    "auccheckpoint = AUCCheckPoint(filepath=model_path+'ami_icd9_ohe_auc1.h5', validation_y=Y_val[:, 1], \n",
    "                             validation_x=[demo_mat_val, DX1_mat_val, DX_ohe_val, hosp_array_val])\n",
    "reduce_lr = ReduceLROnPlateau(monitor='loss', factor=0.2, patience=3, min_lr=1.e-8)\n",
    "earlystop = EarlyStopping(monitor='val_loss', patience=20)"
   ]
  },
  {
   "cell_type": "code",
   "execution_count": 60,
   "metadata": {},
   "outputs": [],
   "source": [
    "class_weight = {0:(Y_trn.shape[0]/sum(Y_trn[:, 0])), 1:(Y_trn.shape[0]/sum(Y_trn[:, 1]))}"
   ]
  },
  {
   "cell_type": "code",
   "execution_count": 61,
   "metadata": {
    "scrolled": true
   },
   "outputs": [
    {
     "name": "stdout",
     "output_type": "stream",
     "text": [
      "Train on 145667 samples, validate on 18004 samples\n",
      "Epoch 1/20\n",
      " - 7s - loss: 1.3245 - acc: 0.5939 - val_loss: 0.6438 - val_acc: 0.6399\n",
      "AUC: 0.6854\n",
      "\n",
      "Epoch 2/20\n",
      " - 9s - loss: 1.2781 - acc: 0.6356 - val_loss: 0.6329 - val_acc: 0.6380\n",
      "AUC: 0.6898\n",
      "\n",
      "Epoch 3/20\n",
      " - 9s - loss: 1.2583 - acc: 0.6404 - val_loss: 0.6276 - val_acc: 0.6399\n",
      "AUC: 0.6901\n",
      "\n",
      "Epoch 4/20\n",
      " - 9s - loss: 1.2450 - acc: 0.6460 - val_loss: 0.6301 - val_acc: 0.6279\n",
      "AUC: 0.6871\n",
      "\n",
      "Epoch 5/20\n",
      " - 9s - loss: 1.2293 - acc: 0.6470 - val_loss: 0.6398 - val_acc: 0.6230\n",
      "AUC: 0.6841\n",
      "\n",
      "Epoch 6/20\n",
      " - 9s - loss: 1.2162 - acc: 0.6539 - val_loss: 0.6214 - val_acc: 0.6377\n",
      "AUC: 0.6814\n",
      "\n",
      "Epoch 7/20\n",
      " - 9s - loss: 1.2016 - acc: 0.6574 - val_loss: 0.6104 - val_acc: 0.6439\n",
      "AUC: 0.6778\n",
      "\n",
      "Epoch 8/20\n",
      " - 9s - loss: 1.1875 - acc: 0.6590 - val_loss: 0.6120 - val_acc: 0.6417\n",
      "AUC: 0.6747\n",
      "\n",
      "Epoch 9/20\n",
      " - 9s - loss: 1.1727 - acc: 0.6650 - val_loss: 0.6097 - val_acc: 0.6387\n",
      "AUC: 0.6750\n",
      "\n",
      "Epoch 10/20\n",
      " - 9s - loss: 1.1610 - acc: 0.6660 - val_loss: 0.6189 - val_acc: 0.6329\n",
      "AUC: 0.6727\n",
      "\n",
      "Epoch 11/20\n",
      " - 9s - loss: 1.1462 - acc: 0.6712 - val_loss: 0.6295 - val_acc: 0.6358\n",
      "AUC: 0.6688\n",
      "\n",
      "Epoch 12/20\n",
      " - 9s - loss: 1.1329 - acc: 0.6760 - val_loss: 0.6555 - val_acc: 0.6086\n",
      "AUC: 0.6662\n",
      "\n",
      "Epoch 13/20\n",
      " - 9s - loss: 1.1183 - acc: 0.6833 - val_loss: 0.6213 - val_acc: 0.6394\n",
      "AUC: 0.6582\n",
      "\n",
      "Epoch 14/20\n",
      " - 9s - loss: 1.1060 - acc: 0.6908 - val_loss: 0.6298 - val_acc: 0.6351\n",
      "AUC: 0.6582\n",
      "\n",
      "Epoch 15/20\n",
      " - 9s - loss: 1.0908 - acc: 0.6961 - val_loss: 0.6007 - val_acc: 0.6700\n",
      "AUC: 0.6541\n",
      "\n",
      "Epoch 16/20\n",
      " - 9s - loss: 1.0766 - acc: 0.7042 - val_loss: 0.6424 - val_acc: 0.6419\n",
      "AUC: 0.6513\n",
      "\n",
      "Epoch 17/20\n",
      " - 9s - loss: 1.0629 - acc: 0.7115 - val_loss: 0.6349 - val_acc: 0.6539\n",
      "AUC: 0.6493\n",
      "\n",
      "Epoch 18/20\n",
      " - 9s - loss: 1.0437 - acc: 0.7204 - val_loss: 0.6372 - val_acc: 0.6541\n",
      "AUC: 0.6434\n",
      "\n",
      "Epoch 19/20\n",
      " - 9s - loss: 1.0271 - acc: 0.7292 - val_loss: 0.6152 - val_acc: 0.6745\n",
      "AUC: 0.6419\n",
      "\n",
      "Epoch 20/20\n",
      " - 9s - loss: 1.0119 - acc: 0.7364 - val_loss: 0.6126 - val_acc: 0.6811\n",
      "AUC: 0.6362\n",
      "\n"
     ]
    }
   ],
   "source": [
    "hist = model.fit([demo_mat_trn, DX1_mat_trn, DX_ohe_trn, hosp_array_trn], Y_trn, \n",
    "                 batch_size=512, epochs=20, callbacks=[checkpoint, auccheckpoint, reduce_lr, earlystop], class_weight=class_weight, \n",
    "                 validation_data=[[demo_mat_val, DX1_mat_val, DX_ohe_val, hosp_array_val], Y_val], \n",
    "                verbose=2)"
   ]
  }
 ],
 "metadata": {
  "kernelspec": {
   "display_name": "Python 3",
   "language": "python",
   "name": "python3"
  },
  "language_info": {
   "codemirror_mode": {
    "name": "ipython",
    "version": 3
   },
   "file_extension": ".py",
   "mimetype": "text/x-python",
   "name": "python",
   "nbconvert_exporter": "python",
   "pygments_lexer": "ipython3",
   "version": "3.5.4"
  }
 },
 "nbformat": 4,
 "nbformat_minor": 2
}
