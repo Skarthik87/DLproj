{
 "cells": [
  {
   "cell_type": "markdown",
   "metadata": {},
   "source": [
    "# Prediction by Diagnosis Codes\n",
    "In this notebook we use some fancier networks. "
   ]
  },
  {
   "cell_type": "code",
   "execution_count": 1,
   "metadata": {},
   "outputs": [],
   "source": [
    "import pandas as pd\n",
    "import numpy as np\n",
    "import matplotlib.pyplot as plt\n",
    "#import statsmodels.api as sm\n",
    "from sklearn.model_selection import train_test_split\n",
    "import os, sys\n",
    "\n",
    "%matplotlib inline"
   ]
  },
  {
   "cell_type": "code",
   "execution_count": 2,
   "metadata": {},
   "outputs": [],
   "source": [
    "path = '/nfs/turbo/intmed-bnallamo-turbo/wsliu/Data/NRD/'"
   ]
  },
  {
   "cell_type": "code",
   "execution_count": 2,
   "metadata": {},
   "outputs": [],
   "source": [
    "path = '/nfs/turbo/umms-awaljee/wsliu/Data/NRD/'"
   ]
  },
  {
   "cell_type": "code",
   "execution_count": 3,
   "metadata": {},
   "outputs": [],
   "source": [
    "model_path = path + 'models/'\n",
    "if not os.path.exists(model_path): os.mkdir(model_path)"
   ]
  },
  {
   "cell_type": "code",
   "execution_count": 4,
   "metadata": {
    "scrolled": true
   },
   "outputs": [
    {
     "name": "stderr",
     "output_type": "stream",
     "text": [
      "Using TensorFlow backend.\n"
     ]
    }
   ],
   "source": [
    "from keras.layers import Input, Embedding, concatenate, Reshape, BatchNormalization, add, LSTM, CuDNNLSTM, CuDNNGRU, Lambda\n",
    "from keras.models import Model\n",
    "from keras.layers.core import Dense, Activation, Dropout\n",
    "from keras.callbacks import ModelCheckpoint, ReduceLROnPlateau, EarlyStopping\n",
    "from keras.utils import to_categorical\n",
    "from keras.optimizers import Adam\n",
    "import keras.backend as K"
   ]
  },
  {
   "cell_type": "code",
   "execution_count": 5,
   "metadata": {},
   "outputs": [],
   "source": [
    "module_path = os.path.abspath(os.path.join('..'))\n",
    "if module_path not in sys.path:\n",
    "    sys.path.append(module_path)\n",
    "from DL_utils import plot_roc\n",
    "from keras_addon import AUCCheckPoint"
   ]
  },
  {
   "cell_type": "markdown",
   "metadata": {},
   "source": [
    "## Data Preparation"
   ]
  },
  {
   "cell_type": "code",
   "execution_count": 6,
   "metadata": {},
   "outputs": [],
   "source": [
    "core_dtypes_pd = {'AGE': float,\n",
    " 'AWEEKEND': float,\n",
    " 'DIED': float,\n",
    " 'DISCWT': float,\n",
    " 'DISPUNIFORM': float,\n",
    " 'DMONTH': float,\n",
    " 'DQTR': float,\n",
    " 'DRG': float,\n",
    " 'DRGVER': float,\n",
    " 'DRG_NoPOA': float,\n",
    " 'DX1': bytes,\n",
    " 'DX10': bytes,\n",
    " 'DX11': bytes,\n",
    " 'DX12': bytes,\n",
    " 'DX13': bytes,\n",
    " 'DX14': bytes,\n",
    " 'DX15': bytes,\n",
    " 'DX16': bytes,\n",
    " 'DX17': bytes,\n",
    " 'DX18': bytes,\n",
    " 'DX19': bytes,\n",
    " 'DX2': bytes,\n",
    " 'DX20': bytes,\n",
    " 'DX21': bytes,\n",
    " 'DX22': bytes,\n",
    " 'DX23': bytes,\n",
    " 'DX24': bytes,\n",
    " 'DX25': bytes,\n",
    " 'DX26': bytes,\n",
    " 'DX27': bytes,\n",
    " 'DX28': bytes,\n",
    " 'DX29': bytes,\n",
    " 'DX3': bytes,\n",
    " 'DX30': bytes,\n",
    " 'DX4': bytes,\n",
    " 'DX5': bytes,\n",
    " 'DX6': bytes,\n",
    " 'DX7': bytes,\n",
    " 'DX8': bytes,\n",
    " 'DX9': bytes,\n",
    " 'DXCCS1': float,\n",
    " 'DXCCS10': float,\n",
    " 'DXCCS11': float,\n",
    " 'DXCCS12': float,\n",
    " 'DXCCS13': float,\n",
    " 'DXCCS14': float,\n",
    " 'DXCCS15': float,\n",
    " 'DXCCS16': float,\n",
    " 'DXCCS17': float,\n",
    " 'DXCCS18': float,\n",
    " 'DXCCS19': float,\n",
    " 'DXCCS2': float,\n",
    " 'DXCCS20': float,\n",
    " 'DXCCS21': float,\n",
    " 'DXCCS22': float,\n",
    " 'DXCCS23': float,\n",
    " 'DXCCS24': float,\n",
    " 'DXCCS25': float,\n",
    " 'DXCCS26': float,\n",
    " 'DXCCS27': float,\n",
    " 'DXCCS28': float,\n",
    " 'DXCCS29': float,\n",
    " 'DXCCS3': float,\n",
    " 'DXCCS30': float,\n",
    " 'DXCCS4': float,\n",
    " 'DXCCS5': float,\n",
    " 'DXCCS6': float,\n",
    " 'DXCCS7': float,\n",
    " 'DXCCS8': float,\n",
    " 'DXCCS9': float,\n",
    " 'ECODE1': bytes,\n",
    " 'ECODE2': bytes,\n",
    " 'ECODE3': bytes,\n",
    " 'ECODE4': bytes,\n",
    " 'ELECTIVE': float,\n",
    " 'E_CCS1': float,\n",
    " 'E_CCS2': float,\n",
    " 'E_CCS3': float,\n",
    " 'E_CCS4': float,\n",
    " 'FEMALE': float,\n",
    " 'HCUP_ED': float,\n",
    " 'HOSP_NRD': float,\n",
    " 'KEY_NRD': float,\n",
    " 'LOS': float,\n",
    " 'MDC': float,\n",
    " 'MDC_NoPOA': float,\n",
    " 'NCHRONIC': float,\n",
    " 'NDX': float,\n",
    " 'NECODE': float,\n",
    " 'NPR': float,\n",
    " 'NRD_DaysToEvent': float,\n",
    " 'NRD_STRATUM': float,\n",
    " 'NRD_VisitLink': bytes,\n",
    " 'ORPROC': float,\n",
    " 'PAY1': float,\n",
    " 'PL_NCHS': float,\n",
    " 'PR1': bytes,\n",
    " 'PR10': bytes,\n",
    " 'PR11': bytes,\n",
    " 'PR12': bytes,\n",
    " 'PR13': bytes,\n",
    " 'PR14': bytes,\n",
    " 'PR15': bytes,\n",
    " 'PR2': bytes,\n",
    " 'PR3': bytes,\n",
    " 'PR4': bytes,\n",
    " 'PR5': bytes,\n",
    " 'PR6': bytes,\n",
    " 'PR7': bytes,\n",
    " 'PR8': bytes,\n",
    " 'PR9': bytes,\n",
    " 'PRCCS1': float,\n",
    " 'PRCCS10': float,\n",
    " 'PRCCS11': float,\n",
    " 'PRCCS12': float,\n",
    " 'PRCCS13': float,\n",
    " 'PRCCS14': float,\n",
    " 'PRCCS15': float,\n",
    " 'PRCCS2': float,\n",
    " 'PRCCS3': float,\n",
    " 'PRCCS4': float,\n",
    " 'PRCCS5': float,\n",
    " 'PRCCS6': float,\n",
    " 'PRCCS7': float,\n",
    " 'PRCCS8': float,\n",
    " 'PRCCS9': float,\n",
    " 'PRDAY1': float,\n",
    " 'PRDAY10': float,\n",
    " 'PRDAY11': float,\n",
    " 'PRDAY12': float,\n",
    " 'PRDAY13': float,\n",
    " 'PRDAY14': float,\n",
    " 'PRDAY15': float,\n",
    " 'PRDAY2': float,\n",
    " 'PRDAY3': float,\n",
    " 'PRDAY4': float,\n",
    " 'PRDAY5': float,\n",
    " 'PRDAY6': float,\n",
    " 'PRDAY7': float,\n",
    " 'PRDAY8': float,\n",
    " 'PRDAY9': float,\n",
    " 'REHABTRANSFER': float,\n",
    " 'RESIDENT': float,\n",
    " 'SAMEDAYEVENT': bytes,\n",
    " 'SERVICELINE': float,\n",
    " 'TOTCHG': float,\n",
    " 'YEAR': float,\n",
    " 'ZIPINC_QRTL': float}"
   ]
  },
  {
   "cell_type": "code",
   "execution_count": 7,
   "metadata": {},
   "outputs": [],
   "source": [
    "ami_index = pd.read_csv(path+'cohorts/ami_index.csv', dtype=core_dtypes_pd)\n",
    "\n",
    "train_comorb = pd.read_csv(path+'cohorts/ami/comorb_train.csv')\n",
    "tst_comorb = pd.read_csv(path+'cohorts/ami/comorb_tst.csv')\n",
    "\n",
    "train_df = ami_index[ami_index['KEY_NRD'].isin(train_comorb['KEY_NRD'])]\n",
    "tst_df = ami_index[ami_index['KEY_NRD'].isin(tst_comorb['KEY_NRD'])]\n",
    "\n",
    "N_train = len(train_df)\n",
    "N_tst = len(tst_df)\n",
    "all_df = pd.concat([train_df, tst_df])\n",
    "\n",
    "del(ami_index, train_comorb, tst_comorb)"
   ]
  },
  {
   "cell_type": "code",
   "execution_count": 8,
   "metadata": {},
   "outputs": [],
   "source": [
    "trn_df, val_df = train_test_split(train_df, test_size=0.11, stratify=train_df.HOSP_NRD)\n",
    "N_trn = len(trn_df)\n",
    "N_val = len(val_df)\n",
    "\n",
    "train_df = pd.concat([trn_df, val_df])"
   ]
  },
  {
   "cell_type": "markdown",
   "metadata": {},
   "source": [
    "Define the dictionaries for DX, DX1 and hosp, from value to int. "
   ]
  },
  {
   "cell_type": "code",
   "execution_count": 9,
   "metadata": {},
   "outputs": [],
   "source": [
    "N_DX = 29\n",
    "DXs = ['DX'+str(n) for n in range(2, N_DX+2)]\n",
    "\n",
    "DX_series = pd.concat([all_df[DX] for DX in DXs])\n",
    "DX_series = DX_series.fillna('missing')"
   ]
  },
  {
   "cell_type": "code",
   "execution_count": 151,
   "metadata": {},
   "outputs": [],
   "source": [
    "rare_cutpoint = 1\n",
    "code_freq = DX_series.value_counts()\n",
    "rare_code = code_freq[code_freq<rare_cutpoint].index\n",
    "DX_series.loc[DX_series.isin(rare_code)] = 'rare'"
   ]
  },
  {
   "cell_type": "code",
   "execution_count": 10,
   "metadata": {},
   "outputs": [],
   "source": [
    "DX_series = DX_series.astype('category')\n",
    "DX_cat = DX_series.cat.categories\n",
    "n_DX_cat = len(DX_cat)\n",
    "DX_int_cat = list(range(n_DX_cat)[1:]) +[0]\n",
    "DX_dict = dict(zip(DX_cat, DX_int_cat))"
   ]
  },
  {
   "cell_type": "code",
   "execution_count": 11,
   "metadata": {},
   "outputs": [
    {
     "data": {
      "text/plain": [
       "5458"
      ]
     },
     "execution_count": 11,
     "metadata": {},
     "output_type": "execute_result"
    }
   ],
   "source": [
    "n_DX_cat"
   ]
  },
  {
   "cell_type": "code",
   "execution_count": 11,
   "metadata": {},
   "outputs": [],
   "source": [
    "DX1_series = all_df['DX1'].astype('category')\n",
    "DX1_cat = DX1_series.cat.categories\n",
    "DX1_int_cat = range(len(DX1_cat))\n",
    "\n",
    "DX1_dict = dict(zip(DX1_cat, DX1_int_cat))"
   ]
  },
  {
   "cell_type": "code",
   "execution_count": 12,
   "metadata": {},
   "outputs": [],
   "source": [
    "hosp_series = all_df['HOSP_NRD'].astype('category')\n",
    "hosp_cat = hosp_series.cat.categories\n",
    "\n",
    "hosp_dict = dict(zip(hosp_cat, range(len(hosp_cat))))"
   ]
  },
  {
   "cell_type": "markdown",
   "metadata": {},
   "source": [
    "## LSTM with Raw ICD9 codes"
   ]
  },
  {
   "cell_type": "code",
   "execution_count": 14,
   "metadata": {},
   "outputs": [],
   "source": [
    "N_DX = 29\n",
    "DXs = ['DX'+str(n) for n in range(2, N_DX+2)]"
   ]
  },
  {
   "cell_type": "code",
   "execution_count": 145,
   "metadata": {},
   "outputs": [],
   "source": [
    "DX_df = train_df[DXs]\n",
    "DX_df = DX_df.fillna('missing')\n",
    "DX_df[DX_df.isin(rare_code)] = 'rare'\n",
    "\n",
    "for dx in DXs:\n",
    "    DX_df[dx] = DX_df[dx].map(DX_dict)\n",
    "\n",
    "DX_mat = DX_df.values\n",
    "DX_mat_trn = DX_df.values[:N_trn, ]\n",
    "DX_mat_val = DX_df.values[N_trn:, ]"
   ]
  },
  {
   "cell_type": "code",
   "execution_count": 20,
   "metadata": {},
   "outputs": [],
   "source": [
    "DX_ohe = np.zeros((len(train_df), n_DX_cat))\n",
    "\n",
    "for j in range(DX_mat.shape[0]):\n",
    "    for i in range(DX_mat.shape[1]):\n",
    "        DX_ohe[j, DX_mat[j, i]] = 1\n",
    "\n",
    "DX_ohe_trn = DX_ohe[:N_trn, ]\n",
    "DX_ohe_val = DX_ohe[N_trn:, ]"
   ]
  },
  {
   "cell_type": "code",
   "execution_count": 21,
   "metadata": {},
   "outputs": [],
   "source": [
    "demo_mat = train_df[['AGE', 'FEMALE']].values\n",
    "\n",
    "age_mean = train_df['AGE'].mean()\n",
    "age_std = train_df['AGE'].std()\n",
    "\n",
    "demo_mat[:, 0] = (demo_mat[:, 0]-age_mean)/age_std\n",
    "\n",
    "demo_mat_trn = demo_mat[:N_trn, ]\n",
    "demo_mat_val = demo_mat[N_trn:, ]"
   ]
  },
  {
   "cell_type": "code",
   "execution_count": 22,
   "metadata": {},
   "outputs": [],
   "source": [
    "hosp_series = train_df['HOSP_NRD'].map(hosp_dict)\n",
    "hosp_array = hosp_series.values\n",
    "\n",
    "hosp_array_trn = hosp_array[:N_trn]\n",
    "hosp_array_val = hosp_array[N_trn:]"
   ]
  },
  {
   "cell_type": "code",
   "execution_count": 23,
   "metadata": {},
   "outputs": [],
   "source": [
    "DX1_series = train_df['DX1'].map(DX1_dict)\n",
    "\n",
    "DX1_mat = np.zeros((len(DX1_series), len(DX1_dict)))\n",
    "for i, dx1 in enumerate(DX1_series.values):\n",
    "    DX1_mat[i, dx1] = 1\n",
    "\n",
    "DX1_mat_trn = DX1_mat[:N_trn, ]\n",
    "DX1_mat_val = DX1_mat[N_trn:, ]"
   ]
  },
  {
   "cell_type": "code",
   "execution_count": 24,
   "metadata": {},
   "outputs": [],
   "source": [
    "y = train_df['readm30'].values.astype(int)\n",
    "\n",
    "Y_trn = to_categorical(y[:N_trn])\n",
    "Y_val = to_categorical(y[N_trn:])"
   ]
  },
  {
   "cell_type": "markdown",
   "metadata": {},
   "source": [
    "### Model Building with Embedding"
   ]
  },
  {
   "cell_type": "code",
   "execution_count": 129,
   "metadata": {},
   "outputs": [],
   "source": [
    "DX_embed_dim = 50\n",
    "hosp_embed_dim = 1"
   ]
  },
  {
   "cell_type": "code",
   "execution_count": 146,
   "metadata": {},
   "outputs": [],
   "source": [
    "input_DX = Input(shape = (N_DX,))\n",
    "DX_embed = Embedding(input_dim=n_DX_cat, output_dim=DX_embed_dim, input_length=N_DX)(input_DX)\n",
    "\n",
    "#DX_out, _, DX_feature = CuDNNLSTM(DX_embed_dim, return_sequences=False, return_state=True)(DX_embed)\n",
    "#DX_feature = Lambda(lambda x: K.sum(x, axis=1))(DX_embed)\n",
    "DX_feature = CuDNNLSTM(DX_embed_dim, return_sequences=False)(DX_embed)\n",
    "\n",
    "input_demo = Input(shape=(2, ))\n",
    "\n",
    "input_DX1 = Input(shape=(len(DX1_cat),))\n",
    "\n",
    "input_hosp = Input(shape=(1,))\n",
    "hosp_embed = Embedding(input_dim=len(hosp_cat), output_dim=hosp_embed_dim, input_length=1)(input_hosp)\n",
    "hosp_embed = Reshape((hosp_embed_dim, ))(hosp_embed)\n",
    "\n",
    "merged = concatenate([input_demo, input_DX1, DX_feature, hosp_embed], axis=1)\n",
    "\n",
    "x = Dense(128, activation='relu')(merged)\n",
    "x = Dense(32, activation='relu')(x)\n",
    "x = Dropout(0.5)(x)\n",
    "\n",
    "prediction = Dense(2, activation='softmax')(x)\n",
    "model = Model(inputs=[input_demo, input_DX1, input_DX, input_hosp], outputs=prediction)"
   ]
  },
  {
   "cell_type": "code",
   "execution_count": 68,
   "metadata": {
    "collapsed": true
   },
   "outputs": [
    {
     "name": "stdout",
     "output_type": "stream",
     "text": [
      "__________________________________________________________________________________________________\n",
      "Layer (type)                    Output Shape         Param #     Connected to                     \n",
      "==================================================================================================\n",
      "input_17 (InputLayer)           (None, 29)           0                                            \n",
      "__________________________________________________________________________________________________\n",
      "input_20 (InputLayer)           (None, 1)            0                                            \n",
      "__________________________________________________________________________________________________\n",
      "embedding_7 (Embedding)         (None, 29, 50)       266400      input_17[0][0]                   \n",
      "__________________________________________________________________________________________________\n",
      "embedding_8 (Embedding)         (None, 1, 1)         869         input_20[0][0]                   \n",
      "__________________________________________________________________________________________________\n",
      "input_18 (InputLayer)           (None, 2)            0                                            \n",
      "__________________________________________________________________________________________________\n",
      "input_19 (InputLayer)           (None, 20)           0                                            \n",
      "__________________________________________________________________________________________________\n",
      "cu_dnnlstm_1 (CuDNNLSTM)        (None, 50)           20400       embedding_7[0][0]                \n",
      "__________________________________________________________________________________________________\n",
      "reshape_5 (Reshape)             (None, 1)            0           embedding_8[0][0]                \n",
      "__________________________________________________________________________________________________\n",
      "concatenate_5 (Concatenate)     (None, 73)           0           input_18[0][0]                   \n",
      "                                                                 input_19[0][0]                   \n",
      "                                                                 cu_dnnlstm_1[0][0]               \n",
      "                                                                 reshape_5[0][0]                  \n",
      "__________________________________________________________________________________________________\n",
      "dense_15 (Dense)                (None, 128)          9472        concatenate_5[0][0]              \n",
      "__________________________________________________________________________________________________\n",
      "dense_16 (Dense)                (None, 32)           4128        dense_15[0][0]                   \n",
      "__________________________________________________________________________________________________\n",
      "dropout_5 (Dropout)             (None, 32)           0           dense_16[0][0]                   \n",
      "__________________________________________________________________________________________________\n",
      "dense_17 (Dense)                (None, 2)            66          dropout_5[0][0]                  \n",
      "==================================================================================================\n",
      "Total params: 301,335\n",
      "Trainable params: 301,335\n",
      "Non-trainable params: 0\n",
      "__________________________________________________________________________________________________\n"
     ]
    }
   ],
   "source": [
    "model.summary()"
   ]
  },
  {
   "cell_type": "code",
   "execution_count": 147,
   "metadata": {},
   "outputs": [],
   "source": [
    "adam = Adam(lr=0.0002)\n",
    "model.compile(optimizer=adam, loss='categorical_crossentropy', metrics=['accuracy'])"
   ]
  },
  {
   "cell_type": "code",
   "execution_count": 148,
   "metadata": {},
   "outputs": [],
   "source": [
    "checkpoint = ModelCheckpoint(filepath=model_path+'ami_icd9_lstm_valloss1.h5', save_best_only=True, save_weights_only=True)\n",
    "auccheckpoint = AUCCheckPoint(filepath=model_path+'ami_icd9_lstm_auc1.h5', validation_y=Y_val[:, 1], \n",
    "                             validation_x=[demo_mat_val, DX1_mat_val, DX_mat_val, hosp_array_val])\n",
    "reduce_lr = ReduceLROnPlateau(monitor='loss', factor=0.2, patience=3, min_lr=1.e-8)\n",
    "earlystop = EarlyStopping(monitor='val_loss', patience=20)"
   ]
  },
  {
   "cell_type": "code",
   "execution_count": 149,
   "metadata": {},
   "outputs": [],
   "source": [
    "class_weight = {0:(Y_trn.shape[0]/sum(Y_trn[:, 0])), 1:(Y_trn.shape[0]/sum(Y_trn[:, 1]))}"
   ]
  },
  {
   "cell_type": "code",
   "execution_count": 150,
   "metadata": {
    "scrolled": true
   },
   "outputs": [
    {
     "name": "stdout",
     "output_type": "stream",
     "text": [
      "Train on 145667 samples, validate on 18004 samples\n",
      "Epoch 1/20\n",
      "145667/145667 [==============================] - 3s 23us/step - loss: 1.3184 - acc: 0.6007 - val_loss: 0.6395 - val_acc: 0.5991\n",
      "AUC: 0.6896\n",
      "\n",
      "Epoch 2/20\n",
      "145667/145667 [==============================] - 2s 15us/step - loss: 1.2609 - acc: 0.6178 - val_loss: 0.6346 - val_acc: 0.6035\n",
      "AUC: 0.6955\n",
      "\n",
      "Epoch 3/20\n",
      "145667/145667 [==============================] - 2s 15us/step - loss: 1.2497 - acc: 0.6205 - val_loss: 0.6506 - val_acc: 0.5970\n",
      "AUC: 0.6957\n",
      "\n",
      "Epoch 4/20\n",
      "145667/145667 [==============================] - 2s 15us/step - loss: 1.2427 - acc: 0.6249 - val_loss: 0.6191 - val_acc: 0.6244\n",
      "AUC: 0.6966\n",
      "\n",
      "Epoch 5/20\n",
      "145667/145667 [==============================] - 2s 15us/step - loss: 1.2401 - acc: 0.6250 - val_loss: 0.5905 - val_acc: 0.6412\n",
      "AUC: 0.6957\n",
      "\n",
      "Epoch 6/20\n",
      "145667/145667 [==============================] - 2s 15us/step - loss: 1.2357 - acc: 0.6234 - val_loss: 0.6054 - val_acc: 0.6371\n",
      "AUC: 0.6947\n",
      "\n",
      "Epoch 7/20\n",
      "145667/145667 [==============================] - 2s 15us/step - loss: 1.2337 - acc: 0.6245 - val_loss: 0.5594 - val_acc: 0.6606\n",
      "AUC: 0.6946\n",
      "\n",
      "Epoch 8/20\n",
      "145667/145667 [==============================] - 2s 15us/step - loss: 1.2292 - acc: 0.6241 - val_loss: 0.6514 - val_acc: 0.5904\n",
      "AUC: 0.6940\n",
      "\n",
      "Epoch 9/20\n",
      "145667/145667 [==============================] - 2s 15us/step - loss: 1.2254 - acc: 0.6247 - val_loss: 0.6189 - val_acc: 0.6135\n",
      "AUC: 0.6950\n",
      "\n",
      "Epoch 10/20\n",
      "145667/145667 [==============================] - 2s 15us/step - loss: 1.2216 - acc: 0.6259 - val_loss: 0.6083 - val_acc: 0.6219\n",
      "AUC: 0.6947\n",
      "\n",
      "Epoch 11/20\n",
      "145667/145667 [==============================] - 2s 15us/step - loss: 1.2194 - acc: 0.6206 - val_loss: 0.6503 - val_acc: 0.5798\n",
      "AUC: 0.6931\n",
      "\n",
      "Epoch 12/20\n",
      "145667/145667 [==============================] - 2s 15us/step - loss: 1.2157 - acc: 0.6185 - val_loss: 0.6253 - val_acc: 0.6112\n",
      "AUC: 0.6931\n",
      "\n",
      "Epoch 13/20\n",
      "145667/145667 [==============================] - 2s 15us/step - loss: 1.2126 - acc: 0.6175 - val_loss: 0.5847 - val_acc: 0.6294\n",
      "AUC: 0.6933\n",
      "\n",
      "Epoch 14/20\n",
      "145667/145667 [==============================] - 2s 15us/step - loss: 1.2107 - acc: 0.6169 - val_loss: 0.6553 - val_acc: 0.5683\n",
      "AUC: 0.6915\n",
      "\n",
      "Epoch 15/20\n",
      "145667/145667 [==============================] - 2s 15us/step - loss: 1.2075 - acc: 0.6121 - val_loss: 0.6135 - val_acc: 0.6050\n",
      "AUC: 0.6911\n",
      "\n",
      "Epoch 16/20\n",
      "145667/145667 [==============================] - 2s 15us/step - loss: 1.2040 - acc: 0.6112 - val_loss: 0.6428 - val_acc: 0.5781\n",
      "AUC: 0.6903\n",
      "\n",
      "Epoch 17/20\n",
      "145667/145667 [==============================] - 2s 15us/step - loss: 1.2059 - acc: 0.6071 - val_loss: 0.6333 - val_acc: 0.5808\n",
      "AUC: 0.6897\n",
      "\n",
      "Epoch 18/20\n",
      "145667/145667 [==============================] - 2s 15us/step - loss: 1.2052 - acc: 0.6053 - val_loss: 0.6265 - val_acc: 0.5960\n",
      "AUC: 0.6897\n",
      "\n",
      "Epoch 19/20\n",
      "145667/145667 [==============================] - 2s 15us/step - loss: 1.2026 - acc: 0.6047 - val_loss: 0.6438 - val_acc: 0.5824\n",
      "AUC: 0.6887\n",
      "\n",
      "Epoch 20/20\n",
      "145667/145667 [==============================] - 2s 15us/step - loss: 1.1991 - acc: 0.6049 - val_loss: 0.6404 - val_acc: 0.5741\n",
      "AUC: 0.6892\n",
      "\n"
     ]
    }
   ],
   "source": [
    "hist = model.fit([demo_mat_trn, DX1_mat_trn, DX_mat_trn, hosp_array_trn], Y_trn, \n",
    "                 batch_size=512, epochs=20, callbacks=[checkpoint, auccheckpoint, reduce_lr, earlystop], class_weight=class_weight, \n",
    "                 validation_data=[[demo_mat_val, DX1_mat_val, DX_mat_val, hosp_array_val], Y_val], \n",
    "                verbose=1)"
   ]
  },
  {
   "cell_type": "markdown",
   "metadata": {},
   "source": [
    "### Model testing"
   ]
  },
  {
   "cell_type": "code",
   "execution_count": 151,
   "metadata": {},
   "outputs": [],
   "source": [
    "DX_df_tst = tst_df[DXs]\n",
    "DX_df_tst = DX_df_tst.fillna('missing')\n",
    "DX_df_tst[DX_df_tst.isin(rare_code)] = 'rare'\n",
    "\n",
    "for dx in DXs:\n",
    "    DX_df_tst[dx] = DX_df_tst[dx].map(DX_dict)\n",
    "\n",
    "DX_mat_tst = DX_df_tst.values"
   ]
  },
  {
   "cell_type": "code",
   "execution_count": 34,
   "metadata": {},
   "outputs": [],
   "source": [
    "demo_mat_tst = tst_df[['AGE', 'FEMALE']].values\n",
    "demo_mat_tst[:, 0] = (demo_mat_tst[:, 0]-age_mean)/age_std"
   ]
  },
  {
   "cell_type": "code",
   "execution_count": 35,
   "metadata": {},
   "outputs": [],
   "source": [
    "hosp_array_tst = tst_df['HOSP_NRD'].map(hosp_dict).values"
   ]
  },
  {
   "cell_type": "code",
   "execution_count": 36,
   "metadata": {},
   "outputs": [],
   "source": [
    "DX1_series_tst = tst_df.DX1.map(DX1_dict)\n",
    "\n",
    "DX1_mat_tst = np.zeros((len(tst_df), len(DX1_dict)))\n",
    "for i, dx1 in enumerate(DX1_series_tst.values):\n",
    "    DX1_mat_tst[i, dx1] = 1"
   ]
  },
  {
   "cell_type": "code",
   "execution_count": 152,
   "metadata": {},
   "outputs": [],
   "source": [
    "model.load_weights(model_path+'ami_icd9_lstm_auc1.h5')"
   ]
  },
  {
   "cell_type": "code",
   "execution_count": 153,
   "metadata": {},
   "outputs": [
    {
     "name": "stdout",
     "output_type": "stream",
     "text": [
      "18186/18186 [==============================] - 1s 58us/step\n"
     ]
    }
   ],
   "source": [
    "y = model.predict([demo_mat_tst, DX1_mat_tst, DX_mat_tst, hosp_array_tst], verbose=1)\n",
    "\n",
    "y_pred = y[:, 1]\n",
    "y_true = tst_df.readm30.astype(int).values"
   ]
  },
  {
   "cell_type": "code",
   "execution_count": 155,
   "metadata": {},
   "outputs": [
    {
     "data": {
      "text/plain": [
       "{0: 0.7063960981175992}"
      ]
     },
     "execution_count": 155,
     "metadata": {},
     "output_type": "execute_result"
    },
    {
     "data": {
      "image/png": "[encoded data removed]",
      "text/plain": [
       "<Figure size 432x288 with 1 Axes>"
      ]
     },
     "metadata": {},
     "output_type": "display_data"
    }
   ],
   "source": [
    "plot_roc(y_pred, y_true)"
   ]
  },
  {
   "cell_type": "markdown",
   "metadata": {},
   "source": [
    "## Multi-Level CCS Codes"
   ]
  },
  {
   "cell_type": "markdown",
   "metadata": {},
   "source": [
    "### Define the parent matrix"
   ]
  },
  {
   "cell_type": "markdown",
   "metadata": {},
   "source": [
    "Read the ICD9 CCS multi-level category dictionary file. "
   ]
  },
  {
   "cell_type": "code",
   "execution_count": 13,
   "metadata": {
    "scrolled": true
   },
   "outputs": [],
   "source": [
    "multi_ccs = pd.read_csv(path+'ccs_multi_dx_tool_2015.csv')\n",
    "\n",
    "multi_ccs.columns = ['ICD9CM_CODE', 'CCS_LVL1', 'CCS_LVL1_LABEL', 'CCS_LVL2', 'CCS_LVL2_LABEL', 'CCS_LVL3', 'CCS_LVL3_LABEL', \n",
    "                    'CCS_LVL4', 'CCS_LVL4_LABEL']\n",
    "\n",
    "multi_ccs.ICD9CM_CODE = multi_ccs.ICD9CM_CODE.apply(lambda x:x.replace(\"'\", \"\").replace(' ', ''))\n",
    "for j in range(1, 5):\n",
    "    multi_ccs['CCS_LVL'+str(j)] = multi_ccs['CCS_LVL'+str(j)].apply(lambda x:x.replace(\"'\", \"\").replace(' ', ''))"
   ]
  },
  {
   "cell_type": "code",
   "execution_count": 14,
   "metadata": {},
   "outputs": [],
   "source": [
    "multi_ccs = multi_ccs[['ICD9CM_CODE', 'CCS_LVL1', 'CCS_LVL2', 'CCS_LVL3', 'CCS_LVL4']]"
   ]
  },
  {
   "cell_type": "code",
   "execution_count": 159,
   "metadata": {},
   "outputs": [
    {
     "data": {
      "text/plain": [
       "(15072, 9)"
      ]
     },
     "execution_count": 159,
     "metadata": {},
     "output_type": "execute_result"
    }
   ],
   "source": [
    "multi_ccs.shape"
   ]
  },
  {
   "cell_type": "code",
   "execution_count": 23,
   "metadata": {},
   "outputs": [
    {
     "data": {
      "text/plain": [
       "Injury and poisoning                                                                 2764\n",
       "Residual codes; unclassified; all E codes [259. and 260.]                            1589\n",
       "Diseases of the nervous system and sense organs                                      1587\n",
       "Infectious and parasitic diseases                                                    1226\n",
       "Complications of pregnancy; childbirth; and the puerperium                           1205\n",
       "Neoplasms                                                                            1114\n",
       "Diseases of the musculoskeletal system and connective tissue                          863\n",
       "Diseases of the digestive system                                                      757\n",
       "Mental Illness                                                                        597\n",
       "Diseases of the circulatory system                                                    553\n",
       "Diseases of the genitourinary system                                                  498\n",
       "Endocrine; nutritional; and metabolic diseases and immunity disorders                 445\n",
       "Congenital anomalies                                                                  444\n",
       "Symptoms; signs; and ill-defined conditions and factors influencing health status     403\n",
       "Certain conditions originating in the perinatal period                                351\n",
       "Diseases of the respiratory system                                                    342\n",
       "Diseases of the skin and subcutaneous tissue                                          190\n",
       "Diseases of the blood and blood-forming organs                                        134\n",
       "Mental illness                                                                         10\n",
       "Name: CCS_LVL1_LABEL, dtype: int64"
      ]
     },
     "execution_count": 23,
     "metadata": {},
     "output_type": "execute_result"
    }
   ],
   "source": [
    "multi_ccs.CCS_LVL1_LABEL.value_counts()"
   ]
  },
  {
   "cell_type": "markdown",
   "metadata": {},
   "source": [
    "Create one list to store all possible ICD9 code and their CCS multi-level in a list. Creat two dataframe to store the parent of each code and the indices of the parent. "
   ]
  },
  {
   "cell_type": "code",
   "execution_count": 15,
   "metadata": {},
   "outputs": [],
   "source": [
    "ami_ccs = multi_ccs.loc[multi_ccs.ICD9CM_CODE.isin(DX_cat)]"
   ]
  },
  {
   "cell_type": "code",
   "execution_count": 16,
   "metadata": {
    "scrolled": false
   },
   "outputs": [
    {
     "data": {
      "text/plain": [
       "(5455, 5)"
      ]
     },
     "execution_count": 16,
     "metadata": {},
     "output_type": "execute_result"
    }
   ],
   "source": [
    "ami_ccs.shape"
   ]
  },
  {
   "cell_type": "code",
   "execution_count": 16,
   "metadata": {},
   "outputs": [],
   "source": [
    "ccs_cat = pd.concat([ami_ccs.CCS_LVL1, ami_ccs.CCS_LVL2, ami_ccs.CCS_LVL3, ami_ccs.CCS_LVL4]).astype('category').cat.categories"
   ]
  },
  {
   "cell_type": "code",
   "execution_count": 24,
   "metadata": {},
   "outputs": [
    {
     "data": {
      "text/plain": [
       "643"
      ]
     },
     "execution_count": 24,
     "metadata": {},
     "output_type": "execute_result"
    }
   ],
   "source": [
    "len(ccs_cat)"
   ]
  },
  {
   "cell_type": "code",
   "execution_count": 17,
   "metadata": {},
   "outputs": [],
   "source": [
    "all_codes = [DX_cat[-1]]+list(DX_cat[:-1]) + list(ccs_cat[1:])"
   ]
  },
  {
   "cell_type": "code",
   "execution_count": 19,
   "metadata": {},
   "outputs": [
    {
     "data": {
      "text/plain": [
       "6100"
      ]
     },
     "execution_count": 19,
     "metadata": {},
     "output_type": "execute_result"
    }
   ],
   "source": [
    "len(all_codes)"
   ]
  },
  {
   "cell_type": "code",
   "execution_count": 18,
   "metadata": {
    "scrolled": false
   },
   "outputs": [],
   "source": [
    "ami_ccs = ami_ccs.set_index(ami_ccs.ICD9CM_CODE, drop=True).drop(['ICD9CM_CODE'], axis=1)\n",
    "\n",
    "ami_ccs['finest_non_empty'] = ami_ccs.CCS_LVL4\n",
    "ami_ccs.finest_non_empty[ami_ccs.finest_non_empty==''] = ami_ccs.CCS_LVL3[ami_ccs.finest_non_empty == '']\n",
    "ami_ccs.finest_non_empty[ami_ccs.finest_non_empty==''] = ami_ccs.CCS_LVL2[ami_ccs.finest_non_empty == '']\n",
    "ami_ccs.finest_non_empty[ami_ccs.finest_non_empty==''] = ami_ccs.CCS_LVL1[ami_ccs.finest_non_empty == '']\n",
    "\n",
    "DX_parent = ami_ccs[['finest_non_empty']]\n",
    "\n",
    "DX_parent.columns = ['parent_code']\n",
    "\n",
    "DX_parent = DX_parent.assign(parent_index=DX_parent.parent_code.apply(lambda x:all_codes.index(x)).values)\n",
    "\n",
    "DX_parent = DX_parent.append(pd.DataFrame(index=['incn', 'invl', 'missing'], data=dict(parent_code = ['NA']*3, \n",
    "                                                                                       parent_index=[-1]*3)))"
   ]
  },
  {
   "cell_type": "code",
   "execution_count": 19,
   "metadata": {},
   "outputs": [],
   "source": [
    "CCS_parent = pd.DataFrame(dict(CCS_code=ccs_cat[1:]))\n",
    "\n",
    "CCS_parent = CCS_parent.assign(parent_code=CCS_parent.CCS_code.apply(lambda x:'.'.join(x.split('.')[:-1])))\n",
    "\n",
    "def get_CCS_ind(code):\n",
    "    try:\n",
    "        ind = all_codes.index(code)\n",
    "    except ValueError:\n",
    "        ind = -1\n",
    "    return ind\n",
    "CCS_parent = CCS_parent.assign(parent_index=CCS_parent.parent_code.apply(get_CCS_ind).values)\n",
    "\n",
    "CCS_parent = CCS_parent.set_index(CCS_parent.CCS_code, drop=True).drop(['CCS_code'], axis=1)"
   ]
  },
  {
   "cell_type": "code",
   "execution_count": 111,
   "metadata": {},
   "outputs": [
    {
     "data": {
      "text/html": [
       "<div>\n",
       "<style scoped>\n",
       "    .dataframe tbody tr th:only-of-type {\n",
       "        vertical-align: middle;\n",
       "    }\n",
       "\n",
       "    .dataframe tbody tr th {\n",
       "        vertical-align: top;\n",
       "    }\n",
       "\n",
       "    .dataframe thead th {\n",
       "        text-align: right;\n",
       "    }\n",
       "</style>\n",
       "<table border=\"1\" class=\"dataframe\">\n",
       "  <thead>\n",
       "    <tr style=\"text-align: right;\">\n",
       "      <th></th>\n",
       "      <th>parent_code</th>\n",
       "      <th>parent_index</th>\n",
       "    </tr>\n",
       "    <tr>\n",
       "      <th>CCS_code</th>\n",
       "      <th></th>\n",
       "      <th></th>\n",
       "    </tr>\n",
       "  </thead>\n",
       "  <tbody>\n",
       "    <tr>\n",
       "      <th>1</th>\n",
       "      <td></td>\n",
       "      <td>-1</td>\n",
       "    </tr>\n",
       "    <tr>\n",
       "      <th>1.1</th>\n",
       "      <td>1</td>\n",
       "      <td>5458</td>\n",
       "    </tr>\n",
       "    <tr>\n",
       "      <th>1.1.1</th>\n",
       "      <td>1.1</td>\n",
       "      <td>5459</td>\n",
       "    </tr>\n",
       "    <tr>\n",
       "      <th>1.1.2</th>\n",
       "      <td>1.1</td>\n",
       "      <td>5459</td>\n",
       "    </tr>\n",
       "    <tr>\n",
       "      <th>1.1.2.1</th>\n",
       "      <td>1.1.2</td>\n",
       "      <td>5461</td>\n",
       "    </tr>\n",
       "  </tbody>\n",
       "</table>\n",
       "</div>"
      ],
      "text/plain": [
       "         parent_code  parent_index\n",
       "CCS_code                          \n",
       "1                               -1\n",
       "1.1                1          5458\n",
       "1.1.1            1.1          5459\n",
       "1.1.2            1.1          5459\n",
       "1.1.2.1        1.1.2          5461"
      ]
     },
     "execution_count": 111,
     "metadata": {},
     "output_type": "execute_result"
    }
   ],
   "source": [
    "CCS_parent.head()"
   ]
  },
  {
   "cell_type": "code",
   "execution_count": 112,
   "metadata": {},
   "outputs": [
    {
     "data": {
      "text/html": [
       "<div>\n",
       "<style scoped>\n",
       "    .dataframe tbody tr th:only-of-type {\n",
       "        vertical-align: middle;\n",
       "    }\n",
       "\n",
       "    .dataframe tbody tr th {\n",
       "        vertical-align: top;\n",
       "    }\n",
       "\n",
       "    .dataframe thead th {\n",
       "        text-align: right;\n",
       "    }\n",
       "</style>\n",
       "<table border=\"1\" class=\"dataframe\">\n",
       "  <thead>\n",
       "    <tr style=\"text-align: right;\">\n",
       "      <th></th>\n",
       "      <th>parent_code</th>\n",
       "      <th>parent_index</th>\n",
       "    </tr>\n",
       "    <tr>\n",
       "      <th>ICD9CM_CODE</th>\n",
       "      <th></th>\n",
       "      <th></th>\n",
       "    </tr>\n",
       "  </thead>\n",
       "  <tbody>\n",
       "    <tr>\n",
       "      <th>01120</th>\n",
       "      <td>1.1.1</td>\n",
       "      <td>5460</td>\n",
       "    </tr>\n",
       "    <tr>\n",
       "      <th>01180</th>\n",
       "      <td>1.1.1</td>\n",
       "      <td>5460</td>\n",
       "    </tr>\n",
       "    <tr>\n",
       "      <th>01190</th>\n",
       "      <td>1.1.1</td>\n",
       "      <td>5460</td>\n",
       "    </tr>\n",
       "    <tr>\n",
       "      <th>01191</th>\n",
       "      <td>1.1.1</td>\n",
       "      <td>5460</td>\n",
       "    </tr>\n",
       "    <tr>\n",
       "      <th>01193</th>\n",
       "      <td>1.1.1</td>\n",
       "      <td>5460</td>\n",
       "    </tr>\n",
       "  </tbody>\n",
       "</table>\n",
       "</div>"
      ],
      "text/plain": [
       "            parent_code  parent_index\n",
       "ICD9CM_CODE                          \n",
       "01120             1.1.1          5460\n",
       "01180             1.1.1          5460\n",
       "01190             1.1.1          5460\n",
       "01191             1.1.1          5460\n",
       "01193             1.1.1          5460"
      ]
     },
     "execution_count": 112,
     "metadata": {},
     "output_type": "execute_result"
    }
   ],
   "source": [
    "DX_parent.head()"
   ]
  },
  {
   "cell_type": "code",
   "execution_count": 20,
   "metadata": {},
   "outputs": [],
   "source": [
    "parent_df = pd.concat([DX_parent, CCS_parent], axis=0)"
   ]
  },
  {
   "cell_type": "code",
   "execution_count": 21,
   "metadata": {},
   "outputs": [],
   "source": [
    "parent_mat = np.identity(len(all_codes))"
   ]
  },
  {
   "cell_type": "code",
   "execution_count": 22,
   "metadata": {
    "scrolled": true
   },
   "outputs": [],
   "source": [
    "for i, c in enumerate(all_codes):\n",
    "    parent_ind = parent_df.loc[c, 'parent_index']\n",
    "    if not parent_ind == -1:\n",
    "        parent_mat[i, parent_ind] = -1"
   ]
  },
  {
   "cell_type": "code",
   "execution_count": 23,
   "metadata": {},
   "outputs": [],
   "source": [
    "no_parent = np.where(parent_mat.sum(axis=1)>0)[0]"
   ]
  },
  {
   "cell_type": "code",
   "execution_count": 24,
   "metadata": {},
   "outputs": [
    {
     "data": {
      "text/plain": [
       "array(['missing', 'incn', 'invl', '1', '10', '11', '12', '13', '14', '15',\n",
       "       '16', '17', '18', '2', '3', '4', '5', '6', '7', '8', '9'],\n",
       "      dtype='<U9')"
      ]
     },
     "execution_count": 24,
     "metadata": {},
     "output_type": "execute_result"
    }
   ],
   "source": [
    "np.array(all_codes)[no_parent]"
   ]
  },
  {
   "cell_type": "code",
   "execution_count": 25,
   "metadata": {},
   "outputs": [],
   "source": [
    "parent_mat = parent_mat[parent_mat.sum(axis=1)==0, :]"
   ]
  },
  {
   "cell_type": "code",
   "execution_count": 26,
   "metadata": {},
   "outputs": [],
   "source": [
    "np.save(path+'cohorts/ami/parent_mat.npy', parent_mat)"
   ]
  },
  {
   "cell_type": "markdown",
   "metadata": {},
   "source": [
    "### Data Formatting"
   ]
  },
  {
   "cell_type": "code",
   "execution_count": 21,
   "metadata": {},
   "outputs": [],
   "source": [
    "N_DX = 29\n",
    "DXs = ['DX'+str(n) for n in range(2, N_DX+2)]"
   ]
  },
  {
   "cell_type": "code",
   "execution_count": 22,
   "metadata": {},
   "outputs": [],
   "source": [
    "DX_df = train_df[DXs]\n",
    "DX_df = DX_df.fillna('missing')\n",
    "\n",
    "for dx in DXs:\n",
    "    DX_df[dx] = DX_df[dx].map(DX_dict)\n",
    "\n",
    "DX_mat = DX_df.values\n",
    "DX_mat_trn = DX_df.values[:N_trn, ]\n",
    "DX_mat_val = DX_df.values[N_trn:, ]"
   ]
  },
  {
   "cell_type": "code",
   "execution_count": 23,
   "metadata": {},
   "outputs": [],
   "source": [
    "demo_mat = train_df[['AGE', 'FEMALE']].values\n",
    "\n",
    "age_mean = train_df['AGE'].mean()\n",
    "age_std = train_df['AGE'].std()\n",
    "\n",
    "demo_mat[:, 0] = (demo_mat[:, 0]-age_mean)/age_std\n",
    "\n",
    "demo_mat_trn = demo_mat[:N_trn, ]\n",
    "demo_mat_val = demo_mat[N_trn:, ]"
   ]
  },
  {
   "cell_type": "code",
   "execution_count": 24,
   "metadata": {},
   "outputs": [],
   "source": [
    "hosp_series = train_df['HOSP_NRD'].map(hosp_dict)\n",
    "hosp_array = hosp_series.values\n",
    "\n",
    "hosp_array_trn = hosp_array[:N_trn]\n",
    "hosp_array_val = hosp_array[N_trn:]"
   ]
  },
  {
   "cell_type": "code",
   "execution_count": 25,
   "metadata": {},
   "outputs": [],
   "source": [
    "DX1_series = train_df['DX1'].map(DX1_dict)\n",
    "\n",
    "DX1_mat = np.zeros((len(DX1_series), len(DX1_dict)))\n",
    "for i, dx1 in enumerate(DX1_series.values):\n",
    "    DX1_mat[i, dx1] = 1\n",
    "\n",
    "DX1_mat_trn = DX1_mat[:N_trn, ]\n",
    "DX1_mat_val = DX1_mat[N_trn:, ]"
   ]
  },
  {
   "cell_type": "code",
   "execution_count": 26,
   "metadata": {},
   "outputs": [],
   "source": [
    "y = train_df['readm30'].values.astype(int)\n",
    "\n",
    "Y_trn = to_categorical(y[:N_trn])\n",
    "Y_val = to_categorical(y[N_trn:])"
   ]
  },
  {
   "cell_type": "markdown",
   "metadata": {},
   "source": [
    "## Model Building"
   ]
  },
  {
   "cell_type": "code",
   "execution_count": 27,
   "metadata": {},
   "outputs": [],
   "source": [
    "DX_embed_dim = 20\n",
    "hosp_embed_dim = 1"
   ]
  },
  {
   "cell_type": "code",
   "execution_count": 28,
   "metadata": {},
   "outputs": [],
   "source": [
    "parent_mat = np.load(path+'cohorts/ami/parent_mat.npy')"
   ]
  },
  {
   "cell_type": "code",
   "execution_count": 29,
   "metadata": {},
   "outputs": [],
   "source": [
    "pmat = K.constant(value=parent_mat, dtype=K.floatx(), name='parent_mat')"
   ]
  },
  {
   "cell_type": "code",
   "execution_count": 30,
   "metadata": {},
   "outputs": [],
   "source": [
    "def ccs_reg(embed_mat):\n",
    "    diff = K.dot(pmat, embed_mat) #difference between each code and its parent\n",
    "    return 0.5*K.sum(K.square(diff))"
   ]
  },
  {
   "cell_type": "code",
   "execution_count": 36,
   "metadata": {},
   "outputs": [],
   "source": [
    "input_DX = Input(shape = (N_DX,))\n",
    "DX_embed = Embedding(input_dim=len(all_codes), output_dim=DX_embed_dim, input_length=N_DX, mask_zero=True,\n",
    "                     embeddings_regularizer=ccs_reg, name='DX_embed')(input_DX)\n",
    "\n",
    "#DX_out, _, DX_feature = CuDNNLSTM(DX_embed_dim, return_sequences=False, return_state=True)(DX_embed)\n",
    "#DX_feature = Lambda(lambda x: K.sum(x, axis=1))(DX_embed)\n",
    "DX_feature = LSTM(DX_embed_dim, return_sequences=False)(DX_embed)"
   ]
  },
  {
   "cell_type": "code",
   "execution_count": 49,
   "metadata": {},
   "outputs": [],
   "source": [
    "input_DX = Input(shape = (N_DX,))\n",
    "DX_embed = Embedding(input_dim=len(all_codes), output_dim=DX_embed_dim, input_length=N_DX,\n",
    "                     embeddings_regularizer=ccs_reg, name='DX_embed')(input_DX)\n",
    "\n",
    "#DX_out, _, DX_feature = CuDNNLSTM(DX_embed_dim, return_sequences=False, return_state=True)(DX_embed)\n",
    "#DX_feature = Lambda(lambda x: K.sum(x, axis=1))(DX_embed)\n",
    "DX_feature = CuDNNLSTM(DX_embed_dim, return_sequences=False)(DX_embed)"
   ]
  },
  {
   "cell_type": "code",
   "execution_count": 50,
   "metadata": {},
   "outputs": [],
   "source": [
    "input_demo = Input(shape=(2, ))\n",
    "\n",
    "input_DX1 = Input(shape=(len(DX1_cat),))\n",
    "\n",
    "input_hosp = Input(shape=(1,))\n",
    "hosp_embed = Embedding(input_dim=len(hosp_cat), output_dim=hosp_embed_dim, input_length=1)(input_hosp)\n",
    "hosp_embed = Reshape((hosp_embed_dim, ))(hosp_embed)\n",
    "\n",
    "merged = concatenate([input_demo, input_DX1, DX_feature, hosp_embed], axis=1)\n",
    "\n",
    "#x = Dense(64, activation='relu')(merged)\n",
    "#x = Dense(32, activation='relu')(x)\n",
    "#x = Dropout(0.5)(x)\n",
    "\n",
    "prediction = Dense(2, activation='softmax')(merged)\n",
    "model = Model(inputs=[input_demo, input_DX1, input_DX, input_hosp], outputs=prediction)"
   ]
  },
  {
   "cell_type": "code",
   "execution_count": 41,
   "metadata": {},
   "outputs": [
    {
     "data": {
      "text/plain": [
       "[<tf.Variable 'DX_embed/embeddings:0' shape=(6100, 50) dtype=float32_ref>]"
      ]
     },
     "execution_count": 41,
     "metadata": {},
     "output_type": "execute_result"
    }
   ],
   "source": [
    "model.layers[2].weights"
   ]
  },
  {
   "cell_type": "code",
   "execution_count": 51,
   "metadata": {},
   "outputs": [],
   "source": [
    "adam = Adam(lr=0.0005)\n",
    "model.compile(optimizer=adam, loss='categorical_crossentropy', metrics=['accuracy'])"
   ]
  },
  {
   "cell_type": "code",
   "execution_count": 52,
   "metadata": {},
   "outputs": [],
   "source": [
    "checkpoint = ModelCheckpoint(filepath=model_path+'ami_ccs_lstm_valloss1.h5', save_best_only=True, save_weights_only=True)\n",
    "auccheckpoint = AUCCheckPoint(filepath=model_path+'ami_ccs_lstm_auc1.h5', validation_y=Y_val[:, 1], \n",
    "                             validation_x=[demo_mat_val, DX1_mat_val, DX_mat_val, hosp_array_val])\n",
    "reduce_lr = ReduceLROnPlateau(monitor='loss', factor=0.3, patience=5, min_lr=1.e-7)\n",
    "#earlystop = EarlyStopping(monitor='val_loss', patience=40)"
   ]
  },
  {
   "cell_type": "code",
   "execution_count": 36,
   "metadata": {},
   "outputs": [],
   "source": [
    "class_weight = {0:(Y_trn.shape[0]/sum(Y_trn[:, 0])), 1:(Y_trn.shape[0]/sum(Y_trn[:, 1]))}"
   ]
  },
  {
   "cell_type": "code",
   "execution_count": 53,
   "metadata": {
    "scrolled": true
   },
   "outputs": [
    {
     "name": "stdout",
     "output_type": "stream",
     "text": [
      "Train on 145667 samples, validate on 18004 samples\n",
      "Epoch 1/200\n",
      "145667/145667 [==============================] - 9s 62us/step - loss: 11.0536 - acc: 0.5688 - val_loss: 0.6880 - val_acc: 0.6178\n",
      "AUC: 0.6695\n",
      "\n",
      "Epoch 2/200\n",
      "145667/145667 [==============================] - 2s 15us/step - loss: 1.3303 - acc: 0.5935 - val_loss: 0.6998 - val_acc: 0.5685\n",
      "AUC: 0.6884\n",
      "\n",
      "Epoch 3/200\n",
      "145667/145667 [==============================] - 2s 15us/step - loss: 1.2952 - acc: 0.6150 - val_loss: 0.7701 - val_acc: 0.4875\n",
      "AUC: 0.6977\n",
      "\n",
      "Epoch 4/200\n",
      "145667/145667 [==============================] - 2s 15us/step - loss: 1.2788 - acc: 0.6156 - val_loss: 0.6869 - val_acc: 0.5843\n",
      "AUC: 0.7026\n",
      "\n",
      "Epoch 5/200\n",
      "145667/145667 [==============================] - 2s 15us/step - loss: 1.2722 - acc: 0.6195 - val_loss: 0.6681 - val_acc: 0.6033\n",
      "AUC: 0.7069\n",
      "\n",
      "Epoch 6/200\n",
      "145667/145667 [==============================] - 2s 15us/step - loss: 1.2644 - acc: 0.6260 - val_loss: 0.6546 - val_acc: 0.6100\n",
      "AUC: 0.7061\n",
      "\n",
      "Epoch 7/200\n",
      "145667/145667 [==============================] - 2s 15us/step - loss: 1.2609 - acc: 0.6266 - val_loss: 0.5869 - val_acc: 0.6738\n",
      "AUC: 0.7080\n",
      "\n",
      "Epoch 8/200\n",
      "145667/145667 [==============================] - 2s 15us/step - loss: 1.2582 - acc: 0.6295 - val_loss: 0.6468 - val_acc: 0.6221\n",
      "AUC: 0.7070\n",
      "\n",
      "Epoch 9/200\n",
      "145667/145667 [==============================] - 2s 15us/step - loss: 1.2551 - acc: 0.6294 - val_loss: 0.5795 - val_acc: 0.6885\n",
      "AUC: 0.7079\n",
      "\n",
      "Epoch 10/200\n",
      "145667/145667 [==============================] - 2s 15us/step - loss: 1.2545 - acc: 0.6320 - val_loss: 0.6768 - val_acc: 0.5956\n",
      "AUC: 0.7069\n",
      "\n",
      "Epoch 11/200\n",
      "145667/145667 [==============================] - 2s 15us/step - loss: 1.2534 - acc: 0.6346 - val_loss: 0.6328 - val_acc: 0.6383\n",
      "AUC: 0.7060\n",
      "\n",
      "Epoch 12/200\n",
      "145667/145667 [==============================] - 2s 15us/step - loss: 1.2529 - acc: 0.6345 - val_loss: 0.6621 - val_acc: 0.6171\n",
      "AUC: 0.7049\n",
      "\n",
      "Epoch 13/200\n",
      "145667/145667 [==============================] - 2s 15us/step - loss: 1.2517 - acc: 0.6342 - val_loss: 0.6082 - val_acc: 0.6638\n",
      "AUC: 0.7065\n",
      "\n",
      "Epoch 14/200\n",
      "145667/145667 [==============================] - 2s 15us/step - loss: 1.2523 - acc: 0.6353 - val_loss: 0.6443 - val_acc: 0.6312\n",
      "AUC: 0.7059\n",
      "\n",
      "Epoch 15/200\n",
      "145667/145667 [==============================] - 2s 15us/step - loss: 1.2510 - acc: 0.6348 - val_loss: 0.5606 - val_acc: 0.7067\n",
      "AUC: 0.7071\n",
      "\n",
      "Epoch 16/200\n",
      "145667/145667 [==============================] - 2s 15us/step - loss: 1.2512 - acc: 0.6355 - val_loss: 0.6447 - val_acc: 0.6243\n",
      "AUC: 0.7061\n",
      "\n",
      "Epoch 17/200\n",
      "145667/145667 [==============================] - 2s 15us/step - loss: 1.2497 - acc: 0.6357 - val_loss: 0.6341 - val_acc: 0.6419\n",
      "AUC: 0.7073\n",
      "\n",
      "Epoch 18/200\n",
      "145667/145667 [==============================] - 2s 15us/step - loss: 1.2511 - acc: 0.6358 - val_loss: 0.6577 - val_acc: 0.6186\n",
      "AUC: 0.7058\n",
      "\n",
      "Epoch 19/200\n",
      "145667/145667 [==============================] - 2s 15us/step - loss: 1.2500 - acc: 0.6379 - val_loss: 0.7071 - val_acc: 0.5670\n",
      "AUC: 0.7030\n",
      "\n",
      "Epoch 20/200\n",
      "145667/145667 [==============================] - 2s 15us/step - loss: 1.2499 - acc: 0.6368 - val_loss: 0.6362 - val_acc: 0.6424\n",
      "AUC: 0.7063\n",
      "\n",
      "Epoch 21/200\n",
      "145667/145667 [==============================] - 2s 16us/step - loss: 1.2504 - acc: 0.6371 - val_loss: 0.6363 - val_acc: 0.6380\n",
      "AUC: 0.7032\n",
      "\n",
      "Epoch 22/200\n",
      "145667/145667 [==============================] - 2s 15us/step - loss: 1.2497 - acc: 0.6367 - val_loss: 0.6261 - val_acc: 0.6478\n",
      "AUC: 0.7055\n",
      "\n",
      "Epoch 23/200\n",
      "145667/145667 [==============================] - 2s 15us/step - loss: 1.2389 - acc: 0.6358 - val_loss: 0.6130 - val_acc: 0.6506\n",
      "AUC: 0.7058\n",
      "\n",
      "Epoch 24/200\n",
      "145667/145667 [==============================] - 2s 15us/step - loss: 1.2382 - acc: 0.6384 - val_loss: 0.6466 - val_acc: 0.6197\n",
      "AUC: 0.7050\n",
      "\n",
      "Epoch 25/200\n",
      "145667/145667 [==============================] - 2s 15us/step - loss: 1.2379 - acc: 0.6378 - val_loss: 0.6083 - val_acc: 0.6609\n",
      "AUC: 0.7055\n",
      "\n",
      "Epoch 26/200\n",
      "145667/145667 [==============================] - 2s 16us/step - loss: 1.2382 - acc: 0.6390 - val_loss: 0.6487 - val_acc: 0.6180\n",
      "AUC: 0.7045\n",
      "\n",
      "Epoch 27/200\n",
      "145667/145667 [==============================] - 2s 15us/step - loss: 1.2375 - acc: 0.6392 - val_loss: 0.6184 - val_acc: 0.6470\n",
      "AUC: 0.7071\n",
      "\n",
      "Epoch 28/200\n",
      "145667/145667 [==============================] - 2s 16us/step - loss: 1.2372 - acc: 0.6375 - val_loss: 0.6237 - val_acc: 0.6424\n",
      "AUC: 0.7072\n",
      "\n",
      "Epoch 29/200\n",
      "145667/145667 [==============================] - 2s 15us/step - loss: 1.2374 - acc: 0.6408 - val_loss: 0.6191 - val_acc: 0.6467\n",
      "AUC: 0.7068\n",
      "\n",
      "Epoch 30/200\n",
      "145667/145667 [==============================] - 2s 15us/step - loss: 1.2375 - acc: 0.6407 - val_loss: 0.6125 - val_acc: 0.6547\n",
      "AUC: 0.7071\n",
      "\n",
      "Epoch 31/200\n",
      "145667/145667 [==============================] - 2s 16us/step - loss: 1.2373 - acc: 0.6407 - val_loss: 0.5977 - val_acc: 0.6687\n",
      "AUC: 0.7083\n",
      "\n",
      "Epoch 32/200\n",
      "145667/145667 [==============================] - 2s 15us/step - loss: 1.2371 - acc: 0.6423 - val_loss: 0.6641 - val_acc: 0.6071\n",
      "AUC: 0.7047\n",
      "\n",
      "Epoch 33/200\n",
      "145667/145667 [==============================] - 2s 16us/step - loss: 1.2370 - acc: 0.6417 - val_loss: 0.6319 - val_acc: 0.6389\n",
      "AUC: 0.7073\n",
      "\n",
      "Epoch 34/200\n",
      "145667/145667 [==============================] - 2s 15us/step - loss: 1.2370 - acc: 0.6403 - val_loss: 0.5573 - val_acc: 0.7063\n",
      "AUC: 0.7071\n",
      "\n",
      "Epoch 35/200\n",
      "145667/145667 [==============================] - 2s 15us/step - loss: 1.2365 - acc: 0.6419 - val_loss: 0.6476 - val_acc: 0.6251\n",
      "AUC: 0.7066\n",
      "\n",
      "Epoch 36/200\n",
      "145667/145667 [==============================] - 2s 15us/step - loss: 1.2364 - acc: 0.6411 - val_loss: 0.6188 - val_acc: 0.6491\n",
      "AUC: 0.7078\n",
      "\n",
      "Epoch 37/200\n",
      "145667/145667 [==============================] - 2s 15us/step - loss: 1.2360 - acc: 0.6426 - val_loss: 0.6539 - val_acc: 0.6195\n",
      "AUC: 0.7071\n",
      "\n",
      "Epoch 38/200\n",
      "145667/145667 [==============================] - 2s 15us/step - loss: 1.2364 - acc: 0.6422 - val_loss: 0.6397 - val_acc: 0.6346\n",
      "AUC: 0.7073\n",
      "\n",
      "Epoch 39/200\n",
      "145667/145667 [==============================] - 2s 15us/step - loss: 1.2358 - acc: 0.6428 - val_loss: 0.6524 - val_acc: 0.6214\n",
      "AUC: 0.7072\n",
      "\n",
      "Epoch 40/200\n",
      "145667/145667 [==============================] - 2s 15us/step - loss: 1.2361 - acc: 0.6424 - val_loss: 0.6366 - val_acc: 0.6357\n",
      "AUC: 0.7071\n",
      "\n",
      "Epoch 41/200\n",
      "145667/145667 [==============================] - 2s 15us/step - loss: 1.2357 - acc: 0.6432 - val_loss: 0.6315 - val_acc: 0.6399\n",
      "AUC: 0.7074\n",
      "\n",
      "Epoch 42/200\n",
      "145667/145667 [==============================] - 2s 15us/step - loss: 1.2358 - acc: 0.6409 - val_loss: 0.5785 - val_acc: 0.6872\n",
      "AUC: 0.7074\n",
      "\n",
      "Epoch 43/200\n",
      "145667/145667 [==============================] - 2s 15us/step - loss: 1.2358 - acc: 0.6424 - val_loss: 0.6388 - val_acc: 0.6348\n",
      "AUC: 0.7065\n",
      "\n",
      "Epoch 44/200\n",
      "145667/145667 [==============================] - 2s 15us/step - loss: 1.2354 - acc: 0.6445 - val_loss: 0.6440 - val_acc: 0.6280\n",
      "AUC: 0.7077\n",
      "\n",
      "Epoch 45/200\n",
      "145667/145667 [==============================] - 2s 15us/step - loss: 1.2354 - acc: 0.6410 - val_loss: 0.6078 - val_acc: 0.6609\n",
      "AUC: 0.7070\n",
      "\n",
      "Epoch 46/200\n",
      "145667/145667 [==============================] - 2s 15us/step - loss: 1.2350 - acc: 0.6433 - val_loss: 0.6594 - val_acc: 0.6118\n",
      "AUC: 0.7063\n",
      "\n",
      "Epoch 47/200\n",
      "145667/145667 [==============================] - 2s 15us/step - loss: 1.2354 - acc: 0.6414 - val_loss: 0.5804 - val_acc: 0.6871\n",
      "AUC: 0.7079\n",
      "\n",
      "Epoch 48/200\n",
      "145667/145667 [==============================] - 2s 15us/step - loss: 1.2350 - acc: 0.6440 - val_loss: 0.6393 - val_acc: 0.6334\n",
      "AUC: 0.7062\n",
      "\n",
      "Epoch 49/200\n",
      "145667/145667 [==============================] - 2s 15us/step - loss: 1.2356 - acc: 0.6425 - val_loss: 0.6093 - val_acc: 0.6618\n",
      "AUC: 0.7081\n",
      "\n",
      "Epoch 50/200\n",
      "145667/145667 [==============================] - 2s 15us/step - loss: 1.2351 - acc: 0.6433 - val_loss: 0.6049 - val_acc: 0.6617\n",
      "AUC: 0.7079\n",
      "\n",
      "Epoch 51/200\n",
      "145667/145667 [==============================] - 2s 15us/step - loss: 1.2355 - acc: 0.6433 - val_loss: 0.6193 - val_acc: 0.6540\n",
      "AUC: 0.7077\n",
      "\n",
      "Epoch 52/200\n",
      "145667/145667 [==============================] - 2s 15us/step - loss: 1.2277 - acc: 0.6435 - val_loss: 0.5900 - val_acc: 0.6760\n",
      "AUC: 0.7084\n",
      "\n",
      "Epoch 53/200\n",
      "145667/145667 [==============================] - 2s 15us/step - loss: 1.2268 - acc: 0.6456 - val_loss: 0.6244 - val_acc: 0.6414\n",
      "AUC: 0.7079\n",
      "\n",
      "Epoch 54/200\n"
     ]
    },
    {
     "name": "stdout",
     "output_type": "stream",
     "text": [
      "145667/145667 [==============================] - 2s 16us/step - loss: 1.2261 - acc: 0.6434 - val_loss: 0.6326 - val_acc: 0.6354\n",
      "AUC: 0.7080\n",
      "\n",
      "Epoch 55/200\n",
      "145667/145667 [==============================] - 2s 15us/step - loss: 1.2261 - acc: 0.6425 - val_loss: 0.6074 - val_acc: 0.6593\n",
      "AUC: 0.7076\n",
      "\n",
      "Epoch 56/200\n",
      "145667/145667 [==============================] - 2s 15us/step - loss: 1.2256 - acc: 0.6459 - val_loss: 0.6617 - val_acc: 0.6082\n",
      "AUC: 0.7064\n",
      "\n",
      "Epoch 57/200\n",
      "145667/145667 [==============================] - 2s 15us/step - loss: 1.2253 - acc: 0.6429 - val_loss: 0.6467 - val_acc: 0.6230\n",
      "AUC: 0.7070\n",
      "\n",
      "Epoch 58/200\n",
      "145667/145667 [==============================] - 2s 15us/step - loss: 1.2254 - acc: 0.6434 - val_loss: 0.6407 - val_acc: 0.6280\n",
      "AUC: 0.7064\n",
      "\n",
      "Epoch 59/200\n",
      "145667/145667 [==============================] - 2s 15us/step - loss: 1.2248 - acc: 0.6440 - val_loss: 0.6519 - val_acc: 0.6186\n",
      "AUC: 0.7055\n",
      "\n",
      "Epoch 60/200\n",
      "145667/145667 [==============================] - 2s 15us/step - loss: 1.2245 - acc: 0.6454 - val_loss: 0.6450 - val_acc: 0.6243\n",
      "AUC: 0.7065\n",
      "\n",
      "Epoch 61/200\n",
      "145667/145667 [==============================] - 2s 15us/step - loss: 1.2247 - acc: 0.6452 - val_loss: 0.6550 - val_acc: 0.6164\n",
      "AUC: 0.7071\n",
      "\n",
      "Epoch 62/200\n",
      "145667/145667 [==============================] - 2s 15us/step - loss: 1.2241 - acc: 0.6446 - val_loss: 0.6468 - val_acc: 0.6229\n",
      "AUC: 0.7062\n",
      "\n",
      "Epoch 63/200\n",
      "145667/145667 [==============================] - 2s 15us/step - loss: 1.2242 - acc: 0.6460 - val_loss: 0.6470 - val_acc: 0.6251\n",
      "AUC: 0.7066\n",
      "\n",
      "Epoch 64/200\n",
      "145667/145667 [==============================] - 2s 15us/step - loss: 1.2239 - acc: 0.6445 - val_loss: 0.6052 - val_acc: 0.6627\n",
      "AUC: 0.7070\n",
      "\n",
      "Epoch 65/200\n",
      "145667/145667 [==============================] - 2s 15us/step - loss: 1.2237 - acc: 0.6455 - val_loss: 0.5942 - val_acc: 0.6713\n",
      "AUC: 0.7080\n",
      "\n",
      "Epoch 66/200\n",
      "145667/145667 [==============================] - 2s 15us/step - loss: 1.2232 - acc: 0.6459 - val_loss: 0.6346 - val_acc: 0.6372\n",
      "AUC: 0.7070\n",
      "\n",
      "Epoch 67/200\n",
      "145667/145667 [==============================] - 2s 15us/step - loss: 1.2231 - acc: 0.6476 - val_loss: 0.6388 - val_acc: 0.6304\n",
      "AUC: 0.7065\n",
      "\n",
      "Epoch 68/200\n",
      "145667/145667 [==============================] - 2s 15us/step - loss: 1.2232 - acc: 0.6455 - val_loss: 0.6188 - val_acc: 0.6502\n",
      "AUC: 0.7064\n",
      "\n",
      "Epoch 69/200\n",
      "145667/145667 [==============================] - 2s 15us/step - loss: 1.2230 - acc: 0.6461 - val_loss: 0.6349 - val_acc: 0.6370\n",
      "AUC: 0.7061\n",
      "\n",
      "Epoch 70/200\n",
      "145667/145667 [==============================] - 2s 15us/step - loss: 1.2232 - acc: 0.6466 - val_loss: 0.6443 - val_acc: 0.6282\n",
      "AUC: 0.7064\n",
      "\n",
      "Epoch 71/200\n",
      "145667/145667 [==============================] - 2s 15us/step - loss: 1.2224 - acc: 0.6461 - val_loss: 0.6237 - val_acc: 0.6460\n",
      "AUC: 0.7069\n",
      "\n",
      "Epoch 72/200\n",
      "145667/145667 [==============================] - 2s 15us/step - loss: 1.2231 - acc: 0.6466 - val_loss: 0.5934 - val_acc: 0.6722\n",
      "AUC: 0.7074\n",
      "\n",
      "Epoch 73/200\n",
      "145667/145667 [==============================] - 2s 15us/step - loss: 1.2225 - acc: 0.6469 - val_loss: 0.6092 - val_acc: 0.6591\n",
      "AUC: 0.7077\n",
      "\n",
      "Epoch 74/200\n",
      "145667/145667 [==============================] - 2s 15us/step - loss: 1.2227 - acc: 0.6463 - val_loss: 0.5892 - val_acc: 0.6745\n",
      "AUC: 0.7082\n",
      "\n",
      "Epoch 75/200\n",
      "145667/145667 [==============================] - 2s 15us/step - loss: 1.2220 - acc: 0.6477 - val_loss: 0.6512 - val_acc: 0.6198\n",
      "AUC: 0.7061\n",
      "\n",
      "Epoch 76/200\n",
      "145667/145667 [==============================] - 2s 15us/step - loss: 1.2223 - acc: 0.6465 - val_loss: 0.6324 - val_acc: 0.6379\n",
      "AUC: 0.7069\n",
      "\n",
      "Epoch 77/200\n",
      "145667/145667 [==============================] - 2s 16us/step - loss: 1.2218 - acc: 0.6472 - val_loss: 0.5899 - val_acc: 0.6744\n",
      "AUC: 0.7072\n",
      "\n",
      "Epoch 78/200\n",
      "145667/145667 [==============================] - 2s 16us/step - loss: 1.2221 - acc: 0.6467 - val_loss: 0.6085 - val_acc: 0.6624\n",
      "AUC: 0.7067\n",
      "\n",
      "Epoch 79/200\n",
      "145667/145667 [==============================] - 2s 15us/step - loss: 1.2213 - acc: 0.6489 - val_loss: 0.5959 - val_acc: 0.6710\n",
      "AUC: 0.7066\n",
      "\n",
      "Epoch 80/200\n",
      "145667/145667 [==============================] - 2s 15us/step - loss: 1.2220 - acc: 0.6471 - val_loss: 0.6489 - val_acc: 0.6233\n",
      "AUC: 0.7045\n",
      "\n",
      "Epoch 81/200\n",
      "145667/145667 [==============================] - 2s 15us/step - loss: 1.2209 - acc: 0.6464 - val_loss: 0.6094 - val_acc: 0.6616\n",
      "AUC: 0.7061\n",
      "\n",
      "Epoch 82/200\n",
      "145667/145667 [==============================] - 2s 15us/step - loss: 1.2210 - acc: 0.6480 - val_loss: 0.6353 - val_acc: 0.6361\n",
      "AUC: 0.7069\n",
      "\n",
      "Epoch 83/200\n",
      "145667/145667 [==============================] - 2s 15us/step - loss: 1.2212 - acc: 0.6482 - val_loss: 0.6304 - val_acc: 0.6409\n",
      "AUC: 0.7065\n",
      "\n",
      "Epoch 84/200\n",
      "145667/145667 [==============================] - 2s 15us/step - loss: 1.2211 - acc: 0.6476 - val_loss: 0.6220 - val_acc: 0.6515\n",
      "AUC: 0.7058\n",
      "\n",
      "Epoch 85/200\n",
      "145667/145667 [==============================] - 2s 15us/step - loss: 1.2223 - acc: 0.6462 - val_loss: 0.5807 - val_acc: 0.6845\n",
      "AUC: 0.7075\n",
      "\n",
      "Epoch 86/200\n",
      "145667/145667 [==============================] - 2s 15us/step - loss: 1.2210 - acc: 0.6496 - val_loss: 0.6521 - val_acc: 0.6200\n",
      "AUC: 0.7055\n",
      "\n",
      "Epoch 87/200\n",
      "145667/145667 [==============================] - 2s 15us/step - loss: 1.2142 - acc: 0.6496 - val_loss: 0.6378 - val_acc: 0.6320\n",
      "AUC: 0.7062\n",
      "\n",
      "Epoch 88/200\n",
      "145667/145667 [==============================] - 2s 16us/step - loss: 1.2133 - acc: 0.6493 - val_loss: 0.6252 - val_acc: 0.6440\n",
      "AUC: 0.7060\n",
      "\n",
      "Epoch 89/200\n",
      "145667/145667 [==============================] - 2s 15us/step - loss: 1.2131 - acc: 0.6493 - val_loss: 0.6137 - val_acc: 0.6554\n",
      "AUC: 0.7058\n",
      "\n",
      "Epoch 90/200\n",
      "145667/145667 [==============================] - 2s 15us/step - loss: 1.2127 - acc: 0.6498 - val_loss: 0.5935 - val_acc: 0.6729\n",
      "AUC: 0.7062\n",
      "\n",
      "Epoch 91/200\n",
      "145667/145667 [==============================] - 2s 15us/step - loss: 1.2125 - acc: 0.6514 - val_loss: 0.6358 - val_acc: 0.6368\n",
      "AUC: 0.7045\n",
      "\n",
      "Epoch 92/200\n",
      "145667/145667 [==============================] - 2s 15us/step - loss: 1.2124 - acc: 0.6504 - val_loss: 0.6248 - val_acc: 0.6444\n",
      "AUC: 0.7054\n",
      "\n",
      "Epoch 93/200\n",
      "145667/145667 [==============================] - 2s 15us/step - loss: 1.2121 - acc: 0.6492 - val_loss: 0.6121 - val_acc: 0.6570\n",
      "AUC: 0.7055\n",
      "\n",
      "Epoch 94/200\n",
      "145667/145667 [==============================] - 2s 15us/step - loss: 1.2118 - acc: 0.6514 - val_loss: 0.6202 - val_acc: 0.6489\n",
      "AUC: 0.7050\n",
      "\n",
      "Epoch 95/200\n",
      "145667/145667 [==============================] - 2s 15us/step - loss: 1.2118 - acc: 0.6509 - val_loss: 0.6243 - val_acc: 0.6459\n",
      "AUC: 0.7045\n",
      "\n",
      "Epoch 96/200\n",
      "145667/145667 [==============================] - 2s 15us/step - loss: 1.2113 - acc: 0.6500 - val_loss: 0.6015 - val_acc: 0.6641\n",
      "AUC: 0.7056\n",
      "\n",
      "Epoch 97/200\n",
      "145667/145667 [==============================] - 2s 15us/step - loss: 1.2112 - acc: 0.6511 - val_loss: 0.6317 - val_acc: 0.6395\n",
      "AUC: 0.7043\n",
      "\n",
      "Epoch 98/200\n",
      "145667/145667 [==============================] - 2s 15us/step - loss: 1.2108 - acc: 0.6503 - val_loss: 0.6276 - val_acc: 0.6431\n",
      "AUC: 0.7038\n",
      "\n",
      "Epoch 99/200\n",
      "145667/145667 [==============================] - 2s 15us/step - loss: 1.2104 - acc: 0.6515 - val_loss: 0.6116 - val_acc: 0.6560\n",
      "AUC: 0.7044\n",
      "\n",
      "Epoch 100/200\n",
      "145667/145667 [==============================] - 2s 15us/step - loss: 1.2099 - acc: 0.6501 - val_loss: 0.6476 - val_acc: 0.6255\n",
      "AUC: 0.7014\n",
      "\n",
      "Epoch 101/200\n",
      "145667/145667 [==============================] - 2s 15us/step - loss: 1.2104 - acc: 0.6521 - val_loss: 0.6082 - val_acc: 0.6582\n",
      "AUC: 0.7047\n",
      "\n",
      "Epoch 102/200\n",
      "145667/145667 [==============================] - 2s 15us/step - loss: 1.2098 - acc: 0.6507 - val_loss: 0.6310 - val_acc: 0.6385\n",
      "AUC: 0.7035\n",
      "\n",
      "Epoch 103/200\n",
      "145667/145667 [==============================] - 2s 16us/step - loss: 1.2095 - acc: 0.6504 - val_loss: 0.6157 - val_acc: 0.6533\n",
      "AUC: 0.7040\n",
      "\n",
      "Epoch 104/200\n",
      "145667/145667 [==============================] - 2s 15us/step - loss: 1.2097 - acc: 0.6518 - val_loss: 0.6132 - val_acc: 0.6542\n",
      "AUC: 0.7041\n",
      "\n",
      "Epoch 105/200\n",
      "145667/145667 [==============================] - 2s 15us/step - loss: 1.2093 - acc: 0.6518 - val_loss: 0.6229 - val_acc: 0.6467\n",
      "AUC: 0.7029\n",
      "\n",
      "Epoch 106/200\n",
      "145667/145667 [==============================] - 2s 15us/step - loss: 1.2088 - acc: 0.6508 - val_loss: 0.6279 - val_acc: 0.6427\n",
      "AUC: 0.7028\n",
      "\n",
      "Epoch 107/200\n"
     ]
    },
    {
     "name": "stdout",
     "output_type": "stream",
     "text": [
      "145667/145667 [==============================] - 2s 15us/step - loss: 1.2085 - acc: 0.6517 - val_loss: 0.6389 - val_acc: 0.6327\n",
      "AUC: 0.7029\n",
      "\n",
      "Epoch 108/200\n",
      "145667/145667 [==============================] - 2s 15us/step - loss: 1.2084 - acc: 0.6511 - val_loss: 0.6228 - val_acc: 0.6460\n",
      "AUC: 0.7029\n",
      "\n",
      "Epoch 109/200\n",
      "145667/145667 [==============================] - 2s 16us/step - loss: 1.2083 - acc: 0.6504 - val_loss: 0.6072 - val_acc: 0.6594\n",
      "AUC: 0.7028\n",
      "\n",
      "Epoch 110/200\n",
      "145667/145667 [==============================] - 2s 15us/step - loss: 1.2082 - acc: 0.6519 - val_loss: 0.6372 - val_acc: 0.6355\n",
      "AUC: 0.7017\n",
      "\n",
      "Epoch 111/200\n",
      "145667/145667 [==============================] - 2s 15us/step - loss: 1.2084 - acc: 0.6510 - val_loss: 0.6114 - val_acc: 0.6563\n",
      "AUC: 0.7029\n",
      "\n",
      "Epoch 112/200\n",
      "145667/145667 [==============================] - 2s 16us/step - loss: 1.2080 - acc: 0.6529 - val_loss: 0.6278 - val_acc: 0.6438\n",
      "AUC: 0.7024\n",
      "\n",
      "Epoch 113/200\n",
      "145667/145667 [==============================] - 2s 15us/step - loss: 1.2072 - acc: 0.6500 - val_loss: 0.6019 - val_acc: 0.6620\n",
      "AUC: 0.7033\n",
      "\n",
      "Epoch 114/200\n",
      "145667/145667 [==============================] - 2s 15us/step - loss: 1.2074 - acc: 0.6515 - val_loss: 0.5980 - val_acc: 0.6692\n",
      "AUC: 0.7025\n",
      "\n",
      "Epoch 115/200\n",
      "145667/145667 [==============================] - 2s 15us/step - loss: 1.2070 - acc: 0.6519 - val_loss: 0.6244 - val_acc: 0.6472\n",
      "AUC: 0.7012\n",
      "\n",
      "Epoch 116/200\n",
      "145667/145667 [==============================] - 2s 15us/step - loss: 1.2070 - acc: 0.6540 - val_loss: 0.6312 - val_acc: 0.6389\n",
      "AUC: 0.7012\n",
      "\n",
      "Epoch 117/200\n",
      "145667/145667 [==============================] - 2s 15us/step - loss: 1.2067 - acc: 0.6500 - val_loss: 0.6197 - val_acc: 0.6503\n",
      "AUC: 0.7011\n",
      "\n",
      "Epoch 118/200\n",
      "145667/145667 [==============================] - 2s 15us/step - loss: 1.2061 - acc: 0.6515 - val_loss: 0.6282 - val_acc: 0.6422\n",
      "AUC: 0.7016\n",
      "\n",
      "Epoch 119/200\n",
      "145667/145667 [==============================] - 2s 15us/step - loss: 1.2062 - acc: 0.6532 - val_loss: 0.6268 - val_acc: 0.6422\n",
      "AUC: 0.7019\n",
      "\n",
      "Epoch 120/200\n",
      "145667/145667 [==============================] - 2s 15us/step - loss: 1.2061 - acc: 0.6521 - val_loss: 0.6214 - val_acc: 0.6463\n",
      "AUC: 0.7018\n",
      "\n",
      "Epoch 121/200\n",
      "145667/145667 [==============================] - 2s 15us/step - loss: 1.2056 - acc: 0.6529 - val_loss: 0.6680 - val_acc: 0.6084\n",
      "AUC: 0.6998\n",
      "\n",
      "Epoch 122/200\n",
      "145667/145667 [==============================] - 2s 15us/step - loss: 1.2058 - acc: 0.6521 - val_loss: 0.6393 - val_acc: 0.6326\n",
      "AUC: 0.7004\n",
      "\n",
      "Epoch 123/200\n",
      "145667/145667 [==============================] - 2s 15us/step - loss: 1.2053 - acc: 0.6528 - val_loss: 0.6612 - val_acc: 0.6140\n",
      "AUC: 0.7012\n",
      "\n",
      "Epoch 124/200\n",
      "145667/145667 [==============================] - 2s 15us/step - loss: 1.2056 - acc: 0.6500 - val_loss: 0.6083 - val_acc: 0.6597\n",
      "AUC: 0.7022\n",
      "\n",
      "Epoch 125/200\n",
      "145667/145667 [==============================] - 2s 15us/step - loss: 1.2051 - acc: 0.6529 - val_loss: 0.6256 - val_acc: 0.6447\n",
      "AUC: 0.7012\n",
      "\n",
      "Epoch 126/200\n",
      "145667/145667 [==============================] - 2s 15us/step - loss: 1.2048 - acc: 0.6522 - val_loss: 0.6654 - val_acc: 0.6127\n",
      "AUC: 0.6979\n",
      "\n",
      "Epoch 127/200\n",
      "145667/145667 [==============================] - 2s 15us/step - loss: 1.2058 - acc: 0.6530 - val_loss: 0.6680 - val_acc: 0.6101\n",
      "AUC: 0.6977\n",
      "\n",
      "Epoch 128/200\n",
      "145667/145667 [==============================] - 2s 16us/step - loss: 1.2045 - acc: 0.6521 - val_loss: 0.6167 - val_acc: 0.6550\n",
      "AUC: 0.7005\n",
      "\n",
      "Epoch 129/200\n",
      "145667/145667 [==============================] - 2s 15us/step - loss: 1.2048 - acc: 0.6523 - val_loss: 0.6114 - val_acc: 0.6556\n",
      "AUC: 0.7008\n",
      "\n",
      "Epoch 130/200\n",
      "145667/145667 [==============================] - 2s 15us/step - loss: 1.2047 - acc: 0.6530 - val_loss: 0.5931 - val_acc: 0.6717\n",
      "AUC: 0.7009\n",
      "\n",
      "Epoch 131/200\n",
      "145667/145667 [==============================] - 2s 15us/step - loss: 1.2048 - acc: 0.6522 - val_loss: 0.6538 - val_acc: 0.6226\n",
      "AUC: 0.6977\n",
      "\n",
      "Epoch 132/200\n",
      "145667/145667 [==============================] - 2s 16us/step - loss: 1.2041 - acc: 0.6543 - val_loss: 0.6351 - val_acc: 0.6357\n",
      "AUC: 0.7000\n",
      "\n",
      "Epoch 133/200\n",
      "145667/145667 [==============================] - 2s 15us/step - loss: 1.2046 - acc: 0.6512 - val_loss: 0.6854 - val_acc: 0.5951\n",
      "AUC: 0.6972\n",
      "\n",
      "Epoch 134/200\n",
      "145667/145667 [==============================] - 2s 15us/step - loss: 1.2038 - acc: 0.6533 - val_loss: 0.6306 - val_acc: 0.6395\n",
      "AUC: 0.6996\n",
      "\n",
      "Epoch 135/200\n",
      "145667/145667 [==============================] - 2s 15us/step - loss: 1.2033 - acc: 0.6520 - val_loss: 0.6358 - val_acc: 0.6365\n",
      "AUC: 0.6989\n",
      "\n",
      "Epoch 136/200\n",
      "145667/145667 [==============================] - 2s 15us/step - loss: 1.2039 - acc: 0.6532 - val_loss: 0.6125 - val_acc: 0.6562\n",
      "AUC: 0.6994\n",
      "\n",
      "Epoch 137/200\n",
      "145667/145667 [==============================] - 2s 16us/step - loss: 1.2041 - acc: 0.6539 - val_loss: 0.6677 - val_acc: 0.6091\n",
      "AUC: 0.6982\n",
      "\n",
      "Epoch 138/200\n",
      "145667/145667 [==============================] - 2s 15us/step - loss: 1.2032 - acc: 0.6524 - val_loss: 0.6453 - val_acc: 0.6287\n",
      "AUC: 0.6986\n",
      "\n",
      "Epoch 139/200\n",
      "145667/145667 [==============================] - 2s 15us/step - loss: 1.2034 - acc: 0.6533 - val_loss: 0.6429 - val_acc: 0.6304\n",
      "AUC: 0.6982\n",
      "\n",
      "Epoch 140/200\n",
      "145667/145667 [==============================] - 2s 15us/step - loss: 1.2038 - acc: 0.6523 - val_loss: 0.6120 - val_acc: 0.6561\n",
      "AUC: 0.6995\n",
      "\n",
      "Epoch 141/200\n",
      "145667/145667 [==============================] - 2s 15us/step - loss: 1.1964 - acc: 0.6558 - val_loss: 0.6289 - val_acc: 0.6423\n",
      "AUC: 0.6987\n",
      "\n",
      "Epoch 142/200\n",
      "145667/145667 [==============================] - 2s 15us/step - loss: 1.1965 - acc: 0.6560 - val_loss: 0.6428 - val_acc: 0.6309\n",
      "AUC: 0.6982\n",
      "\n",
      "Epoch 143/200\n",
      "145667/145667 [==============================] - 2s 15us/step - loss: 1.1960 - acc: 0.6563 - val_loss: 0.6425 - val_acc: 0.6309\n",
      "AUC: 0.6980\n",
      "\n",
      "Epoch 144/200\n",
      "145667/145667 [==============================] - 2s 16us/step - loss: 1.1957 - acc: 0.6557 - val_loss: 0.6169 - val_acc: 0.6538\n",
      "AUC: 0.6986\n",
      "\n",
      "Epoch 145/200\n",
      "145667/145667 [==============================] - 2s 16us/step - loss: 1.1954 - acc: 0.6561 - val_loss: 0.6378 - val_acc: 0.6360\n",
      "AUC: 0.6973\n",
      "\n",
      "Epoch 146/200\n",
      "145667/145667 [==============================] - 2s 15us/step - loss: 1.1953 - acc: 0.6568 - val_loss: 0.6310 - val_acc: 0.6415\n",
      "AUC: 0.6981\n",
      "\n",
      "Epoch 147/200\n",
      "145667/145667 [==============================] - 2s 15us/step - loss: 1.1954 - acc: 0.6560 - val_loss: 0.6224 - val_acc: 0.6488\n",
      "AUC: 0.6982\n",
      "\n",
      "Epoch 148/200\n",
      "145667/145667 [==============================] - 2s 15us/step - loss: 1.1949 - acc: 0.6571 - val_loss: 0.6213 - val_acc: 0.6491\n",
      "AUC: 0.6981\n",
      "\n",
      "Epoch 149/200\n",
      "145667/145667 [==============================] - 2s 15us/step - loss: 1.1949 - acc: 0.6560 - val_loss: 0.6158 - val_acc: 0.6540\n",
      "AUC: 0.6982\n",
      "\n",
      "Epoch 150/200\n",
      "145667/145667 [==============================] - 2s 15us/step - loss: 1.1948 - acc: 0.6570 - val_loss: 0.6181 - val_acc: 0.6522\n",
      "AUC: 0.6980\n",
      "\n",
      "Epoch 151/200\n",
      "145667/145667 [==============================] - 2s 15us/step - loss: 1.1945 - acc: 0.6568 - val_loss: 0.6272 - val_acc: 0.6453\n",
      "AUC: 0.6977\n",
      "\n",
      "Epoch 152/200\n",
      "145667/145667 [==============================] - 2s 15us/step - loss: 1.1943 - acc: 0.6573 - val_loss: 0.6366 - val_acc: 0.6370\n",
      "AUC: 0.6973\n",
      "\n",
      "Epoch 153/200\n",
      "145667/145667 [==============================] - 2s 15us/step - loss: 1.1942 - acc: 0.6568 - val_loss: 0.6451 - val_acc: 0.6301\n",
      "AUC: 0.6958\n",
      "\n",
      "Epoch 154/200\n",
      "145667/145667 [==============================] - 2s 15us/step - loss: 1.1942 - acc: 0.6561 - val_loss: 0.6063 - val_acc: 0.6619\n",
      "AUC: 0.6977\n",
      "\n",
      "Epoch 155/200\n",
      "145667/145667 [==============================] - 2s 15us/step - loss: 1.1941 - acc: 0.6568 - val_loss: 0.6239 - val_acc: 0.6492\n",
      "AUC: 0.6967\n",
      "\n",
      "Epoch 156/200\n",
      "145667/145667 [==============================] - 2s 15us/step - loss: 1.1940 - acc: 0.6580 - val_loss: 0.6194 - val_acc: 0.6525\n",
      "AUC: 0.6970\n",
      "\n",
      "Epoch 157/200\n",
      "145667/145667 [==============================] - 2s 15us/step - loss: 1.1940 - acc: 0.6578 - val_loss: 0.6219 - val_acc: 0.6498\n",
      "AUC: 0.6974\n",
      "\n",
      "Epoch 158/200\n",
      "145667/145667 [==============================] - 2s 15us/step - loss: 1.1936 - acc: 0.6573 - val_loss: 0.6386 - val_acc: 0.6354\n",
      "AUC: 0.6962\n",
      "\n",
      "Epoch 159/200\n",
      "145667/145667 [==============================] - 2s 15us/step - loss: 1.1935 - acc: 0.6569 - val_loss: 0.6401 - val_acc: 0.6342\n",
      "AUC: 0.6963\n",
      "\n",
      "Epoch 160/200\n"
     ]
    },
    {
     "name": "stdout",
     "output_type": "stream",
     "text": [
      "145667/145667 [==============================] - 2s 16us/step - loss: 1.1936 - acc: 0.6558 - val_loss: 0.6132 - val_acc: 0.6575\n",
      "AUC: 0.6963\n",
      "\n",
      "Epoch 161/200\n",
      "145667/145667 [==============================] - 2s 15us/step - loss: 1.1934 - acc: 0.6565 - val_loss: 0.5942 - val_acc: 0.6718\n",
      "AUC: 0.6977\n",
      "\n",
      "Epoch 162/200\n",
      "145667/145667 [==============================] - 2s 16us/step - loss: 1.1935 - acc: 0.6571 - val_loss: 0.6022 - val_acc: 0.6655\n",
      "AUC: 0.6971\n",
      "\n",
      "Epoch 163/200\n",
      "145667/145667 [==============================] - 2s 16us/step - loss: 1.1930 - acc: 0.6582 - val_loss: 0.6253 - val_acc: 0.6472\n",
      "AUC: 0.6958\n",
      "\n",
      "Epoch 164/200\n",
      "145667/145667 [==============================] - 2s 15us/step - loss: 1.1931 - acc: 0.6577 - val_loss: 0.6088 - val_acc: 0.6604\n",
      "AUC: 0.6965\n",
      "\n",
      "Epoch 165/200\n",
      "145667/145667 [==============================] - 2s 15us/step - loss: 1.1927 - acc: 0.6571 - val_loss: 0.6300 - val_acc: 0.6430\n",
      "AUC: 0.6953\n",
      "\n",
      "Epoch 166/200\n",
      "145667/145667 [==============================] - 2s 15us/step - loss: 1.1928 - acc: 0.6579 - val_loss: 0.6394 - val_acc: 0.6345\n",
      "AUC: 0.6952\n",
      "\n",
      "Epoch 167/200\n",
      "145667/145667 [==============================] - 2s 15us/step - loss: 1.1925 - acc: 0.6575 - val_loss: 0.6384 - val_acc: 0.6356\n",
      "AUC: 0.6949\n",
      "\n",
      "Epoch 168/200\n",
      "145667/145667 [==============================] - 2s 15us/step - loss: 1.1924 - acc: 0.6579 - val_loss: 0.6299 - val_acc: 0.6431\n",
      "AUC: 0.6956\n",
      "\n",
      "Epoch 169/200\n",
      "145667/145667 [==============================] - 2s 15us/step - loss: 1.1923 - acc: 0.6574 - val_loss: 0.6323 - val_acc: 0.6406\n",
      "AUC: 0.6956\n",
      "\n",
      "Epoch 170/200\n",
      "145667/145667 [==============================] - 2s 15us/step - loss: 1.1922 - acc: 0.6574 - val_loss: 0.6149 - val_acc: 0.6548\n",
      "AUC: 0.6966\n",
      "\n",
      "Epoch 171/200\n",
      "145667/145667 [==============================] - 2s 15us/step - loss: 1.1919 - acc: 0.6573 - val_loss: 0.6211 - val_acc: 0.6502\n",
      "AUC: 0.6958\n",
      "\n",
      "Epoch 172/200\n",
      "145667/145667 [==============================] - 2s 15us/step - loss: 1.1922 - acc: 0.6568 - val_loss: 0.6267 - val_acc: 0.6459\n",
      "AUC: 0.6957\n",
      "\n",
      "Epoch 173/200\n",
      "145667/145667 [==============================] - 2s 15us/step - loss: 1.1919 - acc: 0.6581 - val_loss: 0.6146 - val_acc: 0.6560\n",
      "AUC: 0.6956\n",
      "\n",
      "Epoch 174/200\n",
      "145667/145667 [==============================] - 2s 15us/step - loss: 1.1917 - acc: 0.6573 - val_loss: 0.6344 - val_acc: 0.6395\n",
      "AUC: 0.6943\n",
      "\n",
      "Epoch 175/200\n",
      "145667/145667 [==============================] - 2s 15us/step - loss: 1.1914 - acc: 0.6589 - val_loss: 0.6544 - val_acc: 0.6210\n",
      "AUC: 0.6944\n",
      "\n",
      "Epoch 176/200\n",
      "145667/145667 [==============================] - 2s 16us/step - loss: 1.1914 - acc: 0.6563 - val_loss: 0.6387 - val_acc: 0.6363\n",
      "AUC: 0.6942\n",
      "\n",
      "Epoch 177/200\n",
      "145667/145667 [==============================] - 2s 15us/step - loss: 1.1912 - acc: 0.6577 - val_loss: 0.6201 - val_acc: 0.6523\n",
      "AUC: 0.6956\n",
      "\n",
      "Epoch 178/200\n",
      "145667/145667 [==============================] - 2s 15us/step - loss: 1.1911 - acc: 0.6582 - val_loss: 0.6327 - val_acc: 0.6411\n",
      "AUC: 0.6948\n",
      "\n",
      "Epoch 179/200\n",
      "145667/145667 [==============================] - 2s 15us/step - loss: 1.1909 - acc: 0.6571 - val_loss: 0.6450 - val_acc: 0.6303\n",
      "AUC: 0.6935\n",
      "\n",
      "Epoch 180/200\n",
      "145667/145667 [==============================] - 2s 15us/step - loss: 1.1911 - acc: 0.6587 - val_loss: 0.6440 - val_acc: 0.6306\n",
      "AUC: 0.6943\n",
      "\n",
      "Epoch 181/200\n",
      "145667/145667 [==============================] - 2s 15us/step - loss: 1.1909 - acc: 0.6567 - val_loss: 0.6041 - val_acc: 0.6647\n",
      "AUC: 0.6955\n",
      "\n",
      "Epoch 182/200\n",
      "145667/145667 [==============================] - 2s 15us/step - loss: 1.1906 - acc: 0.6587 - val_loss: 0.6481 - val_acc: 0.6272\n",
      "AUC: 0.6940\n",
      "\n",
      "Epoch 183/200\n",
      "145667/145667 [==============================] - 2s 15us/step - loss: 1.1908 - acc: 0.6563 - val_loss: 0.6225 - val_acc: 0.6516\n",
      "AUC: 0.6938\n",
      "\n",
      "Epoch 184/200\n",
      "145667/145667 [==============================] - 2s 15us/step - loss: 1.1908 - acc: 0.6585 - val_loss: 0.6296 - val_acc: 0.6438\n",
      "AUC: 0.6943\n",
      "\n",
      "Epoch 185/200\n",
      "145667/145667 [==============================] - 2s 15us/step - loss: 1.1901 - acc: 0.6577 - val_loss: 0.6136 - val_acc: 0.6569\n",
      "AUC: 0.6947\n",
      "\n",
      "Epoch 186/200\n",
      "145667/145667 [==============================] - 2s 15us/step - loss: 1.1905 - acc: 0.6584 - val_loss: 0.6050 - val_acc: 0.6637\n",
      "AUC: 0.6951\n",
      "\n",
      "Epoch 187/200\n",
      "145667/145667 [==============================] - 2s 16us/step - loss: 1.1901 - acc: 0.6592 - val_loss: 0.6246 - val_acc: 0.6472\n",
      "AUC: 0.6947\n",
      "\n",
      "Epoch 188/200\n",
      "145667/145667 [==============================] - 2s 15us/step - loss: 1.1905 - acc: 0.6576 - val_loss: 0.6358 - val_acc: 0.6390\n",
      "AUC: 0.6938\n",
      "\n",
      "Epoch 189/200\n",
      "145667/145667 [==============================] - 2s 15us/step - loss: 1.1900 - acc: 0.6574 - val_loss: 0.6140 - val_acc: 0.6584\n",
      "AUC: 0.6941\n",
      "\n",
      "Epoch 190/200\n",
      "145667/145667 [==============================] - 2s 15us/step - loss: 1.1897 - acc: 0.6566 - val_loss: 0.6175 - val_acc: 0.6561\n",
      "AUC: 0.6936\n",
      "\n",
      "Epoch 191/200\n",
      "145667/145667 [==============================] - 2s 15us/step - loss: 1.1900 - acc: 0.6593 - val_loss: 0.6573 - val_acc: 0.6189\n",
      "AUC: 0.6923\n",
      "\n",
      "Epoch 192/200\n",
      "145667/145667 [==============================] - 2s 15us/step - loss: 1.1899 - acc: 0.6576 - val_loss: 0.6410 - val_acc: 0.6349\n",
      "AUC: 0.6927\n",
      "\n",
      "Epoch 193/200\n",
      "145667/145667 [==============================] - 2s 15us/step - loss: 1.1893 - acc: 0.6588 - val_loss: 0.6356 - val_acc: 0.6381\n",
      "AUC: 0.6933\n",
      "\n",
      "Epoch 194/200\n",
      "145667/145667 [==============================] - 2s 15us/step - loss: 1.1894 - acc: 0.6581 - val_loss: 0.6170 - val_acc: 0.6550\n",
      "AUC: 0.6942\n",
      "\n",
      "Epoch 195/200\n",
      "145667/145667 [==============================] - 2s 15us/step - loss: 1.1893 - acc: 0.6582 - val_loss: 0.6451 - val_acc: 0.6303\n",
      "AUC: 0.6928\n",
      "\n",
      "Epoch 196/200\n",
      "145667/145667 [==============================] - 2s 15us/step - loss: 1.1892 - acc: 0.6590 - val_loss: 0.6230 - val_acc: 0.6505\n",
      "AUC: 0.6941\n",
      "\n",
      "Epoch 197/200\n",
      "145667/145667 [==============================] - 2s 15us/step - loss: 1.1889 - acc: 0.6582 - val_loss: 0.6376 - val_acc: 0.6359\n",
      "AUC: 0.6931\n",
      "\n",
      "Epoch 198/200\n",
      "145667/145667 [==============================] - 2s 15us/step - loss: 1.1889 - acc: 0.6578 - val_loss: 0.6248 - val_acc: 0.6482\n",
      "AUC: 0.6937\n",
      "\n",
      "Epoch 199/200\n",
      "145667/145667 [==============================] - 2s 15us/step - loss: 1.1887 - acc: 0.6590 - val_loss: 0.6412 - val_acc: 0.6346\n",
      "AUC: 0.6931\n",
      "\n",
      "Epoch 200/200\n",
      "145667/145667 [==============================] - 2s 15us/step - loss: 1.1888 - acc: 0.6591 - val_loss: 0.6546 - val_acc: 0.6229\n",
      "AUC: 0.6920\n",
      "\n"
     ]
    }
   ],
   "source": [
    "hist = model.fit([demo_mat_trn, DX1_mat_trn, DX_mat_trn, hosp_array_trn], Y_trn, \n",
    "                 batch_size=512, epochs=200, callbacks=[checkpoint, auccheckpoint, reduce_lr], class_weight=class_weight, \n",
    "                 validation_data=[[demo_mat_val, DX1_mat_val, DX_mat_val, hosp_array_val], Y_val], \n",
    "                verbose=1)"
   ]
  },
  {
   "cell_type": "code",
   "execution_count": 62,
   "metadata": {},
   "outputs": [
    {
     "data": {
      "text/plain": [
       "[<matplotlib.lines.Line2D at 0x2b10aff2f3c8>]"
      ]
     },
     "execution_count": 62,
     "metadata": {},
     "output_type": "execute_result"
    },
    {
     "data": {
      "image/png": "[encoded data removed]",
      "text/plain": [
       "<Figure size 432x288 with 1 Axes>"
      ]
     },
     "metadata": {},
     "output_type": "display_data"
    }
   ],
   "source": [
    "plt.plot(hist.history['val_loss'])"
   ]
  },
  {
   "cell_type": "code",
   "execution_count": 60,
   "metadata": {},
   "outputs": [
    {
     "data": {
      "text/plain": [
       "[<matplotlib.lines.Line2D at 0x2b10afeb50b8>]"
      ]
     },
     "execution_count": 60,
     "metadata": {},
     "output_type": "execute_result"
    },
    {
     "data": {
      "image/png": "[encoded data removed]",
      "text/plain": [
       "<Figure size 432x288 with 1 Axes>"
      ]
     },
     "metadata": {},
     "output_type": "display_data"
    }
   ],
   "source": [
    "plt.plot(auccheckpoint.auc_history)"
   ]
  },
  {
   "cell_type": "markdown",
   "metadata": {},
   "source": [
    "### Model testing"
   ]
  },
  {
   "cell_type": "code",
   "execution_count": 65,
   "metadata": {},
   "outputs": [],
   "source": [
    "DX_df_tst = tst_df[DXs]\n",
    "DX_df_tst = DX_df_tst.fillna('missing')\n",
    "\n",
    "for dx in DXs:\n",
    "    DX_df_tst[dx] = DX_df_tst[dx].map(DX_dict)\n",
    "\n",
    "DX_mat_tst = DX_df_tst.values"
   ]
  },
  {
   "cell_type": "code",
   "execution_count": 66,
   "metadata": {},
   "outputs": [],
   "source": [
    "demo_mat_tst = tst_df[['AGE', 'FEMALE']].values\n",
    "demo_mat_tst[:, 0] = (demo_mat_tst[:, 0]-age_mean)/age_std"
   ]
  },
  {
   "cell_type": "code",
   "execution_count": 67,
   "metadata": {},
   "outputs": [],
   "source": [
    "hosp_array_tst = tst_df['HOSP_NRD'].map(hosp_dict).values"
   ]
  },
  {
   "cell_type": "code",
   "execution_count": 68,
   "metadata": {},
   "outputs": [],
   "source": [
    "DX1_series_tst = tst_df.DX1.map(DX1_dict)\n",
    "\n",
    "DX1_mat_tst = np.zeros((len(tst_df), len(DX1_dict)))\n",
    "for i, dx1 in enumerate(DX1_series_tst.values):\n",
    "    DX1_mat_tst[i, dx1] = 1"
   ]
  },
  {
   "cell_type": "code",
   "execution_count": 63,
   "metadata": {},
   "outputs": [],
   "source": [
    "model.load_weights(model_path+'ami_ccs_lstm_auc1.h5')"
   ]
  },
  {
   "cell_type": "code",
   "execution_count": 69,
   "metadata": {},
   "outputs": [
    {
     "name": "stdout",
     "output_type": "stream",
     "text": [
      "18186/18186 [==============================] - 1s 62us/step\n"
     ]
    }
   ],
   "source": [
    "y = model.predict([demo_mat_tst, DX1_mat_tst, DX_mat_tst, hosp_array_tst], verbose=1)\n",
    "\n",
    "y_pred = y[:, 1]\n",
    "y_true = tst_df.readm30.astype(int).values"
   ]
  },
  {
   "cell_type": "code",
   "execution_count": 70,
   "metadata": {
    "scrolled": true
   },
   "outputs": [
    {
     "data": {
      "text/plain": [
       "{0: 0.7025506525367047}"
      ]
     },
     "execution_count": 70,
     "metadata": {},
     "output_type": "execute_result"
    },
    {
     "data": {
      "image/png": "[encoded data removed]",
      "text/plain": [
       "<Figure size 432x288 with 1 Axes>"
      ]
     },
     "metadata": {},
     "output_type": "display_data"
    }
   ],
   "source": [
    "plot_roc(y_pred, y_true)"
   ]
  },
  {
   "cell_type": "code",
   "execution_count": 71,
   "metadata": {},
   "outputs": [],
   "source": [
    "embed_trained = model.layers[2]\n",
    "\n",
    "embed_mat = embed_trained.get_weights()[0]"
   ]
  },
  {
   "cell_type": "code",
   "execution_count": 72,
   "metadata": {
    "scrolled": true
   },
   "outputs": [
    {
     "data": {
      "text/plain": [
       "array([0.13445328, 0.01330469, 0.01692051, 0.01324792, 0.01288445,\n",
       "       0.01326387, 0.0132484 , 0.01324365, 0.01305246, 0.01320876,\n",
       "       0.01324838, 0.013367  , 0.01326561, 0.0132235 , 0.0132535 ,\n",
       "       0.01358849, 0.01516505, 0.01328224, 0.01323698, 0.01324947],\n",
       "      dtype=float32)"
      ]
     },
     "execution_count": 72,
     "metadata": {},
     "output_type": "execute_result"
    }
   ],
   "source": [
    "np.linalg.norm(embed_mat, axis=1, ord=2)[:20]"
   ]
  },
  {
   "cell_type": "code",
   "execution_count": 120,
   "metadata": {
    "scrolled": true
   },
   "outputs": [
    {
     "data": {
      "text/plain": [
       "array([1.67420201e-02, 1.25085167e-03, 3.88638256e-04, 1.11788415e-02,\n",
       "       9.17833277e-03, 5.80740744e-03, 1.52295803e-03, 3.01085294e-02,\n",
       "       6.11861637e-03, 8.90269510e-03, 2.30148840e-02, 5.32340409e-04,\n",
       "       5.70435590e-03, 2.60904864e-03, 5.05236697e-03, 5.88568662e-02,\n",
       "       1.29949138e-02, 8.28027064e-05, 9.94104499e-03, 3.17214810e-03])"
      ]
     },
     "execution_count": 120,
     "metadata": {},
     "output_type": "execute_result"
    }
   ],
   "source": [
    "np.linalg.norm(np.dot(parent_mat, embed_mat), axis=1, ord=2)[:20]"
   ]
  },
  {
   "cell_type": "code",
   "execution_count": 73,
   "metadata": {},
   "outputs": [],
   "source": [
    "from sklearn import decomposition, manifold"
   ]
  },
  {
   "cell_type": "code",
   "execution_count": 74,
   "metadata": {},
   "outputs": [],
   "source": [
    "tsne = manifold.TSNE(n_components=2, init='pca', random_state=0)"
   ]
  },
  {
   "cell_type": "code",
   "execution_count": 75,
   "metadata": {},
   "outputs": [],
   "source": [
    "embed_tsne = tsne.fit_transform(embed_mat[1:(n_DX_cat-2),:])"
   ]
  },
  {
   "cell_type": "code",
   "execution_count": 76,
   "metadata": {
    "scrolled": true
   },
   "outputs": [],
   "source": [
    "ccs_lvl1 = [ami_ccs.loc[c, 'CCS_LVL1'] for c in all_codes[1:(n_DX_cat-2)]]\n",
    "\n",
    "fine_group = [ami_ccs.loc[c, 'finest_non_empty'] for c in all_codes[1:(n_DX_cat-2)]]\n",
    "\n",
    "plot_df = pd.DataFrame(dict(x=embed_tsne[:, 0], y=embed_tsne[:, 1], lvl1=ccs_lvl1, fine_group=fine_group))"
   ]
  },
  {
   "cell_type": "code",
   "execution_count": 99,
   "metadata": {},
   "outputs": [
    {
     "name": "stdout",
     "output_type": "stream",
     "text": [
      "11 (16, 4)\n",
      "14 (162, 4)\n",
      "16 (812, 4)\n",
      "5 (333, 4)\n",
      "3 (307, 4)\n",
      "7 (463, 4)\n",
      "12 (128, 4)\n",
      "18 (206, 4)\n"
     ]
    }
   ],
   "source": [
    "for n in list(gkey)[10:]:\n",
    "    print(n, groups.get_group(n).shape)"
   ]
  },
  {
   "cell_type": "code",
   "execution_count": null,
   "metadata": {},
   "outputs": [],
   "source": [
    "groups = plot_df.groupby('lvl1')"
   ]
  },
  {
   "cell_type": "code",
   "execution_count": 88,
   "metadata": {},
   "outputs": [],
   "source": [
    "gkey = groups.groups.keys()"
   ]
  },
  {
   "cell_type": "code",
   "execution_count": 98,
   "metadata": {},
   "outputs": [
    {
     "data": {
      "text/plain": [
       "<matplotlib.legend.Legend at 0x2b1112fcc898>"
      ]
     },
     "execution_count": 98,
     "metadata": {},
     "output_type": "execute_result"
    },
    {
     "data": {
      "image/png": "[encoded data removed]",
      "text/plain": [
       "<Figure size 576x432 with 1 Axes>"
      ]
     },
     "metadata": {},
     "output_type": "display_data"
    }
   ],
   "source": [
    "fig, ax = plt.subplots(figsize=(8, 6))\n",
    "for name in list(gkey)[10:]:\n",
    "    group = groups.get_group(name)\n",
    "    ax.plot(group.x, group.y, marker='o', linestyle='', ms=3, label=name)\n",
    "ax.legend()"
   ]
  },
  {
   "cell_type": "code",
   "execution_count": 78,
   "metadata": {},
   "outputs": [],
   "source": [
    "top_fine_cat = ami_ccs.finest_non_empty.value_counts().iloc[:20].index\n",
    "\n",
    "plot_subdf = plot_df.loc[plot_df.fine_group.isin(top_fine_cat)]"
   ]
  },
  {
   "cell_type": "code",
   "execution_count": 79,
   "metadata": {},
   "outputs": [
    {
     "data": {
      "text/plain": [
       "<matplotlib.legend.Legend at 0x2b1112bf8e48>"
      ]
     },
     "execution_count": 79,
     "metadata": {},
     "output_type": "execute_result"
    },
    {
     "data": {
      "image/png": "[encoded data removed]",
      "text/plain": [
       "<Figure size 720x576 with 1 Axes>"
      ]
     },
     "metadata": {},
     "output_type": "display_data"
    }
   ],
   "source": [
    "groups = plot_subdf.groupby('fine_group')\n",
    "\n",
    "fig, ax = plt.subplots(figsize=(10, 8))\n",
    "for name, group in groups:\n",
    "    ax.plot(group.x, group.y, marker='o', linestyle='', ms=3, label=name)\n",
    "ax.legend()"
   ]
  },
  {
   "cell_type": "code",
   "execution_count": 108,
   "metadata": {},
   "outputs": [
    {
     "data": {
      "text/plain": [
       "Index(['18', '13.8', '6.7.6', '16.12', '13.2.3', '16.8', '5.12', '6.9.1',\n",
       "       '16.5', '2.16.2.5', '9.12.3', '16.10.2.7', '1.1.4', '9.2', '3.11.3',\n",
       "       '3.4', '16.6.1', '17.1.9', '8.9', '10.1.8.3'],\n",
       "      dtype='object')"
      ]
     },
     "execution_count": 108,
     "metadata": {},
     "output_type": "execute_result"
    }
   ],
   "source": [
    "top_fine_cat"
   ]
  },
  {
   "cell_type": "markdown",
   "metadata": {},
   "source": [
    "### Backups"
   ]
  },
  {
   "cell_type": "markdown",
   "metadata": {},
   "source": [
    "### Model Building with OHE"
   ]
  },
  {
   "cell_type": "code",
   "execution_count": 20,
   "metadata": {},
   "outputs": [],
   "source": [
    "DX_embed_dim = 50\n",
    "hosp_embed_dim = 1"
   ]
  },
  {
   "cell_type": "code",
   "execution_count": 55,
   "metadata": {},
   "outputs": [],
   "source": [
    "input_DX = Input(shape = (n_DX_cat,))\n",
    "DX_feature = Dense(DX_embed_dim, use_bias=False)(input_DX)\n",
    "\n",
    "input_demo = Input(shape=(2, ))\n",
    "\n",
    "input_DX1 = Input(shape=(len(DX1_cat),))\n",
    "\n",
    "input_hosp = Input(shape=(1,))\n",
    "hosp_embed = Embedding(input_dim=len(hosp_cat), output_dim=hosp_embed_dim, input_length=1)(input_hosp)\n",
    "hosp_embed = Reshape((hosp_embed_dim, ))(hosp_embed)\n",
    "\n",
    "merged = concatenate([input_demo, input_DX1, DX_feature, hosp_embed], axis=1)\n",
    "\n",
    "x = Dense(128, activation='relu')(merged)\n",
    "#x = Dense(64, activation='relu')(x)\n",
    "x = Dense(32, activation='relu')(x)\n",
    "#x = Dense(16, activation='relu')(x)\n",
    "x = Dropout(0.5)(x)\n",
    "\n",
    "prediction = Dense(2, activation='softmax')(x)\n",
    "model = Model(inputs=[input_demo, input_DX1, input_DX, input_hosp], outputs=prediction)"
   ]
  },
  {
   "cell_type": "code",
   "execution_count": 56,
   "metadata": {},
   "outputs": [
    {
     "data": {
      "text/plain": [
       "TensorShape([Dimension(None), Dimension(50)])"
      ]
     },
     "execution_count": 56,
     "metadata": {},
     "output_type": "execute_result"
    }
   ],
   "source": [
    "DX_feature.shape"
   ]
  },
  {
   "cell_type": "code",
   "execution_count": 58,
   "metadata": {},
   "outputs": [],
   "source": [
    "adam = Adam(lr=0.0002)\n",
    "model.compile(optimizer=adam, loss='categorical_crossentropy', metrics=['accuracy'])"
   ]
  },
  {
   "cell_type": "code",
   "execution_count": 59,
   "metadata": {},
   "outputs": [],
   "source": [
    "checkpoint = ModelCheckpoint(filepath=model_path+'ami_icd9_ohe_valloss1.h5', save_best_only=True, save_weights_only=True)\n",
    "auccheckpoint = AUCCheckPoint(filepath=model_path+'ami_icd9_ohe_auc1.h5', validation_y=Y_val[:, 1], \n",
    "                             validation_x=[demo_mat_val, DX1_mat_val, DX_ohe_val, hosp_array_val])\n",
    "reduce_lr = ReduceLROnPlateau(monitor='loss', factor=0.2, patience=3, min_lr=1.e-8)\n",
    "earlystop = EarlyStopping(monitor='val_loss', patience=20)"
   ]
  },
  {
   "cell_type": "code",
   "execution_count": 60,
   "metadata": {},
   "outputs": [],
   "source": [
    "class_weight = {0:(Y_trn.shape[0]/sum(Y_trn[:, 0])), 1:(Y_trn.shape[0]/sum(Y_trn[:, 1]))}"
   ]
  },
  {
   "cell_type": "code",
   "execution_count": 61,
   "metadata": {
    "scrolled": true
   },
   "outputs": [
    {
     "name": "stdout",
     "output_type": "stream",
     "text": [
      "Train on 145667 samples, validate on 18004 samples\n",
      "Epoch 1/20\n",
      " - 7s - loss: 1.3245 - acc: 0.5939 - val_loss: 0.6438 - val_acc: 0.6399\n",
      "AUC: 0.6854\n",
      "\n",
      "Epoch 2/20\n",
      " - 9s - loss: 1.2781 - acc: 0.6356 - val_loss: 0.6329 - val_acc: 0.6380\n",
      "AUC: 0.6898\n",
      "\n",
      "Epoch 3/20\n",
      " - 9s - loss: 1.2583 - acc: 0.6404 - val_loss: 0.6276 - val_acc: 0.6399\n",
      "AUC: 0.6901\n",
      "\n",
      "Epoch 4/20\n",
      " - 9s - loss: 1.2450 - acc: 0.6460 - val_loss: 0.6301 - val_acc: 0.6279\n",
      "AUC: 0.6871\n",
      "\n",
      "Epoch 5/20\n",
      " - 9s - loss: 1.2293 - acc: 0.6470 - val_loss: 0.6398 - val_acc: 0.6230\n",
      "AUC: 0.6841\n",
      "\n",
      "Epoch 6/20\n",
      " - 9s - loss: 1.2162 - acc: 0.6539 - val_loss: 0.6214 - val_acc: 0.6377\n",
      "AUC: 0.6814\n",
      "\n",
      "Epoch 7/20\n",
      " - 9s - loss: 1.2016 - acc: 0.6574 - val_loss: 0.6104 - val_acc: 0.6439\n",
      "AUC: 0.6778\n",
      "\n",
      "Epoch 8/20\n",
      " - 9s - loss: 1.1875 - acc: 0.6590 - val_loss: 0.6120 - val_acc: 0.6417\n",
      "AUC: 0.6747\n",
      "\n",
      "Epoch 9/20\n",
      " - 9s - loss: 1.1727 - acc: 0.6650 - val_loss: 0.6097 - val_acc: 0.6387\n",
      "AUC: 0.6750\n",
      "\n",
      "Epoch 10/20\n",
      " - 9s - loss: 1.1610 - acc: 0.6660 - val_loss: 0.6189 - val_acc: 0.6329\n",
      "AUC: 0.6727\n",
      "\n",
      "Epoch 11/20\n",
      " - 9s - loss: 1.1462 - acc: 0.6712 - val_loss: 0.6295 - val_acc: 0.6358\n",
      "AUC: 0.6688\n",
      "\n",
      "Epoch 12/20\n",
      " - 9s - loss: 1.1329 - acc: 0.6760 - val_loss: 0.6555 - val_acc: 0.6086\n",
      "AUC: 0.6662\n",
      "\n",
      "Epoch 13/20\n",
      " - 9s - loss: 1.1183 - acc: 0.6833 - val_loss: 0.6213 - val_acc: 0.6394\n",
      "AUC: 0.6582\n",
      "\n",
      "Epoch 14/20\n",
      " - 9s - loss: 1.1060 - acc: 0.6908 - val_loss: 0.6298 - val_acc: 0.6351\n",
      "AUC: 0.6582\n",
      "\n",
      "Epoch 15/20\n",
      " - 9s - loss: 1.0908 - acc: 0.6961 - val_loss: 0.6007 - val_acc: 0.6700\n",
      "AUC: 0.6541\n",
      "\n",
      "Epoch 16/20\n",
      " - 9s - loss: 1.0766 - acc: 0.7042 - val_loss: 0.6424 - val_acc: 0.6419\n",
      "AUC: 0.6513\n",
      "\n",
      "Epoch 17/20\n",
      " - 9s - loss: 1.0629 - acc: 0.7115 - val_loss: 0.6349 - val_acc: 0.6539\n",
      "AUC: 0.6493\n",
      "\n",
      "Epoch 18/20\n",
      " - 9s - loss: 1.0437 - acc: 0.7204 - val_loss: 0.6372 - val_acc: 0.6541\n",
      "AUC: 0.6434\n",
      "\n",
      "Epoch 19/20\n",
      " - 9s - loss: 1.0271 - acc: 0.7292 - val_loss: 0.6152 - val_acc: 0.6745\n",
      "AUC: 0.6419\n",
      "\n",
      "Epoch 20/20\n",
      " - 9s - loss: 1.0119 - acc: 0.7364 - val_loss: 0.6126 - val_acc: 0.6811\n",
      "AUC: 0.6362\n",
      "\n"
     ]
    }
   ],
   "source": [
    "hist = model.fit([demo_mat_trn, DX1_mat_trn, DX_ohe_trn, hosp_array_trn], Y_trn, \n",
    "                 batch_size=512, epochs=20, callbacks=[checkpoint, auccheckpoint, reduce_lr, earlystop], class_weight=class_weight, \n",
    "                 validation_data=[[demo_mat_val, DX1_mat_val, DX_ohe_val, hosp_array_val], Y_val], \n",
    "                verbose=2)"
   ]
  }
 ],
 "metadata": {
  "kernelspec": {
   "display_name": "Python 3",
   "language": "python",
   "name": "python3"
  },
  "language_info": {
   "codemirror_mode": {
    "name": "ipython",
    "version": 3
   },
   "file_extension": ".py",
   "mimetype": "text/x-python",
   "name": "python",
   "nbconvert_exporter": "python",
   "pygments_lexer": "ipython3",
   "version": "3.5.4"
  }
 },
 "nbformat": 4,
 "nbformat_minor": 2
}
