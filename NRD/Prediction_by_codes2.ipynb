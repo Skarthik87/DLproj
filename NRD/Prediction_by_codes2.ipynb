{
 "cells": [
  {
   "cell_type": "markdown",
   "metadata": {},
   "source": [
    "# Prediction by Diagnosis Codes\n",
    "In this notebook we use some fancier networks. "
   ]
  },
  {
   "cell_type": "code",
   "execution_count": 1,
   "metadata": {},
   "outputs": [],
   "source": [
    "import pandas as pd\n",
    "import numpy as np\n",
    "import matplotlib.pyplot as plt\n",
    "#import statsmodels.api as sm\n",
    "from sklearn.model_selection import train_test_split\n",
    "import os, sys\n",
    "\n",
    "%matplotlib inline"
   ]
  },
  {
   "cell_type": "code",
   "execution_count": 2,
   "metadata": {},
   "outputs": [],
   "source": [
    "path = '/nfs/turbo/intmed-bnallamo-turbo/wsliu/Data/NRD/'"
   ]
  },
  {
   "cell_type": "code",
   "execution_count": 2,
   "metadata": {},
   "outputs": [],
   "source": [
    "path = '/nfs/turbo/umms-awaljee/wsliu/Data/NRD/'"
   ]
  },
  {
   "cell_type": "code",
   "execution_count": 3,
   "metadata": {},
   "outputs": [],
   "source": [
    "model_path = path + 'models/'\n",
    "if not os.path.exists(model_path): os.mkdir(model_path)"
   ]
  },
  {
   "cell_type": "code",
   "execution_count": 4,
   "metadata": {
    "scrolled": true
   },
   "outputs": [
    {
     "name": "stderr",
     "output_type": "stream",
     "text": [
      "Using TensorFlow backend.\n"
     ]
    }
   ],
   "source": [
    "from keras.layers import Input, Embedding, concatenate, Reshape, BatchNormalization, add, LSTM, CuDNNLSTM, CuDNNGRU, Lambda\n",
    "from keras.models import Model\n",
    "from keras.layers.core import Dense, Activation, Dropout\n",
    "from keras.callbacks import ModelCheckpoint, ReduceLROnPlateau, EarlyStopping\n",
    "from keras.utils import to_categorical\n",
    "from keras.optimizers import Adam\n",
    "import keras.backend as K"
   ]
  },
  {
   "cell_type": "code",
   "execution_count": 5,
   "metadata": {},
   "outputs": [],
   "source": [
    "module_path = os.path.abspath(os.path.join('..'))\n",
    "if module_path not in sys.path:\n",
    "    sys.path.append(module_path)\n",
    "from DL_utils import plot_roc\n",
    "from keras_addon import AUCCheckPoint"
   ]
  },
  {
   "cell_type": "markdown",
   "metadata": {},
   "source": [
    "## Data Preparation"
   ]
  },
  {
   "cell_type": "code",
   "execution_count": 6,
   "metadata": {},
   "outputs": [],
   "source": [
    "core_dtypes_pd = {'AGE': float,\n",
    " 'AWEEKEND': float,\n",
    " 'DIED': float,\n",
    " 'DISCWT': float,\n",
    " 'DISPUNIFORM': float,\n",
    " 'DMONTH': float,\n",
    " 'DQTR': float,\n",
    " 'DRG': float,\n",
    " 'DRGVER': float,\n",
    " 'DRG_NoPOA': float,\n",
    " 'DX1': bytes,\n",
    " 'DX10': bytes,\n",
    " 'DX11': bytes,\n",
    " 'DX12': bytes,\n",
    " 'DX13': bytes,\n",
    " 'DX14': bytes,\n",
    " 'DX15': bytes,\n",
    " 'DX16': bytes,\n",
    " 'DX17': bytes,\n",
    " 'DX18': bytes,\n",
    " 'DX19': bytes,\n",
    " 'DX2': bytes,\n",
    " 'DX20': bytes,\n",
    " 'DX21': bytes,\n",
    " 'DX22': bytes,\n",
    " 'DX23': bytes,\n",
    " 'DX24': bytes,\n",
    " 'DX25': bytes,\n",
    " 'DX26': bytes,\n",
    " 'DX27': bytes,\n",
    " 'DX28': bytes,\n",
    " 'DX29': bytes,\n",
    " 'DX3': bytes,\n",
    " 'DX30': bytes,\n",
    " 'DX4': bytes,\n",
    " 'DX5': bytes,\n",
    " 'DX6': bytes,\n",
    " 'DX7': bytes,\n",
    " 'DX8': bytes,\n",
    " 'DX9': bytes,\n",
    " 'DXCCS1': float,\n",
    " 'DXCCS10': float,\n",
    " 'DXCCS11': float,\n",
    " 'DXCCS12': float,\n",
    " 'DXCCS13': float,\n",
    " 'DXCCS14': float,\n",
    " 'DXCCS15': float,\n",
    " 'DXCCS16': float,\n",
    " 'DXCCS17': float,\n",
    " 'DXCCS18': float,\n",
    " 'DXCCS19': float,\n",
    " 'DXCCS2': float,\n",
    " 'DXCCS20': float,\n",
    " 'DXCCS21': float,\n",
    " 'DXCCS22': float,\n",
    " 'DXCCS23': float,\n",
    " 'DXCCS24': float,\n",
    " 'DXCCS25': float,\n",
    " 'DXCCS26': float,\n",
    " 'DXCCS27': float,\n",
    " 'DXCCS28': float,\n",
    " 'DXCCS29': float,\n",
    " 'DXCCS3': float,\n",
    " 'DXCCS30': float,\n",
    " 'DXCCS4': float,\n",
    " 'DXCCS5': float,\n",
    " 'DXCCS6': float,\n",
    " 'DXCCS7': float,\n",
    " 'DXCCS8': float,\n",
    " 'DXCCS9': float,\n",
    " 'ECODE1': bytes,\n",
    " 'ECODE2': bytes,\n",
    " 'ECODE3': bytes,\n",
    " 'ECODE4': bytes,\n",
    " 'ELECTIVE': float,\n",
    " 'E_CCS1': float,\n",
    " 'E_CCS2': float,\n",
    " 'E_CCS3': float,\n",
    " 'E_CCS4': float,\n",
    " 'FEMALE': float,\n",
    " 'HCUP_ED': float,\n",
    " 'HOSP_NRD': float,\n",
    " 'KEY_NRD': float,\n",
    " 'LOS': float,\n",
    " 'MDC': float,\n",
    " 'MDC_NoPOA': float,\n",
    " 'NCHRONIC': float,\n",
    " 'NDX': float,\n",
    " 'NECODE': float,\n",
    " 'NPR': float,\n",
    " 'NRD_DaysToEvent': float,\n",
    " 'NRD_STRATUM': float,\n",
    " 'NRD_VisitLink': bytes,\n",
    " 'ORPROC': float,\n",
    " 'PAY1': float,\n",
    " 'PL_NCHS': float,\n",
    " 'PR1': bytes,\n",
    " 'PR10': bytes,\n",
    " 'PR11': bytes,\n",
    " 'PR12': bytes,\n",
    " 'PR13': bytes,\n",
    " 'PR14': bytes,\n",
    " 'PR15': bytes,\n",
    " 'PR2': bytes,\n",
    " 'PR3': bytes,\n",
    " 'PR4': bytes,\n",
    " 'PR5': bytes,\n",
    " 'PR6': bytes,\n",
    " 'PR7': bytes,\n",
    " 'PR8': bytes,\n",
    " 'PR9': bytes,\n",
    " 'PRCCS1': float,\n",
    " 'PRCCS10': float,\n",
    " 'PRCCS11': float,\n",
    " 'PRCCS12': float,\n",
    " 'PRCCS13': float,\n",
    " 'PRCCS14': float,\n",
    " 'PRCCS15': float,\n",
    " 'PRCCS2': float,\n",
    " 'PRCCS3': float,\n",
    " 'PRCCS4': float,\n",
    " 'PRCCS5': float,\n",
    " 'PRCCS6': float,\n",
    " 'PRCCS7': float,\n",
    " 'PRCCS8': float,\n",
    " 'PRCCS9': float,\n",
    " 'PRDAY1': float,\n",
    " 'PRDAY10': float,\n",
    " 'PRDAY11': float,\n",
    " 'PRDAY12': float,\n",
    " 'PRDAY13': float,\n",
    " 'PRDAY14': float,\n",
    " 'PRDAY15': float,\n",
    " 'PRDAY2': float,\n",
    " 'PRDAY3': float,\n",
    " 'PRDAY4': float,\n",
    " 'PRDAY5': float,\n",
    " 'PRDAY6': float,\n",
    " 'PRDAY7': float,\n",
    " 'PRDAY8': float,\n",
    " 'PRDAY9': float,\n",
    " 'REHABTRANSFER': float,\n",
    " 'RESIDENT': float,\n",
    " 'SAMEDAYEVENT': bytes,\n",
    " 'SERVICELINE': float,\n",
    " 'TOTCHG': float,\n",
    " 'YEAR': float,\n",
    " 'ZIPINC_QRTL': float}"
   ]
  },
  {
   "cell_type": "code",
   "execution_count": 8,
   "metadata": {},
   "outputs": [],
   "source": [
    "ami_index = pd.read_csv(path+'cohorts/ami_index.csv', dtype=core_dtypes_pd)\n",
    "\n",
    "train_comorb = pd.read_csv(path+'cohorts/ami/comorb_train.csv')\n",
    "tst_comorb = pd.read_csv(path+'cohorts/ami/comorb_tst.csv')\n",
    "\n",
    "train_df = ami_index[ami_index['KEY_NRD'].isin(train_comorb['KEY_NRD'])]\n",
    "tst_df = ami_index[ami_index['KEY_NRD'].isin(tst_comorb['KEY_NRD'])]\n",
    "\n",
    "N_train = len(train_df)\n",
    "N_tst = len(tst_df)\n",
    "all_df = pd.concat([train_df, tst_df])\n",
    "\n",
    "del(ami_index, train_comorb, tst_comorb)"
   ]
  },
  {
   "cell_type": "code",
   "execution_count": 9,
   "metadata": {},
   "outputs": [],
   "source": [
    "trn_df, val_df = train_test_split(train_df, test_size=0.11, stratify=train_df.HOSP_NRD)\n",
    "N_trn = len(trn_df)\n",
    "N_val = len(val_df)\n",
    "\n",
    "train_df = pd.concat([trn_df, val_df])"
   ]
  },
  {
   "cell_type": "markdown",
   "metadata": {},
   "source": [
    "Define the dictionaries for DX, DX1 and hosp, from value to int. "
   ]
  },
  {
   "cell_type": "code",
   "execution_count": 142,
   "metadata": {},
   "outputs": [],
   "source": [
    "N_DX = 29\n",
    "DXs = ['DX'+str(n) for n in range(2, N_DX+2)]\n",
    "\n",
    "DX_series = pd.concat([all_df[DX] for DX in DXs])\n",
    "DX_series = DX_series.fillna('missing')\n",
    "\n",
    "rare_cutpoint = 50\n",
    "code_freq = DX_series.value_counts()\n",
    "rare_code = code_freq[code_freq<rare_cutpoint].index\n",
    "DX_series.loc[DX_series.isin(rare_code)] = 'rare'"
   ]
  },
  {
   "cell_type": "code",
   "execution_count": 143,
   "metadata": {},
   "outputs": [],
   "source": [
    "DX_series = DX_series.astype('category')\n",
    "\n",
    "DX_cat = DX_series.cat.categories\n",
    "n_DX_cat = len(DX_cat)\n",
    "DX_series = DX_series.cat.rename_categories(range(n_DX_cat))\n",
    "\n",
    "DX_dict = dict(zip(DX_cat, range(n_DX_cat)))"
   ]
  },
  {
   "cell_type": "code",
   "execution_count": 144,
   "metadata": {},
   "outputs": [
    {
     "data": {
      "text/plain": [
       "1339"
      ]
     },
     "execution_count": 144,
     "metadata": {},
     "output_type": "execute_result"
    }
   ],
   "source": [
    "n_DX_cat"
   ]
  },
  {
   "cell_type": "code",
   "execution_count": 14,
   "metadata": {},
   "outputs": [],
   "source": [
    "DX1_series = all_df['DX1'].astype('category')\n",
    "DX1_cat = DX1_series.cat.categories\n",
    "DX1_int_cat = range(len(DX1_cat))\n",
    "\n",
    "DX1_dict = dict(zip(DX1_cat, DX1_int_cat))"
   ]
  },
  {
   "cell_type": "code",
   "execution_count": 15,
   "metadata": {},
   "outputs": [],
   "source": [
    "hosp_series = all_df['HOSP_NRD'].astype('category')\n",
    "hosp_cat = hosp_series.cat.categories\n",
    "\n",
    "hosp_dict = dict(zip(hosp_cat, range(len(hosp_cat))))"
   ]
  },
  {
   "cell_type": "markdown",
   "metadata": {},
   "source": [
    "## LSTM with Raw ICD9 codes"
   ]
  },
  {
   "cell_type": "code",
   "execution_count": 106,
   "metadata": {},
   "outputs": [],
   "source": [
    "N_DX = 29\n",
    "DXs = ['DX'+str(n) for n in range(2, N_DX+2)]"
   ]
  },
  {
   "cell_type": "code",
   "execution_count": 145,
   "metadata": {},
   "outputs": [],
   "source": [
    "DX_df = train_df[DXs]\n",
    "DX_df = DX_df.fillna('missing')\n",
    "DX_df[DX_df.isin(rare_code)] = 'rare'\n",
    "\n",
    "for dx in DXs:\n",
    "    DX_df[dx] = DX_df[dx].map(DX_dict)\n",
    "\n",
    "DX_mat = DX_df.values\n",
    "DX_mat_trn = DX_df.values[:N_trn, ]\n",
    "DX_mat_val = DX_df.values[N_trn:, ]"
   ]
  },
  {
   "cell_type": "code",
   "execution_count": 20,
   "metadata": {},
   "outputs": [],
   "source": [
    "DX_ohe = np.zeros((len(train_df), n_DX_cat))\n",
    "\n",
    "for j in range(DX_mat.shape[0]):\n",
    "    for i in range(DX_mat.shape[1]):\n",
    "        DX_ohe[j, DX_mat[j, i]] = 1\n",
    "\n",
    "DX_ohe_trn = DX_ohe[:N_trn, ]\n",
    "DX_ohe_val = DX_ohe[N_trn:, ]"
   ]
  },
  {
   "cell_type": "code",
   "execution_count": 21,
   "metadata": {},
   "outputs": [],
   "source": [
    "demo_mat = train_df[['AGE', 'FEMALE']].values\n",
    "\n",
    "age_mean = train_df['AGE'].mean()\n",
    "age_std = train_df['AGE'].std()\n",
    "\n",
    "demo_mat[:, 0] = (demo_mat[:, 0]-age_mean)/age_std\n",
    "\n",
    "demo_mat_trn = demo_mat[:N_trn, ]\n",
    "demo_mat_val = demo_mat[N_trn:, ]"
   ]
  },
  {
   "cell_type": "code",
   "execution_count": 22,
   "metadata": {},
   "outputs": [],
   "source": [
    "hosp_series = train_df['HOSP_NRD'].map(hosp_dict)\n",
    "hosp_array = hosp_series.values\n",
    "\n",
    "hosp_array_trn = hosp_array[:N_trn]\n",
    "hosp_array_val = hosp_array[N_trn:]"
   ]
  },
  {
   "cell_type": "code",
   "execution_count": 23,
   "metadata": {},
   "outputs": [],
   "source": [
    "DX1_series = train_df['DX1'].map(DX1_dict)\n",
    "\n",
    "DX1_mat = np.zeros((len(DX1_series), len(DX1_dict)))\n",
    "for i, dx1 in enumerate(DX1_series.values):\n",
    "    DX1_mat[i, dx1] = 1\n",
    "\n",
    "DX1_mat_trn = DX1_mat[:N_trn, ]\n",
    "DX1_mat_val = DX1_mat[N_trn:, ]"
   ]
  },
  {
   "cell_type": "code",
   "execution_count": 24,
   "metadata": {},
   "outputs": [],
   "source": [
    "y = train_df['readm30'].values.astype(int)\n",
    "\n",
    "Y_trn = to_categorical(y[:N_trn])\n",
    "Y_val = to_categorical(y[N_trn:])"
   ]
  },
  {
   "cell_type": "markdown",
   "metadata": {},
   "source": [
    "### Model Building with Embedding"
   ]
  },
  {
   "cell_type": "code",
   "execution_count": 129,
   "metadata": {},
   "outputs": [],
   "source": [
    "DX_embed_dim = 50\n",
    "hosp_embed_dim = 1"
   ]
  },
  {
   "cell_type": "code",
   "execution_count": 146,
   "metadata": {},
   "outputs": [],
   "source": [
    "input_DX = Input(shape = (N_DX,))\n",
    "DX_embed = Embedding(input_dim=n_DX_cat, output_dim=DX_embed_dim, input_length=N_DX)(input_DX)\n",
    "\n",
    "#DX_out, _, DX_feature = CuDNNLSTM(DX_embed_dim, return_sequences=False, return_state=True)(DX_embed)\n",
    "#DX_feature = Lambda(lambda x: K.sum(x, axis=1))(DX_embed)\n",
    "DX_feature = CuDNNLSTM(DX_embed_dim, return_sequences=False)(DX_embed)\n",
    "\n",
    "input_demo = Input(shape=(2, ))\n",
    "\n",
    "input_DX1 = Input(shape=(len(DX1_cat),))\n",
    "\n",
    "input_hosp = Input(shape=(1,))\n",
    "hosp_embed = Embedding(input_dim=len(hosp_cat), output_dim=hosp_embed_dim, input_length=1)(input_hosp)\n",
    "hosp_embed = Reshape((hosp_embed_dim, ))(hosp_embed)\n",
    "\n",
    "merged = concatenate([input_demo, input_DX1, DX_feature, hosp_embed], axis=1)\n",
    "\n",
    "x = Dense(128, activation='relu')(merged)\n",
    "x = Dense(32, activation='relu')(x)\n",
    "x = Dropout(0.5)(x)\n",
    "\n",
    "prediction = Dense(2, activation='softmax')(x)\n",
    "model = Model(inputs=[input_demo, input_DX1, input_DX, input_hosp], outputs=prediction)"
   ]
  },
  {
   "cell_type": "code",
   "execution_count": 68,
   "metadata": {
    "collapsed": true
   },
   "outputs": [
    {
     "name": "stdout",
     "output_type": "stream",
     "text": [
      "__________________________________________________________________________________________________\n",
      "Layer (type)                    Output Shape         Param #     Connected to                     \n",
      "==================================================================================================\n",
      "input_17 (InputLayer)           (None, 29)           0                                            \n",
      "__________________________________________________________________________________________________\n",
      "input_20 (InputLayer)           (None, 1)            0                                            \n",
      "__________________________________________________________________________________________________\n",
      "embedding_7 (Embedding)         (None, 29, 50)       266400      input_17[0][0]                   \n",
      "__________________________________________________________________________________________________\n",
      "embedding_8 (Embedding)         (None, 1, 1)         869         input_20[0][0]                   \n",
      "__________________________________________________________________________________________________\n",
      "input_18 (InputLayer)           (None, 2)            0                                            \n",
      "__________________________________________________________________________________________________\n",
      "input_19 (InputLayer)           (None, 20)           0                                            \n",
      "__________________________________________________________________________________________________\n",
      "cu_dnnlstm_1 (CuDNNLSTM)        (None, 50)           20400       embedding_7[0][0]                \n",
      "__________________________________________________________________________________________________\n",
      "reshape_5 (Reshape)             (None, 1)            0           embedding_8[0][0]                \n",
      "__________________________________________________________________________________________________\n",
      "concatenate_5 (Concatenate)     (None, 73)           0           input_18[0][0]                   \n",
      "                                                                 input_19[0][0]                   \n",
      "                                                                 cu_dnnlstm_1[0][0]               \n",
      "                                                                 reshape_5[0][0]                  \n",
      "__________________________________________________________________________________________________\n",
      "dense_15 (Dense)                (None, 128)          9472        concatenate_5[0][0]              \n",
      "__________________________________________________________________________________________________\n",
      "dense_16 (Dense)                (None, 32)           4128        dense_15[0][0]                   \n",
      "__________________________________________________________________________________________________\n",
      "dropout_5 (Dropout)             (None, 32)           0           dense_16[0][0]                   \n",
      "__________________________________________________________________________________________________\n",
      "dense_17 (Dense)                (None, 2)            66          dropout_5[0][0]                  \n",
      "==================================================================================================\n",
      "Total params: 301,335\n",
      "Trainable params: 301,335\n",
      "Non-trainable params: 0\n",
      "__________________________________________________________________________________________________\n"
     ]
    }
   ],
   "source": [
    "model.summary()"
   ]
  },
  {
   "cell_type": "code",
   "execution_count": 147,
   "metadata": {},
   "outputs": [],
   "source": [
    "adam = Adam(lr=0.0002)\n",
    "model.compile(optimizer=adam, loss='categorical_crossentropy', metrics=['accuracy'])"
   ]
  },
  {
   "cell_type": "code",
   "execution_count": 148,
   "metadata": {},
   "outputs": [],
   "source": [
    "checkpoint = ModelCheckpoint(filepath=model_path+'ami_icd9_lstm_valloss1.h5', save_best_only=True, save_weights_only=True)\n",
    "auccheckpoint = AUCCheckPoint(filepath=model_path+'ami_icd9_lstm_auc1.h5', validation_y=Y_val[:, 1], \n",
    "                             validation_x=[demo_mat_val, DX1_mat_val, DX_mat_val, hosp_array_val])\n",
    "reduce_lr = ReduceLROnPlateau(monitor='loss', factor=0.2, patience=3, min_lr=1.e-8)\n",
    "earlystop = EarlyStopping(monitor='val_loss', patience=20)"
   ]
  },
  {
   "cell_type": "code",
   "execution_count": 149,
   "metadata": {},
   "outputs": [],
   "source": [
    "class_weight = {0:(Y_trn.shape[0]/sum(Y_trn[:, 0])), 1:(Y_trn.shape[0]/sum(Y_trn[:, 1]))}"
   ]
  },
  {
   "cell_type": "code",
   "execution_count": 150,
   "metadata": {
    "scrolled": true
   },
   "outputs": [
    {
     "name": "stdout",
     "output_type": "stream",
     "text": [
      "Train on 145667 samples, validate on 18004 samples\n",
      "Epoch 1/20\n",
      "145667/145667 [==============================] - 3s 23us/step - loss: 1.3184 - acc: 0.6007 - val_loss: 0.6395 - val_acc: 0.5991\n",
      "AUC: 0.6896\n",
      "\n",
      "Epoch 2/20\n",
      "145667/145667 [==============================] - 2s 15us/step - loss: 1.2609 - acc: 0.6178 - val_loss: 0.6346 - val_acc: 0.6035\n",
      "AUC: 0.6955\n",
      "\n",
      "Epoch 3/20\n",
      "145667/145667 [==============================] - 2s 15us/step - loss: 1.2497 - acc: 0.6205 - val_loss: 0.6506 - val_acc: 0.5970\n",
      "AUC: 0.6957\n",
      "\n",
      "Epoch 4/20\n",
      "145667/145667 [==============================] - 2s 15us/step - loss: 1.2427 - acc: 0.6249 - val_loss: 0.6191 - val_acc: 0.6244\n",
      "AUC: 0.6966\n",
      "\n",
      "Epoch 5/20\n",
      "145667/145667 [==============================] - 2s 15us/step - loss: 1.2401 - acc: 0.6250 - val_loss: 0.5905 - val_acc: 0.6412\n",
      "AUC: 0.6957\n",
      "\n",
      "Epoch 6/20\n",
      "145667/145667 [==============================] - 2s 15us/step - loss: 1.2357 - acc: 0.6234 - val_loss: 0.6054 - val_acc: 0.6371\n",
      "AUC: 0.6947\n",
      "\n",
      "Epoch 7/20\n",
      "145667/145667 [==============================] - 2s 15us/step - loss: 1.2337 - acc: 0.6245 - val_loss: 0.5594 - val_acc: 0.6606\n",
      "AUC: 0.6946\n",
      "\n",
      "Epoch 8/20\n",
      "145667/145667 [==============================] - 2s 15us/step - loss: 1.2292 - acc: 0.6241 - val_loss: 0.6514 - val_acc: 0.5904\n",
      "AUC: 0.6940\n",
      "\n",
      "Epoch 9/20\n",
      "145667/145667 [==============================] - 2s 15us/step - loss: 1.2254 - acc: 0.6247 - val_loss: 0.6189 - val_acc: 0.6135\n",
      "AUC: 0.6950\n",
      "\n",
      "Epoch 10/20\n",
      "145667/145667 [==============================] - 2s 15us/step - loss: 1.2216 - acc: 0.6259 - val_loss: 0.6083 - val_acc: 0.6219\n",
      "AUC: 0.6947\n",
      "\n",
      "Epoch 11/20\n",
      "145667/145667 [==============================] - 2s 15us/step - loss: 1.2194 - acc: 0.6206 - val_loss: 0.6503 - val_acc: 0.5798\n",
      "AUC: 0.6931\n",
      "\n",
      "Epoch 12/20\n",
      "145667/145667 [==============================] - 2s 15us/step - loss: 1.2157 - acc: 0.6185 - val_loss: 0.6253 - val_acc: 0.6112\n",
      "AUC: 0.6931\n",
      "\n",
      "Epoch 13/20\n",
      "145667/145667 [==============================] - 2s 15us/step - loss: 1.2126 - acc: 0.6175 - val_loss: 0.5847 - val_acc: 0.6294\n",
      "AUC: 0.6933\n",
      "\n",
      "Epoch 14/20\n",
      "145667/145667 [==============================] - 2s 15us/step - loss: 1.2107 - acc: 0.6169 - val_loss: 0.6553 - val_acc: 0.5683\n",
      "AUC: 0.6915\n",
      "\n",
      "Epoch 15/20\n",
      "145667/145667 [==============================] - 2s 15us/step - loss: 1.2075 - acc: 0.6121 - val_loss: 0.6135 - val_acc: 0.6050\n",
      "AUC: 0.6911\n",
      "\n",
      "Epoch 16/20\n",
      "145667/145667 [==============================] - 2s 15us/step - loss: 1.2040 - acc: 0.6112 - val_loss: 0.6428 - val_acc: 0.5781\n",
      "AUC: 0.6903\n",
      "\n",
      "Epoch 17/20\n",
      "145667/145667 [==============================] - 2s 15us/step - loss: 1.2059 - acc: 0.6071 - val_loss: 0.6333 - val_acc: 0.5808\n",
      "AUC: 0.6897\n",
      "\n",
      "Epoch 18/20\n",
      "145667/145667 [==============================] - 2s 15us/step - loss: 1.2052 - acc: 0.6053 - val_loss: 0.6265 - val_acc: 0.5960\n",
      "AUC: 0.6897\n",
      "\n",
      "Epoch 19/20\n",
      "145667/145667 [==============================] - 2s 15us/step - loss: 1.2026 - acc: 0.6047 - val_loss: 0.6438 - val_acc: 0.5824\n",
      "AUC: 0.6887\n",
      "\n",
      "Epoch 20/20\n",
      "145667/145667 [==============================] - 2s 15us/step - loss: 1.1991 - acc: 0.6049 - val_loss: 0.6404 - val_acc: 0.5741\n",
      "AUC: 0.6892\n",
      "\n"
     ]
    }
   ],
   "source": [
    "hist = model.fit([demo_mat_trn, DX1_mat_trn, DX_mat_trn, hosp_array_trn], Y_trn, \n",
    "                 batch_size=512, epochs=20, callbacks=[checkpoint, auccheckpoint, reduce_lr, earlystop], class_weight=class_weight, \n",
    "                 validation_data=[[demo_mat_val, DX1_mat_val, DX_mat_val, hosp_array_val], Y_val], \n",
    "                verbose=1)"
   ]
  },
  {
   "cell_type": "markdown",
   "metadata": {},
   "source": [
    "### Model testing"
   ]
  },
  {
   "cell_type": "code",
   "execution_count": 151,
   "metadata": {},
   "outputs": [],
   "source": [
    "DX_df_tst = tst_df[DXs]\n",
    "DX_df_tst = DX_df_tst.fillna('missing')\n",
    "DX_df_tst[DX_df_tst.isin(rare_code)] = 'rare'\n",
    "\n",
    "for dx in DXs:\n",
    "    DX_df_tst[dx] = DX_df_tst[dx].map(DX_dict)\n",
    "\n",
    "DX_mat_tst = DX_df_tst.values"
   ]
  },
  {
   "cell_type": "code",
   "execution_count": 34,
   "metadata": {},
   "outputs": [],
   "source": [
    "demo_mat_tst = tst_df[['AGE', 'FEMALE']].values\n",
    "demo_mat_tst[:, 0] = (demo_mat_tst[:, 0]-age_mean)/age_std"
   ]
  },
  {
   "cell_type": "code",
   "execution_count": 35,
   "metadata": {},
   "outputs": [],
   "source": [
    "hosp_array_tst = tst_df['HOSP_NRD'].map(hosp_dict).values"
   ]
  },
  {
   "cell_type": "code",
   "execution_count": 36,
   "metadata": {},
   "outputs": [],
   "source": [
    "DX1_series_tst = tst_df.DX1.map(DX1_dict)\n",
    "\n",
    "DX1_mat_tst = np.zeros((len(tst_df), len(DX1_dict)))\n",
    "for i, dx1 in enumerate(DX1_series_tst.values):\n",
    "    DX1_mat_tst[i, dx1] = 1"
   ]
  },
  {
   "cell_type": "code",
   "execution_count": 152,
   "metadata": {},
   "outputs": [],
   "source": [
    "model.load_weights(model_path+'ami_icd9_lstm_auc1.h5')"
   ]
  },
  {
   "cell_type": "code",
   "execution_count": 153,
   "metadata": {},
   "outputs": [
    {
     "name": "stdout",
     "output_type": "stream",
     "text": [
      "18186/18186 [==============================] - 1s 58us/step\n"
     ]
    }
   ],
   "source": [
    "y = model.predict([demo_mat_tst, DX1_mat_tst, DX_mat_tst, hosp_array_tst], verbose=1)\n",
    "\n",
    "y_pred = y[:, 1]\n",
    "y_true = tst_df.readm30.astype(int).values"
   ]
  },
  {
   "cell_type": "code",
   "execution_count": 155,
   "metadata": {},
   "outputs": [
    {
     "data": {
      "text/plain": [
       "{0: 0.7063960981175992}"
      ]
     },
     "execution_count": 155,
     "metadata": {},
     "output_type": "execute_result"
    },
    {
     "data": {
      "image/png": "[encoded data removed]",
      "text/plain": [
       "<Figure size 432x288 with 1 Axes>"
      ]
     },
     "metadata": {},
     "output_type": "display_data"
    }
   ],
   "source": [
    "plot_roc(y_pred, y_true)"
   ]
  },
  {
   "cell_type": "markdown",
   "metadata": {},
   "source": [
    "## Multi-Level CCS Codes"
   ]
  },
  {
   "cell_type": "code",
   "execution_count": 156,
   "metadata": {
    "scrolled": true
   },
   "outputs": [],
   "source": [
    "multi_ccs = pd.read_csv(path+'ccs_multi_dx_tool_2015.csv')"
   ]
  },
  {
   "cell_type": "code",
   "execution_count": 157,
   "metadata": {},
   "outputs": [],
   "source": [
    "multi_ccs.columns = ['ICD9CM_CODE', 'CCS_LVL1', 'CCS_LVL1_LABEL', 'CCS_LVL2', 'CCS_LVL2_LABEL', 'CCS_LVL3', 'CCS_LVL3_LABEL', \n",
    "                    'CCS_LVL4', 'CCS_LVL4_LABEL']"
   ]
  },
  {
   "cell_type": "code",
   "execution_count": 158,
   "metadata": {},
   "outputs": [],
   "source": [
    "multi_ccs.ICD9CM_CODE = multi_ccs.ICD9CM_CODE.apply(lambda x:x.replace(\"'\", \"\").replace(' ', ''))\n",
    "for j in range(1, 5):\n",
    "    multi_ccs['CCS_LVL'+str(j)] = multi_ccs['CCS_LVL'+str(j)].apply(lambda x:x.replace(\"'\", \"\").replace(' ', ''))"
   ]
  },
  {
   "cell_type": "code",
   "execution_count": 8,
   "metadata": {},
   "outputs": [],
   "source": [
    "multi_ccs = multi_ccs[['ICD9CM_CODE', 'CCS_LVL1', 'CCS_LVL2', 'CCS_LVL3', 'CCS_LVL4']]"
   ]
  },
  {
   "cell_type": "code",
   "execution_count": 159,
   "metadata": {},
   "outputs": [
    {
     "data": {
      "text/plain": [
       "(15072, 9)"
      ]
     },
     "execution_count": 159,
     "metadata": {},
     "output_type": "execute_result"
    }
   ],
   "source": [
    "multi_ccs.shape"
   ]
  },
  {
   "cell_type": "code",
   "execution_count": 23,
   "metadata": {},
   "outputs": [
    {
     "data": {
      "text/plain": [
       "Injury and poisoning                                                                 2764\n",
       "Residual codes; unclassified; all E codes [259. and 260.]                            1589\n",
       "Diseases of the nervous system and sense organs                                      1587\n",
       "Infectious and parasitic diseases                                                    1226\n",
       "Complications of pregnancy; childbirth; and the puerperium                           1205\n",
       "Neoplasms                                                                            1114\n",
       "Diseases of the musculoskeletal system and connective tissue                          863\n",
       "Diseases of the digestive system                                                      757\n",
       "Mental Illness                                                                        597\n",
       "Diseases of the circulatory system                                                    553\n",
       "Diseases of the genitourinary system                                                  498\n",
       "Endocrine; nutritional; and metabolic diseases and immunity disorders                 445\n",
       "Congenital anomalies                                                                  444\n",
       "Symptoms; signs; and ill-defined conditions and factors influencing health status     403\n",
       "Certain conditions originating in the perinatal period                                351\n",
       "Diseases of the respiratory system                                                    342\n",
       "Diseases of the skin and subcutaneous tissue                                          190\n",
       "Diseases of the blood and blood-forming organs                                        134\n",
       "Mental illness                                                                         10\n",
       "Name: CCS_LVL1_LABEL, dtype: int64"
      ]
     },
     "execution_count": 23,
     "metadata": {},
     "output_type": "execute_result"
    }
   ],
   "source": [
    "multi_ccs.CCS_LVL1_LABEL.value_counts()"
   ]
  },
  {
   "cell_type": "code",
   "execution_count": null,
   "metadata": {},
   "outputs": [],
   "source": []
  },
  {
   "cell_type": "code",
   "execution_count": 42,
   "metadata": {},
   "outputs": [],
   "source": [
    "ami_ccs = multi_ccs.loc[multi_ccs.ICD9CM_CODE.isin(DX_cat)]"
   ]
  },
  {
   "cell_type": "code",
   "execution_count": 56,
   "metadata": {},
   "outputs": [
    {
     "data": {
      "text/plain": [
       "(5455, 9)"
      ]
     },
     "execution_count": 56,
     "metadata": {},
     "output_type": "execute_result"
    }
   ],
   "source": [
    "ami_ccs.shape"
   ]
  },
  {
   "cell_type": "code",
   "execution_count": 26,
   "metadata": {},
   "outputs": [],
   "source": [
    "ccs_cat = pd.concat([ami_ccs.CCS_LVL1, ami_ccs.CCS_LVL2, ami_ccs.CCS_LVL3, ami_ccs.CCS_LVL4]).astype('category').cat.categories"
   ]
  },
  {
   "cell_type": "code",
   "execution_count": 16,
   "metadata": {},
   "outputs": [
    {
     "data": {
      "text/plain": [
       "728"
      ]
     },
     "execution_count": 16,
     "metadata": {},
     "output_type": "execute_result"
    }
   ],
   "source": [
    "# for all ccs category, not limited to ami\n",
    "len(ccs_cat)"
   ]
  },
  {
   "cell_type": "code",
   "execution_count": 27,
   "metadata": {},
   "outputs": [
    {
     "data": {
      "text/plain": [
       "643"
      ]
     },
     "execution_count": 27,
     "metadata": {},
     "output_type": "execute_result"
    }
   ],
   "source": [
    "len(ccs_cat)"
   ]
  },
  {
   "cell_type": "code",
   "execution_count": 43,
   "metadata": {
    "scrolled": false
   },
   "outputs": [],
   "source": [
    "ami_ccs = ami_ccs.set_index(ami_ccs.ICD9CM_CODE, drop=True).drop(['ICD9CM_CODE'], axis=1)"
   ]
  },
  {
   "cell_type": "code",
   "execution_count": 50,
   "metadata": {},
   "outputs": [],
   "source": [
    "ami_ccs['finest_non_empty'] = ami_ccs.CCS_LVL4\n",
    "ami_ccs.finest_non_empty[ami_ccs.finest_non_empty==''] = ami_ccs.CCS_LVL3[ami_ccs.finest_non_empty == '']\n",
    "ami_ccs.finest_non_empty[ami_ccs.finest_non_empty==''] = ami_ccs.CCS_LVL2[ami_ccs.finest_non_empty == '']\n",
    "ami_ccs.finest_non_empty[ami_ccs.finest_non_empty==''] = ami_ccs.CCS_LVL1[ami_ccs.finest_non_empty == '']"
   ]
  },
  {
   "cell_type": "code",
   "execution_count": 34,
   "metadata": {},
   "outputs": [],
   "source": [
    "parent_df = pd.DataFrame(dict(code=np.concatenate([DX_cat.values, ccs_cat.values]), parent = [0]*(len(ccs_cat)+len(DX_cat))))"
   ]
  },
  {
   "cell_type": "code",
   "execution_count": 63,
   "metadata": {},
   "outputs": [],
   "source": [
    "DX_parent_df = pd.DataFrame(dict(code=DX_cat))\n",
    "CCS_parent_df = pd.DataFrame(dict(code=ccs_cat))"
   ]
  },
  {
   "cell_type": "code",
   "execution_count": 71,
   "metadata": {},
   "outputs": [
    {
     "name": "stderr",
     "output_type": "stream",
     "text": [
      "/sw/lsa/centos7/python-anaconda-arc-connect/created-20170421/lib/python3.5/site-packages/pandas/core/indexing.py:1027: FutureWarning: \n",
      "Passing list-likes to .loc or [] with any missing label will raise\n",
      "KeyError in the future, you can use .reindex() as an alternative.\n",
      "\n",
      "See the documentation here:\n",
      "https://pandas.pydata.org/pandas-docs/stable/indexing.html#deprecate-loc-reindex-listlike\n",
      "  return getattr(section, self.name)[new_key]\n"
     ]
    }
   ],
   "source": [
    "DX_parent_df['parent_code'] = ami_ccs.loc[DX_parent_df.code, 'finest_non_empty'].values"
   ]
  },
  {
   "cell_type": "code",
   "execution_count": 72,
   "metadata": {},
   "outputs": [
    {
     "data": {
      "text/html": [
       "<div>\n",
       "<style scoped>\n",
       "    .dataframe tbody tr th:only-of-type {\n",
       "        vertical-align: middle;\n",
       "    }\n",
       "\n",
       "    .dataframe tbody tr th {\n",
       "        vertical-align: top;\n",
       "    }\n",
       "\n",
       "    .dataframe thead th {\n",
       "        text-align: right;\n",
       "    }\n",
       "</style>\n",
       "<table border=\"1\" class=\"dataframe\">\n",
       "  <thead>\n",
       "    <tr style=\"text-align: right;\">\n",
       "      <th></th>\n",
       "      <th>code</th>\n",
       "      <th>parent_code</th>\n",
       "    </tr>\n",
       "  </thead>\n",
       "  <tbody>\n",
       "    <tr>\n",
       "      <th>0</th>\n",
       "      <td>0030</td>\n",
       "      <td>9.1</td>\n",
       "    </tr>\n",
       "    <tr>\n",
       "      <th>1</th>\n",
       "      <td>0031</td>\n",
       "      <td>1.1.2.5</td>\n",
       "    </tr>\n",
       "    <tr>\n",
       "      <th>2</th>\n",
       "      <td>0039</td>\n",
       "      <td>9.1</td>\n",
       "    </tr>\n",
       "    <tr>\n",
       "      <th>3</th>\n",
       "      <td>0040</td>\n",
       "      <td>9.1</td>\n",
       "    </tr>\n",
       "    <tr>\n",
       "      <th>4</th>\n",
       "      <td>0048</td>\n",
       "      <td>9.1</td>\n",
       "    </tr>\n",
       "    <tr>\n",
       "      <th>5</th>\n",
       "      <td>0050</td>\n",
       "      <td>9.1</td>\n",
       "    </tr>\n",
       "    <tr>\n",
       "      <th>6</th>\n",
       "      <td>00589</td>\n",
       "      <td>9.1</td>\n",
       "    </tr>\n",
       "    <tr>\n",
       "      <th>7</th>\n",
       "      <td>0059</td>\n",
       "      <td>9.1</td>\n",
       "    </tr>\n",
       "    <tr>\n",
       "      <th>8</th>\n",
       "      <td>0066</td>\n",
       "      <td>9.1</td>\n",
       "    </tr>\n",
       "    <tr>\n",
       "      <th>9</th>\n",
       "      <td>0071</td>\n",
       "      <td>9.1</td>\n",
       "    </tr>\n",
       "    <tr>\n",
       "      <th>10</th>\n",
       "      <td>0074</td>\n",
       "      <td>9.1</td>\n",
       "    </tr>\n",
       "    <tr>\n",
       "      <th>11</th>\n",
       "      <td>00800</td>\n",
       "      <td>9.1</td>\n",
       "    </tr>\n",
       "    <tr>\n",
       "      <th>12</th>\n",
       "      <td>00804</td>\n",
       "      <td>9.1</td>\n",
       "    </tr>\n",
       "    <tr>\n",
       "      <th>13</th>\n",
       "      <td>0082</td>\n",
       "      <td>9.1</td>\n",
       "    </tr>\n",
       "    <tr>\n",
       "      <th>14</th>\n",
       "      <td>00843</td>\n",
       "      <td>9.1</td>\n",
       "    </tr>\n",
       "    <tr>\n",
       "      <th>15</th>\n",
       "      <td>00845</td>\n",
       "      <td>9.1</td>\n",
       "    </tr>\n",
       "    <tr>\n",
       "      <th>16</th>\n",
       "      <td>00846</td>\n",
       "      <td>9.1</td>\n",
       "    </tr>\n",
       "    <tr>\n",
       "      <th>17</th>\n",
       "      <td>0085</td>\n",
       "      <td>9.1</td>\n",
       "    </tr>\n",
       "    <tr>\n",
       "      <th>18</th>\n",
       "      <td>00863</td>\n",
       "      <td>9.1</td>\n",
       "    </tr>\n",
       "    <tr>\n",
       "      <th>19</th>\n",
       "      <td>00869</td>\n",
       "      <td>9.1</td>\n",
       "    </tr>\n",
       "    <tr>\n",
       "      <th>20</th>\n",
       "      <td>0088</td>\n",
       "      <td>9.1</td>\n",
       "    </tr>\n",
       "    <tr>\n",
       "      <th>21</th>\n",
       "      <td>0090</td>\n",
       "      <td>9.1</td>\n",
       "    </tr>\n",
       "    <tr>\n",
       "      <th>22</th>\n",
       "      <td>0091</td>\n",
       "      <td>9.1</td>\n",
       "    </tr>\n",
       "    <tr>\n",
       "      <th>23</th>\n",
       "      <td>0092</td>\n",
       "      <td>9.1</td>\n",
       "    </tr>\n",
       "    <tr>\n",
       "      <th>24</th>\n",
       "      <td>0093</td>\n",
       "      <td>9.1</td>\n",
       "    </tr>\n",
       "    <tr>\n",
       "      <th>25</th>\n",
       "      <td>01120</td>\n",
       "      <td>1.1.1</td>\n",
       "    </tr>\n",
       "    <tr>\n",
       "      <th>26</th>\n",
       "      <td>01180</td>\n",
       "      <td>1.1.1</td>\n",
       "    </tr>\n",
       "    <tr>\n",
       "      <th>27</th>\n",
       "      <td>01190</td>\n",
       "      <td>1.1.1</td>\n",
       "    </tr>\n",
       "    <tr>\n",
       "      <th>28</th>\n",
       "      <td>01191</td>\n",
       "      <td>1.1.1</td>\n",
       "    </tr>\n",
       "    <tr>\n",
       "      <th>29</th>\n",
       "      <td>01193</td>\n",
       "      <td>1.1.1</td>\n",
       "    </tr>\n",
       "    <tr>\n",
       "      <th>...</th>\n",
       "      <td>...</td>\n",
       "      <td>...</td>\n",
       "    </tr>\n",
       "    <tr>\n",
       "      <th>5428</th>\n",
       "      <td>V8545</td>\n",
       "      <td>3.11.2</td>\n",
       "    </tr>\n",
       "    <tr>\n",
       "      <th>5429</th>\n",
       "      <td>V860</td>\n",
       "      <td>18</td>\n",
       "    </tr>\n",
       "    <tr>\n",
       "      <th>5430</th>\n",
       "      <td>V861</td>\n",
       "      <td>18</td>\n",
       "    </tr>\n",
       "    <tr>\n",
       "      <th>5431</th>\n",
       "      <td>V8702</td>\n",
       "      <td>18</td>\n",
       "    </tr>\n",
       "    <tr>\n",
       "      <th>5432</th>\n",
       "      <td>V8709</td>\n",
       "      <td>18</td>\n",
       "    </tr>\n",
       "    <tr>\n",
       "      <th>5433</th>\n",
       "      <td>V8719</td>\n",
       "      <td>18</td>\n",
       "    </tr>\n",
       "    <tr>\n",
       "      <th>5434</th>\n",
       "      <td>V872</td>\n",
       "      <td>18</td>\n",
       "    </tr>\n",
       "    <tr>\n",
       "      <th>5435</th>\n",
       "      <td>V8731</td>\n",
       "      <td>18</td>\n",
       "    </tr>\n",
       "    <tr>\n",
       "      <th>5436</th>\n",
       "      <td>V8739</td>\n",
       "      <td>18</td>\n",
       "    </tr>\n",
       "    <tr>\n",
       "      <th>5437</th>\n",
       "      <td>V8741</td>\n",
       "      <td>18</td>\n",
       "    </tr>\n",
       "    <tr>\n",
       "      <th>5438</th>\n",
       "      <td>V8743</td>\n",
       "      <td>18</td>\n",
       "    </tr>\n",
       "    <tr>\n",
       "      <th>5439</th>\n",
       "      <td>V8744</td>\n",
       "      <td>18</td>\n",
       "    </tr>\n",
       "    <tr>\n",
       "      <th>5440</th>\n",
       "      <td>V8745</td>\n",
       "      <td>18</td>\n",
       "    </tr>\n",
       "    <tr>\n",
       "      <th>5441</th>\n",
       "      <td>V8746</td>\n",
       "      <td>18</td>\n",
       "    </tr>\n",
       "    <tr>\n",
       "      <th>5442</th>\n",
       "      <td>V8749</td>\n",
       "      <td>18</td>\n",
       "    </tr>\n",
       "    <tr>\n",
       "      <th>5443</th>\n",
       "      <td>V8801</td>\n",
       "      <td>18</td>\n",
       "    </tr>\n",
       "    <tr>\n",
       "      <th>5444</th>\n",
       "      <td>V8802</td>\n",
       "      <td>18</td>\n",
       "    </tr>\n",
       "    <tr>\n",
       "      <th>5445</th>\n",
       "      <td>V8803</td>\n",
       "      <td>18</td>\n",
       "    </tr>\n",
       "    <tr>\n",
       "      <th>5446</th>\n",
       "      <td>V8811</td>\n",
       "      <td>18</td>\n",
       "    </tr>\n",
       "    <tr>\n",
       "      <th>5447</th>\n",
       "      <td>V8812</td>\n",
       "      <td>18</td>\n",
       "    </tr>\n",
       "    <tr>\n",
       "      <th>5448</th>\n",
       "      <td>V8822</td>\n",
       "      <td>13.9</td>\n",
       "    </tr>\n",
       "    <tr>\n",
       "      <th>5449</th>\n",
       "      <td>V8829</td>\n",
       "      <td>13.9</td>\n",
       "    </tr>\n",
       "    <tr>\n",
       "      <th>5450</th>\n",
       "      <td>V9010</td>\n",
       "      <td>16.12</td>\n",
       "    </tr>\n",
       "    <tr>\n",
       "      <th>5451</th>\n",
       "      <td>V9011</td>\n",
       "      <td>16.12</td>\n",
       "    </tr>\n",
       "    <tr>\n",
       "      <th>5452</th>\n",
       "      <td>V9032</td>\n",
       "      <td>16.12</td>\n",
       "    </tr>\n",
       "    <tr>\n",
       "      <th>5453</th>\n",
       "      <td>V9081</td>\n",
       "      <td>16.12</td>\n",
       "    </tr>\n",
       "    <tr>\n",
       "      <th>5454</th>\n",
       "      <td>V9089</td>\n",
       "      <td>16.12</td>\n",
       "    </tr>\n",
       "    <tr>\n",
       "      <th>5455</th>\n",
       "      <td>incn</td>\n",
       "      <td>NaN</td>\n",
       "    </tr>\n",
       "    <tr>\n",
       "      <th>5456</th>\n",
       "      <td>invl</td>\n",
       "      <td>NaN</td>\n",
       "    </tr>\n",
       "    <tr>\n",
       "      <th>5457</th>\n",
       "      <td>missing</td>\n",
       "      <td>NaN</td>\n",
       "    </tr>\n",
       "  </tbody>\n",
       "</table>\n",
       "<p>5458 rows × 2 columns</p>\n",
       "</div>"
      ],
      "text/plain": [
       "         code parent_code\n",
       "0        0030         9.1\n",
       "1        0031     1.1.2.5\n",
       "2        0039         9.1\n",
       "3        0040         9.1\n",
       "4        0048         9.1\n",
       "5        0050         9.1\n",
       "6       00589         9.1\n",
       "7        0059         9.1\n",
       "8        0066         9.1\n",
       "9        0071         9.1\n",
       "10       0074         9.1\n",
       "11      00800         9.1\n",
       "12      00804         9.1\n",
       "13       0082         9.1\n",
       "14      00843         9.1\n",
       "15      00845         9.1\n",
       "16      00846         9.1\n",
       "17       0085         9.1\n",
       "18      00863         9.1\n",
       "19      00869         9.1\n",
       "20       0088         9.1\n",
       "21       0090         9.1\n",
       "22       0091         9.1\n",
       "23       0092         9.1\n",
       "24       0093         9.1\n",
       "25      01120       1.1.1\n",
       "26      01180       1.1.1\n",
       "27      01190       1.1.1\n",
       "28      01191       1.1.1\n",
       "29      01193       1.1.1\n",
       "...       ...         ...\n",
       "5428    V8545      3.11.2\n",
       "5429     V860          18\n",
       "5430     V861          18\n",
       "5431    V8702          18\n",
       "5432    V8709          18\n",
       "5433    V8719          18\n",
       "5434     V872          18\n",
       "5435    V8731          18\n",
       "5436    V8739          18\n",
       "5437    V8741          18\n",
       "5438    V8743          18\n",
       "5439    V8744          18\n",
       "5440    V8745          18\n",
       "5441    V8746          18\n",
       "5442    V8749          18\n",
       "5443    V8801          18\n",
       "5444    V8802          18\n",
       "5445    V8803          18\n",
       "5446    V8811          18\n",
       "5447    V8812          18\n",
       "5448    V8822        13.9\n",
       "5449    V8829        13.9\n",
       "5450    V9010       16.12\n",
       "5451    V9011       16.12\n",
       "5452    V9032       16.12\n",
       "5453    V9081       16.12\n",
       "5454    V9089       16.12\n",
       "5455     incn         NaN\n",
       "5456     invl         NaN\n",
       "5457  missing         NaN\n",
       "\n",
       "[5458 rows x 2 columns]"
      ]
     },
     "execution_count": 72,
     "metadata": {},
     "output_type": "execute_result"
    }
   ],
   "source": [
    "DX_parent_df"
   ]
  },
  {
   "cell_type": "code",
   "execution_count": 67,
   "metadata": {},
   "outputs": [
    {
     "name": "stderr",
     "output_type": "stream",
     "text": [
      "/sw/lsa/centos7/python-anaconda-arc-connect/created-20170421/lib/python3.5/site-packages/pandas/core/indexing.py:1027: FutureWarning: \n",
      "Passing list-likes to .loc or [] with any missing label will raise\n",
      "KeyError in the future, you can use .reindex() as an alternative.\n",
      "\n",
      "See the documentation here:\n",
      "https://pandas.pydata.org/pandas-docs/stable/indexing.html#deprecate-loc-reindex-listlike\n",
      "  return getattr(section, self.name)[new_key]\n"
     ]
    },
    {
     "data": {
      "text/plain": [
       "ICD9CM_CODE\n",
       "0030           9.1\n",
       "0031       1.1.2.5\n",
       "0039           9.1\n",
       "0040           9.1\n",
       "0048           9.1\n",
       "0050           9.1\n",
       "00589          9.1\n",
       "0059           9.1\n",
       "0066           9.1\n",
       "0071           9.1\n",
       "0074           9.1\n",
       "00800          9.1\n",
       "00804          9.1\n",
       "0082           9.1\n",
       "00843          9.1\n",
       "00845          9.1\n",
       "00846          9.1\n",
       "0085           9.1\n",
       "00863          9.1\n",
       "00869          9.1\n",
       "0088           9.1\n",
       "0090           9.1\n",
       "0091           9.1\n",
       "0092           9.1\n",
       "0093           9.1\n",
       "01120        1.1.1\n",
       "01180        1.1.1\n",
       "01190        1.1.1\n",
       "01191        1.1.1\n",
       "01193        1.1.1\n",
       "            ...   \n",
       "V8545       3.11.2\n",
       "V860            18\n",
       "V861            18\n",
       "V8702           18\n",
       "V8709           18\n",
       "V8719           18\n",
       "V872            18\n",
       "V8731           18\n",
       "V8739           18\n",
       "V8741           18\n",
       "V8743           18\n",
       "V8744           18\n",
       "V8745           18\n",
       "V8746           18\n",
       "V8749           18\n",
       "V8801           18\n",
       "V8802           18\n",
       "V8803           18\n",
       "V8811           18\n",
       "V8812           18\n",
       "V8822         13.9\n",
       "V8829         13.9\n",
       "V9010        16.12\n",
       "V9011        16.12\n",
       "V9032        16.12\n",
       "V9081        16.12\n",
       "V9089        16.12\n",
       "incn           NaN\n",
       "invl           NaN\n",
       "missing        NaN\n",
       "Name: finest_non_empty, Length: 5458, dtype: object"
      ]
     },
     "execution_count": 67,
     "metadata": {},
     "output_type": "execute_result"
    }
   ],
   "source": [
    "ami_ccs.loc[DX_parent_df.code, 'finest_non_empty']"
   ]
  },
  {
   "cell_type": "code",
   "execution_count": 57,
   "metadata": {},
   "outputs": [
    {
     "data": {
      "text/plain": [
       "(5458, 643)"
      ]
     },
     "execution_count": 57,
     "metadata": {},
     "output_type": "execute_result"
    }
   ],
   "source": [
    "len(DX_cat), len(ccs_cat)"
   ]
  },
  {
   "cell_type": "code",
   "execution_count": 58,
   "metadata": {},
   "outputs": [],
   "source": [
    "parent_df = parent_df.dropna(subset=['code'])"
   ]
  },
  {
   "cell_type": "code",
   "execution_count": 60,
   "metadata": {},
   "outputs": [
    {
     "data": {
      "text/plain": [
       "(6101, 2)"
      ]
     },
     "execution_count": 60,
     "metadata": {},
     "output_type": "execute_result"
    }
   ],
   "source": [
    "parent_df.shape"
   ]
  },
  {
   "cell_type": "code",
   "execution_count": null,
   "metadata": {},
   "outputs": [],
   "source": [
    "for code in parent_df.code:\n",
    "    parent_code = ami_ccs[code, 'finest_non_empty']"
   ]
  },
  {
   "cell_type": "code",
   "execution_count": 55,
   "metadata": {},
   "outputs": [
    {
     "name": "stderr",
     "output_type": "stream",
     "text": [
      "/sw/lsa/centos7/python-anaconda-arc-connect/created-20170421/lib/python3.5/site-packages/pandas/core/indexing.py:1027: FutureWarning: \n",
      "Passing list-likes to .loc or [] with any missing label will raise\n",
      "KeyError in the future, you can use .reindex() as an alternative.\n",
      "\n",
      "See the documentation here:\n",
      "https://pandas.pydata.org/pandas-docs/stable/indexing.html#deprecate-loc-reindex-listlike\n",
      "  return getattr(section, self.name)[new_key]\n"
     ]
    },
    {
     "data": {
      "text/plain": [
       "ICD9CM_CODE\n",
       "0030           9.1\n",
       "0031       1.1.2.5\n",
       "0039           9.1\n",
       "0040           9.1\n",
       "0048           9.1\n",
       "0050           9.1\n",
       "00589          9.1\n",
       "0059           9.1\n",
       "0066           9.1\n",
       "0071           9.1\n",
       "0074           9.1\n",
       "00800          9.1\n",
       "00804          9.1\n",
       "0082           9.1\n",
       "00843          9.1\n",
       "00845          9.1\n",
       "00846          9.1\n",
       "0085           9.1\n",
       "00863          9.1\n",
       "00869          9.1\n",
       "0088           9.1\n",
       "0090           9.1\n",
       "0091           9.1\n",
       "0092           9.1\n",
       "0093           9.1\n",
       "01120        1.1.1\n",
       "01180        1.1.1\n",
       "01190        1.1.1\n",
       "01191        1.1.1\n",
       "01193        1.1.1\n",
       "            ...   \n",
       "9.6.1.3        NaN\n",
       "9.6.1.4        NaN\n",
       "9.6.2          NaN\n",
       "9.6.3          NaN\n",
       "9.6.3.1        NaN\n",
       "9.6.3.2        NaN\n",
       "9.6.3.3        NaN\n",
       "9.6.3.4        NaN\n",
       "9.6.4          NaN\n",
       "9.6.4.1        NaN\n",
       "9.6.4.2        NaN\n",
       "9.6.5          NaN\n",
       "9.6.6          NaN\n",
       "9.7            NaN\n",
       "9.7.1          NaN\n",
       "9.7.2          NaN\n",
       "9.7.3          NaN\n",
       "9.7.4          NaN\n",
       "9.7.5          NaN\n",
       "9.7.6          NaN\n",
       "9.8            NaN\n",
       "9.8.2          NaN\n",
       "9.8.2.1        NaN\n",
       "9.8.2.2        NaN\n",
       "9.8.2.3        NaN\n",
       "9.8.2.4        NaN\n",
       "9.9            NaN\n",
       "9.9.1          NaN\n",
       "9.9.2          NaN\n",
       "9.9.3          NaN\n",
       "Name: finest_non_empty, Length: 6101, dtype: object"
      ]
     },
     "execution_count": 55,
     "metadata": {},
     "output_type": "execute_result"
    }
   ],
   "source": [
    "ami_ccs.loc[parent_df.code, 'finest_non_empty']"
   ]
  },
  {
   "cell_type": "code",
   "execution_count": 35,
   "metadata": {
    "scrolled": true
   },
   "outputs": [
    {
     "data": {
      "text/html": [
       "<div>\n",
       "<style scoped>\n",
       "    .dataframe tbody tr th:only-of-type {\n",
       "        vertical-align: middle;\n",
       "    }\n",
       "\n",
       "    .dataframe tbody tr th {\n",
       "        vertical-align: top;\n",
       "    }\n",
       "\n",
       "    .dataframe thead th {\n",
       "        text-align: right;\n",
       "    }\n",
       "</style>\n",
       "<table border=\"1\" class=\"dataframe\">\n",
       "  <thead>\n",
       "    <tr style=\"text-align: right;\">\n",
       "      <th></th>\n",
       "      <th>code</th>\n",
       "      <th>parent</th>\n",
       "    </tr>\n",
       "  </thead>\n",
       "  <tbody>\n",
       "    <tr>\n",
       "      <th>0</th>\n",
       "      <td>0030</td>\n",
       "      <td>0</td>\n",
       "    </tr>\n",
       "    <tr>\n",
       "      <th>1</th>\n",
       "      <td>0031</td>\n",
       "      <td>0</td>\n",
       "    </tr>\n",
       "    <tr>\n",
       "      <th>2</th>\n",
       "      <td>0039</td>\n",
       "      <td>0</td>\n",
       "    </tr>\n",
       "    <tr>\n",
       "      <th>3</th>\n",
       "      <td>0040</td>\n",
       "      <td>0</td>\n",
       "    </tr>\n",
       "    <tr>\n",
       "      <th>4</th>\n",
       "      <td>0048</td>\n",
       "      <td>0</td>\n",
       "    </tr>\n",
       "    <tr>\n",
       "      <th>5</th>\n",
       "      <td>0050</td>\n",
       "      <td>0</td>\n",
       "    </tr>\n",
       "    <tr>\n",
       "      <th>6</th>\n",
       "      <td>00589</td>\n",
       "      <td>0</td>\n",
       "    </tr>\n",
       "    <tr>\n",
       "      <th>7</th>\n",
       "      <td>0059</td>\n",
       "      <td>0</td>\n",
       "    </tr>\n",
       "    <tr>\n",
       "      <th>8</th>\n",
       "      <td>0066</td>\n",
       "      <td>0</td>\n",
       "    </tr>\n",
       "    <tr>\n",
       "      <th>9</th>\n",
       "      <td>0071</td>\n",
       "      <td>0</td>\n",
       "    </tr>\n",
       "    <tr>\n",
       "      <th>10</th>\n",
       "      <td>0074</td>\n",
       "      <td>0</td>\n",
       "    </tr>\n",
       "    <tr>\n",
       "      <th>11</th>\n",
       "      <td>00800</td>\n",
       "      <td>0</td>\n",
       "    </tr>\n",
       "    <tr>\n",
       "      <th>12</th>\n",
       "      <td>00804</td>\n",
       "      <td>0</td>\n",
       "    </tr>\n",
       "    <tr>\n",
       "      <th>13</th>\n",
       "      <td>0082</td>\n",
       "      <td>0</td>\n",
       "    </tr>\n",
       "    <tr>\n",
       "      <th>14</th>\n",
       "      <td>00843</td>\n",
       "      <td>0</td>\n",
       "    </tr>\n",
       "    <tr>\n",
       "      <th>15</th>\n",
       "      <td>00845</td>\n",
       "      <td>0</td>\n",
       "    </tr>\n",
       "    <tr>\n",
       "      <th>16</th>\n",
       "      <td>00846</td>\n",
       "      <td>0</td>\n",
       "    </tr>\n",
       "    <tr>\n",
       "      <th>17</th>\n",
       "      <td>0085</td>\n",
       "      <td>0</td>\n",
       "    </tr>\n",
       "    <tr>\n",
       "      <th>18</th>\n",
       "      <td>00863</td>\n",
       "      <td>0</td>\n",
       "    </tr>\n",
       "    <tr>\n",
       "      <th>19</th>\n",
       "      <td>00869</td>\n",
       "      <td>0</td>\n",
       "    </tr>\n",
       "    <tr>\n",
       "      <th>20</th>\n",
       "      <td>0088</td>\n",
       "      <td>0</td>\n",
       "    </tr>\n",
       "    <tr>\n",
       "      <th>21</th>\n",
       "      <td>0090</td>\n",
       "      <td>0</td>\n",
       "    </tr>\n",
       "    <tr>\n",
       "      <th>22</th>\n",
       "      <td>0091</td>\n",
       "      <td>0</td>\n",
       "    </tr>\n",
       "    <tr>\n",
       "      <th>23</th>\n",
       "      <td>0092</td>\n",
       "      <td>0</td>\n",
       "    </tr>\n",
       "    <tr>\n",
       "      <th>24</th>\n",
       "      <td>0093</td>\n",
       "      <td>0</td>\n",
       "    </tr>\n",
       "    <tr>\n",
       "      <th>25</th>\n",
       "      <td>01120</td>\n",
       "      <td>0</td>\n",
       "    </tr>\n",
       "    <tr>\n",
       "      <th>26</th>\n",
       "      <td>01180</td>\n",
       "      <td>0</td>\n",
       "    </tr>\n",
       "    <tr>\n",
       "      <th>27</th>\n",
       "      <td>01190</td>\n",
       "      <td>0</td>\n",
       "    </tr>\n",
       "    <tr>\n",
       "      <th>28</th>\n",
       "      <td>01191</td>\n",
       "      <td>0</td>\n",
       "    </tr>\n",
       "    <tr>\n",
       "      <th>29</th>\n",
       "      <td>01193</td>\n",
       "      <td>0</td>\n",
       "    </tr>\n",
       "    <tr>\n",
       "      <th>...</th>\n",
       "      <td>...</td>\n",
       "      <td>...</td>\n",
       "    </tr>\n",
       "    <tr>\n",
       "      <th>6071</th>\n",
       "      <td>9.6.1.3</td>\n",
       "      <td>0</td>\n",
       "    </tr>\n",
       "    <tr>\n",
       "      <th>6072</th>\n",
       "      <td>9.6.1.4</td>\n",
       "      <td>0</td>\n",
       "    </tr>\n",
       "    <tr>\n",
       "      <th>6073</th>\n",
       "      <td>9.6.2</td>\n",
       "      <td>0</td>\n",
       "    </tr>\n",
       "    <tr>\n",
       "      <th>6074</th>\n",
       "      <td>9.6.3</td>\n",
       "      <td>0</td>\n",
       "    </tr>\n",
       "    <tr>\n",
       "      <th>6075</th>\n",
       "      <td>9.6.3.1</td>\n",
       "      <td>0</td>\n",
       "    </tr>\n",
       "    <tr>\n",
       "      <th>6076</th>\n",
       "      <td>9.6.3.2</td>\n",
       "      <td>0</td>\n",
       "    </tr>\n",
       "    <tr>\n",
       "      <th>6077</th>\n",
       "      <td>9.6.3.3</td>\n",
       "      <td>0</td>\n",
       "    </tr>\n",
       "    <tr>\n",
       "      <th>6078</th>\n",
       "      <td>9.6.3.4</td>\n",
       "      <td>0</td>\n",
       "    </tr>\n",
       "    <tr>\n",
       "      <th>6079</th>\n",
       "      <td>9.6.4</td>\n",
       "      <td>0</td>\n",
       "    </tr>\n",
       "    <tr>\n",
       "      <th>6080</th>\n",
       "      <td>9.6.4.1</td>\n",
       "      <td>0</td>\n",
       "    </tr>\n",
       "    <tr>\n",
       "      <th>6081</th>\n",
       "      <td>9.6.4.2</td>\n",
       "      <td>0</td>\n",
       "    </tr>\n",
       "    <tr>\n",
       "      <th>6082</th>\n",
       "      <td>9.6.5</td>\n",
       "      <td>0</td>\n",
       "    </tr>\n",
       "    <tr>\n",
       "      <th>6083</th>\n",
       "      <td>9.6.6</td>\n",
       "      <td>0</td>\n",
       "    </tr>\n",
       "    <tr>\n",
       "      <th>6084</th>\n",
       "      <td>9.7</td>\n",
       "      <td>0</td>\n",
       "    </tr>\n",
       "    <tr>\n",
       "      <th>6085</th>\n",
       "      <td>9.7.1</td>\n",
       "      <td>0</td>\n",
       "    </tr>\n",
       "    <tr>\n",
       "      <th>6086</th>\n",
       "      <td>9.7.2</td>\n",
       "      <td>0</td>\n",
       "    </tr>\n",
       "    <tr>\n",
       "      <th>6087</th>\n",
       "      <td>9.7.3</td>\n",
       "      <td>0</td>\n",
       "    </tr>\n",
       "    <tr>\n",
       "      <th>6088</th>\n",
       "      <td>9.7.4</td>\n",
       "      <td>0</td>\n",
       "    </tr>\n",
       "    <tr>\n",
       "      <th>6089</th>\n",
       "      <td>9.7.5</td>\n",
       "      <td>0</td>\n",
       "    </tr>\n",
       "    <tr>\n",
       "      <th>6090</th>\n",
       "      <td>9.7.6</td>\n",
       "      <td>0</td>\n",
       "    </tr>\n",
       "    <tr>\n",
       "      <th>6091</th>\n",
       "      <td>9.8</td>\n",
       "      <td>0</td>\n",
       "    </tr>\n",
       "    <tr>\n",
       "      <th>6092</th>\n",
       "      <td>9.8.2</td>\n",
       "      <td>0</td>\n",
       "    </tr>\n",
       "    <tr>\n",
       "      <th>6093</th>\n",
       "      <td>9.8.2.1</td>\n",
       "      <td>0</td>\n",
       "    </tr>\n",
       "    <tr>\n",
       "      <th>6094</th>\n",
       "      <td>9.8.2.2</td>\n",
       "      <td>0</td>\n",
       "    </tr>\n",
       "    <tr>\n",
       "      <th>6095</th>\n",
       "      <td>9.8.2.3</td>\n",
       "      <td>0</td>\n",
       "    </tr>\n",
       "    <tr>\n",
       "      <th>6096</th>\n",
       "      <td>9.8.2.4</td>\n",
       "      <td>0</td>\n",
       "    </tr>\n",
       "    <tr>\n",
       "      <th>6097</th>\n",
       "      <td>9.9</td>\n",
       "      <td>0</td>\n",
       "    </tr>\n",
       "    <tr>\n",
       "      <th>6098</th>\n",
       "      <td>9.9.1</td>\n",
       "      <td>0</td>\n",
       "    </tr>\n",
       "    <tr>\n",
       "      <th>6099</th>\n",
       "      <td>9.9.2</td>\n",
       "      <td>0</td>\n",
       "    </tr>\n",
       "    <tr>\n",
       "      <th>6100</th>\n",
       "      <td>9.9.3</td>\n",
       "      <td>0</td>\n",
       "    </tr>\n",
       "  </tbody>\n",
       "</table>\n",
       "<p>6101 rows × 2 columns</p>\n",
       "</div>"
      ],
      "text/plain": [
       "         code  parent\n",
       "0        0030       0\n",
       "1        0031       0\n",
       "2        0039       0\n",
       "3        0040       0\n",
       "4        0048       0\n",
       "5        0050       0\n",
       "6       00589       0\n",
       "7        0059       0\n",
       "8        0066       0\n",
       "9        0071       0\n",
       "10       0074       0\n",
       "11      00800       0\n",
       "12      00804       0\n",
       "13       0082       0\n",
       "14      00843       0\n",
       "15      00845       0\n",
       "16      00846       0\n",
       "17       0085       0\n",
       "18      00863       0\n",
       "19      00869       0\n",
       "20       0088       0\n",
       "21       0090       0\n",
       "22       0091       0\n",
       "23       0092       0\n",
       "24       0093       0\n",
       "25      01120       0\n",
       "26      01180       0\n",
       "27      01190       0\n",
       "28      01191       0\n",
       "29      01193       0\n",
       "...       ...     ...\n",
       "6071  9.6.1.3       0\n",
       "6072  9.6.1.4       0\n",
       "6073    9.6.2       0\n",
       "6074    9.6.3       0\n",
       "6075  9.6.3.1       0\n",
       "6076  9.6.3.2       0\n",
       "6077  9.6.3.3       0\n",
       "6078  9.6.3.4       0\n",
       "6079    9.6.4       0\n",
       "6080  9.6.4.1       0\n",
       "6081  9.6.4.2       0\n",
       "6082    9.6.5       0\n",
       "6083    9.6.6       0\n",
       "6084      9.7       0\n",
       "6085    9.7.1       0\n",
       "6086    9.7.2       0\n",
       "6087    9.7.3       0\n",
       "6088    9.7.4       0\n",
       "6089    9.7.5       0\n",
       "6090    9.7.6       0\n",
       "6091      9.8       0\n",
       "6092    9.8.2       0\n",
       "6093  9.8.2.1       0\n",
       "6094  9.8.2.2       0\n",
       "6095  9.8.2.3       0\n",
       "6096  9.8.2.4       0\n",
       "6097      9.9       0\n",
       "6098    9.9.1       0\n",
       "6099    9.9.2       0\n",
       "6100    9.9.3       0\n",
       "\n",
       "[6101 rows x 2 columns]"
      ]
     },
     "execution_count": 35,
     "metadata": {},
     "output_type": "execute_result"
    }
   ],
   "source": [
    "parent_df"
   ]
  },
  {
   "cell_type": "markdown",
   "metadata": {},
   "source": [
    "### Backups"
   ]
  },
  {
   "cell_type": "markdown",
   "metadata": {},
   "source": [
    "### Model Building with OHE"
   ]
  },
  {
   "cell_type": "code",
   "execution_count": 20,
   "metadata": {},
   "outputs": [],
   "source": [
    "DX_embed_dim = 50\n",
    "hosp_embed_dim = 1"
   ]
  },
  {
   "cell_type": "code",
   "execution_count": 55,
   "metadata": {},
   "outputs": [],
   "source": [
    "input_DX = Input(shape = (n_DX_cat,))\n",
    "DX_feature = Dense(DX_embed_dim, use_bias=False)(input_DX)\n",
    "\n",
    "input_demo = Input(shape=(2, ))\n",
    "\n",
    "input_DX1 = Input(shape=(len(DX1_cat),))\n",
    "\n",
    "input_hosp = Input(shape=(1,))\n",
    "hosp_embed = Embedding(input_dim=len(hosp_cat), output_dim=hosp_embed_dim, input_length=1)(input_hosp)\n",
    "hosp_embed = Reshape((hosp_embed_dim, ))(hosp_embed)\n",
    "\n",
    "merged = concatenate([input_demo, input_DX1, DX_feature, hosp_embed], axis=1)\n",
    "\n",
    "x = Dense(128, activation='relu')(merged)\n",
    "#x = Dense(64, activation='relu')(x)\n",
    "x = Dense(32, activation='relu')(x)\n",
    "#x = Dense(16, activation='relu')(x)\n",
    "x = Dropout(0.5)(x)\n",
    "\n",
    "prediction = Dense(2, activation='softmax')(x)\n",
    "model = Model(inputs=[input_demo, input_DX1, input_DX, input_hosp], outputs=prediction)"
   ]
  },
  {
   "cell_type": "code",
   "execution_count": 56,
   "metadata": {},
   "outputs": [
    {
     "data": {
      "text/plain": [
       "TensorShape([Dimension(None), Dimension(50)])"
      ]
     },
     "execution_count": 56,
     "metadata": {},
     "output_type": "execute_result"
    }
   ],
   "source": [
    "DX_feature.shape"
   ]
  },
  {
   "cell_type": "code",
   "execution_count": 58,
   "metadata": {},
   "outputs": [],
   "source": [
    "adam = Adam(lr=0.0002)\n",
    "model.compile(optimizer=adam, loss='categorical_crossentropy', metrics=['accuracy'])"
   ]
  },
  {
   "cell_type": "code",
   "execution_count": 59,
   "metadata": {},
   "outputs": [],
   "source": [
    "checkpoint = ModelCheckpoint(filepath=model_path+'ami_icd9_ohe_valloss1.h5', save_best_only=True, save_weights_only=True)\n",
    "auccheckpoint = AUCCheckPoint(filepath=model_path+'ami_icd9_ohe_auc1.h5', validation_y=Y_val[:, 1], \n",
    "                             validation_x=[demo_mat_val, DX1_mat_val, DX_ohe_val, hosp_array_val])\n",
    "reduce_lr = ReduceLROnPlateau(monitor='loss', factor=0.2, patience=3, min_lr=1.e-8)\n",
    "earlystop = EarlyStopping(monitor='val_loss', patience=20)"
   ]
  },
  {
   "cell_type": "code",
   "execution_count": 60,
   "metadata": {},
   "outputs": [],
   "source": [
    "class_weight = {0:(Y_trn.shape[0]/sum(Y_trn[:, 0])), 1:(Y_trn.shape[0]/sum(Y_trn[:, 1]))}"
   ]
  },
  {
   "cell_type": "code",
   "execution_count": 61,
   "metadata": {
    "scrolled": true
   },
   "outputs": [
    {
     "name": "stdout",
     "output_type": "stream",
     "text": [
      "Train on 145667 samples, validate on 18004 samples\n",
      "Epoch 1/20\n",
      " - 7s - loss: 1.3245 - acc: 0.5939 - val_loss: 0.6438 - val_acc: 0.6399\n",
      "AUC: 0.6854\n",
      "\n",
      "Epoch 2/20\n",
      " - 9s - loss: 1.2781 - acc: 0.6356 - val_loss: 0.6329 - val_acc: 0.6380\n",
      "AUC: 0.6898\n",
      "\n",
      "Epoch 3/20\n",
      " - 9s - loss: 1.2583 - acc: 0.6404 - val_loss: 0.6276 - val_acc: 0.6399\n",
      "AUC: 0.6901\n",
      "\n",
      "Epoch 4/20\n",
      " - 9s - loss: 1.2450 - acc: 0.6460 - val_loss: 0.6301 - val_acc: 0.6279\n",
      "AUC: 0.6871\n",
      "\n",
      "Epoch 5/20\n",
      " - 9s - loss: 1.2293 - acc: 0.6470 - val_loss: 0.6398 - val_acc: 0.6230\n",
      "AUC: 0.6841\n",
      "\n",
      "Epoch 6/20\n",
      " - 9s - loss: 1.2162 - acc: 0.6539 - val_loss: 0.6214 - val_acc: 0.6377\n",
      "AUC: 0.6814\n",
      "\n",
      "Epoch 7/20\n",
      " - 9s - loss: 1.2016 - acc: 0.6574 - val_loss: 0.6104 - val_acc: 0.6439\n",
      "AUC: 0.6778\n",
      "\n",
      "Epoch 8/20\n",
      " - 9s - loss: 1.1875 - acc: 0.6590 - val_loss: 0.6120 - val_acc: 0.6417\n",
      "AUC: 0.6747\n",
      "\n",
      "Epoch 9/20\n",
      " - 9s - loss: 1.1727 - acc: 0.6650 - val_loss: 0.6097 - val_acc: 0.6387\n",
      "AUC: 0.6750\n",
      "\n",
      "Epoch 10/20\n",
      " - 9s - loss: 1.1610 - acc: 0.6660 - val_loss: 0.6189 - val_acc: 0.6329\n",
      "AUC: 0.6727\n",
      "\n",
      "Epoch 11/20\n",
      " - 9s - loss: 1.1462 - acc: 0.6712 - val_loss: 0.6295 - val_acc: 0.6358\n",
      "AUC: 0.6688\n",
      "\n",
      "Epoch 12/20\n",
      " - 9s - loss: 1.1329 - acc: 0.6760 - val_loss: 0.6555 - val_acc: 0.6086\n",
      "AUC: 0.6662\n",
      "\n",
      "Epoch 13/20\n",
      " - 9s - loss: 1.1183 - acc: 0.6833 - val_loss: 0.6213 - val_acc: 0.6394\n",
      "AUC: 0.6582\n",
      "\n",
      "Epoch 14/20\n",
      " - 9s - loss: 1.1060 - acc: 0.6908 - val_loss: 0.6298 - val_acc: 0.6351\n",
      "AUC: 0.6582\n",
      "\n",
      "Epoch 15/20\n",
      " - 9s - loss: 1.0908 - acc: 0.6961 - val_loss: 0.6007 - val_acc: 0.6700\n",
      "AUC: 0.6541\n",
      "\n",
      "Epoch 16/20\n",
      " - 9s - loss: 1.0766 - acc: 0.7042 - val_loss: 0.6424 - val_acc: 0.6419\n",
      "AUC: 0.6513\n",
      "\n",
      "Epoch 17/20\n",
      " - 9s - loss: 1.0629 - acc: 0.7115 - val_loss: 0.6349 - val_acc: 0.6539\n",
      "AUC: 0.6493\n",
      "\n",
      "Epoch 18/20\n",
      " - 9s - loss: 1.0437 - acc: 0.7204 - val_loss: 0.6372 - val_acc: 0.6541\n",
      "AUC: 0.6434\n",
      "\n",
      "Epoch 19/20\n",
      " - 9s - loss: 1.0271 - acc: 0.7292 - val_loss: 0.6152 - val_acc: 0.6745\n",
      "AUC: 0.6419\n",
      "\n",
      "Epoch 20/20\n",
      " - 9s - loss: 1.0119 - acc: 0.7364 - val_loss: 0.6126 - val_acc: 0.6811\n",
      "AUC: 0.6362\n",
      "\n"
     ]
    }
   ],
   "source": [
    "hist = model.fit([demo_mat_trn, DX1_mat_trn, DX_ohe_trn, hosp_array_trn], Y_trn, \n",
    "                 batch_size=512, epochs=20, callbacks=[checkpoint, auccheckpoint, reduce_lr, earlystop], class_weight=class_weight, \n",
    "                 validation_data=[[demo_mat_val, DX1_mat_val, DX_ohe_val, hosp_array_val], Y_val], \n",
    "                verbose=2)"
   ]
  }
 ],
 "metadata": {
  "kernelspec": {
   "display_name": "Python 3",
   "language": "python",
   "name": "python3"
  },
  "language_info": {
   "codemirror_mode": {
    "name": "ipython",
    "version": 3
   },
   "file_extension": ".py",
   "mimetype": "text/x-python",
   "name": "python",
   "nbconvert_exporter": "python",
   "pygments_lexer": "ipython3",
   "version": "3.5.4"
  }
 },
 "nbformat": 4,
 "nbformat_minor": 2
}
