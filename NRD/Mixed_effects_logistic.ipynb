{
 "cells": [
  {
   "cell_type": "code",
   "execution_count": 1,
   "metadata": {},
   "outputs": [
    {
     "name": "stderr",
     "output_type": "stream",
     "text": [
      "Loading required package: Matrix\n"
     ]
    }
   ],
   "source": [
    "library(ggplot2)\n",
    "library(GGally)\n",
    "library(lme4)"
   ]
  },
  {
   "cell_type": "code",
   "execution_count": 2,
   "metadata": {},
   "outputs": [],
   "source": [
    "path <- '/nfs/turbo/intmed-bnallamo-turbo/wsliu/Data/NRD/'"
   ]
  },
  {
   "cell_type": "code",
   "execution_count": 2,
   "metadata": {},
   "outputs": [],
   "source": [
    "path <- '/nfs/turbo/umms-awaljee/wsliu/Data/NRD/'"
   ]
  },
  {
   "cell_type": "code",
   "execution_count": 72,
   "metadata": {},
   "outputs": [],
   "source": [
    "train.df <- read.csv(file = paste0(path, 'cohorts/ami/comorb_train9.csv'))\n",
    "tst.df <- read.csv(file = paste0(path, 'cohorts/ami/comorb_tst9.csv'))"
   ]
  },
  {
   "cell_type": "code",
   "execution_count": 4,
   "metadata": {},
   "outputs": [],
   "source": [
    "comorbs <- c('CM_AIDS', 'CM_ALCOHOL', 'CM_ANEMDEF', 'CM_ARTH', 'CM_BLDLOSS', 'CM_CHF', 'CM_CHRNLUNG', 'CM_COAG', 'CM_DEPRESS', 'CM_DM', 'CM_DMCX', 'CM_DRUG', 'CM_HTN_C', 'CM_HYPOTHY', 'CM_LIVER', 'CM_LYMPH', 'CM_LYTES', 'CM_METS', 'CM_NEURO', 'CM_OBESE', 'CM_PARA', 'CM_PERIVASC', 'CM_PSYCH', 'CM_PULMCIRC', 'CM_RENLFAIL', 'CM_TUMOR', 'CM_ULCER', 'CM_VALVE', 'CM_WGHTLOSS')"
   ]
  },
  {
   "cell_type": "code",
   "execution_count": 73,
   "metadata": {},
   "outputs": [],
   "source": [
    "train.df$HOSP_NRD <- as.factor(train.df$HOSP_NRD)\n",
    "tst.df$HOSP_NRD <- as.factor(tst.df$HOSP_NRD)\n",
    "\n",
    "train.df$FEMALE <- as.factor(train.df$FEMALE)\n",
    "tst.df$FEMALE <- as.factor(tst.df$FEMALE)\n",
    "for(c in comorbs){\n",
    "    train.df[ , c] <- as.factor(train.df[ , c])\n",
    "    tst.df[ , c] <- as.factor(tst.df[ , c])\n",
    "}\n",
    "\n",
    "train.df$readm30 <- as.numeric(train.df$readm30) - 1\n",
    "tst.df$readm30 <- as.numeric(tst.df$readm30) - 1"
   ]
  },
  {
   "cell_type": "code",
   "execution_count": 9,
   "metadata": {
    "collapsed": true
   },
   "outputs": [
    {
     "data": {
      "text/html": [
       "<table>\n",
       "<thead><tr><th scope=col>AGE</th><th scope=col>AWEEKEND</th><th scope=col>DIED</th><th scope=col>DISCWT</th><th scope=col>DISPUNIFORM</th><th scope=col>DMONTH</th><th scope=col>DQTR</th><th scope=col>DRG</th><th scope=col>DRGVER</th><th scope=col>DRG_NoPOA</th><th scope=col>⋯</th><th scope=col>CM_OBESE</th><th scope=col>CM_PARA</th><th scope=col>CM_PERIVASC</th><th scope=col>CM_PSYCH</th><th scope=col>CM_PULMCIRC</th><th scope=col>CM_RENLFAIL</th><th scope=col>CM_TUMOR</th><th scope=col>CM_ULCER</th><th scope=col>CM_VALVE</th><th scope=col>CM_WGHTLOSS</th></tr></thead>\n",
       "<tbody>\n",
       "\t<tr><td>63      </td><td>0       </td><td>0       </td><td>1.505411</td><td>1       </td><td>11      </td><td>4       </td><td>247     </td><td>32      </td><td>247     </td><td>⋯       </td><td>0       </td><td>0       </td><td>0       </td><td>0       </td><td>0       </td><td>0       </td><td>0       </td><td>0       </td><td>0       </td><td>0       </td></tr>\n",
       "\t<tr><td>84      </td><td>0       </td><td>0       </td><td>2.359884</td><td>5       </td><td> 2      </td><td>1       </td><td>280     </td><td>31      </td><td>280     </td><td>⋯       </td><td>0       </td><td>0       </td><td>0       </td><td>0       </td><td>0       </td><td>0       </td><td>0       </td><td>0       </td><td>0       </td><td>0       </td></tr>\n",
       "\t<tr><td>57      </td><td>1       </td><td>0       </td><td>1.945870</td><td>6       </td><td> 5      </td><td>2       </td><td>280     </td><td>31      </td><td>280     </td><td>⋯       </td><td>1       </td><td>0       </td><td>0       </td><td>0       </td><td>0       </td><td>1       </td><td>0       </td><td>0       </td><td>0       </td><td>0       </td></tr>\n",
       "\t<tr><td>55      </td><td>0       </td><td>0       </td><td>3.319084</td><td>5       </td><td> 7      </td><td>3       </td><td>280     </td><td>31      </td><td>280     </td><td>⋯       </td><td>0       </td><td>0       </td><td>0       </td><td>0       </td><td>0       </td><td>0       </td><td>0       </td><td>0       </td><td>0       </td><td>0       </td></tr>\n",
       "\t<tr><td>74      </td><td>0       </td><td>0       </td><td>2.312238</td><td>1       </td><td> 2      </td><td>1       </td><td>247     </td><td>31      </td><td>247     </td><td>⋯       </td><td>0       </td><td>0       </td><td>0       </td><td>0       </td><td>0       </td><td>0       </td><td>0       </td><td>0       </td><td>0       </td><td>0       </td></tr>\n",
       "\t<tr><td>61      </td><td>1       </td><td>0       </td><td>1.962384</td><td>1       </td><td> 3      </td><td>1       </td><td>247     </td><td>31      </td><td>247     </td><td>⋯       </td><td>0       </td><td>0       </td><td>0       </td><td>0       </td><td>0       </td><td>0       </td><td>0       </td><td>0       </td><td>0       </td><td>0       </td></tr>\n",
       "</tbody>\n",
       "</table>\n"
      ],
      "text/latex": [
       "\\begin{tabular}{r|lllllllllllllllllllllllllllllllllllllllllllllllllllllllllllllllllllllllllllllllllllllllllllllllllllllllllllllllllllllllllllllllllllllllllllllllllllllllllllllllllllllllllllllllllll}\n",
       " AGE & AWEEKEND & DIED & DISCWT & DISPUNIFORM & DMONTH & DQTR & DRG & DRGVER & DRG\\_NoPOA & ⋯ & CM\\_OBESE & CM\\_PARA & CM\\_PERIVASC & CM\\_PSYCH & CM\\_PULMCIRC & CM\\_RENLFAIL & CM\\_TUMOR & CM\\_ULCER & CM\\_VALVE & CM\\_WGHTLOSS\\\\\n",
       "\\hline\n",
       "\t 63       & 0        & 0        & 1.505411 & 1        & 11       & 4        & 247      & 32       & 247      & ⋯        & 0        & 0        & 0        & 0        & 0        & 0        & 0        & 0        & 0        & 0       \\\\\n",
       "\t 84       & 0        & 0        & 2.359884 & 5        &  2       & 1        & 280      & 31       & 280      & ⋯        & 0        & 0        & 0        & 0        & 0        & 0        & 0        & 0        & 0        & 0       \\\\\n",
       "\t 57       & 1        & 0        & 1.945870 & 6        &  5       & 2        & 280      & 31       & 280      & ⋯        & 1        & 0        & 0        & 0        & 0        & 1        & 0        & 0        & 0        & 0       \\\\\n",
       "\t 55       & 0        & 0        & 3.319084 & 5        &  7       & 3        & 280      & 31       & 280      & ⋯        & 0        & 0        & 0        & 0        & 0        & 0        & 0        & 0        & 0        & 0       \\\\\n",
       "\t 74       & 0        & 0        & 2.312238 & 1        &  2       & 1        & 247      & 31       & 247      & ⋯        & 0        & 0        & 0        & 0        & 0        & 0        & 0        & 0        & 0        & 0       \\\\\n",
       "\t 61       & 1        & 0        & 1.962384 & 1        &  3       & 1        & 247      & 31       & 247      & ⋯        & 0        & 0        & 0        & 0        & 0        & 0        & 0        & 0        & 0        & 0       \\\\\n",
       "\\end{tabular}\n"
      ],
      "text/markdown": [
       "\n",
       "AGE | AWEEKEND | DIED | DISCWT | DISPUNIFORM | DMONTH | DQTR | DRG | DRGVER | DRG_NoPOA | ⋯ | CM_OBESE | CM_PARA | CM_PERIVASC | CM_PSYCH | CM_PULMCIRC | CM_RENLFAIL | CM_TUMOR | CM_ULCER | CM_VALVE | CM_WGHTLOSS | \n",
       "|---|---|---|---|---|---|\n",
       "| 63       | 0        | 0        | 1.505411 | 1        | 11       | 4        | 247      | 32       | 247      | ⋯        | 0        | 0        | 0        | 0        | 0        | 0        | 0        | 0        | 0        | 0        | \n",
       "| 84       | 0        | 0        | 2.359884 | 5        |  2       | 1        | 280      | 31       | 280      | ⋯        | 0        | 0        | 0        | 0        | 0        | 0        | 0        | 0        | 0        | 0        | \n",
       "| 57       | 1        | 0        | 1.945870 | 6        |  5       | 2        | 280      | 31       | 280      | ⋯        | 1        | 0        | 0        | 0        | 0        | 1        | 0        | 0        | 0        | 0        | \n",
       "| 55       | 0        | 0        | 3.319084 | 5        |  7       | 3        | 280      | 31       | 280      | ⋯        | 0        | 0        | 0        | 0        | 0        | 0        | 0        | 0        | 0        | 0        | \n",
       "| 74       | 0        | 0        | 2.312238 | 1        |  2       | 1        | 247      | 31       | 247      | ⋯        | 0        | 0        | 0        | 0        | 0        | 0        | 0        | 0        | 0        | 0        | \n",
       "| 61       | 1        | 0        | 1.962384 | 1        |  3       | 1        | 247      | 31       | 247      | ⋯        | 0        | 0        | 0        | 0        | 0        | 0        | 0        | 0        | 0        | 0        | \n",
       "\n",
       "\n"
      ],
      "text/plain": [
       "  AGE AWEEKEND DIED DISCWT   DISPUNIFORM DMONTH DQTR DRG DRGVER DRG_NoPOA ⋯\n",
       "1 63  0        0    1.505411 1           11     4    247 32     247       ⋯\n",
       "2 84  0        0    2.359884 5            2     1    280 31     280       ⋯\n",
       "3 57  1        0    1.945870 6            5     2    280 31     280       ⋯\n",
       "4 55  0        0    3.319084 5            7     3    280 31     280       ⋯\n",
       "5 74  0        0    2.312238 1            2     1    247 31     247       ⋯\n",
       "6 61  1        0    1.962384 1            3     1    247 31     247       ⋯\n",
       "  CM_OBESE CM_PARA CM_PERIVASC CM_PSYCH CM_PULMCIRC CM_RENLFAIL CM_TUMOR\n",
       "1 0        0       0           0        0           0           0       \n",
       "2 0        0       0           0        0           0           0       \n",
       "3 1        0       0           0        0           1           0       \n",
       "4 0        0       0           0        0           0           0       \n",
       "5 0        0       0           0        0           0           0       \n",
       "6 0        0       0           0        0           0           0       \n",
       "  CM_ULCER CM_VALVE CM_WGHTLOSS\n",
       "1 0        0        0          \n",
       "2 0        0        0          \n",
       "3 0        0        0          \n",
       "4 0        0        0          \n",
       "5 0        0        0          \n",
       "6 0        0        0          "
      ]
     },
     "metadata": {},
     "output_type": "display_data"
    }
   ],
   "source": [
    "head(train.df)"
   ]
  },
  {
   "cell_type": "code",
   "execution_count": 25,
   "metadata": {
    "collapsed": true
   },
   "outputs": [
    {
     "data": {
      "text/html": [
       "<ol class=list-inline>\n",
       "\t<li>163671</li>\n",
       "\t<li>179</li>\n",
       "</ol>\n"
      ],
      "text/latex": [
       "\\begin{enumerate*}\n",
       "\\item 163671\n",
       "\\item 179\n",
       "\\end{enumerate*}\n"
      ],
      "text/markdown": [
       "1. 163671\n",
       "2. 179\n",
       "\n",
       "\n"
      ],
      "text/plain": [
       "[1] 163671    179"
      ]
     },
     "metadata": {},
     "output_type": "display_data"
    },
    {
     "data": {
      "text/html": [
       "<ol class=list-inline>\n",
       "\t<li>18186</li>\n",
       "\t<li>179</li>\n",
       "</ol>\n"
      ],
      "text/latex": [
       "\\begin{enumerate*}\n",
       "\\item 18186\n",
       "\\item 179\n",
       "\\end{enumerate*}\n"
      ],
      "text/markdown": [
       "1. 18186\n",
       "2. 179\n",
       "\n",
       "\n"
      ],
      "text/plain": [
       "[1] 18186   179"
      ]
     },
     "metadata": {},
     "output_type": "display_data"
    }
   ],
   "source": [
    "dim(train.df)\n",
    "dim(tst.df)"
   ]
  },
  {
   "cell_type": "code",
   "execution_count": 74,
   "metadata": {},
   "outputs": [],
   "source": [
    "result <- glmer(readm30 ~ CM_AIDS + CM_ALCOHOL + CM_ANEMDEF + CM_ARTH + CM_BLDLOSS + CM_CHF + CM_CHRNLUNG + CM_COAG + \n",
    "                CM_DEPRESS + CM_DM + CM_DMCX + CM_DRUG + CM_HTN_C + CM_HYPOTHY + CM_LIVER + CM_LYMPH + CM_LYTES + CM_METS + \n",
    "                CM_NEURO + CM_OBESE + CM_PARA + CM_PERIVASC + CM_PSYCH + CM_PULMCIRC + CM_RENLFAIL + CM_TUMOR + CM_ULCER + \n",
    "                CM_VALVE + CM_WGHTLOSS + AGE + FEMALE + (1|HOSP_NRD), data = train.df, family = binomial, \n",
    "                control = glmerControl(optimizer = \"nloptwrap\", calc.derivs = FALSE), nAGQ = 0)"
   ]
  },
  {
   "cell_type": "code",
   "execution_count": 75,
   "metadata": {},
   "outputs": [],
   "source": [
    "pred_score <- predict(result, newdata = tst.df, type = 'response')"
   ]
  },
  {
   "cell_type": "code",
   "execution_count": 76,
   "metadata": {},
   "outputs": [],
   "source": [
    "pred_test <- data.frame(y_pred = pred_score, y_true = tst.df$readm30)"
   ]
  },
  {
   "cell_type": "code",
   "execution_count": 77,
   "metadata": {},
   "outputs": [],
   "source": [
    "write.csv(pred_test, file = paste0(path, 'cohorts/ami/prediction_MELR9.csv'))"
   ]
  },
  {
   "cell_type": "code",
   "execution_count": 18,
   "metadata": {
    "collapsed": true
   },
   "outputs": [
    {
     "name": "stdout",
     "output_type": "stream",
     "text": [
      "Generalized linear mixed model fit by maximum likelihood (Adaptive\n",
      "  Gauss-Hermite Quadrature, nAGQ = 10) [glmerMod]\n",
      " Family: binomial  ( logit )\n",
      "Formula: readm30 ~ CM_AIDS + CM_ALCOHOL + CM_ANEMDEF + CM_ARTH + CM_BLDLOSS +  \n",
      "    CM_CHF + CM_CHRNLUNG + CM_COAG + CM_DEPRESS + CM_DM + CM_DMCX +  \n",
      "    CM_DRUG + CM_HTN_C + CM_HYPOTHY + CM_LIVER + CM_LYMPH + CM_LYTES +  \n",
      "    CM_METS + CM_NEURO + CM_OBESE + CM_PARA + CM_PERIVASC + CM_PSYCH +  \n",
      "    CM_PULMCIRC + CM_RENLFAIL + CM_TUMOR + CM_ULCER + CM_VALVE +  \n",
      "    CM_WGHTLOSS + AGE + FEMALE + (1 | HOSP_NRD)\n",
      "   Data: train.df\n",
      "      AIC       BIC    logLik  deviance  df.resid \n",
      "108132.52 108459.11 -54033.26 108066.52    146738 \n",
      "Random effects:\n",
      " Groups   Name        Std.Dev.\n",
      " HOSP_NRD (Intercept) 0.2001  \n",
      "Number of obs: 146771, groups:  HOSP_NRD, 874\n",
      "Fixed Effects:\n",
      " (Intercept)      CM_AIDS1   CM_ALCOHOL1   CM_ANEMDEF1      CM_ARTH1  \n",
      "    -3.44808       0.22609       0.06104       0.30234       0.17105  \n",
      " CM_BLDLOSS1       CM_CHF1  CM_CHRNLUNG1      CM_COAG1   CM_DEPRESS1  \n",
      "     0.20142       0.27303       0.31989       0.05822       0.14014  \n",
      "      CM_DM1      CM_DMCX1      CM_DRUG1     CM_HTN_C1   CM_HYPOTHY1  \n",
      "     0.25591       0.51966       0.36431       0.01991       0.01835  \n",
      "   CM_LIVER1     CM_LYMPH1     CM_LYTES1      CM_METS1     CM_NEURO1  \n",
      "     0.24937       0.31839       0.26314       0.58374       0.14271  \n",
      "   CM_OBESE1      CM_PARA1  CM_PERIVASC1     CM_PSYCH1  CM_PULMCIRC1  \n",
      "    -0.04356       0.23721       0.22179       0.21073      -0.21405  \n",
      "CM_RENLFAIL1     CM_TUMOR1     CM_ULCER1     CM_VALVE1  CM_WGHTLOSS1  \n",
      "     0.44342       0.33733       0.18687      -0.14440       0.23184  \n",
      "         AGE       FEMALE1  \n",
      "     0.01334       0.15317  \n"
     ]
    }
   ],
   "source": [
    "# results for nAGQ=10\n",
    "print(result, corr=False)"
   ]
  },
  {
   "cell_type": "code",
   "execution_count": 10,
   "metadata": {
    "collapsed": true
   },
   "outputs": [
    {
     "name": "stdout",
     "output_type": "stream",
     "text": [
      "Generalized linear mixed model fit by maximum likelihood (Adaptive\n",
      "  Gauss-Hermite Quadrature, nAGQ = 2) [glmerMod]\n",
      " Family: binomial  ( logit )\n",
      "Formula: readm30 ~ CM_AIDS + CM_ALCOHOL + CM_ANEMDEF + CM_ARTH + CM_BLDLOSS +  \n",
      "    CM_CHF + CM_CHRNLUNG + CM_COAG + CM_DEPRESS + CM_DM + CM_DMCX +  \n",
      "    CM_DRUG + CM_HTN_C + CM_HYPOTHY + CM_LIVER + CM_LYMPH + CM_LYTES +  \n",
      "    CM_METS + CM_NEURO + CM_OBESE + CM_PARA + CM_PERIVASC + CM_PSYCH +  \n",
      "    CM_PULMCIRC + CM_RENLFAIL + CM_TUMOR + CM_ULCER + CM_VALVE +  \n",
      "    CM_WGHTLOSS + AGE + FEMALE + (1 | HOSP_NRD)\n",
      "   Data: train.df\n",
      "      AIC       BIC    logLik  deviance  df.resid \n",
      "115035.08 115365.26 -57484.54 114969.08    163638 \n",
      "Random effects:\n",
      " Groups   Name        Std.Dev.\n",
      " HOSP_NRD (Intercept) 0.2044  \n",
      "Number of obs: 163671, groups:  HOSP_NRD, 869\n",
      "Fixed Effects:\n",
      " (Intercept)      CM_AIDS1   CM_ALCOHOL1   CM_ANEMDEF1      CM_ARTH1  \n",
      "    -3.69359       0.11732       0.05313       0.30028       0.15956  \n",
      " CM_BLDLOSS1       CM_CHF1  CM_CHRNLUNG1      CM_COAG1   CM_DEPRESS1  \n",
      "     0.23957       0.36209       0.34628       0.12777       0.13945  \n",
      "      CM_DM1      CM_DMCX1      CM_DRUG1     CM_HTN_C1   CM_HYPOTHY1  \n",
      "     0.25758       0.48183       0.41967       0.01263       0.02104  \n",
      "   CM_LIVER1     CM_LYMPH1     CM_LYTES1      CM_METS1     CM_NEURO1  \n",
      "     0.33330       0.38027       0.29227       0.55837       0.17592  \n",
      "   CM_OBESE1      CM_PARA1  CM_PERIVASC1     CM_PSYCH1  CM_PULMCIRC1  \n",
      "    -0.05649       0.24735       0.19790       0.29841      -0.25366  \n",
      "CM_RENLFAIL1     CM_TUMOR1     CM_ULCER1     CM_VALVE1  CM_WGHTLOSS1  \n",
      "     0.47006       0.32889       0.38496      -0.14553       0.20198  \n",
      "         AGE       FEMALE1  \n",
      "     0.01531       0.18019  \n"
     ]
    }
   ],
   "source": [
    "# results for nAGQ=2\n",
    "print(result, corr=False)"
   ]
  },
  {
   "cell_type": "code",
   "execution_count": 14,
   "metadata": {
    "collapsed": true
   },
   "outputs": [
    {
     "name": "stdout",
     "output_type": "stream",
     "text": [
      "Generalized linear mixed model fit by maximum likelihood (Laplace\n",
      "  Approximation) [glmerMod]\n",
      " Family: binomial  ( logit )\n",
      "Formula: readm30 ~ CM_AIDS + CM_ALCOHOL + CM_ANEMDEF + CM_ARTH + CM_BLDLOSS +  \n",
      "    CM_CHF + CM_CHRNLUNG + CM_COAG + CM_DEPRESS + CM_DM + CM_DMCX +  \n",
      "    CM_DRUG + CM_HTN_C + CM_HYPOTHY + CM_LIVER + CM_LYMPH + CM_LYTES +  \n",
      "    CM_METS + CM_NEURO + CM_OBESE + CM_PARA + CM_PERIVASC + CM_PSYCH +  \n",
      "    CM_PULMCIRC + CM_RENLFAIL + CM_TUMOR + CM_ULCER + CM_VALVE +  \n",
      "    CM_WGHTLOSS + AGE + FEMALE + (1 | HOSP_NRD)\n",
      "   Data: train.df\n",
      "      AIC       BIC    logLik  deviance  df.resid \n",
      "108132.65 108459.24 -54033.33 108066.65    146738 \n",
      "Random effects:\n",
      " Groups   Name        Std.Dev.\n",
      " HOSP_NRD (Intercept) 0.2     \n",
      "Number of obs: 146771, groups:  HOSP_NRD, 874\n",
      "Fixed Effects:\n",
      " (Intercept)      CM_AIDS1   CM_ALCOHOL1   CM_ANEMDEF1      CM_ARTH1  \n",
      "    -3.44664       0.22608       0.06122       0.30194       0.17115  \n",
      " CM_BLDLOSS1       CM_CHF1  CM_CHRNLUNG1      CM_COAG1   CM_DEPRESS1  \n",
      "     0.20110       0.27320       0.31947       0.05822       0.14025  \n",
      "      CM_DM1      CM_DMCX1      CM_DRUG1     CM_HTN_C1   CM_HYPOTHY1  \n",
      "     0.25547       0.51892       0.36391       0.01969       0.01837  \n",
      "   CM_LIVER1     CM_LYMPH1     CM_LYTES1      CM_METS1     CM_NEURO1  \n",
      "     0.24930       0.31825       0.26329       0.58337       0.14243  \n",
      "   CM_OBESE1      CM_PARA1  CM_PERIVASC1     CM_PSYCH1  CM_PULMCIRC1  \n",
      "    -0.04368       0.23623       0.22186       0.21218      -0.21409  \n",
      "CM_RENLFAIL1     CM_TUMOR1     CM_ULCER1     CM_VALVE1  CM_WGHTLOSS1  \n",
      "     0.44393       0.33619       0.18765      -0.14432       0.23202  \n",
      "         AGE       FEMALE1  \n",
      "     0.01332       0.15276  \n"
     ]
    }
   ],
   "source": [
    "# results for nAGQ=1\n",
    "print(result, corr=False)"
   ]
  },
  {
   "cell_type": "code",
   "execution_count": 12,
   "metadata": {
    "collapsed": true
   },
   "outputs": [
    {
     "name": "stdout",
     "output_type": "stream",
     "text": [
      "Generalized linear mixed model fit by maximum likelihood (Adaptive\n",
      "  Gauss-Hermite Quadrature, nAGQ = 0) [glmerMod]\n",
      " Family: binomial  ( logit )\n",
      "Formula: readm30 ~ CM_AIDS + CM_ALCOHOL + CM_ANEMDEF + CM_ARTH + CM_BLDLOSS +  \n",
      "    CM_CHF + CM_CHRNLUNG + CM_COAG + CM_DEPRESS + CM_DM + CM_DMCX +  \n",
      "    CM_DRUG + CM_HTN_C + CM_HYPOTHY + CM_LIVER + CM_LYMPH + CM_LYTES +  \n",
      "    CM_METS + CM_NEURO + CM_OBESE + CM_PARA + CM_PERIVASC + CM_PSYCH +  \n",
      "    CM_PULMCIRC + CM_RENLFAIL + CM_TUMOR + CM_ULCER + CM_VALVE +  \n",
      "    CM_WGHTLOSS + AGE + FEMALE + (1 | HOSP_NRD)\n",
      "   Data: train.df\n",
      "      AIC       BIC    logLik  deviance  df.resid \n",
      "108133.16 108459.75 -54033.58 108067.16    146738 \n",
      "Random effects:\n",
      " Groups   Name        Std.Dev.\n",
      " HOSP_NRD (Intercept) 0.1995  \n",
      "Number of obs: 146771, groups:  HOSP_NRD, 874\n",
      "Fixed Effects:\n",
      " (Intercept)      CM_AIDS1   CM_ALCOHOL1   CM_ANEMDEF1      CM_ARTH1  \n",
      "    -3.43712       0.22602       0.06116       0.30134       0.17114  \n",
      " CM_BLDLOSS1       CM_CHF1  CM_CHRNLUNG1      CM_COAG1   CM_DEPRESS1  \n",
      "     0.20104       0.27278       0.31900       0.05807       0.13990  \n",
      "      CM_DM1      CM_DMCX1      CM_DRUG1     CM_HTN_C1   CM_HYPOTHY1  \n",
      "     0.25537       0.51825       0.36356       0.01967       0.01836  \n",
      "   CM_LIVER1     CM_LYMPH1     CM_LYTES1      CM_METS1     CM_NEURO1  \n",
      "     0.24905       0.31848       0.26224       0.58133       0.14227  \n",
      "   CM_OBESE1      CM_PARA1  CM_PERIVASC1     CM_PSYCH1  CM_PULMCIRC1  \n",
      "    -0.04345       0.23708       0.22140       0.21118      -0.21410  \n",
      "CM_RENLFAIL1     CM_TUMOR1     CM_ULCER1     CM_VALVE1  CM_WGHTLOSS1  \n",
      "     0.44206       0.33659       0.18749      -0.14437       0.23200  \n",
      "         AGE       FEMALE1  \n",
      "     0.01332       0.15280  \n"
     ]
    }
   ],
   "source": [
    "# results for nAGQ=0\n",
    "print(result, corr=False)"
   ]
  },
  {
   "cell_type": "markdown",
   "metadata": {},
   "source": [
    "## Cross Validation"
   ]
  },
  {
   "cell_type": "code",
   "execution_count": 4,
   "metadata": {},
   "outputs": [],
   "source": [
    "comorbs <- c('CM_AIDS', 'CM_ALCOHOL', 'CM_ANEMDEF', 'CM_ARTH', 'CM_BLDLOSS', 'CM_CHF', 'CM_CHRNLUNG', 'CM_COAG', 'CM_DEPRESS', 'CM_DM', 'CM_DMCX', 'CM_DRUG', 'CM_HTN_C', 'CM_HYPOTHY', 'CM_LIVER', 'CM_LYMPH', 'CM_LYTES', 'CM_METS', 'CM_NEURO', 'CM_OBESE', 'CM_PARA', 'CM_PERIVASC', 'CM_PSYCH', 'CM_PULMCIRC', 'CM_RENLFAIL', 'CM_TUMOR', 'CM_ULCER', 'CM_VALVE', 'CM_WGHTLOSS')"
   ]
  },
  {
   "cell_type": "code",
   "execution_count": 8,
   "metadata": {},
   "outputs": [],
   "source": [
    "cohort = 'pna'"
   ]
  },
  {
   "cell_type": "code",
   "execution_count": 9,
   "metadata": {},
   "outputs": [],
   "source": [
    "for (tst_fold in 0:9){\n",
    "    train.df <- read.csv(file = paste0(path, 'cohorts/', cohort, '/comorb_train', tst_fold, '.csv'))\n",
    "    tst.df <- read.csv(file = paste0(path, 'cohorts/', cohort, '/comorb_tst', tst_fold, '.csv'))\n",
    "\n",
    "    train.df$HOSP_NRD <- as.factor(train.df$HOSP_NRD)\n",
    "    tst.df$HOSP_NRD <- as.factor(tst.df$HOSP_NRD)\n",
    "\n",
    "    train.df$FEMALE <- as.factor(train.df$FEMALE)\n",
    "    tst.df$FEMALE <- as.factor(tst.df$FEMALE)\n",
    "    for(c in comorbs){\n",
    "        train.df[ , c] <- as.factor(train.df[ , c])\n",
    "        tst.df[ , c] <- as.factor(tst.df[ , c])\n",
    "    }\n",
    "\n",
    "    train.df$readm30 <- as.numeric(train.df$readm30) - 1\n",
    "    tst.df$readm30 <- as.numeric(tst.df$readm30) - 1\n",
    "    \n",
    "    result <- glmer(readm30 ~ CM_AIDS + CM_ALCOHOL + CM_ANEMDEF + CM_ARTH + CM_BLDLOSS + CM_CHF + CM_CHRNLUNG + CM_COAG + \n",
    "                CM_DEPRESS + CM_DM + CM_DMCX + CM_DRUG + CM_HTN_C + CM_HYPOTHY + CM_LIVER + CM_LYMPH + CM_LYTES + CM_METS + \n",
    "                CM_NEURO + CM_OBESE + CM_PARA + CM_PERIVASC + CM_PSYCH + CM_PULMCIRC + CM_RENLFAIL + CM_TUMOR + CM_ULCER + \n",
    "                CM_VALVE + CM_WGHTLOSS + AGE + FEMALE + (1|HOSP_NRD), data = train.df, family = binomial, \n",
    "                control = glmerControl(optimizer = \"nloptwrap\", calc.derivs = FALSE), nAGQ = 0)\n",
    "    pred_score <- predict(result, newdata = tst.df, type = 'response')\n",
    "    pred_test <- data.frame(y_pred = pred_score, y_true = tst.df$readm30)\n",
    "    write.csv(pred_test, file = paste0(path, 'cohorts/', cohort, '/prediction_MELR', tst_fold, '.csv'))\n",
    "    }"
   ]
  }
 ],
 "metadata": {
  "kernelspec": {
   "display_name": "R 3.4.1",
   "language": "R",
   "name": "ir-3.4.1"
  },
  "language_info": {
   "codemirror_mode": "r",
   "file_extension": ".r",
   "mimetype": "text/x-r-source",
   "name": "R",
   "pygments_lexer": "r",
   "version": "3.4.1"
  }
 },
 "nbformat": 4,
 "nbformat_minor": 2
}
