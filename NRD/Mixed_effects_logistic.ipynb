{
 "cells": [
  {
   "cell_type": "code",
   "execution_count": 1,
   "metadata": {},
   "outputs": [
    {
     "name": "stderr",
     "output_type": "stream",
     "text": [
      "Loading required package: Matrix\n"
     ]
    }
   ],
   "source": [
    "library(ggplot2)\n",
    "library(GGally)\n",
    "library(lme4)"
   ]
  },
  {
   "cell_type": "code",
   "execution_count": 2,
   "metadata": {},
   "outputs": [],
   "source": [
    "path <- '/nfs/turbo/intmed-bnallamo-turbo/wsliu/Data/NRD/'"
   ]
  },
  {
   "cell_type": "code",
   "execution_count": 2,
   "metadata": {},
   "outputs": [],
   "source": [
    "path <- '/nfs/turbo/umms-awaljee/wsliu/Data/NRD/'"
   ]
  },
  {
   "cell_type": "code",
   "execution_count": 3,
   "metadata": {},
   "outputs": [],
   "source": [
    "train.df <- read.csv(file = paste0(path, 'cohorts/ami/comorb_train.csv'))\n",
    "test.df <- read.csv(file = paste0(path, 'cohorts/ami/comorb_test.csv'))"
   ]
  },
  {
   "cell_type": "code",
   "execution_count": 4,
   "metadata": {},
   "outputs": [],
   "source": [
    "comorbs <- c('CM_AIDS', 'CM_ALCOHOL', 'CM_ANEMDEF', 'CM_ARTH', 'CM_BLDLOSS', 'CM_CHF', 'CM_CHRNLUNG', 'CM_COAG', 'CM_DEPRESS', 'CM_DM', 'CM_DMCX', 'CM_DRUG', 'CM_HTN_C', 'CM_HYPOTHY', 'CM_LIVER', 'CM_LYMPH', 'CM_LYTES', 'CM_METS', 'CM_NEURO', 'CM_OBESE', 'CM_PARA', 'CM_PERIVASC', 'CM_PSYCH', 'CM_PULMCIRC', 'CM_RENLFAIL', 'CM_TUMOR', 'CM_ULCER', 'CM_VALVE', 'CM_WGHTLOSS')"
   ]
  },
  {
   "cell_type": "code",
   "execution_count": 5,
   "metadata": {},
   "outputs": [],
   "source": [
    "train.df$HOSP_NRD <- as.factor(train.df$HOSP_NRD)\n",
    "test.df$HOSP_NRD <- as.factor(test.df$HOSP_NRD)\n",
    "\n",
    "train.df$FEMALE <- as.factor(train.df$FEMALE)\n",
    "test.df$FEMALE <- as.factor(test.df$FEMALE)\n",
    "for(c in comorbs){\n",
    "    train.df[ , c] <- as.factor(train.df[ , c])\n",
    "    test.df[ , c] <- as.factor(test.df[ , c])\n",
    "}\n",
    "\n",
    "train.df$readm30 <- as.numeric(train.df$readm30) - 1\n",
    "test.df$readm30 <- as.numeric(test.df$readm30) - 1"
   ]
  },
  {
   "cell_type": "code",
   "execution_count": 7,
   "metadata": {},
   "outputs": [
    {
     "data": {
      "text/html": [
       "<table>\n",
       "<thead><tr><th scope=col>NRD_VisitLink</th><th scope=col>CM_AIDS</th><th scope=col>CM_ALCOHOL</th><th scope=col>CM_ANEMDEF</th><th scope=col>CM_ARTH</th><th scope=col>CM_BLDLOSS</th><th scope=col>CM_CHF</th><th scope=col>CM_CHRNLUNG</th><th scope=col>CM_COAG</th><th scope=col>CM_DEPRESS</th><th scope=col>⋯</th><th scope=col>CM_TUMOR</th><th scope=col>CM_ULCER</th><th scope=col>CM_VALVE</th><th scope=col>CM_WGHTLOSS</th><th scope=col>KEY_NRD</th><th scope=col>AGE</th><th scope=col>FEMALE</th><th scope=col>HOSP_NRD</th><th scope=col>NRD_DaysToEvent</th><th scope=col>readm30</th></tr></thead>\n",
       "<tbody>\n",
       "\t<tr><td>bilom1q </td><td>0       </td><td>0       </td><td>0       </td><td>0       </td><td>0       </td><td>0       </td><td>0       </td><td>0       </td><td>0       </td><td>⋯       </td><td>0       </td><td>0       </td><td>0       </td><td>0       </td><td>10683495</td><td>61      </td><td>0       </td><td>11975   </td><td>11347   </td><td>0       </td></tr>\n",
       "\t<tr><td>b97w1zw </td><td>0       </td><td>0       </td><td>0       </td><td>0       </td><td>0       </td><td>0       </td><td>0       </td><td>0       </td><td>0       </td><td>⋯       </td><td>0       </td><td>0       </td><td>0       </td><td>0       </td><td>11655500</td><td>71      </td><td>0       </td><td>12434   </td><td>14519   </td><td>0       </td></tr>\n",
       "\t<tr><td>bauto4o </td><td>0       </td><td>0       </td><td>1       </td><td>0       </td><td>0       </td><td>0       </td><td>0       </td><td>0       </td><td>0       </td><td>⋯       </td><td>0       </td><td>0       </td><td>0       </td><td>0       </td><td>18439778</td><td>66      </td><td>0       </td><td>12913   </td><td>21766   </td><td>0       </td></tr>\n",
       "\t<tr><td>boql9z6 </td><td>0       </td><td>0       </td><td>0       </td><td>0       </td><td>0       </td><td>0       </td><td>0       </td><td>0       </td><td>0       </td><td>⋯       </td><td>0       </td><td>0       </td><td>0       </td><td>0       </td><td>14717885</td><td>29      </td><td>0       </td><td>11837   </td><td>16573   </td><td>0       </td></tr>\n",
       "\t<tr><td>bsgxmgs </td><td>0       </td><td>0       </td><td>0       </td><td>0       </td><td>0       </td><td>0       </td><td>1       </td><td>0       </td><td>0       </td><td>⋯       </td><td>0       </td><td>0       </td><td>0       </td><td>0       </td><td>17868604</td><td>54      </td><td>1       </td><td>11284   </td><td>13465   </td><td>0       </td></tr>\n",
       "\t<tr><td>b9pkftg </td><td>0       </td><td>0       </td><td>0       </td><td>0       </td><td>0       </td><td>0       </td><td>0       </td><td>0       </td><td>0       </td><td>⋯       </td><td>0       </td><td>0       </td><td>0       </td><td>0       </td><td>21957390</td><td>78      </td><td>0       </td><td>12292   </td><td>20827   </td><td>0       </td></tr>\n",
       "</tbody>\n",
       "</table>\n"
      ],
      "text/latex": [
       "\\begin{tabular}{r|llllllllllllllllllllllllllllllllllll}\n",
       " NRD\\_VisitLink & CM\\_AIDS & CM\\_ALCOHOL & CM\\_ANEMDEF & CM\\_ARTH & CM\\_BLDLOSS & CM\\_CHF & CM\\_CHRNLUNG & CM\\_COAG & CM\\_DEPRESS & ⋯ & CM\\_TUMOR & CM\\_ULCER & CM\\_VALVE & CM\\_WGHTLOSS & KEY\\_NRD & AGE & FEMALE & HOSP\\_NRD & NRD\\_DaysToEvent & readm30\\\\\n",
       "\\hline\n",
       "\t bilom1q  & 0        & 0        & 0        & 0        & 0        & 0        & 0        & 0        & 0        & ⋯        & 0        & 0        & 0        & 0        & 10683495 & 61       & 0        & 11975    & 11347    & 0       \\\\\n",
       "\t b97w1zw  & 0        & 0        & 0        & 0        & 0        & 0        & 0        & 0        & 0        & ⋯        & 0        & 0        & 0        & 0        & 11655500 & 71       & 0        & 12434    & 14519    & 0       \\\\\n",
       "\t bauto4o  & 0        & 0        & 1        & 0        & 0        & 0        & 0        & 0        & 0        & ⋯        & 0        & 0        & 0        & 0        & 18439778 & 66       & 0        & 12913    & 21766    & 0       \\\\\n",
       "\t boql9z6  & 0        & 0        & 0        & 0        & 0        & 0        & 0        & 0        & 0        & ⋯        & 0        & 0        & 0        & 0        & 14717885 & 29       & 0        & 11837    & 16573    & 0       \\\\\n",
       "\t bsgxmgs  & 0        & 0        & 0        & 0        & 0        & 0        & 1        & 0        & 0        & ⋯        & 0        & 0        & 0        & 0        & 17868604 & 54       & 1        & 11284    & 13465    & 0       \\\\\n",
       "\t b9pkftg  & 0        & 0        & 0        & 0        & 0        & 0        & 0        & 0        & 0        & ⋯        & 0        & 0        & 0        & 0        & 21957390 & 78       & 0        & 12292    & 20827    & 0       \\\\\n",
       "\\end{tabular}\n"
      ],
      "text/markdown": [
       "\n",
       "NRD_VisitLink | CM_AIDS | CM_ALCOHOL | CM_ANEMDEF | CM_ARTH | CM_BLDLOSS | CM_CHF | CM_CHRNLUNG | CM_COAG | CM_DEPRESS | ⋯ | CM_TUMOR | CM_ULCER | CM_VALVE | CM_WGHTLOSS | KEY_NRD | AGE | FEMALE | HOSP_NRD | NRD_DaysToEvent | readm30 | \n",
       "|---|---|---|---|---|---|\n",
       "| bilom1q  | 0        | 0        | 0        | 0        | 0        | 0        | 0        | 0        | 0        | ⋯        | 0        | 0        | 0        | 0        | 10683495 | 61       | 0        | 11975    | 11347    | 0        | \n",
       "| b97w1zw  | 0        | 0        | 0        | 0        | 0        | 0        | 0        | 0        | 0        | ⋯        | 0        | 0        | 0        | 0        | 11655500 | 71       | 0        | 12434    | 14519    | 0        | \n",
       "| bauto4o  | 0        | 0        | 1        | 0        | 0        | 0        | 0        | 0        | 0        | ⋯        | 0        | 0        | 0        | 0        | 18439778 | 66       | 0        | 12913    | 21766    | 0        | \n",
       "| boql9z6  | 0        | 0        | 0        | 0        | 0        | 0        | 0        | 0        | 0        | ⋯        | 0        | 0        | 0        | 0        | 14717885 | 29       | 0        | 11837    | 16573    | 0        | \n",
       "| bsgxmgs  | 0        | 0        | 0        | 0        | 0        | 0        | 1        | 0        | 0        | ⋯        | 0        | 0        | 0        | 0        | 17868604 | 54       | 1        | 11284    | 13465    | 0        | \n",
       "| b9pkftg  | 0        | 0        | 0        | 0        | 0        | 0        | 0        | 0        | 0        | ⋯        | 0        | 0        | 0        | 0        | 21957390 | 78       | 0        | 12292    | 20827    | 0        | \n",
       "\n",
       "\n"
      ],
      "text/plain": [
       "  NRD_VisitLink CM_AIDS CM_ALCOHOL CM_ANEMDEF CM_ARTH CM_BLDLOSS CM_CHF\n",
       "1 bilom1q       0       0          0          0       0          0     \n",
       "2 b97w1zw       0       0          0          0       0          0     \n",
       "3 bauto4o       0       0          1          0       0          0     \n",
       "4 boql9z6       0       0          0          0       0          0     \n",
       "5 bsgxmgs       0       0          0          0       0          0     \n",
       "6 b9pkftg       0       0          0          0       0          0     \n",
       "  CM_CHRNLUNG CM_COAG CM_DEPRESS ⋯ CM_TUMOR CM_ULCER CM_VALVE CM_WGHTLOSS\n",
       "1 0           0       0          ⋯ 0        0        0        0          \n",
       "2 0           0       0          ⋯ 0        0        0        0          \n",
       "3 0           0       0          ⋯ 0        0        0        0          \n",
       "4 0           0       0          ⋯ 0        0        0        0          \n",
       "5 1           0       0          ⋯ 0        0        0        0          \n",
       "6 0           0       0          ⋯ 0        0        0        0          \n",
       "  KEY_NRD  AGE FEMALE HOSP_NRD NRD_DaysToEvent readm30\n",
       "1 10683495 61  0      11975    11347           0      \n",
       "2 11655500 71  0      12434    14519           0      \n",
       "3 18439778 66  0      12913    21766           0      \n",
       "4 14717885 29  0      11837    16573           0      \n",
       "5 17868604 54  1      11284    13465           0      \n",
       "6 21957390 78  0      12292    20827           0      "
      ]
     },
     "metadata": {},
     "output_type": "display_data"
    }
   ],
   "source": [
    "head(train.df)"
   ]
  },
  {
   "cell_type": "code",
   "execution_count": 6,
   "metadata": {},
   "outputs": [
    {
     "data": {
      "text/html": [
       "<ol class=list-inline>\n",
       "\t<li>163671</li>\n",
       "\t<li>36</li>\n",
       "</ol>\n"
      ],
      "text/latex": [
       "\\begin{enumerate*}\n",
       "\\item 163671\n",
       "\\item 36\n",
       "\\end{enumerate*}\n"
      ],
      "text/markdown": [
       "1. 163671\n",
       "2. 36\n",
       "\n",
       "\n"
      ],
      "text/plain": [
       "[1] 163671     36"
      ]
     },
     "metadata": {},
     "output_type": "display_data"
    },
    {
     "data": {
      "text/html": [
       "<ol class=list-inline>\n",
       "\t<li>18186</li>\n",
       "\t<li>36</li>\n",
       "</ol>\n"
      ],
      "text/latex": [
       "\\begin{enumerate*}\n",
       "\\item 18186\n",
       "\\item 36\n",
       "\\end{enumerate*}\n"
      ],
      "text/markdown": [
       "1. 18186\n",
       "2. 36\n",
       "\n",
       "\n"
      ],
      "text/plain": [
       "[1] 18186    36"
      ]
     },
     "metadata": {},
     "output_type": "display_data"
    }
   ],
   "source": [
    "dim(train.df)\n",
    "dim(test.df)"
   ]
  },
  {
   "cell_type": "code",
   "execution_count": 7,
   "metadata": {},
   "outputs": [],
   "source": [
    "result <- glmer(readm30 ~ CM_AIDS + CM_ALCOHOL + CM_ANEMDEF + CM_ARTH + CM_BLDLOSS + CM_CHF + CM_CHRNLUNG + CM_COAG + \n",
    "                CM_DEPRESS + CM_DM + CM_DMCX + CM_DRUG + CM_HTN_C + CM_HYPOTHY + CM_LIVER + CM_LYMPH + CM_LYTES + CM_METS + \n",
    "                CM_NEURO + CM_OBESE + CM_PARA + CM_PERIVASC + CM_PSYCH + CM_PULMCIRC + CM_RENLFAIL + CM_TUMOR + CM_ULCER + \n",
    "                CM_VALVE + CM_WGHTLOSS + AGE + FEMALE + (1|HOSP_NRD), data = train.df, family = binomial, \n",
    "                control = glmerControl(optimizer = \"nloptwrap\", calc.derivs = FALSE), nAGQ = 2)"
   ]
  },
  {
   "cell_type": "code",
   "execution_count": 18,
   "metadata": {
    "scrolled": false
   },
   "outputs": [
    {
     "name": "stdout",
     "output_type": "stream",
     "text": [
      "Generalized linear mixed model fit by maximum likelihood (Adaptive\n",
      "  Gauss-Hermite Quadrature, nAGQ = 10) [glmerMod]\n",
      " Family: binomial  ( logit )\n",
      "Formula: readm30 ~ CM_AIDS + CM_ALCOHOL + CM_ANEMDEF + CM_ARTH + CM_BLDLOSS +  \n",
      "    CM_CHF + CM_CHRNLUNG + CM_COAG + CM_DEPRESS + CM_DM + CM_DMCX +  \n",
      "    CM_DRUG + CM_HTN_C + CM_HYPOTHY + CM_LIVER + CM_LYMPH + CM_LYTES +  \n",
      "    CM_METS + CM_NEURO + CM_OBESE + CM_PARA + CM_PERIVASC + CM_PSYCH +  \n",
      "    CM_PULMCIRC + CM_RENLFAIL + CM_TUMOR + CM_ULCER + CM_VALVE +  \n",
      "    CM_WGHTLOSS + AGE + FEMALE + (1 | HOSP_NRD)\n",
      "   Data: train.df\n",
      "      AIC       BIC    logLik  deviance  df.resid \n",
      "108132.52 108459.11 -54033.26 108066.52    146738 \n",
      "Random effects:\n",
      " Groups   Name        Std.Dev.\n",
      " HOSP_NRD (Intercept) 0.2001  \n",
      "Number of obs: 146771, groups:  HOSP_NRD, 874\n",
      "Fixed Effects:\n",
      " (Intercept)      CM_AIDS1   CM_ALCOHOL1   CM_ANEMDEF1      CM_ARTH1  \n",
      "    -3.44808       0.22609       0.06104       0.30234       0.17105  \n",
      " CM_BLDLOSS1       CM_CHF1  CM_CHRNLUNG1      CM_COAG1   CM_DEPRESS1  \n",
      "     0.20142       0.27303       0.31989       0.05822       0.14014  \n",
      "      CM_DM1      CM_DMCX1      CM_DRUG1     CM_HTN_C1   CM_HYPOTHY1  \n",
      "     0.25591       0.51966       0.36431       0.01991       0.01835  \n",
      "   CM_LIVER1     CM_LYMPH1     CM_LYTES1      CM_METS1     CM_NEURO1  \n",
      "     0.24937       0.31839       0.26314       0.58374       0.14271  \n",
      "   CM_OBESE1      CM_PARA1  CM_PERIVASC1     CM_PSYCH1  CM_PULMCIRC1  \n",
      "    -0.04356       0.23721       0.22179       0.21073      -0.21405  \n",
      "CM_RENLFAIL1     CM_TUMOR1     CM_ULCER1     CM_VALVE1  CM_WGHTLOSS1  \n",
      "     0.44342       0.33733       0.18687      -0.14440       0.23184  \n",
      "         AGE       FEMALE1  \n",
      "     0.01334       0.15317  \n"
     ]
    }
   ],
   "source": [
    "# results for nAGQ=10\n",
    "print(result, corr=False)"
   ]
  },
  {
   "cell_type": "code",
   "execution_count": 8,
   "metadata": {
    "scrolled": false
   },
   "outputs": [
    {
     "name": "stdout",
     "output_type": "stream",
     "text": [
      "Generalized linear mixed model fit by maximum likelihood (Adaptive\n",
      "  Gauss-Hermite Quadrature, nAGQ = 2) [glmerMod]\n",
      " Family: binomial  ( logit )\n",
      "Formula: readm30 ~ CM_AIDS + CM_ALCOHOL + CM_ANEMDEF + CM_ARTH + CM_BLDLOSS +  \n",
      "    CM_CHF + CM_CHRNLUNG + CM_COAG + CM_DEPRESS + CM_DM + CM_DMCX +  \n",
      "    CM_DRUG + CM_HTN_C + CM_HYPOTHY + CM_LIVER + CM_LYMPH + CM_LYTES +  \n",
      "    CM_METS + CM_NEURO + CM_OBESE + CM_PARA + CM_PERIVASC + CM_PSYCH +  \n",
      "    CM_PULMCIRC + CM_RENLFAIL + CM_TUMOR + CM_ULCER + CM_VALVE +  \n",
      "    CM_WGHTLOSS + AGE + FEMALE + (1 | HOSP_NRD)\n",
      "   Data: train.df\n",
      "      AIC       BIC    logLik  deviance  df.resid \n",
      "120617.11 120947.30 -60275.56 120551.11    163638 \n",
      "Random effects:\n",
      " Groups   Name        Std.Dev.\n",
      " HOSP_NRD (Intercept) 0.2003  \n",
      "Number of obs: 163671, groups:  HOSP_NRD, 869\n",
      "Fixed Effects:\n",
      " (Intercept)      CM_AIDS1   CM_ALCOHOL1   CM_ANEMDEF1      CM_ARTH1  \n",
      "    -3.46382       0.07488       0.03764       0.29889       0.16056  \n",
      " CM_BLDLOSS1       CM_CHF1  CM_CHRNLUNG1      CM_COAG1   CM_DEPRESS1  \n",
      "     0.19056       0.32494       0.31630       0.10099       0.11175  \n",
      "      CM_DM1      CM_DMCX1      CM_DRUG1     CM_HTN_C1   CM_HYPOTHY1  \n",
      "     0.25976       0.49045       0.37647       0.02577       0.01107  \n",
      "   CM_LIVER1     CM_LYMPH1     CM_LYTES1      CM_METS1     CM_NEURO1  \n",
      "     0.30280       0.36424       0.26351       0.52483       0.15629  \n",
      "   CM_OBESE1      CM_PARA1  CM_PERIVASC1     CM_PSYCH1  CM_PULMCIRC1  \n",
      "    -0.05749       0.21892       0.21161       0.25690      -0.25930  \n",
      "CM_RENLFAIL1     CM_TUMOR1     CM_ULCER1     CM_VALVE1  CM_WGHTLOSS1  \n",
      "     0.44411       0.33739       0.32382      -0.16471       0.19336  \n",
      "         AGE       FEMALE1  \n",
      "     0.01366       0.15073  \n"
     ]
    }
   ],
   "source": [
    "# results for nAGQ=2\n",
    "print(result, corr=False)"
   ]
  },
  {
   "cell_type": "code",
   "execution_count": 14,
   "metadata": {},
   "outputs": [
    {
     "name": "stdout",
     "output_type": "stream",
     "text": [
      "Generalized linear mixed model fit by maximum likelihood (Laplace\n",
      "  Approximation) [glmerMod]\n",
      " Family: binomial  ( logit )\n",
      "Formula: readm30 ~ CM_AIDS + CM_ALCOHOL + CM_ANEMDEF + CM_ARTH + CM_BLDLOSS +  \n",
      "    CM_CHF + CM_CHRNLUNG + CM_COAG + CM_DEPRESS + CM_DM + CM_DMCX +  \n",
      "    CM_DRUG + CM_HTN_C + CM_HYPOTHY + CM_LIVER + CM_LYMPH + CM_LYTES +  \n",
      "    CM_METS + CM_NEURO + CM_OBESE + CM_PARA + CM_PERIVASC + CM_PSYCH +  \n",
      "    CM_PULMCIRC + CM_RENLFAIL + CM_TUMOR + CM_ULCER + CM_VALVE +  \n",
      "    CM_WGHTLOSS + AGE + FEMALE + (1 | HOSP_NRD)\n",
      "   Data: train.df\n",
      "      AIC       BIC    logLik  deviance  df.resid \n",
      "108132.65 108459.24 -54033.33 108066.65    146738 \n",
      "Random effects:\n",
      " Groups   Name        Std.Dev.\n",
      " HOSP_NRD (Intercept) 0.2     \n",
      "Number of obs: 146771, groups:  HOSP_NRD, 874\n",
      "Fixed Effects:\n",
      " (Intercept)      CM_AIDS1   CM_ALCOHOL1   CM_ANEMDEF1      CM_ARTH1  \n",
      "    -3.44664       0.22608       0.06122       0.30194       0.17115  \n",
      " CM_BLDLOSS1       CM_CHF1  CM_CHRNLUNG1      CM_COAG1   CM_DEPRESS1  \n",
      "     0.20110       0.27320       0.31947       0.05822       0.14025  \n",
      "      CM_DM1      CM_DMCX1      CM_DRUG1     CM_HTN_C1   CM_HYPOTHY1  \n",
      "     0.25547       0.51892       0.36391       0.01969       0.01837  \n",
      "   CM_LIVER1     CM_LYMPH1     CM_LYTES1      CM_METS1     CM_NEURO1  \n",
      "     0.24930       0.31825       0.26329       0.58337       0.14243  \n",
      "   CM_OBESE1      CM_PARA1  CM_PERIVASC1     CM_PSYCH1  CM_PULMCIRC1  \n",
      "    -0.04368       0.23623       0.22186       0.21218      -0.21409  \n",
      "CM_RENLFAIL1     CM_TUMOR1     CM_ULCER1     CM_VALVE1  CM_WGHTLOSS1  \n",
      "     0.44393       0.33619       0.18765      -0.14432       0.23202  \n",
      "         AGE       FEMALE1  \n",
      "     0.01332       0.15276  \n"
     ]
    }
   ],
   "source": [
    "# results for nAGQ=1\n",
    "print(result, corr=False)"
   ]
  },
  {
   "cell_type": "code",
   "execution_count": 12,
   "metadata": {},
   "outputs": [
    {
     "name": "stdout",
     "output_type": "stream",
     "text": [
      "Generalized linear mixed model fit by maximum likelihood (Adaptive\n",
      "  Gauss-Hermite Quadrature, nAGQ = 0) [glmerMod]\n",
      " Family: binomial  ( logit )\n",
      "Formula: readm30 ~ CM_AIDS + CM_ALCOHOL + CM_ANEMDEF + CM_ARTH + CM_BLDLOSS +  \n",
      "    CM_CHF + CM_CHRNLUNG + CM_COAG + CM_DEPRESS + CM_DM + CM_DMCX +  \n",
      "    CM_DRUG + CM_HTN_C + CM_HYPOTHY + CM_LIVER + CM_LYMPH + CM_LYTES +  \n",
      "    CM_METS + CM_NEURO + CM_OBESE + CM_PARA + CM_PERIVASC + CM_PSYCH +  \n",
      "    CM_PULMCIRC + CM_RENLFAIL + CM_TUMOR + CM_ULCER + CM_VALVE +  \n",
      "    CM_WGHTLOSS + AGE + FEMALE + (1 | HOSP_NRD)\n",
      "   Data: train.df\n",
      "      AIC       BIC    logLik  deviance  df.resid \n",
      "108133.16 108459.75 -54033.58 108067.16    146738 \n",
      "Random effects:\n",
      " Groups   Name        Std.Dev.\n",
      " HOSP_NRD (Intercept) 0.1995  \n",
      "Number of obs: 146771, groups:  HOSP_NRD, 874\n",
      "Fixed Effects:\n",
      " (Intercept)      CM_AIDS1   CM_ALCOHOL1   CM_ANEMDEF1      CM_ARTH1  \n",
      "    -3.43712       0.22602       0.06116       0.30134       0.17114  \n",
      " CM_BLDLOSS1       CM_CHF1  CM_CHRNLUNG1      CM_COAG1   CM_DEPRESS1  \n",
      "     0.20104       0.27278       0.31900       0.05807       0.13990  \n",
      "      CM_DM1      CM_DMCX1      CM_DRUG1     CM_HTN_C1   CM_HYPOTHY1  \n",
      "     0.25537       0.51825       0.36356       0.01967       0.01836  \n",
      "   CM_LIVER1     CM_LYMPH1     CM_LYTES1      CM_METS1     CM_NEURO1  \n",
      "     0.24905       0.31848       0.26224       0.58133       0.14227  \n",
      "   CM_OBESE1      CM_PARA1  CM_PERIVASC1     CM_PSYCH1  CM_PULMCIRC1  \n",
      "    -0.04345       0.23708       0.22140       0.21118      -0.21410  \n",
      "CM_RENLFAIL1     CM_TUMOR1     CM_ULCER1     CM_VALVE1  CM_WGHTLOSS1  \n",
      "     0.44206       0.33659       0.18749      -0.14437       0.23200  \n",
      "         AGE       FEMALE1  \n",
      "     0.01332       0.15280  \n"
     ]
    }
   ],
   "source": [
    "# results for nAGQ=0\n",
    "print(result, corr=False)"
   ]
  },
  {
   "cell_type": "code",
   "execution_count": 9,
   "metadata": {},
   "outputs": [],
   "source": [
    "pred_score <- predict(result, newdata = test.df, type = 'response')"
   ]
  },
  {
   "cell_type": "code",
   "execution_count": 10,
   "metadata": {},
   "outputs": [],
   "source": [
    "pred_test <- data.frame(y_pred = pred_score, y_true = test.df$readm30)"
   ]
  },
  {
   "cell_type": "code",
   "execution_count": 11,
   "metadata": {},
   "outputs": [],
   "source": [
    "write.csv(pred_test, file = paste0(path, 'cohorts/ami/prediction_MELR.csv'))"
   ]
  }
 ],
 "metadata": {
  "kernelspec": {
   "display_name": "R 3.4.1",
   "language": "R",
   "name": "ir-3.4.1"
  },
  "language_info": {
   "codemirror_mode": "r",
   "file_extension": ".r",
   "mimetype": "text/x-r-source",
   "name": "R",
   "pygments_lexer": "r",
   "version": "3.4.1"
  }
 },
 "nbformat": 4,
 "nbformat_minor": 2
}
