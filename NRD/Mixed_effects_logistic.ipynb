{
 "cells": [
  {
   "cell_type": "code",
   "execution_count": 1,
   "metadata": {},
   "outputs": [
    {
     "name": "stderr",
     "output_type": "stream",
     "text": [
      "Loading required package: Matrix\n"
     ]
    }
   ],
   "source": [
    "library(ggplot2)\n",
    "library(GGally)\n",
    "library(lme4)\n",
    "library(lattice)"
   ]
  },
  {
   "cell_type": "code",
   "execution_count": 2,
   "metadata": {},
   "outputs": [],
   "source": [
    "path <- '/nfs/turbo/intmed-bnallamo-turbo/wsliu/Data/NRD/'"
   ]
  },
  {
   "cell_type": "code",
   "execution_count": 2,
   "metadata": {},
   "outputs": [],
   "source": [
    "path <- '/nfs/turbo/umms-awaljee/wsliu/Data/NRD/'"
   ]
  },
  {
   "cell_type": "code",
   "execution_count": 3,
   "metadata": {},
   "outputs": [],
   "source": [
    "train.df <- read.csv(file = paste0(path, 'cohorts30/ami/train0.csv'))\n",
    "tst.df <- read.csv(file = paste0(path, 'cohorts30/ami/tst0.csv'))"
   ]
  },
  {
   "cell_type": "code",
   "execution_count": 4,
   "metadata": {},
   "outputs": [],
   "source": [
    "comorbs <- c('CM_AIDS', 'CM_ALCOHOL', 'CM_ANEMDEF', 'CM_ARTH', 'CM_BLDLOSS', 'CM_CHF', 'CM_CHRNLUNG', 'CM_COAG', 'CM_DEPRESS', 'CM_DM', 'CM_DMCX', 'CM_DRUG', 'CM_HTN_C', 'CM_HYPOTHY', 'CM_LIVER', 'CM_LYMPH', 'CM_LYTES', 'CM_METS', 'CM_NEURO', 'CM_OBESE', 'CM_PARA', 'CM_PERIVASC', 'CM_PSYCH', 'CM_PULMCIRC', 'CM_RENLFAIL', 'CM_TUMOR', 'CM_ULCER', 'CM_VALVE', 'CM_WGHTLOSS')"
   ]
  },
  {
   "cell_type": "code",
   "execution_count": 5,
   "metadata": {},
   "outputs": [],
   "source": [
    "train.df$HOSP_NRD <- as.factor(train.df$HOSP_NRD)\n",
    "tst.df$HOSP_NRD <- as.factor(tst.df$HOSP_NRD)\n",
    "\n",
    "train.df$FEMALE <- as.factor(train.df$FEMALE)\n",
    "tst.df$FEMALE <- as.factor(tst.df$FEMALE)\n",
    "for(c in comorbs){\n",
    "    train.df[ , c] <- as.factor(train.df[ , c])\n",
    "    tst.df[ , c] <- as.factor(tst.df[ , c])\n",
    "}\n",
    "\n",
    "age.mean <- mean(train.df$AGE)\n",
    "age.std <- sd(train.df$AGE)\n",
    "\n",
    "train.df$AGE <- (train.df$AGE - age.mean)/age.std\n",
    "tst.df$AGE <- (tst.df$AGE - age.mean)/age.std\n",
    "\n",
    "train.df$readm30 <- as.numeric(train.df$readm30) - 1\n",
    "tst.df$readm30 <- as.numeric(tst.df$readm30) - 1"
   ]
  },
  {
   "cell_type": "code",
   "execution_count": 9,
   "metadata": {
    "collapsed": true
   },
   "outputs": [
    {
     "data": {
      "text/html": [
       "<table>\n",
       "<thead><tr><th scope=col>AGE</th><th scope=col>AWEEKEND</th><th scope=col>DIED</th><th scope=col>DISCWT</th><th scope=col>DISPUNIFORM</th><th scope=col>DMONTH</th><th scope=col>DQTR</th><th scope=col>DRG</th><th scope=col>DRGVER</th><th scope=col>DRG_NoPOA</th><th scope=col>⋯</th><th scope=col>CM_OBESE</th><th scope=col>CM_PARA</th><th scope=col>CM_PERIVASC</th><th scope=col>CM_PSYCH</th><th scope=col>CM_PULMCIRC</th><th scope=col>CM_RENLFAIL</th><th scope=col>CM_TUMOR</th><th scope=col>CM_ULCER</th><th scope=col>CM_VALVE</th><th scope=col>CM_WGHTLOSS</th></tr></thead>\n",
       "<tbody>\n",
       "\t<tr><td>63      </td><td>0       </td><td>0       </td><td>1.505411</td><td>1       </td><td>11      </td><td>4       </td><td>247     </td><td>32      </td><td>247     </td><td>⋯       </td><td>0       </td><td>0       </td><td>0       </td><td>0       </td><td>0       </td><td>0       </td><td>0       </td><td>0       </td><td>0       </td><td>0       </td></tr>\n",
       "\t<tr><td>84      </td><td>0       </td><td>0       </td><td>2.359884</td><td>5       </td><td> 2      </td><td>1       </td><td>280     </td><td>31      </td><td>280     </td><td>⋯       </td><td>0       </td><td>0       </td><td>0       </td><td>0       </td><td>0       </td><td>0       </td><td>0       </td><td>0       </td><td>0       </td><td>0       </td></tr>\n",
       "\t<tr><td>57      </td><td>1       </td><td>0       </td><td>1.945870</td><td>6       </td><td> 5      </td><td>2       </td><td>280     </td><td>31      </td><td>280     </td><td>⋯       </td><td>1       </td><td>0       </td><td>0       </td><td>0       </td><td>0       </td><td>1       </td><td>0       </td><td>0       </td><td>0       </td><td>0       </td></tr>\n",
       "\t<tr><td>55      </td><td>0       </td><td>0       </td><td>3.319084</td><td>5       </td><td> 7      </td><td>3       </td><td>280     </td><td>31      </td><td>280     </td><td>⋯       </td><td>0       </td><td>0       </td><td>0       </td><td>0       </td><td>0       </td><td>0       </td><td>0       </td><td>0       </td><td>0       </td><td>0       </td></tr>\n",
       "\t<tr><td>74      </td><td>0       </td><td>0       </td><td>2.312238</td><td>1       </td><td> 2      </td><td>1       </td><td>247     </td><td>31      </td><td>247     </td><td>⋯       </td><td>0       </td><td>0       </td><td>0       </td><td>0       </td><td>0       </td><td>0       </td><td>0       </td><td>0       </td><td>0       </td><td>0       </td></tr>\n",
       "\t<tr><td>61      </td><td>1       </td><td>0       </td><td>1.962384</td><td>1       </td><td> 3      </td><td>1       </td><td>247     </td><td>31      </td><td>247     </td><td>⋯       </td><td>0       </td><td>0       </td><td>0       </td><td>0       </td><td>0       </td><td>0       </td><td>0       </td><td>0       </td><td>0       </td><td>0       </td></tr>\n",
       "</tbody>\n",
       "</table>\n"
      ],
      "text/latex": [
       "\\begin{tabular}{r|lllllllllllllllllllllllllllllllllllllllllllllllllllllllllllllllllllllllllllllllllllllllllllllllllllllllllllllllllllllllllllllllllllllllllllllllllllllllllllllllllllllllllllllllllll}\n",
       " AGE & AWEEKEND & DIED & DISCWT & DISPUNIFORM & DMONTH & DQTR & DRG & DRGVER & DRG\\_NoPOA & ⋯ & CM\\_OBESE & CM\\_PARA & CM\\_PERIVASC & CM\\_PSYCH & CM\\_PULMCIRC & CM\\_RENLFAIL & CM\\_TUMOR & CM\\_ULCER & CM\\_VALVE & CM\\_WGHTLOSS\\\\\n",
       "\\hline\n",
       "\t 63       & 0        & 0        & 1.505411 & 1        & 11       & 4        & 247      & 32       & 247      & ⋯        & 0        & 0        & 0        & 0        & 0        & 0        & 0        & 0        & 0        & 0       \\\\\n",
       "\t 84       & 0        & 0        & 2.359884 & 5        &  2       & 1        & 280      & 31       & 280      & ⋯        & 0        & 0        & 0        & 0        & 0        & 0        & 0        & 0        & 0        & 0       \\\\\n",
       "\t 57       & 1        & 0        & 1.945870 & 6        &  5       & 2        & 280      & 31       & 280      & ⋯        & 1        & 0        & 0        & 0        & 0        & 1        & 0        & 0        & 0        & 0       \\\\\n",
       "\t 55       & 0        & 0        & 3.319084 & 5        &  7       & 3        & 280      & 31       & 280      & ⋯        & 0        & 0        & 0        & 0        & 0        & 0        & 0        & 0        & 0        & 0       \\\\\n",
       "\t 74       & 0        & 0        & 2.312238 & 1        &  2       & 1        & 247      & 31       & 247      & ⋯        & 0        & 0        & 0        & 0        & 0        & 0        & 0        & 0        & 0        & 0       \\\\\n",
       "\t 61       & 1        & 0        & 1.962384 & 1        &  3       & 1        & 247      & 31       & 247      & ⋯        & 0        & 0        & 0        & 0        & 0        & 0        & 0        & 0        & 0        & 0       \\\\\n",
       "\\end{tabular}\n"
      ],
      "text/markdown": [
       "\n",
       "AGE | AWEEKEND | DIED | DISCWT | DISPUNIFORM | DMONTH | DQTR | DRG | DRGVER | DRG_NoPOA | ⋯ | CM_OBESE | CM_PARA | CM_PERIVASC | CM_PSYCH | CM_PULMCIRC | CM_RENLFAIL | CM_TUMOR | CM_ULCER | CM_VALVE | CM_WGHTLOSS | \n",
       "|---|---|---|---|---|---|\n",
       "| 63       | 0        | 0        | 1.505411 | 1        | 11       | 4        | 247      | 32       | 247      | ⋯        | 0        | 0        | 0        | 0        | 0        | 0        | 0        | 0        | 0        | 0        | \n",
       "| 84       | 0        | 0        | 2.359884 | 5        |  2       | 1        | 280      | 31       | 280      | ⋯        | 0        | 0        | 0        | 0        | 0        | 0        | 0        | 0        | 0        | 0        | \n",
       "| 57       | 1        | 0        | 1.945870 | 6        |  5       | 2        | 280      | 31       | 280      | ⋯        | 1        | 0        | 0        | 0        | 0        | 1        | 0        | 0        | 0        | 0        | \n",
       "| 55       | 0        | 0        | 3.319084 | 5        |  7       | 3        | 280      | 31       | 280      | ⋯        | 0        | 0        | 0        | 0        | 0        | 0        | 0        | 0        | 0        | 0        | \n",
       "| 74       | 0        | 0        | 2.312238 | 1        |  2       | 1        | 247      | 31       | 247      | ⋯        | 0        | 0        | 0        | 0        | 0        | 0        | 0        | 0        | 0        | 0        | \n",
       "| 61       | 1        | 0        | 1.962384 | 1        |  3       | 1        | 247      | 31       | 247      | ⋯        | 0        | 0        | 0        | 0        | 0        | 0        | 0        | 0        | 0        | 0        | \n",
       "\n",
       "\n"
      ],
      "text/plain": [
       "  AGE AWEEKEND DIED DISCWT   DISPUNIFORM DMONTH DQTR DRG DRGVER DRG_NoPOA ⋯\n",
       "1 63  0        0    1.505411 1           11     4    247 32     247       ⋯\n",
       "2 84  0        0    2.359884 5            2     1    280 31     280       ⋯\n",
       "3 57  1        0    1.945870 6            5     2    280 31     280       ⋯\n",
       "4 55  0        0    3.319084 5            7     3    280 31     280       ⋯\n",
       "5 74  0        0    2.312238 1            2     1    247 31     247       ⋯\n",
       "6 61  1        0    1.962384 1            3     1    247 31     247       ⋯\n",
       "  CM_OBESE CM_PARA CM_PERIVASC CM_PSYCH CM_PULMCIRC CM_RENLFAIL CM_TUMOR\n",
       "1 0        0       0           0        0           0           0       \n",
       "2 0        0       0           0        0           0           0       \n",
       "3 1        0       0           0        0           1           0       \n",
       "4 0        0       0           0        0           0           0       \n",
       "5 0        0       0           0        0           0           0       \n",
       "6 0        0       0           0        0           0           0       \n",
       "  CM_ULCER CM_VALVE CM_WGHTLOSS\n",
       "1 0        0        0          \n",
       "2 0        0        0          \n",
       "3 0        0        0          \n",
       "4 0        0        0          \n",
       "5 0        0        0          \n",
       "6 0        0        0          "
      ]
     },
     "metadata": {},
     "output_type": "display_data"
    }
   ],
   "source": [
    "head(train.df)"
   ]
  },
  {
   "cell_type": "code",
   "execution_count": 7,
   "metadata": {},
   "outputs": [
    {
     "data": {
      "text/html": [
       "<ol class=list-inline>\n",
       "\t<li>164280</li>\n",
       "\t<li>183</li>\n",
       "</ol>\n"
      ],
      "text/latex": [
       "\\begin{enumerate*}\n",
       "\\item 164280\n",
       "\\item 183\n",
       "\\end{enumerate*}\n"
      ],
      "text/markdown": [
       "1. 164280\n",
       "2. 183\n",
       "\n",
       "\n"
      ],
      "text/plain": [
       "[1] 164280    183"
      ]
     },
     "metadata": {},
     "output_type": "display_data"
    },
    {
     "data": {
      "text/html": [
       "<ol class=list-inline>\n",
       "\t<li>18689</li>\n",
       "\t<li>183</li>\n",
       "</ol>\n"
      ],
      "text/latex": [
       "\\begin{enumerate*}\n",
       "\\item 18689\n",
       "\\item 183\n",
       "\\end{enumerate*}\n"
      ],
      "text/markdown": [
       "1. 18689\n",
       "2. 183\n",
       "\n",
       "\n"
      ],
      "text/plain": [
       "[1] 18689   183"
      ]
     },
     "metadata": {},
     "output_type": "display_data"
    }
   ],
   "source": [
    "dim(train.df)\n",
    "dim(tst.df)"
   ]
  },
  {
   "cell_type": "code",
   "execution_count": 8,
   "metadata": {},
   "outputs": [],
   "source": [
    "result <- glmer(readm30 ~ CM_AIDS + CM_ALCOHOL + CM_ANEMDEF + CM_ARTH + CM_BLDLOSS + CM_CHF + CM_CHRNLUNG + CM_COAG + \n",
    "                CM_DEPRESS + CM_DM + CM_DMCX + CM_DRUG + CM_HTN_C + CM_HYPOTHY + CM_LIVER + CM_LYMPH + CM_LYTES + CM_METS + \n",
    "                CM_NEURO + CM_OBESE + CM_PARA + CM_PERIVASC + CM_PSYCH + CM_PULMCIRC + CM_RENLFAIL + CM_TUMOR + CM_ULCER + \n",
    "                CM_VALVE + CM_WGHTLOSS + AGE + FEMALE + (1|HOSP_NRD), data = train.df, family = binomial, \n",
    "                control = glmerControl(optimizer = \"nloptwrap\", calc.derivs = FALSE), nAGQ=7)"
   ]
  },
  {
   "cell_type": "code",
   "execution_count": 68,
   "metadata": {},
   "outputs": [],
   "source": [
    "result <- glmer(readm30 ~ CM_AIDS + CM_ALCOHOL + CM_ANEMDEF + CM_ARTH + CM_BLDLOSS + CM_CHF + CM_CHRNLUNG + CM_COAG + \n",
    "                CM_DEPRESS + CM_DM + CM_DMCX + CM_DRUG + CM_HTN_C + CM_HYPOTHY + CM_LIVER + CM_LYMPH + CM_LYTES + CM_METS + \n",
    "                CM_NEURO + CM_OBESE + CM_PARA + CM_PERIVASC + CM_PSYCH + CM_PULMCIRC + CM_RENLFAIL + CM_TUMOR + CM_ULCER + \n",
    "                CM_VALVE + CM_WGHTLOSS + AGE + FEMALE + (1|HOSP_NRD), data = train.df, family = binomial, \n",
    "               control = glmerControl(optimizer = \"bobyqa\", calc.derivs = FALSE, optCtrl=list(maxfun=2e5)))"
   ]
  },
  {
   "cell_type": "code",
   "execution_count": 69,
   "metadata": {},
   "outputs": [
    {
     "ename": "ERROR",
     "evalue": "Error in solve(Hessian, gradient): object 'Hessian' not found\n",
     "output_type": "error",
     "traceback": [
      "Error in solve(Hessian, gradient): object 'Hessian' not found\nTraceback:\n",
      "1. with(derivs1, solve(Hessian, gradient))",
      "2. with.default(derivs1, solve(Hessian, gradient))",
      "3. eval(substitute(expr), data, enclos = parent.frame())",
      "4. eval(substitute(expr), data, enclos = parent.frame())",
      "5. solve(Hessian, gradient)"
     ]
    }
   ],
   "source": [
    "derivs1 <- result@optinfo$derivs\n",
    "sc_grad1 <- with(derivs1,solve(Hessian,gradient))\n",
    "max(abs(sc_grad1))"
   ]
  },
  {
   "cell_type": "code",
   "execution_count": 56,
   "metadata": {},
   "outputs": [
    {
     "data": {
      "text/html": [
       "0.0204799948504756"
      ],
      "text/latex": [
       "0.0204799948504756"
      ],
      "text/markdown": [
       "0.0204799948504756"
      ],
      "text/plain": [
       "[1] 0.02047999"
      ]
     },
     "metadata": {},
     "output_type": "display_data"
    }
   ],
   "source": [
    "max(pmin(abs(sc_grad1),abs(derivs1$gradient)))"
   ]
  },
  {
   "cell_type": "code",
   "execution_count": 9,
   "metadata": {
    "scrolled": true
   },
   "outputs": [
    {
     "name": "stderr",
     "output_type": "stream",
     "text": [
      "\n",
      "Correlation matrix not shown by default, as p = 32 > 12.\n",
      "Use print(obj, correlation=TRUE)  or\n",
      "\t vcov(obj)\t if you need it\n",
      "\n"
     ]
    },
    {
     "data": {
      "text/plain": [
       "Generalized linear mixed model fit by maximum likelihood (Adaptive\n",
       "  Gauss-Hermite Quadrature, nAGQ = 7) [glmerMod]\n",
       " Family: binomial  ( logit )\n",
       "Formula: readm30 ~ CM_AIDS + CM_ALCOHOL + CM_ANEMDEF + CM_ARTH + CM_BLDLOSS +  \n",
       "    CM_CHF + CM_CHRNLUNG + CM_COAG + CM_DEPRESS + CM_DM + CM_DMCX +  \n",
       "    CM_DRUG + CM_HTN_C + CM_HYPOTHY + CM_LIVER + CM_LYMPH + CM_LYTES +  \n",
       "    CM_METS + CM_NEURO + CM_OBESE + CM_PARA + CM_PERIVASC + CM_PSYCH +  \n",
       "    CM_PULMCIRC + CM_RENLFAIL + CM_TUMOR + CM_ULCER + CM_VALVE +  \n",
       "    CM_WGHTLOSS + AGE + FEMALE + (1 | HOSP_NRD)\n",
       "   Data: train.df\n",
       "Control: glmerControl(optimizer = \"nloptwrap\", calc.derivs = FALSE)\n",
       "\n",
       "     AIC      BIC   logLik deviance df.resid \n",
       "115765.6 116095.9 -57849.8 115699.6   164247 \n",
       "\n",
       "Scaled residuals: \n",
       "    Min      1Q  Median      3Q     Max \n",
       "-1.4672 -0.3950 -0.3096 -0.2504  5.9572 \n",
       "\n",
       "Random effects:\n",
       " Groups   Name        Variance Std.Dev.\n",
       " HOSP_NRD (Intercept) 0.0427   0.2066  \n",
       "Number of obs: 164280, groups:  HOSP_NRD, 874\n",
       "\n",
       "Fixed effects:\n",
       "              Estimate Std. Error  z value Pr(>|z|)    \n",
       "(Intercept)  -2.674492   0.021420 -124.859  < 2e-16 ***\n",
       "CM_AIDS1      0.128167   0.200002    0.641 0.521634    \n",
       "CM_ALCOHOL1   0.039295   0.043861    0.896 0.370302    \n",
       "CM_ANEMDEF1   0.287579   0.019586   14.683  < 2e-16 ***\n",
       "CM_ARTH1      0.164150   0.044025    3.729 0.000193 ***\n",
       "CM_BLDLOSS1   0.245961   0.075598    3.254 0.001140 ** \n",
       "CM_CHF1       0.350795   0.099046    3.542 0.000397 ***\n",
       "CM_CHRNLUNG1  0.350895   0.017765   19.752  < 2e-16 ***\n",
       "CM_COAG1      0.111419   0.030727    3.626 0.000288 ***\n",
       "CM_DEPRESS1   0.159011   0.026550    5.989 2.11e-09 ***\n",
       "CM_DM1        0.255952   0.017531   14.600  < 2e-16 ***\n",
       "CM_DMCX1      0.493971   0.026564   18.595  < 2e-16 ***\n",
       "CM_DRUG1      0.435590   0.043646    9.980  < 2e-16 ***\n",
       "CM_HTN_C1     0.015776   0.019017    0.830 0.406777    \n",
       "CM_HYPOTHY1   0.016790   0.023105    0.727 0.467420    \n",
       "CM_LIVER1     0.284222   0.051721    5.495 3.90e-08 ***\n",
       "CM_LYMPH1     0.355995   0.085223    4.177 2.95e-05 ***\n",
       "CM_LYTES1     0.294386   0.017662   16.668  < 2e-16 ***\n",
       "CM_METS1      0.523652   0.069539    7.530 5.06e-14 ***\n",
       "CM_NEURO1     0.186541   0.029541    6.315 2.71e-10 ***\n",
       "CM_OBESE1    -0.049628   0.021418   -2.317 0.020497 *  \n",
       "CM_PARA1      0.262230   0.051228    5.119 3.07e-07 ***\n",
       "CM_PERIVASC1  0.193006   0.021320    9.053  < 2e-16 ***\n",
       "CM_PSYCH1     0.255391   0.042661    5.986 2.14e-09 ***\n",
       "CM_PULMCIRC1 -0.238227   0.242302   -0.983 0.325518    \n",
       "CM_RENLFAIL1  0.472288   0.018963   24.906  < 2e-16 ***\n",
       "CM_TUMOR1     0.302035   0.055222    5.469 4.51e-08 ***\n",
       "CM_ULCER1     0.286023   0.364232    0.785 0.432292    \n",
       "CM_VALVE1    -0.242311   0.187562   -1.292 0.196393    \n",
       "CM_WGHTLOSS1  0.227485   0.040046    5.681 1.34e-08 ***\n",
       "AGE           0.214761   0.009049   23.733  < 2e-16 ***\n",
       "FEMALE1       0.168233   0.016387   10.266  < 2e-16 ***\n",
       "---\n",
       "Signif. codes:  0 ‘***’ 0.001 ‘**’ 0.01 ‘*’ 0.05 ‘.’ 0.1 ‘ ’ 1"
      ]
     },
     "metadata": {},
     "output_type": "display_data"
    }
   ],
   "source": [
    "summary(result)"
   ]
  },
  {
   "cell_type": "code",
   "execution_count": 72,
   "metadata": {
    "scrolled": true
   },
   "outputs": [
    {
     "name": "stderr",
     "output_type": "stream",
     "text": [
      "\n",
      "Correlation matrix not shown by default, as p = 32 > 12.\n",
      "Use print(obj, correlation=TRUE)  or\n",
      "\t vcov(obj)\t if you need it\n",
      "\n"
     ]
    },
    {
     "data": {
      "text/plain": [
       "Generalized linear mixed model fit by maximum likelihood (Laplace\n",
       "  Approximation) [glmerMod]\n",
       " Family: binomial  ( logit )\n",
       "Formula: readm30 ~ CM_AIDS + CM_ALCOHOL + CM_ANEMDEF + CM_ARTH + CM_BLDLOSS +  \n",
       "    CM_CHF + CM_CHRNLUNG + CM_COAG + CM_DEPRESS + CM_DM + CM_DMCX +  \n",
       "    CM_DRUG + CM_HTN_C + CM_HYPOTHY + CM_LIVER + CM_LYMPH + CM_LYTES +  \n",
       "    CM_METS + CM_NEURO + CM_OBESE + CM_PARA + CM_PERIVASC + CM_PSYCH +  \n",
       "    CM_PULMCIRC + CM_RENLFAIL + CM_TUMOR + CM_ULCER + CM_VALVE +  \n",
       "    CM_WGHTLOSS + AGE + FEMALE + (1 | HOSP_NRD)\n",
       "   Data: train.df\n",
       "Control: glmerControl(optimizer = \"nloptwrap\", calc.derivs = FALSE)\n",
       "\n",
       "     AIC      BIC   logLik deviance df.resid \n",
       "115765.7 116096.0 -57849.9 115699.7   164247 \n",
       "\n",
       "Scaled residuals: \n",
       "    Min      1Q  Median      3Q     Max \n",
       "-1.4679 -0.3950 -0.3096 -0.2504  5.9564 \n",
       "\n",
       "Random effects:\n",
       " Groups   Name        Variance Std.Dev.\n",
       " HOSP_NRD (Intercept) 0.04265  0.2065  \n",
       "Number of obs: 164280, groups:  HOSP_NRD, 874\n",
       "\n",
       "Fixed effects:\n",
       "              Estimate Std. Error  z value Pr(>|z|)    \n",
       "(Intercept)  -2.674479   0.021419 -124.866  < 2e-16 ***\n",
       "CM_AIDS1      0.127114   0.200066    0.635 0.525194    \n",
       "CM_ALCOHOL1   0.037890   0.043879    0.864 0.387857    \n",
       "CM_ANEMDEF1   0.287553   0.019586   14.682  < 2e-16 ***\n",
       "CM_ARTH1      0.164414   0.044022    3.735 0.000188 ***\n",
       "CM_BLDLOSS1   0.246172   0.075593    3.257 0.001128 ** \n",
       "CM_CHF1       0.351956   0.099029    3.554 0.000379 ***\n",
       "CM_CHRNLUNG1  0.351096   0.017764   19.764  < 2e-16 ***\n",
       "CM_COAG1      0.111269   0.030728    3.621 0.000293 ***\n",
       "CM_DEPRESS1   0.158881   0.026551    5.984 2.18e-09 ***\n",
       "CM_DM1        0.255809   0.017531   14.592  < 2e-16 ***\n",
       "CM_DMCX1      0.494092   0.026563   18.601  < 2e-16 ***\n",
       "CM_DRUG1      0.435331   0.043651    9.973  < 2e-16 ***\n",
       "CM_HTN_C1     0.015995   0.019017    0.841 0.400304    \n",
       "CM_HYPOTHY1   0.016404   0.023107    0.710 0.477774    \n",
       "CM_LIVER1     0.285158   0.051712    5.514 3.50e-08 ***\n",
       "CM_LYMPH1     0.356285   0.085217    4.181 2.90e-05 ***\n",
       "CM_LYTES1     0.294365   0.017662   16.666  < 2e-16 ***\n",
       "CM_METS1      0.524368   0.069526    7.542 4.63e-14 ***\n",
       "CM_NEURO1     0.186492   0.029542    6.313 2.74e-10 ***\n",
       "CM_OBESE1    -0.049811   0.021418   -2.326 0.020038 *  \n",
       "CM_PARA1      0.262413   0.051226    5.123 3.01e-07 ***\n",
       "CM_PERIVASC1  0.192656   0.021321    9.036  < 2e-16 ***\n",
       "CM_PSYCH1     0.255550   0.042660    5.990 2.09e-09 ***\n",
       "CM_PULMCIRC1 -0.239775   0.242407   -0.989 0.322594    \n",
       "CM_RENLFAIL1  0.472328   0.018963   24.908  < 2e-16 ***\n",
       "CM_TUMOR1     0.301887   0.055224    5.467 4.59e-08 ***\n",
       "CM_ULCER1     0.291829   0.363674    0.802 0.422295    \n",
       "CM_VALVE1    -0.244993   0.187657   -1.306 0.191709    \n",
       "CM_WGHTLOSS1  0.227893   0.040043    5.691 1.26e-08 ***\n",
       "AGE           0.214745   0.009049   23.732  < 2e-16 ***\n",
       "FEMALE1       0.168139   0.016387   10.261  < 2e-16 ***\n",
       "---\n",
       "Signif. codes:  0 ‘***’ 0.001 ‘**’ 0.01 ‘*’ 0.05 ‘.’ 0.1 ‘ ’ 1"
      ]
     },
     "metadata": {},
     "output_type": "display_data"
    }
   ],
   "source": [
    "summary(result)"
   ]
  },
  {
   "cell_type": "code",
   "execution_count": 58,
   "metadata": {},
   "outputs": [],
   "source": [
    "rf <- ranef(result, condVar = TRUE)"
   ]
  },
  {
   "cell_type": "code",
   "execution_count": 12,
   "metadata": {},
   "outputs": [],
   "source": [
    "postVar = attr(rf$HOSP_NRD, 'postVar')"
   ]
  },
  {
   "cell_type": "code",
   "execution_count": 59,
   "metadata": {},
   "outputs": [
    {
     "data": {
      "text/plain": [
       "$HOSP_NRD\n"
      ]
     },
     "metadata": {},
     "output_type": "display_data"
    },
    {
     "data": {
      "image/png": "[encoded data removed]",
      "text/plain": [
       "plot without title"
      ]
     },
     "metadata": {},
     "output_type": "display_data"
    }
   ],
   "source": [
    "dotplot(rf)"
   ]
  },
  {
   "cell_type": "code",
   "execution_count": 65,
   "metadata": {},
   "outputs": [
    {
     "data": {
      "text/plain": [
       " Groups   Name        Std.Dev.\n",
       " HOSP_NRD (Intercept) 0.30138 "
      ]
     },
     "metadata": {},
     "output_type": "display_data"
    }
   ],
   "source": [
    "VarCorr(result)"
   ]
  },
  {
   "cell_type": "code",
   "execution_count": 50,
   "metadata": {},
   "outputs": [],
   "source": [
    "write.csv(coef(result)$HOSP_NRD[ ,c('(Intercept)', 'AGE')], file = paste0(path, 'cohorts/', cohort, '/intercepts0.csv'))"
   ]
  },
  {
   "cell_type": "code",
   "execution_count": 10,
   "metadata": {},
   "outputs": [],
   "source": [
    "pred_score <- predict(result, newdata = tst.df, type = 'response')"
   ]
  },
  {
   "cell_type": "code",
   "execution_count": 11,
   "metadata": {},
   "outputs": [],
   "source": [
    "pred_test <- data.frame(y_pred = pred_score, y_true = tst.df$readm30)"
   ]
  },
  {
   "cell_type": "code",
   "execution_count": 15,
   "metadata": {},
   "outputs": [],
   "source": [
    "write.csv(pred_test, file = paste0(path, 'cohorts30/ami/prediction_MELR0.csv'))"
   ]
  },
  {
   "cell_type": "code",
   "execution_count": 33,
   "metadata": {
    "collapsed": true
   },
   "outputs": [
    {
     "name": "stderr",
     "output_type": "stream",
     "text": [
      "\n",
      "Correlation matrix not shown by default, as p = 32 > 12.\n",
      "Use print(obj, correlation=TRUE)  or\n",
      "\t vcov(obj)\t if you need it\n",
      "\n"
     ]
    },
    {
     "data": {
      "text/plain": [
       "Generalized linear mixed model fit by maximum likelihood (Adaptive\n",
       "  Gauss-Hermite Quadrature, nAGQ = 10) [glmerMod]\n",
       " Family: binomial  ( logit )\n",
       "Formula: readm30 ~ CM_AIDS + CM_ALCOHOL + CM_ANEMDEF + CM_ARTH + CM_BLDLOSS +  \n",
       "    CM_CHF + CM_CHRNLUNG + CM_COAG + CM_DEPRESS + CM_DM + CM_DMCX +  \n",
       "    CM_DRUG + CM_HTN_C + CM_HYPOTHY + CM_LIVER + CM_LYMPH + CM_LYTES +  \n",
       "    CM_METS + CM_NEURO + CM_OBESE + CM_PARA + CM_PERIVASC + CM_PSYCH +  \n",
       "    CM_PULMCIRC + CM_RENLFAIL + CM_TUMOR + CM_ULCER + CM_VALVE +  \n",
       "    CM_WGHTLOSS + AGE + FEMALE + (1 | HOSP_NRD)\n",
       "   Data: train.df\n",
       "Control: glmerControl(optimizer = \"nloptwrap\", calc.derivs = FALSE)\n",
       "\n",
       "     AIC      BIC   logLik deviance df.resid \n",
       "119149.3 119480.4 -59541.7 119083.3   167929 \n",
       "\n",
       "Scaled residuals: \n",
       "    Min      1Q  Median      3Q     Max \n",
       "-1.3811 -0.3977 -0.3123 -0.2526  5.9033 \n",
       "\n",
       "Random effects:\n",
       " Groups   Name        Variance Std.Dev.\n",
       " HOSP_NRD (Intercept) 0.04143  0.2035  \n",
       "Number of obs: 167962, groups:  HOSP_NRD, 1107\n",
       "\n",
       "Fixed effects:\n",
       "              Estimate Std. Error z value Pr(>|z|)    \n",
       "(Intercept)  -3.660550   0.046741 -78.315  < 2e-16 ***\n",
       "CM_AIDS1      0.134250   0.195146   0.688 0.491485    \n",
       "CM_ALCOHOL1   0.041660   0.043428   0.959 0.337413    \n",
       "CM_ANEMDEF1   0.284219   0.019217  14.790  < 2e-16 ***\n",
       "CM_ARTH1      0.157475   0.043506   3.620 0.000295 ***\n",
       "CM_BLDLOSS1   0.276060   0.075154   3.673 0.000239 ***\n",
       "CM_CHF1       0.219977   0.099973   2.200 0.027782 *  \n",
       "CM_CHRNLUNG1  0.343141   0.017479  19.631  < 2e-16 ***\n",
       "CM_COAG1      0.145411   0.030071   4.836 1.33e-06 ***\n",
       "CM_DEPRESS1   0.148280   0.026166   5.667 1.45e-08 ***\n",
       "CM_DM1        0.269723   0.017247  15.638  < 2e-16 ***\n",
       "CM_DMCX1      0.494475   0.026207  18.868  < 2e-16 ***\n",
       "CM_DRUG1      0.394147   0.043558   9.049  < 2e-16 ***\n",
       "CM_HTN_C1     0.017803   0.018697   0.952 0.341014    \n",
       "CM_HYPOTHY1   0.014486   0.022670   0.639 0.522812    \n",
       "CM_LIVER1     0.294866   0.051201   5.759 8.46e-09 ***\n",
       "CM_LYMPH1     0.324156   0.083645   3.875 0.000106 ***\n",
       "CM_LYTES1     0.299318   0.017342  17.259  < 2e-16 ***\n",
       "CM_METS1      0.535785   0.067709   7.913 2.51e-15 ***\n",
       "CM_NEURO1     0.162625   0.028976   5.612 2.00e-08 ***\n",
       "CM_OBESE1    -0.049674   0.021108  -2.353 0.018610 *  \n",
       "CM_PARA1      0.247282   0.050044   4.941 7.76e-07 ***\n",
       "CM_PERIVASC1  0.192245   0.021103   9.110  < 2e-16 ***\n",
       "CM_PSYCH1     0.264137   0.041453   6.372 1.87e-10 ***\n",
       "CM_PULMCIRC1 -0.256799   0.230322  -1.115 0.264870    \n",
       "CM_RENLFAIL1  0.456141   0.018649  24.459  < 2e-16 ***\n",
       "CM_TUMOR1     0.337389   0.053479   6.309 2.81e-10 ***\n",
       "CM_ULCER1     0.343140   0.367455   0.934 0.350392    \n",
       "CM_VALVE1    -0.164294   0.177483  -0.926 0.354607    \n",
       "CM_WGHTLOSS1  0.204481   0.039355   5.196 2.04e-07 ***\n",
       "AGE           0.015049   0.000642  23.440  < 2e-16 ***\n",
       "FEMALE1       0.166287   0.016139  10.303  < 2e-16 ***\n",
       "---\n",
       "Signif. codes:  0 ‘***’ 0.001 ‘**’ 0.01 ‘*’ 0.05 ‘.’ 0.1 ‘ ’ 1"
      ]
     },
     "metadata": {},
     "output_type": "display_data"
    }
   ],
   "source": [
    "# results for nAGQ=10\n",
    "summary(result)"
   ]
  },
  {
   "cell_type": "code",
   "execution_count": 10,
   "metadata": {
    "collapsed": true
   },
   "outputs": [
    {
     "name": "stdout",
     "output_type": "stream",
     "text": [
      "Generalized linear mixed model fit by maximum likelihood (Adaptive\n",
      "  Gauss-Hermite Quadrature, nAGQ = 2) [glmerMod]\n",
      " Family: binomial  ( logit )\n",
      "Formula: readm30 ~ CM_AIDS + CM_ALCOHOL + CM_ANEMDEF + CM_ARTH + CM_BLDLOSS +  \n",
      "    CM_CHF + CM_CHRNLUNG + CM_COAG + CM_DEPRESS + CM_DM + CM_DMCX +  \n",
      "    CM_DRUG + CM_HTN_C + CM_HYPOTHY + CM_LIVER + CM_LYMPH + CM_LYTES +  \n",
      "    CM_METS + CM_NEURO + CM_OBESE + CM_PARA + CM_PERIVASC + CM_PSYCH +  \n",
      "    CM_PULMCIRC + CM_RENLFAIL + CM_TUMOR + CM_ULCER + CM_VALVE +  \n",
      "    CM_WGHTLOSS + AGE + FEMALE + (1 | HOSP_NRD)\n",
      "   Data: train.df\n",
      "      AIC       BIC    logLik  deviance  df.resid \n",
      "115035.08 115365.26 -57484.54 114969.08    163638 \n",
      "Random effects:\n",
      " Groups   Name        Std.Dev.\n",
      " HOSP_NRD (Intercept) 0.2044  \n",
      "Number of obs: 163671, groups:  HOSP_NRD, 869\n",
      "Fixed Effects:\n",
      " (Intercept)      CM_AIDS1   CM_ALCOHOL1   CM_ANEMDEF1      CM_ARTH1  \n",
      "    -3.69359       0.11732       0.05313       0.30028       0.15956  \n",
      " CM_BLDLOSS1       CM_CHF1  CM_CHRNLUNG1      CM_COAG1   CM_DEPRESS1  \n",
      "     0.23957       0.36209       0.34628       0.12777       0.13945  \n",
      "      CM_DM1      CM_DMCX1      CM_DRUG1     CM_HTN_C1   CM_HYPOTHY1  \n",
      "     0.25758       0.48183       0.41967       0.01263       0.02104  \n",
      "   CM_LIVER1     CM_LYMPH1     CM_LYTES1      CM_METS1     CM_NEURO1  \n",
      "     0.33330       0.38027       0.29227       0.55837       0.17592  \n",
      "   CM_OBESE1      CM_PARA1  CM_PERIVASC1     CM_PSYCH1  CM_PULMCIRC1  \n",
      "    -0.05649       0.24735       0.19790       0.29841      -0.25366  \n",
      "CM_RENLFAIL1     CM_TUMOR1     CM_ULCER1     CM_VALVE1  CM_WGHTLOSS1  \n",
      "     0.47006       0.32889       0.38496      -0.14553       0.20198  \n",
      "         AGE       FEMALE1  \n",
      "     0.01531       0.18019  \n"
     ]
    }
   ],
   "source": [
    "# results for nAGQ=2\n",
    "print(result, corr=False)"
   ]
  },
  {
   "cell_type": "code",
   "execution_count": 21,
   "metadata": {
    "collapsed": true
   },
   "outputs": [
    {
     "name": "stderr",
     "output_type": "stream",
     "text": [
      "\n",
      "Correlation matrix not shown by default, as p = 32 > 12.\n",
      "Use print(obj, correlation=TRUE)  or\n",
      "\t vcov(obj)\t if you need it\n",
      "\n"
     ]
    },
    {
     "data": {
      "text/plain": [
       "Generalized linear mixed model fit by maximum likelihood (Laplace\n",
       "  Approximation) [glmerMod]\n",
       " Family: binomial  ( logit )\n",
       "Formula: readm30 ~ CM_AIDS + CM_ALCOHOL + CM_ANEMDEF + CM_ARTH + CM_BLDLOSS +  \n",
       "    CM_CHF + CM_CHRNLUNG + CM_COAG + CM_DEPRESS + CM_DM + CM_DMCX +  \n",
       "    CM_DRUG + CM_HTN_C + CM_HYPOTHY + CM_LIVER + CM_LYMPH + CM_LYTES +  \n",
       "    CM_METS + CM_NEURO + CM_OBESE + CM_PARA + CM_PERIVASC + CM_PSYCH +  \n",
       "    CM_PULMCIRC + CM_RENLFAIL + CM_TUMOR + CM_ULCER + CM_VALVE +  \n",
       "    CM_WGHTLOSS + AGE + FEMALE + (1 | HOSP_NRD)\n",
       "   Data: train.df\n",
       "Control: glmerControl(optimizer = \"nloptwrap\", calc.derivs = FALSE)\n",
       "\n",
       "     AIC      BIC   logLik deviance df.resid \n",
       "119149.4 119480.5 -59541.7 119083.4   167929 \n",
       "\n",
       "Scaled residuals: \n",
       "    Min      1Q  Median      3Q     Max \n",
       "-1.3811 -0.3977 -0.3122 -0.2526  5.9023 \n",
       "\n",
       "Random effects:\n",
       " Groups   Name        Variance Std.Dev.\n",
       " HOSP_NRD (Intercept) 0.04134  0.2033  \n",
       "Number of obs: 167962, groups:  HOSP_NRD, 1107\n",
       "\n",
       "Fixed effects:\n",
       "              Estimate Std. Error z value Pr(>|z|)    \n",
       "(Intercept)  -3.659044   0.046736 -78.291  < 2e-16 ***\n",
       "CM_AIDS1      0.134406   0.195127   0.689 0.490939    \n",
       "CM_ALCOHOL1   0.041857   0.043422   0.964 0.335067    \n",
       "CM_ANEMDEF1   0.284127   0.019218  14.785  < 2e-16 ***\n",
       "CM_ARTH1      0.158036   0.043500   3.633 0.000280 ***\n",
       "CM_BLDLOSS1   0.275028   0.075172   3.659 0.000254 ***\n",
       "CM_CHF1       0.221624   0.099942   2.218 0.026587 *  \n",
       "CM_CHRNLUNG1  0.343262   0.017479  19.638  < 2e-16 ***\n",
       "CM_COAG1      0.146490   0.030064   4.873 1.10e-06 ***\n",
       "CM_DEPRESS1   0.147620   0.026170   5.641 1.69e-08 ***\n",
       "CM_DM1        0.269777   0.017247  15.641  < 2e-16 ***\n",
       "CM_DMCX1      0.494551   0.026207  18.871  < 2e-16 ***\n",
       "CM_DRUG1      0.394255   0.043553   9.052  < 2e-16 ***\n",
       "CM_HTN_C1     0.017482   0.018696   0.935 0.349740    \n",
       "CM_HYPOTHY1   0.014272   0.022672   0.630 0.529005    \n",
       "CM_LIVER1     0.294700   0.051200   5.756 8.62e-09 ***\n",
       "CM_LYMPH1     0.322322   0.083686   3.852 0.000117 ***\n",
       "CM_LYTES1     0.299008   0.017343  17.241  < 2e-16 ***\n",
       "CM_METS1      0.535955   0.067708   7.916 2.46e-15 ***\n",
       "CM_NEURO1     0.163960   0.028968   5.660 1.51e-08 ***\n",
       "CM_OBESE1    -0.050244   0.021111  -2.380 0.017310 *  \n",
       "CM_PARA1      0.247028   0.050045   4.936 7.97e-07 ***\n",
       "CM_PERIVASC1  0.192947   0.021100   9.144  < 2e-16 ***\n",
       "CM_PSYCH1     0.264297   0.041449   6.376 1.81e-10 ***\n",
       "CM_PULMCIRC1 -0.262271   0.230553  -1.138 0.255298    \n",
       "CM_RENLFAIL1  0.456209   0.018650  24.462  < 2e-16 ***\n",
       "CM_TUMOR1     0.340614   0.053434   6.375 1.84e-10 ***\n",
       "CM_ULCER1     0.341573   0.367600   0.929 0.352786    \n",
       "CM_VALVE1    -0.163841   0.177456  -0.923 0.355861    \n",
       "CM_WGHTLOSS1  0.204091   0.039357   5.186 2.15e-07 ***\n",
       "AGE           0.015029   0.000642  23.410  < 2e-16 ***\n",
       "FEMALE1       0.166304   0.016139  10.304  < 2e-16 ***\n",
       "---\n",
       "Signif. codes:  0 ‘***’ 0.001 ‘**’ 0.01 ‘*’ 0.05 ‘.’ 0.1 ‘ ’ 1"
      ]
     },
     "metadata": {},
     "output_type": "display_data"
    }
   ],
   "source": [
    "# results for nAGQ=1\n",
    "summary(result)"
   ]
  },
  {
   "cell_type": "code",
   "execution_count": 23,
   "metadata": {
    "collapsed": true
   },
   "outputs": [
    {
     "name": "stderr",
     "output_type": "stream",
     "text": [
      "\n",
      "Correlation matrix not shown by default, as p = 32 > 12.\n",
      "Use print(obj, correlation=TRUE)  or\n",
      "\t vcov(obj)\t if you need it\n",
      "\n"
     ]
    },
    {
     "data": {
      "text/plain": [
       "Generalized linear mixed model fit by maximum likelihood (Adaptive\n",
       "  Gauss-Hermite Quadrature, nAGQ = 0) [glmerMod]\n",
       " Family: binomial  ( logit )\n",
       "Formula: readm30 ~ CM_AIDS + CM_ALCOHOL + CM_ANEMDEF + CM_ARTH + CM_BLDLOSS +  \n",
       "    CM_CHF + CM_CHRNLUNG + CM_COAG + CM_DEPRESS + CM_DM + CM_DMCX +  \n",
       "    CM_DRUG + CM_HTN_C + CM_HYPOTHY + CM_LIVER + CM_LYMPH + CM_LYTES +  \n",
       "    CM_METS + CM_NEURO + CM_OBESE + CM_PARA + CM_PERIVASC + CM_PSYCH +  \n",
       "    CM_PULMCIRC + CM_RENLFAIL + CM_TUMOR + CM_ULCER + CM_VALVE +  \n",
       "    CM_WGHTLOSS + AGE + FEMALE + (1 | HOSP_NRD)\n",
       "   Data: train.df\n",
       "Control: glmerControl(optimizer = \"nloptwrap\", calc.derivs = FALSE)\n",
       "\n",
       "     AIC      BIC   logLik deviance df.resid \n",
       "119150.0 119481.1 -59542.0 119084.0   167929 \n",
       "\n",
       "Scaled residuals: \n",
       "    Min      1Q  Median      3Q     Max \n",
       "-1.3796 -0.3984 -0.3131 -0.2533  5.8816 \n",
       "\n",
       "Random effects:\n",
       " Groups   Name        Variance Std.Dev.\n",
       " HOSP_NRD (Intercept) 0.04115  0.2028  \n",
       "Number of obs: 167962, groups:  HOSP_NRD, 1107\n",
       "\n",
       "Fixed effects:\n",
       "              Estimate Std. Error z value Pr(>|z|)    \n",
       "(Intercept)  -3.649223   0.046652 -78.222  < 2e-16 ***\n",
       "CM_AIDS1      0.136460   0.194729   0.701 0.483446    \n",
       "CM_ALCOHOL1   0.041922   0.043354   0.967 0.333567    \n",
       "CM_ANEMDEF1   0.283116   0.019198  14.747  < 2e-16 ***\n",
       "CM_ARTH1      0.157628   0.043447   3.628 0.000286 ***\n",
       "CM_BLDLOSS1   0.275604   0.075086   3.671 0.000242 ***\n",
       "CM_CHF1       0.220718   0.099860   2.210 0.027086 *  \n",
       "CM_CHRNLUNG1  0.342283   0.017458  19.606  < 2e-16 ***\n",
       "CM_COAG1      0.146069   0.030034   4.863 1.15e-06 ***\n",
       "CM_DEPRESS1   0.147495   0.026136   5.643 1.67e-08 ***\n",
       "CM_DM1        0.269101   0.017222  15.626  < 2e-16 ***\n",
       "CM_DMCX1      0.493140   0.026182  18.835  < 2e-16 ***\n",
       "CM_DRUG1      0.393737   0.043492   9.053  < 2e-16 ***\n",
       "CM_HTN_C1     0.017834   0.018666   0.955 0.339351    \n",
       "CM_HYPOTHY1   0.014335   0.022641   0.633 0.526657    \n",
       "CM_LIVER1     0.293934   0.051150   5.747 9.11e-09 ***\n",
       "CM_LYMPH1     0.321723   0.083604   3.848 0.000119 ***\n",
       "CM_LYTES1     0.298337   0.017322  17.223  < 2e-16 ***\n",
       "CM_METS1      0.534629   0.067653   7.903 2.73e-15 ***\n",
       "CM_NEURO1     0.162682   0.028939   5.621 1.89e-08 ***\n",
       "CM_OBESE1    -0.049399   0.021076  -2.344 0.019087 *  \n",
       "CM_PARA1      0.246579   0.049999   4.932 8.15e-07 ***\n",
       "CM_PERIVASC1  0.191669   0.021080   9.092  < 2e-16 ***\n",
       "CM_PSYCH1     0.263268   0.041409   6.358 2.05e-10 ***\n",
       "CM_PULMCIRC1 -0.258112   0.230137  -1.122 0.262050    \n",
       "CM_RENLFAIL1  0.454928   0.018628  24.421  < 2e-16 ***\n",
       "CM_TUMOR1     0.337829   0.053409   6.325 2.53e-10 ***\n",
       "CM_ULCER1     0.342947   0.367104   0.934 0.350204    \n",
       "CM_VALVE1    -0.163473   0.177271  -0.922 0.356442    \n",
       "CM_WGHTLOSS1  0.203965   0.039320   5.187 2.13e-07 ***\n",
       "AGE           0.015027   0.000641  23.445  < 2e-16 ***\n",
       "FEMALE1       0.165953   0.016116  10.298  < 2e-16 ***\n",
       "---\n",
       "Signif. codes:  0 ‘***’ 0.001 ‘**’ 0.01 ‘*’ 0.05 ‘.’ 0.1 ‘ ’ 1"
      ]
     },
     "metadata": {},
     "output_type": "display_data"
    }
   ],
   "source": [
    "# results for nAGQ=0\n",
    "summary(result)"
   ]
  },
  {
   "cell_type": "markdown",
   "metadata": {},
   "source": [
    "## Cross Validation"
   ]
  },
  {
   "cell_type": "code",
   "execution_count": 3,
   "metadata": {},
   "outputs": [],
   "source": [
    "comorbs <- c('CM_AIDS', 'CM_ALCOHOL', 'CM_ANEMDEF', 'CM_ARTH', 'CM_BLDLOSS', 'CM_CHF', 'CM_CHRNLUNG', 'CM_COAG', 'CM_DEPRESS', 'CM_DM', 'CM_DMCX', 'CM_DRUG', 'CM_HTN_C', 'CM_HYPOTHY', 'CM_LIVER', 'CM_LYMPH', 'CM_LYTES', 'CM_METS', 'CM_NEURO', 'CM_OBESE', 'CM_PARA', 'CM_PERIVASC', 'CM_PSYCH', 'CM_PULMCIRC', 'CM_RENLFAIL', 'CM_TUMOR', 'CM_ULCER', 'CM_VALVE', 'CM_WGHTLOSS')"
   ]
  },
  {
   "cell_type": "code",
   "execution_count": 17,
   "metadata": {},
   "outputs": [],
   "source": [
    "cohort = 'ami'"
   ]
  },
  {
   "cell_type": "code",
   "execution_count": 18,
   "metadata": {},
   "outputs": [],
   "source": [
    "for (tst_fold in 0:9){\n",
    "    train.df <- read.csv(file = paste0(path, 'cohorts30/', cohort, '/train', tst_fold, '.csv'))\n",
    "    tst.df <- read.csv(file = paste0(path, 'cohorts/', cohort, '/tst', tst_fold, '.csv'))\n",
    "\n",
    "    train.df$HOSP_NRD <- as.factor(train.df$HOSP_NRD)\n",
    "    tst.df$HOSP_NRD <- as.factor(tst.df$HOSP_NRD)\n",
    "\n",
    "    train.df$FEMALE <- as.factor(train.df$FEMALE)\n",
    "    tst.df$FEMALE <- as.factor(tst.df$FEMALE)\n",
    "    for(c in comorbs){\n",
    "        train.df[ , c] <- as.factor(train.df[ , c])\n",
    "        tst.df[ , c] <- as.factor(tst.df[ , c])\n",
    "    }\n",
    "\n",
    "    age.mean <- mean(train.df$AGE)\n",
    "    age.std <- sd(train.df$AGE)\n",
    "    train.df$AGE <- (train.df$AGE - age.mean)/age.std\n",
    "    tst.df$AGE <- (tst.df$AGE - age.mean)/age.std\n",
    "    \n",
    "    train.df$readm30 <- as.numeric(train.df$readm30) - 1\n",
    "    tst.df$readm30 <- as.numeric(tst.df$readm30) - 1\n",
    "    \n",
    "    result <- glmer(readm30 ~ CM_AIDS + CM_ALCOHOL + CM_ANEMDEF + CM_ARTH + CM_BLDLOSS + CM_CHF + CM_CHRNLUNG + CM_COAG + \n",
    "                CM_DEPRESS + CM_DM + CM_DMCX + CM_DRUG + CM_HTN_C + CM_HYPOTHY + CM_LIVER + CM_LYMPH + CM_LYTES + CM_METS + \n",
    "                CM_NEURO + CM_OBESE + CM_PARA + CM_PERIVASC + CM_PSYCH + CM_PULMCIRC + CM_RENLFAIL + CM_TUMOR + CM_ULCER + \n",
    "                CM_VALVE + CM_WGHTLOSS + AGE + FEMALE + (1|HOSP_NRD), data = train.df, family = binomial, \n",
    "                control = glmerControl(optimizer = \"nloptwrap\", calc.derivs = FALSE), nAGQ = 7)\n",
    "    pred_score <- predict(result, newdata = tst.df, type = 'response')\n",
    "    pred_test <- data.frame(y_pred = pred_score, y_true = tst.df$readm30)\n",
    "    write.csv(pred_test, file = paste0(path, 'cohorts30/', cohort, '/prediction_MELR', tst_fold, '.csv'))\n",
    "    }"
   ]
  },
  {
   "cell_type": "markdown",
   "metadata": {},
   "source": [
    "## Risk-Adjusted Readmission Rates"
   ]
  },
  {
   "cell_type": "code",
   "execution_count": 24,
   "metadata": {},
   "outputs": [],
   "source": [
    "cohort = 'ami'"
   ]
  },
  {
   "cell_type": "code",
   "execution_count": 25,
   "metadata": {},
   "outputs": [],
   "source": [
    "index.df <- read.csv(file = paste0(path, 'cohorts/', cohort, '/index_comorb.csv'))"
   ]
  },
  {
   "cell_type": "code",
   "execution_count": 37,
   "metadata": {},
   "outputs": [
    {
     "data": {
      "text/html": [
       "<ol class=list-inline>\n",
       "\t<li>191509</li>\n",
       "\t<li>183</li>\n",
       "</ol>\n"
      ],
      "text/latex": [
       "\\begin{enumerate*}\n",
       "\\item 191509\n",
       "\\item 183\n",
       "\\end{enumerate*}\n"
      ],
      "text/markdown": [
       "1. 191509\n",
       "2. 183\n",
       "\n",
       "\n"
      ],
      "text/plain": [
       "[1] 191509    183"
      ]
     },
     "metadata": {},
     "output_type": "display_data"
    }
   ],
   "source": [
    "dim(index.df)"
   ]
  },
  {
   "cell_type": "code",
   "execution_count": 26,
   "metadata": {},
   "outputs": [],
   "source": [
    "index.df$HOSP_NRD <- as.factor(index.df$HOSP_NRD)\n",
    "\n",
    "index.df$FEMALE <- as.factor(index.df$FEMALE)\n",
    "for(c in comorbs){\n",
    "    index.df[ , c] <- as.factor(index.df[ , c])\n",
    "}\n",
    "\n",
    "index.df$readm30 <- as.numeric(index.df$readm30) - 1"
   ]
  },
  {
   "cell_type": "code",
   "execution_count": 27,
   "metadata": {},
   "outputs": [],
   "source": [
    "hosp_nrd <- index.df$HOSP_NRD\n",
    "\n",
    "predicted_score <- predict(result, newdata = index.df, allow.new.levels = TRUE, type = 'response')\n",
    "\n",
    "index.df$HOSP_NRD <- 0\n",
    "\n",
    "expected_score <- predict(result, newdata = index.df, allow.new.levels = TRUE, type = 'response')\n",
    "\n",
    "adjustment <- data.frame('KEY_NRD'=index.df$KEY_NRD, 'HOSP_NRD'=hosp_nrd, 'readm30'=index.df$readm30, \n",
    "                         'predicted_score'=predicted_score, 'expected_score'=expected_score)"
   ]
  },
  {
   "cell_type": "code",
   "execution_count": 40,
   "metadata": {},
   "outputs": [],
   "source": [
    "write.csv(adjustment, file=paste0(path, 'cohorts/', cohort, '/adjustment1_acc10.csv'))"
   ]
  },
  {
   "cell_type": "code",
   "execution_count": 58,
   "metadata": {},
   "outputs": [],
   "source": [
    "hosp_nrd <- tst.df$HOSP_NRD\n",
    "\n",
    "predicted_score <- predict(result, newdata = tst.df, allow.new.levels = TRUE, type = 'response')\n",
    "\n",
    "tst.df$HOSP_NRD <- 0\n",
    "\n",
    "expected_score <- predict(result, newdata = tst.df, allow.new.levels = TRUE, type = 'response')\n",
    "\n",
    "adjustment <- data.frame('KEY_NRD'=tst.df$KEY_NRD, 'HOSP_NRD'=hosp_nrd, 'readm30'=tst.df$readm30, \n",
    "                         'predicted_score'=predicted_score, 'expected_score'=expected_score)"
   ]
  },
  {
   "cell_type": "code",
   "execution_count": 59,
   "metadata": {},
   "outputs": [],
   "source": [
    "write.csv(adjustment, file=paste0(path, 'cohorts/', cohort, '/adjustment_tst0.csv'))"
   ]
  },
  {
   "cell_type": "markdown",
   "metadata": {},
   "source": [
    "## Recycled Prediction"
   ]
  },
  {
   "cell_type": "code",
   "execution_count": 16,
   "metadata": {},
   "outputs": [],
   "source": [
    "recycled_score <- predict(result, newdata = index.df, allow.new.levels = TRUE, type = 'response')"
   ]
  },
  {
   "cell_type": "code",
   "execution_count": 19,
   "metadata": {},
   "outputs": [
    {
     "data": {
      "text/html": [
       "0.111831193320276"
      ],
      "text/latex": [
       "0.111831193320276"
      ],
      "text/markdown": [
       "0.111831193320276"
      ],
      "text/plain": [
       "[1] 0.1118312"
      ]
     },
     "metadata": {},
     "output_type": "display_data"
    }
   ],
   "source": [
    "mean(recycled_score)"
   ]
  },
  {
   "cell_type": "code",
   "execution_count": 60,
   "metadata": {},
   "outputs": [],
   "source": [
    "hosp_lst <- unique(hosp_nrd)"
   ]
  },
  {
   "cell_type": "code",
   "execution_count": 36,
   "metadata": {},
   "outputs": [],
   "source": [
    "recycled_pred <- vector(mode = 'numeric', length = length(hosp_lst))\n",
    "for (i in 1:length(hosp_lst)){\n",
    "    index.df$HOSP_NRD <- hosp_lst[i]\n",
    "    recycled_score <- predict(result, newdata = index.df, type = 'response')\n",
    "    recycled_pred[i] <- mean(recycled_score)\n",
    "}"
   ]
  },
  {
   "cell_type": "code",
   "execution_count": 61,
   "metadata": {},
   "outputs": [],
   "source": [
    "recycled_pred <- vector(mode = 'numeric', length = length(hosp_lst))\n",
    "for (i in 1:length(hosp_lst)){\n",
    "    tst.df$HOSP_NRD <- hosp_lst[i]\n",
    "    recycled_score <- predict(result, newdata = tst.df, type = 'response')\n",
    "    recycled_pred[i] <- mean(recycled_score)\n",
    "}"
   ]
  },
  {
   "cell_type": "code",
   "execution_count": 26,
   "metadata": {},
   "outputs": [],
   "source": [
    "library(microbenchmark)\n",
    "\n",
    "res <- microbenchmark::microbenchmark(recycled_score <- predict(result, newdata = index.df, allow.new.levels = TRUE, type = 'response'), \n",
    "                               times = 10)\n",
    "\n",
    "summary(res)\n",
    "\n",
    "for (i in 1:10){\n",
    "    recycled_score <- predict(result, newdata = index.df, allow.new.levels = TRUE, type = 'response')\n",
    "}"
   ]
  },
  {
   "cell_type": "code",
   "execution_count": 62,
   "metadata": {},
   "outputs": [],
   "source": [
    "recycled_ME <- data.frame('HOSP_NRD'=hosp_lst, 'Recycled_ME'=recycled_pred)"
   ]
  },
  {
   "cell_type": "code",
   "execution_count": 63,
   "metadata": {},
   "outputs": [],
   "source": [
    "write.csv(recycled_ME, file=paste0(path, 'cohorts/', cohort, '/recycled_ME_tst0.csv'))"
   ]
  }
 ],
 "metadata": {
  "kernelspec": {
   "display_name": "R 3.4.1",
   "language": "R",
   "name": "ir-3.4.1"
  },
  "language_info": {
   "codemirror_mode": "r",
   "file_extension": ".r",
   "mimetype": "text/x-r-source",
   "name": "R",
   "pygments_lexer": "r",
   "version": "3.4.1"
  }
 },
 "nbformat": 4,
 "nbformat_minor": 2
}
