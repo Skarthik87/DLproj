{
 "cells": [
  {
   "cell_type": "code",
   "execution_count": 1,
   "metadata": {},
   "outputs": [
    {
     "name": "stderr",
     "output_type": "stream",
     "text": [
      "Loading required package: Matrix\n"
     ]
    }
   ],
   "source": [
    "library(ggplot2)\n",
    "library(GGally)\n",
    "library(lme4)\n",
    "library(lattice)"
   ]
  },
  {
   "cell_type": "code",
   "execution_count": 2,
   "metadata": {},
   "outputs": [],
   "source": [
    "path <- '/nfs/turbo/intmed-bnallamo-turbo/wsliu/Data/NRD/'"
   ]
  },
  {
   "cell_type": "code",
   "execution_count": 2,
   "metadata": {},
   "outputs": [],
   "source": [
    "path <- '/nfs/turbo/umms-awaljee/wsliu/Data/NRD/'"
   ]
  },
  {
   "cell_type": "code",
   "execution_count": 3,
   "metadata": {},
   "outputs": [],
   "source": [
    "cohort = 'ami'\n",
    "tst_fold = 1"
   ]
  },
  {
   "cell_type": "code",
   "execution_count": 10,
   "metadata": {},
   "outputs": [],
   "source": [
    "train.df <- read.csv(file = paste0(path, 'cohorts30/', cohort, '/train', tst_fold, '.csv'))\n",
    "tst.df <- read.csv(file = paste0(path, 'cohorts30/', cohort, '/tst', tst_fold, '.csv'))"
   ]
  },
  {
   "cell_type": "code",
   "execution_count": 4,
   "metadata": {},
   "outputs": [],
   "source": [
    "comorbs <- c('CM_AIDS', 'CM_ALCOHOL', 'CM_ANEMDEF', 'CM_ARTH', 'CM_BLDLOSS', 'CM_CHF', 'CM_CHRNLUNG', 'CM_COAG', 'CM_DEPRESS', 'CM_DM', 'CM_DMCX', 'CM_DRUG', 'CM_HTN_C', 'CM_HYPOTHY', 'CM_LIVER', 'CM_LYMPH', 'CM_LYTES', 'CM_METS', 'CM_NEURO', 'CM_OBESE', 'CM_PARA', 'CM_PERIVASC', 'CM_PSYCH', 'CM_PULMCIRC', 'CM_RENLFAIL', 'CM_TUMOR', 'CM_ULCER', 'CM_VALVE', 'CM_WGHTLOSS')"
   ]
  },
  {
   "cell_type": "code",
   "execution_count": 11,
   "metadata": {},
   "outputs": [],
   "source": [
    "train.df$HOSP_NRD <- as.factor(train.df$HOSP_NRD)\n",
    "tst.df$HOSP_NRD <- as.factor(tst.df$HOSP_NRD)\n",
    "\n",
    "train.df$FEMALE <- as.factor(train.df$FEMALE)\n",
    "tst.df$FEMALE <- as.factor(tst.df$FEMALE)\n",
    "for(c in comorbs){\n",
    "    train.df[ , c] <- as.factor(train.df[ , c])\n",
    "    tst.df[ , c] <- as.factor(tst.df[ , c])\n",
    "}\n",
    "\n",
    "age.mean <- mean(train.df$AGE)\n",
    "age.std <- sd(train.df$AGE)\n",
    "\n",
    "train.df$AGE <- (train.df$AGE - age.mean)/age.std\n",
    "tst.df$AGE <- (tst.df$AGE - age.mean)/age.std\n",
    "\n",
    "train.df$readm30 <- as.numeric(train.df$readm30) - 1\n",
    "tst.df$readm30 <- as.numeric(tst.df$readm30) - 1"
   ]
  },
  {
   "cell_type": "code",
   "execution_count": 9,
   "metadata": {
    "collapsed": true
   },
   "outputs": [
    {
     "data": {
      "text/html": [
       "<table>\n",
       "<thead><tr><th scope=col>AGE</th><th scope=col>AWEEKEND</th><th scope=col>DIED</th><th scope=col>DISCWT</th><th scope=col>DISPUNIFORM</th><th scope=col>DMONTH</th><th scope=col>DQTR</th><th scope=col>DRG</th><th scope=col>DRGVER</th><th scope=col>DRG_NoPOA</th><th scope=col>⋯</th><th scope=col>CM_OBESE</th><th scope=col>CM_PARA</th><th scope=col>CM_PERIVASC</th><th scope=col>CM_PSYCH</th><th scope=col>CM_PULMCIRC</th><th scope=col>CM_RENLFAIL</th><th scope=col>CM_TUMOR</th><th scope=col>CM_ULCER</th><th scope=col>CM_VALVE</th><th scope=col>CM_WGHTLOSS</th></tr></thead>\n",
       "<tbody>\n",
       "\t<tr><td>63      </td><td>0       </td><td>0       </td><td>1.505411</td><td>1       </td><td>11      </td><td>4       </td><td>247     </td><td>32      </td><td>247     </td><td>⋯       </td><td>0       </td><td>0       </td><td>0       </td><td>0       </td><td>0       </td><td>0       </td><td>0       </td><td>0       </td><td>0       </td><td>0       </td></tr>\n",
       "\t<tr><td>84      </td><td>0       </td><td>0       </td><td>2.359884</td><td>5       </td><td> 2      </td><td>1       </td><td>280     </td><td>31      </td><td>280     </td><td>⋯       </td><td>0       </td><td>0       </td><td>0       </td><td>0       </td><td>0       </td><td>0       </td><td>0       </td><td>0       </td><td>0       </td><td>0       </td></tr>\n",
       "\t<tr><td>57      </td><td>1       </td><td>0       </td><td>1.945870</td><td>6       </td><td> 5      </td><td>2       </td><td>280     </td><td>31      </td><td>280     </td><td>⋯       </td><td>1       </td><td>0       </td><td>0       </td><td>0       </td><td>0       </td><td>1       </td><td>0       </td><td>0       </td><td>0       </td><td>0       </td></tr>\n",
       "\t<tr><td>55      </td><td>0       </td><td>0       </td><td>3.319084</td><td>5       </td><td> 7      </td><td>3       </td><td>280     </td><td>31      </td><td>280     </td><td>⋯       </td><td>0       </td><td>0       </td><td>0       </td><td>0       </td><td>0       </td><td>0       </td><td>0       </td><td>0       </td><td>0       </td><td>0       </td></tr>\n",
       "\t<tr><td>74      </td><td>0       </td><td>0       </td><td>2.312238</td><td>1       </td><td> 2      </td><td>1       </td><td>247     </td><td>31      </td><td>247     </td><td>⋯       </td><td>0       </td><td>0       </td><td>0       </td><td>0       </td><td>0       </td><td>0       </td><td>0       </td><td>0       </td><td>0       </td><td>0       </td></tr>\n",
       "\t<tr><td>61      </td><td>1       </td><td>0       </td><td>1.962384</td><td>1       </td><td> 3      </td><td>1       </td><td>247     </td><td>31      </td><td>247     </td><td>⋯       </td><td>0       </td><td>0       </td><td>0       </td><td>0       </td><td>0       </td><td>0       </td><td>0       </td><td>0       </td><td>0       </td><td>0       </td></tr>\n",
       "</tbody>\n",
       "</table>\n"
      ],
      "text/latex": [
       "\\begin{tabular}{r|lllllllllllllllllllllllllllllllllllllllllllllllllllllllllllllllllllllllllllllllllllllllllllllllllllllllllllllllllllllllllllllllllllllllllllllllllllllllllllllllllllllllllllllllllll}\n",
       " AGE & AWEEKEND & DIED & DISCWT & DISPUNIFORM & DMONTH & DQTR & DRG & DRGVER & DRG\\_NoPOA & ⋯ & CM\\_OBESE & CM\\_PARA & CM\\_PERIVASC & CM\\_PSYCH & CM\\_PULMCIRC & CM\\_RENLFAIL & CM\\_TUMOR & CM\\_ULCER & CM\\_VALVE & CM\\_WGHTLOSS\\\\\n",
       "\\hline\n",
       "\t 63       & 0        & 0        & 1.505411 & 1        & 11       & 4        & 247      & 32       & 247      & ⋯        & 0        & 0        & 0        & 0        & 0        & 0        & 0        & 0        & 0        & 0       \\\\\n",
       "\t 84       & 0        & 0        & 2.359884 & 5        &  2       & 1        & 280      & 31       & 280      & ⋯        & 0        & 0        & 0        & 0        & 0        & 0        & 0        & 0        & 0        & 0       \\\\\n",
       "\t 57       & 1        & 0        & 1.945870 & 6        &  5       & 2        & 280      & 31       & 280      & ⋯        & 1        & 0        & 0        & 0        & 0        & 1        & 0        & 0        & 0        & 0       \\\\\n",
       "\t 55       & 0        & 0        & 3.319084 & 5        &  7       & 3        & 280      & 31       & 280      & ⋯        & 0        & 0        & 0        & 0        & 0        & 0        & 0        & 0        & 0        & 0       \\\\\n",
       "\t 74       & 0        & 0        & 2.312238 & 1        &  2       & 1        & 247      & 31       & 247      & ⋯        & 0        & 0        & 0        & 0        & 0        & 0        & 0        & 0        & 0        & 0       \\\\\n",
       "\t 61       & 1        & 0        & 1.962384 & 1        &  3       & 1        & 247      & 31       & 247      & ⋯        & 0        & 0        & 0        & 0        & 0        & 0        & 0        & 0        & 0        & 0       \\\\\n",
       "\\end{tabular}\n"
      ],
      "text/markdown": [
       "\n",
       "AGE | AWEEKEND | DIED | DISCWT | DISPUNIFORM | DMONTH | DQTR | DRG | DRGVER | DRG_NoPOA | ⋯ | CM_OBESE | CM_PARA | CM_PERIVASC | CM_PSYCH | CM_PULMCIRC | CM_RENLFAIL | CM_TUMOR | CM_ULCER | CM_VALVE | CM_WGHTLOSS | \n",
       "|---|---|---|---|---|---|\n",
       "| 63       | 0        | 0        | 1.505411 | 1        | 11       | 4        | 247      | 32       | 247      | ⋯        | 0        | 0        | 0        | 0        | 0        | 0        | 0        | 0        | 0        | 0        | \n",
       "| 84       | 0        | 0        | 2.359884 | 5        |  2       | 1        | 280      | 31       | 280      | ⋯        | 0        | 0        | 0        | 0        | 0        | 0        | 0        | 0        | 0        | 0        | \n",
       "| 57       | 1        | 0        | 1.945870 | 6        |  5       | 2        | 280      | 31       | 280      | ⋯        | 1        | 0        | 0        | 0        | 0        | 1        | 0        | 0        | 0        | 0        | \n",
       "| 55       | 0        | 0        | 3.319084 | 5        |  7       | 3        | 280      | 31       | 280      | ⋯        | 0        | 0        | 0        | 0        | 0        | 0        | 0        | 0        | 0        | 0        | \n",
       "| 74       | 0        | 0        | 2.312238 | 1        |  2       | 1        | 247      | 31       | 247      | ⋯        | 0        | 0        | 0        | 0        | 0        | 0        | 0        | 0        | 0        | 0        | \n",
       "| 61       | 1        | 0        | 1.962384 | 1        |  3       | 1        | 247      | 31       | 247      | ⋯        | 0        | 0        | 0        | 0        | 0        | 0        | 0        | 0        | 0        | 0        | \n",
       "\n",
       "\n"
      ],
      "text/plain": [
       "  AGE AWEEKEND DIED DISCWT   DISPUNIFORM DMONTH DQTR DRG DRGVER DRG_NoPOA ⋯\n",
       "1 63  0        0    1.505411 1           11     4    247 32     247       ⋯\n",
       "2 84  0        0    2.359884 5            2     1    280 31     280       ⋯\n",
       "3 57  1        0    1.945870 6            5     2    280 31     280       ⋯\n",
       "4 55  0        0    3.319084 5            7     3    280 31     280       ⋯\n",
       "5 74  0        0    2.312238 1            2     1    247 31     247       ⋯\n",
       "6 61  1        0    1.962384 1            3     1    247 31     247       ⋯\n",
       "  CM_OBESE CM_PARA CM_PERIVASC CM_PSYCH CM_PULMCIRC CM_RENLFAIL CM_TUMOR\n",
       "1 0        0       0           0        0           0           0       \n",
       "2 0        0       0           0        0           0           0       \n",
       "3 1        0       0           0        0           1           0       \n",
       "4 0        0       0           0        0           0           0       \n",
       "5 0        0       0           0        0           0           0       \n",
       "6 0        0       0           0        0           0           0       \n",
       "  CM_ULCER CM_VALVE CM_WGHTLOSS\n",
       "1 0        0        0          \n",
       "2 0        0        0          \n",
       "3 0        0        0          \n",
       "4 0        0        0          \n",
       "5 0        0        0          \n",
       "6 0        0        0          "
      ]
     },
     "metadata": {},
     "output_type": "display_data"
    }
   ],
   "source": [
    "head(train.df)"
   ]
  },
  {
   "cell_type": "code",
   "execution_count": 13,
   "metadata": {},
   "outputs": [
    {
     "data": {
      "text/html": [
       "<ol class=list-inline>\n",
       "\t<li>164370</li>\n",
       "\t<li>183</li>\n",
       "</ol>\n"
      ],
      "text/latex": [
       "\\begin{enumerate*}\n",
       "\\item 164370\n",
       "\\item 183\n",
       "\\end{enumerate*}\n"
      ],
      "text/markdown": [
       "1. 164370\n",
       "2. 183\n",
       "\n",
       "\n"
      ],
      "text/plain": [
       "[1] 164370    183"
      ]
     },
     "metadata": {},
     "output_type": "display_data"
    },
    {
     "data": {
      "text/html": [
       "<ol class=list-inline>\n",
       "\t<li>18599</li>\n",
       "\t<li>183</li>\n",
       "</ol>\n"
      ],
      "text/latex": [
       "\\begin{enumerate*}\n",
       "\\item 18599\n",
       "\\item 183\n",
       "\\end{enumerate*}\n"
      ],
      "text/markdown": [
       "1. 18599\n",
       "2. 183\n",
       "\n",
       "\n"
      ],
      "text/plain": [
       "[1] 18599   183"
      ]
     },
     "metadata": {},
     "output_type": "display_data"
    }
   ],
   "source": [
    "dim(train.df)\n",
    "dim(tst.df)"
   ]
  },
  {
   "cell_type": "code",
   "execution_count": 14,
   "metadata": {},
   "outputs": [],
   "source": [
    "result <- glmer(readm30 ~ CM_AIDS + CM_ALCOHOL + CM_ANEMDEF + CM_ARTH + CM_BLDLOSS + CM_CHF + CM_CHRNLUNG + CM_COAG + \n",
    "                CM_DEPRESS + CM_DM + CM_DMCX + CM_DRUG + CM_HTN_C + CM_HYPOTHY + CM_LIVER + CM_LYMPH + CM_LYTES + CM_METS + \n",
    "                CM_NEURO + CM_OBESE + CM_PARA + CM_PERIVASC + CM_PSYCH + CM_PULMCIRC + CM_RENLFAIL + CM_TUMOR + CM_ULCER + \n",
    "                CM_VALVE + CM_WGHTLOSS + AGE + FEMALE + (1|HOSP_NRD), data = train.df, family = binomial, \n",
    "                control = glmerControl(optimizer = \"nloptwrap\", calc.derivs = F), nAGQ=7)"
   ]
  },
  {
   "cell_type": "code",
   "execution_count": 12,
   "metadata": {},
   "outputs": [],
   "source": [
    "result <- glmer(readm30 ~ CM_AIDS + CM_ALCOHOL + CM_ANEMDEF + CM_ARTH + CM_BLDLOSS + CM_CHF + CM_CHRNLUNG + CM_COAG + \n",
    "                CM_DEPRESS + CM_DM + CM_DMCX + CM_DRUG + CM_HTN_C + CM_HYPOTHY + CM_LIVER + CM_LYMPH + CM_LYTES + CM_METS + \n",
    "                CM_NEURO + CM_OBESE + CM_PARA + CM_PERIVASC + CM_PSYCH + CM_PULMCIRC + CM_RENLFAIL + CM_TUMOR + CM_ULCER + \n",
    "                CM_VALVE + CM_WGHTLOSS + AGE + FEMALE + (1|HOSP_NRD), data = train.df, family = binomial, \n",
    "               control = glmerControl(optimizer = \"nloptwrap\", optCtrl=list(maxfun=2e5)))"
   ]
  },
  {
   "cell_type": "code",
   "execution_count": 69,
   "metadata": {},
   "outputs": [
    {
     "ename": "ERROR",
     "evalue": "Error in solve(Hessian, gradient): object 'Hessian' not found\n",
     "output_type": "error",
     "traceback": [
      "Error in solve(Hessian, gradient): object 'Hessian' not found\nTraceback:\n",
      "1. with(derivs1, solve(Hessian, gradient))",
      "2. with.default(derivs1, solve(Hessian, gradient))",
      "3. eval(substitute(expr), data, enclos = parent.frame())",
      "4. eval(substitute(expr), data, enclos = parent.frame())",
      "5. solve(Hessian, gradient)"
     ]
    }
   ],
   "source": [
    "derivs1 <- result@optinfo$derivs\n",
    "sc_grad1 <- with(derivs1,solve(Hessian,gradient))\n",
    "max(abs(sc_grad1))"
   ]
  },
  {
   "cell_type": "code",
   "execution_count": 56,
   "metadata": {},
   "outputs": [
    {
     "data": {
      "text/html": [
       "0.0204799948504756"
      ],
      "text/latex": [
       "0.0204799948504756"
      ],
      "text/markdown": [
       "0.0204799948504756"
      ],
      "text/plain": [
       "[1] 0.02047999"
      ]
     },
     "metadata": {},
     "output_type": "display_data"
    }
   ],
   "source": [
    "max(pmin(abs(sc_grad1),abs(derivs1$gradient)))"
   ]
  },
  {
   "cell_type": "code",
   "execution_count": 8,
   "metadata": {
    "scrolled": true
   },
   "outputs": [
    {
     "name": "stderr",
     "output_type": "stream",
     "text": [
      "\n",
      "Correlation matrix not shown by default, as p = 32 > 12.\n",
      "Use print(obj, correlation=TRUE)  or\n",
      "\t vcov(obj)\t if you need it\n",
      "\n"
     ]
    },
    {
     "data": {
      "text/plain": [
       "Generalized linear mixed model fit by maximum likelihood (Adaptive\n",
       "  Gauss-Hermite Quadrature, nAGQ = 7) [glmerMod]\n",
       " Family: binomial  ( logit )\n",
       "Formula: readm30 ~ CM_AIDS + CM_ALCOHOL + CM_ANEMDEF + CM_ARTH + CM_BLDLOSS +  \n",
       "    CM_CHF + CM_CHRNLUNG + CM_COAG + CM_DEPRESS + CM_DM + CM_DMCX +  \n",
       "    CM_DRUG + CM_HTN_C + CM_HYPOTHY + CM_LIVER + CM_LYMPH + CM_LYTES +  \n",
       "    CM_METS + CM_NEURO + CM_OBESE + CM_PARA + CM_PERIVASC + CM_PSYCH +  \n",
       "    CM_PULMCIRC + CM_RENLFAIL + CM_TUMOR + CM_ULCER + CM_VALVE +  \n",
       "    CM_WGHTLOSS + AGE + FEMALE + (1 | HOSP_NRD)\n",
       "   Data: train.df\n",
       "Control: glmerControl(optimizer = \"nloptwrap\", calc.derivs = F)\n",
       "\n",
       "     AIC      BIC   logLik deviance df.resid \n",
       "115765.6 116095.9 -57849.8 115699.6   164247 \n",
       "\n",
       "Scaled residuals: \n",
       "    Min      1Q  Median      3Q     Max \n",
       "-1.4672 -0.3950 -0.3096 -0.2504  5.9572 \n",
       "\n",
       "Random effects:\n",
       " Groups   Name        Variance Std.Dev.\n",
       " HOSP_NRD (Intercept) 0.0427   0.2066  \n",
       "Number of obs: 164280, groups:  HOSP_NRD, 874\n",
       "\n",
       "Fixed effects:\n",
       "              Estimate Std. Error  z value Pr(>|z|)    \n",
       "(Intercept)  -2.674492   0.021420 -124.859  < 2e-16 ***\n",
       "CM_AIDS1      0.128167   0.200002    0.641 0.521634    \n",
       "CM_ALCOHOL1   0.039295   0.043861    0.896 0.370302    \n",
       "CM_ANEMDEF1   0.287579   0.019586   14.683  < 2e-16 ***\n",
       "CM_ARTH1      0.164150   0.044025    3.729 0.000193 ***\n",
       "CM_BLDLOSS1   0.245961   0.075598    3.254 0.001140 ** \n",
       "CM_CHF1       0.350795   0.099046    3.542 0.000397 ***\n",
       "CM_CHRNLUNG1  0.350895   0.017765   19.752  < 2e-16 ***\n",
       "CM_COAG1      0.111419   0.030727    3.626 0.000288 ***\n",
       "CM_DEPRESS1   0.159011   0.026550    5.989 2.11e-09 ***\n",
       "CM_DM1        0.255952   0.017531   14.600  < 2e-16 ***\n",
       "CM_DMCX1      0.493971   0.026564   18.595  < 2e-16 ***\n",
       "CM_DRUG1      0.435590   0.043646    9.980  < 2e-16 ***\n",
       "CM_HTN_C1     0.015776   0.019017    0.830 0.406777    \n",
       "CM_HYPOTHY1   0.016790   0.023105    0.727 0.467420    \n",
       "CM_LIVER1     0.284222   0.051721    5.495 3.90e-08 ***\n",
       "CM_LYMPH1     0.355995   0.085223    4.177 2.95e-05 ***\n",
       "CM_LYTES1     0.294386   0.017662   16.668  < 2e-16 ***\n",
       "CM_METS1      0.523652   0.069539    7.530 5.06e-14 ***\n",
       "CM_NEURO1     0.186541   0.029541    6.315 2.71e-10 ***\n",
       "CM_OBESE1    -0.049628   0.021418   -2.317 0.020497 *  \n",
       "CM_PARA1      0.262230   0.051228    5.119 3.07e-07 ***\n",
       "CM_PERIVASC1  0.193006   0.021320    9.053  < 2e-16 ***\n",
       "CM_PSYCH1     0.255391   0.042661    5.986 2.14e-09 ***\n",
       "CM_PULMCIRC1 -0.238227   0.242302   -0.983 0.325518    \n",
       "CM_RENLFAIL1  0.472288   0.018963   24.906  < 2e-16 ***\n",
       "CM_TUMOR1     0.302035   0.055222    5.469 4.51e-08 ***\n",
       "CM_ULCER1     0.286023   0.364232    0.785 0.432292    \n",
       "CM_VALVE1    -0.242311   0.187562   -1.292 0.196393    \n",
       "CM_WGHTLOSS1  0.227485   0.040046    5.681 1.34e-08 ***\n",
       "AGE           0.214761   0.009049   23.733  < 2e-16 ***\n",
       "FEMALE1       0.168233   0.016387   10.266  < 2e-16 ***\n",
       "---\n",
       "Signif. codes:  0 ‘***’ 0.001 ‘**’ 0.01 ‘*’ 0.05 ‘.’ 0.1 ‘ ’ 1"
      ]
     },
     "metadata": {},
     "output_type": "display_data"
    }
   ],
   "source": [
    "summary(result) #tst_fold=0"
   ]
  },
  {
   "cell_type": "code",
   "execution_count": 15,
   "metadata": {
    "scrolled": true
   },
   "outputs": [
    {
     "name": "stderr",
     "output_type": "stream",
     "text": [
      "\n",
      "Correlation matrix not shown by default, as p = 32 > 12.\n",
      "Use print(obj, correlation=TRUE)  or\n",
      "\t vcov(obj)\t if you need it\n",
      "\n"
     ]
    },
    {
     "data": {
      "text/plain": [
       "Generalized linear mixed model fit by maximum likelihood (Adaptive\n",
       "  Gauss-Hermite Quadrature, nAGQ = 7) [glmerMod]\n",
       " Family: binomial  ( logit )\n",
       "Formula: readm30 ~ CM_AIDS + CM_ALCOHOL + CM_ANEMDEF + CM_ARTH + CM_BLDLOSS +  \n",
       "    CM_CHF + CM_CHRNLUNG + CM_COAG + CM_DEPRESS + CM_DM + CM_DMCX +  \n",
       "    CM_DRUG + CM_HTN_C + CM_HYPOTHY + CM_LIVER + CM_LYMPH + CM_LYTES +  \n",
       "    CM_METS + CM_NEURO + CM_OBESE + CM_PARA + CM_PERIVASC + CM_PSYCH +  \n",
       "    CM_PULMCIRC + CM_RENLFAIL + CM_TUMOR + CM_ULCER + CM_VALVE +  \n",
       "    CM_WGHTLOSS + AGE + FEMALE + (1 | HOSP_NRD)\n",
       "   Data: train.df\n",
       "Control: glmerControl(optimizer = \"nloptwrap\", calc.derivs = F)\n",
       "\n",
       "     AIC      BIC   logLik deviance df.resid \n",
       "115760.3 116090.6 -57847.1 115694.3   164337 \n",
       "\n",
       "Scaled residuals: \n",
       "   Min     1Q Median     3Q    Max \n",
       "-1.377 -0.395 -0.310 -0.251  5.956 \n",
       "\n",
       "Random effects:\n",
       " Groups   Name        Variance Std.Dev.\n",
       " HOSP_NRD (Intercept) 0.04211  0.2052  \n",
       "Number of obs: 164370, groups:  HOSP_NRD, 874\n",
       "\n",
       "Fixed effects:\n",
       "              Estimate Std. Error  z value Pr(>|z|)    \n",
       "(Intercept)  -2.677058   0.021392 -125.143  < 2e-16 ***\n",
       "CM_AIDS1      0.117150   0.200743    0.584 0.559502    \n",
       "CM_ALCOHOL1   0.038381   0.043992    0.872 0.382960    \n",
       "CM_ANEMDEF1   0.287241   0.019576   14.673  < 2e-16 ***\n",
       "CM_ARTH1      0.149958   0.044279    3.387 0.000707 ***\n",
       "CM_BLDLOSS1   0.280691   0.076592    3.665 0.000248 ***\n",
       "CM_CHF1       0.242970   0.101525    2.393 0.016702 *  \n",
       "CM_CHRNLUNG1  0.347241   0.017770   19.540  < 2e-16 ***\n",
       "CM_COAG1      0.147910   0.030444    4.858 1.18e-06 ***\n",
       "CM_DEPRESS1   0.150291   0.026625    5.645 1.65e-08 ***\n",
       "CM_DM1        0.272993   0.017510   15.591  < 2e-16 ***\n",
       "CM_DMCX1      0.498777   0.026600   18.751  < 2e-16 ***\n",
       "CM_DRUG1      0.387777   0.044191    8.775  < 2e-16 ***\n",
       "CM_HTN_C1     0.018134   0.019013    0.954 0.340191    \n",
       "CM_HYPOTHY1   0.010883   0.023109    0.471 0.637670    \n",
       "CM_LIVER1     0.309315   0.051805    5.971 2.36e-09 ***\n",
       "CM_LYMPH1     0.316109   0.085451    3.699 0.000216 ***\n",
       "CM_LYTES1     0.298287   0.017656   16.894  < 2e-16 ***\n",
       "CM_METS1      0.529990   0.069618    7.613 2.68e-14 ***\n",
       "CM_NEURO1     0.174055   0.029648    5.871 4.34e-09 ***\n",
       "CM_OBESE1    -0.051774   0.021352   -2.425 0.015318 *  \n",
       "CM_PARA1      0.264771   0.050950    5.197 2.03e-07 ***\n",
       "CM_PERIVASC1  0.188016   0.021406    8.783  < 2e-16 ***\n",
       "CM_PSYCH1     0.248127   0.042529    5.834 5.40e-09 ***\n",
       "CM_PULMCIRC1 -0.162216   0.232100   -0.699 0.484609    \n",
       "CM_RENLFAIL1  0.461034   0.018983   24.287  < 2e-16 ***\n",
       "CM_TUMOR1     0.324928   0.054816    5.928 3.07e-09 ***\n",
       "CM_ULCER1     0.379444   0.369073    1.028 0.303902    \n",
       "CM_VALVE1    -0.136762   0.178383   -0.767 0.443276    \n",
       "CM_WGHTLOSS1  0.207944   0.040334    5.155 2.53e-07 ***\n",
       "AGE           0.209752   0.009047   23.185  < 2e-16 ***\n",
       "FEMALE1       0.169887   0.016392   10.364  < 2e-16 ***\n",
       "---\n",
       "Signif. codes:  0 ‘***’ 0.001 ‘**’ 0.01 ‘*’ 0.05 ‘.’ 0.1 ‘ ’ 1"
      ]
     },
     "metadata": {},
     "output_type": "display_data"
    }
   ],
   "source": [
    "summary(result) #tst_fold=1"
   ]
  },
  {
   "cell_type": "code",
   "execution_count": null,
   "metadata": {},
   "outputs": [],
   "source": [
    "rf <- ranef(result, condVar = TRUE)\n",
    "postVar = attr(rf$HOSP_NRD, 'postVar')\n",
    "\n",
    "random_effects = rf$HOSP_NRD\n",
    "dim(postVar) = dim(postVar)[3]\n",
    "random_effects$postVar = postVar"
   ]
  },
  {
   "cell_type": "code",
   "execution_count": 47,
   "metadata": {},
   "outputs": [],
   "source": [
    "write.csv(random_effects, paste0(path, 'cohorts30/ami/random_effects.csv'))"
   ]
  },
  {
   "cell_type": "code",
   "execution_count": 33,
   "metadata": {
    "collapsed": true
   },
   "outputs": [
    {
     "data": {
      "text/plain": [
       "$HOSP_NRD\n"
      ]
     },
     "metadata": {},
     "output_type": "display_data"
    },
    {
     "data": {
      "image/png": "[encoded data removed]",
      "text/plain": [
       "plot without title"
      ]
     },
     "metadata": {},
     "output_type": "display_data"
    }
   ],
   "source": [
    "dotplot(rf)"
   ]
  },
  {
   "cell_type": "code",
   "execution_count": 50,
   "metadata": {},
   "outputs": [],
   "source": [
    "write.csv(coef(result)$HOSP_NRD[ ,c('(Intercept)', 'AGE')], file = paste0(path, 'cohorts/', cohort, '/intercepts0.csv'))"
   ]
  },
  {
   "cell_type": "code",
   "execution_count": 10,
   "metadata": {},
   "outputs": [],
   "source": [
    "pred_score <- predict(result, newdata = tst.df, type = 'response')\n",
    "\n",
    "pred_test <- data.frame(y_pred = pred_score, y_true = tst.df$readm30)\n",
    "\n",
    "write.csv(pred_test, file = paste0(path, 'cohorts30/ami/prediction_MELR0.csv'))"
   ]
  },
  {
   "cell_type": "code",
   "execution_count": 33,
   "metadata": {
    "collapsed": true
   },
   "outputs": [
    {
     "name": "stderr",
     "output_type": "stream",
     "text": [
      "\n",
      "Correlation matrix not shown by default, as p = 32 > 12.\n",
      "Use print(obj, correlation=TRUE)  or\n",
      "\t vcov(obj)\t if you need it\n",
      "\n"
     ]
    },
    {
     "data": {
      "text/plain": [
       "Generalized linear mixed model fit by maximum likelihood (Adaptive\n",
       "  Gauss-Hermite Quadrature, nAGQ = 10) [glmerMod]\n",
       " Family: binomial  ( logit )\n",
       "Formula: readm30 ~ CM_AIDS + CM_ALCOHOL + CM_ANEMDEF + CM_ARTH + CM_BLDLOSS +  \n",
       "    CM_CHF + CM_CHRNLUNG + CM_COAG + CM_DEPRESS + CM_DM + CM_DMCX +  \n",
       "    CM_DRUG + CM_HTN_C + CM_HYPOTHY + CM_LIVER + CM_LYMPH + CM_LYTES +  \n",
       "    CM_METS + CM_NEURO + CM_OBESE + CM_PARA + CM_PERIVASC + CM_PSYCH +  \n",
       "    CM_PULMCIRC + CM_RENLFAIL + CM_TUMOR + CM_ULCER + CM_VALVE +  \n",
       "    CM_WGHTLOSS + AGE + FEMALE + (1 | HOSP_NRD)\n",
       "   Data: train.df\n",
       "Control: glmerControl(optimizer = \"nloptwrap\", calc.derivs = FALSE)\n",
       "\n",
       "     AIC      BIC   logLik deviance df.resid \n",
       "119149.3 119480.4 -59541.7 119083.3   167929 \n",
       "\n",
       "Scaled residuals: \n",
       "    Min      1Q  Median      3Q     Max \n",
       "-1.3811 -0.3977 -0.3123 -0.2526  5.9033 \n",
       "\n",
       "Random effects:\n",
       " Groups   Name        Variance Std.Dev.\n",
       " HOSP_NRD (Intercept) 0.04143  0.2035  \n",
       "Number of obs: 167962, groups:  HOSP_NRD, 1107\n",
       "\n",
       "Fixed effects:\n",
       "              Estimate Std. Error z value Pr(>|z|)    \n",
       "(Intercept)  -3.660550   0.046741 -78.315  < 2e-16 ***\n",
       "CM_AIDS1      0.134250   0.195146   0.688 0.491485    \n",
       "CM_ALCOHOL1   0.041660   0.043428   0.959 0.337413    \n",
       "CM_ANEMDEF1   0.284219   0.019217  14.790  < 2e-16 ***\n",
       "CM_ARTH1      0.157475   0.043506   3.620 0.000295 ***\n",
       "CM_BLDLOSS1   0.276060   0.075154   3.673 0.000239 ***\n",
       "CM_CHF1       0.219977   0.099973   2.200 0.027782 *  \n",
       "CM_CHRNLUNG1  0.343141   0.017479  19.631  < 2e-16 ***\n",
       "CM_COAG1      0.145411   0.030071   4.836 1.33e-06 ***\n",
       "CM_DEPRESS1   0.148280   0.026166   5.667 1.45e-08 ***\n",
       "CM_DM1        0.269723   0.017247  15.638  < 2e-16 ***\n",
       "CM_DMCX1      0.494475   0.026207  18.868  < 2e-16 ***\n",
       "CM_DRUG1      0.394147   0.043558   9.049  < 2e-16 ***\n",
       "CM_HTN_C1     0.017803   0.018697   0.952 0.341014    \n",
       "CM_HYPOTHY1   0.014486   0.022670   0.639 0.522812    \n",
       "CM_LIVER1     0.294866   0.051201   5.759 8.46e-09 ***\n",
       "CM_LYMPH1     0.324156   0.083645   3.875 0.000106 ***\n",
       "CM_LYTES1     0.299318   0.017342  17.259  < 2e-16 ***\n",
       "CM_METS1      0.535785   0.067709   7.913 2.51e-15 ***\n",
       "CM_NEURO1     0.162625   0.028976   5.612 2.00e-08 ***\n",
       "CM_OBESE1    -0.049674   0.021108  -2.353 0.018610 *  \n",
       "CM_PARA1      0.247282   0.050044   4.941 7.76e-07 ***\n",
       "CM_PERIVASC1  0.192245   0.021103   9.110  < 2e-16 ***\n",
       "CM_PSYCH1     0.264137   0.041453   6.372 1.87e-10 ***\n",
       "CM_PULMCIRC1 -0.256799   0.230322  -1.115 0.264870    \n",
       "CM_RENLFAIL1  0.456141   0.018649  24.459  < 2e-16 ***\n",
       "CM_TUMOR1     0.337389   0.053479   6.309 2.81e-10 ***\n",
       "CM_ULCER1     0.343140   0.367455   0.934 0.350392    \n",
       "CM_VALVE1    -0.164294   0.177483  -0.926 0.354607    \n",
       "CM_WGHTLOSS1  0.204481   0.039355   5.196 2.04e-07 ***\n",
       "AGE           0.015049   0.000642  23.440  < 2e-16 ***\n",
       "FEMALE1       0.166287   0.016139  10.303  < 2e-16 ***\n",
       "---\n",
       "Signif. codes:  0 ‘***’ 0.001 ‘**’ 0.01 ‘*’ 0.05 ‘.’ 0.1 ‘ ’ 1"
      ]
     },
     "metadata": {},
     "output_type": "display_data"
    }
   ],
   "source": [
    "# results for nAGQ=10\n",
    "summary(result)"
   ]
  },
  {
   "cell_type": "code",
   "execution_count": 10,
   "metadata": {
    "collapsed": true
   },
   "outputs": [
    {
     "name": "stdout",
     "output_type": "stream",
     "text": [
      "Generalized linear mixed model fit by maximum likelihood (Adaptive\n",
      "  Gauss-Hermite Quadrature, nAGQ = 2) [glmerMod]\n",
      " Family: binomial  ( logit )\n",
      "Formula: readm30 ~ CM_AIDS + CM_ALCOHOL + CM_ANEMDEF + CM_ARTH + CM_BLDLOSS +  \n",
      "    CM_CHF + CM_CHRNLUNG + CM_COAG + CM_DEPRESS + CM_DM + CM_DMCX +  \n",
      "    CM_DRUG + CM_HTN_C + CM_HYPOTHY + CM_LIVER + CM_LYMPH + CM_LYTES +  \n",
      "    CM_METS + CM_NEURO + CM_OBESE + CM_PARA + CM_PERIVASC + CM_PSYCH +  \n",
      "    CM_PULMCIRC + CM_RENLFAIL + CM_TUMOR + CM_ULCER + CM_VALVE +  \n",
      "    CM_WGHTLOSS + AGE + FEMALE + (1 | HOSP_NRD)\n",
      "   Data: train.df\n",
      "      AIC       BIC    logLik  deviance  df.resid \n",
      "115035.08 115365.26 -57484.54 114969.08    163638 \n",
      "Random effects:\n",
      " Groups   Name        Std.Dev.\n",
      " HOSP_NRD (Intercept) 0.2044  \n",
      "Number of obs: 163671, groups:  HOSP_NRD, 869\n",
      "Fixed Effects:\n",
      " (Intercept)      CM_AIDS1   CM_ALCOHOL1   CM_ANEMDEF1      CM_ARTH1  \n",
      "    -3.69359       0.11732       0.05313       0.30028       0.15956  \n",
      " CM_BLDLOSS1       CM_CHF1  CM_CHRNLUNG1      CM_COAG1   CM_DEPRESS1  \n",
      "     0.23957       0.36209       0.34628       0.12777       0.13945  \n",
      "      CM_DM1      CM_DMCX1      CM_DRUG1     CM_HTN_C1   CM_HYPOTHY1  \n",
      "     0.25758       0.48183       0.41967       0.01263       0.02104  \n",
      "   CM_LIVER1     CM_LYMPH1     CM_LYTES1      CM_METS1     CM_NEURO1  \n",
      "     0.33330       0.38027       0.29227       0.55837       0.17592  \n",
      "   CM_OBESE1      CM_PARA1  CM_PERIVASC1     CM_PSYCH1  CM_PULMCIRC1  \n",
      "    -0.05649       0.24735       0.19790       0.29841      -0.25366  \n",
      "CM_RENLFAIL1     CM_TUMOR1     CM_ULCER1     CM_VALVE1  CM_WGHTLOSS1  \n",
      "     0.47006       0.32889       0.38496      -0.14553       0.20198  \n",
      "         AGE       FEMALE1  \n",
      "     0.01531       0.18019  \n"
     ]
    }
   ],
   "source": [
    "# results for nAGQ=2\n",
    "print(result, corr=False)"
   ]
  },
  {
   "cell_type": "code",
   "execution_count": 21,
   "metadata": {
    "collapsed": true
   },
   "outputs": [
    {
     "name": "stderr",
     "output_type": "stream",
     "text": [
      "\n",
      "Correlation matrix not shown by default, as p = 32 > 12.\n",
      "Use print(obj, correlation=TRUE)  or\n",
      "\t vcov(obj)\t if you need it\n",
      "\n"
     ]
    },
    {
     "data": {
      "text/plain": [
       "Generalized linear mixed model fit by maximum likelihood (Laplace\n",
       "  Approximation) [glmerMod]\n",
       " Family: binomial  ( logit )\n",
       "Formula: readm30 ~ CM_AIDS + CM_ALCOHOL + CM_ANEMDEF + CM_ARTH + CM_BLDLOSS +  \n",
       "    CM_CHF + CM_CHRNLUNG + CM_COAG + CM_DEPRESS + CM_DM + CM_DMCX +  \n",
       "    CM_DRUG + CM_HTN_C + CM_HYPOTHY + CM_LIVER + CM_LYMPH + CM_LYTES +  \n",
       "    CM_METS + CM_NEURO + CM_OBESE + CM_PARA + CM_PERIVASC + CM_PSYCH +  \n",
       "    CM_PULMCIRC + CM_RENLFAIL + CM_TUMOR + CM_ULCER + CM_VALVE +  \n",
       "    CM_WGHTLOSS + AGE + FEMALE + (1 | HOSP_NRD)\n",
       "   Data: train.df\n",
       "Control: glmerControl(optimizer = \"nloptwrap\", calc.derivs = FALSE)\n",
       "\n",
       "     AIC      BIC   logLik deviance df.resid \n",
       "119149.4 119480.5 -59541.7 119083.4   167929 \n",
       "\n",
       "Scaled residuals: \n",
       "    Min      1Q  Median      3Q     Max \n",
       "-1.3811 -0.3977 -0.3122 -0.2526  5.9023 \n",
       "\n",
       "Random effects:\n",
       " Groups   Name        Variance Std.Dev.\n",
       " HOSP_NRD (Intercept) 0.04134  0.2033  \n",
       "Number of obs: 167962, groups:  HOSP_NRD, 1107\n",
       "\n",
       "Fixed effects:\n",
       "              Estimate Std. Error z value Pr(>|z|)    \n",
       "(Intercept)  -3.659044   0.046736 -78.291  < 2e-16 ***\n",
       "CM_AIDS1      0.134406   0.195127   0.689 0.490939    \n",
       "CM_ALCOHOL1   0.041857   0.043422   0.964 0.335067    \n",
       "CM_ANEMDEF1   0.284127   0.019218  14.785  < 2e-16 ***\n",
       "CM_ARTH1      0.158036   0.043500   3.633 0.000280 ***\n",
       "CM_BLDLOSS1   0.275028   0.075172   3.659 0.000254 ***\n",
       "CM_CHF1       0.221624   0.099942   2.218 0.026587 *  \n",
       "CM_CHRNLUNG1  0.343262   0.017479  19.638  < 2e-16 ***\n",
       "CM_COAG1      0.146490   0.030064   4.873 1.10e-06 ***\n",
       "CM_DEPRESS1   0.147620   0.026170   5.641 1.69e-08 ***\n",
       "CM_DM1        0.269777   0.017247  15.641  < 2e-16 ***\n",
       "CM_DMCX1      0.494551   0.026207  18.871  < 2e-16 ***\n",
       "CM_DRUG1      0.394255   0.043553   9.052  < 2e-16 ***\n",
       "CM_HTN_C1     0.017482   0.018696   0.935 0.349740    \n",
       "CM_HYPOTHY1   0.014272   0.022672   0.630 0.529005    \n",
       "CM_LIVER1     0.294700   0.051200   5.756 8.62e-09 ***\n",
       "CM_LYMPH1     0.322322   0.083686   3.852 0.000117 ***\n",
       "CM_LYTES1     0.299008   0.017343  17.241  < 2e-16 ***\n",
       "CM_METS1      0.535955   0.067708   7.916 2.46e-15 ***\n",
       "CM_NEURO1     0.163960   0.028968   5.660 1.51e-08 ***\n",
       "CM_OBESE1    -0.050244   0.021111  -2.380 0.017310 *  \n",
       "CM_PARA1      0.247028   0.050045   4.936 7.97e-07 ***\n",
       "CM_PERIVASC1  0.192947   0.021100   9.144  < 2e-16 ***\n",
       "CM_PSYCH1     0.264297   0.041449   6.376 1.81e-10 ***\n",
       "CM_PULMCIRC1 -0.262271   0.230553  -1.138 0.255298    \n",
       "CM_RENLFAIL1  0.456209   0.018650  24.462  < 2e-16 ***\n",
       "CM_TUMOR1     0.340614   0.053434   6.375 1.84e-10 ***\n",
       "CM_ULCER1     0.341573   0.367600   0.929 0.352786    \n",
       "CM_VALVE1    -0.163841   0.177456  -0.923 0.355861    \n",
       "CM_WGHTLOSS1  0.204091   0.039357   5.186 2.15e-07 ***\n",
       "AGE           0.015029   0.000642  23.410  < 2e-16 ***\n",
       "FEMALE1       0.166304   0.016139  10.304  < 2e-16 ***\n",
       "---\n",
       "Signif. codes:  0 ‘***’ 0.001 ‘**’ 0.01 ‘*’ 0.05 ‘.’ 0.1 ‘ ’ 1"
      ]
     },
     "metadata": {},
     "output_type": "display_data"
    }
   ],
   "source": [
    "# results for nAGQ=1\n",
    "summary(result)"
   ]
  },
  {
   "cell_type": "code",
   "execution_count": 23,
   "metadata": {
    "collapsed": true
   },
   "outputs": [
    {
     "name": "stderr",
     "output_type": "stream",
     "text": [
      "\n",
      "Correlation matrix not shown by default, as p = 32 > 12.\n",
      "Use print(obj, correlation=TRUE)  or\n",
      "\t vcov(obj)\t if you need it\n",
      "\n"
     ]
    },
    {
     "data": {
      "text/plain": [
       "Generalized linear mixed model fit by maximum likelihood (Adaptive\n",
       "  Gauss-Hermite Quadrature, nAGQ = 0) [glmerMod]\n",
       " Family: binomial  ( logit )\n",
       "Formula: readm30 ~ CM_AIDS + CM_ALCOHOL + CM_ANEMDEF + CM_ARTH + CM_BLDLOSS +  \n",
       "    CM_CHF + CM_CHRNLUNG + CM_COAG + CM_DEPRESS + CM_DM + CM_DMCX +  \n",
       "    CM_DRUG + CM_HTN_C + CM_HYPOTHY + CM_LIVER + CM_LYMPH + CM_LYTES +  \n",
       "    CM_METS + CM_NEURO + CM_OBESE + CM_PARA + CM_PERIVASC + CM_PSYCH +  \n",
       "    CM_PULMCIRC + CM_RENLFAIL + CM_TUMOR + CM_ULCER + CM_VALVE +  \n",
       "    CM_WGHTLOSS + AGE + FEMALE + (1 | HOSP_NRD)\n",
       "   Data: train.df\n",
       "Control: glmerControl(optimizer = \"nloptwrap\", calc.derivs = FALSE)\n",
       "\n",
       "     AIC      BIC   logLik deviance df.resid \n",
       "119150.0 119481.1 -59542.0 119084.0   167929 \n",
       "\n",
       "Scaled residuals: \n",
       "    Min      1Q  Median      3Q     Max \n",
       "-1.3796 -0.3984 -0.3131 -0.2533  5.8816 \n",
       "\n",
       "Random effects:\n",
       " Groups   Name        Variance Std.Dev.\n",
       " HOSP_NRD (Intercept) 0.04115  0.2028  \n",
       "Number of obs: 167962, groups:  HOSP_NRD, 1107\n",
       "\n",
       "Fixed effects:\n",
       "              Estimate Std. Error z value Pr(>|z|)    \n",
       "(Intercept)  -3.649223   0.046652 -78.222  < 2e-16 ***\n",
       "CM_AIDS1      0.136460   0.194729   0.701 0.483446    \n",
       "CM_ALCOHOL1   0.041922   0.043354   0.967 0.333567    \n",
       "CM_ANEMDEF1   0.283116   0.019198  14.747  < 2e-16 ***\n",
       "CM_ARTH1      0.157628   0.043447   3.628 0.000286 ***\n",
       "CM_BLDLOSS1   0.275604   0.075086   3.671 0.000242 ***\n",
       "CM_CHF1       0.220718   0.099860   2.210 0.027086 *  \n",
       "CM_CHRNLUNG1  0.342283   0.017458  19.606  < 2e-16 ***\n",
       "CM_COAG1      0.146069   0.030034   4.863 1.15e-06 ***\n",
       "CM_DEPRESS1   0.147495   0.026136   5.643 1.67e-08 ***\n",
       "CM_DM1        0.269101   0.017222  15.626  < 2e-16 ***\n",
       "CM_DMCX1      0.493140   0.026182  18.835  < 2e-16 ***\n",
       "CM_DRUG1      0.393737   0.043492   9.053  < 2e-16 ***\n",
       "CM_HTN_C1     0.017834   0.018666   0.955 0.339351    \n",
       "CM_HYPOTHY1   0.014335   0.022641   0.633 0.526657    \n",
       "CM_LIVER1     0.293934   0.051150   5.747 9.11e-09 ***\n",
       "CM_LYMPH1     0.321723   0.083604   3.848 0.000119 ***\n",
       "CM_LYTES1     0.298337   0.017322  17.223  < 2e-16 ***\n",
       "CM_METS1      0.534629   0.067653   7.903 2.73e-15 ***\n",
       "CM_NEURO1     0.162682   0.028939   5.621 1.89e-08 ***\n",
       "CM_OBESE1    -0.049399   0.021076  -2.344 0.019087 *  \n",
       "CM_PARA1      0.246579   0.049999   4.932 8.15e-07 ***\n",
       "CM_PERIVASC1  0.191669   0.021080   9.092  < 2e-16 ***\n",
       "CM_PSYCH1     0.263268   0.041409   6.358 2.05e-10 ***\n",
       "CM_PULMCIRC1 -0.258112   0.230137  -1.122 0.262050    \n",
       "CM_RENLFAIL1  0.454928   0.018628  24.421  < 2e-16 ***\n",
       "CM_TUMOR1     0.337829   0.053409   6.325 2.53e-10 ***\n",
       "CM_ULCER1     0.342947   0.367104   0.934 0.350204    \n",
       "CM_VALVE1    -0.163473   0.177271  -0.922 0.356442    \n",
       "CM_WGHTLOSS1  0.203965   0.039320   5.187 2.13e-07 ***\n",
       "AGE           0.015027   0.000641  23.445  < 2e-16 ***\n",
       "FEMALE1       0.165953   0.016116  10.298  < 2e-16 ***\n",
       "---\n",
       "Signif. codes:  0 ‘***’ 0.001 ‘**’ 0.01 ‘*’ 0.05 ‘.’ 0.1 ‘ ’ 1"
      ]
     },
     "metadata": {},
     "output_type": "display_data"
    }
   ],
   "source": [
    "# results for nAGQ=0\n",
    "summary(result)"
   ]
  },
  {
   "cell_type": "markdown",
   "metadata": {},
   "source": [
    "## Cross Validation"
   ]
  },
  {
   "cell_type": "code",
   "execution_count": 4,
   "metadata": {},
   "outputs": [],
   "source": [
    "comorbs <- c('CM_AIDS', 'CM_ALCOHOL', 'CM_ANEMDEF', 'CM_ARTH', 'CM_BLDLOSS', 'CM_CHF', 'CM_CHRNLUNG', 'CM_COAG', 'CM_DEPRESS', 'CM_DM', 'CM_DMCX', 'CM_DRUG', 'CM_HTN_C', 'CM_HYPOTHY', 'CM_LIVER', 'CM_LYMPH', 'CM_LYTES', 'CM_METS', 'CM_NEURO', 'CM_OBESE', 'CM_PARA', 'CM_PERIVASC', 'CM_PSYCH', 'CM_PULMCIRC', 'CM_RENLFAIL', 'CM_TUMOR', 'CM_ULCER', 'CM_VALVE', 'CM_WGHTLOSS')"
   ]
  },
  {
   "cell_type": "code",
   "execution_count": 4,
   "metadata": {},
   "outputs": [],
   "source": [
    "cohort = 'ami'"
   ]
  },
  {
   "cell_type": "code",
   "execution_count": 5,
   "metadata": {},
   "outputs": [],
   "source": [
    "index.df <- read.csv(file = paste0(path, 'cohorts30/', cohort, '/index_comorb.csv'))\n",
    "index.df$HOSP_NRD <- as.factor(index.df$HOSP_NRD)\n",
    "index.df$FEMALE <- as.factor(index.df$FEMALE)\n",
    "for(c in comorbs){\n",
    "    index.df[ , c] <- as.factor(index.df[ , c])\n",
    "}\n",
    "index.df$readm30 <- as.numeric(index.df$readm30) - 1\n",
    "hosp_nrd <- index.df$HOSP_NRD\n",
    "age <- index.df$AGE"
   ]
  },
  {
   "cell_type": "code",
   "execution_count": 7,
   "metadata": {},
   "outputs": [],
   "source": [
    "for (tst_fold in 4:9){\n",
    "    train.df <- read.csv(file = paste0(path, 'cohorts30/', cohort, '/train', tst_fold, '.csv'))\n",
    "    tst.df <- read.csv(file = paste0(path, 'cohorts30/', cohort, '/tst', tst_fold, '.csv'))\n",
    "\n",
    "    train.df$HOSP_NRD <- as.factor(train.df$HOSP_NRD)\n",
    "    tst.df$HOSP_NRD <- as.factor(tst.df$HOSP_NRD)\n",
    "\n",
    "    train.df$FEMALE <- as.factor(train.df$FEMALE)\n",
    "    tst.df$FEMALE <- as.factor(tst.df$FEMALE)\n",
    "    for(c in comorbs){\n",
    "        train.df[ , c] <- as.factor(train.df[ , c])\n",
    "        tst.df[ , c] <- as.factor(tst.df[ , c])\n",
    "    }\n",
    "\n",
    "    age.mean <- mean(train.df$AGE)\n",
    "    age.std <- sd(train.df$AGE)\n",
    "    train.df$AGE <- (train.df$AGE - age.mean)/age.std\n",
    "    tst.df$AGE <- (tst.df$AGE - age.mean)/age.std\n",
    "    \n",
    "    train.df$readm30 <- as.numeric(train.df$readm30) - 1\n",
    "    tst.df$readm30 <- as.numeric(tst.df$readm30) - 1\n",
    "    \n",
    "    result <- glmer(readm30 ~ CM_AIDS + CM_ALCOHOL + CM_ANEMDEF + CM_ARTH + CM_BLDLOSS + CM_CHF + CM_CHRNLUNG + CM_COAG + \n",
    "                CM_DEPRESS + CM_DM + CM_DMCX + CM_DRUG + CM_HTN_C + CM_HYPOTHY + CM_LIVER + CM_LYMPH + CM_LYTES + CM_METS + \n",
    "                CM_NEURO + CM_OBESE + CM_PARA + CM_PERIVASC + CM_PSYCH + CM_PULMCIRC + CM_RENLFAIL + CM_TUMOR + CM_ULCER + \n",
    "                CM_VALVE + CM_WGHTLOSS + AGE + FEMALE + (1|HOSP_NRD), data = train.df, family = binomial, \n",
    "                control = glmerControl(optimizer = \"nloptwrap\", calc.derivs = FALSE), nAGQ = 7)\n",
    "    pred_score <- predict(result, newdata = tst.df, type = 'response')\n",
    "    pred_test <- data.frame(y_pred = pred_score, y_true = tst.df$readm30)\n",
    "    write.csv(pred_test, file = paste0(path, 'cohorts30/', cohort, '/prediction_MELR', tst_fold, '.csv'))\n",
    "    \n",
    "    #### save the random effects and their postVar\n",
    "    rf <- ranef(result, condVar = TRUE)\n",
    "    postVar = attr(rf$HOSP_NRD, 'postVar')\n",
    "\n",
    "    random_effects = rf$HOSP_NRD\n",
    "    dim(postVar) = dim(postVar)[3]\n",
    "    random_effects$postVar = postVar\n",
    "    write.csv(random_effects, paste0(path, 'cohorts30/', cohort, '/random_effects', tst_fold, '.csv'))\n",
    "    \n",
    "    #### risk adjustment\n",
    "    index.df$AGE <- (age - age.mean)/age.std\n",
    "    index.df$HOSP_NRD <- hosp_nrd\n",
    "    predicted_score <- predict(result, newdata = index.df, allow.new.levels = TRUE, type = 'response')\n",
    "    index.df$HOSP_NRD <- 0\n",
    "    expected_score <- predict(result, newdata = index.df, allow.new.levels = TRUE, type = 'response')\n",
    "    adjustment <- data.frame('KEY_NRD'=index.df$KEY_NRD, 'HOSP_NRD'=hosp_nrd, 'readm30'=index.df$readm30, \n",
    "                         'predicted_score'=predicted_score, 'expected_score'=expected_score)\n",
    "    write.csv(adjustment, file=paste0(path, 'cohorts30/', cohort, '/adjustment', tst_fold, '.csv'))\n",
    "    national_observed <- mean(adjustment$readm30)\n",
    "    adjusted_rate = aggregate(adjustment[c('readm30', 'predicted_score', 'expected_score')], list(adjustment$HOSP_NRD), mean)\n",
    "    colnames(adjusted_rate)[1] = 'HOSP_NRD'\n",
    "    adjusted_rate$Adjusted_ME = (adjusted_rate$predicted_score/adjusted_rate$expected_score)*national_observed\n",
    "    write.csv(adjusted_rate, paste0(path, 'cohorts30/', cohort, '/adjusted_ME', tst_fold, '.csv'))\n",
    "    }"
   ]
  },
  {
   "cell_type": "markdown",
   "metadata": {},
   "source": [
    "## Risk-Adjusted Readmission Rates"
   ]
  },
  {
   "cell_type": "code",
   "execution_count": 66,
   "metadata": {},
   "outputs": [],
   "source": [
    "cohort = 'ami'\n",
    "tst_fold = 0"
   ]
  },
  {
   "cell_type": "code",
   "execution_count": 64,
   "metadata": {},
   "outputs": [],
   "source": [
    "index.df <- read.csv(file = paste0(path, 'cohorts30/', cohort, '/index_comorb.csv'))"
   ]
  },
  {
   "cell_type": "code",
   "execution_count": null,
   "metadata": {},
   "outputs": [],
   "source": [
    "train.df <- read.csv(file = paste0(path, 'cohorts30/', cohort, '/train', tst_fold, '.csv'))"
   ]
  },
  {
   "cell_type": "code",
   "execution_count": 68,
   "metadata": {},
   "outputs": [],
   "source": [
    "age.mean <- mean(train.df$AGE)\n",
    "age.std <- sd(train.df$AGE)"
   ]
  },
  {
   "cell_type": "code",
   "execution_count": 65,
   "metadata": {},
   "outputs": [
    {
     "data": {
      "text/html": [
       "<ol class=list-inline>\n",
       "\t<li>187274</li>\n",
       "\t<li>183</li>\n",
       "</ol>\n"
      ],
      "text/latex": [
       "\\begin{enumerate*}\n",
       "\\item 187274\n",
       "\\item 183\n",
       "\\end{enumerate*}\n"
      ],
      "text/markdown": [
       "1. 187274\n",
       "2. 183\n",
       "\n",
       "\n"
      ],
      "text/plain": [
       "[1] 187274    183"
      ]
     },
     "metadata": {},
     "output_type": "display_data"
    }
   ],
   "source": [
    "dim(index.df)"
   ]
  },
  {
   "cell_type": "code",
   "execution_count": 69,
   "metadata": {},
   "outputs": [],
   "source": [
    "index.df$HOSP_NRD <- as.factor(index.df$HOSP_NRD)\n",
    "\n",
    "index.df$FEMALE <- as.factor(index.df$FEMALE)\n",
    "for(c in comorbs){\n",
    "    index.df[ , c] <- as.factor(index.df[ , c])\n",
    "}\n",
    "\n",
    "index.df$AGE <- (index.df$AGE - age.mean)/age.std\n",
    "\n",
    "index.df$readm30 <- as.numeric(index.df$readm30) - 1"
   ]
  },
  {
   "cell_type": "code",
   "execution_count": 70,
   "metadata": {},
   "outputs": [],
   "source": [
    "hosp_nrd <- index.df$HOSP_NRD\n",
    "\n",
    "predicted_score <- predict(result, newdata = index.df, allow.new.levels = TRUE, type = 'response')\n",
    "\n",
    "index.df$HOSP_NRD <- 0\n",
    "\n",
    "expected_score <- predict(result, newdata = index.df, allow.new.levels = TRUE, type = 'response')\n",
    "\n",
    "adjustment <- data.frame('KEY_NRD'=index.df$KEY_NRD, 'HOSP_NRD'=hosp_nrd, 'readm30'=index.df$readm30, \n",
    "                         'predicted_score'=predicted_score, 'expected_score'=expected_score)"
   ]
  },
  {
   "cell_type": "code",
   "execution_count": 80,
   "metadata": {},
   "outputs": [],
   "source": [
    "national_observed <- mean(adjustment$readm30)"
   ]
  },
  {
   "cell_type": "code",
   "execution_count": 71,
   "metadata": {},
   "outputs": [],
   "source": [
    "adjusted_rate = aggregate(adjustment[c('readm30', 'predicted_score', 'expected_score')], list(adjustment$HOSP_NRD), mean)\n",
    "\n",
    "colnames(adjusted_rate)[1] = 'HOSP_NRD'\n",
    "\n",
    "adjusted_rate$Adjusted_ME = (adjusted_rate$predicted_score/adjusted_rate$expected_score)*national_observed"
   ]
  },
  {
   "cell_type": "code",
   "execution_count": 82,
   "metadata": {
    "collapsed": true
   },
   "outputs": [
    {
     "data": {
      "text/html": [
       "<table>\n",
       "<thead><tr><th scope=col>HOSP_NRD</th><th scope=col>readm30</th><th scope=col>predicted_score</th><th scope=col>expected_score</th><th scope=col>Adjusted_ME</th></tr></thead>\n",
       "<tbody>\n",
       "\t<tr><td>11006     </td><td>0.10169492</td><td>0.10480173</td><td>0.1169159 </td><td>0.11231025</td></tr>\n",
       "\t<tr><td>11010     </td><td>0.08894231</td><td>0.09994102</td><td>0.1118793 </td><td>0.11192284</td></tr>\n",
       "\t<tr><td>11011     </td><td>0.09859155</td><td>0.16898252</td><td>0.1956664 </td><td>0.10820567</td></tr>\n",
       "\t<tr><td>11013     </td><td>0.20697168</td><td>0.18285481</td><td>0.1393597 </td><td>0.16439700</td></tr>\n",
       "\t<tr><td>11014     </td><td>0.09724473</td><td>0.10577146</td><td>0.1142684 </td><td>0.11597566</td></tr>\n",
       "\t<tr><td>11021     </td><td>0.05459770</td><td>0.07837059</td><td>0.1050350 </td><td>0.09348537</td></tr>\n",
       "\t<tr><td>11022     </td><td>0.10724638</td><td>0.10893094</td><td>0.1094716 </td><td>0.12467354</td></tr>\n",
       "\t<tr><td>11024     </td><td>0.22222222</td><td>0.20106073</td><td>0.1950518 </td><td>0.12915222</td></tr>\n",
       "\t<tr><td>11029     </td><td>0.14529915</td><td>0.14454571</td><td>0.1342349 </td><td>0.13491627</td></tr>\n",
       "\t<tr><td>11032     </td><td>0.11191336</td><td>0.11341441</td><td>0.1116189 </td><td>0.12730786</td></tr>\n",
       "</tbody>\n",
       "</table>\n"
      ],
      "text/latex": [
       "\\begin{tabular}{r|lllll}\n",
       " HOSP\\_NRD & readm30 & predicted\\_score & expected\\_score & Adjusted\\_ME\\\\\n",
       "\\hline\n",
       "\t 11006      & 0.10169492 & 0.10480173 & 0.1169159  & 0.11231025\\\\\n",
       "\t 11010      & 0.08894231 & 0.09994102 & 0.1118793  & 0.11192284\\\\\n",
       "\t 11011      & 0.09859155 & 0.16898252 & 0.1956664  & 0.10820567\\\\\n",
       "\t 11013      & 0.20697168 & 0.18285481 & 0.1393597  & 0.16439700\\\\\n",
       "\t 11014      & 0.09724473 & 0.10577146 & 0.1142684  & 0.11597566\\\\\n",
       "\t 11021      & 0.05459770 & 0.07837059 & 0.1050350  & 0.09348537\\\\\n",
       "\t 11022      & 0.10724638 & 0.10893094 & 0.1094716  & 0.12467354\\\\\n",
       "\t 11024      & 0.22222222 & 0.20106073 & 0.1950518  & 0.12915222\\\\\n",
       "\t 11029      & 0.14529915 & 0.14454571 & 0.1342349  & 0.13491627\\\\\n",
       "\t 11032      & 0.11191336 & 0.11341441 & 0.1116189  & 0.12730786\\\\\n",
       "\\end{tabular}\n"
      ],
      "text/markdown": [
       "\n",
       "HOSP_NRD | readm30 | predicted_score | expected_score | Adjusted_ME | \n",
       "|---|---|---|---|---|---|---|---|---|---|\n",
       "| 11006      | 0.10169492 | 0.10480173 | 0.1169159  | 0.11231025 | \n",
       "| 11010      | 0.08894231 | 0.09994102 | 0.1118793  | 0.11192284 | \n",
       "| 11011      | 0.09859155 | 0.16898252 | 0.1956664  | 0.10820567 | \n",
       "| 11013      | 0.20697168 | 0.18285481 | 0.1393597  | 0.16439700 | \n",
       "| 11014      | 0.09724473 | 0.10577146 | 0.1142684  | 0.11597566 | \n",
       "| 11021      | 0.05459770 | 0.07837059 | 0.1050350  | 0.09348537 | \n",
       "| 11022      | 0.10724638 | 0.10893094 | 0.1094716  | 0.12467354 | \n",
       "| 11024      | 0.22222222 | 0.20106073 | 0.1950518  | 0.12915222 | \n",
       "| 11029      | 0.14529915 | 0.14454571 | 0.1342349  | 0.13491627 | \n",
       "| 11032      | 0.11191336 | 0.11341441 | 0.1116189  | 0.12730786 | \n",
       "\n",
       "\n"
      ],
      "text/plain": [
       "   HOSP_NRD readm30    predicted_score expected_score Adjusted_ME\n",
       "1  11006    0.10169492 0.10480173      0.1169159      0.11231025 \n",
       "2  11010    0.08894231 0.09994102      0.1118793      0.11192284 \n",
       "3  11011    0.09859155 0.16898252      0.1956664      0.10820567 \n",
       "4  11013    0.20697168 0.18285481      0.1393597      0.16439700 \n",
       "5  11014    0.09724473 0.10577146      0.1142684      0.11597566 \n",
       "6  11021    0.05459770 0.07837059      0.1050350      0.09348537 \n",
       "7  11022    0.10724638 0.10893094      0.1094716      0.12467354 \n",
       "8  11024    0.22222222 0.20106073      0.1950518      0.12915222 \n",
       "9  11029    0.14529915 0.14454571      0.1342349      0.13491627 \n",
       "10 11032    0.11191336 0.11341441      0.1116189      0.12730786 "
      ]
     },
     "metadata": {},
     "output_type": "display_data"
    }
   ],
   "source": [
    "adjusted_rate[1:10, ]"
   ]
  },
  {
   "cell_type": "code",
   "execution_count": 84,
   "metadata": {},
   "outputs": [],
   "source": [
    "write.csv(adjusted_rate, paste0(path, 'cohorts30/', cohort, '/adjusted_ME0.csv'))"
   ]
  },
  {
   "cell_type": "code",
   "execution_count": 40,
   "metadata": {},
   "outputs": [],
   "source": [
    "write.csv(adjustment, file=paste0(path, 'cohorts/', cohort, '/adjustment1_acc10.csv'))"
   ]
  },
  {
   "cell_type": "code",
   "execution_count": 58,
   "metadata": {},
   "outputs": [],
   "source": [
    "hosp_nrd <- tst.df$HOSP_NRD\n",
    "\n",
    "predicted_score <- predict(result, newdata = tst.df, allow.new.levels = TRUE, type = 'response')\n",
    "\n",
    "tst.df$HOSP_NRD <- 0\n",
    "\n",
    "expected_score <- predict(result, newdata = tst.df, allow.new.levels = TRUE, type = 'response')\n",
    "\n",
    "adjustment <- data.frame('KEY_NRD'=tst.df$KEY_NRD, 'HOSP_NRD'=hosp_nrd, 'readm30'=tst.df$readm30, \n",
    "                         'predicted_score'=predicted_score, 'expected_score'=expected_score)"
   ]
  },
  {
   "cell_type": "code",
   "execution_count": 59,
   "metadata": {},
   "outputs": [],
   "source": [
    "write.csv(adjustment, file=paste0(path, 'cohorts/', cohort, '/adjustment_tst0.csv'))"
   ]
  },
  {
   "cell_type": "markdown",
   "metadata": {},
   "source": [
    "## Recycled Prediction"
   ]
  },
  {
   "cell_type": "code",
   "execution_count": 16,
   "metadata": {},
   "outputs": [],
   "source": [
    "recycled_score <- predict(result, newdata = index.df, allow.new.levels = TRUE, type = 'response')"
   ]
  },
  {
   "cell_type": "code",
   "execution_count": 19,
   "metadata": {},
   "outputs": [
    {
     "data": {
      "text/html": [
       "0.111831193320276"
      ],
      "text/latex": [
       "0.111831193320276"
      ],
      "text/markdown": [
       "0.111831193320276"
      ],
      "text/plain": [
       "[1] 0.1118312"
      ]
     },
     "metadata": {},
     "output_type": "display_data"
    }
   ],
   "source": [
    "mean(recycled_score)"
   ]
  },
  {
   "cell_type": "code",
   "execution_count": 60,
   "metadata": {},
   "outputs": [],
   "source": [
    "hosp_lst <- unique(hosp_nrd)"
   ]
  },
  {
   "cell_type": "code",
   "execution_count": 36,
   "metadata": {},
   "outputs": [],
   "source": [
    "recycled_pred <- vector(mode = 'numeric', length = length(hosp_lst))\n",
    "for (i in 1:length(hosp_lst)){\n",
    "    index.df$HOSP_NRD <- hosp_lst[i]\n",
    "    recycled_score <- predict(result, newdata = index.df, type = 'response')\n",
    "    recycled_pred[i] <- mean(recycled_score)\n",
    "}"
   ]
  },
  {
   "cell_type": "code",
   "execution_count": 61,
   "metadata": {},
   "outputs": [],
   "source": [
    "recycled_pred <- vector(mode = 'numeric', length = length(hosp_lst))\n",
    "for (i in 1:length(hosp_lst)){\n",
    "    tst.df$HOSP_NRD <- hosp_lst[i]\n",
    "    recycled_score <- predict(result, newdata = tst.df, type = 'response')\n",
    "    recycled_pred[i] <- mean(recycled_score)\n",
    "}"
   ]
  },
  {
   "cell_type": "code",
   "execution_count": 26,
   "metadata": {},
   "outputs": [],
   "source": [
    "library(microbenchmark)\n",
    "\n",
    "res <- microbenchmark::microbenchmark(recycled_score <- predict(result, newdata = index.df, allow.new.levels = TRUE, type = 'response'), \n",
    "                               times = 10)\n",
    "\n",
    "summary(res)\n",
    "\n",
    "for (i in 1:10){\n",
    "    recycled_score <- predict(result, newdata = index.df, allow.new.levels = TRUE, type = 'response')\n",
    "}"
   ]
  },
  {
   "cell_type": "code",
   "execution_count": 62,
   "metadata": {},
   "outputs": [],
   "source": [
    "recycled_ME <- data.frame('HOSP_NRD'=hosp_lst, 'Recycled_ME'=recycled_pred)"
   ]
  },
  {
   "cell_type": "code",
   "execution_count": 63,
   "metadata": {},
   "outputs": [],
   "source": [
    "write.csv(recycled_ME, file=paste0(path, 'cohorts/', cohort, '/recycled_ME_tst0.csv'))"
   ]
  },
  {
   "cell_type": "markdown",
   "metadata": {},
   "source": [
    "## Resampling"
   ]
  },
  {
   "cell_type": "code",
   "execution_count": 5,
   "metadata": {},
   "outputs": [],
   "source": [
    "cohort = 'ami'"
   ]
  },
  {
   "cell_type": "code",
   "execution_count": 6,
   "metadata": {},
   "outputs": [],
   "source": [
    "index.df <- read.csv(file = paste0(path, 'cohorts30/', cohort, '/index_comorb.csv'))\n",
    "index.df$HOSP_NRD <- as.factor(index.df$HOSP_NRD)\n",
    "index.df$FEMALE <- as.factor(index.df$FEMALE)\n",
    "for(c in comorbs){\n",
    "    index.df[ , c] <- as.factor(index.df[ , c])\n",
    "}\n",
    "index.df$readm30 <- as.numeric(index.df$readm30) - 1\n",
    "age.mean <- mean(index.df$AGE)\n",
    "age.std <- sd(index.df$AGE)\n",
    "index.df$AGE <- (index.df$AGE - age.mean)/age.std"
   ]
  },
  {
   "cell_type": "code",
   "execution_count": 7,
   "metadata": {},
   "outputs": [
    {
     "name": "stderr",
     "output_type": "stream",
     "text": [
      "\n",
      "Attaching package: ‘dplyr’\n",
      "\n",
      "The following object is masked from ‘package:GGally’:\n",
      "\n",
      "    nasa\n",
      "\n",
      "The following objects are masked from ‘package:stats’:\n",
      "\n",
      "    filter, lag\n",
      "\n",
      "The following objects are masked from ‘package:base’:\n",
      "\n",
      "    intersect, setdiff, setequal, union\n",
      "\n"
     ]
    }
   ],
   "source": [
    "library(dplyr)"
   ]
  },
  {
   "cell_type": "code",
   "execution_count": 8,
   "metadata": {},
   "outputs": [],
   "source": [
    "testing.df <- index.df[1:30, ]"
   ]
  },
  {
   "cell_type": "code",
   "execution_count": 9,
   "metadata": {},
   "outputs": [
    {
     "data": {
      "text/html": [
       "28"
      ],
      "text/latex": [
       "28"
      ],
      "text/markdown": [
       "28"
      ],
      "text/plain": [
       "[1] 28"
      ]
     },
     "metadata": {},
     "output_type": "display_data"
    }
   ],
   "source": [
    "length(unique(testing.df$HOSP_NRD))"
   ]
  },
  {
   "cell_type": "code",
   "execution_count": 14,
   "metadata": {
    "collapsed": true
   },
   "outputs": [
    {
     "data": {
      "text/html": [
       "<table>\n",
       "<thead><tr><th scope=col>KEY_NRD</th><th scope=col>HOSP_NRD</th></tr></thead>\n",
       "<tbody>\n",
       "\t<tr><td>10576754</td><td>12929   </td></tr>\n",
       "\t<tr><td>19785198</td><td>12175   </td></tr>\n",
       "\t<tr><td>19212175</td><td>12024   </td></tr>\n",
       "\t<tr><td>21012648</td><td>12307   </td></tr>\n",
       "\t<tr><td>18432816</td><td>12245   </td></tr>\n",
       "\t<tr><td>16083400</td><td>12298   </td></tr>\n",
       "\t<tr><td>19388490</td><td>12470   </td></tr>\n",
       "\t<tr><td>17534155</td><td>11824   </td></tr>\n",
       "\t<tr><td>23046598</td><td>12793   </td></tr>\n",
       "\t<tr><td>13056062</td><td>12110   </td></tr>\n",
       "\t<tr><td>14899188</td><td>13005   </td></tr>\n",
       "\t<tr><td>17759096</td><td>12987   </td></tr>\n",
       "\t<tr><td>22820543</td><td>13861   </td></tr>\n",
       "\t<tr><td>24313756</td><td>13861   </td></tr>\n",
       "\t<tr><td>11397152</td><td>13726   </td></tr>\n",
       "\t<tr><td>12293674</td><td>12312   </td></tr>\n",
       "\t<tr><td>15105464</td><td>11292   </td></tr>\n",
       "\t<tr><td>23559352</td><td>11055   </td></tr>\n",
       "\t<tr><td>11219800</td><td>11178   </td></tr>\n",
       "\t<tr><td>22077940</td><td>11749   </td></tr>\n",
       "\t<tr><td>11731022</td><td>13633   </td></tr>\n",
       "\t<tr><td>10689181</td><td>13303   </td></tr>\n",
       "\t<tr><td>15842224</td><td>11780   </td></tr>\n",
       "\t<tr><td>15542360</td><td>12769   </td></tr>\n",
       "\t<tr><td>20541854</td><td>13496   </td></tr>\n",
       "\t<tr><td>24458448</td><td>11569   </td></tr>\n",
       "\t<tr><td>23270757</td><td>12661   </td></tr>\n",
       "\t<tr><td>22403874</td><td>11766   </td></tr>\n",
       "\t<tr><td>13468543</td><td>12661   </td></tr>\n",
       "\t<tr><td>17638363</td><td>11154   </td></tr>\n",
       "</tbody>\n",
       "</table>\n"
      ],
      "text/latex": [
       "\\begin{tabular}{r|ll}\n",
       " KEY\\_NRD & HOSP\\_NRD\\\\\n",
       "\\hline\n",
       "\t 10576754 & 12929   \\\\\n",
       "\t 19785198 & 12175   \\\\\n",
       "\t 19212175 & 12024   \\\\\n",
       "\t 21012648 & 12307   \\\\\n",
       "\t 18432816 & 12245   \\\\\n",
       "\t 16083400 & 12298   \\\\\n",
       "\t 19388490 & 12470   \\\\\n",
       "\t 17534155 & 11824   \\\\\n",
       "\t 23046598 & 12793   \\\\\n",
       "\t 13056062 & 12110   \\\\\n",
       "\t 14899188 & 13005   \\\\\n",
       "\t 17759096 & 12987   \\\\\n",
       "\t 22820543 & 13861   \\\\\n",
       "\t 24313756 & 13861   \\\\\n",
       "\t 11397152 & 13726   \\\\\n",
       "\t 12293674 & 12312   \\\\\n",
       "\t 15105464 & 11292   \\\\\n",
       "\t 23559352 & 11055   \\\\\n",
       "\t 11219800 & 11178   \\\\\n",
       "\t 22077940 & 11749   \\\\\n",
       "\t 11731022 & 13633   \\\\\n",
       "\t 10689181 & 13303   \\\\\n",
       "\t 15842224 & 11780   \\\\\n",
       "\t 15542360 & 12769   \\\\\n",
       "\t 20541854 & 13496   \\\\\n",
       "\t 24458448 & 11569   \\\\\n",
       "\t 23270757 & 12661   \\\\\n",
       "\t 22403874 & 11766   \\\\\n",
       "\t 13468543 & 12661   \\\\\n",
       "\t 17638363 & 11154   \\\\\n",
       "\\end{tabular}\n"
      ],
      "text/markdown": [
       "\n",
       "KEY_NRD | HOSP_NRD | \n",
       "|---|---|---|---|---|---|---|---|---|---|---|---|---|---|---|---|---|---|---|---|---|---|---|---|---|---|---|---|---|---|\n",
       "| 10576754 | 12929    | \n",
       "| 19785198 | 12175    | \n",
       "| 19212175 | 12024    | \n",
       "| 21012648 | 12307    | \n",
       "| 18432816 | 12245    | \n",
       "| 16083400 | 12298    | \n",
       "| 19388490 | 12470    | \n",
       "| 17534155 | 11824    | \n",
       "| 23046598 | 12793    | \n",
       "| 13056062 | 12110    | \n",
       "| 14899188 | 13005    | \n",
       "| 17759096 | 12987    | \n",
       "| 22820543 | 13861    | \n",
       "| 24313756 | 13861    | \n",
       "| 11397152 | 13726    | \n",
       "| 12293674 | 12312    | \n",
       "| 15105464 | 11292    | \n",
       "| 23559352 | 11055    | \n",
       "| 11219800 | 11178    | \n",
       "| 22077940 | 11749    | \n",
       "| 11731022 | 13633    | \n",
       "| 10689181 | 13303    | \n",
       "| 15842224 | 11780    | \n",
       "| 15542360 | 12769    | \n",
       "| 20541854 | 13496    | \n",
       "| 24458448 | 11569    | \n",
       "| 23270757 | 12661    | \n",
       "| 22403874 | 11766    | \n",
       "| 13468543 | 12661    | \n",
       "| 17638363 | 11154    | \n",
       "\n",
       "\n"
      ],
      "text/plain": [
       "   KEY_NRD  HOSP_NRD\n",
       "1  10576754 12929   \n",
       "2  19785198 12175   \n",
       "3  19212175 12024   \n",
       "4  21012648 12307   \n",
       "5  18432816 12245   \n",
       "6  16083400 12298   \n",
       "7  19388490 12470   \n",
       "8  17534155 11824   \n",
       "9  23046598 12793   \n",
       "10 13056062 12110   \n",
       "11 14899188 13005   \n",
       "12 17759096 12987   \n",
       "13 22820543 13861   \n",
       "14 24313756 13861   \n",
       "15 11397152 13726   \n",
       "16 12293674 12312   \n",
       "17 15105464 11292   \n",
       "18 23559352 11055   \n",
       "19 11219800 11178   \n",
       "20 22077940 11749   \n",
       "21 11731022 13633   \n",
       "22 10689181 13303   \n",
       "23 15842224 11780   \n",
       "24 15542360 12769   \n",
       "25 20541854 13496   \n",
       "26 24458448 11569   \n",
       "27 23270757 12661   \n",
       "28 22403874 11766   \n",
       "29 13468543 12661   \n",
       "30 17638363 11154   "
      ]
     },
     "metadata": {},
     "output_type": "display_data"
    }
   ],
   "source": [
    "testing.df[ , c('KEY_NRD', 'HOSP_NRD')]"
   ]
  },
  {
   "cell_type": "code",
   "execution_count": 10,
   "metadata": {},
   "outputs": [],
   "source": [
    "resample <- testing.df %>% group_by(HOSP_NRD) %>% mutate(sample_size=n())"
   ]
  },
  {
   "cell_type": "code",
   "execution_count": 15,
   "metadata": {
    "collapsed": true
   },
   "outputs": [
    {
     "data": {
      "text/html": [
       "<table>\n",
       "<thead><tr><th scope=col>X</th><th scope=col>AGE</th><th scope=col>AWEEKEND</th><th scope=col>DIED</th><th scope=col>DISCWT</th><th scope=col>DISPUNIFORM</th><th scope=col>DMONTH</th><th scope=col>DQTR</th><th scope=col>DRG</th><th scope=col>DRGVER</th><th scope=col>⋯</th><th scope=col>CM_PARA</th><th scope=col>CM_PERIVASC</th><th scope=col>CM_PSYCH</th><th scope=col>CM_PULMCIRC</th><th scope=col>CM_RENLFAIL</th><th scope=col>CM_TUMOR</th><th scope=col>CM_ULCER</th><th scope=col>CM_VALVE</th><th scope=col>CM_WGHTLOSS</th><th scope=col>sample_size</th></tr></thead>\n",
       "<tbody>\n",
       "\t<tr><td> 0         </td><td>-0.09223041</td><td>0          </td><td>0          </td><td>2.046126   </td><td>6          </td><td> 1         </td><td>1          </td><td>249        </td><td>31         </td><td>⋯          </td><td>0          </td><td>0          </td><td>0          </td><td>0          </td><td>1          </td><td>0          </td><td>0          </td><td>0          </td><td>0          </td><td>1          </td></tr>\n",
       "\t<tr><td> 1         </td><td> 0.41348525</td><td>0          </td><td>0          </td><td>1.435778   </td><td>1          </td><td>10         </td><td>4          </td><td>280        </td><td>32         </td><td>⋯          </td><td>0          </td><td>0          </td><td>0          </td><td>0          </td><td>1          </td><td>0          </td><td>0          </td><td>0          </td><td>0          </td><td>1          </td></tr>\n",
       "\t<tr><td> 2         </td><td>-0.67019116</td><td>0          </td><td>0          </td><td>2.308072   </td><td>1          </td><td>11         </td><td>4          </td><td>282        </td><td>32         </td><td>⋯          </td><td>0          </td><td>0          </td><td>0          </td><td>0          </td><td>0          </td><td>0          </td><td>0          </td><td>0          </td><td>0          </td><td>1          </td></tr>\n",
       "\t<tr><td> 3         </td><td>-0.38121078</td><td>0          </td><td>0          </td><td>5.119861   </td><td>1          </td><td>11         </td><td>4          </td><td>247        </td><td>32         </td><td>⋯          </td><td>0          </td><td>0          </td><td>0          </td><td>0          </td><td>0          </td><td>0          </td><td>0          </td><td>0          </td><td>0          </td><td>1          </td></tr>\n",
       "\t<tr><td> 4         </td><td>-0.38121078</td><td>0          </td><td>0          </td><td>1.910494   </td><td>6          </td><td> 8         </td><td>3          </td><td>264        </td><td>31         </td><td>⋯          </td><td>0          </td><td>0          </td><td>0          </td><td>0          </td><td>1          </td><td>0          </td><td>0          </td><td>0          </td><td>1          </td><td>1          </td></tr>\n",
       "\t<tr><td> 5         </td><td>-1.24815191</td><td>1          </td><td>0          </td><td>1.962384   </td><td>1          </td><td> 3         </td><td>1          </td><td>247        </td><td>31         </td><td>⋯          </td><td>0          </td><td>0          </td><td>0          </td><td>0          </td><td>0          </td><td>0          </td><td>0          </td><td>0          </td><td>0          </td><td>1          </td></tr>\n",
       "\t<tr><td> 6         </td><td>-0.30896569</td><td>0          </td><td>0          </td><td>1.962384   </td><td>1          </td><td>10         </td><td>4          </td><td>248        </td><td>32         </td><td>⋯          </td><td>0          </td><td>0          </td><td>1          </td><td>0          </td><td>0          </td><td>0          </td><td>0          </td><td>0          </td><td>0          </td><td>1          </td></tr>\n",
       "\t<tr><td> 7         </td><td>-0.45345588</td><td>1          </td><td>0          </td><td>2.004409   </td><td>1          </td><td> 8         </td><td>3          </td><td>233        </td><td>31         </td><td>⋯          </td><td>0          </td><td>0          </td><td>0          </td><td>0          </td><td>0          </td><td>0          </td><td>0          </td><td>0          </td><td>0          </td><td>1          </td></tr>\n",
       "\t<tr><td> 8         </td><td>-0.23672059</td><td>1          </td><td>0          </td><td>1.985053   </td><td>1          </td><td> 6         </td><td>2          </td><td>282        </td><td>31         </td><td>⋯          </td><td>0          </td><td>0          </td><td>0          </td><td>0          </td><td>0          </td><td>0          </td><td>0          </td><td>0          </td><td>0          </td><td>1          </td></tr>\n",
       "\t<tr><td> 9         </td><td> 0.84695582</td><td>0          </td><td>0          </td><td>1.347743   </td><td>6          </td><td> 1         </td><td>1          </td><td>280        </td><td>31         </td><td>⋯          </td><td>0          </td><td>0          </td><td>0          </td><td>0          </td><td>1          </td><td>0          </td><td>0          </td><td>0          </td><td>0          </td><td>1          </td></tr>\n",
       "\t<tr><td>10         </td><td>-0.88692644</td><td>0          </td><td>0          </td><td>1.372326   </td><td>1          </td><td> 5         </td><td>2          </td><td>233        </td><td>31         </td><td>⋯          </td><td>0          </td><td>0          </td><td>0          </td><td>0          </td><td>0          </td><td>0          </td><td>0          </td><td>0          </td><td>0          </td><td>1          </td></tr>\n",
       "\t<tr><td>11         </td><td> 0.84695582</td><td>0          </td><td>0          </td><td>2.068489   </td><td>1          </td><td> 2         </td><td>1          </td><td>281        </td><td>31         </td><td>⋯          </td><td>0          </td><td>0          </td><td>0          </td><td>0          </td><td>1          </td><td>0          </td><td>0          </td><td>0          </td><td>0          </td><td>1          </td></tr>\n",
       "\t<tr><td>12         </td><td> 0.48573035</td><td>0          </td><td>0          </td><td>1.434884   </td><td>1          </td><td> 4         </td><td>2          </td><td>251        </td><td>31         </td><td>⋯          </td><td>0          </td><td>1          </td><td>0          </td><td>0          </td><td>0          </td><td>0          </td><td>0          </td><td>0          </td><td>0          </td><td>2          </td></tr>\n",
       "\t<tr><td>13         </td><td> 0.55797544</td><td>0          </td><td>0          </td><td>1.434884   </td><td>5          </td><td> 6         </td><td>2          </td><td>281        </td><td>31         </td><td>⋯          </td><td>0          </td><td>0          </td><td>0          </td><td>0          </td><td>0          </td><td>0          </td><td>0          </td><td>0          </td><td>0          </td><td>2          </td></tr>\n",
       "\t<tr><td>14         </td><td> 0.77471072</td><td>0          </td><td>0          </td><td>4.897867   </td><td>1          </td><td> 7         </td><td>3          </td><td>251        </td><td>31         </td><td>⋯          </td><td>0          </td><td>0          </td><td>0          </td><td>0          </td><td>0          </td><td>0          </td><td>0          </td><td>0          </td><td>0          </td><td>1          </td></tr>\n",
       "\t<tr><td>15         </td><td>-0.52570097</td><td>1          </td><td>0          </td><td>1.131234   </td><td>1          </td><td> 4         </td><td>2          </td><td>238        </td><td>31         </td><td>⋯          </td><td>0          </td><td>0          </td><td>0          </td><td>0          </td><td>0          </td><td>0          </td><td>0          </td><td>0          </td><td>0          </td><td>1          </td></tr>\n",
       "\t<tr><td>16         </td><td> 0.55797544</td><td>0          </td><td>0          </td><td>1.588771   </td><td>1          </td><td> 4         </td><td>2          </td><td>247        </td><td>31         </td><td>⋯          </td><td>0          </td><td>0          </td><td>0          </td><td>0          </td><td>0          </td><td>0          </td><td>0          </td><td>0          </td><td>0          </td><td>1          </td></tr>\n",
       "\t<tr><td>17         </td><td>-1.03141663</td><td>0          </td><td>0          </td><td>1.962384   </td><td>1          </td><td> 8         </td><td>3          </td><td>247        </td><td>31         </td><td>⋯          </td><td>0          </td><td>0          </td><td>0          </td><td>0          </td><td>0          </td><td>0          </td><td>0          </td><td>0          </td><td>0          </td><td>1          </td></tr>\n",
       "\t<tr><td>18         </td><td> 0.05225978</td><td>0          </td><td>0          </td><td>1.588771   </td><td>1          </td><td> 9         </td><td>3          </td><td>247        </td><td>31         </td><td>⋯          </td><td>0          </td><td>0          </td><td>0          </td><td>0          </td><td>0          </td><td>0          </td><td>0          </td><td>0          </td><td>0          </td><td>1          </td></tr>\n",
       "\t<tr><td>19         </td><td>-1.53713228</td><td>0          </td><td>0          </td><td>2.243183   </td><td>1          </td><td>10         </td><td>4          </td><td>216        </td><td>32         </td><td>⋯          </td><td>0          </td><td>0          </td><td>0          </td><td>0          </td><td>1          </td><td>0          </td><td>0          </td><td>0          </td><td>0          </td><td>1          </td></tr>\n",
       "\t<tr><td>20         </td><td> 0.84695582</td><td>0          </td><td>0          </td><td>1.445207   </td><td>5          </td><td> 1         </td><td>1          </td><td>246        </td><td>31         </td><td>⋯          </td><td>0          </td><td>0          </td><td>1          </td><td>0          </td><td>0          </td><td>0          </td><td>0          </td><td>0          </td><td>0          </td><td>1          </td></tr>\n",
       "\t<tr><td>21         </td><td>-1.10366172</td><td>0          </td><td>0          </td><td>2.013345   </td><td>1          </td><td> 7         </td><td>3          </td><td>247        </td><td>31         </td><td>⋯          </td><td>0          </td><td>0          </td><td>1          </td><td>0          </td><td>0          </td><td>0          </td><td>0          </td><td>0          </td><td>0          </td><td>1          </td></tr>\n",
       "\t<tr><td>22         </td><td>-0.16447550</td><td>1          </td><td>0          </td><td>1.505411   </td><td>1          </td><td> 8         </td><td>3          </td><td>247        </td><td>31         </td><td>⋯          </td><td>0          </td><td>0          </td><td>0          </td><td>0          </td><td>0          </td><td>0          </td><td>0          </td><td>0          </td><td>0          </td><td>1          </td></tr>\n",
       "\t<tr><td>23         </td><td> 0.55797544</td><td>0          </td><td>0          </td><td>1.923270   </td><td>6          </td><td> 5         </td><td>2          </td><td>232        </td><td>31         </td><td>⋯          </td><td>0          </td><td>0          </td><td>0          </td><td>0          </td><td>0          </td><td>0          </td><td>0          </td><td>0          </td><td>0          </td><td>1          </td></tr>\n",
       "\t<tr><td>24         </td><td>-0.81468135</td><td>0          </td><td>0          </td><td>1.985053   </td><td>1          </td><td> 4         </td><td>2          </td><td>247        </td><td>31         </td><td>⋯          </td><td>0          </td><td>0          </td><td>0          </td><td>0          </td><td>0          </td><td>0          </td><td>0          </td><td>0          </td><td>0          </td><td>1          </td></tr>\n",
       "\t<tr><td>25         </td><td> 0.91920091</td><td>0          </td><td>0          </td><td>1.347743   </td><td>5          </td><td> 9         </td><td>3          </td><td>280        </td><td>31         </td><td>⋯          </td><td>0          </td><td>0          </td><td>0          </td><td>0          </td><td>0          </td><td>0          </td><td>0          </td><td>0          </td><td>1          </td><td>1          </td></tr>\n",
       "\t<tr><td>26         </td><td> 0.05225978</td><td>0          </td><td>0          </td><td>2.987115   </td><td>1          </td><td> 8         </td><td>3          </td><td>246        </td><td>31         </td><td>⋯          </td><td>0          </td><td>0          </td><td>0          </td><td>0          </td><td>0          </td><td>0          </td><td>0          </td><td>0          </td><td>0          </td><td>2          </td></tr>\n",
       "\t<tr><td>27         </td><td> 0.48573035</td><td>0          </td><td>0          </td><td>1.929193   </td><td>6          </td><td> 8         </td><td>3          </td><td>235        </td><td>31         </td><td>⋯          </td><td>0          </td><td>0          </td><td>0          </td><td>0          </td><td>0          </td><td>0          </td><td>0          </td><td>0          </td><td>0          </td><td>1          </td></tr>\n",
       "\t<tr><td>28         </td><td> 0.91920091</td><td>1          </td><td>0          </td><td>2.948189   </td><td>5          </td><td> 8         </td><td>3          </td><td>246        </td><td>31         </td><td>⋯          </td><td>0          </td><td>1          </td><td>0          </td><td>0          </td><td>1          </td><td>0          </td><td>0          </td><td>0          </td><td>0          </td><td>2          </td></tr>\n",
       "\t<tr><td>29         </td><td> 1.13593619</td><td>0          </td><td>0          </td><td>1.346355   </td><td>1          </td><td> 3         </td><td>1          </td><td>247        </td><td>31         </td><td>⋯          </td><td>0          </td><td>0          </td><td>0          </td><td>0          </td><td>0          </td><td>0          </td><td>0          </td><td>0          </td><td>0          </td><td>1          </td></tr>\n",
       "</tbody>\n",
       "</table>\n"
      ],
      "text/latex": [
       "\\begin{tabular}{r|llllllllllllllllllllllllllllllllllllllllllllllllllllllllllllllllllllllllllllllllllllllllllllllllllllllllllllllllllllllllllllllllllllllllllllllllllllllllllllllllllllllllllllllllllllllll}\n",
       " X & AGE & AWEEKEND & DIED & DISCWT & DISPUNIFORM & DMONTH & DQTR & DRG & DRGVER & ⋯ & CM\\_PARA & CM\\_PERIVASC & CM\\_PSYCH & CM\\_PULMCIRC & CM\\_RENLFAIL & CM\\_TUMOR & CM\\_ULCER & CM\\_VALVE & CM\\_WGHTLOSS & sample\\_size\\\\\n",
       "\\hline\n",
       "\t  0          & -0.09223041 & 0           & 0           & 2.046126    & 6           &  1          & 1           & 249         & 31          & ⋯           & 0           & 0           & 0           & 0           & 1           & 0           & 0           & 0           & 0           & 1          \\\\\n",
       "\t  1          &  0.41348525 & 0           & 0           & 1.435778    & 1           & 10          & 4           & 280         & 32          & ⋯           & 0           & 0           & 0           & 0           & 1           & 0           & 0           & 0           & 0           & 1          \\\\\n",
       "\t  2          & -0.67019116 & 0           & 0           & 2.308072    & 1           & 11          & 4           & 282         & 32          & ⋯           & 0           & 0           & 0           & 0           & 0           & 0           & 0           & 0           & 0           & 1          \\\\\n",
       "\t  3          & -0.38121078 & 0           & 0           & 5.119861    & 1           & 11          & 4           & 247         & 32          & ⋯           & 0           & 0           & 0           & 0           & 0           & 0           & 0           & 0           & 0           & 1          \\\\\n",
       "\t  4          & -0.38121078 & 0           & 0           & 1.910494    & 6           &  8          & 3           & 264         & 31          & ⋯           & 0           & 0           & 0           & 0           & 1           & 0           & 0           & 0           & 1           & 1          \\\\\n",
       "\t  5          & -1.24815191 & 1           & 0           & 1.962384    & 1           &  3          & 1           & 247         & 31          & ⋯           & 0           & 0           & 0           & 0           & 0           & 0           & 0           & 0           & 0           & 1          \\\\\n",
       "\t  6          & -0.30896569 & 0           & 0           & 1.962384    & 1           & 10          & 4           & 248         & 32          & ⋯           & 0           & 0           & 1           & 0           & 0           & 0           & 0           & 0           & 0           & 1          \\\\\n",
       "\t  7          & -0.45345588 & 1           & 0           & 2.004409    & 1           &  8          & 3           & 233         & 31          & ⋯           & 0           & 0           & 0           & 0           & 0           & 0           & 0           & 0           & 0           & 1          \\\\\n",
       "\t  8          & -0.23672059 & 1           & 0           & 1.985053    & 1           &  6          & 2           & 282         & 31          & ⋯           & 0           & 0           & 0           & 0           & 0           & 0           & 0           & 0           & 0           & 1          \\\\\n",
       "\t  9          &  0.84695582 & 0           & 0           & 1.347743    & 6           &  1          & 1           & 280         & 31          & ⋯           & 0           & 0           & 0           & 0           & 1           & 0           & 0           & 0           & 0           & 1          \\\\\n",
       "\t 10          & -0.88692644 & 0           & 0           & 1.372326    & 1           &  5          & 2           & 233         & 31          & ⋯           & 0           & 0           & 0           & 0           & 0           & 0           & 0           & 0           & 0           & 1          \\\\\n",
       "\t 11          &  0.84695582 & 0           & 0           & 2.068489    & 1           &  2          & 1           & 281         & 31          & ⋯           & 0           & 0           & 0           & 0           & 1           & 0           & 0           & 0           & 0           & 1          \\\\\n",
       "\t 12          &  0.48573035 & 0           & 0           & 1.434884    & 1           &  4          & 2           & 251         & 31          & ⋯           & 0           & 1           & 0           & 0           & 0           & 0           & 0           & 0           & 0           & 2          \\\\\n",
       "\t 13          &  0.55797544 & 0           & 0           & 1.434884    & 5           &  6          & 2           & 281         & 31          & ⋯           & 0           & 0           & 0           & 0           & 0           & 0           & 0           & 0           & 0           & 2          \\\\\n",
       "\t 14          &  0.77471072 & 0           & 0           & 4.897867    & 1           &  7          & 3           & 251         & 31          & ⋯           & 0           & 0           & 0           & 0           & 0           & 0           & 0           & 0           & 0           & 1          \\\\\n",
       "\t 15          & -0.52570097 & 1           & 0           & 1.131234    & 1           &  4          & 2           & 238         & 31          & ⋯           & 0           & 0           & 0           & 0           & 0           & 0           & 0           & 0           & 0           & 1          \\\\\n",
       "\t 16          &  0.55797544 & 0           & 0           & 1.588771    & 1           &  4          & 2           & 247         & 31          & ⋯           & 0           & 0           & 0           & 0           & 0           & 0           & 0           & 0           & 0           & 1          \\\\\n",
       "\t 17          & -1.03141663 & 0           & 0           & 1.962384    & 1           &  8          & 3           & 247         & 31          & ⋯           & 0           & 0           & 0           & 0           & 0           & 0           & 0           & 0           & 0           & 1          \\\\\n",
       "\t 18          &  0.05225978 & 0           & 0           & 1.588771    & 1           &  9          & 3           & 247         & 31          & ⋯           & 0           & 0           & 0           & 0           & 0           & 0           & 0           & 0           & 0           & 1          \\\\\n",
       "\t 19          & -1.53713228 & 0           & 0           & 2.243183    & 1           & 10          & 4           & 216         & 32          & ⋯           & 0           & 0           & 0           & 0           & 1           & 0           & 0           & 0           & 0           & 1          \\\\\n",
       "\t 20          &  0.84695582 & 0           & 0           & 1.445207    & 5           &  1          & 1           & 246         & 31          & ⋯           & 0           & 0           & 1           & 0           & 0           & 0           & 0           & 0           & 0           & 1          \\\\\n",
       "\t 21          & -1.10366172 & 0           & 0           & 2.013345    & 1           &  7          & 3           & 247         & 31          & ⋯           & 0           & 0           & 1           & 0           & 0           & 0           & 0           & 0           & 0           & 1          \\\\\n",
       "\t 22          & -0.16447550 & 1           & 0           & 1.505411    & 1           &  8          & 3           & 247         & 31          & ⋯           & 0           & 0           & 0           & 0           & 0           & 0           & 0           & 0           & 0           & 1          \\\\\n",
       "\t 23          &  0.55797544 & 0           & 0           & 1.923270    & 6           &  5          & 2           & 232         & 31          & ⋯           & 0           & 0           & 0           & 0           & 0           & 0           & 0           & 0           & 0           & 1          \\\\\n",
       "\t 24          & -0.81468135 & 0           & 0           & 1.985053    & 1           &  4          & 2           & 247         & 31          & ⋯           & 0           & 0           & 0           & 0           & 0           & 0           & 0           & 0           & 0           & 1          \\\\\n",
       "\t 25          &  0.91920091 & 0           & 0           & 1.347743    & 5           &  9          & 3           & 280         & 31          & ⋯           & 0           & 0           & 0           & 0           & 0           & 0           & 0           & 0           & 1           & 1          \\\\\n",
       "\t 26          &  0.05225978 & 0           & 0           & 2.987115    & 1           &  8          & 3           & 246         & 31          & ⋯           & 0           & 0           & 0           & 0           & 0           & 0           & 0           & 0           & 0           & 2          \\\\\n",
       "\t 27          &  0.48573035 & 0           & 0           & 1.929193    & 6           &  8          & 3           & 235         & 31          & ⋯           & 0           & 0           & 0           & 0           & 0           & 0           & 0           & 0           & 0           & 1          \\\\\n",
       "\t 28          &  0.91920091 & 1           & 0           & 2.948189    & 5           &  8          & 3           & 246         & 31          & ⋯           & 0           & 1           & 0           & 0           & 1           & 0           & 0           & 0           & 0           & 2          \\\\\n",
       "\t 29          &  1.13593619 & 0           & 0           & 1.346355    & 1           &  3          & 1           & 247         & 31          & ⋯           & 0           & 0           & 0           & 0           & 0           & 0           & 0           & 0           & 0           & 1          \\\\\n",
       "\\end{tabular}\n"
      ],
      "text/markdown": [
       "\n",
       "X | AGE | AWEEKEND | DIED | DISCWT | DISPUNIFORM | DMONTH | DQTR | DRG | DRGVER | ⋯ | CM_PARA | CM_PERIVASC | CM_PSYCH | CM_PULMCIRC | CM_RENLFAIL | CM_TUMOR | CM_ULCER | CM_VALVE | CM_WGHTLOSS | sample_size | \n",
       "|---|---|---|---|---|---|---|---|---|---|---|---|---|---|---|---|---|---|---|---|---|---|---|---|---|---|---|---|---|---|\n",
       "|  0          | -0.09223041 | 0           | 0           | 2.046126    | 6           |  1          | 1           | 249         | 31          | ⋯           | 0           | 0           | 0           | 0           | 1           | 0           | 0           | 0           | 0           | 1           | \n",
       "|  1          |  0.41348525 | 0           | 0           | 1.435778    | 1           | 10          | 4           | 280         | 32          | ⋯           | 0           | 0           | 0           | 0           | 1           | 0           | 0           | 0           | 0           | 1           | \n",
       "|  2          | -0.67019116 | 0           | 0           | 2.308072    | 1           | 11          | 4           | 282         | 32          | ⋯           | 0           | 0           | 0           | 0           | 0           | 0           | 0           | 0           | 0           | 1           | \n",
       "|  3          | -0.38121078 | 0           | 0           | 5.119861    | 1           | 11          | 4           | 247         | 32          | ⋯           | 0           | 0           | 0           | 0           | 0           | 0           | 0           | 0           | 0           | 1           | \n",
       "|  4          | -0.38121078 | 0           | 0           | 1.910494    | 6           |  8          | 3           | 264         | 31          | ⋯           | 0           | 0           | 0           | 0           | 1           | 0           | 0           | 0           | 1           | 1           | \n",
       "|  5          | -1.24815191 | 1           | 0           | 1.962384    | 1           |  3          | 1           | 247         | 31          | ⋯           | 0           | 0           | 0           | 0           | 0           | 0           | 0           | 0           | 0           | 1           | \n",
       "|  6          | -0.30896569 | 0           | 0           | 1.962384    | 1           | 10          | 4           | 248         | 32          | ⋯           | 0           | 0           | 1           | 0           | 0           | 0           | 0           | 0           | 0           | 1           | \n",
       "|  7          | -0.45345588 | 1           | 0           | 2.004409    | 1           |  8          | 3           | 233         | 31          | ⋯           | 0           | 0           | 0           | 0           | 0           | 0           | 0           | 0           | 0           | 1           | \n",
       "|  8          | -0.23672059 | 1           | 0           | 1.985053    | 1           |  6          | 2           | 282         | 31          | ⋯           | 0           | 0           | 0           | 0           | 0           | 0           | 0           | 0           | 0           | 1           | \n",
       "|  9          |  0.84695582 | 0           | 0           | 1.347743    | 6           |  1          | 1           | 280         | 31          | ⋯           | 0           | 0           | 0           | 0           | 1           | 0           | 0           | 0           | 0           | 1           | \n",
       "| 10          | -0.88692644 | 0           | 0           | 1.372326    | 1           |  5          | 2           | 233         | 31          | ⋯           | 0           | 0           | 0           | 0           | 0           | 0           | 0           | 0           | 0           | 1           | \n",
       "| 11          |  0.84695582 | 0           | 0           | 2.068489    | 1           |  2          | 1           | 281         | 31          | ⋯           | 0           | 0           | 0           | 0           | 1           | 0           | 0           | 0           | 0           | 1           | \n",
       "| 12          |  0.48573035 | 0           | 0           | 1.434884    | 1           |  4          | 2           | 251         | 31          | ⋯           | 0           | 1           | 0           | 0           | 0           | 0           | 0           | 0           | 0           | 2           | \n",
       "| 13          |  0.55797544 | 0           | 0           | 1.434884    | 5           |  6          | 2           | 281         | 31          | ⋯           | 0           | 0           | 0           | 0           | 0           | 0           | 0           | 0           | 0           | 2           | \n",
       "| 14          |  0.77471072 | 0           | 0           | 4.897867    | 1           |  7          | 3           | 251         | 31          | ⋯           | 0           | 0           | 0           | 0           | 0           | 0           | 0           | 0           | 0           | 1           | \n",
       "| 15          | -0.52570097 | 1           | 0           | 1.131234    | 1           |  4          | 2           | 238         | 31          | ⋯           | 0           | 0           | 0           | 0           | 0           | 0           | 0           | 0           | 0           | 1           | \n",
       "| 16          |  0.55797544 | 0           | 0           | 1.588771    | 1           |  4          | 2           | 247         | 31          | ⋯           | 0           | 0           | 0           | 0           | 0           | 0           | 0           | 0           | 0           | 1           | \n",
       "| 17          | -1.03141663 | 0           | 0           | 1.962384    | 1           |  8          | 3           | 247         | 31          | ⋯           | 0           | 0           | 0           | 0           | 0           | 0           | 0           | 0           | 0           | 1           | \n",
       "| 18          |  0.05225978 | 0           | 0           | 1.588771    | 1           |  9          | 3           | 247         | 31          | ⋯           | 0           | 0           | 0           | 0           | 0           | 0           | 0           | 0           | 0           | 1           | \n",
       "| 19          | -1.53713228 | 0           | 0           | 2.243183    | 1           | 10          | 4           | 216         | 32          | ⋯           | 0           | 0           | 0           | 0           | 1           | 0           | 0           | 0           | 0           | 1           | \n",
       "| 20          |  0.84695582 | 0           | 0           | 1.445207    | 5           |  1          | 1           | 246         | 31          | ⋯           | 0           | 0           | 1           | 0           | 0           | 0           | 0           | 0           | 0           | 1           | \n",
       "| 21          | -1.10366172 | 0           | 0           | 2.013345    | 1           |  7          | 3           | 247         | 31          | ⋯           | 0           | 0           | 1           | 0           | 0           | 0           | 0           | 0           | 0           | 1           | \n",
       "| 22          | -0.16447550 | 1           | 0           | 1.505411    | 1           |  8          | 3           | 247         | 31          | ⋯           | 0           | 0           | 0           | 0           | 0           | 0           | 0           | 0           | 0           | 1           | \n",
       "| 23          |  0.55797544 | 0           | 0           | 1.923270    | 6           |  5          | 2           | 232         | 31          | ⋯           | 0           | 0           | 0           | 0           | 0           | 0           | 0           | 0           | 0           | 1           | \n",
       "| 24          | -0.81468135 | 0           | 0           | 1.985053    | 1           |  4          | 2           | 247         | 31          | ⋯           | 0           | 0           | 0           | 0           | 0           | 0           | 0           | 0           | 0           | 1           | \n",
       "| 25          |  0.91920091 | 0           | 0           | 1.347743    | 5           |  9          | 3           | 280         | 31          | ⋯           | 0           | 0           | 0           | 0           | 0           | 0           | 0           | 0           | 1           | 1           | \n",
       "| 26          |  0.05225978 | 0           | 0           | 2.987115    | 1           |  8          | 3           | 246         | 31          | ⋯           | 0           | 0           | 0           | 0           | 0           | 0           | 0           | 0           | 0           | 2           | \n",
       "| 27          |  0.48573035 | 0           | 0           | 1.929193    | 6           |  8          | 3           | 235         | 31          | ⋯           | 0           | 0           | 0           | 0           | 0           | 0           | 0           | 0           | 0           | 1           | \n",
       "| 28          |  0.91920091 | 1           | 0           | 2.948189    | 5           |  8          | 3           | 246         | 31          | ⋯           | 0           | 1           | 0           | 0           | 1           | 0           | 0           | 0           | 0           | 2           | \n",
       "| 29          |  1.13593619 | 0           | 0           | 1.346355    | 1           |  3          | 1           | 247         | 31          | ⋯           | 0           | 0           | 0           | 0           | 0           | 0           | 0           | 0           | 0           | 1           | \n",
       "\n",
       "\n"
      ],
      "text/plain": [
       "   X  AGE         AWEEKEND DIED DISCWT   DISPUNIFORM DMONTH DQTR DRG DRGVER ⋯\n",
       "1   0 -0.09223041 0        0    2.046126 6            1     1    249 31     ⋯\n",
       "2   1  0.41348525 0        0    1.435778 1           10     4    280 32     ⋯\n",
       "3   2 -0.67019116 0        0    2.308072 1           11     4    282 32     ⋯\n",
       "4   3 -0.38121078 0        0    5.119861 1           11     4    247 32     ⋯\n",
       "5   4 -0.38121078 0        0    1.910494 6            8     3    264 31     ⋯\n",
       "6   5 -1.24815191 1        0    1.962384 1            3     1    247 31     ⋯\n",
       "7   6 -0.30896569 0        0    1.962384 1           10     4    248 32     ⋯\n",
       "8   7 -0.45345588 1        0    2.004409 1            8     3    233 31     ⋯\n",
       "9   8 -0.23672059 1        0    1.985053 1            6     2    282 31     ⋯\n",
       "10  9  0.84695582 0        0    1.347743 6            1     1    280 31     ⋯\n",
       "11 10 -0.88692644 0        0    1.372326 1            5     2    233 31     ⋯\n",
       "12 11  0.84695582 0        0    2.068489 1            2     1    281 31     ⋯\n",
       "13 12  0.48573035 0        0    1.434884 1            4     2    251 31     ⋯\n",
       "14 13  0.55797544 0        0    1.434884 5            6     2    281 31     ⋯\n",
       "15 14  0.77471072 0        0    4.897867 1            7     3    251 31     ⋯\n",
       "16 15 -0.52570097 1        0    1.131234 1            4     2    238 31     ⋯\n",
       "17 16  0.55797544 0        0    1.588771 1            4     2    247 31     ⋯\n",
       "18 17 -1.03141663 0        0    1.962384 1            8     3    247 31     ⋯\n",
       "19 18  0.05225978 0        0    1.588771 1            9     3    247 31     ⋯\n",
       "20 19 -1.53713228 0        0    2.243183 1           10     4    216 32     ⋯\n",
       "21 20  0.84695582 0        0    1.445207 5            1     1    246 31     ⋯\n",
       "22 21 -1.10366172 0        0    2.013345 1            7     3    247 31     ⋯\n",
       "23 22 -0.16447550 1        0    1.505411 1            8     3    247 31     ⋯\n",
       "24 23  0.55797544 0        0    1.923270 6            5     2    232 31     ⋯\n",
       "25 24 -0.81468135 0        0    1.985053 1            4     2    247 31     ⋯\n",
       "26 25  0.91920091 0        0    1.347743 5            9     3    280 31     ⋯\n",
       "27 26  0.05225978 0        0    2.987115 1            8     3    246 31     ⋯\n",
       "28 27  0.48573035 0        0    1.929193 6            8     3    235 31     ⋯\n",
       "29 28  0.91920091 1        0    2.948189 5            8     3    246 31     ⋯\n",
       "30 29  1.13593619 0        0    1.346355 1            3     1    247 31     ⋯\n",
       "   CM_PARA CM_PERIVASC CM_PSYCH CM_PULMCIRC CM_RENLFAIL CM_TUMOR CM_ULCER\n",
       "1  0       0           0        0           1           0        0       \n",
       "2  0       0           0        0           1           0        0       \n",
       "3  0       0           0        0           0           0        0       \n",
       "4  0       0           0        0           0           0        0       \n",
       "5  0       0           0        0           1           0        0       \n",
       "6  0       0           0        0           0           0        0       \n",
       "7  0       0           1        0           0           0        0       \n",
       "8  0       0           0        0           0           0        0       \n",
       "9  0       0           0        0           0           0        0       \n",
       "10 0       0           0        0           1           0        0       \n",
       "11 0       0           0        0           0           0        0       \n",
       "12 0       0           0        0           1           0        0       \n",
       "13 0       1           0        0           0           0        0       \n",
       "14 0       0           0        0           0           0        0       \n",
       "15 0       0           0        0           0           0        0       \n",
       "16 0       0           0        0           0           0        0       \n",
       "17 0       0           0        0           0           0        0       \n",
       "18 0       0           0        0           0           0        0       \n",
       "19 0       0           0        0           0           0        0       \n",
       "20 0       0           0        0           1           0        0       \n",
       "21 0       0           1        0           0           0        0       \n",
       "22 0       0           1        0           0           0        0       \n",
       "23 0       0           0        0           0           0        0       \n",
       "24 0       0           0        0           0           0        0       \n",
       "25 0       0           0        0           0           0        0       \n",
       "26 0       0           0        0           0           0        0       \n",
       "27 0       0           0        0           0           0        0       \n",
       "28 0       0           0        0           0           0        0       \n",
       "29 0       1           0        0           1           0        0       \n",
       "30 0       0           0        0           0           0        0       \n",
       "   CM_VALVE CM_WGHTLOSS sample_size\n",
       "1  0        0           1          \n",
       "2  0        0           1          \n",
       "3  0        0           1          \n",
       "4  0        0           1          \n",
       "5  0        1           1          \n",
       "6  0        0           1          \n",
       "7  0        0           1          \n",
       "8  0        0           1          \n",
       "9  0        0           1          \n",
       "10 0        0           1          \n",
       "11 0        0           1          \n",
       "12 0        0           1          \n",
       "13 0        0           2          \n",
       "14 0        0           2          \n",
       "15 0        0           1          \n",
       "16 0        0           1          \n",
       "17 0        0           1          \n",
       "18 0        0           1          \n",
       "19 0        0           1          \n",
       "20 0        0           1          \n",
       "21 0        0           1          \n",
       "22 0        0           1          \n",
       "23 0        0           1          \n",
       "24 0        0           1          \n",
       "25 0        0           1          \n",
       "26 0        1           1          \n",
       "27 0        0           2          \n",
       "28 0        0           1          \n",
       "29 0        0           2          \n",
       "30 0        0           1          "
      ]
     },
     "metadata": {},
     "output_type": "display_data"
    }
   ],
   "source": [
    "resample"
   ]
  },
  {
   "cell_type": "code",
   "execution_count": 17,
   "metadata": {},
   "outputs": [
    {
     "ename": "ERROR",
     "evalue": "Error: is_scalar_integerish(x = size) is not TRUE\n",
     "output_type": "error",
     "traceback": [
      "Error: is_scalar_integerish(x = size) is not TRUE\nTraceback:\n",
      "1. sample_n(resample, size = resample$sample_size)",
      "2. sample_n.grouped_df(resample, size = resample$sample_size)",
      "3. assert_that(is_scalar_integerish(size), size >= 0)"
     ]
    }
   ],
   "source": [
    "sample_n(resample, size = resample$sample_size)"
   ]
  },
  {
   "cell_type": "code",
   "execution_count": 40,
   "metadata": {},
   "outputs": [
    {
     "data": {
      "text/html": [
       "<table>\n",
       "<thead><tr><th scope=col>HOSP_NRD</th><th scope=col>KEY_NRD</th></tr></thead>\n",
       "<tbody>\n",
       "\t<tr><td>11055   </td><td>23559352</td></tr>\n",
       "\t<tr><td>11055   </td><td>23559352</td></tr>\n",
       "\t<tr><td>11055   </td><td>23559352</td></tr>\n",
       "\t<tr><td>11154   </td><td>17638363</td></tr>\n",
       "\t<tr><td>11154   </td><td>17638363</td></tr>\n",
       "\t<tr><td>11154   </td><td>17638363</td></tr>\n",
       "\t<tr><td>11178   </td><td>11219800</td></tr>\n",
       "\t<tr><td>11178   </td><td>11219800</td></tr>\n",
       "\t<tr><td>11178   </td><td>11219800</td></tr>\n",
       "\t<tr><td>11292   </td><td>15105464</td></tr>\n",
       "\t<tr><td>11292   </td><td>15105464</td></tr>\n",
       "\t<tr><td>11292   </td><td>15105464</td></tr>\n",
       "\t<tr><td>11569   </td><td>24458448</td></tr>\n",
       "\t<tr><td>11569   </td><td>24458448</td></tr>\n",
       "\t<tr><td>11569   </td><td>24458448</td></tr>\n",
       "\t<tr><td>11749   </td><td>22077940</td></tr>\n",
       "\t<tr><td>11749   </td><td>22077940</td></tr>\n",
       "\t<tr><td>11749   </td><td>22077940</td></tr>\n",
       "\t<tr><td>11766   </td><td>22403874</td></tr>\n",
       "\t<tr><td>11766   </td><td>22403874</td></tr>\n",
       "\t<tr><td>11766   </td><td>22403874</td></tr>\n",
       "\t<tr><td>11780   </td><td>15842224</td></tr>\n",
       "\t<tr><td>11780   </td><td>15842224</td></tr>\n",
       "\t<tr><td>11780   </td><td>15842224</td></tr>\n",
       "\t<tr><td>11824   </td><td>17534155</td></tr>\n",
       "\t<tr><td>11824   </td><td>17534155</td></tr>\n",
       "\t<tr><td>11824   </td><td>17534155</td></tr>\n",
       "\t<tr><td>12024   </td><td>19212175</td></tr>\n",
       "\t<tr><td>12024   </td><td>19212175</td></tr>\n",
       "\t<tr><td>12024   </td><td>19212175</td></tr>\n",
       "\t<tr><td>⋮</td><td>⋮</td></tr>\n",
       "\t<tr><td>12769   </td><td>15542360</td></tr>\n",
       "\t<tr><td>12769   </td><td>15542360</td></tr>\n",
       "\t<tr><td>12769   </td><td>15542360</td></tr>\n",
       "\t<tr><td>12793   </td><td>23046598</td></tr>\n",
       "\t<tr><td>12793   </td><td>23046598</td></tr>\n",
       "\t<tr><td>12793   </td><td>23046598</td></tr>\n",
       "\t<tr><td>12929   </td><td>10576754</td></tr>\n",
       "\t<tr><td>12929   </td><td>10576754</td></tr>\n",
       "\t<tr><td>12929   </td><td>10576754</td></tr>\n",
       "\t<tr><td>12987   </td><td>17759096</td></tr>\n",
       "\t<tr><td>12987   </td><td>17759096</td></tr>\n",
       "\t<tr><td>12987   </td><td>17759096</td></tr>\n",
       "\t<tr><td>13005   </td><td>14899188</td></tr>\n",
       "\t<tr><td>13005   </td><td>14899188</td></tr>\n",
       "\t<tr><td>13005   </td><td>14899188</td></tr>\n",
       "\t<tr><td>13303   </td><td>10689181</td></tr>\n",
       "\t<tr><td>13303   </td><td>10689181</td></tr>\n",
       "\t<tr><td>13303   </td><td>10689181</td></tr>\n",
       "\t<tr><td>13496   </td><td>20541854</td></tr>\n",
       "\t<tr><td>13496   </td><td>20541854</td></tr>\n",
       "\t<tr><td>13496   </td><td>20541854</td></tr>\n",
       "\t<tr><td>13633   </td><td>11731022</td></tr>\n",
       "\t<tr><td>13633   </td><td>11731022</td></tr>\n",
       "\t<tr><td>13633   </td><td>11731022</td></tr>\n",
       "\t<tr><td>13726   </td><td>11397152</td></tr>\n",
       "\t<tr><td>13726   </td><td>11397152</td></tr>\n",
       "\t<tr><td>13726   </td><td>11397152</td></tr>\n",
       "\t<tr><td>13861   </td><td>22820543</td></tr>\n",
       "\t<tr><td>13861   </td><td>22820543</td></tr>\n",
       "\t<tr><td>13861   </td><td>24313756</td></tr>\n",
       "</tbody>\n",
       "</table>\n"
      ],
      "text/latex": [
       "\\begin{tabular}{r|ll}\n",
       " HOSP\\_NRD & KEY\\_NRD\\\\\n",
       "\\hline\n",
       "\t 11055    & 23559352\\\\\n",
       "\t 11055    & 23559352\\\\\n",
       "\t 11055    & 23559352\\\\\n",
       "\t 11154    & 17638363\\\\\n",
       "\t 11154    & 17638363\\\\\n",
       "\t 11154    & 17638363\\\\\n",
       "\t 11178    & 11219800\\\\\n",
       "\t 11178    & 11219800\\\\\n",
       "\t 11178    & 11219800\\\\\n",
       "\t 11292    & 15105464\\\\\n",
       "\t 11292    & 15105464\\\\\n",
       "\t 11292    & 15105464\\\\\n",
       "\t 11569    & 24458448\\\\\n",
       "\t 11569    & 24458448\\\\\n",
       "\t 11569    & 24458448\\\\\n",
       "\t 11749    & 22077940\\\\\n",
       "\t 11749    & 22077940\\\\\n",
       "\t 11749    & 22077940\\\\\n",
       "\t 11766    & 22403874\\\\\n",
       "\t 11766    & 22403874\\\\\n",
       "\t 11766    & 22403874\\\\\n",
       "\t 11780    & 15842224\\\\\n",
       "\t 11780    & 15842224\\\\\n",
       "\t 11780    & 15842224\\\\\n",
       "\t 11824    & 17534155\\\\\n",
       "\t 11824    & 17534155\\\\\n",
       "\t 11824    & 17534155\\\\\n",
       "\t 12024    & 19212175\\\\\n",
       "\t 12024    & 19212175\\\\\n",
       "\t 12024    & 19212175\\\\\n",
       "\t ⋮ & ⋮\\\\\n",
       "\t 12769    & 15542360\\\\\n",
       "\t 12769    & 15542360\\\\\n",
       "\t 12769    & 15542360\\\\\n",
       "\t 12793    & 23046598\\\\\n",
       "\t 12793    & 23046598\\\\\n",
       "\t 12793    & 23046598\\\\\n",
       "\t 12929    & 10576754\\\\\n",
       "\t 12929    & 10576754\\\\\n",
       "\t 12929    & 10576754\\\\\n",
       "\t 12987    & 17759096\\\\\n",
       "\t 12987    & 17759096\\\\\n",
       "\t 12987    & 17759096\\\\\n",
       "\t 13005    & 14899188\\\\\n",
       "\t 13005    & 14899188\\\\\n",
       "\t 13005    & 14899188\\\\\n",
       "\t 13303    & 10689181\\\\\n",
       "\t 13303    & 10689181\\\\\n",
       "\t 13303    & 10689181\\\\\n",
       "\t 13496    & 20541854\\\\\n",
       "\t 13496    & 20541854\\\\\n",
       "\t 13496    & 20541854\\\\\n",
       "\t 13633    & 11731022\\\\\n",
       "\t 13633    & 11731022\\\\\n",
       "\t 13633    & 11731022\\\\\n",
       "\t 13726    & 11397152\\\\\n",
       "\t 13726    & 11397152\\\\\n",
       "\t 13726    & 11397152\\\\\n",
       "\t 13861    & 22820543\\\\\n",
       "\t 13861    & 22820543\\\\\n",
       "\t 13861    & 24313756\\\\\n",
       "\\end{tabular}\n"
      ],
      "text/markdown": [
       "\n",
       "HOSP_NRD | KEY_NRD | \n",
       "|---|---|---|---|---|---|---|---|---|---|---|---|---|---|---|---|---|---|---|---|---|---|---|---|---|---|---|---|---|---|---|---|---|---|---|---|---|---|---|---|---|---|---|---|---|---|---|---|---|---|---|---|---|---|---|---|---|---|---|---|---|\n",
       "| 11055    | 23559352 | \n",
       "| 11055    | 23559352 | \n",
       "| 11055    | 23559352 | \n",
       "| 11154    | 17638363 | \n",
       "| 11154    | 17638363 | \n",
       "| 11154    | 17638363 | \n",
       "| 11178    | 11219800 | \n",
       "| 11178    | 11219800 | \n",
       "| 11178    | 11219800 | \n",
       "| 11292    | 15105464 | \n",
       "| 11292    | 15105464 | \n",
       "| 11292    | 15105464 | \n",
       "| 11569    | 24458448 | \n",
       "| 11569    | 24458448 | \n",
       "| 11569    | 24458448 | \n",
       "| 11749    | 22077940 | \n",
       "| 11749    | 22077940 | \n",
       "| 11749    | 22077940 | \n",
       "| 11766    | 22403874 | \n",
       "| 11766    | 22403874 | \n",
       "| 11766    | 22403874 | \n",
       "| 11780    | 15842224 | \n",
       "| 11780    | 15842224 | \n",
       "| 11780    | 15842224 | \n",
       "| 11824    | 17534155 | \n",
       "| 11824    | 17534155 | \n",
       "| 11824    | 17534155 | \n",
       "| 12024    | 19212175 | \n",
       "| 12024    | 19212175 | \n",
       "| 12024    | 19212175 | \n",
       "| ⋮ | ⋮ | \n",
       "| 12769    | 15542360 | \n",
       "| 12769    | 15542360 | \n",
       "| 12769    | 15542360 | \n",
       "| 12793    | 23046598 | \n",
       "| 12793    | 23046598 | \n",
       "| 12793    | 23046598 | \n",
       "| 12929    | 10576754 | \n",
       "| 12929    | 10576754 | \n",
       "| 12929    | 10576754 | \n",
       "| 12987    | 17759096 | \n",
       "| 12987    | 17759096 | \n",
       "| 12987    | 17759096 | \n",
       "| 13005    | 14899188 | \n",
       "| 13005    | 14899188 | \n",
       "| 13005    | 14899188 | \n",
       "| 13303    | 10689181 | \n",
       "| 13303    | 10689181 | \n",
       "| 13303    | 10689181 | \n",
       "| 13496    | 20541854 | \n",
       "| 13496    | 20541854 | \n",
       "| 13496    | 20541854 | \n",
       "| 13633    | 11731022 | \n",
       "| 13633    | 11731022 | \n",
       "| 13633    | 11731022 | \n",
       "| 13726    | 11397152 | \n",
       "| 13726    | 11397152 | \n",
       "| 13726    | 11397152 | \n",
       "| 13861    | 22820543 | \n",
       "| 13861    | 22820543 | \n",
       "| 13861    | 24313756 | \n",
       "\n",
       "\n"
      ],
      "text/plain": [
       "   HOSP_NRD KEY_NRD \n",
       "1  11055    23559352\n",
       "2  11055    23559352\n",
       "3  11055    23559352\n",
       "4  11154    17638363\n",
       "5  11154    17638363\n",
       "6  11154    17638363\n",
       "7  11178    11219800\n",
       "8  11178    11219800\n",
       "9  11178    11219800\n",
       "10 11292    15105464\n",
       "11 11292    15105464\n",
       "12 11292    15105464\n",
       "13 11569    24458448\n",
       "14 11569    24458448\n",
       "15 11569    24458448\n",
       "16 11749    22077940\n",
       "17 11749    22077940\n",
       "18 11749    22077940\n",
       "19 11766    22403874\n",
       "20 11766    22403874\n",
       "21 11766    22403874\n",
       "22 11780    15842224\n",
       "23 11780    15842224\n",
       "24 11780    15842224\n",
       "25 11824    17534155\n",
       "26 11824    17534155\n",
       "27 11824    17534155\n",
       "28 12024    19212175\n",
       "29 12024    19212175\n",
       "30 12024    19212175\n",
       "⋮  ⋮        ⋮       \n",
       "55 12769    15542360\n",
       "56 12769    15542360\n",
       "57 12769    15542360\n",
       "58 12793    23046598\n",
       "59 12793    23046598\n",
       "60 12793    23046598\n",
       "61 12929    10576754\n",
       "62 12929    10576754\n",
       "63 12929    10576754\n",
       "64 12987    17759096\n",
       "65 12987    17759096\n",
       "66 12987    17759096\n",
       "67 13005    14899188\n",
       "68 13005    14899188\n",
       "69 13005    14899188\n",
       "70 13303    10689181\n",
       "71 13303    10689181\n",
       "72 13303    10689181\n",
       "73 13496    20541854\n",
       "74 13496    20541854\n",
       "75 13496    20541854\n",
       "76 13633    11731022\n",
       "77 13633    11731022\n",
       "78 13633    11731022\n",
       "79 13726    11397152\n",
       "80 13726    11397152\n",
       "81 13726    11397152\n",
       "82 13861    22820543\n",
       "83 13861    22820543\n",
       "84 13861    24313756"
      ]
     },
     "metadata": {},
     "output_type": "display_data"
    }
   ],
   "source": [
    "resample[ ,c('HOSP_NRD', 'KEY_NRD')]"
   ]
  },
  {
   "cell_type": "code",
   "execution_count": 35,
   "metadata": {},
   "outputs": [
    {
     "ename": "ERROR",
     "evalue": "Error: This function should not be called directly\n",
     "output_type": "error",
     "traceback": [
      "Error: This function should not be called directly\nTraceback:\n",
      "1. sample_n(resample, size = n())",
      "2. sample_n.grouped_df(resample, size = n())",
      "3. assert_that(is_scalar_integerish(size), size >= 0)",
      "4. see_if(..., env = env, msg = msg)",
      "5. tryCatch({\n .     eval(assertion, env)\n . }, assertError = function(e) {\n .     structure(FALSE, msg = e$message)\n . })",
      "6. tryCatchList(expr, classes, parentenv, handlers)",
      "7. tryCatchOne(expr, names, parentenv, handlers[[1L]])",
      "8. doTryCatch(return(expr), name, parentenv, handler)",
      "9. eval(assertion, env)",
      "10. eval(assertion, env)",
      "11. is_scalar_integerish(size)",
      "12. n()",
      "13. abort(\"This function should not be called directly\")"
     ]
    }
   ],
   "source": [
    "sample_n(resample, size = n())"
   ]
  },
  {
   "cell_type": "code",
   "execution_count": 34,
   "metadata": {},
   "outputs": [
    {
     "data": {
      "text/html": [
       "<table>\n",
       "<thead><tr><th scope=col>HOSP_NRD</th><th scope=col>n_rows</th></tr></thead>\n",
       "<tbody>\n",
       "\t<tr><td>12929</td><td>1    </td></tr>\n",
       "\t<tr><td>12175</td><td>1    </td></tr>\n",
       "\t<tr><td>12024</td><td>1    </td></tr>\n",
       "\t<tr><td>12307</td><td>1    </td></tr>\n",
       "\t<tr><td>12245</td><td>1    </td></tr>\n",
       "\t<tr><td>12298</td><td>1    </td></tr>\n",
       "\t<tr><td>12470</td><td>1    </td></tr>\n",
       "\t<tr><td>11824</td><td>1    </td></tr>\n",
       "\t<tr><td>12793</td><td>1    </td></tr>\n",
       "\t<tr><td>12110</td><td>1    </td></tr>\n",
       "\t<tr><td>13005</td><td>1    </td></tr>\n",
       "\t<tr><td>12987</td><td>1    </td></tr>\n",
       "\t<tr><td>13861</td><td>2    </td></tr>\n",
       "\t<tr><td>13861</td><td>2    </td></tr>\n",
       "\t<tr><td>13726</td><td>1    </td></tr>\n",
       "\t<tr><td>12312</td><td>1    </td></tr>\n",
       "\t<tr><td>11292</td><td>1    </td></tr>\n",
       "\t<tr><td>11055</td><td>1    </td></tr>\n",
       "\t<tr><td>11178</td><td>1    </td></tr>\n",
       "\t<tr><td>11749</td><td>1    </td></tr>\n",
       "\t<tr><td>13633</td><td>1    </td></tr>\n",
       "\t<tr><td>13303</td><td>1    </td></tr>\n",
       "\t<tr><td>11780</td><td>1    </td></tr>\n",
       "\t<tr><td>12769</td><td>1    </td></tr>\n",
       "\t<tr><td>13496</td><td>1    </td></tr>\n",
       "\t<tr><td>11569</td><td>1    </td></tr>\n",
       "\t<tr><td>12661</td><td>2    </td></tr>\n",
       "\t<tr><td>11766</td><td>1    </td></tr>\n",
       "\t<tr><td>12661</td><td>2    </td></tr>\n",
       "\t<tr><td>11154</td><td>1    </td></tr>\n",
       "</tbody>\n",
       "</table>\n"
      ],
      "text/latex": [
       "\\begin{tabular}{r|ll}\n",
       " HOSP\\_NRD & n\\_rows\\\\\n",
       "\\hline\n",
       "\t 12929 & 1    \\\\\n",
       "\t 12175 & 1    \\\\\n",
       "\t 12024 & 1    \\\\\n",
       "\t 12307 & 1    \\\\\n",
       "\t 12245 & 1    \\\\\n",
       "\t 12298 & 1    \\\\\n",
       "\t 12470 & 1    \\\\\n",
       "\t 11824 & 1    \\\\\n",
       "\t 12793 & 1    \\\\\n",
       "\t 12110 & 1    \\\\\n",
       "\t 13005 & 1    \\\\\n",
       "\t 12987 & 1    \\\\\n",
       "\t 13861 & 2    \\\\\n",
       "\t 13861 & 2    \\\\\n",
       "\t 13726 & 1    \\\\\n",
       "\t 12312 & 1    \\\\\n",
       "\t 11292 & 1    \\\\\n",
       "\t 11055 & 1    \\\\\n",
       "\t 11178 & 1    \\\\\n",
       "\t 11749 & 1    \\\\\n",
       "\t 13633 & 1    \\\\\n",
       "\t 13303 & 1    \\\\\n",
       "\t 11780 & 1    \\\\\n",
       "\t 12769 & 1    \\\\\n",
       "\t 13496 & 1    \\\\\n",
       "\t 11569 & 1    \\\\\n",
       "\t 12661 & 2    \\\\\n",
       "\t 11766 & 1    \\\\\n",
       "\t 12661 & 2    \\\\\n",
       "\t 11154 & 1    \\\\\n",
       "\\end{tabular}\n"
      ],
      "text/markdown": [
       "\n",
       "HOSP_NRD | n_rows | \n",
       "|---|---|---|---|---|---|---|---|---|---|---|---|---|---|---|---|---|---|---|---|---|---|---|---|---|---|---|---|---|---|\n",
       "| 12929 | 1     | \n",
       "| 12175 | 1     | \n",
       "| 12024 | 1     | \n",
       "| 12307 | 1     | \n",
       "| 12245 | 1     | \n",
       "| 12298 | 1     | \n",
       "| 12470 | 1     | \n",
       "| 11824 | 1     | \n",
       "| 12793 | 1     | \n",
       "| 12110 | 1     | \n",
       "| 13005 | 1     | \n",
       "| 12987 | 1     | \n",
       "| 13861 | 2     | \n",
       "| 13861 | 2     | \n",
       "| 13726 | 1     | \n",
       "| 12312 | 1     | \n",
       "| 11292 | 1     | \n",
       "| 11055 | 1     | \n",
       "| 11178 | 1     | \n",
       "| 11749 | 1     | \n",
       "| 13633 | 1     | \n",
       "| 13303 | 1     | \n",
       "| 11780 | 1     | \n",
       "| 12769 | 1     | \n",
       "| 13496 | 1     | \n",
       "| 11569 | 1     | \n",
       "| 12661 | 2     | \n",
       "| 11766 | 1     | \n",
       "| 12661 | 2     | \n",
       "| 11154 | 1     | \n",
       "\n",
       "\n"
      ],
      "text/plain": [
       "   HOSP_NRD n_rows\n",
       "1  12929    1     \n",
       "2  12175    1     \n",
       "3  12024    1     \n",
       "4  12307    1     \n",
       "5  12245    1     \n",
       "6  12298    1     \n",
       "7  12470    1     \n",
       "8  11824    1     \n",
       "9  12793    1     \n",
       "10 12110    1     \n",
       "11 13005    1     \n",
       "12 12987    1     \n",
       "13 13861    2     \n",
       "14 13861    2     \n",
       "15 13726    1     \n",
       "16 12312    1     \n",
       "17 11292    1     \n",
       "18 11055    1     \n",
       "19 11178    1     \n",
       "20 11749    1     \n",
       "21 13633    1     \n",
       "22 13303    1     \n",
       "23 11780    1     \n",
       "24 12769    1     \n",
       "25 13496    1     \n",
       "26 11569    1     \n",
       "27 12661    2     \n",
       "28 11766    1     \n",
       "29 12661    2     \n",
       "30 11154    1     "
      ]
     },
     "metadata": {},
     "output_type": "display_data"
    }
   ],
   "source": [
    "mutate(resample, n_rows=n())[ c('HOSP_NRD', 'n_rows')]"
   ]
  },
  {
   "cell_type": "code",
   "execution_count": null,
   "metadata": {},
   "outputs": [],
   "source": [
    "resample.df <- index.df %>%\n",
    "  group_by(HOSP_NRD) %>%\n",
    "  sample_n()"
   ]
  },
  {
   "cell_type": "code",
   "execution_count": 30,
   "metadata": {},
   "outputs": [],
   "source": [
    "?sample_frac"
   ]
  },
  {
   "cell_type": "code",
   "execution_count": 8,
   "metadata": {},
   "outputs": [],
   "source": [
    "result <- glmer(readm30 ~ CM_AIDS + CM_ALCOHOL + CM_ANEMDEF + CM_ARTH + CM_BLDLOSS + CM_CHF + CM_CHRNLUNG + CM_COAG + \n",
    "                CM_DEPRESS + CM_DM + CM_DMCX + CM_DRUG + CM_HTN_C + CM_HYPOTHY + CM_LIVER + CM_LYMPH + CM_LYTES + CM_METS + \n",
    "                CM_NEURO + CM_OBESE + CM_PARA + CM_PERIVASC + CM_PSYCH + CM_PULMCIRC + CM_RENLFAIL + CM_TUMOR + CM_ULCER + \n",
    "                CM_VALVE + CM_WGHTLOSS + AGE + FEMALE + (1|HOSP_NRD), data = index.df, family = binomial, \n",
    "                control = glmerControl(optimizer = \"nloptwrap\", calc.derivs = F), nAGQ=7)"
   ]
  },
  {
   "cell_type": "code",
   "execution_count": 9,
   "metadata": {},
   "outputs": [],
   "source": [
    "rf <- ranef(result, condVar = TRUE)\n",
    "postVar = attr(rf$HOSP_NRD, 'postVar')\n",
    "\n",
    "random_effects = rf$HOSP_NRD\n",
    "dim(postVar) = dim(postVar)[3]\n",
    "random_effects$postVar = postVar"
   ]
  },
  {
   "cell_type": "code",
   "execution_count": 10,
   "metadata": {},
   "outputs": [],
   "source": [
    "write.csv(random_effects, paste0(path, 'cohorts30/ami/RE_resampled0.csv'))"
   ]
  }
 ],
 "metadata": {
  "kernelspec": {
   "display_name": "R 3.4.1",
   "language": "R",
   "name": "ir-3.4.1"
  },
  "language_info": {
   "codemirror_mode": "r",
   "file_extension": ".r",
   "mimetype": "text/x-r-source",
   "name": "R",
   "pygments_lexer": "r",
   "version": "3.4.1"
  }
 },
 "nbformat": 4,
 "nbformat_minor": 2
}
