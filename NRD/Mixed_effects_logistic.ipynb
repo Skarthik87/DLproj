{
 "cells": [
  {
   "cell_type": "code",
   "execution_count": 1,
   "metadata": {},
   "outputs": [
    {
     "name": "stderr",
     "output_type": "stream",
     "text": [
      "Loading required package: Matrix\n"
     ]
    }
   ],
   "source": [
    "library(ggplot2)\n",
    "library(GGally)\n",
    "library(lme4)"
   ]
  },
  {
   "cell_type": "code",
   "execution_count": 2,
   "metadata": {},
   "outputs": [],
   "source": [
    "path <- '/nfs/turbo/intmed-bnallamo-turbo/wsliu/Data/NRD/'"
   ]
  },
  {
   "cell_type": "code",
   "execution_count": 3,
   "metadata": {},
   "outputs": [],
   "source": [
    "dat <- read.csv(file = paste0(path, 'cohorts/ami/patients_first.csv'))"
   ]
  },
  {
   "cell_type": "code",
   "execution_count": 4,
   "metadata": {},
   "outputs": [],
   "source": [
    "comorbs <- c('CM_AIDS', 'CM_ALCOHOL', 'CM_ANEMDEF', 'CM_ARTH', 'CM_BLDLOSS', 'CM_CHF', 'CM_CHRNLUNG', 'CM_COAG', 'CM_DEPRESS', 'CM_DM', 'CM_DMCX', 'CM_DRUG', 'CM_HTN_C', 'CM_HYPOTHY', 'CM_LIVER', 'CM_LYMPH', 'CM_LYTES', 'CM_METS', 'CM_NEURO', 'CM_OBESE', 'CM_PARA', 'CM_PERIVASC', 'CM_PSYCH', 'CM_PULMCIRC', 'CM_RENLFAIL', 'CM_TUMOR', 'CM_ULCER', 'CM_VALVE', 'CM_WGHTLOSS')"
   ]
  },
  {
   "cell_type": "code",
   "execution_count": 5,
   "metadata": {},
   "outputs": [],
   "source": [
    "dat$HOSP_NRD <- as.factor(dat$HOSP_NRD)\n",
    "dat$FEMALE <- as.factor(dat$FEMALE)\n",
    "for(c in comorbs){\n",
    "    dat[ , c] <- as.factor(dat[ , c])\n",
    "}\n",
    "\n",
    "dat$readm30 <- as.numeric(dat$readm30) - 1"
   ]
  },
  {
   "cell_type": "code",
   "execution_count": 6,
   "metadata": {},
   "outputs": [
    {
     "data": {
      "text/html": [
       "<table>\n",
       "<thead><tr><th scope=col>NRD_VisitLink</th><th scope=col>CM_AIDS</th><th scope=col>CM_ALCOHOL</th><th scope=col>CM_ANEMDEF</th><th scope=col>CM_ARTH</th><th scope=col>CM_BLDLOSS</th><th scope=col>CM_CHF</th><th scope=col>CM_CHRNLUNG</th><th scope=col>CM_COAG</th><th scope=col>CM_DEPRESS</th><th scope=col>⋯</th><th scope=col>CM_TUMOR</th><th scope=col>CM_ULCER</th><th scope=col>CM_VALVE</th><th scope=col>CM_WGHTLOSS</th><th scope=col>KEY_NRD</th><th scope=col>AGE</th><th scope=col>FEMALE</th><th scope=col>HOSP_NRD</th><th scope=col>NRD_DaysToEvent</th><th scope=col>readm30</th></tr></thead>\n",
       "<tbody>\n",
       "\t<tr><td>b000fk0 </td><td>0       </td><td>0       </td><td>0       </td><td>0       </td><td>0       </td><td>0       </td><td>0       </td><td>0       </td><td>0       </td><td>⋯       </td><td>0       </td><td>0       </td><td>0       </td><td>0       </td><td>10576754</td><td>65      </td><td>0       </td><td>12929   </td><td>20821   </td><td>0       </td></tr>\n",
       "\t<tr><td>b000vym </td><td>0       </td><td>0       </td><td>0       </td><td>0       </td><td>0       </td><td>0       </td><td>0       </td><td>0       </td><td>0       </td><td>⋯       </td><td>0       </td><td>0       </td><td>0       </td><td>0       </td><td>19785198</td><td>72      </td><td>0       </td><td>12175   </td><td>18702   </td><td>0       </td></tr>\n",
       "\t<tr><td>b0015un </td><td>0       </td><td>0       </td><td>0       </td><td>0       </td><td>0       </td><td>0       </td><td>0       </td><td>0       </td><td>0       </td><td>⋯       </td><td>0       </td><td>0       </td><td>0       </td><td>0       </td><td>19212175</td><td>57      </td><td>1       </td><td>12024   </td><td>17420   </td><td>0       </td></tr>\n",
       "\t<tr><td>b0016wx </td><td>0       </td><td>0       </td><td>0       </td><td>0       </td><td>0       </td><td>0       </td><td>0       </td><td>0       </td><td>0       </td><td>⋯       </td><td>0       </td><td>0       </td><td>0       </td><td>0       </td><td>21012648</td><td>61      </td><td>0       </td><td>12307   </td><td>18289   </td><td>0       </td></tr>\n",
       "\t<tr><td>b001gse </td><td>0       </td><td>0       </td><td>0       </td><td>0       </td><td>0       </td><td>1       </td><td>1       </td><td>0       </td><td>0       </td><td>⋯       </td><td>0       </td><td>0       </td><td>0       </td><td>1       </td><td>18432816</td><td>61      </td><td>0       </td><td>12245   </td><td>22681   </td><td>1       </td></tr>\n",
       "\t<tr><td>b001n49 </td><td>0       </td><td>0       </td><td>0       </td><td>0       </td><td>0       </td><td>0       </td><td>0       </td><td>0       </td><td>0       </td><td>⋯       </td><td>0       </td><td>0       </td><td>0       </td><td>0       </td><td>16083400</td><td>49      </td><td>0       </td><td>12298   </td><td>12832   </td><td>0       </td></tr>\n",
       "</tbody>\n",
       "</table>\n"
      ],
      "text/latex": [
       "\\begin{tabular}{r|llllllllllllllllllllllllllllllllllll}\n",
       " NRD\\_VisitLink & CM\\_AIDS & CM\\_ALCOHOL & CM\\_ANEMDEF & CM\\_ARTH & CM\\_BLDLOSS & CM\\_CHF & CM\\_CHRNLUNG & CM\\_COAG & CM\\_DEPRESS & ⋯ & CM\\_TUMOR & CM\\_ULCER & CM\\_VALVE & CM\\_WGHTLOSS & KEY\\_NRD & AGE & FEMALE & HOSP\\_NRD & NRD\\_DaysToEvent & readm30\\\\\n",
       "\\hline\n",
       "\t b000fk0  & 0        & 0        & 0        & 0        & 0        & 0        & 0        & 0        & 0        & ⋯        & 0        & 0        & 0        & 0        & 10576754 & 65       & 0        & 12929    & 20821    & 0       \\\\\n",
       "\t b000vym  & 0        & 0        & 0        & 0        & 0        & 0        & 0        & 0        & 0        & ⋯        & 0        & 0        & 0        & 0        & 19785198 & 72       & 0        & 12175    & 18702    & 0       \\\\\n",
       "\t b0015un  & 0        & 0        & 0        & 0        & 0        & 0        & 0        & 0        & 0        & ⋯        & 0        & 0        & 0        & 0        & 19212175 & 57       & 1        & 12024    & 17420    & 0       \\\\\n",
       "\t b0016wx  & 0        & 0        & 0        & 0        & 0        & 0        & 0        & 0        & 0        & ⋯        & 0        & 0        & 0        & 0        & 21012648 & 61       & 0        & 12307    & 18289    & 0       \\\\\n",
       "\t b001gse  & 0        & 0        & 0        & 0        & 0        & 1        & 1        & 0        & 0        & ⋯        & 0        & 0        & 0        & 1        & 18432816 & 61       & 0        & 12245    & 22681    & 1       \\\\\n",
       "\t b001n49  & 0        & 0        & 0        & 0        & 0        & 0        & 0        & 0        & 0        & ⋯        & 0        & 0        & 0        & 0        & 16083400 & 49       & 0        & 12298    & 12832    & 0       \\\\\n",
       "\\end{tabular}\n"
      ],
      "text/markdown": [
       "\n",
       "NRD_VisitLink | CM_AIDS | CM_ALCOHOL | CM_ANEMDEF | CM_ARTH | CM_BLDLOSS | CM_CHF | CM_CHRNLUNG | CM_COAG | CM_DEPRESS | ⋯ | CM_TUMOR | CM_ULCER | CM_VALVE | CM_WGHTLOSS | KEY_NRD | AGE | FEMALE | HOSP_NRD | NRD_DaysToEvent | readm30 | \n",
       "|---|---|---|---|---|---|\n",
       "| b000fk0  | 0        | 0        | 0        | 0        | 0        | 0        | 0        | 0        | 0        | ⋯        | 0        | 0        | 0        | 0        | 10576754 | 65       | 0        | 12929    | 20821    | 0        | \n",
       "| b000vym  | 0        | 0        | 0        | 0        | 0        | 0        | 0        | 0        | 0        | ⋯        | 0        | 0        | 0        | 0        | 19785198 | 72       | 0        | 12175    | 18702    | 0        | \n",
       "| b0015un  | 0        | 0        | 0        | 0        | 0        | 0        | 0        | 0        | 0        | ⋯        | 0        | 0        | 0        | 0        | 19212175 | 57       | 1        | 12024    | 17420    | 0        | \n",
       "| b0016wx  | 0        | 0        | 0        | 0        | 0        | 0        | 0        | 0        | 0        | ⋯        | 0        | 0        | 0        | 0        | 21012648 | 61       | 0        | 12307    | 18289    | 0        | \n",
       "| b001gse  | 0        | 0        | 0        | 0        | 0        | 1        | 1        | 0        | 0        | ⋯        | 0        | 0        | 0        | 1        | 18432816 | 61       | 0        | 12245    | 22681    | 1        | \n",
       "| b001n49  | 0        | 0        | 0        | 0        | 0        | 0        | 0        | 0        | 0        | ⋯        | 0        | 0        | 0        | 0        | 16083400 | 49       | 0        | 12298    | 12832    | 0        | \n",
       "\n",
       "\n"
      ],
      "text/plain": [
       "  NRD_VisitLink CM_AIDS CM_ALCOHOL CM_ANEMDEF CM_ARTH CM_BLDLOSS CM_CHF\n",
       "1 b000fk0       0       0          0          0       0          0     \n",
       "2 b000vym       0       0          0          0       0          0     \n",
       "3 b0015un       0       0          0          0       0          0     \n",
       "4 b0016wx       0       0          0          0       0          0     \n",
       "5 b001gse       0       0          0          0       0          1     \n",
       "6 b001n49       0       0          0          0       0          0     \n",
       "  CM_CHRNLUNG CM_COAG CM_DEPRESS ⋯ CM_TUMOR CM_ULCER CM_VALVE CM_WGHTLOSS\n",
       "1 0           0       0          ⋯ 0        0        0        0          \n",
       "2 0           0       0          ⋯ 0        0        0        0          \n",
       "3 0           0       0          ⋯ 0        0        0        0          \n",
       "4 0           0       0          ⋯ 0        0        0        0          \n",
       "5 1           0       0          ⋯ 0        0        0        1          \n",
       "6 0           0       0          ⋯ 0        0        0        0          \n",
       "  KEY_NRD  AGE FEMALE HOSP_NRD NRD_DaysToEvent readm30\n",
       "1 10576754 65  0      12929    20821           0      \n",
       "2 19785198 72  0      12175    18702           0      \n",
       "3 19212175 57  1      12024    17420           0      \n",
       "4 21012648 61  0      12307    18289           0      \n",
       "5 18432816 61  0      12245    22681           1      \n",
       "6 16083400 49  0      12298    12832           0      "
      ]
     },
     "metadata": {},
     "output_type": "display_data"
    }
   ],
   "source": [
    "head(dat)"
   ]
  },
  {
   "cell_type": "code",
   "execution_count": 15,
   "metadata": {
    "scrolled": true
   },
   "outputs": [
    {
     "data": {
      "text/html": [
       "<ol class=list-inline>\n",
       "\t<li>'NRD_VisitLink'</li>\n",
       "\t<li>'CM_AIDS'</li>\n",
       "\t<li>'CM_ALCOHOL'</li>\n",
       "\t<li>'CM_ANEMDEF'</li>\n",
       "\t<li>'CM_ARTH'</li>\n",
       "\t<li>'CM_BLDLOSS'</li>\n",
       "\t<li>'CM_CHF'</li>\n",
       "\t<li>'CM_CHRNLUNG'</li>\n",
       "\t<li>'CM_COAG'</li>\n",
       "\t<li>'CM_DEPRESS'</li>\n",
       "\t<li>'CM_DM'</li>\n",
       "\t<li>'CM_DMCX'</li>\n",
       "\t<li>'CM_DRUG'</li>\n",
       "\t<li>'CM_HTN_C'</li>\n",
       "\t<li>'CM_HYPOTHY'</li>\n",
       "\t<li>'CM_LIVER'</li>\n",
       "\t<li>'CM_LYMPH'</li>\n",
       "\t<li>'CM_LYTES'</li>\n",
       "\t<li>'CM_METS'</li>\n",
       "\t<li>'CM_NEURO'</li>\n",
       "\t<li>'CM_OBESE'</li>\n",
       "\t<li>'CM_PARA'</li>\n",
       "\t<li>'CM_PERIVASC'</li>\n",
       "\t<li>'CM_PSYCH'</li>\n",
       "\t<li>'CM_PULMCIRC'</li>\n",
       "\t<li>'CM_RENLFAIL'</li>\n",
       "\t<li>'CM_TUMOR'</li>\n",
       "\t<li>'CM_ULCER'</li>\n",
       "\t<li>'CM_VALVE'</li>\n",
       "\t<li>'CM_WGHTLOSS'</li>\n",
       "\t<li>'KEY_NRD'</li>\n",
       "\t<li>'AGE'</li>\n",
       "\t<li>'FEMALE'</li>\n",
       "\t<li>'HOSP_NRD'</li>\n",
       "\t<li>'NRD_DaysToEvent'</li>\n",
       "\t<li>'readm30'</li>\n",
       "</ol>\n"
      ],
      "text/latex": [
       "\\begin{enumerate*}\n",
       "\\item 'NRD\\_VisitLink'\n",
       "\\item 'CM\\_AIDS'\n",
       "\\item 'CM\\_ALCOHOL'\n",
       "\\item 'CM\\_ANEMDEF'\n",
       "\\item 'CM\\_ARTH'\n",
       "\\item 'CM\\_BLDLOSS'\n",
       "\\item 'CM\\_CHF'\n",
       "\\item 'CM\\_CHRNLUNG'\n",
       "\\item 'CM\\_COAG'\n",
       "\\item 'CM\\_DEPRESS'\n",
       "\\item 'CM\\_DM'\n",
       "\\item 'CM\\_DMCX'\n",
       "\\item 'CM\\_DRUG'\n",
       "\\item 'CM\\_HTN\\_C'\n",
       "\\item 'CM\\_HYPOTHY'\n",
       "\\item 'CM\\_LIVER'\n",
       "\\item 'CM\\_LYMPH'\n",
       "\\item 'CM\\_LYTES'\n",
       "\\item 'CM\\_METS'\n",
       "\\item 'CM\\_NEURO'\n",
       "\\item 'CM\\_OBESE'\n",
       "\\item 'CM\\_PARA'\n",
       "\\item 'CM\\_PERIVASC'\n",
       "\\item 'CM\\_PSYCH'\n",
       "\\item 'CM\\_PULMCIRC'\n",
       "\\item 'CM\\_RENLFAIL'\n",
       "\\item 'CM\\_TUMOR'\n",
       "\\item 'CM\\_ULCER'\n",
       "\\item 'CM\\_VALVE'\n",
       "\\item 'CM\\_WGHTLOSS'\n",
       "\\item 'KEY\\_NRD'\n",
       "\\item 'AGE'\n",
       "\\item 'FEMALE'\n",
       "\\item 'HOSP\\_NRD'\n",
       "\\item 'NRD\\_DaysToEvent'\n",
       "\\item 'readm30'\n",
       "\\end{enumerate*}\n"
      ],
      "text/markdown": [
       "1. 'NRD_VisitLink'\n",
       "2. 'CM_AIDS'\n",
       "3. 'CM_ALCOHOL'\n",
       "4. 'CM_ANEMDEF'\n",
       "5. 'CM_ARTH'\n",
       "6. 'CM_BLDLOSS'\n",
       "7. 'CM_CHF'\n",
       "8. 'CM_CHRNLUNG'\n",
       "9. 'CM_COAG'\n",
       "10. 'CM_DEPRESS'\n",
       "11. 'CM_DM'\n",
       "12. 'CM_DMCX'\n",
       "13. 'CM_DRUG'\n",
       "14. 'CM_HTN_C'\n",
       "15. 'CM_HYPOTHY'\n",
       "16. 'CM_LIVER'\n",
       "17. 'CM_LYMPH'\n",
       "18. 'CM_LYTES'\n",
       "19. 'CM_METS'\n",
       "20. 'CM_NEURO'\n",
       "21. 'CM_OBESE'\n",
       "22. 'CM_PARA'\n",
       "23. 'CM_PERIVASC'\n",
       "24. 'CM_PSYCH'\n",
       "25. 'CM_PULMCIRC'\n",
       "26. 'CM_RENLFAIL'\n",
       "27. 'CM_TUMOR'\n",
       "28. 'CM_ULCER'\n",
       "29. 'CM_VALVE'\n",
       "30. 'CM_WGHTLOSS'\n",
       "31. 'KEY_NRD'\n",
       "32. 'AGE'\n",
       "33. 'FEMALE'\n",
       "34. 'HOSP_NRD'\n",
       "35. 'NRD_DaysToEvent'\n",
       "36. 'readm30'\n",
       "\n",
       "\n"
      ],
      "text/plain": [
       " [1] \"NRD_VisitLink\"   \"CM_AIDS\"         \"CM_ALCOHOL\"      \"CM_ANEMDEF\"     \n",
       " [5] \"CM_ARTH\"         \"CM_BLDLOSS\"      \"CM_CHF\"          \"CM_CHRNLUNG\"    \n",
       " [9] \"CM_COAG\"         \"CM_DEPRESS\"      \"CM_DM\"           \"CM_DMCX\"        \n",
       "[13] \"CM_DRUG\"         \"CM_HTN_C\"        \"CM_HYPOTHY\"      \"CM_LIVER\"       \n",
       "[17] \"CM_LYMPH\"        \"CM_LYTES\"        \"CM_METS\"         \"CM_NEURO\"       \n",
       "[21] \"CM_OBESE\"        \"CM_PARA\"         \"CM_PERIVASC\"     \"CM_PSYCH\"       \n",
       "[25] \"CM_PULMCIRC\"     \"CM_RENLFAIL\"     \"CM_TUMOR\"        \"CM_ULCER\"       \n",
       "[29] \"CM_VALVE\"        \"CM_WGHTLOSS\"     \"KEY_NRD\"         \"AGE\"            \n",
       "[33] \"FEMALE\"          \"HOSP_NRD\"        \"NRD_DaysToEvent\" \"readm30\"        "
      ]
     },
     "metadata": {},
     "output_type": "display_data"
    }
   ],
   "source": [
    "colnames(dat)"
   ]
  },
  {
   "cell_type": "code",
   "execution_count": 12,
   "metadata": {},
   "outputs": [
    {
     "data": {
      "text/html": [
       "<ol class=list-inline>\n",
       "\t<li>195695</li>\n",
       "\t<li>36</li>\n",
       "</ol>\n"
      ],
      "text/latex": [
       "\\begin{enumerate*}\n",
       "\\item 195695\n",
       "\\item 36\n",
       "\\end{enumerate*}\n"
      ],
      "text/markdown": [
       "1. 195695\n",
       "2. 36\n",
       "\n",
       "\n"
      ],
      "text/plain": [
       "[1] 195695     36"
      ]
     },
     "metadata": {},
     "output_type": "display_data"
    }
   ],
   "source": [
    "dim(dat)"
   ]
  },
  {
   "cell_type": "code",
   "execution_count": 17,
   "metadata": {},
   "outputs": [],
   "source": [
    "N <- dim(dat)[1]\n",
    "train_size <- floor(0.75*N)\n",
    "set.seed(123)\n",
    "train_idx <- sample(seq_len(N), size = train_size)\n",
    "train_dat <- dat[train_idx, ]\n",
    "test_dat <- dat[-train_idx, ]"
   ]
  },
  {
   "cell_type": "code",
   "execution_count": 18,
   "metadata": {},
   "outputs": [],
   "source": [
    "result <- glmer(readm30 ~ CM_AIDS + CM_ALCOHOL + CM_ANEMDEF + CM_ARTH + CM_BLDLOSS + CM_CHF + CM_CHRNLUNG + CM_COAG + \n",
    "                CM_DEPRESS + CM_DM + CM_DMCX + CM_DRUG + CM_HTN_C + CM_HYPOTHY + CM_LIVER + CM_LYMPH + CM_LYTES + CM_METS + \n",
    "                CM_NEURO + CM_OBESE + CM_PARA + CM_PERIVASC + CM_PSYCH + CM_PULMCIRC + CM_RENLFAIL + CM_TUMOR + CM_ULCER + \n",
    "                CM_VALVE + CM_WGHTLOSS + AGE + FEMALE + (1|HOSP_NRD), data = train_dat, family = binomial, \n",
    "                control = glmerControl(optimizer = \"nloptwrap\", calc.derivs = FALSE), nAGQ = 0)"
   ]
  },
  {
   "cell_type": "code",
   "execution_count": 19,
   "metadata": {},
   "outputs": [
    {
     "name": "stdout",
     "output_type": "stream",
     "text": [
      "Generalized linear mixed model fit by maximum likelihood (Adaptive\n",
      "  Gauss-Hermite Quadrature, nAGQ = 0) [glmerMod]\n",
      " Family: binomial  ( logit )\n",
      "Formula: readm30 ~ CM_AIDS + CM_ALCOHOL + CM_ANEMDEF + CM_ARTH + CM_BLDLOSS +  \n",
      "    CM_CHF + CM_CHRNLUNG + CM_COAG + CM_DEPRESS + CM_DM + CM_DMCX +  \n",
      "    CM_DRUG + CM_HTN_C + CM_HYPOTHY + CM_LIVER + CM_LYMPH + CM_LYTES +  \n",
      "    CM_METS + CM_NEURO + CM_OBESE + CM_PARA + CM_PERIVASC + CM_PSYCH +  \n",
      "    CM_PULMCIRC + CM_RENLFAIL + CM_TUMOR + CM_ULCER + CM_VALVE +  \n",
      "    CM_WGHTLOSS + AGE + FEMALE + (1 | HOSP_NRD)\n",
      "   Data: train_dat\n",
      "      AIC       BIC    logLik  deviance  df.resid \n",
      "107605.95 107932.54 -53769.98 107539.95    146738 \n",
      "Random effects:\n",
      " Groups   Name        Std.Dev.\n",
      " HOSP_NRD (Intercept) 0.1859  \n",
      "Number of obs: 146771, groups:  HOSP_NRD, 874\n",
      "Fixed Effects:\n",
      " (Intercept)      CM_AIDS1   CM_ALCOHOL1   CM_ANEMDEF1      CM_ARTH1  \n",
      "   -3.468048      0.007496      0.035593      0.274385      0.184890  \n",
      " CM_BLDLOSS1       CM_CHF1  CM_CHRNLUNG1      CM_COAG1   CM_DEPRESS1  \n",
      "    0.253917      0.250127      0.337540      0.108117      0.142500  \n",
      "      CM_DM1      CM_DMCX1      CM_DRUG1     CM_HTN_C1   CM_HYPOTHY1  \n",
      "    0.269915      0.517960      0.308675      0.032685      0.015693  \n",
      "   CM_LIVER1     CM_LYMPH1     CM_LYTES1      CM_METS1     CM_NEURO1  \n",
      "    0.207944      0.199086      0.275547      0.533080      0.144340  \n",
      "   CM_OBESE1      CM_PARA1  CM_PERIVASC1     CM_PSYCH1  CM_PULMCIRC1  \n",
      "   -0.057745      0.197822      0.193915      0.237192     -0.090091  \n",
      "CM_RENLFAIL1     CM_TUMOR1     CM_ULCER1     CM_VALVE1  CM_WGHTLOSS1  \n",
      "    0.440341      0.283635      0.099712     -0.067397      0.218408  \n",
      "         AGE       FEMALE1  \n",
      "    0.013426      0.165644  \n"
     ]
    }
   ],
   "source": [
    "print(result, corr=False)"
   ]
  },
  {
   "cell_type": "code",
   "execution_count": 20,
   "metadata": {},
   "outputs": [],
   "source": [
    "pred_score <- predict(result, newdata = test_dat, type = 'response')"
   ]
  },
  {
   "cell_type": "code",
   "execution_count": 23,
   "metadata": {},
   "outputs": [],
   "source": [
    "pred_test <- data.frame(y_pred = pred_score, y_true = test_dat$readm30)"
   ]
  },
  {
   "cell_type": "code",
   "execution_count": 25,
   "metadata": {},
   "outputs": [],
   "source": [
    "write.csv(pred_test, file = paste0(path, 'cohorts/ami/prediction_MELR.csv'))"
   ]
  }
 ],
 "metadata": {
  "kernelspec": {
   "display_name": "R 3.4.1",
   "language": "R",
   "name": "ir-3.4.1"
  },
  "language_info": {
   "codemirror_mode": "r",
   "file_extension": ".r",
   "mimetype": "text/x-r-source",
   "name": "R",
   "pygments_lexer": "r",
   "version": "3.4.1"
  }
 },
 "nbformat": 4,
 "nbformat_minor": 2
}
