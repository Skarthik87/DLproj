{
 "cells": [
  {
   "cell_type": "markdown",
   "metadata": {},
   "source": [
    "# Embedding Different Variables into Different Spaces by GloVe"
   ]
  },
  {
   "cell_type": "markdown",
   "metadata": {},
   "source": [
    "In this notebook we try to use Keras backend implement the optimization problem of GloVe. \n",
    "$$J = \\sum_{i, j=1}^{V}f(X_{ij})((\\mathbf{w}_i^k)^T\\mathbf{M}^{kl}\\mathbf{v_j}^l + b_i^k + a_j^l - \\log X_{ij})^2$$\n",
    "$$ \\mathbf{W^k}, \\mathbf{V^l}, \\mathbf{b^k}, \\mathbf{a^l} = \\text{argmin}(J)$$\n",
    "where $k, l \\in \\{DX1, DX, PR\\}$"
   ]
  },
  {
   "cell_type": "code",
   "execution_count": 1,
   "metadata": {},
   "outputs": [],
   "source": [
    "import pandas as pd\n",
    "import numpy as np\n",
    "import matplotlib.pyplot as plt\n",
    "#import statsmodels.api as sm\n",
    "from sklearn.model_selection import train_test_split, StratifiedShuffleSplit\n",
    "import os, sys\n",
    "from importlib import reload\n",
    "import scipy.sparse as sp\n",
    "import time\n",
    "import itertools\n",
    "%matplotlib inline"
   ]
  },
  {
   "cell_type": "code",
   "execution_count": 4,
   "metadata": {},
   "outputs": [],
   "source": [
    "os.environ['CUDA_VISIBLE_DEVICES'] = ''"
   ]
  },
  {
   "cell_type": "code",
   "execution_count": 2,
   "metadata": {},
   "outputs": [],
   "source": [
    "path = '/nfs/turbo/intmed-bnallamo-turbo/wsliu/Data/NRD/'"
   ]
  },
  {
   "cell_type": "code",
   "execution_count": 2,
   "metadata": {},
   "outputs": [],
   "source": [
    "path = '/nfs/turbo/umms-awaljee/wsliu/Data/NRD/'"
   ]
  },
  {
   "cell_type": "code",
   "execution_count": 3,
   "metadata": {},
   "outputs": [],
   "source": [
    "model_path = path + 'models/'\n",
    "if not os.path.exists(model_path): os.mkdir(model_path)"
   ]
  },
  {
   "cell_type": "code",
   "execution_count": 4,
   "metadata": {
    "scrolled": true
   },
   "outputs": [
    {
     "name": "stderr",
     "output_type": "stream",
     "text": [
      "Using TensorFlow backend.\n"
     ]
    }
   ],
   "source": [
    "from keras.layers import Input, Embedding, Concatenate, Reshape, BatchNormalization, Lambda, Multiply, Add\n",
    "from keras.models import Model\n",
    "from keras.layers.core import Dense, Activation, Dropout, RepeatVector\n",
    "from keras.callbacks import ModelCheckpoint, ReduceLROnPlateau, EarlyStopping\n",
    "from keras.utils import to_categorical\n",
    "from keras.optimizers import Adam\n",
    "from keras.initializers import Constant\n",
    "import keras.backend as K"
   ]
  },
  {
   "cell_type": "code",
   "execution_count": 11,
   "metadata": {},
   "outputs": [],
   "source": [
    "module_path = os.path.abspath(os.path.join('..'))\n",
    "if module_path not in sys.path:\n",
    "    sys.path.append(module_path)\n",
    "from DL_utils import plot_roc\n",
    "from keras_addon import AUCCheckPoint\n",
    "from utils import Mat_reg, Parent_reg, preprocess, get_frequency\n",
    "from glove import Glove\n",
    "from setsum_layer import MaskedSum"
   ]
  },
  {
   "cell_type": "code",
   "execution_count": 6,
   "metadata": {},
   "outputs": [],
   "source": [
    "from ccs_tools import dx_multi, pr_multi, dx_label, core_dtypes_pd, dx_single"
   ]
  },
  {
   "cell_type": "markdown",
   "metadata": {},
   "source": [
    "## Class Developing\n",
    "### Reading Data"
   ]
  },
  {
   "cell_type": "code",
   "execution_count": 7,
   "metadata": {},
   "outputs": [],
   "source": [
    "cohort='ami'\n",
    "tst_seed=0"
   ]
  },
  {
   "cell_type": "code",
   "execution_count": 8,
   "metadata": {},
   "outputs": [],
   "source": [
    "all_df = pd.read_csv(path+'cohorts/{}/{}_pred.csv'.format(cohort, cohort), dtype=core_dtypes_pd)"
   ]
  },
  {
   "cell_type": "code",
   "execution_count": 9,
   "metadata": {},
   "outputs": [],
   "source": [
    "n_DX = 29\n",
    "n_PR = 15\n",
    "DXs = ['DX'+str(n) for n in range(2, n_DX+2)]\n",
    "PRs = ['PR'+str(n) for n in range(1, n_PR+1)]"
   ]
  },
  {
   "cell_type": "code",
   "execution_count": 12,
   "metadata": {},
   "outputs": [],
   "source": [
    "freq = get_frequency(all_df)"
   ]
  },
  {
   "cell_type": "code",
   "execution_count": 13,
   "metadata": {},
   "outputs": [],
   "source": [
    "preprocessed = preprocess(all_df, DX_rarecutpoint=10, PR_rarecutpoint=10)"
   ]
  },
  {
   "cell_type": "code",
   "execution_count": 14,
   "metadata": {},
   "outputs": [],
   "source": [
    "all_df = preprocessed['int_df']"
   ]
  },
  {
   "cell_type": "code",
   "execution_count": 15,
   "metadata": {},
   "outputs": [],
   "source": [
    "tst_key = pd.read_csv(path+'cohorts/{}/tst_key{}.csv'.format(cohort, tst_seed), names = ['KEY_NRD'])\n",
    "tst_df = all_df.loc[all_df.KEY_NRD.isin(tst_key.KEY_NRD)]\n",
    "train_df0 = all_df.loc[~all_df.KEY_NRD.isin(tst_key.KEY_NRD)].reset_index()"
   ]
  },
  {
   "cell_type": "code",
   "execution_count": 16,
   "metadata": {},
   "outputs": [],
   "source": [
    "from glove import Glove"
   ]
  },
  {
   "cell_type": "code",
   "execution_count": 17,
   "metadata": {},
   "outputs": [],
   "source": [
    "embed_dim=100\n",
    "count_cap=5"
   ]
  },
  {
   "cell_type": "code",
   "execution_count": 18,
   "metadata": {},
   "outputs": [],
   "source": [
    "g = Glove(input_dim=len(preprocessed['code_cat']), embedding_dim=embed_dim, count_cap=count_cap)"
   ]
  },
  {
   "cell_type": "code",
   "execution_count": 19,
   "metadata": {},
   "outputs": [
    {
     "name": "stdout",
     "output_type": "stream",
     "text": [
      "Updating co-occurrence matrix from a Dataframe with 167841 rows...\n",
      "Finished. It takes 34.7 seconds to update the cooccurrences.\n"
     ]
    }
   ],
   "source": [
    "g.update_cooccur(train_df0[['DX1']+DXs+PRs])"
   ]
  },
  {
   "cell_type": "code",
   "execution_count": 20,
   "metadata": {},
   "outputs": [],
   "source": [
    "cooccur_df = g.get_cooccur_df()"
   ]
  },
  {
   "cell_type": "code",
   "execution_count": 21,
   "metadata": {},
   "outputs": [
    {
     "data": {
      "text/plain": [
       "(874770, 3)"
      ]
     },
     "execution_count": 21,
     "metadata": {},
     "output_type": "execute_result"
    }
   ],
   "source": [
    "cooccur_df.shape"
   ]
  },
  {
   "cell_type": "code",
   "execution_count": 22,
   "metadata": {
    "scrolled": true
   },
   "outputs": [
    {
     "data": {
      "text/html": [
       "<div>\n",
       "<style scoped>\n",
       "    .dataframe tbody tr th:only-of-type {\n",
       "        vertical-align: middle;\n",
       "    }\n",
       "\n",
       "    .dataframe tbody tr th {\n",
       "        vertical-align: top;\n",
       "    }\n",
       "\n",
       "    .dataframe thead th {\n",
       "        text-align: right;\n",
       "    }\n",
       "</style>\n",
       "<table border=\"1\" class=\"dataframe\">\n",
       "  <thead>\n",
       "    <tr style=\"text-align: right;\">\n",
       "      <th></th>\n",
       "      <th>focal_index</th>\n",
       "      <th>context_index</th>\n",
       "      <th>cooccur_counts</th>\n",
       "    </tr>\n",
       "  </thead>\n",
       "  <tbody>\n",
       "    <tr>\n",
       "      <th>0</th>\n",
       "      <td>1294</td>\n",
       "      <td>1131</td>\n",
       "      <td>112.0</td>\n",
       "    </tr>\n",
       "    <tr>\n",
       "      <th>1</th>\n",
       "      <td>1760</td>\n",
       "      <td>65</td>\n",
       "      <td>1.0</td>\n",
       "    </tr>\n",
       "    <tr>\n",
       "      <th>2</th>\n",
       "      <td>1082</td>\n",
       "      <td>437</td>\n",
       "      <td>12.0</td>\n",
       "    </tr>\n",
       "    <tr>\n",
       "      <th>3</th>\n",
       "      <td>2440</td>\n",
       "      <td>1696</td>\n",
       "      <td>3.0</td>\n",
       "    </tr>\n",
       "    <tr>\n",
       "      <th>4</th>\n",
       "      <td>1006</td>\n",
       "      <td>901</td>\n",
       "      <td>5172.0</td>\n",
       "    </tr>\n",
       "  </tbody>\n",
       "</table>\n",
       "</div>"
      ],
      "text/plain": [
       "   focal_index  context_index  cooccur_counts\n",
       "0         1294           1131           112.0\n",
       "1         1760             65             1.0\n",
       "2         1082            437            12.0\n",
       "3         2440           1696             3.0\n",
       "4         1006            901          5172.0"
      ]
     },
     "execution_count": 22,
     "metadata": {},
     "output_type": "execute_result"
    }
   ],
   "source": [
    "cooccur_df.head()"
   ]
  },
  {
   "cell_type": "markdown",
   "metadata": {},
   "source": [
    "### Data preparation"
   ]
  },
  {
   "cell_type": "code",
   "execution_count": 23,
   "metadata": {},
   "outputs": [],
   "source": [
    "n_DX1_cat = len(preprocessed['DX1_cat'])\n",
    "n_DX_cat = len(preprocessed['DX_cat'])\n",
    "n_PR_cat = len(preprocessed['PR_cat'])"
   ]
  },
  {
   "cell_type": "code",
   "execution_count": 24,
   "metadata": {},
   "outputs": [
    {
     "data": {
      "text/plain": [
       "(20, 2323, 560)"
      ]
     },
     "execution_count": 24,
     "metadata": {},
     "output_type": "execute_result"
    }
   ],
   "source": [
    "n_DX1_cat, n_DX_cat, n_PR_cat"
   ]
  },
  {
   "cell_type": "code",
   "execution_count": 25,
   "metadata": {},
   "outputs": [],
   "source": [
    "input_X = cooccur_df"
   ]
  },
  {
   "cell_type": "code",
   "execution_count": 26,
   "metadata": {},
   "outputs": [],
   "source": [
    "input_X = input_X.assign(input_DX1_w=0).assign(input_DX_w=0).assign(input_PR_w=0).assign(input_DX1_v=0).assign(input_DX_v=0).assign(input_PR_v=0)\n",
    "\n",
    "input_X.loc[input_X.context_index<=n_DX1_cat, 'input_DX1_w'] = input_X.loc[input_X.context_index<=n_DX1_cat, 'context_index']\n",
    "\n",
    "input_X.loc[(n_DX1_cat<input_X.context_index) & (input_X.context_index<=n_DX1_cat+n_DX_cat), \n",
    "            'input_DX_w'] = input_X.loc[(n_DX1_cat<input_X.context_index) & (input_X.context_index<=n_DX1_cat+n_DX_cat), \n",
    "                                        'context_index'] - n_DX1_cat\n",
    "\n",
    "input_X.loc[input_X.context_index>n_DX1_cat+n_DX_cat, \n",
    "            'input_PR_w'] = input_X.loc[input_X.context_index>n_DX1_cat+n_DX_cat, 'context_index'] - n_DX1_cat - n_DX_cat\n",
    "\n",
    "input_X.loc[input_X.focal_index<=n_DX1_cat, 'input_DX1_v'] = input_X.loc[input_X.focal_index<=n_DX1_cat, 'focal_index']\n",
    "\n",
    "input_X.loc[(n_DX1_cat<input_X.focal_index) & (input_X.focal_index<=n_DX1_cat+n_DX_cat), \n",
    "            'input_DX_v'] = input_X.loc[(n_DX1_cat<input_X.focal_index) & (input_X.focal_index<=n_DX1_cat+n_DX_cat), \n",
    "                                        'focal_index'] - n_DX1_cat\n",
    "\n",
    "input_X.loc[input_X.focal_index>n_DX1_cat+n_DX_cat, \n",
    "            'input_PR_v'] = input_X.loc[input_X.focal_index>n_DX1_cat+n_DX_cat, 'focal_index'] - n_DX1_cat - n_DX_cat"
   ]
  },
  {
   "cell_type": "code",
   "execution_count": 27,
   "metadata": {
    "collapsed": true
   },
   "outputs": [
    {
     "data": {
      "text/html": [
       "<div>\n",
       "<style scoped>\n",
       "    .dataframe tbody tr th:only-of-type {\n",
       "        vertical-align: middle;\n",
       "    }\n",
       "\n",
       "    .dataframe tbody tr th {\n",
       "        vertical-align: top;\n",
       "    }\n",
       "\n",
       "    .dataframe thead th {\n",
       "        text-align: right;\n",
       "    }\n",
       "</style>\n",
       "<table border=\"1\" class=\"dataframe\">\n",
       "  <thead>\n",
       "    <tr style=\"text-align: right;\">\n",
       "      <th></th>\n",
       "      <th>focal_index</th>\n",
       "      <th>context_index</th>\n",
       "      <th>cooccur_counts</th>\n",
       "      <th>input_DX1_w</th>\n",
       "      <th>input_DX_w</th>\n",
       "      <th>input_PR_w</th>\n",
       "      <th>input_DX1_v</th>\n",
       "      <th>input_DX_v</th>\n",
       "      <th>input_PR_v</th>\n",
       "    </tr>\n",
       "  </thead>\n",
       "  <tbody>\n",
       "    <tr>\n",
       "      <th>0</th>\n",
       "      <td>1294</td>\n",
       "      <td>1131</td>\n",
       "      <td>112.0</td>\n",
       "      <td>0</td>\n",
       "      <td>1111</td>\n",
       "      <td>0</td>\n",
       "      <td>0</td>\n",
       "      <td>1274</td>\n",
       "      <td>0</td>\n",
       "    </tr>\n",
       "    <tr>\n",
       "      <th>1</th>\n",
       "      <td>1760</td>\n",
       "      <td>65</td>\n",
       "      <td>1.0</td>\n",
       "      <td>0</td>\n",
       "      <td>45</td>\n",
       "      <td>0</td>\n",
       "      <td>0</td>\n",
       "      <td>1740</td>\n",
       "      <td>0</td>\n",
       "    </tr>\n",
       "    <tr>\n",
       "      <th>2</th>\n",
       "      <td>1082</td>\n",
       "      <td>437</td>\n",
       "      <td>12.0</td>\n",
       "      <td>0</td>\n",
       "      <td>417</td>\n",
       "      <td>0</td>\n",
       "      <td>0</td>\n",
       "      <td>1062</td>\n",
       "      <td>0</td>\n",
       "    </tr>\n",
       "    <tr>\n",
       "      <th>3</th>\n",
       "      <td>2440</td>\n",
       "      <td>1696</td>\n",
       "      <td>3.0</td>\n",
       "      <td>0</td>\n",
       "      <td>1676</td>\n",
       "      <td>0</td>\n",
       "      <td>0</td>\n",
       "      <td>0</td>\n",
       "      <td>97</td>\n",
       "    </tr>\n",
       "    <tr>\n",
       "      <th>4</th>\n",
       "      <td>1006</td>\n",
       "      <td>901</td>\n",
       "      <td>5172.0</td>\n",
       "      <td>0</td>\n",
       "      <td>881</td>\n",
       "      <td>0</td>\n",
       "      <td>0</td>\n",
       "      <td>986</td>\n",
       "      <td>0</td>\n",
       "    </tr>\n",
       "    <tr>\n",
       "      <th>5</th>\n",
       "      <td>1891</td>\n",
       "      <td>877</td>\n",
       "      <td>4.0</td>\n",
       "      <td>0</td>\n",
       "      <td>857</td>\n",
       "      <td>0</td>\n",
       "      <td>0</td>\n",
       "      <td>1871</td>\n",
       "      <td>0</td>\n",
       "    </tr>\n",
       "    <tr>\n",
       "      <th>6</th>\n",
       "      <td>2159</td>\n",
       "      <td>1600</td>\n",
       "      <td>1.0</td>\n",
       "      <td>0</td>\n",
       "      <td>1580</td>\n",
       "      <td>0</td>\n",
       "      <td>0</td>\n",
       "      <td>2139</td>\n",
       "      <td>0</td>\n",
       "    </tr>\n",
       "    <tr>\n",
       "      <th>7</th>\n",
       "      <td>2826</td>\n",
       "      <td>1235</td>\n",
       "      <td>1.0</td>\n",
       "      <td>0</td>\n",
       "      <td>1215</td>\n",
       "      <td>0</td>\n",
       "      <td>0</td>\n",
       "      <td>0</td>\n",
       "      <td>483</td>\n",
       "    </tr>\n",
       "    <tr>\n",
       "      <th>8</th>\n",
       "      <td>1294</td>\n",
       "      <td>710</td>\n",
       "      <td>2.0</td>\n",
       "      <td>0</td>\n",
       "      <td>690</td>\n",
       "      <td>0</td>\n",
       "      <td>0</td>\n",
       "      <td>1274</td>\n",
       "      <td>0</td>\n",
       "    </tr>\n",
       "    <tr>\n",
       "      <th>9</th>\n",
       "      <td>1757</td>\n",
       "      <td>876</td>\n",
       "      <td>11.0</td>\n",
       "      <td>0</td>\n",
       "      <td>856</td>\n",
       "      <td>0</td>\n",
       "      <td>0</td>\n",
       "      <td>1737</td>\n",
       "      <td>0</td>\n",
       "    </tr>\n",
       "    <tr>\n",
       "      <th>10</th>\n",
       "      <td>1688</td>\n",
       "      <td>781</td>\n",
       "      <td>7.0</td>\n",
       "      <td>0</td>\n",
       "      <td>761</td>\n",
       "      <td>0</td>\n",
       "      <td>0</td>\n",
       "      <td>1668</td>\n",
       "      <td>0</td>\n",
       "    </tr>\n",
       "    <tr>\n",
       "      <th>11</th>\n",
       "      <td>2745</td>\n",
       "      <td>993</td>\n",
       "      <td>17.0</td>\n",
       "      <td>0</td>\n",
       "      <td>973</td>\n",
       "      <td>0</td>\n",
       "      <td>0</td>\n",
       "      <td>0</td>\n",
       "      <td>402</td>\n",
       "    </tr>\n",
       "    <tr>\n",
       "      <th>12</th>\n",
       "      <td>1793</td>\n",
       "      <td>239</td>\n",
       "      <td>1.0</td>\n",
       "      <td>0</td>\n",
       "      <td>219</td>\n",
       "      <td>0</td>\n",
       "      <td>0</td>\n",
       "      <td>1773</td>\n",
       "      <td>0</td>\n",
       "    </tr>\n",
       "    <tr>\n",
       "      <th>13</th>\n",
       "      <td>1549</td>\n",
       "      <td>692</td>\n",
       "      <td>1.0</td>\n",
       "      <td>0</td>\n",
       "      <td>672</td>\n",
       "      <td>0</td>\n",
       "      <td>0</td>\n",
       "      <td>1529</td>\n",
       "      <td>0</td>\n",
       "    </tr>\n",
       "    <tr>\n",
       "      <th>14</th>\n",
       "      <td>2611</td>\n",
       "      <td>904</td>\n",
       "      <td>6.0</td>\n",
       "      <td>0</td>\n",
       "      <td>884</td>\n",
       "      <td>0</td>\n",
       "      <td>0</td>\n",
       "      <td>0</td>\n",
       "      <td>268</td>\n",
       "    </tr>\n",
       "    <tr>\n",
       "      <th>15</th>\n",
       "      <td>2067</td>\n",
       "      <td>1126</td>\n",
       "      <td>2.0</td>\n",
       "      <td>0</td>\n",
       "      <td>1106</td>\n",
       "      <td>0</td>\n",
       "      <td>0</td>\n",
       "      <td>2047</td>\n",
       "      <td>0</td>\n",
       "    </tr>\n",
       "    <tr>\n",
       "      <th>16</th>\n",
       "      <td>2534</td>\n",
       "      <td>1524</td>\n",
       "      <td>1.0</td>\n",
       "      <td>0</td>\n",
       "      <td>1504</td>\n",
       "      <td>0</td>\n",
       "      <td>0</td>\n",
       "      <td>0</td>\n",
       "      <td>191</td>\n",
       "    </tr>\n",
       "    <tr>\n",
       "      <th>17</th>\n",
       "      <td>2048</td>\n",
       "      <td>1262</td>\n",
       "      <td>2.0</td>\n",
       "      <td>0</td>\n",
       "      <td>1242</td>\n",
       "      <td>0</td>\n",
       "      <td>0</td>\n",
       "      <td>2028</td>\n",
       "      <td>0</td>\n",
       "    </tr>\n",
       "    <tr>\n",
       "      <th>18</th>\n",
       "      <td>1397</td>\n",
       "      <td>1218</td>\n",
       "      <td>1.0</td>\n",
       "      <td>0</td>\n",
       "      <td>1198</td>\n",
       "      <td>0</td>\n",
       "      <td>0</td>\n",
       "      <td>1377</td>\n",
       "      <td>0</td>\n",
       "    </tr>\n",
       "    <tr>\n",
       "      <th>19</th>\n",
       "      <td>2198</td>\n",
       "      <td>16</td>\n",
       "      <td>97.0</td>\n",
       "      <td>16</td>\n",
       "      <td>0</td>\n",
       "      <td>0</td>\n",
       "      <td>0</td>\n",
       "      <td>2178</td>\n",
       "      <td>0</td>\n",
       "    </tr>\n",
       "  </tbody>\n",
       "</table>\n",
       "</div>"
      ],
      "text/plain": [
       "    focal_index  context_index  cooccur_counts  input_DX1_w  input_DX_w  \\\n",
       "0          1294           1131           112.0            0        1111   \n",
       "1          1760             65             1.0            0          45   \n",
       "2          1082            437            12.0            0         417   \n",
       "3          2440           1696             3.0            0        1676   \n",
       "4          1006            901          5172.0            0         881   \n",
       "5          1891            877             4.0            0         857   \n",
       "6          2159           1600             1.0            0        1580   \n",
       "7          2826           1235             1.0            0        1215   \n",
       "8          1294            710             2.0            0         690   \n",
       "9          1757            876            11.0            0         856   \n",
       "10         1688            781             7.0            0         761   \n",
       "11         2745            993            17.0            0         973   \n",
       "12         1793            239             1.0            0         219   \n",
       "13         1549            692             1.0            0         672   \n",
       "14         2611            904             6.0            0         884   \n",
       "15         2067           1126             2.0            0        1106   \n",
       "16         2534           1524             1.0            0        1504   \n",
       "17         2048           1262             2.0            0        1242   \n",
       "18         1397           1218             1.0            0        1198   \n",
       "19         2198             16            97.0           16           0   \n",
       "\n",
       "    input_PR_w  input_DX1_v  input_DX_v  input_PR_v  \n",
       "0            0            0        1274           0  \n",
       "1            0            0        1740           0  \n",
       "2            0            0        1062           0  \n",
       "3            0            0           0          97  \n",
       "4            0            0         986           0  \n",
       "5            0            0        1871           0  \n",
       "6            0            0        2139           0  \n",
       "7            0            0           0         483  \n",
       "8            0            0        1274           0  \n",
       "9            0            0        1737           0  \n",
       "10           0            0        1668           0  \n",
       "11           0            0           0         402  \n",
       "12           0            0        1773           0  \n",
       "13           0            0        1529           0  \n",
       "14           0            0           0         268  \n",
       "15           0            0        2047           0  \n",
       "16           0            0           0         191  \n",
       "17           0            0        2028           0  \n",
       "18           0            0        1377           0  \n",
       "19           0            0        2178           0  "
      ]
     },
     "execution_count": 27,
     "metadata": {},
     "output_type": "execute_result"
    }
   ],
   "source": [
    "input_X.head(20)"
   ]
  },
  {
   "cell_type": "code",
   "execution_count": 37,
   "metadata": {},
   "outputs": [],
   "source": [
    "DX1_w_trn = input_X['input_DX1_w'].values\n",
    "DX1_v_trn = input_X['input_DX1_v'].values\n",
    "DX_w_trn = input_X['input_DX_w'].values\n",
    "DX_v_trn = input_X['input_DX_v'].values\n",
    "PR_w_trn = input_X['input_PR_w'].values\n",
    "PR_v_trn = input_X['input_PR_v'].values"
   ]
  },
  {
   "cell_type": "code",
   "execution_count": 39,
   "metadata": {},
   "outputs": [],
   "source": [
    "y = np.log(input_X.cooccur_counts.values)"
   ]
  },
  {
   "cell_type": "code",
   "execution_count": 40,
   "metadata": {},
   "outputs": [],
   "source": [
    "def weighting_factor(count, count_cap=5, scaling_factor=0.75):\n",
    "    if count>=count_cap:\n",
    "        return 1.\n",
    "    else:\n",
    "        return np.power(count/count_cap, scaling_factor)"
   ]
  },
  {
   "cell_type": "code",
   "execution_count": 41,
   "metadata": {},
   "outputs": [],
   "source": [
    "weights = input_X.cooccur_counts.apply(weighting_factor).values"
   ]
  },
  {
   "cell_type": "markdown",
   "metadata": {},
   "source": [
    "### Model building."
   ]
  },
  {
   "cell_type": "code",
   "execution_count": 42,
   "metadata": {},
   "outputs": [],
   "source": [
    "DX1_embed_dim = 10\n",
    "DX_embed_dim = 100\n",
    "PR_embed_dim = 50"
   ]
  },
  {
   "cell_type": "code",
   "execution_count": 43,
   "metadata": {},
   "outputs": [
    {
     "ename": "NameError",
     "evalue": "name 'Masking' is not defined",
     "output_type": "error",
     "traceback": [
      "\u001b[0;31m---------------------------------------------------------------------------\u001b[0m",
      "\u001b[0;31mNameError\u001b[0m                                 Traceback (most recent call last)",
      "\u001b[0;32m<ipython-input-43-1770e0768e4d>\u001b[0m in \u001b[0;36m<module>\u001b[0;34m()\u001b[0m\n\u001b[1;32m     28\u001b[0m \u001b[0mbias_PR_v\u001b[0m \u001b[0;34m=\u001b[0m \u001b[0mPR_bias_layer\u001b[0m\u001b[0;34m(\u001b[0m\u001b[0minput_PR_v\u001b[0m\u001b[0;34m)\u001b[0m\u001b[0;34m\u001b[0m\u001b[0m\n\u001b[1;32m     29\u001b[0m \u001b[0;34m\u001b[0m\u001b[0m\n\u001b[0;32m---> 30\u001b[0;31m \u001b[0mbias_DX1_w\u001b[0m \u001b[0;34m=\u001b[0m \u001b[0mMasking\u001b[0m\u001b[0;34m(\u001b[0m\u001b[0;34m)\u001b[0m\u001b[0;34m(\u001b[0m\u001b[0mbias_DX1_w\u001b[0m\u001b[0;34m)\u001b[0m\u001b[0;34m\u001b[0m\u001b[0m\n\u001b[0m\u001b[1;32m     31\u001b[0m \u001b[0mbias_DX1_v\u001b[0m \u001b[0;34m=\u001b[0m \u001b[0mMasking\u001b[0m\u001b[0;34m(\u001b[0m\u001b[0;34m)\u001b[0m\u001b[0;34m(\u001b[0m\u001b[0mbias_DX1_v\u001b[0m\u001b[0;34m)\u001b[0m\u001b[0;34m\u001b[0m\u001b[0m\n\u001b[1;32m     32\u001b[0m \u001b[0mbias_DX_w\u001b[0m \u001b[0;34m=\u001b[0m \u001b[0mMasking\u001b[0m\u001b[0;34m(\u001b[0m\u001b[0;34m)\u001b[0m\u001b[0;34m(\u001b[0m\u001b[0mbias_DX_w\u001b[0m\u001b[0;34m)\u001b[0m\u001b[0;34m\u001b[0m\u001b[0m\n",
      "\u001b[0;31mNameError\u001b[0m: name 'Masking' is not defined"
     ]
    }
   ],
   "source": [
    "input_DX1_w = Input(shape=(1,), name='input_focal_DX1')\n",
    "input_DX_w = Input(shape=(1,), name='input_focal_DX')\n",
    "input_PR_w = Input(shape=(1,), name='input_focal_PR')\n",
    "input_DX1_v = Input(shape=(1,), name='input_context_DX1')\n",
    "input_DX_v = Input(shape=(1,), name='input_context_DX')\n",
    "input_PR_v = Input(shape=(1,), name='input_context_PR')\n",
    "\n",
    "DX1_embed_layer = Embedding(input_dim=n_DX1_cat+1, output_dim=DX1_embed_dim, name='DX1_embed', mask_zero=True)\n",
    "DX_embed_layer = Embedding(input_dim=n_DX_cat+1, output_dim=DX_embed_dim, name='DX_embed', mask_zero=True)\n",
    "PR_embed_layer = Embedding(input_dim=n_PR_cat+1, output_dim=PR_embed_dim, name='PR_embed', mask_zero=True)\n",
    "\n",
    "DX1_bias_layer = Embedding(input_dim=n_DX1_cat+1, output_dim=1, name='DX1_bias', mask_zero=True)\n",
    "DX_bias_layer = Embedding(input_dim=n_DX_cat+1, output_dim=1, name='DX_bias', mask_zero=True)\n",
    "PR_bias_layer = Embedding(input_dim=n_PR_cat+1, output_dim=1, name='PR_bias', mask_zero=True)\n",
    "\n",
    "embed_DX1_w = DX1_embed_layer(input_DX1_w)\n",
    "embed_DX1_v = DX1_embed_layer(input_DX1_v)\n",
    "embed_DX_w = DX_embed_layer(input_DX_w)\n",
    "embed_DX_v = DX_embed_layer(input_DX_v)\n",
    "embed_PR_w = PR_embed_layer(input_PR_w)\n",
    "embed_PR_v = PR_embed_layer(input_PR_v)\n",
    "\n",
    "bias_DX1_w = DX1_bias_layer(input_DX1_w)\n",
    "bias_DX1_v = DX1_bias_layer(input_DX1_v)\n",
    "bias_DX_w = DX_bias_layer(input_DX_w)\n",
    "bias_DX_v = DX_bias_layer(input_DX_v)\n",
    "bias_PR_w = PR_bias_layer(input_PR_w)\n",
    "bias_PR_v = PR_bias_layer(input_PR_v)\n",
    "\n",
    "bias_DX1_w = Masking()(bias_DX1_w)\n",
    "bias_DX1_v = Masking()(bias_DX1_v)\n",
    "bias_DX_w = Masking()(bias_DX_w)\n",
    "bias_DX_v = Masking()(bias_DX_v)\n",
    "bias_PR_w = Masking()(bias_PR_w)\n",
    "bias_PR_v = Masking()(bias_PR_v)\n",
    "\n",
    "inner_DX1_DX = InnerProduct(matrix_shape=(DX1_embed_dim, DX_embed_dim), name='DX1dotDX')([embed_DX1_w, embed_DX_v])\n",
    "inner_DX1_PR = InnerProduct(matrix_shape=(DX1_embed_dim, PR_embed_dim), name='DX1dotPR')([embed_DX1_w, embed_PR_v])\n",
    "inner_DX_DX = InnerProduct(matrix_shape=(DX_embed_dim, DX_embed_dim), \n",
    "                           kernel_initializer=Constant(np.eye(DX_embed_dim)), name='DXdotDX')([embed_DX_w, embed_DX_v])\n",
    "inner_PR_PR = InnerProduct(matrix_shape=(PR_embed_dim, PR_embed_dim), \n",
    "                           kernel_initializer=Constant(np.eye(PR_embed_dim)), name='PRdotPR')([embed_PR_w, embed_PR_v])\n",
    "inner_DX_PR = InnerProduct(matrix_shape=(DX_embed_dim, PR_embed_dim), name='DXdotPR')([embed_DX_w, embed_PR_v])\n",
    "\n",
    "bias_concat = Concatenate(axis=-1)([bias_DX1_w, bias_DX1_v, bias_DX_w, bias_DX_v, bias_PR_w, bias_PR_v])\n",
    "bias_sum = Lambda(lambda x:K.sum(x, axis=-1, keepdims=False))(bias_concat)\n",
    "inner_bias_sum = Add()([inner_DX1_DX, inner_DX1_PR, inner_DX_DX, inner_DX_PR, inner_PR_PR, bias_sum])\n",
    "\n",
    "model = Model(inputs=[input_DX1_w, input_DX_w, input_PR_w, input_DX1_v, input_DX_v, input_PR_v], outputs=inner_bias_sum)"
   ]
  },
  {
   "cell_type": "code",
   "execution_count": 144,
   "metadata": {},
   "outputs": [],
   "source": [
    "for l in model.layers:\n",
    "    if (l.name=='DXdotDX') or (l.name=='PRdotPR'):\n",
    "        l.trainable = False"
   ]
  },
  {
   "cell_type": "code",
   "execution_count": 145,
   "metadata": {},
   "outputs": [],
   "source": [
    "model.compile(loss='mse', optimizer='adam')"
   ]
  },
  {
   "cell_type": "code",
   "execution_count": 146,
   "metadata": {},
   "outputs": [],
   "source": [
    "earlystop_patience = 20\n",
    "reducelr_patience = 10\n",
    "batch_size = 128\n",
    "epochs = 30"
   ]
  },
  {
   "cell_type": "code",
   "execution_count": 147,
   "metadata": {},
   "outputs": [],
   "source": [
    "checkpoint = ModelCheckpoint(filepath=model_path+'glove_multi_temp.h5', monitor='loss', save_best_only=True, \n",
    "                             save_weights_only=True)\n",
    "reduce_lr = ReduceLROnPlateau(monitor='loss', factor=0.2, patience=reducelr_patience, min_lr=K.epsilon())\n",
    "earlystop = EarlyStopping(monitor='loss', patience=earlystop_patience)"
   ]
  },
  {
   "cell_type": "code",
   "execution_count": 148,
   "metadata": {
    "collapsed": true
   },
   "outputs": [
    {
     "name": "stdout",
     "output_type": "stream",
     "text": [
      "Epoch 1/30\n",
      "874770/874770 [==============================] - 76s 87us/step - loss: 0.5092\n",
      "Epoch 2/30\n",
      "874770/874770 [==============================] - 75s 86us/step - loss: 0.1507\n",
      "Epoch 3/30\n",
      "874770/874770 [==============================] - 75s 86us/step - loss: 0.1222\n",
      "Epoch 4/30\n",
      "874770/874770 [==============================] - 75s 86us/step - loss: 0.1088\n",
      "Epoch 5/30\n",
      "762368/874770 [=========================>....] - ETA: 9s - loss: 0.1001"
     ]
    },
    {
     "ename": "KeyboardInterrupt",
     "evalue": "",
     "output_type": "error",
     "traceback": [
      "\u001b[0;31m---------------------------------------------------------------------------\u001b[0m",
      "\u001b[0;31mKeyboardInterrupt\u001b[0m                         Traceback (most recent call last)",
      "\u001b[0;32m<ipython-input-148-5f8444e913a6>\u001b[0m in \u001b[0;36m<module>\u001b[0;34m()\u001b[0m\n\u001b[1;32m      1\u001b[0m hist = model.fit([DX1_w_trn, DX_w_trn, PR_w_trn, DX1_v_trn, DX_v_trn, PR_v_trn], y, batch_size=batch_size, epochs=epochs,\n\u001b[0;32m----> 2\u001b[0;31m                          sample_weight=weights, callbacks=[checkpoint, reduce_lr, earlystop], verbose=1)\n\u001b[0m",
      "\u001b[0;32m/sw/lsa/centos7/python-anaconda-arc-connect/created-20170421/lib/python3.5/site-packages/keras/engine/training.py\u001b[0m in \u001b[0;36mfit\u001b[0;34m(self, x, y, batch_size, epochs, verbose, callbacks, validation_split, validation_data, shuffle, class_weight, sample_weight, initial_epoch, steps_per_epoch, validation_steps, **kwargs)\u001b[0m\n\u001b[1;32m   1035\u001b[0m                                         \u001b[0minitial_epoch\u001b[0m\u001b[0;34m=\u001b[0m\u001b[0minitial_epoch\u001b[0m\u001b[0;34m,\u001b[0m\u001b[0;34m\u001b[0m\u001b[0m\n\u001b[1;32m   1036\u001b[0m                                         \u001b[0msteps_per_epoch\u001b[0m\u001b[0;34m=\u001b[0m\u001b[0msteps_per_epoch\u001b[0m\u001b[0;34m,\u001b[0m\u001b[0;34m\u001b[0m\u001b[0m\n\u001b[0;32m-> 1037\u001b[0;31m                                         validation_steps=validation_steps)\n\u001b[0m\u001b[1;32m   1038\u001b[0m \u001b[0;34m\u001b[0m\u001b[0m\n\u001b[1;32m   1039\u001b[0m     def evaluate(self, x=None, y=None,\n",
      "\u001b[0;32m/sw/lsa/centos7/python-anaconda-arc-connect/created-20170421/lib/python3.5/site-packages/keras/engine/training_arrays.py\u001b[0m in \u001b[0;36mfit_loop\u001b[0;34m(model, f, ins, out_labels, batch_size, epochs, verbose, callbacks, val_f, val_ins, shuffle, callback_metrics, initial_epoch, steps_per_epoch, validation_steps)\u001b[0m\n\u001b[1;32m    197\u001b[0m                     \u001b[0mins_batch\u001b[0m\u001b[0;34m[\u001b[0m\u001b[0mi\u001b[0m\u001b[0;34m]\u001b[0m \u001b[0;34m=\u001b[0m \u001b[0mins_batch\u001b[0m\u001b[0;34m[\u001b[0m\u001b[0mi\u001b[0m\u001b[0;34m]\u001b[0m\u001b[0;34m.\u001b[0m\u001b[0mtoarray\u001b[0m\u001b[0;34m(\u001b[0m\u001b[0;34m)\u001b[0m\u001b[0;34m\u001b[0m\u001b[0m\n\u001b[1;32m    198\u001b[0m \u001b[0;34m\u001b[0m\u001b[0m\n\u001b[0;32m--> 199\u001b[0;31m                 \u001b[0mouts\u001b[0m \u001b[0;34m=\u001b[0m \u001b[0mf\u001b[0m\u001b[0;34m(\u001b[0m\u001b[0mins_batch\u001b[0m\u001b[0;34m)\u001b[0m\u001b[0;34m\u001b[0m\u001b[0m\n\u001b[0m\u001b[1;32m    200\u001b[0m                 \u001b[0mouts\u001b[0m \u001b[0;34m=\u001b[0m \u001b[0mto_list\u001b[0m\u001b[0;34m(\u001b[0m\u001b[0mouts\u001b[0m\u001b[0;34m)\u001b[0m\u001b[0;34m\u001b[0m\u001b[0m\n\u001b[1;32m    201\u001b[0m                 \u001b[0;32mfor\u001b[0m \u001b[0ml\u001b[0m\u001b[0;34m,\u001b[0m \u001b[0mo\u001b[0m \u001b[0;32min\u001b[0m \u001b[0mzip\u001b[0m\u001b[0;34m(\u001b[0m\u001b[0mout_labels\u001b[0m\u001b[0;34m,\u001b[0m \u001b[0mouts\u001b[0m\u001b[0;34m)\u001b[0m\u001b[0;34m:\u001b[0m\u001b[0;34m\u001b[0m\u001b[0m\n",
      "\u001b[0;32m/sw/lsa/centos7/python-anaconda-arc-connect/created-20170421/lib/python3.5/site-packages/keras/backend/tensorflow_backend.py\u001b[0m in \u001b[0;36m__call__\u001b[0;34m(self, inputs)\u001b[0m\n\u001b[1;32m   2664\u001b[0m                 \u001b[0;32mreturn\u001b[0m \u001b[0mself\u001b[0m\u001b[0;34m.\u001b[0m\u001b[0m_legacy_call\u001b[0m\u001b[0;34m(\u001b[0m\u001b[0minputs\u001b[0m\u001b[0;34m)\u001b[0m\u001b[0;34m\u001b[0m\u001b[0m\n\u001b[1;32m   2665\u001b[0m \u001b[0;34m\u001b[0m\u001b[0m\n\u001b[0;32m-> 2666\u001b[0;31m             \u001b[0;32mreturn\u001b[0m \u001b[0mself\u001b[0m\u001b[0;34m.\u001b[0m\u001b[0m_call\u001b[0m\u001b[0;34m(\u001b[0m\u001b[0minputs\u001b[0m\u001b[0;34m)\u001b[0m\u001b[0;34m\u001b[0m\u001b[0m\n\u001b[0m\u001b[1;32m   2667\u001b[0m         \u001b[0;32melse\u001b[0m\u001b[0;34m:\u001b[0m\u001b[0;34m\u001b[0m\u001b[0m\n\u001b[1;32m   2668\u001b[0m             \u001b[0;32mif\u001b[0m \u001b[0mpy_any\u001b[0m\u001b[0;34m(\u001b[0m\u001b[0mis_tensor\u001b[0m\u001b[0;34m(\u001b[0m\u001b[0mx\u001b[0m\u001b[0;34m)\u001b[0m \u001b[0;32mfor\u001b[0m \u001b[0mx\u001b[0m \u001b[0;32min\u001b[0m \u001b[0minputs\u001b[0m\u001b[0;34m)\u001b[0m\u001b[0;34m:\u001b[0m\u001b[0;34m\u001b[0m\u001b[0m\n",
      "\u001b[0;32m/sw/lsa/centos7/python-anaconda-arc-connect/created-20170421/lib/python3.5/site-packages/keras/backend/tensorflow_backend.py\u001b[0m in \u001b[0;36m_call\u001b[0;34m(self, inputs)\u001b[0m\n\u001b[1;32m   2634\u001b[0m                                 \u001b[0msymbol_vals\u001b[0m\u001b[0;34m,\u001b[0m\u001b[0;34m\u001b[0m\u001b[0m\n\u001b[1;32m   2635\u001b[0m                                 session)\n\u001b[0;32m-> 2636\u001b[0;31m         \u001b[0mfetched\u001b[0m \u001b[0;34m=\u001b[0m \u001b[0mself\u001b[0m\u001b[0;34m.\u001b[0m\u001b[0m_callable_fn\u001b[0m\u001b[0;34m(\u001b[0m\u001b[0;34m*\u001b[0m\u001b[0marray_vals\u001b[0m\u001b[0;34m)\u001b[0m\u001b[0;34m\u001b[0m\u001b[0m\n\u001b[0m\u001b[1;32m   2637\u001b[0m         \u001b[0;32mreturn\u001b[0m \u001b[0mfetched\u001b[0m\u001b[0;34m[\u001b[0m\u001b[0;34m:\u001b[0m\u001b[0mlen\u001b[0m\u001b[0;34m(\u001b[0m\u001b[0mself\u001b[0m\u001b[0;34m.\u001b[0m\u001b[0moutputs\u001b[0m\u001b[0;34m)\u001b[0m\u001b[0;34m]\u001b[0m\u001b[0;34m\u001b[0m\u001b[0m\n\u001b[1;32m   2638\u001b[0m \u001b[0;34m\u001b[0m\u001b[0m\n",
      "\u001b[0;32m~/.local/lib/python3.5/site-packages/tensorflow/python/client/session.py\u001b[0m in \u001b[0;36m__call__\u001b[0;34m(self, *args, **kwargs)\u001b[0m\n\u001b[1;32m   1437\u001b[0m           ret = tf_session.TF_SessionRunCallable(\n\u001b[1;32m   1438\u001b[0m               \u001b[0mself\u001b[0m\u001b[0;34m.\u001b[0m\u001b[0m_session\u001b[0m\u001b[0;34m.\u001b[0m\u001b[0m_session\u001b[0m\u001b[0;34m,\u001b[0m \u001b[0mself\u001b[0m\u001b[0;34m.\u001b[0m\u001b[0m_handle\u001b[0m\u001b[0;34m,\u001b[0m \u001b[0margs\u001b[0m\u001b[0;34m,\u001b[0m \u001b[0mstatus\u001b[0m\u001b[0;34m,\u001b[0m\u001b[0;34m\u001b[0m\u001b[0m\n\u001b[0;32m-> 1439\u001b[0;31m               run_metadata_ptr)\n\u001b[0m\u001b[1;32m   1440\u001b[0m         \u001b[0;32mif\u001b[0m \u001b[0mrun_metadata\u001b[0m\u001b[0;34m:\u001b[0m\u001b[0;34m\u001b[0m\u001b[0m\n\u001b[1;32m   1441\u001b[0m           \u001b[0mproto_data\u001b[0m \u001b[0;34m=\u001b[0m \u001b[0mtf_session\u001b[0m\u001b[0;34m.\u001b[0m\u001b[0mTF_GetBuffer\u001b[0m\u001b[0;34m(\u001b[0m\u001b[0mrun_metadata_ptr\u001b[0m\u001b[0;34m)\u001b[0m\u001b[0;34m\u001b[0m\u001b[0m\n",
      "\u001b[0;31mKeyboardInterrupt\u001b[0m: "
     ]
    }
   ],
   "source": [
    "hist = model.fit([DX1_w_trn, DX_w_trn, PR_w_trn, DX1_v_trn, DX_v_trn, PR_v_trn], y, batch_size=batch_size, epochs=epochs,\n",
    "                         sample_weight=weights, callbacks=[checkpoint, reduce_lr, earlystop], verbose=1)"
   ]
  },
  {
   "cell_type": "code",
   "execution_count": 137,
   "metadata": {},
   "outputs": [
    {
     "data": {
      "text/plain": [
       "[<matplotlib.lines.Line2D at 0x2afcdb4fbf98>]"
      ]
     },
     "execution_count": 137,
     "metadata": {},
     "output_type": "execute_result"
    },
    {
     "data": {
      "image/png": "[encoded data removed]",
      "text/plain": [
       "<Figure size 432x288 with 1 Axes>"
      ]
     },
     "metadata": {},
     "output_type": "display_data"
    }
   ],
   "source": [
    "plt.plot(hist.history['lr'])"
   ]
  },
  {
   "cell_type": "code",
   "execution_count": 30,
   "metadata": {},
   "outputs": [],
   "source": [
    "from keras.engine.topology import InputSpec, Layer"
   ]
  },
  {
   "cell_type": "code",
   "execution_count": 31,
   "metadata": {},
   "outputs": [],
   "source": [
    "class InnerProduct(Layer):\n",
    "    \"\"\"The layer to perform a inner-product of two vectors through a matrix.   \n",
    "\n",
    "    # Arguments\n",
    "        matrix_shape: (dim1, dim2), shape of the matrix between the two vectors. \n",
    "        kernel_initializer: Initializer for the `kernel` weights matrix\n",
    "    # Input shape\n",
    "        [(batch, dim1), (batch, dim2)]\n",
    "    # Output shape\n",
    "        (batch, 1). This Dense layer works on the feature axis, and output units dimension.  \n",
    "    \"\"\"\n",
    "    def __init__(self, matrix_shape=None,\n",
    "                 kernel_initializer='glorot_uniform',\n",
    "                 **kwargs):\n",
    "        if 'input_shape' not in kwargs and 'input_dim' in kwargs:\n",
    "            kwargs['input_shape'] = (kwargs.pop('input_dim'),)\n",
    "        super(InnerProduct, self).__init__(**kwargs)\n",
    "        self.matrix_shape = matrix_shape\n",
    "        self.kernel_initializer = kernel_initializer\n",
    "        self.supports_masking = True\n",
    "\n",
    "    def build(self, input_shape):\n",
    "        input_shape1, input_shape2 = input_shape\n",
    "        if self.matrix_shape is None:\n",
    "            self.matrix_shape = (input_shape1[-1], input_shape2[-1])\n",
    "        elif not self.matrix_shape == (input_shape1[-1], input_shape2[-1]):\n",
    "            raise ValueError('Initializer shape conflicts with inpute shape!')\n",
    "\n",
    "        self.kernel = self.add_weight(shape=self.matrix_shape,\n",
    "                                      initializer=self.kernel_initializer,\n",
    "                                      name='kernel')\n",
    "        self.built = True\n",
    "\n",
    "    def call(self, inputs, mask=None):\n",
    "        if not mask is None:\n",
    "            mask1, mask2 = mask\n",
    "        input1, input2 = inputs\n",
    "        output = K.dot(input1, self.kernel)*input2\n",
    "        output = K.sum(output, axis=-1)\n",
    "        #mask1 = K.expand_dims(mask1)\n",
    "        #mask2 = K.expand_dims(mask2)\n",
    "        #print(output.shape, mask1.shape, mask2.shape)\n",
    "        output = output*K.cast(mask1, 'float32')*K.cast(mask2, 'float32')\n",
    "        return output\n",
    "\n",
    "    def compute_output_shape(self, input_shape):\n",
    "        assert input_shape and len(input_shape) == 2\n",
    "        input_shape1, input_shape2 = input_shape\n",
    "        assert input_shape1[0] == input_shape2[0]\n",
    "        return (input_shape1[0], 1)\n",
    "    \n",
    "    def compute_mask(self, inputs, input_mask=None):\n",
    "        return None\n",
    "\n",
    "    def get_config(self):\n",
    "        config = {\n",
    "            'matrix_shape': self.matrix_shape,\n",
    "            'kernel_initializer': initializers.serialize(self.kernel_initializer)\n",
    "        }\n",
    "        base_config = super(Dense, self).get_config()\n",
    "        return dict(list(base_config.items()) + list(config.items()))\n"
   ]
  },
  {
   "cell_type": "code",
   "execution_count": 78,
   "metadata": {},
   "outputs": [],
   "source": [
    "class Masking(Layer):\n",
    "    \"\"\"The layer to multipy the input with its mask.   \n",
    "\n",
    "    # Arguments\n",
    "        matrix_shape: (dim1, dim2), shape of the matrix between the two vectors. \n",
    "        kernel_initializer: Initializer for the `kernel` weights matrix\n",
    "    # Input shape\n",
    "        [(batch, dim1), (batch, dim2)]\n",
    "    # Output shape\n",
    "        (batch, 1). This Dense layer works on the feature axis, and output units dimension.  \n",
    "    \"\"\"\n",
    "    def __init__(self, **kwargs):\n",
    "        if 'input_shape' not in kwargs and 'input_dim' in kwargs:\n",
    "            kwargs['input_shape'] = (kwargs.pop('input_dim'),)\n",
    "        super(Masking, self).__init__(**kwargs)\n",
    "        self.supports_masking = True\n",
    "\n",
    "    def build(self, input_shape):\n",
    "        self.built = True\n",
    "\n",
    "    def call(self, inputs, mask=None):\n",
    "        if mask is None:\n",
    "            return inputs\n",
    "        if K.ndim(mask)<K.ndim(inputs):\n",
    "            mask_expand = K.expand_dims(mask)\n",
    "        else:\n",
    "            mask_expand = mask\n",
    "        if not inputs.shape[1:]==mask_expand.shape[1:]:\n",
    "            raise ValueError(\"The shapes of inputs and mask don't match!\")\n",
    "        output = inputs*K.cast(mask_expand, 'float32')\n",
    "        return output\n",
    "\n",
    "    def compute_output_shape(self, input_shape):\n",
    "        return input_shape\n",
    "    \n",
    "    def compute_mask(self, inputs, input_mask=None):\n",
    "        return None"
   ]
  },
  {
   "cell_type": "markdown",
   "metadata": {},
   "source": [
    "### Parent regularization"
   ]
  },
  {
   "cell_type": "code",
   "execution_count": 96,
   "metadata": {},
   "outputs": [],
   "source": [
    "dx1_ccs_dict = preprocessed['dx1_ccs_dict']\n",
    "dx_ccs_dict = preprocessed['dx_ccs_dict']\n",
    "pr_ccs_dict = preprocessed['pr_ccs_dict']"
   ]
  },
  {
   "cell_type": "code",
   "execution_count": 97,
   "metadata": {},
   "outputs": [],
   "source": [
    "parent_pairs = preprocessed['parent_pairs']"
   ]
  },
  {
   "cell_type": "code",
   "execution_count": 98,
   "metadata": {},
   "outputs": [
    {
     "data": {
      "text/plain": [
       "[(3710, 3707),\n",
       " (3711, 3707),\n",
       " (3712, 3671),\n",
       " (3713, 3671),\n",
       " (3714, 3671),\n",
       " (3715, 3671),\n",
       " (3716, 3671),\n",
       " (3717, 3716),\n",
       " (3718, 3716),\n",
       " (3719, 3671)]"
      ]
     },
     "execution_count": 98,
     "metadata": {},
     "output_type": "execute_result"
    }
   ],
   "source": [
    "parent_pairs[-10:]"
   ]
  },
  {
   "cell_type": "code",
   "execution_count": 105,
   "metadata": {},
   "outputs": [],
   "source": [
    "dx_ccs_indices = np.array(sorted(dx_ccs_dict.values()))"
   ]
  },
  {
   "cell_type": "code",
   "execution_count": 99,
   "metadata": {},
   "outputs": [
    {
     "data": {
      "text/plain": [
       "3687"
      ]
     },
     "execution_count": 99,
     "metadata": {},
     "output_type": "execute_result"
    }
   ],
   "source": [
    "len(parent_pairs)"
   ]
  },
  {
   "cell_type": "code",
   "execution_count": 31,
   "metadata": {},
   "outputs": [
    {
     "data": {
      "text/plain": [
       "{'7': 2904, '7.2': 2905, '7.2.3': 2906}"
      ]
     },
     "execution_count": 31,
     "metadata": {},
     "output_type": "execute_result"
    }
   ],
   "source": [
    "dx1_ccs_dict"
   ]
  },
  {
   "cell_type": "code",
   "execution_count": 36,
   "metadata": {},
   "outputs": [
    {
     "data": {
      "text/html": [
       "<div>\n",
       "<style scoped>\n",
       "    .dataframe tbody tr th:only-of-type {\n",
       "        vertical-align: middle;\n",
       "    }\n",
       "\n",
       "    .dataframe tbody tr th {\n",
       "        vertical-align: top;\n",
       "    }\n",
       "\n",
       "    .dataframe thead th {\n",
       "        text-align: right;\n",
       "    }\n",
       "</style>\n",
       "<table border=\"1\" class=\"dataframe\">\n",
       "  <thead>\n",
       "    <tr style=\"text-align: right;\">\n",
       "      <th></th>\n",
       "      <th>focal_index</th>\n",
       "      <th>context_index</th>\n",
       "      <th>cooccur_counts</th>\n",
       "      <th>input_DX1_w</th>\n",
       "      <th>input_DX_w</th>\n",
       "      <th>input_PR_w</th>\n",
       "      <th>input_DX1_v</th>\n",
       "      <th>input_DX_v</th>\n",
       "      <th>input_PR_v</th>\n",
       "    </tr>\n",
       "  </thead>\n",
       "  <tbody>\n",
       "    <tr>\n",
       "      <th>0</th>\n",
       "      <td>1294</td>\n",
       "      <td>1131</td>\n",
       "      <td>112.0</td>\n",
       "      <td>0</td>\n",
       "      <td>1111</td>\n",
       "      <td>0</td>\n",
       "      <td>0</td>\n",
       "      <td>1274</td>\n",
       "      <td>0</td>\n",
       "    </tr>\n",
       "    <tr>\n",
       "      <th>1</th>\n",
       "      <td>1760</td>\n",
       "      <td>65</td>\n",
       "      <td>1.0</td>\n",
       "      <td>0</td>\n",
       "      <td>45</td>\n",
       "      <td>0</td>\n",
       "      <td>0</td>\n",
       "      <td>1740</td>\n",
       "      <td>0</td>\n",
       "    </tr>\n",
       "    <tr>\n",
       "      <th>2</th>\n",
       "      <td>1082</td>\n",
       "      <td>437</td>\n",
       "      <td>12.0</td>\n",
       "      <td>0</td>\n",
       "      <td>417</td>\n",
       "      <td>0</td>\n",
       "      <td>0</td>\n",
       "      <td>1062</td>\n",
       "      <td>0</td>\n",
       "    </tr>\n",
       "    <tr>\n",
       "      <th>3</th>\n",
       "      <td>2440</td>\n",
       "      <td>1696</td>\n",
       "      <td>3.0</td>\n",
       "      <td>0</td>\n",
       "      <td>1676</td>\n",
       "      <td>0</td>\n",
       "      <td>0</td>\n",
       "      <td>0</td>\n",
       "      <td>97</td>\n",
       "    </tr>\n",
       "    <tr>\n",
       "      <th>4</th>\n",
       "      <td>1006</td>\n",
       "      <td>901</td>\n",
       "      <td>5172.0</td>\n",
       "      <td>0</td>\n",
       "      <td>881</td>\n",
       "      <td>0</td>\n",
       "      <td>0</td>\n",
       "      <td>986</td>\n",
       "      <td>0</td>\n",
       "    </tr>\n",
       "  </tbody>\n",
       "</table>\n",
       "</div>"
      ],
      "text/plain": [
       "   focal_index  context_index  cooccur_counts  input_DX1_w  input_DX_w  \\\n",
       "0         1294           1131           112.0            0        1111   \n",
       "1         1760             65             1.0            0          45   \n",
       "2         1082            437            12.0            0         417   \n",
       "3         2440           1696             3.0            0        1676   \n",
       "4         1006            901          5172.0            0         881   \n",
       "\n",
       "   input_PR_w  input_DX1_v  input_DX_v  input_PR_v  \n",
       "0           0            0        1274           0  \n",
       "1           0            0        1740           0  \n",
       "2           0            0        1062           0  \n",
       "3           0            0           0          97  \n",
       "4           0            0         986           0  "
      ]
     },
     "execution_count": 36,
     "metadata": {},
     "output_type": "execute_result"
    }
   ],
   "source": [
    "input_X.head()"
   ]
  },
  {
   "cell_type": "markdown",
   "metadata": {},
   "source": [
    "## Class Testing"
   ]
  },
  {
   "cell_type": "code",
   "execution_count": 55,
   "metadata": {},
   "outputs": [
    {
     "data": {
      "text/plain": [
       "<module 'glove' from '/home/wsliu/Codes/DLproj/NRD/glove.py'>"
      ]
     },
     "execution_count": 55,
     "metadata": {},
     "output_type": "execute_result"
    }
   ],
   "source": [
    "import glove\n",
    "reload(glove)"
   ]
  },
  {
   "cell_type": "code",
   "execution_count": 44,
   "metadata": {},
   "outputs": [],
   "source": [
    "from glove import GloveMS"
   ]
  },
  {
   "cell_type": "code",
   "execution_count": 45,
   "metadata": {},
   "outputs": [],
   "source": [
    "glovems = GloveMS(n_DX1_cat=n_DX1_cat, n_DX_cat=n_DX_cat, n_PR_cat=n_PR_cat, DX1_dim=10, DX_dim=100, PR_dim=50, count_cap = 5, \n",
    "                 scaling_factor=0.75)"
   ]
  },
  {
   "cell_type": "code",
   "execution_count": 25,
   "metadata": {},
   "outputs": [
    {
     "name": "stdout",
     "output_type": "stream",
     "text": [
      "Updating co-occurrence matrix from a Dataframe with 167841 rows...\n",
      "Finished. It takes 27.6 seconds to update the cooccurrences.\n"
     ]
    }
   ],
   "source": [
    "glovems.update_cooccur(train_df0[['DX1']+DXs+PRs])"
   ]
  },
  {
   "cell_type": "code",
   "execution_count": 26,
   "metadata": {},
   "outputs": [],
   "source": [
    "cooccur_df = glovems.get_cooccur_df()"
   ]
  },
  {
   "cell_type": "code",
   "execution_count": 46,
   "metadata": {
    "scrolled": true
   },
   "outputs": [
    {
     "name": "stdout",
     "output_type": "stream",
     "text": [
      "Preparing data...\n",
      "Defining the GloVe model...\n",
      "Training the GloVe model...\n",
      "Epoch 1/50\n",
      "874770/874770 [==============================] - 12s 14us/step - loss: 0.8262\n",
      "Epoch 2/50\n",
      "874770/874770 [==============================] - 11s 13us/step - loss: 0.2054\n",
      "Epoch 3/50\n",
      "874770/874770 [==============================] - 11s 13us/step - loss: 0.1552\n",
      "Epoch 4/50\n",
      "874770/874770 [==============================] - 11s 13us/step - loss: 0.1334\n",
      "Epoch 5/50\n",
      "874770/874770 [==============================] - 11s 13us/step - loss: 0.1196\n",
      "Epoch 6/50\n",
      "874770/874770 [==============================] - 11s 13us/step - loss: 0.1096\n",
      "Epoch 7/50\n",
      "874770/874770 [==============================] - 11s 13us/step - loss: 0.1022\n",
      "Epoch 8/50\n",
      "874770/874770 [==============================] - 11s 13us/step - loss: 0.0964\n",
      "Epoch 9/50\n",
      "874770/874770 [==============================] - 11s 13us/step - loss: 0.0916\n",
      "Epoch 10/50\n",
      "874770/874770 [==============================] - 11s 13us/step - loss: 0.0878\n",
      "Epoch 11/50\n",
      "874770/874770 [==============================] - 11s 13us/step - loss: 0.0847\n",
      "Epoch 12/50\n",
      "874770/874770 [==============================] - 11s 13us/step - loss: 0.0821\n",
      "Epoch 13/50\n",
      "874770/874770 [==============================] - 11s 13us/step - loss: 0.0801\n",
      "Epoch 14/50\n",
      "874770/874770 [==============================] - 11s 13us/step - loss: 0.0785\n",
      "Epoch 15/50\n",
      "874770/874770 [==============================] - 11s 13us/step - loss: 0.0772\n",
      "Epoch 16/50\n",
      "874770/874770 [==============================] - 11s 13us/step - loss: 0.0761\n",
      "Epoch 17/50\n",
      "874770/874770 [==============================] - 11s 13us/step - loss: 0.0753\n",
      "Epoch 18/50\n",
      "874770/874770 [==============================] - 11s 13us/step - loss: 0.0746\n",
      "Epoch 19/50\n",
      "874770/874770 [==============================] - 11s 13us/step - loss: 0.0739\n",
      "Epoch 20/50\n",
      "874770/874770 [==============================] - 11s 13us/step - loss: 0.0733\n",
      "Epoch 21/50\n",
      "874770/874770 [==============================] - 11s 13us/step - loss: 0.0729\n",
      "Epoch 22/50\n",
      "874770/874770 [==============================] - 11s 13us/step - loss: 0.0725\n",
      "Epoch 23/50\n",
      "874770/874770 [==============================] - 11s 13us/step - loss: 0.0721\n",
      "Epoch 24/50\n",
      "874770/874770 [==============================] - 11s 13us/step - loss: 0.0718\n",
      "Epoch 25/50\n",
      "874770/874770 [==============================] - 11s 13us/step - loss: 0.0715\n",
      "Epoch 26/50\n",
      "874770/874770 [==============================] - 11s 13us/step - loss: 0.0712\n",
      "Epoch 27/50\n",
      "874770/874770 [==============================] - 11s 13us/step - loss: 0.0709\n",
      "Epoch 28/50\n",
      "874770/874770 [==============================] - 11s 13us/step - loss: 0.0707\n",
      "Epoch 29/50\n",
      "874770/874770 [==============================] - 11s 13us/step - loss: 0.0705\n",
      "Epoch 30/50\n",
      "874770/874770 [==============================] - 11s 13us/step - loss: 0.0703\n",
      "Epoch 31/50\n",
      "874770/874770 [==============================] - 11s 13us/step - loss: 0.0701\n",
      "Epoch 32/50\n",
      "874770/874770 [==============================] - 11s 13us/step - loss: 0.0700\n",
      "Epoch 33/50\n",
      "874770/874770 [==============================] - 11s 13us/step - loss: 0.0698\n",
      "Epoch 34/50\n",
      "874770/874770 [==============================] - 11s 13us/step - loss: 0.0696\n",
      "Epoch 35/50\n",
      "874770/874770 [==============================] - 11s 13us/step - loss: 0.0695\n",
      "Epoch 36/50\n",
      "874770/874770 [==============================] - 11s 13us/step - loss: 0.0694\n",
      "Epoch 37/50\n",
      "874770/874770 [==============================] - 11s 13us/step - loss: 0.0693\n",
      "Epoch 38/50\n",
      "874770/874770 [==============================] - 11s 13us/step - loss: 0.0692\n",
      "Epoch 39/50\n",
      "874770/874770 [==============================] - 11s 13us/step - loss: 0.0691\n",
      "Epoch 40/50\n",
      "874770/874770 [==============================] - 11s 13us/step - loss: 0.0689\n",
      "Epoch 41/50\n",
      "874770/874770 [==============================] - 11s 13us/step - loss: 0.0688\n",
      "Epoch 42/50\n",
      "874770/874770 [==============================] - 11s 13us/step - loss: 0.0688\n",
      "Epoch 43/50\n",
      "874770/874770 [==============================] - 11s 13us/step - loss: 0.0686\n",
      "Epoch 44/50\n",
      "874770/874770 [==============================] - 11s 13us/step - loss: 0.0686\n",
      "Epoch 45/50\n",
      "874770/874770 [==============================] - 11s 13us/step - loss: 0.0685\n",
      "Epoch 46/50\n",
      "874770/874770 [==============================] - 11s 13us/step - loss: 0.0684\n",
      "Epoch 47/50\n",
      "874770/874770 [==============================] - 11s 13us/step - loss: 0.0684\n",
      "Epoch 48/50\n",
      "874770/874770 [==============================] - 11s 13us/step - loss: 0.0682\n",
      "Epoch 49/50\n",
      "874770/874770 [==============================] - 11s 13us/step - loss: 0.0682\n",
      "Epoch 50/50\n",
      "874770/874770 [==============================] - 11s 13us/step - loss: 0.0681\n",
      "Finished. The pretrained embedding matrix can be retrieved by .get_embed_mat().\n"
     ]
    }
   ],
   "source": [
    "glovems.train_glove(cooccur_df=cooccur_df, cache_path=model_path, verbose=1)"
   ]
  },
  {
   "cell_type": "code",
   "execution_count": 47,
   "metadata": {},
   "outputs": [],
   "source": [
    "embeds = glovems.get_embed_mat()"
   ]
  },
  {
   "cell_type": "code",
   "execution_count": 38,
   "metadata": {},
   "outputs": [
    {
     "data": {
      "text/plain": [
       "dict_keys(['DX_bias', 'DX1_embed', 'DX1_bias', 'DX_embed', 'PR_embed', 'PR_bias'])"
      ]
     },
     "execution_count": 38,
     "metadata": {},
     "output_type": "execute_result"
    }
   ],
   "source": [
    "embeds.keys()"
   ]
  },
  {
   "cell_type": "code",
   "execution_count": 42,
   "metadata": {},
   "outputs": [],
   "source": [
    "matrices = glovems.get_matrices()"
   ]
  },
  {
   "cell_type": "code",
   "execution_count": 44,
   "metadata": {},
   "outputs": [
    {
     "data": {
      "text/plain": [
       "(100, 50)"
      ]
     },
     "execution_count": 44,
     "metadata": {},
     "output_type": "execute_result"
    }
   ],
   "source": [
    "matrices['DXdotPR'].shape"
   ]
  },
  {
   "cell_type": "markdown",
   "metadata": {},
   "source": [
    "### Co-Occurences from Whole Database"
   ]
  },
  {
   "cell_type": "code",
   "execution_count": 14,
   "metadata": {},
   "outputs": [],
   "source": [
    "from ccs_tools import core_cols, core_dtypes_pd, na_values\n",
    "from utils import get_frequency, preprocess"
   ]
  },
  {
   "cell_type": "code",
   "execution_count": 11,
   "metadata": {},
   "outputs": [],
   "source": [
    "dxpr_df = pd.read_csv(path+'raw/2014/NRD_2014_Core.CSV', sep=',', \n",
    "                           header = None, \n",
    "                           names=core_cols, \n",
    "                           dtype=core_dtypes_pd, \n",
    "                           na_values=na_values, \n",
    "                           chunksize=500000)"
   ]
  },
  {
   "cell_type": "code",
   "execution_count": 28,
   "metadata": {},
   "outputs": [],
   "source": [
    "DX1_freq = pd.read_csv(path+'all/DX1_freq.csv')\n",
    "DX_freq = pd.read_csv(path+'all/DX_freq.csv')\n",
    "PR_freq = pd.read_csv(path+'all/PR_freq.csv')"
   ]
  },
  {
   "cell_type": "code",
   "execution_count": 33,
   "metadata": {},
   "outputs": [
    {
     "data": {
      "text/plain": [
       "0.3434846072186836"
      ]
     },
     "execution_count": 33,
     "metadata": {},
     "output_type": "execute_result"
    }
   ],
   "source": [
    "sum(DX1_freq.frequency == 0)/len(DX1_freq)"
   ]
  },
  {
   "cell_type": "code",
   "execution_count": null,
   "metadata": {},
   "outputs": [],
   "source": [
    "chunk_id = 0\n",
    "for df in dxpr_df:\n",
    "    start = time.time()\n",
    "    freq = get_frequency(df)"
   ]
  },
  {
   "cell_type": "code",
   "execution_count": 34,
   "metadata": {},
   "outputs": [],
   "source": [
    "cooccur_all = pd.read_csv(path+'all/sepdx1/cooccur_df_ami0.csv')"
   ]
  },
  {
   "cell_type": "code",
   "execution_count": 36,
   "metadata": {
    "collapsed": true
   },
   "outputs": [
    {
     "data": {
      "text/html": [
       "<div>\n",
       "<style scoped>\n",
       "    .dataframe tbody tr th:only-of-type {\n",
       "        vertical-align: middle;\n",
       "    }\n",
       "\n",
       "    .dataframe tbody tr th {\n",
       "        vertical-align: top;\n",
       "    }\n",
       "\n",
       "    .dataframe thead th {\n",
       "        text-align: right;\n",
       "    }\n",
       "</style>\n",
       "<table border=\"1\" class=\"dataframe\">\n",
       "  <thead>\n",
       "    <tr style=\"text-align: right;\">\n",
       "      <th></th>\n",
       "      <th>focal_index</th>\n",
       "      <th>context_index</th>\n",
       "      <th>cooccur_counts</th>\n",
       "    </tr>\n",
       "  </thead>\n",
       "  <tbody>\n",
       "    <tr>\n",
       "      <th>0</th>\n",
       "      <td>27577</td>\n",
       "      <td>18219</td>\n",
       "      <td>43.0</td>\n",
       "    </tr>\n",
       "    <tr>\n",
       "      <th>1</th>\n",
       "      <td>26365</td>\n",
       "      <td>25684</td>\n",
       "      <td>5.0</td>\n",
       "    </tr>\n",
       "    <tr>\n",
       "      <th>2</th>\n",
       "      <td>27398</td>\n",
       "      <td>23975</td>\n",
       "      <td>2.0</td>\n",
       "    </tr>\n",
       "    <tr>\n",
       "      <th>3</th>\n",
       "      <td>23775</td>\n",
       "      <td>18539</td>\n",
       "      <td>2.0</td>\n",
       "    </tr>\n",
       "    <tr>\n",
       "      <th>4</th>\n",
       "      <td>20449</td>\n",
       "      <td>20247</td>\n",
       "      <td>76.0</td>\n",
       "    </tr>\n",
       "    <tr>\n",
       "      <th>5</th>\n",
       "      <td>17749</td>\n",
       "      <td>5398</td>\n",
       "      <td>28.0</td>\n",
       "    </tr>\n",
       "    <tr>\n",
       "      <th>6</th>\n",
       "      <td>30184</td>\n",
       "      <td>23274</td>\n",
       "      <td>1.0</td>\n",
       "    </tr>\n",
       "    <tr>\n",
       "      <th>7</th>\n",
       "      <td>29187</td>\n",
       "      <td>5182</td>\n",
       "      <td>2.0</td>\n",
       "    </tr>\n",
       "    <tr>\n",
       "      <th>8</th>\n",
       "      <td>31043</td>\n",
       "      <td>20114</td>\n",
       "      <td>4.0</td>\n",
       "    </tr>\n",
       "    <tr>\n",
       "      <th>9</th>\n",
       "      <td>23613</td>\n",
       "      <td>23106</td>\n",
       "      <td>2.0</td>\n",
       "    </tr>\n",
       "    <tr>\n",
       "      <th>10</th>\n",
       "      <td>23139</td>\n",
       "      <td>17062</td>\n",
       "      <td>3.0</td>\n",
       "    </tr>\n",
       "    <tr>\n",
       "      <th>11</th>\n",
       "      <td>24750</td>\n",
       "      <td>8483</td>\n",
       "      <td>1.0</td>\n",
       "    </tr>\n",
       "    <tr>\n",
       "      <th>12</th>\n",
       "      <td>24704</td>\n",
       "      <td>24232</td>\n",
       "      <td>11.0</td>\n",
       "    </tr>\n",
       "    <tr>\n",
       "      <th>13</th>\n",
       "      <td>30068</td>\n",
       "      <td>2958</td>\n",
       "      <td>1.0</td>\n",
       "    </tr>\n",
       "    <tr>\n",
       "      <th>14</th>\n",
       "      <td>21269</td>\n",
       "      <td>5779</td>\n",
       "      <td>1.0</td>\n",
       "    </tr>\n",
       "    <tr>\n",
       "      <th>15</th>\n",
       "      <td>20482</td>\n",
       "      <td>15366</td>\n",
       "      <td>2.0</td>\n",
       "    </tr>\n",
       "    <tr>\n",
       "      <th>16</th>\n",
       "      <td>21301</td>\n",
       "      <td>14588</td>\n",
       "      <td>2.0</td>\n",
       "    </tr>\n",
       "    <tr>\n",
       "      <th>17</th>\n",
       "      <td>20141</td>\n",
       "      <td>837</td>\n",
       "      <td>26.0</td>\n",
       "    </tr>\n",
       "    <tr>\n",
       "      <th>18</th>\n",
       "      <td>31196</td>\n",
       "      <td>20002</td>\n",
       "      <td>14.0</td>\n",
       "    </tr>\n",
       "    <tr>\n",
       "      <th>19</th>\n",
       "      <td>33696</td>\n",
       "      <td>22782</td>\n",
       "      <td>1.0</td>\n",
       "    </tr>\n",
       "    <tr>\n",
       "      <th>20</th>\n",
       "      <td>18158</td>\n",
       "      <td>11665</td>\n",
       "      <td>2.0</td>\n",
       "    </tr>\n",
       "    <tr>\n",
       "      <th>21</th>\n",
       "      <td>18112</td>\n",
       "      <td>17370</td>\n",
       "      <td>1.0</td>\n",
       "    </tr>\n",
       "    <tr>\n",
       "      <th>22</th>\n",
       "      <td>30620</td>\n",
       "      <td>24509</td>\n",
       "      <td>1.0</td>\n",
       "    </tr>\n",
       "    <tr>\n",
       "      <th>23</th>\n",
       "      <td>15667</td>\n",
       "      <td>5444</td>\n",
       "      <td>75.0</td>\n",
       "    </tr>\n",
       "    <tr>\n",
       "      <th>24</th>\n",
       "      <td>25590</td>\n",
       "      <td>25445</td>\n",
       "      <td>1.0</td>\n",
       "    </tr>\n",
       "    <tr>\n",
       "      <th>25</th>\n",
       "      <td>26624</td>\n",
       "      <td>20433</td>\n",
       "      <td>1.0</td>\n",
       "    </tr>\n",
       "    <tr>\n",
       "      <th>26</th>\n",
       "      <td>26643</td>\n",
       "      <td>11257</td>\n",
       "      <td>6.0</td>\n",
       "    </tr>\n",
       "    <tr>\n",
       "      <th>27</th>\n",
       "      <td>27133</td>\n",
       "      <td>25666</td>\n",
       "      <td>1.0</td>\n",
       "    </tr>\n",
       "    <tr>\n",
       "      <th>28</th>\n",
       "      <td>33922</td>\n",
       "      <td>22978</td>\n",
       "      <td>1.0</td>\n",
       "    </tr>\n",
       "    <tr>\n",
       "      <th>29</th>\n",
       "      <td>20581</td>\n",
       "      <td>17500</td>\n",
       "      <td>385.0</td>\n",
       "    </tr>\n",
       "    <tr>\n",
       "      <th>...</th>\n",
       "      <td>...</td>\n",
       "      <td>...</td>\n",
       "      <td>...</td>\n",
       "    </tr>\n",
       "    <tr>\n",
       "      <th>17136783</th>\n",
       "      <td>31067</td>\n",
       "      <td>27502</td>\n",
       "      <td>12.0</td>\n",
       "    </tr>\n",
       "    <tr>\n",
       "      <th>17136784</th>\n",
       "      <td>22864</td>\n",
       "      <td>15817</td>\n",
       "      <td>5.0</td>\n",
       "    </tr>\n",
       "    <tr>\n",
       "      <th>17136785</th>\n",
       "      <td>28972</td>\n",
       "      <td>22425</td>\n",
       "      <td>70.0</td>\n",
       "    </tr>\n",
       "    <tr>\n",
       "      <th>17136786</th>\n",
       "      <td>24774</td>\n",
       "      <td>20031</td>\n",
       "      <td>1469.0</td>\n",
       "    </tr>\n",
       "    <tr>\n",
       "      <th>17136787</th>\n",
       "      <td>33392</td>\n",
       "      <td>17883</td>\n",
       "      <td>3.0</td>\n",
       "    </tr>\n",
       "    <tr>\n",
       "      <th>17136788</th>\n",
       "      <td>33451</td>\n",
       "      <td>30982</td>\n",
       "      <td>47.0</td>\n",
       "    </tr>\n",
       "    <tr>\n",
       "      <th>17136789</th>\n",
       "      <td>29065</td>\n",
       "      <td>6119</td>\n",
       "      <td>3.0</td>\n",
       "    </tr>\n",
       "    <tr>\n",
       "      <th>17136790</th>\n",
       "      <td>30316</td>\n",
       "      <td>18530</td>\n",
       "      <td>1.0</td>\n",
       "    </tr>\n",
       "    <tr>\n",
       "      <th>17136791</th>\n",
       "      <td>16687</td>\n",
       "      <td>4546</td>\n",
       "      <td>1.0</td>\n",
       "    </tr>\n",
       "    <tr>\n",
       "      <th>17136792</th>\n",
       "      <td>18591</td>\n",
       "      <td>5412</td>\n",
       "      <td>1.0</td>\n",
       "    </tr>\n",
       "    <tr>\n",
       "      <th>17136793</th>\n",
       "      <td>33766</td>\n",
       "      <td>20705</td>\n",
       "      <td>1.0</td>\n",
       "    </tr>\n",
       "    <tr>\n",
       "      <th>17136794</th>\n",
       "      <td>23152</td>\n",
       "      <td>19863</td>\n",
       "      <td>3.0</td>\n",
       "    </tr>\n",
       "    <tr>\n",
       "      <th>17136795</th>\n",
       "      <td>31948</td>\n",
       "      <td>11237</td>\n",
       "      <td>2.0</td>\n",
       "    </tr>\n",
       "    <tr>\n",
       "      <th>17136796</th>\n",
       "      <td>24733</td>\n",
       "      <td>17399</td>\n",
       "      <td>2.0</td>\n",
       "    </tr>\n",
       "    <tr>\n",
       "      <th>17136797</th>\n",
       "      <td>17815</td>\n",
       "      <td>10411</td>\n",
       "      <td>24.0</td>\n",
       "    </tr>\n",
       "    <tr>\n",
       "      <th>17136798</th>\n",
       "      <td>31681</td>\n",
       "      <td>18237</td>\n",
       "      <td>1.0</td>\n",
       "    </tr>\n",
       "    <tr>\n",
       "      <th>17136799</th>\n",
       "      <td>32721</td>\n",
       "      <td>26928</td>\n",
       "      <td>1.0</td>\n",
       "    </tr>\n",
       "    <tr>\n",
       "      <th>17136800</th>\n",
       "      <td>17484</td>\n",
       "      <td>5364</td>\n",
       "      <td>1.0</td>\n",
       "    </tr>\n",
       "    <tr>\n",
       "      <th>17136801</th>\n",
       "      <td>21120</td>\n",
       "      <td>6067</td>\n",
       "      <td>11.0</td>\n",
       "    </tr>\n",
       "    <tr>\n",
       "      <th>17136802</th>\n",
       "      <td>24633</td>\n",
       "      <td>18220</td>\n",
       "      <td>1.0</td>\n",
       "    </tr>\n",
       "    <tr>\n",
       "      <th>17136803</th>\n",
       "      <td>29668</td>\n",
       "      <td>6298</td>\n",
       "      <td>7.0</td>\n",
       "    </tr>\n",
       "    <tr>\n",
       "      <th>17136804</th>\n",
       "      <td>18612</td>\n",
       "      <td>18152</td>\n",
       "      <td>1.0</td>\n",
       "    </tr>\n",
       "    <tr>\n",
       "      <th>17136805</th>\n",
       "      <td>18927</td>\n",
       "      <td>17549</td>\n",
       "      <td>2.0</td>\n",
       "    </tr>\n",
       "    <tr>\n",
       "      <th>17136806</th>\n",
       "      <td>29506</td>\n",
       "      <td>9619</td>\n",
       "      <td>120.0</td>\n",
       "    </tr>\n",
       "    <tr>\n",
       "      <th>17136807</th>\n",
       "      <td>25646</td>\n",
       "      <td>17939</td>\n",
       "      <td>1.0</td>\n",
       "    </tr>\n",
       "    <tr>\n",
       "      <th>17136808</th>\n",
       "      <td>21855</td>\n",
       "      <td>17488</td>\n",
       "      <td>1.0</td>\n",
       "    </tr>\n",
       "    <tr>\n",
       "      <th>17136809</th>\n",
       "      <td>26131</td>\n",
       "      <td>24783</td>\n",
       "      <td>1.0</td>\n",
       "    </tr>\n",
       "    <tr>\n",
       "      <th>17136810</th>\n",
       "      <td>29538</td>\n",
       "      <td>25418</td>\n",
       "      <td>4.0</td>\n",
       "    </tr>\n",
       "    <tr>\n",
       "      <th>17136811</th>\n",
       "      <td>33409</td>\n",
       "      <td>17937</td>\n",
       "      <td>199.0</td>\n",
       "    </tr>\n",
       "    <tr>\n",
       "      <th>17136812</th>\n",
       "      <td>21394</td>\n",
       "      <td>596</td>\n",
       "      <td>7.0</td>\n",
       "    </tr>\n",
       "  </tbody>\n",
       "</table>\n",
       "<p>17136813 rows × 3 columns</p>\n",
       "</div>"
      ],
      "text/plain": [
       "          focal_index  context_index  cooccur_counts\n",
       "0               27577          18219            43.0\n",
       "1               26365          25684             5.0\n",
       "2               27398          23975             2.0\n",
       "3               23775          18539             2.0\n",
       "4               20449          20247            76.0\n",
       "5               17749           5398            28.0\n",
       "6               30184          23274             1.0\n",
       "7               29187           5182             2.0\n",
       "8               31043          20114             4.0\n",
       "9               23613          23106             2.0\n",
       "10              23139          17062             3.0\n",
       "11              24750           8483             1.0\n",
       "12              24704          24232            11.0\n",
       "13              30068           2958             1.0\n",
       "14              21269           5779             1.0\n",
       "15              20482          15366             2.0\n",
       "16              21301          14588             2.0\n",
       "17              20141            837            26.0\n",
       "18              31196          20002            14.0\n",
       "19              33696          22782             1.0\n",
       "20              18158          11665             2.0\n",
       "21              18112          17370             1.0\n",
       "22              30620          24509             1.0\n",
       "23              15667           5444            75.0\n",
       "24              25590          25445             1.0\n",
       "25              26624          20433             1.0\n",
       "26              26643          11257             6.0\n",
       "27              27133          25666             1.0\n",
       "28              33922          22978             1.0\n",
       "29              20581          17500           385.0\n",
       "...               ...            ...             ...\n",
       "17136783        31067          27502            12.0\n",
       "17136784        22864          15817             5.0\n",
       "17136785        28972          22425            70.0\n",
       "17136786        24774          20031          1469.0\n",
       "17136787        33392          17883             3.0\n",
       "17136788        33451          30982            47.0\n",
       "17136789        29065           6119             3.0\n",
       "17136790        30316          18530             1.0\n",
       "17136791        16687           4546             1.0\n",
       "17136792        18591           5412             1.0\n",
       "17136793        33766          20705             1.0\n",
       "17136794        23152          19863             3.0\n",
       "17136795        31948          11237             2.0\n",
       "17136796        24733          17399             2.0\n",
       "17136797        17815          10411            24.0\n",
       "17136798        31681          18237             1.0\n",
       "17136799        32721          26928             1.0\n",
       "17136800        17484           5364             1.0\n",
       "17136801        21120           6067            11.0\n",
       "17136802        24633          18220             1.0\n",
       "17136803        29668           6298             7.0\n",
       "17136804        18612          18152             1.0\n",
       "17136805        18927          17549             2.0\n",
       "17136806        29506           9619           120.0\n",
       "17136807        25646          17939             1.0\n",
       "17136808        21855          17488             1.0\n",
       "17136809        26131          24783             1.0\n",
       "17136810        29538          25418             4.0\n",
       "17136811        33409          17937           199.0\n",
       "17136812        21394            596             7.0\n",
       "\n",
       "[17136813 rows x 3 columns]"
      ]
     },
     "execution_count": 36,
     "metadata": {},
     "output_type": "execute_result"
    }
   ],
   "source": [
    "cooccur_all"
   ]
  },
  {
   "cell_type": "code",
   "execution_count": 50,
   "metadata": {},
   "outputs": [],
   "source": [
    "DX_cat = ['missing'] + sorted(dx_multi.ICD9CM_CODE)\n",
    "PR_cat = ['missing'] + sorted(pr_multi.ICD9CM_CODE)\n",
    "\n",
    "n_DX1_cat = len(DX_cat)-1\n",
    "n_DX_cat = len(DX_cat)-1\n",
    "n_PR_cat = len(PR_cat)-1\n",
    "\n",
    "DX1_dict = dict(zip(DX_cat, range(len(DX_cat))))\n",
    "DX_dict = dict(zip(DX_cat, [0] + list(range(len(DX_cat), len(DX_cat)*2))))\n",
    "PR_dict = dict(zip(PR_cat, [0] + list(range(len(DX_cat)*2-1, len(DX_cat)*2+len(PR_cat)-1))))\n",
    "\n",
    "code_cat = ['missing'] + sorted(dx_multi.ICD9CM_CODE)*2 + sorted(pr_multi.ICD9CM_CODE)\n",
    "n_code_cat = len(code_cat)"
   ]
  },
  {
   "cell_type": "code",
   "execution_count": 52,
   "metadata": {},
   "outputs": [],
   "source": [
    "glovems = GloveMS(n_DX1_cat=n_DX1_cat, n_DX_cat=n_DX_cat, n_PR_cat=n_PR_cat, DX1_dim=10, DX_dim=100, PR_dim=50, count_cap = 5, \n",
    "                 scaling_factor=0.75)"
   ]
  },
  {
   "cell_type": "code",
   "execution_count": 54,
   "metadata": {
    "collapsed": true
   },
   "outputs": [
    {
     "name": "stdout",
     "output_type": "stream",
     "text": [
      "Preparing data...\n",
      "Defining the GloVe model...\n",
      "Training the GloVe model...\n",
      "Epoch 1/1\n",
      "17136813/17136813 [==============================] - 348s 20us/step - loss: 0.4450\n"
     ]
    },
    {
     "ename": "FileNotFoundError",
     "evalue": "[Errno 2] No such file or directory: '/nfs/turbo/umms-awaljee/wsliu/Data/NRD/models/glove_temp.h5'",
     "output_type": "error",
     "traceback": [
      "\u001b[0;31m---------------------------------------------------------------------------\u001b[0m",
      "\u001b[0;31mFileNotFoundError\u001b[0m                         Traceback (most recent call last)",
      "\u001b[0;32m<ipython-input-54-f5e15bdd4664>\u001b[0m in \u001b[0;36m<module>\u001b[0;34m()\u001b[0m\n\u001b[0;32m----> 1\u001b[0;31m \u001b[0mglovems\u001b[0m\u001b[0;34m.\u001b[0m\u001b[0mtrain_glove\u001b[0m\u001b[0;34m(\u001b[0m\u001b[0mcooccur_df\u001b[0m\u001b[0;34m=\u001b[0m\u001b[0mcooccur_all\u001b[0m\u001b[0;34m,\u001b[0m \u001b[0mcache_path\u001b[0m\u001b[0;34m=\u001b[0m\u001b[0mmodel_path\u001b[0m\u001b[0;34m,\u001b[0m \u001b[0mepochs\u001b[0m\u001b[0;34m=\u001b[0m\u001b[0;36m1\u001b[0m\u001b[0;34m,\u001b[0m \u001b[0mverbose\u001b[0m\u001b[0;34m=\u001b[0m\u001b[0;36m1\u001b[0m\u001b[0;34m)\u001b[0m\u001b[0;34m\u001b[0m\u001b[0m\n\u001b[0m",
      "\u001b[0;32m~/Codes/DLproj/NRD/glove.py\u001b[0m in \u001b[0;36mtrain_glove\u001b[0;34m(self, cooccur_df, cache_path, batch_size, lr, epochs, earlystop_patience, reducelr_patience, verbose)\u001b[0m\n\u001b[1;32m    409\u001b[0m             \u001b[0;32mif\u001b[0m \u001b[0ml\u001b[0m\u001b[0;34m.\u001b[0m\u001b[0mname\u001b[0m\u001b[0;34m==\u001b[0m\u001b[0;34m'DXdotPR'\u001b[0m\u001b[0;34m:\u001b[0m\u001b[0;34m\u001b[0m\u001b[0m\n\u001b[1;32m    410\u001b[0m                 \u001b[0mself\u001b[0m\u001b[0;34m.\u001b[0m\u001b[0m__DXdotPR_mat\u001b[0m \u001b[0;34m=\u001b[0m \u001b[0ml\u001b[0m\u001b[0;34m.\u001b[0m\u001b[0mget_weights\u001b[0m\u001b[0;34m(\u001b[0m\u001b[0;34m)\u001b[0m\u001b[0;34m[\u001b[0m\u001b[0;36m0\u001b[0m\u001b[0;34m]\u001b[0m\u001b[0;34m\u001b[0m\u001b[0m\n\u001b[0;32m--> 411\u001b[0;31m         \u001b[0mos\u001b[0m\u001b[0;34m.\u001b[0m\u001b[0mremove\u001b[0m\u001b[0;34m(\u001b[0m\u001b[0mcache_path\u001b[0m\u001b[0;34m+\u001b[0m\u001b[0;34m'glovems_temp.h5'\u001b[0m\u001b[0;34m)\u001b[0m\u001b[0;34m\u001b[0m\u001b[0m\n\u001b[0m\u001b[1;32m    412\u001b[0m         \u001b[0mprint\u001b[0m\u001b[0;34m(\u001b[0m\u001b[0;34m'Finished. The pretrained embedding matrix can be retrieved by .get_embed_mat().'\u001b[0m\u001b[0;34m)\u001b[0m\u001b[0;34m\u001b[0m\u001b[0m\n\u001b[1;32m    413\u001b[0m \u001b[0;34m\u001b[0m\u001b[0m\n",
      "\u001b[0;31mFileNotFoundError\u001b[0m: [Errno 2] No such file or directory: '/nfs/turbo/umms-awaljee/wsliu/Data/NRD/models/glove_temp.h5'"
     ]
    }
   ],
   "source": [
    "glovems.train_glove(cooccur_df=cooccur_all, cache_path=model_path, epochs=1, verbose=1)"
   ]
  },
  {
   "cell_type": "markdown",
   "metadata": {},
   "source": [
    "## Embedding Visualization"
   ]
  },
  {
   "cell_type": "code",
   "execution_count": 48,
   "metadata": {},
   "outputs": [],
   "source": [
    "from MulticoreTSNE import MulticoreTSNE as TSNE"
   ]
  },
  {
   "cell_type": "code",
   "execution_count": 49,
   "metadata": {},
   "outputs": [],
   "source": [
    "from collections import defaultdict"
   ]
  },
  {
   "cell_type": "code",
   "execution_count": 50,
   "metadata": {},
   "outputs": [],
   "source": [
    "DX_embed_mat = embeds['DX_embed']"
   ]
  },
  {
   "cell_type": "code",
   "execution_count": 81,
   "metadata": {},
   "outputs": [],
   "source": [
    "DX_bias_mat = embeds['DX_bias']"
   ]
  },
  {
   "cell_type": "code",
   "execution_count": 51,
   "metadata": {},
   "outputs": [
    {
     "data": {
      "text/plain": [
       "(2324, 100)"
      ]
     },
     "execution_count": 51,
     "metadata": {},
     "output_type": "execute_result"
    }
   ],
   "source": [
    "DX_embed_mat.shape"
   ]
  },
  {
   "cell_type": "code",
   "execution_count": 17,
   "metadata": {},
   "outputs": [],
   "source": [
    "DX_marg_freq = pd.read_csv(path+'all/sepdx1/DX_marg_freq.csv')"
   ]
  },
  {
   "cell_type": "code",
   "execution_count": 79,
   "metadata": {},
   "outputs": [],
   "source": [
    "DX_freq = pd.read_csv(path+'all/DX_freq.csv')\n",
    "DX1_freq = pd.read_csv(path+'all/DX1_freq.csv')\n",
    "PR_freq = pd.read_csv(path+'all/PR_freq.csv')"
   ]
  },
  {
   "cell_type": "code",
   "execution_count": 52,
   "metadata": {},
   "outputs": [],
   "source": [
    "DX_freq = freq['DX']"
   ]
  },
  {
   "cell_type": "code",
   "execution_count": 84,
   "metadata": {},
   "outputs": [],
   "source": [
    "DX_freq = DX_freq.loc[DX_freq.index.isin(preprocessed['DX_cat'])].sort_index()"
   ]
  },
  {
   "cell_type": "code",
   "execution_count": 56,
   "metadata": {},
   "outputs": [
    {
     "data": {
      "text/plain": [
       "(2323,)"
      ]
     },
     "execution_count": 56,
     "metadata": {},
     "output_type": "execute_result"
    }
   ],
   "source": [
    "DX_freq.shape"
   ]
  },
  {
   "cell_type": "code",
   "execution_count": 61,
   "metadata": {},
   "outputs": [
    {
     "data": {
      "text/plain": [
       "2343"
      ]
     },
     "execution_count": 61,
     "metadata": {},
     "output_type": "execute_result"
    }
   ],
   "source": [
    "preprocessed['DX_dict']['V8545']"
   ]
  },
  {
   "cell_type": "markdown",
   "metadata": {},
   "source": [
    "DX bias vs. marginal frequency:"
   ]
  },
  {
   "cell_type": "code",
   "execution_count": 89,
   "metadata": {},
   "outputs": [
    {
     "data": {
      "text/plain": [
       "<matplotlib.collections.PathCollection at 0x2b5de592a4e0>"
      ]
     },
     "execution_count": 89,
     "metadata": {},
     "output_type": "execute_result"
    },
    {
     "data": {
      "image/png": "[encoded data removed]",
      "text/plain": [
       "<Figure size 432x288 with 1 Axes>"
      ]
     },
     "metadata": {},
     "output_type": "display_data"
    }
   ],
   "source": [
    "plt.scatter(DX_bias_mat[1:, 0], np.log(DX_freq.values))"
   ]
  },
  {
   "cell_type": "code",
   "execution_count": 64,
   "metadata": {},
   "outputs": [],
   "source": [
    "DX_cat_clean = preprocessed['DX_cat']"
   ]
  },
  {
   "cell_type": "code",
   "execution_count": 62,
   "metadata": {},
   "outputs": [],
   "source": [
    "tsne = TSNE(n_components=2, init='random', random_state=0)"
   ]
  },
  {
   "cell_type": "code",
   "execution_count": 68,
   "metadata": {},
   "outputs": [
    {
     "name": "stdout",
     "output_type": "stream",
     "text": [
      "Time used: 16.78121280670166 sec\n"
     ]
    }
   ],
   "source": [
    "start = time.time()\n",
    "DX_tsne = tsne.fit_transform(DX_embed_mat[1:, :])\n",
    "print('Time used: {} sec'.format(time.time()-start))"
   ]
  },
  {
   "cell_type": "code",
   "execution_count": 69,
   "metadata": {},
   "outputs": [],
   "source": [
    "plot_df = pd.DataFrame(dict(x=DX_tsne[:, 0], y=DX_tsne[:, 1]), index=DX_cat_clean)"
   ]
  },
  {
   "cell_type": "code",
   "execution_count": 72,
   "metadata": {},
   "outputs": [
    {
     "data": {
      "text/html": [
       "<div>\n",
       "<style scoped>\n",
       "    .dataframe tbody tr th:only-of-type {\n",
       "        vertical-align: middle;\n",
       "    }\n",
       "\n",
       "    .dataframe tbody tr th {\n",
       "        vertical-align: top;\n",
       "    }\n",
       "\n",
       "    .dataframe thead th {\n",
       "        text-align: right;\n",
       "    }\n",
       "</style>\n",
       "<table border=\"1\" class=\"dataframe\">\n",
       "  <thead>\n",
       "    <tr style=\"text-align: right;\">\n",
       "      <th></th>\n",
       "      <th>x</th>\n",
       "      <th>y</th>\n",
       "      <th>ccs_lvl1</th>\n",
       "    </tr>\n",
       "  </thead>\n",
       "  <tbody>\n",
       "    <tr>\n",
       "      <th>0059</th>\n",
       "      <td>-9.227467</td>\n",
       "      <td>3.677029</td>\n",
       "      <td>9 Diseases of the digestive system</td>\n",
       "    </tr>\n",
       "    <tr>\n",
       "      <th>00845</th>\n",
       "      <td>10.952630</td>\n",
       "      <td>-4.439830</td>\n",
       "      <td>9 Diseases of the digestive system</td>\n",
       "    </tr>\n",
       "    <tr>\n",
       "      <th>0088</th>\n",
       "      <td>1.721180</td>\n",
       "      <td>-0.810256</td>\n",
       "      <td>9 Diseases of the digestive system</td>\n",
       "    </tr>\n",
       "    <tr>\n",
       "      <th>0090</th>\n",
       "      <td>-3.788924</td>\n",
       "      <td>14.659010</td>\n",
       "      <td>9 Diseases of the digestive system</td>\n",
       "    </tr>\n",
       "    <tr>\n",
       "      <th>01190</th>\n",
       "      <td>-13.985912</td>\n",
       "      <td>2.130654</td>\n",
       "      <td>1 Infectious and parasitic diseases</td>\n",
       "    </tr>\n",
       "  </tbody>\n",
       "</table>\n",
       "</div>"
      ],
      "text/plain": [
       "               x          y                             ccs_lvl1\n",
       "0059   -9.227467   3.677029   9 Diseases of the digestive system\n",
       "00845  10.952630  -4.439830   9 Diseases of the digestive system\n",
       "0088    1.721180  -0.810256   9 Diseases of the digestive system\n",
       "0090   -3.788924  14.659010   9 Diseases of the digestive system\n",
       "01190 -13.985912   2.130654  1 Infectious and parasitic diseases"
      ]
     },
     "execution_count": 72,
     "metadata": {},
     "output_type": "execute_result"
    }
   ],
   "source": [
    "plot_df.head()"
   ]
  },
  {
   "cell_type": "markdown",
   "metadata": {},
   "source": [
    "CCS category labels:"
   ]
  },
  {
   "cell_type": "code",
   "execution_count": 71,
   "metadata": {},
   "outputs": [],
   "source": [
    "plot_df = plot_df.assign(ccs_lvl1=[dx_multi.loc[dx, 'CCS_LVL1']+' '+dx_multi.loc[dx, 'CCS_LVL1_LABEL'] for dx in plot_df.index])"
   ]
  },
  {
   "cell_type": "code",
   "execution_count": 73,
   "metadata": {
    "collapsed": true
   },
   "outputs": [
    {
     "ename": "AttributeError",
     "evalue": "'Series' object has no attribute 'set_index'",
     "output_type": "error",
     "traceback": [
      "\u001b[0;31m---------------------------------------------------------------------------\u001b[0m",
      "\u001b[0;31mAttributeError\u001b[0m                            Traceback (most recent call last)",
      "\u001b[0;32m<ipython-input-73-254d0c8153fd>\u001b[0m in \u001b[0;36m<module>\u001b[0;34m()\u001b[0m\n\u001b[0;32m----> 1\u001b[0;31m \u001b[0mDX_freq\u001b[0m \u001b[0;34m=\u001b[0m \u001b[0mDX_freq\u001b[0m\u001b[0;34m.\u001b[0m\u001b[0mset_index\u001b[0m\u001b[0;34m(\u001b[0m\u001b[0mDX_freq\u001b[0m\u001b[0;34m.\u001b[0m\u001b[0mDX\u001b[0m\u001b[0;34m)\u001b[0m\u001b[0;34m\u001b[0m\u001b[0m\n\u001b[0m\u001b[1;32m      2\u001b[0m \u001b[0mDX1_freq\u001b[0m \u001b[0;34m=\u001b[0m \u001b[0mDX1_freq\u001b[0m\u001b[0;34m.\u001b[0m\u001b[0mset_index\u001b[0m\u001b[0;34m(\u001b[0m\u001b[0mDX1_freq\u001b[0m\u001b[0;34m.\u001b[0m\u001b[0mDX1\u001b[0m\u001b[0;34m)\u001b[0m\u001b[0;34m\u001b[0m\u001b[0m\n",
      "\u001b[0;32m/sw/lsa/centos7/python-anaconda-arc-connect/created-20170421/lib/python3.5/site-packages/pandas/core/generic.py\u001b[0m in \u001b[0;36m__getattr__\u001b[0;34m(self, name)\u001b[0m\n\u001b[1;32m   4374\u001b[0m             \u001b[0;32mif\u001b[0m \u001b[0mself\u001b[0m\u001b[0;34m.\u001b[0m\u001b[0m_info_axis\u001b[0m\u001b[0;34m.\u001b[0m\u001b[0m_can_hold_identifiers_and_holds_name\u001b[0m\u001b[0;34m(\u001b[0m\u001b[0mname\u001b[0m\u001b[0;34m)\u001b[0m\u001b[0;34m:\u001b[0m\u001b[0;34m\u001b[0m\u001b[0m\n\u001b[1;32m   4375\u001b[0m                 \u001b[0;32mreturn\u001b[0m \u001b[0mself\u001b[0m\u001b[0;34m[\u001b[0m\u001b[0mname\u001b[0m\u001b[0;34m]\u001b[0m\u001b[0;34m\u001b[0m\u001b[0m\n\u001b[0;32m-> 4376\u001b[0;31m             \u001b[0;32mreturn\u001b[0m \u001b[0mobject\u001b[0m\u001b[0;34m.\u001b[0m\u001b[0m__getattribute__\u001b[0m\u001b[0;34m(\u001b[0m\u001b[0mself\u001b[0m\u001b[0;34m,\u001b[0m \u001b[0mname\u001b[0m\u001b[0;34m)\u001b[0m\u001b[0;34m\u001b[0m\u001b[0m\n\u001b[0m\u001b[1;32m   4377\u001b[0m \u001b[0;34m\u001b[0m\u001b[0m\n\u001b[1;32m   4378\u001b[0m     \u001b[0;32mdef\u001b[0m \u001b[0m__setattr__\u001b[0m\u001b[0;34m(\u001b[0m\u001b[0mself\u001b[0m\u001b[0;34m,\u001b[0m \u001b[0mname\u001b[0m\u001b[0;34m,\u001b[0m \u001b[0mvalue\u001b[0m\u001b[0;34m)\u001b[0m\u001b[0;34m:\u001b[0m\u001b[0;34m\u001b[0m\u001b[0m\n",
      "\u001b[0;31mAttributeError\u001b[0m: 'Series' object has no attribute 'set_index'"
     ]
    }
   ],
   "source": [
    "DX_freq = DX_freq.set_index(DX_freq.DX)\n",
    "DX1_freq = DX1_freq.set_index(DX1_freq.DX1)"
   ]
  },
  {
   "cell_type": "code",
   "execution_count": 75,
   "metadata": {},
   "outputs": [],
   "source": [
    "plot_df = plot_df.assign(freq=DX_freq.loc[plot_df.index])"
   ]
  },
  {
   "cell_type": "code",
   "execution_count": 76,
   "metadata": {},
   "outputs": [],
   "source": [
    "plot_df = plot_df.assign(dot_size=plot_df.freq.apply(lambda x:np.log(x+1)**2/5))"
   ]
  },
  {
   "cell_type": "code",
   "execution_count": 77,
   "metadata": {},
   "outputs": [],
   "source": [
    "colors = ['C{}'.format(j) for j in range(10)]"
   ]
  },
  {
   "cell_type": "code",
   "execution_count": 94,
   "metadata": {
    "scrolled": true
   },
   "outputs": [],
   "source": [
    "#groups = plot_df.groupby('freq_label')\n",
    "groups = plot_df.loc[plot_df.freq>180].groupby('ccs_lvl1')\n",
    "gkey = groups.size().sort_values(ascending=False).index"
   ]
  },
  {
   "cell_type": "code",
   "execution_count": 95,
   "metadata": {},
   "outputs": [
    {
     "data": {
      "text/plain": [
       "<matplotlib.legend.Legend at 0x2b5de4f36550>"
      ]
     },
     "execution_count": 95,
     "metadata": {},
     "output_type": "execute_result"
    },
    {
     "data": {
      "image/png": "[encoded data removed]",
      "text/plain": [
       "<Figure size 1296x1080 with 1 Axes>"
      ]
     },
     "metadata": {},
     "output_type": "display_data"
    }
   ],
   "source": [
    "fig, ax = plt.subplots(figsize=(18, 15))\n",
    "for ccs_lvl1, color in zip(gkey[:10], itertools.cycle(colors)):\n",
    "    group = groups.get_group(ccs_lvl1)\n",
    "    ax.scatter(group.x, group.y, marker='o', s=group.dot_size.values, label=ccs_lvl1, c=color)\n",
    "    #plt.annotate(name, xy=(group.x.values, group.y.values), xytext=(group.x.values, group.y.values))\n",
    "ax.legend()\n",
    "#plt.savefig('output/embed.png', dpi=200)"
   ]
  }
 ],
 "metadata": {
  "kernelspec": {
   "display_name": "Python 3",
   "language": "python",
   "name": "python3"
  },
  "language_info": {
   "codemirror_mode": {
    "name": "ipython",
    "version": 3
   },
   "file_extension": ".py",
   "mimetype": "text/x-python",
   "name": "python",
   "nbconvert_exporter": "python",
   "pygments_lexer": "ipython3",
   "version": "3.5.4"
  }
 },
 "nbformat": 4,
 "nbformat_minor": 2
}
