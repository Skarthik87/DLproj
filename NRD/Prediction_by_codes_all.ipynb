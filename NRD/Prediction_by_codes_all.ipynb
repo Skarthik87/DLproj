{
 "cells": [
  {
   "cell_type": "markdown",
   "metadata": {},
   "source": [
    "# Prediction by Diagnosis Codes\n",
    "In this notebook we build prediction model on the whole NRD database. "
   ]
  },
  {
   "cell_type": "code",
   "execution_count": 1,
   "metadata": {},
   "outputs": [],
   "source": [
    "import pandas as pd\n",
    "import numpy as np\n",
    "import matplotlib.pyplot as plt\n",
    "#import statsmodels.api as sm\n",
    "from sklearn.model_selection import train_test_split\n",
    "import os, sys\n",
    "\n",
    "%matplotlib inline"
   ]
  },
  {
   "cell_type": "code",
   "execution_count": 2,
   "metadata": {},
   "outputs": [],
   "source": [
    "path = '/nfs/turbo/intmed-bnallamo-turbo/wsliu/Data/NRD/'"
   ]
  },
  {
   "cell_type": "code",
   "execution_count": 2,
   "metadata": {},
   "outputs": [],
   "source": [
    "path = '/nfs/turbo/umms-awaljee/wsliu/Data/NRD/'"
   ]
  },
  {
   "cell_type": "code",
   "execution_count": 3,
   "metadata": {},
   "outputs": [],
   "source": [
    "model_path = path + 'models/'\n",
    "if not os.path.exists(model_path): os.mkdir(model_path)"
   ]
  },
  {
   "cell_type": "code",
   "execution_count": 4,
   "metadata": {
    "scrolled": true
   },
   "outputs": [
    {
     "name": "stderr",
     "output_type": "stream",
     "text": [
      "Using TensorFlow backend.\n"
     ]
    }
   ],
   "source": [
    "from keras.layers import Input, Embedding, concatenate, Reshape, BatchNormalization, add, LSTM, CuDNNLSTM, CuDNNGRU, Lambda\n",
    "from keras.models import Model\n",
    "from keras.layers.core import Dense, Activation, Dropout\n",
    "from keras.callbacks import ModelCheckpoint, ReduceLROnPlateau, EarlyStopping\n",
    "from keras.utils import to_categorical\n",
    "from keras.optimizers import Adam\n",
    "import keras.backend as K"
   ]
  },
  {
   "cell_type": "code",
   "execution_count": 5,
   "metadata": {},
   "outputs": [],
   "source": [
    "module_path = os.path.abspath(os.path.join('..'))\n",
    "if module_path not in sys.path:\n",
    "    sys.path.append(module_path)\n",
    "from DL_utils import plot_roc\n",
    "from keras_addon import AUCCheckPoint\n",
    "from utils import Mat_reg"
   ]
  },
  {
   "cell_type": "markdown",
   "metadata": {},
   "source": [
    "## Data Preparation"
   ]
  },
  {
   "cell_type": "code",
   "execution_count": 6,
   "metadata": {},
   "outputs": [],
   "source": [
    "core_dtypes_pd = {'AGE': float,\n",
    " 'AWEEKEND': float,\n",
    " 'DIED': float,\n",
    " 'DISCWT': float,\n",
    " 'DISPUNIFORM': float,\n",
    " 'DMONTH': float,\n",
    " 'DQTR': float,\n",
    " 'DRG': float,\n",
    " 'DRGVER': float,\n",
    " 'DRG_NoPOA': float,\n",
    " 'DX1': bytes,\n",
    " 'DX10': bytes,\n",
    " 'DX11': bytes,\n",
    " 'DX12': bytes,\n",
    " 'DX13': bytes,\n",
    " 'DX14': bytes,\n",
    " 'DX15': bytes,\n",
    " 'DX16': bytes,\n",
    " 'DX17': bytes,\n",
    " 'DX18': bytes,\n",
    " 'DX19': bytes,\n",
    " 'DX2': bytes,\n",
    " 'DX20': bytes,\n",
    " 'DX21': bytes,\n",
    " 'DX22': bytes,\n",
    " 'DX23': bytes,\n",
    " 'DX24': bytes,\n",
    " 'DX25': bytes,\n",
    " 'DX26': bytes,\n",
    " 'DX27': bytes,\n",
    " 'DX28': bytes,\n",
    " 'DX29': bytes,\n",
    " 'DX3': bytes,\n",
    " 'DX30': bytes,\n",
    " 'DX4': bytes,\n",
    " 'DX5': bytes,\n",
    " 'DX6': bytes,\n",
    " 'DX7': bytes,\n",
    " 'DX8': bytes,\n",
    " 'DX9': bytes,\n",
    " 'DXCCS1': float,\n",
    " 'DXCCS10': float,\n",
    " 'DXCCS11': float,\n",
    " 'DXCCS12': float,\n",
    " 'DXCCS13': float,\n",
    " 'DXCCS14': float,\n",
    " 'DXCCS15': float,\n",
    " 'DXCCS16': float,\n",
    " 'DXCCS17': float,\n",
    " 'DXCCS18': float,\n",
    " 'DXCCS19': float,\n",
    " 'DXCCS2': float,\n",
    " 'DXCCS20': float,\n",
    " 'DXCCS21': float,\n",
    " 'DXCCS22': float,\n",
    " 'DXCCS23': float,\n",
    " 'DXCCS24': float,\n",
    " 'DXCCS25': float,\n",
    " 'DXCCS26': float,\n",
    " 'DXCCS27': float,\n",
    " 'DXCCS28': float,\n",
    " 'DXCCS29': float,\n",
    " 'DXCCS3': float,\n",
    " 'DXCCS30': float,\n",
    " 'DXCCS4': float,\n",
    " 'DXCCS5': float,\n",
    " 'DXCCS6': float,\n",
    " 'DXCCS7': float,\n",
    " 'DXCCS8': float,\n",
    " 'DXCCS9': float,\n",
    " 'ECODE1': bytes,\n",
    " 'ECODE2': bytes,\n",
    " 'ECODE3': bytes,\n",
    " 'ECODE4': bytes,\n",
    " 'ELECTIVE': float,\n",
    " 'E_CCS1': float,\n",
    " 'E_CCS2': float,\n",
    " 'E_CCS3': float,\n",
    " 'E_CCS4': float,\n",
    " 'FEMALE': float,\n",
    " 'HCUP_ED': float,\n",
    " 'HOSP_NRD': float,\n",
    " 'KEY_NRD': float,\n",
    " 'LOS': float,\n",
    " 'MDC': float,\n",
    " 'MDC_NoPOA': float,\n",
    " 'NCHRONIC': float,\n",
    " 'NDX': float,\n",
    " 'NECODE': float,\n",
    " 'NPR': float,\n",
    " 'NRD_DaysToEvent': float,\n",
    " 'NRD_STRATUM': float,\n",
    " 'NRD_VisitLink': bytes,\n",
    " 'ORPROC': float,\n",
    " 'PAY1': float,\n",
    " 'PL_NCHS': float,\n",
    " 'PR1': bytes,\n",
    " 'PR10': bytes,\n",
    " 'PR11': bytes,\n",
    " 'PR12': bytes,\n",
    " 'PR13': bytes,\n",
    " 'PR14': bytes,\n",
    " 'PR15': bytes,\n",
    " 'PR2': bytes,\n",
    " 'PR3': bytes,\n",
    " 'PR4': bytes,\n",
    " 'PR5': bytes,\n",
    " 'PR6': bytes,\n",
    " 'PR7': bytes,\n",
    " 'PR8': bytes,\n",
    " 'PR9': bytes,\n",
    " 'PRCCS1': float,\n",
    " 'PRCCS10': float,\n",
    " 'PRCCS11': float,\n",
    " 'PRCCS12': float,\n",
    " 'PRCCS13': float,\n",
    " 'PRCCS14': float,\n",
    " 'PRCCS15': float,\n",
    " 'PRCCS2': float,\n",
    " 'PRCCS3': float,\n",
    " 'PRCCS4': float,\n",
    " 'PRCCS5': float,\n",
    " 'PRCCS6': float,\n",
    " 'PRCCS7': float,\n",
    " 'PRCCS8': float,\n",
    " 'PRCCS9': float,\n",
    " 'PRDAY1': float,\n",
    " 'PRDAY10': float,\n",
    " 'PRDAY11': float,\n",
    " 'PRDAY12': float,\n",
    " 'PRDAY13': float,\n",
    " 'PRDAY14': float,\n",
    " 'PRDAY15': float,\n",
    " 'PRDAY2': float,\n",
    " 'PRDAY3': float,\n",
    " 'PRDAY4': float,\n",
    " 'PRDAY5': float,\n",
    " 'PRDAY6': float,\n",
    " 'PRDAY7': float,\n",
    " 'PRDAY8': float,\n",
    " 'PRDAY9': float,\n",
    " 'REHABTRANSFER': float,\n",
    " 'RESIDENT': float,\n",
    " 'SAMEDAYEVENT': bytes,\n",
    " 'SERVICELINE': float,\n",
    " 'TOTCHG': float,\n",
    " 'YEAR': float,\n",
    " 'ZIPINC_QRTL': float}"
   ]
  },
  {
   "cell_type": "code",
   "execution_count": 7,
   "metadata": {},
   "outputs": [],
   "source": [
    "train_df = pd.read_csv(path+'cohorts/ami/DX_train.csv', dtype=core_dtypes_pd)\n",
    "tst_df = pd.read_csv(path+'cohorts/ami/DX_tst.csv', dtype=core_dtypes_pd)"
   ]
  },
  {
   "cell_type": "code",
   "execution_count": 8,
   "metadata": {},
   "outputs": [],
   "source": [
    "train_df = pd.read_csv(path+'all/DXs_train.csv', dtype=core_dtypes_pd)\n",
    "tst_df = pd.read_csv(path+'all/DXs_tst.csv', dtype=core_dtypes_pd)"
   ]
  },
  {
   "cell_type": "code",
   "execution_count": 8,
   "metadata": {},
   "outputs": [
    {
     "data": {
      "text/plain": [
       "(163671, 150)"
      ]
     },
     "execution_count": 8,
     "metadata": {},
     "output_type": "execute_result"
    }
   ],
   "source": [
    "train_df.shape"
   ]
  },
  {
   "cell_type": "code",
   "execution_count": 9,
   "metadata": {},
   "outputs": [],
   "source": [
    "trn_df, val_df = train_test_split(train_df, test_size=0.11, stratify=train_df.HOSP_NRD)\n",
    "N_trn = len(trn_df)\n",
    "N_val = len(val_df)\n",
    "\n",
    "#train_df = pd.concat([trn_df, val_df])\n",
    "all_df = pd.concat([train_df, tst_df])"
   ]
  },
  {
   "cell_type": "markdown",
   "metadata": {},
   "source": [
    "## Multi-Level CCS Codes"
   ]
  },
  {
   "cell_type": "markdown",
   "metadata": {},
   "source": [
    "### Define the parent matrix"
   ]
  },
  {
   "cell_type": "markdown",
   "metadata": {},
   "source": [
    "Read the ICD9 CCS multi-level category dictionary file. "
   ]
  },
  {
   "cell_type": "code",
   "execution_count": 7,
   "metadata": {
    "scrolled": true
   },
   "outputs": [],
   "source": [
    "multi_ccs = pd.read_csv(path+'ccs_multi_dx_tool_2015.csv')\n",
    "\n",
    "multi_ccs.columns = ['ICD9CM_CODE', 'CCS_LVL1', 'CCS_LVL1_LABEL', 'CCS_LVL2', 'CCS_LVL2_LABEL', 'CCS_LVL3', 'CCS_LVL3_LABEL', \n",
    "                    'CCS_LVL4', 'CCS_LVL4_LABEL']\n",
    "\n",
    "multi_ccs.ICD9CM_CODE = multi_ccs.ICD9CM_CODE.apply(lambda x:x.replace(\"'\", \"\").replace(' ', ''))\n",
    "for j in range(1, 5):\n",
    "    multi_ccs['CCS_LVL'+str(j)] = multi_ccs['CCS_LVL'+str(j)].apply(lambda x:x.replace(\"'\", \"\").replace(' ', ''))"
   ]
  },
  {
   "cell_type": "code",
   "execution_count": 8,
   "metadata": {},
   "outputs": [],
   "source": [
    "multi_ccs = multi_ccs[['ICD9CM_CODE', 'CCS_LVL1', 'CCS_LVL2', 'CCS_LVL3', 'CCS_LVL4']]"
   ]
  },
  {
   "cell_type": "code",
   "execution_count": 21,
   "metadata": {},
   "outputs": [
    {
     "data": {
      "text/plain": [
       "(15072, 5)"
      ]
     },
     "execution_count": 21,
     "metadata": {},
     "output_type": "execute_result"
    }
   ],
   "source": [
    "multi_ccs.shape"
   ]
  },
  {
   "cell_type": "code",
   "execution_count": 23,
   "metadata": {},
   "outputs": [
    {
     "data": {
      "text/plain": [
       "Injury and poisoning                                                                 2764\n",
       "Residual codes; unclassified; all E codes [259. and 260.]                            1589\n",
       "Diseases of the nervous system and sense organs                                      1587\n",
       "Infectious and parasitic diseases                                                    1226\n",
       "Complications of pregnancy; childbirth; and the puerperium                           1205\n",
       "Neoplasms                                                                            1114\n",
       "Diseases of the musculoskeletal system and connective tissue                          863\n",
       "Diseases of the digestive system                                                      757\n",
       "Mental Illness                                                                        597\n",
       "Diseases of the circulatory system                                                    553\n",
       "Diseases of the genitourinary system                                                  498\n",
       "Endocrine; nutritional; and metabolic diseases and immunity disorders                 445\n",
       "Congenital anomalies                                                                  444\n",
       "Symptoms; signs; and ill-defined conditions and factors influencing health status     403\n",
       "Certain conditions originating in the perinatal period                                351\n",
       "Diseases of the respiratory system                                                    342\n",
       "Diseases of the skin and subcutaneous tissue                                          190\n",
       "Diseases of the blood and blood-forming organs                                        134\n",
       "Mental illness                                                                         10\n",
       "Name: CCS_LVL1_LABEL, dtype: int64"
      ]
     },
     "execution_count": 23,
     "metadata": {},
     "output_type": "execute_result"
    }
   ],
   "source": [
    "multi_ccs.CCS_LVL1_LABEL.value_counts()"
   ]
  },
  {
   "cell_type": "markdown",
   "metadata": {},
   "source": [
    "Create one list to store all possible ICD9 code and their CCS multi-level in a list. Creat two dataframe to store the parent of each code and the indices of the parent. "
   ]
  },
  {
   "cell_type": "code",
   "execution_count": 9,
   "metadata": {},
   "outputs": [],
   "source": [
    "ccs_cat = pd.concat([multi_ccs.CCS_LVL1, multi_ccs.CCS_LVL2, multi_ccs.CCS_LVL3, multi_ccs.CCS_LVL4]).astype('category').cat.categories"
   ]
  },
  {
   "cell_type": "code",
   "execution_count": 15,
   "metadata": {},
   "outputs": [
    {
     "data": {
      "text/plain": [
       "(728, 15072)"
      ]
     },
     "execution_count": 15,
     "metadata": {},
     "output_type": "execute_result"
    }
   ],
   "source": [
    "len(ccs_cat), len(multi_ccs)"
   ]
  },
  {
   "cell_type": "code",
   "execution_count": 17,
   "metadata": {
    "scrolled": true
   },
   "outputs": [
    {
     "data": {
      "text/html": [
       "<div>\n",
       "<style scoped>\n",
       "    .dataframe tbody tr th:only-of-type {\n",
       "        vertical-align: middle;\n",
       "    }\n",
       "\n",
       "    .dataframe tbody tr th {\n",
       "        vertical-align: top;\n",
       "    }\n",
       "\n",
       "    .dataframe thead th {\n",
       "        text-align: right;\n",
       "    }\n",
       "</style>\n",
       "<table border=\"1\" class=\"dataframe\">\n",
       "  <thead>\n",
       "    <tr style=\"text-align: right;\">\n",
       "      <th></th>\n",
       "      <th>CCS_LVL1</th>\n",
       "      <th>CCS_LVL2</th>\n",
       "      <th>CCS_LVL3</th>\n",
       "      <th>CCS_LVL4</th>\n",
       "      <th>finest_non_empty</th>\n",
       "    </tr>\n",
       "    <tr>\n",
       "      <th>ICD9CM_CODE</th>\n",
       "      <th></th>\n",
       "      <th></th>\n",
       "      <th></th>\n",
       "      <th></th>\n",
       "      <th></th>\n",
       "    </tr>\n",
       "  </thead>\n",
       "  <tbody>\n",
       "    <tr>\n",
       "      <th>01000</th>\n",
       "      <td>1</td>\n",
       "      <td>1.1</td>\n",
       "      <td>1.1.1</td>\n",
       "      <td></td>\n",
       "      <td>1.1.1</td>\n",
       "    </tr>\n",
       "    <tr>\n",
       "      <th>01001</th>\n",
       "      <td>1</td>\n",
       "      <td>1.1</td>\n",
       "      <td>1.1.1</td>\n",
       "      <td></td>\n",
       "      <td>1.1.1</td>\n",
       "    </tr>\n",
       "    <tr>\n",
       "      <th>01002</th>\n",
       "      <td>1</td>\n",
       "      <td>1.1</td>\n",
       "      <td>1.1.1</td>\n",
       "      <td></td>\n",
       "      <td>1.1.1</td>\n",
       "    </tr>\n",
       "    <tr>\n",
       "      <th>01003</th>\n",
       "      <td>1</td>\n",
       "      <td>1.1</td>\n",
       "      <td>1.1.1</td>\n",
       "      <td></td>\n",
       "      <td>1.1.1</td>\n",
       "    </tr>\n",
       "    <tr>\n",
       "      <th>01004</th>\n",
       "      <td>1</td>\n",
       "      <td>1.1</td>\n",
       "      <td>1.1.1</td>\n",
       "      <td></td>\n",
       "      <td>1.1.1</td>\n",
       "    </tr>\n",
       "  </tbody>\n",
       "</table>\n",
       "</div>"
      ],
      "text/plain": [
       "            CCS_LVL1 CCS_LVL2 CCS_LVL3 CCS_LVL4 finest_non_empty\n",
       "ICD9CM_CODE                                                     \n",
       "01000              1      1.1    1.1.1                     1.1.1\n",
       "01001              1      1.1    1.1.1                     1.1.1\n",
       "01002              1      1.1    1.1.1                     1.1.1\n",
       "01003              1      1.1    1.1.1                     1.1.1\n",
       "01004              1      1.1    1.1.1                     1.1.1"
      ]
     },
     "execution_count": 17,
     "metadata": {},
     "output_type": "execute_result"
    }
   ],
   "source": [
    "multi_ccs.head()"
   ]
  },
  {
   "cell_type": "code",
   "execution_count": 13,
   "metadata": {},
   "outputs": [],
   "source": [
    "all_codes = sorted(multi_ccs.ICD9CM_CODE) + list(ccs_cat[1:])"
   ]
  },
  {
   "cell_type": "code",
   "execution_count": 14,
   "metadata": {},
   "outputs": [
    {
     "data": {
      "text/plain": [
       "15799"
      ]
     },
     "execution_count": 14,
     "metadata": {},
     "output_type": "execute_result"
    }
   ],
   "source": [
    "len(all_codes)"
   ]
  },
  {
   "cell_type": "code",
   "execution_count": 16,
   "metadata": {},
   "outputs": [],
   "source": [
    "multi_ccs = multi_ccs.set_index(multi_ccs.ICD9CM_CODE, drop=True).drop(['ICD9CM_CODE'], axis=1)\n",
    "\n",
    "multi_ccs['finest_non_empty'] = multi_ccs.CCS_LVL4\n",
    "multi_ccs.finest_non_empty[multi_ccs.finest_non_empty==''] = multi_ccs.CCS_LVL3[multi_ccs.finest_non_empty == '']\n",
    "multi_ccs.finest_non_empty[multi_ccs.finest_non_empty==''] = multi_ccs.CCS_LVL2[multi_ccs.finest_non_empty == '']\n",
    "multi_ccs.finest_non_empty[multi_ccs.finest_non_empty==''] = multi_ccs.CCS_LVL1[multi_ccs.finest_non_empty == '']"
   ]
  },
  {
   "cell_type": "code",
   "execution_count": 18,
   "metadata": {
    "scrolled": false
   },
   "outputs": [],
   "source": [
    "DX_parent = multi_ccs[['finest_non_empty']]\n",
    "DX_parent.columns = ['parent_code']\n",
    "DX_parent = DX_parent.assign(parent_index=DX_parent.parent_code.apply(lambda x:all_codes.index(x)).values)\n",
    "DX_parent = DX_parent.append(pd.DataFrame(index=['incn', 'invl', 'missing'], data=dict(parent_code = ['NA']*3, \n",
    "                                                                                       parent_index=[-1]*3)))"
   ]
  },
  {
   "cell_type": "code",
   "execution_count": 22,
   "metadata": {},
   "outputs": [],
   "source": [
    "CCS_parent = pd.DataFrame(dict(code=ccs_cat[1:]))\n",
    "CCS_parent = CCS_parent.assign(parent_code=CCS_parent.code.apply(lambda x:'.'.join(x.split('.')[:-1])))\n",
    "\n",
    "def get_CCS_ind(code):\n",
    "    try:\n",
    "        ind = all_codes.index(code)\n",
    "    except ValueError:\n",
    "        ind = -1\n",
    "    return ind\n",
    "\n",
    "CCS_parent = CCS_parent.assign(parent_index=CCS_parent.parent_code.apply(get_CCS_ind).values)\n",
    "CCS_parent = CCS_parent.set_index(CCS_parent.code, drop=True).drop(['code'], axis=1)"
   ]
  },
  {
   "cell_type": "code",
   "execution_count": 23,
   "metadata": {},
   "outputs": [
    {
     "data": {
      "text/html": [
       "<div>\n",
       "<style scoped>\n",
       "    .dataframe tbody tr th:only-of-type {\n",
       "        vertical-align: middle;\n",
       "    }\n",
       "\n",
       "    .dataframe tbody tr th {\n",
       "        vertical-align: top;\n",
       "    }\n",
       "\n",
       "    .dataframe thead th {\n",
       "        text-align: right;\n",
       "    }\n",
       "</style>\n",
       "<table border=\"1\" class=\"dataframe\">\n",
       "  <thead>\n",
       "    <tr style=\"text-align: right;\">\n",
       "      <th></th>\n",
       "      <th>parent_code</th>\n",
       "      <th>parent_index</th>\n",
       "    </tr>\n",
       "    <tr>\n",
       "      <th>code</th>\n",
       "      <th></th>\n",
       "      <th></th>\n",
       "    </tr>\n",
       "  </thead>\n",
       "  <tbody>\n",
       "    <tr>\n",
       "      <th>1</th>\n",
       "      <td></td>\n",
       "      <td>-1</td>\n",
       "    </tr>\n",
       "    <tr>\n",
       "      <th>1.1</th>\n",
       "      <td>1</td>\n",
       "      <td>15072</td>\n",
       "    </tr>\n",
       "    <tr>\n",
       "      <th>1.1.1</th>\n",
       "      <td>1.1</td>\n",
       "      <td>15073</td>\n",
       "    </tr>\n",
       "    <tr>\n",
       "      <th>1.1.2</th>\n",
       "      <td>1.1</td>\n",
       "      <td>15073</td>\n",
       "    </tr>\n",
       "    <tr>\n",
       "      <th>1.1.2.1</th>\n",
       "      <td>1.1.2</td>\n",
       "      <td>15075</td>\n",
       "    </tr>\n",
       "  </tbody>\n",
       "</table>\n",
       "</div>"
      ],
      "text/plain": [
       "        parent_code  parent_index\n",
       "code                             \n",
       "1                              -1\n",
       "1.1               1         15072\n",
       "1.1.1           1.1         15073\n",
       "1.1.2           1.1         15073\n",
       "1.1.2.1       1.1.2         15075"
      ]
     },
     "execution_count": 23,
     "metadata": {},
     "output_type": "execute_result"
    }
   ],
   "source": [
    "CCS_parent.head()"
   ]
  },
  {
   "cell_type": "code",
   "execution_count": 20,
   "metadata": {
    "scrolled": false
   },
   "outputs": [
    {
     "data": {
      "text/html": [
       "<div>\n",
       "<style scoped>\n",
       "    .dataframe tbody tr th:only-of-type {\n",
       "        vertical-align: middle;\n",
       "    }\n",
       "\n",
       "    .dataframe tbody tr th {\n",
       "        vertical-align: top;\n",
       "    }\n",
       "\n",
       "    .dataframe thead th {\n",
       "        text-align: right;\n",
       "    }\n",
       "</style>\n",
       "<table border=\"1\" class=\"dataframe\">\n",
       "  <thead>\n",
       "    <tr style=\"text-align: right;\">\n",
       "      <th></th>\n",
       "      <th>parent_code</th>\n",
       "      <th>parent_index</th>\n",
       "    </tr>\n",
       "  </thead>\n",
       "  <tbody>\n",
       "    <tr>\n",
       "      <th>V8905</th>\n",
       "      <td>18</td>\n",
       "      <td>15410</td>\n",
       "    </tr>\n",
       "    <tr>\n",
       "      <th>V8909</th>\n",
       "      <td>18</td>\n",
       "      <td>15410</td>\n",
       "    </tr>\n",
       "    <tr>\n",
       "      <th>incn</th>\n",
       "      <td>NA</td>\n",
       "      <td>-1</td>\n",
       "    </tr>\n",
       "    <tr>\n",
       "      <th>invl</th>\n",
       "      <td>NA</td>\n",
       "      <td>-1</td>\n",
       "    </tr>\n",
       "    <tr>\n",
       "      <th>missing</th>\n",
       "      <td>NA</td>\n",
       "      <td>-1</td>\n",
       "    </tr>\n",
       "  </tbody>\n",
       "</table>\n",
       "</div>"
      ],
      "text/plain": [
       "        parent_code  parent_index\n",
       "V8905            18         15410\n",
       "V8909            18         15410\n",
       "incn             NA            -1\n",
       "invl             NA            -1\n",
       "missing          NA            -1"
      ]
     },
     "execution_count": 20,
     "metadata": {},
     "output_type": "execute_result"
    }
   ],
   "source": [
    "DX_parent.tail()"
   ]
  },
  {
   "cell_type": "code",
   "execution_count": 29,
   "metadata": {},
   "outputs": [],
   "source": [
    "DX_parent.loc[DX_parent.parent_code=='18', 'parent_index'] = -1"
   ]
  },
  {
   "cell_type": "code",
   "execution_count": 24,
   "metadata": {},
   "outputs": [],
   "source": [
    "parent_df = pd.concat([DX_parent, CCS_parent], axis=0)"
   ]
  },
  {
   "cell_type": "code",
   "execution_count": 35,
   "metadata": {},
   "outputs": [],
   "source": [
    "parent_mat = np.identity(len(all_codes), dtype=int)"
   ]
  },
  {
   "cell_type": "code",
   "execution_count": 36,
   "metadata": {
    "scrolled": true
   },
   "outputs": [],
   "source": [
    "for i, c in enumerate(all_codes):\n",
    "    parent_ind = parent_df.loc[c, 'parent_index']\n",
    "    if not parent_ind == -1:\n",
    "        parent_mat[i, parent_ind] = -1"
   ]
  },
  {
   "cell_type": "code",
   "execution_count": 37,
   "metadata": {},
   "outputs": [],
   "source": [
    "no_parent = np.where(parent_mat.sum(axis=1)>0)[0]"
   ]
  },
  {
   "cell_type": "code",
   "execution_count": 38,
   "metadata": {
    "scrolled": true
   },
   "outputs": [
    {
     "data": {
      "text/plain": [
       "array(['1', '10', '11', '12', '13', '14', '15', '16', '17', '18', '2',\n",
       "       '3', '4', '5', '6', '7', '8', '9'], dtype='<U9')"
      ]
     },
     "execution_count": 38,
     "metadata": {},
     "output_type": "execute_result"
    }
   ],
   "source": [
    "np.array(all_codes)[no_parent]"
   ]
  },
  {
   "cell_type": "code",
   "execution_count": 39,
   "metadata": {},
   "outputs": [],
   "source": [
    "parent_mat = parent_mat[parent_mat.sum(axis=1)==0, :]"
   ]
  },
  {
   "cell_type": "code",
   "execution_count": 40,
   "metadata": {},
   "outputs": [
    {
     "data": {
      "text/plain": [
       "dtype('int64')"
      ]
     },
     "execution_count": 40,
     "metadata": {},
     "output_type": "execute_result"
    }
   ],
   "source": [
    "parent_mat.dtype"
   ]
  },
  {
   "cell_type": "code",
   "execution_count": 41,
   "metadata": {},
   "outputs": [],
   "source": [
    "np.save(path+'all/parent_mat.npy', parent_mat)"
   ]
  },
  {
   "cell_type": "markdown",
   "metadata": {},
   "source": [
    "### Data Formatting"
   ]
  },
  {
   "cell_type": "markdown",
   "metadata": {},
   "source": [
    "Define the dictionaries for DX, DX1 and hosp, from value to int. "
   ]
  },
  {
   "cell_type": "code",
   "execution_count": 42,
   "metadata": {},
   "outputs": [
    {
     "data": {
      "text/plain": [
       "Index(['01000', '01001', '01002', '01003', '01004', '01005', '01006', '01010',\n",
       "       '01011', '01012',\n",
       "       ...\n",
       "       'V8812', 'V8901', 'V8902', 'V8903', 'V8904', 'V8905', 'V8909', 'incn',\n",
       "       'invl', 'missing'],\n",
       "      dtype='object', length=15075)"
      ]
     },
     "execution_count": 42,
     "metadata": {},
     "output_type": "execute_result"
    }
   ],
   "source": [
    "DX_parent.index"
   ]
  },
  {
   "cell_type": "code",
   "execution_count": 45,
   "metadata": {},
   "outputs": [
    {
     "data": {
      "text/plain": [
       "array([    1,     2,     3, ..., 15073, 15074,     0])"
      ]
     },
     "execution_count": 45,
     "metadata": {},
     "output_type": "execute_result"
    }
   ],
   "source": [
    "np.roll(np.arange(len(DX_parent)),-1)"
   ]
  },
  {
   "cell_type": "code",
   "execution_count": 46,
   "metadata": {},
   "outputs": [],
   "source": [
    "DX_dict = dict(zip(sorted(DX_parent.index), np.roll(np.arange(len(DX_parent)),-1)))"
   ]
  },
  {
   "cell_type": "code",
   "execution_count": 50,
   "metadata": {},
   "outputs": [
    {
     "data": {
      "text/plain": [
       "['0010',\n",
       " '0011',\n",
       " '0019',\n",
       " '0020',\n",
       " '0021',\n",
       " '0022',\n",
       " '0023',\n",
       " '0029',\n",
       " '0030',\n",
       " '0031']"
      ]
     },
     "execution_count": 50,
     "metadata": {},
     "output_type": "execute_result"
    }
   ],
   "source": [
    "all_codes[:10]"
   ]
  },
  {
   "cell_type": "code",
   "execution_count": 49,
   "metadata": {},
   "outputs": [
    {
     "data": {
      "text/plain": [
       "1"
      ]
     },
     "execution_count": 49,
     "metadata": {},
     "output_type": "execute_result"
    }
   ],
   "source": [
    "DX_dict[all_codes[0]]"
   ]
  },
  {
   "cell_type": "code",
   "execution_count": 14,
   "metadata": {},
   "outputs": [],
   "source": [
    "N_DX = 29\n",
    "DXs = ['DX'+str(n) for n in range(2, N_DX+2)]\n",
    "\n",
    "DX_series = pd.concat([all_df[DX] for DX in DXs])\n",
    "DX_series = DX_series.fillna('missing')"
   ]
  },
  {
   "cell_type": "code",
   "execution_count": 15,
   "metadata": {},
   "outputs": [],
   "source": [
    "DX_series = DX_series.astype('category')\n",
    "DX_cat = DX_series.cat.categories\n",
    "n_DX_cat = len(DX_cat)\n",
    "DX_int_cat = list(range(n_DX_cat)[1:]) +[0]\n",
    "DX_dict = dict(zip(DX_cat, DX_int_cat))"
   ]
  },
  {
   "cell_type": "code",
   "execution_count": 16,
   "metadata": {},
   "outputs": [
    {
     "data": {
      "text/plain": [
       "5458"
      ]
     },
     "execution_count": 16,
     "metadata": {},
     "output_type": "execute_result"
    }
   ],
   "source": [
    "n_DX_cat"
   ]
  },
  {
   "cell_type": "code",
   "execution_count": 17,
   "metadata": {},
   "outputs": [],
   "source": [
    "DX1_series = all_df['DX1'].astype('category')\n",
    "DX1_cat = DX1_series.cat.categories\n",
    "DX1_int_cat = range(len(DX1_cat))\n",
    "\n",
    "DX1_dict = dict(zip(DX1_cat, DX1_int_cat))"
   ]
  },
  {
   "cell_type": "code",
   "execution_count": 18,
   "metadata": {},
   "outputs": [],
   "source": [
    "hosp_series = all_df['HOSP_NRD'].astype('category')\n",
    "hosp_cat = hosp_series.cat.categories\n",
    "\n",
    "hosp_dict = dict(zip(hosp_cat, range(len(hosp_cat))))"
   ]
  },
  {
   "cell_type": "code",
   "execution_count": 25,
   "metadata": {},
   "outputs": [],
   "source": [
    "DX_df = train_df[DXs]\n",
    "DX_df = DX_df.fillna('missing')\n",
    "\n",
    "for dx in DXs:\n",
    "    DX_df[dx] = DX_df[dx].map(DX_dict)\n",
    "\n",
    "DX_mat = DX_df.values\n",
    "DX_mat_trn = DX_df.values[:N_trn, ]\n",
    "DX_mat_val = DX_df.values[N_trn:, ]"
   ]
  },
  {
   "cell_type": "code",
   "execution_count": 26,
   "metadata": {},
   "outputs": [],
   "source": [
    "demo_mat = train_df[['AGE', 'FEMALE']].values\n",
    "\n",
    "age_mean = train_df['AGE'].mean()\n",
    "age_std = train_df['AGE'].std()\n",
    "\n",
    "demo_mat[:, 0] = (demo_mat[:, 0]-age_mean)/age_std\n",
    "\n",
    "demo_mat_trn = demo_mat[:N_trn, ]\n",
    "demo_mat_val = demo_mat[N_trn:, ]"
   ]
  },
  {
   "cell_type": "code",
   "execution_count": 27,
   "metadata": {},
   "outputs": [],
   "source": [
    "hosp_series = train_df['HOSP_NRD'].map(hosp_dict)\n",
    "hosp_array = hosp_series.values\n",
    "\n",
    "hosp_array_trn = hosp_array[:N_trn]\n",
    "hosp_array_val = hosp_array[N_trn:]"
   ]
  },
  {
   "cell_type": "code",
   "execution_count": 28,
   "metadata": {},
   "outputs": [],
   "source": [
    "DX1_series = train_df['DX1'].map(DX1_dict)\n",
    "\n",
    "DX1_mat = np.zeros((len(DX1_series), len(DX1_dict)))\n",
    "for i, dx1 in enumerate(DX1_series.values):\n",
    "    DX1_mat[i, dx1] = 1\n",
    "\n",
    "DX1_mat_trn = DX1_mat[:N_trn, ]\n",
    "DX1_mat_val = DX1_mat[N_trn:, ]"
   ]
  },
  {
   "cell_type": "code",
   "execution_count": 29,
   "metadata": {},
   "outputs": [],
   "source": [
    "y = train_df['readm30'].values.astype(int)\n",
    "\n",
    "Y_trn = to_categorical(y[:N_trn])\n",
    "Y_val = to_categorical(y[N_trn:])"
   ]
  },
  {
   "cell_type": "markdown",
   "metadata": {},
   "source": [
    "## Model Building"
   ]
  },
  {
   "cell_type": "code",
   "execution_count": 30,
   "metadata": {},
   "outputs": [],
   "source": [
    "DX_embed_dim = 50\n",
    "hosp_embed_dim = 1"
   ]
  },
  {
   "cell_type": "code",
   "execution_count": 31,
   "metadata": {},
   "outputs": [],
   "source": [
    "parent_mat = np.load(path+'cohorts/ami/parent_mat.npy')"
   ]
  },
  {
   "cell_type": "code",
   "execution_count": 36,
   "metadata": {},
   "outputs": [],
   "source": [
    "input_DX = Input(shape = (N_DX,))\n",
    "DX_embed = Embedding(input_dim=len(all_codes), output_dim=DX_embed_dim, input_length=N_DX, mask_zero=True,\n",
    "                     embeddings_regularizer=ccs_reg, name='DX_embed')(input_DX)\n",
    "\n",
    "#DX_out, _, DX_feature = CuDNNLSTM(DX_embed_dim, return_sequences=False, return_state=True)(DX_embed)\n",
    "#DX_feature = Lambda(lambda x: K.sum(x, axis=1))(DX_embed)\n",
    "DX_feature = LSTM(DX_embed_dim, return_sequences=False)(DX_embed)"
   ]
  },
  {
   "cell_type": "code",
   "execution_count": 124,
   "metadata": {},
   "outputs": [],
   "source": [
    "input_DX = Input(shape = (N_DX,))\n",
    "DX_embed = Embedding(input_dim=parent_mat.shape[1], output_dim=DX_embed_dim, input_length=N_DX,\n",
    "                     embeddings_regularizer=Mat_reg(parent_mat, 0.0005), name='DX_embed')(input_DX)\n",
    "\n",
    "#DX_out, _, DX_feature = CuDNNLSTM(DX_embed_dim, return_sequences=False, return_state=True)(DX_embed)\n",
    "DX_feature = Lambda(lambda x: K.sum(x, axis=1))(DX_embed)\n",
    "#DX_feature = CuDNNLSTM(DX_embed_dim, return_sequences=False)(DX_embed)"
   ]
  },
  {
   "cell_type": "code",
   "execution_count": 125,
   "metadata": {},
   "outputs": [],
   "source": [
    "input_demo = Input(shape=(2, ))\n",
    "\n",
    "input_DX1 = Input(shape=(len(DX1_cat),))\n",
    "\n",
    "input_hosp = Input(shape=(1,))\n",
    "hosp_embed = Embedding(input_dim=len(hosp_cat), output_dim=hosp_embed_dim, input_length=1)(input_hosp)\n",
    "hosp_embed = Reshape((hosp_embed_dim, ))(hosp_embed)\n",
    "\n",
    "merged = concatenate([input_demo, input_DX1, DX_feature, hosp_embed], axis=1)\n",
    "\n",
    "x = Dense(32, activation='relu')(merged)\n",
    "#x = Dense(32, activation='relu')(x)\n",
    "x = Dropout(0.2)(x)\n",
    "\n",
    "prediction = Dense(2, activation='softmax')(x)\n",
    "model = Model(inputs=[input_demo, input_DX1, input_DX, input_hosp], outputs=prediction)"
   ]
  },
  {
   "cell_type": "code",
   "execution_count": 41,
   "metadata": {},
   "outputs": [
    {
     "data": {
      "text/plain": [
       "[<tf.Variable 'DX_embed/embeddings:0' shape=(6100, 50) dtype=float32_ref>]"
      ]
     },
     "execution_count": 41,
     "metadata": {},
     "output_type": "execute_result"
    }
   ],
   "source": [
    "model.layers[2].weights"
   ]
  },
  {
   "cell_type": "code",
   "execution_count": 126,
   "metadata": {},
   "outputs": [],
   "source": [
    "adam = Adam(lr=0.0002)\n",
    "model.compile(optimizer=adam, loss='categorical_crossentropy')"
   ]
  },
  {
   "cell_type": "code",
   "execution_count": 127,
   "metadata": {},
   "outputs": [],
   "source": [
    "checkpoint = ModelCheckpoint(filepath=model_path+'ami_ccs_lstm_valloss1.h5', save_best_only=True, save_weights_only=True)\n",
    "auccheckpoint = AUCCheckPoint(filepath=model_path+'ami_ccs_lstm_auc1.h5', validation_y=Y_val[:, 1], \n",
    "                             validation_x=[demo_mat_val, DX1_mat_val, DX_mat_val, hosp_array_val])\n",
    "reduce_lr = ReduceLROnPlateau(monitor='loss', factor=0.3, patience=5, min_lr=K.epsilon())\n",
    "earlystop = EarlyStopping(monitor='val_loss', patience=30)"
   ]
  },
  {
   "cell_type": "code",
   "execution_count": 97,
   "metadata": {},
   "outputs": [],
   "source": [
    "class_weight = {0:(Y_trn.shape[0]/sum(Y_trn[:, 0])), 1:(Y_trn.shape[0]/sum(Y_trn[:, 1]))}"
   ]
  },
  {
   "cell_type": "code",
   "execution_count": 128,
   "metadata": {
    "scrolled": true
   },
   "outputs": [
    {
     "name": "stdout",
     "output_type": "stream",
     "text": [
      "Train on 145667 samples, validate on 18004 samples\n",
      "Epoch 1/100\n",
      "145667/145667 [==============================] - 9s 64us/step - loss: 1.3494 - val_loss: 0.6567\n",
      "AUC: 0.6966\n",
      "\n",
      "Epoch 2/100\n",
      "145667/145667 [==============================] - 3s 20us/step - loss: 1.2714 - val_loss: 0.6480\n",
      "AUC: 0.7034\n",
      "\n",
      "Epoch 3/100\n",
      "145667/145667 [==============================] - 3s 20us/step - loss: 1.2543 - val_loss: 0.6254\n",
      "AUC: 0.7053\n",
      "\n",
      "Epoch 4/100\n",
      "145667/145667 [==============================] - 3s 20us/step - loss: 1.2446 - val_loss: 0.6704\n",
      "AUC: 0.7059\n",
      "\n",
      "Epoch 5/100\n",
      "145667/145667 [==============================] - 3s 20us/step - loss: 1.2370 - val_loss: 0.6207\n",
      "AUC: 0.7058\n",
      "\n",
      "Epoch 6/100\n",
      "145667/145667 [==============================] - 3s 20us/step - loss: 1.2281 - val_loss: 0.6270\n",
      "AUC: 0.7060\n",
      "\n",
      "Epoch 7/100\n",
      "145667/145667 [==============================] - 3s 20us/step - loss: 1.2199 - val_loss: 0.6185\n",
      "AUC: 0.7067\n",
      "\n",
      "Epoch 8/100\n",
      "145667/145667 [==============================] - 3s 20us/step - loss: 1.2155 - val_loss: 0.6428\n",
      "AUC: 0.7043\n",
      "\n",
      "Epoch 9/100\n",
      "145667/145667 [==============================] - 3s 20us/step - loss: 1.2077 - val_loss: 0.6032\n",
      "AUC: 0.7060\n",
      "\n",
      "Epoch 10/100\n",
      "145667/145667 [==============================] - 3s 20us/step - loss: 1.2032 - val_loss: 0.6441\n",
      "AUC: 0.7038\n",
      "\n",
      "Epoch 11/100\n",
      "145667/145667 [==============================] - 3s 20us/step - loss: 1.1990 - val_loss: 0.6485\n",
      "AUC: 0.7032\n",
      "\n",
      "Epoch 12/100\n",
      "145667/145667 [==============================] - 3s 20us/step - loss: 1.1921 - val_loss: 0.6084\n",
      "AUC: 0.7034\n",
      "\n",
      "Epoch 13/100\n",
      "145667/145667 [==============================] - 3s 20us/step - loss: 1.1860 - val_loss: 0.6539\n",
      "AUC: 0.7008\n",
      "\n",
      "Epoch 14/100\n",
      "145667/145667 [==============================] - 3s 20us/step - loss: 1.1829 - val_loss: 0.6180\n",
      "AUC: 0.7003\n",
      "\n",
      "Epoch 15/100\n",
      "145667/145667 [==============================] - 3s 20us/step - loss: 1.1796 - val_loss: 0.6202\n",
      "AUC: 0.6978\n",
      "\n",
      "Epoch 16/100\n",
      "145667/145667 [==============================] - 3s 20us/step - loss: 1.1746 - val_loss: 0.6288\n",
      "AUC: 0.6981\n",
      "\n",
      "Epoch 17/100\n",
      "145667/145667 [==============================] - 3s 20us/step - loss: 1.1686 - val_loss: 0.6237\n",
      "AUC: 0.6973\n",
      "\n",
      "Epoch 18/100\n",
      "145667/145667 [==============================] - 3s 20us/step - loss: 1.1653 - val_loss: 0.6389\n",
      "AUC: 0.6927\n",
      "\n",
      "Epoch 19/100\n",
      "145667/145667 [==============================] - 3s 21us/step - loss: 1.1600 - val_loss: 0.5690\n",
      "AUC: 0.6946\n",
      "\n",
      "Epoch 20/100\n",
      "145667/145667 [==============================] - 3s 20us/step - loss: 1.1580 - val_loss: 0.6533\n",
      "AUC: 0.6909\n",
      "\n",
      "Epoch 21/100\n",
      "145667/145667 [==============================] - 3s 20us/step - loss: 1.1545 - val_loss: 0.6360\n",
      "AUC: 0.6920\n",
      "\n",
      "Epoch 22/100\n",
      "145667/145667 [==============================] - 3s 20us/step - loss: 1.1506 - val_loss: 0.6858\n",
      "AUC: 0.6850\n",
      "\n",
      "Epoch 23/100\n",
      "145667/145667 [==============================] - 3s 20us/step - loss: 1.1455 - val_loss: 0.6128\n",
      "AUC: 0.6881\n",
      "\n",
      "Epoch 24/100\n",
      "145667/145667 [==============================] - 3s 20us/step - loss: 1.1410 - val_loss: 0.6147\n",
      "AUC: 0.6852\n",
      "\n",
      "Epoch 25/100\n",
      "145667/145667 [==============================] - 3s 20us/step - loss: 1.1378 - val_loss: 0.6040\n",
      "AUC: 0.6868\n",
      "\n",
      "Epoch 26/100\n",
      "145667/145667 [==============================] - 3s 20us/step - loss: 1.1320 - val_loss: 0.6800\n",
      "AUC: 0.6773\n",
      "\n",
      "Epoch 27/100\n",
      "145667/145667 [==============================] - 3s 20us/step - loss: 1.1273 - val_loss: 0.5809\n",
      "AUC: 0.6839\n",
      "\n",
      "Epoch 28/100\n",
      "145667/145667 [==============================] - 3s 20us/step - loss: 1.1258 - val_loss: 0.6456\n",
      "AUC: 0.6806\n",
      "\n",
      "Epoch 29/100\n",
      "145667/145667 [==============================] - 3s 20us/step - loss: 1.1198 - val_loss: 0.6090\n",
      "AUC: 0.6851\n",
      "\n",
      "Epoch 30/100\n",
      "145667/145667 [==============================] - 3s 20us/step - loss: 1.1165 - val_loss: 0.6350\n",
      "AUC: 0.6806\n",
      "\n",
      "Epoch 31/100\n",
      "145667/145667 [==============================] - 3s 21us/step - loss: 1.1132 - val_loss: 0.6641\n",
      "AUC: 0.6672\n",
      "\n",
      "Epoch 32/100\n",
      "145667/145667 [==============================] - 3s 20us/step - loss: 1.1157 - val_loss: 0.6495\n",
      "AUC: 0.6746\n",
      "\n",
      "Epoch 33/100\n",
      "145667/145667 [==============================] - 3s 20us/step - loss: 1.1062 - val_loss: 0.6270\n",
      "AUC: 0.6742\n",
      "\n",
      "Epoch 34/100\n",
      "145667/145667 [==============================] - 3s 20us/step - loss: 1.0992 - val_loss: 0.6387\n",
      "AUC: 0.6719\n",
      "\n",
      "Epoch 35/100\n",
      "145667/145667 [==============================] - 3s 20us/step - loss: 1.0958 - val_loss: 0.6709\n",
      "AUC: 0.6655\n",
      "\n",
      "Epoch 36/100\n",
      "145667/145667 [==============================] - 3s 20us/step - loss: 1.0917 - val_loss: 0.6405\n",
      "AUC: 0.6682\n",
      "\n",
      "Epoch 37/100\n",
      "145667/145667 [==============================] - 3s 20us/step - loss: 1.0892 - val_loss: 0.6264\n",
      "AUC: 0.6671\n",
      "\n",
      "Epoch 38/100\n",
      "145667/145667 [==============================] - 3s 20us/step - loss: 1.0829 - val_loss: 0.6625\n",
      "AUC: 0.6639\n",
      "\n",
      "Epoch 39/100\n",
      "145667/145667 [==============================] - 3s 20us/step - loss: 1.0789 - val_loss: 0.6832\n",
      "AUC: 0.6604\n",
      "\n",
      "Epoch 40/100\n",
      "145667/145667 [==============================] - 3s 20us/step - loss: 1.0767 - val_loss: 0.6414\n",
      "AUC: 0.6679\n",
      "\n",
      "Epoch 41/100\n",
      "145667/145667 [==============================] - 3s 20us/step - loss: 1.0711 - val_loss: 0.6013\n",
      "AUC: 0.6607\n",
      "\n",
      "Epoch 42/100\n",
      "145667/145667 [==============================] - 3s 20us/step - loss: 1.0682 - val_loss: 0.7180\n",
      "AUC: 0.6511\n",
      "\n",
      "Epoch 43/100\n",
      "145667/145667 [==============================] - 3s 20us/step - loss: 1.0649 - val_loss: 0.6530\n",
      "AUC: 0.6556\n",
      "\n",
      "Epoch 44/100\n",
      "145667/145667 [==============================] - 3s 20us/step - loss: 1.0652 - val_loss: 0.6486\n",
      "AUC: 0.6610\n",
      "\n",
      "Epoch 45/100\n",
      "145667/145667 [==============================] - 3s 20us/step - loss: 1.0581 - val_loss: 0.6269\n",
      "AUC: 0.6583\n",
      "\n",
      "Epoch 46/100\n",
      "145667/145667 [==============================] - 3s 20us/step - loss: 1.0530 - val_loss: 0.6527\n",
      "AUC: 0.6535\n",
      "\n",
      "Epoch 47/100\n",
      "145667/145667 [==============================] - 3s 20us/step - loss: 1.0487 - val_loss: 0.6242\n",
      "AUC: 0.6570\n",
      "\n",
      "Epoch 48/100\n",
      "145667/145667 [==============================] - 3s 20us/step - loss: 1.0456 - val_loss: 0.6491\n",
      "AUC: 0.6516\n",
      "\n",
      "Epoch 49/100\n",
      "145667/145667 [==============================] - 3s 20us/step - loss: 1.0421 - val_loss: 0.6639\n",
      "AUC: 0.6508\n",
      "\n"
     ]
    }
   ],
   "source": [
    "hist = model.fit([demo_mat_trn, DX1_mat_trn, DX_mat_trn, hosp_array_trn], Y_trn, \n",
    "                 batch_size=256, epochs=100, callbacks=[checkpoint, auccheckpoint, reduce_lr, earlystop], class_weight=class_weight, \n",
    "                 validation_data=[[demo_mat_val, DX1_mat_val, DX_mat_val, hosp_array_val], Y_val], \n",
    "                verbose=1)"
   ]
  },
  {
   "cell_type": "code",
   "execution_count": 129,
   "metadata": {
    "scrolled": true
   },
   "outputs": [
    {
     "data": {
      "text/plain": [
       "[<matplotlib.lines.Line2D at 0x2ba0e46f6f28>]"
      ]
     },
     "execution_count": 129,
     "metadata": {},
     "output_type": "execute_result"
    },
    {
     "data": {
      "image/png": "[encoded data removed]",
      "text/plain": [
       "<Figure size 432x288 with 1 Axes>"
      ]
     },
     "metadata": {},
     "output_type": "display_data"
    }
   ],
   "source": [
    "plt.plot(hist.history['val_loss'])"
   ]
  },
  {
   "cell_type": "code",
   "execution_count": 130,
   "metadata": {
    "scrolled": true
   },
   "outputs": [
    {
     "data": {
      "text/plain": [
       "[<matplotlib.lines.Line2D at 0x2b9d36d4c278>]"
      ]
     },
     "execution_count": 130,
     "metadata": {},
     "output_type": "execute_result"
    },
    {
     "data": {
      "image/png": "[encoded data removed]",
      "text/plain": [
       "<Figure size 432x288 with 1 Axes>"
      ]
     },
     "metadata": {},
     "output_type": "display_data"
    }
   ],
   "source": [
    "plt.plot(auccheckpoint.auc_history)"
   ]
  },
  {
   "cell_type": "markdown",
   "metadata": {},
   "source": [
    "### Model testing"
   ]
  },
  {
   "cell_type": "code",
   "execution_count": 53,
   "metadata": {},
   "outputs": [],
   "source": [
    "DX_df_tst = tst_df[DXs]\n",
    "DX_df_tst = DX_df_tst.fillna('missing')\n",
    "\n",
    "for dx in DXs:\n",
    "    DX_df_tst[dx] = DX_df_tst[dx].map(DX_dict)\n",
    "\n",
    "DX_mat_tst = DX_df_tst.values"
   ]
  },
  {
   "cell_type": "code",
   "execution_count": 54,
   "metadata": {},
   "outputs": [],
   "source": [
    "demo_mat_tst = tst_df[['AGE', 'FEMALE']].values\n",
    "demo_mat_tst[:, 0] = (demo_mat_tst[:, 0]-age_mean)/age_std"
   ]
  },
  {
   "cell_type": "code",
   "execution_count": 55,
   "metadata": {},
   "outputs": [],
   "source": [
    "hosp_array_tst = tst_df['HOSP_NRD'].map(hosp_dict).values"
   ]
  },
  {
   "cell_type": "code",
   "execution_count": 56,
   "metadata": {},
   "outputs": [],
   "source": [
    "DX1_series_tst = tst_df.DX1.map(DX1_dict)\n",
    "\n",
    "DX1_mat_tst = np.zeros((len(tst_df), len(DX1_dict)))\n",
    "for i, dx1 in enumerate(DX1_series_tst.values):\n",
    "    DX1_mat_tst[i, dx1] = 1"
   ]
  },
  {
   "cell_type": "code",
   "execution_count": 131,
   "metadata": {},
   "outputs": [],
   "source": [
    "model.load_weights(model_path+'ami_ccs_lstm_auc1.h5')"
   ]
  },
  {
   "cell_type": "code",
   "execution_count": 132,
   "metadata": {},
   "outputs": [
    {
     "name": "stdout",
     "output_type": "stream",
     "text": [
      "18186/18186 [==============================] - 0s 27us/step\n"
     ]
    }
   ],
   "source": [
    "y = model.predict([demo_mat_tst, DX1_mat_tst, DX_mat_tst, hosp_array_tst], verbose=1)\n",
    "\n",
    "y_pred = y[:, 1]\n",
    "y_true = tst_df.readm30.astype(int).values"
   ]
  },
  {
   "cell_type": "code",
   "execution_count": 133,
   "metadata": {
    "scrolled": true
   },
   "outputs": [
    {
     "data": {
      "text/plain": [
       "{0: 0.7084081464810368}"
      ]
     },
     "execution_count": 133,
     "metadata": {},
     "output_type": "execute_result"
    },
    {
     "data": {
      "image/png": "[encoded data removed]",
      "text/plain": [
       "<Figure size 432x288 with 1 Axes>"
      ]
     },
     "metadata": {},
     "output_type": "display_data"
    }
   ],
   "source": [
    "plot_roc(y_pred, y_true)"
   ]
  },
  {
   "cell_type": "code",
   "execution_count": 135,
   "metadata": {},
   "outputs": [],
   "source": [
    "embed_trained = model.layers[2]\n",
    "\n",
    "embed_mat = embed_trained.get_weights()[0]"
   ]
  },
  {
   "cell_type": "code",
   "execution_count": 72,
   "metadata": {
    "scrolled": true
   },
   "outputs": [
    {
     "data": {
      "text/plain": [
       "array([0.13445328, 0.01330469, 0.01692051, 0.01324792, 0.01288445,\n",
       "       0.01326387, 0.0132484 , 0.01324365, 0.01305246, 0.01320876,\n",
       "       0.01324838, 0.013367  , 0.01326561, 0.0132235 , 0.0132535 ,\n",
       "       0.01358849, 0.01516505, 0.01328224, 0.01323698, 0.01324947],\n",
       "      dtype=float32)"
      ]
     },
     "execution_count": 72,
     "metadata": {},
     "output_type": "execute_result"
    }
   ],
   "source": [
    "np.linalg.norm(embed_mat, axis=1, ord=2)[:20]"
   ]
  },
  {
   "cell_type": "code",
   "execution_count": 120,
   "metadata": {
    "scrolled": true
   },
   "outputs": [
    {
     "data": {
      "text/plain": [
       "array([1.67420201e-02, 1.25085167e-03, 3.88638256e-04, 1.11788415e-02,\n",
       "       9.17833277e-03, 5.80740744e-03, 1.52295803e-03, 3.01085294e-02,\n",
       "       6.11861637e-03, 8.90269510e-03, 2.30148840e-02, 5.32340409e-04,\n",
       "       5.70435590e-03, 2.60904864e-03, 5.05236697e-03, 5.88568662e-02,\n",
       "       1.29949138e-02, 8.28027064e-05, 9.94104499e-03, 3.17214810e-03])"
      ]
     },
     "execution_count": 120,
     "metadata": {},
     "output_type": "execute_result"
    }
   ],
   "source": [
    "np.linalg.norm(np.dot(parent_mat, embed_mat), axis=1, ord=2)[:20]"
   ]
  },
  {
   "cell_type": "code",
   "execution_count": 67,
   "metadata": {},
   "outputs": [],
   "source": [
    "from sklearn import decomposition, manifold"
   ]
  },
  {
   "cell_type": "code",
   "execution_count": 68,
   "metadata": {},
   "outputs": [],
   "source": [
    "tsne = manifold.TSNE(n_components=2, init='pca', random_state=0)"
   ]
  },
  {
   "cell_type": "code",
   "execution_count": 136,
   "metadata": {},
   "outputs": [],
   "source": [
    "embed_tsne = tsne.fit_transform(embed_mat[1:(n_DX_cat-2),:])"
   ]
  },
  {
   "cell_type": "code",
   "execution_count": null,
   "metadata": {},
   "outputs": [],
   "source": [
    "ccs_lvl1 = [ami_ccs.loc[c, 'CCS_LVL1'] for c in all_codes[1:(n_DX_cat-2)]]\n",
    "\n",
    "fine_group = [ami_ccs.loc[c, 'finest_non_empty'] for c in all_codes[1:(n_DX_cat-2)]]\n",
    "\n",
    "plot_df = pd.DataFrame(dict(x=embed_tsne[:, 0], y=embed_tsne[:, 1], lvl1=ccs_lvl1, fine_group=fine_group))"
   ]
  },
  {
   "cell_type": "code",
   "execution_count": 143,
   "metadata": {},
   "outputs": [],
   "source": [
    "plot_df = plot_df.assign(level=[len(g.split('.')) for g in plot_df.fine_group])"
   ]
  },
  {
   "cell_type": "code",
   "execution_count": 146,
   "metadata": {
    "scrolled": true
   },
   "outputs": [],
   "source": [
    "groups = plot_df.groupby('lvl1')\n",
    "\n",
    "gkey = groups.groups.keys()"
   ]
  },
  {
   "cell_type": "code",
   "execution_count": 148,
   "metadata": {},
   "outputs": [
    {
     "data": {
      "text/plain": [
       "<matplotlib.legend.Legend at 0x2ba0e4abd518>"
      ]
     },
     "execution_count": 148,
     "metadata": {},
     "output_type": "execute_result"
    },
    {
     "data": {
      "image/png": "[encoded data removed]",
      "text/plain": [
       "<Figure size 720x576 with 1 Axes>"
      ]
     },
     "metadata": {},
     "output_type": "display_data"
    }
   ],
   "source": [
    "fig, ax = plt.subplots(figsize=(10, 8))\n",
    "for name in list(gkey)[:10]:\n",
    "    group = groups.get_group(name)\n",
    "    ax.plot(group.x, group.y, marker='o', linestyle='', ms=3, label=name)\n",
    "ax.legend()"
   ]
  },
  {
   "cell_type": "code",
   "execution_count": 90,
   "metadata": {},
   "outputs": [],
   "source": [
    "top_fine_cat = ami_ccs.finest_non_empty.value_counts().iloc[:10].index\n",
    "\n",
    "plot_subdf = plot_df.loc[plot_df.fine_group.isin(top_fine_cat)]"
   ]
  },
  {
   "cell_type": "code",
   "execution_count": 91,
   "metadata": {
    "scrolled": false
   },
   "outputs": [
    {
     "data": {
      "text/plain": [
       "<matplotlib.legend.Legend at 0x2ba0bbf5ab70>"
      ]
     },
     "execution_count": 91,
     "metadata": {},
     "output_type": "execute_result"
    },
    {
     "data": {
      "image/png": "[encoded data removed]",
      "text/plain": [
       "<Figure size 720x576 with 1 Axes>"
      ]
     },
     "metadata": {},
     "output_type": "display_data"
    }
   ],
   "source": [
    "groups = plot_subdf.groupby('fine_group')\n",
    "\n",
    "fig, ax = plt.subplots(figsize=(10, 8))\n",
    "for name, group in groups:\n",
    "    ax.plot(group.x, group.y, marker='o', linestyle='', ms=3, label=name)\n",
    "ax.legend()"
   ]
  },
  {
   "cell_type": "code",
   "execution_count": 153,
   "metadata": {},
   "outputs": [],
   "source": [
    "plot_subdf = plot_df.loc[plot_df.lvl1=='3']"
   ]
  },
  {
   "cell_type": "code",
   "execution_count": 154,
   "metadata": {},
   "outputs": [
    {
     "data": {
      "text/plain": [
       "<matplotlib.legend.Legend at 0x2ba0e4bb5320>"
      ]
     },
     "execution_count": 154,
     "metadata": {},
     "output_type": "execute_result"
    },
    {
     "data": {
      "image/png": "[encoded data removed]",
      "text/plain": [
       "<Figure size 720x576 with 1 Axes>"
      ]
     },
     "metadata": {},
     "output_type": "display_data"
    }
   ],
   "source": [
    "groups = plot_subdf.groupby('level')\n",
    "\n",
    "fig, ax = plt.subplots(figsize=(10, 8))\n",
    "for name, group in groups:\n",
    "    ax.plot(group.x, group.y, marker='o', linestyle='', ms=3, label=name)\n",
    "ax.legend()"
   ]
  },
  {
   "cell_type": "code",
   "execution_count": 108,
   "metadata": {
    "scrolled": true
   },
   "outputs": [
    {
     "data": {
      "text/plain": [
       "Index(['18', '13.8', '6.7.6', '16.12', '13.2.3', '16.8', '5.12', '6.9.1',\n",
       "       '16.5', '2.16.2.5', '9.12.3', '16.10.2.7', '1.1.4', '9.2', '3.11.3',\n",
       "       '3.4', '16.6.1', '17.1.9', '8.9', '10.1.8.3'],\n",
       "      dtype='object')"
      ]
     },
     "execution_count": 108,
     "metadata": {},
     "output_type": "execute_result"
    }
   ],
   "source": [
    "top_fine_cat"
   ]
  },
  {
   "cell_type": "markdown",
   "metadata": {},
   "source": [
    "### Hyper Tuning"
   ]
  },
  {
   "cell_type": "code",
   "execution_count": 68,
   "metadata": {},
   "outputs": [],
   "source": [
    "with open('output/hyper_tune_nomask.csv', 'a') as f:\n",
    "    f.write('DX_dim,hosp_dim,penalty,fc_width,dropout,lr,batch_size,auc\\n')"
   ]
  },
  {
   "cell_type": "code",
   "execution_count": 35,
   "metadata": {},
   "outputs": [],
   "source": [
    "hp = pd.read_csv('output/hyper_tune_nomask.csv')"
   ]
  },
  {
   "cell_type": "code",
   "execution_count": 67,
   "metadata": {},
   "outputs": [
    {
     "data": {
      "text/html": [
       "<div>\n",
       "<style scoped>\n",
       "    .dataframe tbody tr th:only-of-type {\n",
       "        vertical-align: middle;\n",
       "    }\n",
       "\n",
       "    .dataframe tbody tr th {\n",
       "        vertical-align: top;\n",
       "    }\n",
       "\n",
       "    .dataframe thead th {\n",
       "        text-align: right;\n",
       "    }\n",
       "</style>\n",
       "<table border=\"1\" class=\"dataframe\">\n",
       "  <thead>\n",
       "    <tr style=\"text-align: right;\">\n",
       "      <th></th>\n",
       "      <th>DX_dim</th>\n",
       "      <th>hosp_dim</th>\n",
       "      <th>penalty</th>\n",
       "      <th>fc_width</th>\n",
       "      <th>dropout</th>\n",
       "      <th>lr</th>\n",
       "      <th>batch_size</th>\n",
       "      <th>auc</th>\n",
       "    </tr>\n",
       "  </thead>\n",
       "  <tbody>\n",
       "    <tr>\n",
       "      <th>4</th>\n",
       "      <td>16</td>\n",
       "      <td>9</td>\n",
       "      <td>0.000105</td>\n",
       "      <td>32</td>\n",
       "      <td>0.004899</td>\n",
       "      <td>0.00100</td>\n",
       "      <td>64</td>\n",
       "      <td>0.7058</td>\n",
       "    </tr>\n",
       "    <tr>\n",
       "      <th>8</th>\n",
       "      <td>65</td>\n",
       "      <td>4</td>\n",
       "      <td>0.000625</td>\n",
       "      <td>16</td>\n",
       "      <td>0.897796</td>\n",
       "      <td>0.00100</td>\n",
       "      <td>256</td>\n",
       "      <td>0.5004</td>\n",
       "    </tr>\n",
       "    <tr>\n",
       "      <th>11</th>\n",
       "      <td>94</td>\n",
       "      <td>1</td>\n",
       "      <td>0.001708</td>\n",
       "      <td>64</td>\n",
       "      <td>0.865829</td>\n",
       "      <td>0.00010</td>\n",
       "      <td>512</td>\n",
       "      <td>0.7042</td>\n",
       "    </tr>\n",
       "    <tr>\n",
       "      <th>13</th>\n",
       "      <td>50</td>\n",
       "      <td>6</td>\n",
       "      <td>0.000224</td>\n",
       "      <td>32</td>\n",
       "      <td>0.725226</td>\n",
       "      <td>0.00020</td>\n",
       "      <td>128</td>\n",
       "      <td>0.7086</td>\n",
       "    </tr>\n",
       "    <tr>\n",
       "      <th>16</th>\n",
       "      <td>15</td>\n",
       "      <td>4</td>\n",
       "      <td>0.002352</td>\n",
       "      <td>32</td>\n",
       "      <td>0.852860</td>\n",
       "      <td>0.00020</td>\n",
       "      <td>512</td>\n",
       "      <td>0.7062</td>\n",
       "    </tr>\n",
       "    <tr>\n",
       "      <th>23</th>\n",
       "      <td>48</td>\n",
       "      <td>3</td>\n",
       "      <td>0.000012</td>\n",
       "      <td>64</td>\n",
       "      <td>0.933194</td>\n",
       "      <td>0.00020</td>\n",
       "      <td>512</td>\n",
       "      <td>0.7022</td>\n",
       "    </tr>\n",
       "    <tr>\n",
       "      <th>29</th>\n",
       "      <td>28</td>\n",
       "      <td>1</td>\n",
       "      <td>0.001035</td>\n",
       "      <td>32</td>\n",
       "      <td>0.028685</td>\n",
       "      <td>0.00100</td>\n",
       "      <td>256</td>\n",
       "      <td>0.7061</td>\n",
       "    </tr>\n",
       "    <tr>\n",
       "      <th>30</th>\n",
       "      <td>57</td>\n",
       "      <td>1</td>\n",
       "      <td>0.000083</td>\n",
       "      <td>256</td>\n",
       "      <td>0.058323</td>\n",
       "      <td>0.00100</td>\n",
       "      <td>512</td>\n",
       "      <td>0.7072</td>\n",
       "    </tr>\n",
       "    <tr>\n",
       "      <th>31</th>\n",
       "      <td>43</td>\n",
       "      <td>2</td>\n",
       "      <td>0.000030</td>\n",
       "      <td>64</td>\n",
       "      <td>0.996849</td>\n",
       "      <td>0.00010</td>\n",
       "      <td>128</td>\n",
       "      <td>0.5990</td>\n",
       "    </tr>\n",
       "    <tr>\n",
       "      <th>33</th>\n",
       "      <td>43</td>\n",
       "      <td>1</td>\n",
       "      <td>0.000237</td>\n",
       "      <td>64</td>\n",
       "      <td>0.161768</td>\n",
       "      <td>0.00100</td>\n",
       "      <td>128</td>\n",
       "      <td>0.7070</td>\n",
       "    </tr>\n",
       "    <tr>\n",
       "      <th>36</th>\n",
       "      <td>21</td>\n",
       "      <td>1</td>\n",
       "      <td>0.000077</td>\n",
       "      <td>128</td>\n",
       "      <td>0.429280</td>\n",
       "      <td>0.00100</td>\n",
       "      <td>512</td>\n",
       "      <td>0.7055</td>\n",
       "    </tr>\n",
       "    <tr>\n",
       "      <th>38</th>\n",
       "      <td>73</td>\n",
       "      <td>6</td>\n",
       "      <td>0.000011</td>\n",
       "      <td>128</td>\n",
       "      <td>0.775359</td>\n",
       "      <td>0.00010</td>\n",
       "      <td>64</td>\n",
       "      <td>0.7066</td>\n",
       "    </tr>\n",
       "    <tr>\n",
       "      <th>40</th>\n",
       "      <td>72</td>\n",
       "      <td>8</td>\n",
       "      <td>0.001003</td>\n",
       "      <td>128</td>\n",
       "      <td>0.016808</td>\n",
       "      <td>0.00005</td>\n",
       "      <td>512</td>\n",
       "      <td>0.7067</td>\n",
       "    </tr>\n",
       "    <tr>\n",
       "      <th>42</th>\n",
       "      <td>23</td>\n",
       "      <td>8</td>\n",
       "      <td>0.000041</td>\n",
       "      <td>32</td>\n",
       "      <td>0.458010</td>\n",
       "      <td>0.00005</td>\n",
       "      <td>256</td>\n",
       "      <td>0.7037</td>\n",
       "    </tr>\n",
       "    <tr>\n",
       "      <th>44</th>\n",
       "      <td>27</td>\n",
       "      <td>8</td>\n",
       "      <td>0.001210</td>\n",
       "      <td>16</td>\n",
       "      <td>0.480705</td>\n",
       "      <td>0.00020</td>\n",
       "      <td>512</td>\n",
       "      <td>0.7072</td>\n",
       "    </tr>\n",
       "    <tr>\n",
       "      <th>45</th>\n",
       "      <td>87</td>\n",
       "      <td>3</td>\n",
       "      <td>0.000014</td>\n",
       "      <td>64</td>\n",
       "      <td>0.932313</td>\n",
       "      <td>0.00100</td>\n",
       "      <td>128</td>\n",
       "      <td>0.7030</td>\n",
       "    </tr>\n",
       "    <tr>\n",
       "      <th>46</th>\n",
       "      <td>35</td>\n",
       "      <td>4</td>\n",
       "      <td>0.000035</td>\n",
       "      <td>64</td>\n",
       "      <td>0.917053</td>\n",
       "      <td>0.00010</td>\n",
       "      <td>256</td>\n",
       "      <td>0.7002</td>\n",
       "    </tr>\n",
       "    <tr>\n",
       "      <th>49</th>\n",
       "      <td>9</td>\n",
       "      <td>9</td>\n",
       "      <td>0.001187</td>\n",
       "      <td>32</td>\n",
       "      <td>0.467510</td>\n",
       "      <td>0.00010</td>\n",
       "      <td>256</td>\n",
       "      <td>0.7041</td>\n",
       "    </tr>\n",
       "  </tbody>\n",
       "</table>\n",
       "</div>"
      ],
      "text/plain": [
       "    DX_dim  hosp_dim   penalty  fc_width   dropout       lr  batch_size  \\\n",
       "4       16         9  0.000105        32  0.004899  0.00100          64   \n",
       "8       65         4  0.000625        16  0.897796  0.00100         256   \n",
       "11      94         1  0.001708        64  0.865829  0.00010         512   \n",
       "13      50         6  0.000224        32  0.725226  0.00020         128   \n",
       "16      15         4  0.002352        32  0.852860  0.00020         512   \n",
       "23      48         3  0.000012        64  0.933194  0.00020         512   \n",
       "29      28         1  0.001035        32  0.028685  0.00100         256   \n",
       "30      57         1  0.000083       256  0.058323  0.00100         512   \n",
       "31      43         2  0.000030        64  0.996849  0.00010         128   \n",
       "33      43         1  0.000237        64  0.161768  0.00100         128   \n",
       "36      21         1  0.000077       128  0.429280  0.00100         512   \n",
       "38      73         6  0.000011       128  0.775359  0.00010          64   \n",
       "40      72         8  0.001003       128  0.016808  0.00005         512   \n",
       "42      23         8  0.000041        32  0.458010  0.00005         256   \n",
       "44      27         8  0.001210        16  0.480705  0.00020         512   \n",
       "45      87         3  0.000014        64  0.932313  0.00100         128   \n",
       "46      35         4  0.000035        64  0.917053  0.00010         256   \n",
       "49       9         9  0.001187        32  0.467510  0.00010         256   \n",
       "\n",
       "       auc  \n",
       "4   0.7058  \n",
       "8   0.5004  \n",
       "11  0.7042  \n",
       "13  0.7086  \n",
       "16  0.7062  \n",
       "23  0.7022  \n",
       "29  0.7061  \n",
       "30  0.7072  \n",
       "31  0.5990  \n",
       "33  0.7070  \n",
       "36  0.7055  \n",
       "38  0.7066  \n",
       "40  0.7067  \n",
       "42  0.7037  \n",
       "44  0.7072  \n",
       "45  0.7030  \n",
       "46  0.7002  \n",
       "49  0.7041  "
      ]
     },
     "execution_count": 67,
     "metadata": {},
     "output_type": "execute_result"
    }
   ],
   "source": [
    "hp.loc[hp.penalty<0.005]"
   ]
  },
  {
   "cell_type": "code",
   "execution_count": 104,
   "metadata": {
    "scrolled": true
   },
   "outputs": [
    {
     "data": {
      "text/plain": [
       "<matplotlib.axes._subplots.AxesSubplot at 0x2b233d50dcf8>"
      ]
     },
     "execution_count": 104,
     "metadata": {},
     "output_type": "execute_result"
    },
    {
     "data": {
      "image/png": "[encoded data removed]",
      "text/plain": [
       "<Figure size 432x288 with 1 Axes>"
      ]
     },
     "metadata": {},
     "output_type": "display_data"
    }
   ],
   "source": [
    "hp.loc[hp.auc>0.68].plot.scatter('batch_size', 'auc')"
   ]
  },
  {
   "cell_type": "markdown",
   "metadata": {},
   "source": [
    "### Backups"
   ]
  },
  {
   "cell_type": "markdown",
   "metadata": {},
   "source": [
    "### Model Building with OHE"
   ]
  },
  {
   "cell_type": "code",
   "execution_count": 20,
   "metadata": {},
   "outputs": [],
   "source": [
    "DX_embed_dim = 50\n",
    "hosp_embed_dim = 1"
   ]
  },
  {
   "cell_type": "code",
   "execution_count": 55,
   "metadata": {},
   "outputs": [],
   "source": [
    "input_DX = Input(shape = (n_DX_cat,))\n",
    "DX_feature = Dense(DX_embed_dim, use_bias=False)(input_DX)\n",
    "\n",
    "input_demo = Input(shape=(2, ))\n",
    "\n",
    "input_DX1 = Input(shape=(len(DX1_cat),))\n",
    "\n",
    "input_hosp = Input(shape=(1,))\n",
    "hosp_embed = Embedding(input_dim=len(hosp_cat), output_dim=hosp_embed_dim, input_length=1)(input_hosp)\n",
    "hosp_embed = Reshape((hosp_embed_dim, ))(hosp_embed)\n",
    "\n",
    "merged = concatenate([input_demo, input_DX1, DX_feature, hosp_embed], axis=1)\n",
    "\n",
    "x = Dense(128, activation='relu')(merged)\n",
    "#x = Dense(64, activation='relu')(x)\n",
    "x = Dense(32, activation='relu')(x)\n",
    "#x = Dense(16, activation='relu')(x)\n",
    "x = Dropout(0.5)(x)\n",
    "\n",
    "prediction = Dense(2, activation='softmax')(x)\n",
    "model = Model(inputs=[input_demo, input_DX1, input_DX, input_hosp], outputs=prediction)"
   ]
  },
  {
   "cell_type": "code",
   "execution_count": 56,
   "metadata": {},
   "outputs": [
    {
     "data": {
      "text/plain": [
       "TensorShape([Dimension(None), Dimension(50)])"
      ]
     },
     "execution_count": 56,
     "metadata": {},
     "output_type": "execute_result"
    }
   ],
   "source": [
    "DX_feature.shape"
   ]
  },
  {
   "cell_type": "code",
   "execution_count": 58,
   "metadata": {},
   "outputs": [],
   "source": [
    "adam = Adam(lr=0.0002)\n",
    "model.compile(optimizer=adam, loss='categorical_crossentropy', metrics=['accuracy'])"
   ]
  },
  {
   "cell_type": "code",
   "execution_count": 59,
   "metadata": {},
   "outputs": [],
   "source": [
    "checkpoint = ModelCheckpoint(filepath=model_path+'ami_icd9_ohe_valloss1.h5', save_best_only=True, save_weights_only=True)\n",
    "auccheckpoint = AUCCheckPoint(filepath=model_path+'ami_icd9_ohe_auc1.h5', validation_y=Y_val[:, 1], \n",
    "                             validation_x=[demo_mat_val, DX1_mat_val, DX_ohe_val, hosp_array_val])\n",
    "reduce_lr = ReduceLROnPlateau(monitor='loss', factor=0.2, patience=3, min_lr=1.e-8)\n",
    "earlystop = EarlyStopping(monitor='val_loss', patience=20)"
   ]
  },
  {
   "cell_type": "code",
   "execution_count": 60,
   "metadata": {},
   "outputs": [],
   "source": [
    "class_weight = {0:(Y_trn.shape[0]/sum(Y_trn[:, 0])), 1:(Y_trn.shape[0]/sum(Y_trn[:, 1]))}"
   ]
  },
  {
   "cell_type": "code",
   "execution_count": 61,
   "metadata": {
    "scrolled": true
   },
   "outputs": [
    {
     "name": "stdout",
     "output_type": "stream",
     "text": [
      "Train on 145667 samples, validate on 18004 samples\n",
      "Epoch 1/20\n",
      " - 7s - loss: 1.3245 - acc: 0.5939 - val_loss: 0.6438 - val_acc: 0.6399\n",
      "AUC: 0.6854\n",
      "\n",
      "Epoch 2/20\n",
      " - 9s - loss: 1.2781 - acc: 0.6356 - val_loss: 0.6329 - val_acc: 0.6380\n",
      "AUC: 0.6898\n",
      "\n",
      "Epoch 3/20\n",
      " - 9s - loss: 1.2583 - acc: 0.6404 - val_loss: 0.6276 - val_acc: 0.6399\n",
      "AUC: 0.6901\n",
      "\n",
      "Epoch 4/20\n",
      " - 9s - loss: 1.2450 - acc: 0.6460 - val_loss: 0.6301 - val_acc: 0.6279\n",
      "AUC: 0.6871\n",
      "\n",
      "Epoch 5/20\n",
      " - 9s - loss: 1.2293 - acc: 0.6470 - val_loss: 0.6398 - val_acc: 0.6230\n",
      "AUC: 0.6841\n",
      "\n",
      "Epoch 6/20\n",
      " - 9s - loss: 1.2162 - acc: 0.6539 - val_loss: 0.6214 - val_acc: 0.6377\n",
      "AUC: 0.6814\n",
      "\n",
      "Epoch 7/20\n",
      " - 9s - loss: 1.2016 - acc: 0.6574 - val_loss: 0.6104 - val_acc: 0.6439\n",
      "AUC: 0.6778\n",
      "\n",
      "Epoch 8/20\n",
      " - 9s - loss: 1.1875 - acc: 0.6590 - val_loss: 0.6120 - val_acc: 0.6417\n",
      "AUC: 0.6747\n",
      "\n",
      "Epoch 9/20\n",
      " - 9s - loss: 1.1727 - acc: 0.6650 - val_loss: 0.6097 - val_acc: 0.6387\n",
      "AUC: 0.6750\n",
      "\n",
      "Epoch 10/20\n",
      " - 9s - loss: 1.1610 - acc: 0.6660 - val_loss: 0.6189 - val_acc: 0.6329\n",
      "AUC: 0.6727\n",
      "\n",
      "Epoch 11/20\n",
      " - 9s - loss: 1.1462 - acc: 0.6712 - val_loss: 0.6295 - val_acc: 0.6358\n",
      "AUC: 0.6688\n",
      "\n",
      "Epoch 12/20\n",
      " - 9s - loss: 1.1329 - acc: 0.6760 - val_loss: 0.6555 - val_acc: 0.6086\n",
      "AUC: 0.6662\n",
      "\n",
      "Epoch 13/20\n",
      " - 9s - loss: 1.1183 - acc: 0.6833 - val_loss: 0.6213 - val_acc: 0.6394\n",
      "AUC: 0.6582\n",
      "\n",
      "Epoch 14/20\n",
      " - 9s - loss: 1.1060 - acc: 0.6908 - val_loss: 0.6298 - val_acc: 0.6351\n",
      "AUC: 0.6582\n",
      "\n",
      "Epoch 15/20\n",
      " - 9s - loss: 1.0908 - acc: 0.6961 - val_loss: 0.6007 - val_acc: 0.6700\n",
      "AUC: 0.6541\n",
      "\n",
      "Epoch 16/20\n",
      " - 9s - loss: 1.0766 - acc: 0.7042 - val_loss: 0.6424 - val_acc: 0.6419\n",
      "AUC: 0.6513\n",
      "\n",
      "Epoch 17/20\n",
      " - 9s - loss: 1.0629 - acc: 0.7115 - val_loss: 0.6349 - val_acc: 0.6539\n",
      "AUC: 0.6493\n",
      "\n",
      "Epoch 18/20\n",
      " - 9s - loss: 1.0437 - acc: 0.7204 - val_loss: 0.6372 - val_acc: 0.6541\n",
      "AUC: 0.6434\n",
      "\n",
      "Epoch 19/20\n",
      " - 9s - loss: 1.0271 - acc: 0.7292 - val_loss: 0.6152 - val_acc: 0.6745\n",
      "AUC: 0.6419\n",
      "\n",
      "Epoch 20/20\n",
      " - 9s - loss: 1.0119 - acc: 0.7364 - val_loss: 0.6126 - val_acc: 0.6811\n",
      "AUC: 0.6362\n",
      "\n"
     ]
    }
   ],
   "source": [
    "hist = model.fit([demo_mat_trn, DX1_mat_trn, DX_ohe_trn, hosp_array_trn], Y_trn, \n",
    "                 batch_size=512, epochs=20, callbacks=[checkpoint, auccheckpoint, reduce_lr, earlystop], class_weight=class_weight, \n",
    "                 validation_data=[[demo_mat_val, DX1_mat_val, DX_ohe_val, hosp_array_val], Y_val], \n",
    "                verbose=2)"
   ]
  }
 ],
 "metadata": {
  "kernelspec": {
   "display_name": "Python 3",
   "language": "python",
   "name": "python3"
  },
  "language_info": {
   "codemirror_mode": {
    "name": "ipython",
    "version": 3
   },
   "file_extension": ".py",
   "mimetype": "text/x-python",
   "name": "python",
   "nbconvert_exporter": "python",
   "pygments_lexer": "ipython3",
   "version": "3.5.4"
  }
 },
 "nbformat": 4,
 "nbformat_minor": 2
}
