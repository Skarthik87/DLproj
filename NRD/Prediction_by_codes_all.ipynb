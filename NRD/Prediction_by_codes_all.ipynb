{
 "cells": [
  {
   "cell_type": "markdown",
   "metadata": {},
   "source": [
    "# Prediction by Diagnosis Codes\n",
    "In this notebook we use some fancier networks. "
   ]
  },
  {
   "cell_type": "code",
   "execution_count": 17,
   "metadata": {},
   "outputs": [],
   "source": [
    "import pandas as pd\n",
    "import numpy as np\n",
    "import matplotlib.pyplot as plt\n",
    "#import statsmodels.api as sm\n",
    "from sklearn.model_selection import train_test_split, StratifiedShuffleSplit, StratifiedKFold\n",
    "import os, sys\n",
    "import time\n",
    "from datetime import datetime\n",
    "from importlib import reload\n",
    "%matplotlib inline"
   ]
  },
  {
   "cell_type": "code",
   "execution_count": 2,
   "metadata": {},
   "outputs": [],
   "source": [
    "os.environ['CUDA_VISIBLE_DEVICES'] = ''"
   ]
  },
  {
   "cell_type": "code",
   "execution_count": 2,
   "metadata": {},
   "outputs": [],
   "source": [
    "path = '/nfs/turbo/intmed-bnallamo-turbo/wsliu/Data/NRD/'"
   ]
  },
  {
   "cell_type": "code",
   "execution_count": 2,
   "metadata": {},
   "outputs": [],
   "source": [
    "path = '/nfs/turbo/umms-awaljee/wsliu/Data/NRD/'"
   ]
  },
  {
   "cell_type": "code",
   "execution_count": 3,
   "metadata": {},
   "outputs": [],
   "source": [
    "model_path = path + 'models/'\n",
    "if not os.path.exists(model_path): os.mkdir(model_path)"
   ]
  },
  {
   "cell_type": "code",
   "execution_count": 167,
   "metadata": {
    "scrolled": true
   },
   "outputs": [],
   "source": [
    "from keras.layers import Input, Embedding, Concatenate, Reshape, Lambda, GlobalMaxPooling1D, BatchNormalization\n",
    "from keras.models import Model\n",
    "from keras.layers.core import Dense, Activation, Dropout, RepeatVector\n",
    "from keras.callbacks import ModelCheckpoint, ReduceLROnPlateau, EarlyStopping\n",
    "from keras.utils import to_categorical\n",
    "from keras.optimizers import Adam\n",
    "from keras.initializers import Constant\n",
    "import keras.backend as K"
   ]
  },
  {
   "cell_type": "code",
   "execution_count": 10,
   "metadata": {},
   "outputs": [],
   "source": [
    "module_path = os.path.abspath(os.path.join('..'))\n",
    "if module_path not in sys.path:\n",
    "    sys.path.append(module_path)\n",
    "from DL_utils import plot_roc\n",
    "from keras_addon import AUCCheckPoint\n",
    "from utils import Mat_reg, preprocess\n",
    "from setsum_layer import SetSum, MaskedSum, MaskedDense, MaskedPooling"
   ]
  },
  {
   "cell_type": "code",
   "execution_count": 6,
   "metadata": {},
   "outputs": [],
   "source": [
    "from ccs_tools import dx_multi, pr_multi, core_dtypes_pd"
   ]
  },
  {
   "cell_type": "markdown",
   "metadata": {},
   "source": [
    "## Data Preparation"
   ]
  },
  {
   "cell_type": "code",
   "execution_count": 85,
   "metadata": {},
   "outputs": [],
   "source": [
    "cohort = 'ami'\n",
    "tst_seed = 0"
   ]
  },
  {
   "cell_type": "code",
   "execution_count": 86,
   "metadata": {},
   "outputs": [],
   "source": [
    "all_df = pd.read_csv(path+'cohorts30/{}/pred_comorb.csv'.format(cohort), dtype=core_dtypes_pd)"
   ]
  },
  {
   "cell_type": "markdown",
   "metadata": {},
   "source": [
    "Define the dictionaries for DX, DX1 and hosp, from value to int. Seperating DX1:"
   ]
  },
  {
   "cell_type": "code",
   "execution_count": 87,
   "metadata": {},
   "outputs": [],
   "source": [
    "DX_cat = ['missing'] + sorted(dx_multi.ICD9CM_CODE)\n",
    "PR_cat = ['missing'] + sorted(pr_multi.ICD9CM_CODE)\n",
    "n_DX_cat = len(DX_cat)\n",
    "n_PR_cat = len(PR_cat)\n",
    "unclassified = set(dx_multi.loc[dx_multi.CCS_LVL1 == '18', 'ICD9CM_CODE'])\n",
    "dx_ccs_cat = pd.concat([dx_multi.CCS_LVL1, dx_multi.CCS_LVL2, dx_multi.CCS_LVL3, dx_multi.CCS_LVL4]).astype('category').cat.categories\n",
    "pr_ccs_cat = pd.concat([pr_multi.CCS_LVL1, pr_multi.CCS_LVL2, pr_multi.CCS_LVL3]).astype('category').cat.categories\n",
    "\n",
    "DX1_dict = dict(zip(DX_cat, range(len(DX_cat))))\n",
    "DX_dict = dict(zip(DX_cat, [0] + list(range(len(DX_cat), len(DX_cat)*2))))\n",
    "PR_dict = dict(zip(PR_cat, [0] + list(range(len(DX_cat)*2-1, len(DX_cat)*2+len(PR_cat)-1))))\n",
    "code_cat = ['missing']+sorted(dx_multi.ICD9CM_CODE)*2+sorted(pr_multi.ICD9CM_CODE)+sorted(dx_ccs_cat)[1:]*2+sorted(pr_ccs_cat)[1:]\n",
    "n_code_cat = len(code_cat)    \n",
    "dx1_ccs_dict = dict(zip(dx_ccs_cat[1:], range(1+len(dx_multi)*2+len(pr_multi), len(dx_multi)*2+len(pr_multi)+len(dx_ccs_cat))))\n",
    "dx_ccs_dict = dict(zip(dx_ccs_cat[1:], range(1+len(dx_multi)*2+len(pr_multi)+len(dx_ccs_cat[1:]), \n",
    "                                             1+len(dx_multi)*2+len(pr_multi)+len(dx_ccs_cat[1:])*2)))\n",
    "pr_ccs_dict = dict(zip(pr_ccs_cat[1:], range(1+len(dx_multi)*2+len(pr_multi)+len(dx_ccs_cat[1:])*2, n_code_cat)))\n",
    "\n",
    "\n",
    "hosp_series = all_df['HOSP_NRD'].astype('category')\n",
    "hosp_cat = hosp_series.cat.categories\n",
    "hosp_dict = dict(zip(hosp_cat, range(len(hosp_cat))))"
   ]
  },
  {
   "cell_type": "markdown",
   "metadata": {},
   "source": [
    "### Data Formatting"
   ]
  },
  {
   "cell_type": "code",
   "execution_count": 88,
   "metadata": {},
   "outputs": [],
   "source": [
    "n_DX = 29\n",
    "n_PR = 15\n",
    "DXs = ['DX'+str(j) for j in range(2, n_DX+2)]\n",
    "PRs = ['PR'+str(j) for j in range(1, n_PR+1)]"
   ]
  },
  {
   "cell_type": "code",
   "execution_count": 89,
   "metadata": {},
   "outputs": [],
   "source": [
    "tst_key = pd.read_csv(path+'cohorts30/{}/tst_key{}.csv'.format(cohort, tst_seed), names = ['KEY_NRD'])\n",
    "tst_df = all_df.loc[all_df.KEY_NRD.isin(tst_key.KEY_NRD)]\n",
    "train_df0 = all_df.loc[~all_df.KEY_NRD.isin(tst_key.KEY_NRD)].reset_index()"
   ]
  },
  {
   "cell_type": "code",
   "execution_count": 90,
   "metadata": {},
   "outputs": [],
   "source": [
    "age_mean = train_df0['AGE'].mean()\n",
    "age_std = train_df0['AGE'].std()\n",
    "los_mean = train_df0['LOS'].mean()\n",
    "los_std = train_df0['LOS'].std()\n",
    "n_pay1 = int(train_df0['PAY1'].max())+1\n",
    "n_ed = int(train_df0['HCUP_ED'].max())+1\n",
    "n_zipinc = int(train_df0['ZIPINC_QRTL'].max())+1"
   ]
  },
  {
   "cell_type": "code",
   "execution_count": 150,
   "metadata": {},
   "outputs": [],
   "source": [
    "DX1_array_tst = tst_df.DX1.map(DX1_dict).values\n",
    "DX_df_tst = tst_df[DXs]\n",
    "DX_df_tst = DX_df_tst.fillna('missing')\n",
    "DX_df_tst[DX_df_tst.isin(['invl', 'incn'])] = 'missing'\n",
    "DX_df_tst[DX_df_tst.isin(unclassified)] = 'missing'\n",
    "for dx in DXs:\n",
    "    DX_df_tst[dx] = DX_df_tst[dx].map(DX_dict)\n",
    "DX_mat_tst = DX_df_tst.values\n",
    "PR_df_tst = tst_df[PRs]\n",
    "PR_df_tst = PR_df_tst.fillna('missing')\n",
    "PR_df_tst[PR_df_tst.isin(['invl', 'incn'])] = 'missing'\n",
    "for pr in PRs:\n",
    "    PR_df_tst[pr] = PR_df_tst[pr].map(PR_dict)\n",
    "PR_mat_tst = PR_df_tst.values\n",
    "demo_mat_tst = tst_df[['AGE', 'FEMALE']].values\n",
    "demo_mat_tst[:, 0] = (demo_mat_tst[:, 0]-age_mean)/age_std\n",
    "hosp_array_tst = tst_df['HOSP_NRD'].map(hosp_dict).values\n",
    "hosp_ohe_tst = np.zeros((len(tst_df), len(hosp_cat)))\n",
    "for j in range(hosp_ohe_tst.shape[0]):\n",
    "    for i in range(hosp_ohe_tst.shape[1]):\n",
    "        hosp_ohe_tst[j, hosp_array_tst[i]] = 1.\n",
    "pay1_mat_tst = to_categorical(tst_df.PAY1.values, num_classes=n_pay1)[:, 1:]\n",
    "los_array_tst = (tst_df.LOS.values - los_mean)/los_std\n",
    "ed_mat_tst = to_categorical(tst_df.HCUP_ED.values, num_classes=n_ed)\n",
    "zipinc_mat_tst = to_categorical(tst_df.ZIPINC_QRTL.values, num_classes=n_zipinc)[:, 1:]\n",
    "#transfer_mat_tst = to_categorical(tst_df.SAMEDAYEVENT.values)\n",
    "other_mat_tst = np.concatenate((demo_mat_tst, pay1_mat_tst, los_array_tst.reshape(los_array_tst.shape+(1,)), \n",
    "                                ed_mat_tst, zipinc_mat_tst), axis=1)\n",
    "y_true = tst_df.readm30.astype(int).values"
   ]
  },
  {
   "cell_type": "code",
   "execution_count": 92,
   "metadata": {},
   "outputs": [],
   "source": [
    "n_fold = 5"
   ]
  },
  {
   "cell_type": "code",
   "execution_count": 93,
   "metadata": {},
   "outputs": [],
   "source": [
    "skf = StratifiedKFold(n_splits=n_fold, random_state=24, shuffle=True)\n",
    "trn_idx, val_idx = next(skf.split(train_df0, train_df0.HOSP_NRD))\n",
    "trn_df = train_df0.loc[trn_idx]\n",
    "val_df = train_df0.loc[val_idx]\n",
    "N_trn = len(trn_df)\n",
    "train_df = pd.concat([trn_df, val_df])"
   ]
  },
  {
   "cell_type": "code",
   "execution_count": 149,
   "metadata": {},
   "outputs": [],
   "source": [
    "DX1_series = train_df['DX1'].map(DX1_dict)\n",
    "DX1_array = DX1_series.values\n",
    "DX1_array_trn = DX1_array[:N_trn]\n",
    "DX1_array_val = DX1_array[N_trn:]\n",
    "    \n",
    "DX_df = train_df[DXs]\n",
    "DX_df = DX_df.fillna('missing')\n",
    "DX_df[DX_df.isin(['invl', 'incn'])] = 'missing'\n",
    "DX_df[DX_df.isin(unclassified)] = 'missing'\n",
    "for dx in DXs:\n",
    "    DX_df[dx] = DX_df[dx].map(DX_dict)\n",
    "DX_mat = DX_df.values\n",
    "DX_mat_trn = DX_mat[:N_trn, ]\n",
    "DX_mat_val = DX_mat[N_trn:, ]\n",
    "    \n",
    "PR_df = train_df[PRs]\n",
    "PR_df = PR_df.fillna('missing')\n",
    "PR_df[PR_df.isin(['invl', 'incn'])] = 'missing'\n",
    "for pr in PRs:\n",
    "    PR_df[pr] = PR_df[pr].map(PR_dict)\n",
    "PR_mat = PR_df.values\n",
    "PR_mat_trn = PR_mat[:N_trn, ]\n",
    "PR_mat_val = PR_mat[N_trn:, ]\n",
    "    \n",
    "hosp_series = train_df['HOSP_NRD'].map(hosp_dict)\n",
    "hosp_array = hosp_series.values\n",
    "hosp_array_trn = hosp_array[:N_trn]\n",
    "hosp_array_val = hosp_array[N_trn:]\n",
    "hosp_ohe = np.zeros((len(train_df), len(hosp_cat)))\n",
    "for j in range(hosp_ohe.shape[0]):\n",
    "    for i in range(hosp_ohe.shape[1]):\n",
    "        hosp_ohe[j, hosp_array[i]] = 1.\n",
    "hosp_ohe_trn = hosp_ohe[:N_trn, :]\n",
    "hosp_ohe_val = hosp_ohe[N_trn:, :]\n",
    "\n",
    "demo_mat = train_df[['AGE', 'FEMALE']].values\n",
    "demo_mat[:, 0] = (demo_mat[:, 0]-age_mean)/age_std\n",
    "pay1_mat = to_categorical(train_df.PAY1.values, num_classes=n_pay1)[:, 1:]\n",
    "los_array = train_df.LOS.values\n",
    "los_array = (los_array - los_mean)/los_std\n",
    "ed_mat = to_categorical(train_df.HCUP_ED.values, num_classes=n_ed)\n",
    "zipinc_mat = to_categorical(train_df.ZIPINC_QRTL.values, num_classes=n_zipinc)[:, 1:]\n",
    "other_mat = np.concatenate((demo_mat, pay1_mat, los_array.reshape(los_array.shape+(1,)), ed_mat, zipinc_mat), axis=1)\n",
    "other_mat_trn = other_mat[:N_trn, ]\n",
    "other_mat_val = other_mat[N_trn:, ]\n",
    "    \n",
    "y = train_df['readm30'].values.astype(int)\n",
    "y_trn = y[:N_trn]\n",
    "y_val = y[N_trn:]\n",
    "Y_trn = to_categorical(y_trn)\n",
    "Y_val = to_categorical(y_val)"
   ]
  },
  {
   "cell_type": "markdown",
   "metadata": {},
   "source": [
    "## Model Building"
   ]
  },
  {
   "cell_type": "code",
   "execution_count": 95,
   "metadata": {},
   "outputs": [],
   "source": [
    "from setsum_layer import SetSum, MaskedSum, MaskedDense"
   ]
  },
  {
   "cell_type": "code",
   "execution_count": 232,
   "metadata": {},
   "outputs": [],
   "source": [
    "code_embed_dim = 200\n",
    "hosp_embed_dim = 1\n",
    "fc_width = 64\n",
    "md_width = 128\n",
    "rho_width = 32\n",
    "penalty = 0.\n",
    "count_cap = 20"
   ]
  },
  {
   "cell_type": "code",
   "execution_count": 97,
   "metadata": {},
   "outputs": [],
   "source": [
    "embed_glove = np.load(path+'all/sepdx1/test_embed/cosine/embed_mat_{0}_{1:.3f}_{2}_{3}{4}.npy'.format(code_embed_dim, penalty, count_cap, cohort, \n",
    "                                                                                    tst_seed))\n",
    "embed_initializer = Constant(embed_glove)"
   ]
  },
  {
   "cell_type": "code",
   "execution_count": 75,
   "metadata": {},
   "outputs": [],
   "source": [
    "embed_initializer = 'uniform'"
   ]
  },
  {
   "cell_type": "code",
   "execution_count": 98,
   "metadata": {
    "scrolled": true
   },
   "outputs": [
    {
     "data": {
      "text/plain": [
       "(35952, 200)"
      ]
     },
     "execution_count": 98,
     "metadata": {},
     "output_type": "execute_result"
    }
   ],
   "source": [
    "embed_glove.shape"
   ]
  },
  {
   "cell_type": "code",
   "execution_count": 36,
   "metadata": {},
   "outputs": [
    {
     "data": {
      "text/plain": [
       "35952"
      ]
     },
     "execution_count": 36,
     "metadata": {},
     "output_type": "execute_result"
    }
   ],
   "source": [
    "n_code_cat"
   ]
  },
  {
   "cell_type": "code",
   "execution_count": 112,
   "metadata": {},
   "outputs": [],
   "source": [
    "input_DX1 = Input(shape=(1,))\n",
    "DX1_embed = Embedding(input_dim=n_code_cat, output_dim=code_embed_dim, embeddings_initializer=embed_initializer, \n",
    "                     name='DX1_embed')(input_DX1)\n",
    "DX1_embed = Reshape((code_embed_dim,))(DX1_embed)\n",
    "\n",
    "input_DX = Input(shape = (n_DX,))\n",
    "DX_embed = Embedding(input_dim=n_code_cat, output_dim=code_embed_dim, mask_zero=True, embeddings_initializer=embed_initializer, \n",
    "                     name='DX_embed')(input_DX)\n",
    "DX_feature = MaskedDense(md_width, activation='relu')(DX_embed)\n",
    "DX_feature = MaskedSum()(DX_feature)\n",
    "\n",
    "input_PR = Input(shape = (n_PR,))\n",
    "PR_embed = Embedding(input_dim=n_code_cat, output_dim=code_embed_dim, mask_zero=True, embeddings_initializer=embed_initializer,\n",
    "                     name='PR_embed')(input_PR)\n",
    "PR_feature = MaskedDense(md_width, activation='relu')(PR_embed)\n",
    "PR_feature = MaskedSum()(PR_feature)\n",
    "\n",
    "input_hosp = Input(shape=(1,))\n",
    "hosp_embed = Embedding(input_dim=len(hosp_cat), output_dim=hosp_embed_dim, input_length=1)(input_hosp)\n",
    "hosp_embed = Reshape((hosp_embed_dim, ))(hosp_embed)\n",
    "\n",
    "input_other = Input(shape=(other_mat.shape[1], ))\n",
    "\n",
    "merged = Concatenate(axis=1)([DX1_embed, DX_feature, PR_feature, hosp_embed, input_other])\n",
    "\n",
    "x = Dense(fc_width, activation='relu')(merged)\n",
    "x = Dropout(0.3)(x)\n",
    "\n",
    "prediction = Dense(2, activation='softmax')(x)\n",
    "model = Model(inputs=[input_DX1, input_DX, input_PR, input_hosp, input_other], outputs=prediction)"
   ]
  },
  {
   "cell_type": "code",
   "execution_count": 256,
   "metadata": {},
   "outputs": [],
   "source": [
    "input_DX1 = Input(shape=(1,))\n",
    "DX1_embed = Embedding(input_dim=n_code_cat, output_dim=code_embed_dim, embeddings_initializer=embed_initializer, \n",
    "                     name='DX1_embed')(input_DX1)\n",
    "DX1_embed = Reshape((code_embed_dim,))(DX1_embed)\n",
    "DX1_embed = Dense(rho_width, activation='relu')(DX1_embed)\n",
    "input_DX = Input(shape = (n_DX,))\n",
    "DX_embed = Embedding(input_dim=n_code_cat, output_dim=code_embed_dim, mask_zero=True, embeddings_initializer=embed_initializer, \n",
    "                     name='DX_embed')(input_DX)\n",
    "#DX_feature = MaskedDense(md_width, activation='relu')(DX_embed)\n",
    "DX_feature = Dense(md_width, activation='relu')(DX_embed)\n",
    "#DX_feature = BatchNormalization()(DX_feature)\n",
    "#DX_feature = Activation('relu')(DX_feature)\n",
    "#DX_feature = MaskedSum()(DX_feature)\n",
    "DX_feature = Lambda(lambda x:K.sum(x, axis=1))(DX_feature)\n",
    "#DX_feature = Dense(rho_width, activation='relu')(DX_feature)\n",
    "input_PR = Input(shape = (n_PR,))\n",
    "PR_embed = Embedding(input_dim=n_code_cat, output_dim=code_embed_dim, mask_zero=True, embeddings_initializer=embed_initializer,\n",
    "                     name='PR_embed')(input_PR)\n",
    "#PR_feature = MaskedDense(md_width, activation='relu')(PR_embed)\n",
    "PR_feature = Dense(md_width, activation='relu')(PR_embed)\n",
    "#PR_feature = BatchNormalization()(PR_feature)\n",
    "#PR_feature = Activation('relu')(PR_feature)\n",
    "#PR_feature = MaskedSum()(PR_feature)\n",
    "PR_feature = Lambda(lambda x:K.sum(x, axis=1))(PR_feature)\n",
    "#PR_feature = Dense(rho_width, activation='relu')(PR_feature)\n",
    "input_hosp = Input(shape=(len(hosp_cat),))\n",
    "input_other = Input(shape=(other_mat.shape[1], ))\n",
    "merged = Concatenate(axis=1)([DX1_embed, DX_feature, PR_feature, input_other])\n",
    "\n",
    "x = Dense(fc_width, activation='relu')(merged)\n",
    "x = Concatenate(axis=1)([x, input_hosp])\n",
    "\n",
    "prediction = Dense(2, activation='softmax')(x)\n",
    "model = Model(inputs=[input_DX1, input_DX, input_PR, input_hosp, input_other], outputs=prediction)"
   ]
  },
  {
   "cell_type": "code",
   "execution_count": 257,
   "metadata": {
    "scrolled": true
   },
   "outputs": [],
   "source": [
    "for l in model.layers:\n",
    "    if l.name=='DX_embed' or l.name=='PR_embed' or l.name=='DX1_embed':\n",
    "        l.trainable = False"
   ]
  },
  {
   "cell_type": "code",
   "execution_count": 124,
   "metadata": {
    "scrolled": true
   },
   "outputs": [],
   "source": [
    "for l in model.layers:\n",
    "    if l.name=='DX_embed' or l.name=='PR_embed' or l.name=='DX1_embed':\n",
    "        l.trainable = True"
   ]
  },
  {
   "cell_type": "code",
   "execution_count": 258,
   "metadata": {},
   "outputs": [],
   "source": [
    "adam = Adam(lr=0.0002)\n",
    "model.compile(optimizer=adam, loss='categorical_crossentropy')"
   ]
  },
  {
   "cell_type": "code",
   "execution_count": 125,
   "metadata": {},
   "outputs": [],
   "source": [
    "adam = Adam(lr=0.00002)\n",
    "model.compile(optimizer=adam, loss='categorical_crossentropy')"
   ]
  },
  {
   "cell_type": "code",
   "execution_count": 144,
   "metadata": {},
   "outputs": [],
   "source": [
    "#checkpoint = ModelCheckpoint(filepath=model_path+'ami_glove_valloss1.h5', save_best_only=True, save_weights_only=True)\n",
    "auccheckpoint = AUCCheckPoint(filepath=model_path+'ami_glove_auc1.h5', validation_y=Y_val, \n",
    "                             validation_x=[DX1_array_val, DX_mat_val, PR_mat_val, hosp_array_val, other_mat_val])\n",
    "reduce_lr = ReduceLROnPlateau(monitor='val_loss', factor=0.2, patience=10, min_lr=K.epsilon())\n",
    "earlystop = EarlyStopping(monitor='val_loss', patience=20)"
   ]
  },
  {
   "cell_type": "code",
   "execution_count": 145,
   "metadata": {},
   "outputs": [],
   "source": [
    "class_weight = {0:(Y_trn.shape[0]/sum(Y_trn[:, 0])), 1:(Y_trn.shape[0]/sum(Y_trn[:, 1]))}"
   ]
  },
  {
   "cell_type": "code",
   "execution_count": 146,
   "metadata": {
    "collapsed": true
   },
   "outputs": [
    {
     "ename": "ValueError",
     "evalue": "Error when checking input: expected input_29 to have shape (874,) but got array with shape (1,)",
     "output_type": "error",
     "traceback": [
      "\u001b[0;31m---------------------------------------------------------------------------\u001b[0m",
      "\u001b[0;31mValueError\u001b[0m                                Traceback (most recent call last)",
      "\u001b[0;32m<ipython-input-146-2e8d71dff5a2>\u001b[0m in \u001b[0;36m<module>\u001b[0;34m()\u001b[0m\n\u001b[1;32m      2\u001b[0m                  \u001b[0mbatch_size\u001b[0m\u001b[0;34m=\u001b[0m\u001b[0;36m512\u001b[0m\u001b[0;34m,\u001b[0m \u001b[0mepochs\u001b[0m\u001b[0;34m=\u001b[0m\u001b[0;36m15\u001b[0m\u001b[0;34m,\u001b[0m \u001b[0mcallbacks\u001b[0m\u001b[0;34m=\u001b[0m\u001b[0;34m[\u001b[0m\u001b[0mcheckpoint\u001b[0m\u001b[0;34m,\u001b[0m \u001b[0mauccheckpoint\u001b[0m\u001b[0;34m,\u001b[0m \u001b[0mreduce_lr\u001b[0m\u001b[0;34m]\u001b[0m\u001b[0;34m,\u001b[0m \u001b[0mclass_weight\u001b[0m\u001b[0;34m=\u001b[0m\u001b[0mclass_weight\u001b[0m\u001b[0;34m,\u001b[0m\u001b[0;34m\u001b[0m\u001b[0m\n\u001b[1;32m      3\u001b[0m                  \u001b[0mvalidation_data\u001b[0m\u001b[0;34m=\u001b[0m\u001b[0;34m[\u001b[0m\u001b[0;34m[\u001b[0m\u001b[0mDX1_array_val\u001b[0m\u001b[0;34m,\u001b[0m \u001b[0mDX_mat_val\u001b[0m\u001b[0;34m,\u001b[0m \u001b[0mPR_mat_val\u001b[0m\u001b[0;34m,\u001b[0m \u001b[0mhosp_array_val\u001b[0m\u001b[0;34m,\u001b[0m \u001b[0mother_mat_val\u001b[0m\u001b[0;34m]\u001b[0m\u001b[0;34m,\u001b[0m \u001b[0mY_val\u001b[0m\u001b[0;34m]\u001b[0m\u001b[0;34m,\u001b[0m\u001b[0;34m\u001b[0m\u001b[0m\n\u001b[0;32m----> 4\u001b[0;31m                 verbose=1)\n\u001b[0m",
      "\u001b[0;32m/sw/lsa/centos7/python-anaconda-arc-connect/created-20170421/lib/python3.5/site-packages/keras/engine/training.py\u001b[0m in \u001b[0;36mfit\u001b[0;34m(self, x, y, batch_size, epochs, verbose, callbacks, validation_split, validation_data, shuffle, class_weight, sample_weight, initial_epoch, steps_per_epoch, validation_steps, **kwargs)\u001b[0m\n\u001b[1;32m    948\u001b[0m             \u001b[0msample_weight\u001b[0m\u001b[0;34m=\u001b[0m\u001b[0msample_weight\u001b[0m\u001b[0;34m,\u001b[0m\u001b[0;34m\u001b[0m\u001b[0m\n\u001b[1;32m    949\u001b[0m             \u001b[0mclass_weight\u001b[0m\u001b[0;34m=\u001b[0m\u001b[0mclass_weight\u001b[0m\u001b[0;34m,\u001b[0m\u001b[0;34m\u001b[0m\u001b[0m\n\u001b[0;32m--> 950\u001b[0;31m             batch_size=batch_size)\n\u001b[0m\u001b[1;32m    951\u001b[0m         \u001b[0;31m# Prepare validation data.\u001b[0m\u001b[0;34m\u001b[0m\u001b[0;34m\u001b[0m\u001b[0m\n\u001b[1;32m    952\u001b[0m         \u001b[0mdo_validation\u001b[0m \u001b[0;34m=\u001b[0m \u001b[0;32mFalse\u001b[0m\u001b[0;34m\u001b[0m\u001b[0m\n",
      "\u001b[0;32m/sw/lsa/centos7/python-anaconda-arc-connect/created-20170421/lib/python3.5/site-packages/keras/engine/training.py\u001b[0m in \u001b[0;36m_standardize_user_data\u001b[0;34m(self, x, y, sample_weight, class_weight, check_array_lengths, batch_size)\u001b[0m\n\u001b[1;32m    747\u001b[0m             \u001b[0mfeed_input_shapes\u001b[0m\u001b[0;34m,\u001b[0m\u001b[0;34m\u001b[0m\u001b[0m\n\u001b[1;32m    748\u001b[0m             \u001b[0mcheck_batch_axis\u001b[0m\u001b[0;34m=\u001b[0m\u001b[0;32mFalse\u001b[0m\u001b[0;34m,\u001b[0m  \u001b[0;31m# Don't enforce the batch size.\u001b[0m\u001b[0;34m\u001b[0m\u001b[0m\n\u001b[0;32m--> 749\u001b[0;31m             exception_prefix='input')\n\u001b[0m\u001b[1;32m    750\u001b[0m \u001b[0;34m\u001b[0m\u001b[0m\n\u001b[1;32m    751\u001b[0m         \u001b[0;32mif\u001b[0m \u001b[0my\u001b[0m \u001b[0;32mis\u001b[0m \u001b[0;32mnot\u001b[0m \u001b[0;32mNone\u001b[0m\u001b[0;34m:\u001b[0m\u001b[0;34m\u001b[0m\u001b[0m\n",
      "\u001b[0;32m/sw/lsa/centos7/python-anaconda-arc-connect/created-20170421/lib/python3.5/site-packages/keras/engine/training_utils.py\u001b[0m in \u001b[0;36mstandardize_input_data\u001b[0;34m(data, names, shapes, check_batch_axis, exception_prefix)\u001b[0m\n\u001b[1;32m    135\u001b[0m                             \u001b[0;34m': expected '\u001b[0m \u001b[0;34m+\u001b[0m \u001b[0mnames\u001b[0m\u001b[0;34m[\u001b[0m\u001b[0mi\u001b[0m\u001b[0;34m]\u001b[0m \u001b[0;34m+\u001b[0m \u001b[0;34m' to have shape '\u001b[0m \u001b[0;34m+\u001b[0m\u001b[0;34m\u001b[0m\u001b[0m\n\u001b[1;32m    136\u001b[0m                             \u001b[0mstr\u001b[0m\u001b[0;34m(\u001b[0m\u001b[0mshape\u001b[0m\u001b[0;34m)\u001b[0m \u001b[0;34m+\u001b[0m \u001b[0;34m' but got array with shape '\u001b[0m \u001b[0;34m+\u001b[0m\u001b[0;34m\u001b[0m\u001b[0m\n\u001b[0;32m--> 137\u001b[0;31m                             str(data_shape))\n\u001b[0m\u001b[1;32m    138\u001b[0m     \u001b[0;32mreturn\u001b[0m \u001b[0mdata\u001b[0m\u001b[0;34m\u001b[0m\u001b[0m\n\u001b[1;32m    139\u001b[0m \u001b[0;34m\u001b[0m\u001b[0m\n",
      "\u001b[0;31mValueError\u001b[0m: Error when checking input: expected input_29 to have shape (874,) but got array with shape (1,)"
     ]
    }
   ],
   "source": [
    "hist = model.fit([DX1_array_trn, DX_mat_trn, PR_mat_trn, hosp_array_trn, other_mat_trn], Y_trn, \n",
    "                 batch_size=512, epochs=15, callbacks=[checkpoint, auccheckpoint, reduce_lr], class_weight=class_weight, \n",
    "                 validation_data=[[DX1_array_val, DX_mat_val, PR_mat_val, hosp_array_val, other_mat_val], Y_val], \n",
    "                verbose=1)"
   ]
  },
  {
   "cell_type": "code",
   "execution_count": 259,
   "metadata": {},
   "outputs": [],
   "source": [
    "#checkpoint = ModelCheckpoint(filepath=model_path+'ami_glove_valloss1.h5', save_best_only=True, save_weights_only=True)\n",
    "auccheckpoint = AUCCheckPoint(filepath=model_path+'ami_glove_auc1.h5', validation_y=Y_val, \n",
    "                             validation_x=[DX1_array_val, DX_mat_val, PR_mat_val, hosp_ohe_val, other_mat_val])\n",
    "reduce_lr = ReduceLROnPlateau(monitor='val_loss', factor=0.2, patience=10, min_lr=K.epsilon())\n",
    "earlystop = EarlyStopping(monitor='val_loss', patience=20)"
   ]
  },
  {
   "cell_type": "code",
   "execution_count": 260,
   "metadata": {
    "scrolled": true
   },
   "outputs": [
    {
     "name": "stdout",
     "output_type": "stream",
     "text": [
      "Train on 131070 samples, validate on 33210 samples\n",
      "Epoch 1/20\n",
      "131070/131070 [==============================] - 4s 34us/step - loss: 1.2789 - val_loss: 0.5048\n",
      "AUC: 0.7118\n",
      "\n",
      "Epoch 2/20\n",
      "131070/131070 [==============================] - 3s 22us/step - loss: 1.2489 - val_loss: 0.6306\n",
      "AUC: 0.7171\n",
      "\n",
      "Epoch 3/20\n",
      "131070/131070 [==============================] - 3s 22us/step - loss: 1.2401 - val_loss: 0.6452\n",
      "AUC: 0.7194\n",
      "\n",
      "Epoch 4/20\n",
      "131070/131070 [==============================] - 3s 22us/step - loss: 1.2360 - val_loss: 0.6175\n",
      "AUC: 0.7191\n",
      "\n",
      "Epoch 5/20\n",
      "131070/131070 [==============================] - 3s 22us/step - loss: 1.2325 - val_loss: 0.6090\n",
      "AUC: 0.7198\n",
      "\n",
      "Epoch 6/20\n",
      "131070/131070 [==============================] - 3s 22us/step - loss: 1.2303 - val_loss: 0.5510\n",
      "AUC: 0.7219\n",
      "\n",
      "Epoch 7/20\n",
      "131070/131070 [==============================] - 3s 23us/step - loss: 1.2285 - val_loss: 0.5706\n",
      "AUC: 0.7215\n",
      "\n",
      "Epoch 8/20\n",
      "131070/131070 [==============================] - 3s 23us/step - loss: 1.2246 - val_loss: 0.6036\n",
      "AUC: 0.7219\n",
      "\n",
      "Epoch 9/20\n",
      "131070/131070 [==============================] - 3s 22us/step - loss: 1.2246 - val_loss: 0.5619\n",
      "AUC: 0.7216\n",
      "\n",
      "Epoch 10/20\n",
      "131070/131070 [==============================] - 3s 22us/step - loss: 1.2209 - val_loss: 0.5992\n",
      "AUC: 0.7218\n",
      "\n",
      "Epoch 11/20\n",
      "131070/131070 [==============================] - 3s 22us/step - loss: 1.2185 - val_loss: 0.6031\n",
      "AUC: 0.7220\n",
      "\n",
      "Epoch 12/20\n",
      "131070/131070 [==============================] - 3s 22us/step - loss: 1.2118 - val_loss: 0.6280\n",
      "AUC: 0.7221\n",
      "\n",
      "Epoch 13/20\n",
      "131070/131070 [==============================] - 3s 22us/step - loss: 1.2100 - val_loss: 0.5849\n",
      "AUC: 0.7219\n",
      "\n",
      "Epoch 14/20\n",
      "131070/131070 [==============================] - 3s 22us/step - loss: 1.2096 - val_loss: 0.6340\n",
      "AUC: 0.7220\n",
      "\n",
      "Epoch 15/20\n",
      "131070/131070 [==============================] - 3s 22us/step - loss: 1.2089 - val_loss: 0.6054\n",
      "AUC: 0.7220\n",
      "\n",
      "Epoch 16/20\n",
      "131070/131070 [==============================] - 3s 22us/step - loss: 1.2089 - val_loss: 0.6210\n",
      "AUC: 0.7220\n",
      "\n",
      "Epoch 17/20\n",
      "131070/131070 [==============================] - 3s 22us/step - loss: 1.2083 - val_loss: 0.6131\n",
      "AUC: 0.7214\n",
      "\n",
      "Epoch 18/20\n",
      "131070/131070 [==============================] - 3s 22us/step - loss: 1.2073 - val_loss: 0.6276\n",
      "AUC: 0.7214\n",
      "\n",
      "Epoch 19/20\n",
      "131070/131070 [==============================] - 3s 22us/step - loss: 1.2067 - val_loss: 0.6088\n",
      "AUC: 0.7214\n",
      "\n",
      "Epoch 20/20\n",
      "131070/131070 [==============================] - 3s 22us/step - loss: 1.2061 - val_loss: 0.6202\n",
      "AUC: 0.7209\n",
      "\n"
     ]
    }
   ],
   "source": [
    "hist = model.fit([DX1_array_trn, DX_mat_trn, PR_mat_trn, hosp_ohe_trn, other_mat_trn], Y_trn, \n",
    "                 batch_size=512, epochs=20, callbacks=[checkpoint, auccheckpoint, reduce_lr], class_weight=class_weight, \n",
    "                 validation_data=[[DX1_array_val, DX_mat_val, PR_mat_val, hosp_ohe_val, other_mat_val], Y_val], \n",
    "                verbose=1)"
   ]
  },
  {
   "cell_type": "code",
   "execution_count": 52,
   "metadata": {
    "collapsed": true
   },
   "outputs": [
    {
     "data": {
      "text/plain": [
       "[<matplotlib.lines.Line2D at 0x2b70cd93b128>]"
      ]
     },
     "execution_count": 52,
     "metadata": {},
     "output_type": "execute_result"
    },
    {
     "data": {
      "image/png": "[encoded data removed]",
      "text/plain": [
       "<Figure size 432x288 with 1 Axes>"
      ]
     },
     "metadata": {},
     "output_type": "display_data"
    }
   ],
   "source": [
    "plt.plot(hist.history['val_loss'])"
   ]
  },
  {
   "cell_type": "code",
   "execution_count": 67,
   "metadata": {
    "collapsed": true
   },
   "outputs": [
    {
     "data": {
      "text/plain": [
       "[<matplotlib.lines.Line2D at 0x2b70fe323898>]"
      ]
     },
     "execution_count": 67,
     "metadata": {},
     "output_type": "execute_result"
    },
    {
     "data": {
      "image/png": "[encoded data removed]",
      "text/plain": [
       "<Figure size 432x288 with 1 Axes>"
      ]
     },
     "metadata": {},
     "output_type": "display_data"
    }
   ],
   "source": [
    "plt.plot(hist.history['lr'])"
   ]
  },
  {
   "cell_type": "code",
   "execution_count": 68,
   "metadata": {
    "collapsed": true
   },
   "outputs": [
    {
     "data": {
      "text/plain": [
       "[<matplotlib.lines.Line2D at 0x2b710c98ee10>]"
      ]
     },
     "execution_count": 68,
     "metadata": {},
     "output_type": "execute_result"
    },
    {
     "data": {
      "image/png": "[encoded data removed]",
      "text/plain": [
       "<Figure size 432x288 with 1 Axes>"
      ]
     },
     "metadata": {},
     "output_type": "display_data"
    }
   ],
   "source": [
    "plt.plot(auccheckpoint.auc_history)"
   ]
  },
  {
   "cell_type": "code",
   "execution_count": 261,
   "metadata": {},
   "outputs": [],
   "source": [
    "model.load_weights(model_path+'ami_glove_auc1.h5')"
   ]
  },
  {
   "cell_type": "code",
   "execution_count": 156,
   "metadata": {
    "collapsed": true
   },
   "outputs": [
    {
     "ename": "ValueError",
     "evalue": "Error when checking input: expected input_29 to have shape (874,) but got array with shape (1,)",
     "output_type": "error",
     "traceback": [
      "\u001b[0;31m---------------------------------------------------------------------------\u001b[0m",
      "\u001b[0;31mValueError\u001b[0m                                Traceback (most recent call last)",
      "\u001b[0;32m<ipython-input-156-7607ce59cef5>\u001b[0m in \u001b[0;36m<module>\u001b[0;34m()\u001b[0m\n\u001b[0;32m----> 1\u001b[0;31m \u001b[0my\u001b[0m \u001b[0;34m=\u001b[0m \u001b[0mmodel\u001b[0m\u001b[0;34m.\u001b[0m\u001b[0mpredict\u001b[0m\u001b[0;34m(\u001b[0m\u001b[0;34m[\u001b[0m\u001b[0mDX1_array_tst\u001b[0m\u001b[0;34m,\u001b[0m \u001b[0mDX_mat_tst\u001b[0m\u001b[0;34m,\u001b[0m \u001b[0mPR_mat_tst\u001b[0m\u001b[0;34m,\u001b[0m \u001b[0mhosp_array_tst\u001b[0m\u001b[0;34m,\u001b[0m \u001b[0mother_mat_tst\u001b[0m\u001b[0;34m]\u001b[0m\u001b[0;34m,\u001b[0m \u001b[0mverbose\u001b[0m\u001b[0;34m=\u001b[0m\u001b[0;36m1\u001b[0m\u001b[0;34m)\u001b[0m\u001b[0;34m\u001b[0m\u001b[0m\n\u001b[0m\u001b[1;32m      2\u001b[0m \u001b[0;34m\u001b[0m\u001b[0m\n\u001b[1;32m      3\u001b[0m \u001b[0my_pred\u001b[0m \u001b[0;34m=\u001b[0m \u001b[0my\u001b[0m\u001b[0;34m[\u001b[0m\u001b[0;34m:\u001b[0m\u001b[0;34m,\u001b[0m \u001b[0;36m1\u001b[0m\u001b[0;34m]\u001b[0m\u001b[0;34m\u001b[0m\u001b[0m\n\u001b[1;32m      4\u001b[0m \u001b[0my_true\u001b[0m \u001b[0;34m=\u001b[0m \u001b[0mtst_df\u001b[0m\u001b[0;34m.\u001b[0m\u001b[0mreadm30\u001b[0m\u001b[0;34m.\u001b[0m\u001b[0mastype\u001b[0m\u001b[0;34m(\u001b[0m\u001b[0mint\u001b[0m\u001b[0;34m)\u001b[0m\u001b[0;34m.\u001b[0m\u001b[0mvalues\u001b[0m\u001b[0;34m\u001b[0m\u001b[0m\n",
      "\u001b[0;32m/sw/lsa/centos7/python-anaconda-arc-connect/created-20170421/lib/python3.5/site-packages/keras/engine/training.py\u001b[0m in \u001b[0;36mpredict\u001b[0;34m(self, x, batch_size, verbose, steps)\u001b[0m\n\u001b[1;32m   1145\u001b[0m                              'argument.')\n\u001b[1;32m   1146\u001b[0m         \u001b[0;31m# Validate user data.\u001b[0m\u001b[0;34m\u001b[0m\u001b[0;34m\u001b[0m\u001b[0m\n\u001b[0;32m-> 1147\u001b[0;31m         \u001b[0mx\u001b[0m\u001b[0;34m,\u001b[0m \u001b[0m_\u001b[0m\u001b[0;34m,\u001b[0m \u001b[0m_\u001b[0m \u001b[0;34m=\u001b[0m \u001b[0mself\u001b[0m\u001b[0;34m.\u001b[0m\u001b[0m_standardize_user_data\u001b[0m\u001b[0;34m(\u001b[0m\u001b[0mx\u001b[0m\u001b[0;34m)\u001b[0m\u001b[0;34m\u001b[0m\u001b[0m\n\u001b[0m\u001b[1;32m   1148\u001b[0m         \u001b[0;32mif\u001b[0m \u001b[0mself\u001b[0m\u001b[0;34m.\u001b[0m\u001b[0mstateful\u001b[0m\u001b[0;34m:\u001b[0m\u001b[0;34m\u001b[0m\u001b[0m\n\u001b[1;32m   1149\u001b[0m             \u001b[0;32mif\u001b[0m \u001b[0mx\u001b[0m\u001b[0;34m[\u001b[0m\u001b[0;36m0\u001b[0m\u001b[0;34m]\u001b[0m\u001b[0;34m.\u001b[0m\u001b[0mshape\u001b[0m\u001b[0;34m[\u001b[0m\u001b[0;36m0\u001b[0m\u001b[0;34m]\u001b[0m \u001b[0;34m>\u001b[0m \u001b[0mbatch_size\u001b[0m \u001b[0;32mand\u001b[0m \u001b[0mx\u001b[0m\u001b[0;34m[\u001b[0m\u001b[0;36m0\u001b[0m\u001b[0;34m]\u001b[0m\u001b[0;34m.\u001b[0m\u001b[0mshape\u001b[0m\u001b[0;34m[\u001b[0m\u001b[0;36m0\u001b[0m\u001b[0;34m]\u001b[0m \u001b[0;34m%\u001b[0m \u001b[0mbatch_size\u001b[0m \u001b[0;34m!=\u001b[0m \u001b[0;36m0\u001b[0m\u001b[0;34m:\u001b[0m\u001b[0;34m\u001b[0m\u001b[0m\n",
      "\u001b[0;32m/sw/lsa/centos7/python-anaconda-arc-connect/created-20170421/lib/python3.5/site-packages/keras/engine/training.py\u001b[0m in \u001b[0;36m_standardize_user_data\u001b[0;34m(self, x, y, sample_weight, class_weight, check_array_lengths, batch_size)\u001b[0m\n\u001b[1;32m    747\u001b[0m             \u001b[0mfeed_input_shapes\u001b[0m\u001b[0;34m,\u001b[0m\u001b[0;34m\u001b[0m\u001b[0m\n\u001b[1;32m    748\u001b[0m             \u001b[0mcheck_batch_axis\u001b[0m\u001b[0;34m=\u001b[0m\u001b[0;32mFalse\u001b[0m\u001b[0;34m,\u001b[0m  \u001b[0;31m# Don't enforce the batch size.\u001b[0m\u001b[0;34m\u001b[0m\u001b[0m\n\u001b[0;32m--> 749\u001b[0;31m             exception_prefix='input')\n\u001b[0m\u001b[1;32m    750\u001b[0m \u001b[0;34m\u001b[0m\u001b[0m\n\u001b[1;32m    751\u001b[0m         \u001b[0;32mif\u001b[0m \u001b[0my\u001b[0m \u001b[0;32mis\u001b[0m \u001b[0;32mnot\u001b[0m \u001b[0;32mNone\u001b[0m\u001b[0;34m:\u001b[0m\u001b[0;34m\u001b[0m\u001b[0m\n",
      "\u001b[0;32m/sw/lsa/centos7/python-anaconda-arc-connect/created-20170421/lib/python3.5/site-packages/keras/engine/training_utils.py\u001b[0m in \u001b[0;36mstandardize_input_data\u001b[0;34m(data, names, shapes, check_batch_axis, exception_prefix)\u001b[0m\n\u001b[1;32m    135\u001b[0m                             \u001b[0;34m': expected '\u001b[0m \u001b[0;34m+\u001b[0m \u001b[0mnames\u001b[0m\u001b[0;34m[\u001b[0m\u001b[0mi\u001b[0m\u001b[0;34m]\u001b[0m \u001b[0;34m+\u001b[0m \u001b[0;34m' to have shape '\u001b[0m \u001b[0;34m+\u001b[0m\u001b[0;34m\u001b[0m\u001b[0m\n\u001b[1;32m    136\u001b[0m                             \u001b[0mstr\u001b[0m\u001b[0;34m(\u001b[0m\u001b[0mshape\u001b[0m\u001b[0;34m)\u001b[0m \u001b[0;34m+\u001b[0m \u001b[0;34m' but got array with shape '\u001b[0m \u001b[0;34m+\u001b[0m\u001b[0;34m\u001b[0m\u001b[0m\n\u001b[0;32m--> 137\u001b[0;31m                             str(data_shape))\n\u001b[0m\u001b[1;32m    138\u001b[0m     \u001b[0;32mreturn\u001b[0m \u001b[0mdata\u001b[0m\u001b[0;34m\u001b[0m\u001b[0m\n\u001b[1;32m    139\u001b[0m \u001b[0;34m\u001b[0m\u001b[0m\n",
      "\u001b[0;31mValueError\u001b[0m: Error when checking input: expected input_29 to have shape (874,) but got array with shape (1,)"
     ]
    }
   ],
   "source": [
    "y = model.predict([DX1_array_tst, DX_mat_tst, PR_mat_tst, hosp_array_tst, other_mat_tst], verbose=1)\n",
    "\n",
    "y_pred = y[:, 1]\n",
    "y_true = tst_df.readm30.astype(int).values"
   ]
  },
  {
   "cell_type": "code",
   "execution_count": 262,
   "metadata": {},
   "outputs": [
    {
     "name": "stdout",
     "output_type": "stream",
     "text": [
      "18689/18689 [==============================] - 1s 59us/step\n"
     ]
    }
   ],
   "source": [
    "y = model.predict([DX1_array_tst, DX_mat_tst, PR_mat_tst, hosp_ohe_tst, other_mat_tst], verbose=1)\n",
    "\n",
    "y_pred = y[:, 1]\n",
    "y_true = tst_df.readm30.astype(int).values"
   ]
  },
  {
   "cell_type": "code",
   "execution_count": 263,
   "metadata": {
    "scrolled": false
   },
   "outputs": [
    {
     "data": {
      "text/plain": [
       "{0: 0.7168705600896075}"
      ]
     },
     "execution_count": 263,
     "metadata": {},
     "output_type": "execute_result"
    },
    {
     "data": {
      "image/png": "[encoded data removed]",
      "text/plain": [
       "<Figure size 432x288 with 1 Axes>"
      ]
     },
     "metadata": {},
     "output_type": "display_data"
    }
   ],
   "source": [
    "plot_roc(y_pred, y_true)"
   ]
  },
  {
   "cell_type": "markdown",
   "metadata": {},
   "source": [
    "## Model Average"
   ]
  },
  {
   "cell_type": "code",
   "execution_count": 7,
   "metadata": {},
   "outputs": [],
   "source": [
    "from sklearn.metrics import roc_curve, auc"
   ]
  },
  {
   "cell_type": "code",
   "execution_count": 8,
   "metadata": {},
   "outputs": [],
   "source": [
    "y_pred_lst = []\n",
    "n_fold = 10\n",
    "for fold_ind in range(n_fold):\n",
    "    y_pred_lst.append(np.load('output/y_pred'+str(fold_ind)+'.npy'))"
   ]
  },
  {
   "cell_type": "code",
   "execution_count": 10,
   "metadata": {},
   "outputs": [],
   "source": [
    "y_true = tst_df.readm30.astype(int).values"
   ]
  },
  {
   "cell_type": "code",
   "execution_count": 11,
   "metadata": {},
   "outputs": [],
   "source": [
    "auc_lst = []\n",
    "\n",
    "for y_pred in y_pred_lst:\n",
    "    fpr, tpr, _ = roc_curve(y_true, y_pred)\n",
    "    roc_auc = auc(fpr, tpr)\n",
    "    auc_lst.append(roc_auc)"
   ]
  },
  {
   "cell_type": "code",
   "execution_count": 12,
   "metadata": {
    "scrolled": true
   },
   "outputs": [
    {
     "data": {
      "text/plain": [
       "(0.712201901320557, 0.7147529128986604, 0.70995568503486)"
      ]
     },
     "execution_count": 12,
     "metadata": {},
     "output_type": "execute_result"
    }
   ],
   "source": [
    "np.mean(auc_lst), np.max(auc_lst), np.min(auc_lst)"
   ]
  },
  {
   "cell_type": "code",
   "execution_count": 13,
   "metadata": {},
   "outputs": [],
   "source": [
    "y_pred_mat = np.column_stack(y_pred_lst)"
   ]
  },
  {
   "cell_type": "code",
   "execution_count": 14,
   "metadata": {},
   "outputs": [],
   "source": [
    "y_pred_avg = y_pred_mat.mean(axis=1)"
   ]
  },
  {
   "cell_type": "code",
   "execution_count": 15,
   "metadata": {},
   "outputs": [
    {
     "data": {
      "text/plain": [
       "{0: 0.7154705749444924}"
      ]
     },
     "execution_count": 15,
     "metadata": {},
     "output_type": "execute_result"
    },
    {
     "data": {
      "image/png": "[encoded data removed]",
      "text/plain": [
       "<Figure size 432x288 with 1 Axes>"
      ]
     },
     "metadata": {},
     "output_type": "display_data"
    }
   ],
   "source": [
    "plot_roc(y_pred_avg, y_true)"
   ]
  },
  {
   "cell_type": "code",
   "execution_count": 16,
   "metadata": {},
   "outputs": [],
   "source": [
    "np.save('output/y_pred_ami_sepdx1_10.npy', y_pred_mat)"
   ]
  },
  {
   "cell_type": "markdown",
   "metadata": {},
   "source": [
    "## Separate Hospital Embeddings"
   ]
  },
  {
   "cell_type": "code",
   "execution_count": 11,
   "metadata": {},
   "outputs": [],
   "source": [
    "cohort = 'ami'\n",
    "tst_seed = 0"
   ]
  },
  {
   "cell_type": "code",
   "execution_count": 25,
   "metadata": {},
   "outputs": [],
   "source": [
    "all_df = pd.read_csv(path+'cohorts30/{}/pred_comorb.csv'.format(cohort), dtype=core_dtypes_pd)\n",
    "tst_key = pd.read_csv(path+'cohorts30/{}/tst_key{}.csv'.format(cohort, tst_seed), names = ['KEY_NRD'])\n",
    "tst_df = all_df.loc[all_df.KEY_NRD.isin(tst_key.KEY_NRD)]\n",
    "train_df0 = all_df.loc[~all_df.KEY_NRD.isin(tst_key.KEY_NRD)].reset_index()"
   ]
  },
  {
   "cell_type": "code",
   "execution_count": 13,
   "metadata": {},
   "outputs": [],
   "source": [
    "DX_cat = ['missing'] + sorted(dx_multi.ICD9CM_CODE)\n",
    "PR_cat = ['missing'] + sorted(pr_multi.ICD9CM_CODE)\n",
    "n_DX_cat = len(DX_cat)\n",
    "n_PR_cat = len(PR_cat)\n",
    "unclassified = set(dx_multi.loc[dx_multi.CCS_LVL1 == '18', 'ICD9CM_CODE'])\n",
    "dx_ccs_cat = pd.concat([dx_multi.CCS_LVL1, dx_multi.CCS_LVL2, dx_multi.CCS_LVL3, dx_multi.CCS_LVL4]).astype('category').cat.categories\n",
    "pr_ccs_cat = pd.concat([pr_multi.CCS_LVL1, pr_multi.CCS_LVL2, pr_multi.CCS_LVL3]).astype('category').cat.categories\n",
    "DX1_dict = dict(zip(DX_cat, range(len(DX_cat))))\n",
    "DX_dict = dict(zip(DX_cat, [0] + list(range(len(DX_cat), len(DX_cat)*2))))\n",
    "PR_dict = dict(zip(PR_cat, [0] + list(range(len(DX_cat)*2-1, len(DX_cat)*2+len(PR_cat)-1))))\n",
    "code_cat = ['missing']+sorted(dx_multi.ICD9CM_CODE)*2+sorted(pr_multi.ICD9CM_CODE)+sorted(dx_ccs_cat)[1:]*2+sorted(pr_ccs_cat)[1:]\n",
    "n_code_cat = len(code_cat)    \n",
    "dx1_ccs_dict = dict(zip(dx_ccs_cat[1:], range(1+len(dx_multi)*2+len(pr_multi), len(dx_multi)*2+len(pr_multi)+len(dx_ccs_cat))))\n",
    "dx_ccs_dict = dict(zip(dx_ccs_cat[1:], range(1+len(dx_multi)*2+len(pr_multi)+len(dx_ccs_cat[1:]), \n",
    "                                                 1+len(dx_multi)*2+len(pr_multi)+len(dx_ccs_cat[1:])*2)))\n",
    "pr_ccs_dict = dict(zip(pr_ccs_cat[1:], range(1+len(dx_multi)*2+len(pr_multi)+len(dx_ccs_cat[1:])*2, n_code_cat)))\n",
    "hosp_series = all_df['HOSP_NRD'].astype('category')\n",
    "hosp_cat = hosp_series.cat.categories\n",
    "hosp_dict = dict(zip(hosp_cat, range(len(hosp_cat))))\n",
    "\n",
    "n_DX = 29\n",
    "n_PR = 15\n",
    "DXs = ['DX'+str(j) for j in range(2, n_DX+2)]\n",
    "PRs = ['PR'+str(j) for j in range(1, n_PR+1)]"
   ]
  },
  {
   "cell_type": "code",
   "execution_count": 26,
   "metadata": {},
   "outputs": [],
   "source": [
    "age_mean = train_df0['AGE'].mean()\n",
    "age_std = train_df0['AGE'].std()\n",
    "los_mean = train_df0['LOS'].mean()\n",
    "los_std = train_df0['LOS'].std()\n",
    "n_pay1 = int(train_df0['PAY1'].max())+1\n",
    "n_ed = int(train_df0['HCUP_ED'].max())+1\n",
    "n_zipinc = int(train_df0['ZIPINC_QRTL'].max())+1\n",
    "demo_mat_tst = tst_df[['AGE', 'FEMALE']].values\n",
    "demo_mat_tst[:, 0] = (demo_mat_tst[:, 0]-age_mean)/age_std\n",
    "hosp_array_tst = tst_df['HOSP_NRD'].map(hosp_dict).values\n",
    "pay1_mat_tst = to_categorical(tst_df.PAY1.values, num_classes=n_pay1)[:, 1:]\n",
    "los_array_tst = (tst_df.LOS.values - los_mean)/los_std\n",
    "ed_mat_tst = to_categorical(tst_df.HCUP_ED.values, num_classes=n_ed)\n",
    "zipinc_mat_tst = to_categorical(tst_df.ZIPINC_QRTL.values, num_classes=n_zipinc)[:, 1:]\n",
    "#transfer_mat_tst = to_categorical(tst_df.SAMEDAYEVENT.values)\n",
    "other_mat_tst = np.concatenate((demo_mat_tst, pay1_mat_tst, los_array_tst.reshape(los_array_tst.shape+(1,)), \n",
    "                                ed_mat_tst, zipinc_mat_tst), axis=1)"
   ]
  },
  {
   "cell_type": "code",
   "execution_count": 21,
   "metadata": {},
   "outputs": [],
   "source": [
    "code_embed_dim = 200\n",
    "embed_initializer = 'uniform'\n",
    "fc_width = 512\n",
    "md_width = 128\n",
    "lr1 = 2e-4\n",
    "lr2 = 2e-5\n",
    "dropout = 0\n",
    "batchsize = 256\n",
    "penalty = 0.\n",
    "hosp_embed_dim = 1"
   ]
  },
  {
   "cell_type": "code",
   "execution_count": 27,
   "metadata": {},
   "outputs": [],
   "source": [
    "input_DX1 = Input(shape=(1,))\n",
    "DX1_embed = Embedding(input_dim=n_code_cat, output_dim=code_embed_dim, embeddings_initializer=embed_initializer, \n",
    "                             name='DX1_embed')(input_DX1)\n",
    "DX1_embed = Reshape((code_embed_dim,))(DX1_embed)\n",
    "input_DX = Input(shape = (n_DX,))\n",
    "DX_embed = Embedding(input_dim=n_code_cat, output_dim=code_embed_dim, mask_zero=True, embeddings_initializer=embed_initializer, \n",
    "                             name='DX_embed')(input_DX)\n",
    "DX_embed = MaskedDense(md_width, activation='relu')(DX_embed)\n",
    "DX_embed = MaskedSum()(DX_embed)\n",
    "input_PR = Input(shape = (n_PR,))\n",
    "PR_embed = Embedding(input_dim=n_code_cat, output_dim=code_embed_dim, mask_zero=True, embeddings_initializer=embed_initializer,\n",
    "                             name='PR_embed')(input_PR)\n",
    "PR_embed = MaskedDense(md_width, activation='relu')(PR_embed)\n",
    "PR_embed = MaskedSum()(PR_embed)\n",
    "input_hosp = Input(shape=(1,))\n",
    "hosp_embed = Embedding(input_dim=len(hosp_cat), output_dim=hosp_embed_dim, input_length=1)(input_hosp)\n",
    "hosp_embed = Reshape((hosp_embed_dim, ))(hosp_embed)\n",
    "input_other = Input(shape=(other_mat_tst.shape[1], ))\n",
    "merged = Concatenate(axis=1)([DX1_embed, DX_embed, PR_embed, input_other])\n",
    "x = Dense(fc_width, activation='relu')(merged)\n",
    "x = Dropout(dropout)(x)\n",
    "x = Concatenate(axis=1)([x, hosp_embed])\n",
    "prediction = Dense(1, activation='sigmoid', name='prediction', use_bias=False)(x)\n",
    "model = Model(inputs=[input_DX1, input_DX, input_PR, input_hosp, input_other], outputs=prediction)"
   ]
  },
  {
   "cell_type": "code",
   "execution_count": 28,
   "metadata": {},
   "outputs": [],
   "source": [
    "model.load_weights(model_path+'best30_hosp_ami0_0.h5')"
   ]
  },
  {
   "cell_type": "code",
   "execution_count": 30,
   "metadata": {},
   "outputs": [],
   "source": [
    "hosp_embed_layer = model.layers[15]"
   ]
  },
  {
   "cell_type": "code",
   "execution_count": 32,
   "metadata": {},
   "outputs": [],
   "source": [
    "hosp_embed_mat = hosp_embed_layer.get_weights()[0]"
   ]
  },
  {
   "cell_type": "code",
   "execution_count": 43,
   "metadata": {},
   "outputs": [
    {
     "data": {
      "text/plain": [
       "0.044123374"
      ]
     },
     "execution_count": 43,
     "metadata": {},
     "output_type": "execute_result"
    }
   ],
   "source": [
    "hosp_embed_mat.std()"
   ]
  },
  {
   "cell_type": "code",
   "execution_count": 41,
   "metadata": {},
   "outputs": [],
   "source": [
    "hosp_embed_mat = hosp_embed_mat*(model.layers[-1].get_weights()[0][-1, 0])"
   ]
  },
  {
   "cell_type": "code",
   "execution_count": 66,
   "metadata": {},
   "outputs": [],
   "source": [
    "hosp_embed_mats = []\n",
    "last_weights = []\n",
    "tst_seed = 1\n",
    "for val_seed in range(9):\n",
    "    model.load_weights(model_path+'best30_hosp_{}{}_{}.h5'.format(cohort, tst_seed, val_seed))\n",
    "    hosp_embed_layer = model.layers[15]\n",
    "    hosp_embed_mat = (hosp_embed_layer.get_weights()[0])*(model.layers[-1].get_weights()[0][-1, 0])\n",
    "    hosp_embed_mats.append(hosp_embed_mat)\n",
    "    last_weights.append((model.layers[-1].get_weights()[0][-1, 0]))"
   ]
  },
  {
   "cell_type": "code",
   "execution_count": 67,
   "metadata": {},
   "outputs": [],
   "source": [
    "for hosp_embed_mat in hosp_embed_mats:\n",
    "    hosp_embed_mat = (hosp_embed_mat - hosp_embed_mat.mean())/(hosp_embed_mat.std())"
   ]
  },
  {
   "cell_type": "code",
   "execution_count": 68,
   "metadata": {},
   "outputs": [],
   "source": [
    "hosp_embed_mats = np.column_stack(hosp_embed_mats)"
   ]
  },
  {
   "cell_type": "code",
   "execution_count": 69,
   "metadata": {},
   "outputs": [],
   "source": [
    "hosp_embed_avg1 = hosp_embed_mats.mean(axis=1)"
   ]
  },
  {
   "cell_type": "code",
   "execution_count": 65,
   "metadata": {},
   "outputs": [
    {
     "data": {
      "text/plain": [
       "(874,)"
      ]
     },
     "execution_count": 65,
     "metadata": {},
     "output_type": "execute_result"
    }
   ],
   "source": [
    "hosp_embed_avg0.shape"
   ]
  },
  {
   "cell_type": "code",
   "execution_count": 70,
   "metadata": {},
   "outputs": [
    {
     "data": {
      "text/plain": [
       "<matplotlib.collections.PathCollection at 0x2b007a4ff320>"
      ]
     },
     "execution_count": 70,
     "metadata": {},
     "output_type": "execute_result"
    },
    {
     "data": {
      "image/png": "[encoded data removed]",
      "text/plain": [
       "<Figure size 432x288 with 1 Axes>"
      ]
     },
     "metadata": {},
     "output_type": "display_data"
    }
   ],
   "source": [
    "plt.scatter(hosp_embed_avg0, hosp_embed_avg1)"
   ]
  }
 ],
 "metadata": {
  "kernelspec": {
   "display_name": "Python 3",
   "language": "python",
   "name": "python3"
  },
  "language_info": {
   "codemirror_mode": {
    "name": "ipython",
    "version": 3
   },
   "file_extension": ".py",
   "mimetype": "text/x-python",
   "name": "python",
   "nbconvert_exporter": "python",
   "pygments_lexer": "ipython3",
   "version": "3.5.4"
  }
 },
 "nbformat": 4,
 "nbformat_minor": 2
}
