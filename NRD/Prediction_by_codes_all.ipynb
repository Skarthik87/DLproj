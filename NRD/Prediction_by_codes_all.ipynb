{
 "cells": [
  {
   "cell_type": "markdown",
   "metadata": {},
   "source": [
    "# Prediction by Diagnosis Codes\n",
    "In this notebook we use some fancier networks. "
   ]
  },
  {
   "cell_type": "code",
   "execution_count": 1,
   "metadata": {},
   "outputs": [],
   "source": [
    "import pandas as pd\n",
    "import numpy as np\n",
    "import matplotlib.pyplot as plt\n",
    "#import statsmodels.api as sm\n",
    "from sklearn.model_selection import train_test_split, StratifiedShuffleSplit\n",
    "import os, sys\n",
    "import time\n",
    "from datetime import datetime\n",
    "%matplotlib inline"
   ]
  },
  {
   "cell_type": "code",
   "execution_count": 2,
   "metadata": {},
   "outputs": [],
   "source": [
    "os.environ['CUDA_VISIBLE_DEVICES'] = ''"
   ]
  },
  {
   "cell_type": "code",
   "execution_count": 2,
   "metadata": {},
   "outputs": [],
   "source": [
    "path = '/nfs/turbo/intmed-bnallamo-turbo/wsliu/Data/NRD/'"
   ]
  },
  {
   "cell_type": "code",
   "execution_count": 2,
   "metadata": {},
   "outputs": [],
   "source": [
    "path = '/nfs/turbo/umms-awaljee/wsliu/Data/NRD/'"
   ]
  },
  {
   "cell_type": "code",
   "execution_count": 3,
   "metadata": {},
   "outputs": [],
   "source": [
    "model_path = path + 'models/'\n",
    "if not os.path.exists(model_path): os.mkdir(model_path)"
   ]
  },
  {
   "cell_type": "code",
   "execution_count": 4,
   "metadata": {
    "scrolled": true
   },
   "outputs": [
    {
     "name": "stderr",
     "output_type": "stream",
     "text": [
      "Using TensorFlow backend.\n"
     ]
    }
   ],
   "source": [
    "from keras.layers import Input, Embedding, Concatenate, Reshape, Lambda, GlobalMaxPooling1D\n",
    "from keras.models import Model\n",
    "from keras.layers.core import Dense, Activation, Dropout, RepeatVector\n",
    "from keras.callbacks import ModelCheckpoint, ReduceLROnPlateau, EarlyStopping\n",
    "from keras.utils import to_categorical\n",
    "from keras.optimizers import Adam\n",
    "from keras.initializers import Constant\n",
    "import keras.backend as K"
   ]
  },
  {
   "cell_type": "code",
   "execution_count": 17,
   "metadata": {},
   "outputs": [],
   "source": [
    "module_path = os.path.abspath(os.path.join('..'))\n",
    "if module_path not in sys.path:\n",
    "    sys.path.append(module_path)\n",
    "from DL_utils import plot_roc\n",
    "from keras_addon import AUCCheckPoint\n",
    "from utils import Mat_reg\n",
    "from setsum_layer import SetSum, MaskedSum, MaskedDense, MaskedPooling"
   ]
  },
  {
   "cell_type": "code",
   "execution_count": 6,
   "metadata": {},
   "outputs": [],
   "source": [
    "from ccs_tools import dx_multi, pr_multi, core_dtypes_pd"
   ]
  },
  {
   "cell_type": "markdown",
   "metadata": {},
   "source": [
    "## Data Preparation"
   ]
  },
  {
   "cell_type": "code",
   "execution_count": 7,
   "metadata": {},
   "outputs": [],
   "source": [
    "train_df = pd.read_csv(path+'cohorts/ami/DX_train.csv', dtype=core_dtypes_pd)\n",
    "tst_df = pd.read_csv(path+'cohorts/ami/DX_tst.csv', dtype=core_dtypes_pd)"
   ]
  },
  {
   "cell_type": "code",
   "execution_count": 8,
   "metadata": {},
   "outputs": [
    {
     "data": {
      "text/plain": [
       "(163671, 150)"
      ]
     },
     "execution_count": 8,
     "metadata": {},
     "output_type": "execute_result"
    }
   ],
   "source": [
    "train_df.shape"
   ]
  },
  {
   "cell_type": "code",
   "execution_count": 22,
   "metadata": {},
   "outputs": [],
   "source": [
    "all_df = pd.concat([train_df, tst_df])"
   ]
  },
  {
   "cell_type": "markdown",
   "metadata": {},
   "source": [
    "Define the dictionaries for DX, DX1 and hosp, from value to int. Seperating DX1:"
   ]
  },
  {
   "cell_type": "code",
   "execution_count": 7,
   "metadata": {},
   "outputs": [],
   "source": [
    "DX1_cat = ['missing'] + sorted(dx_multi.ICD9CM_CODE)\n",
    "DX_cat = ['missing'] + sorted(dx_multi.ICD9CM_CODE)\n",
    "PR_cat = ['missing'] + sorted(pr_multi.ICD9CM_CODE)\n",
    "code_cat = ['missing'] + sorted(dx_multi.ICD9CM_CODE) + sorted(dx_multi.ICD9CM_CODE) + sorted(pr_multi.ICD9CM_CODE)\n",
    "\n",
    "n_DX_cat = len(DX_cat)\n",
    "n_PR_cat = len(PR_cat)\n",
    "n_code_cat = len(code_cat)\n",
    "\n",
    "DX1_dict = dict(zip(DX1_cat, range(len(DX_cat))))\n",
    "DX_dict = dict(zip(DX_cat, [0] + list(range(len(DX_cat), len(DX_cat)*2))))\n",
    "PR_dict = dict(zip(PR_cat, [0] + list(range(len(DX_cat)*2-1, len(DX_cat)*2+len(PR_cat)-1))))"
   ]
  },
  {
   "cell_type": "code",
   "execution_count": 8,
   "metadata": {},
   "outputs": [],
   "source": [
    "unclassified = set(dx_multi.loc[dx_multi.CCS_LVL1 == '18', 'ICD9CM_CODE'])"
   ]
  },
  {
   "cell_type": "markdown",
   "metadata": {},
   "source": [
    "Not separating DX1:"
   ]
  },
  {
   "cell_type": "code",
   "execution_count": 32,
   "metadata": {},
   "outputs": [],
   "source": [
    "DX_cat = ['missing'] + sorted(dx_multi.ICD9CM_CODE)\n",
    "PR_cat = ['missing'] + sorted(pr_multi.ICD9CM_CODE)\n",
    "\n",
    "n_DX_cat = len(DX_cat)\n",
    "n_PR_cat = len(PR_cat)\n",
    "\n",
    "DX_dict = dict(zip(DX_cat, range(len(DX_cat))))\n",
    "PR_dict = dict(zip(PR_cat, [0] + list(range(len(DX_cat), len(DX_cat)+len(PR_cat)))))\n",
    "DX1_dict = DX_dict.copy()\n",
    "\n",
    "unclassified = set(dx_multi.loc[dx_multi.CCS_LVL1 == '18', 'ICD9CM_CODE'])\n",
    "\n",
    "dx_ccs_cat = pd.concat([dx_multi.CCS_LVL1, dx_multi.CCS_LVL2, dx_multi.CCS_LVL3, dx_multi.CCS_LVL4]).astype('category').cat.categories\n",
    "pr_ccs_cat = pd.concat([pr_multi.CCS_LVL1, pr_multi.CCS_LVL2, pr_multi.CCS_LVL3]).astype('category').cat.categories\n",
    "\n",
    "code_cat = ['missing'] + sorted(dx_multi.ICD9CM_CODE) + sorted(pr_multi.ICD9CM_CODE) + sorted(dx_ccs_cat)[1:] + sorted(pr_ccs_cat)[1:]\n",
    "n_code_cat = len(code_cat)\n",
    "\n",
    "dx_ccs_dict = dict(zip(dx_ccs_cat[1:], range(len(dx_multi)+len(pr_multi)+1, len(dx_multi)+len(pr_multi)+len(dx_ccs_cat))))\n",
    "pr_ccs_dict = dict(zip(pr_ccs_cat[1:], range(len(dx_multi)+len(pr_multi)+len(dx_ccs_cat), n_code_cat)))"
   ]
  },
  {
   "cell_type": "code",
   "execution_count": 23,
   "metadata": {},
   "outputs": [],
   "source": [
    "hosp_series = all_df['HOSP_NRD'].astype('category')\n",
    "hosp_cat = hosp_series.cat.categories\n",
    "\n",
    "hosp_dict = dict(zip(hosp_cat, range(len(hosp_cat))))"
   ]
  },
  {
   "cell_type": "markdown",
   "metadata": {},
   "source": [
    "## Further Predictors"
   ]
  },
  {
   "cell_type": "markdown",
   "metadata": {},
   "source": [
    "### Data Formatting"
   ]
  },
  {
   "cell_type": "code",
   "execution_count": 9,
   "metadata": {},
   "outputs": [],
   "source": [
    "n_DX = 29\n",
    "n_PR = 15\n",
    "DXs = ['DX'+str(j) for j in range(2, n_DX+2)]\n",
    "PRs = ['PR'+str(j) for j in range(1, n_PR+1)]"
   ]
  },
  {
   "cell_type": "code",
   "execution_count": 27,
   "metadata": {},
   "outputs": [],
   "source": [
    "trn_df, val_df = train_test_split(train_df, test_size=0.11, stratify=train_df.HOSP_NRD)\n",
    "N_trn = len(trn_df)\n",
    "N_val = len(val_df)\n",
    "train_df = pd.concat([trn_df, val_df])"
   ]
  },
  {
   "cell_type": "code",
   "execution_count": 28,
   "metadata": {},
   "outputs": [],
   "source": [
    "DX1_series = train_df['DX1'].map(DX1_dict)\n",
    "DX1_array = DX1_series.values\n",
    "\n",
    "DX1_array_trn = DX1_array[:N_trn]\n",
    "DX1_array_val = DX1_array[N_trn:]"
   ]
  },
  {
   "cell_type": "code",
   "execution_count": 29,
   "metadata": {},
   "outputs": [],
   "source": [
    "DX_df = train_df[DXs]\n",
    "\n",
    "DX_df = DX_df.fillna('missing')\n",
    "DX_df[DX_df.isin(['invl', 'incn'])] = 'missing'\n",
    "#DX_df[DX_df.isin(rare_code)] = 'missing'\n",
    "DX_df[DX_df.isin(unclassified)] = 'missing'\n",
    "\n",
    "for dx in DXs:\n",
    "    DX_df[dx] = DX_df[dx].map(DX_dict)\n",
    "\n",
    "DX_mat = DX_df.values\n",
    "\n",
    "DX_mat.sort(axis=1)\n",
    "#DX_mat = DX_mat[:, ::-1]\n",
    "\n",
    "DX_mat_trn = DX_mat[:N_trn, ]\n",
    "DX_mat_val = DX_mat[N_trn:, ]"
   ]
  },
  {
   "cell_type": "code",
   "execution_count": 30,
   "metadata": {},
   "outputs": [],
   "source": [
    "PR_df = train_df[PRs]\n",
    "\n",
    "PR_df = PR_df.fillna('missing')\n",
    "PR_df[PR_df.isin(['invl', 'incn'])] = 'missing'\n",
    "#PR_df[PR_df.isin(pr_rare_code)] = 'missing'\n",
    "\n",
    "for pr in PRs:\n",
    "    PR_df[pr] = PR_df[pr].map(PR_dict)\n",
    "\n",
    "PR_mat = PR_df.values\n",
    "\n",
    "PR_mat.sort(axis=1)\n",
    "#DX_mat = DX_mat[:, ::-1]\n",
    "\n",
    "PR_mat_trn = PR_mat[:N_trn, ]\n",
    "PR_mat_val = PR_mat[N_trn:, ]"
   ]
  },
  {
   "cell_type": "code",
   "execution_count": 31,
   "metadata": {},
   "outputs": [],
   "source": [
    "hosp_series = train_df['HOSP_NRD'].map(hosp_dict)\n",
    "hosp_array = hosp_series.values\n",
    "\n",
    "hosp_array_trn = hosp_array[:N_trn]\n",
    "hosp_array_val = hosp_array[N_trn:]"
   ]
  },
  {
   "cell_type": "code",
   "execution_count": 32,
   "metadata": {},
   "outputs": [],
   "source": [
    "demo_mat = train_df[['AGE', 'FEMALE']].values\n",
    "\n",
    "age_mean = train_df['AGE'].mean()\n",
    "age_std = train_df['AGE'].std()\n",
    "\n",
    "demo_mat[:, 0] = (demo_mat[:, 0]-age_mean)/age_std"
   ]
  },
  {
   "cell_type": "code",
   "execution_count": 33,
   "metadata": {},
   "outputs": [],
   "source": [
    "pay1_mat = to_categorical(train_df.PAY1.values)[:, 1:]\n",
    "\n",
    "los_array = train_df.LOS.values\n",
    "los_mean = np.mean(los_array)\n",
    "los_std = np.std(los_array)\n",
    "los_array = (los_array - los_mean)/los_std\n",
    "\n",
    "ed_mat = to_categorical(train_df.HCUP_ED.values)\n",
    "\n",
    "zipinc_mat = to_categorical(train_df.ZIPINC_QRTL.values)[:, 1:]\n",
    "\n",
    "transfer_mat = to_categorical(train_df.SAMEDAYEVENT.values)"
   ]
  },
  {
   "cell_type": "code",
   "execution_count": 34,
   "metadata": {},
   "outputs": [],
   "source": [
    "other_mat = np.concatenate((demo_mat, pay1_mat, los_array.reshape(los_array.shape+(1,)), ed_mat, zipinc_mat, \n",
    "                            transfer_mat), axis=1)\n",
    "other_mat_trn = other_mat[:N_trn, ]\n",
    "other_mat_val = other_mat[N_trn:, ]"
   ]
  },
  {
   "cell_type": "code",
   "execution_count": 35,
   "metadata": {},
   "outputs": [],
   "source": [
    "y = train_df['readm30'].values.astype(int)\n",
    "\n",
    "Y_trn = to_categorical(y[:N_trn])\n",
    "Y_val = to_categorical(y[N_trn:])"
   ]
  },
  {
   "cell_type": "markdown",
   "metadata": {},
   "source": [
    "## Model Building"
   ]
  },
  {
   "cell_type": "code",
   "execution_count": 8,
   "metadata": {},
   "outputs": [],
   "source": [
    "from setsum_layer import SetSum, MaskedSum, MaskedDense"
   ]
  },
  {
   "cell_type": "code",
   "execution_count": 9,
   "metadata": {},
   "outputs": [],
   "source": [
    "code_embed_dim = 100\n",
    "hosp_embed_dim = 1"
   ]
  },
  {
   "cell_type": "code",
   "execution_count": 43,
   "metadata": {},
   "outputs": [],
   "source": [
    "embed_glove = np.load(path+'all/embed_mat_pen0824.npy')"
   ]
  },
  {
   "cell_type": "code",
   "execution_count": 228,
   "metadata": {},
   "outputs": [],
   "source": [
    "embed_glove = np.load(path+'all/embed_mat0816.npy')"
   ]
  },
  {
   "cell_type": "code",
   "execution_count": 229,
   "metadata": {},
   "outputs": [],
   "source": [
    "embed_glove = np.concatenate((embed_glove[:n_DX_cat, :], embed_glove[1:, :]), axis=0)"
   ]
  },
  {
   "cell_type": "code",
   "execution_count": 23,
   "metadata": {
    "scrolled": true
   },
   "outputs": [
    {
     "data": {
      "text/plain": [
       "(20153, 100)"
      ]
     },
     "execution_count": 23,
     "metadata": {},
     "output_type": "execute_result"
    }
   ],
   "source": [
    "embed_glove.shape"
   ]
  },
  {
   "cell_type": "code",
   "execution_count": 24,
   "metadata": {},
   "outputs": [
    {
     "data": {
      "text/plain": [
       "20153"
      ]
     },
     "execution_count": 24,
     "metadata": {},
     "output_type": "execute_result"
    }
   ],
   "source": [
    "n_code_cat"
   ]
  },
  {
   "cell_type": "code",
   "execution_count": 44,
   "metadata": {},
   "outputs": [],
   "source": [
    "fc_width = 64\n",
    "md_width = 128"
   ]
  },
  {
   "cell_type": "code",
   "execution_count": 62,
   "metadata": {},
   "outputs": [],
   "source": [
    "input_DX1 = Input(shape=(1,))\n",
    "DX1_embed = Embedding(input_dim=n_code_cat, output_dim=code_embed_dim, embeddings_initializer=Constant(embed_glove), \n",
    "                     name='DX1_embed')(input_DX1)\n",
    "DX1_embed = Reshape((code_embed_dim,))(DX1_embed)\n",
    "\n",
    "input_DX = Input(shape = (n_DX,))\n",
    "DX_embed = Embedding(input_dim=n_code_cat, output_dim=code_embed_dim, mask_zero=True, embeddings_initializer=Constant(embed_glove), \n",
    "                     name='DX_embed')(input_DX)\n",
    "\n",
    "DX_feature = MaskedDense(md_width, activation='relu')(DX_embed)\n",
    "#DX_feature = MaskedDense(DX_embed_dim, activation='relu')(DX_feature)\n",
    "DX_feature = MaskedSum()(DX_feature)\n",
    "\n",
    "input_PR = Input(shape = (n_PR,))\n",
    "PR_embed = Embedding(input_dim=n_code_cat, output_dim=code_embed_dim, mask_zero=True, embeddings_initializer=Constant(embed_glove),\n",
    "                     name='PR_embed')(input_PR)\n",
    "\n",
    "PR_feature = MaskedDense(md_width, activation='relu')(PR_embed)\n",
    "PR_feature = MaskedSum()(PR_feature)\n",
    "\n",
    "input_hosp = Input(shape=(1,))\n",
    "hosp_embed = Embedding(input_dim=len(hosp_cat), output_dim=hosp_embed_dim, input_length=1)(input_hosp)\n",
    "hosp_embed = Reshape((hosp_embed_dim, ))(hosp_embed)\n",
    "\n",
    "input_other = Input(shape=(other_mat.shape[1], ))\n",
    "\n",
    "merged = Concatenate(axis=1)([DX1_embed, DX_feature, PR_feature, hosp_embed, input_other])\n",
    "\n",
    "x = Dense(fc_width, activation='relu')(merged)\n",
    "#x = Dense(64, activation='relu')(x)\n",
    "x = Dropout(0.3)(x)\n",
    "\n",
    "prediction = Dense(2, activation='softmax')(x)\n",
    "model = Model(inputs=[input_DX1, input_DX, input_PR, input_hosp, input_other], outputs=prediction)"
   ]
  },
  {
   "cell_type": "code",
   "execution_count": 46,
   "metadata": {
    "scrolled": true
   },
   "outputs": [],
   "source": [
    "for l in model.layers:\n",
    "    if l.name=='DX_embed' or l.name=='PR_embed' or l.name=='DX1_embed':\n",
    "        l.trainable = False"
   ]
  },
  {
   "cell_type": "code",
   "execution_count": 47,
   "metadata": {},
   "outputs": [],
   "source": [
    "adam = Adam(lr=0.0002)\n",
    "model.compile(optimizer=adam, loss='categorical_crossentropy')"
   ]
  },
  {
   "cell_type": "code",
   "execution_count": 64,
   "metadata": {},
   "outputs": [],
   "source": [
    "adam = Adam(lr=0.00001)\n",
    "model.compile(optimizer=adam, loss='categorical_crossentropy')"
   ]
  },
  {
   "cell_type": "code",
   "execution_count": 65,
   "metadata": {},
   "outputs": [],
   "source": [
    "checkpoint = ModelCheckpoint(filepath=model_path+'ami_glove_valloss1.h5', save_best_only=True, save_weights_only=True)\n",
    "auccheckpoint = AUCCheckPoint(filepath=model_path+'ami_glove_auc1.h5', validation_y=Y_val[:, 1], \n",
    "                             validation_x=[DX1_array_val, DX_mat_val, PR_mat_val, hosp_array_val, other_mat_val])\n",
    "reduce_lr = ReduceLROnPlateau(monitor='val_loss', factor=0.2, patience=10, min_lr=K.epsilon())\n",
    "earlystop = EarlyStopping(monitor='val_loss', patience=30)"
   ]
  },
  {
   "cell_type": "code",
   "execution_count": 49,
   "metadata": {},
   "outputs": [],
   "source": [
    "class_weight = {0:(Y_trn.shape[0]/sum(Y_trn[:, 0])), 1:(Y_trn.shape[0]/sum(Y_trn[:, 1]))}"
   ]
  },
  {
   "cell_type": "code",
   "execution_count": 66,
   "metadata": {
    "scrolled": true
   },
   "outputs": [
    {
     "name": "stdout",
     "output_type": "stream",
     "text": [
      "Train on 145667 samples, validate on 18004 samples\n",
      "Epoch 1/10\n",
      "145667/145667 [==============================] - 7s 51us/step - loss: 1.2249 - val_loss: 0.6124\n",
      "AUC: 0.7180\n",
      "\n",
      "Epoch 2/10\n",
      "145667/145667 [==============================] - 7s 47us/step - loss: 1.2225 - val_loss: 0.6021\n",
      "AUC: 0.7181\n",
      "\n",
      "Epoch 3/10\n",
      "145667/145667 [==============================] - 7s 47us/step - loss: 1.2219 - val_loss: 0.6027\n",
      "AUC: 0.7182\n",
      "\n",
      "Epoch 4/10\n",
      "145667/145667 [==============================] - 7s 47us/step - loss: 1.2209 - val_loss: 0.6102\n",
      "AUC: 0.7182\n",
      "\n",
      "Epoch 5/10\n",
      "145667/145667 [==============================] - 7s 48us/step - loss: 1.2185 - val_loss: 0.6195\n",
      "AUC: 0.7182\n",
      "\n",
      "Epoch 6/10\n",
      "145667/145667 [==============================] - 7s 48us/step - loss: 1.2189 - val_loss: 0.6132\n",
      "AUC: 0.7183\n",
      "\n",
      "Epoch 7/10\n",
      "145667/145667 [==============================] - 7s 47us/step - loss: 1.2173 - val_loss: 0.6073\n",
      "AUC: 0.7182\n",
      "\n",
      "Epoch 8/10\n",
      "145667/145667 [==============================] - 7s 47us/step - loss: 1.2163 - val_loss: 0.6154\n",
      "AUC: 0.7184\n",
      "\n",
      "Epoch 9/10\n",
      "145667/145667 [==============================] - 7s 47us/step - loss: 1.2164 - val_loss: 0.6016\n",
      "AUC: 0.7181\n",
      "\n",
      "Epoch 10/10\n",
      "145667/145667 [==============================] - 7s 47us/step - loss: 1.2156 - val_loss: 0.6034\n",
      "AUC: 0.7182\n",
      "\n"
     ]
    }
   ],
   "source": [
    "hist = model.fit([DX1_array_trn, DX_mat_trn, PR_mat_trn, hosp_array_trn, other_mat_trn], Y_trn, \n",
    "                 batch_size=128, epochs=10, callbacks=[checkpoint, auccheckpoint, reduce_lr, earlystop], class_weight=class_weight, \n",
    "                 validation_data=[[DX1_array_val, DX_mat_val, PR_mat_val, hosp_array_val, other_mat_val], Y_val], \n",
    "                verbose=1)"
   ]
  },
  {
   "cell_type": "code",
   "execution_count": 52,
   "metadata": {
    "scrolled": false
   },
   "outputs": [
    {
     "data": {
      "text/plain": [
       "[<matplotlib.lines.Line2D at 0x2b70cd93b128>]"
      ]
     },
     "execution_count": 52,
     "metadata": {},
     "output_type": "execute_result"
    },
    {
     "data": {
      "image/png": "[encoded data removed]",
      "text/plain": [
       "<Figure size 432x288 with 1 Axes>"
      ]
     },
     "metadata": {},
     "output_type": "display_data"
    }
   ],
   "source": [
    "plt.plot(hist.history['val_loss'])"
   ]
  },
  {
   "cell_type": "code",
   "execution_count": 67,
   "metadata": {},
   "outputs": [
    {
     "data": {
      "text/plain": [
       "[<matplotlib.lines.Line2D at 0x2b70fe323898>]"
      ]
     },
     "execution_count": 67,
     "metadata": {},
     "output_type": "execute_result"
    },
    {
     "data": {
      "image/png": "[encoded data removed]",
      "text/plain": [
       "<Figure size 432x288 with 1 Axes>"
      ]
     },
     "metadata": {},
     "output_type": "display_data"
    }
   ],
   "source": [
    "plt.plot(hist.history['lr'])"
   ]
  },
  {
   "cell_type": "code",
   "execution_count": 68,
   "metadata": {
    "scrolled": false
   },
   "outputs": [
    {
     "data": {
      "text/plain": [
       "[<matplotlib.lines.Line2D at 0x2b710c98ee10>]"
      ]
     },
     "execution_count": 68,
     "metadata": {},
     "output_type": "execute_result"
    },
    {
     "data": {
      "image/png": "[encoded data removed]",
      "text/plain": [
       "<Figure size 432x288 with 1 Axes>"
      ]
     },
     "metadata": {},
     "output_type": "display_data"
    }
   ],
   "source": [
    "plt.plot(auccheckpoint.auc_history)"
   ]
  },
  {
   "cell_type": "code",
   "execution_count": 55,
   "metadata": {},
   "outputs": [],
   "source": [
    "DX1_array_tst = tst_df.DX1.map(DX_dict).values"
   ]
  },
  {
   "cell_type": "code",
   "execution_count": 56,
   "metadata": {},
   "outputs": [],
   "source": [
    "DX_df_tst = tst_df[DXs]\n",
    "DX_df_tst = DX_df_tst.fillna('missing')\n",
    "DX_df_tst[DX_df_tst.isin(['invl', 'incn'])]\n",
    "#DX_df_tst[DX_df_tst.isin(rare_code)] = 'missing'\n",
    "DX_df_tst[DX_df_tst.isin(unclassified)] = 'missing'\n",
    "\n",
    "for dx in DXs:\n",
    "    DX_df_tst[dx] = DX_df_tst[dx].map(DX_dict)\n",
    "\n",
    "DX_mat_tst = DX_df_tst.values\n",
    "\n",
    "DX_mat_tst.sort(axis=1)\n",
    "#DX_mat_tst = DX_mat_tst[:, ::-1]"
   ]
  },
  {
   "cell_type": "code",
   "execution_count": 57,
   "metadata": {},
   "outputs": [],
   "source": [
    "PR_df_tst = tst_df[PRs]\n",
    "PR_df_tst = PR_df_tst.fillna('missing')\n",
    "PR_df_tst[PR_df_tst.isin(['invl', 'incn'])] = 'missing'\n",
    "#PR_df_tst[PR_df_tst.isin(pr_rare_code)] = 'missing'\n",
    "\n",
    "for pr in PRs:\n",
    "    PR_df_tst[pr] = PR_df_tst[pr].map(PR_dict)\n",
    "\n",
    "PR_mat_tst = PR_df_tst.values\n",
    "PR_mat_tst.sort(axis=1)"
   ]
  },
  {
   "cell_type": "code",
   "execution_count": 58,
   "metadata": {},
   "outputs": [],
   "source": [
    "demo_mat_tst = tst_df[['AGE', 'FEMALE']].values\n",
    "demo_mat_tst[:, 0] = (demo_mat_tst[:, 0]-age_mean)/age_std\n",
    "\n",
    "hosp_array_tst = tst_df['HOSP_NRD'].map(hosp_dict).values\n",
    "\n",
    "pay1_mat_tst = to_categorical(tst_df.PAY1.values)[:, 1:]\n",
    "\n",
    "los_array_tst = (tst_df.LOS.values - los_mean)/los_std\n",
    "\n",
    "ed_mat_tst = to_categorical(tst_df.HCUP_ED.values)\n",
    "\n",
    "zipinc_mat_tst = to_categorical(tst_df.ZIPINC_QRTL.values)[:, 1:]\n",
    "\n",
    "transfer_mat_tst = to_categorical(tst_df.SAMEDAYEVENT.values)\n",
    "\n",
    "other_mat_tst = np.concatenate((demo_mat_tst, pay1_mat_tst, los_array_tst.reshape(los_array_tst.shape+(1,)), \n",
    "                                ed_mat_tst, zipinc_mat_tst, transfer_mat_tst), axis=1)"
   ]
  },
  {
   "cell_type": "code",
   "execution_count": 69,
   "metadata": {},
   "outputs": [],
   "source": [
    "model.load_weights(model_path+'ami_glove_auc1.h5')"
   ]
  },
  {
   "cell_type": "code",
   "execution_count": 70,
   "metadata": {},
   "outputs": [
    {
     "name": "stdout",
     "output_type": "stream",
     "text": [
      "18186/18186 [==============================] - 1s 34us/step\n"
     ]
    }
   ],
   "source": [
    "y = model.predict([DX1_array_tst, DX_mat_tst, PR_mat_tst, hosp_array_tst, other_mat_tst], verbose=1)\n",
    "\n",
    "y_pred = y[:, 1]\n",
    "y_true = tst_df.readm30.astype(int).values"
   ]
  },
  {
   "cell_type": "code",
   "execution_count": 71,
   "metadata": {
    "scrolled": false
   },
   "outputs": [
    {
     "data": {
      "text/plain": [
       "{0: 0.7144448385484797}"
      ]
     },
     "execution_count": 71,
     "metadata": {},
     "output_type": "execute_result"
    },
    {
     "data": {
      "image/png": "[encoded data removed]",
      "text/plain": [
       "<Figure size 432x288 with 1 Axes>"
      ]
     },
     "metadata": {},
     "output_type": "display_data"
    }
   ],
   "source": [
    "plot_roc(y_pred, y_true)"
   ]
  },
  {
   "cell_type": "markdown",
   "metadata": {},
   "source": [
    "## Model Average"
   ]
  },
  {
   "cell_type": "code",
   "execution_count": 7,
   "metadata": {},
   "outputs": [],
   "source": [
    "from sklearn.metrics import roc_curve, auc"
   ]
  },
  {
   "cell_type": "code",
   "execution_count": 8,
   "metadata": {},
   "outputs": [],
   "source": [
    "y_pred_lst = []\n",
    "n_fold = 10\n",
    "for fold_ind in range(n_fold):\n",
    "    y_pred_lst.append(np.load('output/y_pred'+str(fold_ind)+'.npy'))"
   ]
  },
  {
   "cell_type": "code",
   "execution_count": 10,
   "metadata": {},
   "outputs": [],
   "source": [
    "y_true = tst_df.readm30.astype(int).values"
   ]
  },
  {
   "cell_type": "code",
   "execution_count": 11,
   "metadata": {},
   "outputs": [],
   "source": [
    "auc_lst = []\n",
    "\n",
    "for y_pred in y_pred_lst:\n",
    "    fpr, tpr, _ = roc_curve(y_true, y_pred)\n",
    "    roc_auc = auc(fpr, tpr)\n",
    "    auc_lst.append(roc_auc)"
   ]
  },
  {
   "cell_type": "code",
   "execution_count": 12,
   "metadata": {
    "scrolled": true
   },
   "outputs": [
    {
     "data": {
      "text/plain": [
       "(0.712201901320557, 0.7147529128986604, 0.70995568503486)"
      ]
     },
     "execution_count": 12,
     "metadata": {},
     "output_type": "execute_result"
    }
   ],
   "source": [
    "np.mean(auc_lst), np.max(auc_lst), np.min(auc_lst)"
   ]
  },
  {
   "cell_type": "code",
   "execution_count": 13,
   "metadata": {},
   "outputs": [],
   "source": [
    "y_pred_mat = np.column_stack(y_pred_lst)"
   ]
  },
  {
   "cell_type": "code",
   "execution_count": 14,
   "metadata": {},
   "outputs": [],
   "source": [
    "y_pred_avg = y_pred_mat.mean(axis=1)"
   ]
  },
  {
   "cell_type": "code",
   "execution_count": 15,
   "metadata": {},
   "outputs": [
    {
     "data": {
      "text/plain": [
       "{0: 0.7154705749444924}"
      ]
     },
     "execution_count": 15,
     "metadata": {},
     "output_type": "execute_result"
    },
    {
     "data": {
      "image/png": "[encoded data removed]",
      "text/plain": [
       "<Figure size 432x288 with 1 Axes>"
      ]
     },
     "metadata": {},
     "output_type": "display_data"
    }
   ],
   "source": [
    "plot_roc(y_pred_avg, y_true)"
   ]
  },
  {
   "cell_type": "code",
   "execution_count": 16,
   "metadata": {},
   "outputs": [],
   "source": [
    "np.save('output/y_pred_ami_sepdx1_10.npy', y_pred_mat)"
   ]
  },
  {
   "cell_type": "markdown",
   "metadata": {},
   "source": [
    "## Separate Hospital Embeddings"
   ]
  },
  {
   "cell_type": "code",
   "execution_count": 11,
   "metadata": {},
   "outputs": [],
   "source": [
    "cohort = 'ami'\n",
    "tst_seed = 0"
   ]
  },
  {
   "cell_type": "code",
   "execution_count": 25,
   "metadata": {},
   "outputs": [],
   "source": [
    "all_df = pd.read_csv(path+'cohorts30/{}/pred_comorb.csv'.format(cohort), dtype=core_dtypes_pd)\n",
    "tst_key = pd.read_csv(path+'cohorts30/{}/tst_key{}.csv'.format(cohort, tst_seed), names = ['KEY_NRD'])\n",
    "tst_df = all_df.loc[all_df.KEY_NRD.isin(tst_key.KEY_NRD)]\n",
    "train_df0 = all_df.loc[~all_df.KEY_NRD.isin(tst_key.KEY_NRD)].reset_index()"
   ]
  },
  {
   "cell_type": "code",
   "execution_count": 13,
   "metadata": {},
   "outputs": [],
   "source": [
    "DX_cat = ['missing'] + sorted(dx_multi.ICD9CM_CODE)\n",
    "PR_cat = ['missing'] + sorted(pr_multi.ICD9CM_CODE)\n",
    "n_DX_cat = len(DX_cat)\n",
    "n_PR_cat = len(PR_cat)\n",
    "unclassified = set(dx_multi.loc[dx_multi.CCS_LVL1 == '18', 'ICD9CM_CODE'])\n",
    "dx_ccs_cat = pd.concat([dx_multi.CCS_LVL1, dx_multi.CCS_LVL2, dx_multi.CCS_LVL3, dx_multi.CCS_LVL4]).astype('category').cat.categories\n",
    "pr_ccs_cat = pd.concat([pr_multi.CCS_LVL1, pr_multi.CCS_LVL2, pr_multi.CCS_LVL3]).astype('category').cat.categories\n",
    "DX1_dict = dict(zip(DX_cat, range(len(DX_cat))))\n",
    "DX_dict = dict(zip(DX_cat, [0] + list(range(len(DX_cat), len(DX_cat)*2))))\n",
    "PR_dict = dict(zip(PR_cat, [0] + list(range(len(DX_cat)*2-1, len(DX_cat)*2+len(PR_cat)-1))))\n",
    "code_cat = ['missing']+sorted(dx_multi.ICD9CM_CODE)*2+sorted(pr_multi.ICD9CM_CODE)+sorted(dx_ccs_cat)[1:]*2+sorted(pr_ccs_cat)[1:]\n",
    "n_code_cat = len(code_cat)    \n",
    "dx1_ccs_dict = dict(zip(dx_ccs_cat[1:], range(1+len(dx_multi)*2+len(pr_multi), len(dx_multi)*2+len(pr_multi)+len(dx_ccs_cat))))\n",
    "dx_ccs_dict = dict(zip(dx_ccs_cat[1:], range(1+len(dx_multi)*2+len(pr_multi)+len(dx_ccs_cat[1:]), \n",
    "                                                 1+len(dx_multi)*2+len(pr_multi)+len(dx_ccs_cat[1:])*2)))\n",
    "pr_ccs_dict = dict(zip(pr_ccs_cat[1:], range(1+len(dx_multi)*2+len(pr_multi)+len(dx_ccs_cat[1:])*2, n_code_cat)))\n",
    "hosp_series = all_df['HOSP_NRD'].astype('category')\n",
    "hosp_cat = hosp_series.cat.categories\n",
    "hosp_dict = dict(zip(hosp_cat, range(len(hosp_cat))))\n",
    "\n",
    "n_DX = 29\n",
    "n_PR = 15\n",
    "DXs = ['DX'+str(j) for j in range(2, n_DX+2)]\n",
    "PRs = ['PR'+str(j) for j in range(1, n_PR+1)]"
   ]
  },
  {
   "cell_type": "code",
   "execution_count": 26,
   "metadata": {},
   "outputs": [],
   "source": [
    "age_mean = train_df0['AGE'].mean()\n",
    "age_std = train_df0['AGE'].std()\n",
    "los_mean = train_df0['LOS'].mean()\n",
    "los_std = train_df0['LOS'].std()\n",
    "n_pay1 = int(train_df0['PAY1'].max())+1\n",
    "n_ed = int(train_df0['HCUP_ED'].max())+1\n",
    "n_zipinc = int(train_df0['ZIPINC_QRTL'].max())+1\n",
    "demo_mat_tst = tst_df[['AGE', 'FEMALE']].values\n",
    "demo_mat_tst[:, 0] = (demo_mat_tst[:, 0]-age_mean)/age_std\n",
    "hosp_array_tst = tst_df['HOSP_NRD'].map(hosp_dict).values\n",
    "pay1_mat_tst = to_categorical(tst_df.PAY1.values, num_classes=n_pay1)[:, 1:]\n",
    "los_array_tst = (tst_df.LOS.values - los_mean)/los_std\n",
    "ed_mat_tst = to_categorical(tst_df.HCUP_ED.values, num_classes=n_ed)\n",
    "zipinc_mat_tst = to_categorical(tst_df.ZIPINC_QRTL.values, num_classes=n_zipinc)[:, 1:]\n",
    "#transfer_mat_tst = to_categorical(tst_df.SAMEDAYEVENT.values)\n",
    "other_mat_tst = np.concatenate((demo_mat_tst, pay1_mat_tst, los_array_tst.reshape(los_array_tst.shape+(1,)), \n",
    "                                ed_mat_tst, zipinc_mat_tst), axis=1)"
   ]
  },
  {
   "cell_type": "code",
   "execution_count": 21,
   "metadata": {},
   "outputs": [],
   "source": [
    "code_embed_dim = 200\n",
    "embed_initializer = 'uniform'\n",
    "fc_width = 512\n",
    "md_width = 128\n",
    "lr1 = 2e-4\n",
    "lr2 = 2e-5\n",
    "dropout = 0\n",
    "batchsize = 256\n",
    "penalty = 0.\n",
    "hosp_embed_dim = 1"
   ]
  },
  {
   "cell_type": "code",
   "execution_count": 27,
   "metadata": {},
   "outputs": [],
   "source": [
    "input_DX1 = Input(shape=(1,))\n",
    "DX1_embed = Embedding(input_dim=n_code_cat, output_dim=code_embed_dim, embeddings_initializer=embed_initializer, \n",
    "                             name='DX1_embed')(input_DX1)\n",
    "DX1_embed = Reshape((code_embed_dim,))(DX1_embed)\n",
    "input_DX = Input(shape = (n_DX,))\n",
    "DX_embed = Embedding(input_dim=n_code_cat, output_dim=code_embed_dim, mask_zero=True, embeddings_initializer=embed_initializer, \n",
    "                             name='DX_embed')(input_DX)\n",
    "DX_embed = MaskedDense(md_width, activation='relu')(DX_embed)\n",
    "DX_embed = MaskedSum()(DX_embed)\n",
    "input_PR = Input(shape = (n_PR,))\n",
    "PR_embed = Embedding(input_dim=n_code_cat, output_dim=code_embed_dim, mask_zero=True, embeddings_initializer=embed_initializer,\n",
    "                             name='PR_embed')(input_PR)\n",
    "PR_embed = MaskedDense(md_width, activation='relu')(PR_embed)\n",
    "PR_embed = MaskedSum()(PR_embed)\n",
    "input_hosp = Input(shape=(1,))\n",
    "hosp_embed = Embedding(input_dim=len(hosp_cat), output_dim=hosp_embed_dim, input_length=1)(input_hosp)\n",
    "hosp_embed = Reshape((hosp_embed_dim, ))(hosp_embed)\n",
    "input_other = Input(shape=(other_mat_tst.shape[1], ))\n",
    "merged = Concatenate(axis=1)([DX1_embed, DX_embed, PR_embed, input_other])\n",
    "x = Dense(fc_width, activation='relu')(merged)\n",
    "x = Dropout(dropout)(x)\n",
    "x = Concatenate(axis=1)([x, hosp_embed])\n",
    "prediction = Dense(1, activation='sigmoid', name='prediction', use_bias=False)(x)\n",
    "model = Model(inputs=[input_DX1, input_DX, input_PR, input_hosp, input_other], outputs=prediction)"
   ]
  },
  {
   "cell_type": "code",
   "execution_count": 28,
   "metadata": {},
   "outputs": [],
   "source": [
    "model.load_weights(model_path+'best30_hosp_ami0_0.h5')"
   ]
  },
  {
   "cell_type": "code",
   "execution_count": 30,
   "metadata": {},
   "outputs": [],
   "source": [
    "hosp_embed_layer = model.layers[15]"
   ]
  },
  {
   "cell_type": "code",
   "execution_count": 32,
   "metadata": {},
   "outputs": [],
   "source": [
    "hosp_embed_mat = hosp_embed_layer.get_weights()[0]"
   ]
  },
  {
   "cell_type": "code",
   "execution_count": 43,
   "metadata": {},
   "outputs": [
    {
     "data": {
      "text/plain": [
       "0.044123374"
      ]
     },
     "execution_count": 43,
     "metadata": {},
     "output_type": "execute_result"
    }
   ],
   "source": [
    "hosp_embed_mat.std()"
   ]
  },
  {
   "cell_type": "code",
   "execution_count": 41,
   "metadata": {},
   "outputs": [],
   "source": [
    "hosp_embed_mat = hosp_embed_mat*(model.layers[-1].get_weights()[0][-1, 0])"
   ]
  },
  {
   "cell_type": "code",
   "execution_count": 66,
   "metadata": {},
   "outputs": [],
   "source": [
    "hosp_embed_mats = []\n",
    "last_weights = []\n",
    "tst_seed = 1\n",
    "for val_seed in range(9):\n",
    "    model.load_weights(model_path+'best30_hosp_{}{}_{}.h5'.format(cohort, tst_seed, val_seed))\n",
    "    hosp_embed_layer = model.layers[15]\n",
    "    hosp_embed_mat = (hosp_embed_layer.get_weights()[0])*(model.layers[-1].get_weights()[0][-1, 0])\n",
    "    hosp_embed_mats.append(hosp_embed_mat)\n",
    "    last_weights.append((model.layers[-1].get_weights()[0][-1, 0]))"
   ]
  },
  {
   "cell_type": "code",
   "execution_count": 67,
   "metadata": {},
   "outputs": [],
   "source": [
    "for hosp_embed_mat in hosp_embed_mats:\n",
    "    hosp_embed_mat = (hosp_embed_mat - hosp_embed_mat.mean())/(hosp_embed_mat.std())"
   ]
  },
  {
   "cell_type": "code",
   "execution_count": 68,
   "metadata": {},
   "outputs": [],
   "source": [
    "hosp_embed_mats = np.column_stack(hosp_embed_mats)"
   ]
  },
  {
   "cell_type": "code",
   "execution_count": 69,
   "metadata": {},
   "outputs": [],
   "source": [
    "hosp_embed_avg1 = hosp_embed_mats.mean(axis=1)"
   ]
  },
  {
   "cell_type": "code",
   "execution_count": 65,
   "metadata": {},
   "outputs": [
    {
     "data": {
      "text/plain": [
       "(874,)"
      ]
     },
     "execution_count": 65,
     "metadata": {},
     "output_type": "execute_result"
    }
   ],
   "source": [
    "hosp_embed_avg0.shape"
   ]
  },
  {
   "cell_type": "code",
   "execution_count": 70,
   "metadata": {},
   "outputs": [
    {
     "data": {
      "text/plain": [
       "<matplotlib.collections.PathCollection at 0x2b007a4ff320>"
      ]
     },
     "execution_count": 70,
     "metadata": {},
     "output_type": "execute_result"
    },
    {
     "data": {
      "image/png": "[encoded data removed]",
      "text/plain": [
       "<Figure size 432x288 with 1 Axes>"
      ]
     },
     "metadata": {},
     "output_type": "display_data"
    }
   ],
   "source": [
    "plt.scatter(hosp_embed_avg0, hosp_embed_avg1)"
   ]
  }
 ],
 "metadata": {
  "kernelspec": {
   "display_name": "Python 3",
   "language": "python",
   "name": "python3"
  },
  "language_info": {
   "codemirror_mode": {
    "name": "ipython",
    "version": 3
   },
   "file_extension": ".py",
   "mimetype": "text/x-python",
   "name": "python",
   "nbconvert_exporter": "python",
   "pygments_lexer": "ipython3",
   "version": "3.5.4"
  }
 },
 "nbformat": 4,
 "nbformat_minor": 2
}
