{
 "cells": [
  {
   "cell_type": "code",
   "execution_count": 1,
   "metadata": {},
   "outputs": [
    {
     "data": {
      "text/html": [
       "\n",
       "<script>\n",
       "  function code_toggle() {\n",
       "    if (code_shown){\n",
       "      $('div.input').hide('500');\n",
       "      $('#toggleButton').val('Show Code')\n",
       "    } else {\n",
       "      $('div.input').show('500');\n",
       "      $('#toggleButton').val('Hide Code')\n",
       "    }\n",
       "    code_shown = !code_shown\n",
       "  }\n",
       "\n",
       "  $( document ).ready(function(){\n",
       "    code_shown=false;\n",
       "    $('div.input').hide()\n",
       "  });\n",
       "</script>\n",
       "<form action=\"javascript:code_toggle()\"><input type=\"submit\" id=\"toggleButton\" value=\"Show Code\"></form>\n"
      ],
      "text/plain": [
       "<IPython.core.display.HTML object>"
      ]
     },
     "execution_count": 1,
     "metadata": {},
     "output_type": "execute_result"
    }
   ],
   "source": [
    "from IPython.display import HTML\n",
    "HTML('''\n",
    "<script>\n",
    "  function code_toggle() {\n",
    "    if (code_shown){\n",
    "      $('div.input').hide('500');\n",
    "      $('#toggleButton').val('Show Code')\n",
    "    } else {\n",
    "      $('div.input').show('500');\n",
    "      $('#toggleButton').val('Hide Code')\n",
    "    }\n",
    "    code_shown = !code_shown\n",
    "  }\n",
    "\n",
    "  $( document ).ready(function(){\n",
    "    code_shown=false;\n",
    "    $('div.input').hide()\n",
    "  });\n",
    "</script>\n",
    "<form action=\"javascript:code_toggle()\"><input type=\"submit\" id=\"toggleButton\" value=\"Show Code\"></form>\n",
    "''')"
   ]
  },
  {
   "cell_type": "markdown",
   "metadata": {},
   "source": [
    "# Prediction Models by Comorbidities\n",
    "In this notebook we build different models to predict the 30-day readmission rate by the 29 comorbidity categories. "
   ]
  },
  {
   "cell_type": "code",
   "execution_count": 68,
   "metadata": {
    "scrolled": true
   },
   "outputs": [],
   "source": [
    "import pandas as pd\n",
    "import numpy as np\n",
    "import matplotlib.pyplot as plt\n",
    "#import statsmodels.api as sm\n",
    "from sklearn.model_selection import train_test_split\n",
    "import os"
   ]
  },
  {
   "cell_type": "code",
   "execution_count": 2,
   "metadata": {},
   "outputs": [],
   "source": [
    "%matplotlib inline"
   ]
  },
  {
   "cell_type": "code",
   "execution_count": 69,
   "metadata": {},
   "outputs": [],
   "source": [
    "path = '/nfs/turbo/intmed-bnallamo-turbo/wsliu/Data/NRD/'\n",
    "model_path = path + 'models/'\n",
    "if not os.path.exists(model_path): os.mkdir(model_path)"
   ]
  },
  {
   "cell_type": "markdown",
   "metadata": {},
   "source": [
    "## Data reading and splitting\n",
    "We first read the ami index cohort, select only the first admission of each patient, and do a train-test splitting. "
   ]
  },
  {
   "cell_type": "code",
   "execution_count": 7,
   "metadata": {},
   "outputs": [],
   "source": [
    "admissions = pd.read_csv(path+'cohorts/ami/comorbidities.csv')"
   ]
  },
  {
   "cell_type": "code",
   "execution_count": 8,
   "metadata": {},
   "outputs": [
    {
     "data": {
      "text/plain": [
       "Index(['CM_AIDS', 'CM_ALCOHOL', 'CM_ANEMDEF', 'CM_ARTH', 'CM_BLDLOSS',\n",
       "       'CM_CHF', 'CM_CHRNLUNG', 'CM_COAG', 'CM_DEPRESS', 'CM_DM', 'CM_DMCX',\n",
       "       'CM_DRUG', 'CM_HTN_C', 'CM_HYPOTHY', 'CM_LIVER', 'CM_LYMPH', 'CM_LYTES',\n",
       "       'CM_METS', 'CM_NEURO', 'CM_OBESE', 'CM_PARA', 'CM_PERIVASC', 'CM_PSYCH',\n",
       "       'CM_PULMCIRC', 'CM_RENLFAIL', 'CM_TUMOR', 'CM_ULCER', 'CM_VALVE',\n",
       "       'CM_WGHTLOSS', 'KEY_NRD', 'AGE', 'FEMALE', 'HOSP_NRD', 'NRD_VisitLink',\n",
       "       'NRD_DaysToEvent', 'readm30'],\n",
       "      dtype='object')"
      ]
     },
     "execution_count": 8,
     "metadata": {},
     "output_type": "execute_result"
    }
   ],
   "source": [
    "admissions.columns"
   ]
  },
  {
   "cell_type": "code",
   "execution_count": 9,
   "metadata": {},
   "outputs": [],
   "source": [
    "comorb = [n for n in admissions.columns if n.startswith('CM')]"
   ]
  },
  {
   "cell_type": "code",
   "execution_count": 6,
   "metadata": {},
   "outputs": [],
   "source": [
    "admissions = admissions.sort_values(['NRD_VisitLink', 'NRD_DaysToEvent'])"
   ]
  },
  {
   "cell_type": "markdown",
   "metadata": {},
   "source": [
    "Pick only the first admission of each patient, i.e., one patient only contribute one sample:"
   ]
  },
  {
   "cell_type": "code",
   "execution_count": 7,
   "metadata": {},
   "outputs": [],
   "source": [
    "patients_first = admissions.groupby('NRD_VisitLink', as_index=False).first()"
   ]
  },
  {
   "cell_type": "code",
   "execution_count": 8,
   "metadata": {},
   "outputs": [
    {
     "data": {
      "text/plain": [
       "False    170265\n",
       "True      25430\n",
       "Name: readm30, dtype: int64"
      ]
     },
     "execution_count": 8,
     "metadata": {},
     "output_type": "execute_result"
    }
   ],
   "source": [
    "patients_first['readm30'].value_counts()"
   ]
  },
  {
   "cell_type": "code",
   "execution_count": 10,
   "metadata": {},
   "outputs": [],
   "source": [
    "patients_first.to_csv(path+'cohorts/ami/patients_first.csv', index=False)"
   ]
  },
  {
   "cell_type": "code",
   "execution_count": 14,
   "metadata": {},
   "outputs": [],
   "source": [
    "train_df, test_df = train_test_split(patients_first, test_size=0.25, random_state=123, stratify = patients_first['HOSP_NRD'])"
   ]
  },
  {
   "cell_type": "code",
   "execution_count": 20,
   "metadata": {},
   "outputs": [],
   "source": [
    "train_df.to_csv(path+'cohorts/ami/comorb_train.csv', index=False)\n",
    "test_df.to_csv(path+'cohorts/ami/comorb_test.csv', index=False)"
   ]
  },
  {
   "cell_type": "code",
   "execution_count": 5,
   "metadata": {},
   "outputs": [],
   "source": [
    "train_df = pd.read_csv(path+'cohorts/ami/comorb_train.csv')\n",
    "test_df = pd.read_csv(path+'cohorts/ami/comorb_test.csv')"
   ]
  },
  {
   "cell_type": "markdown",
   "metadata": {},
   "source": [
    "## Mixed Effects Logistic Regression\n",
    "This part is done by the R package lme4, in a separate notebook \"Mixed_effect_logistic.ipynb\". Here we directly read the result: prediction scores and the true outcomes for the test set."
   ]
  },
  {
   "cell_type": "code",
   "execution_count": 21,
   "metadata": {},
   "outputs": [],
   "source": [
    "pred_test = pd.read_csv(path+'cohorts/ami/prediction_MELR.csv')"
   ]
  },
  {
   "cell_type": "markdown",
   "metadata": {},
   "source": [
    "### Result visualization"
   ]
  },
  {
   "cell_type": "code",
   "execution_count": 76,
   "metadata": {},
   "outputs": [],
   "source": [
    "import os, sys\n",
    "module_path = os.path.abspath(os.path.join('..'))\n",
    "if module_path not in sys.path:\n",
    "    sys.path.append(module_path)\n",
    "    \n",
    "import utils"
   ]
  },
  {
   "cell_type": "code",
   "execution_count": 77,
   "metadata": {},
   "outputs": [],
   "source": [
    "from utils import plot_roc"
   ]
  },
  {
   "cell_type": "code",
   "execution_count": 33,
   "metadata": {},
   "outputs": [],
   "source": [
    "from importlib import reload\n",
    "reload(utils)\n",
    "from utils import plot_roc"
   ]
  },
  {
   "cell_type": "code",
   "execution_count": 24,
   "metadata": {},
   "outputs": [
    {
     "data": {
      "text/plain": [
       "{0: 0.66421634547509267}"
      ]
     },
     "execution_count": 24,
     "metadata": {},
     "output_type": "execute_result"
    },
    {
     "data": {
      "image/png": "[encoded data removed]",
      "text/plain": [
       "<Figure size 432x288 with 1 Axes>"
      ]
     },
     "metadata": {},
     "output_type": "display_data"
    }
   ],
   "source": [
    "plot_roc(pred_test['y_pred'].values, pred_test['y_true'].values)"
   ]
  },
  {
   "cell_type": "markdown",
   "metadata": {},
   "source": [
    "## Fully Connected Neural Nets"
   ]
  },
  {
   "cell_type": "markdown",
   "metadata": {},
   "source": [
    "### Prepare the training data"
   ]
  },
  {
   "cell_type": "code",
   "execution_count": 58,
   "metadata": {},
   "outputs": [],
   "source": [
    "N_train = len(train_df)\n",
    "N_test = len(test_df)"
   ]
  },
  {
   "cell_type": "code",
   "execution_count": 59,
   "metadata": {
    "scrolled": true
   },
   "outputs": [],
   "source": [
    "X_train = train_df[['AGE', 'FEMALE']+comorb].values\n",
    "X_test = test_df[['AGE', 'FEMALE']+comorb].values\n",
    "\n",
    "mean_age = train_df['AGE'].mean()\n",
    "sigma_age = train_df['AGE'].std()\n",
    "X_train[:, 0] = (X_train[:, 0] - mean_age)/sigma_age\n",
    "X_test[:, 0] = (X_test[:, 0] - mean_age)/sigma_age"
   ]
  },
  {
   "cell_type": "code",
   "execution_count": 12,
   "metadata": {},
   "outputs": [
    {
     "data": {
      "text/plain": [
       "(66.428340748513, 13.611199862390496)"
      ]
     },
     "execution_count": 12,
     "metadata": {},
     "output_type": "execute_result"
    }
   ],
   "source": [
    "mean_age, sigma_age"
   ]
  },
  {
   "cell_type": "code",
   "execution_count": 60,
   "metadata": {},
   "outputs": [],
   "source": [
    "hosp_series = pd.concat([train_df, test_df])['HOSP_NRD']\n",
    "hosp_series = hosp_series.astype(int).astype('category')\n",
    "\n",
    "old_cat = hosp_series.cat.categories\n",
    "n_cat = len(old_cat)\n",
    "\n",
    "hosp_series = hosp_series.cat.rename_categories(range(n_cat))\n",
    "hosp_array = hosp_series.astype(int).values\n",
    "\n",
    "hosp_train = hosp_array[:N_train]\n",
    "hosp_test = hosp_array[N_train:]"
   ]
  },
  {
   "cell_type": "code",
   "execution_count": 61,
   "metadata": {},
   "outputs": [],
   "source": [
    "y_train = train_df['readm30'].values.astype(float)\n",
    "y_test = test_df['readm30'].values.astype(float)"
   ]
  },
  {
   "cell_type": "code",
   "execution_count": 62,
   "metadata": {},
   "outputs": [
    {
     "data": {
      "text/plain": [
       "((146771, 31), (146771,), (146771,), (48924, 31), (48924,), (48924,))"
      ]
     },
     "execution_count": 62,
     "metadata": {},
     "output_type": "execute_result"
    }
   ],
   "source": [
    "X_train.shape, hosp_train.shape, y_train.shape, X_test.shape, hosp_test.shape, y_test.shape"
   ]
  },
  {
   "cell_type": "code",
   "execution_count": 63,
   "metadata": {
    "scrolled": true
   },
   "outputs": [
    {
     "data": {
      "text/plain": [
       "(dtype('float64'), dtype('int64'), dtype('float64'))"
      ]
     },
     "execution_count": 63,
     "metadata": {},
     "output_type": "execute_result"
    }
   ],
   "source": [
    "X_train.dtype, hosp_train.dtype, y_train.dtype"
   ]
  },
  {
   "cell_type": "markdown",
   "metadata": {},
   "source": [
    "### Model building"
   ]
  },
  {
   "cell_type": "code",
   "execution_count": 92,
   "metadata": {},
   "outputs": [],
   "source": [
    "from keras.layers import Input, Embedding, concatenate, Reshape, BatchNormalization\n",
    "from keras.models import Model\n",
    "from keras.layers.core import Dense, Activation, Dropout\n",
    "from keras.callbacks import ModelCheckpoint, ReduceLROnPlateau, EarlyStopping"
   ]
  },
  {
   "cell_type": "code",
   "execution_count": 101,
   "metadata": {},
   "outputs": [],
   "source": [
    "input_X = Input(shape=(31,))\n",
    "\n",
    "embed_dim = 10\n",
    "input_hosp = Input(shape=(1,))\n",
    "embed_out = Embedding(n_cat, embed_dim, input_length=1)(input_hosp)\n",
    "embed_out = Reshape((embed_dim,))(embed_out)\n",
    "\n",
    "merged_X = concatenate([input_X, embed_out], axis=1)\n",
    "\n",
    "x = Dense(64, activation='relu')(merged_X)\n",
    "x = Dense(64, activation='relu')(x)\n",
    "x = Dense(64)(x)\n",
    "x = BatchNormalization()(x)\n",
    "x = Activation('relu')(x)\n",
    "x = Dense(32, activation='relu')(x)\n",
    "x = Dense(32, activation='relu')(x)\n",
    "x = Dense(32)(x)\n",
    "x = BatchNormalization()(x)\n",
    "x = Activation('relu')(x)\n",
    "#x = Dropout(0.5)(x)\n",
    "x = Dense(16, activation='relu')(x)\n",
    "x = Dense(16, activation='relu')(x)\n",
    "\n",
    "prediction = Dense(1, activation='sigmoid')(x)\n",
    "model = Model(inputs=[input_X, input_hosp], outputs=prediction)"
   ]
  },
  {
   "cell_type": "code",
   "execution_count": 102,
   "metadata": {},
   "outputs": [],
   "source": [
    "model.compile(optimizer='adam', loss='binary_crossentropy', metrics=['accuracy'])"
   ]
  },
  {
   "cell_type": "code",
   "execution_count": 103,
   "metadata": {},
   "outputs": [],
   "source": [
    "checkpointer = ModelCheckpoint(filepath=model_path+'ami_comorb1.h5', verbose=0, save_best_only=True, save_weights_only=True)\n",
    "reduce_lr = ReduceLROnPlateau(monitor='val_loss', factor=0.2, patience=5, min_lr=1.e-8)\n",
    "earlystop = EarlyStopping(monitor='val_loss', patience=10)"
   ]
  },
  {
   "cell_type": "code",
   "execution_count": 104,
   "metadata": {},
   "outputs": [
    {
     "name": "stdout",
     "output_type": "stream",
     "text": [
      "Train on 146771 samples, validate on 48924 samples\n",
      "Epoch 1/20\n",
      "146771/146771 [==============================] - 20s 137us/step - loss: 0.3742 - acc: 0.8696 - val_loss: 0.3676 - val_acc: 0.8715\n",
      "Epoch 2/20\n",
      "146771/146771 [==============================] - 19s 130us/step - loss: 0.3669 - acc: 0.8696 - val_loss: 0.3663 - val_acc: 0.8715\n",
      "Epoch 3/20\n",
      "146771/146771 [==============================] - 19s 130us/step - loss: 0.3645 - acc: 0.8696 - val_loss: 0.3678 - val_acc: 0.8715\n",
      "Epoch 4/20\n",
      "146771/146771 [==============================] - 19s 130us/step - loss: 0.3623 - acc: 0.8696 - val_loss: 0.3678 - val_acc: 0.8715\n",
      "Epoch 5/20\n",
      "146771/146771 [==============================] - 19s 130us/step - loss: 0.3604 - acc: 0.8696 - val_loss: 0.3688 - val_acc: 0.8715\n",
      "Epoch 6/20\n",
      "146771/146771 [==============================] - 19s 129us/step - loss: 0.3577 - acc: 0.8696 - val_loss: 0.3702 - val_acc: 0.8715\n",
      "Epoch 7/20\n",
      "146771/146771 [==============================] - 19s 130us/step - loss: 0.3554 - acc: 0.8696 - val_loss: 0.3755 - val_acc: 0.8715\n",
      "Epoch 8/20\n",
      "146771/146771 [==============================] - 19s 131us/step - loss: 0.3523 - acc: 0.8696 - val_loss: 0.3778 - val_acc: 0.8715\n",
      "Epoch 9/20\n",
      "146771/146771 [==============================] - 19s 129us/step - loss: 0.3430 - acc: 0.8696 - val_loss: 0.3846 - val_acc: 0.8715\n",
      "Epoch 10/20\n",
      "146771/146771 [==============================] - 19s 129us/step - loss: 0.3395 - acc: 0.8696 - val_loss: 0.3908 - val_acc: 0.8715\n",
      "Epoch 11/20\n",
      "146771/146771 [==============================] - 19s 129us/step - loss: 0.3371 - acc: 0.8696 - val_loss: 0.3939 - val_acc: 0.8715\n",
      "Epoch 12/20\n",
      "146771/146771 [==============================] - 19s 130us/step - loss: 0.3351 - acc: 0.8696 - val_loss: 0.3921 - val_acc: 0.8715\n"
     ]
    }
   ],
   "source": [
    "hist = model.fit([X_train, hosp_train], y_train, batch_size=128, epochs=20, callbacks=[checkpointer, reduce_lr, earlystop],\n",
    "                 validation_data=[[X_test, hosp_test], y_test])"
   ]
  },
  {
   "cell_type": "code",
   "execution_count": 105,
   "metadata": {},
   "outputs": [],
   "source": [
    "model.load_weights(model_path+'ami_comorb1.h5')"
   ]
  },
  {
   "cell_type": "code",
   "execution_count": 106,
   "metadata": {},
   "outputs": [],
   "source": [
    "y_pred = model.predict([X_test, hosp_test], batch_size=128)"
   ]
  },
  {
   "cell_type": "code",
   "execution_count": 107,
   "metadata": {},
   "outputs": [],
   "source": [
    "y_pred = y_pred.reshape(y_test.shape)"
   ]
  },
  {
   "cell_type": "code",
   "execution_count": 108,
   "metadata": {},
   "outputs": [
    {
     "data": {
      "text/plain": [
       "{0: 0.66082333701057117}"
      ]
     },
     "execution_count": 108,
     "metadata": {},
     "output_type": "execute_result"
    },
    {
     "data": {
      "image/png": "[encoded data removed]",
      "text/plain": [
       "<Figure size 432x288 with 1 Axes>"
      ]
     },
     "metadata": {},
     "output_type": "display_data"
    }
   ],
   "source": [
    "plot_roc(y_pred, y_test)"
   ]
  }
 ],
 "metadata": {
  "kernelspec": {
   "display_name": "Python 3",
   "language": "python",
   "name": "python3"
  },
  "language_info": {
   "codemirror_mode": {
    "name": "ipython",
    "version": 3
   },
   "file_extension": ".py",
   "mimetype": "text/x-python",
   "name": "python",
   "nbconvert_exporter": "python",
   "pygments_lexer": "ipython3",
   "version": "3.5.4"
  }
 },
 "nbformat": 4,
 "nbformat_minor": 2
}
