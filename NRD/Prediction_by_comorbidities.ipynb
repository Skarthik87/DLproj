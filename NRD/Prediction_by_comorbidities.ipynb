{
 "cells": [
  {
   "cell_type": "code",
   "execution_count": 1,
   "metadata": {},
   "outputs": [
    {
     "data": {
      "text/html": [
       "\n",
       "<script>\n",
       "  function code_toggle() {\n",
       "    if (code_shown){\n",
       "      $('div.input').hide('500');\n",
       "      $('#toggleButton').val('Show Code')\n",
       "    } else {\n",
       "      $('div.input').show('500');\n",
       "      $('#toggleButton').val('Hide Code')\n",
       "    }\n",
       "    code_shown = !code_shown\n",
       "  }\n",
       "\n",
       "  $( document ).ready(function(){\n",
       "    code_shown=false;\n",
       "    $('div.input').hide()\n",
       "  });\n",
       "</script>\n",
       "<form action=\"javascript:code_toggle()\"><input type=\"submit\" id=\"toggleButton\" value=\"Show Code\"></form>\n"
      ],
      "text/plain": [
       "<IPython.core.display.HTML object>"
      ]
     },
     "execution_count": 1,
     "metadata": {},
     "output_type": "execute_result"
    }
   ],
   "source": [
    "from IPython.display import HTML\n",
    "HTML('''\n",
    "<script>\n",
    "  function code_toggle() {\n",
    "    if (code_shown){\n",
    "      $('div.input').hide('500');\n",
    "      $('#toggleButton').val('Show Code')\n",
    "    } else {\n",
    "      $('div.input').show('500');\n",
    "      $('#toggleButton').val('Hide Code')\n",
    "    }\n",
    "    code_shown = !code_shown\n",
    "  }\n",
    "\n",
    "  $( document ).ready(function(){\n",
    "    code_shown=false;\n",
    "    $('div.input').hide()\n",
    "  });\n",
    "</script>\n",
    "<form action=\"javascript:code_toggle()\"><input type=\"submit\" id=\"toggleButton\" value=\"Show Code\"></form>\n",
    "''')"
   ]
  },
  {
   "cell_type": "markdown",
   "metadata": {},
   "source": [
    "# Prediction Models by Comorbidities\n",
    "In this notebook we build different models to predict the 30-day readmission rate by the 29 comorbidity categories. "
   ]
  },
  {
   "cell_type": "code",
   "execution_count": 1,
   "metadata": {
    "scrolled": true
   },
   "outputs": [],
   "source": [
    "import pandas as pd\n",
    "import numpy as np\n",
    "import matplotlib.pyplot as plt\n",
    "#import statsmodels.api as sm\n",
    "from sklearn.model_selection import train_test_split\n",
    "import os"
   ]
  },
  {
   "cell_type": "code",
   "execution_count": 2,
   "metadata": {},
   "outputs": [],
   "source": [
    "%matplotlib inline"
   ]
  },
  {
   "cell_type": "code",
   "execution_count": null,
   "metadata": {},
   "outputs": [],
   "source": [
    "path = '/nfs/turbo/intmed-bnallamo-turbo/wsliu/Data/NRD/'"
   ]
  },
  {
   "cell_type": "code",
   "execution_count": 3,
   "metadata": {},
   "outputs": [],
   "source": [
    "path = '/nfs/turbo/umms-awaljee/wsliu/Data/NRD/'"
   ]
  },
  {
   "cell_type": "code",
   "execution_count": 4,
   "metadata": {},
   "outputs": [],
   "source": [
    "model_path = path + 'models/'\n",
    "if not os.path.exists(model_path): os.mkdir(model_path)"
   ]
  },
  {
   "cell_type": "markdown",
   "metadata": {},
   "source": [
    "## Data reading and splitting\n",
    "We first read the ami index cohort, select only the first admission of each patient, and do a train-test splitting. "
   ]
  },
  {
   "cell_type": "code",
   "execution_count": 5,
   "metadata": {},
   "outputs": [],
   "source": [
    "admissions = pd.read_csv(path+'cohorts/ami/comorbidities.csv')"
   ]
  },
  {
   "cell_type": "code",
   "execution_count": 8,
   "metadata": {},
   "outputs": [
    {
     "data": {
      "text/plain": [
       "Index(['CM_AIDS', 'CM_ALCOHOL', 'CM_ANEMDEF', 'CM_ARTH', 'CM_BLDLOSS',\n",
       "       'CM_CHF', 'CM_CHRNLUNG', 'CM_COAG', 'CM_DEPRESS', 'CM_DM', 'CM_DMCX',\n",
       "       'CM_DRUG', 'CM_HTN_C', 'CM_HYPOTHY', 'CM_LIVER', 'CM_LYMPH', 'CM_LYTES',\n",
       "       'CM_METS', 'CM_NEURO', 'CM_OBESE', 'CM_PARA', 'CM_PERIVASC', 'CM_PSYCH',\n",
       "       'CM_PULMCIRC', 'CM_RENLFAIL', 'CM_TUMOR', 'CM_ULCER', 'CM_VALVE',\n",
       "       'CM_WGHTLOSS', 'KEY_NRD', 'AGE', 'FEMALE', 'HOSP_NRD', 'NRD_VisitLink',\n",
       "       'NRD_DaysToEvent', 'readm30'],\n",
       "      dtype='object')"
      ]
     },
     "execution_count": 8,
     "metadata": {},
     "output_type": "execute_result"
    }
   ],
   "source": [
    "admissions.columns"
   ]
  },
  {
   "cell_type": "code",
   "execution_count": 6,
   "metadata": {},
   "outputs": [],
   "source": [
    "comorb = [n for n in admissions.columns if n.startswith('CM')]"
   ]
  },
  {
   "cell_type": "code",
   "execution_count": 7,
   "metadata": {},
   "outputs": [],
   "source": [
    "admissions = admissions.sort_values(['NRD_VisitLink', 'NRD_DaysToEvent'])"
   ]
  },
  {
   "cell_type": "markdown",
   "metadata": {},
   "source": [
    "Pick only the first admission of each patient, i.e., one patient only contribute one sample:"
   ]
  },
  {
   "cell_type": "code",
   "execution_count": 8,
   "metadata": {},
   "outputs": [],
   "source": [
    "patients_first = admissions.drop_duplicates(subset=['NRD_VisitLink'])"
   ]
  },
  {
   "cell_type": "code",
   "execution_count": 9,
   "metadata": {},
   "outputs": [
    {
     "data": {
      "text/plain": [
       "False    158104\n",
       "True      23753\n",
       "Name: readm30, dtype: int64"
      ]
     },
     "execution_count": 9,
     "metadata": {},
     "output_type": "execute_result"
    }
   ],
   "source": [
    "patients_first['readm30'].value_counts()"
   ]
  },
  {
   "cell_type": "code",
   "execution_count": 10,
   "metadata": {},
   "outputs": [],
   "source": [
    "patients_first.to_csv(path+'cohorts/ami/patients_first.csv', index=False)"
   ]
  },
  {
   "cell_type": "code",
   "execution_count": 11,
   "metadata": {},
   "outputs": [],
   "source": [
    "train_df, test_df = train_test_split(patients_first, test_size=0.25, random_state=123, stratify = patients_first['HOSP_NRD'])"
   ]
  },
  {
   "cell_type": "code",
   "execution_count": 12,
   "metadata": {},
   "outputs": [],
   "source": [
    "train_df.to_csv(path+'cohorts/ami/comorb_train.csv', index=False)\n",
    "test_df.to_csv(path+'cohorts/ami/comorb_test.csv', index=False)"
   ]
  },
  {
   "cell_type": "code",
   "execution_count": 6,
   "metadata": {},
   "outputs": [],
   "source": [
    "train_df = pd.read_csv(path+'cohorts/ami/comorb_train.csv')\n",
    "test_df = pd.read_csv(path+'cohorts/ami/comorb_test.csv')"
   ]
  },
  {
   "cell_type": "markdown",
   "metadata": {},
   "source": [
    "## Mixed Effects Logistic Regression\n",
    "This part is done by the R package lme4, in a separate notebook \"Mixed_effect_logistic.ipynb\". Here we directly read the result: prediction scores and the true outcomes for the test set."
   ]
  },
  {
   "cell_type": "code",
   "execution_count": 32,
   "metadata": {},
   "outputs": [],
   "source": [
    "pred_test = pd.read_csv(path+'cohorts/ami/prediction_MELR.csv')"
   ]
  },
  {
   "cell_type": "markdown",
   "metadata": {},
   "source": [
    "### Result visualization"
   ]
  },
  {
   "cell_type": "code",
   "execution_count": 29,
   "metadata": {},
   "outputs": [],
   "source": [
    "import os, sys\n",
    "module_path = os.path.abspath(os.path.join('..'))\n",
    "if module_path not in sys.path:\n",
    "    sys.path.append(module_path)\n",
    "    \n",
    "import utils"
   ]
  },
  {
   "cell_type": "code",
   "execution_count": 30,
   "metadata": {},
   "outputs": [],
   "source": [
    "from utils import plot_roc"
   ]
  },
  {
   "cell_type": "code",
   "execution_count": 33,
   "metadata": {},
   "outputs": [],
   "source": [
    "from importlib import reload\n",
    "reload(utils)\n",
    "from utils import plot_roc"
   ]
  },
  {
   "cell_type": "code",
   "execution_count": 33,
   "metadata": {},
   "outputs": [
    {
     "data": {
      "text/plain": [
       "{0: 0.6645320712674248}"
      ]
     },
     "execution_count": 33,
     "metadata": {},
     "output_type": "execute_result"
    },
    {
     "data": {
      "image/png": "[encoded data removed]",
      "text/plain": [
       "<Figure size 432x288 with 1 Axes>"
      ]
     },
     "metadata": {},
     "output_type": "display_data"
    }
   ],
   "source": [
    "plot_roc(pred_test['y_pred'].values, pred_test['y_true'].values)"
   ]
  },
  {
   "cell_type": "markdown",
   "metadata": {},
   "source": [
    "## Fully Connected Neural Nets"
   ]
  },
  {
   "cell_type": "markdown",
   "metadata": {},
   "source": [
    "### Prepare the training data"
   ]
  },
  {
   "cell_type": "code",
   "execution_count": 13,
   "metadata": {},
   "outputs": [],
   "source": [
    "N_train = len(train_df)\n",
    "N_test = len(test_df)"
   ]
  },
  {
   "cell_type": "code",
   "execution_count": 14,
   "metadata": {
    "scrolled": true
   },
   "outputs": [],
   "source": [
    "X_train = train_df[['AGE', 'FEMALE']+comorb].values\n",
    "X_test = test_df[['AGE', 'FEMALE']+comorb].values\n",
    "\n",
    "mean_age = train_df['AGE'].mean()\n",
    "sigma_age = train_df['AGE'].std()\n",
    "X_train[:, 0] = (X_train[:, 0] - mean_age)/sigma_age\n",
    "X_test[:, 0] = (X_test[:, 0] - mean_age)/sigma_age"
   ]
  },
  {
   "cell_type": "code",
   "execution_count": 15,
   "metadata": {},
   "outputs": [
    {
     "data": {
      "text/plain": [
       "(66.18001788961229, 13.801148871105399)"
      ]
     },
     "execution_count": 15,
     "metadata": {},
     "output_type": "execute_result"
    }
   ],
   "source": [
    "mean_age, sigma_age"
   ]
  },
  {
   "cell_type": "code",
   "execution_count": 16,
   "metadata": {},
   "outputs": [],
   "source": [
    "hosp_series = pd.concat([train_df, test_df])['HOSP_NRD']\n",
    "hosp_series = hosp_series.astype(int).astype('category')\n",
    "\n",
    "old_cat = hosp_series.cat.categories\n",
    "n_cat = len(old_cat)\n",
    "\n",
    "hosp_series = hosp_series.cat.rename_categories(range(n_cat))\n",
    "hosp_array = hosp_series.astype(int).values\n",
    "\n",
    "hosp_train = hosp_array[:N_train]\n",
    "hosp_test = hosp_array[N_train:]"
   ]
  },
  {
   "cell_type": "code",
   "execution_count": 17,
   "metadata": {},
   "outputs": [],
   "source": [
    "y_train = train_df['readm30'].values.astype(int)\n",
    "y_test = test_df['readm30'].values.astype(int)"
   ]
  },
  {
   "cell_type": "code",
   "execution_count": 62,
   "metadata": {},
   "outputs": [
    {
     "data": {
      "text/plain": [
       "((146771, 31), (146771,), (146771,), (48924, 31), (48924,), (48924,))"
      ]
     },
     "execution_count": 62,
     "metadata": {},
     "output_type": "execute_result"
    }
   ],
   "source": [
    "X_train.shape, hosp_train.shape, y_train.shape, X_test.shape, hosp_test.shape, y_test.shape"
   ]
  },
  {
   "cell_type": "code",
   "execution_count": 63,
   "metadata": {
    "scrolled": true
   },
   "outputs": [
    {
     "data": {
      "text/plain": [
       "(dtype('float64'), dtype('int64'), dtype('float64'))"
      ]
     },
     "execution_count": 63,
     "metadata": {},
     "output_type": "execute_result"
    }
   ],
   "source": [
    "X_train.dtype, hosp_train.dtype, y_train.dtype"
   ]
  },
  {
   "cell_type": "markdown",
   "metadata": {},
   "source": [
    "### Model building"
   ]
  },
  {
   "cell_type": "code",
   "execution_count": 18,
   "metadata": {},
   "outputs": [
    {
     "name": "stderr",
     "output_type": "stream",
     "text": [
      "/sw/lsa/centos7/python-anaconda-arc-connect/created-20170421/lib/python3.5/site-packages/h5py/__init__.py:36: FutureWarning: Conversion of the second argument of issubdtype from `float` to `np.floating` is deprecated. In future, it will be treated as `np.float64 == np.dtype(float).type`.\n",
      "  from ._conv import register_converters as _register_converters\n",
      "Using TensorFlow backend.\n"
     ]
    }
   ],
   "source": [
    "from keras.layers import Input, Embedding, concatenate, Reshape, BatchNormalization\n",
    "from keras.models import Model\n",
    "from keras.layers.core import Dense, Activation, Dropout\n",
    "from keras.callbacks import ModelCheckpoint, ReduceLROnPlateau, EarlyStopping\n",
    "from keras.utils import to_categorical"
   ]
  },
  {
   "cell_type": "code",
   "execution_count": 19,
   "metadata": {},
   "outputs": [],
   "source": [
    "Y_train = to_categorical(y_train)\n",
    "Y_test = to_categorical(y_test)"
   ]
  },
  {
   "cell_type": "code",
   "execution_count": 20,
   "metadata": {},
   "outputs": [],
   "source": [
    "input_X = Input(shape=(31,))\n",
    "\n",
    "embed_dim = 1\n",
    "input_hosp = Input(shape=(1,))\n",
    "embed_out = Embedding(n_cat, embed_dim, input_length=1)(input_hosp)\n",
    "embed_out = Reshape((embed_dim,))(embed_out)\n",
    "\n",
    "merged_X = concatenate([input_X, embed_out], axis=1)\n",
    "\n",
    "x = Dense(64, activation='relu')(merged_X)\n",
    "x = Dense(64, activation='relu')(x)\n",
    "x = Dense(64)(x)\n",
    "x = BatchNormalization()(x)\n",
    "x = Activation('relu')(x)\n",
    "x = Dense(32, activation='relu')(x)\n",
    "x = Dense(32, activation='relu')(x)\n",
    "x = Dense(32)(x)\n",
    "x = BatchNormalization()(x)\n",
    "x = Activation('relu')(x)\n",
    "#x = Dropout(0.5)(x)\n",
    "x = Dense(16, activation='relu')(x)\n",
    "x = Dense(16, activation='relu')(x)\n",
    "\n",
    "prediction = Dense(2, activation='softmax')(x)\n",
    "model = Model(inputs=[input_X, input_hosp], outputs=prediction)"
   ]
  },
  {
   "cell_type": "code",
   "execution_count": 21,
   "metadata": {},
   "outputs": [],
   "source": [
    "model.compile(optimizer='adam', loss='categorical_crossentropy', metrics=['accuracy'])"
   ]
  },
  {
   "cell_type": "code",
   "execution_count": 22,
   "metadata": {},
   "outputs": [],
   "source": [
    "checkpointer = ModelCheckpoint(filepath=model_path+'ami_comorb1.h5', verbose=0, save_best_only=True, save_weights_only=True)\n",
    "reduce_lr = ReduceLROnPlateau(monitor='val_loss', factor=0.2, patience=10, min_lr=1.e-8)\n",
    "earlystop = EarlyStopping(monitor='val_loss', patience=20)"
   ]
  },
  {
   "cell_type": "code",
   "execution_count": 23,
   "metadata": {},
   "outputs": [],
   "source": [
    "class_weight = {0:(len(y_train)/sum(Y_train[:,0])), 1:(len(y_train)/sum(Y_train[:,1]))}"
   ]
  },
  {
   "cell_type": "code",
   "execution_count": 24,
   "metadata": {
    "scrolled": false
   },
   "outputs": [
    {
     "name": "stdout",
     "output_type": "stream",
     "text": [
      "Train on 136392 samples, validate on 45465 samples\n",
      "Epoch 1/50\n",
      " - 9s - loss: 1.3134 - acc: 0.5820 - val_loss: 0.6557 - val_acc: 0.5865\n",
      "Epoch 2/50\n",
      " - 5s - loss: 1.2985 - acc: 0.5955 - val_loss: 0.6701 - val_acc: 0.5823\n",
      "Epoch 3/50\n",
      " - 5s - loss: 1.2880 - acc: 0.5984 - val_loss: 0.6559 - val_acc: 0.5843\n",
      "Epoch 4/50\n",
      " - 5s - loss: 1.2800 - acc: 0.6011 - val_loss: 0.6369 - val_acc: 0.5922\n",
      "Epoch 5/50\n",
      " - 5s - loss: 1.2757 - acc: 0.5992 - val_loss: 0.6578 - val_acc: 0.5908\n",
      "Epoch 6/50\n",
      " - 5s - loss: 1.2720 - acc: 0.5996 - val_loss: 0.6405 - val_acc: 0.5960\n",
      "Epoch 7/50\n",
      " - 5s - loss: 1.2693 - acc: 0.6028 - val_loss: 0.6567 - val_acc: 0.5981\n",
      "Epoch 8/50\n",
      " - 5s - loss: 1.2670 - acc: 0.6074 - val_loss: 0.6851 - val_acc: 0.5597\n",
      "Epoch 9/50\n",
      " - 5s - loss: 1.2652 - acc: 0.6055 - val_loss: 0.6301 - val_acc: 0.6174\n",
      "Epoch 10/50\n",
      " - 5s - loss: 1.2623 - acc: 0.6061 - val_loss: 0.6572 - val_acc: 0.5918\n",
      "Epoch 11/50\n",
      " - 5s - loss: 1.2611 - acc: 0.6038 - val_loss: 0.6313 - val_acc: 0.6039\n",
      "Epoch 12/50\n",
      " - 5s - loss: 1.2577 - acc: 0.6079 - val_loss: 0.6456 - val_acc: 0.5798\n",
      "Epoch 13/50\n",
      " - 5s - loss: 1.2559 - acc: 0.6107 - val_loss: 0.6515 - val_acc: 0.5847\n",
      "Epoch 14/50\n",
      " - 5s - loss: 1.2532 - acc: 0.6157 - val_loss: 0.6265 - val_acc: 0.5924\n",
      "Epoch 15/50\n",
      " - 5s - loss: 1.2504 - acc: 0.6105 - val_loss: 0.6428 - val_acc: 0.6120\n",
      "Epoch 16/50\n",
      " - 5s - loss: 1.2476 - acc: 0.6119 - val_loss: 0.6611 - val_acc: 0.6015\n",
      "Epoch 17/50\n",
      " - 5s - loss: 1.2448 - acc: 0.6166 - val_loss: 0.7013 - val_acc: 0.5493\n",
      "Epoch 18/50\n",
      " - 5s - loss: 1.2417 - acc: 0.6152 - val_loss: 0.6503 - val_acc: 0.5912\n",
      "Epoch 19/50\n",
      " - 5s - loss: 1.2378 - acc: 0.6189 - val_loss: 0.6611 - val_acc: 0.5951\n",
      "Epoch 20/50\n",
      " - 5s - loss: 1.2348 - acc: 0.6195 - val_loss: 0.6570 - val_acc: 0.5745\n",
      "Epoch 21/50\n",
      " - 5s - loss: 1.2327 - acc: 0.6202 - val_loss: 0.6669 - val_acc: 0.5898\n",
      "Epoch 22/50\n",
      " - 5s - loss: 1.2292 - acc: 0.6261 - val_loss: 0.6556 - val_acc: 0.5949\n",
      "Epoch 23/50\n",
      " - 5s - loss: 1.2249 - acc: 0.6255 - val_loss: 0.6700 - val_acc: 0.5905\n",
      "Epoch 24/50\n",
      " - 5s - loss: 1.2219 - acc: 0.6216 - val_loss: 0.6554 - val_acc: 0.5850\n",
      "Epoch 25/50\n",
      " - 5s - loss: 1.2176 - acc: 0.6283 - val_loss: 0.6387 - val_acc: 0.6087\n",
      "Epoch 26/50\n",
      " - 5s - loss: 1.1915 - acc: 0.6407 - val_loss: 0.6463 - val_acc: 0.6094\n",
      "Epoch 27/50\n",
      " - 5s - loss: 1.1791 - acc: 0.6459 - val_loss: 0.6471 - val_acc: 0.6144\n",
      "Epoch 28/50\n",
      " - 5s - loss: 1.1742 - acc: 0.6512 - val_loss: 0.6425 - val_acc: 0.6160\n",
      "Epoch 29/50\n",
      " - 5s - loss: 1.1698 - acc: 0.6506 - val_loss: 0.6620 - val_acc: 0.5989\n",
      "Epoch 30/50\n",
      " - 5s - loss: 1.1641 - acc: 0.6545 - val_loss: 0.6498 - val_acc: 0.6168\n",
      "Epoch 31/50\n",
      " - 5s - loss: 1.1610 - acc: 0.6561 - val_loss: 0.6600 - val_acc: 0.6162\n",
      "Epoch 32/50\n",
      " - 5s - loss: 1.1582 - acc: 0.6575 - val_loss: 0.6543 - val_acc: 0.6117\n",
      "Epoch 33/50\n",
      " - 5s - loss: 1.1547 - acc: 0.6593 - val_loss: 0.6496 - val_acc: 0.6212\n",
      "Epoch 34/50\n",
      " - 5s - loss: 1.1504 - acc: 0.6618 - val_loss: 0.6625 - val_acc: 0.6145\n"
     ]
    }
   ],
   "source": [
    "hist = model.fit([X_train, hosp_train], Y_train, batch_size=256, epochs=50, callbacks=[checkpointer, reduce_lr, earlystop],\n",
    "                 validation_data=[[X_test, hosp_test], Y_test], class_weight = class_weight, verbose=2)"
   ]
  },
  {
   "cell_type": "code",
   "execution_count": 25,
   "metadata": {},
   "outputs": [],
   "source": [
    "model.load_weights(model_path+'ami_comorb1.h5')"
   ]
  },
  {
   "cell_type": "code",
   "execution_count": 26,
   "metadata": {},
   "outputs": [],
   "source": [
    "y_pred = model.predict([X_test, hosp_test], batch_size=128)"
   ]
  },
  {
   "cell_type": "code",
   "execution_count": 27,
   "metadata": {},
   "outputs": [],
   "source": [
    "y_pred = y_pred[:,1]"
   ]
  },
  {
   "cell_type": "code",
   "execution_count": 31,
   "metadata": {
    "scrolled": true
   },
   "outputs": [
    {
     "data": {
      "text/plain": [
       "{0: 0.6534134147567865}"
      ]
     },
     "execution_count": 31,
     "metadata": {},
     "output_type": "execute_result"
    },
    {
     "data": {
      "image/png": "[encoded data removed]",
      "text/plain": [
       "<Figure size 432x288 with 1 Axes>"
      ]
     },
     "metadata": {},
     "output_type": "display_data"
    }
   ],
   "source": [
    "plot_roc(y_pred, y_test)"
   ]
  }
 ],
 "metadata": {
  "kernelspec": {
   "display_name": "Python 3",
   "language": "python",
   "name": "python3"
  },
  "language_info": {
   "codemirror_mode": {
    "name": "ipython",
    "version": 3
   },
   "file_extension": ".py",
   "mimetype": "text/x-python",
   "name": "python",
   "nbconvert_exporter": "python",
   "pygments_lexer": "ipython3",
   "version": "3.5.4"
  }
 },
 "nbformat": 4,
 "nbformat_minor": 2
}
