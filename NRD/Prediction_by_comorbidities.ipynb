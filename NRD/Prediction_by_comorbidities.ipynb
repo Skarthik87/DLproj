{
 "cells": [
  {
   "cell_type": "code",
   "execution_count": 1,
   "metadata": {},
   "outputs": [
    {
     "data": {
      "text/html": [
       "\n",
       "<script>\n",
       "  function code_toggle() {\n",
       "    if (code_shown){\n",
       "      $('div.input').hide('500');\n",
       "      $('#toggleButton').val('Show Code')\n",
       "    } else {\n",
       "      $('div.input').show('500');\n",
       "      $('#toggleButton').val('Hide Code')\n",
       "    }\n",
       "    code_shown = !code_shown\n",
       "  }\n",
       "\n",
       "  $( document ).ready(function(){\n",
       "    code_shown=false;\n",
       "    $('div.input').hide()\n",
       "  });\n",
       "</script>\n",
       "<form action=\"javascript:code_toggle()\"><input type=\"submit\" id=\"toggleButton\" value=\"Show Code\"></form>\n"
      ],
      "text/plain": [
       "<IPython.core.display.HTML object>"
      ]
     },
     "execution_count": 1,
     "metadata": {},
     "output_type": "execute_result"
    }
   ],
   "source": [
    "from IPython.display import HTML\n",
    "HTML('''\n",
    "<script>\n",
    "  function code_toggle() {\n",
    "    if (code_shown){\n",
    "      $('div.input').hide('500');\n",
    "      $('#toggleButton').val('Show Code')\n",
    "    } else {\n",
    "      $('div.input').show('500');\n",
    "      $('#toggleButton').val('Hide Code')\n",
    "    }\n",
    "    code_shown = !code_shown\n",
    "  }\n",
    "\n",
    "  $( document ).ready(function(){\n",
    "    code_shown=false;\n",
    "    $('div.input').hide()\n",
    "  });\n",
    "</script>\n",
    "<form action=\"javascript:code_toggle()\"><input type=\"submit\" id=\"toggleButton\" value=\"Show Code\"></form>\n",
    "''')"
   ]
  },
  {
   "cell_type": "markdown",
   "metadata": {},
   "source": [
    "# Prediction Models by Comorbidities\n",
    "In this notebook we build different models to predict the 30-day readmission rate by the 29 comorbidity categories. "
   ]
  },
  {
   "cell_type": "code",
   "execution_count": 1,
   "metadata": {
    "scrolled": true
   },
   "outputs": [],
   "source": [
    "import pandas as pd\n",
    "import numpy as np\n",
    "import matplotlib.pyplot as plt\n",
    "#import statsmodels.api as sm\n",
    "from sklearn.model_selection import train_test_split\n",
    "import os"
   ]
  },
  {
   "cell_type": "code",
   "execution_count": 2,
   "metadata": {},
   "outputs": [],
   "source": [
    "%matplotlib inline"
   ]
  },
  {
   "cell_type": "code",
   "execution_count": null,
   "metadata": {},
   "outputs": [],
   "source": [
    "path = '/nfs/turbo/intmed-bnallamo-turbo/wsliu/Data/NRD/'"
   ]
  },
  {
   "cell_type": "code",
   "execution_count": 3,
   "metadata": {},
   "outputs": [],
   "source": [
    "path = '/nfs/turbo/umms-awaljee/wsliu/Data/NRD/'"
   ]
  },
  {
   "cell_type": "code",
   "execution_count": 4,
   "metadata": {},
   "outputs": [],
   "source": [
    "model_path = path + 'models/'\n",
    "if not os.path.exists(model_path): os.mkdir(model_path)"
   ]
  },
  {
   "cell_type": "markdown",
   "metadata": {},
   "source": [
    "## Data reading and splitting\n",
    "We first read the ami index cohort, select only the first admission of each patient, and do a train-test splitting. "
   ]
  },
  {
   "cell_type": "code",
   "execution_count": 6,
   "metadata": {},
   "outputs": [],
   "source": [
    "admissions = pd.read_csv(path+'cohorts/ami/comorbidities.csv')"
   ]
  },
  {
   "cell_type": "code",
   "execution_count": 8,
   "metadata": {},
   "outputs": [
    {
     "data": {
      "text/plain": [
       "Index(['CM_AIDS', 'CM_ALCOHOL', 'CM_ANEMDEF', 'CM_ARTH', 'CM_BLDLOSS',\n",
       "       'CM_CHF', 'CM_CHRNLUNG', 'CM_COAG', 'CM_DEPRESS', 'CM_DM', 'CM_DMCX',\n",
       "       'CM_DRUG', 'CM_HTN_C', 'CM_HYPOTHY', 'CM_LIVER', 'CM_LYMPH', 'CM_LYTES',\n",
       "       'CM_METS', 'CM_NEURO', 'CM_OBESE', 'CM_PARA', 'CM_PERIVASC', 'CM_PSYCH',\n",
       "       'CM_PULMCIRC', 'CM_RENLFAIL', 'CM_TUMOR', 'CM_ULCER', 'CM_VALVE',\n",
       "       'CM_WGHTLOSS', 'KEY_NRD', 'AGE', 'FEMALE', 'HOSP_NRD', 'NRD_VisitLink',\n",
       "       'NRD_DaysToEvent', 'readm30'],\n",
       "      dtype='object')"
      ]
     },
     "execution_count": 8,
     "metadata": {},
     "output_type": "execute_result"
    }
   ],
   "source": [
    "admissions.columns"
   ]
  },
  {
   "cell_type": "code",
   "execution_count": 7,
   "metadata": {},
   "outputs": [],
   "source": [
    "comorb = [n for n in admissions.columns if n.startswith('CM')]"
   ]
  },
  {
   "cell_type": "code",
   "execution_count": 8,
   "metadata": {},
   "outputs": [],
   "source": [
    "admissions = admissions.sort_values(['NRD_VisitLink', 'NRD_DaysToEvent'])"
   ]
  },
  {
   "cell_type": "markdown",
   "metadata": {},
   "source": [
    "Pick only the first admission of each patient, i.e., one patient only contribute one sample:"
   ]
  },
  {
   "cell_type": "code",
   "execution_count": 9,
   "metadata": {},
   "outputs": [],
   "source": [
    "patients_first = admissions.drop_duplicates(subset=['NRD_VisitLink'])"
   ]
  },
  {
   "cell_type": "code",
   "execution_count": 10,
   "metadata": {},
   "outputs": [
    {
     "data": {
      "text/plain": [
       "False    158104\n",
       "True      23753\n",
       "Name: readm30, dtype: int64"
      ]
     },
     "execution_count": 10,
     "metadata": {},
     "output_type": "execute_result"
    }
   ],
   "source": [
    "patients_first['readm30'].value_counts()"
   ]
  },
  {
   "cell_type": "code",
   "execution_count": 10,
   "metadata": {},
   "outputs": [],
   "source": [
    "patients_first.to_csv(path+'cohorts/ami/patients_first.csv', index=False)"
   ]
  },
  {
   "cell_type": "code",
   "execution_count": 11,
   "metadata": {},
   "outputs": [],
   "source": [
    "train_df, test_df = train_test_split(patients_first, test_size=0.1, random_state=24, stratify = patients_first['HOSP_NRD'])"
   ]
  },
  {
   "cell_type": "code",
   "execution_count": 12,
   "metadata": {},
   "outputs": [],
   "source": [
    "train_df.to_csv(path+'cohorts/ami/comorb_train.csv', index=False)\n",
    "test_df.to_csv(path+'cohorts/ami/comorb_test.csv', index=False)"
   ]
  },
  {
   "cell_type": "code",
   "execution_count": 5,
   "metadata": {},
   "outputs": [],
   "source": [
    "train_df = pd.read_csv(path+'cohorts/ami/comorb_train.csv')\n",
    "test_df = pd.read_csv(path+'cohorts/ami/comorb_test.csv')"
   ]
  },
  {
   "cell_type": "markdown",
   "metadata": {},
   "source": [
    "## Mixed Effects Logistic Regression\n",
    "This part is done by the R package lme4, in a separate notebook \"Mixed_effect_logistic.ipynb\". Here we directly read the result: prediction scores and the true outcomes for the test set."
   ]
  },
  {
   "cell_type": "code",
   "execution_count": 13,
   "metadata": {},
   "outputs": [],
   "source": [
    "pred_test = pd.read_csv(path+'cohorts/ami/prediction_MELR.csv')"
   ]
  },
  {
   "cell_type": "markdown",
   "metadata": {},
   "source": [
    "### Result visualization"
   ]
  },
  {
   "cell_type": "code",
   "execution_count": 15,
   "metadata": {},
   "outputs": [],
   "source": [
    "import os, sys\n",
    "module_path = os.path.abspath(os.path.join('..'))\n",
    "if module_path not in sys.path:\n",
    "    sys.path.append(module_path)"
   ]
  },
  {
   "cell_type": "code",
   "execution_count": 16,
   "metadata": {},
   "outputs": [],
   "source": [
    "from DL_utils import plot_roc"
   ]
  },
  {
   "cell_type": "code",
   "execution_count": 17,
   "metadata": {},
   "outputs": [
    {
     "data": {
      "text/plain": [
       "{0: 0.6680398651215139}"
      ]
     },
     "execution_count": 17,
     "metadata": {},
     "output_type": "execute_result"
    },
    {
     "data": {
      "image/png": "[encoded data removed]",
      "text/plain": [
       "<Figure size 432x288 with 1 Axes>"
      ]
     },
     "metadata": {},
     "output_type": "display_data"
    }
   ],
   "source": [
    "plot_roc(pred_test['y_pred'].values, pred_test['y_true'].values)"
   ]
  },
  {
   "cell_type": "markdown",
   "metadata": {},
   "source": [
    "## Fully Connected Neural Nets"
   ]
  },
  {
   "cell_type": "markdown",
   "metadata": {},
   "source": [
    "### Prepare the training data"
   ]
  },
  {
   "cell_type": "code",
   "execution_count": 18,
   "metadata": {},
   "outputs": [],
   "source": [
    "df = pd.read_csv(path+'cohorts/ami/comorb_train.csv')"
   ]
  },
  {
   "cell_type": "code",
   "execution_count": 20,
   "metadata": {},
   "outputs": [],
   "source": [
    "trn_df, val_df = train_test_split(df, test_size=0.11, random_state=24, stratify = df['HOSP_NRD'])"
   ]
  },
  {
   "cell_type": "code",
   "execution_count": 21,
   "metadata": {},
   "outputs": [],
   "source": [
    "N_trn = len(trn_df)\n",
    "N_val = len(val_df)"
   ]
  },
  {
   "cell_type": "code",
   "execution_count": 23,
   "metadata": {
    "scrolled": true
   },
   "outputs": [],
   "source": [
    "X_trn = trn_df[['AGE', 'FEMALE']+comorb].values\n",
    "X_val = val_df[['AGE', 'FEMALE']+comorb].values\n",
    "\n",
    "mean_age = trn_df['AGE'].mean()\n",
    "sigma_age = trn_df['AGE'].std()\n",
    "X_trn[:, 0] = (X_trn[:, 0] - mean_age)/sigma_age\n",
    "X_val[:, 0] = (X_val[:, 0] - mean_age)/sigma_age"
   ]
  },
  {
   "cell_type": "code",
   "execution_count": 24,
   "metadata": {},
   "outputs": [
    {
     "data": {
      "text/plain": [
       "(66.17134972231185, 13.808092896091805)"
      ]
     },
     "execution_count": 24,
     "metadata": {},
     "output_type": "execute_result"
    }
   ],
   "source": [
    "mean_age, sigma_age"
   ]
  },
  {
   "cell_type": "code",
   "execution_count": 28,
   "metadata": {},
   "outputs": [],
   "source": [
    "hosp_series = pd.concat([trn_df, val_df])['HOSP_NRD']\n",
    "hosp_series = hosp_series.astype(int).astype('category')\n",
    "\n",
    "old_cat = hosp_series.cat.categories\n",
    "n_cat = len(old_cat)\n",
    "\n",
    "hosp_series = hosp_series.cat.rename_categories(range(n_cat))\n",
    "hosp_array = hosp_series.astype(int).values\n",
    "\n",
    "hosp_trn = hosp_array[:N_trn]\n",
    "hosp_val = hosp_array[N_trn:]"
   ]
  },
  {
   "cell_type": "code",
   "execution_count": 26,
   "metadata": {},
   "outputs": [],
   "source": [
    "y_trn = trn_df['readm30'].values.astype(int)\n",
    "y_val = val_df['readm30'].values.astype(int)"
   ]
  },
  {
   "cell_type": "code",
   "execution_count": 27,
   "metadata": {},
   "outputs": [
    {
     "data": {
      "text/plain": [
       "((145667, 31), (145667,), (145667,), (18004, 31), (36190,), (18004,))"
      ]
     },
     "execution_count": 27,
     "metadata": {},
     "output_type": "execute_result"
    }
   ],
   "source": [
    "X_trn.shape, hosp_trn.shape, y_trn.shape, X_val.shape, hosp_val.shape, y_val.shape"
   ]
  },
  {
   "cell_type": "code",
   "execution_count": 33,
   "metadata": {
    "scrolled": true
   },
   "outputs": [
    {
     "data": {
      "text/plain": [
       "(dtype('float64'), dtype('int64'), dtype('int64'))"
      ]
     },
     "execution_count": 33,
     "metadata": {},
     "output_type": "execute_result"
    }
   ],
   "source": [
    "X_trn.dtype, hosp_trn.dtype, y_trn.dtype"
   ]
  },
  {
   "cell_type": "markdown",
   "metadata": {},
   "source": [
    "### Model building"
   ]
  },
  {
   "cell_type": "code",
   "execution_count": 34,
   "metadata": {
    "scrolled": true
   },
   "outputs": [
    {
     "name": "stderr",
     "output_type": "stream",
     "text": [
      "/sw/lsa/centos7/python-anaconda-arc-connect/created-20170421/lib/python3.5/site-packages/h5py/__init__.py:36: FutureWarning: Conversion of the second argument of issubdtype from `float` to `np.floating` is deprecated. In future, it will be treated as `np.float64 == np.dtype(float).type`.\n",
      "  from ._conv import register_converters as _register_converters\n",
      "Using TensorFlow backend.\n"
     ]
    }
   ],
   "source": [
    "from keras.layers import Input, Embedding, concatenate, Reshape, BatchNormalization\n",
    "from keras.models import Model\n",
    "from keras.layers.core import Dense, Activation, Dropout\n",
    "from keras.callbacks import ModelCheckpoint, ReduceLROnPlateau, EarlyStopping\n",
    "from keras.utils import to_categorical"
   ]
  },
  {
   "cell_type": "code",
   "execution_count": 75,
   "metadata": {},
   "outputs": [
    {
     "data": {
      "text/plain": [
       "<module 'keras_addon' from '/home/wsliu/Codes/DLproj/keras_addon.py'>"
      ]
     },
     "execution_count": 75,
     "metadata": {},
     "output_type": "execute_result"
    }
   ],
   "source": [
    "from importlib import reload\n",
    "import keras_addon\n",
    "reload(keras_addon)"
   ]
  },
  {
   "cell_type": "code",
   "execution_count": 76,
   "metadata": {},
   "outputs": [],
   "source": [
    "from keras_addon import AUCCheckPoint"
   ]
  },
  {
   "cell_type": "code",
   "execution_count": 35,
   "metadata": {},
   "outputs": [],
   "source": [
    "Y_trn = to_categorical(y_trn)\n",
    "Y_val = to_categorical(y_val)"
   ]
  },
  {
   "cell_type": "code",
   "execution_count": 49,
   "metadata": {},
   "outputs": [],
   "source": [
    "input_X = Input(shape=(31,))\n",
    "\n",
    "embed_dim = 1\n",
    "input_hosp = Input(shape=(1,))\n",
    "embed_out = Embedding(n_cat, embed_dim, input_length=1)(input_hosp)\n",
    "embed_out = Reshape((embed_dim,))(embed_out)\n",
    "\n",
    "merged_X = concatenate([input_X, embed_out], axis=1)\n",
    "\n",
    "x = Dense(64, activation='relu')(merged_X)\n",
    "x = Dense(32, activation='relu')(x)\n",
    "x = Dense(16, activation='relu')(x)\n",
    "\n",
    "prediction = Dense(2, activation='softmax', name='readm')(x)\n",
    "model = Model(inputs=[input_X, input_hosp], outputs=prediction)"
   ]
  },
  {
   "cell_type": "code",
   "execution_count": 50,
   "metadata": {},
   "outputs": [],
   "source": [
    "model.compile(optimizer='adam', loss='categorical_crossentropy', metrics=['accuracy'])"
   ]
  },
  {
   "cell_type": "code",
   "execution_count": 79,
   "metadata": {},
   "outputs": [],
   "source": [
    "#checkpointer = ModelCheckpoint(filepath=model_path+'ami_comorb1.h5', verbose=0, save_best_only=True, save_weights_only=True)\n",
    "auc_checkpoint = AUCCheckPoint(model_path+'ami_comorb_auc1.h5', validation_y=y_val, validation_x=[X_val, hosp_val])\n",
    "reduce_lr = ReduceLROnPlateau(monitor='val_loss', factor=0.2, patience=10, min_lr=1.e-8)\n",
    "earlystop = EarlyStopping(monitor='val_loss', patience=10)"
   ]
  },
  {
   "cell_type": "code",
   "execution_count": 61,
   "metadata": {},
   "outputs": [],
   "source": [
    "class_weight = {0:(len(y_trn)/sum(Y_trn[:,0])), 1:(len(y_trn)/sum(Y_trn[:,1]))}"
   ]
  },
  {
   "cell_type": "code",
   "execution_count": 82,
   "metadata": {
    "scrolled": false
   },
   "outputs": [
    {
     "name": "stdout",
     "output_type": "stream",
     "text": [
      "Train on 145667 samples, validate on 18004 samples\n",
      "Epoch 1/50\n",
      " - 3s - loss: 1.2239 - acc: 0.6408 - val_loss: 0.6507 - val_acc: 0.6069\n",
      "AUC: 0.646\n",
      "\n",
      "Epoch 2/50\n",
      " - 2s - loss: 1.2238 - acc: 0.6413 - val_loss: 0.6530 - val_acc: 0.6052\n",
      "AUC: 0.646\n",
      "\n",
      "Epoch 3/50\n",
      " - 2s - loss: 1.2235 - acc: 0.6400 - val_loss: 0.6451 - val_acc: 0.6127\n",
      "AUC: 0.644\n",
      "\n",
      "Epoch 4/50\n",
      " - 2s - loss: 1.2232 - acc: 0.6404 - val_loss: 0.6445 - val_acc: 0.6149\n",
      "AUC: 0.646\n",
      "\n",
      "Epoch 5/50\n",
      " - 2s - loss: 1.2228 - acc: 0.6430 - val_loss: 0.6625 - val_acc: 0.5990\n",
      "AUC: 0.646\n",
      "\n",
      "Epoch 6/50\n",
      " - 2s - loss: 1.2224 - acc: 0.6410 - val_loss: 0.6515 - val_acc: 0.6094\n",
      "AUC: 0.646\n",
      "\n",
      "Epoch 7/50\n",
      " - 2s - loss: 1.2218 - acc: 0.6432 - val_loss: 0.6597 - val_acc: 0.6024\n",
      "AUC: 0.648\n",
      "\n",
      "Epoch 8/50\n",
      " - 2s - loss: 1.2215 - acc: 0.6420 - val_loss: 0.6441 - val_acc: 0.6150\n",
      "AUC: 0.646\n",
      "\n",
      "Epoch 9/50\n",
      " - 2s - loss: 1.2208 - acc: 0.6419 - val_loss: 0.6445 - val_acc: 0.6169\n",
      "AUC: 0.644\n",
      "\n",
      "Epoch 10/50\n",
      " - 2s - loss: 1.2204 - acc: 0.6439 - val_loss: 0.6431 - val_acc: 0.6167\n",
      "AUC: 0.644\n",
      "\n",
      "Epoch 11/50\n",
      " - 2s - loss: 1.2200 - acc: 0.6434 - val_loss: 0.6530 - val_acc: 0.6094\n",
      "AUC: 0.644\n",
      "\n",
      "Epoch 12/50\n",
      " - 2s - loss: 1.2197 - acc: 0.6441 - val_loss: 0.6462 - val_acc: 0.6153\n",
      "AUC: 0.645\n",
      "\n",
      "Epoch 13/50\n",
      " - 2s - loss: 1.2192 - acc: 0.6432 - val_loss: 0.6563 - val_acc: 0.6034\n",
      "AUC: 0.642\n",
      "\n",
      "Epoch 14/50\n",
      " - 2s - loss: 1.2187 - acc: 0.6441 - val_loss: 0.6378 - val_acc: 0.6220\n",
      "AUC: 0.643\n",
      "\n",
      "Epoch 15/50\n",
      " - 2s - loss: 1.2183 - acc: 0.6454 - val_loss: 0.6496 - val_acc: 0.6139\n",
      "AUC: 0.644\n",
      "\n",
      "Epoch 16/50\n",
      " - 3s - loss: 1.2178 - acc: 0.6453 - val_loss: 0.6573 - val_acc: 0.6082\n",
      "AUC: 0.643\n",
      "\n",
      "Epoch 17/50\n",
      " - 2s - loss: 1.2174 - acc: 0.6452 - val_loss: 0.6291 - val_acc: 0.6339\n",
      "AUC: 0.642\n",
      "\n",
      "Epoch 18/50\n",
      " - 2s - loss: 1.2169 - acc: 0.6458 - val_loss: 0.6340 - val_acc: 0.6268\n",
      "AUC: 0.641\n",
      "\n",
      "Epoch 19/50\n",
      " - 2s - loss: 1.2164 - acc: 0.6472 - val_loss: 0.6433 - val_acc: 0.6205\n",
      "AUC: 0.643\n",
      "\n",
      "Epoch 20/50\n",
      " - 2s - loss: 1.2160 - acc: 0.6476 - val_loss: 0.6547 - val_acc: 0.6105\n",
      "AUC: 0.643\n",
      "\n",
      "Epoch 21/50\n",
      " - 2s - loss: 1.2156 - acc: 0.6473 - val_loss: 0.6448 - val_acc: 0.6193\n",
      "AUC: 0.643\n",
      "\n",
      "Epoch 22/50\n",
      " - 2s - loss: 1.2151 - acc: 0.6485 - val_loss: 0.6499 - val_acc: 0.6130\n",
      "AUC: 0.641\n",
      "\n",
      "Epoch 23/50\n",
      " - 2s - loss: 1.2146 - acc: 0.6480 - val_loss: 0.6487 - val_acc: 0.6144\n",
      "AUC: 0.642\n",
      "\n",
      "Epoch 24/50\n",
      " - 2s - loss: 1.2139 - acc: 0.6480 - val_loss: 0.6450 - val_acc: 0.6194\n",
      "AUC: 0.640\n",
      "\n",
      "Epoch 25/50\n",
      " - 2s - loss: 1.2136 - acc: 0.6489 - val_loss: 0.6598 - val_acc: 0.6092\n",
      "AUC: 0.642\n",
      "\n",
      "Epoch 26/50\n",
      " - 2s - loss: 1.2135 - acc: 0.6459 - val_loss: 0.6327 - val_acc: 0.6329\n",
      "AUC: 0.640\n",
      "\n",
      "Epoch 27/50\n",
      " - 2s - loss: 1.2128 - acc: 0.6491 - val_loss: 0.6312 - val_acc: 0.6335\n",
      "AUC: 0.640\n",
      "\n"
     ]
    }
   ],
   "source": [
    "hist = model.fit([X_trn, hosp_trn], Y_trn, batch_size=256, epochs=50, callbacks=[auc_checkpoint, reduce_lr, earlystop],\n",
    "                 validation_data=[[X_val, hosp_val], Y_val], class_weight = class_weight, verbose=2)"
   ]
  },
  {
   "cell_type": "code",
   "execution_count": 25,
   "metadata": {},
   "outputs": [],
   "source": [
    "model.load_weights(model_path+'ami_comorb1.h5')"
   ]
  },
  {
   "cell_type": "code",
   "execution_count": 26,
   "metadata": {},
   "outputs": [],
   "source": [
    "y_pred = model.predict([X_test, hosp_test], batch_size=128)"
   ]
  },
  {
   "cell_type": "code",
   "execution_count": 27,
   "metadata": {},
   "outputs": [],
   "source": [
    "y_pred = y_pred[:,1]"
   ]
  },
  {
   "cell_type": "code",
   "execution_count": 31,
   "metadata": {
    "scrolled": true
   },
   "outputs": [
    {
     "data": {
      "text/plain": [
       "{0: 0.6534134147567865}"
      ]
     },
     "execution_count": 31,
     "metadata": {},
     "output_type": "execute_result"
    },
    {
     "data": {
      "image/png": "[encoded data removed]",
      "text/plain": [
       "<Figure size 432x288 with 1 Axes>"
      ]
     },
     "metadata": {},
     "output_type": "display_data"
    }
   ],
   "source": [
    "plot_roc(y_pred, y_test)"
   ]
  }
 ],
 "metadata": {
  "kernelspec": {
   "display_name": "Python 3",
   "language": "python",
   "name": "python3"
  },
  "language_info": {
   "codemirror_mode": {
    "name": "ipython",
    "version": 3
   },
   "file_extension": ".py",
   "mimetype": "text/x-python",
   "name": "python",
   "nbconvert_exporter": "python",
   "pygments_lexer": "ipython3",
   "version": "3.5.4"
  }
 },
 "nbformat": 4,
 "nbformat_minor": 2
}
