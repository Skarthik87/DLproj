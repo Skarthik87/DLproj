{
 "cells": [
  {
   "cell_type": "code",
   "execution_count": 1,
   "metadata": {},
   "outputs": [
    {
     "data": {
      "text/html": [
       "\n",
       "<script>\n",
       "  function code_toggle() {\n",
       "    if (code_shown){\n",
       "      $('div.input').hide('500');\n",
       "      $('#toggleButton').val('Show Code')\n",
       "    } else {\n",
       "      $('div.input').show('500');\n",
       "      $('#toggleButton').val('Hide Code')\n",
       "    }\n",
       "    code_shown = !code_shown\n",
       "  }\n",
       "\n",
       "  $( document ).ready(function(){\n",
       "    code_shown=false;\n",
       "    $('div.input').hide()\n",
       "  });\n",
       "</script>\n",
       "<form action=\"javascript:code_toggle()\"><input type=\"submit\" id=\"toggleButton\" value=\"Show Code\"></form>\n"
      ],
      "text/plain": [
       "<IPython.core.display.HTML object>"
      ]
     },
     "execution_count": 1,
     "metadata": {},
     "output_type": "execute_result"
    }
   ],
   "source": [
    "from IPython.display import HTML\n",
    "HTML('''\n",
    "<script>\n",
    "  function code_toggle() {\n",
    "    if (code_shown){\n",
    "      $('div.input').hide('500');\n",
    "      $('#toggleButton').val('Show Code')\n",
    "    } else {\n",
    "      $('div.input').show('500');\n",
    "      $('#toggleButton').val('Hide Code')\n",
    "    }\n",
    "    code_shown = !code_shown\n",
    "  }\n",
    "\n",
    "  $( document ).ready(function(){\n",
    "    code_shown=false;\n",
    "    $('div.input').hide()\n",
    "  });\n",
    "</script>\n",
    "<form action=\"javascript:code_toggle()\"><input type=\"submit\" id=\"toggleButton\" value=\"Show Code\"></form>\n",
    "''')"
   ]
  },
  {
   "cell_type": "markdown",
   "metadata": {},
   "source": [
    "# Prediction Models by Comorbidities\n",
    "In this notebook we build different models to predict the 30-day readmission rate by the 29 comorbidity categories. "
   ]
  },
  {
   "cell_type": "code",
   "execution_count": 1,
   "metadata": {
    "scrolled": true
   },
   "outputs": [],
   "source": [
    "import pandas as pd\n",
    "import numpy as np\n",
    "import matplotlib.pyplot as plt\n",
    "from sklearn.model_selection import train_test_split\n",
    "import os\n",
    "\n",
    "import sys\n",
    "module_path = os.path.abspath(os.path.join('..'))\n",
    "if module_path not in sys.path:\n",
    "    sys.path.append(module_path)\n",
    "    \n",
    "from DL_utils import plot_roc\n",
    "from sklearn.metrics import roc_curve, auc\n",
    "import statsmodels.stats.api as sms"
   ]
  },
  {
   "cell_type": "code",
   "execution_count": 4,
   "metadata": {},
   "outputs": [],
   "source": [
    "%matplotlib inline"
   ]
  },
  {
   "cell_type": "code",
   "execution_count": 4,
   "metadata": {},
   "outputs": [],
   "source": [
    "path = '/nfs/turbo/intmed-bnallamo-turbo/wsliu/Data/NRD/'"
   ]
  },
  {
   "cell_type": "code",
   "execution_count": 2,
   "metadata": {},
   "outputs": [],
   "source": [
    "path = '/nfs/turbo/umms-awaljee/wsliu/Data/NRD/'"
   ]
  },
  {
   "cell_type": "code",
   "execution_count": 3,
   "metadata": {},
   "outputs": [],
   "source": [
    "model_path = path + 'models/'\n",
    "if not os.path.exists(model_path): os.mkdir(model_path)"
   ]
  },
  {
   "cell_type": "code",
   "execution_count": 4,
   "metadata": {},
   "outputs": [],
   "source": [
    "from ccs_tools import core_dtypes_pd"
   ]
  },
  {
   "cell_type": "markdown",
   "metadata": {},
   "source": [
    "## Data reading and splitting\n",
    "We first read the ami index cohort, select only the first admission of each patient, and do a train-test splitting. "
   ]
  },
  {
   "cell_type": "code",
   "execution_count": 7,
   "metadata": {},
   "outputs": [],
   "source": [
    "cohort = 'ami'\n",
    "n_fold = 10"
   ]
  },
  {
   "cell_type": "code",
   "execution_count": 6,
   "metadata": {},
   "outputs": [],
   "source": [
    "data_df = pd.read_csv(path+'cohorts/{}/{}_pred.csv'.format(cohort, cohort), dtype=core_dtypes_pd)"
   ]
  },
  {
   "cell_type": "code",
   "execution_count": 8,
   "metadata": {},
   "outputs": [],
   "source": [
    "for fold_ind in range(n_fold):\n",
    "    tst_key = pd.read_csv(path+'cohorts/{}/tst_key{}.csv'.format(cohort, fold_ind), names=['KEY_NRD'])\n",
    "    tst_df = data_df.loc[data_df.KEY_NRD.isin(tst_key.KEY_NRD)]\n",
    "    train_df = data_df.loc[~data_df.KEY_NRD.isin(tst_key.KEY_NRD)]\n",
    "    train_df.to_csv(path+'cohorts/{}/comorb_train{}.csv'.format(cohort, fold_ind), index=False)\n",
    "    tst_df.to_csv(path+'cohorts/{}/comorb_tst{}.csv'.format(cohort, fold_ind), index=False)"
   ]
  },
  {
   "cell_type": "markdown",
   "metadata": {},
   "source": [
    "## Mixed Effects Logistic Regression\n",
    "This part is done by the R package lme4, in a separate notebook \"Mixed_effect_logistic.ipynb\". Here we directly read the result: prediction scores and the true outcomes for the test set."
   ]
  },
  {
   "cell_type": "code",
   "execution_count": 17,
   "metadata": {},
   "outputs": [],
   "source": [
    "pred_test = pd.read_csv(path+'cohorts/chf/prediction_MELR0.csv')"
   ]
  },
  {
   "cell_type": "code",
   "execution_count": 28,
   "metadata": {},
   "outputs": [],
   "source": [
    "n_fold = 10\n",
    "auc_lst = []\n",
    "for fold_ind in range(n_fold):\n",
    "    pred_test = pd.read_csv(path+'cohorts/chf/prediction_MELR'+str(fold_ind)+'.csv')\n",
    "    fpr, tpr, _ = roc_curve(pred_test['y_true'].values, pred_test['y_pred'].values)\n",
    "    auc_lst.append(auc(fpr, tpr))"
   ]
  },
  {
   "cell_type": "code",
   "execution_count": 21,
   "metadata": {},
   "outputs": [
    {
     "data": {
      "text/plain": [
       "0.5898464506724922"
      ]
     },
     "execution_count": 21,
     "metadata": {},
     "output_type": "execute_result"
    }
   ],
   "source": [
    "np.mean(auc_lst)"
   ]
  },
  {
   "cell_type": "code",
   "execution_count": 30,
   "metadata": {},
   "outputs": [
    {
     "data": {
      "text/plain": [
       "0.0017206897652525062"
      ]
     },
     "execution_count": 30,
     "metadata": {},
     "output_type": "execute_result"
    }
   ],
   "source": [
    "np.std(auc_lst)"
   ]
  },
  {
   "cell_type": "code",
   "execution_count": 29,
   "metadata": {},
   "outputs": [
    {
     "name": "stdout",
     "output_type": "stream",
     "text": [
      "0.5898\n",
      "(0.5885, 0.5911)\n"
     ]
    }
   ],
   "source": [
    "print('{0:.4f}'.format(np.mean(auc_lst)))\n",
    "print('({0:.4f}, {1:.4f})'.format(*sms.DescrStatsW(auc_lst).tconfint_mean()))"
   ]
  },
  {
   "cell_type": "code",
   "execution_count": null,
   "metadata": {},
   "outputs": [],
   "source": [
    "sms.DescrStatsW(auc_lst)"
   ]
  },
  {
   "cell_type": "markdown",
   "metadata": {},
   "source": [
    "### Result visualization"
   ]
  },
  {
   "cell_type": "code",
   "execution_count": 16,
   "metadata": {},
   "outputs": [],
   "source": [
    "import os, sys\n",
    "module_path = os.path.abspath(os.path.join('..'))\n",
    "if module_path not in sys.path:\n",
    "    sys.path.append(module_path)"
   ]
  },
  {
   "cell_type": "code",
   "execution_count": 19,
   "metadata": {},
   "outputs": [
    {
     "data": {
      "text/plain": [
       "0.6806022149893868"
      ]
     },
     "execution_count": 19,
     "metadata": {},
     "output_type": "execute_result"
    }
   ],
   "source": [
    "fpr, tpr, _ = roc_curve(pred_test['y_true'].values, pred_test['y_pred'].values)\n",
    "auc(fpr, tpr)"
   ]
  },
  {
   "cell_type": "code",
   "execution_count": 42,
   "metadata": {},
   "outputs": [
    {
     "data": {
      "text/plain": [
       "{0: 0.6770002708238051}"
      ]
     },
     "execution_count": 42,
     "metadata": {},
     "output_type": "execute_result"
    },
    {
     "data": {
      "image/png": "[encoded data removed]",
      "text/plain": [
       "<Figure size 432x288 with 1 Axes>"
      ]
     },
     "metadata": {},
     "output_type": "display_data"
    }
   ],
   "source": [
    "plot_roc(pred_test['y_pred'].values, pred_test['y_true'].values)"
   ]
  },
  {
   "cell_type": "markdown",
   "metadata": {},
   "source": [
    "## Fully Connected Neural Nets"
   ]
  },
  {
   "cell_type": "markdown",
   "metadata": {},
   "source": [
    "### Prepare the training data"
   ]
  },
  {
   "cell_type": "code",
   "execution_count": 19,
   "metadata": {},
   "outputs": [],
   "source": [
    "df = pd.read_csv(path+'cohorts/ami/comorb_train.csv')"
   ]
  },
  {
   "cell_type": "code",
   "execution_count": 20,
   "metadata": {},
   "outputs": [],
   "source": [
    "comorb = ['CM_AIDS', 'CM_ALCOHOL', 'CM_ANEMDEF', 'CM_ARTH', 'CM_BLDLOSS',\n",
    "       'CM_CHF', 'CM_CHRNLUNG', 'CM_COAG', 'CM_DEPRESS', 'CM_DM', 'CM_DMCX',\n",
    "       'CM_DRUG', 'CM_HTN_C', 'CM_HYPOTHY', 'CM_LIVER', 'CM_LYMPH', 'CM_LYTES',\n",
    "       'CM_METS', 'CM_NEURO', 'CM_OBESE', 'CM_PARA', 'CM_PERIVASC', 'CM_PSYCH',\n",
    "       'CM_PULMCIRC', 'CM_RENLFAIL', 'CM_TUMOR', 'CM_ULCER', 'CM_VALVE',\n",
    "       'CM_WGHTLOSS']"
   ]
  },
  {
   "cell_type": "code",
   "execution_count": 21,
   "metadata": {},
   "outputs": [],
   "source": [
    "trn_df, val_df = train_test_split(df, test_size=0.11, random_state=24, stratify = df['HOSP_NRD'])"
   ]
  },
  {
   "cell_type": "code",
   "execution_count": 22,
   "metadata": {},
   "outputs": [],
   "source": [
    "N_trn = len(trn_df)\n",
    "N_val = len(val_df)"
   ]
  },
  {
   "cell_type": "code",
   "execution_count": 23,
   "metadata": {
    "scrolled": true
   },
   "outputs": [],
   "source": [
    "X_trn = trn_df[['AGE', 'FEMALE']+comorb].values\n",
    "X_val = val_df[['AGE', 'FEMALE']+comorb].values\n",
    "\n",
    "mean_age = trn_df['AGE'].mean()\n",
    "sigma_age = trn_df['AGE'].std()\n",
    "X_trn[:, 0] = (X_trn[:, 0] - mean_age)/sigma_age\n",
    "X_val[:, 0] = (X_val[:, 0] - mean_age)/sigma_age"
   ]
  },
  {
   "cell_type": "code",
   "execution_count": 24,
   "metadata": {},
   "outputs": [
    {
     "data": {
      "text/plain": [
       "(66.17134972231185, 13.808092896091805)"
      ]
     },
     "execution_count": 24,
     "metadata": {},
     "output_type": "execute_result"
    }
   ],
   "source": [
    "mean_age, sigma_age"
   ]
  },
  {
   "cell_type": "code",
   "execution_count": 24,
   "metadata": {},
   "outputs": [],
   "source": [
    "hosp_series = pd.concat([trn_df, val_df])['HOSP_NRD']\n",
    "hosp_series = hosp_series.astype(int).astype('category')\n",
    "\n",
    "old_cat = hosp_series.cat.categories\n",
    "n_cat = len(old_cat)\n",
    "\n",
    "hosp_series = hosp_series.cat.rename_categories(range(n_cat))\n",
    "hosp_array = hosp_series.astype(int).values\n",
    "\n",
    "hosp_trn = hosp_array[:N_trn]\n",
    "hosp_val = hosp_array[N_trn:]"
   ]
  },
  {
   "cell_type": "code",
   "execution_count": 25,
   "metadata": {},
   "outputs": [],
   "source": [
    "y_trn = trn_df['readm30'].values.astype(int)\n",
    "y_val = val_df['readm30'].values.astype(int)"
   ]
  },
  {
   "cell_type": "code",
   "execution_count": 26,
   "metadata": {},
   "outputs": [
    {
     "data": {
      "text/plain": [
       "((145667, 31), (145667,), (145667,), (18004, 31), (18004,), (18004,))"
      ]
     },
     "execution_count": 26,
     "metadata": {},
     "output_type": "execute_result"
    }
   ],
   "source": [
    "X_trn.shape, hosp_trn.shape, y_trn.shape, X_val.shape, hosp_val.shape, y_val.shape"
   ]
  },
  {
   "cell_type": "code",
   "execution_count": 33,
   "metadata": {
    "scrolled": true
   },
   "outputs": [
    {
     "data": {
      "text/plain": [
       "(dtype('float64'), dtype('int64'), dtype('int64'))"
      ]
     },
     "execution_count": 33,
     "metadata": {},
     "output_type": "execute_result"
    }
   ],
   "source": [
    "X_trn.dtype, hosp_trn.dtype, y_trn.dtype"
   ]
  },
  {
   "cell_type": "markdown",
   "metadata": {},
   "source": [
    "### Model building"
   ]
  },
  {
   "cell_type": "code",
   "execution_count": 27,
   "metadata": {
    "scrolled": true
   },
   "outputs": [
    {
     "name": "stderr",
     "output_type": "stream",
     "text": [
      "Using TensorFlow backend.\n"
     ]
    }
   ],
   "source": [
    "from keras.layers import Input, Embedding, concatenate, Reshape, BatchNormalization\n",
    "from keras.models import Model\n",
    "from keras.layers.core import Dense, Activation, Dropout\n",
    "from keras.callbacks import ModelCheckpoint, ReduceLROnPlateau, EarlyStopping\n",
    "from keras.optimizers import Adam\n",
    "from keras.utils import to_categorical"
   ]
  },
  {
   "cell_type": "code",
   "execution_count": 30,
   "metadata": {},
   "outputs": [
    {
     "data": {
      "text/plain": [
       "<module 'keras_addon' from '/home/wsliu/Codes/DLproj/keras_addon.py'>"
      ]
     },
     "execution_count": 30,
     "metadata": {},
     "output_type": "execute_result"
    }
   ],
   "source": [
    "from importlib import reload\n",
    "import keras_addon\n",
    "reload(keras_addon)"
   ]
  },
  {
   "cell_type": "code",
   "execution_count": 31,
   "metadata": {
    "scrolled": true
   },
   "outputs": [],
   "source": [
    "from keras_addon import AUCCheckPoint"
   ]
  },
  {
   "cell_type": "code",
   "execution_count": 32,
   "metadata": {},
   "outputs": [],
   "source": [
    "Y_trn = to_categorical(y_trn)\n",
    "Y_val = to_categorical(y_val)"
   ]
  },
  {
   "cell_type": "code",
   "execution_count": 48,
   "metadata": {},
   "outputs": [],
   "source": [
    "input_X = Input(shape=(31,))\n",
    "\n",
    "embed_dim = 2\n",
    "input_hosp = Input(shape=(1,))\n",
    "embed_out = Embedding(n_cat, embed_dim, input_length=1)(input_hosp)\n",
    "embed_out = Reshape((embed_dim,))(embed_out)\n",
    "\n",
    "merged_X = concatenate([input_X, embed_out], axis=1)\n",
    "\n",
    "x = Dense(64, activation='relu')(merged_X)\n",
    "x = Dense(32, activation='relu')(x)\n",
    "x = Dropout(0.5)(x)\n",
    "#x = Dense(16, activation='relu')(x)\n",
    "\n",
    "prediction = Dense(2, activation='softmax', name='readm')(x)\n",
    "model = Model(inputs=[input_X, input_hosp], outputs=prediction)"
   ]
  },
  {
   "cell_type": "code",
   "execution_count": 49,
   "metadata": {},
   "outputs": [],
   "source": [
    "adam = Adam(0.001)\n",
    "model.compile(optimizer=adam, loss='categorical_crossentropy', metrics=['accuracy'])"
   ]
  },
  {
   "cell_type": "code",
   "execution_count": 50,
   "metadata": {},
   "outputs": [],
   "source": [
    "checkpointer = ModelCheckpoint(filepath=model_path+'ami_comorb_valloss1.h5', verbose=0, save_best_only=True, save_weights_only=True)\n",
    "auc_checkpoint = AUCCheckPoint(model_path+'ami_comorb_auc1.h5', validation_y=y_val, validation_x=[X_val, hosp_val])\n",
    "reduce_lr = ReduceLROnPlateau(monitor='loss', factor=0.2, patience=3, min_lr=1.e-8)\n",
    "earlystop = EarlyStopping(monitor='val_loss', patience=15)"
   ]
  },
  {
   "cell_type": "code",
   "execution_count": 36,
   "metadata": {},
   "outputs": [],
   "source": [
    "class_weight = {0:(len(y_trn)/sum(Y_trn[:,0])), 1:(len(y_trn)/sum(Y_trn[:,1]))}"
   ]
  },
  {
   "cell_type": "code",
   "execution_count": 51,
   "metadata": {
    "scrolled": true
   },
   "outputs": [
    {
     "name": "stdout",
     "output_type": "stream",
     "text": [
      "Train on 145667 samples, validate on 18004 samples\n",
      "Epoch 1/20\n",
      "145667/145667 [==============================] - 2s 10us/step - loss: 1.3288 - acc: 0.5807 - val_loss: 0.6443 - val_acc: 0.5963\n",
      "AUC: 0.6804\n",
      "\n",
      "Epoch 2/20\n",
      "145667/145667 [==============================] - 1s 8us/step - loss: 1.2924 - acc: 0.5990 - val_loss: 0.6064 - val_acc: 0.6288\n",
      "AUC: 0.6847\n",
      "\n",
      "Epoch 3/20\n",
      "145667/145667 [==============================] - 1s 7us/step - loss: 1.2807 - acc: 0.5944 - val_loss: 0.6196 - val_acc: 0.6130\n",
      "AUC: 0.6844\n",
      "\n",
      "Epoch 4/20\n",
      "145667/145667 [==============================] - 1s 7us/step - loss: 1.2735 - acc: 0.5911 - val_loss: 0.6318 - val_acc: 0.5900\n",
      "AUC: 0.6839\n",
      "\n",
      "Epoch 5/20\n",
      "145667/145667 [==============================] - 1s 7us/step - loss: 1.2718 - acc: 0.5833 - val_loss: 0.6544 - val_acc: 0.5751\n",
      "AUC: 0.6839\n",
      "\n",
      "Epoch 6/20\n",
      "145667/145667 [==============================] - 1s 7us/step - loss: 1.2708 - acc: 0.5874 - val_loss: 0.6231 - val_acc: 0.5918\n",
      "AUC: 0.6823\n",
      "\n",
      "Epoch 7/20\n",
      "145667/145667 [==============================] - 1s 8us/step - loss: 1.2682 - acc: 0.5856 - val_loss: 0.6494 - val_acc: 0.5627\n",
      "AUC: 0.6828\n",
      "\n",
      "Epoch 8/20\n",
      "145667/145667 [==============================] - 1s 7us/step - loss: 1.2679 - acc: 0.5847 - val_loss: 0.6351 - val_acc: 0.5836\n",
      "AUC: 0.6823\n",
      "\n",
      "Epoch 9/20\n",
      "145667/145667 [==============================] - 1s 8us/step - loss: 1.2661 - acc: 0.5837 - val_loss: 0.6187 - val_acc: 0.5957\n",
      "AUC: 0.6813\n",
      "\n",
      "Epoch 10/20\n",
      "145667/145667 [==============================] - 1s 7us/step - loss: 1.2636 - acc: 0.5849 - val_loss: 0.6380 - val_acc: 0.5793\n",
      "AUC: 0.6803\n",
      "\n",
      "Epoch 11/20\n",
      "145667/145667 [==============================] - 1s 8us/step - loss: 1.2637 - acc: 0.5836 - val_loss: 0.6284 - val_acc: 0.5939\n",
      "AUC: 0.6803\n",
      "\n",
      "Epoch 12/20\n",
      "145667/145667 [==============================] - 1s 8us/step - loss: 1.2630 - acc: 0.5856 - val_loss: 0.6464 - val_acc: 0.5749\n",
      "AUC: 0.6795\n",
      "\n",
      "Epoch 13/20\n",
      "145667/145667 [==============================] - 1s 7us/step - loss: 1.2609 - acc: 0.5839 - val_loss: 0.6247 - val_acc: 0.6011\n",
      "AUC: 0.6772\n",
      "\n",
      "Epoch 14/20\n",
      "145667/145667 [==============================] - 1s 8us/step - loss: 1.2603 - acc: 0.5892 - val_loss: 0.6367 - val_acc: 0.5848\n",
      "AUC: 0.6789\n",
      "\n",
      "Epoch 15/20\n",
      "145667/145667 [==============================] - 1s 7us/step - loss: 1.2609 - acc: 0.5873 - val_loss: 0.6465 - val_acc: 0.5727\n",
      "AUC: 0.6768\n",
      "\n",
      "Epoch 16/20\n",
      "145667/145667 [==============================] - 1s 8us/step - loss: 1.2589 - acc: 0.5893 - val_loss: 0.6348 - val_acc: 0.5901\n",
      "AUC: 0.6780\n",
      "\n",
      "Epoch 17/20\n",
      "145667/145667 [==============================] - 1s 7us/step - loss: 1.2578 - acc: 0.5884 - val_loss: 0.6429 - val_acc: 0.5749\n",
      "AUC: 0.6772\n",
      "\n"
     ]
    }
   ],
   "source": [
    "hist = model.fit([X_trn, hosp_trn], Y_trn, batch_size=512, epochs=20, callbacks=[checkpointer, auc_checkpoint, reduce_lr, earlystop],\n",
    "                 validation_data=[[X_val, hosp_val], Y_val], class_weight = class_weight, verbose=1)"
   ]
  },
  {
   "cell_type": "markdown",
   "metadata": {},
   "source": [
    "### Model Testing"
   ]
  },
  {
   "cell_type": "code",
   "execution_count": 41,
   "metadata": {},
   "outputs": [],
   "source": [
    "from DL_utils import plot_roc"
   ]
  },
  {
   "cell_type": "code",
   "execution_count": 52,
   "metadata": {},
   "outputs": [],
   "source": [
    "tst_df = pd.read_csv(path+'cohorts/ami/comorb_tst.csv')"
   ]
  },
  {
   "cell_type": "code",
   "execution_count": 53,
   "metadata": {},
   "outputs": [],
   "source": [
    "X_tst = tst_df[['AGE', 'FEMALE']+comorb].values\n",
    "X_tst[:, 0] = (X_tst[:, 0] - mean_age)/sigma_age\n",
    "\n",
    "hosp_tst_series = tst_df['HOSP_NRD'].astype(int).astype('category')\n",
    "\n",
    "hosp_tst_series = hosp_tst_series.cat.rename_categories(range(n_cat))\n",
    "hosp_tst = hosp_tst_series.astype(int).values"
   ]
  },
  {
   "cell_type": "code",
   "execution_count": 60,
   "metadata": {},
   "outputs": [],
   "source": [
    "model.load_weights(model_path+'ami_comorb_valloss1.h5')"
   ]
  },
  {
   "cell_type": "code",
   "execution_count": 61,
   "metadata": {},
   "outputs": [
    {
     "name": "stdout",
     "output_type": "stream",
     "text": [
      "18186/18186 [==============================] - 0s 2us/step\n"
     ]
    }
   ],
   "source": [
    "y_pred = model.predict([X_tst, hosp_tst], batch_size=512, verbose=1)"
   ]
  },
  {
   "cell_type": "code",
   "execution_count": 62,
   "metadata": {},
   "outputs": [],
   "source": [
    "y_pred = y_pred[:,1]"
   ]
  },
  {
   "cell_type": "code",
   "execution_count": 63,
   "metadata": {},
   "outputs": [],
   "source": [
    "y_true = tst_df['readm30'].values"
   ]
  },
  {
   "cell_type": "code",
   "execution_count": 58,
   "metadata": {},
   "outputs": [
    {
     "data": {
      "text/plain": [
       "((18186,), (18186,))"
      ]
     },
     "execution_count": 58,
     "metadata": {},
     "output_type": "execute_result"
    }
   ],
   "source": [
    "y_pred.shape, y_true.shape"
   ]
  },
  {
   "cell_type": "code",
   "execution_count": 64,
   "metadata": {
    "scrolled": true
   },
   "outputs": [
    {
     "data": {
      "text/plain": [
       "{0: 0.6784096906395523}"
      ]
     },
     "execution_count": 64,
     "metadata": {},
     "output_type": "execute_result"
    },
    {
     "data": {
      "image/png": "[encoded data removed]",
      "text/plain": [
       "<Figure size 432x288 with 1 Axes>"
      ]
     },
     "metadata": {},
     "output_type": "display_data"
    }
   ],
   "source": [
    "plot_roc(y_pred, y_true)"
   ]
  }
 ],
 "metadata": {
  "kernelspec": {
   "display_name": "Python 3",
   "language": "python",
   "name": "python3"
  },
  "language_info": {
   "codemirror_mode": {
    "name": "ipython",
    "version": 3
   },
   "file_extension": ".py",
   "mimetype": "text/x-python",
   "name": "python",
   "nbconvert_exporter": "python",
   "pygments_lexer": "ipython3",
   "version": "3.5.4"
  }
 },
 "nbformat": 4,
 "nbformat_minor": 2
}
