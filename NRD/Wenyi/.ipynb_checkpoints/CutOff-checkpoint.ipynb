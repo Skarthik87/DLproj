{
 "cells": [
  {
   "cell_type": "code",
   "execution_count": 1,
   "metadata": {},
   "outputs": [],
   "source": [
    "from __future__ import absolute_import\n",
    "from __future__ import print_function\n",
    "\n",
    "import csv\n",
    "import numpy as np\n",
    "import os\n",
    "import pandas as pd\n",
    "import sys\n",
    "import matplotlib.pyplot as plt"
   ]
  },
  {
   "cell_type": "code",
   "execution_count": 3,
   "metadata": {},
   "outputs": [],
   "source": [
    "module_path = '/home/wsliu/Codes/DLproj'\n",
    "if module_path not in sys.path:\n",
    "    sys.path.append(module_path)\n",
    "if module_path+'/NRD' not in sys.path:\n",
    "    sys.path.append(module_path+'/NRD')"
   ]
  },
  {
   "cell_type": "code",
   "execution_count": 6,
   "metadata": {},
   "outputs": [],
   "source": [
    "data_path = '/nfs/turbo/umms-awaljee/wsliu/Data/MIMIC/raw/'"
   ]
  },
  {
   "cell_type": "code",
   "execution_count": 4,
   "metadata": {},
   "outputs": [],
   "source": [
    "import pandas as pd\n",
    "import numpy as np\n",
    "import matplotlib.pyplot as plt\n",
    "#import statsmodels.api as sm\n",
    "from sklearn.model_selection import train_test_split, StratifiedKFold\n",
    "from sklearn.metrics import roc_curve, auc\n",
    "import os, sys, time\n",
    "from importlib import reload\n",
    "from keras.layers import Input, Embedding, Concatenate, Reshape, BatchNormalization, LSTM, CuDNNLSTM, CuDNNGRU, Lambda\n",
    "from keras.models import Model\n",
    "from keras.layers.core import Dense, Activation, Dropout, RepeatVector\n",
    "from keras.callbacks import ModelCheckpoint, ReduceLROnPlateau, EarlyStopping\n",
    "from keras.utils import to_categorical\n",
    "from keras.optimizers import Adam\n",
    "from keras.initializers import Constant\n",
    "import keras.backend as K\n",
    "from keras.layers import Dense, Embedding, Conv2D, MaxPool2D\n",
    "from keras.layers import Reshape, Flatten, Dropout, Concatenate\n",
    "from keras.callbacks import ModelCheckpoint\n",
    "from keras.optimizers import Adam\n",
    "from keras.models import Model\n",
    "#from tqdm import tqdm\n",
    "from setsum_layer import SetSum, MaskedSum, MaskedDense, MaskedPooling\n",
    "import tensorflow as tf"
   ]
  },
  {
   "cell_type": "code",
   "execution_count": 5,
   "metadata": {},
   "outputs": [],
   "source": [
    "def dataframe_from_csv(path, header=0, index_col=0):\n",
    "    return pd.read_csv(path, header=header, index_col=index_col)\n",
    "e_map = {'ASIAN': 1,\n",
    "         'BLACK': 2,\n",
    "         'CARIBBEAN ISLAND': 2,\n",
    "         'HISPANIC': 3,\n",
    "         'SOUTH AMERICAN': 3,\n",
    "         'WHITE': 4,\n",
    "         'MIDDLE EASTERN': 4,\n",
    "         'PORTUGUESE': 4,\n",
    "         'AMERICAN INDIAN': 0,\n",
    "         'NATIVE HAWAIIAN': 0,\n",
    "         'UNABLE TO OBTAIN': 0,\n",
    "         'PATIENT DECLINED TO ANSWER': 0,\n",
    "         'UNKNOWN': 0,\n",
    "         'OTHER': 0,\n",
    "         '': 0}\n",
    "\n",
    "\n",
    "def transform_ethnicity(ethnicity_series):\n",
    "    global e_map\n",
    "\n",
    "    def aggregate_ethnicity(ethnicity_str):\n",
    "        return ethnicity_str.replace(' OR ', '/').split(' - ')[0].split('/')[0]\n",
    "\n",
    "    ethnicity_series = ethnicity_series.apply(aggregate_ethnicity)\n",
    "    return {'Ethnicity': ethnicity_series.fillna('').apply(lambda s: e_map[s] if s in e_map else e_map['OTHER'])}"
   ]
  },
  {
   "cell_type": "code",
   "execution_count": 57,
   "metadata": {},
   "outputs": [],
   "source": [
    "admits = pd.read_csv(data_path+'ADMISSIONS.csv', header=0, index_col=0)\n",
    "admits = admits[['SUBJECT_ID', 'HADM_ID', 'ADMITTIME', 'DISCHTIME', 'DEATHTIME','ETHNICITY']]\n",
    "admits.ADMITTIME = pd.to_datetime(admits.ADMITTIME)\n",
    "admits.DISCHTIME = pd.to_datetime(admits.DISCHTIME)\n",
    "admits.DEATHTIME = pd.to_datetime(admits.DEATHTIME)\n",
    "admits['Eth']=transform_ethnicity(admits['ETHNICITY'])['Ethnicity']\n",
    "\n",
    "admits.drop(columns=['ETHNICITY'],inplace=True)\n",
    "\n",
    "patients =  pd.read_csv(data_path+'PATIENTS.csv', header=0, index_col=0)\n",
    "patients = patients[['SUBJECT_ID','DOB','GENDER','DOD']]\n",
    "patients.DOB = pd.to_datetime(patients.DOB)\n",
    "patients.DOD = pd.to_datetime(patients.DOD)\n",
    "patients.GENDER = patients.GENDER.astype('category')\n",
    "patients.GENDER = patients['GENDER'].cat.codes\n",
    "stays = pd.read_csv(data_path+'ICUSTAYS.csv',header=0,index_col=0)\n",
    "stays = stays[['HADM_ID','LOS']]\n",
    "#stays.INTIME = pd.to_datetime(stays.INTIME)\n",
    "#stays.OUTTIME = pd.to_datetime(stays.OUTTIME)\n",
    "stays.drop_duplicates('HADM_ID',inplace=True)\n",
    "admits = admits.merge(stays,how='inner',on='HADM_ID')\n",
    "#admits.LOS[admits.LOS.isnull()] = (admits.DISCHTIME-admits.ADMITTIME).apply(lambda s: s/np.timedelta64(1,'D'))[admits.LOS.isnull()] \n",
    "admits = admits.merge(patients,how='inner',on='SUBJECT_ID')\n",
    "admits['AGE'] = (admits.ADMITTIME-admits.DOB).apply(lambda s: s/np.timedelta64(1,'Y'))\n",
    "admits.loc[admits.AGE < 0, 'AGE'] = 90\n",
    "admits['MOT'] =  (admits.DOD-admits.ADMITTIME).apply(lambda s: s/np.timedelta64(1,'Y'))\n",
    "mortality = (admits.DEATHTIME.isnull() | ((admits.ADMITTIME > admits.DEATHTIME) | (admits.DISCHTIME < admits.DEATHTIME)))\n",
    "admits = admits[mortality]\n",
    "codes = dataframe_from_csv(data_path+'D_ICD_DIAGNOSES.csv')\n",
    "codes = codes[['ICD9_CODE']]\n",
    "diagnoses = dataframe_from_csv(data_path+'DIAGNOSES_ICD.csv')\n",
    "diagnoses = diagnoses.merge(codes, how='inner', left_on='ICD9_CODE', right_on='ICD9_CODE')\n",
    "diagnoses = diagnoses[['HADM_ID','ICD9_CODE']]\n",
    "diagnoses[ 'HADM_ID'] = diagnoses[ 'HADM_ID'].astype(int)\n",
    "procedure_codes = dataframe_from_csv(data_path+'D_ICD_PROCEDURES.csv')\n",
    "procedure_codes = procedure_codes[['ICD9_CODE']]\n",
    "procedures = dataframe_from_csv(data_path+'PROCEDURES_ICD.csv')\n",
    "procedures = procedures.merge(procedure_codes, how='inner', left_on='ICD9_CODE', right_on='ICD9_CODE')\n",
    "procedures = procedures[['HADM_ID','ICD9_CODE']]\n",
    "procedures['HADM_ID'] = procedures['HADM_ID'].astype(int)\n",
    "diag_freq = diagnoses.groupby('ICD9_CODE',as_index=False).count()\n",
    "proc_freq = procedures.groupby('ICD9_CODE',as_index=False).count()\n",
    "procedures_original = procedures\n",
    "diagnoses_original = diagnoses\n",
    "admits['LOS1'] = (admits.DISCHTIME-admits.ADMITTIME).apply(lambda s: s/np.timedelta64(1,'D'))\n",
    "admits.loc[admits.LOS.isnull(),'LOS'] = admits.loc[admits.LOS.isnull(),'LOS1']"
   ]
  },
  {
   "cell_type": "code",
   "execution_count": 68,
   "metadata": {
    "scrolled": true
   },
   "outputs": [
    {
     "data": {
      "text/plain": [
       "NaN          35744\n",
       " 0.790428        4\n",
       " 0.349625        4\n",
       " 0.029290        4\n",
       " 0.628892        4\n",
       " 0.623416        3\n",
       " 2.539951        3\n",
       " 0.037504        3\n",
       " 1.192900        3\n",
       " 0.483782        3\n",
       " 0.074302        3\n",
       " 0.166185        3\n",
       " 2.964326        3\n",
       " 2.816479        3\n",
       " 0.179875        3\n",
       " 0.171661        3\n",
       " 0.163447        3\n",
       " 0.574133        3\n",
       " 0.099705        2\n",
       " 0.565920        2\n",
       " 0.164554        2\n",
       " 0.604250        2\n",
       "-0.001936        2\n",
       " 1.211296        2\n",
       " 0.047006        2\n",
       " 0.358961        2\n",
       " 0.099143        2\n",
       " 1.091512        2\n",
       " 0.066392        2\n",
       " 0.071577        2\n",
       "             ...  \n",
       " 2.725142        1\n",
       " 0.115021        1\n",
       " 1.150642        1\n",
       " 0.433167        1\n",
       " 0.057540        1\n",
       " 1.278682        1\n",
       " 0.225240        1\n",
       " 0.498240        1\n",
       " 1.498782        1\n",
       " 0.293175        1\n",
       " 0.115013        1\n",
       " 0.198312        1\n",
       " 6.809764        1\n",
       " 0.509912        1\n",
       " 0.416666        1\n",
       " 0.653021        1\n",
       " 0.044900        1\n",
       " 0.240451        1\n",
       " 1.422497        1\n",
       " 8.277856        1\n",
       " 0.225805        1\n",
       " 0.137909        1\n",
       " 0.583132        1\n",
       " 0.654689        1\n",
       " 2.013341        1\n",
       " 5.882171        1\n",
       " 0.173688        1\n",
       " 0.693546        1\n",
       " 0.164098        1\n",
       " 0.104816        1\n",
       "Name: MOT, Length: 16078, dtype: int64"
      ]
     },
     "execution_count": 68,
     "metadata": {},
     "output_type": "execute_result"
    }
   ],
   "source": [
    "admits.MOT.value_counts(dropna=False)"
   ]
  },
  {
   "cell_type": "code",
   "execution_count": 29,
   "metadata": {
    "collapsed": true
   },
   "outputs": [
    {
     "data": {
      "text/html": [
       "<div>\n",
       "<style scoped>\n",
       "    .dataframe tbody tr th:only-of-type {\n",
       "        vertical-align: middle;\n",
       "    }\n",
       "\n",
       "    .dataframe tbody tr th {\n",
       "        vertical-align: top;\n",
       "    }\n",
       "\n",
       "    .dataframe thead th {\n",
       "        text-align: right;\n",
       "    }\n",
       "</style>\n",
       "<table border=\"1\" class=\"dataframe\">\n",
       "  <thead>\n",
       "    <tr style=\"text-align: right;\">\n",
       "      <th></th>\n",
       "      <th>ICD9_CODE</th>\n",
       "      <th>HADM_ID</th>\n",
       "    </tr>\n",
       "  </thead>\n",
       "  <tbody>\n",
       "    <tr>\n",
       "      <th>0</th>\n",
       "      <td>0030</td>\n",
       "      <td>2</td>\n",
       "    </tr>\n",
       "    <tr>\n",
       "      <th>1</th>\n",
       "      <td>0031</td>\n",
       "      <td>1</td>\n",
       "    </tr>\n",
       "    <tr>\n",
       "      <th>2</th>\n",
       "      <td>0038</td>\n",
       "      <td>2</td>\n",
       "    </tr>\n",
       "    <tr>\n",
       "      <th>3</th>\n",
       "      <td>0039</td>\n",
       "      <td>1</td>\n",
       "    </tr>\n",
       "    <tr>\n",
       "      <th>4</th>\n",
       "      <td>0041</td>\n",
       "      <td>3</td>\n",
       "    </tr>\n",
       "  </tbody>\n",
       "</table>\n",
       "</div>"
      ],
      "text/plain": [
       "  ICD9_CODE  HADM_ID\n",
       "0      0030        2\n",
       "1      0031        1\n",
       "2      0038        2\n",
       "3      0039        1\n",
       "4      0041        3"
      ]
     },
     "execution_count": 29,
     "metadata": {},
     "output_type": "execute_result"
    }
   ],
   "source": [
    "diag_freq.head()"
   ]
  },
  {
   "cell_type": "code",
   "execution_count": 58,
   "metadata": {},
   "outputs": [],
   "source": [
    "cutoff=40"
   ]
  },
  {
   "cell_type": "code",
   "execution_count": 59,
   "metadata": {},
   "outputs": [],
   "source": [
    "diag_freq = diag_freq[~(diag_freq.HADM_ID<=cutoff)]\n",
    "diagnoses_cut = diagnoses.merge(diag_freq[['ICD9_CODE']],how='right',on='ICD9_CODE')\n",
    "proc_freq = proc_freq[~(proc_freq.HADM_ID<=cutoff)]\n",
    "procedure_cut = procedures.merge(proc_freq[['ICD9_CODE']],how='right',on='ICD9_CODE')\n",
    "diagnoses_count = diagnoses_original.groupby('HADM_ID',as_index=False).count()"
   ]
  },
  {
   "cell_type": "code",
   "execution_count": 49,
   "metadata": {},
   "outputs": [
    {
     "data": {
      "text/plain": [
       "((1407, 2), (593863, 2), (634709, 2), (58925, 2))"
      ]
     },
     "execution_count": 49,
     "metadata": {},
     "output_type": "execute_result"
    }
   ],
   "source": [
    "diag_freq.shape, diagnoses_cut.shape, diagnoses.shape, diagnoses_count.shape"
   ]
  },
  {
   "cell_type": "code",
   "execution_count": 53,
   "metadata": {
    "collapsed": true
   },
   "outputs": [
    {
     "data": {
      "text/plain": [
       "9     6088\n",
       "8     5829\n",
       "7     4686\n",
       "6     3987\n",
       "5     3652\n",
       "4     3437\n",
       "3     3025\n",
       "10    2762\n",
       "11    2714\n",
       "12    2540\n",
       "13    2319\n",
       "14    2249\n",
       "15    1967\n",
       "16    1823\n",
       "17    1600\n",
       "18    1441\n",
       "19    1248\n",
       "2     1140\n",
       "20    1016\n",
       "21     896\n",
       "22     717\n",
       "23     563\n",
       "24     483\n",
       "25     407\n",
       "1      399\n",
       "26     349\n",
       "27     277\n",
       "28     265\n",
       "30     185\n",
       "29     185\n",
       "31     128\n",
       "32     112\n",
       "33      86\n",
       "39      79\n",
       "36      69\n",
       "35      60\n",
       "34      59\n",
       "38      43\n",
       "37      40\n",
       "Name: ICD9_CODE, dtype: int64"
      ]
     },
     "execution_count": 53,
     "metadata": {},
     "output_type": "execute_result"
    }
   ],
   "source": [
    "diagnoses_count.ICD9_CODE.value_counts()"
   ]
  },
  {
   "cell_type": "code",
   "execution_count": 60,
   "metadata": {},
   "outputs": [],
   "source": [
    "diagnoses_count = diagnoses_count.rename(str, columns={\"ICD9_CODE\":\"COUNT\"})\n",
    "diagnoses_count = diagnoses_count[['HADM_ID','COUNT']]\n",
    "diagnoses_count = diagnoses_count[diagnoses_count.COUNT<=30]\n",
    "diagnoses_count = diagnoses_count[diagnoses_count.COUNT>0]"
   ]
  },
  {
   "cell_type": "code",
   "execution_count": 47,
   "metadata": {},
   "outputs": [
    {
     "data": {
      "text/plain": [
       "(58249, 2)"
      ]
     },
     "execution_count": 47,
     "metadata": {},
     "output_type": "execute_result"
    }
   ],
   "source": [
    "diagnoses_count.shape"
   ]
  },
  {
   "cell_type": "code",
   "execution_count": 61,
   "metadata": {},
   "outputs": [],
   "source": [
    "procedures_count = procedures_original.groupby('HADM_ID',as_index=False).count()\n",
    "procedures_count = procedures_count.rename(str, columns={\"ICD9_CODE\":\"COUNT\"})\n",
    "procedures_count = procedures_count[['HADM_ID','COUNT']]\n",
    "procedures_count = procedures_count[procedures_count.COUNT<=15]\n",
    "procedures_count = procedures_count[procedures_count.COUNT>0]\n",
    "diagnoses = diagnoses_cut.merge(diagnoses_count,'right',left_on='HADM_ID',right_on='HADM_ID')"
   ]
  },
  {
   "cell_type": "code",
   "execution_count": 62,
   "metadata": {},
   "outputs": [
    {
     "data": {
      "text/html": [
       "<div>\n",
       "<style scoped>\n",
       "    .dataframe tbody tr th:only-of-type {\n",
       "        vertical-align: middle;\n",
       "    }\n",
       "\n",
       "    .dataframe tbody tr th {\n",
       "        vertical-align: top;\n",
       "    }\n",
       "\n",
       "    .dataframe thead th {\n",
       "        text-align: right;\n",
       "    }\n",
       "</style>\n",
       "<table border=\"1\" class=\"dataframe\">\n",
       "  <thead>\n",
       "    <tr style=\"text-align: right;\">\n",
       "      <th></th>\n",
       "      <th>HADM_ID</th>\n",
       "      <th>ICD9_CODE</th>\n",
       "      <th>COUNT</th>\n",
       "    </tr>\n",
       "  </thead>\n",
       "  <tbody>\n",
       "    <tr>\n",
       "      <th>0</th>\n",
       "      <td>172335</td>\n",
       "      <td>40301</td>\n",
       "      <td>14</td>\n",
       "    </tr>\n",
       "    <tr>\n",
       "      <th>1</th>\n",
       "      <td>172335</td>\n",
       "      <td>486</td>\n",
       "      <td>14</td>\n",
       "    </tr>\n",
       "    <tr>\n",
       "      <th>2</th>\n",
       "      <td>172335</td>\n",
       "      <td>58281</td>\n",
       "      <td>14</td>\n",
       "    </tr>\n",
       "    <tr>\n",
       "      <th>3</th>\n",
       "      <td>172335</td>\n",
       "      <td>5855</td>\n",
       "      <td>14</td>\n",
       "    </tr>\n",
       "    <tr>\n",
       "      <th>4</th>\n",
       "      <td>172335</td>\n",
       "      <td>4254</td>\n",
       "      <td>14</td>\n",
       "    </tr>\n",
       "  </tbody>\n",
       "</table>\n",
       "</div>"
      ],
      "text/plain": [
       "   HADM_ID ICD9_CODE  COUNT\n",
       "0   172335     40301     14\n",
       "1   172335       486     14\n",
       "2   172335     58281     14\n",
       "3   172335      5855     14\n",
       "4   172335      4254     14"
      ]
     },
     "execution_count": 62,
     "metadata": {},
     "output_type": "execute_result"
    }
   ],
   "source": [
    "diagnoses.head()"
   ]
  },
  {
   "cell_type": "code",
   "execution_count": 63,
   "metadata": {},
   "outputs": [],
   "source": [
    "diagnoses = diagnoses[diagnoses.COUNT>0]\n",
    "diagnoses.ICD9_CODE = pd.Categorical(diagnoses.ICD9_CODE)"
   ]
  },
  {
   "cell_type": "code",
   "execution_count": 64,
   "metadata": {},
   "outputs": [
    {
     "data": {
      "text/html": [
       "<div>\n",
       "<style scoped>\n",
       "    .dataframe tbody tr th:only-of-type {\n",
       "        vertical-align: middle;\n",
       "    }\n",
       "\n",
       "    .dataframe tbody tr th {\n",
       "        vertical-align: top;\n",
       "    }\n",
       "\n",
       "    .dataframe thead th {\n",
       "        text-align: right;\n",
       "    }\n",
       "</style>\n",
       "<table border=\"1\" class=\"dataframe\">\n",
       "  <thead>\n",
       "    <tr style=\"text-align: right;\">\n",
       "      <th></th>\n",
       "      <th>HADM_ID</th>\n",
       "      <th>ICD9_CODE</th>\n",
       "      <th>COUNT</th>\n",
       "    </tr>\n",
       "  </thead>\n",
       "  <tbody>\n",
       "    <tr>\n",
       "      <th>0</th>\n",
       "      <td>172335</td>\n",
       "      <td>40301</td>\n",
       "      <td>14</td>\n",
       "    </tr>\n",
       "    <tr>\n",
       "      <th>1</th>\n",
       "      <td>172335</td>\n",
       "      <td>486</td>\n",
       "      <td>14</td>\n",
       "    </tr>\n",
       "    <tr>\n",
       "      <th>2</th>\n",
       "      <td>172335</td>\n",
       "      <td>58281</td>\n",
       "      <td>14</td>\n",
       "    </tr>\n",
       "    <tr>\n",
       "      <th>3</th>\n",
       "      <td>172335</td>\n",
       "      <td>5855</td>\n",
       "      <td>14</td>\n",
       "    </tr>\n",
       "    <tr>\n",
       "      <th>4</th>\n",
       "      <td>172335</td>\n",
       "      <td>4254</td>\n",
       "      <td>14</td>\n",
       "    </tr>\n",
       "  </tbody>\n",
       "</table>\n",
       "</div>"
      ],
      "text/plain": [
       "   HADM_ID ICD9_CODE  COUNT\n",
       "0   172335     40301     14\n",
       "1   172335       486     14\n",
       "2   172335     58281     14\n",
       "3   172335      5855     14\n",
       "4   172335      4254     14"
      ]
     },
     "execution_count": 64,
     "metadata": {},
     "output_type": "execute_result"
    }
   ],
   "source": [
    "diagnoses.head()"
   ]
  },
  {
   "cell_type": "code",
   "execution_count": 31,
   "metadata": {},
   "outputs": [
    {
     "data": {
      "text/plain": [
       "1847"
      ]
     },
     "execution_count": 31,
     "metadata": {},
     "output_type": "execute_result"
    }
   ],
   "source": [
    "diagnoses.ICD9_CODE = (diagnoses.ICD9_CODE.cat.codes+1).astype(int)\n",
    "procedures = procedure_cut.merge(procedures_count,'right',left_on='HADM_ID',right_on='HADM_ID')\n",
    "procedures.ICD9_CODE = pd.Categorical(procedures.ICD9_CODE)\n",
    "procedures.ICD9_CODE = (procedures.ICD9_CODE.cat.codes+1+max(diagnoses.ICD9_CODE)).astype(int)\n",
    "n_disease=max(procedures.ICD9_CODE)+1\n",
    "n_disease"
   ]
  },
  {
   "cell_type": "code",
   "execution_count": 32,
   "metadata": {},
   "outputs": [
    {
     "data": {
      "text/html": [
       "<div>\n",
       "<style scoped>\n",
       "    .dataframe tbody tr th:only-of-type {\n",
       "        vertical-align: middle;\n",
       "    }\n",
       "\n",
       "    .dataframe tbody tr th {\n",
       "        vertical-align: top;\n",
       "    }\n",
       "\n",
       "    .dataframe thead th {\n",
       "        text-align: right;\n",
       "    }\n",
       "</style>\n",
       "<table border=\"1\" class=\"dataframe\">\n",
       "  <thead>\n",
       "    <tr style=\"text-align: right;\">\n",
       "      <th></th>\n",
       "      <th>HADM_ID</th>\n",
       "      <th>COUNT</th>\n",
       "    </tr>\n",
       "  </thead>\n",
       "  <tbody>\n",
       "    <tr>\n",
       "      <th>0</th>\n",
       "      <td>100001</td>\n",
       "      <td>16</td>\n",
       "    </tr>\n",
       "    <tr>\n",
       "      <th>1</th>\n",
       "      <td>100003</td>\n",
       "      <td>9</td>\n",
       "    </tr>\n",
       "    <tr>\n",
       "      <th>2</th>\n",
       "      <td>100006</td>\n",
       "      <td>9</td>\n",
       "    </tr>\n",
       "    <tr>\n",
       "      <th>3</th>\n",
       "      <td>100007</td>\n",
       "      <td>4</td>\n",
       "    </tr>\n",
       "    <tr>\n",
       "      <th>4</th>\n",
       "      <td>100009</td>\n",
       "      <td>18</td>\n",
       "    </tr>\n",
       "  </tbody>\n",
       "</table>\n",
       "</div>"
      ],
      "text/plain": [
       "   HADM_ID  COUNT\n",
       "0   100001     16\n",
       "1   100003      9\n",
       "2   100006      9\n",
       "3   100007      4\n",
       "4   100009     18"
      ]
     },
     "execution_count": 32,
     "metadata": {},
     "output_type": "execute_result"
    }
   ],
   "source": [
    "diagnoses_count.head()"
   ]
  },
  {
   "cell_type": "code",
   "execution_count": 7,
   "metadata": {},
   "outputs": [],
   "source": [
    "diag_tempt = diagnoses.merge(diag_freq,how='left',on='ICD9_CODE')\n",
    "diag_set = diag_tempt.HADM_ID_x[diag_tempt.HADM_ID_y<=cutoff]\n",
    "diagnoses_cut = diagnoses[(~diagnoses['HADM_ID'].isin(diag_set))]\n",
    "proc_tempt = procedures.merge(proc_freq,how='left',on='ICD9_CODE')\n",
    "proc_set = proc_tempt.HADM_ID_x[proc_tempt.HADM_ID_y<=cutoff]\n",
    "procedure_cut = procedures[~procedures['HADM_ID'].isin(proc_set)]\n",
    "diagnoses_count = diagnoses_original.groupby('HADM_ID',as_index=False).count()\n",
    "diagnoses_count = diagnoses_count.rename(str, columns={\"ICD9_CODE\":\"COUNT\"})\n",
    "diagnoses_count = diagnoses_count[['HADM_ID','COUNT']]\n",
    "diagnoses_count = diagnoses_count[diagnoses_count.COUNT<=30]\n",
    "procedures_count = procedures_original.groupby('HADM_ID',as_index=False).count()\n",
    "procedures_count = procedures_count.rename(str, columns={\"ICD9_CODE\":\"COUNT\"})\n",
    "procedures_count = procedures_count[['HADM_ID','COUNT']]\n",
    "procedures_count = procedures_count[procedures_count.COUNT<=15]\n",
    "diagnoses = diagnoses_cut.merge(diagnoses_count,'left',left_on='HADM_ID',right_on='HADM_ID')\n",
    "diagnoses = diagnoses[diagnoses.COUNT>0]\n",
    "diagnoses.ICD9_CODE = pd.Categorical(diagnoses.ICD9_CODE)\n",
    "diagnoses.ICD9_CODE = (diagnoses.ICD9_CODE.cat.codes+1).astype(int)\n",
    "procedures = procedure_cut.merge(procedures_count,'left',left_on='HADM_ID',right_on='HADM_ID')\n",
    "procedures.ICD9_CODE = pd.Categorical(procedures.ICD9_CODE)\n",
    "procedures.ICD9_CODE = (procedures.ICD9_CODE.cat.codes+1+max(diagnoses.ICD9_CODE)).astype(int)\n",
    "n_disease=max(procedures.ICD9_CODE)+1\n",
    "n_disease"
   ]
  },
  {
   "cell_type": "code",
   "execution_count": 8,
   "metadata": {},
   "outputs": [],
   "source": [
    "mortality1y = (admits.MOT <1) & admits.DOD.notnull()\n",
    "#mortality = mortality | (admits.DEATHTIME.notnull() & ((admits.ADMITTIME <= admits.DEATHTIME) & (admits.DISCHTIME >= admits.DEATHTIME)))\n",
    "#admits['MORTALITY'] = mortality.astype(int)\n",
    "admits['MORTALITY_1year'] =mortality1y.astype(int)\n",
    "training_df = admits[['HADM_ID','MORTALITY_1year','AGE','GENDER','LOS','Eth']]\n",
    "diagnoses = diagnoses[['HADM_ID','ICD9_CODE']]\n",
    "diagnoses_df = diagnoses.pivot_table(index='HADM_ID',columns=diagnoses.groupby('HADM_ID').cumcount(),values='ICD9_CODE',aggfunc=np.sum).add_prefix('DX')\n",
    "procedures_df = procedures.pivot_table(index='HADM_ID',columns=procedures.groupby('HADM_ID').cumcount(),values='ICD9_CODE',aggfunc=np.sum).add_prefix('PR')\n",
    "training_df = training_df.merge(diagnoses_df,how='inner',left_on='HADM_ID',right_on='HADM_ID')\n",
    "training_df = training_df.merge(procedures_df,how = 'inner',left_on='HADM_ID',right_on='HADM_ID')\n",
    "df_train = training_df\n",
    "df_train.fillna(0,inplace=True)"
   ]
  },
  {
   "cell_type": "code",
   "execution_count": null,
   "metadata": {},
   "outputs": [],
   "source": []
  }
 ],
 "metadata": {
  "kernelspec": {
   "display_name": "Python 3",
   "language": "python",
   "name": "python3"
  },
  "language_info": {
   "codemirror_mode": {
    "name": "ipython",
    "version": 3
   },
   "file_extension": ".py",
   "mimetype": "text/x-python",
   "name": "python",
   "nbconvert_exporter": "python",
   "pygments_lexer": "ipython3",
   "version": "3.5.4"
  }
 },
 "nbformat": 4,
 "nbformat_minor": 2
}
