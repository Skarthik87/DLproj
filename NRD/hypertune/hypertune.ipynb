{
 "cells": [
  {
   "cell_type": "code",
   "execution_count": 1,
   "metadata": {},
   "outputs": [],
   "source": [
    "import numpy as np\n",
    "import matplotlib.pyplot as plt\n",
    "%matplotlib inline"
   ]
  },
  {
   "cell_type": "markdown",
   "metadata": {},
   "source": [
    "## Prepare hyper-parameters and generate the .sh file"
   ]
  },
  {
   "cell_type": "code",
   "execution_count": 5,
   "metadata": {},
   "outputs": [],
   "source": [
    "n_sample = 1\n",
    "\n",
    "rare_cutpoints = np.random.randint(1, 20, n_sample)\n",
    "sum_layers = np.random.choice([0, 1], n_sample)\n",
    "fc_widths = np.random.choice([16, 32, 64], n_sample)\n",
    "DX_dims = np.random.randint(25, 50, n_sample)\n",
    "hosp_dims = np.random.randint(1, 5, n_sample)\n",
    "lrs = np.random.choice([0.0005, 0.0002, 0.0001], n_sample)\n",
    "dropouts = np.random.rand(n_sample)*0.4\n",
    "batch_sizes = np.random.choice([256, 128], n_sample)\n",
    "penalty = np.random.rand(n_sample)*0.01"
   ]
  },
  {
   "cell_type": "code",
   "execution_count": 6,
   "metadata": {},
   "outputs": [],
   "source": [
    "parameters = list(zip(sum_layers, rare_cutpoints, DX_dims, hosp_dims, penalty, fc_widths, dropouts, lrs, batch_sizes))"
   ]
  },
  {
   "cell_type": "code",
   "execution_count": 7,
   "metadata": {},
   "outputs": [],
   "source": [
    "for para in parameters:\n",
    "    with open('hypertune0.sh', 'a') as f:\n",
    "        f.write('python hypertune_masksum.py --sum_layer {0} --rare_cutpoint {1} --dx_dim {2} --hosp_dim {3} --penalty {4} --fc_width {5} --dropout {6} --lr {7} --batchsize {8}\\n'.format(*para))"
   ]
  },
  {
   "cell_type": "code",
   "execution_count": 8,
   "metadata": {},
   "outputs": [
    {
     "name": "stderr",
     "output_type": "stream",
     "text": [
      "Using TensorFlow backend.\n"
     ]
    },
    {
     "ename": "ImportError",
     "evalue": "No module named 'keras.engine.base_layer'",
     "output_type": "error",
     "traceback": [
      "\u001b[0;31m---------------------------------------------------------------------------\u001b[0m",
      "\u001b[0;31mImportError\u001b[0m                               Traceback (most recent call last)",
      "\u001b[0;32m<ipython-input-8-484670f81380>\u001b[0m in \u001b[0;36m<module>\u001b[0;34m()\u001b[0m\n\u001b[0;32m----> 1\u001b[0;31m \u001b[0;32mfrom\u001b[0m \u001b[0mkeras\u001b[0m\u001b[0;34m.\u001b[0m\u001b[0mengine\u001b[0m\u001b[0;34m.\u001b[0m\u001b[0mbase_layer\u001b[0m \u001b[0;32mimport\u001b[0m \u001b[0mInputSpec\u001b[0m\u001b[0;34m,\u001b[0m \u001b[0mLayer\u001b[0m\u001b[0;34m\u001b[0m\u001b[0m\n\u001b[0m",
      "\u001b[0;31mImportError\u001b[0m: No module named 'keras.engine.base_layer'"
     ]
    }
   ],
   "source": [
    "from keras.engine.base_layer import InputSpec, Layer"
   ]
  }
 ],
 "metadata": {
  "kernelspec": {
   "display_name": "Python 3",
   "language": "python",
   "name": "python3"
  },
  "language_info": {
   "codemirror_mode": {
    "name": "ipython",
    "version": 3
   },
   "file_extension": ".py",
   "mimetype": "text/x-python",
   "name": "python",
   "nbconvert_exporter": "python",
   "pygments_lexer": "ipython3",
   "version": "3.5.4"
  }
 },
 "nbformat": 4,
 "nbformat_minor": 2
}
