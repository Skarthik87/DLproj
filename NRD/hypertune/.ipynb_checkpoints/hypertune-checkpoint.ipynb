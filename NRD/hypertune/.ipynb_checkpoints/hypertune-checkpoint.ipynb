{
 "cells": [
  {
   "cell_type": "code",
   "execution_count": 1,
   "metadata": {},
   "outputs": [],
   "source": [
    "import numpy as np\n",
    "import matplotlib.pyplot as plt\n",
    "%matplotlib inline\n",
    "import pandas as pd"
   ]
  },
  {
   "cell_type": "markdown",
   "metadata": {},
   "source": [
    "## Prepare hyper-parameters and generate the .sh files"
   ]
  },
  {
   "cell_type": "code",
   "execution_count": null,
   "metadata": {},
   "outputs": [],
   "source": [
    "n_sample = 500"
   ]
  },
  {
   "cell_type": "code",
   "execution_count": 6,
   "metadata": {},
   "outputs": [],
   "source": [
    "for i in range(8):\n",
    "    model_names = np.random.choice(['setsum', 'interact'], n_sample)\n",
    "    penalty_norms = np.random.choice([1, 2], n_sample)\n",
    "    rare_cutpoints = np.random.choice([5, 10, 15, 20, 25, 30, 40, 50], n_sample)\n",
    "    fc_widths = np.random.randint(24, 48, n_sample)\n",
    "    DX_dims = np.random.randint(30, 40, n_sample)\n",
    "    hosp_dims = np.random.randint(1, 3, n_sample)\n",
    "    lrs = np.random.choice([0.0005, 0.0002, 0.0001], n_sample)\n",
    "    dropouts = np.random.rand(n_sample)*0.4\n",
    "    batch_sizes = np.random.choice([256, 128], n_sample)\n",
    "    penalty = np.random.rand(n_sample)*0.01\n",
    "    output_files = np.random.choice(['output/result0724_0.csv'], n_sample)\n",
    "    rm_all_missings = np.random.choice([True, False], n_sample)\n",
    "    dense_activations = np.random.choice(['relu', 'tanh'], n_sample)\n",
    "\n",
    "    parameters = list(zip(model_names, penalty_norms, rare_cutpoints, fc_width, DX_dims, hosp_dims, lrs, dropouts, batch_sizes, \n",
    "                      penalty, output_files, rm_all_missings, dense_activations))"
   ]
  },
  {
   "cell_type": "code",
   "execution_count": 16,
   "metadata": {},
   "outputs": [],
   "source": [
    "for para in parameters:\n",
    "    with open('hypertune1.sh', 'a') as f:\n",
    "        f.write('python hypertune_masksum1.py --sum_layer {0} --rare_cutpoint {1} --dx_dim {2} --hosp_dim {3} --penalty {4} --fc_width {5} --dropout {6} --lr {7} --batchsize {8}\\n'.format(*para))"
   ]
  },
  {
   "cell_type": "code",
   "execution_count": 7,
   "metadata": {},
   "outputs": [],
   "source": [
    "for para in parameters:\n",
    "    with open('hypertune7.sh', 'a') as f:\n",
    "        f.write('python hypertune_lstm3.py --sum_layer {0} --rare_cutpoint {1} --dx_dim {2} --hosp_dim {3} --penalty {4} --fc_width {5} --dropout {6} --lr {7} --batchsize {8}\\n'.format(*para))"
   ]
  },
  {
   "cell_type": "markdown",
   "metadata": {},
   "source": [
    "## Result Analysis"
   ]
  },
  {
   "cell_type": "code",
   "execution_count": 2,
   "metadata": {},
   "outputs": [],
   "source": [
    "res = pd.DataFrame()"
   ]
  },
  {
   "cell_type": "code",
   "execution_count": 3,
   "metadata": {},
   "outputs": [],
   "source": [
    "for i in range(4):\n",
    "    df = pd.read_csv('output/hypertune_masksum'+str(i)+'.csv', names=['sum_layer', 'rare_cutpoint', 'DX_dim', 'hosp_dim', 'penalty', 'fc_width', 'lr', 'dropout', 'batchsize', 'auc'])\n",
    "    res = pd.concat([res, df])\n",
    "for i in range(4):\n",
    "    df = pd.read_csv('output/hypertune_lstm'+str(i)+'.csv', names=['sum_layer', 'rare_cutpoint', 'DX_dim', 'hosp_dim', 'penalty', 'fc_width', 'lr', 'dropout', 'batchsize', 'auc'])\n",
    "    res = pd.concat([res, df])"
   ]
  },
  {
   "cell_type": "code",
   "execution_count": 4,
   "metadata": {},
   "outputs": [
    {
     "data": {
      "text/plain": [
       "(2194, 10)"
      ]
     },
     "execution_count": 4,
     "metadata": {},
     "output_type": "execute_result"
    }
   ],
   "source": [
    "res.shape"
   ]
  },
  {
   "cell_type": "code",
   "execution_count": 5,
   "metadata": {
    "scrolled": false
   },
   "outputs": [
    {
     "data": {
      "text/html": [
       "<div>\n",
       "<style scoped>\n",
       "    .dataframe tbody tr th:only-of-type {\n",
       "        vertical-align: middle;\n",
       "    }\n",
       "\n",
       "    .dataframe tbody tr th {\n",
       "        vertical-align: top;\n",
       "    }\n",
       "\n",
       "    .dataframe thead th {\n",
       "        text-align: right;\n",
       "    }\n",
       "</style>\n",
       "<table border=\"1\" class=\"dataframe\">\n",
       "  <thead>\n",
       "    <tr style=\"text-align: right;\">\n",
       "      <th></th>\n",
       "      <th>count</th>\n",
       "      <th>mean</th>\n",
       "      <th>std</th>\n",
       "      <th>min</th>\n",
       "      <th>25%</th>\n",
       "      <th>50%</th>\n",
       "      <th>75%</th>\n",
       "      <th>max</th>\n",
       "    </tr>\n",
       "    <tr>\n",
       "      <th>sum_layer</th>\n",
       "      <th></th>\n",
       "      <th></th>\n",
       "      <th></th>\n",
       "      <th></th>\n",
       "      <th></th>\n",
       "      <th></th>\n",
       "      <th></th>\n",
       "      <th></th>\n",
       "    </tr>\n",
       "  </thead>\n",
       "  <tbody>\n",
       "    <tr>\n",
       "      <th>0</th>\n",
       "      <td>1001.0</td>\n",
       "      <td>0.705792</td>\n",
       "      <td>0.001485</td>\n",
       "      <td>0.7009</td>\n",
       "      <td>0.7049</td>\n",
       "      <td>0.70580</td>\n",
       "      <td>0.706800</td>\n",
       "      <td>0.7095</td>\n",
       "    </tr>\n",
       "    <tr>\n",
       "      <th>1</th>\n",
       "      <td>997.0</td>\n",
       "      <td>0.706761</td>\n",
       "      <td>0.001542</td>\n",
       "      <td>0.7018</td>\n",
       "      <td>0.7058</td>\n",
       "      <td>0.70680</td>\n",
       "      <td>0.707900</td>\n",
       "      <td>0.7111</td>\n",
       "    </tr>\n",
       "    <tr>\n",
       "      <th>2</th>\n",
       "      <td>196.0</td>\n",
       "      <td>0.705882</td>\n",
       "      <td>0.001597</td>\n",
       "      <td>0.7010</td>\n",
       "      <td>0.7047</td>\n",
       "      <td>0.70605</td>\n",
       "      <td>0.707125</td>\n",
       "      <td>0.7089</td>\n",
       "    </tr>\n",
       "  </tbody>\n",
       "</table>\n",
       "</div>"
      ],
      "text/plain": [
       "            count      mean       std     min     25%      50%       75%  \\\n",
       "sum_layer                                                                  \n",
       "0          1001.0  0.705792  0.001485  0.7009  0.7049  0.70580  0.706800   \n",
       "1           997.0  0.706761  0.001542  0.7018  0.7058  0.70680  0.707900   \n",
       "2           196.0  0.705882  0.001597  0.7010  0.7047  0.70605  0.707125   \n",
       "\n",
       "              max  \n",
       "sum_layer          \n",
       "0          0.7095  \n",
       "1          0.7111  \n",
       "2          0.7089  "
      ]
     },
     "execution_count": 5,
     "metadata": {},
     "output_type": "execute_result"
    }
   ],
   "source": [
    "res.groupby('sum_layer').describe()['auc']"
   ]
  },
  {
   "cell_type": "code",
   "execution_count": 14,
   "metadata": {},
   "outputs": [],
   "source": [
    "subset = res.loc[(res.sum_layer==1)]"
   ]
  },
  {
   "cell_type": "code",
   "execution_count": 15,
   "metadata": {
    "scrolled": true
   },
   "outputs": [
    {
     "data": {
      "text/html": [
       "<div>\n",
       "<style scoped>\n",
       "    .dataframe tbody tr th:only-of-type {\n",
       "        vertical-align: middle;\n",
       "    }\n",
       "\n",
       "    .dataframe tbody tr th {\n",
       "        vertical-align: top;\n",
       "    }\n",
       "\n",
       "    .dataframe thead th {\n",
       "        text-align: right;\n",
       "    }\n",
       "</style>\n",
       "<table border=\"1\" class=\"dataframe\">\n",
       "  <thead>\n",
       "    <tr style=\"text-align: right;\">\n",
       "      <th></th>\n",
       "      <th>count</th>\n",
       "      <th>mean</th>\n",
       "      <th>std</th>\n",
       "      <th>min</th>\n",
       "      <th>25%</th>\n",
       "      <th>50%</th>\n",
       "      <th>75%</th>\n",
       "      <th>max</th>\n",
       "    </tr>\n",
       "    <tr>\n",
       "      <th>lr</th>\n",
       "      <th></th>\n",
       "      <th></th>\n",
       "      <th></th>\n",
       "      <th></th>\n",
       "      <th></th>\n",
       "      <th></th>\n",
       "      <th></th>\n",
       "      <th></th>\n",
       "    </tr>\n",
       "  </thead>\n",
       "  <tbody>\n",
       "    <tr>\n",
       "      <th>0.0001</th>\n",
       "      <td>346.0</td>\n",
       "      <td>0.707545</td>\n",
       "      <td>0.001179</td>\n",
       "      <td>0.7039</td>\n",
       "      <td>0.7067</td>\n",
       "      <td>0.7076</td>\n",
       "      <td>0.7084</td>\n",
       "      <td>0.7106</td>\n",
       "    </tr>\n",
       "    <tr>\n",
       "      <th>0.0002</th>\n",
       "      <td>342.0</td>\n",
       "      <td>0.707165</td>\n",
       "      <td>0.001291</td>\n",
       "      <td>0.7018</td>\n",
       "      <td>0.7064</td>\n",
       "      <td>0.7072</td>\n",
       "      <td>0.7080</td>\n",
       "      <td>0.7111</td>\n",
       "    </tr>\n",
       "    <tr>\n",
       "      <th>0.0005</th>\n",
       "      <td>309.0</td>\n",
       "      <td>0.705435</td>\n",
       "      <td>0.001284</td>\n",
       "      <td>0.7018</td>\n",
       "      <td>0.7045</td>\n",
       "      <td>0.7055</td>\n",
       "      <td>0.7064</td>\n",
       "      <td>0.7089</td>\n",
       "    </tr>\n",
       "  </tbody>\n",
       "</table>\n",
       "</div>"
      ],
      "text/plain": [
       "        count      mean       std     min     25%     50%     75%     max\n",
       "lr                                                                       \n",
       "0.0001  346.0  0.707545  0.001179  0.7039  0.7067  0.7076  0.7084  0.7106\n",
       "0.0002  342.0  0.707165  0.001291  0.7018  0.7064  0.7072  0.7080  0.7111\n",
       "0.0005  309.0  0.705435  0.001284  0.7018  0.7045  0.7055  0.7064  0.7089"
      ]
     },
     "execution_count": 15,
     "metadata": {},
     "output_type": "execute_result"
    }
   ],
   "source": [
    "subset.groupby('lr').describe()['auc']"
   ]
  },
  {
   "cell_type": "code",
   "execution_count": 16,
   "metadata": {},
   "outputs": [
    {
     "data": {
      "text/html": [
       "<div>\n",
       "<style scoped>\n",
       "    .dataframe tbody tr th:only-of-type {\n",
       "        vertical-align: middle;\n",
       "    }\n",
       "\n",
       "    .dataframe tbody tr th {\n",
       "        vertical-align: top;\n",
       "    }\n",
       "\n",
       "    .dataframe thead th {\n",
       "        text-align: right;\n",
       "    }\n",
       "</style>\n",
       "<table border=\"1\" class=\"dataframe\">\n",
       "  <thead>\n",
       "    <tr style=\"text-align: right;\">\n",
       "      <th></th>\n",
       "      <th>count</th>\n",
       "      <th>mean</th>\n",
       "      <th>std</th>\n",
       "      <th>min</th>\n",
       "      <th>25%</th>\n",
       "      <th>50%</th>\n",
       "      <th>75%</th>\n",
       "      <th>max</th>\n",
       "    </tr>\n",
       "    <tr>\n",
       "      <th>batchsize</th>\n",
       "      <th></th>\n",
       "      <th></th>\n",
       "      <th></th>\n",
       "      <th></th>\n",
       "      <th></th>\n",
       "      <th></th>\n",
       "      <th></th>\n",
       "      <th></th>\n",
       "    </tr>\n",
       "  </thead>\n",
       "  <tbody>\n",
       "    <tr>\n",
       "      <th>128</th>\n",
       "      <td>518.0</td>\n",
       "      <td>0.706661</td>\n",
       "      <td>0.001632</td>\n",
       "      <td>0.7018</td>\n",
       "      <td>0.7055</td>\n",
       "      <td>0.7068</td>\n",
       "      <td>0.7079</td>\n",
       "      <td>0.7106</td>\n",
       "    </tr>\n",
       "    <tr>\n",
       "      <th>256</th>\n",
       "      <td>479.0</td>\n",
       "      <td>0.706869</td>\n",
       "      <td>0.001432</td>\n",
       "      <td>0.7018</td>\n",
       "      <td>0.7060</td>\n",
       "      <td>0.7069</td>\n",
       "      <td>0.7078</td>\n",
       "      <td>0.7111</td>\n",
       "    </tr>\n",
       "  </tbody>\n",
       "</table>\n",
       "</div>"
      ],
      "text/plain": [
       "           count      mean       std     min     25%     50%     75%     max\n",
       "batchsize                                                                   \n",
       "128        518.0  0.706661  0.001632  0.7018  0.7055  0.7068  0.7079  0.7106\n",
       "256        479.0  0.706869  0.001432  0.7018  0.7060  0.7069  0.7078  0.7111"
      ]
     },
     "execution_count": 16,
     "metadata": {},
     "output_type": "execute_result"
    }
   ],
   "source": [
    "subset.groupby('batchsize').describe()['auc']"
   ]
  },
  {
   "cell_type": "code",
   "execution_count": 10,
   "metadata": {},
   "outputs": [
    {
     "data": {
      "text/plain": [
       "<matplotlib.axes._subplots.AxesSubplot at 0x2ac7108778d0>"
      ]
     },
     "execution_count": 10,
     "metadata": {},
     "output_type": "execute_result"
    },
    {
     "data": {
      "image/png": "[encoded data removed]",
      "text/plain": [
       "<Figure size 432x288 with 1 Axes>"
      ]
     },
     "metadata": {},
     "output_type": "display_data"
    }
   ],
   "source": [
    "subset.plot.scatter('penalty', 'auc', xlim=(-0.001, 0.0105), ylim=(0.7, 0.712))"
   ]
  },
  {
   "cell_type": "code",
   "execution_count": 11,
   "metadata": {},
   "outputs": [
    {
     "data": {
      "text/plain": [
       "<matplotlib.axes._subplots.AxesSubplot at 0x2ac709313dd8>"
      ]
     },
     "execution_count": 11,
     "metadata": {},
     "output_type": "execute_result"
    },
    {
     "data": {
      "image/png": "[encoded data removed]",
      "text/plain": [
       "<Figure size 432x288 with 1 Axes>"
      ]
     },
     "metadata": {},
     "output_type": "display_data"
    }
   ],
   "source": [
    "subset.plot.scatter('rare_cutpoint', 'auc', xlim=(0, 21), ylim=(0.7, 0.712))"
   ]
  },
  {
   "cell_type": "code",
   "execution_count": 35,
   "metadata": {
    "scrolled": true
   },
   "outputs": [
    {
     "data": {
      "text/plain": [
       "<matplotlib.axes._subplots.AxesSubplot at 0x2ba98d885e10>"
      ]
     },
     "execution_count": 35,
     "metadata": {},
     "output_type": "execute_result"
    },
    {
     "data": {
      "image/png": "[encoded data removed]",
      "text/plain": [
       "<Figure size 432x288 with 1 Axes>"
      ]
     },
     "metadata": {},
     "output_type": "display_data"
    }
   ],
   "source": [
    "masksum[masksum.sum_layer==1].plot.scatter('lr', 'auc', xlim=(0, 0.0006), ylim=(0.7, 0.712))"
   ]
  },
  {
   "cell_type": "code",
   "execution_count": 18,
   "metadata": {
    "scrolled": true
   },
   "outputs": [],
   "source": [
    "highauc = res.loc[(res.sum_layer==1) & (res.auc>0.7094)]"
   ]
  },
  {
   "cell_type": "code",
   "execution_count": 19,
   "metadata": {},
   "outputs": [
    {
     "data": {
      "text/html": [
       "<div>\n",
       "<style scoped>\n",
       "    .dataframe tbody tr th:only-of-type {\n",
       "        vertical-align: middle;\n",
       "    }\n",
       "\n",
       "    .dataframe tbody tr th {\n",
       "        vertical-align: top;\n",
       "    }\n",
       "\n",
       "    .dataframe thead th {\n",
       "        text-align: right;\n",
       "    }\n",
       "</style>\n",
       "<table border=\"1\" class=\"dataframe\">\n",
       "  <thead>\n",
       "    <tr style=\"text-align: right;\">\n",
       "      <th>batchsize</th>\n",
       "      <th>128</th>\n",
       "      <th>256</th>\n",
       "    </tr>\n",
       "    <tr>\n",
       "      <th>lr</th>\n",
       "      <th></th>\n",
       "      <th></th>\n",
       "    </tr>\n",
       "  </thead>\n",
       "  <tbody>\n",
       "    <tr>\n",
       "      <th>0.0001</th>\n",
       "      <td>9</td>\n",
       "      <td>5</td>\n",
       "    </tr>\n",
       "    <tr>\n",
       "      <th>0.0002</th>\n",
       "      <td>5</td>\n",
       "      <td>8</td>\n",
       "    </tr>\n",
       "  </tbody>\n",
       "</table>\n",
       "</div>"
      ],
      "text/plain": [
       "batchsize  128  256\n",
       "lr                 \n",
       "0.0001       9    5\n",
       "0.0002       5    8"
      ]
     },
     "execution_count": 19,
     "metadata": {},
     "output_type": "execute_result"
    }
   ],
   "source": [
    "pd.crosstab(highauc.lr, highauc.batchsize)"
   ]
  },
  {
   "cell_type": "code",
   "execution_count": 20,
   "metadata": {},
   "outputs": [
    {
     "data": {
      "text/plain": [
       "<matplotlib.axes._subplots.AxesSubplot at 0x2ac712971eb8>"
      ]
     },
     "execution_count": 20,
     "metadata": {},
     "output_type": "execute_result"
    },
    {
     "data": {
      "image/png": "[encoded data removed]",
      "text/plain": [
       "<Figure size 432x288 with 1 Axes>"
      ]
     },
     "metadata": {},
     "output_type": "display_data"
    }
   ],
   "source": [
    "highauc.plot.scatter('penalty', 'rare_cutpoint', xlim=(0, 0.01), ylim=(0,21))"
   ]
  },
  {
   "cell_type": "code",
   "execution_count": 26,
   "metadata": {},
   "outputs": [
    {
     "data": {
      "text/html": [
       "<div>\n",
       "<style scoped>\n",
       "    .dataframe tbody tr th:only-of-type {\n",
       "        vertical-align: middle;\n",
       "    }\n",
       "\n",
       "    .dataframe tbody tr th {\n",
       "        vertical-align: top;\n",
       "    }\n",
       "\n",
       "    .dataframe thead th {\n",
       "        text-align: right;\n",
       "    }\n",
       "</style>\n",
       "<table border=\"1\" class=\"dataframe\">\n",
       "  <thead>\n",
       "    <tr style=\"text-align: right;\">\n",
       "      <th></th>\n",
       "      <th>sum_layer</th>\n",
       "      <th>rare_cutpoint</th>\n",
       "      <th>DX_dim</th>\n",
       "      <th>hosp_dim</th>\n",
       "      <th>penalty</th>\n",
       "      <th>fc_width</th>\n",
       "      <th>lr</th>\n",
       "      <th>dropout</th>\n",
       "      <th>batchsize</th>\n",
       "      <th>auc</th>\n",
       "    </tr>\n",
       "  </thead>\n",
       "  <tbody>\n",
       "    <tr>\n",
       "      <th>292</th>\n",
       "      <td>1</td>\n",
       "      <td>14</td>\n",
       "      <td>35</td>\n",
       "      <td>2</td>\n",
       "      <td>0.0007</td>\n",
       "      <td>32</td>\n",
       "      <td>0.0002</td>\n",
       "      <td>0.1652</td>\n",
       "      <td>256</td>\n",
       "      <td>0.7101</td>\n",
       "    </tr>\n",
       "    <tr>\n",
       "      <th>322</th>\n",
       "      <td>1</td>\n",
       "      <td>14</td>\n",
       "      <td>35</td>\n",
       "      <td>2</td>\n",
       "      <td>0.0032</td>\n",
       "      <td>32</td>\n",
       "      <td>0.0001</td>\n",
       "      <td>0.1499</td>\n",
       "      <td>256</td>\n",
       "      <td>0.7101</td>\n",
       "    </tr>\n",
       "    <tr>\n",
       "      <th>377</th>\n",
       "      <td>1</td>\n",
       "      <td>11</td>\n",
       "      <td>32</td>\n",
       "      <td>2</td>\n",
       "      <td>0.0014</td>\n",
       "      <td>32</td>\n",
       "      <td>0.0001</td>\n",
       "      <td>0.0661</td>\n",
       "      <td>256</td>\n",
       "      <td>0.7102</td>\n",
       "    </tr>\n",
       "    <tr>\n",
       "      <th>182</th>\n",
       "      <td>1</td>\n",
       "      <td>6</td>\n",
       "      <td>30</td>\n",
       "      <td>1</td>\n",
       "      <td>0.0089</td>\n",
       "      <td>32</td>\n",
       "      <td>0.0002</td>\n",
       "      <td>0.0687</td>\n",
       "      <td>256</td>\n",
       "      <td>0.7101</td>\n",
       "    </tr>\n",
       "    <tr>\n",
       "      <th>12</th>\n",
       "      <td>1</td>\n",
       "      <td>10</td>\n",
       "      <td>36</td>\n",
       "      <td>3</td>\n",
       "      <td>0.0011</td>\n",
       "      <td>32</td>\n",
       "      <td>0.0002</td>\n",
       "      <td>0.1947</td>\n",
       "      <td>256</td>\n",
       "      <td>0.7111</td>\n",
       "    </tr>\n",
       "    <tr>\n",
       "      <th>200</th>\n",
       "      <td>1</td>\n",
       "      <td>18</td>\n",
       "      <td>49</td>\n",
       "      <td>3</td>\n",
       "      <td>0.0055</td>\n",
       "      <td>32</td>\n",
       "      <td>0.0001</td>\n",
       "      <td>0.1212</td>\n",
       "      <td>128</td>\n",
       "      <td>0.7106</td>\n",
       "    </tr>\n",
       "  </tbody>\n",
       "</table>\n",
       "</div>"
      ],
      "text/plain": [
       "     sum_layer  rare_cutpoint  DX_dim  hosp_dim  penalty  fc_width      lr  \\\n",
       "292          1             14      35         2   0.0007        32  0.0002   \n",
       "322          1             14      35         2   0.0032        32  0.0001   \n",
       "377          1             11      32         2   0.0014        32  0.0001   \n",
       "182          1              6      30         1   0.0089        32  0.0002   \n",
       "12           1             10      36         3   0.0011        32  0.0002   \n",
       "200          1             18      49         3   0.0055        32  0.0001   \n",
       "\n",
       "     dropout  batchsize     auc  \n",
       "292   0.1652        256  0.7101  \n",
       "322   0.1499        256  0.7101  \n",
       "377   0.0661        256  0.7102  \n",
       "182   0.0687        256  0.7101  \n",
       "12    0.1947        256  0.7111  \n",
       "200   0.1212        128  0.7106  "
      ]
     },
     "execution_count": 26,
     "metadata": {},
     "output_type": "execute_result"
    }
   ],
   "source": [
    "res.loc[(res.auc>0.71)]"
   ]
  }
 ],
 "metadata": {
  "kernelspec": {
   "display_name": "Python 3",
   "language": "python",
   "name": "python3"
  },
  "language_info": {
   "codemirror_mode": {
    "name": "ipython",
    "version": 3
   },
   "file_extension": ".py",
   "mimetype": "text/x-python",
   "name": "python",
   "nbconvert_exporter": "python",
   "pygments_lexer": "ipython3",
   "version": "3.5.4"
  }
 },
 "nbformat": 4,
 "nbformat_minor": 2
}
