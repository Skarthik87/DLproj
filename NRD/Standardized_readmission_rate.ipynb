{
 "cells": [
  {
   "cell_type": "markdown",
   "metadata": {},
   "source": [
    "# Risk Adjustment\n",
    "In this notebook we risk adjusted readmission rate for each hospital. "
   ]
  },
  {
   "cell_type": "code",
   "execution_count": 1,
   "metadata": {},
   "outputs": [],
   "source": [
    "import pandas as pd\n",
    "import numpy as np\n",
    "import matplotlib.pyplot as plt\n",
    "#import statsmodels.api as sm\n",
    "from sklearn.model_selection import train_test_split, StratifiedKFold\n",
    "from sklearn.metrics import roc_curve, auc\n",
    "import os, sys, time\n",
    "from importlib import reload\n",
    "%matplotlib inline"
   ]
  },
  {
   "cell_type": "code",
   "execution_count": 2,
   "metadata": {},
   "outputs": [],
   "source": [
    "os.environ['CUDA_VISIBLE_DEVICES'] = ''"
   ]
  },
  {
   "cell_type": "code",
   "execution_count": 2,
   "metadata": {},
   "outputs": [],
   "source": [
    "path = '/nfs/turbo/intmed-bnallamo-turbo/wsliu/Data/NRD/'"
   ]
  },
  {
   "cell_type": "code",
   "execution_count": 2,
   "metadata": {},
   "outputs": [],
   "source": [
    "path = '/nfs/turbo/umms-awaljee/wsliu/Data/NRD/'"
   ]
  },
  {
   "cell_type": "code",
   "execution_count": 3,
   "metadata": {},
   "outputs": [],
   "source": [
    "model_path = path + 'models/'\n",
    "if not os.path.exists(model_path): os.mkdir(model_path)"
   ]
  },
  {
   "cell_type": "code",
   "execution_count": 4,
   "metadata": {
    "scrolled": true
   },
   "outputs": [
    {
     "name": "stderr",
     "output_type": "stream",
     "text": [
      "Using TensorFlow backend.\n"
     ]
    }
   ],
   "source": [
    "from keras.layers import Input, Embedding, Concatenate, Reshape, BatchNormalization, LSTM, CuDNNLSTM, CuDNNGRU, Lambda\n",
    "from keras.models import Model\n",
    "from keras.layers.core import Dense, Activation, Dropout, RepeatVector\n",
    "from keras.callbacks import ModelCheckpoint, ReduceLROnPlateau, EarlyStopping\n",
    "from keras.utils import to_categorical\n",
    "from keras.optimizers import Adam\n",
    "from keras.initializers import Constant\n",
    "import keras.backend as K\n",
    "\n",
    "module_path = os.path.abspath(os.path.join('..'))\n",
    "if module_path not in sys.path:\n",
    "    sys.path.append(module_path)\n",
    "from DL_utils import plot_roc\n",
    "from keras_addon import AUCCheckPoint\n",
    "from utils import get_frequency, preprocess\n",
    "\n",
    "from ccs_tools import dx_multi, pr_multi, core_dtypes_pd"
   ]
  },
  {
   "cell_type": "markdown",
   "metadata": {},
   "source": [
    "## Risk Adjustment for LME"
   ]
  },
  {
   "cell_type": "code",
   "execution_count": 58,
   "metadata": {},
   "outputs": [],
   "source": [
    "cohort = 'ami'"
   ]
  },
  {
   "cell_type": "code",
   "execution_count": 130,
   "metadata": {},
   "outputs": [],
   "source": [
    "adjust_df = pd.read_csv(path+'cohorts/'+cohort+'/adjustment_tst0.csv')"
   ]
  },
  {
   "cell_type": "code",
   "execution_count": 124,
   "metadata": {},
   "outputs": [
    {
     "data": {
      "text/html": [
       "<div>\n",
       "<style scoped>\n",
       "    .dataframe tbody tr th:only-of-type {\n",
       "        vertical-align: middle;\n",
       "    }\n",
       "\n",
       "    .dataframe tbody tr th {\n",
       "        vertical-align: top;\n",
       "    }\n",
       "\n",
       "    .dataframe thead th {\n",
       "        text-align: right;\n",
       "    }\n",
       "</style>\n",
       "<table border=\"1\" class=\"dataframe\">\n",
       "  <thead>\n",
       "    <tr style=\"text-align: right;\">\n",
       "      <th></th>\n",
       "      <th>Unnamed: 0</th>\n",
       "      <th>KEY_NRD</th>\n",
       "      <th>HOSP_NRD</th>\n",
       "      <th>readm30</th>\n",
       "      <th>predicted_score</th>\n",
       "      <th>expected_score</th>\n",
       "    </tr>\n",
       "  </thead>\n",
       "  <tbody>\n",
       "    <tr>\n",
       "      <th>0</th>\n",
       "      <td>1</td>\n",
       "      <td>21012648</td>\n",
       "      <td>12307</td>\n",
       "      <td>0</td>\n",
       "      <td>0.051148</td>\n",
       "      <td>0.051148</td>\n",
       "    </tr>\n",
       "    <tr>\n",
       "      <th>1</th>\n",
       "      <td>2</td>\n",
       "      <td>16083400</td>\n",
       "      <td>12298</td>\n",
       "      <td>0</td>\n",
       "      <td>0.042033</td>\n",
       "      <td>0.042033</td>\n",
       "    </tr>\n",
       "    <tr>\n",
       "      <th>2</th>\n",
       "      <td>3</td>\n",
       "      <td>19388490</td>\n",
       "      <td>12470</td>\n",
       "      <td>0</td>\n",
       "      <td>0.119920</td>\n",
       "      <td>0.119920</td>\n",
       "    </tr>\n",
       "    <tr>\n",
       "      <th>3</th>\n",
       "      <td>4</td>\n",
       "      <td>23046598</td>\n",
       "      <td>12793</td>\n",
       "      <td>0</td>\n",
       "      <td>0.124286</td>\n",
       "      <td>0.124286</td>\n",
       "    </tr>\n",
       "    <tr>\n",
       "      <th>4</th>\n",
       "      <td>5</td>\n",
       "      <td>15105464</td>\n",
       "      <td>11292</td>\n",
       "      <td>0</td>\n",
       "      <td>0.089153</td>\n",
       "      <td>0.089153</td>\n",
       "    </tr>\n",
       "  </tbody>\n",
       "</table>\n",
       "</div>"
      ],
      "text/plain": [
       "   Unnamed: 0   KEY_NRD  HOSP_NRD  readm30  predicted_score  expected_score\n",
       "0           1  21012648     12307        0         0.051148        0.051148\n",
       "1           2  16083400     12298        0         0.042033        0.042033\n",
       "2           3  19388490     12470        0         0.119920        0.119920\n",
       "3           4  23046598     12793        0         0.124286        0.124286\n",
       "4           5  15105464     11292        0         0.089153        0.089153"
      ]
     },
     "execution_count": 124,
     "metadata": {},
     "output_type": "execute_result"
    }
   ],
   "source": [
    "adjust_df.head()"
   ]
  },
  {
   "cell_type": "code",
   "execution_count": 131,
   "metadata": {},
   "outputs": [],
   "source": [
    "national_rate = adjust_df.readm30.mean()"
   ]
  },
  {
   "cell_type": "code",
   "execution_count": 132,
   "metadata": {},
   "outputs": [],
   "source": [
    "grouped = adjust_df.groupby('HOSP_NRD')\n",
    "\n",
    "adjusted_rate = grouped[['readm30', 'predicted_score', 'expected_score']].mean()\n",
    "\n",
    "adjusted_rate = adjusted_rate.assign(N=grouped.size())\n",
    "\n",
    "adjusted_rate.columns = ['Observed', 'Predicted_ME', 'Expected_ME', 'N']\n",
    "\n",
    "adjusted_rate = adjusted_rate.assign(Adjusted_ME=adjusted_rate.Predicted_ME/adjusted_rate.Expected_ME*national_rate)"
   ]
  },
  {
   "cell_type": "code",
   "execution_count": 64,
   "metadata": {},
   "outputs": [],
   "source": [
    "adjusted_rate = adjusted_rate.sort_values(by='N', ascending=False)"
   ]
  },
  {
   "cell_type": "code",
   "execution_count": 126,
   "metadata": {},
   "outputs": [
    {
     "data": {
      "text/plain": [
       "0.12522119288019154"
      ]
     },
     "execution_count": 126,
     "metadata": {},
     "output_type": "execute_result"
    }
   ],
   "source": [
    "national_rate"
   ]
  },
  {
   "cell_type": "code",
   "execution_count": 12,
   "metadata": {},
   "outputs": [],
   "source": [
    "recycle_ME = pd.read_csv(path+'cohorts/{}/recycled_ME.csv'.format(cohort))"
   ]
  },
  {
   "cell_type": "code",
   "execution_count": 14,
   "metadata": {},
   "outputs": [],
   "source": [
    "adjusted_rate = pd.merge(adjusted_rate, recycle_ME, on='HOSP_NRD')"
   ]
  },
  {
   "cell_type": "code",
   "execution_count": 133,
   "metadata": {},
   "outputs": [
    {
     "data": {
      "text/html": [
       "<div>\n",
       "<style scoped>\n",
       "    .dataframe tbody tr th:only-of-type {\n",
       "        vertical-align: middle;\n",
       "    }\n",
       "\n",
       "    .dataframe tbody tr th {\n",
       "        vertical-align: top;\n",
       "    }\n",
       "\n",
       "    .dataframe thead th {\n",
       "        text-align: right;\n",
       "    }\n",
       "</style>\n",
       "<table border=\"1\" class=\"dataframe\">\n",
       "  <thead>\n",
       "    <tr style=\"text-align: right;\">\n",
       "      <th></th>\n",
       "      <th>Observed</th>\n",
       "      <th>Predicted_ME</th>\n",
       "      <th>Expected_ME</th>\n",
       "      <th>N</th>\n",
       "      <th>Adjusted_ME</th>\n",
       "    </tr>\n",
       "    <tr>\n",
       "      <th>HOSP_NRD</th>\n",
       "      <th></th>\n",
       "      <th></th>\n",
       "      <th></th>\n",
       "      <th></th>\n",
       "      <th></th>\n",
       "    </tr>\n",
       "  </thead>\n",
       "  <tbody>\n",
       "    <tr>\n",
       "      <th>11006</th>\n",
       "      <td>0.117647</td>\n",
       "      <td>0.102501</td>\n",
       "      <td>0.114676</td>\n",
       "      <td>17</td>\n",
       "      <td>0.111927</td>\n",
       "    </tr>\n",
       "    <tr>\n",
       "      <th>11010</th>\n",
       "      <td>0.071429</td>\n",
       "      <td>0.097250</td>\n",
       "      <td>0.109738</td>\n",
       "      <td>42</td>\n",
       "      <td>0.110971</td>\n",
       "    </tr>\n",
       "    <tr>\n",
       "      <th>11011</th>\n",
       "      <td>0.142857</td>\n",
       "      <td>0.187105</td>\n",
       "      <td>0.216036</td>\n",
       "      <td>7</td>\n",
       "      <td>0.108452</td>\n",
       "    </tr>\n",
       "    <tr>\n",
       "      <th>11013</th>\n",
       "      <td>0.177778</td>\n",
       "      <td>0.187278</td>\n",
       "      <td>0.144142</td>\n",
       "      <td>45</td>\n",
       "      <td>0.162695</td>\n",
       "    </tr>\n",
       "    <tr>\n",
       "      <th>11014</th>\n",
       "      <td>0.065574</td>\n",
       "      <td>0.113944</td>\n",
       "      <td>0.123901</td>\n",
       "      <td>61</td>\n",
       "      <td>0.115157</td>\n",
       "    </tr>\n",
       "    <tr>\n",
       "      <th>11021</th>\n",
       "      <td>0.088235</td>\n",
       "      <td>0.073811</td>\n",
       "      <td>0.099660</td>\n",
       "      <td>34</td>\n",
       "      <td>0.092742</td>\n",
       "    </tr>\n",
       "    <tr>\n",
       "      <th>11022</th>\n",
       "      <td>0.085714</td>\n",
       "      <td>0.104423</td>\n",
       "      <td>0.105806</td>\n",
       "      <td>35</td>\n",
       "      <td>0.123585</td>\n",
       "    </tr>\n",
       "    <tr>\n",
       "      <th>11024</th>\n",
       "      <td>0.250000</td>\n",
       "      <td>0.297538</td>\n",
       "      <td>0.290223</td>\n",
       "      <td>4</td>\n",
       "      <td>0.128377</td>\n",
       "    </tr>\n",
       "    <tr>\n",
       "      <th>11029</th>\n",
       "      <td>0.086957</td>\n",
       "      <td>0.155237</td>\n",
       "      <td>0.145367</td>\n",
       "      <td>23</td>\n",
       "      <td>0.133723</td>\n",
       "    </tr>\n",
       "    <tr>\n",
       "      <th>11032</th>\n",
       "      <td>0.111111</td>\n",
       "      <td>0.119960</td>\n",
       "      <td>0.118905</td>\n",
       "      <td>27</td>\n",
       "      <td>0.126332</td>\n",
       "    </tr>\n",
       "  </tbody>\n",
       "</table>\n",
       "</div>"
      ],
      "text/plain": [
       "          Observed  Predicted_ME  Expected_ME   N  Adjusted_ME\n",
       "HOSP_NRD                                                      \n",
       "11006     0.117647      0.102501     0.114676  17     0.111927\n",
       "11010     0.071429      0.097250     0.109738  42     0.110971\n",
       "11011     0.142857      0.187105     0.216036   7     0.108452\n",
       "11013     0.177778      0.187278     0.144142  45     0.162695\n",
       "11014     0.065574      0.113944     0.123901  61     0.115157\n",
       "11021     0.088235      0.073811     0.099660  34     0.092742\n",
       "11022     0.085714      0.104423     0.105806  35     0.123585\n",
       "11024     0.250000      0.297538     0.290223   4     0.128377\n",
       "11029     0.086957      0.155237     0.145367  23     0.133723\n",
       "11032     0.111111      0.119960     0.118905  27     0.126332"
      ]
     },
     "execution_count": 133,
     "metadata": {},
     "output_type": "execute_result"
    }
   ],
   "source": [
    "adjusted_rate.head(10)"
   ]
  },
  {
   "cell_type": "code",
   "execution_count": 134,
   "metadata": {},
   "outputs": [],
   "source": [
    "adjusted_rate = adjusted_rate.reset_index()"
   ]
  },
  {
   "cell_type": "code",
   "execution_count": 85,
   "metadata": {},
   "outputs": [],
   "source": [
    "intercept = pd.read_csv(path+'cohorts/{}/intercepts0.csv'.format(cohort))"
   ]
  },
  {
   "cell_type": "code",
   "execution_count": 87,
   "metadata": {},
   "outputs": [],
   "source": [
    "intercept.columns = ['HOSP_NRD', 'intercept', 'AGE']"
   ]
  },
  {
   "cell_type": "code",
   "execution_count": 122,
   "metadata": {},
   "outputs": [],
   "source": [
    "adjusted_rate0 = adjusted_rate.copy()"
   ]
  },
  {
   "cell_type": "code",
   "execution_count": 155,
   "metadata": {},
   "outputs": [],
   "source": [
    "compare = pd.merge(adjusted_rate[['HOSP_NRD', 'Adjusted_ME']], intercept[['HOSP_NRD', 'intercept']], on='HOSP_NRD')"
   ]
  },
  {
   "cell_type": "code",
   "execution_count": 135,
   "metadata": {},
   "outputs": [],
   "source": [
    "compare = pd.merge(adjusted_rate0[['HOSP_NRD', 'Adjusted_ME', 'N']], adjusted_rate[['HOSP_NRD', 'Adjusted_ME']], on='HOSP_NRD', \n",
    "                   suffixes=('_index', '_tst'))"
   ]
  },
  {
   "cell_type": "code",
   "execution_count": 136,
   "metadata": {},
   "outputs": [
    {
     "data": {
      "text/html": [
       "<div>\n",
       "<style scoped>\n",
       "    .dataframe tbody tr th:only-of-type {\n",
       "        vertical-align: middle;\n",
       "    }\n",
       "\n",
       "    .dataframe tbody tr th {\n",
       "        vertical-align: top;\n",
       "    }\n",
       "\n",
       "    .dataframe thead th {\n",
       "        text-align: right;\n",
       "    }\n",
       "</style>\n",
       "<table border=\"1\" class=\"dataframe\">\n",
       "  <thead>\n",
       "    <tr style=\"text-align: right;\">\n",
       "      <th></th>\n",
       "      <th>HOSP_NRD</th>\n",
       "      <th>Adjusted_ME_index</th>\n",
       "      <th>N</th>\n",
       "      <th>Adjusted_ME_tst</th>\n",
       "    </tr>\n",
       "  </thead>\n",
       "  <tbody>\n",
       "    <tr>\n",
       "      <th>0</th>\n",
       "      <td>11006</td>\n",
       "      <td>0.113181</td>\n",
       "      <td>177</td>\n",
       "      <td>0.111927</td>\n",
       "    </tr>\n",
       "    <tr>\n",
       "      <th>1</th>\n",
       "      <td>11010</td>\n",
       "      <td>0.112333</td>\n",
       "      <td>416</td>\n",
       "      <td>0.110971</td>\n",
       "    </tr>\n",
       "    <tr>\n",
       "      <th>2</th>\n",
       "      <td>11011</td>\n",
       "      <td>0.109424</td>\n",
       "      <td>71</td>\n",
       "      <td>0.108452</td>\n",
       "    </tr>\n",
       "    <tr>\n",
       "      <th>3</th>\n",
       "      <td>11013</td>\n",
       "      <td>0.164535</td>\n",
       "      <td>459</td>\n",
       "      <td>0.162695</td>\n",
       "    </tr>\n",
       "    <tr>\n",
       "      <th>4</th>\n",
       "      <td>11014</td>\n",
       "      <td>0.116193</td>\n",
       "      <td>617</td>\n",
       "      <td>0.115157</td>\n",
       "    </tr>\n",
       "  </tbody>\n",
       "</table>\n",
       "</div>"
      ],
      "text/plain": [
       "   HOSP_NRD  Adjusted_ME_index    N  Adjusted_ME_tst\n",
       "0     11006           0.113181  177         0.111927\n",
       "1     11010           0.112333  416         0.110971\n",
       "2     11011           0.109424   71         0.108452\n",
       "3     11013           0.164535  459         0.162695\n",
       "4     11014           0.116193  617         0.115157"
      ]
     },
     "execution_count": 136,
     "metadata": {},
     "output_type": "execute_result"
    }
   ],
   "source": [
    "compare.head()"
   ]
  },
  {
   "cell_type": "code",
   "execution_count": 137,
   "metadata": {},
   "outputs": [
    {
     "data": {
      "text/plain": [
       "<matplotlib.axes._subplots.AxesSubplot at 0x2b857d033400>"
      ]
     },
     "execution_count": 137,
     "metadata": {},
     "output_type": "execute_result"
    },
    {
     "data": {
      "image/png": "[encoded data removed]",
      "text/plain": [
       "<Figure size 432x288 with 1 Axes>"
      ]
     },
     "metadata": {},
     "output_type": "display_data"
    }
   ],
   "source": [
    "compare.plot.scatter('Adjusted_ME_index', 'Adjusted_ME_tst')"
   ]
  },
  {
   "cell_type": "code",
   "execution_count": 79,
   "metadata": {},
   "outputs": [
    {
     "data": {
      "text/plain": [
       "<matplotlib.axes._subplots.AxesSubplot at 0x2b8555e92eb8>"
      ]
     },
     "execution_count": 79,
     "metadata": {},
     "output_type": "execute_result"
    },
    {
     "data": {
      "image/png": "[encoded data removed]",
      "text/plain": [
       "<Figure size 432x288 with 1 Axes>"
      ]
     },
     "metadata": {},
     "output_type": "display_data"
    }
   ],
   "source": [
    "compare.loc[compare.N>500].plot.scatter('Adjusted_ME0', 'Adjusted_ME1')"
   ]
  },
  {
   "cell_type": "code",
   "execution_count": 92,
   "metadata": {},
   "outputs": [],
   "source": [
    "compare = compare.sort_values('intercept')\n",
    "compare = compare.assign(intercept_rank = range(len(compare)))"
   ]
  },
  {
   "cell_type": "code",
   "execution_count": 109,
   "metadata": {},
   "outputs": [],
   "source": [
    "compare = compare.assign(Division_y = 'middle60')\n",
    "compare.loc[compare.Rank_y<int(len(compare)*0.2), 'Division_y'] = 'top20'\n",
    "compare.loc[compare.Rank_y>int(len(compare)*0.8), 'Division_y'] = 'bottom20'"
   ]
  },
  {
   "cell_type": "code",
   "execution_count": 149,
   "metadata": {},
   "outputs": [],
   "source": [
    "recycle_ME_index = pd.read_csv(path+'cohorts/{}/recycled_ME.csv'.format(cohort))"
   ]
  },
  {
   "cell_type": "code",
   "execution_count": 150,
   "metadata": {},
   "outputs": [],
   "source": [
    "recycle_ME_tst = pd.read_csv(path+'cohorts/{}/recycled_ME_tst0.csv'.format(cohort))"
   ]
  },
  {
   "cell_type": "code",
   "execution_count": 152,
   "metadata": {},
   "outputs": [],
   "source": [
    "compare = pd.merge(recycle_ME_index, recycle_ME_tst, on='HOSP_NRD')"
   ]
  },
  {
   "cell_type": "code",
   "execution_count": 156,
   "metadata": {},
   "outputs": [
    {
     "data": {
      "text/plain": [
       "<matplotlib.axes._subplots.AxesSubplot at 0x2b857d1b29b0>"
      ]
     },
     "execution_count": 156,
     "metadata": {},
     "output_type": "execute_result"
    },
    {
     "data": {
      "image/png": "[encoded data removed]",
      "text/plain": [
       "<Figure size 432x288 with 1 Axes>"
      ]
     },
     "metadata": {},
     "output_type": "display_data"
    }
   ],
   "source": [
    "compare.plot.scatter('Adjusted_ME', 'intercept')"
   ]
  },
  {
   "cell_type": "code",
   "execution_count": 154,
   "metadata": {},
   "outputs": [
    {
     "data": {
      "text/plain": [
       "<matplotlib.axes._subplots.AxesSubplot at 0x2b857d157668>"
      ]
     },
     "execution_count": 154,
     "metadata": {},
     "output_type": "execute_result"
    },
    {
     "data": {
      "image/png": "[encoded data removed]",
      "text/plain": [
       "<Figure size 432x288 with 1 Axes>"
      ]
     },
     "metadata": {},
     "output_type": "display_data"
    }
   ],
   "source": [
    "compare.plot.scatter('Recycled_ME_x', 'Recycled_ME_y')"
   ]
  },
  {
   "cell_type": "code",
   "execution_count": 110,
   "metadata": {},
   "outputs": [
    {
     "data": {
      "text/plain": [
       "<matplotlib.axes._subplots.AxesSubplot at 0x2aea31d64128>"
      ]
     },
     "execution_count": 110,
     "metadata": {},
     "output_type": "execute_result"
    },
    {
     "data": {
      "image/png": "[encoded data removed]",
      "text/plain": [
       "<Figure size 432x288 with 1 Axes>"
      ]
     },
     "metadata": {},
     "output_type": "display_data"
    }
   ],
   "source": [
    "compare.plot.scatter('Rank_x', 'Rank_y')"
   ]
  },
  {
   "cell_type": "code",
   "execution_count": 111,
   "metadata": {},
   "outputs": [
    {
     "data": {
      "text/html": [
       "<div>\n",
       "<style scoped>\n",
       "    .dataframe tbody tr th:only-of-type {\n",
       "        vertical-align: middle;\n",
       "    }\n",
       "\n",
       "    .dataframe tbody tr th {\n",
       "        vertical-align: top;\n",
       "    }\n",
       "\n",
       "    .dataframe thead th {\n",
       "        text-align: right;\n",
       "    }\n",
       "</style>\n",
       "<table border=\"1\" class=\"dataframe\">\n",
       "  <thead>\n",
       "    <tr style=\"text-align: right;\">\n",
       "      <th>Division_y</th>\n",
       "      <th>bottom20</th>\n",
       "      <th>middle60</th>\n",
       "      <th>top20</th>\n",
       "      <th>All</th>\n",
       "    </tr>\n",
       "    <tr>\n",
       "      <th>Division_x</th>\n",
       "      <th></th>\n",
       "      <th></th>\n",
       "      <th></th>\n",
       "      <th></th>\n",
       "    </tr>\n",
       "  </thead>\n",
       "  <tbody>\n",
       "    <tr>\n",
       "      <th>bottom20</th>\n",
       "      <td>172</td>\n",
       "      <td>49</td>\n",
       "      <td>0</td>\n",
       "      <td>221</td>\n",
       "    </tr>\n",
       "    <tr>\n",
       "      <th>middle60</th>\n",
       "      <td>49</td>\n",
       "      <td>577</td>\n",
       "      <td>39</td>\n",
       "      <td>665</td>\n",
       "    </tr>\n",
       "    <tr>\n",
       "      <th>top20</th>\n",
       "      <td>0</td>\n",
       "      <td>39</td>\n",
       "      <td>182</td>\n",
       "      <td>221</td>\n",
       "    </tr>\n",
       "    <tr>\n",
       "      <th>All</th>\n",
       "      <td>221</td>\n",
       "      <td>665</td>\n",
       "      <td>221</td>\n",
       "      <td>1107</td>\n",
       "    </tr>\n",
       "  </tbody>\n",
       "</table>\n",
       "</div>"
      ],
      "text/plain": [
       "Division_y  bottom20  middle60  top20   All\n",
       "Division_x                                 \n",
       "bottom20         172        49      0   221\n",
       "middle60          49       577     39   665\n",
       "top20              0        39    182   221\n",
       "All              221       665    221  1107"
      ]
     },
     "execution_count": 111,
     "metadata": {},
     "output_type": "execute_result"
    }
   ],
   "source": [
    "pd.crosstab(compare.Division_x, compare.Division_y, margins=True)"
   ]
  },
  {
   "cell_type": "code",
   "execution_count": 16,
   "metadata": {},
   "outputs": [
    {
     "data": {
      "text/plain": [
       "<matplotlib.axes._subplots.AxesSubplot at 0x2aea310cc908>"
      ]
     },
     "execution_count": 16,
     "metadata": {},
     "output_type": "execute_result"
    },
    {
     "data": {
      "image/png": "[encoded data removed]",
      "text/plain": [
       "<Figure size 432x288 with 1 Axes>"
      ]
     },
     "metadata": {},
     "output_type": "display_data"
    }
   ],
   "source": [
    "adjusted_rate.plot.scatter('Adjusted_ME', 'Recycled_ME')"
   ]
  },
  {
   "cell_type": "code",
   "execution_count": 22,
   "metadata": {},
   "outputs": [
    {
     "data": {
      "text/plain": [
       "<matplotlib.axes._subplots.AxesSubplot at 0x2aea3111c1d0>"
      ]
     },
     "execution_count": 22,
     "metadata": {},
     "output_type": "execute_result"
    },
    {
     "data": {
      "image/png": "[encoded data removed]",
      "text/plain": [
       "<Figure size 432x288 with 1 Axes>"
      ]
     },
     "metadata": {},
     "output_type": "display_data"
    }
   ],
   "source": [
    "adjusted_rate.plot.scatter('Rank_ME', 'Rank_recycle_ME')"
   ]
  },
  {
   "cell_type": "code",
   "execution_count": 23,
   "metadata": {},
   "outputs": [
    {
     "data": {
      "text/html": [
       "<div>\n",
       "<style scoped>\n",
       "    .dataframe tbody tr th:only-of-type {\n",
       "        vertical-align: middle;\n",
       "    }\n",
       "\n",
       "    .dataframe tbody tr th {\n",
       "        vertical-align: top;\n",
       "    }\n",
       "\n",
       "    .dataframe thead th {\n",
       "        text-align: right;\n",
       "    }\n",
       "</style>\n",
       "<table border=\"1\" class=\"dataframe\">\n",
       "  <thead>\n",
       "    <tr style=\"text-align: right;\">\n",
       "      <th>Division_recycle_ME</th>\n",
       "      <th>bottom20</th>\n",
       "      <th>middle60</th>\n",
       "      <th>top20</th>\n",
       "      <th>All</th>\n",
       "    </tr>\n",
       "    <tr>\n",
       "      <th>Division_ME</th>\n",
       "      <th></th>\n",
       "      <th></th>\n",
       "      <th></th>\n",
       "      <th></th>\n",
       "    </tr>\n",
       "  </thead>\n",
       "  <tbody>\n",
       "    <tr>\n",
       "      <th>bottom20</th>\n",
       "      <td>216</td>\n",
       "      <td>5</td>\n",
       "      <td>0</td>\n",
       "      <td>221</td>\n",
       "    </tr>\n",
       "    <tr>\n",
       "      <th>middle60</th>\n",
       "      <td>5</td>\n",
       "      <td>655</td>\n",
       "      <td>5</td>\n",
       "      <td>665</td>\n",
       "    </tr>\n",
       "    <tr>\n",
       "      <th>top20</th>\n",
       "      <td>0</td>\n",
       "      <td>5</td>\n",
       "      <td>216</td>\n",
       "      <td>221</td>\n",
       "    </tr>\n",
       "    <tr>\n",
       "      <th>All</th>\n",
       "      <td>221</td>\n",
       "      <td>665</td>\n",
       "      <td>221</td>\n",
       "      <td>1107</td>\n",
       "    </tr>\n",
       "  </tbody>\n",
       "</table>\n",
       "</div>"
      ],
      "text/plain": [
       "Division_recycle_ME  bottom20  middle60  top20   All\n",
       "Division_ME                                         \n",
       "bottom20                  216         5      0   221\n",
       "middle60                    5       655      5   665\n",
       "top20                       0         5    216   221\n",
       "All                       221       665    221  1107"
      ]
     },
     "execution_count": 23,
     "metadata": {},
     "output_type": "execute_result"
    }
   ],
   "source": [
    "pd.crosstab(adjusted_rate.Division_ME, adjusted_rate.Division_recycle_ME, margins=True)"
   ]
  },
  {
   "cell_type": "markdown",
   "metadata": {},
   "source": [
    "## Risk Adjustment for DL"
   ]
  },
  {
   "cell_type": "code",
   "execution_count": 5,
   "metadata": {},
   "outputs": [],
   "source": [
    "cohort='ami'\n",
    "tst_seed=0"
   ]
  },
  {
   "cell_type": "code",
   "execution_count": 6,
   "metadata": {},
   "outputs": [],
   "source": [
    "index_df = pd.read_csv(path+'cohorts/{}/index_comorb.csv'.format(cohort), dtype=core_dtypes_pd)"
   ]
  },
  {
   "cell_type": "code",
   "execution_count": 70,
   "metadata": {},
   "outputs": [
    {
     "data": {
      "text/plain": [
       "(191509, 183)"
      ]
     },
     "execution_count": 70,
     "metadata": {},
     "output_type": "execute_result"
    }
   ],
   "source": [
    "index_df.shape"
   ]
  },
  {
   "cell_type": "code",
   "execution_count": 7,
   "metadata": {},
   "outputs": [],
   "source": [
    "n_DX = 29\n",
    "n_PR = 15\n",
    "DXs = ['DX'+str(n) for n in range(2, n_DX+2)]\n",
    "PRs = ['PR'+str(n) for n in range(1, n_PR+1)]"
   ]
  },
  {
   "cell_type": "markdown",
   "metadata": {},
   "source": [
    "### Data formating"
   ]
  },
  {
   "cell_type": "code",
   "execution_count": 95,
   "metadata": {},
   "outputs": [],
   "source": [
    "DX_cat = ['missing'] + sorted(dx_multi.ICD9CM_CODE)\n",
    "PR_cat = ['missing'] + sorted(pr_multi.ICD9CM_CODE)\n",
    "n_DX_cat = len(DX_cat)\n",
    "n_PR_cat = len(PR_cat)\n",
    "unclassified = set(dx_multi.loc[dx_multi.CCS_LVL1 == '18', 'ICD9CM_CODE'])\n",
    "dx_ccs_cat = pd.concat([dx_multi.CCS_LVL1, dx_multi.CCS_LVL2, dx_multi.CCS_LVL3, dx_multi.CCS_LVL4]).astype('category').cat.categories\n",
    "pr_ccs_cat = pd.concat([pr_multi.CCS_LVL1, pr_multi.CCS_LVL2, pr_multi.CCS_LVL3]).astype('category').cat.categories\n",
    "\n",
    "DX1_dict = dict(zip(DX_cat, range(len(DX_cat))))\n",
    "DX_dict = dict(zip(DX_cat, [0] + list(range(len(DX_cat), len(DX_cat)*2))))\n",
    "PR_dict = dict(zip(PR_cat, [0] + list(range(len(DX_cat)*2-1, len(DX_cat)*2+len(PR_cat)-1))))\n",
    "code_cat = ['missing']+sorted(dx_multi.ICD9CM_CODE)*2+sorted(pr_multi.ICD9CM_CODE)+sorted(dx_ccs_cat)[1:]*2+sorted(pr_ccs_cat)[1:]\n",
    "n_code_cat = len(code_cat)    \n",
    "dx1_ccs_dict = dict(zip(dx_ccs_cat[1:], range(1+len(dx_multi)*2+len(pr_multi), len(dx_multi)*2+len(pr_multi)+len(dx_ccs_cat))))\n",
    "dx_ccs_dict = dict(zip(dx_ccs_cat[1:], range(1+len(dx_multi)*2+len(pr_multi)+len(dx_ccs_cat[1:]), \n",
    "                                             1+len(dx_multi)*2+len(pr_multi)+len(dx_ccs_cat[1:])*2)))\n",
    "pr_ccs_dict = dict(zip(pr_ccs_cat[1:], range(1+len(dx_multi)*2+len(pr_multi)+len(dx_ccs_cat[1:])*2, n_code_cat)))"
   ]
  },
  {
   "cell_type": "code",
   "execution_count": 8,
   "metadata": {},
   "outputs": [],
   "source": [
    "all_df = pd.read_csv(path+'cohorts/{}/{}_pred.csv'.format(cohort, cohort), dtype=core_dtypes_pd)"
   ]
  },
  {
   "cell_type": "code",
   "execution_count": 9,
   "metadata": {},
   "outputs": [],
   "source": [
    "hosp_freq = all_df.HOSP_NRD.value_counts()"
   ]
  },
  {
   "cell_type": "code",
   "execution_count": 12,
   "metadata": {},
   "outputs": [
    {
     "data": {
      "text/plain": [
       "(1107, 868)"
      ]
     },
     "execution_count": 12,
     "metadata": {},
     "output_type": "execute_result"
    }
   ],
   "source": [
    "len(hosp_freq), sum(hosp_freq>30)"
   ]
  },
  {
   "cell_type": "code",
   "execution_count": 97,
   "metadata": {},
   "outputs": [],
   "source": [
    "hosp_series = all_df['HOSP_NRD'].astype('category')\n",
    "hosp_cat = hosp_series.cat.categories\n",
    "hosp_dict = dict(zip(hosp_cat, range(len(hosp_cat))))"
   ]
  },
  {
   "cell_type": "code",
   "execution_count": 98,
   "metadata": {},
   "outputs": [],
   "source": [
    "tst_key = pd.read_csv(path+'cohorts/{}/tst_key{}.csv'.format(cohort, tst_seed), names = ['KEY_NRD'])\n",
    "tst_df = all_df.loc[all_df.KEY_NRD.isin(tst_key.KEY_NRD)]\n",
    "train_df0 = all_df.loc[~all_df.KEY_NRD.isin(tst_key.KEY_NRD)].reset_index()\n",
    "\n",
    "age_mean = train_df0['AGE'].mean()\n",
    "age_std = train_df0['AGE'].std()\n",
    "los_mean = train_df0['LOS'].mean()\n",
    "los_std = train_df0['LOS'].std()"
   ]
  },
  {
   "cell_type": "code",
   "execution_count": 99,
   "metadata": {},
   "outputs": [],
   "source": [
    "DX1_array = index_df.DX1.map(DX1_dict).values\n",
    "DX_df = index_df[DXs]\n",
    "DX_df = DX_df.fillna('missing')\n",
    "DX_df[DX_df.isin(['invl', 'incn'])] = 'missing'\n",
    "DX_df[DX_df.isin(unclassified)] = 'missing'\n",
    "for dx in DXs:\n",
    "    DX_df[dx] = DX_df[dx].map(DX_dict)\n",
    "DX_mat = DX_df.values\n",
    "PR_df = index_df[PRs]\n",
    "PR_df = PR_df.fillna('missing')\n",
    "PR_df[PR_df.isin(['invl', 'incn'])] = 'missing'\n",
    "for pr in PRs:\n",
    "    PR_df[pr] = PR_df[pr].map(PR_dict)\n",
    "PR_mat = PR_df.values\n",
    "demo_mat = index_df[['AGE', 'FEMALE']].values\n",
    "demo_mat[:, 0] = (demo_mat[:, 0]-age_mean)/age_std\n",
    "hosp_array = index_df['HOSP_NRD'].map(hosp_dict).values\n",
    "pay1_mat = to_categorical(index_df.PAY1.values)[:, 1:]\n",
    "los_array = (index_df.LOS.values - los_mean)/los_std\n",
    "ed_mat = to_categorical(index_df.HCUP_ED.values)\n",
    "zipinc_mat = to_categorical(index_df.ZIPINC_QRTL.values)[:, 1:]\n",
    "transfer_mat = to_categorical(index_df.SAMEDAYEVENT.values)\n",
    "other_mat = np.concatenate((demo_mat, pay1_mat, los_array.reshape(los_array.shape+(1,)), \n",
    "                                ed_mat, zipinc_mat, transfer_mat), axis=1)"
   ]
  },
  {
   "cell_type": "markdown",
   "metadata": {},
   "source": [
    "### Model Building"
   ]
  },
  {
   "cell_type": "code",
   "execution_count": 100,
   "metadata": {},
   "outputs": [],
   "source": [
    "from setsum_layer import SetSum, MaskedSum, MaskedDense, MaskedPooling"
   ]
  },
  {
   "cell_type": "code",
   "execution_count": 101,
   "metadata": {},
   "outputs": [],
   "source": [
    "code_embed_dim = 200\n",
    "md_width = 128\n",
    "fc_width = 512\n",
    "hosp_embed_dim = 1\n",
    "dropout = 0.3\n",
    "batchsize = 512"
   ]
  },
  {
   "cell_type": "code",
   "execution_count": 103,
   "metadata": {},
   "outputs": [],
   "source": [
    "input_DX1 = Input(shape=(1,))\n",
    "DX1_embed = Embedding(input_dim=n_code_cat, output_dim=code_embed_dim, name='DX1_embed')(input_DX1)\n",
    "DX1_embed = Reshape((code_embed_dim,))(DX1_embed)\n",
    "input_DX = Input(shape = (n_DX,))\n",
    "DX_embed = Embedding(input_dim=n_code_cat, output_dim=code_embed_dim, mask_zero=True, name='DX_embed')(input_DX)\n",
    "DX_embed = MaskedDense(md_width, activation='relu')(DX_embed)\n",
    "DX_embed = MaskedSum()(DX_embed)\n",
    "input_PR = Input(shape = (n_PR,))\n",
    "PR_embed = Embedding(input_dim=n_code_cat, output_dim=code_embed_dim, mask_zero=True, name='PR_embed')(input_PR)\n",
    "PR_embed = MaskedDense(md_width, activation='relu')(PR_embed)\n",
    "PR_embed = MaskedSum()(PR_embed)\n",
    "input_hosp = Input(shape=(1,))\n",
    "hosp_embed = Embedding(input_dim=len(hosp_cat), output_dim=hosp_embed_dim, input_length=1, name='hosp_embed')(input_hosp)\n",
    "hosp_embed = Reshape((hosp_embed_dim, ))(hosp_embed)\n",
    "input_other = Input(shape=(other_mat.shape[1], ))\n",
    "merged = Concatenate(axis=1)([DX1_embed, DX_embed, PR_embed, hosp_embed, input_other])\n",
    "x = Dense(fc_width, activation='relu')(merged)\n",
    "x = Dropout(dropout)(x)\n",
    "prediction = Dense(2, activation='softmax')(x)\n",
    "model = Model(inputs=[input_DX1, input_DX, input_PR, input_hosp, input_other], outputs=prediction)"
   ]
  },
  {
   "cell_type": "code",
   "execution_count": 104,
   "metadata": {},
   "outputs": [],
   "source": [
    "model.load_weights(model_path+'best_{}{}.h5'.format(cohort, tst_seed))"
   ]
  },
  {
   "cell_type": "code",
   "execution_count": 105,
   "metadata": {},
   "outputs": [
    {
     "name": "stdout",
     "output_type": "stream",
     "text": [
      "191509/191509 [==============================] - 10s 51us/step\n"
     ]
    }
   ],
   "source": [
    "y = model.predict([DX1_array, DX_mat, PR_mat, hosp_array, other_mat], verbose=1)\n",
    "\n",
    "y_pred = y[:, 1]"
   ]
  },
  {
   "cell_type": "code",
   "execution_count": 109,
   "metadata": {},
   "outputs": [],
   "source": [
    "national_pred = y_pred.mean()"
   ]
  },
  {
   "cell_type": "code",
   "execution_count": 106,
   "metadata": {},
   "outputs": [],
   "source": [
    "y_true = adjust_df.readm30.values"
   ]
  },
  {
   "cell_type": "code",
   "execution_count": 107,
   "metadata": {
    "scrolled": false
   },
   "outputs": [
    {
     "data": {
      "text/plain": [
       "{0: 0.732404492704879}"
      ]
     },
     "execution_count": 107,
     "metadata": {},
     "output_type": "execute_result"
    },
    {
     "data": {
      "image/png": "[encoded data removed]",
      "text/plain": [
       "<Figure size 432x288 with 1 Axes>"
      ]
     },
     "metadata": {},
     "output_type": "display_data"
    }
   ],
   "source": [
    "plot_roc(y_pred, y_true)"
   ]
  },
  {
   "cell_type": "code",
   "execution_count": 112,
   "metadata": {},
   "outputs": [],
   "source": [
    "hosp_embed_layer = [l for l in model.layers if l.name=='hosp_embed'][0]\n",
    "\n",
    "hosp_embed_mat = hosp_embed_layer.get_weights()[0]\n",
    "\n",
    "hosp_embed_array = hosp_embed_mat[:, 0]"
   ]
  },
  {
   "cell_type": "code",
   "execution_count": 63,
   "metadata": {},
   "outputs": [],
   "source": [
    "adjust_df = adjust_df.assign(predicted_score_dl=y_pred)"
   ]
  },
  {
   "cell_type": "code",
   "execution_count": 24,
   "metadata": {},
   "outputs": [],
   "source": [
    "grouped = adjust_df.groupby('HOSP_NRD')"
   ]
  },
  {
   "cell_type": "code",
   "execution_count": 25,
   "metadata": {},
   "outputs": [],
   "source": [
    "adjusted_rate = grouped[['readm30', 'predicted_score', 'expected_score', 'predicted_score_dl']].mean()"
   ]
  },
  {
   "cell_type": "code",
   "execution_count": 78,
   "metadata": {},
   "outputs": [],
   "source": [
    "adjusted_rate = adjusted_rate.assign(N=grouped.size())"
   ]
  },
  {
   "cell_type": "code",
   "execution_count": 27,
   "metadata": {},
   "outputs": [],
   "source": [
    "adjusted_rate = adjusted_rate.sort_values(by='N', ascending=False)"
   ]
  },
  {
   "cell_type": "code",
   "execution_count": 30,
   "metadata": {},
   "outputs": [
    {
     "data": {
      "text/plain": [
       "(0.11953476071357727, 0.12666245450605454, 0.12489865147974813)"
      ]
     },
     "execution_count": 30,
     "metadata": {},
     "output_type": "execute_result"
    }
   ],
   "source": [
    "adjust_df.predicted_score_dl.mean(), adjust_df.readm30.mean(), adjust_df.predicted_score.mean()"
   ]
  },
  {
   "cell_type": "code",
   "execution_count": 68,
   "metadata": {},
   "outputs": [],
   "source": [
    "national_observed = adjust_df.readm30.mean()"
   ]
  },
  {
   "cell_type": "code",
   "execution_count": 36,
   "metadata": {},
   "outputs": [],
   "source": [
    "adjusted_rate.columns = ['Observed', 'Predicted_ME', 'Expected_ME', 'Predicted_DL', 'N']"
   ]
  },
  {
   "cell_type": "code",
   "execution_count": 100,
   "metadata": {},
   "outputs": [],
   "source": [
    "adjusted_rate.columns = ['Observed', 'Predicted_ME', 'Expected_ME', 'N']"
   ]
  },
  {
   "cell_type": "code",
   "execution_count": 101,
   "metadata": {},
   "outputs": [],
   "source": [
    "adjusted_rate = adjusted_rate.assign(Adjusted_ME=adjusted_rate.Predicted_ME/adjusted_rate.Expected_ME*national_observed)"
   ]
  },
  {
   "cell_type": "code",
   "execution_count": 69,
   "metadata": {},
   "outputs": [],
   "source": [
    "hosp_lst = adjusted_rate.HOSP_NRD.values"
   ]
  },
  {
   "cell_type": "code",
   "execution_count": 70,
   "metadata": {},
   "outputs": [
    {
     "data": {
      "text/plain": [
       "array([12245, 13794, 13108, 11296, 11449, 12888, 11569, 11386, 12616,\n",
       "       12419])"
      ]
     },
     "execution_count": 70,
     "metadata": {},
     "output_type": "execute_result"
    }
   ],
   "source": [
    "hosp_lst[:10]"
   ]
  },
  {
   "cell_type": "code",
   "execution_count": 71,
   "metadata": {},
   "outputs": [
    {
     "name": "stdout",
     "output_type": "stream",
     "text": [
      "0\n",
      "1\n",
      "2\n",
      "3\n",
      "4\n"
     ]
    }
   ],
   "source": [
    "recycle_pred = []\n",
    "for i, hosp in enumerate(hosp_lst[:5]):\n",
    "    hosp_array = np.repeat(hosp_dict[hosp], len(index_df))\n",
    "    y = model.predict([DX1_array, DX_mat, PR_mat, hosp_array, other_mat], verbose=0)\n",
    "    y_pred = y[:, 1]\n",
    "    recycle_pred.append(y_pred.mean())\n",
    "    print(i)"
   ]
  },
  {
   "cell_type": "code",
   "execution_count": 72,
   "metadata": {},
   "outputs": [
    {
     "data": {
      "text/plain": [
       "[0.12781878, 0.119579345, 0.12239194, 0.11557904, 0.11595199]"
      ]
     },
     "execution_count": 72,
     "metadata": {},
     "output_type": "execute_result"
    }
   ],
   "source": [
    "recycle_pred"
   ]
  },
  {
   "cell_type": "code",
   "execution_count": 47,
   "metadata": {},
   "outputs": [
    {
     "data": {
      "text/plain": [
       "1107"
      ]
     },
     "execution_count": 47,
     "metadata": {},
     "output_type": "execute_result"
    }
   ],
   "source": [
    "len(recycle_pred)"
   ]
  },
  {
   "cell_type": "code",
   "execution_count": 48,
   "metadata": {},
   "outputs": [],
   "source": [
    "adjusted_rate = adjusted_rate.assign(Adjusted_DL=recycle_pred)"
   ]
  },
  {
   "cell_type": "code",
   "execution_count": 17,
   "metadata": {},
   "outputs": [],
   "source": [
    "adjusted_rate0 = adjusted_rate.copy()"
   ]
  },
  {
   "cell_type": "code",
   "execution_count": 10,
   "metadata": {},
   "outputs": [],
   "source": [
    "adjusted_rate = adjusted_rate0.loc[adjusted_rate0.N>9]"
   ]
  },
  {
   "cell_type": "code",
   "execution_count": 18,
   "metadata": {},
   "outputs": [],
   "source": [
    "adjusted_rate = adjusted_rate.sort_values('Adjusted_ME')\n",
    "adjusted_rate = adjusted_rate.assign(Rank_ME = range(len(adjusted_rate)))\n",
    "\n",
    "adjusted_rate = adjusted_rate.assign(Division_ME = 'middle60')\n",
    "adjusted_rate.loc[adjusted_rate.Rank_ME<int(len(adjusted_rate)*0.2), 'Division_ME'] = 'top20'\n",
    "adjusted_rate.loc[adjusted_rate.Rank_ME>int(len(adjusted_rate)*0.8), 'Division_ME'] = 'bottom20'"
   ]
  },
  {
   "cell_type": "code",
   "execution_count": 19,
   "metadata": {},
   "outputs": [],
   "source": [
    "adjusted_rate = adjusted_rate.sort_values('Adjusted_DL')\n",
    "adjusted_rate = adjusted_rate.assign(Rank_DL = range(len(adjusted_rate)))\n",
    "\n",
    "adjusted_rate = adjusted_rate.assign(Division_DL = 'middle60')\n",
    "adjusted_rate.loc[adjusted_rate.Rank_DL<int(len(adjusted_rate)*0.2), 'Division_DL'] = 'top20'\n",
    "adjusted_rate.loc[adjusted_rate.Rank_DL>int(len(adjusted_rate)*0.8), 'Division_DL'] = 'bottom20'"
   ]
  },
  {
   "cell_type": "code",
   "execution_count": 20,
   "metadata": {},
   "outputs": [],
   "source": [
    "adjusted_rate = adjusted_rate.sort_values('Recycled_ME')\n",
    "adjusted_rate = adjusted_rate.assign(Rank_recycle_ME = range(len(adjusted_rate)))\n",
    "\n",
    "adjusted_rate = adjusted_rate.assign(Division_recycle_ME = 'middle60')\n",
    "adjusted_rate.loc[adjusted_rate.Rank_recycle_ME<int(len(adjusted_rate)*0.2), 'Division_recycle_ME'] = 'top20'\n",
    "adjusted_rate.loc[adjusted_rate.Rank_recycle_ME>int(len(adjusted_rate)*0.8), 'Division_recycle_ME'] = 'bottom20'"
   ]
  },
  {
   "cell_type": "code",
   "execution_count": 15,
   "metadata": {
    "collapsed": true
   },
   "outputs": [
    {
     "data": {
      "text/html": [
       "<div>\n",
       "<style scoped>\n",
       "    .dataframe tbody tr th:only-of-type {\n",
       "        vertical-align: middle;\n",
       "    }\n",
       "\n",
       "    .dataframe tbody tr th {\n",
       "        vertical-align: top;\n",
       "    }\n",
       "\n",
       "    .dataframe thead th {\n",
       "        text-align: right;\n",
       "    }\n",
       "</style>\n",
       "<table border=\"1\" class=\"dataframe\">\n",
       "  <thead>\n",
       "    <tr style=\"text-align: right;\">\n",
       "      <th></th>\n",
       "      <th>HOSP_NRD</th>\n",
       "      <th>Observed</th>\n",
       "      <th>Predicted_ME</th>\n",
       "      <th>Expected_ME</th>\n",
       "      <th>Predicted_DL</th>\n",
       "      <th>N</th>\n",
       "      <th>Adjusted_ME</th>\n",
       "      <th>Adjusted_DL</th>\n",
       "      <th>Rank_ME</th>\n",
       "      <th>Division_ME</th>\n",
       "      <th>Rank_DL</th>\n",
       "      <th>Division_DL</th>\n",
       "    </tr>\n",
       "  </thead>\n",
       "  <tbody>\n",
       "    <tr>\n",
       "      <th>857</th>\n",
       "      <td>12513</td>\n",
       "      <td>0.000000</td>\n",
       "      <td>0.098073</td>\n",
       "      <td>0.107894</td>\n",
       "      <td>0.072570</td>\n",
       "      <td>34</td>\n",
       "      <td>0.115133</td>\n",
       "      <td>0.100217</td>\n",
       "      <td>164</td>\n",
       "      <td>top20</td>\n",
       "      <td>0</td>\n",
       "      <td>top20</td>\n",
       "    </tr>\n",
       "    <tr>\n",
       "      <th>420</th>\n",
       "      <td>14035</td>\n",
       "      <td>0.045714</td>\n",
       "      <td>0.087958</td>\n",
       "      <td>0.119099</td>\n",
       "      <td>0.084754</td>\n",
       "      <td>175</td>\n",
       "      <td>0.093544</td>\n",
       "      <td>0.101063</td>\n",
       "      <td>2</td>\n",
       "      <td>top20</td>\n",
       "      <td>1</td>\n",
       "      <td>top20</td>\n",
       "    </tr>\n",
       "    <tr>\n",
       "      <th>31</th>\n",
       "      <td>11058</td>\n",
       "      <td>0.061667</td>\n",
       "      <td>0.077574</td>\n",
       "      <td>0.104205</td>\n",
       "      <td>0.086588</td>\n",
       "      <td>600</td>\n",
       "      <td>0.094293</td>\n",
       "      <td>0.102124</td>\n",
       "      <td>5</td>\n",
       "      <td>top20</td>\n",
       "      <td>2</td>\n",
       "      <td>top20</td>\n",
       "    </tr>\n",
       "    <tr>\n",
       "      <th>269</th>\n",
       "      <td>13967</td>\n",
       "      <td>0.060241</td>\n",
       "      <td>0.092157</td>\n",
       "      <td>0.116396</td>\n",
       "      <td>0.090304</td>\n",
       "      <td>249</td>\n",
       "      <td>0.100285</td>\n",
       "      <td>0.103186</td>\n",
       "      <td>14</td>\n",
       "      <td>top20</td>\n",
       "      <td>3</td>\n",
       "      <td>top20</td>\n",
       "    </tr>\n",
       "    <tr>\n",
       "      <th>38</th>\n",
       "      <td>11055</td>\n",
       "      <td>0.095400</td>\n",
       "      <td>0.099371</td>\n",
       "      <td>0.119092</td>\n",
       "      <td>0.104955</td>\n",
       "      <td>587</td>\n",
       "      <td>0.105687</td>\n",
       "      <td>0.103320</td>\n",
       "      <td>38</td>\n",
       "      <td>top20</td>\n",
       "      <td>4</td>\n",
       "      <td>top20</td>\n",
       "    </tr>\n",
       "    <tr>\n",
       "      <th>862</th>\n",
       "      <td>13462</td>\n",
       "      <td>0.060606</td>\n",
       "      <td>0.129126</td>\n",
       "      <td>0.141223</td>\n",
       "      <td>0.117283</td>\n",
       "      <td>33</td>\n",
       "      <td>0.115813</td>\n",
       "      <td>0.103486</td>\n",
       "      <td>183</td>\n",
       "      <td>top20</td>\n",
       "      <td>5</td>\n",
       "      <td>top20</td>\n",
       "    </tr>\n",
       "    <tr>\n",
       "      <th>593</th>\n",
       "      <td>13008</td>\n",
       "      <td>0.071429</td>\n",
       "      <td>0.100246</td>\n",
       "      <td>0.115616</td>\n",
       "      <td>0.094118</td>\n",
       "      <td>112</td>\n",
       "      <td>0.109824</td>\n",
       "      <td>0.103912</td>\n",
       "      <td>78</td>\n",
       "      <td>top20</td>\n",
       "      <td>6</td>\n",
       "      <td>top20</td>\n",
       "    </tr>\n",
       "    <tr>\n",
       "      <th>734</th>\n",
       "      <td>11184</td>\n",
       "      <td>0.046154</td>\n",
       "      <td>0.097535</td>\n",
       "      <td>0.111969</td>\n",
       "      <td>0.080916</td>\n",
       "      <td>65</td>\n",
       "      <td>0.110334</td>\n",
       "      <td>0.103967</td>\n",
       "      <td>85</td>\n",
       "      <td>top20</td>\n",
       "      <td>7</td>\n",
       "      <td>top20</td>\n",
       "    </tr>\n",
       "    <tr>\n",
       "      <th>769</th>\n",
       "      <td>12861</td>\n",
       "      <td>0.054545</td>\n",
       "      <td>0.092059</td>\n",
       "      <td>0.097675</td>\n",
       "      <td>0.067970</td>\n",
       "      <td>55</td>\n",
       "      <td>0.119379</td>\n",
       "      <td>0.104242</td>\n",
       "      <td>262</td>\n",
       "      <td>middle60</td>\n",
       "      <td>8</td>\n",
       "      <td>top20</td>\n",
       "    </tr>\n",
       "    <tr>\n",
       "      <th>428</th>\n",
       "      <td>13906</td>\n",
       "      <td>0.057803</td>\n",
       "      <td>0.078413</td>\n",
       "      <td>0.094241</td>\n",
       "      <td>0.071936</td>\n",
       "      <td>173</td>\n",
       "      <td>0.105389</td>\n",
       "      <td>0.104713</td>\n",
       "      <td>36</td>\n",
       "      <td>top20</td>\n",
       "      <td>9</td>\n",
       "      <td>top20</td>\n",
       "    </tr>\n",
       "    <tr>\n",
       "      <th>929</th>\n",
       "      <td>12476</td>\n",
       "      <td>0.130435</td>\n",
       "      <td>0.171967</td>\n",
       "      <td>0.180348</td>\n",
       "      <td>0.175627</td>\n",
       "      <td>23</td>\n",
       "      <td>0.120776</td>\n",
       "      <td>0.104900</td>\n",
       "      <td>300</td>\n",
       "      <td>middle60</td>\n",
       "      <td>10</td>\n",
       "      <td>top20</td>\n",
       "    </tr>\n",
       "    <tr>\n",
       "      <th>1034</th>\n",
       "      <td>12825</td>\n",
       "      <td>0.071429</td>\n",
       "      <td>0.122081</td>\n",
       "      <td>0.127577</td>\n",
       "      <td>0.124234</td>\n",
       "      <td>14</td>\n",
       "      <td>0.121206</td>\n",
       "      <td>0.105411</td>\n",
       "      <td>321</td>\n",
       "      <td>middle60</td>\n",
       "      <td>11</td>\n",
       "      <td>top20</td>\n",
       "    </tr>\n",
       "    <tr>\n",
       "      <th>318</th>\n",
       "      <td>14000</td>\n",
       "      <td>0.092920</td>\n",
       "      <td>0.113462</td>\n",
       "      <td>0.137289</td>\n",
       "      <td>0.109042</td>\n",
       "      <td>226</td>\n",
       "      <td>0.104680</td>\n",
       "      <td>0.105808</td>\n",
       "      <td>34</td>\n",
       "      <td>top20</td>\n",
       "      <td>12</td>\n",
       "      <td>top20</td>\n",
       "    </tr>\n",
       "    <tr>\n",
       "      <th>731</th>\n",
       "      <td>12585</td>\n",
       "      <td>0.166667</td>\n",
       "      <td>0.146208</td>\n",
       "      <td>0.152568</td>\n",
       "      <td>0.184800</td>\n",
       "      <td>66</td>\n",
       "      <td>0.121383</td>\n",
       "      <td>0.105823</td>\n",
       "      <td>331</td>\n",
       "      <td>middle60</td>\n",
       "      <td>13</td>\n",
       "      <td>top20</td>\n",
       "    </tr>\n",
       "    <tr>\n",
       "      <th>59</th>\n",
       "      <td>11614</td>\n",
       "      <td>0.097416</td>\n",
       "      <td>0.100670</td>\n",
       "      <td>0.129748</td>\n",
       "      <td>0.099806</td>\n",
       "      <td>503</td>\n",
       "      <td>0.098276</td>\n",
       "      <td>0.106040</td>\n",
       "      <td>11</td>\n",
       "      <td>top20</td>\n",
       "      <td>14</td>\n",
       "      <td>top20</td>\n",
       "    </tr>\n",
       "    <tr>\n",
       "      <th>651</th>\n",
       "      <td>12045</td>\n",
       "      <td>0.054348</td>\n",
       "      <td>0.109565</td>\n",
       "      <td>0.128549</td>\n",
       "      <td>0.092858</td>\n",
       "      <td>92</td>\n",
       "      <td>0.107956</td>\n",
       "      <td>0.106317</td>\n",
       "      <td>56</td>\n",
       "      <td>top20</td>\n",
       "      <td>15</td>\n",
       "      <td>top20</td>\n",
       "    </tr>\n",
       "    <tr>\n",
       "      <th>51</th>\n",
       "      <td>12298</td>\n",
       "      <td>0.107607</td>\n",
       "      <td>0.111772</td>\n",
       "      <td>0.133509</td>\n",
       "      <td>0.122403</td>\n",
       "      <td>539</td>\n",
       "      <td>0.106040</td>\n",
       "      <td>0.106321</td>\n",
       "      <td>42</td>\n",
       "      <td>top20</td>\n",
       "      <td>16</td>\n",
       "      <td>top20</td>\n",
       "    </tr>\n",
       "    <tr>\n",
       "      <th>600</th>\n",
       "      <td>13489</td>\n",
       "      <td>0.074074</td>\n",
       "      <td>0.095095</td>\n",
       "      <td>0.113903</td>\n",
       "      <td>0.089599</td>\n",
       "      <td>108</td>\n",
       "      <td>0.105748</td>\n",
       "      <td>0.106431</td>\n",
       "      <td>39</td>\n",
       "      <td>top20</td>\n",
       "      <td>17</td>\n",
       "      <td>top20</td>\n",
       "    </tr>\n",
       "    <tr>\n",
       "      <th>346</th>\n",
       "      <td>13360</td>\n",
       "      <td>0.080952</td>\n",
       "      <td>0.098779</td>\n",
       "      <td>0.124023</td>\n",
       "      <td>0.096193</td>\n",
       "      <td>210</td>\n",
       "      <td>0.100881</td>\n",
       "      <td>0.106556</td>\n",
       "      <td>17</td>\n",
       "      <td>top20</td>\n",
       "      <td>18</td>\n",
       "      <td>top20</td>\n",
       "    </tr>\n",
       "    <tr>\n",
       "      <th>691</th>\n",
       "      <td>13498</td>\n",
       "      <td>0.175676</td>\n",
       "      <td>0.174060</td>\n",
       "      <td>0.196316</td>\n",
       "      <td>0.177967</td>\n",
       "      <td>74</td>\n",
       "      <td>0.112303</td>\n",
       "      <td>0.106798</td>\n",
       "      <td>111</td>\n",
       "      <td>top20</td>\n",
       "      <td>19</td>\n",
       "      <td>top20</td>\n",
       "    </tr>\n",
       "  </tbody>\n",
       "</table>\n",
       "</div>"
      ],
      "text/plain": [
       "      HOSP_NRD  Observed  Predicted_ME  Expected_ME  Predicted_DL    N  \\\n",
       "857      12513  0.000000      0.098073     0.107894      0.072570   34   \n",
       "420      14035  0.045714      0.087958     0.119099      0.084754  175   \n",
       "31       11058  0.061667      0.077574     0.104205      0.086588  600   \n",
       "269      13967  0.060241      0.092157     0.116396      0.090304  249   \n",
       "38       11055  0.095400      0.099371     0.119092      0.104955  587   \n",
       "862      13462  0.060606      0.129126     0.141223      0.117283   33   \n",
       "593      13008  0.071429      0.100246     0.115616      0.094118  112   \n",
       "734      11184  0.046154      0.097535     0.111969      0.080916   65   \n",
       "769      12861  0.054545      0.092059     0.097675      0.067970   55   \n",
       "428      13906  0.057803      0.078413     0.094241      0.071936  173   \n",
       "929      12476  0.130435      0.171967     0.180348      0.175627   23   \n",
       "1034     12825  0.071429      0.122081     0.127577      0.124234   14   \n",
       "318      14000  0.092920      0.113462     0.137289      0.109042  226   \n",
       "731      12585  0.166667      0.146208     0.152568      0.184800   66   \n",
       "59       11614  0.097416      0.100670     0.129748      0.099806  503   \n",
       "651      12045  0.054348      0.109565     0.128549      0.092858   92   \n",
       "51       12298  0.107607      0.111772     0.133509      0.122403  539   \n",
       "600      13489  0.074074      0.095095     0.113903      0.089599  108   \n",
       "346      13360  0.080952      0.098779     0.124023      0.096193  210   \n",
       "691      13498  0.175676      0.174060     0.196316      0.177967   74   \n",
       "\n",
       "      Adjusted_ME  Adjusted_DL  Rank_ME Division_ME  Rank_DL Division_DL  \n",
       "857      0.115133     0.100217      164       top20        0       top20  \n",
       "420      0.093544     0.101063        2       top20        1       top20  \n",
       "31       0.094293     0.102124        5       top20        2       top20  \n",
       "269      0.100285     0.103186       14       top20        3       top20  \n",
       "38       0.105687     0.103320       38       top20        4       top20  \n",
       "862      0.115813     0.103486      183       top20        5       top20  \n",
       "593      0.109824     0.103912       78       top20        6       top20  \n",
       "734      0.110334     0.103967       85       top20        7       top20  \n",
       "769      0.119379     0.104242      262    middle60        8       top20  \n",
       "428      0.105389     0.104713       36       top20        9       top20  \n",
       "929      0.120776     0.104900      300    middle60       10       top20  \n",
       "1034     0.121206     0.105411      321    middle60       11       top20  \n",
       "318      0.104680     0.105808       34       top20       12       top20  \n",
       "731      0.121383     0.105823      331    middle60       13       top20  \n",
       "59       0.098276     0.106040       11       top20       14       top20  \n",
       "651      0.107956     0.106317       56       top20       15       top20  \n",
       "51       0.106040     0.106321       42       top20       16       top20  \n",
       "600      0.105748     0.106431       39       top20       17       top20  \n",
       "346      0.100881     0.106556       17       top20       18       top20  \n",
       "691      0.112303     0.106798      111       top20       19       top20  "
      ]
     },
     "execution_count": 15,
     "metadata": {},
     "output_type": "execute_result"
    }
   ],
   "source": [
    "adjusted_rate.head(20)"
   ]
  },
  {
   "cell_type": "code",
   "execution_count": 11,
   "metadata": {
    "collapsed": true
   },
   "outputs": [
    {
     "data": {
      "text/html": [
       "<div>\n",
       "<style scoped>\n",
       "    .dataframe tbody tr th:only-of-type {\n",
       "        vertical-align: middle;\n",
       "    }\n",
       "\n",
       "    .dataframe tbody tr th {\n",
       "        vertical-align: top;\n",
       "    }\n",
       "\n",
       "    .dataframe thead th {\n",
       "        text-align: right;\n",
       "    }\n",
       "</style>\n",
       "<table border=\"1\" class=\"dataframe\">\n",
       "  <thead>\n",
       "    <tr style=\"text-align: right;\">\n",
       "      <th></th>\n",
       "      <th>HOSP_NRD</th>\n",
       "      <th>N</th>\n",
       "      <th>Observed</th>\n",
       "      <th>Adjusted_ME</th>\n",
       "      <th>Adjusted_DL</th>\n",
       "    </tr>\n",
       "  </thead>\n",
       "  <tbody>\n",
       "    <tr>\n",
       "      <th>1087</th>\n",
       "      <td>11424</td>\n",
       "      <td>11</td>\n",
       "      <td>0.090909</td>\n",
       "      <td>0.121668</td>\n",
       "      <td>0.110919</td>\n",
       "    </tr>\n",
       "    <tr>\n",
       "      <th>1088</th>\n",
       "      <td>12274</td>\n",
       "      <td>11</td>\n",
       "      <td>0.363636</td>\n",
       "      <td>0.128576</td>\n",
       "      <td>0.122766</td>\n",
       "    </tr>\n",
       "    <tr>\n",
       "      <th>1089</th>\n",
       "      <td>11456</td>\n",
       "      <td>11</td>\n",
       "      <td>0.090909</td>\n",
       "      <td>0.126595</td>\n",
       "      <td>0.117963</td>\n",
       "    </tr>\n",
       "    <tr>\n",
       "      <th>1090</th>\n",
       "      <td>13071</td>\n",
       "      <td>11</td>\n",
       "      <td>0.272727</td>\n",
       "      <td>0.125964</td>\n",
       "      <td>0.117699</td>\n",
       "    </tr>\n",
       "    <tr>\n",
       "      <th>1091</th>\n",
       "      <td>12828</td>\n",
       "      <td>11</td>\n",
       "      <td>0.181818</td>\n",
       "      <td>0.128669</td>\n",
       "      <td>0.120154</td>\n",
       "    </tr>\n",
       "    <tr>\n",
       "      <th>1092</th>\n",
       "      <td>11997</td>\n",
       "      <td>10</td>\n",
       "      <td>0.000000</td>\n",
       "      <td>0.120680</td>\n",
       "      <td>0.115942</td>\n",
       "    </tr>\n",
       "    <tr>\n",
       "      <th>1093</th>\n",
       "      <td>12874</td>\n",
       "      <td>10</td>\n",
       "      <td>0.200000</td>\n",
       "      <td>0.128908</td>\n",
       "      <td>0.112815</td>\n",
       "    </tr>\n",
       "    <tr>\n",
       "      <th>1094</th>\n",
       "      <td>13318</td>\n",
       "      <td>10</td>\n",
       "      <td>0.100000</td>\n",
       "      <td>0.124979</td>\n",
       "      <td>0.113105</td>\n",
       "    </tr>\n",
       "    <tr>\n",
       "      <th>1095</th>\n",
       "      <td>12066</td>\n",
       "      <td>10</td>\n",
       "      <td>0.200000</td>\n",
       "      <td>0.128936</td>\n",
       "      <td>0.123382</td>\n",
       "    </tr>\n",
       "    <tr>\n",
       "      <th>1096</th>\n",
       "      <td>12218</td>\n",
       "      <td>10</td>\n",
       "      <td>0.100000</td>\n",
       "      <td>0.125914</td>\n",
       "      <td>0.120221</td>\n",
       "    </tr>\n",
       "    <tr>\n",
       "      <th>1097</th>\n",
       "      <td>13660</td>\n",
       "      <td>10</td>\n",
       "      <td>0.200000</td>\n",
       "      <td>0.127200</td>\n",
       "      <td>0.120377</td>\n",
       "    </tr>\n",
       "    <tr>\n",
       "      <th>1098</th>\n",
       "      <td>11863</td>\n",
       "      <td>10</td>\n",
       "      <td>0.000000</td>\n",
       "      <td>0.121583</td>\n",
       "      <td>0.107772</td>\n",
       "    </tr>\n",
       "    <tr>\n",
       "      <th>1099</th>\n",
       "      <td>11244</td>\n",
       "      <td>10</td>\n",
       "      <td>0.400000</td>\n",
       "      <td>0.138392</td>\n",
       "      <td>0.122761</td>\n",
       "    </tr>\n",
       "    <tr>\n",
       "      <th>1100</th>\n",
       "      <td>11504</td>\n",
       "      <td>10</td>\n",
       "      <td>0.300000</td>\n",
       "      <td>0.131652</td>\n",
       "      <td>0.118702</td>\n",
       "    </tr>\n",
       "    <tr>\n",
       "      <th>1101</th>\n",
       "      <td>11275</td>\n",
       "      <td>10</td>\n",
       "      <td>0.400000</td>\n",
       "      <td>0.135988</td>\n",
       "      <td>0.127330</td>\n",
       "    </tr>\n",
       "    <tr>\n",
       "      <th>1102</th>\n",
       "      <td>11656</td>\n",
       "      <td>10</td>\n",
       "      <td>0.200000</td>\n",
       "      <td>0.128749</td>\n",
       "      <td>0.116095</td>\n",
       "    </tr>\n",
       "    <tr>\n",
       "      <th>1103</th>\n",
       "      <td>13729</td>\n",
       "      <td>10</td>\n",
       "      <td>0.300000</td>\n",
       "      <td>0.131253</td>\n",
       "      <td>0.114389</td>\n",
       "    </tr>\n",
       "    <tr>\n",
       "      <th>1104</th>\n",
       "      <td>12927</td>\n",
       "      <td>10</td>\n",
       "      <td>0.100000</td>\n",
       "      <td>0.123279</td>\n",
       "      <td>0.122195</td>\n",
       "    </tr>\n",
       "    <tr>\n",
       "      <th>1105</th>\n",
       "      <td>12837</td>\n",
       "      <td>10</td>\n",
       "      <td>0.100000</td>\n",
       "      <td>0.125351</td>\n",
       "      <td>0.115559</td>\n",
       "    </tr>\n",
       "    <tr>\n",
       "      <th>1106</th>\n",
       "      <td>13820</td>\n",
       "      <td>10</td>\n",
       "      <td>0.100000</td>\n",
       "      <td>0.125519</td>\n",
       "      <td>0.110889</td>\n",
       "    </tr>\n",
       "  </tbody>\n",
       "</table>\n",
       "</div>"
      ],
      "text/plain": [
       "      HOSP_NRD   N  Observed  Adjusted_ME  Adjusted_DL\n",
       "1087     11424  11  0.090909     0.121668     0.110919\n",
       "1088     12274  11  0.363636     0.128576     0.122766\n",
       "1089     11456  11  0.090909     0.126595     0.117963\n",
       "1090     13071  11  0.272727     0.125964     0.117699\n",
       "1091     12828  11  0.181818     0.128669     0.120154\n",
       "1092     11997  10  0.000000     0.120680     0.115942\n",
       "1093     12874  10  0.200000     0.128908     0.112815\n",
       "1094     13318  10  0.100000     0.124979     0.113105\n",
       "1095     12066  10  0.200000     0.128936     0.123382\n",
       "1096     12218  10  0.100000     0.125914     0.120221\n",
       "1097     13660  10  0.200000     0.127200     0.120377\n",
       "1098     11863  10  0.000000     0.121583     0.107772\n",
       "1099     11244  10  0.400000     0.138392     0.122761\n",
       "1100     11504  10  0.300000     0.131652     0.118702\n",
       "1101     11275  10  0.400000     0.135988     0.127330\n",
       "1102     11656  10  0.200000     0.128749     0.116095\n",
       "1103     13729  10  0.300000     0.131253     0.114389\n",
       "1104     12927  10  0.100000     0.123279     0.122195\n",
       "1105     12837  10  0.100000     0.125351     0.115559\n",
       "1106     13820  10  0.100000     0.125519     0.110889"
      ]
     },
     "execution_count": 11,
     "metadata": {},
     "output_type": "execute_result"
    }
   ],
   "source": [
    "adjusted_rate[['HOSP_NRD', 'N', 'Observed', 'Adjusted_ME', 'Adjusted_DL']].tail(20)"
   ]
  },
  {
   "cell_type": "code",
   "execution_count": 14,
   "metadata": {},
   "outputs": [
    {
     "data": {
      "text/plain": [
       "(1107, 12)"
      ]
     },
     "execution_count": 14,
     "metadata": {},
     "output_type": "execute_result"
    }
   ],
   "source": [
    "adjusted_rate.shape"
   ]
  },
  {
   "cell_type": "code",
   "execution_count": 20,
   "metadata": {},
   "outputs": [],
   "source": [
    "from sklearn.metrics import r2_score\n",
    "from sklearn.linear_model import LinearRegression"
   ]
  },
  {
   "cell_type": "code",
   "execution_count": 25,
   "metadata": {},
   "outputs": [],
   "source": [
    "reg = LinearRegression().fit(adjusted_rate.Adjusted_DL.values.reshape((len(adjusted_rate),1)), adjusted_rate.Adjusted_ME.values)"
   ]
  },
  {
   "cell_type": "code",
   "execution_count": 28,
   "metadata": {},
   "outputs": [
    {
     "data": {
      "text/plain": [
       "0.46597785395872465"
      ]
     },
     "execution_count": 28,
     "metadata": {},
     "output_type": "execute_result"
    }
   ],
   "source": [
    "reg.score(adjusted_rate.Adjusted_DL.values.reshape((len(adjusted_rate),1)), adjusted_rate.Adjusted_ME.values)"
   ]
  },
  {
   "cell_type": "code",
   "execution_count": 47,
   "metadata": {},
   "outputs": [],
   "source": [
    "stats = adjusted_rate[['Adjusted_ME', 'Adjusted_DL']].describe()"
   ]
  },
  {
   "cell_type": "code",
   "execution_count": 39,
   "metadata": {},
   "outputs": [],
   "source": [
    "stats = stats.transpose()"
   ]
  },
  {
   "cell_type": "code",
   "execution_count": 40,
   "metadata": {},
   "outputs": [],
   "source": [
    "stats = stats.assign(IQR=stats['75%']-stats['25%'])"
   ]
  },
  {
   "cell_type": "code",
   "execution_count": 41,
   "metadata": {},
   "outputs": [
    {
     "data": {
      "text/html": [
       "<div>\n",
       "<style scoped>\n",
       "    .dataframe tbody tr th:only-of-type {\n",
       "        vertical-align: middle;\n",
       "    }\n",
       "\n",
       "    .dataframe tbody tr th {\n",
       "        vertical-align: top;\n",
       "    }\n",
       "\n",
       "    .dataframe thead th {\n",
       "        text-align: right;\n",
       "    }\n",
       "</style>\n",
       "<table border=\"1\" class=\"dataframe\">\n",
       "  <thead>\n",
       "    <tr style=\"text-align: right;\">\n",
       "      <th></th>\n",
       "      <th>count</th>\n",
       "      <th>mean</th>\n",
       "      <th>std</th>\n",
       "      <th>min</th>\n",
       "      <th>25%</th>\n",
       "      <th>50%</th>\n",
       "      <th>75%</th>\n",
       "      <th>max</th>\n",
       "      <th>IQR</th>\n",
       "    </tr>\n",
       "  </thead>\n",
       "  <tbody>\n",
       "    <tr>\n",
       "      <th>Adjusted_ME</th>\n",
       "      <td>1107.0</td>\n",
       "      <td>0.127151</td>\n",
       "      <td>0.012296</td>\n",
       "      <td>0.083672</td>\n",
       "      <td>0.120041</td>\n",
       "      <td>0.126519</td>\n",
       "      <td>0.133801</td>\n",
       "      <td>0.172212</td>\n",
       "      <td>0.013760</td>\n",
       "    </tr>\n",
       "    <tr>\n",
       "      <th>Adjusted_DL</th>\n",
       "      <td>1107.0</td>\n",
       "      <td>0.119030</td>\n",
       "      <td>0.005857</td>\n",
       "      <td>0.100217</td>\n",
       "      <td>0.115115</td>\n",
       "      <td>0.119223</td>\n",
       "      <td>0.122996</td>\n",
       "      <td>0.134095</td>\n",
       "      <td>0.007881</td>\n",
       "    </tr>\n",
       "    <tr>\n",
       "      <th>Observed</th>\n",
       "      <td>1107.0</td>\n",
       "      <td>0.141335</td>\n",
       "      <td>0.064344</td>\n",
       "      <td>0.000000</td>\n",
       "      <td>0.100000</td>\n",
       "      <td>0.130435</td>\n",
       "      <td>0.166667</td>\n",
       "      <td>0.444444</td>\n",
       "      <td>0.066667</td>\n",
       "    </tr>\n",
       "  </tbody>\n",
       "</table>\n",
       "</div>"
      ],
      "text/plain": [
       "              count      mean       std       min       25%       50%  \\\n",
       "Adjusted_ME  1107.0  0.127151  0.012296  0.083672  0.120041  0.126519   \n",
       "Adjusted_DL  1107.0  0.119030  0.005857  0.100217  0.115115  0.119223   \n",
       "Observed     1107.0  0.141335  0.064344  0.000000  0.100000  0.130435   \n",
       "\n",
       "                  75%       max       IQR  \n",
       "Adjusted_ME  0.133801  0.172212  0.013760  \n",
       "Adjusted_DL  0.122996  0.134095  0.007881  \n",
       "Observed     0.166667  0.444444  0.066667  "
      ]
     },
     "execution_count": 41,
     "metadata": {},
     "output_type": "execute_result"
    }
   ],
   "source": [
    "stats"
   ]
  },
  {
   "cell_type": "code",
   "execution_count": 44,
   "metadata": {},
   "outputs": [
    {
     "data": {
      "text/plain": [
       "0.12666245450605454"
      ]
     },
     "execution_count": 44,
     "metadata": {},
     "output_type": "execute_result"
    }
   ],
   "source": [
    "national_rate"
   ]
  },
  {
   "cell_type": "code",
   "execution_count": 37,
   "metadata": {},
   "outputs": [
    {
     "data": {
      "text/plain": [
       "<matplotlib.axes._subplots.AxesSubplot at 0x2aea2f1293c8>"
      ]
     },
     "execution_count": 37,
     "metadata": {},
     "output_type": "execute_result"
    },
    {
     "data": {
      "image/png": "[encoded data removed]",
      "text/plain": [
       "<Figure size 432x288 with 1 Axes>"
      ]
     },
     "metadata": {},
     "output_type": "display_data"
    }
   ],
   "source": [
    "adjusted_rate.plot.scatter('Rank_DL1', 'Rank_recycle_ME')"
   ]
  },
  {
   "cell_type": "code",
   "execution_count": 38,
   "metadata": {},
   "outputs": [
    {
     "data": {
      "text/plain": [
       "<matplotlib.axes._subplots.AxesSubplot at 0x2aea2f1f6128>"
      ]
     },
     "execution_count": 38,
     "metadata": {},
     "output_type": "execute_result"
    },
    {
     "data": {
      "image/png": "[encoded data removed]",
      "text/plain": [
       "<Figure size 432x288 with 1 Axes>"
      ]
     },
     "metadata": {},
     "output_type": "display_data"
    }
   ],
   "source": [
    "adjusted_rate.plot.scatter('Adjusted_DL1', 'Recycled_ME')"
   ]
  },
  {
   "cell_type": "code",
   "execution_count": 39,
   "metadata": {},
   "outputs": [
    {
     "data": {
      "text/html": [
       "<div>\n",
       "<style scoped>\n",
       "    .dataframe tbody tr th:only-of-type {\n",
       "        vertical-align: middle;\n",
       "    }\n",
       "\n",
       "    .dataframe tbody tr th {\n",
       "        vertical-align: top;\n",
       "    }\n",
       "\n",
       "    .dataframe thead th {\n",
       "        text-align: right;\n",
       "    }\n",
       "</style>\n",
       "<table border=\"1\" class=\"dataframe\">\n",
       "  <thead>\n",
       "    <tr style=\"text-align: right;\">\n",
       "      <th>Division_recycle_ME</th>\n",
       "      <th>bottom20</th>\n",
       "      <th>middle60</th>\n",
       "      <th>top20</th>\n",
       "      <th>All</th>\n",
       "    </tr>\n",
       "    <tr>\n",
       "      <th>Division_DL1</th>\n",
       "      <th></th>\n",
       "      <th></th>\n",
       "      <th></th>\n",
       "      <th></th>\n",
       "    </tr>\n",
       "  </thead>\n",
       "  <tbody>\n",
       "    <tr>\n",
       "      <th>bottom20</th>\n",
       "      <td>116</td>\n",
       "      <td>103</td>\n",
       "      <td>2</td>\n",
       "      <td>221</td>\n",
       "    </tr>\n",
       "    <tr>\n",
       "      <th>middle60</th>\n",
       "      <td>103</td>\n",
       "      <td>456</td>\n",
       "      <td>106</td>\n",
       "      <td>665</td>\n",
       "    </tr>\n",
       "    <tr>\n",
       "      <th>top20</th>\n",
       "      <td>2</td>\n",
       "      <td>106</td>\n",
       "      <td>113</td>\n",
       "      <td>221</td>\n",
       "    </tr>\n",
       "    <tr>\n",
       "      <th>All</th>\n",
       "      <td>221</td>\n",
       "      <td>665</td>\n",
       "      <td>221</td>\n",
       "      <td>1107</td>\n",
       "    </tr>\n",
       "  </tbody>\n",
       "</table>\n",
       "</div>"
      ],
      "text/plain": [
       "Division_recycle_ME  bottom20  middle60  top20   All\n",
       "Division_DL1                                        \n",
       "bottom20                  116       103      2   221\n",
       "middle60                  103       456    106   665\n",
       "top20                       2       106    113   221\n",
       "All                       221       665    221  1107"
      ]
     },
     "execution_count": 39,
     "metadata": {},
     "output_type": "execute_result"
    }
   ],
   "source": [
    "pd.crosstab(adjusted_rate.Division_DL1, adjusted_rate.Division_recycle_ME, margins=True)"
   ]
  },
  {
   "cell_type": "code",
   "execution_count": 18,
   "metadata": {},
   "outputs": [
    {
     "data": {
      "text/html": [
       "<div>\n",
       "<style scoped>\n",
       "    .dataframe tbody tr th:only-of-type {\n",
       "        vertical-align: middle;\n",
       "    }\n",
       "\n",
       "    .dataframe tbody tr th {\n",
       "        vertical-align: top;\n",
       "    }\n",
       "\n",
       "    .dataframe thead th {\n",
       "        text-align: right;\n",
       "    }\n",
       "</style>\n",
       "<table border=\"1\" class=\"dataframe\">\n",
       "  <thead>\n",
       "    <tr style=\"text-align: right;\">\n",
       "      <th>Division_ME</th>\n",
       "      <th>bottom20</th>\n",
       "      <th>middle60</th>\n",
       "      <th>top20</th>\n",
       "    </tr>\n",
       "    <tr>\n",
       "      <th>Division_DL</th>\n",
       "      <th></th>\n",
       "      <th></th>\n",
       "      <th></th>\n",
       "    </tr>\n",
       "  </thead>\n",
       "  <tbody>\n",
       "    <tr>\n",
       "      <th>bottom20</th>\n",
       "      <td>0.542986</td>\n",
       "      <td>0.443439</td>\n",
       "      <td>0.013575</td>\n",
       "    </tr>\n",
       "    <tr>\n",
       "      <th>middle60</th>\n",
       "      <td>0.148872</td>\n",
       "      <td>0.708271</td>\n",
       "      <td>0.142857</td>\n",
       "    </tr>\n",
       "    <tr>\n",
       "      <th>top20</th>\n",
       "      <td>0.009050</td>\n",
       "      <td>0.434389</td>\n",
       "      <td>0.556561</td>\n",
       "    </tr>\n",
       "  </tbody>\n",
       "</table>\n",
       "</div>"
      ],
      "text/plain": [
       "Division_ME  bottom20  middle60     top20\n",
       "Division_DL                              \n",
       "bottom20     0.542986  0.443439  0.013575\n",
       "middle60     0.148872  0.708271  0.142857\n",
       "top20        0.009050  0.434389  0.556561"
      ]
     },
     "execution_count": 18,
     "metadata": {},
     "output_type": "execute_result"
    }
   ],
   "source": [
    "pd.crosstab(adjusted_rate.Division_DL, adjusted_rate.Division_ME, normalize='index')"
   ]
  },
  {
   "cell_type": "code",
   "execution_count": 16,
   "metadata": {},
   "outputs": [],
   "source": [
    "adjusted_rate = adjusted_rate.assign(rank_diff=adjusted_rate.Rank_ME - adjusted_rate.Rank_DL)"
   ]
  },
  {
   "cell_type": "code",
   "execution_count": 17,
   "metadata": {},
   "outputs": [
    {
     "data": {
      "text/html": [
       "<div>\n",
       "<style scoped>\n",
       "    .dataframe tbody tr th:only-of-type {\n",
       "        vertical-align: middle;\n",
       "    }\n",
       "\n",
       "    .dataframe tbody tr th {\n",
       "        vertical-align: top;\n",
       "    }\n",
       "\n",
       "    .dataframe thead th {\n",
       "        text-align: right;\n",
       "    }\n",
       "</style>\n",
       "<table border=\"1\" class=\"dataframe\">\n",
       "  <thead>\n",
       "    <tr style=\"text-align: right;\">\n",
       "      <th></th>\n",
       "      <th>HOSP_NRD</th>\n",
       "      <th>Observed</th>\n",
       "      <th>Predicted_ME</th>\n",
       "      <th>Expected_ME</th>\n",
       "      <th>Predicted_DL</th>\n",
       "      <th>N</th>\n",
       "      <th>Adjusted_ME</th>\n",
       "      <th>Adjusted_DL</th>\n",
       "      <th>Rank_ME</th>\n",
       "      <th>Division_ME</th>\n",
       "      <th>Rank_DL</th>\n",
       "      <th>Division_DL</th>\n",
       "      <th>rank_diff</th>\n",
       "    </tr>\n",
       "  </thead>\n",
       "  <tbody>\n",
       "    <tr>\n",
       "      <th>301</th>\n",
       "      <td>13042</td>\n",
       "      <td>0.141026</td>\n",
       "      <td>0.133393</td>\n",
       "      <td>0.123684</td>\n",
       "      <td>0.130901</td>\n",
       "      <td>234</td>\n",
       "      <td>0.136605</td>\n",
       "      <td>0.112552</td>\n",
       "      <td>908</td>\n",
       "      <td>bottom20</td>\n",
       "      <td>151</td>\n",
       "      <td>top20</td>\n",
       "      <td>757</td>\n",
       "    </tr>\n",
       "    <tr>\n",
       "      <th>329</th>\n",
       "      <td>11973</td>\n",
       "      <td>0.150000</td>\n",
       "      <td>0.139472</td>\n",
       "      <td>0.130377</td>\n",
       "      <td>0.143659</td>\n",
       "      <td>220</td>\n",
       "      <td>0.135498</td>\n",
       "      <td>0.112926</td>\n",
       "      <td>876</td>\n",
       "      <td>middle60</td>\n",
       "      <td>169</td>\n",
       "      <td>top20</td>\n",
       "      <td>707</td>\n",
       "    </tr>\n",
       "    <tr>\n",
       "      <th>562</th>\n",
       "      <td>11943</td>\n",
       "      <td>0.139344</td>\n",
       "      <td>0.111421</td>\n",
       "      <td>0.103801</td>\n",
       "      <td>0.125417</td>\n",
       "      <td>122</td>\n",
       "      <td>0.135961</td>\n",
       "      <td>0.113867</td>\n",
       "      <td>891</td>\n",
       "      <td>bottom20</td>\n",
       "      <td>209</td>\n",
       "      <td>top20</td>\n",
       "      <td>682</td>\n",
       "    </tr>\n",
       "    <tr>\n",
       "      <th>213</th>\n",
       "      <td>13180</td>\n",
       "      <td>0.161972</td>\n",
       "      <td>0.135559</td>\n",
       "      <td>0.111793</td>\n",
       "      <td>0.127514</td>\n",
       "      <td>284</td>\n",
       "      <td>0.153590</td>\n",
       "      <td>0.116939</td>\n",
       "      <td>1074</td>\n",
       "      <td>bottom20</td>\n",
       "      <td>397</td>\n",
       "      <td>middle60</td>\n",
       "      <td>677</td>\n",
       "    </tr>\n",
       "    <tr>\n",
       "      <th>568</th>\n",
       "      <td>13408</td>\n",
       "      <td>0.159664</td>\n",
       "      <td>0.133056</td>\n",
       "      <td>0.117297</td>\n",
       "      <td>0.125535</td>\n",
       "      <td>119</td>\n",
       "      <td>0.143680</td>\n",
       "      <td>0.116379</td>\n",
       "      <td>1008</td>\n",
       "      <td>bottom20</td>\n",
       "      <td>362</td>\n",
       "      <td>middle60</td>\n",
       "      <td>646</td>\n",
       "    </tr>\n",
       "  </tbody>\n",
       "</table>\n",
       "</div>"
      ],
      "text/plain": [
       "     HOSP_NRD  Observed  Predicted_ME  Expected_ME  Predicted_DL    N  \\\n",
       "301     13042  0.141026      0.133393     0.123684      0.130901  234   \n",
       "329     11973  0.150000      0.139472     0.130377      0.143659  220   \n",
       "562     11943  0.139344      0.111421     0.103801      0.125417  122   \n",
       "213     13180  0.161972      0.135559     0.111793      0.127514  284   \n",
       "568     13408  0.159664      0.133056     0.117297      0.125535  119   \n",
       "\n",
       "     Adjusted_ME  Adjusted_DL  Rank_ME Division_ME  Rank_DL Division_DL  \\\n",
       "301     0.136605     0.112552      908    bottom20      151       top20   \n",
       "329     0.135498     0.112926      876    middle60      169       top20   \n",
       "562     0.135961     0.113867      891    bottom20      209       top20   \n",
       "213     0.153590     0.116939     1074    bottom20      397    middle60   \n",
       "568     0.143680     0.116379     1008    bottom20      362    middle60   \n",
       "\n",
       "     rank_diff  \n",
       "301        757  \n",
       "329        707  \n",
       "562        682  \n",
       "213        677  \n",
       "568        646  "
      ]
     },
     "execution_count": 17,
     "metadata": {},
     "output_type": "execute_result"
    }
   ],
   "source": [
    "adjusted_rate.sort_values('rank_diff', ascending=False).head()"
   ]
  },
  {
   "cell_type": "code",
   "execution_count": 50,
   "metadata": {},
   "outputs": [],
   "source": [
    "adjusted_rate.to_csv(path+'cohorts/{}/adjusted_rate.csv'.format(cohort))"
   ]
  },
  {
   "cell_type": "code",
   "execution_count": 24,
   "metadata": {},
   "outputs": [],
   "source": [
    "adjusted_rate = pd.read_csv(path+'cohorts/{}/adjusted_rate.csv'.format(cohort))"
   ]
  },
  {
   "cell_type": "code",
   "execution_count": 138,
   "metadata": {},
   "outputs": [],
   "source": [
    "recycle_DL = pd.read_csv(path+'cohorts/{}/recyc_pred_{}.csv'.format(cohort, 0))\n",
    "recycle_DL.columns = ['Adjusted_index{}'.format(0), 'HOSP_NRD']\n",
    "for tst_seed in range(1, 10):\n",
    "    recyc = pd.read_csv(path+'cohorts/{}/recyc_pred_{}.csv'.format(cohort, tst_seed))\n",
    "    recyc.columns = ['Adjusted_index{}'.format(tst_seed), 'HOSP_NRD']\n",
    "    recycle_DL = pd.merge(recycle_DL, recyc, on='HOSP_NRD')"
   ]
  },
  {
   "cell_type": "code",
   "execution_count": 139,
   "metadata": {},
   "outputs": [],
   "source": [
    "for tst_seed in range(7):\n",
    "    recyc = pd.read_csv(path+'cohorts/{}/recyc_pred_tst{}.csv'.format(cohort, tst_seed))\n",
    "    recyc.columns = ['Adjusted_tst{}'.format(tst_seed), 'HOSP_NRD']\n",
    "    recycle_DL = pd.merge(recycle_DL, recyc, on='HOSP_NRD')"
   ]
  },
  {
   "cell_type": "code",
   "execution_count": 80,
   "metadata": {},
   "outputs": [],
   "source": [
    "recycle_DL = recycle_DL.assign(mean=recycle_DL[['Adjusted_DL'+str(s) for s in range(10)]].mean(axis=1))\n",
    "recycle_DL = recycle_DL.assign(std=recycle_DL[['Adjusted_DL'+str(s) for s in range(10)]].std(axis=1)/np.sqrt(1))\n",
    "recycle_DL = recycle_DL.assign(upper=recycle_DL['mean']+1.96*recycle_DL['std'])\n",
    "recycle_DL = recycle_DL.assign(lower=recycle_DL['mean']-1.96*recycle_DL['std'])"
   ]
  },
  {
   "cell_type": "code",
   "execution_count": 140,
   "metadata": {},
   "outputs": [
    {
     "data": {
      "text/html": [
       "<div>\n",
       "<style scoped>\n",
       "    .dataframe tbody tr th:only-of-type {\n",
       "        vertical-align: middle;\n",
       "    }\n",
       "\n",
       "    .dataframe tbody tr th {\n",
       "        vertical-align: top;\n",
       "    }\n",
       "\n",
       "    .dataframe thead th {\n",
       "        text-align: right;\n",
       "    }\n",
       "</style>\n",
       "<table border=\"1\" class=\"dataframe\">\n",
       "  <thead>\n",
       "    <tr style=\"text-align: right;\">\n",
       "      <th></th>\n",
       "      <th>Adjusted_index0</th>\n",
       "      <th>HOSP_NRD</th>\n",
       "      <th>Adjusted_index1</th>\n",
       "      <th>Adjusted_index2</th>\n",
       "      <th>Adjusted_index3</th>\n",
       "      <th>Adjusted_index4</th>\n",
       "      <th>Adjusted_index5</th>\n",
       "      <th>Adjusted_index6</th>\n",
       "      <th>Adjusted_index7</th>\n",
       "      <th>Adjusted_index8</th>\n",
       "      <th>Adjusted_index9</th>\n",
       "      <th>Adjusted_tst0</th>\n",
       "      <th>Adjusted_tst1</th>\n",
       "      <th>Adjusted_tst2</th>\n",
       "      <th>Adjusted_tst3</th>\n",
       "      <th>Adjusted_tst4</th>\n",
       "      <th>Adjusted_tst5</th>\n",
       "      <th>Adjusted_tst6</th>\n",
       "    </tr>\n",
       "  </thead>\n",
       "  <tbody>\n",
       "    <tr>\n",
       "      <th>0</th>\n",
       "      <td>0.111387</td>\n",
       "      <td>11006.0</td>\n",
       "      <td>0.117523</td>\n",
       "      <td>0.120643</td>\n",
       "      <td>0.106672</td>\n",
       "      <td>0.118943</td>\n",
       "      <td>0.125235</td>\n",
       "      <td>0.127023</td>\n",
       "      <td>0.108597</td>\n",
       "      <td>0.106732</td>\n",
       "      <td>0.119385</td>\n",
       "      <td>0.110114</td>\n",
       "      <td>0.115654</td>\n",
       "      <td>0.120461</td>\n",
       "      <td>0.105349</td>\n",
       "      <td>0.117297</td>\n",
       "      <td>0.123791</td>\n",
       "      <td>0.125217</td>\n",
       "    </tr>\n",
       "    <tr>\n",
       "      <th>1</th>\n",
       "      <td>0.115136</td>\n",
       "      <td>11010.0</td>\n",
       "      <td>0.118052</td>\n",
       "      <td>0.119817</td>\n",
       "      <td>0.109564</td>\n",
       "      <td>0.117154</td>\n",
       "      <td>0.109042</td>\n",
       "      <td>0.123234</td>\n",
       "      <td>0.104473</td>\n",
       "      <td>0.097824</td>\n",
       "      <td>0.110803</td>\n",
       "      <td>0.113841</td>\n",
       "      <td>0.116177</td>\n",
       "      <td>0.119639</td>\n",
       "      <td>0.108220</td>\n",
       "      <td>0.115513</td>\n",
       "      <td>0.107679</td>\n",
       "      <td>0.121456</td>\n",
       "    </tr>\n",
       "    <tr>\n",
       "      <th>2</th>\n",
       "      <td>0.111795</td>\n",
       "      <td>11011.0</td>\n",
       "      <td>0.108583</td>\n",
       "      <td>0.125113</td>\n",
       "      <td>0.110101</td>\n",
       "      <td>0.115699</td>\n",
       "      <td>0.118537</td>\n",
       "      <td>0.115928</td>\n",
       "      <td>0.107616</td>\n",
       "      <td>0.103374</td>\n",
       "      <td>0.111845</td>\n",
       "      <td>0.110519</td>\n",
       "      <td>0.106824</td>\n",
       "      <td>0.124908</td>\n",
       "      <td>0.108752</td>\n",
       "      <td>0.114063</td>\n",
       "      <td>0.117123</td>\n",
       "      <td>0.114209</td>\n",
       "    </tr>\n",
       "    <tr>\n",
       "      <th>3</th>\n",
       "      <td>0.128108</td>\n",
       "      <td>11013.0</td>\n",
       "      <td>0.133123</td>\n",
       "      <td>0.137423</td>\n",
       "      <td>0.132450</td>\n",
       "      <td>0.137320</td>\n",
       "      <td>0.127113</td>\n",
       "      <td>0.141172</td>\n",
       "      <td>0.133023</td>\n",
       "      <td>0.146313</td>\n",
       "      <td>0.130289</td>\n",
       "      <td>0.126742</td>\n",
       "      <td>0.131081</td>\n",
       "      <td>0.137156</td>\n",
       "      <td>0.130943</td>\n",
       "      <td>0.135636</td>\n",
       "      <td>0.125661</td>\n",
       "      <td>0.139268</td>\n",
       "    </tr>\n",
       "    <tr>\n",
       "      <th>4</th>\n",
       "      <td>0.115302</td>\n",
       "      <td>11014.0</td>\n",
       "      <td>0.126566</td>\n",
       "      <td>0.117974</td>\n",
       "      <td>0.112363</td>\n",
       "      <td>0.114952</td>\n",
       "      <td>0.115864</td>\n",
       "      <td>0.129919</td>\n",
       "      <td>0.115519</td>\n",
       "      <td>0.114341</td>\n",
       "      <td>0.115896</td>\n",
       "      <td>0.114006</td>\n",
       "      <td>0.124595</td>\n",
       "      <td>0.117805</td>\n",
       "      <td>0.110998</td>\n",
       "      <td>0.113317</td>\n",
       "      <td>0.114464</td>\n",
       "      <td>0.128092</td>\n",
       "    </tr>\n",
       "  </tbody>\n",
       "</table>\n",
       "</div>"
      ],
      "text/plain": [
       "   Adjusted_index0  HOSP_NRD  Adjusted_index1  Adjusted_index2  \\\n",
       "0         0.111387   11006.0         0.117523         0.120643   \n",
       "1         0.115136   11010.0         0.118052         0.119817   \n",
       "2         0.111795   11011.0         0.108583         0.125113   \n",
       "3         0.128108   11013.0         0.133123         0.137423   \n",
       "4         0.115302   11014.0         0.126566         0.117974   \n",
       "\n",
       "   Adjusted_index3  Adjusted_index4  Adjusted_index5  Adjusted_index6  \\\n",
       "0         0.106672         0.118943         0.125235         0.127023   \n",
       "1         0.109564         0.117154         0.109042         0.123234   \n",
       "2         0.110101         0.115699         0.118537         0.115928   \n",
       "3         0.132450         0.137320         0.127113         0.141172   \n",
       "4         0.112363         0.114952         0.115864         0.129919   \n",
       "\n",
       "   Adjusted_index7  Adjusted_index8  Adjusted_index9  Adjusted_tst0  \\\n",
       "0         0.108597         0.106732         0.119385       0.110114   \n",
       "1         0.104473         0.097824         0.110803       0.113841   \n",
       "2         0.107616         0.103374         0.111845       0.110519   \n",
       "3         0.133023         0.146313         0.130289       0.126742   \n",
       "4         0.115519         0.114341         0.115896       0.114006   \n",
       "\n",
       "   Adjusted_tst1  Adjusted_tst2  Adjusted_tst3  Adjusted_tst4  Adjusted_tst5  \\\n",
       "0       0.115654       0.120461       0.105349       0.117297       0.123791   \n",
       "1       0.116177       0.119639       0.108220       0.115513       0.107679   \n",
       "2       0.106824       0.124908       0.108752       0.114063       0.117123   \n",
       "3       0.131081       0.137156       0.130943       0.135636       0.125661   \n",
       "4       0.124595       0.117805       0.110998       0.113317       0.114464   \n",
       "\n",
       "   Adjusted_tst6  \n",
       "0       0.125217  \n",
       "1       0.121456  \n",
       "2       0.114209  \n",
       "3       0.139268  \n",
       "4       0.128092  "
      ]
     },
     "execution_count": 140,
     "metadata": {},
     "output_type": "execute_result"
    }
   ],
   "source": [
    "recycle_DL.head()"
   ]
  },
  {
   "cell_type": "code",
   "execution_count": 119,
   "metadata": {},
   "outputs": [],
   "source": [
    "recycle_DL = recycle_DL.assign(intercept0=recycle_DL.HOSP_NRD.apply(lambda x:hosp_embed_array[hosp_dict[x]]))"
   ]
  },
  {
   "cell_type": "code",
   "execution_count": 22,
   "metadata": {},
   "outputs": [
    {
     "data": {
      "text/plain": [
       "(0.10371397972452481, 0.1361400854459275)"
      ]
     },
     "execution_count": 22,
     "metadata": {},
     "output_type": "execute_result"
    }
   ],
   "source": [
    "recycle_DL.upper.min(), recycle_DL.lower.max()"
   ]
  },
  {
   "cell_type": "code",
   "execution_count": 110,
   "metadata": {},
   "outputs": [
    {
     "data": {
      "text/plain": [
       "(21, 28)"
      ]
     },
     "execution_count": 110,
     "metadata": {},
     "output_type": "execute_result"
    }
   ],
   "source": [
    "sum(recycle_DL.upper<national_pred), sum(recycle_DL.lower>national_pred)"
   ]
  },
  {
   "cell_type": "code",
   "execution_count": 146,
   "metadata": {},
   "outputs": [
    {
     "data": {
      "text/plain": [
       "<matplotlib.axes._subplots.AxesSubplot at 0x2b857d113a58>"
      ]
     },
     "execution_count": 146,
     "metadata": {},
     "output_type": "execute_result"
    },
    {
     "data": {
      "image/png": "[encoded data removed]",
      "text/plain": [
       "<Figure size 432x288 with 1 Axes>"
      ]
     },
     "metadata": {},
     "output_type": "display_data"
    }
   ],
   "source": [
    "recycle_DL.plot.scatter('Adjusted_tst6', 'Adjusted_index6')"
   ]
  },
  {
   "cell_type": "code",
   "execution_count": 141,
   "metadata": {},
   "outputs": [
    {
     "name": "stderr",
     "output_type": "stream",
     "text": [
      "/sw/lsa/centos7/python-anaconda-arc-connect/created-20170421/lib/python3.5/site-packages/IPython/core/interactiveshell.py:2961: FutureWarning: 'HOSP_NRD' is both an index level and a column label.\n",
      "Defaulting to column, but this will raise an ambiguity error in a future version\n",
      "  exec(code_obj, self.user_global_ns, self.user_ns)\n"
     ]
    }
   ],
   "source": [
    "compare = pd.merge(adjusted_rate[['HOSP_NRD', 'Adjusted_ME']], recycle_DL[['HOSP_NRD', 'mean']], on='HOSP_NRD')"
   ]
  },
  {
   "cell_type": "code",
   "execution_count": 142,
   "metadata": {},
   "outputs": [
    {
     "data": {
      "text/plain": [
       "<matplotlib.axes._subplots.AxesSubplot at 0x2aea56db4cf8>"
      ]
     },
     "execution_count": 142,
     "metadata": {},
     "output_type": "execute_result"
    },
    {
     "data": {
      "image/png": "[encoded data removed]",
      "text/plain": [
       "<Figure size 432x288 with 1 Axes>"
      ]
     },
     "metadata": {},
     "output_type": "display_data"
    }
   ],
   "source": [
    "compare.plot.scatter('Adjusted_ME', 'mean')"
   ]
  },
  {
   "cell_type": "code",
   "execution_count": 124,
   "metadata": {},
   "outputs": [
    {
     "data": {
      "text/plain": [
       "<matplotlib.axes._subplots.AxesSubplot at 0x2aea56d41390>"
      ]
     },
     "execution_count": 124,
     "metadata": {},
     "output_type": "execute_result"
    },
    {
     "data": {
      "image/png": "[encoded data removed]",
      "text/plain": [
       "<Figure size 432x288 with 1 Axes>"
      ]
     },
     "metadata": {},
     "output_type": "display_data"
    }
   ],
   "source": [
    "recycle_DL.plot.scatter('Adjusted_DL6', 'Adjusted_DL5')"
   ]
  },
  {
   "cell_type": "code",
   "execution_count": 31,
   "metadata": {},
   "outputs": [],
   "source": [
    "adjusted_rate = pd.merge(adjusted_rate, recycle_DL1, on='HOSP_NRD')"
   ]
  },
  {
   "cell_type": "code",
   "execution_count": 32,
   "metadata": {},
   "outputs": [],
   "source": [
    "adjusted_rate = adjusted_rate.sort_values('Adjusted_DL1')\n",
    "adjusted_rate = adjusted_rate.assign(Rank_DL1 = range(len(adjusted_rate)))\n",
    "\n",
    "adjusted_rate = adjusted_rate.assign(Division_DL1 = 'middle60')\n",
    "adjusted_rate.loc[adjusted_rate.Rank_DL1<int(len(adjusted_rate)*0.2), 'Division_DL1'] = 'top20'\n",
    "adjusted_rate.loc[adjusted_rate.Rank_DL1>int(len(adjusted_rate)*0.8), 'Division_DL1'] = 'bottom20'"
   ]
  },
  {
   "cell_type": "code",
   "execution_count": 41,
   "metadata": {},
   "outputs": [
    {
     "data": {
      "text/html": [
       "<div>\n",
       "<style scoped>\n",
       "    .dataframe tbody tr th:only-of-type {\n",
       "        vertical-align: middle;\n",
       "    }\n",
       "\n",
       "    .dataframe tbody tr th {\n",
       "        vertical-align: top;\n",
       "    }\n",
       "\n",
       "    .dataframe thead th {\n",
       "        text-align: right;\n",
       "    }\n",
       "</style>\n",
       "<table border=\"1\" class=\"dataframe\">\n",
       "  <thead>\n",
       "    <tr style=\"text-align: right;\">\n",
       "      <th></th>\n",
       "      <th>Adjusted_DL</th>\n",
       "      <th>Adjusted_DL1</th>\n",
       "    </tr>\n",
       "  </thead>\n",
       "  <tbody>\n",
       "    <tr>\n",
       "      <th>count</th>\n",
       "      <td>1107.000000</td>\n",
       "      <td>1107.000000</td>\n",
       "    </tr>\n",
       "    <tr>\n",
       "      <th>mean</th>\n",
       "      <td>0.119030</td>\n",
       "      <td>0.124436</td>\n",
       "    </tr>\n",
       "    <tr>\n",
       "      <th>std</th>\n",
       "      <td>0.005857</td>\n",
       "      <td>0.007482</td>\n",
       "    </tr>\n",
       "    <tr>\n",
       "      <th>min</th>\n",
       "      <td>0.100217</td>\n",
       "      <td>0.097055</td>\n",
       "    </tr>\n",
       "    <tr>\n",
       "      <th>25%</th>\n",
       "      <td>0.115115</td>\n",
       "      <td>0.119554</td>\n",
       "    </tr>\n",
       "    <tr>\n",
       "      <th>50%</th>\n",
       "      <td>0.119223</td>\n",
       "      <td>0.124456</td>\n",
       "    </tr>\n",
       "    <tr>\n",
       "      <th>75%</th>\n",
       "      <td>0.122996</td>\n",
       "      <td>0.129663</td>\n",
       "    </tr>\n",
       "    <tr>\n",
       "      <th>max</th>\n",
       "      <td>0.134095</td>\n",
       "      <td>0.145435</td>\n",
       "    </tr>\n",
       "  </tbody>\n",
       "</table>\n",
       "</div>"
      ],
      "text/plain": [
       "       Adjusted_DL  Adjusted_DL1\n",
       "count  1107.000000   1107.000000\n",
       "mean      0.119030      0.124436\n",
       "std       0.005857      0.007482\n",
       "min       0.100217      0.097055\n",
       "25%       0.115115      0.119554\n",
       "50%       0.119223      0.124456\n",
       "75%       0.122996      0.129663\n",
       "max       0.134095      0.145435"
      ]
     },
     "execution_count": 41,
     "metadata": {},
     "output_type": "execute_result"
    }
   ],
   "source": [
    "adjusted_rate[['Adjusted_DL', 'Adjusted_DL1']].describe()"
   ]
  },
  {
   "cell_type": "code",
   "execution_count": 33,
   "metadata": {},
   "outputs": [
    {
     "data": {
      "text/plain": [
       "<matplotlib.axes._subplots.AxesSubplot at 0x2aea2f129cf8>"
      ]
     },
     "execution_count": 33,
     "metadata": {},
     "output_type": "execute_result"
    },
    {
     "data": {
      "image/png": "[encoded data removed]",
      "text/plain": [
       "<Figure size 432x288 with 1 Axes>"
      ]
     },
     "metadata": {},
     "output_type": "display_data"
    }
   ],
   "source": [
    "adjusted_rate.plot.scatter('Adjusted_DL', 'Adjusted_DL1')"
   ]
  },
  {
   "cell_type": "code",
   "execution_count": 34,
   "metadata": {},
   "outputs": [
    {
     "data": {
      "text/plain": [
       "<matplotlib.axes._subplots.AxesSubplot at 0x2aea2f0e0c88>"
      ]
     },
     "execution_count": 34,
     "metadata": {},
     "output_type": "execute_result"
    },
    {
     "data": {
      "image/png": "[encoded data removed]",
      "text/plain": [
       "<Figure size 432x288 with 1 Axes>"
      ]
     },
     "metadata": {},
     "output_type": "display_data"
    }
   ],
   "source": [
    "adjusted_rate.plot.scatter('Rank_DL', 'Rank_DL1')"
   ]
  },
  {
   "cell_type": "code",
   "execution_count": 36,
   "metadata": {},
   "outputs": [
    {
     "data": {
      "text/html": [
       "<div>\n",
       "<style scoped>\n",
       "    .dataframe tbody tr th:only-of-type {\n",
       "        vertical-align: middle;\n",
       "    }\n",
       "\n",
       "    .dataframe tbody tr th {\n",
       "        vertical-align: top;\n",
       "    }\n",
       "\n",
       "    .dataframe thead th {\n",
       "        text-align: right;\n",
       "    }\n",
       "</style>\n",
       "<table border=\"1\" class=\"dataframe\">\n",
       "  <thead>\n",
       "    <tr style=\"text-align: right;\">\n",
       "      <th>Division_DL1</th>\n",
       "      <th>bottom20</th>\n",
       "      <th>middle60</th>\n",
       "      <th>top20</th>\n",
       "      <th>All</th>\n",
       "    </tr>\n",
       "    <tr>\n",
       "      <th>Division_DL</th>\n",
       "      <th></th>\n",
       "      <th></th>\n",
       "      <th></th>\n",
       "      <th></th>\n",
       "    </tr>\n",
       "  </thead>\n",
       "  <tbody>\n",
       "    <tr>\n",
       "      <th>bottom20</th>\n",
       "      <td>95</td>\n",
       "      <td>123</td>\n",
       "      <td>3</td>\n",
       "      <td>221</td>\n",
       "    </tr>\n",
       "    <tr>\n",
       "      <th>middle60</th>\n",
       "      <td>118</td>\n",
       "      <td>434</td>\n",
       "      <td>113</td>\n",
       "      <td>665</td>\n",
       "    </tr>\n",
       "    <tr>\n",
       "      <th>top20</th>\n",
       "      <td>8</td>\n",
       "      <td>108</td>\n",
       "      <td>105</td>\n",
       "      <td>221</td>\n",
       "    </tr>\n",
       "    <tr>\n",
       "      <th>All</th>\n",
       "      <td>221</td>\n",
       "      <td>665</td>\n",
       "      <td>221</td>\n",
       "      <td>1107</td>\n",
       "    </tr>\n",
       "  </tbody>\n",
       "</table>\n",
       "</div>"
      ],
      "text/plain": [
       "Division_DL1  bottom20  middle60  top20   All\n",
       "Division_DL                                  \n",
       "bottom20            95       123      3   221\n",
       "middle60           118       434    113   665\n",
       "top20                8       108    105   221\n",
       "All                221       665    221  1107"
      ]
     },
     "execution_count": 36,
     "metadata": {},
     "output_type": "execute_result"
    }
   ],
   "source": [
    "pd.crosstab(adjusted_rate.Division_DL, adjusted_rate.Division_DL1, margins=True)"
   ]
  },
  {
   "cell_type": "code",
   "execution_count": 57,
   "metadata": {},
   "outputs": [
    {
     "data": {
      "text/html": [
       "<div>\n",
       "<style scoped>\n",
       "    .dataframe tbody tr th:only-of-type {\n",
       "        vertical-align: middle;\n",
       "    }\n",
       "\n",
       "    .dataframe tbody tr th {\n",
       "        vertical-align: top;\n",
       "    }\n",
       "\n",
       "    .dataframe thead th {\n",
       "        text-align: right;\n",
       "    }\n",
       "</style>\n",
       "<table border=\"1\" class=\"dataframe\">\n",
       "  <thead>\n",
       "    <tr style=\"text-align: right;\">\n",
       "      <th></th>\n",
       "      <th>HOSP_NRD</th>\n",
       "      <th>ids</th>\n",
       "    </tr>\n",
       "  </thead>\n",
       "  <tbody>\n",
       "    <tr>\n",
       "      <th>0</th>\n",
       "      <td>11006.0</td>\n",
       "      <td>0</td>\n",
       "    </tr>\n",
       "    <tr>\n",
       "      <th>1</th>\n",
       "      <td>11010.0</td>\n",
       "      <td>1</td>\n",
       "    </tr>\n",
       "    <tr>\n",
       "      <th>2</th>\n",
       "      <td>11011.0</td>\n",
       "      <td>2</td>\n",
       "    </tr>\n",
       "    <tr>\n",
       "      <th>3</th>\n",
       "      <td>11013.0</td>\n",
       "      <td>3</td>\n",
       "    </tr>\n",
       "    <tr>\n",
       "      <th>4</th>\n",
       "      <td>11014.0</td>\n",
       "      <td>4</td>\n",
       "    </tr>\n",
       "    <tr>\n",
       "      <th>5</th>\n",
       "      <td>11021.0</td>\n",
       "      <td>5</td>\n",
       "    </tr>\n",
       "    <tr>\n",
       "      <th>6</th>\n",
       "      <td>11022.0</td>\n",
       "      <td>6</td>\n",
       "    </tr>\n",
       "    <tr>\n",
       "      <th>7</th>\n",
       "      <td>11024.0</td>\n",
       "      <td>7</td>\n",
       "    </tr>\n",
       "    <tr>\n",
       "      <th>8</th>\n",
       "      <td>11029.0</td>\n",
       "      <td>8</td>\n",
       "    </tr>\n",
       "    <tr>\n",
       "      <th>9</th>\n",
       "      <td>11032.0</td>\n",
       "      <td>9</td>\n",
       "    </tr>\n",
       "    <tr>\n",
       "      <th>10</th>\n",
       "      <td>11034.0</td>\n",
       "      <td>10</td>\n",
       "    </tr>\n",
       "    <tr>\n",
       "      <th>11</th>\n",
       "      <td>11035.0</td>\n",
       "      <td>11</td>\n",
       "    </tr>\n",
       "    <tr>\n",
       "      <th>12</th>\n",
       "      <td>11038.0</td>\n",
       "      <td>12</td>\n",
       "    </tr>\n",
       "    <tr>\n",
       "      <th>13</th>\n",
       "      <td>11044.0</td>\n",
       "      <td>13</td>\n",
       "    </tr>\n",
       "    <tr>\n",
       "      <th>14</th>\n",
       "      <td>11047.0</td>\n",
       "      <td>14</td>\n",
       "    </tr>\n",
       "    <tr>\n",
       "      <th>15</th>\n",
       "      <td>11050.0</td>\n",
       "      <td>15</td>\n",
       "    </tr>\n",
       "    <tr>\n",
       "      <th>16</th>\n",
       "      <td>11055.0</td>\n",
       "      <td>16</td>\n",
       "    </tr>\n",
       "    <tr>\n",
       "      <th>17</th>\n",
       "      <td>11057.0</td>\n",
       "      <td>17</td>\n",
       "    </tr>\n",
       "    <tr>\n",
       "      <th>18</th>\n",
       "      <td>11058.0</td>\n",
       "      <td>18</td>\n",
       "    </tr>\n",
       "    <tr>\n",
       "      <th>19</th>\n",
       "      <td>11061.0</td>\n",
       "      <td>19</td>\n",
       "    </tr>\n",
       "    <tr>\n",
       "      <th>20</th>\n",
       "      <td>11064.0</td>\n",
       "      <td>20</td>\n",
       "    </tr>\n",
       "    <tr>\n",
       "      <th>21</th>\n",
       "      <td>11067.0</td>\n",
       "      <td>21</td>\n",
       "    </tr>\n",
       "    <tr>\n",
       "      <th>22</th>\n",
       "      <td>11069.0</td>\n",
       "      <td>22</td>\n",
       "    </tr>\n",
       "    <tr>\n",
       "      <th>23</th>\n",
       "      <td>11071.0</td>\n",
       "      <td>23</td>\n",
       "    </tr>\n",
       "    <tr>\n",
       "      <th>24</th>\n",
       "      <td>11072.0</td>\n",
       "      <td>24</td>\n",
       "    </tr>\n",
       "    <tr>\n",
       "      <th>25</th>\n",
       "      <td>11074.0</td>\n",
       "      <td>25</td>\n",
       "    </tr>\n",
       "    <tr>\n",
       "      <th>26</th>\n",
       "      <td>11078.0</td>\n",
       "      <td>26</td>\n",
       "    </tr>\n",
       "    <tr>\n",
       "      <th>27</th>\n",
       "      <td>11080.0</td>\n",
       "      <td>27</td>\n",
       "    </tr>\n",
       "    <tr>\n",
       "      <th>28</th>\n",
       "      <td>11084.0</td>\n",
       "      <td>28</td>\n",
       "    </tr>\n",
       "    <tr>\n",
       "      <th>29</th>\n",
       "      <td>11085.0</td>\n",
       "      <td>29</td>\n",
       "    </tr>\n",
       "    <tr>\n",
       "      <th>...</th>\n",
       "      <td>...</td>\n",
       "      <td>...</td>\n",
       "    </tr>\n",
       "    <tr>\n",
       "      <th>1077</th>\n",
       "      <td>13996.0</td>\n",
       "      <td>1077</td>\n",
       "    </tr>\n",
       "    <tr>\n",
       "      <th>1078</th>\n",
       "      <td>13998.0</td>\n",
       "      <td>1078</td>\n",
       "    </tr>\n",
       "    <tr>\n",
       "      <th>1079</th>\n",
       "      <td>14000.0</td>\n",
       "      <td>1079</td>\n",
       "    </tr>\n",
       "    <tr>\n",
       "      <th>1080</th>\n",
       "      <td>14002.0</td>\n",
       "      <td>1080</td>\n",
       "    </tr>\n",
       "    <tr>\n",
       "      <th>1081</th>\n",
       "      <td>14005.0</td>\n",
       "      <td>1081</td>\n",
       "    </tr>\n",
       "    <tr>\n",
       "      <th>1082</th>\n",
       "      <td>14006.0</td>\n",
       "      <td>1082</td>\n",
       "    </tr>\n",
       "    <tr>\n",
       "      <th>1083</th>\n",
       "      <td>14008.0</td>\n",
       "      <td>1083</td>\n",
       "    </tr>\n",
       "    <tr>\n",
       "      <th>1084</th>\n",
       "      <td>14014.0</td>\n",
       "      <td>1084</td>\n",
       "    </tr>\n",
       "    <tr>\n",
       "      <th>1085</th>\n",
       "      <td>14015.0</td>\n",
       "      <td>1085</td>\n",
       "    </tr>\n",
       "    <tr>\n",
       "      <th>1086</th>\n",
       "      <td>14016.0</td>\n",
       "      <td>1086</td>\n",
       "    </tr>\n",
       "    <tr>\n",
       "      <th>1087</th>\n",
       "      <td>14018.0</td>\n",
       "      <td>1087</td>\n",
       "    </tr>\n",
       "    <tr>\n",
       "      <th>1088</th>\n",
       "      <td>14019.0</td>\n",
       "      <td>1088</td>\n",
       "    </tr>\n",
       "    <tr>\n",
       "      <th>1089</th>\n",
       "      <td>14021.0</td>\n",
       "      <td>1089</td>\n",
       "    </tr>\n",
       "    <tr>\n",
       "      <th>1090</th>\n",
       "      <td>14026.0</td>\n",
       "      <td>1090</td>\n",
       "    </tr>\n",
       "    <tr>\n",
       "      <th>1091</th>\n",
       "      <td>14035.0</td>\n",
       "      <td>1091</td>\n",
       "    </tr>\n",
       "    <tr>\n",
       "      <th>1092</th>\n",
       "      <td>14037.0</td>\n",
       "      <td>1092</td>\n",
       "    </tr>\n",
       "    <tr>\n",
       "      <th>1093</th>\n",
       "      <td>14040.0</td>\n",
       "      <td>1093</td>\n",
       "    </tr>\n",
       "    <tr>\n",
       "      <th>1094</th>\n",
       "      <td>14041.0</td>\n",
       "      <td>1094</td>\n",
       "    </tr>\n",
       "    <tr>\n",
       "      <th>1095</th>\n",
       "      <td>14043.0</td>\n",
       "      <td>1095</td>\n",
       "    </tr>\n",
       "    <tr>\n",
       "      <th>1096</th>\n",
       "      <td>14044.0</td>\n",
       "      <td>1096</td>\n",
       "    </tr>\n",
       "    <tr>\n",
       "      <th>1097</th>\n",
       "      <td>14052.0</td>\n",
       "      <td>1097</td>\n",
       "    </tr>\n",
       "    <tr>\n",
       "      <th>1098</th>\n",
       "      <td>14053.0</td>\n",
       "      <td>1098</td>\n",
       "    </tr>\n",
       "    <tr>\n",
       "      <th>1099</th>\n",
       "      <td>14054.0</td>\n",
       "      <td>1099</td>\n",
       "    </tr>\n",
       "    <tr>\n",
       "      <th>1100</th>\n",
       "      <td>14055.0</td>\n",
       "      <td>1100</td>\n",
       "    </tr>\n",
       "    <tr>\n",
       "      <th>1101</th>\n",
       "      <td>14057.0</td>\n",
       "      <td>1101</td>\n",
       "    </tr>\n",
       "    <tr>\n",
       "      <th>1102</th>\n",
       "      <td>14059.0</td>\n",
       "      <td>1102</td>\n",
       "    </tr>\n",
       "    <tr>\n",
       "      <th>1103</th>\n",
       "      <td>14061.0</td>\n",
       "      <td>1103</td>\n",
       "    </tr>\n",
       "    <tr>\n",
       "      <th>1104</th>\n",
       "      <td>14062.0</td>\n",
       "      <td>1104</td>\n",
       "    </tr>\n",
       "    <tr>\n",
       "      <th>1105</th>\n",
       "      <td>14066.0</td>\n",
       "      <td>1105</td>\n",
       "    </tr>\n",
       "    <tr>\n",
       "      <th>1106</th>\n",
       "      <td>14074.0</td>\n",
       "      <td>1106</td>\n",
       "    </tr>\n",
       "  </tbody>\n",
       "</table>\n",
       "<p>1107 rows × 2 columns</p>\n",
       "</div>"
      ],
      "text/plain": [
       "      HOSP_NRD   ids\n",
       "0      11006.0     0\n",
       "1      11010.0     1\n",
       "2      11011.0     2\n",
       "3      11013.0     3\n",
       "4      11014.0     4\n",
       "5      11021.0     5\n",
       "6      11022.0     6\n",
       "7      11024.0     7\n",
       "8      11029.0     8\n",
       "9      11032.0     9\n",
       "10     11034.0    10\n",
       "11     11035.0    11\n",
       "12     11038.0    12\n",
       "13     11044.0    13\n",
       "14     11047.0    14\n",
       "15     11050.0    15\n",
       "16     11055.0    16\n",
       "17     11057.0    17\n",
       "18     11058.0    18\n",
       "19     11061.0    19\n",
       "20     11064.0    20\n",
       "21     11067.0    21\n",
       "22     11069.0    22\n",
       "23     11071.0    23\n",
       "24     11072.0    24\n",
       "25     11074.0    25\n",
       "26     11078.0    26\n",
       "27     11080.0    27\n",
       "28     11084.0    28\n",
       "29     11085.0    29\n",
       "...        ...   ...\n",
       "1077   13996.0  1077\n",
       "1078   13998.0  1078\n",
       "1079   14000.0  1079\n",
       "1080   14002.0  1080\n",
       "1081   14005.0  1081\n",
       "1082   14006.0  1082\n",
       "1083   14008.0  1083\n",
       "1084   14014.0  1084\n",
       "1085   14015.0  1085\n",
       "1086   14016.0  1086\n",
       "1087   14018.0  1087\n",
       "1088   14019.0  1088\n",
       "1089   14021.0  1089\n",
       "1090   14026.0  1090\n",
       "1091   14035.0  1091\n",
       "1092   14037.0  1092\n",
       "1093   14040.0  1093\n",
       "1094   14041.0  1094\n",
       "1095   14043.0  1095\n",
       "1096   14044.0  1096\n",
       "1097   14052.0  1097\n",
       "1098   14053.0  1098\n",
       "1099   14054.0  1099\n",
       "1100   14055.0  1100\n",
       "1101   14057.0  1101\n",
       "1102   14059.0  1102\n",
       "1103   14061.0  1103\n",
       "1104   14062.0  1104\n",
       "1105   14066.0  1105\n",
       "1106   14074.0  1106\n",
       "\n",
       "[1107 rows x 2 columns]"
      ]
     },
     "execution_count": 57,
     "metadata": {},
     "output_type": "execute_result"
    }
   ],
   "source": [
    "pd.DataFrame(dict(HOSP_NRD=hosp_cat, ids=range(len(hosp_cat))))"
   ]
  },
  {
   "cell_type": "markdown",
   "metadata": {},
   "source": [
    "## Diagnosis for abnormal hospitals"
   ]
  },
  {
   "cell_type": "code",
   "execution_count": 18,
   "metadata": {},
   "outputs": [],
   "source": [
    "hosp1 = index_df.loc[index_df.HOSP_NRD==13042]"
   ]
  },
  {
   "cell_type": "code",
   "execution_count": 20,
   "metadata": {},
   "outputs": [],
   "source": [
    "comorbs = [c for c in index_df.columns if c.startswith('CM_')]"
   ]
  },
  {
   "cell_type": "code",
   "execution_count": 33,
   "metadata": {},
   "outputs": [
    {
     "data": {
      "text/html": [
       "<div>\n",
       "<style scoped>\n",
       "    .dataframe tbody tr th:only-of-type {\n",
       "        vertical-align: middle;\n",
       "    }\n",
       "\n",
       "    .dataframe tbody tr th {\n",
       "        vertical-align: top;\n",
       "    }\n",
       "\n",
       "    .dataframe thead th {\n",
       "        text-align: right;\n",
       "    }\n",
       "</style>\n",
       "<table border=\"1\" class=\"dataframe\">\n",
       "  <thead>\n",
       "    <tr style=\"text-align: right;\">\n",
       "      <th></th>\n",
       "      <th>0</th>\n",
       "      <th>1</th>\n",
       "    </tr>\n",
       "  </thead>\n",
       "  <tbody>\n",
       "    <tr>\n",
       "      <th>CM_AIDS</th>\n",
       "      <td>0.000000</td>\n",
       "      <td>0.001426</td>\n",
       "    </tr>\n",
       "    <tr>\n",
       "      <th>CM_ALCOHOL</th>\n",
       "      <td>0.072650</td>\n",
       "      <td>0.035330</td>\n",
       "    </tr>\n",
       "    <tr>\n",
       "      <th>CM_ANEMDEF</th>\n",
       "      <td>0.196581</td>\n",
       "      <td>0.165893</td>\n",
       "    </tr>\n",
       "    <tr>\n",
       "      <th>CM_ARTH</th>\n",
       "      <td>0.029915</td>\n",
       "      <td>0.026025</td>\n",
       "    </tr>\n",
       "    <tr>\n",
       "      <th>CM_BLDLOSS</th>\n",
       "      <td>0.000000</td>\n",
       "      <td>0.007185</td>\n",
       "    </tr>\n",
       "    <tr>\n",
       "      <th>CM_CHF</th>\n",
       "      <td>0.008547</td>\n",
       "      <td>0.004741</td>\n",
       "    </tr>\n",
       "    <tr>\n",
       "      <th>CM_CHRNLUNG</th>\n",
       "      <td>0.205128</td>\n",
       "      <td>0.205108</td>\n",
       "    </tr>\n",
       "    <tr>\n",
       "      <th>CM_COAG</th>\n",
       "      <td>0.025641</td>\n",
       "      <td>0.054447</td>\n",
       "    </tr>\n",
       "    <tr>\n",
       "      <th>CM_DEPRESS</th>\n",
       "      <td>0.085470</td>\n",
       "      <td>0.081098</td>\n",
       "    </tr>\n",
       "    <tr>\n",
       "      <th>CM_DM</th>\n",
       "      <td>0.388889</td>\n",
       "      <td>0.298633</td>\n",
       "    </tr>\n",
       "    <tr>\n",
       "      <th>CM_DMCX</th>\n",
       "      <td>0.106838</td>\n",
       "      <td>0.079845</td>\n",
       "    </tr>\n",
       "    <tr>\n",
       "      <th>CM_DRUG</th>\n",
       "      <td>0.059829</td>\n",
       "      <td>0.031382</td>\n",
       "    </tr>\n",
       "    <tr>\n",
       "      <th>CM_HTN_C</th>\n",
       "      <td>0.803419</td>\n",
       "      <td>0.742811</td>\n",
       "    </tr>\n",
       "    <tr>\n",
       "      <th>CM_HYPOTHY</th>\n",
       "      <td>0.068376</td>\n",
       "      <td>0.116209</td>\n",
       "    </tr>\n",
       "    <tr>\n",
       "      <th>CM_LIVER</th>\n",
       "      <td>0.012821</td>\n",
       "      <td>0.017524</td>\n",
       "    </tr>\n",
       "    <tr>\n",
       "      <th>CM_LYMPH</th>\n",
       "      <td>0.004274</td>\n",
       "      <td>0.005854</td>\n",
       "    </tr>\n",
       "    <tr>\n",
       "      <th>CM_LYTES</th>\n",
       "      <td>0.136752</td>\n",
       "      <td>0.223754</td>\n",
       "    </tr>\n",
       "    <tr>\n",
       "      <th>CM_METS</th>\n",
       "      <td>0.008547</td>\n",
       "      <td>0.008135</td>\n",
       "    </tr>\n",
       "    <tr>\n",
       "      <th>CM_NEURO</th>\n",
       "      <td>0.055556</td>\n",
       "      <td>0.059068</td>\n",
       "    </tr>\n",
       "    <tr>\n",
       "      <th>CM_OBESE</th>\n",
       "      <td>0.192308</td>\n",
       "      <td>0.176143</td>\n",
       "    </tr>\n",
       "    <tr>\n",
       "      <th>CM_PARA</th>\n",
       "      <td>0.008547</td>\n",
       "      <td>0.016469</td>\n",
       "    </tr>\n",
       "    <tr>\n",
       "      <th>CM_PERIVASC</th>\n",
       "      <td>0.094017</td>\n",
       "      <td>0.125806</td>\n",
       "    </tr>\n",
       "    <tr>\n",
       "      <th>CM_PSYCH</th>\n",
       "      <td>0.029915</td>\n",
       "      <td>0.027330</td>\n",
       "    </tr>\n",
       "    <tr>\n",
       "      <th>CM_PULMCIRC</th>\n",
       "      <td>0.000000</td>\n",
       "      <td>0.000872</td>\n",
       "    </tr>\n",
       "    <tr>\n",
       "      <th>CM_RENLFAIL</th>\n",
       "      <td>0.247863</td>\n",
       "      <td>0.203724</td>\n",
       "    </tr>\n",
       "    <tr>\n",
       "      <th>CM_TUMOR</th>\n",
       "      <td>0.008547</td>\n",
       "      <td>0.014616</td>\n",
       "    </tr>\n",
       "    <tr>\n",
       "      <th>CM_ULCER</th>\n",
       "      <td>0.000000</td>\n",
       "      <td>0.000277</td>\n",
       "    </tr>\n",
       "    <tr>\n",
       "      <th>CM_VALVE</th>\n",
       "      <td>0.000000</td>\n",
       "      <td>0.001577</td>\n",
       "    </tr>\n",
       "    <tr>\n",
       "      <th>CM_WGHTLOSS</th>\n",
       "      <td>0.017094</td>\n",
       "      <td>0.026678</td>\n",
       "    </tr>\n",
       "  </tbody>\n",
       "</table>\n",
       "</div>"
      ],
      "text/plain": [
       "                    0         1\n",
       "CM_AIDS      0.000000  0.001426\n",
       "CM_ALCOHOL   0.072650  0.035330\n",
       "CM_ANEMDEF   0.196581  0.165893\n",
       "CM_ARTH      0.029915  0.026025\n",
       "CM_BLDLOSS   0.000000  0.007185\n",
       "CM_CHF       0.008547  0.004741\n",
       "CM_CHRNLUNG  0.205128  0.205108\n",
       "CM_COAG      0.025641  0.054447\n",
       "CM_DEPRESS   0.085470  0.081098\n",
       "CM_DM        0.388889  0.298633\n",
       "CM_DMCX      0.106838  0.079845\n",
       "CM_DRUG      0.059829  0.031382\n",
       "CM_HTN_C     0.803419  0.742811\n",
       "CM_HYPOTHY   0.068376  0.116209\n",
       "CM_LIVER     0.012821  0.017524\n",
       "CM_LYMPH     0.004274  0.005854\n",
       "CM_LYTES     0.136752  0.223754\n",
       "CM_METS      0.008547  0.008135\n",
       "CM_NEURO     0.055556  0.059068\n",
       "CM_OBESE     0.192308  0.176143\n",
       "CM_PARA      0.008547  0.016469\n",
       "CM_PERIVASC  0.094017  0.125806\n",
       "CM_PSYCH     0.029915  0.027330\n",
       "CM_PULMCIRC  0.000000  0.000872\n",
       "CM_RENLFAIL  0.247863  0.203724\n",
       "CM_TUMOR     0.008547  0.014616\n",
       "CM_ULCER     0.000000  0.000277\n",
       "CM_VALVE     0.000000  0.001577\n",
       "CM_WGHTLOSS  0.017094  0.026678"
      ]
     },
     "execution_count": 33,
     "metadata": {},
     "output_type": "execute_result"
    }
   ],
   "source": [
    "pd.concat([hosp1[comorbs].mean(), index_df[comorbs].mean()], axis=1)"
   ]
  },
  {
   "cell_type": "code",
   "execution_count": 38,
   "metadata": {},
   "outputs": [],
   "source": [
    "cooccur_hosp1 = np.dot(hosp1[comorbs].values.transpose(), hosp1[comorbs].values)/len(hosp1)"
   ]
  },
  {
   "cell_type": "code",
   "execution_count": 42,
   "metadata": {},
   "outputs": [],
   "source": [
    "cooccur_index = np.dot(index_df[comorbs].values.transpose(), index_df[comorbs].values)/len(index_df)"
   ]
  },
  {
   "cell_type": "code",
   "execution_count": 43,
   "metadata": {},
   "outputs": [],
   "source": [
    "diff = pd.DataFrame(data=(cooccur_hosp1-cooccur_index), index=comorbs, columns=comorbs)"
   ]
  },
  {
   "cell_type": "code",
   "execution_count": 50,
   "metadata": {},
   "outputs": [
    {
     "data": {
      "text/plain": [
       "(array([9]), array([9]))"
      ]
     },
     "execution_count": 50,
     "metadata": {},
     "output_type": "execute_result"
    }
   ],
   "source": [
    "np.where(diff.values==diff.values.max())"
   ]
  },
  {
   "cell_type": "code",
   "execution_count": 52,
   "metadata": {},
   "outputs": [
    {
     "data": {
      "text/plain": [
       "0.32051282051282054"
      ]
     },
     "execution_count": 52,
     "metadata": {},
     "output_type": "execute_result"
    }
   ],
   "source": [
    "cooccur_hosp1[9, 12]"
   ]
  },
  {
   "cell_type": "code",
   "execution_count": 53,
   "metadata": {},
   "outputs": [
    {
     "data": {
      "text/plain": [
       "0.24922588494535505"
      ]
     },
     "execution_count": 53,
     "metadata": {},
     "output_type": "execute_result"
    }
   ],
   "source": [
    "cooccur_index[9, 12]"
   ]
  },
  {
   "cell_type": "code",
   "execution_count": 51,
   "metadata": {},
   "outputs": [
    {
     "data": {
      "text/html": [
       "<div>\n",
       "<style scoped>\n",
       "    .dataframe tbody tr th:only-of-type {\n",
       "        vertical-align: middle;\n",
       "    }\n",
       "\n",
       "    .dataframe tbody tr th {\n",
       "        vertical-align: top;\n",
       "    }\n",
       "\n",
       "    .dataframe thead th {\n",
       "        text-align: right;\n",
       "    }\n",
       "</style>\n",
       "<table border=\"1\" class=\"dataframe\">\n",
       "  <thead>\n",
       "    <tr style=\"text-align: right;\">\n",
       "      <th></th>\n",
       "      <th>CM_AIDS</th>\n",
       "      <th>CM_ALCOHOL</th>\n",
       "      <th>CM_ANEMDEF</th>\n",
       "      <th>CM_ARTH</th>\n",
       "      <th>CM_BLDLOSS</th>\n",
       "      <th>CM_CHF</th>\n",
       "      <th>CM_CHRNLUNG</th>\n",
       "      <th>CM_COAG</th>\n",
       "      <th>CM_DEPRESS</th>\n",
       "      <th>CM_DM</th>\n",
       "      <th>...</th>\n",
       "      <th>CM_OBESE</th>\n",
       "      <th>CM_PARA</th>\n",
       "      <th>CM_PERIVASC</th>\n",
       "      <th>CM_PSYCH</th>\n",
       "      <th>CM_PULMCIRC</th>\n",
       "      <th>CM_RENLFAIL</th>\n",
       "      <th>CM_TUMOR</th>\n",
       "      <th>CM_ULCER</th>\n",
       "      <th>CM_VALVE</th>\n",
       "      <th>CM_WGHTLOSS</th>\n",
       "    </tr>\n",
       "  </thead>\n",
       "  <tbody>\n",
       "    <tr>\n",
       "      <th>CM_AIDS</th>\n",
       "      <td>-0.001426</td>\n",
       "      <td>-0.000089</td>\n",
       "      <td>-0.000324</td>\n",
       "      <td>-0.000031</td>\n",
       "      <td>-0.000005</td>\n",
       "      <td>-0.000010</td>\n",
       "      <td>-0.000266</td>\n",
       "      <td>-0.000131</td>\n",
       "      <td>-0.000251</td>\n",
       "      <td>-0.000355</td>\n",
       "      <td>...</td>\n",
       "      <td>-0.000094</td>\n",
       "      <td>-0.000021</td>\n",
       "      <td>-0.000120</td>\n",
       "      <td>-0.000099</td>\n",
       "      <td>-0.000005</td>\n",
       "      <td>-0.000355</td>\n",
       "      <td>-0.000021</td>\n",
       "      <td>0.000000</td>\n",
       "      <td>-0.000005</td>\n",
       "      <td>-0.000057</td>\n",
       "    </tr>\n",
       "    <tr>\n",
       "      <th>CM_ALCOHOL</th>\n",
       "      <td>-0.000089</td>\n",
       "      <td>0.037320</td>\n",
       "      <td>0.011925</td>\n",
       "      <td>-0.000486</td>\n",
       "      <td>-0.000240</td>\n",
       "      <td>-0.000198</td>\n",
       "      <td>0.016028</td>\n",
       "      <td>-0.003415</td>\n",
       "      <td>0.009416</td>\n",
       "      <td>0.010013</td>\n",
       "      <td>...</td>\n",
       "      <td>0.003096</td>\n",
       "      <td>-0.000407</td>\n",
       "      <td>0.004041</td>\n",
       "      <td>0.002263</td>\n",
       "      <td>-0.000042</td>\n",
       "      <td>0.004730</td>\n",
       "      <td>-0.000428</td>\n",
       "      <td>-0.000021</td>\n",
       "      <td>-0.000052</td>\n",
       "      <td>0.002702</td>\n",
       "    </tr>\n",
       "    <tr>\n",
       "      <th>CM_ANEMDEF</th>\n",
       "      <td>-0.000324</td>\n",
       "      <td>0.011925</td>\n",
       "      <td>0.030688</td>\n",
       "      <td>0.002469</td>\n",
       "      <td>-0.001493</td>\n",
       "      <td>-0.001551</td>\n",
       "      <td>-0.002312</td>\n",
       "      <td>-0.018025</td>\n",
       "      <td>0.000520</td>\n",
       "      <td>0.046577</td>\n",
       "      <td>...</td>\n",
       "      <td>-0.002431</td>\n",
       "      <td>-0.000478</td>\n",
       "      <td>-0.013127</td>\n",
       "      <td>-0.006099</td>\n",
       "      <td>-0.000366</td>\n",
       "      <td>0.012402</td>\n",
       "      <td>-0.004099</td>\n",
       "      <td>-0.000141</td>\n",
       "      <td>-0.000574</td>\n",
       "      <td>0.006739</td>\n",
       "    </tr>\n",
       "    <tr>\n",
       "      <th>CM_ARTH</th>\n",
       "      <td>-0.000031</td>\n",
       "      <td>-0.000486</td>\n",
       "      <td>0.002469</td>\n",
       "      <td>0.003890</td>\n",
       "      <td>-0.000277</td>\n",
       "      <td>-0.000073</td>\n",
       "      <td>-0.007227</td>\n",
       "      <td>-0.001828</td>\n",
       "      <td>0.001177</td>\n",
       "      <td>0.018889</td>\n",
       "      <td>...</td>\n",
       "      <td>0.004297</td>\n",
       "      <td>-0.000418</td>\n",
       "      <td>0.000409</td>\n",
       "      <td>-0.000841</td>\n",
       "      <td>-0.000031</td>\n",
       "      <td>0.006544</td>\n",
       "      <td>-0.000433</td>\n",
       "      <td>-0.000016</td>\n",
       "      <td>-0.000031</td>\n",
       "      <td>-0.001159</td>\n",
       "    </tr>\n",
       "    <tr>\n",
       "      <th>CM_BLDLOSS</th>\n",
       "      <td>-0.000005</td>\n",
       "      <td>-0.000240</td>\n",
       "      <td>-0.001493</td>\n",
       "      <td>-0.000277</td>\n",
       "      <td>-0.007185</td>\n",
       "      <td>-0.000131</td>\n",
       "      <td>-0.002104</td>\n",
       "      <td>-0.000893</td>\n",
       "      <td>-0.000689</td>\n",
       "      <td>-0.002334</td>\n",
       "      <td>...</td>\n",
       "      <td>-0.001269</td>\n",
       "      <td>-0.000178</td>\n",
       "      <td>-0.001650</td>\n",
       "      <td>-0.000219</td>\n",
       "      <td>-0.000010</td>\n",
       "      <td>-0.002882</td>\n",
       "      <td>-0.000334</td>\n",
       "      <td>-0.000016</td>\n",
       "      <td>-0.000057</td>\n",
       "      <td>-0.000512</td>\n",
       "    </tr>\n",
       "    <tr>\n",
       "      <th>CM_CHF</th>\n",
       "      <td>-0.000010</td>\n",
       "      <td>-0.000198</td>\n",
       "      <td>-0.001551</td>\n",
       "      <td>-0.000073</td>\n",
       "      <td>-0.000131</td>\n",
       "      <td>0.003806</td>\n",
       "      <td>-0.001316</td>\n",
       "      <td>0.003532</td>\n",
       "      <td>-0.000345</td>\n",
       "      <td>-0.001478</td>\n",
       "      <td>...</td>\n",
       "      <td>-0.000862</td>\n",
       "      <td>-0.000319</td>\n",
       "      <td>-0.000966</td>\n",
       "      <td>-0.000157</td>\n",
       "      <td>-0.000595</td>\n",
       "      <td>0.006563</td>\n",
       "      <td>-0.000183</td>\n",
       "      <td>0.000000</td>\n",
       "      <td>-0.001050</td>\n",
       "      <td>-0.000877</td>\n",
       "    </tr>\n",
       "    <tr>\n",
       "      <th>CM_CHRNLUNG</th>\n",
       "      <td>-0.000266</td>\n",
       "      <td>0.016028</td>\n",
       "      <td>-0.002312</td>\n",
       "      <td>-0.007227</td>\n",
       "      <td>-0.002104</td>\n",
       "      <td>-0.001316</td>\n",
       "      <td>0.000020</td>\n",
       "      <td>-0.009240</td>\n",
       "      <td>0.001209</td>\n",
       "      <td>0.015111</td>\n",
       "      <td>...</td>\n",
       "      <td>0.000873</td>\n",
       "      <td>-0.003911</td>\n",
       "      <td>-0.007136</td>\n",
       "      <td>0.003912</td>\n",
       "      <td>-0.000334</td>\n",
       "      <td>-0.009325</td>\n",
       "      <td>-0.004705</td>\n",
       "      <td>-0.000078</td>\n",
       "      <td>-0.000423</td>\n",
       "      <td>-0.004269</td>\n",
       "    </tr>\n",
       "    <tr>\n",
       "      <th>CM_COAG</th>\n",
       "      <td>-0.000131</td>\n",
       "      <td>-0.003415</td>\n",
       "      <td>-0.018025</td>\n",
       "      <td>-0.001828</td>\n",
       "      <td>-0.000893</td>\n",
       "      <td>0.003532</td>\n",
       "      <td>-0.009240</td>\n",
       "      <td>-0.028806</td>\n",
       "      <td>-0.000222</td>\n",
       "      <td>-0.003529</td>\n",
       "      <td>...</td>\n",
       "      <td>-0.001087</td>\n",
       "      <td>-0.001342</td>\n",
       "      <td>-0.010454</td>\n",
       "      <td>-0.001723</td>\n",
       "      <td>-0.000157</td>\n",
       "      <td>-0.013214</td>\n",
       "      <td>-0.001201</td>\n",
       "      <td>-0.000021</td>\n",
       "      <td>-0.000345</td>\n",
       "      <td>-0.003781</td>\n",
       "    </tr>\n",
       "    <tr>\n",
       "      <th>CM_DEPRESS</th>\n",
       "      <td>-0.000251</td>\n",
       "      <td>0.009416</td>\n",
       "      <td>0.000520</td>\n",
       "      <td>0.001177</td>\n",
       "      <td>-0.000689</td>\n",
       "      <td>-0.000345</td>\n",
       "      <td>0.001209</td>\n",
       "      <td>-0.000222</td>\n",
       "      <td>0.004372</td>\n",
       "      <td>0.009119</td>\n",
       "      <td>...</td>\n",
       "      <td>-0.004735</td>\n",
       "      <td>-0.002047</td>\n",
       "      <td>-0.003050</td>\n",
       "      <td>0.002263</td>\n",
       "      <td>-0.000073</td>\n",
       "      <td>0.007997</td>\n",
       "      <td>-0.001206</td>\n",
       "      <td>-0.000010</td>\n",
       "      <td>-0.000146</td>\n",
       "      <td>0.001449</td>\n",
       "    </tr>\n",
       "    <tr>\n",
       "      <th>CM_DM</th>\n",
       "      <td>-0.000355</td>\n",
       "      <td>0.010013</td>\n",
       "      <td>0.046577</td>\n",
       "      <td>0.018889</td>\n",
       "      <td>-0.002334</td>\n",
       "      <td>-0.001478</td>\n",
       "      <td>0.015111</td>\n",
       "      <td>-0.003529</td>\n",
       "      <td>0.009119</td>\n",
       "      <td>0.090255</td>\n",
       "      <td>...</td>\n",
       "      <td>0.022665</td>\n",
       "      <td>-0.001643</td>\n",
       "      <td>0.017427</td>\n",
       "      <td>0.000620</td>\n",
       "      <td>-0.000282</td>\n",
       "      <td>0.027662</td>\n",
       "      <td>-0.004261</td>\n",
       "      <td>-0.000094</td>\n",
       "      <td>-0.000496</td>\n",
       "      <td>-0.006433</td>\n",
       "    </tr>\n",
       "    <tr>\n",
       "      <th>CM_DMCX</th>\n",
       "      <td>-0.000068</td>\n",
       "      <td>-0.001754</td>\n",
       "      <td>-0.004415</td>\n",
       "      <td>-0.001833</td>\n",
       "      <td>-0.001029</td>\n",
       "      <td>0.007565</td>\n",
       "      <td>-0.001850</td>\n",
       "      <td>0.001649</td>\n",
       "      <td>-0.000084</td>\n",
       "      <td>0.000000</td>\n",
       "      <td>...</td>\n",
       "      <td>0.006318</td>\n",
       "      <td>-0.002658</td>\n",
       "      <td>-0.019167</td>\n",
       "      <td>0.000524</td>\n",
       "      <td>-0.000157</td>\n",
       "      <td>-0.007985</td>\n",
       "      <td>-0.000956</td>\n",
       "      <td>-0.000031</td>\n",
       "      <td>-0.000251</td>\n",
       "      <td>0.004787</td>\n",
       "    </tr>\n",
       "    <tr>\n",
       "      <th>CM_DRUG</th>\n",
       "      <td>-0.000251</td>\n",
       "      <td>0.006481</td>\n",
       "      <td>0.000315</td>\n",
       "      <td>-0.000559</td>\n",
       "      <td>-0.000188</td>\n",
       "      <td>-0.000146</td>\n",
       "      <td>0.013504</td>\n",
       "      <td>-0.001660</td>\n",
       "      <td>0.000456</td>\n",
       "      <td>0.014386</td>\n",
       "      <td>...</td>\n",
       "      <td>-0.001246</td>\n",
       "      <td>-0.000439</td>\n",
       "      <td>0.001255</td>\n",
       "      <td>0.005727</td>\n",
       "      <td>-0.000037</td>\n",
       "      <td>0.004406</td>\n",
       "      <td>-0.000251</td>\n",
       "      <td>-0.000016</td>\n",
       "      <td>-0.000047</td>\n",
       "      <td>-0.000903</td>\n",
       "    </tr>\n",
       "    <tr>\n",
       "      <th>CM_HTN_C</th>\n",
       "      <td>-0.000992</td>\n",
       "      <td>0.034582</td>\n",
       "      <td>0.037933</td>\n",
       "      <td>0.005658</td>\n",
       "      <td>-0.005660</td>\n",
       "      <td>0.005095</td>\n",
       "      <td>0.013329</td>\n",
       "      <td>-0.023870</td>\n",
       "      <td>0.005350</td>\n",
       "      <td>0.071287</td>\n",
       "      <td>...</td>\n",
       "      <td>0.015312</td>\n",
       "      <td>-0.004398</td>\n",
       "      <td>-0.026137</td>\n",
       "      <td>0.000992</td>\n",
       "      <td>-0.000600</td>\n",
       "      <td>0.033990</td>\n",
       "      <td>-0.006708</td>\n",
       "      <td>-0.000204</td>\n",
       "      <td>-0.001258</td>\n",
       "      <td>-0.006124</td>\n",
       "    </tr>\n",
       "    <tr>\n",
       "      <th>CM_HYPOTHY</th>\n",
       "      <td>-0.000094</td>\n",
       "      <td>-0.001728</td>\n",
       "      <td>-0.015157</td>\n",
       "      <td>0.003372</td>\n",
       "      <td>-0.001196</td>\n",
       "      <td>-0.000512</td>\n",
       "      <td>-0.010356</td>\n",
       "      <td>0.001905</td>\n",
       "      <td>-0.006032</td>\n",
       "      <td>-0.002176</td>\n",
       "      <td>...</td>\n",
       "      <td>0.000225</td>\n",
       "      <td>-0.002303</td>\n",
       "      <td>-0.017524</td>\n",
       "      <td>0.000070</td>\n",
       "      <td>-0.000125</td>\n",
       "      <td>0.001375</td>\n",
       "      <td>-0.001859</td>\n",
       "      <td>-0.000021</td>\n",
       "      <td>-0.000193</td>\n",
       "      <td>-0.003718</td>\n",
       "    </tr>\n",
       "    <tr>\n",
       "      <th>CM_LIVER</th>\n",
       "      <td>-0.000162</td>\n",
       "      <td>-0.003013</td>\n",
       "      <td>-0.000248</td>\n",
       "      <td>-0.000559</td>\n",
       "      <td>-0.000282</td>\n",
       "      <td>-0.000115</td>\n",
       "      <td>0.003529</td>\n",
       "      <td>-0.003493</td>\n",
       "      <td>0.002336</td>\n",
       "      <td>-0.006188</td>\n",
       "      <td>...</td>\n",
       "      <td>0.000216</td>\n",
       "      <td>-0.000240</td>\n",
       "      <td>-0.002814</td>\n",
       "      <td>-0.000987</td>\n",
       "      <td>-0.000037</td>\n",
       "      <td>-0.000494</td>\n",
       "      <td>-0.000444</td>\n",
       "      <td>-0.000010</td>\n",
       "      <td>-0.000063</td>\n",
       "      <td>-0.001055</td>\n",
       "    </tr>\n",
       "    <tr>\n",
       "      <th>CM_LYMPH</th>\n",
       "      <td>-0.000026</td>\n",
       "      <td>-0.000084</td>\n",
       "      <td>-0.001901</td>\n",
       "      <td>-0.000251</td>\n",
       "      <td>-0.000073</td>\n",
       "      <td>-0.000031</td>\n",
       "      <td>0.002994</td>\n",
       "      <td>-0.000909</td>\n",
       "      <td>-0.000475</td>\n",
       "      <td>-0.001467</td>\n",
       "      <td>...</td>\n",
       "      <td>-0.000658</td>\n",
       "      <td>-0.000078</td>\n",
       "      <td>-0.000914</td>\n",
       "      <td>-0.000125</td>\n",
       "      <td>-0.000005</td>\n",
       "      <td>0.002310</td>\n",
       "      <td>-0.000151</td>\n",
       "      <td>0.000000</td>\n",
       "      <td>-0.000010</td>\n",
       "      <td>-0.000371</td>\n",
       "    </tr>\n",
       "    <tr>\n",
       "      <th>CM_LYTES</th>\n",
       "      <td>-0.000397</td>\n",
       "      <td>-0.002001</td>\n",
       "      <td>-0.015028</td>\n",
       "      <td>-0.002577</td>\n",
       "      <td>-0.002851</td>\n",
       "      <td>0.001668</td>\n",
       "      <td>-0.027420</td>\n",
       "      <td>-0.020378</td>\n",
       "      <td>0.000298</td>\n",
       "      <td>-0.018897</td>\n",
       "      <td>...</td>\n",
       "      <td>-0.014973</td>\n",
       "      <td>0.002610</td>\n",
       "      <td>-0.027263</td>\n",
       "      <td>-0.004144</td>\n",
       "      <td>-0.000517</td>\n",
       "      <td>-0.013567</td>\n",
       "      <td>-0.004109</td>\n",
       "      <td>-0.000089</td>\n",
       "      <td>-0.000909</td>\n",
       "      <td>-0.009788</td>\n",
       "    </tr>\n",
       "    <tr>\n",
       "      <th>CM_METS</th>\n",
       "      <td>-0.000010</td>\n",
       "      <td>-0.000178</td>\n",
       "      <td>0.001480</td>\n",
       "      <td>-0.000167</td>\n",
       "      <td>-0.000157</td>\n",
       "      <td>-0.000104</td>\n",
       "      <td>-0.002292</td>\n",
       "      <td>-0.000903</td>\n",
       "      <td>-0.000783</td>\n",
       "      <td>0.006317</td>\n",
       "      <td>...</td>\n",
       "      <td>-0.000726</td>\n",
       "      <td>-0.000183</td>\n",
       "      <td>-0.001305</td>\n",
       "      <td>-0.000157</td>\n",
       "      <td>-0.000021</td>\n",
       "      <td>-0.002010</td>\n",
       "      <td>0.000000</td>\n",
       "      <td>-0.000010</td>\n",
       "      <td>-0.000047</td>\n",
       "      <td>-0.000997</td>\n",
       "    </tr>\n",
       "    <tr>\n",
       "      <th>CM_NEURO</th>\n",
       "      <td>-0.000078</td>\n",
       "      <td>-0.002172</td>\n",
       "      <td>0.002802</td>\n",
       "      <td>0.002472</td>\n",
       "      <td>-0.000553</td>\n",
       "      <td>-0.000512</td>\n",
       "      <td>0.002405</td>\n",
       "      <td>-0.004136</td>\n",
       "      <td>-0.004770</td>\n",
       "      <td>0.000019</td>\n",
       "      <td>...</td>\n",
       "      <td>-0.007540</td>\n",
       "      <td>-0.003598</td>\n",
       "      <td>-0.004640</td>\n",
       "      <td>0.004814</td>\n",
       "      <td>-0.000110</td>\n",
       "      <td>-0.011146</td>\n",
       "      <td>-0.001070</td>\n",
       "      <td>-0.000021</td>\n",
       "      <td>-0.000172</td>\n",
       "      <td>-0.003091</td>\n",
       "    </tr>\n",
       "    <tr>\n",
       "      <th>CM_OBESE</th>\n",
       "      <td>-0.000094</td>\n",
       "      <td>0.003096</td>\n",
       "      <td>-0.002431</td>\n",
       "      <td>0.004297</td>\n",
       "      <td>-0.001269</td>\n",
       "      <td>-0.000862</td>\n",
       "      <td>0.000873</td>\n",
       "      <td>-0.001087</td>\n",
       "      <td>-0.004735</td>\n",
       "      <td>0.022665</td>\n",
       "      <td>...</td>\n",
       "      <td>0.016165</td>\n",
       "      <td>-0.002679</td>\n",
       "      <td>-0.016258</td>\n",
       "      <td>-0.001314</td>\n",
       "      <td>-0.000115</td>\n",
       "      <td>-0.012545</td>\n",
       "      <td>-0.001446</td>\n",
       "      <td>-0.000073</td>\n",
       "      <td>-0.000282</td>\n",
       "      <td>-0.003034</td>\n",
       "    </tr>\n",
       "    <tr>\n",
       "      <th>CM_PARA</th>\n",
       "      <td>-0.000021</td>\n",
       "      <td>-0.000407</td>\n",
       "      <td>-0.000478</td>\n",
       "      <td>-0.000418</td>\n",
       "      <td>-0.000178</td>\n",
       "      <td>-0.000319</td>\n",
       "      <td>-0.003911</td>\n",
       "      <td>-0.001342</td>\n",
       "      <td>-0.002047</td>\n",
       "      <td>-0.001643</td>\n",
       "      <td>...</td>\n",
       "      <td>-0.002679</td>\n",
       "      <td>-0.007922</td>\n",
       "      <td>-0.003650</td>\n",
       "      <td>-0.000783</td>\n",
       "      <td>-0.000047</td>\n",
       "      <td>-0.001241</td>\n",
       "      <td>-0.000277</td>\n",
       "      <td>0.000000</td>\n",
       "      <td>-0.000084</td>\n",
       "      <td>-0.001347</td>\n",
       "    </tr>\n",
       "    <tr>\n",
       "      <th>CM_PERIVASC</th>\n",
       "      <td>-0.000120</td>\n",
       "      <td>0.004041</td>\n",
       "      <td>-0.013127</td>\n",
       "      <td>0.000409</td>\n",
       "      <td>-0.001650</td>\n",
       "      <td>-0.000966</td>\n",
       "      <td>-0.007136</td>\n",
       "      <td>-0.010454</td>\n",
       "      <td>-0.003050</td>\n",
       "      <td>0.017427</td>\n",
       "      <td>...</td>\n",
       "      <td>-0.016258</td>\n",
       "      <td>-0.003650</td>\n",
       "      <td>-0.031789</td>\n",
       "      <td>-0.004590</td>\n",
       "      <td>-0.000183</td>\n",
       "      <td>-0.017232</td>\n",
       "      <td>-0.002433</td>\n",
       "      <td>-0.000068</td>\n",
       "      <td>-0.000355</td>\n",
       "      <td>-0.005801</td>\n",
       "    </tr>\n",
       "    <tr>\n",
       "      <th>CM_PSYCH</th>\n",
       "      <td>-0.000099</td>\n",
       "      <td>0.002263</td>\n",
       "      <td>-0.006099</td>\n",
       "      <td>-0.000841</td>\n",
       "      <td>-0.000219</td>\n",
       "      <td>-0.000157</td>\n",
       "      <td>0.003912</td>\n",
       "      <td>-0.001723</td>\n",
       "      <td>0.002263</td>\n",
       "      <td>0.000620</td>\n",
       "      <td>...</td>\n",
       "      <td>-0.001314</td>\n",
       "      <td>-0.000783</td>\n",
       "      <td>-0.004590</td>\n",
       "      <td>0.002584</td>\n",
       "      <td>-0.000010</td>\n",
       "      <td>-0.006522</td>\n",
       "      <td>0.003918</td>\n",
       "      <td>-0.000010</td>\n",
       "      <td>-0.000042</td>\n",
       "      <td>-0.001290</td>\n",
       "    </tr>\n",
       "    <tr>\n",
       "      <th>CM_PULMCIRC</th>\n",
       "      <td>-0.000005</td>\n",
       "      <td>-0.000042</td>\n",
       "      <td>-0.000366</td>\n",
       "      <td>-0.000031</td>\n",
       "      <td>-0.000010</td>\n",
       "      <td>-0.000595</td>\n",
       "      <td>-0.000334</td>\n",
       "      <td>-0.000157</td>\n",
       "      <td>-0.000073</td>\n",
       "      <td>-0.000282</td>\n",
       "      <td>...</td>\n",
       "      <td>-0.000115</td>\n",
       "      <td>-0.000047</td>\n",
       "      <td>-0.000183</td>\n",
       "      <td>-0.000010</td>\n",
       "      <td>-0.000872</td>\n",
       "      <td>-0.000386</td>\n",
       "      <td>-0.000031</td>\n",
       "      <td>0.000000</td>\n",
       "      <td>-0.000350</td>\n",
       "      <td>-0.000204</td>\n",
       "    </tr>\n",
       "    <tr>\n",
       "      <th>CM_RENLFAIL</th>\n",
       "      <td>-0.000355</td>\n",
       "      <td>0.004730</td>\n",
       "      <td>0.012402</td>\n",
       "      <td>0.006544</td>\n",
       "      <td>-0.002882</td>\n",
       "      <td>0.006563</td>\n",
       "      <td>-0.009325</td>\n",
       "      <td>-0.013214</td>\n",
       "      <td>0.007997</td>\n",
       "      <td>0.027662</td>\n",
       "      <td>...</td>\n",
       "      <td>-0.012545</td>\n",
       "      <td>-0.001241</td>\n",
       "      <td>-0.017232</td>\n",
       "      <td>-0.006522</td>\n",
       "      <td>-0.000386</td>\n",
       "      <td>0.044139</td>\n",
       "      <td>0.000399</td>\n",
       "      <td>-0.000084</td>\n",
       "      <td>-0.000658</td>\n",
       "      <td>-0.005669</td>\n",
       "    </tr>\n",
       "    <tr>\n",
       "      <th>CM_TUMOR</th>\n",
       "      <td>-0.000021</td>\n",
       "      <td>-0.000428</td>\n",
       "      <td>-0.004099</td>\n",
       "      <td>-0.000433</td>\n",
       "      <td>-0.000334</td>\n",
       "      <td>-0.000183</td>\n",
       "      <td>-0.004705</td>\n",
       "      <td>-0.001201</td>\n",
       "      <td>-0.001206</td>\n",
       "      <td>-0.004261</td>\n",
       "      <td>...</td>\n",
       "      <td>-0.001446</td>\n",
       "      <td>-0.000277</td>\n",
       "      <td>-0.002433</td>\n",
       "      <td>0.003918</td>\n",
       "      <td>-0.000031</td>\n",
       "      <td>0.000399</td>\n",
       "      <td>-0.006068</td>\n",
       "      <td>0.000000</td>\n",
       "      <td>-0.000089</td>\n",
       "      <td>-0.001023</td>\n",
       "    </tr>\n",
       "    <tr>\n",
       "      <th>CM_ULCER</th>\n",
       "      <td>0.000000</td>\n",
       "      <td>-0.000021</td>\n",
       "      <td>-0.000141</td>\n",
       "      <td>-0.000016</td>\n",
       "      <td>-0.000016</td>\n",
       "      <td>0.000000</td>\n",
       "      <td>-0.000078</td>\n",
       "      <td>-0.000021</td>\n",
       "      <td>-0.000010</td>\n",
       "      <td>-0.000094</td>\n",
       "      <td>...</td>\n",
       "      <td>-0.000073</td>\n",
       "      <td>0.000000</td>\n",
       "      <td>-0.000068</td>\n",
       "      <td>-0.000010</td>\n",
       "      <td>0.000000</td>\n",
       "      <td>-0.000084</td>\n",
       "      <td>0.000000</td>\n",
       "      <td>-0.000277</td>\n",
       "      <td>0.000000</td>\n",
       "      <td>-0.000021</td>\n",
       "    </tr>\n",
       "    <tr>\n",
       "      <th>CM_VALVE</th>\n",
       "      <td>-0.000005</td>\n",
       "      <td>-0.000052</td>\n",
       "      <td>-0.000574</td>\n",
       "      <td>-0.000031</td>\n",
       "      <td>-0.000057</td>\n",
       "      <td>-0.001050</td>\n",
       "      <td>-0.000423</td>\n",
       "      <td>-0.000345</td>\n",
       "      <td>-0.000146</td>\n",
       "      <td>-0.000496</td>\n",
       "      <td>...</td>\n",
       "      <td>-0.000282</td>\n",
       "      <td>-0.000084</td>\n",
       "      <td>-0.000355</td>\n",
       "      <td>-0.000042</td>\n",
       "      <td>-0.000350</td>\n",
       "      <td>-0.000658</td>\n",
       "      <td>-0.000089</td>\n",
       "      <td>0.000000</td>\n",
       "      <td>-0.001577</td>\n",
       "      <td>-0.000292</td>\n",
       "    </tr>\n",
       "    <tr>\n",
       "      <th>CM_WGHTLOSS</th>\n",
       "      <td>-0.000057</td>\n",
       "      <td>0.002702</td>\n",
       "      <td>0.006739</td>\n",
       "      <td>-0.001159</td>\n",
       "      <td>-0.000512</td>\n",
       "      <td>-0.000877</td>\n",
       "      <td>-0.004269</td>\n",
       "      <td>-0.003781</td>\n",
       "      <td>0.001449</td>\n",
       "      <td>-0.006433</td>\n",
       "      <td>...</td>\n",
       "      <td>-0.003034</td>\n",
       "      <td>-0.001347</td>\n",
       "      <td>-0.005801</td>\n",
       "      <td>-0.001290</td>\n",
       "      <td>-0.000204</td>\n",
       "      <td>-0.005669</td>\n",
       "      <td>-0.001023</td>\n",
       "      <td>-0.000021</td>\n",
       "      <td>-0.000292</td>\n",
       "      <td>-0.009584</td>\n",
       "    </tr>\n",
       "  </tbody>\n",
       "</table>\n",
       "<p>29 rows × 29 columns</p>\n",
       "</div>"
      ],
      "text/plain": [
       "              CM_AIDS  CM_ALCOHOL  CM_ANEMDEF   CM_ARTH  CM_BLDLOSS    CM_CHF  \\\n",
       "CM_AIDS     -0.001426   -0.000089   -0.000324 -0.000031   -0.000005 -0.000010   \n",
       "CM_ALCOHOL  -0.000089    0.037320    0.011925 -0.000486   -0.000240 -0.000198   \n",
       "CM_ANEMDEF  -0.000324    0.011925    0.030688  0.002469   -0.001493 -0.001551   \n",
       "CM_ARTH     -0.000031   -0.000486    0.002469  0.003890   -0.000277 -0.000073   \n",
       "CM_BLDLOSS  -0.000005   -0.000240   -0.001493 -0.000277   -0.007185 -0.000131   \n",
       "CM_CHF      -0.000010   -0.000198   -0.001551 -0.000073   -0.000131  0.003806   \n",
       "CM_CHRNLUNG -0.000266    0.016028   -0.002312 -0.007227   -0.002104 -0.001316   \n",
       "CM_COAG     -0.000131   -0.003415   -0.018025 -0.001828   -0.000893  0.003532   \n",
       "CM_DEPRESS  -0.000251    0.009416    0.000520  0.001177   -0.000689 -0.000345   \n",
       "CM_DM       -0.000355    0.010013    0.046577  0.018889   -0.002334 -0.001478   \n",
       "CM_DMCX     -0.000068   -0.001754   -0.004415 -0.001833   -0.001029  0.007565   \n",
       "CM_DRUG     -0.000251    0.006481    0.000315 -0.000559   -0.000188 -0.000146   \n",
       "CM_HTN_C    -0.000992    0.034582    0.037933  0.005658   -0.005660  0.005095   \n",
       "CM_HYPOTHY  -0.000094   -0.001728   -0.015157  0.003372   -0.001196 -0.000512   \n",
       "CM_LIVER    -0.000162   -0.003013   -0.000248 -0.000559   -0.000282 -0.000115   \n",
       "CM_LYMPH    -0.000026   -0.000084   -0.001901 -0.000251   -0.000073 -0.000031   \n",
       "CM_LYTES    -0.000397   -0.002001   -0.015028 -0.002577   -0.002851  0.001668   \n",
       "CM_METS     -0.000010   -0.000178    0.001480 -0.000167   -0.000157 -0.000104   \n",
       "CM_NEURO    -0.000078   -0.002172    0.002802  0.002472   -0.000553 -0.000512   \n",
       "CM_OBESE    -0.000094    0.003096   -0.002431  0.004297   -0.001269 -0.000862   \n",
       "CM_PARA     -0.000021   -0.000407   -0.000478 -0.000418   -0.000178 -0.000319   \n",
       "CM_PERIVASC -0.000120    0.004041   -0.013127  0.000409   -0.001650 -0.000966   \n",
       "CM_PSYCH    -0.000099    0.002263   -0.006099 -0.000841   -0.000219 -0.000157   \n",
       "CM_PULMCIRC -0.000005   -0.000042   -0.000366 -0.000031   -0.000010 -0.000595   \n",
       "CM_RENLFAIL -0.000355    0.004730    0.012402  0.006544   -0.002882  0.006563   \n",
       "CM_TUMOR    -0.000021   -0.000428   -0.004099 -0.000433   -0.000334 -0.000183   \n",
       "CM_ULCER     0.000000   -0.000021   -0.000141 -0.000016   -0.000016  0.000000   \n",
       "CM_VALVE    -0.000005   -0.000052   -0.000574 -0.000031   -0.000057 -0.001050   \n",
       "CM_WGHTLOSS -0.000057    0.002702    0.006739 -0.001159   -0.000512 -0.000877   \n",
       "\n",
       "             CM_CHRNLUNG   CM_COAG  CM_DEPRESS     CM_DM     ...       \\\n",
       "CM_AIDS        -0.000266 -0.000131   -0.000251 -0.000355     ...        \n",
       "CM_ALCOHOL      0.016028 -0.003415    0.009416  0.010013     ...        \n",
       "CM_ANEMDEF     -0.002312 -0.018025    0.000520  0.046577     ...        \n",
       "CM_ARTH        -0.007227 -0.001828    0.001177  0.018889     ...        \n",
       "CM_BLDLOSS     -0.002104 -0.000893   -0.000689 -0.002334     ...        \n",
       "CM_CHF         -0.001316  0.003532   -0.000345 -0.001478     ...        \n",
       "CM_CHRNLUNG     0.000020 -0.009240    0.001209  0.015111     ...        \n",
       "CM_COAG        -0.009240 -0.028806   -0.000222 -0.003529     ...        \n",
       "CM_DEPRESS      0.001209 -0.000222    0.004372  0.009119     ...        \n",
       "CM_DM           0.015111 -0.003529    0.009119  0.090255     ...        \n",
       "CM_DMCX        -0.001850  0.001649   -0.000084  0.000000     ...        \n",
       "CM_DRUG         0.013504 -0.001660    0.000456  0.014386     ...        \n",
       "CM_HTN_C        0.013329 -0.023870    0.005350  0.071287     ...        \n",
       "CM_HYPOTHY     -0.010356  0.001905   -0.006032 -0.002176     ...        \n",
       "CM_LIVER        0.003529 -0.003493    0.002336 -0.006188     ...        \n",
       "CM_LYMPH        0.002994 -0.000909   -0.000475 -0.001467     ...        \n",
       "CM_LYTES       -0.027420 -0.020378    0.000298 -0.018897     ...        \n",
       "CM_METS        -0.002292 -0.000903   -0.000783  0.006317     ...        \n",
       "CM_NEURO        0.002405 -0.004136   -0.004770  0.000019     ...        \n",
       "CM_OBESE        0.000873 -0.001087   -0.004735  0.022665     ...        \n",
       "CM_PARA        -0.003911 -0.001342   -0.002047 -0.001643     ...        \n",
       "CM_PERIVASC    -0.007136 -0.010454   -0.003050  0.017427     ...        \n",
       "CM_PSYCH        0.003912 -0.001723    0.002263  0.000620     ...        \n",
       "CM_PULMCIRC    -0.000334 -0.000157   -0.000073 -0.000282     ...        \n",
       "CM_RENLFAIL    -0.009325 -0.013214    0.007997  0.027662     ...        \n",
       "CM_TUMOR       -0.004705 -0.001201   -0.001206 -0.004261     ...        \n",
       "CM_ULCER       -0.000078 -0.000021   -0.000010 -0.000094     ...        \n",
       "CM_VALVE       -0.000423 -0.000345   -0.000146 -0.000496     ...        \n",
       "CM_WGHTLOSS    -0.004269 -0.003781    0.001449 -0.006433     ...        \n",
       "\n",
       "             CM_OBESE   CM_PARA  CM_PERIVASC  CM_PSYCH  CM_PULMCIRC  \\\n",
       "CM_AIDS     -0.000094 -0.000021    -0.000120 -0.000099    -0.000005   \n",
       "CM_ALCOHOL   0.003096 -0.000407     0.004041  0.002263    -0.000042   \n",
       "CM_ANEMDEF  -0.002431 -0.000478    -0.013127 -0.006099    -0.000366   \n",
       "CM_ARTH      0.004297 -0.000418     0.000409 -0.000841    -0.000031   \n",
       "CM_BLDLOSS  -0.001269 -0.000178    -0.001650 -0.000219    -0.000010   \n",
       "CM_CHF      -0.000862 -0.000319    -0.000966 -0.000157    -0.000595   \n",
       "CM_CHRNLUNG  0.000873 -0.003911    -0.007136  0.003912    -0.000334   \n",
       "CM_COAG     -0.001087 -0.001342    -0.010454 -0.001723    -0.000157   \n",
       "CM_DEPRESS  -0.004735 -0.002047    -0.003050  0.002263    -0.000073   \n",
       "CM_DM        0.022665 -0.001643     0.017427  0.000620    -0.000282   \n",
       "CM_DMCX      0.006318 -0.002658    -0.019167  0.000524    -0.000157   \n",
       "CM_DRUG     -0.001246 -0.000439     0.001255  0.005727    -0.000037   \n",
       "CM_HTN_C     0.015312 -0.004398    -0.026137  0.000992    -0.000600   \n",
       "CM_HYPOTHY   0.000225 -0.002303    -0.017524  0.000070    -0.000125   \n",
       "CM_LIVER     0.000216 -0.000240    -0.002814 -0.000987    -0.000037   \n",
       "CM_LYMPH    -0.000658 -0.000078    -0.000914 -0.000125    -0.000005   \n",
       "CM_LYTES    -0.014973  0.002610    -0.027263 -0.004144    -0.000517   \n",
       "CM_METS     -0.000726 -0.000183    -0.001305 -0.000157    -0.000021   \n",
       "CM_NEURO    -0.007540 -0.003598    -0.004640  0.004814    -0.000110   \n",
       "CM_OBESE     0.016165 -0.002679    -0.016258 -0.001314    -0.000115   \n",
       "CM_PARA     -0.002679 -0.007922    -0.003650 -0.000783    -0.000047   \n",
       "CM_PERIVASC -0.016258 -0.003650    -0.031789 -0.004590    -0.000183   \n",
       "CM_PSYCH    -0.001314 -0.000783    -0.004590  0.002584    -0.000010   \n",
       "CM_PULMCIRC -0.000115 -0.000047    -0.000183 -0.000010    -0.000872   \n",
       "CM_RENLFAIL -0.012545 -0.001241    -0.017232 -0.006522    -0.000386   \n",
       "CM_TUMOR    -0.001446 -0.000277    -0.002433  0.003918    -0.000031   \n",
       "CM_ULCER    -0.000073  0.000000    -0.000068 -0.000010     0.000000   \n",
       "CM_VALVE    -0.000282 -0.000084    -0.000355 -0.000042    -0.000350   \n",
       "CM_WGHTLOSS -0.003034 -0.001347    -0.005801 -0.001290    -0.000204   \n",
       "\n",
       "             CM_RENLFAIL  CM_TUMOR  CM_ULCER  CM_VALVE  CM_WGHTLOSS  \n",
       "CM_AIDS        -0.000355 -0.000021  0.000000 -0.000005    -0.000057  \n",
       "CM_ALCOHOL      0.004730 -0.000428 -0.000021 -0.000052     0.002702  \n",
       "CM_ANEMDEF      0.012402 -0.004099 -0.000141 -0.000574     0.006739  \n",
       "CM_ARTH         0.006544 -0.000433 -0.000016 -0.000031    -0.001159  \n",
       "CM_BLDLOSS     -0.002882 -0.000334 -0.000016 -0.000057    -0.000512  \n",
       "CM_CHF          0.006563 -0.000183  0.000000 -0.001050    -0.000877  \n",
       "CM_CHRNLUNG    -0.009325 -0.004705 -0.000078 -0.000423    -0.004269  \n",
       "CM_COAG        -0.013214 -0.001201 -0.000021 -0.000345    -0.003781  \n",
       "CM_DEPRESS      0.007997 -0.001206 -0.000010 -0.000146     0.001449  \n",
       "CM_DM           0.027662 -0.004261 -0.000094 -0.000496    -0.006433  \n",
       "CM_DMCX        -0.007985 -0.000956 -0.000031 -0.000251     0.004787  \n",
       "CM_DRUG         0.004406 -0.000251 -0.000016 -0.000047    -0.000903  \n",
       "CM_HTN_C        0.033990 -0.006708 -0.000204 -0.001258    -0.006124  \n",
       "CM_HYPOTHY      0.001375 -0.001859 -0.000021 -0.000193    -0.003718  \n",
       "CM_LIVER       -0.000494 -0.000444 -0.000010 -0.000063    -0.001055  \n",
       "CM_LYMPH        0.002310 -0.000151  0.000000 -0.000010    -0.000371  \n",
       "CM_LYTES       -0.013567 -0.004109 -0.000089 -0.000909    -0.009788  \n",
       "CM_METS        -0.002010  0.000000 -0.000010 -0.000047    -0.000997  \n",
       "CM_NEURO       -0.011146 -0.001070 -0.000021 -0.000172    -0.003091  \n",
       "CM_OBESE       -0.012545 -0.001446 -0.000073 -0.000282    -0.003034  \n",
       "CM_PARA        -0.001241 -0.000277  0.000000 -0.000084    -0.001347  \n",
       "CM_PERIVASC    -0.017232 -0.002433 -0.000068 -0.000355    -0.005801  \n",
       "CM_PSYCH       -0.006522  0.003918 -0.000010 -0.000042    -0.001290  \n",
       "CM_PULMCIRC    -0.000386 -0.000031  0.000000 -0.000350    -0.000204  \n",
       "CM_RENLFAIL     0.044139  0.000399 -0.000084 -0.000658    -0.005669  \n",
       "CM_TUMOR        0.000399 -0.006068  0.000000 -0.000089    -0.001023  \n",
       "CM_ULCER       -0.000084  0.000000 -0.000277  0.000000    -0.000021  \n",
       "CM_VALVE       -0.000658 -0.000089  0.000000 -0.001577    -0.000292  \n",
       "CM_WGHTLOSS    -0.005669 -0.001023 -0.000021 -0.000292    -0.009584  \n",
       "\n",
       "[29 rows x 29 columns]"
      ]
     },
     "execution_count": 51,
     "metadata": {},
     "output_type": "execute_result"
    }
   ],
   "source": [
    "diff"
   ]
  }
 ],
 "metadata": {
  "kernelspec": {
   "display_name": "Python 3",
   "language": "python",
   "name": "python3"
  },
  "language_info": {
   "codemirror_mode": {
    "name": "ipython",
    "version": 3
   },
   "file_extension": ".py",
   "mimetype": "text/x-python",
   "name": "python",
   "nbconvert_exporter": "python",
   "pygments_lexer": "ipython3",
   "version": "3.5.4"
  }
 },
 "nbformat": 4,
 "nbformat_minor": 2
}
