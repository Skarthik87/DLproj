{
 "cells": [
  {
   "cell_type": "markdown",
   "metadata": {},
   "source": [
    "# Preprocessing of the NRD data"
   ]
  },
  {
   "cell_type": "code",
   "execution_count": 1,
   "metadata": {},
   "outputs": [],
   "source": [
    "import pandas as pd\n",
    "import numpy as np\n",
    "import matplotlib.pyplot as plt\n",
    "import time"
   ]
  },
  {
   "cell_type": "code",
   "execution_count": 8,
   "metadata": {},
   "outputs": [],
   "source": [
    "pd.set_option('display.expand_frame_repr', False)"
   ]
  },
  {
   "cell_type": "code",
   "execution_count": 2,
   "metadata": {},
   "outputs": [],
   "source": [
    "%matplotlib inline"
   ]
  },
  {
   "cell_type": "code",
   "execution_count": 3,
   "metadata": {},
   "outputs": [],
   "source": [
    "path = '/nfs/turbo/intmed-bnallamo-turbo/wsliu/Data/NRD/'"
   ]
  },
  {
   "cell_type": "markdown",
   "metadata": {},
   "source": [
    "## Creating readmission labels\n",
    "In this section we create two labels for each admission: (1) whether this admission is planned (2) whether this admission is followed by a 30-day readmission. This applies to admission with all DX1. \n",
    "\n",
    "Defining the variable(coloumn) names, data types, and missing values (these are extracted from the NRD SAS load programs):"
   ]
  },
  {
   "cell_type": "code",
   "execution_count": 4,
   "metadata": {},
   "outputs": [],
   "source": [
    "core_cols = ['AGE', 'AWEEKEND', 'DIED', 'DISCWT', 'DISPUNIFORM', 'DMONTH', 'DQTR', 'DRG', 'DRGVER', 'DRG_NoPOA', 'DX1', 'DX2', 'DX3', 'DX4', 'DX5', 'DX6', 'DX7', 'DX8', 'DX9', 'DX10', 'DX11', 'DX12', 'DX13', 'DX14', 'DX15', 'DX16', 'DX17', 'DX18', 'DX19', 'DX20', 'DX21', 'DX22', 'DX23', 'DX24', 'DX25', 'DX26', 'DX27', 'DX28', 'DX29', 'DX30', 'DXCCS1', 'DXCCS2', 'DXCCS3', 'DXCCS4', 'DXCCS5', 'DXCCS6', 'DXCCS7', 'DXCCS8', 'DXCCS9', 'DXCCS10', 'DXCCS11', 'DXCCS12', 'DXCCS13', 'DXCCS14', 'DXCCS15', 'DXCCS16', 'DXCCS17', 'DXCCS18', 'DXCCS19', 'DXCCS20', 'DXCCS21', 'DXCCS22', 'DXCCS23', 'DXCCS24', 'DXCCS25', 'DXCCS26', 'DXCCS27', 'DXCCS28', 'DXCCS29', 'DXCCS30', 'ECODE1', 'ECODE2', 'ECODE3', 'ECODE4', 'ELECTIVE', 'E_CCS1', 'E_CCS2', 'E_CCS3', 'E_CCS4', 'FEMALE', 'HCUP_ED', 'HOSP_NRD', 'KEY_NRD', 'LOS', 'MDC', 'MDC_NoPOA', 'NCHRONIC', 'NDX', 'NECODE', 'NPR', 'NRD_DaysToEvent', 'NRD_STRATUM', 'NRD_VisitLink', 'ORPROC', 'PAY1', 'PL_NCHS', 'PR1', 'PR2', 'PR3', 'PR4', 'PR5', 'PR6', 'PR7', 'PR8', 'PR9', 'PR10', 'PR11', 'PR12', 'PR13', 'PR14', 'PR15', 'PRCCS1', 'PRCCS2', 'PRCCS3', 'PRCCS4', 'PRCCS5', 'PRCCS6', 'PRCCS7', 'PRCCS8', 'PRCCS9', 'PRCCS10', 'PRCCS11', 'PRCCS12', 'PRCCS13', 'PRCCS14', 'PRCCS15', 'PRDAY1', 'PRDAY2', 'PRDAY3', 'PRDAY4', 'PRDAY5', 'PRDAY6', 'PRDAY7', 'PRDAY8', 'PRDAY9', 'PRDAY10', 'PRDAY11', 'PRDAY12', 'PRDAY13', 'PRDAY14', 'PRDAY15', 'REHABTRANSFER', 'RESIDENT', 'SAMEDAYEVENT', 'SERVICELINE', 'TOTCHG', 'YEAR', 'ZIPINC_QRTL']\n",
    "\n",
    "core_labels = ['Age in years at admission', 'Admission day is a weekend', 'Died during hospitalization', 'Weight to discharges in AHA universe', 'Disposition of patient (uniform)', 'Discharge month', 'Discharge quarter', 'DRG in effect on discharge date', 'DRG grouper version used on discharge date', 'DRG in use on discharge date, calculated without POA', 'Diagnosis 1', 'Diagnosis 2', 'Diagnosis 3', 'Diagnosis 4', 'Diagnosis 5', 'Diagnosis 6', 'Diagnosis 7', 'Diagnosis 8', 'Diagnosis 9', 'Diagnosis 10', 'Diagnosis 11', 'Diagnosis 12', 'Diagnosis 13', 'Diagnosis 14', 'Diagnosis 15', 'Diagnosis 16', 'Diagnosis 17', 'Diagnosis 18', 'Diagnosis 19', 'Diagnosis 20', 'Diagnosis 21', 'Diagnosis 22', 'Diagnosis 23', 'Diagnosis 24', 'Diagnosis 25', 'Diagnosis 26', 'Diagnosis 27', 'Diagnosis 28', 'Diagnosis 29', 'Diagnosis 30', 'CCS: diagnosis 1', 'CCS: diagnosis 2', 'CCS: diagnosis 3', 'CCS: diagnosis 4', 'CCS: diagnosis 5', 'CCS: diagnosis 6', 'CCS: diagnosis 7', 'CCS: diagnosis 8', 'CCS: diagnosis 9', 'CCS: diagnosis 10', 'CCS: diagnosis 11', 'CCS: diagnosis 12', 'CCS: diagnosis 13', 'CCS: diagnosis 14', 'CCS: diagnosis 15', 'CCS: diagnosis 16', 'CCS: diagnosis 17', 'CCS: diagnosis 18', 'CCS: diagnosis 19', 'CCS: diagnosis 20', 'CCS: diagnosis 21', 'CCS: diagnosis 22', 'CCS: diagnosis 23', 'CCS: diagnosis 24', 'CCS: diagnosis 25', 'CCS: diagnosis 26', 'CCS: diagnosis 27', 'CCS: diagnosis 28', 'CCS: diagnosis 29', 'CCS: diagnosis 30', 'E code 1', 'E code 2', 'E code 3', 'E code 4', 'Elective versus non-elective admission', 'CCS: E Code 1', 'CCS: E Code 2', 'CCS: E Code 3', 'CCS: E Code 4', 'Indicator of sex', 'HCUP Emergency Department service indicator', 'NRD hospital identifier', 'NRD record identifier', 'Length of stay (cleaned)', 'MDC in effect on discharge date', 'MDC in use on discharge date, calculated without POA', 'Number of chronic conditions', 'Number of diagnoses on this record', 'Number of E codes on this record', 'Number of procedures on this record', 'Timing variable used to identify days between admissions', 'NRD stratum used for weighting', 'NRD visitlink', 'Major operating room procedure indicator', 'Primary expected payer (uniform)', 'Patient Location: NCHS Urban-Rural Code', 'Procedure 1', 'Procedure 2', 'Procedure 3', 'Procedure 4', 'Procedure 5', 'Procedure 6', 'Procedure 7', 'Procedure 8', 'Procedure 9', 'Procedure 10', 'Procedure 11', 'Procedure 12', 'Procedure 13', 'Procedure 14', 'Procedure 15', 'CCS: procedure 1', 'CCS: procedure 2', 'CCS: procedure 3', 'CCS: procedure 4', 'CCS: procedure 5', 'CCS: procedure 6', 'CCS: procedure 7', 'CCS: procedure 8', 'CCS: procedure 9', 'CCS: procedure 10', 'CCS: procedure 11', 'CCS: procedure 12', 'CCS: procedure 13', 'CCS: procedure 14', 'CCS: procedure 15', 'Number of days from admission to PR1', 'Number of days from admission to PR2', 'Number of days from admission to PR3', 'Number of days from admission to PR4', 'Number of days from admission to PR5', 'Number of days from admission to PR6', 'Number of days from admission to PR7', 'Number of days from admission to PR8', 'Number of days from admission to PR9', 'Number of days from admission to PR10', 'Number of days from admission to PR11', 'Number of days from admission to PR12', 'Number of days from admission to PR13', 'Number of days from admission to PR14', 'Number of days from admission to PR15', 'A combined record involving rehab transfer', 'Patient State is the same as Hospital State', 'Transfer flag indicating combination of discharges involve same day events', 'Hospital Service Line', 'Total charges (cleaned)', 'Calendar year', 'Median household income national quartile for patient ZIP Code']\n",
    "\n",
    "core_dtypes_pd = {'AGE': float,\n",
    " 'AWEEKEND': float,\n",
    " 'DIED': float,\n",
    " 'DISCWT': float,\n",
    " 'DISPUNIFORM': float,\n",
    " 'DMONTH': float,\n",
    " 'DQTR': float,\n",
    " 'DRG': float,\n",
    " 'DRGVER': float,\n",
    " 'DRG_NoPOA': float,\n",
    " 'DX1': bytes,\n",
    " 'DX10': bytes,\n",
    " 'DX11': bytes,\n",
    " 'DX12': bytes,\n",
    " 'DX13': bytes,\n",
    " 'DX14': bytes,\n",
    " 'DX15': bytes,\n",
    " 'DX16': bytes,\n",
    " 'DX17': bytes,\n",
    " 'DX18': bytes,\n",
    " 'DX19': bytes,\n",
    " 'DX2': bytes,\n",
    " 'DX20': bytes,\n",
    " 'DX21': bytes,\n",
    " 'DX22': bytes,\n",
    " 'DX23': bytes,\n",
    " 'DX24': bytes,\n",
    " 'DX25': bytes,\n",
    " 'DX26': bytes,\n",
    " 'DX27': bytes,\n",
    " 'DX28': bytes,\n",
    " 'DX29': bytes,\n",
    " 'DX3': bytes,\n",
    " 'DX30': bytes,\n",
    " 'DX4': bytes,\n",
    " 'DX5': bytes,\n",
    " 'DX6': bytes,\n",
    " 'DX7': bytes,\n",
    " 'DX8': bytes,\n",
    " 'DX9': bytes,\n",
    " 'DXCCS1': float,\n",
    " 'DXCCS10': float,\n",
    " 'DXCCS11': float,\n",
    " 'DXCCS12': float,\n",
    " 'DXCCS13': float,\n",
    " 'DXCCS14': float,\n",
    " 'DXCCS15': float,\n",
    " 'DXCCS16': float,\n",
    " 'DXCCS17': float,\n",
    " 'DXCCS18': float,\n",
    " 'DXCCS19': float,\n",
    " 'DXCCS2': float,\n",
    " 'DXCCS20': float,\n",
    " 'DXCCS21': float,\n",
    " 'DXCCS22': float,\n",
    " 'DXCCS23': float,\n",
    " 'DXCCS24': float,\n",
    " 'DXCCS25': float,\n",
    " 'DXCCS26': float,\n",
    " 'DXCCS27': float,\n",
    " 'DXCCS28': float,\n",
    " 'DXCCS29': float,\n",
    " 'DXCCS3': float,\n",
    " 'DXCCS30': float,\n",
    " 'DXCCS4': float,\n",
    " 'DXCCS5': float,\n",
    " 'DXCCS6': float,\n",
    " 'DXCCS7': float,\n",
    " 'DXCCS8': float,\n",
    " 'DXCCS9': float,\n",
    " 'ECODE1': bytes,\n",
    " 'ECODE2': bytes,\n",
    " 'ECODE3': bytes,\n",
    " 'ECODE4': bytes,\n",
    " 'ELECTIVE': float,\n",
    " 'E_CCS1': float,\n",
    " 'E_CCS2': float,\n",
    " 'E_CCS3': float,\n",
    " 'E_CCS4': float,\n",
    " 'FEMALE': float,\n",
    " 'HCUP_ED': float,\n",
    " 'HOSP_NRD': float,\n",
    " 'KEY_NRD': float,\n",
    " 'LOS': float,\n",
    " 'MDC': float,\n",
    " 'MDC_NoPOA': float,\n",
    " 'NCHRONIC': float,\n",
    " 'NDX': float,\n",
    " 'NECODE': float,\n",
    " 'NPR': float,\n",
    " 'NRD_DaysToEvent': float,\n",
    " 'NRD_STRATUM': float,\n",
    " 'NRD_VisitLink': bytes,\n",
    " 'ORPROC': float,\n",
    " 'PAY1': float,\n",
    " 'PL_NCHS': float,\n",
    " 'PR1': bytes,\n",
    " 'PR10': bytes,\n",
    " 'PR11': bytes,\n",
    " 'PR12': bytes,\n",
    " 'PR13': bytes,\n",
    " 'PR14': bytes,\n",
    " 'PR15': bytes,\n",
    " 'PR2': bytes,\n",
    " 'PR3': bytes,\n",
    " 'PR4': bytes,\n",
    " 'PR5': bytes,\n",
    " 'PR6': bytes,\n",
    " 'PR7': bytes,\n",
    " 'PR8': bytes,\n",
    " 'PR9': bytes,\n",
    " 'PRCCS1': float,\n",
    " 'PRCCS10': float,\n",
    " 'PRCCS11': float,\n",
    " 'PRCCS12': float,\n",
    " 'PRCCS13': float,\n",
    " 'PRCCS14': float,\n",
    " 'PRCCS15': float,\n",
    " 'PRCCS2': float,\n",
    " 'PRCCS3': float,\n",
    " 'PRCCS4': float,\n",
    " 'PRCCS5': float,\n",
    " 'PRCCS6': float,\n",
    " 'PRCCS7': float,\n",
    " 'PRCCS8': float,\n",
    " 'PRCCS9': float,\n",
    " 'PRDAY1': float,\n",
    " 'PRDAY10': float,\n",
    " 'PRDAY11': float,\n",
    " 'PRDAY12': float,\n",
    " 'PRDAY13': float,\n",
    " 'PRDAY14': float,\n",
    " 'PRDAY15': float,\n",
    " 'PRDAY2': float,\n",
    " 'PRDAY3': float,\n",
    " 'PRDAY4': float,\n",
    " 'PRDAY5': float,\n",
    " 'PRDAY6': float,\n",
    " 'PRDAY7': float,\n",
    " 'PRDAY8': float,\n",
    " 'PRDAY9': float,\n",
    " 'REHABTRANSFER': float,\n",
    " 'RESIDENT': float,\n",
    " 'SAMEDAYEVENT': bytes,\n",
    " 'SERVICELINE': float,\n",
    " 'TOTCHG': float,\n",
    " 'YEAR': float,\n",
    " 'ZIPINC_QRTL': float}\n",
    "\n",
    "core_dtypes_sas = ['int', 'int', 'int', 'float', 'int', 'int', 'int', 'int', 'int', 'int', 'str', 'str', 'str', 'str', 'str', 'str', 'str', 'str', 'str', 'str', 'str', 'str', 'str', 'str', 'str', 'str', 'str', 'str', 'str', 'str', 'str', 'str', 'str', 'str', 'str', 'str', 'str', 'str', 'str', 'str', 'int', 'int', 'int', 'int', 'int', 'int', 'int', 'int', 'int', 'int', 'int', 'int', 'int', 'int', 'int', 'int', 'int', 'int', 'int', 'int', 'int', 'int', 'int', 'int', 'int', 'int', 'int', 'int', 'int', 'int', 'str', 'str', 'str', 'str', 'int', 'int', 'int', 'int', 'int', 'int', 'int', 'int', 'int', 'int', 'int', 'int', 'int', 'int', 'int', 'int', 'int', 'int', 'str', 'int', 'int', 'int', 'str', 'str', 'str', 'str', 'str', 'str', 'str', 'str', 'str', 'str', 'str', 'str', 'str', 'str', 'str', 'int', 'int', 'int', 'int', 'int', 'int', 'int', 'int', 'int', 'int', 'int', 'int', 'int', 'int', 'int', 'int', 'int', 'int', 'int', 'int', 'int', 'int', 'int', 'int', 'int', 'int', 'int', 'int', 'int', 'int', 'int', 'int', 'str', 'int', 'int', 'int', 'int']\n",
    "\n",
    "core_dtypes_logic = ['continuous', 'categorical', 'categorical', 'continuous', 'categorical', 'categorical', 'categorical', 'categorical', 'categorical', 'categorical', 'embedding', 'embedding', 'embedding', 'embedding', 'embedding', 'embedding', 'embedding', 'embedding', 'embedding', 'embedding', 'embedding', 'embedding', 'embedding', 'embedding', 'embedding', 'embedding', 'embedding', 'embedding', 'embedding', 'embedding', 'embedding', 'embedding', 'embedding', 'embedding', 'embedding', 'embedding', 'embedding', 'embedding', 'embedding', 'embedding', 'categorical', 'categorical', 'categorical', 'categorical', 'categorical', 'categorical', 'categorical', 'categorical', 'categorical', 'categorical', 'categorical', 'categorical', 'categorical', 'categorical', 'categorical', 'categorical', 'categorical', 'categorical', 'categorical', 'categorical', 'categorical', 'categorical', 'categorical', 'categorical', 'categorical', 'categorical', 'categorical', 'categorical', 'categorical', 'categorical', 'embedding', 'embedding', 'embedding', 'embedding', 'categorical', 'categorical', 'categorical', 'categorical', 'categorical', 'categorical', 'categorical', 'categorical', 'categorical', 'continuous', 'categorical', 'categorical', 'categorical', 'categorical', 'categorical', 'categorical', 'continuous', 'categorical', 'embedding', 'categorical', 'categorical', 'categorical', 'embedding', 'embedding', 'embedding', 'embedding', 'embedding', 'embedding', 'embedding', 'embedding', 'embedding', 'embedding', 'embedding', 'embedding', 'embedding', 'embedding', 'embedding', 'categorical', 'categorical', 'categorical', 'categorical', 'categorical', 'categorical', 'categorical', 'categorical', 'categorical', 'categorical', 'categorical', 'categorical', 'categorical', 'categorical', 'categorical', 'continuous', 'continuous', 'continuous', 'continuous', 'continuous', 'continuous', 'continuous', 'continuous', 'continuous', 'continuous', 'continuous', 'continuous', 'continuous', 'continuous', 'continuous', 'categorical', 'categorical', 'categorical', 'categorical', 'continuous', 'categorical', 'categorical']\n",
    "\n",
    "na_values = ['-9', '-8', '-6', '-5', '-99', '-88', '-66', '-999', '-888', '-666', '-9.9', '-8.8', '-6.6', '-9999', '-8888', '-6666', '-9.99', '-8.88', '-6.66', '-99999', '-88888', '-66666', '-99.99', '-88.88', '-66.66', '-999.99', '-888.88', '-666.66', '-9999999', '-8888888', '-6666666', '-9999.99', '-8888.88', '-6666.66', '-99.9999', '-88.8888', '-66.6666', '-999999999', '-888888888', '-666666666', '-9999.9999', '-8888.8888', '-6666.6666', '-999.99999', '-888.88888', '-666.66666', '-999999999', '-888888888', '-666666666', '-99.9999999', '-88.8888888', '-66.6666666', '-99999999.99', '-88888888.88', '-66666666.66', '-99999.99999', '-88888.88888', '-66666.66666', '-999999999999', '-888888888888', '-666666666666', '-99999999999.99', '-88888888888.88', '-66666666666.66']"
   ]
  },
  {
   "cell_type": "code",
   "execution_count": 5,
   "metadata": {},
   "outputs": [],
   "source": [
    "core_var_lst = pd.DataFrame(dict(var=core_cols, label=core_labels, dtype_logic=core_dtypes_logic))"
   ]
  },
  {
   "cell_type": "code",
   "execution_count": 12,
   "metadata": {
    "scrolled": false
   },
   "outputs": [
    {
     "data": {
      "text/html": [
       "<div>\n",
       "<style scoped>\n",
       "    .dataframe tbody tr th:only-of-type {\n",
       "        vertical-align: middle;\n",
       "    }\n",
       "\n",
       "    .dataframe tbody tr th {\n",
       "        vertical-align: top;\n",
       "    }\n",
       "\n",
       "    .dataframe thead th {\n",
       "        text-align: right;\n",
       "    }\n",
       "</style>\n",
       "<table border=\"1\" class=\"dataframe\">\n",
       "  <thead>\n",
       "    <tr style=\"text-align: right;\">\n",
       "      <th></th>\n",
       "      <th>dtype_logic</th>\n",
       "      <th>label</th>\n",
       "      <th>var</th>\n",
       "    </tr>\n",
       "  </thead>\n",
       "  <tbody>\n",
       "    <tr>\n",
       "      <th>0</th>\n",
       "      <td>continuous</td>\n",
       "      <td>Age in years at admission</td>\n",
       "      <td>AGE</td>\n",
       "    </tr>\n",
       "    <tr>\n",
       "      <th>1</th>\n",
       "      <td>categorical</td>\n",
       "      <td>Admission day is a weekend</td>\n",
       "      <td>AWEEKEND</td>\n",
       "    </tr>\n",
       "    <tr>\n",
       "      <th>2</th>\n",
       "      <td>categorical</td>\n",
       "      <td>Died during hospitalization</td>\n",
       "      <td>DIED</td>\n",
       "    </tr>\n",
       "    <tr>\n",
       "      <th>3</th>\n",
       "      <td>continuous</td>\n",
       "      <td>Weight to discharges in AHA universe</td>\n",
       "      <td>DISCWT</td>\n",
       "    </tr>\n",
       "    <tr>\n",
       "      <th>4</th>\n",
       "      <td>categorical</td>\n",
       "      <td>Disposition of patient (uniform)</td>\n",
       "      <td>DISPUNIFORM</td>\n",
       "    </tr>\n",
       "    <tr>\n",
       "      <th>5</th>\n",
       "      <td>categorical</td>\n",
       "      <td>Discharge month</td>\n",
       "      <td>DMONTH</td>\n",
       "    </tr>\n",
       "    <tr>\n",
       "      <th>6</th>\n",
       "      <td>categorical</td>\n",
       "      <td>Discharge quarter</td>\n",
       "      <td>DQTR</td>\n",
       "    </tr>\n",
       "    <tr>\n",
       "      <th>7</th>\n",
       "      <td>categorical</td>\n",
       "      <td>DRG in effect on discharge date</td>\n",
       "      <td>DRG</td>\n",
       "    </tr>\n",
       "    <tr>\n",
       "      <th>8</th>\n",
       "      <td>categorical</td>\n",
       "      <td>DRG grouper version used on discharge date</td>\n",
       "      <td>DRGVER</td>\n",
       "    </tr>\n",
       "    <tr>\n",
       "      <th>9</th>\n",
       "      <td>categorical</td>\n",
       "      <td>DRG in use on discharge date, calculated witho...</td>\n",
       "      <td>DRG_NoPOA</td>\n",
       "    </tr>\n",
       "    <tr>\n",
       "      <th>10</th>\n",
       "      <td>embedding</td>\n",
       "      <td>Diagnosis 1</td>\n",
       "      <td>DX1</td>\n",
       "    </tr>\n",
       "    <tr>\n",
       "      <th>11</th>\n",
       "      <td>embedding</td>\n",
       "      <td>Diagnosis 2</td>\n",
       "      <td>DX2</td>\n",
       "    </tr>\n",
       "    <tr>\n",
       "      <th>12</th>\n",
       "      <td>embedding</td>\n",
       "      <td>Diagnosis 3</td>\n",
       "      <td>DX3</td>\n",
       "    </tr>\n",
       "    <tr>\n",
       "      <th>13</th>\n",
       "      <td>embedding</td>\n",
       "      <td>Diagnosis 4</td>\n",
       "      <td>DX4</td>\n",
       "    </tr>\n",
       "    <tr>\n",
       "      <th>14</th>\n",
       "      <td>embedding</td>\n",
       "      <td>Diagnosis 5</td>\n",
       "      <td>DX5</td>\n",
       "    </tr>\n",
       "    <tr>\n",
       "      <th>15</th>\n",
       "      <td>embedding</td>\n",
       "      <td>Diagnosis 6</td>\n",
       "      <td>DX6</td>\n",
       "    </tr>\n",
       "    <tr>\n",
       "      <th>16</th>\n",
       "      <td>embedding</td>\n",
       "      <td>Diagnosis 7</td>\n",
       "      <td>DX7</td>\n",
       "    </tr>\n",
       "    <tr>\n",
       "      <th>17</th>\n",
       "      <td>embedding</td>\n",
       "      <td>Diagnosis 8</td>\n",
       "      <td>DX8</td>\n",
       "    </tr>\n",
       "    <tr>\n",
       "      <th>18</th>\n",
       "      <td>embedding</td>\n",
       "      <td>Diagnosis 9</td>\n",
       "      <td>DX9</td>\n",
       "    </tr>\n",
       "    <tr>\n",
       "      <th>19</th>\n",
       "      <td>embedding</td>\n",
       "      <td>Diagnosis 10</td>\n",
       "      <td>DX10</td>\n",
       "    </tr>\n",
       "    <tr>\n",
       "      <th>20</th>\n",
       "      <td>embedding</td>\n",
       "      <td>Diagnosis 11</td>\n",
       "      <td>DX11</td>\n",
       "    </tr>\n",
       "    <tr>\n",
       "      <th>21</th>\n",
       "      <td>embedding</td>\n",
       "      <td>Diagnosis 12</td>\n",
       "      <td>DX12</td>\n",
       "    </tr>\n",
       "    <tr>\n",
       "      <th>22</th>\n",
       "      <td>embedding</td>\n",
       "      <td>Diagnosis 13</td>\n",
       "      <td>DX13</td>\n",
       "    </tr>\n",
       "    <tr>\n",
       "      <th>23</th>\n",
       "      <td>embedding</td>\n",
       "      <td>Diagnosis 14</td>\n",
       "      <td>DX14</td>\n",
       "    </tr>\n",
       "    <tr>\n",
       "      <th>24</th>\n",
       "      <td>embedding</td>\n",
       "      <td>Diagnosis 15</td>\n",
       "      <td>DX15</td>\n",
       "    </tr>\n",
       "    <tr>\n",
       "      <th>25</th>\n",
       "      <td>embedding</td>\n",
       "      <td>Diagnosis 16</td>\n",
       "      <td>DX16</td>\n",
       "    </tr>\n",
       "    <tr>\n",
       "      <th>26</th>\n",
       "      <td>embedding</td>\n",
       "      <td>Diagnosis 17</td>\n",
       "      <td>DX17</td>\n",
       "    </tr>\n",
       "    <tr>\n",
       "      <th>27</th>\n",
       "      <td>embedding</td>\n",
       "      <td>Diagnosis 18</td>\n",
       "      <td>DX18</td>\n",
       "    </tr>\n",
       "    <tr>\n",
       "      <th>28</th>\n",
       "      <td>embedding</td>\n",
       "      <td>Diagnosis 19</td>\n",
       "      <td>DX19</td>\n",
       "    </tr>\n",
       "    <tr>\n",
       "      <th>29</th>\n",
       "      <td>embedding</td>\n",
       "      <td>Diagnosis 20</td>\n",
       "      <td>DX20</td>\n",
       "    </tr>\n",
       "    <tr>\n",
       "      <th>30</th>\n",
       "      <td>embedding</td>\n",
       "      <td>Diagnosis 21</td>\n",
       "      <td>DX21</td>\n",
       "    </tr>\n",
       "    <tr>\n",
       "      <th>31</th>\n",
       "      <td>embedding</td>\n",
       "      <td>Diagnosis 22</td>\n",
       "      <td>DX22</td>\n",
       "    </tr>\n",
       "    <tr>\n",
       "      <th>32</th>\n",
       "      <td>embedding</td>\n",
       "      <td>Diagnosis 23</td>\n",
       "      <td>DX23</td>\n",
       "    </tr>\n",
       "    <tr>\n",
       "      <th>33</th>\n",
       "      <td>embedding</td>\n",
       "      <td>Diagnosis 24</td>\n",
       "      <td>DX24</td>\n",
       "    </tr>\n",
       "    <tr>\n",
       "      <th>34</th>\n",
       "      <td>embedding</td>\n",
       "      <td>Diagnosis 25</td>\n",
       "      <td>DX25</td>\n",
       "    </tr>\n",
       "    <tr>\n",
       "      <th>35</th>\n",
       "      <td>embedding</td>\n",
       "      <td>Diagnosis 26</td>\n",
       "      <td>DX26</td>\n",
       "    </tr>\n",
       "    <tr>\n",
       "      <th>36</th>\n",
       "      <td>embedding</td>\n",
       "      <td>Diagnosis 27</td>\n",
       "      <td>DX27</td>\n",
       "    </tr>\n",
       "    <tr>\n",
       "      <th>37</th>\n",
       "      <td>embedding</td>\n",
       "      <td>Diagnosis 28</td>\n",
       "      <td>DX28</td>\n",
       "    </tr>\n",
       "    <tr>\n",
       "      <th>38</th>\n",
       "      <td>embedding</td>\n",
       "      <td>Diagnosis 29</td>\n",
       "      <td>DX29</td>\n",
       "    </tr>\n",
       "    <tr>\n",
       "      <th>39</th>\n",
       "      <td>embedding</td>\n",
       "      <td>Diagnosis 30</td>\n",
       "      <td>DX30</td>\n",
       "    </tr>\n",
       "    <tr>\n",
       "      <th>40</th>\n",
       "      <td>categorical</td>\n",
       "      <td>CCS: diagnosis 1</td>\n",
       "      <td>DXCCS1</td>\n",
       "    </tr>\n",
       "    <tr>\n",
       "      <th>41</th>\n",
       "      <td>categorical</td>\n",
       "      <td>CCS: diagnosis 2</td>\n",
       "      <td>DXCCS2</td>\n",
       "    </tr>\n",
       "    <tr>\n",
       "      <th>42</th>\n",
       "      <td>categorical</td>\n",
       "      <td>CCS: diagnosis 3</td>\n",
       "      <td>DXCCS3</td>\n",
       "    </tr>\n",
       "    <tr>\n",
       "      <th>43</th>\n",
       "      <td>categorical</td>\n",
       "      <td>CCS: diagnosis 4</td>\n",
       "      <td>DXCCS4</td>\n",
       "    </tr>\n",
       "    <tr>\n",
       "      <th>44</th>\n",
       "      <td>categorical</td>\n",
       "      <td>CCS: diagnosis 5</td>\n",
       "      <td>DXCCS5</td>\n",
       "    </tr>\n",
       "    <tr>\n",
       "      <th>45</th>\n",
       "      <td>categorical</td>\n",
       "      <td>CCS: diagnosis 6</td>\n",
       "      <td>DXCCS6</td>\n",
       "    </tr>\n",
       "    <tr>\n",
       "      <th>46</th>\n",
       "      <td>categorical</td>\n",
       "      <td>CCS: diagnosis 7</td>\n",
       "      <td>DXCCS7</td>\n",
       "    </tr>\n",
       "    <tr>\n",
       "      <th>47</th>\n",
       "      <td>categorical</td>\n",
       "      <td>CCS: diagnosis 8</td>\n",
       "      <td>DXCCS8</td>\n",
       "    </tr>\n",
       "    <tr>\n",
       "      <th>48</th>\n",
       "      <td>categorical</td>\n",
       "      <td>CCS: diagnosis 9</td>\n",
       "      <td>DXCCS9</td>\n",
       "    </tr>\n",
       "    <tr>\n",
       "      <th>49</th>\n",
       "      <td>categorical</td>\n",
       "      <td>CCS: diagnosis 10</td>\n",
       "      <td>DXCCS10</td>\n",
       "    </tr>\n",
       "    <tr>\n",
       "      <th>50</th>\n",
       "      <td>categorical</td>\n",
       "      <td>CCS: diagnosis 11</td>\n",
       "      <td>DXCCS11</td>\n",
       "    </tr>\n",
       "    <tr>\n",
       "      <th>51</th>\n",
       "      <td>categorical</td>\n",
       "      <td>CCS: diagnosis 12</td>\n",
       "      <td>DXCCS12</td>\n",
       "    </tr>\n",
       "    <tr>\n",
       "      <th>52</th>\n",
       "      <td>categorical</td>\n",
       "      <td>CCS: diagnosis 13</td>\n",
       "      <td>DXCCS13</td>\n",
       "    </tr>\n",
       "    <tr>\n",
       "      <th>53</th>\n",
       "      <td>categorical</td>\n",
       "      <td>CCS: diagnosis 14</td>\n",
       "      <td>DXCCS14</td>\n",
       "    </tr>\n",
       "    <tr>\n",
       "      <th>54</th>\n",
       "      <td>categorical</td>\n",
       "      <td>CCS: diagnosis 15</td>\n",
       "      <td>DXCCS15</td>\n",
       "    </tr>\n",
       "    <tr>\n",
       "      <th>55</th>\n",
       "      <td>categorical</td>\n",
       "      <td>CCS: diagnosis 16</td>\n",
       "      <td>DXCCS16</td>\n",
       "    </tr>\n",
       "    <tr>\n",
       "      <th>56</th>\n",
       "      <td>categorical</td>\n",
       "      <td>CCS: diagnosis 17</td>\n",
       "      <td>DXCCS17</td>\n",
       "    </tr>\n",
       "    <tr>\n",
       "      <th>57</th>\n",
       "      <td>categorical</td>\n",
       "      <td>CCS: diagnosis 18</td>\n",
       "      <td>DXCCS18</td>\n",
       "    </tr>\n",
       "    <tr>\n",
       "      <th>58</th>\n",
       "      <td>categorical</td>\n",
       "      <td>CCS: diagnosis 19</td>\n",
       "      <td>DXCCS19</td>\n",
       "    </tr>\n",
       "    <tr>\n",
       "      <th>59</th>\n",
       "      <td>categorical</td>\n",
       "      <td>CCS: diagnosis 20</td>\n",
       "      <td>DXCCS20</td>\n",
       "    </tr>\n",
       "    <tr>\n",
       "      <th>60</th>\n",
       "      <td>categorical</td>\n",
       "      <td>CCS: diagnosis 21</td>\n",
       "      <td>DXCCS21</td>\n",
       "    </tr>\n",
       "    <tr>\n",
       "      <th>61</th>\n",
       "      <td>categorical</td>\n",
       "      <td>CCS: diagnosis 22</td>\n",
       "      <td>DXCCS22</td>\n",
       "    </tr>\n",
       "    <tr>\n",
       "      <th>62</th>\n",
       "      <td>categorical</td>\n",
       "      <td>CCS: diagnosis 23</td>\n",
       "      <td>DXCCS23</td>\n",
       "    </tr>\n",
       "    <tr>\n",
       "      <th>63</th>\n",
       "      <td>categorical</td>\n",
       "      <td>CCS: diagnosis 24</td>\n",
       "      <td>DXCCS24</td>\n",
       "    </tr>\n",
       "    <tr>\n",
       "      <th>64</th>\n",
       "      <td>categorical</td>\n",
       "      <td>CCS: diagnosis 25</td>\n",
       "      <td>DXCCS25</td>\n",
       "    </tr>\n",
       "    <tr>\n",
       "      <th>65</th>\n",
       "      <td>categorical</td>\n",
       "      <td>CCS: diagnosis 26</td>\n",
       "      <td>DXCCS26</td>\n",
       "    </tr>\n",
       "    <tr>\n",
       "      <th>66</th>\n",
       "      <td>categorical</td>\n",
       "      <td>CCS: diagnosis 27</td>\n",
       "      <td>DXCCS27</td>\n",
       "    </tr>\n",
       "    <tr>\n",
       "      <th>67</th>\n",
       "      <td>categorical</td>\n",
       "      <td>CCS: diagnosis 28</td>\n",
       "      <td>DXCCS28</td>\n",
       "    </tr>\n",
       "    <tr>\n",
       "      <th>68</th>\n",
       "      <td>categorical</td>\n",
       "      <td>CCS: diagnosis 29</td>\n",
       "      <td>DXCCS29</td>\n",
       "    </tr>\n",
       "    <tr>\n",
       "      <th>69</th>\n",
       "      <td>categorical</td>\n",
       "      <td>CCS: diagnosis 30</td>\n",
       "      <td>DXCCS30</td>\n",
       "    </tr>\n",
       "    <tr>\n",
       "      <th>70</th>\n",
       "      <td>embedding</td>\n",
       "      <td>E code 1</td>\n",
       "      <td>ECODE1</td>\n",
       "    </tr>\n",
       "    <tr>\n",
       "      <th>71</th>\n",
       "      <td>embedding</td>\n",
       "      <td>E code 2</td>\n",
       "      <td>ECODE2</td>\n",
       "    </tr>\n",
       "    <tr>\n",
       "      <th>72</th>\n",
       "      <td>embedding</td>\n",
       "      <td>E code 3</td>\n",
       "      <td>ECODE3</td>\n",
       "    </tr>\n",
       "    <tr>\n",
       "      <th>73</th>\n",
       "      <td>embedding</td>\n",
       "      <td>E code 4</td>\n",
       "      <td>ECODE4</td>\n",
       "    </tr>\n",
       "    <tr>\n",
       "      <th>74</th>\n",
       "      <td>categorical</td>\n",
       "      <td>Elective versus non-elective admission</td>\n",
       "      <td>ELECTIVE</td>\n",
       "    </tr>\n",
       "    <tr>\n",
       "      <th>75</th>\n",
       "      <td>categorical</td>\n",
       "      <td>CCS: E Code 1</td>\n",
       "      <td>E_CCS1</td>\n",
       "    </tr>\n",
       "    <tr>\n",
       "      <th>76</th>\n",
       "      <td>categorical</td>\n",
       "      <td>CCS: E Code 2</td>\n",
       "      <td>E_CCS2</td>\n",
       "    </tr>\n",
       "    <tr>\n",
       "      <th>77</th>\n",
       "      <td>categorical</td>\n",
       "      <td>CCS: E Code 3</td>\n",
       "      <td>E_CCS3</td>\n",
       "    </tr>\n",
       "    <tr>\n",
       "      <th>78</th>\n",
       "      <td>categorical</td>\n",
       "      <td>CCS: E Code 4</td>\n",
       "      <td>E_CCS4</td>\n",
       "    </tr>\n",
       "    <tr>\n",
       "      <th>79</th>\n",
       "      <td>categorical</td>\n",
       "      <td>Indicator of sex</td>\n",
       "      <td>FEMALE</td>\n",
       "    </tr>\n",
       "    <tr>\n",
       "      <th>80</th>\n",
       "      <td>categorical</td>\n",
       "      <td>HCUP Emergency Department service indicator</td>\n",
       "      <td>HCUP_ED</td>\n",
       "    </tr>\n",
       "    <tr>\n",
       "      <th>81</th>\n",
       "      <td>categorical</td>\n",
       "      <td>NRD hospital identifier</td>\n",
       "      <td>HOSP_NRD</td>\n",
       "    </tr>\n",
       "    <tr>\n",
       "      <th>82</th>\n",
       "      <td>categorical</td>\n",
       "      <td>NRD record identifier</td>\n",
       "      <td>KEY_NRD</td>\n",
       "    </tr>\n",
       "    <tr>\n",
       "      <th>83</th>\n",
       "      <td>continuous</td>\n",
       "      <td>Length of stay (cleaned)</td>\n",
       "      <td>LOS</td>\n",
       "    </tr>\n",
       "    <tr>\n",
       "      <th>84</th>\n",
       "      <td>categorical</td>\n",
       "      <td>MDC in effect on discharge date</td>\n",
       "      <td>MDC</td>\n",
       "    </tr>\n",
       "    <tr>\n",
       "      <th>85</th>\n",
       "      <td>categorical</td>\n",
       "      <td>MDC in use on discharge date, calculated witho...</td>\n",
       "      <td>MDC_NoPOA</td>\n",
       "    </tr>\n",
       "    <tr>\n",
       "      <th>86</th>\n",
       "      <td>categorical</td>\n",
       "      <td>Number of chronic conditions</td>\n",
       "      <td>NCHRONIC</td>\n",
       "    </tr>\n",
       "    <tr>\n",
       "      <th>87</th>\n",
       "      <td>categorical</td>\n",
       "      <td>Number of diagnoses on this record</td>\n",
       "      <td>NDX</td>\n",
       "    </tr>\n",
       "    <tr>\n",
       "      <th>88</th>\n",
       "      <td>categorical</td>\n",
       "      <td>Number of E codes on this record</td>\n",
       "      <td>NECODE</td>\n",
       "    </tr>\n",
       "    <tr>\n",
       "      <th>89</th>\n",
       "      <td>categorical</td>\n",
       "      <td>Number of procedures on this record</td>\n",
       "      <td>NPR</td>\n",
       "    </tr>\n",
       "    <tr>\n",
       "      <th>90</th>\n",
       "      <td>continuous</td>\n",
       "      <td>Timing variable used to identify days between ...</td>\n",
       "      <td>NRD_DaysToEvent</td>\n",
       "    </tr>\n",
       "    <tr>\n",
       "      <th>91</th>\n",
       "      <td>categorical</td>\n",
       "      <td>NRD stratum used for weighting</td>\n",
       "      <td>NRD_STRATUM</td>\n",
       "    </tr>\n",
       "    <tr>\n",
       "      <th>92</th>\n",
       "      <td>embedding</td>\n",
       "      <td>NRD visitlink</td>\n",
       "      <td>NRD_VisitLink</td>\n",
       "    </tr>\n",
       "    <tr>\n",
       "      <th>93</th>\n",
       "      <td>categorical</td>\n",
       "      <td>Major operating room procedure indicator</td>\n",
       "      <td>ORPROC</td>\n",
       "    </tr>\n",
       "    <tr>\n",
       "      <th>94</th>\n",
       "      <td>categorical</td>\n",
       "      <td>Primary expected payer (uniform)</td>\n",
       "      <td>PAY1</td>\n",
       "    </tr>\n",
       "    <tr>\n",
       "      <th>95</th>\n",
       "      <td>categorical</td>\n",
       "      <td>Patient Location: NCHS Urban-Rural Code</td>\n",
       "      <td>PL_NCHS</td>\n",
       "    </tr>\n",
       "    <tr>\n",
       "      <th>96</th>\n",
       "      <td>embedding</td>\n",
       "      <td>Procedure 1</td>\n",
       "      <td>PR1</td>\n",
       "    </tr>\n",
       "    <tr>\n",
       "      <th>97</th>\n",
       "      <td>embedding</td>\n",
       "      <td>Procedure 2</td>\n",
       "      <td>PR2</td>\n",
       "    </tr>\n",
       "    <tr>\n",
       "      <th>98</th>\n",
       "      <td>embedding</td>\n",
       "      <td>Procedure 3</td>\n",
       "      <td>PR3</td>\n",
       "    </tr>\n",
       "    <tr>\n",
       "      <th>99</th>\n",
       "      <td>embedding</td>\n",
       "      <td>Procedure 4</td>\n",
       "      <td>PR4</td>\n",
       "    </tr>\n",
       "    <tr>\n",
       "      <th>100</th>\n",
       "      <td>embedding</td>\n",
       "      <td>Procedure 5</td>\n",
       "      <td>PR5</td>\n",
       "    </tr>\n",
       "    <tr>\n",
       "      <th>101</th>\n",
       "      <td>embedding</td>\n",
       "      <td>Procedure 6</td>\n",
       "      <td>PR6</td>\n",
       "    </tr>\n",
       "    <tr>\n",
       "      <th>102</th>\n",
       "      <td>embedding</td>\n",
       "      <td>Procedure 7</td>\n",
       "      <td>PR7</td>\n",
       "    </tr>\n",
       "    <tr>\n",
       "      <th>103</th>\n",
       "      <td>embedding</td>\n",
       "      <td>Procedure 8</td>\n",
       "      <td>PR8</td>\n",
       "    </tr>\n",
       "    <tr>\n",
       "      <th>104</th>\n",
       "      <td>embedding</td>\n",
       "      <td>Procedure 9</td>\n",
       "      <td>PR9</td>\n",
       "    </tr>\n",
       "    <tr>\n",
       "      <th>105</th>\n",
       "      <td>embedding</td>\n",
       "      <td>Procedure 10</td>\n",
       "      <td>PR10</td>\n",
       "    </tr>\n",
       "    <tr>\n",
       "      <th>106</th>\n",
       "      <td>embedding</td>\n",
       "      <td>Procedure 11</td>\n",
       "      <td>PR11</td>\n",
       "    </tr>\n",
       "    <tr>\n",
       "      <th>107</th>\n",
       "      <td>embedding</td>\n",
       "      <td>Procedure 12</td>\n",
       "      <td>PR12</td>\n",
       "    </tr>\n",
       "    <tr>\n",
       "      <th>108</th>\n",
       "      <td>embedding</td>\n",
       "      <td>Procedure 13</td>\n",
       "      <td>PR13</td>\n",
       "    </tr>\n",
       "    <tr>\n",
       "      <th>109</th>\n",
       "      <td>embedding</td>\n",
       "      <td>Procedure 14</td>\n",
       "      <td>PR14</td>\n",
       "    </tr>\n",
       "    <tr>\n",
       "      <th>110</th>\n",
       "      <td>embedding</td>\n",
       "      <td>Procedure 15</td>\n",
       "      <td>PR15</td>\n",
       "    </tr>\n",
       "    <tr>\n",
       "      <th>111</th>\n",
       "      <td>categorical</td>\n",
       "      <td>CCS: procedure 1</td>\n",
       "      <td>PRCCS1</td>\n",
       "    </tr>\n",
       "    <tr>\n",
       "      <th>112</th>\n",
       "      <td>categorical</td>\n",
       "      <td>CCS: procedure 2</td>\n",
       "      <td>PRCCS2</td>\n",
       "    </tr>\n",
       "    <tr>\n",
       "      <th>113</th>\n",
       "      <td>categorical</td>\n",
       "      <td>CCS: procedure 3</td>\n",
       "      <td>PRCCS3</td>\n",
       "    </tr>\n",
       "    <tr>\n",
       "      <th>114</th>\n",
       "      <td>categorical</td>\n",
       "      <td>CCS: procedure 4</td>\n",
       "      <td>PRCCS4</td>\n",
       "    </tr>\n",
       "    <tr>\n",
       "      <th>115</th>\n",
       "      <td>categorical</td>\n",
       "      <td>CCS: procedure 5</td>\n",
       "      <td>PRCCS5</td>\n",
       "    </tr>\n",
       "    <tr>\n",
       "      <th>116</th>\n",
       "      <td>categorical</td>\n",
       "      <td>CCS: procedure 6</td>\n",
       "      <td>PRCCS6</td>\n",
       "    </tr>\n",
       "    <tr>\n",
       "      <th>117</th>\n",
       "      <td>categorical</td>\n",
       "      <td>CCS: procedure 7</td>\n",
       "      <td>PRCCS7</td>\n",
       "    </tr>\n",
       "    <tr>\n",
       "      <th>118</th>\n",
       "      <td>categorical</td>\n",
       "      <td>CCS: procedure 8</td>\n",
       "      <td>PRCCS8</td>\n",
       "    </tr>\n",
       "    <tr>\n",
       "      <th>119</th>\n",
       "      <td>categorical</td>\n",
       "      <td>CCS: procedure 9</td>\n",
       "      <td>PRCCS9</td>\n",
       "    </tr>\n",
       "    <tr>\n",
       "      <th>120</th>\n",
       "      <td>categorical</td>\n",
       "      <td>CCS: procedure 10</td>\n",
       "      <td>PRCCS10</td>\n",
       "    </tr>\n",
       "    <tr>\n",
       "      <th>121</th>\n",
       "      <td>categorical</td>\n",
       "      <td>CCS: procedure 11</td>\n",
       "      <td>PRCCS11</td>\n",
       "    </tr>\n",
       "    <tr>\n",
       "      <th>122</th>\n",
       "      <td>categorical</td>\n",
       "      <td>CCS: procedure 12</td>\n",
       "      <td>PRCCS12</td>\n",
       "    </tr>\n",
       "    <tr>\n",
       "      <th>123</th>\n",
       "      <td>categorical</td>\n",
       "      <td>CCS: procedure 13</td>\n",
       "      <td>PRCCS13</td>\n",
       "    </tr>\n",
       "    <tr>\n",
       "      <th>124</th>\n",
       "      <td>categorical</td>\n",
       "      <td>CCS: procedure 14</td>\n",
       "      <td>PRCCS14</td>\n",
       "    </tr>\n",
       "    <tr>\n",
       "      <th>125</th>\n",
       "      <td>categorical</td>\n",
       "      <td>CCS: procedure 15</td>\n",
       "      <td>PRCCS15</td>\n",
       "    </tr>\n",
       "    <tr>\n",
       "      <th>126</th>\n",
       "      <td>continuous</td>\n",
       "      <td>Number of days from admission to PR1</td>\n",
       "      <td>PRDAY1</td>\n",
       "    </tr>\n",
       "    <tr>\n",
       "      <th>127</th>\n",
       "      <td>continuous</td>\n",
       "      <td>Number of days from admission to PR2</td>\n",
       "      <td>PRDAY2</td>\n",
       "    </tr>\n",
       "    <tr>\n",
       "      <th>128</th>\n",
       "      <td>continuous</td>\n",
       "      <td>Number of days from admission to PR3</td>\n",
       "      <td>PRDAY3</td>\n",
       "    </tr>\n",
       "    <tr>\n",
       "      <th>129</th>\n",
       "      <td>continuous</td>\n",
       "      <td>Number of days from admission to PR4</td>\n",
       "      <td>PRDAY4</td>\n",
       "    </tr>\n",
       "    <tr>\n",
       "      <th>130</th>\n",
       "      <td>continuous</td>\n",
       "      <td>Number of days from admission to PR5</td>\n",
       "      <td>PRDAY5</td>\n",
       "    </tr>\n",
       "    <tr>\n",
       "      <th>131</th>\n",
       "      <td>continuous</td>\n",
       "      <td>Number of days from admission to PR6</td>\n",
       "      <td>PRDAY6</td>\n",
       "    </tr>\n",
       "    <tr>\n",
       "      <th>132</th>\n",
       "      <td>continuous</td>\n",
       "      <td>Number of days from admission to PR7</td>\n",
       "      <td>PRDAY7</td>\n",
       "    </tr>\n",
       "    <tr>\n",
       "      <th>133</th>\n",
       "      <td>continuous</td>\n",
       "      <td>Number of days from admission to PR8</td>\n",
       "      <td>PRDAY8</td>\n",
       "    </tr>\n",
       "    <tr>\n",
       "      <th>134</th>\n",
       "      <td>continuous</td>\n",
       "      <td>Number of days from admission to PR9</td>\n",
       "      <td>PRDAY9</td>\n",
       "    </tr>\n",
       "    <tr>\n",
       "      <th>135</th>\n",
       "      <td>continuous</td>\n",
       "      <td>Number of days from admission to PR10</td>\n",
       "      <td>PRDAY10</td>\n",
       "    </tr>\n",
       "    <tr>\n",
       "      <th>136</th>\n",
       "      <td>continuous</td>\n",
       "      <td>Number of days from admission to PR11</td>\n",
       "      <td>PRDAY11</td>\n",
       "    </tr>\n",
       "    <tr>\n",
       "      <th>137</th>\n",
       "      <td>continuous</td>\n",
       "      <td>Number of days from admission to PR12</td>\n",
       "      <td>PRDAY12</td>\n",
       "    </tr>\n",
       "    <tr>\n",
       "      <th>138</th>\n",
       "      <td>continuous</td>\n",
       "      <td>Number of days from admission to PR13</td>\n",
       "      <td>PRDAY13</td>\n",
       "    </tr>\n",
       "    <tr>\n",
       "      <th>139</th>\n",
       "      <td>continuous</td>\n",
       "      <td>Number of days from admission to PR14</td>\n",
       "      <td>PRDAY14</td>\n",
       "    </tr>\n",
       "    <tr>\n",
       "      <th>140</th>\n",
       "      <td>continuous</td>\n",
       "      <td>Number of days from admission to PR15</td>\n",
       "      <td>PRDAY15</td>\n",
       "    </tr>\n",
       "    <tr>\n",
       "      <th>141</th>\n",
       "      <td>categorical</td>\n",
       "      <td>A combined record involving rehab transfer</td>\n",
       "      <td>REHABTRANSFER</td>\n",
       "    </tr>\n",
       "    <tr>\n",
       "      <th>142</th>\n",
       "      <td>categorical</td>\n",
       "      <td>Patient State is the same as Hospital State</td>\n",
       "      <td>RESIDENT</td>\n",
       "    </tr>\n",
       "    <tr>\n",
       "      <th>143</th>\n",
       "      <td>categorical</td>\n",
       "      <td>Transfer flag indicating combination of discha...</td>\n",
       "      <td>SAMEDAYEVENT</td>\n",
       "    </tr>\n",
       "    <tr>\n",
       "      <th>144</th>\n",
       "      <td>categorical</td>\n",
       "      <td>Hospital Service Line</td>\n",
       "      <td>SERVICELINE</td>\n",
       "    </tr>\n",
       "    <tr>\n",
       "      <th>145</th>\n",
       "      <td>continuous</td>\n",
       "      <td>Total charges (cleaned)</td>\n",
       "      <td>TOTCHG</td>\n",
       "    </tr>\n",
       "    <tr>\n",
       "      <th>146</th>\n",
       "      <td>categorical</td>\n",
       "      <td>Calendar year</td>\n",
       "      <td>YEAR</td>\n",
       "    </tr>\n",
       "    <tr>\n",
       "      <th>147</th>\n",
       "      <td>categorical</td>\n",
       "      <td>Median household income national quartile for ...</td>\n",
       "      <td>ZIPINC_QRTL</td>\n",
       "    </tr>\n",
       "  </tbody>\n",
       "</table>\n",
       "</div>"
      ],
      "text/plain": [
       "     dtype_logic                                              label  \\\n",
       "0     continuous                          Age in years at admission   \n",
       "1    categorical                         Admission day is a weekend   \n",
       "2    categorical                        Died during hospitalization   \n",
       "3     continuous               Weight to discharges in AHA universe   \n",
       "4    categorical                   Disposition of patient (uniform)   \n",
       "5    categorical                                    Discharge month   \n",
       "6    categorical                                  Discharge quarter   \n",
       "7    categorical                    DRG in effect on discharge date   \n",
       "8    categorical         DRG grouper version used on discharge date   \n",
       "9    categorical  DRG in use on discharge date, calculated witho...   \n",
       "10     embedding                                        Diagnosis 1   \n",
       "11     embedding                                        Diagnosis 2   \n",
       "12     embedding                                        Diagnosis 3   \n",
       "13     embedding                                        Diagnosis 4   \n",
       "14     embedding                                        Diagnosis 5   \n",
       "15     embedding                                        Diagnosis 6   \n",
       "16     embedding                                        Diagnosis 7   \n",
       "17     embedding                                        Diagnosis 8   \n",
       "18     embedding                                        Diagnosis 9   \n",
       "19     embedding                                       Diagnosis 10   \n",
       "20     embedding                                       Diagnosis 11   \n",
       "21     embedding                                       Diagnosis 12   \n",
       "22     embedding                                       Diagnosis 13   \n",
       "23     embedding                                       Diagnosis 14   \n",
       "24     embedding                                       Diagnosis 15   \n",
       "25     embedding                                       Diagnosis 16   \n",
       "26     embedding                                       Diagnosis 17   \n",
       "27     embedding                                       Diagnosis 18   \n",
       "28     embedding                                       Diagnosis 19   \n",
       "29     embedding                                       Diagnosis 20   \n",
       "30     embedding                                       Diagnosis 21   \n",
       "31     embedding                                       Diagnosis 22   \n",
       "32     embedding                                       Diagnosis 23   \n",
       "33     embedding                                       Diagnosis 24   \n",
       "34     embedding                                       Diagnosis 25   \n",
       "35     embedding                                       Diagnosis 26   \n",
       "36     embedding                                       Diagnosis 27   \n",
       "37     embedding                                       Diagnosis 28   \n",
       "38     embedding                                       Diagnosis 29   \n",
       "39     embedding                                       Diagnosis 30   \n",
       "40   categorical                                   CCS: diagnosis 1   \n",
       "41   categorical                                   CCS: diagnosis 2   \n",
       "42   categorical                                   CCS: diagnosis 3   \n",
       "43   categorical                                   CCS: diagnosis 4   \n",
       "44   categorical                                   CCS: diagnosis 5   \n",
       "45   categorical                                   CCS: diagnosis 6   \n",
       "46   categorical                                   CCS: diagnosis 7   \n",
       "47   categorical                                   CCS: diagnosis 8   \n",
       "48   categorical                                   CCS: diagnosis 9   \n",
       "49   categorical                                  CCS: diagnosis 10   \n",
       "50   categorical                                  CCS: diagnosis 11   \n",
       "51   categorical                                  CCS: diagnosis 12   \n",
       "52   categorical                                  CCS: diagnosis 13   \n",
       "53   categorical                                  CCS: diagnosis 14   \n",
       "54   categorical                                  CCS: diagnosis 15   \n",
       "55   categorical                                  CCS: diagnosis 16   \n",
       "56   categorical                                  CCS: diagnosis 17   \n",
       "57   categorical                                  CCS: diagnosis 18   \n",
       "58   categorical                                  CCS: diagnosis 19   \n",
       "59   categorical                                  CCS: diagnosis 20   \n",
       "60   categorical                                  CCS: diagnosis 21   \n",
       "61   categorical                                  CCS: diagnosis 22   \n",
       "62   categorical                                  CCS: diagnosis 23   \n",
       "63   categorical                                  CCS: diagnosis 24   \n",
       "64   categorical                                  CCS: diagnosis 25   \n",
       "65   categorical                                  CCS: diagnosis 26   \n",
       "66   categorical                                  CCS: diagnosis 27   \n",
       "67   categorical                                  CCS: diagnosis 28   \n",
       "68   categorical                                  CCS: diagnosis 29   \n",
       "69   categorical                                  CCS: diagnosis 30   \n",
       "70     embedding                                           E code 1   \n",
       "71     embedding                                           E code 2   \n",
       "72     embedding                                           E code 3   \n",
       "73     embedding                                           E code 4   \n",
       "74   categorical             Elective versus non-elective admission   \n",
       "75   categorical                                      CCS: E Code 1   \n",
       "76   categorical                                      CCS: E Code 2   \n",
       "77   categorical                                      CCS: E Code 3   \n",
       "78   categorical                                      CCS: E Code 4   \n",
       "79   categorical                                   Indicator of sex   \n",
       "80   categorical        HCUP Emergency Department service indicator   \n",
       "81   categorical                            NRD hospital identifier   \n",
       "82   categorical                              NRD record identifier   \n",
       "83    continuous                           Length of stay (cleaned)   \n",
       "84   categorical                    MDC in effect on discharge date   \n",
       "85   categorical  MDC in use on discharge date, calculated witho...   \n",
       "86   categorical                       Number of chronic conditions   \n",
       "87   categorical                 Number of diagnoses on this record   \n",
       "88   categorical                   Number of E codes on this record   \n",
       "89   categorical                Number of procedures on this record   \n",
       "90    continuous  Timing variable used to identify days between ...   \n",
       "91   categorical                     NRD stratum used for weighting   \n",
       "92     embedding                                      NRD visitlink   \n",
       "93   categorical           Major operating room procedure indicator   \n",
       "94   categorical                   Primary expected payer (uniform)   \n",
       "95   categorical            Patient Location: NCHS Urban-Rural Code   \n",
       "96     embedding                                        Procedure 1   \n",
       "97     embedding                                        Procedure 2   \n",
       "98     embedding                                        Procedure 3   \n",
       "99     embedding                                        Procedure 4   \n",
       "100    embedding                                        Procedure 5   \n",
       "101    embedding                                        Procedure 6   \n",
       "102    embedding                                        Procedure 7   \n",
       "103    embedding                                        Procedure 8   \n",
       "104    embedding                                        Procedure 9   \n",
       "105    embedding                                       Procedure 10   \n",
       "106    embedding                                       Procedure 11   \n",
       "107    embedding                                       Procedure 12   \n",
       "108    embedding                                       Procedure 13   \n",
       "109    embedding                                       Procedure 14   \n",
       "110    embedding                                       Procedure 15   \n",
       "111  categorical                                   CCS: procedure 1   \n",
       "112  categorical                                   CCS: procedure 2   \n",
       "113  categorical                                   CCS: procedure 3   \n",
       "114  categorical                                   CCS: procedure 4   \n",
       "115  categorical                                   CCS: procedure 5   \n",
       "116  categorical                                   CCS: procedure 6   \n",
       "117  categorical                                   CCS: procedure 7   \n",
       "118  categorical                                   CCS: procedure 8   \n",
       "119  categorical                                   CCS: procedure 9   \n",
       "120  categorical                                  CCS: procedure 10   \n",
       "121  categorical                                  CCS: procedure 11   \n",
       "122  categorical                                  CCS: procedure 12   \n",
       "123  categorical                                  CCS: procedure 13   \n",
       "124  categorical                                  CCS: procedure 14   \n",
       "125  categorical                                  CCS: procedure 15   \n",
       "126   continuous               Number of days from admission to PR1   \n",
       "127   continuous               Number of days from admission to PR2   \n",
       "128   continuous               Number of days from admission to PR3   \n",
       "129   continuous               Number of days from admission to PR4   \n",
       "130   continuous               Number of days from admission to PR5   \n",
       "131   continuous               Number of days from admission to PR6   \n",
       "132   continuous               Number of days from admission to PR7   \n",
       "133   continuous               Number of days from admission to PR8   \n",
       "134   continuous               Number of days from admission to PR9   \n",
       "135   continuous              Number of days from admission to PR10   \n",
       "136   continuous              Number of days from admission to PR11   \n",
       "137   continuous              Number of days from admission to PR12   \n",
       "138   continuous              Number of days from admission to PR13   \n",
       "139   continuous              Number of days from admission to PR14   \n",
       "140   continuous              Number of days from admission to PR15   \n",
       "141  categorical         A combined record involving rehab transfer   \n",
       "142  categorical        Patient State is the same as Hospital State   \n",
       "143  categorical  Transfer flag indicating combination of discha...   \n",
       "144  categorical                              Hospital Service Line   \n",
       "145   continuous                            Total charges (cleaned)   \n",
       "146  categorical                                      Calendar year   \n",
       "147  categorical  Median household income national quartile for ...   \n",
       "\n",
       "                 var  \n",
       "0                AGE  \n",
       "1           AWEEKEND  \n",
       "2               DIED  \n",
       "3             DISCWT  \n",
       "4        DISPUNIFORM  \n",
       "5             DMONTH  \n",
       "6               DQTR  \n",
       "7                DRG  \n",
       "8             DRGVER  \n",
       "9          DRG_NoPOA  \n",
       "10               DX1  \n",
       "11               DX2  \n",
       "12               DX3  \n",
       "13               DX4  \n",
       "14               DX5  \n",
       "15               DX6  \n",
       "16               DX7  \n",
       "17               DX8  \n",
       "18               DX9  \n",
       "19              DX10  \n",
       "20              DX11  \n",
       "21              DX12  \n",
       "22              DX13  \n",
       "23              DX14  \n",
       "24              DX15  \n",
       "25              DX16  \n",
       "26              DX17  \n",
       "27              DX18  \n",
       "28              DX19  \n",
       "29              DX20  \n",
       "30              DX21  \n",
       "31              DX22  \n",
       "32              DX23  \n",
       "33              DX24  \n",
       "34              DX25  \n",
       "35              DX26  \n",
       "36              DX27  \n",
       "37              DX28  \n",
       "38              DX29  \n",
       "39              DX30  \n",
       "40            DXCCS1  \n",
       "41            DXCCS2  \n",
       "42            DXCCS3  \n",
       "43            DXCCS4  \n",
       "44            DXCCS5  \n",
       "45            DXCCS6  \n",
       "46            DXCCS7  \n",
       "47            DXCCS8  \n",
       "48            DXCCS9  \n",
       "49           DXCCS10  \n",
       "50           DXCCS11  \n",
       "51           DXCCS12  \n",
       "52           DXCCS13  \n",
       "53           DXCCS14  \n",
       "54           DXCCS15  \n",
       "55           DXCCS16  \n",
       "56           DXCCS17  \n",
       "57           DXCCS18  \n",
       "58           DXCCS19  \n",
       "59           DXCCS20  \n",
       "60           DXCCS21  \n",
       "61           DXCCS22  \n",
       "62           DXCCS23  \n",
       "63           DXCCS24  \n",
       "64           DXCCS25  \n",
       "65           DXCCS26  \n",
       "66           DXCCS27  \n",
       "67           DXCCS28  \n",
       "68           DXCCS29  \n",
       "69           DXCCS30  \n",
       "70            ECODE1  \n",
       "71            ECODE2  \n",
       "72            ECODE3  \n",
       "73            ECODE4  \n",
       "74          ELECTIVE  \n",
       "75            E_CCS1  \n",
       "76            E_CCS2  \n",
       "77            E_CCS3  \n",
       "78            E_CCS4  \n",
       "79            FEMALE  \n",
       "80           HCUP_ED  \n",
       "81          HOSP_NRD  \n",
       "82           KEY_NRD  \n",
       "83               LOS  \n",
       "84               MDC  \n",
       "85         MDC_NoPOA  \n",
       "86          NCHRONIC  \n",
       "87               NDX  \n",
       "88            NECODE  \n",
       "89               NPR  \n",
       "90   NRD_DaysToEvent  \n",
       "91       NRD_STRATUM  \n",
       "92     NRD_VisitLink  \n",
       "93            ORPROC  \n",
       "94              PAY1  \n",
       "95           PL_NCHS  \n",
       "96               PR1  \n",
       "97               PR2  \n",
       "98               PR3  \n",
       "99               PR4  \n",
       "100              PR5  \n",
       "101              PR6  \n",
       "102              PR7  \n",
       "103              PR8  \n",
       "104              PR9  \n",
       "105             PR10  \n",
       "106             PR11  \n",
       "107             PR12  \n",
       "108             PR13  \n",
       "109             PR14  \n",
       "110             PR15  \n",
       "111           PRCCS1  \n",
       "112           PRCCS2  \n",
       "113           PRCCS3  \n",
       "114           PRCCS4  \n",
       "115           PRCCS5  \n",
       "116           PRCCS6  \n",
       "117           PRCCS7  \n",
       "118           PRCCS8  \n",
       "119           PRCCS9  \n",
       "120          PRCCS10  \n",
       "121          PRCCS11  \n",
       "122          PRCCS12  \n",
       "123          PRCCS13  \n",
       "124          PRCCS14  \n",
       "125          PRCCS15  \n",
       "126           PRDAY1  \n",
       "127           PRDAY2  \n",
       "128           PRDAY3  \n",
       "129           PRDAY4  \n",
       "130           PRDAY5  \n",
       "131           PRDAY6  \n",
       "132           PRDAY7  \n",
       "133           PRDAY8  \n",
       "134           PRDAY9  \n",
       "135          PRDAY10  \n",
       "136          PRDAY11  \n",
       "137          PRDAY12  \n",
       "138          PRDAY13  \n",
       "139          PRDAY14  \n",
       "140          PRDAY15  \n",
       "141    REHABTRANSFER  \n",
       "142         RESIDENT  \n",
       "143     SAMEDAYEVENT  \n",
       "144      SERVICELINE  \n",
       "145           TOTCHG  \n",
       "146             YEAR  \n",
       "147      ZIPINC_QRTL  "
      ]
     },
     "metadata": {},
     "output_type": "display_data"
    }
   ],
   "source": [
    "with pd.option_context('display.max_rows', None, 'display.max_columns', 3):\n",
    "    display(core_var_lst)"
   ]
  },
  {
   "cell_type": "markdown",
   "metadata": {},
   "source": [
    "Read the Core data file by chunks, and extract only the variables useful for label creation:"
   ]
  },
  {
   "cell_type": "code",
   "execution_count": 6,
   "metadata": {},
   "outputs": [],
   "source": [
    "chunked = pd.read_table(path+'raw/2014/NRD_2014_Core.CSV', sep=',', \n",
    "                           header = None, \n",
    "                           names=core_cols, \n",
    "                           dtype=core_dtypes_pd, \n",
    "                           na_values=na_values, \n",
    "                           chunksize=10**6)"
   ]
  },
  {
   "cell_type": "code",
   "execution_count": 7,
   "metadata": {},
   "outputs": [
    {
     "name": "stdout",
     "output_type": "stream",
     "text": [
      "Chunk 1 finished: 999943 rows are read.\n",
      "Chunk 2 finished: 999951 rows are read.\n",
      "Chunk 3 finished: 999971 rows are read.\n",
      "Chunk 4 finished: 999963 rows are read.\n",
      "Chunk 5 finished: 999922 rows are read.\n",
      "Chunk 6 finished: 999899 rows are read.\n",
      "Chunk 7 finished: 999972 rows are read.\n",
      "Chunk 8 finished: 999986 rows are read.\n",
      "Chunk 9 finished: 999902 rows are read.\n",
      "Chunk 10 finished: 999816 rows are read.\n",
      "Chunk 11 finished: 999954 rows are read.\n",
      "Chunk 12 finished: 999902 rows are read.\n",
      "Chunk 13 finished: 999968 rows are read.\n",
      "Chunk 14 finished: 999897 rows are read.\n",
      "Chunk 15 finished: 894547 rows are read.\n"
     ]
    }
   ],
   "source": [
    "readm = pd.DataFrame()\n",
    "chunk_id = 1\n",
    "for chunk in chunked:\n",
    "    readm1 = chunk[['KEY_NRD', 'NRD_VisitLink', 'NRD_DaysToEvent', 'LOS', 'PRCCS1', 'DXCCS1', 'PR1', 'DX1']]\n",
    "    readm1 = readm1.dropna(subset=['NRD_DaysToEvent', 'LOS'])\n",
    "    nrows = len(readm1)\n",
    "    readm = pd.concat([readm, readm1])\n",
    "    print('Chunk', chunk_id, 'finished:', nrows, 'rows are read.')\n",
    "    chunk_id += 1"
   ]
  },
  {
   "cell_type": "code",
   "execution_count": 13,
   "metadata": {},
   "outputs": [],
   "source": [
    "readm.to_csv(path+'temp/readmission_label.csv')"
   ]
  },
  {
   "cell_type": "code",
   "execution_count": 7,
   "metadata": {},
   "outputs": [
    {
     "name": "stderr",
     "output_type": "stream",
     "text": [
      "/home/wsliu/.local/lib/python3.5/site-packages/numpy/lib/arraysetops.py:463: FutureWarning: elementwise comparison failed; returning scalar instead, but in the future will perform elementwise comparison\n",
      "  mask |= (ar1 == a)\n"
     ]
    }
   ],
   "source": [
    "readm = pd.read_csv(path+'temp/readmission_label.csv', dtype = core_dtypes_pd, index_col=0)"
   ]
  },
  {
   "cell_type": "code",
   "execution_count": 63,
   "metadata": {},
   "outputs": [
    {
     "data": {
      "text/html": [
       "<div>\n",
       "<style scoped>\n",
       "    .dataframe tbody tr th:only-of-type {\n",
       "        vertical-align: middle;\n",
       "    }\n",
       "\n",
       "    .dataframe tbody tr th {\n",
       "        vertical-align: top;\n",
       "    }\n",
       "\n",
       "    .dataframe thead th {\n",
       "        text-align: right;\n",
       "    }\n",
       "</style>\n",
       "<table border=\"1\" class=\"dataframe\">\n",
       "  <thead>\n",
       "    <tr style=\"text-align: right;\">\n",
       "      <th></th>\n",
       "      <th>KEY_NRD</th>\n",
       "      <th>NRD_VisitLink</th>\n",
       "      <th>NRD_DaysToEvent</th>\n",
       "      <th>LOS</th>\n",
       "      <th>PRCCS1</th>\n",
       "      <th>DXCCS1</th>\n",
       "      <th>PR1</th>\n",
       "      <th>DX1</th>\n",
       "    </tr>\n",
       "  </thead>\n",
       "  <tbody>\n",
       "    <tr>\n",
       "      <th>14894608</th>\n",
       "      <td>24880143.0</td>\n",
       "      <td>bye60ik</td>\n",
       "      <td>16646.0</td>\n",
       "      <td>1.0</td>\n",
       "      <td>NaN</td>\n",
       "      <td>657.0</td>\n",
       "      <td>NaN</td>\n",
       "      <td>29620</td>\n",
       "    </tr>\n",
       "    <tr>\n",
       "      <th>14894609</th>\n",
       "      <td>24887512.0</td>\n",
       "      <td>bylxy1a</td>\n",
       "      <td>13377.0</td>\n",
       "      <td>5.0</td>\n",
       "      <td>NaN</td>\n",
       "      <td>659.0</td>\n",
       "      <td>NaN</td>\n",
       "      <td>2989</td>\n",
       "    </tr>\n",
       "    <tr>\n",
       "      <th>14894610</th>\n",
       "      <td>24887821.0</td>\n",
       "      <td>bkes6v9</td>\n",
       "      <td>15272.0</td>\n",
       "      <td>2.0</td>\n",
       "      <td>NaN</td>\n",
       "      <td>659.0</td>\n",
       "      <td>NaN</td>\n",
       "      <td>2989</td>\n",
       "    </tr>\n",
       "    <tr>\n",
       "      <th>14894611</th>\n",
       "      <td>24890729.0</td>\n",
       "      <td>brsdnem</td>\n",
       "      <td>13832.0</td>\n",
       "      <td>5.0</td>\n",
       "      <td>NaN</td>\n",
       "      <td>657.0</td>\n",
       "      <td>NaN</td>\n",
       "      <td>29680</td>\n",
       "    </tr>\n",
       "    <tr>\n",
       "      <th>14894612</th>\n",
       "      <td>24893855.0</td>\n",
       "      <td>b0twdwx</td>\n",
       "      <td>17098.0</td>\n",
       "      <td>5.0</td>\n",
       "      <td>NaN</td>\n",
       "      <td>657.0</td>\n",
       "      <td>NaN</td>\n",
       "      <td>29690</td>\n",
       "    </tr>\n",
       "  </tbody>\n",
       "</table>\n",
       "</div>"
      ],
      "text/plain": [
       "             KEY_NRD NRD_VisitLink  NRD_DaysToEvent  LOS  PRCCS1  DXCCS1  PR1  \\\n",
       "14894608  24880143.0       bye60ik          16646.0  1.0     NaN   657.0  NaN   \n",
       "14894609  24887512.0       bylxy1a          13377.0  5.0     NaN   659.0  NaN   \n",
       "14894610  24887821.0       bkes6v9          15272.0  2.0     NaN   659.0  NaN   \n",
       "14894611  24890729.0       brsdnem          13832.0  5.0     NaN   657.0  NaN   \n",
       "14894612  24893855.0       b0twdwx          17098.0  5.0     NaN   657.0  NaN   \n",
       "\n",
       "            DX1  \n",
       "14894608  29620  \n",
       "14894609   2989  \n",
       "14894610   2989  \n",
       "14894611  29680  \n",
       "14894612  29690  "
      ]
     },
     "execution_count": 63,
     "metadata": {},
     "output_type": "execute_result"
    }
   ],
   "source": [
    "readm.tail()"
   ]
  },
  {
   "cell_type": "markdown",
   "metadata": {},
   "source": [
    "Sort the data by patient id and then visiting day:"
   ]
  },
  {
   "cell_type": "code",
   "execution_count": 64,
   "metadata": {},
   "outputs": [],
   "source": [
    "readm_sort = readm.sort_values(by=['NRD_VisitLink', 'NRD_DaysToEvent'])"
   ]
  },
  {
   "cell_type": "code",
   "execution_count": 17,
   "metadata": {},
   "outputs": [
    {
     "data": {
      "text/plain": [
       "(5060677, 5088149)"
      ]
     },
     "execution_count": 17,
     "metadata": {},
     "output_type": "execute_result"
    }
   ],
   "source": [
    "sum(readm['PR1'].isna()), sum(readm['PRCCS1'].isna())"
   ]
  },
  {
   "cell_type": "markdown",
   "metadata": {},
   "source": [
    "Define the code sets for Planned Readmission Algorithm (from Page 103 of \"Condition Specific Readmission Measures\"):"
   ]
  },
  {
   "cell_type": "code",
   "execution_count": 66,
   "metadata": {},
   "outputs": [],
   "source": [
    "tablePR1_PRCCS = set([64.0, 105.0, 134.0, 135.0, 176.0])\n",
    "\n",
    "tablePR2_DXCCS = set([45., 194., 196., 254.])\n",
    "\n",
    "tablePR3_PRCCS = set([1.0, 3.0, 5.0, 9.0, 10.0, 12.0, 33.0, 36.0, 38.0, 40.0, 43.0, 44.0, 45.0, 49.0, 51.0, 52.0, 53.0, 55.0, 56.0, 59.0, 66.0, 67.0, 74.0, 78.0, 79.0, 84.0, 85.0, 86.0, 99.0, 104.0, 106.0, 107.0, 109.0, 112.0, 113.0, 114.0, 119.0, 120.0, 124.0, 129.0, 132.0, 142.0, 152.0, 153.0, 154.0, 158.0, 159.0, 166.0, 167.0, 170.0, 172.0])\n",
    "\n",
    "tablePR3_PR = set(['301', '3029', '303', '304', '3174', '346', '3818', '5503', '5504', '9426', '9427'])\n",
    "\n",
    "tablePR4_DXCCS = set([1.0, 2.0, 3.0, 4.0, 5.0, 7.0, 8.0, 9.0, 54.0, 55.0, 60.0, 61.0, 63.0, 76.0, 77.0, 78.0, 82.0, 83.0, 84.0, 85.0, 87.0, 89.0, 90.0, 91.0, 92.0, 93.0, 99.0, 100.0, 102.0, 104.0, 107.0, 109.0, 112.0, 116.0, 118.0, 120.0, 122.0, 123.0, 124.0, 125.0, 126.0, 127.0, 128.0, 129.0, 130.0, 131.0, 135.0, 137.0, 139.0, 140.0, 142.0, 145.0, 146.0, 148.0, 153.0, 154.0, 157.0, 159.0, 165.0, 168.0, 172.0, 197.0, 198.0, 225.0, 226.0, 227.0, 228.0, 229.0, 230.0, 232.0, 233.0, 234.0, 235.0, 237.0, 238.0, 239.0, 240.0, 241.0, 242.0, 243.0, 244.0, 245.0, 246.0, 247.0, 249.0, 250.0, 251.0, 252.0, 253.0, 259.0, 650.0, 651.0, 652.0, 653.0, 656.0, 658.0, 660.0, 661.0, 662.0, 663.0, 670.0])\n",
    "\n",
    "tablePR4_DX = set(['03282', '03640', '03641', '03642', '03643', '07420', '07421', '07422', '07423', '11281', '11503', '11504', '11513', '11514', '11593', '11594', '1303', '3910', '3911', '3912', '3918', '3919', '3920', '3980', '39890', '39899', '4200', '42090', '42091', '42099', '4210', '4211', '4219', '4220', '42290', '42291', '42292', '42293', '42299', '4230', '4231', '4232', '4233', '4290', '42610', '42611', '42612', '42613', '4262', '4263', '4264', '42650', '42651', '42652', '42653', '4260', '42654', '4266', '4267', '42681', '42682', '4269', '42769', '42789', '4279', '7850', '4272', '4280', '4281', '42820', '42821', '42823', '42830', '42831', '42833', '42840', '42841', '42843', '4289', '39891', '57400', '57401', '57430', '57431', '57460', '57461', '57480', '57481', '5750', '57512', '5761', '5770'])"
   ]
  },
  {
   "cell_type": "code",
   "execution_count": 20,
   "metadata": {},
   "outputs": [
    {
     "data": {
      "text/plain": [
       "0.019567004415925692"
      ]
     },
     "execution_count": 20,
     "metadata": {},
     "output_type": "execute_result"
    }
   ],
   "source": [
    "sum(readm['PRCCS1'].isin(tablePR1_PRCCS))/len(readm)"
   ]
  },
  {
   "cell_type": "markdown",
   "metadata": {},
   "source": [
    "Create the \"planned\" label: 1 for planned, 0 for unplanned: "
   ]
  },
  {
   "cell_type": "code",
   "execution_count": 67,
   "metadata": {},
   "outputs": [],
   "source": [
    "readm_sort['planned'] = readm_sort['PRCCS1'].isin(tablePR1_PRCCS) | readm_sort['DXCCS1'].isin(tablePR2_DXCCS) | ((readm_sort['PRCCS1'].isin(tablePR3_PRCCS) | readm_sort['PR1'].isin(tablePR3_PR)) & (~(readm_sort['DXCCS1'].isin(tablePR4_DXCCS) | readm_sort['DX1'].isin(tablePR4_DX))))"
   ]
  },
  {
   "cell_type": "code",
   "execution_count": 24,
   "metadata": {
    "scrolled": true
   },
   "outputs": [
    {
     "data": {
      "text/plain": [
       "False    13413923\n",
       "True      1479670\n",
       "Name: planned, dtype: int64"
      ]
     },
     "execution_count": 24,
     "metadata": {},
     "output_type": "execute_result"
    }
   ],
   "source": [
    "readm_sort['planned'].value_counts()"
   ]
  },
  {
   "cell_type": "markdown",
   "metadata": {},
   "source": [
    "Create a label whether this admission is a subsequent readmission following a planned admission:"
   ]
  },
  {
   "cell_type": "code",
   "execution_count": 69,
   "metadata": {},
   "outputs": [],
   "source": [
    "planned = readm_sort.loc[readm_sort['planned']==True, ['NRD_VisitLink', 'NRD_DaysToEvent']]"
   ]
  },
  {
   "cell_type": "code",
   "execution_count": 71,
   "metadata": {},
   "outputs": [],
   "source": [
    "patient_planned = set(planned['NRD_VisitLink'].unique())"
   ]
  },
  {
   "cell_type": "code",
   "execution_count": 72,
   "metadata": {},
   "outputs": [],
   "source": [
    "sub_df = readm_sort.loc[readm_sort['NRD_VisitLink'].isin(patient_planned)]"
   ]
  },
  {
   "cell_type": "code",
   "execution_count": 74,
   "metadata": {},
   "outputs": [],
   "source": [
    "patient_freq = sub_df['NRD_VisitLink'].value_counts()"
   ]
  },
  {
   "cell_type": "code",
   "execution_count": 75,
   "metadata": {},
   "outputs": [],
   "source": [
    "sub_df = sub_df.loc[sub_df['NRD_VisitLink'].isin(patient_freq[patient_freq>1].index)]"
   ]
  },
  {
   "cell_type": "code",
   "execution_count": 78,
   "metadata": {},
   "outputs": [],
   "source": [
    "sub_df['planned_subsequent'] = False"
   ]
  },
  {
   "cell_type": "code",
   "execution_count": 80,
   "metadata": {},
   "outputs": [],
   "source": [
    "sub_df = sub_df.reset_index()"
   ]
  },
  {
   "cell_type": "code",
   "execution_count": 88,
   "metadata": {},
   "outputs": [
    {
     "name": "stdout",
     "output_type": "stream",
     "text": [
      "3234.76953125\n"
     ]
    }
   ],
   "source": [
    "start = time.time()\n",
    "pln_sub = False\n",
    "j = 0\n",
    "patient = sub_df.loc[j, 'NRD_VisitLink']\n",
    "while j<len(sub_df):\n",
    "    if pln_sub:\n",
    "        if sub_df.loc[j, 'NRD_VisitLink'] == patient:\n",
    "            sub_df.loc[j, 'planned_subsequent'] = True\n",
    "        else:\n",
    "            pln_sub = False\n",
    "    if sub_df.loc[j, 'planned'] == True:\n",
    "        patient = sub_df.loc[j, 'NRD_VisitLink']\n",
    "        pln_sub = True\n",
    "    j += 1\n",
    "print(time.time()-start)"
   ]
  },
  {
   "cell_type": "code",
   "execution_count": 92,
   "metadata": {},
   "outputs": [],
   "source": [
    "key_subseq = set(sub_df.loc[sub_df['planned_subsequent'], 'KEY_NRD'].values)"
   ]
  },
  {
   "cell_type": "code",
   "execution_count": 97,
   "metadata": {},
   "outputs": [],
   "source": [
    "readm_sort['planned_subseq'] = readm_sort['KEY_NRD'].isin(key_subseq)"
   ]
  },
  {
   "cell_type": "markdown",
   "metadata": {},
   "source": [
    "Create the readmission label:"
   ]
  },
  {
   "cell_type": "code",
   "execution_count": 99,
   "metadata": {},
   "outputs": [],
   "source": [
    "shifted = readm_sort[['NRD_VisitLink', 'NRD_DaysToEvent', 'planned', 'planned_subseq']].shift(periods=-1)"
   ]
  },
  {
   "cell_type": "markdown",
   "metadata": {},
   "source": [
    "This label means whether this admission is followed by an unplanned readmission in this year:"
   ]
  },
  {
   "cell_type": "code",
   "execution_count": 100,
   "metadata": {
    "scrolled": true
   },
   "outputs": [],
   "source": [
    "readm_sort['readm'] = (readm_sort['NRD_VisitLink'] == shifted['NRD_VisitLink']) & (shifted['planned'] == False)"
   ]
  },
  {
   "cell_type": "markdown",
   "metadata": {},
   "source": [
    "The next label means whether this admission is followed by an admission that is neither planned nor planned subseqent:"
   ]
  },
  {
   "cell_type": "code",
   "execution_count": 101,
   "metadata": {},
   "outputs": [],
   "source": [
    "readm_sort['readm_nosubseq'] = (readm_sort['readm'] == True) & (shifted['planned_subseq'] == False)"
   ]
  },
  {
   "cell_type": "code",
   "execution_count": 106,
   "metadata": {},
   "outputs": [
    {
     "data": {
      "text/html": [
       "<div>\n",
       "<style scoped>\n",
       "    .dataframe tbody tr th:only-of-type {\n",
       "        vertical-align: middle;\n",
       "    }\n",
       "\n",
       "    .dataframe tbody tr th {\n",
       "        vertical-align: top;\n",
       "    }\n",
       "\n",
       "    .dataframe thead th {\n",
       "        text-align: right;\n",
       "    }\n",
       "</style>\n",
       "<table border=\"1\" class=\"dataframe\">\n",
       "  <thead>\n",
       "    <tr style=\"text-align: right;\">\n",
       "      <th>readm_nosubseq</th>\n",
       "      <th>False</th>\n",
       "      <th>True</th>\n",
       "      <th>All</th>\n",
       "    </tr>\n",
       "    <tr>\n",
       "      <th>readm</th>\n",
       "      <th></th>\n",
       "      <th></th>\n",
       "      <th></th>\n",
       "    </tr>\n",
       "  </thead>\n",
       "  <tbody>\n",
       "    <tr>\n",
       "      <th>False</th>\n",
       "      <td>11143020</td>\n",
       "      <td>0</td>\n",
       "      <td>11143020</td>\n",
       "    </tr>\n",
       "    <tr>\n",
       "      <th>True</th>\n",
       "      <td>221244</td>\n",
       "      <td>3529329</td>\n",
       "      <td>3750573</td>\n",
       "    </tr>\n",
       "    <tr>\n",
       "      <th>All</th>\n",
       "      <td>11364264</td>\n",
       "      <td>3529329</td>\n",
       "      <td>14893593</td>\n",
       "    </tr>\n",
       "  </tbody>\n",
       "</table>\n",
       "</div>"
      ],
      "text/plain": [
       "readm_nosubseq     False     True       All\n",
       "readm                                      \n",
       "False           11143020        0  11143020\n",
       "True              221244  3529329   3750573\n",
       "All             11364264  3529329  14893593"
      ]
     },
     "execution_count": 106,
     "metadata": {},
     "output_type": "execute_result"
    }
   ],
   "source": [
    "pd.crosstab(index=readm_sort['readm'], columns=readm_sort['readm_nosubseq'], margins=True)"
   ]
  },
  {
   "cell_type": "markdown",
   "metadata": {},
   "source": [
    "The next label means whether this admission is followed by an unplanned and not planned subsequent readmission within 30 days of discharge:"
   ]
  },
  {
   "cell_type": "code",
   "execution_count": 107,
   "metadata": {},
   "outputs": [],
   "source": [
    "readm_sort['readm30'] = (readm_sort['readm_nosubseq'] == True) & (readm_sort['NRD_DaysToEvent'] + readm_sort['LOS'] + 30 > shifted['NRD_DaysToEvent'])"
   ]
  },
  {
   "cell_type": "code",
   "execution_count": 108,
   "metadata": {},
   "outputs": [
    {
     "data": {
      "text/plain": [
       "False    13274845\n",
       "True      1618748\n",
       "Name: readm30, dtype: int64"
      ]
     },
     "execution_count": 108,
     "metadata": {},
     "output_type": "execute_result"
    }
   ],
   "source": [
    "readm_sort['readm30'].value_counts()"
   ]
  },
  {
   "cell_type": "code",
   "execution_count": 110,
   "metadata": {},
   "outputs": [],
   "source": [
    "readm_sort.to_csv(path+'cohorts/readmission_labels.csv')"
   ]
  },
  {
   "cell_type": "code",
   "execution_count": 111,
   "metadata": {},
   "outputs": [
    {
     "data": {
      "text/html": [
       "<div>\n",
       "<style scoped>\n",
       "    .dataframe tbody tr th:only-of-type {\n",
       "        vertical-align: middle;\n",
       "    }\n",
       "\n",
       "    .dataframe tbody tr th {\n",
       "        vertical-align: top;\n",
       "    }\n",
       "\n",
       "    .dataframe thead th {\n",
       "        text-align: right;\n",
       "    }\n",
       "</style>\n",
       "<table border=\"1\" class=\"dataframe\">\n",
       "  <thead>\n",
       "    <tr style=\"text-align: right;\">\n",
       "      <th></th>\n",
       "      <th>KEY_NRD</th>\n",
       "      <th>NRD_VisitLink</th>\n",
       "      <th>NRD_DaysToEvent</th>\n",
       "      <th>LOS</th>\n",
       "      <th>PRCCS1</th>\n",
       "      <th>DXCCS1</th>\n",
       "      <th>PR1</th>\n",
       "      <th>DX1</th>\n",
       "      <th>planned</th>\n",
       "      <th>planned_subseq</th>\n",
       "      <th>readm</th>\n",
       "      <th>readm_nosubseq</th>\n",
       "      <th>readm30</th>\n",
       "    </tr>\n",
       "  </thead>\n",
       "  <tbody>\n",
       "    <tr>\n",
       "      <th>6951241</th>\n",
       "      <td>13027615.0</td>\n",
       "      <td>b000029</td>\n",
       "      <td>15348.0</td>\n",
       "      <td>4.0</td>\n",
       "      <td>NaN</td>\n",
       "      <td>148.0</td>\n",
       "      <td>NaN</td>\n",
       "      <td>5679</td>\n",
       "      <td>False</td>\n",
       "      <td>False</td>\n",
       "      <td>False</td>\n",
       "      <td>False</td>\n",
       "      <td>False</td>\n",
       "    </tr>\n",
       "    <tr>\n",
       "      <th>8966686</th>\n",
       "      <td>17451462.0</td>\n",
       "      <td>b00008o</td>\n",
       "      <td>18763.0</td>\n",
       "      <td>3.0</td>\n",
       "      <td>NaN</td>\n",
       "      <td>218.0</td>\n",
       "      <td>NaN</td>\n",
       "      <td>V3001</td>\n",
       "      <td>False</td>\n",
       "      <td>False</td>\n",
       "      <td>False</td>\n",
       "      <td>False</td>\n",
       "      <td>False</td>\n",
       "    </tr>\n",
       "    <tr>\n",
       "      <th>9720510</th>\n",
       "      <td>15712009.0</td>\n",
       "      <td>b00009m</td>\n",
       "      <td>12287.0</td>\n",
       "      <td>6.0</td>\n",
       "      <td>216.0</td>\n",
       "      <td>59.0</td>\n",
       "      <td>9390</td>\n",
       "      <td>2809</td>\n",
       "      <td>False</td>\n",
       "      <td>False</td>\n",
       "      <td>True</td>\n",
       "      <td>True</td>\n",
       "      <td>True</td>\n",
       "    </tr>\n",
       "    <tr>\n",
       "      <th>9717438</th>\n",
       "      <td>11163602.0</td>\n",
       "      <td>b00009m</td>\n",
       "      <td>12308.0</td>\n",
       "      <td>2.0</td>\n",
       "      <td>NaN</td>\n",
       "      <td>108.0</td>\n",
       "      <td>NaN</td>\n",
       "      <td>42833</td>\n",
       "      <td>False</td>\n",
       "      <td>False</td>\n",
       "      <td>True</td>\n",
       "      <td>True</td>\n",
       "      <td>False</td>\n",
       "    </tr>\n",
       "    <tr>\n",
       "      <th>9721589</th>\n",
       "      <td>17233979.0</td>\n",
       "      <td>b00009m</td>\n",
       "      <td>12353.0</td>\n",
       "      <td>4.0</td>\n",
       "      <td>222.0</td>\n",
       "      <td>153.0</td>\n",
       "      <td>9904</td>\n",
       "      <td>53100</td>\n",
       "      <td>False</td>\n",
       "      <td>False</td>\n",
       "      <td>False</td>\n",
       "      <td>False</td>\n",
       "      <td>False</td>\n",
       "    </tr>\n",
       "  </tbody>\n",
       "</table>\n",
       "</div>"
      ],
      "text/plain": [
       "            KEY_NRD NRD_VisitLink  NRD_DaysToEvent  LOS  PRCCS1  DXCCS1   PR1  \\\n",
       "6951241  13027615.0       b000029          15348.0  4.0     NaN   148.0   NaN   \n",
       "8966686  17451462.0       b00008o          18763.0  3.0     NaN   218.0   NaN   \n",
       "9720510  15712009.0       b00009m          12287.0  6.0   216.0    59.0  9390   \n",
       "9717438  11163602.0       b00009m          12308.0  2.0     NaN   108.0   NaN   \n",
       "9721589  17233979.0       b00009m          12353.0  4.0   222.0   153.0  9904   \n",
       "\n",
       "           DX1  planned  planned_subseq  readm  readm_nosubseq  readm30  \n",
       "6951241   5679    False           False  False           False    False  \n",
       "8966686  V3001    False           False  False           False    False  \n",
       "9720510   2809    False           False   True            True     True  \n",
       "9717438  42833    False           False   True            True    False  \n",
       "9721589  53100    False           False  False           False    False  "
      ]
     },
     "execution_count": 111,
     "metadata": {},
     "output_type": "execute_result"
    }
   ],
   "source": [
    "readm_sort.head()"
   ]
  },
  {
   "cell_type": "code",
   "execution_count": null,
   "metadata": {},
   "outputs": [],
   "source": [
    "readm_sort = pd.read_csv(path+'cohorts/readmssion_labels.csv', dtype=core_dtypes_pd, index_col=0)"
   ]
  },
  {
   "cell_type": "markdown",
   "metadata": {},
   "source": [
    "## Creating Cohorts"
   ]
  },
  {
   "cell_type": "code",
   "execution_count": 33,
   "metadata": {},
   "outputs": [],
   "source": [
    "chunked = pd.read_table(path+'raw/2014/NRD_2014_Core.CSV', sep=',', \n",
    "                           header = None, \n",
    "                           names=core_cols, \n",
    "                           dtype=core_dtypes_pd, \n",
    "                           na_values=na_values, \n",
    "                           chunksize=10**6)"
   ]
  },
  {
   "cell_type": "markdown",
   "metadata": {},
   "source": [
    "The ICD9 diagnosis codes for the three conditions (from Devraj's paper):"
   ]
  },
  {
   "cell_type": "code",
   "execution_count": 48,
   "metadata": {},
   "outputs": [],
   "source": [
    "ami_DX = ['41000', '41001', '41010', '41011', '41020', '41021', '41030', '41031', '41040', '41041', '41050', '41051', '41060', '41061', '41070', '41071', '41080', '41081', '41090', '41091']"
   ]
  },
  {
   "cell_type": "code",
   "execution_count": 42,
   "metadata": {},
   "outputs": [],
   "source": [
    "chf_DX = ['40201', '40211', '40291', '40401', '40403', '40411', '40413', '40491', '40493', '4280', '4281', '4282', '42821', '42822', '42823', '4283', '42831', '42832', '42833', '4284', '42841', '42842', '42843', '4289']"
   ]
  },
  {
   "cell_type": "code",
   "execution_count": 44,
   "metadata": {},
   "outputs": [],
   "source": [
    "pne_DX = ['4800', '4801', '4802', '4803', '4808', '4809', '4810', '4820', '4821', '4822', '4823', '48231', '48232', '48239', '4824', '48241', '48242', '48249', '48281', '48282', '48283', '48284', '48289', '4829', '4830', '4831', '4838', '4850', '4860', '4870', '48811']"
   ]
  },
  {
   "cell_type": "markdown",
   "metadata": {},
   "source": [
    "Extract the rows that have DX1 of the three conditions:"
   ]
  },
  {
   "cell_type": "code",
   "execution_count": 45,
   "metadata": {},
   "outputs": [],
   "source": [
    "ami = pd.DataFrame()\n",
    "chf = pd.DataFrame()\n",
    "pne = pd.DataFrame()"
   ]
  },
  {
   "cell_type": "code",
   "execution_count": 47,
   "metadata": {},
   "outputs": [
    {
     "name": "stdout",
     "output_type": "stream",
     "text": [
      "Chunk 1 finished. Number of rows read: ami: 18099 chf: 29055 pne: 4359\n",
      "Chunk 2 finished. Number of rows read: ami: 18947 chf: 30928 pne: 3906\n",
      "Chunk 3 finished. Number of rows read: ami: 17083 chf: 29934 pne: 4502\n",
      "Chunk 4 finished. Number of rows read: ami: 14968 chf: 28558 pne: 4379\n",
      "Chunk 5 finished. Number of rows read: ami: 17459 chf: 31693 pne: 4206\n",
      "Chunk 6 finished. Number of rows read: ami: 18033 chf: 29730 pne: 4131\n",
      "Chunk 7 finished. Number of rows read: ami: 16192 chf: 29521 pne: 4061\n",
      "Chunk 8 finished. Number of rows read: ami: 17344 chf: 30254 pne: 4257\n",
      "Chunk 9 finished. Number of rows read: ami: 17976 chf: 29186 pne: 4328\n",
      "Chunk 10 finished. Number of rows read: ami: 16449 chf: 29432 pne: 3626\n",
      "Chunk 11 finished. Number of rows read: ami: 15039 chf: 28444 pne: 3590\n",
      "Chunk 12 finished. Number of rows read: ami: 18482 chf: 29122 pne: 4511\n",
      "Chunk 13 finished. Number of rows read: ami: 18341 chf: 30342 pne: 4659\n",
      "Chunk 14 finished. Number of rows read: ami: 18333 chf: 30731 pne: 4614\n",
      "Chunk 15 finished. Number of rows read: ami: 15569 chf: 26462 pne: 3597\n"
     ]
    }
   ],
   "source": [
    "chunk_idx = 1\n",
    "for chunk in chunked:\n",
    "    ami1 = chunk.loc[chunk['DX1'].isin(ami_DX)]\n",
    "    chf1 = chunk.loc[chunk['DX1'].isin(chf_DX)]\n",
    "    pne1 = chunk.loc[chunk['DX1'].isin(pne_DX)]\n",
    "    ami = pd.concat([ami, ami1], ignore_index=True)\n",
    "    chf = pd.concat([chf, chf1], ignore_index=True)\n",
    "    pne = pd.concat([pne, pne1], ignore_index=True)\n",
    "    print('Chunk', chunk_idx, 'finished. Number of rows read: ami:', len(ami1), 'chf:', len(chf1), 'pne:', len(pne1))\n",
    "    chunk_idx += 1"
   ]
  },
  {
   "cell_type": "code",
   "execution_count": 48,
   "metadata": {},
   "outputs": [
    {
     "data": {
      "text/plain": [
       "((258314, 148), (443392, 148), (62726, 148))"
      ]
     },
     "execution_count": 48,
     "metadata": {},
     "output_type": "execute_result"
    }
   ],
   "source": [
    "ami.shape, chf.shape, pne.shape"
   ]
  },
  {
   "cell_type": "code",
   "execution_count": 50,
   "metadata": {},
   "outputs": [],
   "source": [
    "ami.to_csv(path+'cohorts/ami_core_2014.csv', index=False)\n",
    "chf.to_csv(path+'cohorts/chf_core_2014.csv', index=False)\n",
    "pne.to_csv(path+'cohorts/pne_core_2014.csv', index=False)"
   ]
  },
  {
   "cell_type": "code",
   "execution_count": 112,
   "metadata": {},
   "outputs": [],
   "source": [
    "ami = pd.read_csv(path+'cohorts/ami_core_2014.csv', dtype=core_dtypes_pd)"
   ]
  },
  {
   "cell_type": "markdown",
   "metadata": {},
   "source": [
    "Add the readmission labels to the AMI cohort.  "
   ]
  },
  {
   "cell_type": "code",
   "execution_count": 114,
   "metadata": {},
   "outputs": [],
   "source": [
    "ami_label = pd.merge(ami, readm_sort[['KEY_NRD', 'planned', 'planned_subseq', 'readm30']], on='KEY_NRD')"
   ]
  },
  {
   "cell_type": "markdown",
   "metadata": {},
   "source": [
    "Apply the excluding criteria to the AMI cohort: discharge in December, died in hospital, left against medical advice:"
   ]
  },
  {
   "cell_type": "code",
   "execution_count": 115,
   "metadata": {},
   "outputs": [],
   "source": [
    "ami_label = ami_label[(ami_label['DMONTH']!=12) & (ami_label['DIED']==0) & (ami_label['DISPUNIFORM']!=7)]"
   ]
  },
  {
   "cell_type": "markdown",
   "metadata": {},
   "source": [
    "The pecentage of missing length of stay, missing total charge, missing income quantile by zip code are not large:"
   ]
  },
  {
   "cell_type": "code",
   "execution_count": 59,
   "metadata": {},
   "outputs": [
    {
     "data": {
      "text/plain": [
       "0.010279188974726147"
      ]
     },
     "execution_count": 59,
     "metadata": {},
     "output_type": "execute_result"
    }
   ],
   "source": [
    "sum(ami_label['LOS']==0)/len(ami_label)"
   ]
  },
  {
   "cell_type": "code",
   "execution_count": 61,
   "metadata": {
    "scrolled": true
   },
   "outputs": [
    {
     "data": {
      "text/plain": [
       "(0.028666806519577887, 0.01776283986537637)"
      ]
     },
     "execution_count": 61,
     "metadata": {},
     "output_type": "execute_result"
    }
   ],
   "source": [
    "sum(ami_label['TOTCHG'].isna())/len(ami_label), sum(ami_label['ZIPINC_QRTL'].isna())/len(ami_label)"
   ]
  },
  {
   "cell_type": "markdown",
   "metadata": {},
   "source": [
    "So exclude them: "
   ]
  },
  {
   "cell_type": "code",
   "execution_count": 116,
   "metadata": {},
   "outputs": [],
   "source": [
    "ami_label = ami_label[(ami_label['LOS']!=0) & (~ami_label['TOTCHG'].isna()) & (~ami_label['ZIPINC_QRTL'].isna())]"
   ]
  },
  {
   "cell_type": "code",
   "execution_count": 118,
   "metadata": {
    "scrolled": true
   },
   "outputs": [
    {
     "data": {
      "text/plain": [
       "False    207149\n",
       "Name: planned, dtype: int64"
      ]
     },
     "execution_count": 118,
     "metadata": {},
     "output_type": "execute_result"
    }
   ],
   "source": [
    "ami_label['planned'].value_counts()"
   ]
  },
  {
   "cell_type": "code",
   "execution_count": 119,
   "metadata": {},
   "outputs": [
    {
     "data": {
      "text/plain": [
       "False    205544\n",
       "True       1605\n",
       "Name: planned_subseq, dtype: int64"
      ]
     },
     "execution_count": 119,
     "metadata": {},
     "output_type": "execute_result"
    }
   ],
   "source": [
    "ami_label['planned_subseq'].value_counts()"
   ]
  },
  {
   "cell_type": "markdown",
   "metadata": {},
   "source": [
    "Remove the admission that is a subsequent of a planned admission:"
   ]
  },
  {
   "cell_type": "code",
   "execution_count": 120,
   "metadata": {},
   "outputs": [],
   "source": [
    "ami_label = ami_label[ami_label['planned_subseq'] == False]"
   ]
  },
  {
   "cell_type": "code",
   "execution_count": 121,
   "metadata": {},
   "outputs": [],
   "source": [
    "ami_label = ami_label.sort_values(by=['NRD_VisitLink', 'NRD_DaysToEvent'])"
   ]
  },
  {
   "cell_type": "code",
   "execution_count": 122,
   "metadata": {},
   "outputs": [],
   "source": [
    "shifted = ami_label[['NRD_VisitLink', 'NRD_DaysToEvent', 'LOS', 'DX1']].shift()"
   ]
  },
  {
   "cell_type": "markdown",
   "metadata": {},
   "source": [
    "Label the following admission as NOT index admission: it has a previous admission in this year with the same DX1 and it's within 30 days of the discharge of the last admission:"
   ]
  },
  {
   "cell_type": "code",
   "execution_count": 123,
   "metadata": {},
   "outputs": [],
   "source": [
    "ami_label['index_adm'] = ~((ami_label['NRD_VisitLink'] == shifted['NRD_VisitLink']) & (ami_label['DX1']==shifted['DX1']) & (ami_label['NRD_DaysToEvent']<shifted['NRD_DaysToEvent']+shifted['LOS']+30))"
   ]
  },
  {
   "cell_type": "code",
   "execution_count": 124,
   "metadata": {
    "scrolled": true
   },
   "outputs": [
    {
     "data": {
      "text/plain": [
       "True     203409\n",
       "False      2135\n",
       "Name: index_adm, dtype: int64"
      ]
     },
     "execution_count": 124,
     "metadata": {},
     "output_type": "execute_result"
    }
   ],
   "source": [
    "ami_label['index_adm'].value_counts()"
   ]
  },
  {
   "cell_type": "code",
   "execution_count": 125,
   "metadata": {},
   "outputs": [],
   "source": [
    "ami_label = ami_label.loc[ami_label['index_adm']==True].drop(columns=['index_adm'])"
   ]
  },
  {
   "cell_type": "code",
   "execution_count": 12,
   "metadata": {},
   "outputs": [],
   "source": [
    "ami_label = ami_label[ami_label['AGE']>=18]"
   ]
  },
  {
   "cell_type": "markdown",
   "metadata": {},
   "source": [
    "Remove the hospitals with less than 10 admissions for either elder patients (>=65 years old) or younger patients (18-64 years old):"
   ]
  },
  {
   "cell_type": "code",
   "execution_count": 13,
   "metadata": {},
   "outputs": [],
   "source": [
    "elder_freq = ami_label.loc[ami_label['AGE']>=65, 'HOSP_NRD'].value_counts()"
   ]
  },
  {
   "cell_type": "code",
   "execution_count": 14,
   "metadata": {},
   "outputs": [],
   "source": [
    "ami_label = ami_label[~ami_label['HOSP_NRD'].isin(elder_freq[elder_freq<10].index)]"
   ]
  },
  {
   "cell_type": "code",
   "execution_count": 15,
   "metadata": {},
   "outputs": [],
   "source": [
    "younger_freq = ami_label.loc[ami_label['AGE']<=64, 'HOSP_NRD'].value_counts()"
   ]
  },
  {
   "cell_type": "code",
   "execution_count": 16,
   "metadata": {},
   "outputs": [],
   "source": [
    "ami_label = ami_label[~ami_label['HOSP_NRD'].isin(younger_freq[younger_freq<10].index)]"
   ]
  },
  {
   "cell_type": "code",
   "execution_count": 17,
   "metadata": {},
   "outputs": [
    {
     "data": {
      "text/plain": [
       "(196283, 151)"
      ]
     },
     "execution_count": 17,
     "metadata": {},
     "output_type": "execute_result"
    }
   ],
   "source": [
    "ami_label.shape"
   ]
  },
  {
   "cell_type": "code",
   "execution_count": 18,
   "metadata": {},
   "outputs": [
    {
     "data": {
      "text/plain": [
       "False    169856\n",
       "True      26427\n",
       "Name: readm30, dtype: int64"
      ]
     },
     "execution_count": 18,
     "metadata": {},
     "output_type": "execute_result"
    }
   ],
   "source": [
    "ami_label['readm30'].value_counts()"
   ]
  },
  {
   "cell_type": "code",
   "execution_count": 19,
   "metadata": {},
   "outputs": [
    {
     "data": {
      "text/plain": [
       "1.0     142626\n",
       "6.0      26741\n",
       "5.0      22822\n",
       "2.0       3991\n",
       "99.0       103\n",
       "Name: DISPUNIFORM, dtype: int64"
      ]
     },
     "execution_count": 19,
     "metadata": {},
     "output_type": "execute_result"
    }
   ],
   "source": [
    "ami_label['DISPUNIFORM'].value_counts()"
   ]
  },
  {
   "cell_type": "code",
   "execution_count": 20,
   "metadata": {},
   "outputs": [
    {
     "data": {
      "text/plain": [
       "898"
      ]
     },
     "execution_count": 20,
     "metadata": {},
     "output_type": "execute_result"
    }
   ],
   "source": [
    "len(ami_label['HOSP_NRD'].unique())"
   ]
  },
  {
   "cell_type": "code",
   "execution_count": 25,
   "metadata": {},
   "outputs": [
    {
     "data": {
      "text/plain": [
       "108250"
      ]
     },
     "execution_count": 25,
     "metadata": {},
     "output_type": "execute_result"
    }
   ],
   "source": [
    "sum(ami_label['AGE']>64)"
   ]
  },
  {
   "cell_type": "code",
   "execution_count": 21,
   "metadata": {},
   "outputs": [],
   "source": [
    "routine = ami_label[ami_label['DISPUNIFORM'] != 6]"
   ]
  },
  {
   "cell_type": "code",
   "execution_count": 22,
   "metadata": {},
   "outputs": [
    {
     "data": {
      "text/plain": [
       "False    148328\n",
       "True      21214\n",
       "Name: readm30, dtype: int64"
      ]
     },
     "execution_count": 22,
     "metadata": {},
     "output_type": "execute_result"
    }
   ],
   "source": [
    "routine['readm30'].value_counts()"
   ]
  },
  {
   "cell_type": "code",
   "execution_count": 23,
   "metadata": {},
   "outputs": [
    {
     "data": {
      "text/plain": [
       "898"
      ]
     },
     "execution_count": 23,
     "metadata": {},
     "output_type": "execute_result"
    }
   ],
   "source": [
    "len(routine['HOSP_NRD'].unique())"
   ]
  },
  {
   "cell_type": "code",
   "execution_count": 24,
   "metadata": {},
   "outputs": [
    {
     "data": {
      "text/plain": [
       "(169542, 151)"
      ]
     },
     "execution_count": 24,
     "metadata": {},
     "output_type": "execute_result"
    }
   ],
   "source": [
    "routine.shape"
   ]
  },
  {
   "cell_type": "code",
   "execution_count": 26,
   "metadata": {},
   "outputs": [],
   "source": [
    "ami_label.to_csv(path+'cohorts/ami_index.csv', index=False)"
   ]
  },
  {
   "cell_type": "code",
   "execution_count": 7,
   "metadata": {},
   "outputs": [],
   "source": [
    "ami_label = pd.read_csv(path+'cohorts/ami_index.csv', dtype=core_dtypes_pd)"
   ]
  },
  {
   "cell_type": "code",
   "execution_count": 14,
   "metadata": {},
   "outputs": [
    {
     "data": {
      "text/html": [
       "<div>\n",
       "<style scoped>\n",
       "    .dataframe tbody tr th:only-of-type {\n",
       "        vertical-align: middle;\n",
       "    }\n",
       "\n",
       "    .dataframe tbody tr th {\n",
       "        vertical-align: top;\n",
       "    }\n",
       "\n",
       "    .dataframe thead th {\n",
       "        text-align: right;\n",
       "    }\n",
       "</style>\n",
       "<table border=\"1\" class=\"dataframe\">\n",
       "  <thead>\n",
       "    <tr style=\"text-align: right;\">\n",
       "      <th></th>\n",
       "      <th>AGE</th>\n",
       "      <th>AWEEKEND</th>\n",
       "      <th>DIED</th>\n",
       "      <th>DISCWT</th>\n",
       "      <th>DISPUNIFORM</th>\n",
       "      <th>DMONTH</th>\n",
       "      <th>DQTR</th>\n",
       "      <th>DRG</th>\n",
       "      <th>DRGVER</th>\n",
       "      <th>DRG_NoPOA</th>\n",
       "      <th>...</th>\n",
       "      <th>RESIDENT</th>\n",
       "      <th>SAMEDAYEVENT</th>\n",
       "      <th>SERVICELINE</th>\n",
       "      <th>TOTCHG</th>\n",
       "      <th>YEAR</th>\n",
       "      <th>ZIPINC_QRTL</th>\n",
       "      <th>planned</th>\n",
       "      <th>readm</th>\n",
       "      <th>readm30</th>\n",
       "      <th>index_adm</th>\n",
       "    </tr>\n",
       "  </thead>\n",
       "  <tbody>\n",
       "    <tr>\n",
       "      <th>0</th>\n",
       "      <td>89.0</td>\n",
       "      <td>1.0</td>\n",
       "      <td>0.0</td>\n",
       "      <td>2.833704</td>\n",
       "      <td>2.0</td>\n",
       "      <td>7.0</td>\n",
       "      <td>3.0</td>\n",
       "      <td>280.0</td>\n",
       "      <td>31.0</td>\n",
       "      <td>280.0</td>\n",
       "      <td>...</td>\n",
       "      <td>1.0</td>\n",
       "      <td>4</td>\n",
       "      <td>5.0</td>\n",
       "      <td>64660.0</td>\n",
       "      <td>2014.0</td>\n",
       "      <td>1.0</td>\n",
       "      <td>False</td>\n",
       "      <td>True</td>\n",
       "      <td>True</td>\n",
       "      <td>True</td>\n",
       "    </tr>\n",
       "    <tr>\n",
       "      <th>1</th>\n",
       "      <td>65.0</td>\n",
       "      <td>0.0</td>\n",
       "      <td>0.0</td>\n",
       "      <td>2.046126</td>\n",
       "      <td>6.0</td>\n",
       "      <td>1.0</td>\n",
       "      <td>1.0</td>\n",
       "      <td>249.0</td>\n",
       "      <td>31.0</td>\n",
       "      <td>249.0</td>\n",
       "      <td>...</td>\n",
       "      <td>1.0</td>\n",
       "      <td>0</td>\n",
       "      <td>4.0</td>\n",
       "      <td>36915.0</td>\n",
       "      <td>2014.0</td>\n",
       "      <td>3.0</td>\n",
       "      <td>False</td>\n",
       "      <td>True</td>\n",
       "      <td>False</td>\n",
       "      <td>True</td>\n",
       "    </tr>\n",
       "    <tr>\n",
       "      <th>2</th>\n",
       "      <td>72.0</td>\n",
       "      <td>0.0</td>\n",
       "      <td>0.0</td>\n",
       "      <td>1.435778</td>\n",
       "      <td>1.0</td>\n",
       "      <td>10.0</td>\n",
       "      <td>4.0</td>\n",
       "      <td>280.0</td>\n",
       "      <td>32.0</td>\n",
       "      <td>280.0</td>\n",
       "      <td>...</td>\n",
       "      <td>1.0</td>\n",
       "      <td>0</td>\n",
       "      <td>5.0</td>\n",
       "      <td>125222.0</td>\n",
       "      <td>2014.0</td>\n",
       "      <td>2.0</td>\n",
       "      <td>False</td>\n",
       "      <td>False</td>\n",
       "      <td>False</td>\n",
       "      <td>True</td>\n",
       "    </tr>\n",
       "    <tr>\n",
       "      <th>3</th>\n",
       "      <td>57.0</td>\n",
       "      <td>0.0</td>\n",
       "      <td>0.0</td>\n",
       "      <td>2.308072</td>\n",
       "      <td>1.0</td>\n",
       "      <td>11.0</td>\n",
       "      <td>4.0</td>\n",
       "      <td>282.0</td>\n",
       "      <td>32.0</td>\n",
       "      <td>282.0</td>\n",
       "      <td>...</td>\n",
       "      <td>1.0</td>\n",
       "      <td>0</td>\n",
       "      <td>5.0</td>\n",
       "      <td>47257.0</td>\n",
       "      <td>2014.0</td>\n",
       "      <td>4.0</td>\n",
       "      <td>False</td>\n",
       "      <td>False</td>\n",
       "      <td>False</td>\n",
       "      <td>True</td>\n",
       "    </tr>\n",
       "    <tr>\n",
       "      <th>4</th>\n",
       "      <td>61.0</td>\n",
       "      <td>0.0</td>\n",
       "      <td>0.0</td>\n",
       "      <td>5.119861</td>\n",
       "      <td>1.0</td>\n",
       "      <td>11.0</td>\n",
       "      <td>4.0</td>\n",
       "      <td>247.0</td>\n",
       "      <td>32.0</td>\n",
       "      <td>247.0</td>\n",
       "      <td>...</td>\n",
       "      <td>1.0</td>\n",
       "      <td>0</td>\n",
       "      <td>4.0</td>\n",
       "      <td>55842.0</td>\n",
       "      <td>2014.0</td>\n",
       "      <td>1.0</td>\n",
       "      <td>False</td>\n",
       "      <td>False</td>\n",
       "      <td>False</td>\n",
       "      <td>True</td>\n",
       "    </tr>\n",
       "  </tbody>\n",
       "</table>\n",
       "<p>5 rows × 152 columns</p>\n",
       "</div>"
      ],
      "text/plain": [
       "    AGE  AWEEKEND  DIED    DISCWT  DISPUNIFORM  DMONTH  DQTR    DRG  DRGVER  \\\n",
       "0  89.0       1.0   0.0  2.833704          2.0     7.0   3.0  280.0    31.0   \n",
       "1  65.0       0.0   0.0  2.046126          6.0     1.0   1.0  249.0    31.0   \n",
       "2  72.0       0.0   0.0  1.435778          1.0    10.0   4.0  280.0    32.0   \n",
       "3  57.0       0.0   0.0  2.308072          1.0    11.0   4.0  282.0    32.0   \n",
       "4  61.0       0.0   0.0  5.119861          1.0    11.0   4.0  247.0    32.0   \n",
       "\n",
       "   DRG_NoPOA    ...    RESIDENT SAMEDAYEVENT SERVICELINE    TOTCHG    YEAR  \\\n",
       "0      280.0    ...         1.0            4         5.0   64660.0  2014.0   \n",
       "1      249.0    ...         1.0            0         4.0   36915.0  2014.0   \n",
       "2      280.0    ...         1.0            0         5.0  125222.0  2014.0   \n",
       "3      282.0    ...         1.0            0         5.0   47257.0  2014.0   \n",
       "4      247.0    ...         1.0            0         4.0   55842.0  2014.0   \n",
       "\n",
       "  ZIPINC_QRTL planned  readm readm30 index_adm  \n",
       "0         1.0   False   True    True      True  \n",
       "1         3.0   False   True   False      True  \n",
       "2         2.0   False  False   False      True  \n",
       "3         4.0   False  False   False      True  \n",
       "4         1.0   False  False   False      True  \n",
       "\n",
       "[5 rows x 152 columns]"
      ]
     },
     "execution_count": 14,
     "metadata": {},
     "output_type": "execute_result"
    }
   ],
   "source": [
    "ami_label.head()"
   ]
  },
  {
   "cell_type": "markdown",
   "metadata": {},
   "source": [
    "### Summary Stats for Diagnosis Codes"
   ]
  },
  {
   "cell_type": "code",
   "execution_count": 27,
   "metadata": {},
   "outputs": [],
   "source": [
    "DX_lst = ['DX'+str(n) for n in range(1,31)]"
   ]
  },
  {
   "cell_type": "code",
   "execution_count": 28,
   "metadata": {},
   "outputs": [],
   "source": [
    "missing_pct = [ami_label[DX].isnull().sum()/len(ami_label) for DX in DX_lst]"
   ]
  },
  {
   "cell_type": "code",
   "execution_count": 29,
   "metadata": {
    "scrolled": false
   },
   "outputs": [
    {
     "name": "stdout",
     "output_type": "stream",
     "text": [
      "DX1 \t 0.000\n",
      "DX2 \t 0.001\n",
      "DX3 \t 0.005\n",
      "DX4 \t 0.019\n",
      "DX5 \t 0.047\n",
      "DX6 \t 0.093\n",
      "DX7 \t 0.150\n",
      "DX8 \t 0.215\n",
      "DX9 \t 0.287\n",
      "DX10 \t 0.381\n",
      "DX11 \t 0.443\n",
      "DX12 \t 0.502\n",
      "DX13 \t 0.557\n",
      "DX14 \t 0.606\n",
      "DX15 \t 0.654\n",
      "DX16 \t 0.717\n",
      "DX17 \t 0.752\n",
      "DX18 \t 0.783\n",
      "DX19 \t 0.847\n",
      "DX20 \t 0.867\n",
      "DX21 \t 0.886\n",
      "DX22 \t 0.902\n",
      "DX23 \t 0.916\n",
      "DX24 \t 0.928\n",
      "DX25 \t 0.939\n",
      "DX26 \t 0.961\n",
      "DX27 \t 0.966\n",
      "DX28 \t 0.971\n",
      "DX29 \t 0.975\n",
      "DX30 \t 0.979\n"
     ]
    }
   ],
   "source": [
    "for DX, pct in zip(DX_lst, missing_pct):\n",
    "    print(DX, '\\t', '{:.3f}'.format(pct))"
   ]
  },
  {
   "cell_type": "code",
   "execution_count": 30,
   "metadata": {},
   "outputs": [],
   "source": [
    "DX_number = 30 - ami_label[DX_lst].isna().apply(sum, axis=1)"
   ]
  },
  {
   "cell_type": "code",
   "execution_count": 31,
   "metadata": {},
   "outputs": [
    {
     "data": {
      "text/plain": [
       "<matplotlib.axes._subplots.AxesSubplot at 0x2abd2f7e7ba8>"
      ]
     },
     "execution_count": 31,
     "metadata": {},
     "output_type": "execute_result"
    },
    {
     "data": {
      "image/png": "[encoded data removed]",
      "text/plain": [
       "<Figure size 432x288 with 1 Axes>"
      ]
     },
     "metadata": {},
     "output_type": "display_data"
    }
   ],
   "source": [
    "DX_number.hist(bins=30, density=1)"
   ]
  },
  {
   "cell_type": "code",
   "execution_count": 32,
   "metadata": {
    "scrolled": false
   },
   "outputs": [
    {
     "data": {
      "text/plain": [
       "DX1       20\n",
       "DX2     2698\n",
       "DX3     2603\n",
       "DX4     2712\n",
       "DX5     2825\n",
       "DX6     2775\n",
       "DX7     2708\n",
       "DX8     2651\n",
       "DX9     2677\n",
       "DX10    2443\n",
       "DX11    2445\n",
       "DX12    2370\n",
       "DX13    2261\n",
       "DX14    2188\n",
       "DX15    2104\n",
       "DX16    1959\n",
       "DX17    1997\n",
       "DX18    1912\n",
       "DX19    1618\n",
       "DX20    1568\n",
       "DX21    1494\n",
       "DX22    1477\n",
       "DX23    1394\n",
       "DX24    1075\n",
       "DX25    1185\n",
       "DX26    1060\n",
       "DX27     996\n",
       "DX28     968\n",
       "DX29     852\n",
       "DX30     818\n",
       "dtype: int64"
      ]
     },
     "execution_count": 32,
     "metadata": {},
     "output_type": "execute_result"
    }
   ],
   "source": [
    "ami_label[DX_lst].nunique(dropna=False)"
   ]
  },
  {
   "cell_type": "code",
   "execution_count": 33,
   "metadata": {},
   "outputs": [
    {
     "data": {
      "text/plain": [
       "5487"
      ]
     },
     "execution_count": 33,
     "metadata": {},
     "output_type": "execute_result"
    }
   ],
   "source": [
    "pd.concat([ami_label[DX] for DX in DX_lst]).nunique()"
   ]
  },
  {
   "cell_type": "code",
   "execution_count": 35,
   "metadata": {},
   "outputs": [],
   "source": [
    "DX_freq = pd.concat([ami_label[DX] for DX in DX_lst]).value_counts()"
   ]
  },
  {
   "cell_type": "code",
   "execution_count": 36,
   "metadata": {},
   "outputs": [
    {
     "data": {
      "text/plain": [
       "2429"
      ]
     },
     "execution_count": 36,
     "metadata": {},
     "output_type": "execute_result"
    }
   ],
   "source": [
    "sum(DX_freq > 10)"
   ]
  },
  {
   "cell_type": "markdown",
   "metadata": {},
   "source": [
    "## Create the input data for prediction with comorbidities"
   ]
  },
  {
   "cell_type": "code",
   "execution_count": 5,
   "metadata": {},
   "outputs": [],
   "source": [
    "severity_cols = ['APRDRG', 'APRDRG_Risk_Mortality', 'APRDRG_Severity', 'CM_AIDS',\n",
    "       'CM_ALCOHOL', 'CM_ANEMDEF', 'CM_ARTH', 'CM_BLDLOSS', 'CM_CHF',\n",
    "       'CM_CHRNLUNG', 'CM_COAG', 'CM_DEPRESS', 'CM_DM', 'CM_DMCX', 'CM_DRUG',\n",
    "       'CM_HTN_C', 'CM_HYPOTHY', 'CM_LIVER', 'CM_LYMPH', 'CM_LYTES', 'CM_METS',\n",
    "       'CM_NEURO', 'CM_OBESE', 'CM_PARA', 'CM_PERIVASC', 'CM_PSYCH',\n",
    "       'CM_PULMCIRC', 'CM_RENLFAIL', 'CM_TUMOR', 'CM_ULCER', 'CM_VALVE',\n",
    "       'CM_WGHTLOSS', 'HOSP_NRD', 'KEY_NRD']\n",
    "\n",
    "severity_labels = ['All Patient Refined DRG', 'All Patient Refined DRG: Risk of Mortality Subclass', 'All Patient Refined DRG: Severity of Illness Subclass', 'AHRQ comorbidity measure: Acquired immune deficiency syndrome', 'AHRQ comorbidity measure: Alcohol abuse', 'AHRQ comorbidity measure: Deficiency anemias', 'AHRQ comorbidity measure: Rheumatoid arthritis/collagen vascular diseases', 'AHRQ comorbidity measure: Chronic blood loss anemia', 'AHRQ comorbidity measure: Congestive heart failure', 'AHRQ comorbidity measure: Chronic pulmonary disease', 'AHRQ comorbidity measure: Coagulopathy', 'AHRQ comorbidity measure: Depression', 'AHRQ comorbidity measure: Diabetes, uncomplicated', 'AHRQ comorbidity measure: Diabetes with chronic complications', 'AHRQ comorbidity measure: Drug abuse', 'AHRQ comorbidity measure: Hypertension (combine uncomplicated and complicated)', 'AHRQ comorbidity measure: Hypothyroidism', 'AHRQ comorbidity measure: Liver disease', 'AHRQ comorbidity measure: Lymphoma', 'AHRQ comorbidity measure: Fluid and electrolyte disorders', 'AHRQ comorbidity measure: Metastatic cancer', 'AHRQ comorbidity measure: Other neurological disorders', 'AHRQ comorbidity measure: Obesity', 'AHRQ comorbidity measure: Paralysis', 'AHRQ comorbidity measure: Peripheral vascular disorders', 'AHRQ comorbidity measure: Psychoses', 'AHRQ comorbidity measure: Pulmonary circulation disorders', 'AHRQ comorbidity measure: Renal failure', 'AHRQ comorbidity measure: Solid tumor without metastasis', 'AHRQ comorbidity measure: Peptic ulcer disease excluding bleeding', 'AHRQ comorbidity measure: Valvular disease', 'AHRQ comorbidity measure: Weight loss', 'NRD hospital identifier', 'NRD record identifier']\n",
    "\n",
    "severity_dtypes_pd = dict(zip(severity_cols, [float]*len(severity_cols)))"
   ]
  },
  {
   "cell_type": "code",
   "execution_count": 6,
   "metadata": {},
   "outputs": [],
   "source": [
    "severity = pd.read_table(path+'raw/2014/NRD_2014_Severity.CSV', sep=',', \n",
    "                           header = None, \n",
    "                           names=severity_cols, \n",
    "                           dtype=severity_dtypes_pd, \n",
    "                           na_values=na_values)"
   ]
  },
  {
   "cell_type": "code",
   "execution_count": 69,
   "metadata": {},
   "outputs": [
    {
     "data": {
      "text/plain": [
       "(14894613, 34)"
      ]
     },
     "execution_count": 69,
     "metadata": {},
     "output_type": "execute_result"
    }
   ],
   "source": [
    "severity.shape"
   ]
  },
  {
   "cell_type": "code",
   "execution_count": 8,
   "metadata": {},
   "outputs": [],
   "source": [
    "ami_severity = severity.loc[severity['KEY_NRD'].isin(ami_label['KEY_NRD'])]"
   ]
  },
  {
   "cell_type": "code",
   "execution_count": 71,
   "metadata": {},
   "outputs": [
    {
     "data": {
      "text/plain": [
       "(196283, 34)"
      ]
     },
     "execution_count": 71,
     "metadata": {},
     "output_type": "execute_result"
    }
   ],
   "source": [
    "ami_severity.shape"
   ]
  },
  {
   "cell_type": "code",
   "execution_count": 9,
   "metadata": {},
   "outputs": [],
   "source": [
    "comorb = [n for n in severity_cols if n.startswith('CM')]"
   ]
  },
  {
   "cell_type": "code",
   "execution_count": 10,
   "metadata": {},
   "outputs": [],
   "source": [
    "comorb_df = pd.merge(ami_severity[comorb+['KEY_NRD']], ami_label[['AGE', 'FEMALE', 'HOSP_NRD', 'KEY_NRD', 'NRD_VisitLink', 'NRD_DaysToEvent', 'readm30']], on='KEY_NRD')"
   ]
  },
  {
   "cell_type": "code",
   "execution_count": 11,
   "metadata": {},
   "outputs": [
    {
     "data": {
      "text/plain": [
       "(196283, 36)"
      ]
     },
     "execution_count": 11,
     "metadata": {},
     "output_type": "execute_result"
    }
   ],
   "source": [
    "comorb_df.shape"
   ]
  },
  {
   "cell_type": "code",
   "execution_count": 12,
   "metadata": {},
   "outputs": [],
   "source": [
    "comorb_df.to_csv(path+'cohorts/comorbidities.csv', index=False)"
   ]
  },
  {
   "cell_type": "markdown",
   "metadata": {},
   "source": [
    "Distribution of number of comorbidities for each admission:"
   ]
  },
  {
   "cell_type": "code",
   "execution_count": 13,
   "metadata": {},
   "outputs": [
    {
     "data": {
      "text/plain": [
       "<matplotlib.axes._subplots.AxesSubplot at 0x2ae103199710>"
      ]
     },
     "execution_count": 13,
     "metadata": {},
     "output_type": "execute_result"
    },
    {
     "data": {
      "image/png": "[encoded data removed]",
      "text/plain": [
       "<Figure size 432x288 with 1 Axes>"
      ]
     },
     "metadata": {},
     "output_type": "display_data"
    }
   ],
   "source": [
    "comorb_df[comorb].apply(sum, axis=1).hist(bins=14, density=1)"
   ]
  },
  {
   "cell_type": "markdown",
   "metadata": {},
   "source": [
    "### backups"
   ]
  },
  {
   "cell_type": "code",
   "execution_count": 67,
   "metadata": {},
   "outputs": [],
   "source": [
    "severity2014 = pd.read_sas(path+'sas/nrd_severity_2014.sas7bdat', chunksize=10**6)"
   ]
  },
  {
   "cell_type": "code",
   "execution_count": 75,
   "metadata": {},
   "outputs": [],
   "source": [
    "core2014 = pd.read_sas(path+'sas/nrd_core_2014.sas7bdat', chunksize=10000)"
   ]
  },
  {
   "cell_type": "code",
   "execution_count": 72,
   "metadata": {},
   "outputs": [],
   "source": [
    "dxpr2014 = pd.read_sas(path+'sas/nrd_dx_pr_grps_2014.sas7bdat', chunksize=1000)"
   ]
  },
  {
   "cell_type": "code",
   "execution_count": 61,
   "metadata": {},
   "outputs": [],
   "source": [
    "core_dtypes_logic[core_cols.index('TOTCHG')] = 'continuous'"
   ]
  },
  {
   "cell_type": "code",
   "execution_count": 40,
   "metadata": {},
   "outputs": [
    {
     "data": {
      "text/plain": [
       "count    220134.000000\n",
       "mean          1.175638\n",
       "std           2.641674\n",
       "min          -4.000000\n",
       "25%           0.000000\n",
       "50%           0.000000\n",
       "75%           1.000000\n",
       "max         365.000000\n",
       "Name: PRDAY1, dtype: float64"
      ]
     },
     "execution_count": 40,
     "metadata": {},
     "output_type": "execute_result"
    }
   ],
   "source": [
    "ami['PRDAY1'].describe()"
   ]
  },
  {
   "cell_type": "code",
   "execution_count": 64,
   "metadata": {},
   "outputs": [
    {
     "data": {
      "text/plain": [
       " 1.0    72043\n",
       " 2.0    70457\n",
       " 3.0    59103\n",
       " 4.0    52113\n",
       "NaN      4598\n",
       "Name: ZIPINC_QRTL, dtype: int64"
      ]
     },
     "execution_count": 64,
     "metadata": {},
     "output_type": "execute_result"
    }
   ],
   "source": [
    "ami['ZIPINC_QRTL'].value_counts(dropna=False)"
   ]
  },
  {
   "cell_type": "code",
   "execution_count": 62,
   "metadata": {
    "scrolled": false
   },
   "outputs": [
    {
     "name": "stdout",
     "output_type": "stream",
     "text": [
      "AGE \t Age in years at admission \t continuous\n",
      "AWEEKEND \t Admission day is a weekend \t categorical\n",
      "DIED \t Died during hospitalization \t categorical\n",
      "DISCWT \t Weight to discharges in AHA universe \t continuous\n",
      "DISPUNIFORM \t Disposition of patient (uniform) \t categorical\n",
      "DMONTH \t Discharge month \t categorical\n",
      "DQTR \t Discharge quarter \t categorical\n",
      "DRG \t DRG in effect on discharge date \t categorical\n",
      "DRGVER \t DRG grouper version used on discharge date \t categorical\n",
      "DRG_NoPOA \t DRG in use on discharge date, calculated without POA \t categorical\n",
      "DX1 \t Diagnosis 1 \t embedding\n",
      "DX2 \t Diagnosis 2 \t embedding\n",
      "DX3 \t Diagnosis 3 \t embedding\n",
      "DX4 \t Diagnosis 4 \t embedding\n",
      "DX5 \t Diagnosis 5 \t embedding\n",
      "DX6 \t Diagnosis 6 \t embedding\n",
      "DX7 \t Diagnosis 7 \t embedding\n",
      "DX8 \t Diagnosis 8 \t embedding\n",
      "DX9 \t Diagnosis 9 \t embedding\n",
      "DX10 \t Diagnosis 10 \t embedding\n",
      "DX11 \t Diagnosis 11 \t embedding\n",
      "DX12 \t Diagnosis 12 \t embedding\n",
      "DX13 \t Diagnosis 13 \t embedding\n",
      "DX14 \t Diagnosis 14 \t embedding\n",
      "DX15 \t Diagnosis 15 \t embedding\n",
      "DX16 \t Diagnosis 16 \t embedding\n",
      "DX17 \t Diagnosis 17 \t embedding\n",
      "DX18 \t Diagnosis 18 \t embedding\n",
      "DX19 \t Diagnosis 19 \t embedding\n",
      "DX20 \t Diagnosis 20 \t embedding\n",
      "DX21 \t Diagnosis 21 \t embedding\n",
      "DX22 \t Diagnosis 22 \t embedding\n",
      "DX23 \t Diagnosis 23 \t embedding\n",
      "DX24 \t Diagnosis 24 \t embedding\n",
      "DX25 \t Diagnosis 25 \t embedding\n",
      "DX26 \t Diagnosis 26 \t embedding\n",
      "DX27 \t Diagnosis 27 \t embedding\n",
      "DX28 \t Diagnosis 28 \t embedding\n",
      "DX29 \t Diagnosis 29 \t embedding\n",
      "DX30 \t Diagnosis 30 \t embedding\n",
      "DXCCS1 \t CCS: diagnosis 1 \t categorical\n",
      "DXCCS2 \t CCS: diagnosis 2 \t categorical\n",
      "DXCCS3 \t CCS: diagnosis 3 \t categorical\n",
      "DXCCS4 \t CCS: diagnosis 4 \t categorical\n",
      "DXCCS5 \t CCS: diagnosis 5 \t categorical\n",
      "DXCCS6 \t CCS: diagnosis 6 \t categorical\n",
      "DXCCS7 \t CCS: diagnosis 7 \t categorical\n",
      "DXCCS8 \t CCS: diagnosis 8 \t categorical\n",
      "DXCCS9 \t CCS: diagnosis 9 \t categorical\n",
      "DXCCS10 \t CCS: diagnosis 10 \t categorical\n",
      "DXCCS11 \t CCS: diagnosis 11 \t categorical\n",
      "DXCCS12 \t CCS: diagnosis 12 \t categorical\n",
      "DXCCS13 \t CCS: diagnosis 13 \t categorical\n",
      "DXCCS14 \t CCS: diagnosis 14 \t categorical\n",
      "DXCCS15 \t CCS: diagnosis 15 \t categorical\n",
      "DXCCS16 \t CCS: diagnosis 16 \t categorical\n",
      "DXCCS17 \t CCS: diagnosis 17 \t categorical\n",
      "DXCCS18 \t CCS: diagnosis 18 \t categorical\n",
      "DXCCS19 \t CCS: diagnosis 19 \t categorical\n",
      "DXCCS20 \t CCS: diagnosis 20 \t categorical\n",
      "DXCCS21 \t CCS: diagnosis 21 \t categorical\n",
      "DXCCS22 \t CCS: diagnosis 22 \t categorical\n",
      "DXCCS23 \t CCS: diagnosis 23 \t categorical\n",
      "DXCCS24 \t CCS: diagnosis 24 \t categorical\n",
      "DXCCS25 \t CCS: diagnosis 25 \t categorical\n",
      "DXCCS26 \t CCS: diagnosis 26 \t categorical\n",
      "DXCCS27 \t CCS: diagnosis 27 \t categorical\n",
      "DXCCS28 \t CCS: diagnosis 28 \t categorical\n",
      "DXCCS29 \t CCS: diagnosis 29 \t categorical\n",
      "DXCCS30 \t CCS: diagnosis 30 \t categorical\n",
      "ECODE1 \t E code 1 \t embedding\n",
      "ECODE2 \t E code 2 \t embedding\n",
      "ECODE3 \t E code 3 \t embedding\n",
      "ECODE4 \t E code 4 \t embedding\n",
      "ELECTIVE \t Elective versus non-elective admission \t categorical\n",
      "E_CCS1 \t CCS: E Code 1 \t categorical\n",
      "E_CCS2 \t CCS: E Code 2 \t categorical\n",
      "E_CCS3 \t CCS: E Code 3 \t categorical\n",
      "E_CCS4 \t CCS: E Code 4 \t categorical\n",
      "FEMALE \t Indicator of sex \t categorical\n",
      "HCUP_ED \t HCUP Emergency Department service indicator \t categorical\n",
      "HOSP_NRD \t NRD hospital identifier \t categorical\n",
      "KEY_NRD \t NRD record identifier \t categorical\n",
      "LOS \t Length of stay (cleaned) \t continuous\n",
      "MDC \t MDC in effect on discharge date \t categorical\n",
      "MDC_NoPOA \t MDC in use on discharge date, calculated without POA \t categorical\n",
      "NCHRONIC \t Number of chronic conditions \t categorical\n",
      "NDX \t Number of diagnoses on this record \t categorical\n",
      "NECODE \t Number of E codes on this record \t categorical\n",
      "NPR \t Number of procedures on this record \t categorical\n",
      "NRD_DaysToEvent \t Timing variable used to identify days between admissions \t continuous\n",
      "NRD_STRATUM \t NRD stratum used for weighting \t categorical\n",
      "NRD_VisitLink \t NRD visitlink \t embedding\n",
      "ORPROC \t Major operating room procedure indicator \t categorical\n",
      "PAY1 \t Primary expected payer (uniform) \t categorical\n",
      "PL_NCHS \t Patient Location: NCHS Urban-Rural Code \t categorical\n",
      "PR1 \t Procedure 1 \t embedding\n",
      "PR2 \t Procedure 2 \t embedding\n",
      "PR3 \t Procedure 3 \t embedding\n",
      "PR4 \t Procedure 4 \t embedding\n",
      "PR5 \t Procedure 5 \t embedding\n",
      "PR6 \t Procedure 6 \t embedding\n",
      "PR7 \t Procedure 7 \t embedding\n",
      "PR8 \t Procedure 8 \t embedding\n",
      "PR9 \t Procedure 9 \t embedding\n",
      "PR10 \t Procedure 10 \t embedding\n",
      "PR11 \t Procedure 11 \t embedding\n",
      "PR12 \t Procedure 12 \t embedding\n",
      "PR13 \t Procedure 13 \t embedding\n",
      "PR14 \t Procedure 14 \t embedding\n",
      "PR15 \t Procedure 15 \t embedding\n",
      "PRCCS1 \t CCS: procedure 1 \t categorical\n",
      "PRCCS2 \t CCS: procedure 2 \t categorical\n",
      "PRCCS3 \t CCS: procedure 3 \t categorical\n",
      "PRCCS4 \t CCS: procedure 4 \t categorical\n",
      "PRCCS5 \t CCS: procedure 5 \t categorical\n",
      "PRCCS6 \t CCS: procedure 6 \t categorical\n",
      "PRCCS7 \t CCS: procedure 7 \t categorical\n",
      "PRCCS8 \t CCS: procedure 8 \t categorical\n",
      "PRCCS9 \t CCS: procedure 9 \t categorical\n",
      "PRCCS10 \t CCS: procedure 10 \t categorical\n",
      "PRCCS11 \t CCS: procedure 11 \t categorical\n",
      "PRCCS12 \t CCS: procedure 12 \t categorical\n",
      "PRCCS13 \t CCS: procedure 13 \t categorical\n",
      "PRCCS14 \t CCS: procedure 14 \t categorical\n",
      "PRCCS15 \t CCS: procedure 15 \t categorical\n",
      "PRDAY1 \t Number of days from admission to PR1 \t continuous\n",
      "PRDAY2 \t Number of days from admission to PR2 \t continuous\n",
      "PRDAY3 \t Number of days from admission to PR3 \t continuous\n",
      "PRDAY4 \t Number of days from admission to PR4 \t continuous\n",
      "PRDAY5 \t Number of days from admission to PR5 \t continuous\n",
      "PRDAY6 \t Number of days from admission to PR6 \t continuous\n",
      "PRDAY7 \t Number of days from admission to PR7 \t continuous\n",
      "PRDAY8 \t Number of days from admission to PR8 \t continuous\n",
      "PRDAY9 \t Number of days from admission to PR9 \t continuous\n",
      "PRDAY10 \t Number of days from admission to PR10 \t continuous\n",
      "PRDAY11 \t Number of days from admission to PR11 \t continuous\n",
      "PRDAY12 \t Number of days from admission to PR12 \t continuous\n",
      "PRDAY13 \t Number of days from admission to PR13 \t continuous\n",
      "PRDAY14 \t Number of days from admission to PR14 \t continuous\n",
      "PRDAY15 \t Number of days from admission to PR15 \t continuous\n",
      "REHABTRANSFER \t A combined record involving rehab transfer \t categorical\n",
      "RESIDENT \t Patient State is the same as Hospital State \t categorical\n",
      "SAMEDAYEVENT \t Transfer flag indicating combination of discharges involve same day events \t categorical\n",
      "SERVICELINE \t Hospital Service Line \t categorical\n",
      "TOTCHG \t Total charges (cleaned) \t continuous\n",
      "YEAR \t Calendar year \t categorical\n",
      "ZIPINC_QRTL \t Median household income national quartile for patient ZIP Code \t categorical\n"
     ]
    }
   ],
   "source": [
    "for c, l, t in zip(core_cols, core_labels, core_dtypes_logic):\n",
    "    print(c, '\\t', l, '\\t', t)"
   ]
  },
  {
   "cell_type": "code",
   "execution_count": 76,
   "metadata": {},
   "outputs": [],
   "source": [
    "tp = pd.read_table(path+'raw/2014/NRD_2014_Core.CSV', sep=',', header = None, \n",
    "                   names=core_cols, \n",
    "                   dtype=core_dtypes_pd, \n",
    "                   na_values=na_values, \n",
    "                   nrows=10000)"
   ]
  },
  {
   "cell_type": "code",
   "execution_count": 74,
   "metadata": {},
   "outputs": [
    {
     "data": {
      "text/plain": [
       "str"
      ]
     },
     "execution_count": 74,
     "metadata": {},
     "output_type": "execute_result"
    }
   ],
   "source": [
    "tp.loc[0, 'NRD_VisitLink'].__class__"
   ]
  },
  {
   "cell_type": "code",
   "execution_count": 77,
   "metadata": {},
   "outputs": [
    {
     "data": {
      "text/plain": [
       "bq0ivdm    8\n",
       "bd7sf9o    7\n",
       "bb6zlby    7\n",
       "bh5fc2g    7\n",
       "bcpto4z    7\n",
       "buyk71a    6\n",
       "bjagp99    6\n",
       "bz97xnp    6\n",
       "brhagd0    6\n",
       "bg2ujnd    6\n",
       "bhgskl9    6\n",
       "b8fxpz2    5\n",
       "bxlrxzo    5\n",
       "b58jnnq    5\n",
       "bvfn06u    5\n",
       "bhjsyqa    5\n",
       "b3nuql6    5\n",
       "bt3x8lx    5\n",
       "b7szrg1    5\n",
       "bvgjvnd    5\n",
       "bctct34    5\n",
       "byop16g    5\n",
       "btrwx4s    5\n",
       "b38qqqt    5\n",
       "bt7zpif    5\n",
       "b82nadi    5\n",
       "b01tq9e    4\n",
       "byn8ymi    4\n",
       "b9kuln6    4\n",
       "bpgzn55    4\n",
       "          ..\n",
       "bjp2em2    1\n",
       "b6inune    1\n",
       "blnzi69    1\n",
       "bbit9yd    1\n",
       "bmi4mf2    1\n",
       "b0qdx6f    1\n",
       "b0d104x    1\n",
       "bc21n31    1\n",
       "b13u6fh    1\n",
       "bztyzjo    1\n",
       "bpl5go1    1\n",
       "bc10htc    1\n",
       "b811qd8    1\n",
       "brxbnjj    1\n",
       "bzlctcf    1\n",
       "bb1pn70    1\n",
       "b0dnv2m    1\n",
       "bw0sdmi    1\n",
       "bnwqcjc    1\n",
       "bctnewk    1\n",
       "ba2vswi    1\n",
       "b5npdio    1\n",
       "bfv6yp8    1\n",
       "bzgpdl8    1\n",
       "bl986io    1\n",
       "b0eojfk    1\n",
       "b3ei09k    1\n",
       "bbqnt69    1\n",
       "bqp1nd7    1\n",
       "bsx7wau    1\n",
       "Name: NRD_VisitLink, Length: 8932, dtype: int64"
      ]
     },
     "execution_count": 77,
     "metadata": {},
     "output_type": "execute_result"
    }
   ],
   "source": [
    "tp['NRD_VisitLink'].value_counts()"
   ]
  },
  {
   "cell_type": "code",
   "execution_count": 78,
   "metadata": {},
   "outputs": [],
   "source": [
    "chunk1 = next(core2014)"
   ]
  },
  {
   "cell_type": "code",
   "execution_count": 79,
   "metadata": {},
   "outputs": [
    {
     "data": {
      "text/plain": [
       "b'bq0ivdm'    8\n",
       "b'bd7sf9o'    7\n",
       "b'bb6zlby'    7\n",
       "b'bh5fc2g'    7\n",
       "b'bcpto4z'    7\n",
       "b'buyk71a'    6\n",
       "b'bjagp99'    6\n",
       "b'bz97xnp'    6\n",
       "b'brhagd0'    6\n",
       "b'bg2ujnd'    6\n",
       "b'bhgskl9'    6\n",
       "b'b8fxpz2'    5\n",
       "b'bxlrxzo'    5\n",
       "b'b58jnnq'    5\n",
       "b'bvfn06u'    5\n",
       "b'bhjsyqa'    5\n",
       "b'b3nuql6'    5\n",
       "b'bt3x8lx'    5\n",
       "b'b7szrg1'    5\n",
       "b'bvgjvnd'    5\n",
       "b'bctct34'    5\n",
       "b'byop16g'    5\n",
       "b'btrwx4s'    5\n",
       "b'b38qqqt'    5\n",
       "b'bt7zpif'    5\n",
       "b'b82nadi'    5\n",
       "b'b01tq9e'    4\n",
       "b'byn8ymi'    4\n",
       "b'b9kuln6'    4\n",
       "b'bpgzn55'    4\n",
       "             ..\n",
       "b'bjp2em2'    1\n",
       "b'b6inune'    1\n",
       "b'blnzi69'    1\n",
       "b'bbit9yd'    1\n",
       "b'bmi4mf2'    1\n",
       "b'b0qdx6f'    1\n",
       "b'b0d104x'    1\n",
       "b'bc21n31'    1\n",
       "b'b13u6fh'    1\n",
       "b'bztyzjo'    1\n",
       "b'bpl5go1'    1\n",
       "b'bc10htc'    1\n",
       "b'b811qd8'    1\n",
       "b'brxbnjj'    1\n",
       "b'bzlctcf'    1\n",
       "b'bb1pn70'    1\n",
       "b'b0dnv2m'    1\n",
       "b'bw0sdmi'    1\n",
       "b'bnwqcjc'    1\n",
       "b'bctnewk'    1\n",
       "b'ba2vswi'    1\n",
       "b'b5npdio'    1\n",
       "b'bfv6yp8'    1\n",
       "b'bzgpdl8'    1\n",
       "b'bl986io'    1\n",
       "b'b0eojfk'    1\n",
       "b'b3ei09k'    1\n",
       "b'bbqnt69'    1\n",
       "b'bqp1nd7'    1\n",
       "b'bsx7wau'    1\n",
       "Name: NRD_VisitLink, Length: 8932, dtype: int64"
      ]
     },
     "execution_count": 79,
     "metadata": {},
     "output_type": "execute_result"
    }
   ],
   "source": [
    "chunk1['NRD_VisitLink'].value_counts()"
   ]
  },
  {
   "cell_type": "code",
   "execution_count": 77,
   "metadata": {},
   "outputs": [
    {
     "data": {
      "text/plain": [
       "b'16.26.04'    89\n",
       "b'13.08.04'    77\n",
       "b'16.42.04'    52\n",
       "b'16.26.02'    49\n",
       "b'13.05.03'    47\n",
       "b'13.07'       43\n",
       "b'16.14.02'    28\n",
       "b'13.02'       26\n",
       "b'12.03'       21\n",
       "b'16.26.01'    21\n",
       "b'16.37'       19\n",
       "b'16.33'       18\n",
       "b'09.12'       15\n",
       "b'13.05.04'    14\n",
       "b'07.16'       12\n",
       "b'07.12.03'    11\n",
       "b'10.10'       11\n",
       "b'13.09'        9\n",
       "b'09.16.02'     9\n",
       "b'09.18.04'     8\n",
       "b'09.22'        8\n",
       "b'15.05'        7\n",
       "b'15.02'        6\n",
       "b'16.26.03'     6\n",
       "b'13.05.02'     5\n",
       "b'09.30'        4\n",
       "b'16.32'        4\n",
       "b'09.08.02'     4\n",
       "b'13.03.03'     4\n",
       "b'12.04'        4\n",
       "               ..\n",
       "b'03.07'        1\n",
       "b'09.13'        1\n",
       "b'09.19'        1\n",
       "b'10.03'        1\n",
       "b'09.06'        1\n",
       "b'13.04.01'     1\n",
       "b'01.08'        1\n",
       "b'16.06'        1\n",
       "b'11.05'        1\n",
       "b'16.14.06'     1\n",
       "b'09.08.01'     1\n",
       "b'02.01'        1\n",
       "b'09.28.04'     1\n",
       "b'12.06'        1\n",
       "b'06.04.02'     1\n",
       "b'09.21'        1\n",
       "b'09.03'        1\n",
       "b'13.04.02'     1\n",
       "b'10.01.03'     1\n",
       "b'01.02'        1\n",
       "b'09.31.05'     1\n",
       "b'05.06.02'     1\n",
       "b'05.03'        1\n",
       "b'09.18.02'     1\n",
       "b'10.07'        1\n",
       "b'14.09'        1\n",
       "b'09.04'        1\n",
       "b'05.07.05'     1\n",
       "b'09.28.03'     1\n",
       "b'09.27'        1\n",
       "Name: PRMCCS1, Length: 87, dtype: int64"
      ]
     },
     "execution_count": 77,
     "metadata": {},
     "output_type": "execute_result"
    }
   ],
   "source": [
    "chunk1['PRMCCS1'].value_counts()"
   ]
  },
  {
   "cell_type": "code",
   "execution_count": 26,
   "metadata": {
    "scrolled": false
   },
   "outputs": [
    {
     "data": {
      "text/plain": [
       "794315"
      ]
     },
     "execution_count": 26,
     "metadata": {},
     "output_type": "execute_result"
    }
   ],
   "source": [
    "len(chuck1['NRD_VisitLink'].unique())"
   ]
  }
 ],
 "metadata": {
  "kernelspec": {
   "display_name": "Python 3",
   "language": "python",
   "name": "python3"
  },
  "language_info": {
   "codemirror_mode": {
    "name": "ipython",
    "version": 3
   },
   "file_extension": ".py",
   "mimetype": "text/x-python",
   "name": "python",
   "nbconvert_exporter": "python",
   "pygments_lexer": "ipython3",
   "version": "3.5.4"
  }
 },
 "nbformat": 4,
 "nbformat_minor": 2
}
