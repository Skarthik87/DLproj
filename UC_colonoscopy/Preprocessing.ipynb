{
 "cells": [
  {
   "cell_type": "markdown",
   "metadata": {},
   "source": [
    "## Data Preprocessing"
   ]
  },
  {
   "cell_type": "code",
   "execution_count": 16,
   "metadata": {},
   "outputs": [],
   "source": [
    "import os\n",
    "import pandas as pd\n",
    "import numpy as np"
   ]
  },
  {
   "cell_type": "code",
   "execution_count": 2,
   "metadata": {},
   "outputs": [],
   "source": [
    "path = '/nfs/turbo/intmed-bnallamo-turbo/wsliu/Data/UC_colonoscopy/'"
   ]
  },
  {
   "cell_type": "markdown",
   "metadata": {},
   "source": [
    "Read the label file and build a dictionary: "
   ]
  },
  {
   "cell_type": "code",
   "execution_count": 4,
   "metadata": {},
   "outputs": [],
   "source": [
    "labels = pd.read_excel(path+'UC_Images_Labels/UC_deeplearning_imageLabels.xlsx')"
   ]
  },
  {
   "cell_type": "code",
   "execution_count": 9,
   "metadata": {},
   "outputs": [
    {
     "data": {
      "text/html": [
       "<div>\n",
       "<style scoped>\n",
       "    .dataframe tbody tr th:only-of-type {\n",
       "        vertical-align: middle;\n",
       "    }\n",
       "\n",
       "    .dataframe tbody tr th {\n",
       "        vertical-align: top;\n",
       "    }\n",
       "\n",
       "    .dataframe thead th {\n",
       "        text-align: right;\n",
       "    }\n",
       "</style>\n",
       "<table border=\"1\" class=\"dataframe\">\n",
       "  <thead>\n",
       "    <tr style=\"text-align: right;\">\n",
       "      <th></th>\n",
       "      <th>ID</th>\n",
       "      <th>basefile</th>\n",
       "      <th>pathname</th>\n",
       "      <th>file_seq</th>\n",
       "      <th>SubjectID</th>\n",
       "      <th>Time_sec</th>\n",
       "      <th>Video_time</th>\n",
       "      <th>Mayo_0</th>\n",
       "      <th>Mayo_1</th>\n",
       "      <th>Mayo_2</th>\n",
       "      <th>...</th>\n",
       "      <th>Findings_Waterjet</th>\n",
       "      <th>Findings_Diverticula</th>\n",
       "      <th>Location_Ileum</th>\n",
       "      <th>Location_Cecum</th>\n",
       "      <th>Location_Retroflexion</th>\n",
       "      <th>Comments</th>\n",
       "      <th>Poor_Image_UNCLASSIFIED</th>\n",
       "      <th>Quality_Good</th>\n",
       "      <th>Findings_Pills_retained</th>\n",
       "      <th>Location_appendicealOriface</th>\n",
       "    </tr>\n",
       "  </thead>\n",
       "  <tbody>\n",
       "    <tr>\n",
       "      <th>0</th>\n",
       "      <td>119845</td>\n",
       "      <td>frame-000000.jpg</td>\n",
       "      <td>E:\\Deep Learning - Endoscopy\\001\\frame-000000.jpg</td>\n",
       "      <td>1.0</td>\n",
       "      <td>001</td>\n",
       "      <td>1.0</td>\n",
       "      <td>00:00:01</td>\n",
       "      <td>False</td>\n",
       "      <td>False</td>\n",
       "      <td>False</td>\n",
       "      <td>...</td>\n",
       "      <td>False</td>\n",
       "      <td>False</td>\n",
       "      <td>False</td>\n",
       "      <td>False</td>\n",
       "      <td>False</td>\n",
       "      <td>NaN</td>\n",
       "      <td>True</td>\n",
       "      <td>False</td>\n",
       "      <td>False</td>\n",
       "      <td>False</td>\n",
       "    </tr>\n",
       "    <tr>\n",
       "      <th>1</th>\n",
       "      <td>119846</td>\n",
       "      <td>frame-000001.jpg</td>\n",
       "      <td>E:\\Deep Learning - Endoscopy\\001\\frame-000001.jpg</td>\n",
       "      <td>2.0</td>\n",
       "      <td>001</td>\n",
       "      <td>2.0</td>\n",
       "      <td>00:00:02</td>\n",
       "      <td>False</td>\n",
       "      <td>False</td>\n",
       "      <td>False</td>\n",
       "      <td>...</td>\n",
       "      <td>False</td>\n",
       "      <td>False</td>\n",
       "      <td>False</td>\n",
       "      <td>False</td>\n",
       "      <td>False</td>\n",
       "      <td>NaN</td>\n",
       "      <td>True</td>\n",
       "      <td>False</td>\n",
       "      <td>False</td>\n",
       "      <td>False</td>\n",
       "    </tr>\n",
       "    <tr>\n",
       "      <th>2</th>\n",
       "      <td>119847</td>\n",
       "      <td>frame-000002.jpg</td>\n",
       "      <td>E:\\Deep Learning - Endoscopy\\001\\frame-000002.jpg</td>\n",
       "      <td>3.0</td>\n",
       "      <td>001</td>\n",
       "      <td>3.0</td>\n",
       "      <td>00:00:03</td>\n",
       "      <td>False</td>\n",
       "      <td>False</td>\n",
       "      <td>False</td>\n",
       "      <td>...</td>\n",
       "      <td>False</td>\n",
       "      <td>False</td>\n",
       "      <td>False</td>\n",
       "      <td>False</td>\n",
       "      <td>False</td>\n",
       "      <td>NaN</td>\n",
       "      <td>True</td>\n",
       "      <td>False</td>\n",
       "      <td>False</td>\n",
       "      <td>False</td>\n",
       "    </tr>\n",
       "    <tr>\n",
       "      <th>3</th>\n",
       "      <td>119848</td>\n",
       "      <td>frame-000003.jpg</td>\n",
       "      <td>E:\\Deep Learning - Endoscopy\\001\\frame-000003.jpg</td>\n",
       "      <td>4.0</td>\n",
       "      <td>001</td>\n",
       "      <td>4.0</td>\n",
       "      <td>00:00:04</td>\n",
       "      <td>False</td>\n",
       "      <td>False</td>\n",
       "      <td>False</td>\n",
       "      <td>...</td>\n",
       "      <td>False</td>\n",
       "      <td>False</td>\n",
       "      <td>False</td>\n",
       "      <td>False</td>\n",
       "      <td>False</td>\n",
       "      <td>NaN</td>\n",
       "      <td>True</td>\n",
       "      <td>False</td>\n",
       "      <td>False</td>\n",
       "      <td>False</td>\n",
       "    </tr>\n",
       "    <tr>\n",
       "      <th>4</th>\n",
       "      <td>119849</td>\n",
       "      <td>frame-000004.jpg</td>\n",
       "      <td>E:\\Deep Learning - Endoscopy\\001\\frame-000004.jpg</td>\n",
       "      <td>5.0</td>\n",
       "      <td>001</td>\n",
       "      <td>5.0</td>\n",
       "      <td>00:00:05</td>\n",
       "      <td>False</td>\n",
       "      <td>False</td>\n",
       "      <td>False</td>\n",
       "      <td>...</td>\n",
       "      <td>False</td>\n",
       "      <td>False</td>\n",
       "      <td>False</td>\n",
       "      <td>False</td>\n",
       "      <td>False</td>\n",
       "      <td>NaN</td>\n",
       "      <td>True</td>\n",
       "      <td>False</td>\n",
       "      <td>False</td>\n",
       "      <td>False</td>\n",
       "    </tr>\n",
       "  </tbody>\n",
       "</table>\n",
       "<p>5 rows × 30 columns</p>\n",
       "</div>"
      ],
      "text/plain": [
       "       ID          basefile  \\\n",
       "0  119845  frame-000000.jpg   \n",
       "1  119846  frame-000001.jpg   \n",
       "2  119847  frame-000002.jpg   \n",
       "3  119848  frame-000003.jpg   \n",
       "4  119849  frame-000004.jpg   \n",
       "\n",
       "                                            pathname  file_seq SubjectID  \\\n",
       "0  E:\\Deep Learning - Endoscopy\\001\\frame-000000.jpg       1.0       001   \n",
       "1  E:\\Deep Learning - Endoscopy\\001\\frame-000001.jpg       2.0       001   \n",
       "2  E:\\Deep Learning - Endoscopy\\001\\frame-000002.jpg       3.0       001   \n",
       "3  E:\\Deep Learning - Endoscopy\\001\\frame-000003.jpg       4.0       001   \n",
       "4  E:\\Deep Learning - Endoscopy\\001\\frame-000004.jpg       5.0       001   \n",
       "\n",
       "   Time_sec Video_time  Mayo_0  Mayo_1  Mayo_2             ...               \\\n",
       "0       1.0   00:00:01   False   False   False             ...                \n",
       "1       2.0   00:00:02   False   False   False             ...                \n",
       "2       3.0   00:00:03   False   False   False             ...                \n",
       "3       4.0   00:00:04   False   False   False             ...                \n",
       "4       5.0   00:00:05   False   False   False             ...                \n",
       "\n",
       "   Findings_Waterjet  Findings_Diverticula  Location_Ileum  Location_Cecum  \\\n",
       "0              False                 False           False           False   \n",
       "1              False                 False           False           False   \n",
       "2              False                 False           False           False   \n",
       "3              False                 False           False           False   \n",
       "4              False                 False           False           False   \n",
       "\n",
       "   Location_Retroflexion  Comments  Poor_Image_UNCLASSIFIED  Quality_Good  \\\n",
       "0                  False       NaN                     True         False   \n",
       "1                  False       NaN                     True         False   \n",
       "2                  False       NaN                     True         False   \n",
       "3                  False       NaN                     True         False   \n",
       "4                  False       NaN                     True         False   \n",
       "\n",
       "   Findings_Pills_retained  Location_appendicealOriface  \n",
       "0                    False                        False  \n",
       "1                    False                        False  \n",
       "2                    False                        False  \n",
       "3                    False                        False  \n",
       "4                    False                        False  \n",
       "\n",
       "[5 rows x 30 columns]"
      ]
     },
     "execution_count": 9,
     "metadata": {},
     "output_type": "execute_result"
    }
   ],
   "source": [
    "labels.head()"
   ]
  },
  {
   "cell_type": "code",
   "execution_count": 7,
   "metadata": {},
   "outputs": [
    {
     "data": {
      "text/plain": [
       "Index(['ID', 'basefile', 'pathname', 'file_seq', 'SubjectID', 'Time_sec',\n",
       "       'Video_time', 'Mayo_0', 'Mayo_1', 'Mayo_2', 'Mayo_3',\n",
       "       'Poor_Image_underwater', 'Poor_Image_focus', 'Poor_Image_Stool',\n",
       "       'Poor_Image_Bubbles', 'Post_Biopsy_Bleeding', 'Findings_BiopsyForceps',\n",
       "       'Findings_Snare', 'Finding_Polyps', 'Finding_Pseudopolyps',\n",
       "       'Findings_Waterjet', 'Findings_Diverticula', 'Location_Ileum',\n",
       "       'Location_Cecum', 'Location_Retroflexion', 'Comments',\n",
       "       'Poor_Image_UNCLASSIFIED', 'Quality_Good', 'Findings_Pills_retained',\n",
       "       'Location_appendicealOriface'],\n",
       "      dtype='object')"
      ]
     },
     "execution_count": 7,
     "metadata": {},
     "output_type": "execute_result"
    }
   ],
   "source": [
    "labels.columns"
   ]
  },
  {
   "cell_type": "code",
   "execution_count": 8,
   "metadata": {
    "scrolled": true
   },
   "outputs": [
    {
     "data": {
      "text/plain": [
       "False    19102\n",
       "True      7454\n",
       "Name: Quality_Good, dtype: int64"
      ]
     },
     "execution_count": 8,
     "metadata": {},
     "output_type": "execute_result"
    }
   ],
   "source": [
    "labels.Quality_Good.value_counts()"
   ]
  },
  {
   "cell_type": "code",
   "execution_count": 14,
   "metadata": {},
   "outputs": [],
   "source": [
    "labels_good = labels[labels.Quality_Good == True]"
   ]
  },
  {
   "cell_type": "code",
   "execution_count": 19,
   "metadata": {},
   "outputs": [],
   "source": [
    "n_good = len(labels_good)\n",
    "filepath = labels_good.pathname"
   ]
  },
  {
   "cell_type": "code",
   "execution_count": 22,
   "metadata": {},
   "outputs": [
    {
     "data": {
      "text/plain": [
       "'E:\\\\Deep Learning - Endoscopy\\\\001\\\\frame-000243.jpg'"
      ]
     },
     "execution_count": 22,
     "metadata": {},
     "output_type": "execute_result"
    }
   ],
   "source": [
    "filepath.values[0]"
   ]
  },
  {
   "cell_type": "code",
   "execution_count": 51,
   "metadata": {},
   "outputs": [
    {
     "data": {
      "text/plain": [
       "array(['E:\\\\Deep Learning - Endoscopy\\\\007\\\\frame-000023.jpg',\n",
       "       'E:\\\\Deep Learning - Endoscopy\\\\007\\\\frame-000034.jpg',\n",
       "       'E:\\\\Deep Learning - Endoscopy\\\\007\\\\frame-000109.jpg',\n",
       "       'E:\\\\Deep Learning - Endoscopy\\\\007\\\\frame-000110.jpg',\n",
       "       'E:\\\\Deep Learning - Endoscopy\\\\007\\\\frame-000127.jpg',\n",
       "       'E:\\\\Deep Learning - Endoscopy\\\\007\\\\frame-000675.jpg',\n",
       "       'E:\\\\Deep Learning - Endoscopy\\\\007\\\\frame-000732.jpg',\n",
       "       'E:\\\\Deep Learning - Endoscopy\\\\007\\\\frame-000739.jpg',\n",
       "       'E:\\\\Deep Learning - Endoscopy\\\\007\\\\frame-000799.jpg',\n",
       "       'E:\\\\Deep Learning - Endoscopy\\\\007\\\\frame-000858.jpg',\n",
       "       'E:\\\\Deep Learning - Endoscopy\\\\007\\\\frame-000967.jpg',\n",
       "       'E:\\\\Deep Learning - Endoscopy\\\\007\\\\frame-000973.jpg',\n",
       "       'E:\\\\Deep Learning - Endoscopy\\\\007\\\\frame-000975.jpg',\n",
       "       'E:\\\\Deep Learning - Endoscopy\\\\007\\\\frame-001137.jpg',\n",
       "       'E:\\\\Deep Learning - Endoscopy\\\\007\\\\frame-001479.jpg',\n",
       "       'E:\\\\Deep Learning - Endoscopy\\\\007\\\\frame-001975.jpg',\n",
       "       'E:\\\\Deep Learning - Endoscopy\\\\007\\\\frame-002116.jpg',\n",
       "       'E:\\\\Deep Learning - Endoscopy\\\\007\\\\frame-002148.jpg',\n",
       "       'E:\\\\Deep Learning - Endoscopy\\\\007\\\\frame-002180.jpg',\n",
       "       'E:\\\\Deep Learning - Endoscopy\\\\007\\\\frame-002802.jpg',\n",
       "       'E:\\\\Deep Learning - Endoscopy\\\\007\\\\frame-002855.jpg',\n",
       "       'E:\\\\Deep Learning - Endoscopy\\\\010\\\\frame-000590.jpg',\n",
       "       'E:\\\\Deep Learning - Endoscopy\\\\010\\\\frame-000591.jpg',\n",
       "       'E:\\\\Deep Learning - Endoscopy\\\\010\\\\frame-000670.jpg',\n",
       "       'E:\\\\Deep Learning - Endoscopy\\\\023\\\\frame-001349.jpg',\n",
       "       'E:\\\\Deep Learning - Endoscopy\\\\037\\\\frame-000565.jpg',\n",
       "       'E:\\\\Deep Learning - Endoscopy\\\\045\\\\frame-000542.jpg',\n",
       "       'E:\\\\Deep Learning - Endoscopy\\\\045\\\\frame-000543.jpg',\n",
       "       'E:\\\\Deep Learning - Endoscopy\\\\045\\\\frame-000553.jpg',\n",
       "       'E:\\\\Deep Learning - Endoscopy\\\\045\\\\frame-000691.jpg',\n",
       "       'E:\\\\Deep Learning - Endoscopy\\\\045\\\\frame-000732.jpg',\n",
       "       'E:\\\\Deep Learning - Endoscopy\\\\045\\\\frame-001082.jpg',\n",
       "       'E:\\\\Deep Learning - Endoscopy\\\\045\\\\frame-001094.jpg',\n",
       "       'E:\\\\Deep Learning - Endoscopy\\\\045\\\\frame-001224.jpg',\n",
       "       'E:\\\\Deep Learning - Endoscopy\\\\045\\\\frame-001362.jpg',\n",
       "       'E:\\\\Deep Learning - Endoscopy\\\\046\\\\frame-000229.jpg',\n",
       "       'E:\\\\Deep Learning - Endoscopy\\\\046\\\\frame-000819.jpg',\n",
       "       'E:\\\\Deep Learning - Endoscopy\\\\046\\\\frame-000820.jpg',\n",
       "       'E:\\\\Deep Learning - Endoscopy\\\\046\\\\frame-000823.jpg',\n",
       "       'E:\\\\Deep Learning - Endoscopy\\\\046\\\\frame-000845.jpg',\n",
       "       'E:\\\\Deep Learning - Endoscopy\\\\046\\\\frame-000923.jpg',\n",
       "       'E:\\\\Deep Learning - Endoscopy\\\\046\\\\frame-000940.jpg',\n",
       "       'E:\\\\Deep Learning - Endoscopy\\\\046\\\\frame-000991.jpg',\n",
       "       'E:\\\\Deep Learning - Endoscopy\\\\046\\\\frame-001011.jpg',\n",
       "       'E:\\\\Deep Learning - Endoscopy\\\\046\\\\frame-001301.jpg',\n",
       "       'E:\\\\Deep Learning - Endoscopy\\\\046\\\\frame-001354.jpg',\n",
       "       'E:\\\\Deep Learning - Endoscopy\\\\046\\\\frame-001365.jpg',\n",
       "       'E:\\\\Deep Learning - Endoscopy\\\\046\\\\frame-001644.jpg',\n",
       "       'E:\\\\Deep Learning - Endoscopy\\\\046\\\\frame-001645.jpg',\n",
       "       'E:\\\\Deep Learning - Endoscopy\\\\046\\\\frame-001713.jpg',\n",
       "       'E:\\\\Deep Learning - Endoscopy\\\\046\\\\frame-001729.jpg',\n",
       "       'E:\\\\Deep Learning - Endoscopy\\\\046\\\\frame-002035.jpg',\n",
       "       'E:\\\\Deep Learning - Endoscopy\\\\046\\\\frame-002163.jpg',\n",
       "       'E:\\\\Deep Learning - Endoscopy\\\\046\\\\frame-002164.jpg',\n",
       "       'E:\\\\Deep Learning - Endoscopy\\\\052\\\\frame-000944.jpg',\n",
       "       'E:\\\\Deep Learning - Endoscopy\\\\052\\\\frame-000963.jpg',\n",
       "       'E:\\\\Deep Learning - Endoscopy\\\\052\\\\frame-001426.jpg',\n",
       "       'E:\\\\Deep Learning - Endoscopy\\\\052\\\\frame-001468.jpg',\n",
       "       'E:\\\\Deep Learning - Endoscopy\\\\052\\\\frame-001562.jpg',\n",
       "       'E:\\\\Deep Learning - Endoscopy\\\\052\\\\frame-001644.jpg',\n",
       "       'E:\\\\Deep Learning - Endoscopy\\\\052\\\\frame-001687.jpg',\n",
       "       'E:\\\\Deep Learning - Endoscopy\\\\052\\\\frame-001749.jpg',\n",
       "       'E:\\\\Deep Learning - Endoscopy\\\\052\\\\frame-001750.jpg',\n",
       "       'E:\\\\Deep Learning - Endoscopy\\\\052\\\\frame-001751.jpg',\n",
       "       'E:\\\\Deep Learning - Endoscopy\\\\057\\\\frame-000354.jpg',\n",
       "       'E:\\\\Deep Learning - Endoscopy\\\\057\\\\frame-000722.jpg',\n",
       "       'E:\\\\Deep Learning - Endoscopy\\\\057\\\\frame-001134.jpg',\n",
       "       'E:\\\\Deep Learning - Endoscopy\\\\059\\\\frame-000402.jpg',\n",
       "       'E:\\\\Deep Learning - Endoscopy\\\\059\\\\frame-000659.jpg',\n",
       "       'E:\\\\Deep Learning - Endoscopy\\\\059\\\\frame-000863.jpg',\n",
       "       'E:\\\\Deep Learning - Endoscopy\\\\059\\\\frame-001365.jpg',\n",
       "       'E:\\\\Deep Learning - Endoscopy\\\\059\\\\frame-001425.jpg',\n",
       "       'E:\\\\Deep Learning - Endoscopy\\\\059\\\\frame-001472.jpg',\n",
       "       'E:\\\\Deep Learning - Endoscopy\\\\059\\\\frame-001554.jpg',\n",
       "       'E:\\\\Deep Learning - Endoscopy\\\\059\\\\frame-001608.jpg',\n",
       "       'E:\\\\Deep Learning - Endoscopy\\\\060\\\\frame-000541.jpg',\n",
       "       'E:\\\\Deep Learning - Endoscopy\\\\060\\\\frame-000659.jpg',\n",
       "       'E:\\\\Deep Learning - Endoscopy\\\\060\\\\frame-000888.jpg',\n",
       "       'E:\\\\Deep Learning - Endoscopy\\\\060\\\\frame-000931.jpg',\n",
       "       'E:\\\\Deep Learning - Endoscopy\\\\061\\\\frame-000409.jpg',\n",
       "       'E:\\\\Deep Learning - Endoscopy\\\\Lycera_001\\\\frame-000248.jpg',\n",
       "       'E:\\\\Deep Learning - Endoscopy\\\\Lycera_001\\\\frame-000496.jpg',\n",
       "       'E:\\\\Deep Learning - Endoscopy\\\\Lycera_001\\\\frame-000805.jpg',\n",
       "       'E:\\\\Deep Learning - Endoscopy\\\\Lycera_001\\\\frame-000806.jpg',\n",
       "       'E:\\\\Deep Learning - Endoscopy\\\\Lycera_001\\\\frame-000820.jpg',\n",
       "       'E:\\\\Deep Learning - Endoscopy\\\\Lycera_001\\\\frame-000975.jpg',\n",
       "       'E:\\\\Deep Learning - Endoscopy\\\\Lycera_002\\\\frame-000362.jpg',\n",
       "       'E:\\\\Deep Learning - Endoscopy\\\\Lycera_002\\\\frame-000363.jpg',\n",
       "       'E:\\\\Deep Learning - Endoscopy\\\\Lycera_002\\\\frame-000364.jpg',\n",
       "       'E:\\\\Deep Learning - Endoscopy\\\\Lycera_002\\\\frame-000509.jpg',\n",
       "       'E:\\\\Deep Learning - Endoscopy\\\\Lycera_002\\\\frame-000510.jpg',\n",
       "       'E:\\\\Deep Learning - Endoscopy\\\\Lycera_002\\\\frame-000729.jpg',\n",
       "       'E:\\\\Deep Learning - Endoscopy\\\\Lycera_002\\\\frame-000736.jpg',\n",
       "       'E:\\\\Deep Learning - Endoscopy\\\\Lycera_002\\\\frame-000781.jpg',\n",
       "       'E:\\\\Deep Learning - Endoscopy\\\\Lycera_002\\\\frame-000885.jpg',\n",
       "       'E:\\\\Deep Learning - Endoscopy\\\\Lycera_002\\\\frame-000959.jpg',\n",
       "       'E:\\\\Deep Learning - Endoscopy\\\\Lycera_002\\\\frame-000965.jpg',\n",
       "       'E:\\\\Deep Learning - Endoscopy\\\\Lycera_002\\\\frame-000992.jpg',\n",
       "       'E:\\\\Deep Learning - Endoscopy\\\\Lycera_002\\\\frame-001185.jpg',\n",
       "       'E:\\\\Deep Learning - Endoscopy\\\\Lycera_003\\\\frame-000182.jpg',\n",
       "       'E:\\\\Deep Learning - Endoscopy\\\\Lycera_003\\\\frame-000186.jpg',\n",
       "       'E:\\\\Deep Learning - Endoscopy\\\\Lycera_003\\\\frame-000349.jpg',\n",
       "       'E:\\\\Deep Learning - Endoscopy\\\\Lycera_003\\\\frame-000477.jpg',\n",
       "       'E:\\\\Deep Learning - Endoscopy\\\\Lycera_003\\\\frame-000500.jpg',\n",
       "       'E:\\\\Deep Learning - Endoscopy\\\\Lycera_004\\\\frame-000272.jpg',\n",
       "       'E:\\\\Deep Learning - Endoscopy\\\\Lycera_004\\\\frame-000273.jpg',\n",
       "       'E:\\\\Deep Learning - Endoscopy\\\\Lycera_004\\\\frame-001196.jpg',\n",
       "       'E:\\\\Deep Learning - Endoscopy\\\\Lycera_004\\\\frame-001197.jpg',\n",
       "       'E:\\\\Deep Learning - Endoscopy\\\\Lycera_006\\\\frame-000721.jpg',\n",
       "       'E:\\\\Deep Learning - Endoscopy\\\\Lycera_006\\\\frame-000814.jpg', nan,\n",
       "       nan, nan, nan, nan, nan, nan, nan, nan], dtype=object)"
      ]
     },
     "execution_count": 51,
     "metadata": {},
     "output_type": "execute_result"
    }
   ],
   "source": [
    "labels[(labels.Mayo_0 == True) & (labels.Quality_Good == False)].pathname.values"
   ]
  },
  {
   "cell_type": "code",
   "execution_count": 24,
   "metadata": {},
   "outputs": [],
   "source": [
    "mayo = np.empty(n_good, dtype='int')\n",
    "mayo[labels_good.Mayo_0 == True] = 0\n",
    "mayo[labels_good.Mayo_1 == True] = 1\n",
    "mayo[labels_good.Mayo_2 == True] = 2\n",
    "mayo[labels_good.Mayo_3 == True] = 3"
   ]
  },
  {
   "cell_type": "code",
   "execution_count": 33,
   "metadata": {},
   "outputs": [],
   "source": [
    "labels_nomayo = labels_good[(labels_good.Mayo_0 == False) & (labels_good.Mayo_1 == False) & (labels_good.Mayo_2 == False) & (labels_good.Mayo_3 == False)]"
   ]
  },
  {
   "cell_type": "code",
   "execution_count": 42,
   "metadata": {},
   "outputs": [
    {
     "data": {
      "text/plain": [
       "array(['E:\\\\Deep Learning - Endoscopy\\\\007\\\\frame-000510.jpg',\n",
       "       'E:\\\\Deep Learning - Endoscopy\\\\007\\\\frame-001059.jpg',\n",
       "       'E:\\\\Deep Learning - Endoscopy\\\\007\\\\frame-002176.jpg',\n",
       "       'E:\\\\Deep Learning - Endoscopy\\\\007\\\\frame-002538.jpg',\n",
       "       'E:\\\\Deep Learning - Endoscopy\\\\045\\\\frame-001189.jpg',\n",
       "       'E:\\\\Deep Learning - Endoscopy\\\\059\\\\frame-000488.jpg',\n",
       "       'E:\\\\Deep Learning - Endoscopy\\\\059\\\\frame-001006.jpg',\n",
       "       'E:\\\\Deep Learning - Endoscopy\\\\061\\\\frame-000445.jpg',\n",
       "       'E:\\\\Deep Learning - Endoscopy\\\\061\\\\frame-000446.jpg',\n",
       "       'E:\\\\Deep Learning - Endoscopy\\\\061\\\\frame-000447.jpg',\n",
       "       'E:\\\\Deep Learning - Endoscopy\\\\061\\\\frame-000448.jpg',\n",
       "       'E:\\\\Deep Learning - Endoscopy\\\\061\\\\frame-000449.jpg',\n",
       "       'E:\\\\Deep Learning - Endoscopy\\\\061\\\\frame-000450.jpg',\n",
       "       'E:\\\\Deep Learning - Endoscopy\\\\Lycera_001\\\\frame-000848.jpg',\n",
       "       'E:\\\\Deep Learning - Endoscopy\\\\Lycera_001\\\\frame-001403.jpg',\n",
       "       'E:\\\\Deep Learning - Endoscopy\\\\Lycera_004\\\\frame-001610.jpg',\n",
       "       'E:\\\\Deep Learning - Endoscopy\\\\Lycera_006\\\\frame-000271.jpg',\n",
       "       'E:\\\\Deep Learning - Endoscopy\\\\Lycera_006\\\\frame-000272.jpg',\n",
       "       'E:\\\\Deep Learning - Endoscopy\\\\Lycera_006\\\\frame-000273.jpg',\n",
       "       'E:\\\\Deep Learning - Endoscopy\\\\Lycera_006\\\\frame-000274.jpg',\n",
       "       'E:\\\\Deep Learning - Endoscopy\\\\Lycera_006\\\\frame-000275.jpg'], dtype=object)"
      ]
     },
     "execution_count": 42,
     "metadata": {},
     "output_type": "execute_result"
    }
   ],
   "source": [
    "np.array(labels_nomayo.pathname)"
   ]
  },
  {
   "cell_type": "markdown",
   "metadata": {},
   "source": [
    "Move the files into corrsponding folders: "
   ]
  },
  {
   "cell_type": "code",
   "execution_count": 35,
   "metadata": {},
   "outputs": [],
   "source": [
    "dirName, subdirList, fileList = next(os.walk(path+'UC_Images_Labels'))"
   ]
  },
  {
   "cell_type": "code",
   "execution_count": 39,
   "metadata": {},
   "outputs": [
    {
     "data": {
      "text/plain": [
       "['045',\n",
       " 'Lycera_005-Deep Learning 1 FPS',\n",
       " '059',\n",
       " '060',\n",
       " '002',\n",
       " 'Lycera_003-Deep Learning 1 FPS',\n",
       " '023',\n",
       " '007',\n",
       " '001',\n",
       " 'Lycera_006-Deep Learning 1 FPS',\n",
       " 'Lycera_004-Deep Learning 1 FPS',\n",
       " 'Lycera_002-Deep Learning 1 FPS',\n",
       " '052',\n",
       " '008',\n",
       " '037',\n",
       " '046',\n",
       " '061',\n",
       " '036',\n",
       " '057',\n",
       " 'Lycera_001-Deep Learning 1 FPS',\n",
       " '010']"
      ]
     },
     "execution_count": 39,
     "metadata": {},
     "output_type": "execute_result"
    }
   ],
   "source": [
    "subdirList"
   ]
  },
  {
   "cell_type": "code",
   "execution_count": 40,
   "metadata": {},
   "outputs": [],
   "source": [
    "for f in fileList:\n",
    "    category = label_dict[f[:-5]]\n",
    "    os.rename(path+'raw_data/'+f, path+'categorized/'+str(category)+'/'+f) # this is equivalent to $mv source destine"
   ]
  },
  {
   "cell_type": "code",
   "execution_count": 38,
   "metadata": {},
   "outputs": [
    {
     "data": {
      "text/plain": [
       "4"
      ]
     },
     "execution_count": 38,
     "metadata": {},
     "output_type": "execute_result"
    }
   ],
   "source": [
    "label_dict['20144_right']"
   ]
  },
  {
   "cell_type": "code",
   "execution_count": 39,
   "metadata": {},
   "outputs": [
    {
     "data": {
      "text/plain": [
       "(35126, 2)"
      ]
     },
     "execution_count": 39,
     "metadata": {},
     "output_type": "execute_result"
    }
   ],
   "source": [
    "labels.shape"
   ]
  }
 ],
 "metadata": {
  "kernelspec": {
   "display_name": "Python 3",
   "language": "python",
   "name": "python3"
  },
  "language_info": {
   "codemirror_mode": {
    "name": "ipython",
    "version": 3
   },
   "file_extension": ".py",
   "mimetype": "text/x-python",
   "name": "python",
   "nbconvert_exporter": "python",
   "pygments_lexer": "ipython3",
   "version": "3.5.4"
  }
 },
 "nbformat": 4,
 "nbformat_minor": 2
}
