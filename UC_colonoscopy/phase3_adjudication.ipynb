{
 "cells": [
  {
   "cell_type": "markdown",
   "metadata": {},
   "source": [
    "# Models for Multi-Reviewer Labels"
   ]
  },
  {
   "cell_type": "code",
   "execution_count": 1,
   "metadata": {
    "scrolled": false
   },
   "outputs": [
    {
     "name": "stderr",
     "output_type": "stream",
     "text": [
      "Using TensorFlow backend.\n"
     ]
    }
   ],
   "source": [
    "from keras import backend as K\n",
    "from keras.models import Sequential, Model\n",
    "from keras.layers import GlobalAveragePooling2D\n",
    "from keras.layers.core import Dense, Activation, Dropout, Lambda\n",
    "from keras.layers.convolutional import Conv2D\n",
    "from keras.optimizers import SGD, RMSprop, Adam\n",
    "from keras.preprocessing.image import ImageDataGenerator\n",
    "from keras.callbacks import ModelCheckpoint, ReduceLROnPlateau, EarlyStopping"
   ]
  },
  {
   "cell_type": "code",
   "execution_count": 2,
   "metadata": {},
   "outputs": [],
   "source": [
    "from keras.applications.inception_v3 import InceptionV3\n",
    "from keras.applications.xception import Xception"
   ]
  },
  {
   "cell_type": "code",
   "execution_count": 11,
   "metadata": {},
   "outputs": [],
   "source": [
    "import os, sys\n",
    "import numpy as np\n",
    "import pandas as pd\n",
    "from sklearn.model_selection import train_test_split, GroupShuffleSplit\n",
    "from sklearn.metrics import cohen_kappa_score, roc_curve\n",
    "import matplotlib.pyplot as plt\n",
    "%matplotlib inline\n",
    "import pickle"
   ]
  },
  {
   "cell_type": "code",
   "execution_count": 4,
   "metadata": {},
   "outputs": [],
   "source": [
    "module_path = os.path.abspath(os.path.join('..'))\n",
    "if module_path not in sys.path:\n",
    "    sys.path.append(module_path)\n",
    "\n",
    "from keras_addon import ImageFrameGenerator, AUCCheckPoint\n",
    "\n",
    "from DL_utils import plot_roc"
   ]
  },
  {
   "cell_type": "code",
   "execution_count": 5,
   "metadata": {},
   "outputs": [],
   "source": [
    "path  =  \"/nfs/turbo/intmed-bnallamo-turbo/wsliu/Data/colonoscopy2/\"\n",
    "model_path = path + 'models/'\n",
    "if not os.path.exists(model_path): \n",
    "    os.mkdir(model_path)\n",
    "data_path = path+'subset_adjudication/'"
   ]
  },
  {
   "cell_type": "code",
   "execution_count": 6,
   "metadata": {},
   "outputs": [],
   "source": [
    "batch_size = 32"
   ]
  },
  {
   "cell_type": "markdown",
   "metadata": {},
   "source": [
    "## Preparation\n",
    "Check up the labels and image files. Split into training and validation sets. "
   ]
  },
  {
   "cell_type": "code",
   "execution_count": 18,
   "metadata": {},
   "outputs": [],
   "source": [
    "filenames = os.listdir(path+'all_images/')"
   ]
  },
  {
   "cell_type": "code",
   "execution_count": 10,
   "metadata": {},
   "outputs": [],
   "source": [
    "labels = pd.read_csv(path+'UC_FINAL_Adjudication.csv')"
   ]
  },
  {
   "cell_type": "code",
   "execution_count": 11,
   "metadata": {},
   "outputs": [
    {
     "data": {
      "text/html": [
       "<div>\n",
       "<style scoped>\n",
       "    .dataframe tbody tr th:only-of-type {\n",
       "        vertical-align: middle;\n",
       "    }\n",
       "\n",
       "    .dataframe tbody tr th {\n",
       "        vertical-align: top;\n",
       "    }\n",
       "\n",
       "    .dataframe thead th {\n",
       "        text-align: right;\n",
       "    }\n",
       "</style>\n",
       "<table border=\"1\" class=\"dataframe\">\n",
       "  <thead>\n",
       "    <tr style=\"text-align: right;\">\n",
       "      <th>Mayo_Rev2_Corrected</th>\n",
       "      <th>0</th>\n",
       "      <th>1</th>\n",
       "      <th>2</th>\n",
       "      <th>3</th>\n",
       "      <th>All</th>\n",
       "    </tr>\n",
       "    <tr>\n",
       "      <th>Mayo_Rev1_Corrected</th>\n",
       "      <th></th>\n",
       "      <th></th>\n",
       "      <th></th>\n",
       "      <th></th>\n",
       "      <th></th>\n",
       "    </tr>\n",
       "  </thead>\n",
       "  <tbody>\n",
       "    <tr>\n",
       "      <th>0</th>\n",
       "      <td>7058</td>\n",
       "      <td>2049</td>\n",
       "      <td>52</td>\n",
       "      <td>1</td>\n",
       "      <td>9160</td>\n",
       "    </tr>\n",
       "    <tr>\n",
       "      <th>1</th>\n",
       "      <td>500</td>\n",
       "      <td>1875</td>\n",
       "      <td>1040</td>\n",
       "      <td>15</td>\n",
       "      <td>3430</td>\n",
       "    </tr>\n",
       "    <tr>\n",
       "      <th>2</th>\n",
       "      <td>5</td>\n",
       "      <td>144</td>\n",
       "      <td>1667</td>\n",
       "      <td>589</td>\n",
       "      <td>2405</td>\n",
       "    </tr>\n",
       "    <tr>\n",
       "      <th>3</th>\n",
       "      <td>0</td>\n",
       "      <td>1</td>\n",
       "      <td>217</td>\n",
       "      <td>1301</td>\n",
       "      <td>1519</td>\n",
       "    </tr>\n",
       "    <tr>\n",
       "      <th>All</th>\n",
       "      <td>7563</td>\n",
       "      <td>4069</td>\n",
       "      <td>2976</td>\n",
       "      <td>1906</td>\n",
       "      <td>16514</td>\n",
       "    </tr>\n",
       "  </tbody>\n",
       "</table>\n",
       "</div>"
      ],
      "text/plain": [
       "Mayo_Rev2_Corrected     0     1     2     3    All\n",
       "Mayo_Rev1_Corrected                               \n",
       "0                    7058  2049    52     1   9160\n",
       "1                     500  1875  1040    15   3430\n",
       "2                       5   144  1667   589   2405\n",
       "3                       0     1   217  1301   1519\n",
       "All                  7563  4069  2976  1906  16514"
      ]
     },
     "execution_count": 11,
     "metadata": {},
     "output_type": "execute_result"
    }
   ],
   "source": [
    "pd.crosstab(labels.Mayo_Rev1_Corrected, labels.Mayo_Rev2_Corrected, margins=True)"
   ]
  },
  {
   "cell_type": "code",
   "execution_count": 13,
   "metadata": {},
   "outputs": [
    {
     "data": {
      "text/html": [
       "<div>\n",
       "<style scoped>\n",
       "    .dataframe tbody tr th:only-of-type {\n",
       "        vertical-align: middle;\n",
       "    }\n",
       "\n",
       "    .dataframe tbody tr th {\n",
       "        vertical-align: top;\n",
       "    }\n",
       "\n",
       "    .dataframe thead th {\n",
       "        text-align: right;\n",
       "    }\n",
       "</style>\n",
       "<table border=\"1\" class=\"dataframe\">\n",
       "  <thead>\n",
       "    <tr style=\"text-align: right;\">\n",
       "      <th>Mayo_Rev2_Corrected</th>\n",
       "      <th>0</th>\n",
       "      <th>1</th>\n",
       "      <th>2</th>\n",
       "      <th>3</th>\n",
       "    </tr>\n",
       "    <tr>\n",
       "      <th>Mayo_Rev1_Corrected</th>\n",
       "      <th></th>\n",
       "      <th></th>\n",
       "      <th></th>\n",
       "      <th></th>\n",
       "    </tr>\n",
       "  </thead>\n",
       "  <tbody>\n",
       "    <tr>\n",
       "      <th>0</th>\n",
       "      <td>0.770524</td>\n",
       "      <td>0.223690</td>\n",
       "      <td>0.005677</td>\n",
       "      <td>0.000109</td>\n",
       "    </tr>\n",
       "    <tr>\n",
       "      <th>1</th>\n",
       "      <td>0.145773</td>\n",
       "      <td>0.546647</td>\n",
       "      <td>0.303207</td>\n",
       "      <td>0.004373</td>\n",
       "    </tr>\n",
       "    <tr>\n",
       "      <th>2</th>\n",
       "      <td>0.002079</td>\n",
       "      <td>0.059875</td>\n",
       "      <td>0.693139</td>\n",
       "      <td>0.244906</td>\n",
       "    </tr>\n",
       "    <tr>\n",
       "      <th>3</th>\n",
       "      <td>0.000000</td>\n",
       "      <td>0.000658</td>\n",
       "      <td>0.142857</td>\n",
       "      <td>0.856485</td>\n",
       "    </tr>\n",
       "  </tbody>\n",
       "</table>\n",
       "</div>"
      ],
      "text/plain": [
       "Mayo_Rev2_Corrected         0         1         2         3\n",
       "Mayo_Rev1_Corrected                                        \n",
       "0                    0.770524  0.223690  0.005677  0.000109\n",
       "1                    0.145773  0.546647  0.303207  0.004373\n",
       "2                    0.002079  0.059875  0.693139  0.244906\n",
       "3                    0.000000  0.000658  0.142857  0.856485"
      ]
     },
     "execution_count": 13,
     "metadata": {},
     "output_type": "execute_result"
    }
   ],
   "source": [
    "pd.crosstab(labels.Mayo_Rev1_Corrected, labels.Mayo_Rev2_Corrected, normalize='index')"
   ]
  },
  {
   "cell_type": "code",
   "execution_count": 14,
   "metadata": {},
   "outputs": [
    {
     "data": {
      "text/html": [
       "<div>\n",
       "<style scoped>\n",
       "    .dataframe tbody tr th:only-of-type {\n",
       "        vertical-align: middle;\n",
       "    }\n",
       "\n",
       "    .dataframe tbody tr th {\n",
       "        vertical-align: top;\n",
       "    }\n",
       "\n",
       "    .dataframe thead th {\n",
       "        text-align: right;\n",
       "    }\n",
       "</style>\n",
       "<table border=\"1\" class=\"dataframe\">\n",
       "  <thead>\n",
       "    <tr style=\"text-align: right;\">\n",
       "      <th>Mayo_Rev2_Corrected</th>\n",
       "      <th>0</th>\n",
       "      <th>1</th>\n",
       "      <th>2</th>\n",
       "      <th>3</th>\n",
       "    </tr>\n",
       "    <tr>\n",
       "      <th>adj_score</th>\n",
       "      <th></th>\n",
       "      <th></th>\n",
       "      <th></th>\n",
       "      <th></th>\n",
       "    </tr>\n",
       "  </thead>\n",
       "  <tbody>\n",
       "    <tr>\n",
       "      <th>0</th>\n",
       "      <td>0.819826</td>\n",
       "      <td>0.159745</td>\n",
       "      <td>0.019647</td>\n",
       "      <td>0.000781</td>\n",
       "    </tr>\n",
       "    <tr>\n",
       "      <th>1</th>\n",
       "      <td>0.061999</td>\n",
       "      <td>0.755859</td>\n",
       "      <td>0.172056</td>\n",
       "      <td>0.010086</td>\n",
       "    </tr>\n",
       "    <tr>\n",
       "      <th>2</th>\n",
       "      <td>0.003228</td>\n",
       "      <td>0.035109</td>\n",
       "      <td>0.843826</td>\n",
       "      <td>0.117837</td>\n",
       "    </tr>\n",
       "    <tr>\n",
       "      <th>3</th>\n",
       "      <td>0.001172</td>\n",
       "      <td>0.001757</td>\n",
       "      <td>0.075571</td>\n",
       "      <td>0.921500</td>\n",
       "    </tr>\n",
       "  </tbody>\n",
       "</table>\n",
       "</div>"
      ],
      "text/plain": [
       "Mayo_Rev2_Corrected         0         1         2         3\n",
       "adj_score                                                  \n",
       "0                    0.819826  0.159745  0.019647  0.000781\n",
       "1                    0.061999  0.755859  0.172056  0.010086\n",
       "2                    0.003228  0.035109  0.843826  0.117837\n",
       "3                    0.001172  0.001757  0.075571  0.921500"
      ]
     },
     "execution_count": 14,
     "metadata": {},
     "output_type": "execute_result"
    }
   ],
   "source": [
    "pd.crosstab(labels.adj_score, labels.Mayo_Rev2_Corrected, normalize='index')"
   ]
  },
  {
   "cell_type": "markdown",
   "metadata": {},
   "source": [
    "Make a subset copy of the images, so the generator can run faster. "
   ]
  },
  {
   "cell_type": "code",
   "execution_count": 15,
   "metadata": {},
   "outputs": [
    {
     "data": {
      "text/plain": [
       "(16514, 7)"
      ]
     },
     "execution_count": 15,
     "metadata": {},
     "output_type": "execute_result"
    }
   ],
   "source": [
    "labels.shape"
   ]
  },
  {
   "cell_type": "code",
   "execution_count": 19,
   "metadata": {},
   "outputs": [],
   "source": [
    "labeled = set(labels.basefile)\n",
    "\n",
    "from shutil import copyfile\n",
    "\n",
    "for f in filenames:\n",
    "    if f in labeled:\n",
    "        copyfile(path+'all_images/'+f, path+'subset_adjudication/'+f)"
   ]
  },
  {
   "cell_type": "markdown",
   "metadata": {},
   "source": [
    "Create labels for multi-binary classification:"
   ]
  },
  {
   "cell_type": "code",
   "execution_count": 11,
   "metadata": {},
   "outputs": [],
   "source": [
    "labels['split0_123'] = (labels.adj_score>0).astype(int)\n",
    "labels['split01_23'] = (labels.adj_score>1).astype(int)\n",
    "labels['split012_3'] = (labels.adj_score>2).astype(int)"
   ]
  },
  {
   "cell_type": "code",
   "execution_count": 23,
   "metadata": {
    "collapsed": true
   },
   "outputs": [
    {
     "data": {
      "text/html": [
       "<div>\n",
       "<style scoped>\n",
       "    .dataframe tbody tr th:only-of-type {\n",
       "        vertical-align: middle;\n",
       "    }\n",
       "\n",
       "    .dataframe tbody tr th {\n",
       "        vertical-align: top;\n",
       "    }\n",
       "\n",
       "    .dataframe thead th {\n",
       "        text-align: right;\n",
       "    }\n",
       "</style>\n",
       "<table border=\"1\" class=\"dataframe\">\n",
       "  <thead>\n",
       "    <tr style=\"text-align: right;\">\n",
       "      <th></th>\n",
       "      <th>basefile</th>\n",
       "      <th>pathname</th>\n",
       "      <th>SourceReportName</th>\n",
       "      <th>Mayo_Rev1_Corrected</th>\n",
       "      <th>Mayo_Rev2_Corrected</th>\n",
       "      <th>Corrected_ScoreDiff</th>\n",
       "      <th>adj_score</th>\n",
       "      <th>split0_123</th>\n",
       "      <th>split01_23</th>\n",
       "      <th>split012_3</th>\n",
       "    </tr>\n",
       "  </thead>\n",
       "  <tbody>\n",
       "    <tr>\n",
       "      <th>0</th>\n",
       "      <td>BM_col_1000-2.jpg</td>\n",
       "      <td>E:\\TEMP\\AS\\UPDATED FILES\\Colon_Images_Original...</td>\n",
       "      <td>BM_col_1000</td>\n",
       "      <td>2</td>\n",
       "      <td>3</td>\n",
       "      <td>1</td>\n",
       "      <td>2</td>\n",
       "      <td>1</td>\n",
       "      <td>1</td>\n",
       "      <td>0</td>\n",
       "    </tr>\n",
       "    <tr>\n",
       "      <th>1</th>\n",
       "      <td>BM_col_1000-3.jpg</td>\n",
       "      <td>E:\\TEMP\\AS\\UPDATED FILES\\Colon_Images_Original...</td>\n",
       "      <td>BM_col_1000</td>\n",
       "      <td>2</td>\n",
       "      <td>3</td>\n",
       "      <td>1</td>\n",
       "      <td>2</td>\n",
       "      <td>1</td>\n",
       "      <td>1</td>\n",
       "      <td>0</td>\n",
       "    </tr>\n",
       "    <tr>\n",
       "      <th>2</th>\n",
       "      <td>BM_col_1000-5.jpg</td>\n",
       "      <td>E:\\TEMP\\AS\\UPDATED FILES\\Colon_Images_Original...</td>\n",
       "      <td>BM_col_1000</td>\n",
       "      <td>0</td>\n",
       "      <td>0</td>\n",
       "      <td>0</td>\n",
       "      <td>0</td>\n",
       "      <td>0</td>\n",
       "      <td>0</td>\n",
       "      <td>0</td>\n",
       "    </tr>\n",
       "    <tr>\n",
       "      <th>3</th>\n",
       "      <td>BM_col_1000-6.jpg</td>\n",
       "      <td>E:\\TEMP\\AS\\UPDATED FILES\\Colon_Images_Original...</td>\n",
       "      <td>BM_col_1000</td>\n",
       "      <td>0</td>\n",
       "      <td>1</td>\n",
       "      <td>1</td>\n",
       "      <td>0</td>\n",
       "      <td>0</td>\n",
       "      <td>0</td>\n",
       "      <td>0</td>\n",
       "    </tr>\n",
       "    <tr>\n",
       "      <th>4</th>\n",
       "      <td>BM_col_1000-7.jpg</td>\n",
       "      <td>E:\\TEMP\\AS\\UPDATED FILES\\Colon_Images_Original...</td>\n",
       "      <td>BM_col_1000</td>\n",
       "      <td>0</td>\n",
       "      <td>0</td>\n",
       "      <td>0</td>\n",
       "      <td>0</td>\n",
       "      <td>0</td>\n",
       "      <td>0</td>\n",
       "      <td>0</td>\n",
       "    </tr>\n",
       "  </tbody>\n",
       "</table>\n",
       "</div>"
      ],
      "text/plain": [
       "            basefile                                           pathname  \\\n",
       "0  BM_col_1000-2.jpg  E:\\TEMP\\AS\\UPDATED FILES\\Colon_Images_Original...   \n",
       "1  BM_col_1000-3.jpg  E:\\TEMP\\AS\\UPDATED FILES\\Colon_Images_Original...   \n",
       "2  BM_col_1000-5.jpg  E:\\TEMP\\AS\\UPDATED FILES\\Colon_Images_Original...   \n",
       "3  BM_col_1000-6.jpg  E:\\TEMP\\AS\\UPDATED FILES\\Colon_Images_Original...   \n",
       "4  BM_col_1000-7.jpg  E:\\TEMP\\AS\\UPDATED FILES\\Colon_Images_Original...   \n",
       "\n",
       "  SourceReportName  Mayo_Rev1_Corrected  Mayo_Rev2_Corrected  \\\n",
       "0      BM_col_1000                    2                    3   \n",
       "1      BM_col_1000                    2                    3   \n",
       "2      BM_col_1000                    0                    0   \n",
       "3      BM_col_1000                    0                    1   \n",
       "4      BM_col_1000                    0                    0   \n",
       "\n",
       "   Corrected_ScoreDiff  adj_score  split0_123  split01_23  split012_3  \n",
       "0                    1          2           1           1           0  \n",
       "1                    1          2           1           1           0  \n",
       "2                    0          0           0           0           0  \n",
       "3                    1          0           0           0           0  \n",
       "4                    0          0           0           0           0  "
      ]
     },
     "execution_count": 23,
     "metadata": {},
     "output_type": "execute_result"
    }
   ],
   "source": [
    "labels.head()"
   ]
  },
  {
   "cell_type": "code",
   "execution_count": 26,
   "metadata": {},
   "outputs": [
    {
     "data": {
      "text/plain": [
       "0    8958\n",
       "1    3371\n",
       "2    2478\n",
       "3    1707\n",
       "Name: adj_score, dtype: int64"
      ]
     },
     "execution_count": 26,
     "metadata": {},
     "output_type": "execute_result"
    }
   ],
   "source": [
    "labels.adj_score.value_counts()"
   ]
  },
  {
   "cell_type": "code",
   "execution_count": 27,
   "metadata": {},
   "outputs": [
    {
     "data": {
      "text/plain": [
       "(16514, 3082)"
      ]
     },
     "execution_count": 27,
     "metadata": {},
     "output_type": "execute_result"
    }
   ],
   "source": [
    "len(labels), len(labels.SourceReportName.value_counts())"
   ]
  },
  {
   "cell_type": "markdown",
   "metadata": {},
   "source": [
    "Splitting of training/validation and testing (I use \"train\" to denote training and validation data, and \"tst\" to denote testing data; use \"trn\" and \"val\" for the training/validation splitting):"
   ]
  },
  {
   "cell_type": "code",
   "execution_count": 12,
   "metadata": {},
   "outputs": [],
   "source": [
    "labels = labels.reset_index(drop=True)\n",
    "split = GroupShuffleSplit(n_splits=1, test_size=0.1, random_state=24)\n",
    "ind = split.split(labels, groups=labels['SourceReportName'])\n",
    "train_ind, tst_ind = next(ind)\n",
    "train_patients = set(labels.loc[train_ind, 'SourceReportName'])\n",
    "tst_patients = set(labels.loc[tst_ind, 'SourceReportName'])\n",
    "train_df = labels.loc[train_ind]\n",
    "tst_df = labels.loc[tst_ind]"
   ]
  },
  {
   "cell_type": "code",
   "execution_count": 13,
   "metadata": {},
   "outputs": [
    {
     "data": {
      "text/plain": [
       "((14847,), (1667,), 2773, 309)"
      ]
     },
     "execution_count": 13,
     "metadata": {},
     "output_type": "execute_result"
    }
   ],
   "source": [
    "train_ind.shape, tst_ind.shape, len(train_patients), len(tst_patients)"
   ]
  },
  {
   "cell_type": "code",
   "execution_count": 30,
   "metadata": {},
   "outputs": [],
   "source": [
    "train_df.to_csv(path+'train_labels.csv', index=False)\n",
    "tst_df.to_csv(path+'tst_labels.csv', index=False)"
   ]
  },
  {
   "cell_type": "markdown",
   "metadata": {},
   "source": [
    "Splitting of training and validation sets:"
   ]
  },
  {
   "cell_type": "code",
   "execution_count": 7,
   "metadata": {},
   "outputs": [],
   "source": [
    "labels = pd.read_csv(path+'train_labels.csv')"
   ]
  },
  {
   "cell_type": "code",
   "execution_count": 8,
   "metadata": {},
   "outputs": [],
   "source": [
    "labels = labels.reset_index(drop=True)\n",
    "split = GroupShuffleSplit(n_splits=1, test_size=0.11, random_state=24)\n",
    "ind = split.split(labels, groups=labels['SourceReportName'])\n",
    "trn_ind, val_ind = next(ind)\n",
    "\n",
    "trn_patients = set(labels.loc[trn_ind, 'SourceReportName'])\n",
    "val_patients = set(labels.loc[val_ind, 'SourceReportName'])\n",
    "\n",
    "trn_df = labels.loc[trn_ind]\n",
    "val_df = labels.loc[val_ind]"
   ]
  },
  {
   "cell_type": "code",
   "execution_count": 9,
   "metadata": {},
   "outputs": [
    {
     "data": {
      "text/plain": [
       "((13165,), (1682,), 2467, 306)"
      ]
     },
     "execution_count": 9,
     "metadata": {},
     "output_type": "execute_result"
    }
   ],
   "source": [
    "trn_ind.shape, val_ind.shape, len(trn_patients), len(val_patients)"
   ]
  },
  {
   "cell_type": "code",
   "execution_count": 34,
   "metadata": {
    "scrolled": false
   },
   "outputs": [
    {
     "data": {
      "text/plain": [
       "0    1493\n",
       "1     189\n",
       "Name: split012_3, dtype: int64"
      ]
     },
     "execution_count": 34,
     "metadata": {},
     "output_type": "execute_result"
    }
   ],
   "source": [
    "val_df.split012_3.value_counts()"
   ]
  },
  {
   "cell_type": "code",
   "execution_count": 35,
   "metadata": {
    "scrolled": true
   },
   "outputs": [
    {
     "data": {
      "text/plain": [
       "0    863\n",
       "1    330\n",
       "2    300\n",
       "3    189\n",
       "Name: adj_score, dtype: int64"
      ]
     },
     "execution_count": 35,
     "metadata": {},
     "output_type": "execute_result"
    }
   ],
   "source": [
    "val_df.adj_score.value_counts()"
   ]
  },
  {
   "cell_type": "markdown",
   "metadata": {},
   "source": [
    "## Data Generator"
   ]
  },
  {
   "cell_type": "code",
   "execution_count": 7,
   "metadata": {},
   "outputs": [],
   "source": [
    "from keras_addon import ImageFrameGenerator, AUCCheckPoint"
   ]
  },
  {
   "cell_type": "code",
   "execution_count": 91,
   "metadata": {},
   "outputs": [
    {
     "data": {
      "text/plain": [
       "<module 'keras_addon' from '/home/wsliu/Codes/DLproj/keras_addon.py'>"
      ]
     },
     "execution_count": 91,
     "metadata": {},
     "output_type": "execute_result"
    }
   ],
   "source": [
    "import keras_addon\n",
    "from importlib import reload\n",
    "reload(keras_addon)"
   ]
  },
  {
   "cell_type": "code",
   "execution_count": 8,
   "metadata": {},
   "outputs": [],
   "source": [
    "train_gen = ImageFrameGenerator( \n",
    "        rotation_range=180,\n",
    "        width_shift_range=0.2,\n",
    "        height_shift_range=0.2,\n",
    "        shear_range=0.1,\n",
    "        zoom_range=0.2,\n",
    "        horizontal_flip=True,\n",
    "        vertical_flip=True,\n",
    "        fill_mode='nearest')"
   ]
  },
  {
   "cell_type": "code",
   "execution_count": 9,
   "metadata": {
    "scrolled": true
   },
   "outputs": [],
   "source": [
    "validation_gen = ImageFrameGenerator()"
   ]
  },
  {
   "cell_type": "code",
   "execution_count": 13,
   "metadata": {},
   "outputs": [
    {
     "name": "stdout",
     "output_type": "stream",
     "text": [
      "Found 16514 images in the directory.\n",
      "Using split0_123 as categorical label, with levels: {0: 0, 1: 1}\n",
      "Using split01_23 as categorical label, with levels: {0: 0, 1: 1}\n",
      "Using split012_3 as categorical label, with levels: {0: 0, 1: 1}\n",
      "Using 13165 images to generate mini-batches.\n"
     ]
    }
   ],
   "source": [
    "trn_itr = train_gen.flow_from_frame(data_path, trn_df, 'basefile', ['split0_123', 'split01_23', 'split012_3'], \n",
    "                                     target_size=(256, 320), label_types = ['categorical']*3, batch_size=batch_size)"
   ]
  },
  {
   "cell_type": "code",
   "execution_count": 14,
   "metadata": {
    "scrolled": false
   },
   "outputs": [
    {
     "name": "stdout",
     "output_type": "stream",
     "text": [
      "Found 16514 images in the directory.\n",
      "Using split0_123 as categorical label, with levels: {0: 0, 1: 1}\n",
      "Using split01_23 as categorical label, with levels: {0: 0, 1: 1}\n",
      "Using split012_3 as categorical label, with levels: {0: 0, 1: 1}\n",
      "Using 1682 images to generate mini-batches.\n"
     ]
    }
   ],
   "source": [
    "val_itr = validation_gen.flow_from_frame(data_path, val_df, 'basefile', ['split0_123', 'split01_23', 'split012_3'], \n",
    "                                     target_size=(256, 320), label_types = ['categorical']*3, batch_size=batch_size, \n",
    "                                         shuffle=False)"
   ]
  },
  {
   "cell_type": "code",
   "execution_count": 14,
   "metadata": {},
   "outputs": [
    {
     "name": "stdout",
     "output_type": "stream",
     "text": [
      "Found 16514 images in the directory.\n",
      "Using split0_123 as categorical label, with levels: {0: 0, 1: 1}\n",
      "Using split01_23 as categorical label, with levels: {0: 0, 1: 1}\n",
      "Using split012_3 as categorical label, with levels: {0: 0, 1: 1}\n",
      "Using 14847 images to generate mini-batches.\n"
     ]
    }
   ],
   "source": [
    "train_itr = train_gen.flow_from_frame(data_path, train_df, 'basefile', ['split0_123', 'split01_23', 'split012_3'], \n",
    "                                     target_size=(256, 320), label_types = ['categorical']*3, batch_size=batch_size)"
   ]
  },
  {
   "cell_type": "markdown",
   "metadata": {},
   "source": [
    "## Model with 3 binary output"
   ]
  },
  {
   "cell_type": "code",
   "execution_count": null,
   "metadata": {},
   "outputs": [],
   "source": [
    "base_model = InceptionV3(weights='imagenet', include_top=False)"
   ]
  },
  {
   "cell_type": "code",
   "execution_count": 16,
   "metadata": {},
   "outputs": [],
   "source": [
    "x = base_model.output\n",
    "x = GlobalAveragePooling2D()(x)\n",
    "\n",
    "output1 = Dense(2, activation='softmax', name='split0_123')(x)\n",
    "output2 = Dense(2, activation='softmax', name='split01_23')(x)\n",
    "output3 = Dense(2, activation='softmax', name='split012_3')(x)\n",
    "\n",
    "model = Model(inputs=base_model.input, outputs=[output1, output2, output3])"
   ]
  },
  {
   "cell_type": "code",
   "execution_count": 17,
   "metadata": {},
   "outputs": [],
   "source": [
    "model.compile(optimizer='adam', loss='categorical_crossentropy')"
   ]
  },
  {
   "cell_type": "code",
   "execution_count": 18,
   "metadata": {},
   "outputs": [],
   "source": [
    "checkpointer = ModelCheckpoint(filepath=model_path+'binary3_valloss_1111.h5', verbose=0, save_best_only=True, \n",
    "                               save_weights_only=True)\n",
    "auccheckpt = AUCCheckPoint(filepath=model_path+'binary3_auc_1111.h5', validation_itr=val_itr)\n",
    "reduce_lr = ReduceLROnPlateau(monitor='loss', factor=0.2, patience=5, min_lr=1.e-8)\n",
    "earlystop = EarlyStopping(monitor='val_loss', patience=40)"
   ]
  },
  {
   "cell_type": "code",
   "execution_count": 18,
   "metadata": {},
   "outputs": [],
   "source": [
    "class_weight = {'split0_123':{0:len(trn_df)/sum(trn_df.split0_123==0), 1:len(trn_df)/sum(trn_df.split0_123==1)}, \n",
    "               'split01_23':{0:len(trn_df)/sum(trn_df.split01_23==0), 1:len(trn_df)/sum(trn_df.split01_23==1)}, \n",
    "               'split012_3':{0:len(trn_df)/sum(trn_df.split012_3==0), 1:len(trn_df)/sum(trn_df.split012_3==1)}}"
   ]
  },
  {
   "cell_type": "code",
   "execution_count": 23,
   "metadata": {},
   "outputs": [
    {
     "data": {
      "text/plain": [
       "{'split012_3': {0: 0.10292442081276111, 1: 0.8970755791872389},\n",
       " 'split01_23': {0: 0.5025446259020129, 1: 1.497455374097987},\n",
       " 'split0_123': {0: 0.45507026205848844, 1: 0.5449297379415116}}"
      ]
     },
     "execution_count": 23,
     "metadata": {},
     "output_type": "execute_result"
    }
   ],
   "source": [
    "class_weight"
   ]
  },
  {
   "cell_type": "code",
   "execution_count": 27,
   "metadata": {
    "collapsed": true
   },
   "outputs": [
    {
     "name": "stdout",
     "output_type": "stream",
     "text": [
      "Epoch 1/2\n",
      "411/411 [==============================] - 607s 1s/step - loss: 0.4941 - split0_123_loss: 0.2587 - split01_23_loss: 0.1659 - split012_3_loss: 0.0696 - val_loss: 1.6972 - val_split0_123_loss: 0.7067 - val_split01_23_loss: 0.6195 - val_split012_3_loss: 0.3710\n",
      "AUC_split0_123: 0.8108\n",
      "AUC_split01_23: 0.8271\n",
      "AUC_split012_3: 0.7556\n",
      "Mean AUC: 0.7978\n",
      "\n",
      "Epoch 2/2\n",
      "411/411 [==============================] - 589s 1s/step - loss: 0.4260 - split0_123_loss: 0.2247 - split01_23_loss: 0.1417 - split012_3_loss: 0.0596 - val_loss: 1.6510 - val_split0_123_loss: 0.8736 - val_split01_23_loss: 0.5240 - val_split012_3_loss: 0.2534\n",
      "AUC_split0_123: 0.8585\n",
      "AUC_split01_23: 0.9169\n",
      "AUC_split012_3: 0.9226\n",
      "Mean AUC: 0.8993\n",
      "\n"
     ]
    }
   ],
   "source": [
    "history = model.fit_generator(trn_itr, steps_per_epoch=trn_itr.n // batch_size, epochs=2, \n",
    "                              validation_data=val_itr, validation_steps=val_itr.n // batch_size, \n",
    "                              callbacks=[checkpointer, auccheckpt, reduce_lr, earlystop], class_weight = class_weight, \n",
    "                                verbose=1)"
   ]
  },
  {
   "cell_type": "markdown",
   "metadata": {},
   "source": [
    "### Result Evaluation"
   ]
  },
  {
   "cell_type": "code",
   "execution_count": 65,
   "metadata": {},
   "outputs": [],
   "source": [
    "with open('output/binary3_auc_0528.pkl', 'rb') as f:\n",
    "    auc_history = pickle.load(f)"
   ]
  },
  {
   "cell_type": "code",
   "execution_count": 66,
   "metadata": {},
   "outputs": [
    {
     "data": {
      "text/plain": [
       "Text(0,0.5,'AUCs')"
      ]
     },
     "execution_count": 66,
     "metadata": {},
     "output_type": "execute_result"
    },
    {
     "data": {
      "image/png": "[encoded data removed]",
      "text/plain": [
       "<Figure size 432x288 with 1 Axes>"
      ]
     },
     "metadata": {},
     "output_type": "display_data"
    }
   ],
   "source": [
    "plt.plot(auc_history['split0_123'])\n",
    "plt.plot(auc_history['split01_23'])\n",
    "plt.plot(auc_history['split012_3'])\n",
    "plt.xlabel('Number of epochs')\n",
    "plt.ylabel('AUCs')"
   ]
  },
  {
   "cell_type": "code",
   "execution_count": 88,
   "metadata": {},
   "outputs": [],
   "source": [
    "tst_df = pd.read_csv(path+'tst_labels.csv')\n",
    "tst_df = tst_df.reset_index(drop=True)"
   ]
  },
  {
   "cell_type": "code",
   "execution_count": 50,
   "metadata": {
    "scrolled": true
   },
   "outputs": [],
   "source": [
    "validation_gen = ImageFrameGenerator()"
   ]
  },
  {
   "cell_type": "code",
   "execution_count": 98,
   "metadata": {
    "scrolled": false
   },
   "outputs": [
    {
     "name": "stdout",
     "output_type": "stream",
     "text": [
      "Found 16514 images in the directory.\n",
      "Using split0_123 as categorical label, with levels: {0: 0, 1: 1}\n",
      "Using split01_23 as categorical label, with levels: {0: 0, 1: 1}\n",
      "Using split012_3 as categorical label, with levels: {0: 0, 1: 1}\n",
      "Using 1667 images to generate mini-batches.\n"
     ]
    }
   ],
   "source": [
    "tst_itr = validation_gen.flow_from_frame(data_path, tst_df, 'basefile', ['split0_123', 'split01_23', 'split012_3'], \n",
    "                                     target_size=(256, 320), label_types = ['categorical']*3, batch_size=batch_size, \n",
    "                                         shuffle=False)"
   ]
  },
  {
   "cell_type": "code",
   "execution_count": 52,
   "metadata": {},
   "outputs": [],
   "source": [
    "model.load_weights(model_path+'binary3_auc_1111.h5')"
   ]
  },
  {
   "cell_type": "code",
   "execution_count": 53,
   "metadata": {},
   "outputs": [
    {
     "name": "stdout",
     "output_type": "stream",
     "text": [
      "53/53 [==============================] - 24s 458ms/step\n"
     ]
    }
   ],
   "source": [
    "y = model.predict_generator(tst_itr, verbose=1)"
   ]
  },
  {
   "cell_type": "code",
   "execution_count": 54,
   "metadata": {},
   "outputs": [],
   "source": [
    "y_pred = np.concatenate([l[:, 1].reshape((l.shape[0], 1)) for l in y], axis=1)"
   ]
  },
  {
   "cell_type": "code",
   "execution_count": 55,
   "metadata": {},
   "outputs": [],
   "source": [
    "y_true = tst_df[['split0_123', 'split01_23', 'split012_3']].values"
   ]
  },
  {
   "cell_type": "code",
   "execution_count": 56,
   "metadata": {},
   "outputs": [
    {
     "data": {
      "text/plain": [
       "((1667, 3), (1667, 3))"
      ]
     },
     "execution_count": 56,
     "metadata": {},
     "output_type": "execute_result"
    }
   ],
   "source": [
    "y_pred.shape, y_true.shape"
   ]
  },
  {
   "cell_type": "code",
   "execution_count": 57,
   "metadata": {
    "scrolled": true
   },
   "outputs": [
    {
     "data": {
      "text/plain": [
       "{0: 0.8703516110533775, 1: 0.9198552348403632, 2: 0.9231211656441717}"
      ]
     },
     "execution_count": 57,
     "metadata": {},
     "output_type": "execute_result"
    },
    {
     "data": {
      "image/png": "[encoded data removed]",
      "text/plain": [
       "<Figure size 432x288 with 1 Axes>"
      ]
     },
     "metadata": {},
     "output_type": "display_data"
    }
   ],
   "source": [
    "plot_roc(y_pred, y_true, classes=['split0_123', 'split01_23', 'split012_3'])"
   ]
  },
  {
   "cell_type": "code",
   "execution_count": 103,
   "metadata": {},
   "outputs": [],
   "source": [
    "score4 = np.zeros((y_pred.shape[0], y_pred.shape[1]+1), dtype=float)"
   ]
  },
  {
   "cell_type": "code",
   "execution_count": 104,
   "metadata": {},
   "outputs": [],
   "source": [
    "score4[:, 0] = 1 - y_pred[:, 0]\n",
    "score4[:, 1] = y_pred[:, 0]*(1-y_pred[:,1])\n",
    "score4[:, 2] = y_pred[:, 0]*y_pred[:,1]*(1-y_pred[:,2])\n",
    "score4[:, 3] = y_pred[:, 0]*y_pred[:,1]*y_pred[:,2]"
   ]
  },
  {
   "cell_type": "code",
   "execution_count": 105,
   "metadata": {},
   "outputs": [],
   "source": [
    "mayo_pred = pd.Series(score4.argmax(axis=1), name='Mayo_pred')"
   ]
  },
  {
   "cell_type": "code",
   "execution_count": 106,
   "metadata": {},
   "outputs": [],
   "source": [
    "mayo_true = tst_df.Mayo_score\n",
    "mayo_true.name = 'Mayo_true'"
   ]
  },
  {
   "cell_type": "markdown",
   "metadata": {},
   "source": [
    "## Test on Video data"
   ]
  },
  {
   "cell_type": "markdown",
   "metadata": {},
   "source": [
    "Copy all video images to the same folder, and rename them as \"subject id\"+\"frame\". "
   ]
  },
  {
   "cell_type": "code",
   "execution_count": 7,
   "metadata": {},
   "outputs": [],
   "source": [
    "from shutil import copyfile"
   ]
  },
  {
   "cell_type": "code",
   "execution_count": 28,
   "metadata": {},
   "outputs": [],
   "source": [
    "phase1_path = path+'../UC_colonoscopy/UC_Images_Labels/'"
   ]
  },
  {
   "cell_type": "code",
   "execution_count": 37,
   "metadata": {},
   "outputs": [],
   "source": [
    "phase1_folders = [o for o in os.listdir(phase1_path) if os.path.isdir(os.path.join(phase1_path,o))]"
   ]
  },
  {
   "cell_type": "code",
   "execution_count": 39,
   "metadata": {},
   "outputs": [],
   "source": [
    "for folder in phase1_folders:\n",
    "    for file in os.listdir(phase1_path+folder):\n",
    "        copyfile(phase1_path+folder+'/'+file, path+'all_video_images/'+folder+file)"
   ]
  },
  {
   "cell_type": "code",
   "execution_count": 40,
   "metadata": {},
   "outputs": [],
   "source": [
    "phase2_path = path+'Ryan_qc_0525/video_data/'"
   ]
  },
  {
   "cell_type": "code",
   "execution_count": 41,
   "metadata": {},
   "outputs": [],
   "source": [
    "phase2_folders = [o for o in os.listdir(phase2_path) if os.path.isdir(os.path.join(phase2_path,o))]"
   ]
  },
  {
   "cell_type": "code",
   "execution_count": 43,
   "metadata": {},
   "outputs": [],
   "source": [
    "for folder in phase2_folders:\n",
    "    for file in os.listdir(phase2_path+folder):\n",
    "        copyfile(phase2_path+folder+'/'+file, path+'all_video_images/'+folder+file)"
   ]
  },
  {
   "cell_type": "code",
   "execution_count": 8,
   "metadata": {},
   "outputs": [],
   "source": [
    "phase3_path = path+'additional_video_data1128/'"
   ]
  },
  {
   "cell_type": "code",
   "execution_count": 9,
   "metadata": {},
   "outputs": [],
   "source": [
    "phase3_folders = [o for o in os.listdir(phase3_path) if os.path.isdir(os.path.join(phase3_path,o))]"
   ]
  },
  {
   "cell_type": "code",
   "execution_count": 11,
   "metadata": {},
   "outputs": [],
   "source": [
    "phase3_folders = ['058', '113']"
   ]
  },
  {
   "cell_type": "code",
   "execution_count": 12,
   "metadata": {},
   "outputs": [],
   "source": [
    "for folder in phase3_folders:\n",
    "    for file in os.listdir(phase3_path+folder):\n",
    "        copyfile(phase3_path+folder+'/'+file, path+'all_video_images/'+folder+file)"
   ]
  },
  {
   "cell_type": "code",
   "execution_count": 10,
   "metadata": {},
   "outputs": [],
   "source": [
    "vfilenames = os.listdir(path+'all_video_images/')"
   ]
  },
  {
   "cell_type": "code",
   "execution_count": 11,
   "metadata": {},
   "outputs": [],
   "source": [
    "vfilenames = set(vfilenames)"
   ]
  },
  {
   "cell_type": "code",
   "execution_count": 17,
   "metadata": {},
   "outputs": [
    {
     "data": {
      "text/plain": [
       "39890"
      ]
     },
     "execution_count": 17,
     "metadata": {},
     "output_type": "execute_result"
    }
   ],
   "source": [
    "len(vfilenames)"
   ]
  },
  {
   "cell_type": "code",
   "execution_count": 8,
   "metadata": {},
   "outputs": [],
   "source": [
    "video_labels = pd.read_excel(path+'VideoTestSet_labels_29NOV2018.xlsx')"
   ]
  },
  {
   "cell_type": "code",
   "execution_count": 13,
   "metadata": {},
   "outputs": [
    {
     "data": {
      "text/plain": [
       "(11549, 13)"
      ]
     },
     "execution_count": 13,
     "metadata": {},
     "output_type": "execute_result"
    }
   ],
   "source": [
    "video_labels.shape"
   ]
  },
  {
   "cell_type": "code",
   "execution_count": 38,
   "metadata": {
    "collapsed": true
   },
   "outputs": [
    {
     "data": {
      "text/html": [
       "<div>\n",
       "<style scoped>\n",
       "    .dataframe tbody tr th:only-of-type {\n",
       "        vertical-align: middle;\n",
       "    }\n",
       "\n",
       "    .dataframe tbody tr th {\n",
       "        vertical-align: top;\n",
       "    }\n",
       "\n",
       "    .dataframe thead th {\n",
       "        text-align: right;\n",
       "    }\n",
       "</style>\n",
       "<table border=\"1\" class=\"dataframe\">\n",
       "  <thead>\n",
       "    <tr style=\"text-align: right;\">\n",
       "      <th></th>\n",
       "      <th>ID</th>\n",
       "      <th>basefile</th>\n",
       "      <th>pathname</th>\n",
       "      <th>file_seq</th>\n",
       "      <th>SubjectID</th>\n",
       "      <th>Time_sec</th>\n",
       "      <th>Video_time</th>\n",
       "      <th>Mayo_0</th>\n",
       "      <th>Mayo_1</th>\n",
       "      <th>Mayo_2</th>\n",
       "      <th>Mayo_3</th>\n",
       "    </tr>\n",
       "  </thead>\n",
       "  <tbody>\n",
       "    <tr>\n",
       "      <th>0</th>\n",
       "      <td>120088</td>\n",
       "      <td>frame-000243.jpg</td>\n",
       "      <td>\\\\maize.umhsnas.med.umich.edu\\IntMedGI-Stidham...</td>\n",
       "      <td>244.0</td>\n",
       "      <td>001</td>\n",
       "      <td>244.0</td>\n",
       "      <td>00:04:04</td>\n",
       "      <td>False</td>\n",
       "      <td>True</td>\n",
       "      <td>False</td>\n",
       "      <td>False</td>\n",
       "    </tr>\n",
       "    <tr>\n",
       "      <th>1</th>\n",
       "      <td>120089</td>\n",
       "      <td>frame-000244.jpg</td>\n",
       "      <td>\\\\maize.umhsnas.med.umich.edu\\IntMedGI-Stidham...</td>\n",
       "      <td>245.0</td>\n",
       "      <td>001</td>\n",
       "      <td>245.0</td>\n",
       "      <td>00:04:05</td>\n",
       "      <td>False</td>\n",
       "      <td>True</td>\n",
       "      <td>False</td>\n",
       "      <td>False</td>\n",
       "    </tr>\n",
       "    <tr>\n",
       "      <th>2</th>\n",
       "      <td>120090</td>\n",
       "      <td>frame-000245.jpg</td>\n",
       "      <td>\\\\maize.umhsnas.med.umich.edu\\IntMedGI-Stidham...</td>\n",
       "      <td>246.0</td>\n",
       "      <td>001</td>\n",
       "      <td>246.0</td>\n",
       "      <td>00:04:06</td>\n",
       "      <td>False</td>\n",
       "      <td>True</td>\n",
       "      <td>False</td>\n",
       "      <td>False</td>\n",
       "    </tr>\n",
       "    <tr>\n",
       "      <th>3</th>\n",
       "      <td>120091</td>\n",
       "      <td>frame-000246.jpg</td>\n",
       "      <td>\\\\maize.umhsnas.med.umich.edu\\IntMedGI-Stidham...</td>\n",
       "      <td>247.0</td>\n",
       "      <td>001</td>\n",
       "      <td>247.0</td>\n",
       "      <td>00:04:07</td>\n",
       "      <td>False</td>\n",
       "      <td>True</td>\n",
       "      <td>False</td>\n",
       "      <td>False</td>\n",
       "    </tr>\n",
       "    <tr>\n",
       "      <th>4</th>\n",
       "      <td>120092</td>\n",
       "      <td>frame-000247.jpg</td>\n",
       "      <td>\\\\maize.umhsnas.med.umich.edu\\IntMedGI-Stidham...</td>\n",
       "      <td>248.0</td>\n",
       "      <td>001</td>\n",
       "      <td>248.0</td>\n",
       "      <td>00:04:08</td>\n",
       "      <td>False</td>\n",
       "      <td>True</td>\n",
       "      <td>False</td>\n",
       "      <td>False</td>\n",
       "    </tr>\n",
       "  </tbody>\n",
       "</table>\n",
       "</div>"
      ],
      "text/plain": [
       "       ID          basefile  \\\n",
       "0  120088  frame-000243.jpg   \n",
       "1  120089  frame-000244.jpg   \n",
       "2  120090  frame-000245.jpg   \n",
       "3  120091  frame-000246.jpg   \n",
       "4  120092  frame-000247.jpg   \n",
       "\n",
       "                                            pathname  file_seq SubjectID  \\\n",
       "0  \\\\maize.umhsnas.med.umich.edu\\IntMedGI-Stidham...     244.0       001   \n",
       "1  \\\\maize.umhsnas.med.umich.edu\\IntMedGI-Stidham...     245.0       001   \n",
       "2  \\\\maize.umhsnas.med.umich.edu\\IntMedGI-Stidham...     246.0       001   \n",
       "3  \\\\maize.umhsnas.med.umich.edu\\IntMedGI-Stidham...     247.0       001   \n",
       "4  \\\\maize.umhsnas.med.umich.edu\\IntMedGI-Stidham...     248.0       001   \n",
       "\n",
       "   Time_sec Video_time  Mayo_0  Mayo_1  Mayo_2  Mayo_3  \n",
       "0     244.0   00:04:04   False    True   False   False  \n",
       "1     245.0   00:04:05   False    True   False   False  \n",
       "2     246.0   00:04:06   False    True   False   False  \n",
       "3     247.0   00:04:07   False    True   False   False  \n",
       "4     248.0   00:04:08   False    True   False   False  "
      ]
     },
     "execution_count": 38,
     "metadata": {},
     "output_type": "execute_result"
    }
   ],
   "source": [
    "video_labels.head()"
   ]
  },
  {
   "cell_type": "code",
   "execution_count": 9,
   "metadata": {},
   "outputs": [],
   "source": [
    "video_labels['filename'] = [s+b for s, b in zip(video_labels.SubjectID, video_labels.basefile)]"
   ]
  },
  {
   "cell_type": "code",
   "execution_count": 12,
   "metadata": {},
   "outputs": [],
   "source": [
    "video_labels = video_labels.loc[video_labels.filename.isin(vfilenames)]"
   ]
  },
  {
   "cell_type": "code",
   "execution_count": 48,
   "metadata": {
    "collapsed": true
   },
   "outputs": [
    {
     "data": {
      "text/html": [
       "<div>\n",
       "<style scoped>\n",
       "    .dataframe tbody tr th:only-of-type {\n",
       "        vertical-align: middle;\n",
       "    }\n",
       "\n",
       "    .dataframe tbody tr th {\n",
       "        vertical-align: top;\n",
       "    }\n",
       "\n",
       "    .dataframe thead th {\n",
       "        text-align: right;\n",
       "    }\n",
       "</style>\n",
       "<table border=\"1\" class=\"dataframe\">\n",
       "  <thead>\n",
       "    <tr style=\"text-align: right;\">\n",
       "      <th></th>\n",
       "      <th>ID</th>\n",
       "      <th>basefile</th>\n",
       "      <th>pathname</th>\n",
       "      <th>file_seq</th>\n",
       "      <th>SubjectID</th>\n",
       "      <th>Time_sec</th>\n",
       "      <th>Video_time</th>\n",
       "      <th>Mayo_0</th>\n",
       "      <th>Mayo_1</th>\n",
       "      <th>Mayo_2</th>\n",
       "      <th>Mayo_3</th>\n",
       "      <th>filename</th>\n",
       "    </tr>\n",
       "  </thead>\n",
       "  <tbody>\n",
       "    <tr>\n",
       "      <th>85</th>\n",
       "      <td>120177</td>\n",
       "      <td>frame-000332.jpg</td>\n",
       "      <td>\\\\maize.umhsnas.med.umich.edu\\IntMedGI-Stidham...</td>\n",
       "      <td>333.0</td>\n",
       "      <td>001</td>\n",
       "      <td>333.0</td>\n",
       "      <td>00:05:33</td>\n",
       "      <td>False</td>\n",
       "      <td>False</td>\n",
       "      <td>False</td>\n",
       "      <td>False</td>\n",
       "      <td>001frame-000332.jpg</td>\n",
       "    </tr>\n",
       "    <tr>\n",
       "      <th>91</th>\n",
       "      <td>120184</td>\n",
       "      <td>frame-000339.jpg</td>\n",
       "      <td>\\\\maize.umhsnas.med.umich.edu\\IntMedGI-Stidham...</td>\n",
       "      <td>340.0</td>\n",
       "      <td>001</td>\n",
       "      <td>340.0</td>\n",
       "      <td>00:05:40</td>\n",
       "      <td>False</td>\n",
       "      <td>False</td>\n",
       "      <td>False</td>\n",
       "      <td>False</td>\n",
       "      <td>001frame-000339.jpg</td>\n",
       "    </tr>\n",
       "    <tr>\n",
       "      <th>94</th>\n",
       "      <td>120187</td>\n",
       "      <td>frame-000342.jpg</td>\n",
       "      <td>\\\\maize.umhsnas.med.umich.edu\\IntMedGI-Stidham...</td>\n",
       "      <td>343.0</td>\n",
       "      <td>001</td>\n",
       "      <td>343.0</td>\n",
       "      <td>00:05:43</td>\n",
       "      <td>False</td>\n",
       "      <td>False</td>\n",
       "      <td>False</td>\n",
       "      <td>False</td>\n",
       "      <td>001frame-000342.jpg</td>\n",
       "    </tr>\n",
       "    <tr>\n",
       "      <th>97</th>\n",
       "      <td>120190</td>\n",
       "      <td>frame-000345.jpg</td>\n",
       "      <td>\\\\maize.umhsnas.med.umich.edu\\IntMedGI-Stidham...</td>\n",
       "      <td>346.0</td>\n",
       "      <td>001</td>\n",
       "      <td>346.0</td>\n",
       "      <td>00:05:46</td>\n",
       "      <td>False</td>\n",
       "      <td>False</td>\n",
       "      <td>False</td>\n",
       "      <td>False</td>\n",
       "      <td>001frame-000345.jpg</td>\n",
       "    </tr>\n",
       "    <tr>\n",
       "      <th>98</th>\n",
       "      <td>120192</td>\n",
       "      <td>frame-000347.jpg</td>\n",
       "      <td>\\\\maize.umhsnas.med.umich.edu\\IntMedGI-Stidham...</td>\n",
       "      <td>348.0</td>\n",
       "      <td>001</td>\n",
       "      <td>348.0</td>\n",
       "      <td>00:05:48</td>\n",
       "      <td>False</td>\n",
       "      <td>False</td>\n",
       "      <td>False</td>\n",
       "      <td>False</td>\n",
       "      <td>001frame-000347.jpg</td>\n",
       "    </tr>\n",
       "    <tr>\n",
       "      <th>131</th>\n",
       "      <td>120301</td>\n",
       "      <td>frame-000456.jpg</td>\n",
       "      <td>\\\\maize.umhsnas.med.umich.edu\\IntMedGI-Stidham...</td>\n",
       "      <td>457.0</td>\n",
       "      <td>001</td>\n",
       "      <td>457.0</td>\n",
       "      <td>00:07:37</td>\n",
       "      <td>False</td>\n",
       "      <td>False</td>\n",
       "      <td>False</td>\n",
       "      <td>False</td>\n",
       "      <td>001frame-000456.jpg</td>\n",
       "    </tr>\n",
       "    <tr>\n",
       "      <th>132</th>\n",
       "      <td>120305</td>\n",
       "      <td>frame-000460.jpg</td>\n",
       "      <td>\\\\maize.umhsnas.med.umich.edu\\IntMedGI-Stidham...</td>\n",
       "      <td>461.0</td>\n",
       "      <td>001</td>\n",
       "      <td>461.0</td>\n",
       "      <td>00:07:41</td>\n",
       "      <td>False</td>\n",
       "      <td>False</td>\n",
       "      <td>False</td>\n",
       "      <td>False</td>\n",
       "      <td>001frame-000460.jpg</td>\n",
       "    </tr>\n",
       "    <tr>\n",
       "      <th>133</th>\n",
       "      <td>120507</td>\n",
       "      <td>frame-000662.jpg</td>\n",
       "      <td>\\\\maize.umhsnas.med.umich.edu\\IntMedGI-Stidham...</td>\n",
       "      <td>663.0</td>\n",
       "      <td>001</td>\n",
       "      <td>663.0</td>\n",
       "      <td>00:11:03</td>\n",
       "      <td>False</td>\n",
       "      <td>False</td>\n",
       "      <td>False</td>\n",
       "      <td>False</td>\n",
       "      <td>001frame-000662.jpg</td>\n",
       "    </tr>\n",
       "    <tr>\n",
       "      <th>134</th>\n",
       "      <td>120509</td>\n",
       "      <td>frame-000664.jpg</td>\n",
       "      <td>\\\\maize.umhsnas.med.umich.edu\\IntMedGI-Stidham...</td>\n",
       "      <td>665.0</td>\n",
       "      <td>001</td>\n",
       "      <td>665.0</td>\n",
       "      <td>00:11:05</td>\n",
       "      <td>False</td>\n",
       "      <td>False</td>\n",
       "      <td>False</td>\n",
       "      <td>False</td>\n",
       "      <td>001frame-000664.jpg</td>\n",
       "    </tr>\n",
       "    <tr>\n",
       "      <th>135</th>\n",
       "      <td>120511</td>\n",
       "      <td>frame-000666.jpg</td>\n",
       "      <td>\\\\maize.umhsnas.med.umich.edu\\IntMedGI-Stidham...</td>\n",
       "      <td>667.0</td>\n",
       "      <td>001</td>\n",
       "      <td>667.0</td>\n",
       "      <td>00:11:07</td>\n",
       "      <td>False</td>\n",
       "      <td>False</td>\n",
       "      <td>False</td>\n",
       "      <td>False</td>\n",
       "      <td>001frame-000666.jpg</td>\n",
       "    </tr>\n",
       "    <tr>\n",
       "      <th>136</th>\n",
       "      <td>120513</td>\n",
       "      <td>frame-000668.jpg</td>\n",
       "      <td>\\\\maize.umhsnas.med.umich.edu\\IntMedGI-Stidham...</td>\n",
       "      <td>669.0</td>\n",
       "      <td>001</td>\n",
       "      <td>669.0</td>\n",
       "      <td>00:11:09</td>\n",
       "      <td>False</td>\n",
       "      <td>False</td>\n",
       "      <td>False</td>\n",
       "      <td>False</td>\n",
       "      <td>001frame-000668.jpg</td>\n",
       "    </tr>\n",
       "    <tr>\n",
       "      <th>137</th>\n",
       "      <td>120515</td>\n",
       "      <td>frame-000670.jpg</td>\n",
       "      <td>\\\\maize.umhsnas.med.umich.edu\\IntMedGI-Stidham...</td>\n",
       "      <td>671.0</td>\n",
       "      <td>001</td>\n",
       "      <td>671.0</td>\n",
       "      <td>00:11:11</td>\n",
       "      <td>False</td>\n",
       "      <td>False</td>\n",
       "      <td>False</td>\n",
       "      <td>False</td>\n",
       "      <td>001frame-000670.jpg</td>\n",
       "    </tr>\n",
       "    <tr>\n",
       "      <th>138</th>\n",
       "      <td>120517</td>\n",
       "      <td>frame-000672.jpg</td>\n",
       "      <td>\\\\maize.umhsnas.med.umich.edu\\IntMedGI-Stidham...</td>\n",
       "      <td>673.0</td>\n",
       "      <td>001</td>\n",
       "      <td>673.0</td>\n",
       "      <td>00:11:13</td>\n",
       "      <td>False</td>\n",
       "      <td>False</td>\n",
       "      <td>False</td>\n",
       "      <td>False</td>\n",
       "      <td>001frame-000672.jpg</td>\n",
       "    </tr>\n",
       "    <tr>\n",
       "      <th>139</th>\n",
       "      <td>120519</td>\n",
       "      <td>frame-000674.jpg</td>\n",
       "      <td>\\\\maize.umhsnas.med.umich.edu\\IntMedGI-Stidham...</td>\n",
       "      <td>675.0</td>\n",
       "      <td>001</td>\n",
       "      <td>675.0</td>\n",
       "      <td>00:11:15</td>\n",
       "      <td>False</td>\n",
       "      <td>False</td>\n",
       "      <td>False</td>\n",
       "      <td>False</td>\n",
       "      <td>001frame-000674.jpg</td>\n",
       "    </tr>\n",
       "    <tr>\n",
       "      <th>140</th>\n",
       "      <td>120521</td>\n",
       "      <td>frame-000676.jpg</td>\n",
       "      <td>\\\\maize.umhsnas.med.umich.edu\\IntMedGI-Stidham...</td>\n",
       "      <td>677.0</td>\n",
       "      <td>001</td>\n",
       "      <td>677.0</td>\n",
       "      <td>00:11:17</td>\n",
       "      <td>False</td>\n",
       "      <td>False</td>\n",
       "      <td>False</td>\n",
       "      <td>False</td>\n",
       "      <td>001frame-000676.jpg</td>\n",
       "    </tr>\n",
       "    <tr>\n",
       "      <th>141</th>\n",
       "      <td>120523</td>\n",
       "      <td>frame-000678.jpg</td>\n",
       "      <td>\\\\maize.umhsnas.med.umich.edu\\IntMedGI-Stidham...</td>\n",
       "      <td>679.0</td>\n",
       "      <td>001</td>\n",
       "      <td>679.0</td>\n",
       "      <td>00:11:19</td>\n",
       "      <td>False</td>\n",
       "      <td>False</td>\n",
       "      <td>False</td>\n",
       "      <td>False</td>\n",
       "      <td>001frame-000678.jpg</td>\n",
       "    </tr>\n",
       "    <tr>\n",
       "      <th>142</th>\n",
       "      <td>120525</td>\n",
       "      <td>frame-000680.jpg</td>\n",
       "      <td>\\\\maize.umhsnas.med.umich.edu\\IntMedGI-Stidham...</td>\n",
       "      <td>681.0</td>\n",
       "      <td>001</td>\n",
       "      <td>681.0</td>\n",
       "      <td>00:11:21</td>\n",
       "      <td>False</td>\n",
       "      <td>False</td>\n",
       "      <td>False</td>\n",
       "      <td>False</td>\n",
       "      <td>001frame-000680.jpg</td>\n",
       "    </tr>\n",
       "    <tr>\n",
       "      <th>143</th>\n",
       "      <td>120527</td>\n",
       "      <td>frame-000682.jpg</td>\n",
       "      <td>\\\\maize.umhsnas.med.umich.edu\\IntMedGI-Stidham...</td>\n",
       "      <td>683.0</td>\n",
       "      <td>001</td>\n",
       "      <td>683.0</td>\n",
       "      <td>00:11:23</td>\n",
       "      <td>False</td>\n",
       "      <td>False</td>\n",
       "      <td>False</td>\n",
       "      <td>False</td>\n",
       "      <td>001frame-000682.jpg</td>\n",
       "    </tr>\n",
       "    <tr>\n",
       "      <th>144</th>\n",
       "      <td>120529</td>\n",
       "      <td>frame-000684.jpg</td>\n",
       "      <td>\\\\maize.umhsnas.med.umich.edu\\IntMedGI-Stidham...</td>\n",
       "      <td>685.0</td>\n",
       "      <td>001</td>\n",
       "      <td>685.0</td>\n",
       "      <td>00:11:25</td>\n",
       "      <td>False</td>\n",
       "      <td>False</td>\n",
       "      <td>False</td>\n",
       "      <td>False</td>\n",
       "      <td>001frame-000684.jpg</td>\n",
       "    </tr>\n",
       "    <tr>\n",
       "      <th>148</th>\n",
       "      <td>120535</td>\n",
       "      <td>frame-000690.jpg</td>\n",
       "      <td>\\\\maize.umhsnas.med.umich.edu\\IntMedGI-Stidham...</td>\n",
       "      <td>691.0</td>\n",
       "      <td>001</td>\n",
       "      <td>691.0</td>\n",
       "      <td>00:11:31</td>\n",
       "      <td>False</td>\n",
       "      <td>False</td>\n",
       "      <td>False</td>\n",
       "      <td>False</td>\n",
       "      <td>001frame-000690.jpg</td>\n",
       "    </tr>\n",
       "    <tr>\n",
       "      <th>229</th>\n",
       "      <td>120639</td>\n",
       "      <td>frame-000794.jpg</td>\n",
       "      <td>\\\\maize.umhsnas.med.umich.edu\\IntMedGI-Stidham...</td>\n",
       "      <td>795.0</td>\n",
       "      <td>001</td>\n",
       "      <td>795.0</td>\n",
       "      <td>00:13:15</td>\n",
       "      <td>False</td>\n",
       "      <td>False</td>\n",
       "      <td>False</td>\n",
       "      <td>False</td>\n",
       "      <td>001frame-000794.jpg</td>\n",
       "    </tr>\n",
       "    <tr>\n",
       "      <th>238</th>\n",
       "      <td>120648</td>\n",
       "      <td>frame-000803.jpg</td>\n",
       "      <td>\\\\maize.umhsnas.med.umich.edu\\IntMedGI-Stidham...</td>\n",
       "      <td>804.0</td>\n",
       "      <td>001</td>\n",
       "      <td>804.0</td>\n",
       "      <td>00:13:24</td>\n",
       "      <td>False</td>\n",
       "      <td>False</td>\n",
       "      <td>False</td>\n",
       "      <td>False</td>\n",
       "      <td>001frame-000803.jpg</td>\n",
       "    </tr>\n",
       "    <tr>\n",
       "      <th>301</th>\n",
       "      <td>120733</td>\n",
       "      <td>frame-000888.jpg</td>\n",
       "      <td>\\\\maize.umhsnas.med.umich.edu\\IntMedGI-Stidham...</td>\n",
       "      <td>889.0</td>\n",
       "      <td>001</td>\n",
       "      <td>889.0</td>\n",
       "      <td>00:14:49</td>\n",
       "      <td>False</td>\n",
       "      <td>False</td>\n",
       "      <td>False</td>\n",
       "      <td>False</td>\n",
       "      <td>001frame-000888.jpg</td>\n",
       "    </tr>\n",
       "    <tr>\n",
       "      <th>434</th>\n",
       "      <td>121451</td>\n",
       "      <td>frame-001606.jpg</td>\n",
       "      <td>\\\\maize.umhsnas.med.umich.edu\\IntMedGI-Stidham...</td>\n",
       "      <td>1607.0</td>\n",
       "      <td>001</td>\n",
       "      <td>1607.0</td>\n",
       "      <td>00:26:47</td>\n",
       "      <td>False</td>\n",
       "      <td>False</td>\n",
       "      <td>False</td>\n",
       "      <td>False</td>\n",
       "      <td>001frame-001606.jpg</td>\n",
       "    </tr>\n",
       "    <tr>\n",
       "      <th>10558</th>\n",
       "      <td>157806</td>\n",
       "      <td>frame-000763.jpg</td>\n",
       "      <td>\\\\maize.umhsnas.med.umich.edu\\IntMedGI-Stidham...</td>\n",
       "      <td>NaN</td>\n",
       "      <td>058</td>\n",
       "      <td>763.0</td>\n",
       "      <td>00:12:43</td>\n",
       "      <td>False</td>\n",
       "      <td>False</td>\n",
       "      <td>False</td>\n",
       "      <td>False</td>\n",
       "      <td>058frame-000763.jpg</td>\n",
       "    </tr>\n",
       "    <tr>\n",
       "      <th>10587</th>\n",
       "      <td>157843</td>\n",
       "      <td>frame-000800.jpg</td>\n",
       "      <td>\\\\maize.umhsnas.med.umich.edu\\IntMedGI-Stidham...</td>\n",
       "      <td>NaN</td>\n",
       "      <td>058</td>\n",
       "      <td>800.0</td>\n",
       "      <td>00:13:20</td>\n",
       "      <td>False</td>\n",
       "      <td>False</td>\n",
       "      <td>False</td>\n",
       "      <td>False</td>\n",
       "      <td>058frame-000800.jpg</td>\n",
       "    </tr>\n",
       "    <tr>\n",
       "      <th>10591</th>\n",
       "      <td>157847</td>\n",
       "      <td>frame-000804.jpg</td>\n",
       "      <td>\\\\maize.umhsnas.med.umich.edu\\IntMedGI-Stidham...</td>\n",
       "      <td>NaN</td>\n",
       "      <td>058</td>\n",
       "      <td>804.0</td>\n",
       "      <td>00:13:24</td>\n",
       "      <td>False</td>\n",
       "      <td>False</td>\n",
       "      <td>False</td>\n",
       "      <td>False</td>\n",
       "      <td>058frame-000804.jpg</td>\n",
       "    </tr>\n",
       "    <tr>\n",
       "      <th>10668</th>\n",
       "      <td>157927</td>\n",
       "      <td>frame-000884.jpg</td>\n",
       "      <td>\\\\maize.umhsnas.med.umich.edu\\IntMedGI-Stidham...</td>\n",
       "      <td>NaN</td>\n",
       "      <td>058</td>\n",
       "      <td>884.0</td>\n",
       "      <td>00:14:44</td>\n",
       "      <td>False</td>\n",
       "      <td>False</td>\n",
       "      <td>False</td>\n",
       "      <td>False</td>\n",
       "      <td>058frame-000884.jpg</td>\n",
       "    </tr>\n",
       "    <tr>\n",
       "      <th>10797</th>\n",
       "      <td>158107</td>\n",
       "      <td>frame-001064.jpg</td>\n",
       "      <td>\\\\maize.umhsnas.med.umich.edu\\IntMedGI-Stidham...</td>\n",
       "      <td>NaN</td>\n",
       "      <td>058</td>\n",
       "      <td>1064.0</td>\n",
       "      <td>00:17:44</td>\n",
       "      <td>False</td>\n",
       "      <td>False</td>\n",
       "      <td>False</td>\n",
       "      <td>False</td>\n",
       "      <td>058frame-001064.jpg</td>\n",
       "    </tr>\n",
       "    <tr>\n",
       "      <th>10876</th>\n",
       "      <td>158309</td>\n",
       "      <td>frame-001266.jpg</td>\n",
       "      <td>\\\\maize.umhsnas.med.umich.edu\\IntMedGI-Stidham...</td>\n",
       "      <td>NaN</td>\n",
       "      <td>058</td>\n",
       "      <td>1266.0</td>\n",
       "      <td>00:21:06</td>\n",
       "      <td>False</td>\n",
       "      <td>False</td>\n",
       "      <td>False</td>\n",
       "      <td>False</td>\n",
       "      <td>058frame-001266.jpg</td>\n",
       "    </tr>\n",
       "    <tr>\n",
       "      <th>11118</th>\n",
       "      <td>158691</td>\n",
       "      <td>frame-001648.jpg</td>\n",
       "      <td>\\\\maize.umhsnas.med.umich.edu\\IntMedGI-Stidham...</td>\n",
       "      <td>NaN</td>\n",
       "      <td>058</td>\n",
       "      <td>1648.0</td>\n",
       "      <td>00:27:28</td>\n",
       "      <td>False</td>\n",
       "      <td>False</td>\n",
       "      <td>False</td>\n",
       "      <td>False</td>\n",
       "      <td>058frame-001648.jpg</td>\n",
       "    </tr>\n",
       "  </tbody>\n",
       "</table>\n",
       "</div>"
      ],
      "text/plain": [
       "           ID          basefile  \\\n",
       "85     120177  frame-000332.jpg   \n",
       "91     120184  frame-000339.jpg   \n",
       "94     120187  frame-000342.jpg   \n",
       "97     120190  frame-000345.jpg   \n",
       "98     120192  frame-000347.jpg   \n",
       "131    120301  frame-000456.jpg   \n",
       "132    120305  frame-000460.jpg   \n",
       "133    120507  frame-000662.jpg   \n",
       "134    120509  frame-000664.jpg   \n",
       "135    120511  frame-000666.jpg   \n",
       "136    120513  frame-000668.jpg   \n",
       "137    120515  frame-000670.jpg   \n",
       "138    120517  frame-000672.jpg   \n",
       "139    120519  frame-000674.jpg   \n",
       "140    120521  frame-000676.jpg   \n",
       "141    120523  frame-000678.jpg   \n",
       "142    120525  frame-000680.jpg   \n",
       "143    120527  frame-000682.jpg   \n",
       "144    120529  frame-000684.jpg   \n",
       "148    120535  frame-000690.jpg   \n",
       "229    120639  frame-000794.jpg   \n",
       "238    120648  frame-000803.jpg   \n",
       "301    120733  frame-000888.jpg   \n",
       "434    121451  frame-001606.jpg   \n",
       "10558  157806  frame-000763.jpg   \n",
       "10587  157843  frame-000800.jpg   \n",
       "10591  157847  frame-000804.jpg   \n",
       "10668  157927  frame-000884.jpg   \n",
       "10797  158107  frame-001064.jpg   \n",
       "10876  158309  frame-001266.jpg   \n",
       "11118  158691  frame-001648.jpg   \n",
       "\n",
       "                                                pathname  file_seq SubjectID  \\\n",
       "85     \\\\maize.umhsnas.med.umich.edu\\IntMedGI-Stidham...     333.0       001   \n",
       "91     \\\\maize.umhsnas.med.umich.edu\\IntMedGI-Stidham...     340.0       001   \n",
       "94     \\\\maize.umhsnas.med.umich.edu\\IntMedGI-Stidham...     343.0       001   \n",
       "97     \\\\maize.umhsnas.med.umich.edu\\IntMedGI-Stidham...     346.0       001   \n",
       "98     \\\\maize.umhsnas.med.umich.edu\\IntMedGI-Stidham...     348.0       001   \n",
       "131    \\\\maize.umhsnas.med.umich.edu\\IntMedGI-Stidham...     457.0       001   \n",
       "132    \\\\maize.umhsnas.med.umich.edu\\IntMedGI-Stidham...     461.0       001   \n",
       "133    \\\\maize.umhsnas.med.umich.edu\\IntMedGI-Stidham...     663.0       001   \n",
       "134    \\\\maize.umhsnas.med.umich.edu\\IntMedGI-Stidham...     665.0       001   \n",
       "135    \\\\maize.umhsnas.med.umich.edu\\IntMedGI-Stidham...     667.0       001   \n",
       "136    \\\\maize.umhsnas.med.umich.edu\\IntMedGI-Stidham...     669.0       001   \n",
       "137    \\\\maize.umhsnas.med.umich.edu\\IntMedGI-Stidham...     671.0       001   \n",
       "138    \\\\maize.umhsnas.med.umich.edu\\IntMedGI-Stidham...     673.0       001   \n",
       "139    \\\\maize.umhsnas.med.umich.edu\\IntMedGI-Stidham...     675.0       001   \n",
       "140    \\\\maize.umhsnas.med.umich.edu\\IntMedGI-Stidham...     677.0       001   \n",
       "141    \\\\maize.umhsnas.med.umich.edu\\IntMedGI-Stidham...     679.0       001   \n",
       "142    \\\\maize.umhsnas.med.umich.edu\\IntMedGI-Stidham...     681.0       001   \n",
       "143    \\\\maize.umhsnas.med.umich.edu\\IntMedGI-Stidham...     683.0       001   \n",
       "144    \\\\maize.umhsnas.med.umich.edu\\IntMedGI-Stidham...     685.0       001   \n",
       "148    \\\\maize.umhsnas.med.umich.edu\\IntMedGI-Stidham...     691.0       001   \n",
       "229    \\\\maize.umhsnas.med.umich.edu\\IntMedGI-Stidham...     795.0       001   \n",
       "238    \\\\maize.umhsnas.med.umich.edu\\IntMedGI-Stidham...     804.0       001   \n",
       "301    \\\\maize.umhsnas.med.umich.edu\\IntMedGI-Stidham...     889.0       001   \n",
       "434    \\\\maize.umhsnas.med.umich.edu\\IntMedGI-Stidham...    1607.0       001   \n",
       "10558  \\\\maize.umhsnas.med.umich.edu\\IntMedGI-Stidham...       NaN       058   \n",
       "10587  \\\\maize.umhsnas.med.umich.edu\\IntMedGI-Stidham...       NaN       058   \n",
       "10591  \\\\maize.umhsnas.med.umich.edu\\IntMedGI-Stidham...       NaN       058   \n",
       "10668  \\\\maize.umhsnas.med.umich.edu\\IntMedGI-Stidham...       NaN       058   \n",
       "10797  \\\\maize.umhsnas.med.umich.edu\\IntMedGI-Stidham...       NaN       058   \n",
       "10876  \\\\maize.umhsnas.med.umich.edu\\IntMedGI-Stidham...       NaN       058   \n",
       "11118  \\\\maize.umhsnas.med.umich.edu\\IntMedGI-Stidham...       NaN       058   \n",
       "\n",
       "       Time_sec Video_time  Mayo_0  Mayo_1  Mayo_2  Mayo_3  \\\n",
       "85        333.0   00:05:33   False   False   False   False   \n",
       "91        340.0   00:05:40   False   False   False   False   \n",
       "94        343.0   00:05:43   False   False   False   False   \n",
       "97        346.0   00:05:46   False   False   False   False   \n",
       "98        348.0   00:05:48   False   False   False   False   \n",
       "131       457.0   00:07:37   False   False   False   False   \n",
       "132       461.0   00:07:41   False   False   False   False   \n",
       "133       663.0   00:11:03   False   False   False   False   \n",
       "134       665.0   00:11:05   False   False   False   False   \n",
       "135       667.0   00:11:07   False   False   False   False   \n",
       "136       669.0   00:11:09   False   False   False   False   \n",
       "137       671.0   00:11:11   False   False   False   False   \n",
       "138       673.0   00:11:13   False   False   False   False   \n",
       "139       675.0   00:11:15   False   False   False   False   \n",
       "140       677.0   00:11:17   False   False   False   False   \n",
       "141       679.0   00:11:19   False   False   False   False   \n",
       "142       681.0   00:11:21   False   False   False   False   \n",
       "143       683.0   00:11:23   False   False   False   False   \n",
       "144       685.0   00:11:25   False   False   False   False   \n",
       "148       691.0   00:11:31   False   False   False   False   \n",
       "229       795.0   00:13:15   False   False   False   False   \n",
       "238       804.0   00:13:24   False   False   False   False   \n",
       "301       889.0   00:14:49   False   False   False   False   \n",
       "434      1607.0   00:26:47   False   False   False   False   \n",
       "10558     763.0   00:12:43   False   False   False   False   \n",
       "10587     800.0   00:13:20   False   False   False   False   \n",
       "10591     804.0   00:13:24   False   False   False   False   \n",
       "10668     884.0   00:14:44   False   False   False   False   \n",
       "10797    1064.0   00:17:44   False   False   False   False   \n",
       "10876    1266.0   00:21:06   False   False   False   False   \n",
       "11118    1648.0   00:27:28   False   False   False   False   \n",
       "\n",
       "                  filename  \n",
       "85     001frame-000332.jpg  \n",
       "91     001frame-000339.jpg  \n",
       "94     001frame-000342.jpg  \n",
       "97     001frame-000345.jpg  \n",
       "98     001frame-000347.jpg  \n",
       "131    001frame-000456.jpg  \n",
       "132    001frame-000460.jpg  \n",
       "133    001frame-000662.jpg  \n",
       "134    001frame-000664.jpg  \n",
       "135    001frame-000666.jpg  \n",
       "136    001frame-000668.jpg  \n",
       "137    001frame-000670.jpg  \n",
       "138    001frame-000672.jpg  \n",
       "139    001frame-000674.jpg  \n",
       "140    001frame-000676.jpg  \n",
       "141    001frame-000678.jpg  \n",
       "142    001frame-000680.jpg  \n",
       "143    001frame-000682.jpg  \n",
       "144    001frame-000684.jpg  \n",
       "148    001frame-000690.jpg  \n",
       "229    001frame-000794.jpg  \n",
       "238    001frame-000803.jpg  \n",
       "301    001frame-000888.jpg  \n",
       "434    001frame-001606.jpg  \n",
       "10558  058frame-000763.jpg  \n",
       "10587  058frame-000800.jpg  \n",
       "10591  058frame-000804.jpg  \n",
       "10668  058frame-000884.jpg  \n",
       "10797  058frame-001064.jpg  \n",
       "10876  058frame-001266.jpg  \n",
       "11118  058frame-001648.jpg  "
      ]
     },
     "execution_count": 48,
     "metadata": {},
     "output_type": "execute_result"
    }
   ],
   "source": [
    "video_labels.loc[video_labels[['Mayo_0', 'Mayo_1', 'Mayo_2', 'Mayo_3']].apply(sum, axis=1)!=1]"
   ]
  },
  {
   "cell_type": "code",
   "execution_count": 13,
   "metadata": {},
   "outputs": [],
   "source": [
    "video_labels = video_labels.loc[video_labels[['Mayo_0', 'Mayo_1', 'Mayo_2', 'Mayo_3']].apply(sum, axis=1)==1]"
   ]
  },
  {
   "cell_type": "code",
   "execution_count": 14,
   "metadata": {},
   "outputs": [],
   "source": [
    "video_labels = video_labels.dropna(subset=['filename', 'Mayo_0', 'Mayo_1', 'Mayo_2', 'Mayo_3'])"
   ]
  },
  {
   "cell_type": "code",
   "execution_count": 50,
   "metadata": {},
   "outputs": [
    {
     "data": {
      "text/plain": [
       "((11492, 12), 30)"
      ]
     },
     "execution_count": 50,
     "metadata": {},
     "output_type": "execute_result"
    }
   ],
   "source": [
    "video_labels.shape, len(video_labels.SubjectID.value_counts())"
   ]
  },
  {
   "cell_type": "code",
   "execution_count": 16,
   "metadata": {},
   "outputs": [],
   "source": [
    "video_labels['split0_123'] = (~video_labels.Mayo_0).astype(int)\n",
    "video_labels['split01_23'] = (video_labels.Mayo_2 | video_labels.Mayo_3).astype(int)\n",
    "video_labels['split012_3'] = video_labels.Mayo_3.astype(int)"
   ]
  },
  {
   "cell_type": "code",
   "execution_count": 17,
   "metadata": {},
   "outputs": [],
   "source": [
    "video_labels['Mayo_score'] = 0\n",
    "video_labels.loc[video_labels.Mayo_1, 'Mayo_score'] = 1\n",
    "video_labels.loc[video_labels.Mayo_2, 'Mayo_score'] = 2\n",
    "video_labels.loc[video_labels.Mayo_3, 'Mayo_score'] = 3"
   ]
  },
  {
   "cell_type": "code",
   "execution_count": 53,
   "metadata": {
    "scrolled": true
   },
   "outputs": [
    {
     "data": {
      "text/plain": [
       "0    8143\n",
       "1    1578\n",
       "2    1123\n",
       "3     648\n",
       "Name: Mayo_score, dtype: int64"
      ]
     },
     "execution_count": 53,
     "metadata": {},
     "output_type": "execute_result"
    }
   ],
   "source": [
    "video_labels.Mayo_score.value_counts()"
   ]
  },
  {
   "cell_type": "code",
   "execution_count": 54,
   "metadata": {
    "scrolled": true
   },
   "outputs": [
    {
     "data": {
      "text/plain": [
       "(11492, 16)"
      ]
     },
     "execution_count": 54,
     "metadata": {},
     "output_type": "execute_result"
    }
   ],
   "source": [
    "video_labels.shape"
   ]
  },
  {
   "cell_type": "code",
   "execution_count": 55,
   "metadata": {},
   "outputs": [],
   "source": [
    "video_labels.to_csv(path+'video_labels.csv', index=False)"
   ]
  },
  {
   "cell_type": "code",
   "execution_count": 7,
   "metadata": {},
   "outputs": [],
   "source": [
    "video_labels = pd.read_csv(path+'video_labels.csv')"
   ]
  },
  {
   "cell_type": "code",
   "execution_count": 56,
   "metadata": {},
   "outputs": [],
   "source": [
    "from shutil import copyfile"
   ]
  },
  {
   "cell_type": "code",
   "execution_count": 57,
   "metadata": {},
   "outputs": [],
   "source": [
    "labeled = set(video_labels.filename)\n",
    "\n",
    "for f in vfilenames:\n",
    "    if f in labeled:\n",
    "        copyfile(path+'all_video_images/'+f, path+'video_subset/'+f)"
   ]
  },
  {
   "cell_type": "markdown",
   "metadata": {},
   "source": [
    "### Prediction by 3 binary model"
   ]
  },
  {
   "cell_type": "code",
   "execution_count": 8,
   "metadata": {
    "scrolled": false
   },
   "outputs": [
    {
     "name": "stdout",
     "output_type": "stream",
     "text": [
      "Found 11518 images in the directory.\n",
      "Using Mayo_score as categorical label, with levels: {0: 0, 1: 1, 2: 2, 3: 3}\n",
      "Using 11492 images to generate mini-batches.\n"
     ]
    }
   ],
   "source": [
    "tst_gen = ImageFrameGenerator()\n",
    "tst_itr = tst_gen.flow_from_frame(path+'video_subset/', video_labels, 'filename', \n",
    "                                   ['Mayo_score'], label_types=['categorical'], \n",
    "                                     target_size=(256, 320), batch_size=batch_size, shuffle=False)"
   ]
  },
  {
   "cell_type": "code",
   "execution_count": 9,
   "metadata": {},
   "outputs": [],
   "source": [
    "base_model = InceptionV3(weights='imagenet', include_top=False)\n",
    "\n",
    "x = base_model.output\n",
    "x = GlobalAveragePooling2D()(x)\n",
    "\n",
    "output1 = Dense(2, activation='softmax', name='split0_123')(x)\n",
    "output2 = Dense(2, activation='softmax', name='split01_23')(x)\n",
    "output3 = Dense(2, activation='softmax', name='split012_3')(x)\n",
    "\n",
    "model = Model(inputs=base_model.input, outputs=[output1, output2, output3])"
   ]
  },
  {
   "cell_type": "code",
   "execution_count": 20,
   "metadata": {},
   "outputs": [],
   "source": [
    "model.load_weights(model_path+'binary3_auc_all.h5')"
   ]
  },
  {
   "cell_type": "code",
   "execution_count": 21,
   "metadata": {},
   "outputs": [
    {
     "name": "stdout",
     "output_type": "stream",
     "text": [
      "360/360 [==============================] - 978s 3s/step\n"
     ]
    }
   ],
   "source": [
    "y = model.predict_generator(tst_itr, verbose=1)"
   ]
  },
  {
   "cell_type": "code",
   "execution_count": 22,
   "metadata": {},
   "outputs": [],
   "source": [
    "y_pred = np.concatenate([l[:, 1].reshape((l.shape[0], 1)) for l in y], axis=1)"
   ]
  },
  {
   "cell_type": "code",
   "execution_count": 39,
   "metadata": {},
   "outputs": [],
   "source": [
    "y_true = video_labels[['split0_123', 'split01_23', 'split012_3']].values"
   ]
  },
  {
   "cell_type": "code",
   "execution_count": 24,
   "metadata": {},
   "outputs": [
    {
     "data": {
      "text/plain": [
       "((11492, 3), (11492, 3))"
      ]
     },
     "execution_count": 24,
     "metadata": {},
     "output_type": "execute_result"
    }
   ],
   "source": [
    "y_pred.shape, y_true.shape"
   ]
  },
  {
   "cell_type": "code",
   "execution_count": 25,
   "metadata": {
    "scrolled": true
   },
   "outputs": [
    {
     "data": {
      "text/plain": [
       "{0: 0.9499291864403336, 1: 0.9616355319628823, 2: 0.9690050195590895}"
      ]
     },
     "execution_count": 25,
     "metadata": {},
     "output_type": "execute_result"
    },
    {
     "data": {
      "image/png": "[encoded data removed]",
      "text/plain": [
       "<Figure size 432x288 with 1 Axes>"
      ]
     },
     "metadata": {},
     "output_type": "display_data"
    }
   ],
   "source": [
    "plot_roc(y_pred, y_true, classes=['split0_123', 'split01_23', 'split012_3'])"
   ]
  },
  {
   "cell_type": "code",
   "execution_count": 41,
   "metadata": {},
   "outputs": [],
   "source": [
    "fpr, tpr, thresh = roc_curve(y_true[:, 1], y_pred[:, 1])"
   ]
  },
  {
   "cell_type": "code",
   "execution_count": 42,
   "metadata": {},
   "outputs": [],
   "source": [
    "optiaml_index = np.argmin((1-tpr)**2+fpr**2)"
   ]
  },
  {
   "cell_type": "code",
   "execution_count": 22,
   "metadata": {},
   "outputs": [
    {
     "data": {
      "text/plain": [
       "<module 'DL_utils' from '/home/wsliu/Codes/DLproj/DL_utils.py'>"
      ]
     },
     "execution_count": 22,
     "metadata": {},
     "output_type": "execute_result"
    }
   ],
   "source": [
    "import DL_utils\n",
    "reload(DL_utils)"
   ]
  },
  {
   "cell_type": "code",
   "execution_count": 23,
   "metadata": {},
   "outputs": [],
   "source": [
    "from DL_utils import plot_roc"
   ]
  },
  {
   "cell_type": "code",
   "execution_count": 43,
   "metadata": {},
   "outputs": [
    {
     "data": {
      "image/png": "[encoded data removed]",
      "text/plain": [
       "<Figure size 432x288 with 1 Axes>"
      ]
     },
     "metadata": {},
     "output_type": "display_data"
    }
   ],
   "source": [
    "plot_roc(y_pred[:, 1], y_true[:, 1], classes=['Mayo 01 vs. 23'], title='ROC for Normal-Mild vs. Moderate-Severe', n_digits=2)\n",
    "plt.scatter(fpr[optiaml_index], tpr[optiaml_index], marker='+', s=100)\n",
    "plt.savefig('plots/roc01_23_video_Mar22.eps', dpi=3000)"
   ]
  },
  {
   "cell_type": "code",
   "execution_count": 26,
   "metadata": {},
   "outputs": [],
   "source": [
    "np.save('output/y_pred_video_all_auc.npy', y_pred)"
   ]
  },
  {
   "cell_type": "code",
   "execution_count": 40,
   "metadata": {},
   "outputs": [],
   "source": [
    "y_pred = np.load('output/y_pred_video_all_valloss.npy')"
   ]
  },
  {
   "cell_type": "code",
   "execution_count": 16,
   "metadata": {},
   "outputs": [],
   "source": [
    "score4 = np.zeros((y_pred.shape[0], y_pred.shape[1]+1), dtype=float)\n",
    "\n",
    "score4[:, 0] = 1 - y_pred[:, 0]\n",
    "score4[:, 1] = y_pred[:, 0]*(1-y_pred[:,1])\n",
    "score4[:, 2] = y_pred[:, 0]*y_pred[:,1]*(1-y_pred[:,2])\n",
    "score4[:, 3] = y_pred[:, 0]*y_pred[:,1]*y_pred[:,2]\n",
    "\n",
    "mayo_pred = pd.Series(score4.argmax(axis=1), name='Mayo_pred')"
   ]
  },
  {
   "cell_type": "code",
   "execution_count": 17,
   "metadata": {},
   "outputs": [],
   "source": [
    "mayo_true = video_labels.Mayo_score.reset_index(drop=True)\n",
    "mayo_true.name = 'Mayo_true'"
   ]
  },
  {
   "cell_type": "code",
   "execution_count": 71,
   "metadata": {},
   "outputs": [
    {
     "data": {
      "text/plain": [
       "0.7274866302283287"
      ]
     },
     "execution_count": 71,
     "metadata": {},
     "output_type": "execute_result"
    }
   ],
   "source": [
    "cohen_kappa_score(mayo_pred.values, mayo_true.values, weights='linear')"
   ]
  },
  {
   "cell_type": "code",
   "execution_count": 39,
   "metadata": {},
   "outputs": [
    {
     "data": {
      "text/plain": [
       "0.7490517161515529"
      ]
     },
     "execution_count": 39,
     "metadata": {},
     "output_type": "execute_result"
    }
   ],
   "source": [
    "cohen_kappa_score(mayo_pred.values, mayo_true.values, weights='quadratic')"
   ]
  },
  {
   "cell_type": "code",
   "execution_count": 18,
   "metadata": {},
   "outputs": [
    {
     "data": {
      "text/html": [
       "<div>\n",
       "<style scoped>\n",
       "    .dataframe tbody tr th:only-of-type {\n",
       "        vertical-align: middle;\n",
       "    }\n",
       "\n",
       "    .dataframe tbody tr th {\n",
       "        vertical-align: top;\n",
       "    }\n",
       "\n",
       "    .dataframe thead th {\n",
       "        text-align: right;\n",
       "    }\n",
       "</style>\n",
       "<table border=\"1\" class=\"dataframe\">\n",
       "  <thead>\n",
       "    <tr style=\"text-align: right;\">\n",
       "      <th>Mayo_pred</th>\n",
       "      <th>0</th>\n",
       "      <th>1</th>\n",
       "      <th>2</th>\n",
       "      <th>3</th>\n",
       "    </tr>\n",
       "    <tr>\n",
       "      <th>Mayo_true</th>\n",
       "      <th></th>\n",
       "      <th></th>\n",
       "      <th></th>\n",
       "      <th></th>\n",
       "    </tr>\n",
       "  </thead>\n",
       "  <tbody>\n",
       "    <tr>\n",
       "      <th>0</th>\n",
       "      <td>0.753039</td>\n",
       "      <td>0.205821</td>\n",
       "      <td>0.030947</td>\n",
       "      <td>0.010193</td>\n",
       "    </tr>\n",
       "    <tr>\n",
       "      <th>1</th>\n",
       "      <td>0.127376</td>\n",
       "      <td>0.676172</td>\n",
       "      <td>0.188847</td>\n",
       "      <td>0.007605</td>\n",
       "    </tr>\n",
       "    <tr>\n",
       "      <th>2</th>\n",
       "      <td>0.018700</td>\n",
       "      <td>0.158504</td>\n",
       "      <td>0.642921</td>\n",
       "      <td>0.179875</td>\n",
       "    </tr>\n",
       "    <tr>\n",
       "      <th>3</th>\n",
       "      <td>0.024691</td>\n",
       "      <td>0.020062</td>\n",
       "      <td>0.276235</td>\n",
       "      <td>0.679012</td>\n",
       "    </tr>\n",
       "  </tbody>\n",
       "</table>\n",
       "</div>"
      ],
      "text/plain": [
       "Mayo_pred         0         1         2         3\n",
       "Mayo_true                                        \n",
       "0          0.753039  0.205821  0.030947  0.010193\n",
       "1          0.127376  0.676172  0.188847  0.007605\n",
       "2          0.018700  0.158504  0.642921  0.179875\n",
       "3          0.024691  0.020062  0.276235  0.679012"
      ]
     },
     "execution_count": 18,
     "metadata": {},
     "output_type": "execute_result"
    }
   ],
   "source": [
    "pd.crosstab(index=mayo_true, columns=mayo_pred, normalize='index')"
   ]
  },
  {
   "cell_type": "code",
   "execution_count": 19,
   "metadata": {},
   "outputs": [
    {
     "data": {
      "text/html": [
       "<div>\n",
       "<style scoped>\n",
       "    .dataframe tbody tr th:only-of-type {\n",
       "        vertical-align: middle;\n",
       "    }\n",
       "\n",
       "    .dataframe tbody tr th {\n",
       "        vertical-align: top;\n",
       "    }\n",
       "\n",
       "    .dataframe thead th {\n",
       "        text-align: right;\n",
       "    }\n",
       "</style>\n",
       "<table border=\"1\" class=\"dataframe\">\n",
       "  <thead>\n",
       "    <tr style=\"text-align: right;\">\n",
       "      <th>Mayo_pred</th>\n",
       "      <th>0</th>\n",
       "      <th>1</th>\n",
       "      <th>2</th>\n",
       "      <th>3</th>\n",
       "      <th>All</th>\n",
       "    </tr>\n",
       "    <tr>\n",
       "      <th>Mayo_true</th>\n",
       "      <th></th>\n",
       "      <th></th>\n",
       "      <th></th>\n",
       "      <th></th>\n",
       "      <th></th>\n",
       "    </tr>\n",
       "  </thead>\n",
       "  <tbody>\n",
       "    <tr>\n",
       "      <th>0</th>\n",
       "      <td>6132</td>\n",
       "      <td>1676</td>\n",
       "      <td>252</td>\n",
       "      <td>83</td>\n",
       "      <td>8143</td>\n",
       "    </tr>\n",
       "    <tr>\n",
       "      <th>1</th>\n",
       "      <td>201</td>\n",
       "      <td>1067</td>\n",
       "      <td>298</td>\n",
       "      <td>12</td>\n",
       "      <td>1578</td>\n",
       "    </tr>\n",
       "    <tr>\n",
       "      <th>2</th>\n",
       "      <td>21</td>\n",
       "      <td>178</td>\n",
       "      <td>722</td>\n",
       "      <td>202</td>\n",
       "      <td>1123</td>\n",
       "    </tr>\n",
       "    <tr>\n",
       "      <th>3</th>\n",
       "      <td>16</td>\n",
       "      <td>13</td>\n",
       "      <td>179</td>\n",
       "      <td>440</td>\n",
       "      <td>648</td>\n",
       "    </tr>\n",
       "    <tr>\n",
       "      <th>All</th>\n",
       "      <td>6370</td>\n",
       "      <td>2934</td>\n",
       "      <td>1451</td>\n",
       "      <td>737</td>\n",
       "      <td>11492</td>\n",
       "    </tr>\n",
       "  </tbody>\n",
       "</table>\n",
       "</div>"
      ],
      "text/plain": [
       "Mayo_pred     0     1     2    3    All\n",
       "Mayo_true                              \n",
       "0          6132  1676   252   83   8143\n",
       "1           201  1067   298   12   1578\n",
       "2            21   178   722  202   1123\n",
       "3            16    13   179  440    648\n",
       "All        6370  2934  1451  737  11492"
      ]
     },
     "execution_count": 19,
     "metadata": {},
     "output_type": "execute_result"
    }
   ],
   "source": [
    "pd.crosstab(index=mayo_true, columns=mayo_pred, margins=True)"
   ]
  },
  {
   "cell_type": "code",
   "execution_count": 41,
   "metadata": {},
   "outputs": [
    {
     "name": "stdout",
     "output_type": "stream",
     "text": [
      "Threshold: 0.5\n",
      "Sensitivity 0.8740824392998306\n",
      "Specificity 0.9261392860816788\n",
      "PPV 0.6831421006178288\n",
      "NPV 0.9758291784088445\n"
     ]
    }
   ],
   "source": [
    "thresh = 0.5\n",
    "print('Threshold:', thresh)\n",
    "print('Sensitivity', sum((y_pred[:, 1]>thresh) & (y_true[:, 1]==1))/sum(y_true[:, 1]==1))\n",
    "print('Specificity', sum((y_pred[:, 1]<thresh) & (y_true[:, 1]==0))/sum(y_true[:, 1]==0))\n",
    "print('PPV', sum((y_pred[:, 1]>thresh) & (y_true[:, 1]==1))/sum(y_pred[:, 1]>thresh))\n",
    "print('NPV', sum((y_pred[:, 1]<thresh) & (y_true[:, 1]==0))/sum(y_pred[:, 1]<thresh))"
   ]
  },
  {
   "cell_type": "code",
   "execution_count": 42,
   "metadata": {},
   "outputs": [
    {
     "data": {
      "text/plain": [
       "(9721, 1771)"
      ]
     },
     "execution_count": 42,
     "metadata": {},
     "output_type": "execute_result"
    }
   ],
   "source": [
    "sum(y_true[:, 1]==0), sum(y_true[:, 1]==1)"
   ]
  },
  {
   "cell_type": "code",
   "execution_count": 7,
   "metadata": {},
   "outputs": [],
   "source": [
    "N1 = 9721\n",
    "N2 = 1771\n",
    "auc = 0.9664"
   ]
  },
  {
   "cell_type": "code",
   "execution_count": 8,
   "metadata": {},
   "outputs": [],
   "source": [
    "Q1 = auc/(2-auc)\n",
    "Q2 = 2*auc**2/(1+auc)"
   ]
  },
  {
   "cell_type": "code",
   "execution_count": 10,
   "metadata": {},
   "outputs": [],
   "source": [
    "SE = np.sqrt((auc*(1-auc)+(N1-1)*(Q1-auc**2)+(N2-1)*(Q2-auc**2))/N1/N2)"
   ]
  },
  {
   "cell_type": "code",
   "execution_count": 20,
   "metadata": {},
   "outputs": [
    {
     "data": {
      "text/plain": [
       "(0.963467500695883, 0.969332499304117, 0.0014961731143453964)"
      ]
     },
     "execution_count": 20,
     "metadata": {},
     "output_type": "execute_result"
    }
   ],
   "source": [
    "auc-1.96*SE, auc+1.96*SE, SE"
   ]
  },
  {
   "cell_type": "code",
   "execution_count": 35,
   "metadata": {},
   "outputs": [],
   "source": [
    "var = 0.7491\n",
    "\n",
    "SE=np.sqrt(var*(1-var)/(N1+N2))"
   ]
  },
  {
   "cell_type": "code",
   "execution_count": 36,
   "metadata": {},
   "outputs": [
    {
     "data": {
      "text/plain": [
       "(0.0040441049773557195, 0.7411300457167114, 0.7570699542832886)"
      ]
     },
     "execution_count": 36,
     "metadata": {},
     "output_type": "execute_result"
    }
   ],
   "source": [
    "SE, var-1.96*SE - 1/2/(N1+N2), var+1.96*SE +1/2/(N1+N2)"
   ]
  },
  {
   "cell_type": "code",
   "execution_count": 30,
   "metadata": {},
   "outputs": [],
   "source": [
    "n=N1+N2\n",
    "z = 1.96"
   ]
  },
  {
   "cell_type": "code",
   "execution_count": 32,
   "metadata": {},
   "outputs": [
    {
     "data": {
      "text/plain": [
       "(0.9728273618002939, 0.9784546391625585)"
      ]
     },
     "execution_count": 32,
     "metadata": {},
     "output_type": "execute_result"
    }
   ],
   "source": [
    "(2*n*var+z**2-z*np.sqrt(z**2+4*n*var*(1-var)))/2/(n+z**2), (2*n*var+z**2+z*np.sqrt(z**2+4*n*var*(1-var)))/2/(n+z**2)"
   ]
  },
  {
   "cell_type": "markdown",
   "metadata": {},
   "source": [
    "## Cross Validation\n",
    "\n",
    "### Splitting for 10-fold cross validation"
   ]
  },
  {
   "cell_type": "code",
   "execution_count": 64,
   "metadata": {},
   "outputs": [],
   "source": [
    "from sklearn.model_selection import GroupKFold"
   ]
  },
  {
   "cell_type": "code",
   "execution_count": 58,
   "metadata": {},
   "outputs": [],
   "source": [
    "train_df = pd.read_csv(path+'train_labels.csv')\n",
    "tst_df = pd.read_csv(path+'tst_labels.csv')"
   ]
  },
  {
   "cell_type": "code",
   "execution_count": 59,
   "metadata": {},
   "outputs": [],
   "source": [
    "all_df = pd.concat([train_df, tst_df])"
   ]
  },
  {
   "cell_type": "code",
   "execution_count": 60,
   "metadata": {},
   "outputs": [],
   "source": [
    "all_df = all_df.reset_index(drop=True)"
   ]
  },
  {
   "cell_type": "code",
   "execution_count": 63,
   "metadata": {},
   "outputs": [
    {
     "data": {
      "text/plain": [
       "((16514, 10), 3082)"
      ]
     },
     "execution_count": 63,
     "metadata": {},
     "output_type": "execute_result"
    }
   ],
   "source": [
    "all_df.shape, len(all_df.SourceReportName.value_counts())"
   ]
  },
  {
   "cell_type": "code",
   "execution_count": 67,
   "metadata": {},
   "outputs": [],
   "source": [
    "split = GroupKFold(n_splits=10)"
   ]
  },
  {
   "cell_type": "code",
   "execution_count": 68,
   "metadata": {},
   "outputs": [],
   "source": [
    "fold = 0\n",
    "for train_ind, tst_ind in split.split(all_df, groups=all_df.SourceReportName):\n",
    "    train_df = all_df.loc[train_ind]\n",
    "    tst_df = all_df.loc[tst_ind]\n",
    "    train_df.to_csv(path+'CV_adjudication/train_labels'+str(fold)+'.csv', index=False)\n",
    "    tst_df.to_csv(path+'CV_adjudication/tst_labels'+str(fold)+'.csv', index=False)\n",
    "    fold += 1"
   ]
  },
  {
   "cell_type": "code",
   "execution_count": 69,
   "metadata": {},
   "outputs": [],
   "source": [
    "patient_sets = []\n",
    "for j in range(10):\n",
    "    df = pd.read_csv(path+'CV_adjudication/tst_labels'+str(j)+'.csv')\n",
    "    patient_sets.append(set(df.SourceReportName))"
   ]
  },
  {
   "cell_type": "code",
   "execution_count": 70,
   "metadata": {},
   "outputs": [
    {
     "data": {
      "text/plain": [
       "[308, 308, 309, 309, 308, 308, 308, 308, 308, 308]"
      ]
     },
     "execution_count": 70,
     "metadata": {},
     "output_type": "execute_result"
    }
   ],
   "source": [
    "[len(s) for s in patient_sets]"
   ]
  },
  {
   "cell_type": "code",
   "execution_count": 75,
   "metadata": {
    "collapsed": true
   },
   "outputs": [
    {
     "name": "stdout",
     "output_type": "stream",
     "text": [
      "0\n",
      "0\n",
      "0\n",
      "0\n",
      "0\n",
      "0\n",
      "0\n",
      "308\n",
      "0\n",
      "0\n"
     ]
    }
   ],
   "source": [
    "for ps in patient_sets:\n",
    "    print(len(patient_sets[7].intersection(ps)))"
   ]
  },
  {
   "cell_type": "markdown",
   "metadata": {},
   "source": [
    "### Summary of Results"
   ]
  },
  {
   "cell_type": "code",
   "execution_count": 105,
   "metadata": {},
   "outputs": [],
   "source": [
    "from sklearn.metrics import roc_curve, auc"
   ]
  },
  {
   "cell_type": "code",
   "execution_count": 106,
   "metadata": {},
   "outputs": [],
   "source": [
    "base_model = InceptionV3(weights='imagenet', include_top=False)\n",
    "\n",
    "x = base_model.output\n",
    "x = GlobalAveragePooling2D()(x)\n",
    "\n",
    "output1 = Dense(2, activation='softmax', name='split0_123')(x)\n",
    "output2 = Dense(2, activation='softmax', name='split01_23')(x)\n",
    "output3 = Dense(2, activation='softmax', name='split012_3')(x)\n",
    "\n",
    "model = Model(inputs=base_model.input, outputs=[output1, output2, output3])"
   ]
  },
  {
   "cell_type": "code",
   "execution_count": 11,
   "metadata": {
    "scrolled": true
   },
   "outputs": [],
   "source": [
    "validation_gen = ImageFrameGenerator()"
   ]
  },
  {
   "cell_type": "code",
   "execution_count": 27,
   "metadata": {},
   "outputs": [],
   "source": [
    "thresh = 0.5\n",
    "auc01_23 = []\n",
    "sensi01_23 = []\n",
    "speci01_23 = []\n",
    "ppv01_23 = []\n",
    "npv01_23 = []\n",
    "acc0 = []\n",
    "acc1 = []\n",
    "acc2 = []\n",
    "acc3 = []\n",
    "kappa_linear = []\n",
    "kappa_quad = []"
   ]
  },
  {
   "cell_type": "code",
   "execution_count": 28,
   "metadata": {
    "collapsed": true
   },
   "outputs": [
    {
     "name": "stdout",
     "output_type": "stream",
     "text": [
      "Found 16514 images in the directory.\n",
      "Using split0_123 as categorical label, with levels: {0: 0, 1: 1}\n",
      "Using split01_23 as categorical label, with levels: {0: 0, 1: 1}\n",
      "Using split012_3 as categorical label, with levels: {0: 0, 1: 1}\n",
      "Using 1652 images to generate mini-batches.\n",
      "52/52 [==============================] - 24s 459ms/step\n",
      "Found 16514 images in the directory.\n",
      "Using split0_123 as categorical label, with levels: {0: 0, 1: 1}\n",
      "Using split01_23 as categorical label, with levels: {0: 0, 1: 1}\n",
      "Using split012_3 as categorical label, with levels: {0: 0, 1: 1}\n",
      "Using 1652 images to generate mini-batches.\n",
      "52/52 [==============================] - 24s 456ms/step\n",
      "Found 16514 images in the directory.\n",
      "Using split0_123 as categorical label, with levels: {0: 0, 1: 1}\n",
      "Using split01_23 as categorical label, with levels: {0: 0, 1: 1}\n",
      "Using split012_3 as categorical label, with levels: {0: 0, 1: 1}\n",
      "Using 1652 images to generate mini-batches.\n",
      "52/52 [==============================] - 24s 457ms/step\n",
      "Found 16514 images in the directory.\n",
      "Using split0_123 as categorical label, with levels: {0: 0, 1: 1}\n",
      "Using split01_23 as categorical label, with levels: {0: 0, 1: 1}\n",
      "Using split012_3 as categorical label, with levels: {0: 0, 1: 1}\n",
      "Using 1652 images to generate mini-batches.\n",
      "52/52 [==============================] - 24s 455ms/step\n",
      "Found 16514 images in the directory.\n",
      "Using split0_123 as categorical label, with levels: {0: 0, 1: 1}\n",
      "Using split01_23 as categorical label, with levels: {0: 0, 1: 1}\n",
      "Using split012_3 as categorical label, with levels: {0: 0, 1: 1}\n",
      "Using 1651 images to generate mini-batches.\n",
      "52/52 [==============================] - 24s 471ms/step\n",
      "Found 16514 images in the directory.\n",
      "Using split0_123 as categorical label, with levels: {0: 0, 1: 1}\n",
      "Using split01_23 as categorical label, with levels: {0: 0, 1: 1}\n",
      "Using split012_3 as categorical label, with levels: {0: 0, 1: 1}\n",
      "Using 1651 images to generate mini-batches.\n",
      "52/52 [==============================] - 24s 457ms/step\n",
      "Found 16514 images in the directory.\n",
      "Using split0_123 as categorical label, with levels: {0: 0, 1: 1}\n",
      "Using split01_23 as categorical label, with levels: {0: 0, 1: 1}\n",
      "Using split012_3 as categorical label, with levels: {0: 0, 1: 1}\n",
      "Using 1651 images to generate mini-batches.\n",
      "52/52 [==============================] - 24s 455ms/step\n",
      "Found 16514 images in the directory.\n",
      "Using split0_123 as categorical label, with levels: {0: 0, 1: 1}\n",
      "Using split01_23 as categorical label, with levels: {0: 0, 1: 1}\n",
      "Using split012_3 as categorical label, with levels: {0: 0, 1: 1}\n",
      "Using 1651 images to generate mini-batches.\n",
      "52/52 [==============================] - 24s 456ms/step\n",
      "Found 16514 images in the directory.\n",
      "Using split0_123 as categorical label, with levels: {0: 0, 1: 1}\n",
      "Using split01_23 as categorical label, with levels: {0: 0, 1: 1}\n",
      "Using split012_3 as categorical label, with levels: {0: 0, 1: 1}\n",
      "Using 1651 images to generate mini-batches.\n",
      "52/52 [==============================] - 24s 455ms/step\n",
      "Found 16514 images in the directory.\n",
      "Using split0_123 as categorical label, with levels: {0: 0, 1: 1}\n",
      "Using split01_23 as categorical label, with levels: {0: 0, 1: 1}\n",
      "Using split012_3 as categorical label, with levels: {0: 0, 1: 1}\n",
      "Using 1651 images to generate mini-batches.\n",
      "52/52 [==============================] - 26s 497ms/step\n"
     ]
    }
   ],
   "source": [
    "for cv in range(10):\n",
    "    tst_df = pd.read_csv(path+'CV_adjudication/tst_labels'+str(cv)+'.csv')\n",
    "    tst_df = tst_df.reset_index(drop=True)\n",
    "    tst_itr = validation_gen.flow_from_frame(data_path, tst_df, 'basefile', ['split0_123', 'split01_23', 'split012_3'], \n",
    "                                     target_size=(256, 320), label_types = ['categorical']*3, batch_size=batch_size, \n",
    "                                         shuffle=False)\n",
    "    model.load_weights(model_path+'CV_adjudication/binary3_auc'+str(cv)+'1.h5')\n",
    "    y = model.predict_generator(tst_itr, verbose=1)\n",
    "\n",
    "    y_pred = np.concatenate([l[:, 1].reshape((l.shape[0], 1)) for l in y], axis=1)\n",
    "    y_true = tst_df[['split0_123', 'split01_23', 'split012_3']].values\n",
    "\n",
    "    fpr, tpr, _ = roc_curve(y_true[:, 1], y_pred[:, 1])\n",
    "    auc01_23.append(auc(fpr, tpr))\n",
    "    \n",
    "    sensi01_23.append(sum((y_pred[:, 1]>thresh) & (y_true[:, 1]==1))/sum(y_true[:, 1]==1))\n",
    "    speci01_23.append(sum((y_pred[:, 1]<thresh) & (y_true[:, 1]==0))/sum(y_true[:, 1]==0))\n",
    "    ppv01_23.append(sum((y_pred[:, 1]>thresh) & (y_true[:, 1]==1))/sum(y_pred[:, 1]>thresh))\n",
    "    npv01_23.append(sum((y_pred[:, 1]<thresh) & (y_true[:, 1]==0))/sum(y_pred[:, 1]<thresh))\n",
    "    \n",
    "    score4 = np.zeros((y_pred.shape[0], y_pred.shape[1]+1), dtype=float)\n",
    "    score4[:, 0] = 1 - y_pred[:, 0]\n",
    "    score4[:, 1] = y_pred[:, 0]*(1-y_pred[:,1])\n",
    "    score4[:, 2] = y_pred[:, 0]*y_pred[:,1]*(1-y_pred[:,2])\n",
    "    score4[:, 3] = y_pred[:, 0]*y_pred[:,1]*y_pred[:,2]\n",
    "\n",
    "    mayo_pred = pd.Series(score4.argmax(axis=1), name='Mayo_pred')\n",
    "    mayo_true = tst_df.adj_score\n",
    "    mayo_true.name = 'Mayo_true'\n",
    "    \n",
    "    acc0.append(sum((mayo_pred==0) & (mayo_true==0))/sum(mayo_true==0))\n",
    "    acc1.append(sum((mayo_pred==1) & (mayo_true==1))/sum(mayo_true==1))\n",
    "    acc2.append(sum((mayo_pred==2) & (mayo_true==2))/sum(mayo_true==2))\n",
    "    acc3.append(sum((mayo_pred==3) & (mayo_true==3))/sum(mayo_true==3))\n",
    "\n",
    "    kappa_linear.append(cohen_kappa_score(mayo_pred.values, mayo_true.values, weights='linear'))\n",
    "    kappa_quad.append(cohen_kappa_score(mayo_pred.values, mayo_true.values, weights='quadratic'))"
   ]
  },
  {
   "cell_type": "markdown",
   "metadata": {},
   "source": [
    "New way of calculating 4 scores:"
   ]
  },
  {
   "cell_type": "code",
   "execution_count": 7,
   "metadata": {},
   "outputs": [],
   "source": [
    "acc0 = []\n",
    "acc1 = []\n",
    "acc2 = []\n",
    "acc3 = []\n",
    "kappa_linear = []\n",
    "kappa_quad = []\n",
    "for tst_seed in range(10):\n",
    "    tst_df = pd.read_csv(path+'CV_adjudication/tst_labels{}.csv'.format(tst_seed))\n",
    "    tst_df = tst_df.reset_index(drop=True)\n",
    "    y_pred_avg = np.load('output/y_pred_avg_auc{}.npy'.format(tst_seed))\n",
    "    score4 = np.zeros((y_pred_avg.shape[0], y_pred_avg.shape[1]+1), dtype=float)\n",
    "    score4[:, 3] = y_pred_avg[:, 2]\n",
    "    score4[:, 2] = y_pred_avg[:, 1]*(1-y_pred_avg[:,2])\n",
    "    score4[:, 1] = y_pred_avg[:, 0]*(1-y_pred_avg[:,1])*(1-y_pred_avg[:,2])\n",
    "    score4[:, 0] = (1-y_pred_avg[:, 0])*(1-y_pred_avg[:,1])*(1-y_pred_avg[:,2])\n",
    "    mayo_pred_avg = pd.Series(score4.argmax(axis=1), name='Mayo_pred')  \n",
    "    \n",
    "    mayo_true = tst_df.adj_score\n",
    "    mayo_true.name = 'Mayo_true'\n",
    "    \n",
    "    acc0.append(sum((mayo_pred_avg==0) & (mayo_true==0))/sum(mayo_true==0))\n",
    "    acc1.append(sum((mayo_pred_avg==1) & (mayo_true==1))/sum(mayo_true==1))\n",
    "    acc2.append(sum((mayo_pred_avg==2) & (mayo_true==2))/sum(mayo_true==2))\n",
    "    acc3.append(sum((mayo_pred_avg==3) & (mayo_true==3))/sum(mayo_true==3))\n",
    "\n",
    "    kappa_linear.append(cohen_kappa_score(mayo_pred_avg.values, mayo_true.values, weights='linear'))\n",
    "    kappa_quad.append(cohen_kappa_score(mayo_pred_avg.values, mayo_true.values, weights='quadratic'))"
   ]
  },
  {
   "cell_type": "code",
   "execution_count": 9,
   "metadata": {},
   "outputs": [],
   "source": [
    "np.savez('output/CV_adjudication_avg3_new.npz', acc0=acc0, acc1=acc1, acc2=acc2, acc3=acc3, kappa_l=kappa_linear, \n",
    "         kappa_q=kappa_quad)"
   ]
  },
  {
   "cell_type": "code",
   "execution_count": 12,
   "metadata": {},
   "outputs": [],
   "source": [
    "import statsmodels.stats.api as sms"
   ]
  },
  {
   "cell_type": "code",
   "execution_count": 29,
   "metadata": {},
   "outputs": [],
   "source": [
    "np.savez('output/CV_adjudication_avg3.npz', auc01_23=auc01_23, sensi01_23=sensi01_23, speci01_23=speci01_23, ppv01_23=ppv01_23, \n",
    "         npv01_23=npv01_23, acc0=acc0, acc1=acc1, acc2=acc2, acc3=acc3, kappa_l=kappa_linear, kappa_q=kappa_quad)"
   ]
  },
  {
   "cell_type": "code",
   "execution_count": 10,
   "metadata": {},
   "outputs": [],
   "source": [
    "load = np.load('output/CV_adjudication_avg3_new.npz')"
   ]
  },
  {
   "cell_type": "code",
   "execution_count": 59,
   "metadata": {},
   "outputs": [],
   "source": [
    "load = np.load('output/CV_adjudication_avg5_valloss.npz')"
   ]
  },
  {
   "cell_type": "code",
   "execution_count": 16,
   "metadata": {},
   "outputs": [
    {
     "name": "stdout",
     "output_type": "stream",
     "text": [
      "0.6983\n",
      "(0.6695, 0.7272)\n"
     ]
    }
   ],
   "source": [
    "x = 'acc3'\n",
    "print('{0:.4f}'.format(np.mean(load[x])))\n",
    "print('({0:.4f}, {1:.4f})'.format(*sms.DescrStatsW(load[x]).tconfint_mean()))"
   ]
  },
  {
   "cell_type": "code",
   "execution_count": 19,
   "metadata": {},
   "outputs": [
    {
     "name": "stdout",
     "output_type": "stream",
     "text": [
      "0.8473\n",
      "(0.8384, 0.8561)\n"
     ]
    }
   ],
   "source": [
    "x = 'kappa_q'\n",
    "print('{0:.4f}'.format(np.mean(load[x])))\n",
    "print('({0:.4f}, {1:.4f})'.format(*sms.DescrStatsW(load[x]).tconfint_mean()))"
   ]
  },
  {
   "cell_type": "markdown",
   "metadata": {},
   "source": [
    "### Single result"
   ]
  },
  {
   "cell_type": "code",
   "execution_count": 26,
   "metadata": {},
   "outputs": [],
   "source": [
    "tst_seed = 0"
   ]
  },
  {
   "cell_type": "code",
   "execution_count": 9,
   "metadata": {},
   "outputs": [],
   "source": [
    "train_df = pd.read_csv(path+'CV_adjudication/train_labels{}.csv'.format(tst_seed))"
   ]
  },
  {
   "cell_type": "code",
   "execution_count": 27,
   "metadata": {},
   "outputs": [],
   "source": [
    "tst_df = pd.read_csv(path+'CV_adjudication/tst_labels{}.csv'.format(tst_seed))\n",
    "tst_df = tst_df.reset_index(drop=True)"
   ]
  },
  {
   "cell_type": "code",
   "execution_count": 12,
   "metadata": {},
   "outputs": [
    {
     "name": "stdout",
     "output_type": "stream",
     "text": [
      "Found 16514 images in the directory.\n",
      "Using split0_123 as categorical label, with levels: {0: 0, 1: 1}\n",
      "Using split01_23 as categorical label, with levels: {0: 0, 1: 1}\n",
      "Using split012_3 as categorical label, with levels: {0: 0, 1: 1}\n",
      "Using 1652 images to generate mini-batches.\n"
     ]
    }
   ],
   "source": [
    "tst_itr = validation_gen.flow_from_frame(data_path, tst_df, 'basefile', ['split0_123', 'split01_23', 'split012_3'], \n",
    "                                     target_size=(256, 320), label_types = ['categorical']*3, batch_size=batch_size, \n",
    "                                         shuffle=False)"
   ]
  },
  {
   "cell_type": "code",
   "execution_count": 107,
   "metadata": {},
   "outputs": [
    {
     "name": "stdout",
     "output_type": "stream",
     "text": [
      "52/52 [==============================] - 40s 776ms/step\n",
      "52/52 [==============================] - 24s 458ms/step\n",
      "52/52 [==============================] - 24s 458ms/step\n"
     ]
    }
   ],
   "source": [
    "ys = []\n",
    "for val_seed in range(1, 4):\n",
    "    model.load_weights(model_path+'CV_adjudication/binary3_auc{}{}.h5'.format(tst_seed, val_seed))\n",
    "    ys.append(model.predict_generator(tst_itr, verbose=1))"
   ]
  },
  {
   "cell_type": "code",
   "execution_count": 108,
   "metadata": {},
   "outputs": [],
   "source": [
    "y_preds = []\n",
    "for y in ys:\n",
    "    y_pred = np.concatenate([l[:, 1].reshape((l.shape[0], 1)) for l in y], axis=1)\n",
    "    y_preds.append(y_pred)"
   ]
  },
  {
   "cell_type": "code",
   "execution_count": 109,
   "metadata": {},
   "outputs": [],
   "source": [
    "y_pred_avg = np.mean(np.stack(y_preds, axis=0), axis=0)"
   ]
  },
  {
   "cell_type": "code",
   "execution_count": 110,
   "metadata": {},
   "outputs": [
    {
     "data": {
      "text/plain": [
       "array([0.45695728, 0.27309194, 0.10841713], dtype=float32)"
      ]
     },
     "execution_count": 110,
     "metadata": {},
     "output_type": "execute_result"
    }
   ],
   "source": [
    "y_pred_avg.mean(axis=0)"
   ]
  },
  {
   "cell_type": "code",
   "execution_count": 28,
   "metadata": {},
   "outputs": [],
   "source": [
    "y_pred_avg = np.load('output/y_pred_avg_auc{}.npy'.format(tst_seed))"
   ]
  },
  {
   "cell_type": "code",
   "execution_count": 14,
   "metadata": {},
   "outputs": [],
   "source": [
    "score4 = np.zeros((y_pred_avg.shape[0], y_pred_avg.shape[1]+1), dtype=float)\n",
    "score4[:, 0] = 1 - y_pred_avg[:, 0]\n",
    "score4[:, 1] = y_pred_avg[:, 0]*(1-y_pred_avg[:,1])\n",
    "score4[:, 2] = y_pred_avg[:, 0]*y_pred_avg[:,1]*(1-y_pred_avg[:,2])\n",
    "score4[:, 3] = y_pred_avg[:, 0]*y_pred_avg[:,1]*y_pred_avg[:,2]\n",
    "mayo_pred_avg = pd.Series(score4.argmax(axis=1), name='Mayo_pred')"
   ]
  },
  {
   "cell_type": "code",
   "execution_count": 117,
   "metadata": {},
   "outputs": [],
   "source": [
    "score4 = np.zeros((y_pred_avg.shape[0], y_pred_avg.shape[1]+1), dtype=float)\n",
    "score4[:, 3] = y_pred_avg[:, 2]\n",
    "score4[:, 2] = y_pred_avg[:, 1]*(1-y_pred_avg[:,2])\n",
    "score4[:, 1] = y_pred_avg[:, 0]*(1-y_pred_avg[:,1])*(1-y_pred_avg[:,2])\n",
    "score4[:, 0] = (1-y_pred_avg[:, 0])*(1-y_pred_avg[:,1])*(1-y_pred_avg[:,2])\n",
    "mayo_pred_avg = pd.Series(score4.argmax(axis=1), name='Mayo_pred')"
   ]
  },
  {
   "cell_type": "code",
   "execution_count": 29,
   "metadata": {},
   "outputs": [],
   "source": [
    "mayo_true = tst_df.adj_score\n",
    "mayo_true.name = 'Mayo_true'\n",
    "y_true = tst_df[['split0_123', 'split01_23', 'split012_3']].values\n",
    "rev1 = [1-sum((tst_df.Mayo_Rev1_Corrected<=1) & (tst_df.adj_score<=1))/sum(tst_df.adj_score<=1), \n",
    "        sum((tst_df.Mayo_Rev1_Corrected>=2) & (tst_df.adj_score>=2))/sum(tst_df.adj_score>=2)]\n",
    "rev2 = [1-sum((tst_df.Mayo_Rev2_Corrected<=1) & (tst_df.adj_score<=1))/sum(tst_df.adj_score<=1), \n",
    "        sum((tst_df.Mayo_Rev2_Corrected>=2) & (tst_df.adj_score>=2))/sum(tst_df.adj_score>=2)]"
   ]
  },
  {
   "cell_type": "code",
   "execution_count": 16,
   "metadata": {},
   "outputs": [
    {
     "data": {
      "text/plain": [
       "(0.7725574836525866, 0.8686512280548495)"
      ]
     },
     "execution_count": 16,
     "metadata": {},
     "output_type": "execute_result"
    }
   ],
   "source": [
    "(cohen_kappa_score(mayo_pred_avg.values, mayo_true.values, weights='linear'), \n",
    " cohen_kappa_score(mayo_pred_avg.values, mayo_true.values, weights='quadratic'))"
   ]
  },
  {
   "cell_type": "code",
   "execution_count": 17,
   "metadata": {},
   "outputs": [
    {
     "data": {
      "text/plain": [
       "(0.8899027893117093, 0.9411746896552199)"
      ]
     },
     "execution_count": 17,
     "metadata": {},
     "output_type": "execute_result"
    }
   ],
   "source": [
    "(cohen_kappa_score(tst_df.Mayo_Rev1_Corrected.values, mayo_true.values, weights='linear'), \n",
    " cohen_kappa_score(tst_df.Mayo_Rev1_Corrected.values, mayo_true.values, weights='quadratic'))"
   ]
  },
  {
   "cell_type": "code",
   "execution_count": 18,
   "metadata": {},
   "outputs": [
    {
     "data": {
      "text/plain": [
       "(0.8038311539193794, 0.8861769149891277)"
      ]
     },
     "execution_count": 18,
     "metadata": {},
     "output_type": "execute_result"
    }
   ],
   "source": [
    "(cohen_kappa_score(tst_df.Mayo_Rev2_Corrected.values, mayo_true.values, weights='linear'), \n",
    " cohen_kappa_score(tst_df.Mayo_Rev2_Corrected.values, mayo_true.values, weights='quadratic'))"
   ]
  },
  {
   "cell_type": "code",
   "execution_count": 19,
   "metadata": {},
   "outputs": [
    {
     "data": {
      "text/plain": [
       "(0.723538697237605, 0.8548372282259987)"
      ]
     },
     "execution_count": 19,
     "metadata": {},
     "output_type": "execute_result"
    }
   ],
   "source": [
    "(cohen_kappa_score(tst_df.Mayo_Rev1_Corrected.values, tst_df.Mayo_Rev2_Corrected.values, weights='linear'), \n",
    " cohen_kappa_score(tst_df.Mayo_Rev1_Corrected.values, tst_df.Mayo_Rev2_Corrected.values, weights='quadratic'))"
   ]
  },
  {
   "cell_type": "code",
   "execution_count": 16,
   "metadata": {},
   "outputs": [],
   "source": [
    "from sklearn.metrics import roc_curve"
   ]
  },
  {
   "cell_type": "code",
   "execution_count": 30,
   "metadata": {},
   "outputs": [],
   "source": [
    "fpr, tpr, thresh = roc_curve(y_true[:, 1], y_pred_avg[:, 1])"
   ]
  },
  {
   "cell_type": "code",
   "execution_count": 31,
   "metadata": {},
   "outputs": [],
   "source": [
    "optiaml_index = np.argmin((1-tpr)**2+fpr**2)"
   ]
  },
  {
   "cell_type": "code",
   "execution_count": 38,
   "metadata": {
    "scrolled": true
   },
   "outputs": [
    {
     "data": {
      "image/png": "[encoded data removed]",
      "text/plain": [
       "<Figure size 432x288 with 1 Axes>"
      ]
     },
     "metadata": {},
     "output_type": "display_data"
    }
   ],
   "source": [
    "plot_roc(y_pred_avg[:, 1], y_true[:, 1], classes=['Mayo 01 vs. 23'], title='ROC for Normal-Mild vs. Moderate-Severe', n_digits=2)\n",
    "plt.scatter(fpr[optiaml_index], tpr[optiaml_index], marker='+', s=100)\n",
    "#plt.scatter(*rev2, marker='+', s=50)\n",
    "plt.savefig('plots/roc01_23_test_Mar22.eps', dpi=3000, format='eps', quality=95)"
   ]
  },
  {
   "cell_type": "code",
   "execution_count": 39,
   "metadata": {},
   "outputs": [
    {
     "data": {
      "text/plain": [
       "([0.01146601146601145, 0.9118329466357309],\n",
       " [0.07371007371007376, 0.9721577726218097])"
      ]
     },
     "execution_count": 39,
     "metadata": {},
     "output_type": "execute_result"
    }
   ],
   "source": [
    "rev1, rev2"
   ]
  },
  {
   "cell_type": "code",
   "execution_count": 32,
   "metadata": {},
   "outputs": [
    {
     "data": {
      "text/html": [
       "<div>\n",
       "<style scoped>\n",
       "    .dataframe tbody tr th:only-of-type {\n",
       "        vertical-align: middle;\n",
       "    }\n",
       "\n",
       "    .dataframe tbody tr th {\n",
       "        vertical-align: top;\n",
       "    }\n",
       "\n",
       "    .dataframe thead th {\n",
       "        text-align: right;\n",
       "    }\n",
       "</style>\n",
       "<table border=\"1\" class=\"dataframe\">\n",
       "  <thead>\n",
       "    <tr style=\"text-align: right;\">\n",
       "      <th>Mayo_true</th>\n",
       "      <th>0</th>\n",
       "      <th>1</th>\n",
       "      <th>2</th>\n",
       "      <th>3</th>\n",
       "    </tr>\n",
       "    <tr>\n",
       "      <th>Mayo_Rev1_Corrected</th>\n",
       "      <th></th>\n",
       "      <th></th>\n",
       "      <th></th>\n",
       "      <th></th>\n",
       "    </tr>\n",
       "  </thead>\n",
       "  <tbody>\n",
       "    <tr>\n",
       "      <th>0</th>\n",
       "      <td>0.946681</td>\n",
       "      <td>0.051143</td>\n",
       "      <td>0.002176</td>\n",
       "      <td>0.000000</td>\n",
       "    </tr>\n",
       "    <tr>\n",
       "      <th>1</th>\n",
       "      <td>0.150307</td>\n",
       "      <td>0.739264</td>\n",
       "      <td>0.110429</td>\n",
       "      <td>0.000000</td>\n",
       "    </tr>\n",
       "    <tr>\n",
       "      <th>2</th>\n",
       "      <td>0.007812</td>\n",
       "      <td>0.039062</td>\n",
       "      <td>0.832031</td>\n",
       "      <td>0.121094</td>\n",
       "    </tr>\n",
       "    <tr>\n",
       "      <th>3</th>\n",
       "      <td>0.006623</td>\n",
       "      <td>0.006623</td>\n",
       "      <td>0.033113</td>\n",
       "      <td>0.953642</td>\n",
       "    </tr>\n",
       "  </tbody>\n",
       "</table>\n",
       "</div>"
      ],
      "text/plain": [
       "Mayo_true                   0         1         2         3\n",
       "Mayo_Rev1_Corrected                                        \n",
       "0                    0.946681  0.051143  0.002176  0.000000\n",
       "1                    0.150307  0.739264  0.110429  0.000000\n",
       "2                    0.007812  0.039062  0.832031  0.121094\n",
       "3                    0.006623  0.006623  0.033113  0.953642"
      ]
     },
     "execution_count": 32,
     "metadata": {},
     "output_type": "execute_result"
    }
   ],
   "source": [
    "pd.crosstab(tst_df.Mayo_Rev1_Corrected, tst_df.adj_score, normalize='index')"
   ]
  },
  {
   "cell_type": "code",
   "execution_count": 35,
   "metadata": {},
   "outputs": [
    {
     "name": "stdout",
     "output_type": "stream",
     "text": [
      "Threshold: 0.5\n",
      "Sensitivity 0.8491879350348028\n",
      "Specificity 0.9541359541359541\n",
      "PPV 0.8672985781990521\n",
      "NPV 0.9471544715447154\n"
     ]
    }
   ],
   "source": [
    "thresh = 0.5\n",
    "print('Threshold:', thresh)\n",
    "print('Sensitivity', sum((y_pred_avg[:, 1]>thresh) & (y_true[:, 1]==1))/sum(y_true[:, 1]==1))\n",
    "print('Specificity', sum((y_pred_avg[:, 1]<thresh) & (y_true[:, 1]==0))/sum(y_true[:, 1]==0))\n",
    "print('PPV', sum((y_pred_avg[:, 1]>thresh) & (y_true[:, 1]==1))/sum(y_pred_avg[:, 1]>thresh))\n",
    "print('NPV', sum((y_pred_avg[:, 1]<thresh) & (y_true[:, 1]==0))/sum(y_pred_avg[:, 1]<thresh))"
   ]
  },
  {
   "cell_type": "code",
   "execution_count": 121,
   "metadata": {
    "scrolled": false
   },
   "outputs": [
    {
     "data": {
      "text/html": [
       "<div>\n",
       "<style scoped>\n",
       "    .dataframe tbody tr th:only-of-type {\n",
       "        vertical-align: middle;\n",
       "    }\n",
       "\n",
       "    .dataframe tbody tr th {\n",
       "        vertical-align: top;\n",
       "    }\n",
       "\n",
       "    .dataframe thead th {\n",
       "        text-align: right;\n",
       "    }\n",
       "</style>\n",
       "<table border=\"1\" class=\"dataframe\">\n",
       "  <thead>\n",
       "    <tr style=\"text-align: right;\">\n",
       "      <th>Mayo_pred</th>\n",
       "      <th>0</th>\n",
       "      <th>1</th>\n",
       "      <th>2</th>\n",
       "      <th>3</th>\n",
       "      <th>All</th>\n",
       "    </tr>\n",
       "    <tr>\n",
       "      <th>Mayo_true</th>\n",
       "      <th></th>\n",
       "      <th></th>\n",
       "      <th></th>\n",
       "      <th></th>\n",
       "      <th></th>\n",
       "    </tr>\n",
       "  </thead>\n",
       "  <tbody>\n",
       "    <tr>\n",
       "      <th>0</th>\n",
       "      <td>815</td>\n",
       "      <td>82</td>\n",
       "      <td>22</td>\n",
       "      <td>3</td>\n",
       "      <td>922</td>\n",
       "    </tr>\n",
       "    <tr>\n",
       "      <th>1</th>\n",
       "      <td>87</td>\n",
       "      <td>159</td>\n",
       "      <td>47</td>\n",
       "      <td>6</td>\n",
       "      <td>299</td>\n",
       "    </tr>\n",
       "    <tr>\n",
       "      <th>2</th>\n",
       "      <td>11</td>\n",
       "      <td>40</td>\n",
       "      <td>183</td>\n",
       "      <td>22</td>\n",
       "      <td>256</td>\n",
       "    </tr>\n",
       "    <tr>\n",
       "      <th>3</th>\n",
       "      <td>0</td>\n",
       "      <td>1</td>\n",
       "      <td>43</td>\n",
       "      <td>131</td>\n",
       "      <td>175</td>\n",
       "    </tr>\n",
       "    <tr>\n",
       "      <th>All</th>\n",
       "      <td>913</td>\n",
       "      <td>282</td>\n",
       "      <td>295</td>\n",
       "      <td>162</td>\n",
       "      <td>1652</td>\n",
       "    </tr>\n",
       "  </tbody>\n",
       "</table>\n",
       "</div>"
      ],
      "text/plain": [
       "Mayo_pred    0    1    2    3   All\n",
       "Mayo_true                          \n",
       "0          815   82   22    3   922\n",
       "1           87  159   47    6   299\n",
       "2           11   40  183   22   256\n",
       "3            0    1   43  131   175\n",
       "All        913  282  295  162  1652"
      ]
     },
     "execution_count": 121,
     "metadata": {},
     "output_type": "execute_result"
    }
   ],
   "source": [
    "pd.crosstab(index=mayo_true, columns=mayo_pred_avg, margins=True)"
   ]
  },
  {
   "cell_type": "code",
   "execution_count": 66,
   "metadata": {
    "scrolled": false
   },
   "outputs": [
    {
     "data": {
      "text/html": [
       "<div>\n",
       "<style scoped>\n",
       "    .dataframe tbody tr th:only-of-type {\n",
       "        vertical-align: middle;\n",
       "    }\n",
       "\n",
       "    .dataframe tbody tr th {\n",
       "        vertical-align: top;\n",
       "    }\n",
       "\n",
       "    .dataframe thead th {\n",
       "        text-align: right;\n",
       "    }\n",
       "</style>\n",
       "<table border=\"1\" class=\"dataframe\">\n",
       "  <thead>\n",
       "    <tr style=\"text-align: right;\">\n",
       "      <th>Mayo_pred</th>\n",
       "      <th>0</th>\n",
       "      <th>1</th>\n",
       "      <th>2</th>\n",
       "      <th>3</th>\n",
       "    </tr>\n",
       "    <tr>\n",
       "      <th>Mayo_true</th>\n",
       "      <th></th>\n",
       "      <th></th>\n",
       "      <th></th>\n",
       "      <th></th>\n",
       "    </tr>\n",
       "  </thead>\n",
       "  <tbody>\n",
       "    <tr>\n",
       "      <th>0</th>\n",
       "      <td>0.901302</td>\n",
       "      <td>0.081345</td>\n",
       "      <td>0.017354</td>\n",
       "      <td>0.000000</td>\n",
       "    </tr>\n",
       "    <tr>\n",
       "      <th>1</th>\n",
       "      <td>0.317726</td>\n",
       "      <td>0.548495</td>\n",
       "      <td>0.113712</td>\n",
       "      <td>0.020067</td>\n",
       "    </tr>\n",
       "    <tr>\n",
       "      <th>2</th>\n",
       "      <td>0.046875</td>\n",
       "      <td>0.214844</td>\n",
       "      <td>0.644531</td>\n",
       "      <td>0.093750</td>\n",
       "    </tr>\n",
       "    <tr>\n",
       "      <th>3</th>\n",
       "      <td>0.005714</td>\n",
       "      <td>0.011429</td>\n",
       "      <td>0.245714</td>\n",
       "      <td>0.737143</td>\n",
       "    </tr>\n",
       "  </tbody>\n",
       "</table>\n",
       "</div>"
      ],
      "text/plain": [
       "Mayo_pred         0         1         2         3\n",
       "Mayo_true                                        \n",
       "0          0.901302  0.081345  0.017354  0.000000\n",
       "1          0.317726  0.548495  0.113712  0.020067\n",
       "2          0.046875  0.214844  0.644531  0.093750\n",
       "3          0.005714  0.011429  0.245714  0.737143"
      ]
     },
     "execution_count": 66,
     "metadata": {},
     "output_type": "execute_result"
    }
   ],
   "source": [
    "pd.crosstab(index=mayo_true, columns=mayo_pred_avg, normalize='index')"
   ]
  },
  {
   "cell_type": "markdown",
   "metadata": {},
   "source": [
    "### Confidence Measure"
   ]
  },
  {
   "cell_type": "code",
   "execution_count": 37,
   "metadata": {},
   "outputs": [],
   "source": [
    "confidence_df = pd.DataFrame(data = score4, columns=['Prob0', 'Prob1', 'Prob2', 'Prob3'])"
   ]
  },
  {
   "cell_type": "code",
   "execution_count": 39,
   "metadata": {},
   "outputs": [],
   "source": [
    "confidence_df = confidence_df.assign(Mayo_pred = mayo_pred_avg)"
   ]
  },
  {
   "cell_type": "code",
   "execution_count": 41,
   "metadata": {},
   "outputs": [],
   "source": [
    "confidence_df = confidence_df.assign(Mayo_true = mayo_true)"
   ]
  },
  {
   "cell_type": "code",
   "execution_count": 45,
   "metadata": {},
   "outputs": [
    {
     "data": {
      "text/html": [
       "<div>\n",
       "<style scoped>\n",
       "    .dataframe tbody tr th:only-of-type {\n",
       "        vertical-align: middle;\n",
       "    }\n",
       "\n",
       "    .dataframe tbody tr th {\n",
       "        vertical-align: top;\n",
       "    }\n",
       "\n",
       "    .dataframe thead th {\n",
       "        text-align: right;\n",
       "    }\n",
       "</style>\n",
       "<table border=\"1\" class=\"dataframe\">\n",
       "  <thead>\n",
       "    <tr style=\"text-align: right;\">\n",
       "      <th></th>\n",
       "      <th>Prob0</th>\n",
       "      <th>Prob1</th>\n",
       "      <th>Prob2</th>\n",
       "      <th>Prob3</th>\n",
       "      <th>Mayo_pred</th>\n",
       "      <th>Mayo_true</th>\n",
       "    </tr>\n",
       "  </thead>\n",
       "  <tbody>\n",
       "    <tr>\n",
       "      <th>0</th>\n",
       "      <td>0.875008</td>\n",
       "      <td>0.124934</td>\n",
       "      <td>0.000058</td>\n",
       "      <td>2.004453e-09</td>\n",
       "      <td>0</td>\n",
       "      <td>0</td>\n",
       "    </tr>\n",
       "    <tr>\n",
       "      <th>1</th>\n",
       "      <td>0.934962</td>\n",
       "      <td>0.065023</td>\n",
       "      <td>0.000015</td>\n",
       "      <td>9.071486e-11</td>\n",
       "      <td>0</td>\n",
       "      <td>0</td>\n",
       "    </tr>\n",
       "    <tr>\n",
       "      <th>2</th>\n",
       "      <td>0.953366</td>\n",
       "      <td>0.046633</td>\n",
       "      <td>0.000001</td>\n",
       "      <td>9.516655e-13</td>\n",
       "      <td>0</td>\n",
       "      <td>0</td>\n",
       "    </tr>\n",
       "    <tr>\n",
       "      <th>3</th>\n",
       "      <td>0.963552</td>\n",
       "      <td>0.036441</td>\n",
       "      <td>0.000008</td>\n",
       "      <td>4.255368e-11</td>\n",
       "      <td>0</td>\n",
       "      <td>0</td>\n",
       "    </tr>\n",
       "    <tr>\n",
       "      <th>4</th>\n",
       "      <td>0.517345</td>\n",
       "      <td>0.436024</td>\n",
       "      <td>0.045887</td>\n",
       "      <td>7.443744e-04</td>\n",
       "      <td>0</td>\n",
       "      <td>1</td>\n",
       "    </tr>\n",
       "  </tbody>\n",
       "</table>\n",
       "</div>"
      ],
      "text/plain": [
       "      Prob0     Prob1     Prob2         Prob3  Mayo_pred  Mayo_true\n",
       "0  0.875008  0.124934  0.000058  2.004453e-09          0          0\n",
       "1  0.934962  0.065023  0.000015  9.071486e-11          0          0\n",
       "2  0.953366  0.046633  0.000001  9.516655e-13          0          0\n",
       "3  0.963552  0.036441  0.000008  4.255368e-11          0          0\n",
       "4  0.517345  0.436024  0.045887  7.443744e-04          0          1"
      ]
     },
     "execution_count": 45,
     "metadata": {},
     "output_type": "execute_result"
    }
   ],
   "source": [
    "confidence_df.head()"
   ]
  },
  {
   "cell_type": "code",
   "execution_count": 46,
   "metadata": {},
   "outputs": [
    {
     "data": {
      "text/html": [
       "<div>\n",
       "<style scoped>\n",
       "    .dataframe tbody tr th:only-of-type {\n",
       "        vertical-align: middle;\n",
       "    }\n",
       "\n",
       "    .dataframe tbody tr th {\n",
       "        vertical-align: top;\n",
       "    }\n",
       "\n",
       "    .dataframe thead th {\n",
       "        text-align: right;\n",
       "    }\n",
       "</style>\n",
       "<table border=\"1\" class=\"dataframe\">\n",
       "  <thead>\n",
       "    <tr style=\"text-align: right;\">\n",
       "      <th></th>\n",
       "      <th></th>\n",
       "      <th>Prob0</th>\n",
       "      <th>Prob1</th>\n",
       "      <th>Prob2</th>\n",
       "      <th>Prob3</th>\n",
       "    </tr>\n",
       "    <tr>\n",
       "      <th>Mayo_pred</th>\n",
       "      <th>Mayo_true</th>\n",
       "      <th></th>\n",
       "      <th></th>\n",
       "      <th></th>\n",
       "      <th></th>\n",
       "    </tr>\n",
       "  </thead>\n",
       "  <tbody>\n",
       "    <tr>\n",
       "      <th rowspan=\"4\" valign=\"top\">0</th>\n",
       "      <th>0</th>\n",
       "      <td>0.895572</td>\n",
       "      <td>0.099864</td>\n",
       "      <td>0.004416</td>\n",
       "      <td>0.000147</td>\n",
       "    </tr>\n",
       "    <tr>\n",
       "      <th>1</th>\n",
       "      <td>0.724294</td>\n",
       "      <td>0.258677</td>\n",
       "      <td>0.016342</td>\n",
       "      <td>0.000686</td>\n",
       "    </tr>\n",
       "    <tr>\n",
       "      <th>2</th>\n",
       "      <td>0.725847</td>\n",
       "      <td>0.245202</td>\n",
       "      <td>0.028077</td>\n",
       "      <td>0.000875</td>\n",
       "    </tr>\n",
       "    <tr>\n",
       "      <th>3</th>\n",
       "      <td>0.555691</td>\n",
       "      <td>0.269672</td>\n",
       "      <td>0.114344</td>\n",
       "      <td>0.060293</td>\n",
       "    </tr>\n",
       "    <tr>\n",
       "      <th rowspan=\"4\" valign=\"top\">1</th>\n",
       "      <th>0</th>\n",
       "      <td>0.298959</td>\n",
       "      <td>0.611305</td>\n",
       "      <td>0.086529</td>\n",
       "      <td>0.003207</td>\n",
       "    </tr>\n",
       "    <tr>\n",
       "      <th>1</th>\n",
       "      <td>0.183766</td>\n",
       "      <td>0.676685</td>\n",
       "      <td>0.136896</td>\n",
       "      <td>0.002654</td>\n",
       "    </tr>\n",
       "    <tr>\n",
       "      <th>2</th>\n",
       "      <td>0.150692</td>\n",
       "      <td>0.610157</td>\n",
       "      <td>0.233814</td>\n",
       "      <td>0.005337</td>\n",
       "    </tr>\n",
       "    <tr>\n",
       "      <th>3</th>\n",
       "      <td>0.358883</td>\n",
       "      <td>0.508949</td>\n",
       "      <td>0.125309</td>\n",
       "      <td>0.006859</td>\n",
       "    </tr>\n",
       "    <tr>\n",
       "      <th rowspan=\"4\" valign=\"top\">2</th>\n",
       "      <th>0</th>\n",
       "      <td>0.092913</td>\n",
       "      <td>0.249139</td>\n",
       "      <td>0.556289</td>\n",
       "      <td>0.101659</td>\n",
       "    </tr>\n",
       "    <tr>\n",
       "      <th>1</th>\n",
       "      <td>0.029179</td>\n",
       "      <td>0.269660</td>\n",
       "      <td>0.610522</td>\n",
       "      <td>0.090640</td>\n",
       "    </tr>\n",
       "    <tr>\n",
       "      <th>2</th>\n",
       "      <td>0.022753</td>\n",
       "      <td>0.144240</td>\n",
       "      <td>0.712907</td>\n",
       "      <td>0.120099</td>\n",
       "    </tr>\n",
       "    <tr>\n",
       "      <th>3</th>\n",
       "      <td>0.026137</td>\n",
       "      <td>0.099460</td>\n",
       "      <td>0.602118</td>\n",
       "      <td>0.272285</td>\n",
       "    </tr>\n",
       "    <tr>\n",
       "      <th rowspan=\"3\" valign=\"top\">3</th>\n",
       "      <th>1</th>\n",
       "      <td>0.013230</td>\n",
       "      <td>0.039004</td>\n",
       "      <td>0.299153</td>\n",
       "      <td>0.648613</td>\n",
       "    </tr>\n",
       "    <tr>\n",
       "      <th>2</th>\n",
       "      <td>0.004153</td>\n",
       "      <td>0.014867</td>\n",
       "      <td>0.283675</td>\n",
       "      <td>0.697305</td>\n",
       "    </tr>\n",
       "    <tr>\n",
       "      <th>3</th>\n",
       "      <td>0.002840</td>\n",
       "      <td>0.009352</td>\n",
       "      <td>0.134388</td>\n",
       "      <td>0.853421</td>\n",
       "    </tr>\n",
       "  </tbody>\n",
       "</table>\n",
       "</div>"
      ],
      "text/plain": [
       "                        Prob0     Prob1     Prob2     Prob3\n",
       "Mayo_pred Mayo_true                                        \n",
       "0         0          0.895572  0.099864  0.004416  0.000147\n",
       "          1          0.724294  0.258677  0.016342  0.000686\n",
       "          2          0.725847  0.245202  0.028077  0.000875\n",
       "          3          0.555691  0.269672  0.114344  0.060293\n",
       "1         0          0.298959  0.611305  0.086529  0.003207\n",
       "          1          0.183766  0.676685  0.136896  0.002654\n",
       "          2          0.150692  0.610157  0.233814  0.005337\n",
       "          3          0.358883  0.508949  0.125309  0.006859\n",
       "2         0          0.092913  0.249139  0.556289  0.101659\n",
       "          1          0.029179  0.269660  0.610522  0.090640\n",
       "          2          0.022753  0.144240  0.712907  0.120099\n",
       "          3          0.026137  0.099460  0.602118  0.272285\n",
       "3         1          0.013230  0.039004  0.299153  0.648613\n",
       "          2          0.004153  0.014867  0.283675  0.697305\n",
       "          3          0.002840  0.009352  0.134388  0.853421"
      ]
     },
     "execution_count": 46,
     "metadata": {},
     "output_type": "execute_result"
    }
   ],
   "source": [
    "confidence_df.groupby(['Mayo_pred', 'Mayo_true']).mean()"
   ]
  },
  {
   "cell_type": "markdown",
   "metadata": {},
   "source": [
    "### Cross Validation on Video Data"
   ]
  },
  {
   "cell_type": "code",
   "execution_count": 8,
   "metadata": {},
   "outputs": [],
   "source": [
    "video_labels = pd.read_csv(path+'video_labels.csv')"
   ]
  },
  {
   "cell_type": "code",
   "execution_count": 7,
   "metadata": {},
   "outputs": [],
   "source": [
    "video_sum = pd.read_excel(path+'Video_Test_Set_SummaryLabel_29NOV2018.xlsx')"
   ]
  },
  {
   "cell_type": "code",
   "execution_count": 8,
   "metadata": {
    "scrolled": true
   },
   "outputs": [
    {
     "name": "stdout",
     "output_type": "stream",
     "text": [
      "Found 15072 images in the directory.\n",
      "Using Mayo_score as categorical label, with levels: {0: 0, 1: 1, 2: 2, 3: 3}\n",
      "Using 7497 images to generate mini-batches.\n"
     ]
    }
   ],
   "source": [
    "tst_gen = ImageFrameGenerator()\n",
    "tst_itr = tst_gen.flow_from_frame(path+'video_subset/', video_labels, 'filename', \n",
    "                                   ['Mayo_score'], label_types=['categorical'], \n",
    "                                     target_size=(256, 320), batch_size=batch_size, shuffle=False)"
   ]
  },
  {
   "cell_type": "code",
   "execution_count": 8,
   "metadata": {},
   "outputs": [],
   "source": [
    "import statsmodels.stats.api as sms"
   ]
  },
  {
   "cell_type": "code",
   "execution_count": 9,
   "metadata": {},
   "outputs": [],
   "source": [
    "load = np.load('output/CV_video_auc.npz')"
   ]
  },
  {
   "cell_type": "code",
   "execution_count": 14,
   "metadata": {},
   "outputs": [
    {
     "name": "stdout",
     "output_type": "stream",
     "text": [
      "0.5651\n",
      "(0.5340, 0.5963)\n"
     ]
    }
   ],
   "source": [
    "quant = 'acc3'\n",
    "print('{0:.4f}'.format(np.mean(load[quant])))\n",
    "print('({0:.4f}, {1:.4f})'.format(*sms.DescrStatsW(load[quant]).tconfint_mean()))"
   ]
  },
  {
   "cell_type": "code",
   "execution_count": 41,
   "metadata": {},
   "outputs": [
    {
     "name": "stdout",
     "output_type": "stream",
     "text": [
      "0.9697\n",
      "(0.9689, 0.9705)\n"
     ]
    }
   ],
   "source": [
    "quant = 'auc01_23'\n",
    "print('{0:.4f}'.format(np.mean(load[quant])))\n",
    "print('({0:.4f}, {1:.4f})'.format(*sms.DescrStatsW(load[quant]).tconfint_mean()))"
   ]
  },
  {
   "cell_type": "code",
   "execution_count": 15,
   "metadata": {},
   "outputs": [
    {
     "data": {
      "text/plain": [
       "array([0.72227444, 0.72749753, 0.71646778, 0.75681234, 0.69717984,\n",
       "       0.69497717, 0.69516562, 0.72318841, 0.69469424, 0.73557451])"
      ]
     },
     "execution_count": 15,
     "metadata": {},
     "output_type": "execute_result"
    }
   ],
   "source": [
    "load['ppv01_23']"
   ]
  },
  {
   "cell_type": "code",
   "execution_count": 21,
   "metadata": {},
   "outputs": [],
   "source": [
    "y_true = video_labels[['split0_123', 'split01_23', 'split012_3']].values"
   ]
  },
  {
   "cell_type": "code",
   "execution_count": 32,
   "metadata": {},
   "outputs": [],
   "source": [
    "y_pred = np.load('output/y_pred_video_auc4.npy')"
   ]
  },
  {
   "cell_type": "code",
   "execution_count": 33,
   "metadata": {
    "scrolled": true
   },
   "outputs": [
    {
     "data": {
      "text/plain": [
       "{0: 0.9684510084316867}"
      ]
     },
     "execution_count": 33,
     "metadata": {},
     "output_type": "execute_result"
    },
    {
     "data": {
      "image/png": "[encoded data removed]",
      "text/plain": [
       "<Figure size 432x288 with 1 Axes>"
      ]
     },
     "metadata": {},
     "output_type": "display_data"
    }
   ],
   "source": [
    "plot_roc(y_pred[:, 1], y_true[:, 1], classes=['Mayo 01 vs. 23'], title='ROC for Normal-Mild vs. Moderate-Severe', \n",
    "         savefile = 'output/roc01_23_video.tiff')"
   ]
  },
  {
   "cell_type": "code",
   "execution_count": 34,
   "metadata": {
    "scrolled": true
   },
   "outputs": [
    {
     "data": {
      "text/plain": [
       "{0: 0.9716080121680761}"
      ]
     },
     "execution_count": 34,
     "metadata": {},
     "output_type": "execute_result"
    },
    {
     "data": {
      "image/png": "[encoded data removed]",
      "text/plain": [
       "<Figure size 432x288 with 1 Axes>"
      ]
     },
     "metadata": {},
     "output_type": "display_data"
    }
   ],
   "source": [
    "plot_roc(y_pred[:, 2], y_true[:, 2], classes=['Mayo 012 vs. 3'], title='Mayo 012 vs. 3')"
   ]
  },
  {
   "cell_type": "code",
   "execution_count": 9,
   "metadata": {},
   "outputs": [],
   "source": [
    "mayo_true = video_labels.Mayo_score.reset_index(drop=True)\n",
    "mayo_true.name = 'Mayo_true'"
   ]
  },
  {
   "cell_type": "code",
   "execution_count": 72,
   "metadata": {},
   "outputs": [
    {
     "data": {
      "text/plain": [
       "0    194\n",
       "1      6\n",
       "Name: Mayo_score, dtype: int64"
      ]
     },
     "execution_count": 72,
     "metadata": {},
     "output_type": "execute_result"
    }
   ],
   "source": [
    "video_labels.loc[video_labels.SubjectID=='008', 'Mayo_score'].value_counts()"
   ]
  },
  {
   "cell_type": "code",
   "execution_count": 10,
   "metadata": {},
   "outputs": [
    {
     "data": {
      "text/plain": [
       "0    8143\n",
       "1    1578\n",
       "2    1123\n",
       "3     648\n",
       "Name: Mayo_score, dtype: int64"
      ]
     },
     "execution_count": 10,
     "metadata": {},
     "output_type": "execute_result"
    }
   ],
   "source": [
    "video_labels.Mayo_score.value_counts()"
   ]
  },
  {
   "cell_type": "code",
   "execution_count": 11,
   "metadata": {},
   "outputs": [],
   "source": [
    "ys = []\n",
    "for tst_seed in range(10):\n",
    "    y = np.load('output/y_pred_video_auc{}.npy'.format(tst_seed))\n",
    "    ys.append(y)\n",
    "\n",
    "y_pred = np.stack(ys)\n",
    "\n",
    "y_pred = y_pred.mean(axis=0)"
   ]
  },
  {
   "cell_type": "code",
   "execution_count": 26,
   "metadata": {},
   "outputs": [],
   "source": [
    "score4 = np.zeros((y_pred.shape[0], y_pred.shape[1]+1), dtype=float)\n",
    "\n",
    "score4[:, 0] = 1 - y_pred[:, 0]\n",
    "score4[:, 1] = y_pred[:, 0]*(1-y_pred[:,1])\n",
    "score4[:, 2] = y_pred[:, 0]*y_pred[:,1]*(1-y_pred[:,2])\n",
    "score4[:, 3] = y_pred[:, 0]*y_pred[:,1]*y_pred[:,2]\n",
    "\n",
    "mayo_pred = pd.Series(score4.argmax(axis=1), name='Mayo_pred')"
   ]
  },
  {
   "cell_type": "code",
   "execution_count": 12,
   "metadata": {},
   "outputs": [],
   "source": [
    "score4 = np.zeros((y_pred.shape[0], y_pred.shape[1]+1), dtype=float)\n",
    "score4[:, 3] = y_pred[:, 2]\n",
    "score4[:, 2] = y_pred[:, 1]*(1-y_pred[:,2])\n",
    "score4[:, 1] = y_pred[:, 0]*(1-y_pred[:,1])*(1-y_pred[:,2])\n",
    "score4[:, 0] = (1-y_pred[:, 0])*(1-y_pred[:,1])*(1-y_pred[:,2])\n",
    "mayo_pred = pd.Series(score4.argmax(axis=1), name='Mayo_pred')"
   ]
  },
  {
   "cell_type": "code",
   "execution_count": 17,
   "metadata": {},
   "outputs": [],
   "source": [
    "video_labels = video_labels.assign(Prob0 = score4[:, 0])\n",
    "video_labels = video_labels.assign(Prob1 = score4[:, 1])\n",
    "video_labels = video_labels.assign(Prob2 = score4[:, 2])\n",
    "video_labels = video_labels.assign(Prob3 = score4[:, 3])"
   ]
  },
  {
   "cell_type": "code",
   "execution_count": 14,
   "metadata": {},
   "outputs": [],
   "source": [
    "video_labels = video_labels.assign(Mayo_pred = mayo_pred)"
   ]
  },
  {
   "cell_type": "code",
   "execution_count": 15,
   "metadata": {},
   "outputs": [],
   "source": [
    "video_labels = video_labels.assign(Mayo_0_pred = (mayo_pred==0))\n",
    "video_labels = video_labels.assign(Mayo_1_pred = (mayo_pred==1))\n",
    "video_labels = video_labels.assign(Mayo_2_pred = (mayo_pred==2))\n",
    "video_labels = video_labels.assign(Mayo_3_pred = (mayo_pred==3))"
   ]
  },
  {
   "cell_type": "code",
   "execution_count": 18,
   "metadata": {},
   "outputs": [],
   "source": [
    "video_sum_pred = video_labels.groupby('SubjectID')[['Mayo_0_pred', 'Mayo_1_pred', 'Mayo_2_pred', 'Mayo_3_pred', 'Mayo_0', \n",
    "                                                    'Mayo_1', 'Mayo_2', 'Mayo_3', 'Prob0', 'Prob1', 'Prob2', 'Prob3']].mean()"
   ]
  },
  {
   "cell_type": "code",
   "execution_count": 13,
   "metadata": {
    "collapsed": true
   },
   "outputs": [
    {
     "data": {
      "text/plain": [
       "007           1196\n",
       "Lycera_001     710\n",
       "059            685\n",
       "058            673\n",
       "079            624\n",
       "Lycera_002     556\n",
       "112            499\n",
       "057            473\n",
       "046            472\n",
       "001            434\n",
       "110            420\n",
       "045            412\n",
       "010            380\n",
       "113            380\n",
       "Lycera_003     367\n",
       "052            328\n",
       "023            327\n",
       "Lycera_004     322\n",
       "060            267\n",
       "091            261\n",
       "089            253\n",
       "061            249\n",
       "093            247\n",
       "088            219\n",
       "008            200\n",
       "116            176\n",
       "096            169\n",
       "Lycera_006     128\n",
       "037             44\n",
       "Lycera_005      21\n",
       "Name: SubjectID, dtype: int64"
      ]
     },
     "execution_count": 13,
     "metadata": {},
     "output_type": "execute_result"
    }
   ],
   "source": [
    "video_labels.SubjectID.value_counts()"
   ]
  },
  {
   "cell_type": "code",
   "execution_count": 70,
   "metadata": {},
   "outputs": [
    {
     "data": {
      "text/html": [
       "<div>\n",
       "<style scoped>\n",
       "    .dataframe tbody tr th:only-of-type {\n",
       "        vertical-align: middle;\n",
       "    }\n",
       "\n",
       "    .dataframe tbody tr th {\n",
       "        vertical-align: top;\n",
       "    }\n",
       "\n",
       "    .dataframe thead th {\n",
       "        text-align: right;\n",
       "    }\n",
       "</style>\n",
       "<table border=\"1\" class=\"dataframe\">\n",
       "  <thead>\n",
       "    <tr style=\"text-align: right;\">\n",
       "      <th></th>\n",
       "      <th>SubjectID</th>\n",
       "      <th>Mayo_0_pred</th>\n",
       "      <th>Mayo_1_pred</th>\n",
       "      <th>Mayo_2_pred</th>\n",
       "      <th>Mayo_3_pred</th>\n",
       "      <th>Mayo_0</th>\n",
       "      <th>Mayo_1</th>\n",
       "      <th>Mayo_2</th>\n",
       "      <th>Mayo_3</th>\n",
       "      <th>Prob0</th>\n",
       "      <th>Prob1</th>\n",
       "      <th>Prob2</th>\n",
       "      <th>Prob3</th>\n",
       "      <th>Summary_score_pred</th>\n",
       "      <th>Summary_score_human</th>\n",
       "    </tr>\n",
       "  </thead>\n",
       "  <tbody>\n",
       "    <tr>\n",
       "      <th>0</th>\n",
       "      <td>001</td>\n",
       "      <td>0.202765</td>\n",
       "      <td>0.444700</td>\n",
       "      <td>0.322581</td>\n",
       "      <td>0.029954</td>\n",
       "      <td>0.384793</td>\n",
       "      <td>0.161290</td>\n",
       "      <td>0.179724</td>\n",
       "      <td>0.274194</td>\n",
       "      <td>0.245858</td>\n",
       "      <td>0.433693</td>\n",
       "      <td>0.251506</td>\n",
       "      <td>0.068944</td>\n",
       "      <td>2</td>\n",
       "      <td>3</td>\n",
       "    </tr>\n",
       "    <tr>\n",
       "      <th>1</th>\n",
       "      <td>007</td>\n",
       "      <td>0.637124</td>\n",
       "      <td>0.293478</td>\n",
       "      <td>0.056020</td>\n",
       "      <td>0.013378</td>\n",
       "      <td>1.000000</td>\n",
       "      <td>0.000000</td>\n",
       "      <td>0.000000</td>\n",
       "      <td>0.000000</td>\n",
       "      <td>0.593232</td>\n",
       "      <td>0.278430</td>\n",
       "      <td>0.094010</td>\n",
       "      <td>0.034328</td>\n",
       "      <td>0</td>\n",
       "      <td>0</td>\n",
       "    </tr>\n",
       "    <tr>\n",
       "      <th>2</th>\n",
       "      <td>008</td>\n",
       "      <td>0.300000</td>\n",
       "      <td>0.290000</td>\n",
       "      <td>0.395000</td>\n",
       "      <td>0.015000</td>\n",
       "      <td>0.970000</td>\n",
       "      <td>0.030000</td>\n",
       "      <td>0.000000</td>\n",
       "      <td>0.000000</td>\n",
       "      <td>0.270262</td>\n",
       "      <td>0.331674</td>\n",
       "      <td>0.328301</td>\n",
       "      <td>0.069764</td>\n",
       "      <td>2</td>\n",
       "      <td>2</td>\n",
       "    </tr>\n",
       "    <tr>\n",
       "      <th>3</th>\n",
       "      <td>010</td>\n",
       "      <td>0.397368</td>\n",
       "      <td>0.465789</td>\n",
       "      <td>0.134211</td>\n",
       "      <td>0.002632</td>\n",
       "      <td>0.618421</td>\n",
       "      <td>0.381579</td>\n",
       "      <td>0.000000</td>\n",
       "      <td>0.000000</td>\n",
       "      <td>0.401436</td>\n",
       "      <td>0.433878</td>\n",
       "      <td>0.146717</td>\n",
       "      <td>0.017969</td>\n",
       "      <td>1</td>\n",
       "      <td>1</td>\n",
       "    </tr>\n",
       "    <tr>\n",
       "      <th>4</th>\n",
       "      <td>023</td>\n",
       "      <td>0.085627</td>\n",
       "      <td>0.376147</td>\n",
       "      <td>0.529052</td>\n",
       "      <td>0.009174</td>\n",
       "      <td>0.177370</td>\n",
       "      <td>0.373089</td>\n",
       "      <td>0.446483</td>\n",
       "      <td>0.003058</td>\n",
       "      <td>0.108418</td>\n",
       "      <td>0.366878</td>\n",
       "      <td>0.455853</td>\n",
       "      <td>0.068851</td>\n",
       "      <td>2</td>\n",
       "      <td>3</td>\n",
       "    </tr>\n",
       "    <tr>\n",
       "      <th>5</th>\n",
       "      <td>037</td>\n",
       "      <td>0.659091</td>\n",
       "      <td>0.340909</td>\n",
       "      <td>0.000000</td>\n",
       "      <td>0.000000</td>\n",
       "      <td>1.000000</td>\n",
       "      <td>0.000000</td>\n",
       "      <td>0.000000</td>\n",
       "      <td>0.000000</td>\n",
       "      <td>0.577476</td>\n",
       "      <td>0.369108</td>\n",
       "      <td>0.047816</td>\n",
       "      <td>0.005599</td>\n",
       "      <td>0</td>\n",
       "      <td>0</td>\n",
       "    </tr>\n",
       "    <tr>\n",
       "      <th>6</th>\n",
       "      <td>045</td>\n",
       "      <td>0.800971</td>\n",
       "      <td>0.089806</td>\n",
       "      <td>0.106796</td>\n",
       "      <td>0.002427</td>\n",
       "      <td>1.000000</td>\n",
       "      <td>0.000000</td>\n",
       "      <td>0.000000</td>\n",
       "      <td>0.000000</td>\n",
       "      <td>0.748775</td>\n",
       "      <td>0.133684</td>\n",
       "      <td>0.100717</td>\n",
       "      <td>0.016825</td>\n",
       "      <td>0</td>\n",
       "      <td>0</td>\n",
       "    </tr>\n",
       "    <tr>\n",
       "      <th>7</th>\n",
       "      <td>046</td>\n",
       "      <td>0.974576</td>\n",
       "      <td>0.025424</td>\n",
       "      <td>0.000000</td>\n",
       "      <td>0.000000</td>\n",
       "      <td>1.000000</td>\n",
       "      <td>0.000000</td>\n",
       "      <td>0.000000</td>\n",
       "      <td>0.000000</td>\n",
       "      <td>0.889025</td>\n",
       "      <td>0.103969</td>\n",
       "      <td>0.005943</td>\n",
       "      <td>0.001063</td>\n",
       "      <td>0</td>\n",
       "      <td>0</td>\n",
       "    </tr>\n",
       "    <tr>\n",
       "      <th>8</th>\n",
       "      <td>052</td>\n",
       "      <td>0.942073</td>\n",
       "      <td>0.051829</td>\n",
       "      <td>0.006098</td>\n",
       "      <td>0.000000</td>\n",
       "      <td>1.000000</td>\n",
       "      <td>0.000000</td>\n",
       "      <td>0.000000</td>\n",
       "      <td>0.000000</td>\n",
       "      <td>0.812879</td>\n",
       "      <td>0.172807</td>\n",
       "      <td>0.012384</td>\n",
       "      <td>0.001929</td>\n",
       "      <td>0</td>\n",
       "      <td>0</td>\n",
       "    </tr>\n",
       "    <tr>\n",
       "      <th>9</th>\n",
       "      <td>057</td>\n",
       "      <td>0.566596</td>\n",
       "      <td>0.357294</td>\n",
       "      <td>0.065539</td>\n",
       "      <td>0.010571</td>\n",
       "      <td>0.716702</td>\n",
       "      <td>0.283298</td>\n",
       "      <td>0.000000</td>\n",
       "      <td>0.000000</td>\n",
       "      <td>0.533738</td>\n",
       "      <td>0.357057</td>\n",
       "      <td>0.094239</td>\n",
       "      <td>0.014965</td>\n",
       "      <td>1</td>\n",
       "      <td>1</td>\n",
       "    </tr>\n",
       "    <tr>\n",
       "      <th>10</th>\n",
       "      <td>058</td>\n",
       "      <td>0.534918</td>\n",
       "      <td>0.065379</td>\n",
       "      <td>0.248143</td>\n",
       "      <td>0.151560</td>\n",
       "      <td>0.506686</td>\n",
       "      <td>0.035661</td>\n",
       "      <td>0.169391</td>\n",
       "      <td>0.288262</td>\n",
       "      <td>0.513591</td>\n",
       "      <td>0.102575</td>\n",
       "      <td>0.219797</td>\n",
       "      <td>0.164037</td>\n",
       "      <td>3</td>\n",
       "      <td>3</td>\n",
       "    </tr>\n",
       "    <tr>\n",
       "      <th>11</th>\n",
       "      <td>059</td>\n",
       "      <td>0.564964</td>\n",
       "      <td>0.124088</td>\n",
       "      <td>0.172263</td>\n",
       "      <td>0.138686</td>\n",
       "      <td>0.658394</td>\n",
       "      <td>0.036496</td>\n",
       "      <td>0.235036</td>\n",
       "      <td>0.070073</td>\n",
       "      <td>0.528938</td>\n",
       "      <td>0.158188</td>\n",
       "      <td>0.175252</td>\n",
       "      <td>0.137622</td>\n",
       "      <td>3</td>\n",
       "      <td>3</td>\n",
       "    </tr>\n",
       "    <tr>\n",
       "      <th>12</th>\n",
       "      <td>060</td>\n",
       "      <td>0.846442</td>\n",
       "      <td>0.149813</td>\n",
       "      <td>0.003745</td>\n",
       "      <td>0.000000</td>\n",
       "      <td>0.970037</td>\n",
       "      <td>0.014981</td>\n",
       "      <td>0.014981</td>\n",
       "      <td>0.000000</td>\n",
       "      <td>0.744556</td>\n",
       "      <td>0.243904</td>\n",
       "      <td>0.011002</td>\n",
       "      <td>0.000538</td>\n",
       "      <td>0</td>\n",
       "      <td>0</td>\n",
       "    </tr>\n",
       "    <tr>\n",
       "      <th>13</th>\n",
       "      <td>061</td>\n",
       "      <td>0.325301</td>\n",
       "      <td>0.574297</td>\n",
       "      <td>0.100402</td>\n",
       "      <td>0.000000</td>\n",
       "      <td>0.309237</td>\n",
       "      <td>0.690763</td>\n",
       "      <td>0.000000</td>\n",
       "      <td>0.000000</td>\n",
       "      <td>0.318312</td>\n",
       "      <td>0.509026</td>\n",
       "      <td>0.155339</td>\n",
       "      <td>0.017323</td>\n",
       "      <td>1</td>\n",
       "      <td>1</td>\n",
       "    </tr>\n",
       "    <tr>\n",
       "      <th>14</th>\n",
       "      <td>079</td>\n",
       "      <td>0.520833</td>\n",
       "      <td>0.076923</td>\n",
       "      <td>0.386218</td>\n",
       "      <td>0.016026</td>\n",
       "      <td>0.520833</td>\n",
       "      <td>0.017628</td>\n",
       "      <td>0.461538</td>\n",
       "      <td>0.000000</td>\n",
       "      <td>0.474848</td>\n",
       "      <td>0.149509</td>\n",
       "      <td>0.319232</td>\n",
       "      <td>0.056411</td>\n",
       "      <td>2</td>\n",
       "      <td>2</td>\n",
       "    </tr>\n",
       "    <tr>\n",
       "      <th>15</th>\n",
       "      <td>088</td>\n",
       "      <td>0.063927</td>\n",
       "      <td>0.726027</td>\n",
       "      <td>0.210046</td>\n",
       "      <td>0.000000</td>\n",
       "      <td>0.000000</td>\n",
       "      <td>0.904110</td>\n",
       "      <td>0.095890</td>\n",
       "      <td>0.000000</td>\n",
       "      <td>0.151825</td>\n",
       "      <td>0.556255</td>\n",
       "      <td>0.271249</td>\n",
       "      <td>0.020672</td>\n",
       "      <td>2</td>\n",
       "      <td>1</td>\n",
       "    </tr>\n",
       "    <tr>\n",
       "      <th>16</th>\n",
       "      <td>089</td>\n",
       "      <td>1.000000</td>\n",
       "      <td>0.000000</td>\n",
       "      <td>0.000000</td>\n",
       "      <td>0.000000</td>\n",
       "      <td>1.000000</td>\n",
       "      <td>0.000000</td>\n",
       "      <td>0.000000</td>\n",
       "      <td>0.000000</td>\n",
       "      <td>0.966235</td>\n",
       "      <td>0.029272</td>\n",
       "      <td>0.004258</td>\n",
       "      <td>0.000235</td>\n",
       "      <td>0</td>\n",
       "      <td>0</td>\n",
       "    </tr>\n",
       "    <tr>\n",
       "      <th>17</th>\n",
       "      <td>091</td>\n",
       "      <td>0.068966</td>\n",
       "      <td>0.168582</td>\n",
       "      <td>0.486590</td>\n",
       "      <td>0.275862</td>\n",
       "      <td>0.065134</td>\n",
       "      <td>0.241379</td>\n",
       "      <td>0.398467</td>\n",
       "      <td>0.295019</td>\n",
       "      <td>0.078054</td>\n",
       "      <td>0.139074</td>\n",
       "      <td>0.463181</td>\n",
       "      <td>0.319691</td>\n",
       "      <td>3</td>\n",
       "      <td>3</td>\n",
       "    </tr>\n",
       "    <tr>\n",
       "      <th>18</th>\n",
       "      <td>093</td>\n",
       "      <td>0.987854</td>\n",
       "      <td>0.008097</td>\n",
       "      <td>0.004049</td>\n",
       "      <td>0.000000</td>\n",
       "      <td>1.000000</td>\n",
       "      <td>0.000000</td>\n",
       "      <td>0.000000</td>\n",
       "      <td>0.000000</td>\n",
       "      <td>0.900264</td>\n",
       "      <td>0.093021</td>\n",
       "      <td>0.005808</td>\n",
       "      <td>0.000907</td>\n",
       "      <td>0</td>\n",
       "      <td>0</td>\n",
       "    </tr>\n",
       "    <tr>\n",
       "      <th>19</th>\n",
       "      <td>096</td>\n",
       "      <td>0.011834</td>\n",
       "      <td>0.473373</td>\n",
       "      <td>0.272189</td>\n",
       "      <td>0.242604</td>\n",
       "      <td>0.005917</td>\n",
       "      <td>0.479290</td>\n",
       "      <td>0.289941</td>\n",
       "      <td>0.224852</td>\n",
       "      <td>0.035547</td>\n",
       "      <td>0.385978</td>\n",
       "      <td>0.315007</td>\n",
       "      <td>0.263468</td>\n",
       "      <td>3</td>\n",
       "      <td>3</td>\n",
       "    </tr>\n",
       "    <tr>\n",
       "      <th>20</th>\n",
       "      <td>110</td>\n",
       "      <td>0.930952</td>\n",
       "      <td>0.061905</td>\n",
       "      <td>0.007143</td>\n",
       "      <td>0.000000</td>\n",
       "      <td>0.990476</td>\n",
       "      <td>0.009524</td>\n",
       "      <td>0.000000</td>\n",
       "      <td>0.000000</td>\n",
       "      <td>0.860631</td>\n",
       "      <td>0.125775</td>\n",
       "      <td>0.012462</td>\n",
       "      <td>0.001131</td>\n",
       "      <td>0</td>\n",
       "      <td>0</td>\n",
       "    </tr>\n",
       "    <tr>\n",
       "      <th>21</th>\n",
       "      <td>112</td>\n",
       "      <td>0.731463</td>\n",
       "      <td>0.266533</td>\n",
       "      <td>0.002004</td>\n",
       "      <td>0.000000</td>\n",
       "      <td>0.741483</td>\n",
       "      <td>0.258517</td>\n",
       "      <td>0.000000</td>\n",
       "      <td>0.000000</td>\n",
       "      <td>0.681377</td>\n",
       "      <td>0.295297</td>\n",
       "      <td>0.020617</td>\n",
       "      <td>0.002709</td>\n",
       "      <td>0</td>\n",
       "      <td>1</td>\n",
       "    </tr>\n",
       "    <tr>\n",
       "      <th>22</th>\n",
       "      <td>113</td>\n",
       "      <td>0.952632</td>\n",
       "      <td>0.039474</td>\n",
       "      <td>0.005263</td>\n",
       "      <td>0.002632</td>\n",
       "      <td>0.873684</td>\n",
       "      <td>0.126316</td>\n",
       "      <td>0.000000</td>\n",
       "      <td>0.000000</td>\n",
       "      <td>0.845427</td>\n",
       "      <td>0.132550</td>\n",
       "      <td>0.017529</td>\n",
       "      <td>0.004495</td>\n",
       "      <td>0</td>\n",
       "      <td>1</td>\n",
       "    </tr>\n",
       "    <tr>\n",
       "      <th>23</th>\n",
       "      <td>116</td>\n",
       "      <td>0.880682</td>\n",
       "      <td>0.056818</td>\n",
       "      <td>0.062500</td>\n",
       "      <td>0.000000</td>\n",
       "      <td>0.704545</td>\n",
       "      <td>0.232955</td>\n",
       "      <td>0.028409</td>\n",
       "      <td>0.034091</td>\n",
       "      <td>0.777644</td>\n",
       "      <td>0.151291</td>\n",
       "      <td>0.061268</td>\n",
       "      <td>0.009797</td>\n",
       "      <td>0</td>\n",
       "      <td>1</td>\n",
       "    </tr>\n",
       "    <tr>\n",
       "      <th>24</th>\n",
       "      <td>Lycera_001</td>\n",
       "      <td>0.557746</td>\n",
       "      <td>0.057746</td>\n",
       "      <td>0.221127</td>\n",
       "      <td>0.163380</td>\n",
       "      <td>0.587324</td>\n",
       "      <td>0.036620</td>\n",
       "      <td>0.169014</td>\n",
       "      <td>0.207042</td>\n",
       "      <td>0.504976</td>\n",
       "      <td>0.123645</td>\n",
       "      <td>0.199174</td>\n",
       "      <td>0.172204</td>\n",
       "      <td>3</td>\n",
       "      <td>3</td>\n",
       "    </tr>\n",
       "    <tr>\n",
       "      <th>25</th>\n",
       "      <td>Lycera_002</td>\n",
       "      <td>0.976619</td>\n",
       "      <td>0.016187</td>\n",
       "      <td>0.007194</td>\n",
       "      <td>0.000000</td>\n",
       "      <td>1.000000</td>\n",
       "      <td>0.000000</td>\n",
       "      <td>0.000000</td>\n",
       "      <td>0.000000</td>\n",
       "      <td>0.871865</td>\n",
       "      <td>0.111422</td>\n",
       "      <td>0.013830</td>\n",
       "      <td>0.002883</td>\n",
       "      <td>0</td>\n",
       "      <td>0</td>\n",
       "    </tr>\n",
       "    <tr>\n",
       "      <th>26</th>\n",
       "      <td>Lycera_003</td>\n",
       "      <td>0.457766</td>\n",
       "      <td>0.373297</td>\n",
       "      <td>0.168937</td>\n",
       "      <td>0.000000</td>\n",
       "      <td>0.446866</td>\n",
       "      <td>0.520436</td>\n",
       "      <td>0.032698</td>\n",
       "      <td>0.000000</td>\n",
       "      <td>0.457664</td>\n",
       "      <td>0.329013</td>\n",
       "      <td>0.201960</td>\n",
       "      <td>0.011364</td>\n",
       "      <td>1</td>\n",
       "      <td>1</td>\n",
       "    </tr>\n",
       "    <tr>\n",
       "      <th>27</th>\n",
       "      <td>Lycera_004</td>\n",
       "      <td>0.720497</td>\n",
       "      <td>0.133540</td>\n",
       "      <td>0.114907</td>\n",
       "      <td>0.031056</td>\n",
       "      <td>0.829193</td>\n",
       "      <td>0.114907</td>\n",
       "      <td>0.000000</td>\n",
       "      <td>0.055901</td>\n",
       "      <td>0.646160</td>\n",
       "      <td>0.187423</td>\n",
       "      <td>0.133523</td>\n",
       "      <td>0.032894</td>\n",
       "      <td>3</td>\n",
       "      <td>3</td>\n",
       "    </tr>\n",
       "    <tr>\n",
       "      <th>28</th>\n",
       "      <td>Lycera_005</td>\n",
       "      <td>0.380952</td>\n",
       "      <td>0.476190</td>\n",
       "      <td>0.142857</td>\n",
       "      <td>0.000000</td>\n",
       "      <td>0.428571</td>\n",
       "      <td>0.428571</td>\n",
       "      <td>0.142857</td>\n",
       "      <td>0.000000</td>\n",
       "      <td>0.384434</td>\n",
       "      <td>0.467743</td>\n",
       "      <td>0.126441</td>\n",
       "      <td>0.021382</td>\n",
       "      <td>1</td>\n",
       "      <td>2</td>\n",
       "    </tr>\n",
       "    <tr>\n",
       "      <th>29</th>\n",
       "      <td>Lycera_006</td>\n",
       "      <td>0.562500</td>\n",
       "      <td>0.062500</td>\n",
       "      <td>0.367188</td>\n",
       "      <td>0.007812</td>\n",
       "      <td>0.562500</td>\n",
       "      <td>0.296875</td>\n",
       "      <td>0.140625</td>\n",
       "      <td>0.000000</td>\n",
       "      <td>0.551785</td>\n",
       "      <td>0.113692</td>\n",
       "      <td>0.275683</td>\n",
       "      <td>0.058840</td>\n",
       "      <td>2</td>\n",
       "      <td>2</td>\n",
       "    </tr>\n",
       "  </tbody>\n",
       "</table>\n",
       "</div>"
      ],
      "text/plain": [
       "     SubjectID  Mayo_0_pred  Mayo_1_pred  Mayo_2_pred  Mayo_3_pred    Mayo_0  \\\n",
       "0          001     0.202765     0.444700     0.322581     0.029954  0.384793   \n",
       "1          007     0.637124     0.293478     0.056020     0.013378  1.000000   \n",
       "2          008     0.300000     0.290000     0.395000     0.015000  0.970000   \n",
       "3          010     0.397368     0.465789     0.134211     0.002632  0.618421   \n",
       "4          023     0.085627     0.376147     0.529052     0.009174  0.177370   \n",
       "5          037     0.659091     0.340909     0.000000     0.000000  1.000000   \n",
       "6          045     0.800971     0.089806     0.106796     0.002427  1.000000   \n",
       "7          046     0.974576     0.025424     0.000000     0.000000  1.000000   \n",
       "8          052     0.942073     0.051829     0.006098     0.000000  1.000000   \n",
       "9          057     0.566596     0.357294     0.065539     0.010571  0.716702   \n",
       "10         058     0.534918     0.065379     0.248143     0.151560  0.506686   \n",
       "11         059     0.564964     0.124088     0.172263     0.138686  0.658394   \n",
       "12         060     0.846442     0.149813     0.003745     0.000000  0.970037   \n",
       "13         061     0.325301     0.574297     0.100402     0.000000  0.309237   \n",
       "14         079     0.520833     0.076923     0.386218     0.016026  0.520833   \n",
       "15         088     0.063927     0.726027     0.210046     0.000000  0.000000   \n",
       "16         089     1.000000     0.000000     0.000000     0.000000  1.000000   \n",
       "17         091     0.068966     0.168582     0.486590     0.275862  0.065134   \n",
       "18         093     0.987854     0.008097     0.004049     0.000000  1.000000   \n",
       "19         096     0.011834     0.473373     0.272189     0.242604  0.005917   \n",
       "20         110     0.930952     0.061905     0.007143     0.000000  0.990476   \n",
       "21         112     0.731463     0.266533     0.002004     0.000000  0.741483   \n",
       "22         113     0.952632     0.039474     0.005263     0.002632  0.873684   \n",
       "23         116     0.880682     0.056818     0.062500     0.000000  0.704545   \n",
       "24  Lycera_001     0.557746     0.057746     0.221127     0.163380  0.587324   \n",
       "25  Lycera_002     0.976619     0.016187     0.007194     0.000000  1.000000   \n",
       "26  Lycera_003     0.457766     0.373297     0.168937     0.000000  0.446866   \n",
       "27  Lycera_004     0.720497     0.133540     0.114907     0.031056  0.829193   \n",
       "28  Lycera_005     0.380952     0.476190     0.142857     0.000000  0.428571   \n",
       "29  Lycera_006     0.562500     0.062500     0.367188     0.007812  0.562500   \n",
       "\n",
       "      Mayo_1    Mayo_2    Mayo_3     Prob0     Prob1     Prob2     Prob3  \\\n",
       "0   0.161290  0.179724  0.274194  0.245858  0.433693  0.251506  0.068944   \n",
       "1   0.000000  0.000000  0.000000  0.593232  0.278430  0.094010  0.034328   \n",
       "2   0.030000  0.000000  0.000000  0.270262  0.331674  0.328301  0.069764   \n",
       "3   0.381579  0.000000  0.000000  0.401436  0.433878  0.146717  0.017969   \n",
       "4   0.373089  0.446483  0.003058  0.108418  0.366878  0.455853  0.068851   \n",
       "5   0.000000  0.000000  0.000000  0.577476  0.369108  0.047816  0.005599   \n",
       "6   0.000000  0.000000  0.000000  0.748775  0.133684  0.100717  0.016825   \n",
       "7   0.000000  0.000000  0.000000  0.889025  0.103969  0.005943  0.001063   \n",
       "8   0.000000  0.000000  0.000000  0.812879  0.172807  0.012384  0.001929   \n",
       "9   0.283298  0.000000  0.000000  0.533738  0.357057  0.094239  0.014965   \n",
       "10  0.035661  0.169391  0.288262  0.513591  0.102575  0.219797  0.164037   \n",
       "11  0.036496  0.235036  0.070073  0.528938  0.158188  0.175252  0.137622   \n",
       "12  0.014981  0.014981  0.000000  0.744556  0.243904  0.011002  0.000538   \n",
       "13  0.690763  0.000000  0.000000  0.318312  0.509026  0.155339  0.017323   \n",
       "14  0.017628  0.461538  0.000000  0.474848  0.149509  0.319232  0.056411   \n",
       "15  0.904110  0.095890  0.000000  0.151825  0.556255  0.271249  0.020672   \n",
       "16  0.000000  0.000000  0.000000  0.966235  0.029272  0.004258  0.000235   \n",
       "17  0.241379  0.398467  0.295019  0.078054  0.139074  0.463181  0.319691   \n",
       "18  0.000000  0.000000  0.000000  0.900264  0.093021  0.005808  0.000907   \n",
       "19  0.479290  0.289941  0.224852  0.035547  0.385978  0.315007  0.263468   \n",
       "20  0.009524  0.000000  0.000000  0.860631  0.125775  0.012462  0.001131   \n",
       "21  0.258517  0.000000  0.000000  0.681377  0.295297  0.020617  0.002709   \n",
       "22  0.126316  0.000000  0.000000  0.845427  0.132550  0.017529  0.004495   \n",
       "23  0.232955  0.028409  0.034091  0.777644  0.151291  0.061268  0.009797   \n",
       "24  0.036620  0.169014  0.207042  0.504976  0.123645  0.199174  0.172204   \n",
       "25  0.000000  0.000000  0.000000  0.871865  0.111422  0.013830  0.002883   \n",
       "26  0.520436  0.032698  0.000000  0.457664  0.329013  0.201960  0.011364   \n",
       "27  0.114907  0.000000  0.055901  0.646160  0.187423  0.133523  0.032894   \n",
       "28  0.428571  0.142857  0.000000  0.384434  0.467743  0.126441  0.021382   \n",
       "29  0.296875  0.140625  0.000000  0.551785  0.113692  0.275683  0.058840   \n",
       "\n",
       "    Summary_score_pred Summary_score_human  \n",
       "0                    2                   3  \n",
       "1                    0                   0  \n",
       "2                    2                   2  \n",
       "3                    1                   1  \n",
       "4                    2                   3  \n",
       "5                    0                   0  \n",
       "6                    0                   0  \n",
       "7                    0                   0  \n",
       "8                    0                   0  \n",
       "9                    1                   1  \n",
       "10                   3                   3  \n",
       "11                   3                   3  \n",
       "12                   0                   0  \n",
       "13                   1                   1  \n",
       "14                   2                   2  \n",
       "15                   2                   1  \n",
       "16                   0                   0  \n",
       "17                   3                   3  \n",
       "18                   0                   0  \n",
       "19                   3                   3  \n",
       "20                   0                   0  \n",
       "21                   0                   1  \n",
       "22                   0                   1  \n",
       "23                   0                   1  \n",
       "24                   3                   3  \n",
       "25                   0                   0  \n",
       "26                   1                   1  \n",
       "27                   3                   3  \n",
       "28                   1                   2  \n",
       "29                   2                   2  "
      ]
     },
     "execution_count": 70,
     "metadata": {},
     "output_type": "execute_result"
    }
   ],
   "source": [
    "video_sum_pred"
   ]
  },
  {
   "cell_type": "code",
   "execution_count": 100,
   "metadata": {},
   "outputs": [],
   "source": [
    "video_sum_pred = video_sum_pred.assign(Summary_score_pred=0)"
   ]
  },
  {
   "cell_type": "code",
   "execution_count": 45,
   "metadata": {},
   "outputs": [],
   "source": [
    "video_sum_pred.loc[video_sum_pred.Mayo_1_pred>0.1, 'Summary_score_pred'] = 1\n",
    "video_sum_pred.loc[video_sum_pred.Mayo_2_pred>0.1, 'Summary_score_pred'] = 2\n",
    "video_sum_pred.loc[video_sum_pred.Mayo_3_pred>0.05, 'Summary_score_pred'] = 3"
   ]
  },
  {
   "cell_type": "code",
   "execution_count": 101,
   "metadata": {},
   "outputs": [],
   "source": [
    "video_sum_pred.loc[video_sum_pred.Prob1>0.25, 'Summary_score_pred'] = 1\n",
    "video_sum_pred.loc[video_sum_pred.Prob2>0.2, 'Summary_score_pred'] = 2\n",
    "video_sum_pred.loc[video_sum_pred.Prob3>0.08, 'Summary_score_pred'] = 3"
   ]
  },
  {
   "cell_type": "code",
   "execution_count": 21,
   "metadata": {},
   "outputs": [],
   "source": [
    "video_sum_pred = video_sum_pred.reset_index()\n",
    "\n",
    "video_sum_pred.SubjectID = video_sum_pred.SubjectID.astype(str)\n",
    "\n",
    "video_sum.SubjectID = video_sum.SubjectID.astype(str)"
   ]
  },
  {
   "cell_type": "code",
   "execution_count": 22,
   "metadata": {},
   "outputs": [],
   "source": [
    "video_sum.loc[video_sum.SubjectID=='58', 'SubjectID'] = '058'"
   ]
  },
  {
   "cell_type": "code",
   "execution_count": 23,
   "metadata": {},
   "outputs": [],
   "source": [
    "video_sum_pred = pd.merge(video_sum_pred, video_sum[['SubjectID', 'Summary_Mayo_Score']], on='SubjectID')"
   ]
  },
  {
   "cell_type": "code",
   "execution_count": 24,
   "metadata": {},
   "outputs": [],
   "source": [
    "video_sum_pred.columns = ['SubjectID', 'Mayo_0_pred', 'Mayo_1_pred', 'Mayo_2_pred', 'Mayo_3_pred',\n",
    "       'Mayo_0', 'Mayo_1', 'Mayo_2', 'Mayo_3', 'Prob0', 'Prob1', 'Prob2',\n",
    "       'Prob3', 'Summary_score_pred', 'Summary_score_human']"
   ]
  },
  {
   "cell_type": "code",
   "execution_count": 102,
   "metadata": {},
   "outputs": [
    {
     "data": {
      "text/html": [
       "<div>\n",
       "<style scoped>\n",
       "    .dataframe tbody tr th:only-of-type {\n",
       "        vertical-align: middle;\n",
       "    }\n",
       "\n",
       "    .dataframe tbody tr th {\n",
       "        vertical-align: top;\n",
       "    }\n",
       "\n",
       "    .dataframe thead th {\n",
       "        text-align: right;\n",
       "    }\n",
       "</style>\n",
       "<table border=\"1\" class=\"dataframe\">\n",
       "  <thead>\n",
       "    <tr style=\"text-align: right;\">\n",
       "      <th>Summary_score_pred</th>\n",
       "      <th>0</th>\n",
       "      <th>1</th>\n",
       "      <th>2</th>\n",
       "      <th>3</th>\n",
       "      <th>All</th>\n",
       "    </tr>\n",
       "    <tr>\n",
       "      <th>Summary_score_human</th>\n",
       "      <th></th>\n",
       "      <th></th>\n",
       "      <th></th>\n",
       "      <th></th>\n",
       "      <th></th>\n",
       "    </tr>\n",
       "  </thead>\n",
       "  <tbody>\n",
       "    <tr>\n",
       "      <th>0</th>\n",
       "      <td>8</td>\n",
       "      <td>2</td>\n",
       "      <td>0</td>\n",
       "      <td>0</td>\n",
       "      <td>10</td>\n",
       "    </tr>\n",
       "    <tr>\n",
       "      <th>1</th>\n",
       "      <td>2</td>\n",
       "      <td>4</td>\n",
       "      <td>2</td>\n",
       "      <td>0</td>\n",
       "      <td>8</td>\n",
       "    </tr>\n",
       "    <tr>\n",
       "      <th>2</th>\n",
       "      <td>0</td>\n",
       "      <td>1</td>\n",
       "      <td>3</td>\n",
       "      <td>0</td>\n",
       "      <td>4</td>\n",
       "    </tr>\n",
       "    <tr>\n",
       "      <th>3</th>\n",
       "      <td>1</td>\n",
       "      <td>0</td>\n",
       "      <td>2</td>\n",
       "      <td>5</td>\n",
       "      <td>8</td>\n",
       "    </tr>\n",
       "    <tr>\n",
       "      <th>All</th>\n",
       "      <td>11</td>\n",
       "      <td>7</td>\n",
       "      <td>7</td>\n",
       "      <td>5</td>\n",
       "      <td>30</td>\n",
       "    </tr>\n",
       "  </tbody>\n",
       "</table>\n",
       "</div>"
      ],
      "text/plain": [
       "Summary_score_pred    0  1  2  3  All\n",
       "Summary_score_human                  \n",
       "0                     8  2  0  0   10\n",
       "1                     2  4  2  0    8\n",
       "2                     0  1  3  0    4\n",
       "3                     1  0  2  5    8\n",
       "All                  11  7  7  5   30"
      ]
     },
     "execution_count": 102,
     "metadata": {},
     "output_type": "execute_result"
    }
   ],
   "source": [
    "pd.crosstab(video_sum_pred.Summary_score_human, video_sum_pred.Summary_score_pred, margins=True)"
   ]
  },
  {
   "cell_type": "code",
   "execution_count": 76,
   "metadata": {},
   "outputs": [],
   "source": [
    "video_sum_pred.to_csv(path+'Video_summary_prediction.csv', index=False)"
   ]
  },
  {
   "cell_type": "code",
   "execution_count": 42,
   "metadata": {
    "collapsed": true
   },
   "outputs": [
    {
     "data": {
      "text/html": [
       "<div>\n",
       "<style scoped>\n",
       "    .dataframe tbody tr th:only-of-type {\n",
       "        vertical-align: middle;\n",
       "    }\n",
       "\n",
       "    .dataframe tbody tr th {\n",
       "        vertical-align: top;\n",
       "    }\n",
       "\n",
       "    .dataframe thead th {\n",
       "        text-align: right;\n",
       "    }\n",
       "</style>\n",
       "<table border=\"1\" class=\"dataframe\">\n",
       "  <thead>\n",
       "    <tr style=\"text-align: right;\">\n",
       "      <th>Mayo_pred</th>\n",
       "      <th>0</th>\n",
       "      <th>1</th>\n",
       "      <th>2</th>\n",
       "      <th>3</th>\n",
       "      <th>All</th>\n",
       "    </tr>\n",
       "    <tr>\n",
       "      <th>Mayo_true</th>\n",
       "      <th></th>\n",
       "      <th></th>\n",
       "      <th></th>\n",
       "      <th></th>\n",
       "      <th></th>\n",
       "    </tr>\n",
       "  </thead>\n",
       "  <tbody>\n",
       "    <tr>\n",
       "      <th>0</th>\n",
       "      <td>6810</td>\n",
       "      <td>1002</td>\n",
       "      <td>293</td>\n",
       "      <td>38</td>\n",
       "      <td>8143</td>\n",
       "    </tr>\n",
       "    <tr>\n",
       "      <th>1</th>\n",
       "      <td>258</td>\n",
       "      <td>940</td>\n",
       "      <td>373</td>\n",
       "      <td>7</td>\n",
       "      <td>1578</td>\n",
       "    </tr>\n",
       "    <tr>\n",
       "      <th>2</th>\n",
       "      <td>23</td>\n",
       "      <td>179</td>\n",
       "      <td>813</td>\n",
       "      <td>108</td>\n",
       "      <td>1123</td>\n",
       "    </tr>\n",
       "    <tr>\n",
       "      <th>3</th>\n",
       "      <td>3</td>\n",
       "      <td>38</td>\n",
       "      <td>187</td>\n",
       "      <td>420</td>\n",
       "      <td>648</td>\n",
       "    </tr>\n",
       "    <tr>\n",
       "      <th>All</th>\n",
       "      <td>7094</td>\n",
       "      <td>2159</td>\n",
       "      <td>1666</td>\n",
       "      <td>573</td>\n",
       "      <td>11492</td>\n",
       "    </tr>\n",
       "  </tbody>\n",
       "</table>\n",
       "</div>"
      ],
      "text/plain": [
       "Mayo_pred     0     1     2    3    All\n",
       "Mayo_true                              \n",
       "0          6810  1002   293   38   8143\n",
       "1           258   940   373    7   1578\n",
       "2            23   179   813  108   1123\n",
       "3             3    38   187  420    648\n",
       "All        7094  2159  1666  573  11492"
      ]
     },
     "execution_count": 42,
     "metadata": {},
     "output_type": "execute_result"
    }
   ],
   "source": [
    "pd.crosstab(index=mayo_true, columns=mayo_pred, margins=True)"
   ]
  },
  {
   "cell_type": "code",
   "execution_count": 36,
   "metadata": {
    "collapsed": true
   },
   "outputs": [
    {
     "data": {
      "text/html": [
       "<div>\n",
       "<style scoped>\n",
       "    .dataframe tbody tr th:only-of-type {\n",
       "        vertical-align: middle;\n",
       "    }\n",
       "\n",
       "    .dataframe tbody tr th {\n",
       "        vertical-align: top;\n",
       "    }\n",
       "\n",
       "    .dataframe thead th {\n",
       "        text-align: right;\n",
       "    }\n",
       "</style>\n",
       "<table border=\"1\" class=\"dataframe\">\n",
       "  <thead>\n",
       "    <tr style=\"text-align: right;\">\n",
       "      <th>Mayo_pred</th>\n",
       "      <th>0</th>\n",
       "      <th>1</th>\n",
       "      <th>2</th>\n",
       "      <th>3</th>\n",
       "    </tr>\n",
       "    <tr>\n",
       "      <th>Mayo_true</th>\n",
       "      <th></th>\n",
       "      <th></th>\n",
       "      <th></th>\n",
       "      <th></th>\n",
       "    </tr>\n",
       "  </thead>\n",
       "  <tbody>\n",
       "    <tr>\n",
       "      <th>0</th>\n",
       "      <td>0.836301</td>\n",
       "      <td>0.123050</td>\n",
       "      <td>0.035982</td>\n",
       "      <td>0.004667</td>\n",
       "    </tr>\n",
       "    <tr>\n",
       "      <th>1</th>\n",
       "      <td>0.163498</td>\n",
       "      <td>0.595691</td>\n",
       "      <td>0.236375</td>\n",
       "      <td>0.004436</td>\n",
       "    </tr>\n",
       "    <tr>\n",
       "      <th>2</th>\n",
       "      <td>0.020481</td>\n",
       "      <td>0.159394</td>\n",
       "      <td>0.723954</td>\n",
       "      <td>0.096171</td>\n",
       "    </tr>\n",
       "    <tr>\n",
       "      <th>3</th>\n",
       "      <td>0.004630</td>\n",
       "      <td>0.058642</td>\n",
       "      <td>0.288580</td>\n",
       "      <td>0.648148</td>\n",
       "    </tr>\n",
       "  </tbody>\n",
       "</table>\n",
       "</div>"
      ],
      "text/plain": [
       "Mayo_pred         0         1         2         3\n",
       "Mayo_true                                        \n",
       "0          0.836301  0.123050  0.035982  0.004667\n",
       "1          0.163498  0.595691  0.236375  0.004436\n",
       "2          0.020481  0.159394  0.723954  0.096171\n",
       "3          0.004630  0.058642  0.288580  0.648148"
      ]
     },
     "execution_count": 36,
     "metadata": {},
     "output_type": "execute_result"
    }
   ],
   "source": [
    "pd.crosstab(index=mayo_true, columns=mayo_pred, normalize='index')"
   ]
  },
  {
   "cell_type": "code",
   "execution_count": 28,
   "metadata": {},
   "outputs": [],
   "source": [
    "acc0 = []\n",
    "acc1 = []\n",
    "acc2 = []\n",
    "acc3 = []\n",
    "kappa_linear = []\n",
    "kappa_quad = []\n",
    "for tst_seed in range(10):\n",
    "    y_pred_avg = np.load('output/y_pred_video_auc{}.npy'.format(tst_seed))\n",
    "    score4 = np.zeros((y_pred_avg.shape[0], y_pred_avg.shape[1]+1), dtype=float)\n",
    "    score4[:, 3] = y_pred_avg[:, 2]\n",
    "    score4[:, 2] = y_pred_avg[:, 1]*(1-y_pred_avg[:,2])\n",
    "    score4[:, 1] = y_pred_avg[:, 0]*(1-y_pred_avg[:,1])*(1-y_pred_avg[:,2])\n",
    "    score4[:, 0] = (1-y_pred_avg[:, 0])*(1-y_pred_avg[:,1])*(1-y_pred_avg[:,2])\n",
    "    mayo_pred_avg = pd.Series(score4.argmax(axis=1), name='Mayo_pred')  \n",
    "    \n",
    "    mayo_true = video_labels.Mayo_score\n",
    "    mayo_true.name = 'Mayo_true'\n",
    "    \n",
    "    acc0.append(sum((mayo_pred_avg==0) & (mayo_true==0))/sum(mayo_true==0))\n",
    "    acc1.append(sum((mayo_pred_avg==1) & (mayo_true==1))/sum(mayo_true==1))\n",
    "    acc2.append(sum((mayo_pred_avg==2) & (mayo_true==2))/sum(mayo_true==2))\n",
    "    acc3.append(sum((mayo_pred_avg==3) & (mayo_true==3))/sum(mayo_true==3))\n",
    "\n",
    "    kappa_linear.append(cohen_kappa_score(mayo_pred_avg.values, mayo_true.values, weights='linear'))\n",
    "    kappa_quad.append(cohen_kappa_score(mayo_pred_avg.values, mayo_true.values, weights='quadratic'))"
   ]
  },
  {
   "cell_type": "code",
   "execution_count": 45,
   "metadata": {},
   "outputs": [
    {
     "name": "stdout",
     "output_type": "stream",
     "text": [
      "0.8332\n",
      "(0.8259, 0.8404)\n"
     ]
    }
   ],
   "source": [
    "print('{0:.4f}'.format(np.mean(acc0)))\n",
    "print('({0:.4f}, {1:.4f})'.format(*sms.DescrStatsW(acc0).tconfint_mean()))"
   ]
  },
  {
   "cell_type": "code",
   "execution_count": 47,
   "metadata": {},
   "outputs": [
    {
     "name": "stdout",
     "output_type": "stream",
     "text": [
      "0.7849\n",
      "(0.7774, 0.7924)\n"
     ]
    }
   ],
   "source": [
    "print('{0:.4f}'.format(np.mean(kappa_quad)))\n",
    "print('({0:.4f}, {1:.4f})'.format(*sms.DescrStatsW(kappa_quad).tconfint_mean()))"
   ]
  }
 ],
 "metadata": {
  "kernelspec": {
   "display_name": "Python 3",
   "language": "python",
   "name": "python3"
  },
  "language_info": {
   "codemirror_mode": {
    "name": "ipython",
    "version": 3
   },
   "file_extension": ".py",
   "mimetype": "text/x-python",
   "name": "python",
   "nbconvert_exporter": "python",
   "pygments_lexer": "ipython3",
   "version": "3.5.4"
  }
 },
 "nbformat": 4,
 "nbformat_minor": 2
}
