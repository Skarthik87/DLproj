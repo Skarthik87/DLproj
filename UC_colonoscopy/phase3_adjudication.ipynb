{
 "cells": [
  {
   "cell_type": "markdown",
   "metadata": {},
   "source": [
    "# Models for Multi-Reviewer Labels"
   ]
  },
  {
   "cell_type": "code",
   "execution_count": 1,
   "metadata": {
    "scrolled": false
   },
   "outputs": [
    {
     "name": "stderr",
     "output_type": "stream",
     "text": [
      "Using TensorFlow backend.\n"
     ]
    }
   ],
   "source": [
    "from keras import backend as K\n",
    "from keras.models import Sequential, Model\n",
    "from keras.layers import GlobalAveragePooling2D\n",
    "from keras.layers.core import Dense, Activation, Dropout, Lambda\n",
    "from keras.layers.convolutional import Conv2D\n",
    "from keras.optimizers import SGD, RMSprop, Adam\n",
    "from keras.preprocessing.image import ImageDataGenerator\n",
    "from keras.callbacks import ModelCheckpoint, ReduceLROnPlateau, EarlyStopping"
   ]
  },
  {
   "cell_type": "code",
   "execution_count": 2,
   "metadata": {},
   "outputs": [],
   "source": [
    "from keras.applications.inception_v3 import InceptionV3"
   ]
  },
  {
   "cell_type": "code",
   "execution_count": 3,
   "metadata": {},
   "outputs": [],
   "source": [
    "import os, sys\n",
    "import numpy as np\n",
    "import pandas as pd\n",
    "from sklearn.model_selection import train_test_split, GroupShuffleSplit\n",
    "from sklearn.metrics import cohen_kappa_score\n",
    "import matplotlib.pyplot as plt\n",
    "%matplotlib inline\n",
    "import pickle"
   ]
  },
  {
   "cell_type": "code",
   "execution_count": 4,
   "metadata": {},
   "outputs": [],
   "source": [
    "module_path = os.path.abspath(os.path.join('..'))\n",
    "if module_path not in sys.path:\n",
    "    sys.path.append(module_path)\n",
    "\n",
    "from keras_addon import ImageFrameGenerator, AUCCheckPoint\n",
    "\n",
    "from DL_utils import plot_roc"
   ]
  },
  {
   "cell_type": "code",
   "execution_count": 40,
   "metadata": {},
   "outputs": [],
   "source": [
    "path  =  \"/nfs/turbo/intmed-bnallamo-turbo/wsliu/Data/colonoscopy2/\"\n",
    "model_path = path + 'models/'\n",
    "if not os.path.exists(model_path): \n",
    "    os.mkdir(model_path)\n",
    "data_path = path+'subset_adjudication/'"
   ]
  },
  {
   "cell_type": "code",
   "execution_count": 6,
   "metadata": {},
   "outputs": [],
   "source": [
    "batch_size = 32"
   ]
  },
  {
   "cell_type": "markdown",
   "metadata": {},
   "source": [
    "## Preparation\n",
    "Check up the labels and image files. Split into training and validation sets. "
   ]
  },
  {
   "cell_type": "code",
   "execution_count": 18,
   "metadata": {},
   "outputs": [],
   "source": [
    "filenames = os.listdir(path+'all_images/')"
   ]
  },
  {
   "cell_type": "code",
   "execution_count": 7,
   "metadata": {},
   "outputs": [],
   "source": [
    "labels = pd.read_csv(path+'UC_FINAL_Adjudication.csv')"
   ]
  },
  {
   "cell_type": "code",
   "execution_count": 11,
   "metadata": {},
   "outputs": [
    {
     "data": {
      "text/html": [
       "<div>\n",
       "<style scoped>\n",
       "    .dataframe tbody tr th:only-of-type {\n",
       "        vertical-align: middle;\n",
       "    }\n",
       "\n",
       "    .dataframe tbody tr th {\n",
       "        vertical-align: top;\n",
       "    }\n",
       "\n",
       "    .dataframe thead th {\n",
       "        text-align: right;\n",
       "    }\n",
       "</style>\n",
       "<table border=\"1\" class=\"dataframe\">\n",
       "  <thead>\n",
       "    <tr style=\"text-align: right;\">\n",
       "      <th>Mayo_Rev2_Corrected</th>\n",
       "      <th>0</th>\n",
       "      <th>1</th>\n",
       "      <th>2</th>\n",
       "      <th>3</th>\n",
       "      <th>All</th>\n",
       "    </tr>\n",
       "    <tr>\n",
       "      <th>Mayo_Rev1_Corrected</th>\n",
       "      <th></th>\n",
       "      <th></th>\n",
       "      <th></th>\n",
       "      <th></th>\n",
       "      <th></th>\n",
       "    </tr>\n",
       "  </thead>\n",
       "  <tbody>\n",
       "    <tr>\n",
       "      <th>0</th>\n",
       "      <td>7058</td>\n",
       "      <td>2049</td>\n",
       "      <td>52</td>\n",
       "      <td>1</td>\n",
       "      <td>9160</td>\n",
       "    </tr>\n",
       "    <tr>\n",
       "      <th>1</th>\n",
       "      <td>500</td>\n",
       "      <td>1875</td>\n",
       "      <td>1040</td>\n",
       "      <td>15</td>\n",
       "      <td>3430</td>\n",
       "    </tr>\n",
       "    <tr>\n",
       "      <th>2</th>\n",
       "      <td>5</td>\n",
       "      <td>144</td>\n",
       "      <td>1667</td>\n",
       "      <td>589</td>\n",
       "      <td>2405</td>\n",
       "    </tr>\n",
       "    <tr>\n",
       "      <th>3</th>\n",
       "      <td>0</td>\n",
       "      <td>1</td>\n",
       "      <td>217</td>\n",
       "      <td>1301</td>\n",
       "      <td>1519</td>\n",
       "    </tr>\n",
       "    <tr>\n",
       "      <th>All</th>\n",
       "      <td>7563</td>\n",
       "      <td>4069</td>\n",
       "      <td>2976</td>\n",
       "      <td>1906</td>\n",
       "      <td>16514</td>\n",
       "    </tr>\n",
       "  </tbody>\n",
       "</table>\n",
       "</div>"
      ],
      "text/plain": [
       "Mayo_Rev2_Corrected     0     1     2     3    All\n",
       "Mayo_Rev1_Corrected                               \n",
       "0                    7058  2049    52     1   9160\n",
       "1                     500  1875  1040    15   3430\n",
       "2                       5   144  1667   589   2405\n",
       "3                       0     1   217  1301   1519\n",
       "All                  7563  4069  2976  1906  16514"
      ]
     },
     "execution_count": 11,
     "metadata": {},
     "output_type": "execute_result"
    }
   ],
   "source": [
    "pd.crosstab(labels.Mayo_Rev1_Corrected, labels.Mayo_Rev2_Corrected, margins=True)"
   ]
  },
  {
   "cell_type": "code",
   "execution_count": 13,
   "metadata": {},
   "outputs": [
    {
     "data": {
      "text/html": [
       "<div>\n",
       "<style scoped>\n",
       "    .dataframe tbody tr th:only-of-type {\n",
       "        vertical-align: middle;\n",
       "    }\n",
       "\n",
       "    .dataframe tbody tr th {\n",
       "        vertical-align: top;\n",
       "    }\n",
       "\n",
       "    .dataframe thead th {\n",
       "        text-align: right;\n",
       "    }\n",
       "</style>\n",
       "<table border=\"1\" class=\"dataframe\">\n",
       "  <thead>\n",
       "    <tr style=\"text-align: right;\">\n",
       "      <th>Mayo_Rev2_Corrected</th>\n",
       "      <th>0</th>\n",
       "      <th>1</th>\n",
       "      <th>2</th>\n",
       "      <th>3</th>\n",
       "    </tr>\n",
       "    <tr>\n",
       "      <th>Mayo_Rev1_Corrected</th>\n",
       "      <th></th>\n",
       "      <th></th>\n",
       "      <th></th>\n",
       "      <th></th>\n",
       "    </tr>\n",
       "  </thead>\n",
       "  <tbody>\n",
       "    <tr>\n",
       "      <th>0</th>\n",
       "      <td>0.770524</td>\n",
       "      <td>0.223690</td>\n",
       "      <td>0.005677</td>\n",
       "      <td>0.000109</td>\n",
       "    </tr>\n",
       "    <tr>\n",
       "      <th>1</th>\n",
       "      <td>0.145773</td>\n",
       "      <td>0.546647</td>\n",
       "      <td>0.303207</td>\n",
       "      <td>0.004373</td>\n",
       "    </tr>\n",
       "    <tr>\n",
       "      <th>2</th>\n",
       "      <td>0.002079</td>\n",
       "      <td>0.059875</td>\n",
       "      <td>0.693139</td>\n",
       "      <td>0.244906</td>\n",
       "    </tr>\n",
       "    <tr>\n",
       "      <th>3</th>\n",
       "      <td>0.000000</td>\n",
       "      <td>0.000658</td>\n",
       "      <td>0.142857</td>\n",
       "      <td>0.856485</td>\n",
       "    </tr>\n",
       "  </tbody>\n",
       "</table>\n",
       "</div>"
      ],
      "text/plain": [
       "Mayo_Rev2_Corrected         0         1         2         3\n",
       "Mayo_Rev1_Corrected                                        \n",
       "0                    0.770524  0.223690  0.005677  0.000109\n",
       "1                    0.145773  0.546647  0.303207  0.004373\n",
       "2                    0.002079  0.059875  0.693139  0.244906\n",
       "3                    0.000000  0.000658  0.142857  0.856485"
      ]
     },
     "execution_count": 13,
     "metadata": {},
     "output_type": "execute_result"
    }
   ],
   "source": [
    "pd.crosstab(labels.Mayo_Rev1_Corrected, labels.Mayo_Rev2_Corrected, normalize='index')"
   ]
  },
  {
   "cell_type": "code",
   "execution_count": 14,
   "metadata": {},
   "outputs": [
    {
     "data": {
      "text/html": [
       "<div>\n",
       "<style scoped>\n",
       "    .dataframe tbody tr th:only-of-type {\n",
       "        vertical-align: middle;\n",
       "    }\n",
       "\n",
       "    .dataframe tbody tr th {\n",
       "        vertical-align: top;\n",
       "    }\n",
       "\n",
       "    .dataframe thead th {\n",
       "        text-align: right;\n",
       "    }\n",
       "</style>\n",
       "<table border=\"1\" class=\"dataframe\">\n",
       "  <thead>\n",
       "    <tr style=\"text-align: right;\">\n",
       "      <th>Mayo_Rev2_Corrected</th>\n",
       "      <th>0</th>\n",
       "      <th>1</th>\n",
       "      <th>2</th>\n",
       "      <th>3</th>\n",
       "    </tr>\n",
       "    <tr>\n",
       "      <th>adj_score</th>\n",
       "      <th></th>\n",
       "      <th></th>\n",
       "      <th></th>\n",
       "      <th></th>\n",
       "    </tr>\n",
       "  </thead>\n",
       "  <tbody>\n",
       "    <tr>\n",
       "      <th>0</th>\n",
       "      <td>0.819826</td>\n",
       "      <td>0.159745</td>\n",
       "      <td>0.019647</td>\n",
       "      <td>0.000781</td>\n",
       "    </tr>\n",
       "    <tr>\n",
       "      <th>1</th>\n",
       "      <td>0.061999</td>\n",
       "      <td>0.755859</td>\n",
       "      <td>0.172056</td>\n",
       "      <td>0.010086</td>\n",
       "    </tr>\n",
       "    <tr>\n",
       "      <th>2</th>\n",
       "      <td>0.003228</td>\n",
       "      <td>0.035109</td>\n",
       "      <td>0.843826</td>\n",
       "      <td>0.117837</td>\n",
       "    </tr>\n",
       "    <tr>\n",
       "      <th>3</th>\n",
       "      <td>0.001172</td>\n",
       "      <td>0.001757</td>\n",
       "      <td>0.075571</td>\n",
       "      <td>0.921500</td>\n",
       "    </tr>\n",
       "  </tbody>\n",
       "</table>\n",
       "</div>"
      ],
      "text/plain": [
       "Mayo_Rev2_Corrected         0         1         2         3\n",
       "adj_score                                                  \n",
       "0                    0.819826  0.159745  0.019647  0.000781\n",
       "1                    0.061999  0.755859  0.172056  0.010086\n",
       "2                    0.003228  0.035109  0.843826  0.117837\n",
       "3                    0.001172  0.001757  0.075571  0.921500"
      ]
     },
     "execution_count": 14,
     "metadata": {},
     "output_type": "execute_result"
    }
   ],
   "source": [
    "pd.crosstab(labels.adj_score, labels.Mayo_Rev2_Corrected, normalize='index')"
   ]
  },
  {
   "cell_type": "markdown",
   "metadata": {},
   "source": [
    "Make a subset copy of the images, so the generator can run faster. "
   ]
  },
  {
   "cell_type": "code",
   "execution_count": 15,
   "metadata": {},
   "outputs": [
    {
     "data": {
      "text/plain": [
       "(16514, 7)"
      ]
     },
     "execution_count": 15,
     "metadata": {},
     "output_type": "execute_result"
    }
   ],
   "source": [
    "labels.shape"
   ]
  },
  {
   "cell_type": "code",
   "execution_count": 19,
   "metadata": {},
   "outputs": [],
   "source": [
    "labeled = set(labels.basefile)\n",
    "\n",
    "from shutil import copyfile\n",
    "\n",
    "for f in filenames:\n",
    "    if f in labeled:\n",
    "        copyfile(path+'all_images/'+f, path+'subset_adjudication/'+f)"
   ]
  },
  {
   "cell_type": "markdown",
   "metadata": {},
   "source": [
    "Create labels for multi-binary classification:"
   ]
  },
  {
   "cell_type": "code",
   "execution_count": 22,
   "metadata": {},
   "outputs": [],
   "source": [
    "labels['split0_123'] = (labels.adj_score>0).astype(int)\n",
    "labels['split01_23'] = (labels.adj_score>1).astype(int)\n",
    "labels['split012_3'] = (labels.adj_score>2).astype(int)"
   ]
  },
  {
   "cell_type": "code",
   "execution_count": 23,
   "metadata": {},
   "outputs": [
    {
     "data": {
      "text/html": [
       "<div>\n",
       "<style scoped>\n",
       "    .dataframe tbody tr th:only-of-type {\n",
       "        vertical-align: middle;\n",
       "    }\n",
       "\n",
       "    .dataframe tbody tr th {\n",
       "        vertical-align: top;\n",
       "    }\n",
       "\n",
       "    .dataframe thead th {\n",
       "        text-align: right;\n",
       "    }\n",
       "</style>\n",
       "<table border=\"1\" class=\"dataframe\">\n",
       "  <thead>\n",
       "    <tr style=\"text-align: right;\">\n",
       "      <th></th>\n",
       "      <th>basefile</th>\n",
       "      <th>pathname</th>\n",
       "      <th>SourceReportName</th>\n",
       "      <th>Mayo_Rev1_Corrected</th>\n",
       "      <th>Mayo_Rev2_Corrected</th>\n",
       "      <th>Corrected_ScoreDiff</th>\n",
       "      <th>adj_score</th>\n",
       "      <th>split0_123</th>\n",
       "      <th>split01_23</th>\n",
       "      <th>split012_3</th>\n",
       "    </tr>\n",
       "  </thead>\n",
       "  <tbody>\n",
       "    <tr>\n",
       "      <th>0</th>\n",
       "      <td>BM_col_1000-2.jpg</td>\n",
       "      <td>E:\\TEMP\\AS\\UPDATED FILES\\Colon_Images_Original...</td>\n",
       "      <td>BM_col_1000</td>\n",
       "      <td>2</td>\n",
       "      <td>3</td>\n",
       "      <td>1</td>\n",
       "      <td>2</td>\n",
       "      <td>1</td>\n",
       "      <td>1</td>\n",
       "      <td>0</td>\n",
       "    </tr>\n",
       "    <tr>\n",
       "      <th>1</th>\n",
       "      <td>BM_col_1000-3.jpg</td>\n",
       "      <td>E:\\TEMP\\AS\\UPDATED FILES\\Colon_Images_Original...</td>\n",
       "      <td>BM_col_1000</td>\n",
       "      <td>2</td>\n",
       "      <td>3</td>\n",
       "      <td>1</td>\n",
       "      <td>2</td>\n",
       "      <td>1</td>\n",
       "      <td>1</td>\n",
       "      <td>0</td>\n",
       "    </tr>\n",
       "    <tr>\n",
       "      <th>2</th>\n",
       "      <td>BM_col_1000-5.jpg</td>\n",
       "      <td>E:\\TEMP\\AS\\UPDATED FILES\\Colon_Images_Original...</td>\n",
       "      <td>BM_col_1000</td>\n",
       "      <td>0</td>\n",
       "      <td>0</td>\n",
       "      <td>0</td>\n",
       "      <td>0</td>\n",
       "      <td>0</td>\n",
       "      <td>0</td>\n",
       "      <td>0</td>\n",
       "    </tr>\n",
       "    <tr>\n",
       "      <th>3</th>\n",
       "      <td>BM_col_1000-6.jpg</td>\n",
       "      <td>E:\\TEMP\\AS\\UPDATED FILES\\Colon_Images_Original...</td>\n",
       "      <td>BM_col_1000</td>\n",
       "      <td>0</td>\n",
       "      <td>1</td>\n",
       "      <td>1</td>\n",
       "      <td>0</td>\n",
       "      <td>0</td>\n",
       "      <td>0</td>\n",
       "      <td>0</td>\n",
       "    </tr>\n",
       "    <tr>\n",
       "      <th>4</th>\n",
       "      <td>BM_col_1000-7.jpg</td>\n",
       "      <td>E:\\TEMP\\AS\\UPDATED FILES\\Colon_Images_Original...</td>\n",
       "      <td>BM_col_1000</td>\n",
       "      <td>0</td>\n",
       "      <td>0</td>\n",
       "      <td>0</td>\n",
       "      <td>0</td>\n",
       "      <td>0</td>\n",
       "      <td>0</td>\n",
       "      <td>0</td>\n",
       "    </tr>\n",
       "  </tbody>\n",
       "</table>\n",
       "</div>"
      ],
      "text/plain": [
       "            basefile                                           pathname  \\\n",
       "0  BM_col_1000-2.jpg  E:\\TEMP\\AS\\UPDATED FILES\\Colon_Images_Original...   \n",
       "1  BM_col_1000-3.jpg  E:\\TEMP\\AS\\UPDATED FILES\\Colon_Images_Original...   \n",
       "2  BM_col_1000-5.jpg  E:\\TEMP\\AS\\UPDATED FILES\\Colon_Images_Original...   \n",
       "3  BM_col_1000-6.jpg  E:\\TEMP\\AS\\UPDATED FILES\\Colon_Images_Original...   \n",
       "4  BM_col_1000-7.jpg  E:\\TEMP\\AS\\UPDATED FILES\\Colon_Images_Original...   \n",
       "\n",
       "  SourceReportName  Mayo_Rev1_Corrected  Mayo_Rev2_Corrected  \\\n",
       "0      BM_col_1000                    2                    3   \n",
       "1      BM_col_1000                    2                    3   \n",
       "2      BM_col_1000                    0                    0   \n",
       "3      BM_col_1000                    0                    1   \n",
       "4      BM_col_1000                    0                    0   \n",
       "\n",
       "   Corrected_ScoreDiff  adj_score  split0_123  split01_23  split012_3  \n",
       "0                    1          2           1           1           0  \n",
       "1                    1          2           1           1           0  \n",
       "2                    0          0           0           0           0  \n",
       "3                    1          0           0           0           0  \n",
       "4                    0          0           0           0           0  "
      ]
     },
     "execution_count": 23,
     "metadata": {},
     "output_type": "execute_result"
    }
   ],
   "source": [
    "labels.head()"
   ]
  },
  {
   "cell_type": "code",
   "execution_count": 25,
   "metadata": {},
   "outputs": [
    {
     "data": {
      "text/plain": [
       "(0    8958\n",
       " 1    7556\n",
       " Name: split0_123, dtype: int64, 0    12329\n",
       " 1     4185\n",
       " Name: split01_23, dtype: int64, 0    14807\n",
       " 1     1707\n",
       " Name: split012_3, dtype: int64)"
      ]
     },
     "execution_count": 25,
     "metadata": {},
     "output_type": "execute_result"
    }
   ],
   "source": [
    "labels.split0_123.value_counts(), labels.split01_23.value_counts(), labels.split012_3.value_counts()"
   ]
  },
  {
   "cell_type": "code",
   "execution_count": 26,
   "metadata": {},
   "outputs": [
    {
     "data": {
      "text/plain": [
       "0    8958\n",
       "1    3371\n",
       "2    2478\n",
       "3    1707\n",
       "Name: adj_score, dtype: int64"
      ]
     },
     "execution_count": 26,
     "metadata": {},
     "output_type": "execute_result"
    }
   ],
   "source": [
    "labels.adj_score.value_counts()"
   ]
  },
  {
   "cell_type": "code",
   "execution_count": 27,
   "metadata": {},
   "outputs": [
    {
     "data": {
      "text/plain": [
       "(16514, 3082)"
      ]
     },
     "execution_count": 27,
     "metadata": {},
     "output_type": "execute_result"
    }
   ],
   "source": [
    "len(labels), len(labels.SourceReportName.value_counts())"
   ]
  },
  {
   "cell_type": "markdown",
   "metadata": {},
   "source": [
    "Splitting of training/validation and testing (I use \"train\" to denote training and validation data, and \"tst\" to denote testing data; use \"trn\" and \"val\" for the training/validation splitting):"
   ]
  },
  {
   "cell_type": "code",
   "execution_count": 28,
   "metadata": {},
   "outputs": [],
   "source": [
    "labels = labels.reset_index(drop=True)\n",
    "split = GroupShuffleSplit(n_splits=1, test_size=0.1, random_state=24)\n",
    "ind = split.split(labels, groups=labels['SourceReportName'])\n",
    "train_ind, tst_ind = next(ind)\n",
    "train_patients = set(labels.loc[train_ind, 'SourceReportName'])\n",
    "tst_patients = set(labels.loc[tst_ind, 'SourceReportName'])\n",
    "train_df = labels.loc[train_ind]\n",
    "tst_df = labels.loc[tst_ind]"
   ]
  },
  {
   "cell_type": "code",
   "execution_count": 29,
   "metadata": {},
   "outputs": [
    {
     "data": {
      "text/plain": [
       "((14847,), (1667,), 2773, 309)"
      ]
     },
     "execution_count": 29,
     "metadata": {},
     "output_type": "execute_result"
    }
   ],
   "source": [
    "train_ind.shape, tst_ind.shape, len(train_patients), len(tst_patients)"
   ]
  },
  {
   "cell_type": "code",
   "execution_count": 30,
   "metadata": {},
   "outputs": [],
   "source": [
    "train_df.to_csv(path+'train_labels.csv', index=False)\n",
    "tst_df.to_csv(path+'tst_labels.csv', index=False)"
   ]
  },
  {
   "cell_type": "markdown",
   "metadata": {},
   "source": [
    "Splitting of training and validation sets:"
   ]
  },
  {
   "cell_type": "code",
   "execution_count": 31,
   "metadata": {},
   "outputs": [],
   "source": [
    "labels = pd.read_csv(path+'train_labels.csv')"
   ]
  },
  {
   "cell_type": "code",
   "execution_count": 32,
   "metadata": {},
   "outputs": [],
   "source": [
    "labels = labels.reset_index(drop=True)\n",
    "split = GroupShuffleSplit(n_splits=1, test_size=0.11, random_state=24)\n",
    "ind = split.split(labels, groups=labels['SourceReportName'])\n",
    "trn_ind, val_ind = next(ind)\n",
    "\n",
    "trn_patients = set(labels.loc[trn_ind, 'SourceReportName'])\n",
    "val_patients = set(labels.loc[val_ind, 'SourceReportName'])\n",
    "\n",
    "trn_df = labels.loc[trn_ind]\n",
    "val_df = labels.loc[val_ind]"
   ]
  },
  {
   "cell_type": "code",
   "execution_count": 33,
   "metadata": {},
   "outputs": [
    {
     "data": {
      "text/plain": [
       "((13165,), (1682,), 2467, 306)"
      ]
     },
     "execution_count": 33,
     "metadata": {},
     "output_type": "execute_result"
    }
   ],
   "source": [
    "trn_ind.shape, val_ind.shape, len(trn_patients), len(val_patients)"
   ]
  },
  {
   "cell_type": "code",
   "execution_count": 34,
   "metadata": {
    "scrolled": false
   },
   "outputs": [
    {
     "data": {
      "text/plain": [
       "0    1493\n",
       "1     189\n",
       "Name: split012_3, dtype: int64"
      ]
     },
     "execution_count": 34,
     "metadata": {},
     "output_type": "execute_result"
    }
   ],
   "source": [
    "val_df.split012_3.value_counts()"
   ]
  },
  {
   "cell_type": "code",
   "execution_count": 35,
   "metadata": {
    "scrolled": true
   },
   "outputs": [
    {
     "data": {
      "text/plain": [
       "0    863\n",
       "1    330\n",
       "2    300\n",
       "3    189\n",
       "Name: adj_score, dtype: int64"
      ]
     },
     "execution_count": 35,
     "metadata": {},
     "output_type": "execute_result"
    }
   ],
   "source": [
    "val_df.adj_score.value_counts()"
   ]
  },
  {
   "cell_type": "markdown",
   "metadata": {},
   "source": [
    "## Data Generator"
   ]
  },
  {
   "cell_type": "code",
   "execution_count": 37,
   "metadata": {},
   "outputs": [],
   "source": [
    "from keras_addon import ImageFrameGenerator"
   ]
  },
  {
   "cell_type": "code",
   "execution_count": 56,
   "metadata": {},
   "outputs": [
    {
     "data": {
      "text/plain": [
       "<module 'keras_addon' from '/home/wsliu/Codes/DLproj/keras_addon.py'>"
      ]
     },
     "execution_count": 56,
     "metadata": {},
     "output_type": "execute_result"
    }
   ],
   "source": [
    "import keras_addon\n",
    "from importlib import reload\n",
    "reload(keras_addon)"
   ]
  },
  {
   "cell_type": "code",
   "execution_count": 38,
   "metadata": {},
   "outputs": [],
   "source": [
    "train_gen = ImageFrameGenerator( \n",
    "        rotation_range=180,\n",
    "        width_shift_range=0.2,\n",
    "        height_shift_range=0.2,\n",
    "        shear_range=0.1,\n",
    "        zoom_range=0.2,\n",
    "        horizontal_flip=True,\n",
    "        vertical_flip=True,\n",
    "        fill_mode='nearest')"
   ]
  },
  {
   "cell_type": "code",
   "execution_count": 39,
   "metadata": {
    "scrolled": true
   },
   "outputs": [],
   "source": [
    "validation_gen = ImageFrameGenerator()"
   ]
  },
  {
   "cell_type": "code",
   "execution_count": 41,
   "metadata": {},
   "outputs": [
    {
     "name": "stdout",
     "output_type": "stream",
     "text": [
      "Found 16514 images in the directory.\n",
      "Using split0_123 as categorical label, with levels: {0: 0, 1: 1}\n",
      "Using split01_23 as categorical label, with levels: {0: 0, 1: 1}\n",
      "Using split012_3 as categorical label, with levels: {0: 0, 1: 1}\n",
      "Using 13165 images to generate mini-batches.\n"
     ]
    }
   ],
   "source": [
    "trn_itr = train_gen.flow_from_frame(data_path, trn_df, 'basefile', ['split0_123', 'split01_23', 'split012_3'], \n",
    "                                     target_size=(256, 320), label_types = ['categorical']*3, batch_size=batch_size)"
   ]
  },
  {
   "cell_type": "code",
   "execution_count": 42,
   "metadata": {
    "scrolled": false
   },
   "outputs": [
    {
     "name": "stdout",
     "output_type": "stream",
     "text": [
      "Found 16514 images in the directory.\n",
      "Using split0_123 as categorical label, with levels: {0: 0, 1: 1}\n",
      "Using split01_23 as categorical label, with levels: {0: 0, 1: 1}\n",
      "Using split012_3 as categorical label, with levels: {0: 0, 1: 1}\n",
      "Using 1682 images to generate mini-batches.\n"
     ]
    }
   ],
   "source": [
    "val_itr = validation_gen.flow_from_frame(data_path, val_df, 'basefile', ['split0_123', 'split01_23', 'split012_3'], \n",
    "                                     target_size=(256, 320), label_types = ['categorical']*3, batch_size=batch_size, \n",
    "                                         shuffle=False)"
   ]
  },
  {
   "cell_type": "markdown",
   "metadata": {},
   "source": [
    "## Model with 3 binary output"
   ]
  },
  {
   "cell_type": "code",
   "execution_count": 43,
   "metadata": {},
   "outputs": [],
   "source": [
    "base_model = InceptionV3(weights='imagenet', include_top=False)\n",
    "\n",
    "x = base_model.output\n",
    "x = GlobalAveragePooling2D()(x)\n",
    "\n",
    "output1 = Dense(2, activation='softmax', name='split0_123')(x)\n",
    "output2 = Dense(2, activation='softmax', name='split01_23')(x)\n",
    "output3 = Dense(2, activation='softmax', name='split012_3')(x)\n",
    "\n",
    "model = Model(inputs=base_model.input, outputs=[output1, output2, output3])"
   ]
  },
  {
   "cell_type": "code",
   "execution_count": 44,
   "metadata": {},
   "outputs": [],
   "source": [
    "model.compile(optimizer='adam', loss='categorical_crossentropy')"
   ]
  },
  {
   "cell_type": "code",
   "execution_count": 45,
   "metadata": {},
   "outputs": [],
   "source": [
    "checkpointer = ModelCheckpoint(filepath=model_path+'binary3_valloss_1111.h5', verbose=0, save_best_only=True, \n",
    "                               save_weights_only=True)\n",
    "auccheckpt = AUCCheckPoint(filepath=model_path+'binary3_auc_1111.h5', \n",
    "                           validation_y=val_df[['split0_123', 'split01_23', 'split012_3']].values, validation_itr=val_itr)\n",
    "reduce_lr = ReduceLROnPlateau(monitor='loss', factor=0.2, patience=5, min_lr=1.e-8)\n",
    "earlystop = EarlyStopping(monitor='val_loss', patience=40)"
   ]
  },
  {
   "cell_type": "code",
   "execution_count": 46,
   "metadata": {},
   "outputs": [],
   "source": [
    "class_weight = {'split0_123':{0:len(trn_df)/sum(trn_df.split0_123==0), 1:len(trn_df)/sum(trn_df.split0_123==1)}, \n",
    "               'split01_23':{0:len(trn_df)/sum(trn_df.split01_23==0), 1:len(trn_df)/sum(trn_df.split01_23==1)}, \n",
    "               'split012_3':{0:len(trn_df)/sum(trn_df.split012_3==0), 1:len(trn_df)/sum(trn_df.split012_3==1)}}"
   ]
  },
  {
   "cell_type": "code",
   "execution_count": 47,
   "metadata": {},
   "outputs": [
    {
     "data": {
      "text/plain": [
       "{'split012_3': {0: 1.1147332768839966, 1: 9.715867158671587},\n",
       " 'split01_23': {0: 1.3355990666531399, 1: 3.979746070133011},\n",
       " 'split0_123': {0: 1.8350989684973515, 1: 2.1974628609581037}}"
      ]
     },
     "execution_count": 47,
     "metadata": {},
     "output_type": "execute_result"
    }
   ],
   "source": [
    "class_weight"
   ]
  },
  {
   "cell_type": "code",
   "execution_count": 48,
   "metadata": {
    "scrolled": true
   },
   "outputs": [
    {
     "name": "stdout",
     "output_type": "stream",
     "text": [
      "Epoch 1/3\n",
      "411/411 [==============================] - 618s 2s/step - loss: 2.8028 - split0_123_loss: 1.0714 - split01_23_loss: 0.9354 - split012_3_loss: 0.7960 - val_loss: 1.7487 - val_split0_123_loss: 0.8290 - val_split01_23_loss: 0.5707 - val_split012_3_loss: 0.3490\n",
      "AUC_split0_123: 0.8075\n",
      "AUC_split01_23: 0.8524\n",
      "AUC_split012_3: 0.8262\n",
      "Mean AUC: 0.8287\n",
      "\n",
      "Epoch 2/3\n",
      "411/411 [==============================] - 590s 1s/step - loss: 2.3956 - split0_123_loss: 0.9487 - split01_23_loss: 0.7934 - split012_3_loss: 0.6536 - val_loss: 1.5054 - val_split0_123_loss: 0.5926 - val_split01_23_loss: 0.4584 - val_split012_3_loss: 0.4545\n",
      "AUC_split0_123: 0.8455\n",
      "AUC_split01_23: 0.8751\n",
      "AUC_split012_3: 0.8107\n",
      "Mean AUC: 0.8437\n",
      "\n",
      "Epoch 3/3\n",
      "411/411 [==============================] - 589s 1s/step - loss: 2.2939 - split0_123_loss: 0.9185 - split01_23_loss: 0.7585 - split012_3_loss: 0.6169 - val_loss: 0.9783 - val_split0_123_loss: 0.4411 - val_split01_23_loss: 0.3127 - val_split012_3_loss: 0.2245\n",
      "AUC_split0_123: 0.8839\n",
      "AUC_split01_23: 0.9243\n",
      "AUC_split012_3: 0.9107\n",
      "Mean AUC: 0.9063\n",
      "\n"
     ]
    }
   ],
   "source": [
    "history = model.fit_generator(trn_itr, steps_per_epoch=trn_itr.n // batch_size, epochs=3, \n",
    "                              validation_data=val_itr, validation_steps=val_itr.n // batch_size, \n",
    "                              callbacks=[checkpointer, auccheckpt, reduce_lr, earlystop], class_weight = class_weight, \n",
    "                                verbose=1)"
   ]
  },
  {
   "cell_type": "code",
   "execution_count": 19,
   "metadata": {},
   "outputs": [
    {
     "data": {
      "text/plain": [
       "{'split012_3': [0.5990349264705882,\n",
       "  0.9641653536414567,\n",
       "  0.804107580532213,\n",
       "  0.949076505602241,\n",
       "  0.9738817401960784],\n",
       " 'split01_23': [0.5405084873632591,\n",
       "  0.9512214258770275,\n",
       "  0.7472802715956244,\n",
       "  0.9368359109769899,\n",
       "  0.9659298377970578],\n",
       " 'split0_123': [0.46521171107664827,\n",
       "  0.909426194839983,\n",
       "  0.7528568071807886,\n",
       "  0.9019314817425632,\n",
       "  0.6948230649936558]}"
      ]
     },
     "execution_count": 19,
     "metadata": {},
     "output_type": "execute_result"
    }
   ],
   "source": [
    "auccheckpt.auc_history"
   ]
  },
  {
   "cell_type": "markdown",
   "metadata": {},
   "source": [
    "### Result Evaluation"
   ]
  },
  {
   "cell_type": "code",
   "execution_count": 65,
   "metadata": {},
   "outputs": [],
   "source": [
    "with open('output/binary3_auc_0528.pkl', 'rb') as f:\n",
    "    auc_history = pickle.load(f)"
   ]
  },
  {
   "cell_type": "code",
   "execution_count": 66,
   "metadata": {},
   "outputs": [
    {
     "data": {
      "text/plain": [
       "Text(0,0.5,'AUCs')"
      ]
     },
     "execution_count": 66,
     "metadata": {},
     "output_type": "execute_result"
    },
    {
     "data": {
      "image/png": "[encoded data removed]",
      "text/plain": [
       "<Figure size 432x288 with 1 Axes>"
      ]
     },
     "metadata": {},
     "output_type": "display_data"
    }
   ],
   "source": [
    "plt.plot(auc_history['split0_123'])\n",
    "plt.plot(auc_history['split01_23'])\n",
    "plt.plot(auc_history['split012_3'])\n",
    "plt.xlabel('Number of epochs')\n",
    "plt.ylabel('AUCs')"
   ]
  },
  {
   "cell_type": "code",
   "execution_count": 49,
   "metadata": {},
   "outputs": [],
   "source": [
    "tst_df = pd.read_csv(path+'tst_labels.csv')\n",
    "tst_df = tst_df.reset_index(drop=True)"
   ]
  },
  {
   "cell_type": "code",
   "execution_count": 50,
   "metadata": {
    "scrolled": true
   },
   "outputs": [],
   "source": [
    "validation_gen = ImageFrameGenerator()"
   ]
  },
  {
   "cell_type": "code",
   "execution_count": 51,
   "metadata": {
    "scrolled": false
   },
   "outputs": [
    {
     "name": "stdout",
     "output_type": "stream",
     "text": [
      "Found 16514 images in the directory.\n",
      "Using split0_123 as categorical label, with levels: {0: 0, 1: 1}\n",
      "Using split01_23 as categorical label, with levels: {0: 0, 1: 1}\n",
      "Using split012_3 as categorical label, with levels: {0: 0, 1: 1}\n",
      "Using 1667 images to generate mini-batches.\n"
     ]
    }
   ],
   "source": [
    "tst_itr = validation_gen.flow_from_frame(data_path, tst_df, 'basefile', ['split0_123', 'split01_23', 'split012_3'], \n",
    "                                     target_size=(256, 320), label_types = ['categorical']*3, batch_size=batch_size, \n",
    "                                         shuffle=False)"
   ]
  },
  {
   "cell_type": "code",
   "execution_count": 52,
   "metadata": {},
   "outputs": [],
   "source": [
    "model.load_weights(model_path+'binary3_auc_1111.h5')"
   ]
  },
  {
   "cell_type": "code",
   "execution_count": 53,
   "metadata": {},
   "outputs": [
    {
     "name": "stdout",
     "output_type": "stream",
     "text": [
      "53/53 [==============================] - 24s 458ms/step\n"
     ]
    }
   ],
   "source": [
    "y = model.predict_generator(tst_itr, verbose=1)"
   ]
  },
  {
   "cell_type": "code",
   "execution_count": 54,
   "metadata": {},
   "outputs": [],
   "source": [
    "y_pred = np.concatenate([l[:, 1].reshape((l.shape[0], 1)) for l in y], axis=1)"
   ]
  },
  {
   "cell_type": "code",
   "execution_count": 55,
   "metadata": {},
   "outputs": [],
   "source": [
    "y_true = tst_df[['split0_123', 'split01_23', 'split012_3']].values"
   ]
  },
  {
   "cell_type": "code",
   "execution_count": 56,
   "metadata": {},
   "outputs": [
    {
     "data": {
      "text/plain": [
       "((1667, 3), (1667, 3))"
      ]
     },
     "execution_count": 56,
     "metadata": {},
     "output_type": "execute_result"
    }
   ],
   "source": [
    "y_pred.shape, y_true.shape"
   ]
  },
  {
   "cell_type": "code",
   "execution_count": 57,
   "metadata": {
    "scrolled": true
   },
   "outputs": [
    {
     "data": {
      "text/plain": [
       "{0: 0.8703516110533775, 1: 0.9198552348403632, 2: 0.9231211656441717}"
      ]
     },
     "execution_count": 57,
     "metadata": {},
     "output_type": "execute_result"
    },
    {
     "data": {
      "image/png": "[encoded data removed]",
      "text/plain": [
       "<Figure size 432x288 with 1 Axes>"
      ]
     },
     "metadata": {},
     "output_type": "display_data"
    }
   ],
   "source": [
    "plot_roc(y_pred, y_true, classes=['split0_123', 'split01_23', 'split012_3'])"
   ]
  },
  {
   "cell_type": "code",
   "execution_count": 46,
   "metadata": {},
   "outputs": [
    {
     "data": {
      "text/plain": [
       "array([[5.99314153e-01, 2.28909478e-02, 1.07496395e-03],\n",
       "       [8.61447155e-01, 1.06399626e-01, 3.75232834e-04],\n",
       "       [9.84677792e-01, 5.70016980e-01, 1.62384529e-02],\n",
       "       ...,\n",
       "       [5.58475222e-05, 1.10411385e-07, 1.36902200e-11],\n",
       "       [1.45818262e-06, 2.15458140e-09, 2.50117960e-13],\n",
       "       [1.26331742e-03, 9.31455659e-08, 8.23103807e-11]], dtype=float32)"
      ]
     },
     "execution_count": 46,
     "metadata": {},
     "output_type": "execute_result"
    }
   ],
   "source": [
    "y_pred"
   ]
  },
  {
   "cell_type": "code",
   "execution_count": 103,
   "metadata": {},
   "outputs": [],
   "source": [
    "score4 = np.zeros((y_pred.shape[0], y_pred.shape[1]+1), dtype=float)"
   ]
  },
  {
   "cell_type": "code",
   "execution_count": 48,
   "metadata": {},
   "outputs": [],
   "source": [
    "score4[:, 0] = 1 - y_pred[:, 0]\n",
    "for j in range(1, score4.shape[1]-1):\n",
    "    score4[:, j] = y_pred[:, j-1] - y_pred[:, j]\n",
    "score4[:, -1] = y_pred[:, -1]"
   ]
  },
  {
   "cell_type": "code",
   "execution_count": 104,
   "metadata": {},
   "outputs": [],
   "source": [
    "score4[:, 0] = 1 - y_pred[:, 0]\n",
    "score4[:, 1] = y_pred[:, 0]*(1-y_pred[:,1])\n",
    "score4[:, 2] = y_pred[:, 0]*y_pred[:,1]*(1-y_pred[:,2])\n",
    "score4[:, 3] = y_pred[:, 0]*y_pred[:,1]*y_pred[:,2]"
   ]
  },
  {
   "cell_type": "code",
   "execution_count": 90,
   "metadata": {},
   "outputs": [
    {
     "data": {
      "text/plain": [
       "array([0, 0, 0, 0])"
      ]
     },
     "execution_count": 90,
     "metadata": {},
     "output_type": "execute_result"
    }
   ],
   "source": [
    "sum(score4<0)"
   ]
  },
  {
   "cell_type": "code",
   "execution_count": 105,
   "metadata": {},
   "outputs": [],
   "source": [
    "mayo_pred = pd.Series(score4.argmax(axis=1), name='Mayo_pred')"
   ]
  },
  {
   "cell_type": "code",
   "execution_count": 106,
   "metadata": {},
   "outputs": [],
   "source": [
    "mayo_true = tst_df.Mayo_score\n",
    "mayo_true.name = 'Mayo_true'"
   ]
  },
  {
   "cell_type": "code",
   "execution_count": 107,
   "metadata": {
    "scrolled": false
   },
   "outputs": [
    {
     "data": {
      "text/html": [
       "<div>\n",
       "<style scoped>\n",
       "    .dataframe tbody tr th:only-of-type {\n",
       "        vertical-align: middle;\n",
       "    }\n",
       "\n",
       "    .dataframe tbody tr th {\n",
       "        vertical-align: top;\n",
       "    }\n",
       "\n",
       "    .dataframe thead th {\n",
       "        text-align: right;\n",
       "    }\n",
       "</style>\n",
       "<table border=\"1\" class=\"dataframe\">\n",
       "  <thead>\n",
       "    <tr style=\"text-align: right;\">\n",
       "      <th>Mayo_pred</th>\n",
       "      <th>0</th>\n",
       "      <th>1</th>\n",
       "      <th>2</th>\n",
       "      <th>3</th>\n",
       "      <th>All</th>\n",
       "    </tr>\n",
       "    <tr>\n",
       "      <th>Mayo_true</th>\n",
       "      <th></th>\n",
       "      <th></th>\n",
       "      <th></th>\n",
       "      <th></th>\n",
       "      <th></th>\n",
       "    </tr>\n",
       "  </thead>\n",
       "  <tbody>\n",
       "    <tr>\n",
       "      <th>0</th>\n",
       "      <td>771</td>\n",
       "      <td>73</td>\n",
       "      <td>2</td>\n",
       "      <td>0</td>\n",
       "      <td>846</td>\n",
       "    </tr>\n",
       "    <tr>\n",
       "      <th>1</th>\n",
       "      <td>139</td>\n",
       "      <td>216</td>\n",
       "      <td>26</td>\n",
       "      <td>5</td>\n",
       "      <td>386</td>\n",
       "    </tr>\n",
       "    <tr>\n",
       "      <th>2</th>\n",
       "      <td>7</td>\n",
       "      <td>36</td>\n",
       "      <td>61</td>\n",
       "      <td>34</td>\n",
       "      <td>138</td>\n",
       "    </tr>\n",
       "    <tr>\n",
       "      <th>3</th>\n",
       "      <td>1</td>\n",
       "      <td>7</td>\n",
       "      <td>28</td>\n",
       "      <td>112</td>\n",
       "      <td>148</td>\n",
       "    </tr>\n",
       "    <tr>\n",
       "      <th>All</th>\n",
       "      <td>918</td>\n",
       "      <td>332</td>\n",
       "      <td>117</td>\n",
       "      <td>151</td>\n",
       "      <td>1518</td>\n",
       "    </tr>\n",
       "  </tbody>\n",
       "</table>\n",
       "</div>"
      ],
      "text/plain": [
       "Mayo_pred    0    1    2    3   All\n",
       "Mayo_true                          \n",
       "0          771   73    2    0   846\n",
       "1          139  216   26    5   386\n",
       "2            7   36   61   34   138\n",
       "3            1    7   28  112   148\n",
       "All        918  332  117  151  1518"
      ]
     },
     "execution_count": 107,
     "metadata": {},
     "output_type": "execute_result"
    }
   ],
   "source": [
    "pd.crosstab(index=mayo_true, columns=mayo_pred, margins=True)"
   ]
  },
  {
   "cell_type": "code",
   "execution_count": 53,
   "metadata": {
    "scrolled": true
   },
   "outputs": [
    {
     "data": {
      "text/html": [
       "<div>\n",
       "<style scoped>\n",
       "    .dataframe tbody tr th:only-of-type {\n",
       "        vertical-align: middle;\n",
       "    }\n",
       "\n",
       "    .dataframe tbody tr th {\n",
       "        vertical-align: top;\n",
       "    }\n",
       "\n",
       "    .dataframe thead th {\n",
       "        text-align: right;\n",
       "    }\n",
       "</style>\n",
       "<table border=\"1\" class=\"dataframe\">\n",
       "  <thead>\n",
       "    <tr style=\"text-align: right;\">\n",
       "      <th>Mayo_pred</th>\n",
       "      <th>0</th>\n",
       "      <th>1</th>\n",
       "      <th>2</th>\n",
       "      <th>3</th>\n",
       "    </tr>\n",
       "    <tr>\n",
       "      <th>Mayo_true</th>\n",
       "      <th></th>\n",
       "      <th></th>\n",
       "      <th></th>\n",
       "      <th></th>\n",
       "    </tr>\n",
       "  </thead>\n",
       "  <tbody>\n",
       "    <tr>\n",
       "      <th>0</th>\n",
       "      <td>0.911348</td>\n",
       "      <td>0.085106</td>\n",
       "      <td>0.003546</td>\n",
       "      <td>0.000000</td>\n",
       "    </tr>\n",
       "    <tr>\n",
       "      <th>1</th>\n",
       "      <td>0.362694</td>\n",
       "      <td>0.551813</td>\n",
       "      <td>0.067358</td>\n",
       "      <td>0.018135</td>\n",
       "    </tr>\n",
       "    <tr>\n",
       "      <th>2</th>\n",
       "      <td>0.043478</td>\n",
       "      <td>0.260870</td>\n",
       "      <td>0.442029</td>\n",
       "      <td>0.253623</td>\n",
       "    </tr>\n",
       "    <tr>\n",
       "      <th>3</th>\n",
       "      <td>0.006757</td>\n",
       "      <td>0.047297</td>\n",
       "      <td>0.175676</td>\n",
       "      <td>0.770270</td>\n",
       "    </tr>\n",
       "  </tbody>\n",
       "</table>\n",
       "</div>"
      ],
      "text/plain": [
       "Mayo_pred         0         1         2         3\n",
       "Mayo_true                                        \n",
       "0          0.911348  0.085106  0.003546  0.000000\n",
       "1          0.362694  0.551813  0.067358  0.018135\n",
       "2          0.043478  0.260870  0.442029  0.253623\n",
       "3          0.006757  0.047297  0.175676  0.770270"
      ]
     },
     "execution_count": 53,
     "metadata": {},
     "output_type": "execute_result"
    }
   ],
   "source": [
    "pd.crosstab(index=mayo_true, columns=mayo_pred, normalize='index')"
   ]
  },
  {
   "cell_type": "code",
   "execution_count": 58,
   "metadata": {
    "scrolled": true
   },
   "outputs": [
    {
     "data": {
      "text/html": [
       "<div>\n",
       "<style scoped>\n",
       "    .dataframe tbody tr th:only-of-type {\n",
       "        vertical-align: middle;\n",
       "    }\n",
       "\n",
       "    .dataframe tbody tr th {\n",
       "        vertical-align: top;\n",
       "    }\n",
       "\n",
       "    .dataframe thead th {\n",
       "        text-align: right;\n",
       "    }\n",
       "</style>\n",
       "<table border=\"1\" class=\"dataframe\">\n",
       "  <thead>\n",
       "    <tr style=\"text-align: right;\">\n",
       "      <th>Mayo_pred</th>\n",
       "      <th>0</th>\n",
       "      <th>1</th>\n",
       "      <th>2</th>\n",
       "      <th>3</th>\n",
       "    </tr>\n",
       "    <tr>\n",
       "      <th>Mayo_true</th>\n",
       "      <th></th>\n",
       "      <th></th>\n",
       "      <th></th>\n",
       "      <th></th>\n",
       "    </tr>\n",
       "  </thead>\n",
       "  <tbody>\n",
       "    <tr>\n",
       "      <th>0</th>\n",
       "      <td>0.911348</td>\n",
       "      <td>0.086288</td>\n",
       "      <td>0.002364</td>\n",
       "      <td>0.000000</td>\n",
       "    </tr>\n",
       "    <tr>\n",
       "      <th>1</th>\n",
       "      <td>0.360104</td>\n",
       "      <td>0.559585</td>\n",
       "      <td>0.067358</td>\n",
       "      <td>0.012953</td>\n",
       "    </tr>\n",
       "    <tr>\n",
       "      <th>2</th>\n",
       "      <td>0.050725</td>\n",
       "      <td>0.260870</td>\n",
       "      <td>0.442029</td>\n",
       "      <td>0.246377</td>\n",
       "    </tr>\n",
       "    <tr>\n",
       "      <th>3</th>\n",
       "      <td>0.006757</td>\n",
       "      <td>0.047297</td>\n",
       "      <td>0.189189</td>\n",
       "      <td>0.756757</td>\n",
       "    </tr>\n",
       "  </tbody>\n",
       "</table>\n",
       "</div>"
      ],
      "text/plain": [
       "Mayo_pred         0         1         2         3\n",
       "Mayo_true                                        \n",
       "0          0.911348  0.086288  0.002364  0.000000\n",
       "1          0.360104  0.559585  0.067358  0.012953\n",
       "2          0.050725  0.260870  0.442029  0.246377\n",
       "3          0.006757  0.047297  0.189189  0.756757"
      ]
     },
     "execution_count": 58,
     "metadata": {},
     "output_type": "execute_result"
    }
   ],
   "source": [
    "pd.crosstab(index=mayo_true, columns=mayo_pred, normalize='index')"
   ]
  },
  {
   "cell_type": "code",
   "execution_count": 108,
   "metadata": {},
   "outputs": [
    {
     "data": {
      "text/plain": [
       "0.7396376450801716"
      ]
     },
     "execution_count": 108,
     "metadata": {},
     "output_type": "execute_result"
    }
   ],
   "source": [
    "cohen_kappa_score(mayo_pred.values, mayo_true.values, weights='linear')"
   ]
  },
  {
   "cell_type": "code",
   "execution_count": 109,
   "metadata": {},
   "outputs": [
    {
     "data": {
      "text/plain": [
       "0.8542864776064767"
      ]
     },
     "execution_count": 109,
     "metadata": {},
     "output_type": "execute_result"
    }
   ],
   "source": [
    "cohen_kappa_score(mayo_pred.values, mayo_true.values, weights='quadratic')"
   ]
  },
  {
   "cell_type": "markdown",
   "metadata": {},
   "source": [
    "## Test on Video data"
   ]
  },
  {
   "cell_type": "code",
   "execution_count": 8,
   "metadata": {},
   "outputs": [],
   "source": [
    "vfilenames = os.listdir(path+'all_video_images/')"
   ]
  },
  {
   "cell_type": "code",
   "execution_count": 9,
   "metadata": {},
   "outputs": [],
   "source": [
    "vfilenames = set(vfilenames)"
   ]
  },
  {
   "cell_type": "code",
   "execution_count": 10,
   "metadata": {},
   "outputs": [],
   "source": [
    "video_labels = pd.read_excel(path+'VideoTestSet_labels_27MAY2018.xlsx')"
   ]
  },
  {
   "cell_type": "code",
   "execution_count": 119,
   "metadata": {},
   "outputs": [
    {
     "data": {
      "text/plain": [
       "Index(['ID', 'basefile', 'pathname', 'file_seq', 'SubjectID', 'Mayo_0',\n",
       "       'Mayo_1', 'Mayo_2', 'Mayo_3'],\n",
       "      dtype='object')"
      ]
     },
     "execution_count": 119,
     "metadata": {},
     "output_type": "execute_result"
    }
   ],
   "source": [
    "video_labels.columns"
   ]
  },
  {
   "cell_type": "code",
   "execution_count": 11,
   "metadata": {},
   "outputs": [],
   "source": [
    "video_labels['filename'] = [s+b for s, b in zip(video_labels.SubjectID, video_labels.basefile)]"
   ]
  },
  {
   "cell_type": "code",
   "execution_count": 12,
   "metadata": {},
   "outputs": [],
   "source": [
    "video_labels = video_labels.loc[video_labels.filename.isin(vfilenames)]"
   ]
  },
  {
   "cell_type": "code",
   "execution_count": 13,
   "metadata": {},
   "outputs": [],
   "source": [
    "subjects = '001 007 008 010 037 045 046 052 057 060 061 Lycera_001 Lycera_002 Lycera_003 Lycera_005 Lycera_006 079 088 089 091 093 096'.split()"
   ]
  },
  {
   "cell_type": "code",
   "execution_count": 14,
   "metadata": {},
   "outputs": [],
   "source": [
    "video_labels = video_labels.loc[video_labels.SubjectID.isin(subjects)]"
   ]
  },
  {
   "cell_type": "code",
   "execution_count": 15,
   "metadata": {
    "scrolled": false
   },
   "outputs": [
    {
     "data": {
      "text/plain": [
       "22"
      ]
     },
     "execution_count": 15,
     "metadata": {},
     "output_type": "execute_result"
    }
   ],
   "source": [
    "len(video_labels.SubjectID.value_counts())"
   ]
  },
  {
   "cell_type": "code",
   "execution_count": 16,
   "metadata": {},
   "outputs": [],
   "source": [
    "video_labels = video_labels.loc[video_labels[['Mayo_0', 'Mayo_1', 'Mayo_2', 'Mayo_3']].apply(sum, axis=1)==1]"
   ]
  },
  {
   "cell_type": "code",
   "execution_count": 17,
   "metadata": {},
   "outputs": [],
   "source": [
    "video_labels = video_labels.dropna(subset=['filename', 'Mayo_0', 'Mayo_1', 'Mayo_2', 'Mayo_3'])"
   ]
  },
  {
   "cell_type": "code",
   "execution_count": 18,
   "metadata": {},
   "outputs": [],
   "source": [
    "video_labels['split0_123'] = (~video_labels.Mayo_0).astype(int)\n",
    "video_labels['split01_23'] = (video_labels.Mayo_2 | video_labels.Mayo_3).astype(int)\n",
    "video_labels['split012_3'] = video_labels.Mayo_3.astype(int)"
   ]
  },
  {
   "cell_type": "code",
   "execution_count": 19,
   "metadata": {},
   "outputs": [],
   "source": [
    "video_labels['Mayo_score'] = 0\n",
    "video_labels.loc[video_labels.Mayo_1, 'Mayo_score'] = 1\n",
    "video_labels.loc[video_labels.Mayo_2, 'Mayo_score'] = 2\n",
    "video_labels.loc[video_labels.Mayo_3, 'Mayo_score'] = 3"
   ]
  },
  {
   "cell_type": "code",
   "execution_count": 20,
   "metadata": {
    "scrolled": true
   },
   "outputs": [
    {
     "data": {
      "text/plain": [
       "0    5605\n",
       "1     977\n",
       "2     659\n",
       "3     256\n",
       "Name: Mayo_score, dtype: int64"
      ]
     },
     "execution_count": 20,
     "metadata": {},
     "output_type": "execute_result"
    }
   ],
   "source": [
    "video_labels.Mayo_score.value_counts()"
   ]
  },
  {
   "cell_type": "code",
   "execution_count": 21,
   "metadata": {
    "scrolled": true
   },
   "outputs": [
    {
     "data": {
      "text/plain": [
       "(7497, 14)"
      ]
     },
     "execution_count": 21,
     "metadata": {},
     "output_type": "execute_result"
    }
   ],
   "source": [
    "video_labels.shape"
   ]
  },
  {
   "cell_type": "code",
   "execution_count": 22,
   "metadata": {},
   "outputs": [],
   "source": [
    "video_labels.to_csv(path+'video_labels.csv', index=False)"
   ]
  },
  {
   "cell_type": "markdown",
   "metadata": {},
   "source": [
    "### Prediction by 3 binary model"
   ]
  },
  {
   "cell_type": "code",
   "execution_count": 47,
   "metadata": {
    "scrolled": false
   },
   "outputs": [
    {
     "name": "stdout",
     "output_type": "stream",
     "text": [
      "Found 15072 images in the directory.\n",
      "Using Mayo_score as categorical label, with levels: {0: 0, 1: 1, 2: 2, 3: 3}\n",
      "Using 7497 images to generate mini-batches.\n"
     ]
    }
   ],
   "source": [
    "tst_gen = ImageFrameGenerator()\n",
    "tst_itr = tst_gen.flow_from_frame(path+'all_video_images/', video_labels, 'filename', \n",
    "                                   ['Mayo_score'], label_types=['categorical'], \n",
    "                                     target_size=(256, 320), batch_size=batch_size, shuffle=False)"
   ]
  },
  {
   "cell_type": "code",
   "execution_count": 48,
   "metadata": {},
   "outputs": [],
   "source": [
    "base_model = InceptionV3(weights='imagenet', include_top=False)\n",
    "\n",
    "x = base_model.output\n",
    "x = GlobalAveragePooling2D()(x)\n",
    "\n",
    "output1 = Dense(2, activation='softmax', name='split0_123')(x)\n",
    "output2 = Dense(2, activation='softmax', name='split01_23')(x)\n",
    "output3 = Dense(2, activation='softmax', name='split012_3')(x)\n",
    "\n",
    "model = Model(inputs=base_model.input, outputs=[output1, output2, output3])"
   ]
  },
  {
   "cell_type": "code",
   "execution_count": 73,
   "metadata": {},
   "outputs": [],
   "source": [
    "model.load_weights(model_path+'binary3_valloss_0528.h5')"
   ]
  },
  {
   "cell_type": "code",
   "execution_count": 74,
   "metadata": {},
   "outputs": [
    {
     "name": "stdout",
     "output_type": "stream",
     "text": [
      "235/235 [==============================] - 208s 884ms/step\n"
     ]
    }
   ],
   "source": [
    "y = model.predict_generator(tst_itr, verbose=1)"
   ]
  },
  {
   "cell_type": "code",
   "execution_count": 75,
   "metadata": {},
   "outputs": [],
   "source": [
    "y_pred = np.concatenate([l[:, 1].reshape((l.shape[0], 1)) for l in y], axis=1)"
   ]
  },
  {
   "cell_type": "code",
   "execution_count": 76,
   "metadata": {},
   "outputs": [],
   "source": [
    "y_true = video_labels[['split0_123', 'split01_23', 'split012_3']].values"
   ]
  },
  {
   "cell_type": "code",
   "execution_count": 53,
   "metadata": {},
   "outputs": [
    {
     "data": {
      "text/plain": [
       "((7497, 3), (7497, 3))"
      ]
     },
     "execution_count": 53,
     "metadata": {},
     "output_type": "execute_result"
    }
   ],
   "source": [
    "y_pred.shape, y_true.shape"
   ]
  },
  {
   "cell_type": "code",
   "execution_count": 77,
   "metadata": {
    "scrolled": true
   },
   "outputs": [
    {
     "data": {
      "text/plain": [
       "{0: 0.9630059803897532, 1: 0.9805663068511073, 2: 0.9941527629125811}"
      ]
     },
     "execution_count": 77,
     "metadata": {},
     "output_type": "execute_result"
    },
    {
     "data": {
      "image/png": "[encoded data removed]",
      "text/plain": [
       "<Figure size 432x288 with 1 Axes>"
      ]
     },
     "metadata": {},
     "output_type": "display_data"
    }
   ],
   "source": [
    "plot_roc(y_pred, y_true, classes=['split0_123', 'split01_23', 'split012_3'])"
   ]
  },
  {
   "cell_type": "code",
   "execution_count": 68,
   "metadata": {},
   "outputs": [],
   "source": [
    "score4 = np.zeros((y_pred.shape[0], y_pred.shape[1]+1), dtype=float)"
   ]
  },
  {
   "cell_type": "code",
   "execution_count": 69,
   "metadata": {},
   "outputs": [],
   "source": [
    "score4[:, 0] = 1 - y_pred[:, 0]\n",
    "score4[:, 1] = y_pred[:, 0]*(1-y_pred[:,1])\n",
    "score4[:, 2] = y_pred[:, 0]*y_pred[:,1]*(1-y_pred[:,2])\n",
    "score4[:, 3] = y_pred[:, 0]*y_pred[:,1]*y_pred[:,2]"
   ]
  },
  {
   "cell_type": "code",
   "execution_count": 70,
   "metadata": {},
   "outputs": [],
   "source": [
    "mayo_pred = pd.Series(score4.argmax(axis=1), name='Mayo_pred')"
   ]
  },
  {
   "cell_type": "code",
   "execution_count": 58,
   "metadata": {},
   "outputs": [],
   "source": [
    "mayo_true = video_labels.Mayo_score.reset_index(drop=True)\n",
    "mayo_true.name = 'Mayo_true'"
   ]
  },
  {
   "cell_type": "code",
   "execution_count": 66,
   "metadata": {
    "scrolled": false
   },
   "outputs": [
    {
     "data": {
      "text/html": [
       "<div>\n",
       "<style scoped>\n",
       "    .dataframe tbody tr th:only-of-type {\n",
       "        vertical-align: middle;\n",
       "    }\n",
       "\n",
       "    .dataframe tbody tr th {\n",
       "        vertical-align: top;\n",
       "    }\n",
       "\n",
       "    .dataframe thead th {\n",
       "        text-align: right;\n",
       "    }\n",
       "</style>\n",
       "<table border=\"1\" class=\"dataframe\">\n",
       "  <thead>\n",
       "    <tr style=\"text-align: right;\">\n",
       "      <th>Mayo_pred</th>\n",
       "      <th>0</th>\n",
       "      <th>1</th>\n",
       "      <th>2</th>\n",
       "      <th>3</th>\n",
       "      <th>All</th>\n",
       "    </tr>\n",
       "    <tr>\n",
       "      <th>Mayo_true</th>\n",
       "      <th></th>\n",
       "      <th></th>\n",
       "      <th></th>\n",
       "      <th></th>\n",
       "      <th></th>\n",
       "    </tr>\n",
       "  </thead>\n",
       "  <tbody>\n",
       "    <tr>\n",
       "      <th>0</th>\n",
       "      <td>5038</td>\n",
       "      <td>490</td>\n",
       "      <td>48</td>\n",
       "      <td>29</td>\n",
       "      <td>5605</td>\n",
       "    </tr>\n",
       "    <tr>\n",
       "      <th>1</th>\n",
       "      <td>140</td>\n",
       "      <td>711</td>\n",
       "      <td>115</td>\n",
       "      <td>11</td>\n",
       "      <td>977</td>\n",
       "    </tr>\n",
       "    <tr>\n",
       "      <th>2</th>\n",
       "      <td>20</td>\n",
       "      <td>123</td>\n",
       "      <td>434</td>\n",
       "      <td>82</td>\n",
       "      <td>659</td>\n",
       "    </tr>\n",
       "    <tr>\n",
       "      <th>3</th>\n",
       "      <td>0</td>\n",
       "      <td>1</td>\n",
       "      <td>19</td>\n",
       "      <td>236</td>\n",
       "      <td>256</td>\n",
       "    </tr>\n",
       "    <tr>\n",
       "      <th>All</th>\n",
       "      <td>5198</td>\n",
       "      <td>1325</td>\n",
       "      <td>616</td>\n",
       "      <td>358</td>\n",
       "      <td>7497</td>\n",
       "    </tr>\n",
       "  </tbody>\n",
       "</table>\n",
       "</div>"
      ],
      "text/plain": [
       "Mayo_pred     0     1    2    3   All\n",
       "Mayo_true                            \n",
       "0          5038   490   48   29  5605\n",
       "1           140   711  115   11   977\n",
       "2            20   123  434   82   659\n",
       "3             0     1   19  236   256\n",
       "All        5198  1325  616  358  7497"
      ]
     },
     "execution_count": 66,
     "metadata": {},
     "output_type": "execute_result"
    }
   ],
   "source": [
    "pd.crosstab(index=mayo_true, columns=mayo_pred, margins=True)"
   ]
  },
  {
   "cell_type": "code",
   "execution_count": 67,
   "metadata": {
    "scrolled": true
   },
   "outputs": [
    {
     "data": {
      "text/html": [
       "<div>\n",
       "<style scoped>\n",
       "    .dataframe tbody tr th:only-of-type {\n",
       "        vertical-align: middle;\n",
       "    }\n",
       "\n",
       "    .dataframe tbody tr th {\n",
       "        vertical-align: top;\n",
       "    }\n",
       "\n",
       "    .dataframe thead th {\n",
       "        text-align: right;\n",
       "    }\n",
       "</style>\n",
       "<table border=\"1\" class=\"dataframe\">\n",
       "  <thead>\n",
       "    <tr style=\"text-align: right;\">\n",
       "      <th>Mayo_pred</th>\n",
       "      <th>0</th>\n",
       "      <th>1</th>\n",
       "      <th>2</th>\n",
       "      <th>3</th>\n",
       "    </tr>\n",
       "    <tr>\n",
       "      <th>Mayo_true</th>\n",
       "      <th></th>\n",
       "      <th></th>\n",
       "      <th></th>\n",
       "      <th></th>\n",
       "    </tr>\n",
       "  </thead>\n",
       "  <tbody>\n",
       "    <tr>\n",
       "      <th>0</th>\n",
       "      <td>0.898840</td>\n",
       "      <td>0.087422</td>\n",
       "      <td>0.008564</td>\n",
       "      <td>0.005174</td>\n",
       "    </tr>\n",
       "    <tr>\n",
       "      <th>1</th>\n",
       "      <td>0.143296</td>\n",
       "      <td>0.727738</td>\n",
       "      <td>0.117707</td>\n",
       "      <td>0.011259</td>\n",
       "    </tr>\n",
       "    <tr>\n",
       "      <th>2</th>\n",
       "      <td>0.030349</td>\n",
       "      <td>0.186646</td>\n",
       "      <td>0.658574</td>\n",
       "      <td>0.124431</td>\n",
       "    </tr>\n",
       "    <tr>\n",
       "      <th>3</th>\n",
       "      <td>0.000000</td>\n",
       "      <td>0.003906</td>\n",
       "      <td>0.074219</td>\n",
       "      <td>0.921875</td>\n",
       "    </tr>\n",
       "  </tbody>\n",
       "</table>\n",
       "</div>"
      ],
      "text/plain": [
       "Mayo_pred         0         1         2         3\n",
       "Mayo_true                                        \n",
       "0          0.898840  0.087422  0.008564  0.005174\n",
       "1          0.143296  0.727738  0.117707  0.011259\n",
       "2          0.030349  0.186646  0.658574  0.124431\n",
       "3          0.000000  0.003906  0.074219  0.921875"
      ]
     },
     "execution_count": 67,
     "metadata": {},
     "output_type": "execute_result"
    }
   ],
   "source": [
    "pd.crosstab(index=mayo_true, columns=mayo_pred, normalize='index')"
   ]
  },
  {
   "cell_type": "code",
   "execution_count": 71,
   "metadata": {},
   "outputs": [
    {
     "data": {
      "text/plain": [
       "0.7274866302283287"
      ]
     },
     "execution_count": 71,
     "metadata": {},
     "output_type": "execute_result"
    }
   ],
   "source": [
    "cohen_kappa_score(mayo_pred.values, mayo_true.values, weights='linear')"
   ]
  },
  {
   "cell_type": "code",
   "execution_count": 72,
   "metadata": {},
   "outputs": [
    {
     "data": {
      "text/plain": [
       "0.8118400398385246"
      ]
     },
     "execution_count": 72,
     "metadata": {},
     "output_type": "execute_result"
    }
   ],
   "source": [
    "cohen_kappa_score(mayo_pred.values, mayo_true.values, weights='quadratic')"
   ]
  },
  {
   "cell_type": "markdown",
   "metadata": {},
   "source": [
    "## Cross Validation\n",
    "\n",
    "### Splitting for 10-fold cross validation"
   ]
  },
  {
   "cell_type": "code",
   "execution_count": 64,
   "metadata": {},
   "outputs": [],
   "source": [
    "from sklearn.model_selection import GroupKFold"
   ]
  },
  {
   "cell_type": "code",
   "execution_count": 58,
   "metadata": {},
   "outputs": [],
   "source": [
    "train_df = pd.read_csv(path+'train_labels.csv')\n",
    "tst_df = pd.read_csv(path+'tst_labels.csv')"
   ]
  },
  {
   "cell_type": "code",
   "execution_count": 59,
   "metadata": {},
   "outputs": [],
   "source": [
    "all_df = pd.concat([train_df, tst_df])"
   ]
  },
  {
   "cell_type": "code",
   "execution_count": 60,
   "metadata": {},
   "outputs": [],
   "source": [
    "all_df = all_df.reset_index(drop=True)"
   ]
  },
  {
   "cell_type": "code",
   "execution_count": 63,
   "metadata": {},
   "outputs": [
    {
     "data": {
      "text/plain": [
       "((16514, 10), 3082)"
      ]
     },
     "execution_count": 63,
     "metadata": {},
     "output_type": "execute_result"
    }
   ],
   "source": [
    "all_df.shape, len(all_df.SourceReportName.value_counts())"
   ]
  },
  {
   "cell_type": "code",
   "execution_count": 67,
   "metadata": {},
   "outputs": [],
   "source": [
    "split = GroupKFold(n_splits=10)"
   ]
  },
  {
   "cell_type": "code",
   "execution_count": 68,
   "metadata": {},
   "outputs": [],
   "source": [
    "fold = 0\n",
    "for train_ind, tst_ind in split.split(all_df, groups=all_df.SourceReportName):\n",
    "    train_df = all_df.loc[train_ind]\n",
    "    tst_df = all_df.loc[tst_ind]\n",
    "    train_df.to_csv(path+'CV_adjudication/train_labels'+str(fold)+'.csv', index=False)\n",
    "    tst_df.to_csv(path+'CV_adjudication/tst_labels'+str(fold)+'.csv', index=False)\n",
    "    fold += 1"
   ]
  },
  {
   "cell_type": "code",
   "execution_count": 69,
   "metadata": {},
   "outputs": [],
   "source": [
    "patient_sets = []\n",
    "for j in range(10):\n",
    "    df = pd.read_csv(path+'CV_adjudication/tst_labels'+str(j)+'.csv')\n",
    "    patient_sets.append(set(df.SourceReportName))"
   ]
  },
  {
   "cell_type": "code",
   "execution_count": 70,
   "metadata": {},
   "outputs": [
    {
     "data": {
      "text/plain": [
       "[308, 308, 309, 309, 308, 308, 308, 308, 308, 308]"
      ]
     },
     "execution_count": 70,
     "metadata": {},
     "output_type": "execute_result"
    }
   ],
   "source": [
    "[len(s) for s in patient_sets]"
   ]
  },
  {
   "cell_type": "code",
   "execution_count": 75,
   "metadata": {},
   "outputs": [
    {
     "name": "stdout",
     "output_type": "stream",
     "text": [
      "0\n",
      "0\n",
      "0\n",
      "0\n",
      "0\n",
      "0\n",
      "0\n",
      "308\n",
      "0\n",
      "0\n"
     ]
    }
   ],
   "source": [
    "for ps in patient_sets:\n",
    "    print(len(patient_sets[7].intersection(ps)))"
   ]
  },
  {
   "cell_type": "markdown",
   "metadata": {},
   "source": [
    "### Summary of Results"
   ]
  },
  {
   "cell_type": "code",
   "execution_count": 28,
   "metadata": {},
   "outputs": [],
   "source": [
    "from sklearn.metrics import roc_curve, auc"
   ]
  },
  {
   "cell_type": "code",
   "execution_count": 29,
   "metadata": {},
   "outputs": [],
   "source": [
    "base_model = InceptionV3(weights='imagenet', include_top=False)\n",
    "\n",
    "x = base_model.output\n",
    "x = GlobalAveragePooling2D()(x)\n",
    "\n",
    "output1 = Dense(2, activation='softmax', name='split0_123')(x)\n",
    "output2 = Dense(2, activation='softmax', name='split01_23')(x)\n",
    "output3 = Dense(2, activation='softmax', name='split012_3')(x)\n",
    "\n",
    "model = Model(inputs=base_model.input, outputs=[output1, output2, output3])"
   ]
  },
  {
   "cell_type": "code",
   "execution_count": 30,
   "metadata": {
    "scrolled": true
   },
   "outputs": [],
   "source": [
    "validation_gen = ImageFrameGenerator()"
   ]
  },
  {
   "cell_type": "code",
   "execution_count": 36,
   "metadata": {},
   "outputs": [],
   "source": [
    "auc01_23 = []\n",
    "acc01 = []\n",
    "acc23 = []\n",
    "acc0 = []\n",
    "acc1 = []\n",
    "acc2 = []\n",
    "acc3 = []\n",
    "kappa_linear = []\n",
    "kappa_quad = []"
   ]
  },
  {
   "cell_type": "code",
   "execution_count": 37,
   "metadata": {},
   "outputs": [
    {
     "name": "stdout",
     "output_type": "stream",
     "text": [
      "Found 14830 images in the directory.\n",
      "Using split0_123 as categorical label, with levels: {0: 0, 1: 1}\n",
      "Using split01_23 as categorical label, with levels: {0: 0, 1: 1}\n",
      "Using split012_3 as categorical label, with levels: {0: 0, 1: 1}\n",
      "Using 1518 images to generate mini-batches.\n",
      "48/48 [==============================] - 26s 550ms/step\n",
      "Found 14830 images in the directory.\n",
      "Using split0_123 as categorical label, with levels: {0: 0, 1: 1}\n",
      "Using split01_23 as categorical label, with levels: {0: 0, 1: 1}\n",
      "Using split012_3 as categorical label, with levels: {0: 0, 1: 1}\n",
      "Using 1496 images to generate mini-batches.\n",
      "47/47 [==============================] - 22s 478ms/step\n",
      "Found 14830 images in the directory.\n",
      "Using split0_123 as categorical label, with levels: {0: 0, 1: 1}\n",
      "Using split01_23 as categorical label, with levels: {0: 0, 1: 1}\n",
      "Using split012_3 as categorical label, with levels: {0: 0, 1: 1}\n",
      "Using 1572 images to generate mini-batches.\n",
      "50/50 [==============================] - 23s 463ms/step\n",
      "Found 14830 images in the directory.\n",
      "Using split0_123 as categorical label, with levels: {0: 0, 1: 1}\n",
      "Using split01_23 as categorical label, with levels: {0: 0, 1: 1}\n",
      "Using split012_3 as categorical label, with levels: {0: 0, 1: 1}\n",
      "Using 1480 images to generate mini-batches.\n",
      "47/47 [==============================] - 22s 469ms/step\n",
      "Found 14830 images in the directory.\n",
      "Using split0_123 as categorical label, with levels: {0: 0, 1: 1}\n",
      "Using split01_23 as categorical label, with levels: {0: 0, 1: 1}\n",
      "Using split012_3 as categorical label, with levels: {0: 0, 1: 1}\n",
      "Using 1542 images to generate mini-batches.\n",
      "49/49 [==============================] - 23s 464ms/step\n",
      "Found 14830 images in the directory.\n",
      "Using split0_123 as categorical label, with levels: {0: 0, 1: 1}\n",
      "Using split01_23 as categorical label, with levels: {0: 0, 1: 1}\n",
      "Using split012_3 as categorical label, with levels: {0: 0, 1: 1}\n",
      "Using 1486 images to generate mini-batches.\n",
      "47/47 [==============================] - 21s 457ms/step\n",
      "Found 14830 images in the directory.\n",
      "Using split0_123 as categorical label, with levels: {0: 0, 1: 1}\n",
      "Using split01_23 as categorical label, with levels: {0: 0, 1: 1}\n",
      "Using split012_3 as categorical label, with levels: {0: 0, 1: 1}\n",
      "Using 1448 images to generate mini-batches.\n",
      "46/46 [==============================] - 21s 458ms/step\n",
      "Found 14830 images in the directory.\n",
      "Using split0_123 as categorical label, with levels: {0: 0, 1: 1}\n",
      "Using split01_23 as categorical label, with levels: {0: 0, 1: 1}\n",
      "Using split012_3 as categorical label, with levels: {0: 0, 1: 1}\n",
      "Using 1502 images to generate mini-batches.\n",
      "47/47 [==============================] - 23s 484ms/step\n",
      "Found 14830 images in the directory.\n",
      "Using split0_123 as categorical label, with levels: {0: 0, 1: 1}\n",
      "Using split01_23 as categorical label, with levels: {0: 0, 1: 1}\n",
      "Using split012_3 as categorical label, with levels: {0: 0, 1: 1}\n",
      "Using 1480 images to generate mini-batches.\n",
      "47/47 [==============================] - 21s 455ms/step\n",
      "Found 14830 images in the directory.\n",
      "Using split0_123 as categorical label, with levels: {0: 0, 1: 1}\n",
      "Using split01_23 as categorical label, with levels: {0: 0, 1: 1}\n",
      "Using split012_3 as categorical label, with levels: {0: 0, 1: 1}\n",
      "Using 1479 images to generate mini-batches.\n",
      "47/47 [==============================] - 22s 468ms/step\n"
     ]
    }
   ],
   "source": [
    "for cv in range(1, 11):\n",
    "    tst_df = pd.read_csv(path+'cross_validation/tst_labels'+str(cv)+'.csv')\n",
    "    tst_df = tst_df.reset_index(drop=True)\n",
    "    tst_itr = validation_gen.flow_from_frame(data_path, tst_df, 'basefile', ['split0_123', 'split01_23', 'split012_3'], \n",
    "                                     target_size=(256, 320), label_types = ['categorical']*3, batch_size=batch_size, \n",
    "                                         shuffle=False)\n",
    "    model.load_weights(model_path+'cross_validation/binary3_auc'+str(cv)+'.h5')\n",
    "    y = model.predict_generator(tst_itr, verbose=1)\n",
    "\n",
    "    y_pred = np.concatenate([l[:, 1].reshape((l.shape[0], 1)) for l in y], axis=1)\n",
    "    y_true = tst_df[['split0_123', 'split01_23', 'split012_3']].values\n",
    "\n",
    "    fpr, tpr, _ = roc_curve(y_true[:, 1], y_pred[:, 1])\n",
    "    auc01_23.append(auc(fpr, tpr))\n",
    "    \n",
    "    acc01.append(sum((y_pred[:, 1]<0.5) & (y_true[:, 1]==0))/sum(y_true[:, 1]==0))\n",
    "    acc23.append(sum((y_pred[:, 1]>0.5) & (y_true[:, 1]==1))/sum(y_true[:, 1]==1))\n",
    "    \n",
    "    score4 = np.zeros((y_pred.shape[0], y_pred.shape[1]+1), dtype=float)\n",
    "    score4[:, 0] = 1 - y_pred[:, 0]\n",
    "    score4[:, 1] = y_pred[:, 0]*(1-y_pred[:,1])\n",
    "    score4[:, 2] = y_pred[:, 0]*y_pred[:,1]*(1-y_pred[:,2])\n",
    "    score4[:, 3] = y_pred[:, 0]*y_pred[:,1]*y_pred[:,2]\n",
    "\n",
    "    mayo_pred = pd.Series(score4.argmax(axis=1), name='Mayo_pred')\n",
    "    mayo_true = tst_df.Mayo_score\n",
    "    mayo_true.name = 'Mayo_true'\n",
    "    \n",
    "    acc0.append(sum((mayo_pred==0) & (mayo_true==0))/sum(mayo_true==0))\n",
    "    acc1.append(sum((mayo_pred==1) & (mayo_true==1))/sum(mayo_true==1))\n",
    "    acc2.append(sum((mayo_pred==2) & (mayo_true==2))/sum(mayo_true==2))\n",
    "    acc3.append(sum((mayo_pred==3) & (mayo_true==3))/sum(mayo_true==3))\n",
    "\n",
    "    kappa_linear.append(cohen_kappa_score(mayo_pred.values, mayo_true.values, weights='linear'))\n",
    "    kappa_quad.append(cohen_kappa_score(mayo_pred.values, mayo_true.values, weights='quadratic'))"
   ]
  },
  {
   "cell_type": "code",
   "execution_count": 11,
   "metadata": {},
   "outputs": [],
   "source": [
    "import statsmodels.stats.api as sms"
   ]
  },
  {
   "cell_type": "code",
   "execution_count": 38,
   "metadata": {},
   "outputs": [],
   "source": [
    "np.savez('output/cv_auc.npz', auc01_23=auc01_23, acc01=acc01, acc23=acc23, acc0=acc0, acc1=acc1, acc2=acc2, acc3=acc3, \n",
    "         kappa_l=kappa_linear, kappa_q=kappa_quad)"
   ]
  },
  {
   "cell_type": "code",
   "execution_count": 38,
   "metadata": {},
   "outputs": [],
   "source": [
    "load = np.load('output/cv.npz')"
   ]
  },
  {
   "cell_type": "code",
   "execution_count": 49,
   "metadata": {},
   "outputs": [
    {
     "name": "stdout",
     "output_type": "stream",
     "text": [
      "0.9779\n",
      "(0.9755, 0.9802)\n"
     ]
    }
   ],
   "source": [
    "print('{0:.4f}'.format(np.mean(load['auc01_23'])))\n",
    "\n",
    "print('({0:.4f}, {1:.4f})'.format(*sms.DescrStatsW(load['auc01_23']).tconfint_mean()))"
   ]
  },
  {
   "cell_type": "code",
   "execution_count": 40,
   "metadata": {},
   "outputs": [
    {
     "data": {
      "text/plain": [
       "array([0.86261234, 0.85801092, 0.84547595, 0.84217488, 0.85860648,\n",
       "       0.84099532, 0.87636452, 0.86569853, 0.8550634 , 0.84805459])"
      ]
     },
     "execution_count": 40,
     "metadata": {},
     "output_type": "execute_result"
    }
   ],
   "source": [
    "load['kappa_q']"
   ]
  },
  {
   "cell_type": "code",
   "execution_count": 47,
   "metadata": {},
   "outputs": [
    {
     "name": "stdout",
     "output_type": "stream",
     "text": [
      "Found 14830 images in the directory.\n",
      "Using split0_123 as categorical label, with levels: {0: 0, 1: 1}\n",
      "Using split01_23 as categorical label, with levels: {0: 0, 1: 1}\n",
      "Using split012_3 as categorical label, with levels: {0: 0, 1: 1}\n",
      "Using 1480 images to generate mini-batches.\n"
     ]
    }
   ],
   "source": [
    "tst_df = pd.read_csv(path+'cross_validation/tst_labels9.csv')\n",
    "tst_df = tst_df.reset_index(drop=True)\n",
    "tst_itr = validation_gen.flow_from_frame(data_path, tst_df, 'basefile', ['split0_123', 'split01_23', 'split012_3'], \n",
    "                                     target_size=(256, 320), label_types = ['categorical']*3, batch_size=batch_size, \n",
    "                                         shuffle=False)"
   ]
  },
  {
   "cell_type": "code",
   "execution_count": 48,
   "metadata": {},
   "outputs": [
    {
     "name": "stdout",
     "output_type": "stream",
     "text": [
      "47/47 [==============================] - 28s 594ms/step\n"
     ]
    }
   ],
   "source": [
    "model.load_weights(model_path+'cross_validation/binary3_valloss9.h5')\n",
    "y = model.predict_generator(tst_itr, verbose=1)"
   ]
  },
  {
   "cell_type": "code",
   "execution_count": 49,
   "metadata": {},
   "outputs": [],
   "source": [
    "y_pred = np.concatenate([l[:, 1].reshape((l.shape[0], 1)) for l in y], axis=1)\n",
    "y_true = tst_df[['split0_123', 'split01_23', 'split012_3']].values\n",
    "    \n",
    "score4 = np.zeros((y_pred.shape[0], y_pred.shape[1]+1), dtype=float)\n",
    "score4[:, 0] = 1 - y_pred[:, 0]\n",
    "score4[:, 1] = y_pred[:, 0]*(1-y_pred[:,1])\n",
    "score4[:, 2] = y_pred[:, 0]*y_pred[:,1]*(1-y_pred[:,2])\n",
    "score4[:, 3] = y_pred[:, 0]*y_pred[:,1]*y_pred[:,2]\n",
    "\n",
    "mayo_pred = pd.Series(score4.argmax(axis=1), name='Mayo_pred')\n",
    "mayo_true = tst_df.Mayo_score\n",
    "mayo_true.name = 'Mayo_true'"
   ]
  },
  {
   "cell_type": "code",
   "execution_count": 50,
   "metadata": {
    "scrolled": true
   },
   "outputs": [
    {
     "data": {
      "text/plain": [
       "{0: 0.984615437565178}"
      ]
     },
     "execution_count": 50,
     "metadata": {},
     "output_type": "execute_result"
    },
    {
     "data": {
      "image/png": "[encoded data removed]",
      "text/plain": [
       "<Figure size 432x288 with 1 Axes>"
      ]
     },
     "metadata": {},
     "output_type": "display_data"
    }
   ],
   "source": [
    "plot_roc(y_pred[:, 1], y_true[:, 1], classes=['Mayo 01 vs. 23'], title='ROC for Normal-Mild vs. Moderate-Severe', \n",
    "         savefile = 'output/roc01_23.tiff')"
   ]
  },
  {
   "cell_type": "code",
   "execution_count": 51,
   "metadata": {
    "scrolled": false
   },
   "outputs": [
    {
     "data": {
      "text/html": [
       "<div>\n",
       "<style scoped>\n",
       "    .dataframe tbody tr th:only-of-type {\n",
       "        vertical-align: middle;\n",
       "    }\n",
       "\n",
       "    .dataframe tbody tr th {\n",
       "        vertical-align: top;\n",
       "    }\n",
       "\n",
       "    .dataframe thead th {\n",
       "        text-align: right;\n",
       "    }\n",
       "</style>\n",
       "<table border=\"1\" class=\"dataframe\">\n",
       "  <thead>\n",
       "    <tr style=\"text-align: right;\">\n",
       "      <th>Mayo_pred</th>\n",
       "      <th>0</th>\n",
       "      <th>1</th>\n",
       "      <th>2</th>\n",
       "      <th>3</th>\n",
       "      <th>All</th>\n",
       "    </tr>\n",
       "    <tr>\n",
       "      <th>Mayo_true</th>\n",
       "      <th></th>\n",
       "      <th></th>\n",
       "      <th></th>\n",
       "      <th></th>\n",
       "      <th></th>\n",
       "    </tr>\n",
       "  </thead>\n",
       "  <tbody>\n",
       "    <tr>\n",
       "      <th>0</th>\n",
       "      <td>863</td>\n",
       "      <td>58</td>\n",
       "      <td>4</td>\n",
       "      <td>0</td>\n",
       "      <td>925</td>\n",
       "    </tr>\n",
       "    <tr>\n",
       "      <th>1</th>\n",
       "      <td>135</td>\n",
       "      <td>167</td>\n",
       "      <td>19</td>\n",
       "      <td>1</td>\n",
       "      <td>322</td>\n",
       "    </tr>\n",
       "    <tr>\n",
       "      <th>2</th>\n",
       "      <td>2</td>\n",
       "      <td>40</td>\n",
       "      <td>61</td>\n",
       "      <td>10</td>\n",
       "      <td>113</td>\n",
       "    </tr>\n",
       "    <tr>\n",
       "      <th>3</th>\n",
       "      <td>0</td>\n",
       "      <td>10</td>\n",
       "      <td>27</td>\n",
       "      <td>83</td>\n",
       "      <td>120</td>\n",
       "    </tr>\n",
       "    <tr>\n",
       "      <th>All</th>\n",
       "      <td>1000</td>\n",
       "      <td>275</td>\n",
       "      <td>111</td>\n",
       "      <td>94</td>\n",
       "      <td>1480</td>\n",
       "    </tr>\n",
       "  </tbody>\n",
       "</table>\n",
       "</div>"
      ],
      "text/plain": [
       "Mayo_pred     0    1    2   3   All\n",
       "Mayo_true                          \n",
       "0           863   58    4   0   925\n",
       "1           135  167   19   1   322\n",
       "2             2   40   61  10   113\n",
       "3             0   10   27  83   120\n",
       "All        1000  275  111  94  1480"
      ]
     },
     "execution_count": 51,
     "metadata": {},
     "output_type": "execute_result"
    }
   ],
   "source": [
    "pd.crosstab(index=mayo_true, columns=mayo_pred, margins=True)"
   ]
  },
  {
   "cell_type": "code",
   "execution_count": 52,
   "metadata": {
    "scrolled": false
   },
   "outputs": [
    {
     "data": {
      "text/html": [
       "<div>\n",
       "<style scoped>\n",
       "    .dataframe tbody tr th:only-of-type {\n",
       "        vertical-align: middle;\n",
       "    }\n",
       "\n",
       "    .dataframe tbody tr th {\n",
       "        vertical-align: top;\n",
       "    }\n",
       "\n",
       "    .dataframe thead th {\n",
       "        text-align: right;\n",
       "    }\n",
       "</style>\n",
       "<table border=\"1\" class=\"dataframe\">\n",
       "  <thead>\n",
       "    <tr style=\"text-align: right;\">\n",
       "      <th>Mayo_pred</th>\n",
       "      <th>0</th>\n",
       "      <th>1</th>\n",
       "      <th>2</th>\n",
       "      <th>3</th>\n",
       "    </tr>\n",
       "    <tr>\n",
       "      <th>Mayo_true</th>\n",
       "      <th></th>\n",
       "      <th></th>\n",
       "      <th></th>\n",
       "      <th></th>\n",
       "    </tr>\n",
       "  </thead>\n",
       "  <tbody>\n",
       "    <tr>\n",
       "      <th>0</th>\n",
       "      <td>0.932973</td>\n",
       "      <td>0.062703</td>\n",
       "      <td>0.004324</td>\n",
       "      <td>0.000000</td>\n",
       "    </tr>\n",
       "    <tr>\n",
       "      <th>1</th>\n",
       "      <td>0.419255</td>\n",
       "      <td>0.518634</td>\n",
       "      <td>0.059006</td>\n",
       "      <td>0.003106</td>\n",
       "    </tr>\n",
       "    <tr>\n",
       "      <th>2</th>\n",
       "      <td>0.017699</td>\n",
       "      <td>0.353982</td>\n",
       "      <td>0.539823</td>\n",
       "      <td>0.088496</td>\n",
       "    </tr>\n",
       "    <tr>\n",
       "      <th>3</th>\n",
       "      <td>0.000000</td>\n",
       "      <td>0.083333</td>\n",
       "      <td>0.225000</td>\n",
       "      <td>0.691667</td>\n",
       "    </tr>\n",
       "  </tbody>\n",
       "</table>\n",
       "</div>"
      ],
      "text/plain": [
       "Mayo_pred         0         1         2         3\n",
       "Mayo_true                                        \n",
       "0          0.932973  0.062703  0.004324  0.000000\n",
       "1          0.419255  0.518634  0.059006  0.003106\n",
       "2          0.017699  0.353982  0.539823  0.088496\n",
       "3          0.000000  0.083333  0.225000  0.691667"
      ]
     },
     "execution_count": 52,
     "metadata": {},
     "output_type": "execute_result"
    }
   ],
   "source": [
    "pd.crosstab(index=mayo_true, columns=mayo_pred, normalize='index')"
   ]
  },
  {
   "cell_type": "markdown",
   "metadata": {},
   "source": [
    "### Cross Validation on Video Data"
   ]
  },
  {
   "cell_type": "code",
   "execution_count": 7,
   "metadata": {},
   "outputs": [],
   "source": [
    "video_labels = pd.read_csv(path+'video_labels.csv')"
   ]
  },
  {
   "cell_type": "code",
   "execution_count": 8,
   "metadata": {
    "scrolled": true
   },
   "outputs": [
    {
     "name": "stdout",
     "output_type": "stream",
     "text": [
      "Found 15072 images in the directory.\n",
      "Using Mayo_score as categorical label, with levels: {0: 0, 1: 1, 2: 2, 3: 3}\n",
      "Using 7497 images to generate mini-batches.\n"
     ]
    }
   ],
   "source": [
    "tst_gen = ImageFrameGenerator()\n",
    "tst_itr = tst_gen.flow_from_frame(path+'all_video_images/', video_labels, 'filename', \n",
    "                                   ['Mayo_score'], label_types=['categorical'], \n",
    "                                     target_size=(256, 320), batch_size=batch_size, shuffle=False)"
   ]
  },
  {
   "cell_type": "code",
   "execution_count": 38,
   "metadata": {},
   "outputs": [],
   "source": [
    "auc01_23 = []\n",
    "acc01 = []\n",
    "acc23 = []\n",
    "acc0 = []\n",
    "acc1 = []\n",
    "acc2 = []\n",
    "acc3 = []\n",
    "kappa_linear = []\n",
    "kappa_quad = []"
   ]
  },
  {
   "cell_type": "code",
   "execution_count": null,
   "metadata": {},
   "outputs": [
    {
     "name": "stdout",
     "output_type": "stream",
     "text": [
      "221/235 [===========================>..] - ETA: 28s"
     ]
    }
   ],
   "source": [
    "for cv in range(1, 11):\n",
    "    model.load_weights(model_path+'cross_validation/binary3_valloss'+str(cv)+'.h5')\n",
    "    y = model.predict_generator(tst_itr, verbose=1)\n",
    "\n",
    "    y_pred = np.concatenate([l[:, 1].reshape((l.shape[0], 1)) for l in y], axis=1)\n",
    "    y_true = video_labels[['split0_123', 'split01_23', 'split012_3']].values\n",
    "\n",
    "    fpr, tpr, _ = roc_curve(y_true[:, 1], y_pred[:, 1])\n",
    "    auc01_23.append(auc(fpr, tpr))\n",
    "    \n",
    "    acc01.append(sum((y_pred[:, 1]<0.5) & (y_true[:, 1]==0))/sum(y_true[:, 1]==0))\n",
    "    acc23.append(sum((y_pred[:, 1]>0.5) & (y_true[:, 1]==1))/sum(y_true[:, 1]==1))\n",
    "    \n",
    "    score4 = np.zeros((y_pred.shape[0], y_pred.shape[1]+1), dtype=float)\n",
    "    score4[:, 0] = 1 - y_pred[:, 0]\n",
    "    score4[:, 1] = y_pred[:, 0]*(1-y_pred[:,1])\n",
    "    score4[:, 2] = y_pred[:, 0]*y_pred[:,1]*(1-y_pred[:,2])\n",
    "    score4[:, 3] = y_pred[:, 0]*y_pred[:,1]*y_pred[:,2]\n",
    "\n",
    "    mayo_pred = pd.Series(score4.argmax(axis=1), name='Mayo_pred')\n",
    "    mayo_true = video_df.Mayo_score\n",
    "    mayo_true.name = 'Mayo_true'\n",
    "    \n",
    "    acc0.append(sum((mayo_pred==0) & (mayo_true==0))/sum(mayo_true==0))\n",
    "    acc1.append(sum((mayo_pred==1) & (mayo_true==1))/sum(mayo_true==1))\n",
    "    acc2.append(sum((mayo_pred==2) & (mayo_true==2))/sum(mayo_true==2))\n",
    "    acc3.append(sum((mayo_pred==3) & (mayo_true==3))/sum(mayo_true==3))\n",
    "\n",
    "    kappa_linear.append(cohen_kappa_score(mayo_pred.values, mayo_true.values, weights='linear'))\n",
    "    kappa_quad.append(cohen_kappa_score(mayo_pred.values, mayo_true.values, weights='quadratic'))"
   ]
  },
  {
   "cell_type": "code",
   "execution_count": 9,
   "metadata": {},
   "outputs": [],
   "source": [
    "import statsmodels.stats.api as sms"
   ]
  },
  {
   "cell_type": "code",
   "execution_count": 38,
   "metadata": {},
   "outputs": [],
   "source": [
    "np.savez('output/cv_video.npz', auc01_23=auc01_23, acc01=acc01, acc23=acc23, acc0=acc0, acc1=acc1, acc2=acc2, acc3=acc3, \n",
    "         kappa_l=kappa_linear, kappa_q=kappa_quad)"
   ]
  },
  {
   "cell_type": "code",
   "execution_count": 11,
   "metadata": {},
   "outputs": [],
   "source": [
    "load = np.load('output/cv_video.csv.npz')"
   ]
  },
  {
   "cell_type": "code",
   "execution_count": 26,
   "metadata": {},
   "outputs": [
    {
     "name": "stdout",
     "output_type": "stream",
     "text": [
      "0.8208\n",
      "(0.8030, 0.8386)\n"
     ]
    }
   ],
   "source": [
    "quant = 'kappa_q'\n",
    "print('{0:.4f}'.format(np.mean(load[quant])))\n",
    "print('({0:.4f}, {1:.4f})'.format(*sms.DescrStatsW(load[quant]).tconfint_mean()))"
   ]
  },
  {
   "cell_type": "code",
   "execution_count": 27,
   "metadata": {},
   "outputs": [
    {
     "data": {
      "text/plain": [
       "array([0.84936455, 0.78959016, 0.82597789, 0.80483156, 0.81998876,\n",
       "       0.80572939, 0.82666238, 0.85805186, 0.78418327, 0.84335693])"
      ]
     },
     "execution_count": 27,
     "metadata": {},
     "output_type": "execute_result"
    }
   ],
   "source": [
    "load['kappa_q']"
   ]
  },
  {
   "cell_type": "code",
   "execution_count": 31,
   "metadata": {},
   "outputs": [
    {
     "name": "stdout",
     "output_type": "stream",
     "text": [
      "235/235 [==============================] - 257s 1s/step\n"
     ]
    }
   ],
   "source": [
    "model.load_weights(model_path+'cross_validation/binary3_valloss8.h5')\n",
    "y = model.predict_generator(tst_itr, verbose=1)"
   ]
  },
  {
   "cell_type": "code",
   "execution_count": 34,
   "metadata": {},
   "outputs": [],
   "source": [
    "y_pred = np.concatenate([l[:, 1].reshape((l.shape[0], 1)) for l in y], axis=1)\n",
    "y_true = video_labels[['split0_123', 'split01_23', 'split012_3']].values\n",
    "    \n",
    "score4 = np.zeros((y_pred.shape[0], y_pred.shape[1]+1), dtype=float)\n",
    "score4[:, 0] = 1 - y_pred[:, 0]\n",
    "score4[:, 1] = y_pred[:, 0]*(1-y_pred[:,1])\n",
    "score4[:, 2] = y_pred[:, 0]*y_pred[:,1]*(1-y_pred[:,2])\n",
    "score4[:, 3] = y_pred[:, 0]*y_pred[:,1]*y_pred[:,2]\n",
    "\n",
    "mayo_pred = pd.Series(score4.argmax(axis=1), name='Mayo_pred')\n",
    "mayo_true = video_labels.Mayo_score\n",
    "mayo_true.name = 'Mayo_true'"
   ]
  },
  {
   "cell_type": "code",
   "execution_count": 35,
   "metadata": {
    "scrolled": true
   },
   "outputs": [
    {
     "data": {
      "text/plain": [
       "{0: 0.9789437329494416}"
      ]
     },
     "execution_count": 35,
     "metadata": {},
     "output_type": "execute_result"
    },
    {
     "data": {
      "image/png": "[encoded data removed]",
      "text/plain": [
       "<Figure size 432x288 with 1 Axes>"
      ]
     },
     "metadata": {},
     "output_type": "display_data"
    }
   ],
   "source": [
    "plot_roc(y_pred[:, 1], y_true[:, 1], classes=['Mayo 01 vs. 23'], title='ROC for Normal-Mild vs. Moderate-Severe', \n",
    "         savefile = 'output/roc01_23_video.tiff')"
   ]
  },
  {
   "cell_type": "code",
   "execution_count": 36,
   "metadata": {
    "scrolled": false
   },
   "outputs": [
    {
     "data": {
      "text/html": [
       "<div>\n",
       "<style scoped>\n",
       "    .dataframe tbody tr th:only-of-type {\n",
       "        vertical-align: middle;\n",
       "    }\n",
       "\n",
       "    .dataframe tbody tr th {\n",
       "        vertical-align: top;\n",
       "    }\n",
       "\n",
       "    .dataframe thead th {\n",
       "        text-align: right;\n",
       "    }\n",
       "</style>\n",
       "<table border=\"1\" class=\"dataframe\">\n",
       "  <thead>\n",
       "    <tr style=\"text-align: right;\">\n",
       "      <th>Mayo_pred</th>\n",
       "      <th>0</th>\n",
       "      <th>1</th>\n",
       "      <th>2</th>\n",
       "      <th>3</th>\n",
       "      <th>All</th>\n",
       "    </tr>\n",
       "    <tr>\n",
       "      <th>Mayo_true</th>\n",
       "      <th></th>\n",
       "      <th></th>\n",
       "      <th></th>\n",
       "      <th></th>\n",
       "      <th></th>\n",
       "    </tr>\n",
       "  </thead>\n",
       "  <tbody>\n",
       "    <tr>\n",
       "      <th>0</th>\n",
       "      <td>5197</td>\n",
       "      <td>380</td>\n",
       "      <td>24</td>\n",
       "      <td>4</td>\n",
       "      <td>5605</td>\n",
       "    </tr>\n",
       "    <tr>\n",
       "      <th>1</th>\n",
       "      <td>252</td>\n",
       "      <td>683</td>\n",
       "      <td>39</td>\n",
       "      <td>3</td>\n",
       "      <td>977</td>\n",
       "    </tr>\n",
       "    <tr>\n",
       "      <th>2</th>\n",
       "      <td>16</td>\n",
       "      <td>226</td>\n",
       "      <td>396</td>\n",
       "      <td>21</td>\n",
       "      <td>659</td>\n",
       "    </tr>\n",
       "    <tr>\n",
       "      <th>3</th>\n",
       "      <td>0</td>\n",
       "      <td>11</td>\n",
       "      <td>70</td>\n",
       "      <td>175</td>\n",
       "      <td>256</td>\n",
       "    </tr>\n",
       "    <tr>\n",
       "      <th>All</th>\n",
       "      <td>5465</td>\n",
       "      <td>1300</td>\n",
       "      <td>529</td>\n",
       "      <td>203</td>\n",
       "      <td>7497</td>\n",
       "    </tr>\n",
       "  </tbody>\n",
       "</table>\n",
       "</div>"
      ],
      "text/plain": [
       "Mayo_pred     0     1    2    3   All\n",
       "Mayo_true                            \n",
       "0          5197   380   24    4  5605\n",
       "1           252   683   39    3   977\n",
       "2            16   226  396   21   659\n",
       "3             0    11   70  175   256\n",
       "All        5465  1300  529  203  7497"
      ]
     },
     "execution_count": 36,
     "metadata": {},
     "output_type": "execute_result"
    }
   ],
   "source": [
    "pd.crosstab(index=mayo_true, columns=mayo_pred, margins=True)"
   ]
  },
  {
   "cell_type": "code",
   "execution_count": 37,
   "metadata": {
    "scrolled": false
   },
   "outputs": [
    {
     "data": {
      "text/html": [
       "<div>\n",
       "<style scoped>\n",
       "    .dataframe tbody tr th:only-of-type {\n",
       "        vertical-align: middle;\n",
       "    }\n",
       "\n",
       "    .dataframe tbody tr th {\n",
       "        vertical-align: top;\n",
       "    }\n",
       "\n",
       "    .dataframe thead th {\n",
       "        text-align: right;\n",
       "    }\n",
       "</style>\n",
       "<table border=\"1\" class=\"dataframe\">\n",
       "  <thead>\n",
       "    <tr style=\"text-align: right;\">\n",
       "      <th>Mayo_pred</th>\n",
       "      <th>0</th>\n",
       "      <th>1</th>\n",
       "      <th>2</th>\n",
       "      <th>3</th>\n",
       "    </tr>\n",
       "    <tr>\n",
       "      <th>Mayo_true</th>\n",
       "      <th></th>\n",
       "      <th></th>\n",
       "      <th></th>\n",
       "      <th></th>\n",
       "    </tr>\n",
       "  </thead>\n",
       "  <tbody>\n",
       "    <tr>\n",
       "      <th>0</th>\n",
       "      <td>0.927208</td>\n",
       "      <td>0.067797</td>\n",
       "      <td>0.004282</td>\n",
       "      <td>0.000714</td>\n",
       "    </tr>\n",
       "    <tr>\n",
       "      <th>1</th>\n",
       "      <td>0.257932</td>\n",
       "      <td>0.699079</td>\n",
       "      <td>0.039918</td>\n",
       "      <td>0.003071</td>\n",
       "    </tr>\n",
       "    <tr>\n",
       "      <th>2</th>\n",
       "      <td>0.024279</td>\n",
       "      <td>0.342944</td>\n",
       "      <td>0.600910</td>\n",
       "      <td>0.031866</td>\n",
       "    </tr>\n",
       "    <tr>\n",
       "      <th>3</th>\n",
       "      <td>0.000000</td>\n",
       "      <td>0.042969</td>\n",
       "      <td>0.273438</td>\n",
       "      <td>0.683594</td>\n",
       "    </tr>\n",
       "  </tbody>\n",
       "</table>\n",
       "</div>"
      ],
      "text/plain": [
       "Mayo_pred         0         1         2         3\n",
       "Mayo_true                                        \n",
       "0          0.927208  0.067797  0.004282  0.000714\n",
       "1          0.257932  0.699079  0.039918  0.003071\n",
       "2          0.024279  0.342944  0.600910  0.031866\n",
       "3          0.000000  0.042969  0.273438  0.683594"
      ]
     },
     "execution_count": 37,
     "metadata": {},
     "output_type": "execute_result"
    }
   ],
   "source": [
    "pd.crosstab(index=mayo_true, columns=mayo_pred, normalize='index')"
   ]
  }
 ],
 "metadata": {
  "kernelspec": {
   "display_name": "Python 3",
   "language": "python",
   "name": "python3"
  },
  "language_info": {
   "codemirror_mode": {
    "name": "ipython",
    "version": 3
   },
   "file_extension": ".py",
   "mimetype": "text/x-python",
   "name": "python",
   "nbconvert_exporter": "python",
   "pygments_lexer": "ipython3",
   "version": "3.5.4"
  }
 },
 "nbformat": 4,
 "nbformat_minor": 2
}
