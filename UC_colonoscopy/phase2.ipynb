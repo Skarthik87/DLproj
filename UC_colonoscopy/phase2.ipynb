{
 "cells": [
  {
   "cell_type": "markdown",
   "metadata": {},
   "source": [
    "# Models for Larger Dataset"
   ]
  },
  {
   "cell_type": "code",
   "execution_count": 1,
   "metadata": {
    "scrolled": false
   },
   "outputs": [
    {
     "name": "stderr",
     "output_type": "stream",
     "text": [
      "/sw/lsa/centos7/python-anaconda-arc-connect/created-20170421/lib/python3.5/site-packages/h5py/__init__.py:36: FutureWarning: Conversion of the second argument of issubdtype from `float` to `np.floating` is deprecated. In future, it will be treated as `np.float64 == np.dtype(float).type`.\n",
      "  from ._conv import register_converters as _register_converters\n",
      "Using TensorFlow backend.\n"
     ]
    }
   ],
   "source": [
    "from keras import backend as K\n",
    "from keras.models import Sequential, Model\n",
    "from keras.layers import GlobalAveragePooling2D\n",
    "from keras.layers.core import Dense, Activation, Dropout, Lambda\n",
    "from keras.layers.convolutional import Conv2D\n",
    "from keras.optimizers import SGD, RMSprop, Adam\n",
    "from keras.preprocessing.image import ImageDataGenerator\n",
    "from keras.callbacks import ModelCheckpoint, ReduceLROnPlateau, EarlyStopping"
   ]
  },
  {
   "cell_type": "code",
   "execution_count": 2,
   "metadata": {},
   "outputs": [],
   "source": [
    "from keras.applications.inception_v3 import InceptionV3"
   ]
  },
  {
   "cell_type": "code",
   "execution_count": 3,
   "metadata": {},
   "outputs": [],
   "source": [
    "import os, sys\n",
    "import numpy as np\n",
    "import pandas as pd\n",
    "from sklearn.model_selection import train_test_split, GroupShuffleSplit\n",
    "import matplotlib.pyplot as plt\n",
    "%matplotlib inline\n",
    "import pickle"
   ]
  },
  {
   "cell_type": "code",
   "execution_count": 28,
   "metadata": {},
   "outputs": [],
   "source": [
    "module_path = os.path.abspath(os.path.join('..'))\n",
    "if module_path not in sys.path:\n",
    "    sys.path.append(module_path)\n",
    "\n",
    "from keras_addon import ImageFrameGenerator\n",
    "\n",
    "from DL_utils import plot_roc"
   ]
  },
  {
   "cell_type": "code",
   "execution_count": 4,
   "metadata": {},
   "outputs": [],
   "source": [
    "path  =  \"/nfs/turbo/intmed-bnallamo-turbo/wsliu/Data/colonoscopy2/\"\n",
    "model_path = path + 'models/'\n",
    "if not os.path.exists(model_path): \n",
    "    os.mkdir(model_path)\n",
    "data_path = path+'subset/'"
   ]
  },
  {
   "cell_type": "code",
   "execution_count": 5,
   "metadata": {},
   "outputs": [],
   "source": [
    "batch_size = 32"
   ]
  },
  {
   "cell_type": "markdown",
   "metadata": {},
   "source": [
    "## Preparation\n",
    "Check up the labels and image files. Split into training and validation sets. "
   ]
  },
  {
   "cell_type": "code",
   "execution_count": 6,
   "metadata": {},
   "outputs": [],
   "source": [
    "filenames = os.listdir(data_path)"
   ]
  },
  {
   "cell_type": "code",
   "execution_count": 11,
   "metadata": {},
   "outputs": [],
   "source": [
    "labels = pd.read_excel(path+'colonoscopy_mayo_labeled_07May.xlsx')"
   ]
  },
  {
   "cell_type": "code",
   "execution_count": 7,
   "metadata": {},
   "outputs": [
    {
     "data": {
      "text/plain": [
       "Index(['basefile', 'pathname', 'SourceReportName', 'Inflamm_Mayo_0',\n",
       "       'Inflamm_Mayo_1', 'Inflamm_Mayo_2', 'Inflamm_Mayo_3', 'Poor_GRAPHIC',\n",
       "       'Poor_Image_UNCLASSIFIED'],\n",
       "      dtype='object')"
      ]
     },
     "execution_count": 7,
     "metadata": {},
     "output_type": "execute_result"
    }
   ],
   "source": [
    "labels.columns"
   ]
  },
  {
   "cell_type": "code",
   "execution_count": 13,
   "metadata": {
    "scrolled": true
   },
   "outputs": [],
   "source": [
    "double_labeled = labels[['Inflamm_Mayo_0', 'Inflamm_Mayo_1', 'Inflamm_Mayo_2', 'Inflamm_Mayo_3']].apply(sum, axis=1)>1"
   ]
  },
  {
   "cell_type": "code",
   "execution_count": 14,
   "metadata": {},
   "outputs": [
    {
     "data": {
      "text/plain": [
       "False    12778\n",
       "True        38\n",
       "dtype: int64"
      ]
     },
     "execution_count": 14,
     "metadata": {},
     "output_type": "execute_result"
    }
   ],
   "source": [
    "double_labeled.value_counts()"
   ]
  },
  {
   "cell_type": "code",
   "execution_count": 15,
   "metadata": {},
   "outputs": [
    {
     "data": {
      "text/plain": [
       "False    12816\n",
       "Name: Poor_Image_UNCLASSIFIED, dtype: int64"
      ]
     },
     "execution_count": 15,
     "metadata": {},
     "output_type": "execute_result"
    }
   ],
   "source": [
    "labels['Poor_Image_UNCLASSIFIED'].value_counts()"
   ]
  },
  {
   "cell_type": "code",
   "execution_count": 16,
   "metadata": {},
   "outputs": [
    {
     "data": {
      "text/plain": [
       "False    12816\n",
       "Name: Poor_GRAPHIC, dtype: int64"
      ]
     },
     "execution_count": 16,
     "metadata": {},
     "output_type": "execute_result"
    }
   ],
   "source": [
    "labels['Poor_GRAPHIC'].value_counts()"
   ]
  },
  {
   "cell_type": "code",
   "execution_count": 17,
   "metadata": {},
   "outputs": [],
   "source": [
    "errors = ['BM_col_2608-2.jpg', 'FS_273.jpg', 'FS_405.jpg', 'FS_1434.jpg', 'FS_2259.jpg', 'FS_2916.jpg']"
   ]
  },
  {
   "cell_type": "code",
   "execution_count": 20,
   "metadata": {},
   "outputs": [],
   "source": [
    "labels = labels.loc[~labels['basefile'].isin(errors)]"
   ]
  },
  {
   "cell_type": "code",
   "execution_count": 18,
   "metadata": {},
   "outputs": [],
   "source": [
    "labels = labels.loc[~double_labeled]"
   ]
  },
  {
   "cell_type": "code",
   "execution_count": 22,
   "metadata": {
    "scrolled": true
   },
   "outputs": [
    {
     "data": {
      "text/plain": [
       "(12772, 9)"
      ]
     },
     "execution_count": 22,
     "metadata": {},
     "output_type": "execute_result"
    }
   ],
   "source": [
    "labels.shape"
   ]
  },
  {
   "cell_type": "markdown",
   "metadata": {},
   "source": [
    "Make a subset copy of the images, so the generator can run faster. "
   ]
  },
  {
   "cell_type": "code",
   "execution_count": 34,
   "metadata": {},
   "outputs": [],
   "source": [
    "labeled = set(labels.basefile)\n",
    "\n",
    "from shutil import copyfile\n",
    "\n",
    "for f in filenames:\n",
    "    if f in labeled:\n",
    "        copyfile(data_path+f, path+'subset/'+f)"
   ]
  },
  {
   "cell_type": "code",
   "execution_count": 62,
   "metadata": {},
   "outputs": [
    {
     "data": {
      "text/plain": [
       "False    11666\n",
       "True      1150\n",
       "Name: Inflamm_Mayo_3, dtype: int64"
      ]
     },
     "execution_count": 62,
     "metadata": {},
     "output_type": "execute_result"
    }
   ],
   "source": [
    "labels.Inflamm_Mayo_3.value_counts()"
   ]
  },
  {
   "cell_type": "markdown",
   "metadata": {},
   "source": [
    "Create labels for multi-binary classification:"
   ]
  },
  {
   "cell_type": "code",
   "execution_count": 23,
   "metadata": {},
   "outputs": [],
   "source": [
    "labels['split0_123'] = (~labels.Inflamm_Mayo_0).astype(int)\n",
    "labels['split01_23'] = (labels.Inflamm_Mayo_2 | labels.Inflamm_Mayo_3).astype(int)\n",
    "labels['split012_3'] = labels.Inflamm_Mayo_3.astype(int)"
   ]
  },
  {
   "cell_type": "code",
   "execution_count": 33,
   "metadata": {},
   "outputs": [
    {
     "data": {
      "text/plain": [
       "0    7181\n",
       "1    5591\n",
       "Name: split0_123, dtype: int64"
      ]
     },
     "execution_count": 33,
     "metadata": {},
     "output_type": "execute_result"
    }
   ],
   "source": [
    "labels.split0_123.value_counts()"
   ]
  },
  {
   "cell_type": "code",
   "execution_count": 34,
   "metadata": {},
   "outputs": [
    {
     "data": {
      "text/plain": [
       "0    9936\n",
       "1    2836\n",
       "Name: split01_23, dtype: int64"
      ]
     },
     "execution_count": 34,
     "metadata": {},
     "output_type": "execute_result"
    }
   ],
   "source": [
    "labels.split01_23.value_counts()"
   ]
  },
  {
   "cell_type": "code",
   "execution_count": 35,
   "metadata": {
    "scrolled": true
   },
   "outputs": [
    {
     "data": {
      "text/plain": [
       "0    11633\n",
       "1     1139\n",
       "Name: split012_3, dtype: int64"
      ]
     },
     "execution_count": 35,
     "metadata": {},
     "output_type": "execute_result"
    }
   ],
   "source": [
    "labels.split012_3.value_counts()"
   ]
  },
  {
   "cell_type": "code",
   "execution_count": 24,
   "metadata": {},
   "outputs": [],
   "source": [
    "labels['Mayo_score'] = 0\n",
    "labels.loc[labels.Inflamm_Mayo_1, 'Mayo_score'] = 1\n",
    "labels.loc[labels.Inflamm_Mayo_2, 'Mayo_score'] = 2\n",
    "labels.loc[labels.Inflamm_Mayo_3, 'Mayo_score'] = 3"
   ]
  },
  {
   "cell_type": "code",
   "execution_count": 25,
   "metadata": {
    "scrolled": true
   },
   "outputs": [
    {
     "data": {
      "text/plain": [
       "0    7181\n",
       "1    2755\n",
       "2    1697\n",
       "3    1139\n",
       "Name: Mayo_score, dtype: int64"
      ]
     },
     "execution_count": 25,
     "metadata": {},
     "output_type": "execute_result"
    }
   ],
   "source": [
    "labels.Mayo_score.value_counts()"
   ]
  },
  {
   "cell_type": "code",
   "execution_count": 6,
   "metadata": {},
   "outputs": [],
   "source": [
    "labels = pd.read_csv(path+'train_labels.csv')"
   ]
  },
  {
   "cell_type": "code",
   "execution_count": 45,
   "metadata": {},
   "outputs": [],
   "source": [
    "labels = labels.reset_index(drop=True)"
   ]
  },
  {
   "cell_type": "code",
   "execution_count": 7,
   "metadata": {},
   "outputs": [],
   "source": [
    "split = GroupShuffleSplit(n_splits=1, test_size=0.11, random_state=24)"
   ]
  },
  {
   "cell_type": "code",
   "execution_count": 8,
   "metadata": {},
   "outputs": [],
   "source": [
    "ind = split.split(labels, groups=labels['SourceReportName'])"
   ]
  },
  {
   "cell_type": "code",
   "execution_count": 9,
   "metadata": {},
   "outputs": [],
   "source": [
    "trn_ind, val_ind = next(ind)"
   ]
  },
  {
   "cell_type": "code",
   "execution_count": 10,
   "metadata": {},
   "outputs": [],
   "source": [
    "trn_patients = set(labels.loc[trn_ind, 'SourceReportName'])\n",
    "val_patients = set(labels.loc[val_ind, 'SourceReportName'])"
   ]
  },
  {
   "cell_type": "code",
   "execution_count": 11,
   "metadata": {},
   "outputs": [],
   "source": [
    "trn_df = labels.loc[trn_ind]\n",
    "val_df = labels.loc[val_ind]"
   ]
  },
  {
   "cell_type": "code",
   "execution_count": 12,
   "metadata": {},
   "outputs": [
    {
     "data": {
      "text/plain": [
       "((10198,), (1274,))"
      ]
     },
     "execution_count": 12,
     "metadata": {},
     "output_type": "execute_result"
    }
   ],
   "source": [
    "trn_ind.shape, val_ind.shape"
   ]
  },
  {
   "cell_type": "code",
   "execution_count": 13,
   "metadata": {
    "scrolled": true
   },
   "outputs": [
    {
     "data": {
      "text/plain": [
       "(1848, 229)"
      ]
     },
     "execution_count": 13,
     "metadata": {},
     "output_type": "execute_result"
    }
   ],
   "source": [
    "len(trn_patients), len(val_patients)"
   ]
  },
  {
   "cell_type": "code",
   "execution_count": 41,
   "metadata": {
    "scrolled": true
   },
   "outputs": [
    {
     "data": {
      "text/plain": [
       "0.0    1188\n",
       "1.0     107\n",
       "Name: split012_3, dtype: int64"
      ]
     },
     "execution_count": 41,
     "metadata": {},
     "output_type": "execute_result"
    }
   ],
   "source": [
    "val_df.split012_3.value_counts()"
   ]
  },
  {
   "cell_type": "code",
   "execution_count": 42,
   "metadata": {},
   "outputs": [
    {
     "data": {
      "text/plain": [
       "0.0    713\n",
       "1.0    309\n",
       "2.0    166\n",
       "3.0    107\n",
       "Name: Mayo_score, dtype: int64"
      ]
     },
     "execution_count": 42,
     "metadata": {},
     "output_type": "execute_result"
    }
   ],
   "source": [
    "val_df.Mayo_score.value_counts()"
   ]
  },
  {
   "cell_type": "code",
   "execution_count": 54,
   "metadata": {},
   "outputs": [],
   "source": [
    "tst_df.to_csv(path+'test_labels.csv', index=False)"
   ]
  },
  {
   "cell_type": "code",
   "execution_count": 55,
   "metadata": {},
   "outputs": [],
   "source": [
    "trn_df.to_csv(path+'train_labels.csv', index=False)"
   ]
  },
  {
   "cell_type": "code",
   "execution_count": 14,
   "metadata": {},
   "outputs": [],
   "source": [
    "tst_df = pd.read_csv(path+'test_labels.csv')"
   ]
  },
  {
   "cell_type": "code",
   "execution_count": 18,
   "metadata": {
    "scrolled": true
   },
   "outputs": [
    {
     "data": {
      "text/plain": [
       "Index(['basefile', 'pathname', 'SourceReportName', 'Inflamm_Mayo_0',\n",
       "       'Inflamm_Mayo_1', 'Inflamm_Mayo_2', 'Inflamm_Mayo_3', 'Poor_GRAPHIC',\n",
       "       'Poor_Image_UNCLASSIFIED', 'Mayo_score', 'split0_123', 'split01_23',\n",
       "       'split012_3'],\n",
       "      dtype='object')"
      ]
     },
     "execution_count": 18,
     "metadata": {},
     "output_type": "execute_result"
    }
   ],
   "source": [
    "tst_df.columns"
   ]
  },
  {
   "cell_type": "code",
   "execution_count": 16,
   "metadata": {},
   "outputs": [
    {
     "data": {
      "text/plain": [
       "(1300, 231)"
      ]
     },
     "execution_count": 16,
     "metadata": {},
     "output_type": "execute_result"
    }
   ],
   "source": [
    "len(tst_df), len(tst_df.SourceReportName.unique())"
   ]
  },
  {
   "cell_type": "code",
   "execution_count": 59,
   "metadata": {},
   "outputs": [
    {
     "data": {
      "text/plain": [
       "6440"
      ]
     },
     "execution_count": 59,
     "metadata": {},
     "output_type": "execute_result"
    }
   ],
   "source": [
    "freq[0]"
   ]
  },
  {
   "cell_type": "markdown",
   "metadata": {},
   "source": [
    "## Data Generator"
   ]
  },
  {
   "cell_type": "code",
   "execution_count": 18,
   "metadata": {},
   "outputs": [],
   "source": [
    "from keras_addon import ImageFrameGenerator"
   ]
  },
  {
   "cell_type": "code",
   "execution_count": 56,
   "metadata": {},
   "outputs": [
    {
     "data": {
      "text/plain": [
       "<module 'keras_addon' from '/home/wsliu/Codes/DLproj/keras_addon.py'>"
      ]
     },
     "execution_count": 56,
     "metadata": {},
     "output_type": "execute_result"
    }
   ],
   "source": [
    "import keras_addon\n",
    "from importlib import reload\n",
    "reload(keras_addon)"
   ]
  },
  {
   "cell_type": "code",
   "execution_count": 58,
   "metadata": {},
   "outputs": [],
   "source": [
    "train_gen = ImageFrameGenerator( \n",
    "        rotation_range=180,\n",
    "        width_shift_range=0.2,\n",
    "        height_shift_range=0.2,\n",
    "        shear_range=0.1,\n",
    "        zoom_range=0.2,\n",
    "        horizontal_flip=True,\n",
    "        vertical_flip=True,\n",
    "        fill_mode='nearest')"
   ]
  },
  {
   "cell_type": "code",
   "execution_count": 19,
   "metadata": {
    "scrolled": true
   },
   "outputs": [],
   "source": [
    "validation_gen = ImageFrameGenerator()"
   ]
  },
  {
   "cell_type": "code",
   "execution_count": 52,
   "metadata": {},
   "outputs": [
    {
     "name": "stdout",
     "output_type": "stream",
     "text": [
      "Found 12816 images in the directory.\n",
      "Using split0_123 as continuous label. \n",
      "Using split01_23 as continuous label. \n",
      "Using split012_3 as continuous label. \n",
      "Using 11433 images to generate mini-batches.\n"
     ]
    }
   ],
   "source": [
    "train_itr = train_gen.flow_from_frame(data_path, trn_df, 'basefile', ['split0_123', 'split01_23', 'split012_3'], \n",
    "                                     target_size=(256, 320), batch_size=batch_size)"
   ]
  },
  {
   "cell_type": "code",
   "execution_count": 16,
   "metadata": {
    "scrolled": false
   },
   "outputs": [
    {
     "name": "stdout",
     "output_type": "stream",
     "text": [
      "Found 12816 images in the directory.\n",
      "Using 1170 images to generate mini-batches.\n"
     ]
    }
   ],
   "source": [
    "val_itr = validation_gen.flow_from_frame(data_path, val_df, 'basefile', ['split0_123', 'split01_23', 'split012_3'], \n",
    "                                     target_size=(256, 320), batch_size=batch_size, shuffle=False)"
   ]
  },
  {
   "cell_type": "code",
   "execution_count": 10,
   "metadata": {},
   "outputs": [
    {
     "name": "stdout",
     "output_type": "stream",
     "text": [
      "Found 12816 images in the directory.\n",
      "Using 1304 images to generate mini-batches.\n"
     ]
    }
   ],
   "source": [
    "tst_itr = validation_gen.flow_from_frame(data_path, tst_df, 'basefile', ['split0_123', 'split01_23', 'split012_3'], \n",
    "                                     target_size=(256, 320), batch_size=batch_size, shuffle=False)"
   ]
  },
  {
   "cell_type": "code",
   "execution_count": 60,
   "metadata": {},
   "outputs": [
    {
     "name": "stdout",
     "output_type": "stream",
     "text": [
      "Found 12816 images in the directory.\n",
      "Using Mayo_score as categorical label, with levels: {0: 0.0, 1: 1.0, 2: 2.0, 3: 3.0}\n",
      "Using Poor_GRAPHIC as binary label. \n",
      "Using 1295 images to generate mini-batches.\n"
     ]
    }
   ],
   "source": [
    "tst_iter = validation_gen.flow_from_frame(data_path, tst_df, 'basefile', ['Mayo_score', 'Poor_GRAPHIC'], \n",
    "                                          label_types=['categorical', 'binary'],\n",
    "                                     target_size=(256, 320), batch_size=8, shuffle=False)"
   ]
  },
  {
   "cell_type": "markdown",
   "metadata": {},
   "source": [
    "## Model with 3 binary output"
   ]
  },
  {
   "cell_type": "code",
   "execution_count": 12,
   "metadata": {},
   "outputs": [],
   "source": [
    "base_model = InceptionV3(weights='imagenet', include_top=False)\n",
    "\n",
    "x = base_model.output\n",
    "x = GlobalAveragePooling2D()(x)\n",
    "\n",
    "output1 = Dense(1, activation='sigmoid', name='split0_123')(x)\n",
    "output2 = Dense(1, activation='sigmoid', name='split01_23')(x)\n",
    "output3 = Dense(1, activation='sigmoid', name='split012_3')(x)\n",
    "\n",
    "model = Model(inputs=base_model.input, outputs=[output1, output2, output3])"
   ]
  },
  {
   "cell_type": "code",
   "execution_count": 64,
   "metadata": {},
   "outputs": [],
   "source": [
    "model.compile(optimizer='adam', loss='binary_crossentropy',metrics=['accuracy'])"
   ]
  },
  {
   "cell_type": "code",
   "execution_count": 65,
   "metadata": {},
   "outputs": [],
   "source": [
    "checkpointer = ModelCheckpoint(filepath=model_path+'phase2_0511.h5', verbose=0, save_best_only=True, \n",
    "                               save_weights_only=True)\n",
    "reduce_lr = ReduceLROnPlateau(monitor='val_loss', factor=0.2, patience=10, min_lr=1.e-8)\n",
    "earlystop = EarlyStopping(monitor='val_loss', patience=30)"
   ]
  },
  {
   "cell_type": "code",
   "execution_count": null,
   "metadata": {
    "collapsed": true
   },
   "outputs": [
    {
     "name": "stdout",
     "output_type": "stream",
     "text": [
      "Epoch 1/200\n",
      "286/286 [==============================] - 457s 2s/step - loss: 1.0631 - split0_123_loss: 0.5156 - split01_23_loss: 0.3514 - split012_3_loss: 0.1961 - split0_123_acc: 0.7462 - split01_23_acc: 0.8523 - split012_3_acc: 0.9227 - val_loss: 1.3938 - val_split0_123_loss: 0.6226 - val_split01_23_loss: 0.4715 - val_split012_3_loss: 0.2997 - val_split0_123_acc: 0.7384 - val_split01_23_acc: 0.8094 - val_split012_3_acc: 0.8839\n",
      "Epoch 2/200\n",
      "286/286 [==============================] - 444s 2s/step - loss: 0.9114 - split0_123_loss: 0.4434 - split01_23_loss: 0.2974 - split012_3_loss: 0.1706 - split0_123_acc: 0.7975 - split01_23_acc: 0.8738 - split012_3_acc: 0.9332 - val_loss: 1.8149 - val_split0_123_loss: 0.9771 - val_split01_23_loss: 0.6006 - val_split012_3_loss: 0.2373 - val_split0_123_acc: 0.6710 - val_split01_23_acc: 0.8496 - val_split012_3_acc: 0.9411\n",
      "Epoch 3/200\n",
      "286/286 [==============================] - 439s 2s/step - loss: 0.8662 - split0_123_loss: 0.4284 - split01_23_loss: 0.2751 - split012_3_loss: 0.1628 - split0_123_acc: 0.8067 - split01_23_acc: 0.8850 - split012_3_acc: 0.9330 - val_loss: 4.0599 - val_split0_123_loss: 1.4251 - val_split01_23_loss: 1.6606 - val_split012_3_loss: 0.9742 - val_split0_123_acc: 0.6402 - val_split01_23_acc: 0.6580 - val_split012_3_acc: 0.7379\n",
      "Epoch 4/200\n",
      "286/286 [==============================] - 434s 2s/step - loss: 0.8573 - split0_123_loss: 0.4155 - split01_23_loss: 0.2815 - split012_3_loss: 0.1603 - split0_123_acc: 0.8078 - split01_23_acc: 0.8856 - split012_3_acc: 0.9321 - val_loss: 0.9722 - val_split0_123_loss: 0.5285 - val_split01_23_loss: 0.3121 - val_split012_3_loss: 0.1315 - val_split0_123_acc: 0.7661 - val_split01_23_acc: 0.8714 - val_split012_3_acc: 0.9442\n",
      "Epoch 5/200\n",
      "286/286 [==============================] - 435s 2s/step - loss: 0.8272 - split0_123_loss: 0.4096 - split01_23_loss: 0.2688 - split012_3_loss: 0.1488 - split0_123_acc: 0.8178 - split01_23_acc: 0.8889 - split012_3_acc: 0.9369 - val_loss: 1.2448 - val_split0_123_loss: 0.6108 - val_split01_23_loss: 0.4052 - val_split012_3_loss: 0.2288 - val_split0_123_acc: 0.7455 - val_split01_23_acc: 0.8478 - val_split012_3_acc: 0.9326\n",
      "Epoch 6/200\n",
      "286/286 [==============================] - 434s 2s/step - loss: 0.8322 - split0_123_loss: 0.4115 - split01_23_loss: 0.2659 - split012_3_loss: 0.1548 - split0_123_acc: 0.8154 - split01_23_acc: 0.8894 - split012_3_acc: 0.9356 - val_loss: 0.9761 - val_split0_123_loss: 0.5511 - val_split01_23_loss: 0.2620 - val_split012_3_loss: 0.1630 - val_split0_123_acc: 0.7536 - val_split01_23_acc: 0.8938 - val_split012_3_acc: 0.9277\n",
      "Epoch 7/200\n",
      "286/286 [==============================] - 433s 2s/step - loss: 0.8202 - split0_123_loss: 0.4083 - split01_23_loss: 0.2606 - split012_3_loss: 0.1512 - split0_123_acc: 0.8179 - split01_23_acc: 0.8900 - split012_3_acc: 0.9351 - val_loss: 1.3913 - val_split0_123_loss: 0.4967 - val_split01_23_loss: 0.5589 - val_split012_3_loss: 0.3357 - val_split0_123_acc: 0.7741 - val_split01_23_acc: 0.7496 - val_split012_3_acc: 0.8254\n",
      "Epoch 8/200\n",
      "286/286 [==============================] - 435s 2s/step - loss: 0.8134 - split0_123_loss: 0.4019 - split01_23_loss: 0.2656 - split012_3_loss: 0.1459 - split0_123_acc: 0.8184 - split01_23_acc: 0.8881 - split012_3_acc: 0.9394 - val_loss: 0.8889 - val_split0_123_loss: 0.4325 - val_split01_23_loss: 0.2590 - val_split012_3_loss: 0.1975 - val_split0_123_acc: 0.8058 - val_split01_23_acc: 0.8893 - val_split012_3_acc: 0.9246\n",
      "Epoch 9/200\n",
      "286/286 [==============================] - 435s 2s/step - loss: 0.8007 - split0_123_loss: 0.3943 - split01_23_loss: 0.2587 - split012_3_loss: 0.1477 - split0_123_acc: 0.8259 - split01_23_acc: 0.8919 - split012_3_acc: 0.9357 - val_loss: 1.4718 - val_split0_123_loss: 0.8709 - val_split01_23_loss: 0.4238 - val_split012_3_loss: 0.1771 - val_split0_123_acc: 0.6768 - val_split01_23_acc: 0.8562 - val_split012_3_acc: 0.9451\n",
      "Epoch 10/200\n",
      "286/286 [==============================] - 435s 2s/step - loss: 0.7844 - split0_123_loss: 0.3906 - split01_23_loss: 0.2501 - split012_3_loss: 0.1437 - split0_123_acc: 0.8282 - split01_23_acc: 0.8948 - split012_3_acc: 0.9377 - val_loss: 0.9916 - val_split0_123_loss: 0.4992 - val_split01_23_loss: 0.3178 - val_split012_3_loss: 0.1746 - val_split0_123_acc: 0.7830 - val_split01_23_acc: 0.8750 - val_split012_3_acc: 0.9429\n",
      "Epoch 11/200\n",
      "286/286 [==============================] - 434s 2s/step - loss: 0.7798 - split0_123_loss: 0.3855 - split01_23_loss: 0.2512 - split012_3_loss: 0.1431 - split0_123_acc: 0.8233 - split01_23_acc: 0.8966 - split012_3_acc: 0.9388 - val_loss: 0.7942 - val_split0_123_loss: 0.4381 - val_split01_23_loss: 0.2373 - val_split012_3_loss: 0.1187 - val_split0_123_acc: 0.8170 - val_split01_23_acc: 0.9031 - val_split012_3_acc: 0.9504\n",
      "Epoch 12/200\n",
      "286/286 [==============================] - 434s 2s/step - loss: 0.7702 - split0_123_loss: 0.3800 - split01_23_loss: 0.2474 - split012_3_loss: 0.1429 - split0_123_acc: 0.8328 - split01_23_acc: 0.8963 - split012_3_acc: 0.9396 - val_loss: 0.8706 - val_split0_123_loss: 0.4302 - val_split01_23_loss: 0.2955 - val_split012_3_loss: 0.1449 - val_split0_123_acc: 0.8259 - val_split01_23_acc: 0.8848 - val_split012_3_acc: 0.9388\n",
      "Epoch 13/200\n",
      "168/286 [================>.............] - ETA: 2:45 - loss: 0.7727 - split0_123_loss: 0.3878 - split01_23_loss: 0.2437 - split012_3_loss: 0.1412 - split0_123_acc: 0.8324 - split01_23_acc: 0.9012 - split012_3_acc: 0.9396"
     ]
    }
   ],
   "source": [
    "history = model.fit_generator(train_itr, steps_per_epoch=train_itr.n // batch_size, epochs=200, \n",
    "                              validation_data=val_itr, validation_steps=val_itr.n // batch_size, \n",
    "                              callbacks=[checkpointer, reduce_lr, earlystop], \n",
    "                                verbose=1)"
   ]
  },
  {
   "cell_type": "markdown",
   "metadata": {},
   "source": [
    "### Result Evaluation"
   ]
  },
  {
   "cell_type": "code",
   "execution_count": 79,
   "metadata": {},
   "outputs": [],
   "source": [
    "model.load_weights(model_path+'phase2_0511_2.h5')"
   ]
  },
  {
   "cell_type": "code",
   "execution_count": 80,
   "metadata": {},
   "outputs": [
    {
     "name": "stdout",
     "output_type": "stream",
     "text": [
      "44/44 [==============================] - 20s 451ms/step\n"
     ]
    }
   ],
   "source": [
    "y = model.predict_generator(tst_itr, verbose=1)"
   ]
  },
  {
   "cell_type": "code",
   "execution_count": 81,
   "metadata": {},
   "outputs": [],
   "source": [
    "y_pred = np.concatenate(y, axis=1)"
   ]
  },
  {
   "cell_type": "code",
   "execution_count": 63,
   "metadata": {},
   "outputs": [],
   "source": [
    "y_true = tst_df[['split0_123', 'split01_23', 'split012_3']].values"
   ]
  },
  {
   "cell_type": "code",
   "execution_count": 64,
   "metadata": {},
   "outputs": [
    {
     "data": {
      "text/plain": [
       "((1378, 3), (1378, 3))"
      ]
     },
     "execution_count": 64,
     "metadata": {},
     "output_type": "execute_result"
    }
   ],
   "source": [
    "y_pred.shape, y_true.shape"
   ]
  },
  {
   "cell_type": "code",
   "execution_count": 82,
   "metadata": {
    "scrolled": true
   },
   "outputs": [
    {
     "data": {
      "text/plain": [
       "{0: 0.9108663344697963, 1: 0.9609973839110529, 2: 0.9733952183688666}"
      ]
     },
     "execution_count": 82,
     "metadata": {},
     "output_type": "execute_result"
    },
    {
     "data": {
      "image/png": "[encoded data removed]",
      "text/plain": [
       "<Figure size 432x288 with 1 Axes>"
      ]
     },
     "metadata": {},
     "output_type": "display_data"
    }
   ],
   "source": [
    "plot_roc(y_pred, y_true, classes=['split0_123', 'split01_23', 'split012_3'])"
   ]
  },
  {
   "cell_type": "markdown",
   "metadata": {},
   "source": [
    "## Model with 4 binary output"
   ]
  },
  {
   "cell_type": "code",
   "execution_count": 20,
   "metadata": {},
   "outputs": [
    {
     "name": "stdout",
     "output_type": "stream",
     "text": [
      "Found 12816 images in the directory.\n",
      "Using Inflamm_Mayo_0 as continuous label. \n",
      "Using Inflamm_Mayo_1 as continuous label. \n",
      "Using Inflamm_Mayo_2 as continuous label. \n",
      "Using Inflamm_Mayo_3 as continuous label. \n",
      "Using 1300 images to generate mini-batches.\n"
     ]
    }
   ],
   "source": [
    "tst_gen = ImageFrameGenerator()\n",
    "tst_itr = tst_gen.flow_from_frame(data_path, tst_df, 'basefile', \n",
    "                                   ['Inflamm_Mayo_0', 'Inflamm_Mayo_1', 'Inflamm_Mayo_2', 'Inflamm_Mayo_3'], \n",
    "                                     target_size=(256, 320), batch_size=batch_size, shuffle=False)"
   ]
  },
  {
   "cell_type": "code",
   "execution_count": 67,
   "metadata": {},
   "outputs": [],
   "source": [
    "base_model = InceptionV3(weights='imagenet', include_top=False)\n",
    "x = base_model.output\n",
    "x = GlobalAveragePooling2D()(x)\n",
    "\n",
    "output0 = Dense(1, activation='sigmoid', name='Inflamm_Mayo_0')(x)\n",
    "output1 = Dense(1, activation='sigmoid', name='Inflamm_Mayo_1')(x)\n",
    "output2 = Dense(1, activation='sigmoid', name='Inflamm_Mayo_2')(x)\n",
    "output3 = Dense(1, activation='sigmoid', name='Inflamm_Mayo_3')(x)\n",
    "\n",
    "model = Model(inputs=base_model.input, outputs=[output0, output1, output2, output3])"
   ]
  },
  {
   "cell_type": "code",
   "execution_count": 68,
   "metadata": {},
   "outputs": [],
   "source": [
    "model.load_weights(model_path+'phase2_4binary0515.h5')"
   ]
  },
  {
   "cell_type": "code",
   "execution_count": 23,
   "metadata": {},
   "outputs": [
    {
     "name": "stdout",
     "output_type": "stream",
     "text": [
      "41/41 [==============================] - 43s 1s/step\n"
     ]
    }
   ],
   "source": [
    "y = model.predict_generator(tst_itr, verbose=1)"
   ]
  },
  {
   "cell_type": "code",
   "execution_count": 26,
   "metadata": {},
   "outputs": [],
   "source": [
    "y_pred = np.concatenate(y, axis=1)"
   ]
  },
  {
   "cell_type": "code",
   "execution_count": 24,
   "metadata": {},
   "outputs": [],
   "source": [
    "y_true = tst_df[['Inflamm_Mayo_0', 'Inflamm_Mayo_1', 'Inflamm_Mayo_2', 'Inflamm_Mayo_3']].values"
   ]
  },
  {
   "cell_type": "code",
   "execution_count": 30,
   "metadata": {},
   "outputs": [
    {
     "data": {
      "text/plain": [
       "{0: 0.9357103368025127,\n",
       " 1: 0.8619281596452328,\n",
       " 2: 0.9152698373364958,\n",
       " 3: 0.971330124081315}"
      ]
     },
     "execution_count": 30,
     "metadata": {},
     "output_type": "execute_result"
    },
    {
     "data": {
      "image/png": "[encoded data removed]",
      "text/plain": [
       "<Figure size 432x288 with 1 Axes>"
      ]
     },
     "metadata": {},
     "output_type": "display_data"
    }
   ],
   "source": [
    "plot_roc(y_pred, y_true, classes=['Mayo_0', 'Mayo_1', 'Mayo_2', 'Mayo_3'])"
   ]
  },
  {
   "cell_type": "markdown",
   "metadata": {},
   "source": [
    "## Multi-Class Classification"
   ]
  },
  {
   "cell_type": "code",
   "execution_count": 32,
   "metadata": {},
   "outputs": [
    {
     "name": "stdout",
     "output_type": "stream",
     "text": [
      "Found 12816 images in the directory.\n",
      "Using Mayo_score as categorical label, with levels: {0: 0, 1: 1, 2: 2, 3: 3}\n",
      "Using 1300 images to generate mini-batches.\n"
     ]
    }
   ],
   "source": [
    "tst_gen = ImageFrameGenerator()\n",
    "tst_itr = tst_gen.flow_from_frame(data_path, tst_df, 'basefile', \n",
    "                                   ['Mayo_score'], label_types=['categorical'],\n",
    "                                     target_size=(256, 320), batch_size=batch_size, shuffle=False)"
   ]
  },
  {
   "cell_type": "code",
   "execution_count": 33,
   "metadata": {},
   "outputs": [],
   "source": [
    "base_model = InceptionV3(weights='imagenet', include_top=False)\n",
    "x = base_model.output\n",
    "x = GlobalAveragePooling2D()(x)\n",
    "\n",
    "output = Dense(4, activation='softmax', name='Mayo_score')(x)\n",
    "\n",
    "model = Model(inputs=base_model.input, outputs=output)"
   ]
  },
  {
   "cell_type": "code",
   "execution_count": 34,
   "metadata": {},
   "outputs": [],
   "source": [
    "model.load_weights(model_path+'phase2_multiclass0515.h5')"
   ]
  },
  {
   "cell_type": "code",
   "execution_count": 35,
   "metadata": {},
   "outputs": [
    {
     "name": "stdout",
     "output_type": "stream",
     "text": [
      "41/41 [==============================] - 21s 500ms/step\n"
     ]
    }
   ],
   "source": [
    "y = model.predict_generator(tst_itr, verbose=1)"
   ]
  },
  {
   "cell_type": "code",
   "execution_count": 44,
   "metadata": {},
   "outputs": [],
   "source": [
    "y_pred = pd.Series(y.argmax(axis=1), dtype=int, name='Mayo_predicted')"
   ]
  },
  {
   "cell_type": "code",
   "execution_count": 46,
   "metadata": {},
   "outputs": [],
   "source": [
    "y_true = tst_df['Mayo_score']\n",
    "y_true.name = 'Mayo_true'\n",
    "y_true = y_true.astype(int)"
   ]
  },
  {
   "cell_type": "code",
   "execution_count": 48,
   "metadata": {},
   "outputs": [
    {
     "data": {
      "text/html": [
       "<div>\n",
       "<style scoped>\n",
       "    .dataframe tbody tr th:only-of-type {\n",
       "        vertical-align: middle;\n",
       "    }\n",
       "\n",
       "    .dataframe tbody tr th {\n",
       "        vertical-align: top;\n",
       "    }\n",
       "\n",
       "    .dataframe thead th {\n",
       "        text-align: right;\n",
       "    }\n",
       "</style>\n",
       "<table border=\"1\" class=\"dataframe\">\n",
       "  <thead>\n",
       "    <tr style=\"text-align: right;\">\n",
       "      <th>Mayo_predicted</th>\n",
       "      <th>0</th>\n",
       "      <th>1</th>\n",
       "      <th>2</th>\n",
       "      <th>3</th>\n",
       "      <th>All</th>\n",
       "    </tr>\n",
       "    <tr>\n",
       "      <th>Mayo_true</th>\n",
       "      <th></th>\n",
       "      <th></th>\n",
       "      <th></th>\n",
       "      <th></th>\n",
       "      <th></th>\n",
       "    </tr>\n",
       "  </thead>\n",
       "  <tbody>\n",
       "    <tr>\n",
       "      <th>0</th>\n",
       "      <td>706</td>\n",
       "      <td>15</td>\n",
       "      <td>16</td>\n",
       "      <td>4</td>\n",
       "      <td>741</td>\n",
       "    </tr>\n",
       "    <tr>\n",
       "      <th>1</th>\n",
       "      <td>147</td>\n",
       "      <td>79</td>\n",
       "      <td>47</td>\n",
       "      <td>2</td>\n",
       "      <td>275</td>\n",
       "    </tr>\n",
       "    <tr>\n",
       "      <th>2</th>\n",
       "      <td>17</td>\n",
       "      <td>16</td>\n",
       "      <td>88</td>\n",
       "      <td>26</td>\n",
       "      <td>147</td>\n",
       "    </tr>\n",
       "    <tr>\n",
       "      <th>3</th>\n",
       "      <td>10</td>\n",
       "      <td>3</td>\n",
       "      <td>41</td>\n",
       "      <td>83</td>\n",
       "      <td>137</td>\n",
       "    </tr>\n",
       "    <tr>\n",
       "      <th>All</th>\n",
       "      <td>880</td>\n",
       "      <td>113</td>\n",
       "      <td>192</td>\n",
       "      <td>115</td>\n",
       "      <td>1300</td>\n",
       "    </tr>\n",
       "  </tbody>\n",
       "</table>\n",
       "</div>"
      ],
      "text/plain": [
       "Mayo_predicted    0    1    2    3   All\n",
       "Mayo_true                               \n",
       "0               706   15   16    4   741\n",
       "1               147   79   47    2   275\n",
       "2                17   16   88   26   147\n",
       "3                10    3   41   83   137\n",
       "All             880  113  192  115  1300"
      ]
     },
     "execution_count": 48,
     "metadata": {},
     "output_type": "execute_result"
    }
   ],
   "source": [
    "pd.crosstab(index=y_true, columns=y_pred, margins=True)"
   ]
  },
  {
   "cell_type": "code",
   "execution_count": 50,
   "metadata": {},
   "outputs": [
    {
     "data": {
      "text/html": [
       "<div>\n",
       "<style scoped>\n",
       "    .dataframe tbody tr th:only-of-type {\n",
       "        vertical-align: middle;\n",
       "    }\n",
       "\n",
       "    .dataframe tbody tr th {\n",
       "        vertical-align: top;\n",
       "    }\n",
       "\n",
       "    .dataframe thead th {\n",
       "        text-align: right;\n",
       "    }\n",
       "</style>\n",
       "<table border=\"1\" class=\"dataframe\">\n",
       "  <thead>\n",
       "    <tr style=\"text-align: right;\">\n",
       "      <th>Mayo_predicted</th>\n",
       "      <th>0</th>\n",
       "      <th>1</th>\n",
       "      <th>2</th>\n",
       "      <th>3</th>\n",
       "    </tr>\n",
       "    <tr>\n",
       "      <th>Mayo_true</th>\n",
       "      <th></th>\n",
       "      <th></th>\n",
       "      <th></th>\n",
       "      <th></th>\n",
       "    </tr>\n",
       "  </thead>\n",
       "  <tbody>\n",
       "    <tr>\n",
       "      <th>0</th>\n",
       "      <td>0.952767</td>\n",
       "      <td>0.020243</td>\n",
       "      <td>0.021592</td>\n",
       "      <td>0.005398</td>\n",
       "    </tr>\n",
       "    <tr>\n",
       "      <th>1</th>\n",
       "      <td>0.534545</td>\n",
       "      <td>0.287273</td>\n",
       "      <td>0.170909</td>\n",
       "      <td>0.007273</td>\n",
       "    </tr>\n",
       "    <tr>\n",
       "      <th>2</th>\n",
       "      <td>0.115646</td>\n",
       "      <td>0.108844</td>\n",
       "      <td>0.598639</td>\n",
       "      <td>0.176871</td>\n",
       "    </tr>\n",
       "    <tr>\n",
       "      <th>3</th>\n",
       "      <td>0.072993</td>\n",
       "      <td>0.021898</td>\n",
       "      <td>0.299270</td>\n",
       "      <td>0.605839</td>\n",
       "    </tr>\n",
       "  </tbody>\n",
       "</table>\n",
       "</div>"
      ],
      "text/plain": [
       "Mayo_predicted         0         1         2         3\n",
       "Mayo_true                                             \n",
       "0               0.952767  0.020243  0.021592  0.005398\n",
       "1               0.534545  0.287273  0.170909  0.007273\n",
       "2               0.115646  0.108844  0.598639  0.176871\n",
       "3               0.072993  0.021898  0.299270  0.605839"
      ]
     },
     "execution_count": 50,
     "metadata": {},
     "output_type": "execute_result"
    }
   ],
   "source": [
    "pd.crosstab(index=y_true, columns=y_pred, normalize='index')"
   ]
  },
  {
   "cell_type": "markdown",
   "metadata": {},
   "source": [
    "## Test on Video data"
   ]
  },
  {
   "cell_type": "code",
   "execution_count": 51,
   "metadata": {},
   "outputs": [],
   "source": [
    "video_path = '/nfs/turbo/intmed-bnallamo-turbo/wsliu/Data/UC_colonoscopy/'"
   ]
  },
  {
   "cell_type": "code",
   "execution_count": 52,
   "metadata": {},
   "outputs": [],
   "source": [
    "video_labels = pd.read_excel(video_path+'UC_Images_Labels/UC_deeplearning_imageLabels.xlsx')"
   ]
  },
  {
   "cell_type": "code",
   "execution_count": 58,
   "metadata": {},
   "outputs": [
    {
     "data": {
      "text/plain": [
       "Index(['ID', 'basefile', 'pathname', 'file_seq', 'SubjectID', 'Time_sec',\n",
       "       'Video_time', 'Mayo_0', 'Mayo_1', 'Mayo_2', 'Mayo_3',\n",
       "       'Poor_Image_underwater', 'Poor_Image_focus', 'Poor_Image_Stool',\n",
       "       'Poor_Image_Bubbles', 'Post_Biopsy_Bleeding', 'Findings_BiopsyForceps',\n",
       "       'Findings_Snare', 'Finding_Polyps', 'Finding_Pseudopolyps',\n",
       "       'Findings_Waterjet', 'Findings_Diverticula', 'Location_Ileum',\n",
       "       'Location_Cecum', 'Location_Retroflexion', 'Comments',\n",
       "       'Poor_Image_UNCLASSIFIED', 'Quality_Good', 'Findings_Pills_retained',\n",
       "       'Location_appendicealOriface', 'filename'],\n",
       "      dtype='object')"
      ]
     },
     "execution_count": 58,
     "metadata": {},
     "output_type": "execute_result"
    }
   ],
   "source": [
    "video_labels.columns"
   ]
  },
  {
   "cell_type": "code",
   "execution_count": 59,
   "metadata": {},
   "outputs": [],
   "source": [
    "video_labels = video_labels.loc[video_labels.Quality_Good==1]"
   ]
  },
  {
   "cell_type": "code",
   "execution_count": 61,
   "metadata": {},
   "outputs": [],
   "source": [
    "video_labels = video_labels.loc[video_labels[['Mayo_0', 'Mayo_1', 'Mayo_2', 'Mayo_3']].apply(sum, axis=1)==1]"
   ]
  },
  {
   "cell_type": "code",
   "execution_count": 54,
   "metadata": {},
   "outputs": [],
   "source": [
    "video_labels['filename'] = [str(s)+str(b) for s, b in zip(video_labels.SubjectID, video_labels.basefile)]"
   ]
  },
  {
   "cell_type": "code",
   "execution_count": 63,
   "metadata": {},
   "outputs": [],
   "source": [
    "video_labels = video_labels.dropna(subset=['filename', 'Mayo_0', 'Mayo_1', 'Mayo_2', 'Mayo_3'])"
   ]
  },
  {
   "cell_type": "code",
   "execution_count": 74,
   "metadata": {},
   "outputs": [],
   "source": [
    "video_labels['Mayo_score'] = 0\n",
    "video_labels.loc[video_labels.Mayo_1, 'Mayo_score'] = 1\n",
    "video_labels.loc[video_labels.Mayo_2, 'Mayo_score'] = 2\n",
    "video_labels.loc[video_labels.Mayo_3, 'Mayo_score'] = 3"
   ]
  },
  {
   "cell_type": "code",
   "execution_count": 82,
   "metadata": {},
   "outputs": [
    {
     "data": {
      "text/plain": [
       "0    5475\n",
       "1    1081\n",
       "2     583\n",
       "3     281\n",
       "Name: Mayo_true, dtype: int64"
      ]
     },
     "execution_count": 82,
     "metadata": {},
     "output_type": "execute_result"
    }
   ],
   "source": [
    "video_labels.Mayo_score.value_counts()"
   ]
  },
  {
   "cell_type": "code",
   "execution_count": 64,
   "metadata": {},
   "outputs": [
    {
     "data": {
      "text/plain": [
       "(7420, 31)"
      ]
     },
     "execution_count": 64,
     "metadata": {},
     "output_type": "execute_result"
    }
   ],
   "source": [
    "video_labels.shape"
   ]
  },
  {
   "cell_type": "markdown",
   "metadata": {},
   "source": [
    "### Prediction by 4 binary model"
   ]
  },
  {
   "cell_type": "code",
   "execution_count": 65,
   "metadata": {
    "scrolled": true
   },
   "outputs": [
    {
     "name": "stdout",
     "output_type": "stream",
     "text": [
      "Found 7433 images in the directory.\n",
      "Using Mayo_0 as binary label. \n",
      "Using Mayo_1 as binary label. \n",
      "Using Mayo_2 as binary label. \n",
      "Using Mayo_3 as binary label. \n",
      "Using 7420 images to generate mini-batches.\n"
     ]
    }
   ],
   "source": [
    "tst_gen = ImageFrameGenerator()\n",
    "tst_itr = tst_gen.flow_from_frame(video_path+'all/', video_labels, 'filename', \n",
    "                                   ['Mayo_0', 'Mayo_1', 'Mayo_2', 'Mayo_3'], label_types=['binary']*4, \n",
    "                                     target_size=(256, 320), batch_size=batch_size, shuffle=False)"
   ]
  },
  {
   "cell_type": "code",
   "execution_count": 67,
   "metadata": {},
   "outputs": [],
   "source": [
    "base_model = InceptionV3(weights='imagenet', include_top=False)\n",
    "x = base_model.output\n",
    "x = GlobalAveragePooling2D()(x)\n",
    "\n",
    "output0 = Dense(1, activation='sigmoid', name='Inflamm_Mayo_0')(x)\n",
    "output1 = Dense(1, activation='sigmoid', name='Inflamm_Mayo_1')(x)\n",
    "output2 = Dense(1, activation='sigmoid', name='Inflamm_Mayo_2')(x)\n",
    "output3 = Dense(1, activation='sigmoid', name='Inflamm_Mayo_3')(x)\n",
    "\n",
    "model = Model(inputs=base_model.input, outputs=[output0, output1, output2, output3])"
   ]
  },
  {
   "cell_type": "code",
   "execution_count": 68,
   "metadata": {},
   "outputs": [],
   "source": [
    "model.load_weights(model_path+'phase2_4binary0515.h5')"
   ]
  },
  {
   "cell_type": "code",
   "execution_count": 69,
   "metadata": {},
   "outputs": [
    {
     "name": "stdout",
     "output_type": "stream",
     "text": [
      "232/232 [==============================] - 211s 911ms/step\n"
     ]
    }
   ],
   "source": [
    "y = model.predict_generator(tst_itr, verbose=1)"
   ]
  },
  {
   "cell_type": "code",
   "execution_count": 70,
   "metadata": {},
   "outputs": [],
   "source": [
    "y_pred = np.concatenate(y, axis=1)"
   ]
  },
  {
   "cell_type": "code",
   "execution_count": 71,
   "metadata": {},
   "outputs": [],
   "source": [
    "y_true = video_labels[['Mayo_0', 'Mayo_1', 'Mayo_2', 'Mayo_3']].values"
   ]
  },
  {
   "cell_type": "code",
   "execution_count": 72,
   "metadata": {},
   "outputs": [
    {
     "data": {
      "text/plain": [
       "{0: 0.9352069584815298,\n",
       " 1: 0.883489415989209,\n",
       " 2: 0.9197086481562459,\n",
       " 3: 0.9557600250042497}"
      ]
     },
     "execution_count": 72,
     "metadata": {},
     "output_type": "execute_result"
    },
    {
     "data": {
      "image/png": "[encoded data removed]",
      "text/plain": [
       "<Figure size 432x288 with 1 Axes>"
      ]
     },
     "metadata": {},
     "output_type": "display_data"
    }
   ],
   "source": [
    "plot_roc(y_pred, y_true, classes=['Mayo_0', 'Mayo_1', 'Mayo_2', 'Mayo_3'])"
   ]
  },
  {
   "cell_type": "markdown",
   "metadata": {},
   "source": [
    "### Prediction by multiclass model"
   ]
  },
  {
   "cell_type": "code",
   "execution_count": 75,
   "metadata": {
    "scrolled": true
   },
   "outputs": [
    {
     "name": "stdout",
     "output_type": "stream",
     "text": [
      "Found 7433 images in the directory.\n",
      "Using Mayo_score as categorical label, with levels: {0: 0, 1: 1, 2: 2, 3: 3}\n",
      "Using 7420 images to generate mini-batches.\n"
     ]
    }
   ],
   "source": [
    "tst_gen = ImageFrameGenerator()\n",
    "tst_itr = tst_gen.flow_from_frame(video_path+'all/', video_labels, 'filename', \n",
    "                                   ['Mayo_score'], label_types=['categorical'], \n",
    "                                     target_size=(256, 320), batch_size=batch_size, shuffle=False)"
   ]
  },
  {
   "cell_type": "code",
   "execution_count": 76,
   "metadata": {},
   "outputs": [],
   "source": [
    "base_model = InceptionV3(weights='imagenet', include_top=False)\n",
    "x = base_model.output\n",
    "x = GlobalAveragePooling2D()(x)\n",
    "\n",
    "output = Dense(4, activation='softmax', name='Mayo_score')(x)\n",
    "\n",
    "model = Model(inputs=base_model.input, outputs=output)"
   ]
  },
  {
   "cell_type": "code",
   "execution_count": 77,
   "metadata": {},
   "outputs": [],
   "source": [
    "model.load_weights(model_path+'phase2_multiclass0515.h5')"
   ]
  },
  {
   "cell_type": "code",
   "execution_count": 78,
   "metadata": {},
   "outputs": [
    {
     "name": "stdout",
     "output_type": "stream",
     "text": [
      "232/232 [==============================] - 199s 858ms/step\n"
     ]
    }
   ],
   "source": [
    "y = model.predict_generator(tst_itr, verbose=1)"
   ]
  },
  {
   "cell_type": "code",
   "execution_count": 79,
   "metadata": {},
   "outputs": [],
   "source": [
    "y_pred = pd.Series(y.argmax(axis=1), dtype=int, name='Mayo_predicted')"
   ]
  },
  {
   "cell_type": "code",
   "execution_count": 80,
   "metadata": {},
   "outputs": [],
   "source": [
    "y_true = video_labels['Mayo_score']\n",
    "y_true.name = 'Mayo_true'\n",
    "y_true = y_true.astype(int)"
   ]
  },
  {
   "cell_type": "code",
   "execution_count": 84,
   "metadata": {},
   "outputs": [
    {
     "data": {
      "text/html": [
       "<div>\n",
       "<style scoped>\n",
       "    .dataframe tbody tr th:only-of-type {\n",
       "        vertical-align: middle;\n",
       "    }\n",
       "\n",
       "    .dataframe tbody tr th {\n",
       "        vertical-align: top;\n",
       "    }\n",
       "\n",
       "    .dataframe thead th {\n",
       "        text-align: right;\n",
       "    }\n",
       "</style>\n",
       "<table border=\"1\" class=\"dataframe\">\n",
       "  <thead>\n",
       "    <tr style=\"text-align: right;\">\n",
       "      <th>Mayo_predicted</th>\n",
       "      <th>0</th>\n",
       "      <th>1</th>\n",
       "      <th>2</th>\n",
       "      <th>3</th>\n",
       "      <th>All</th>\n",
       "    </tr>\n",
       "    <tr>\n",
       "      <th>Mayo_true</th>\n",
       "      <th></th>\n",
       "      <th></th>\n",
       "      <th></th>\n",
       "      <th></th>\n",
       "      <th></th>\n",
       "    </tr>\n",
       "  </thead>\n",
       "  <tbody>\n",
       "    <tr>\n",
       "      <th>0</th>\n",
       "      <td>1353</td>\n",
       "      <td>99</td>\n",
       "      <td>146</td>\n",
       "      <td>31</td>\n",
       "      <td>1629</td>\n",
       "    </tr>\n",
       "    <tr>\n",
       "      <th>1</th>\n",
       "      <td>177</td>\n",
       "      <td>6</td>\n",
       "      <td>29</td>\n",
       "      <td>8</td>\n",
       "      <td>220</td>\n",
       "    </tr>\n",
       "    <tr>\n",
       "      <th>2</th>\n",
       "      <td>68</td>\n",
       "      <td>6</td>\n",
       "      <td>19</td>\n",
       "      <td>0</td>\n",
       "      <td>93</td>\n",
       "    </tr>\n",
       "    <tr>\n",
       "      <th>All</th>\n",
       "      <td>1598</td>\n",
       "      <td>111</td>\n",
       "      <td>194</td>\n",
       "      <td>39</td>\n",
       "      <td>1942</td>\n",
       "    </tr>\n",
       "  </tbody>\n",
       "</table>\n",
       "</div>"
      ],
      "text/plain": [
       "Mayo_predicted     0    1    2   3   All\n",
       "Mayo_true                               \n",
       "0               1353   99  146  31  1629\n",
       "1                177    6   29   8   220\n",
       "2                 68    6   19   0    93\n",
       "All             1598  111  194  39  1942"
      ]
     },
     "execution_count": 84,
     "metadata": {},
     "output_type": "execute_result"
    }
   ],
   "source": [
    "pd.crosstab(index=y_true, columns=y_pred, margins=True)"
   ]
  },
  {
   "cell_type": "code",
   "execution_count": 87,
   "metadata": {},
   "outputs": [
    {
     "data": {
      "text/html": [
       "<div>\n",
       "<style scoped>\n",
       "    .dataframe tbody tr th:only-of-type {\n",
       "        vertical-align: middle;\n",
       "    }\n",
       "\n",
       "    .dataframe tbody tr th {\n",
       "        vertical-align: top;\n",
       "    }\n",
       "\n",
       "    .dataframe thead th {\n",
       "        text-align: right;\n",
       "    }\n",
       "</style>\n",
       "<table border=\"1\" class=\"dataframe\">\n",
       "  <thead>\n",
       "    <tr style=\"text-align: right;\">\n",
       "      <th>Mayo_predicted</th>\n",
       "      <th>0</th>\n",
       "      <th>1</th>\n",
       "      <th>2</th>\n",
       "      <th>3</th>\n",
       "    </tr>\n",
       "    <tr>\n",
       "      <th>Mayo_true</th>\n",
       "      <th></th>\n",
       "      <th></th>\n",
       "      <th></th>\n",
       "      <th></th>\n",
       "    </tr>\n",
       "  </thead>\n",
       "  <tbody>\n",
       "    <tr>\n",
       "      <th>0</th>\n",
       "      <td>0.830571</td>\n",
       "      <td>0.060773</td>\n",
       "      <td>0.089626</td>\n",
       "      <td>0.019030</td>\n",
       "    </tr>\n",
       "    <tr>\n",
       "      <th>1</th>\n",
       "      <td>0.804545</td>\n",
       "      <td>0.027273</td>\n",
       "      <td>0.131818</td>\n",
       "      <td>0.036364</td>\n",
       "    </tr>\n",
       "    <tr>\n",
       "      <th>2</th>\n",
       "      <td>0.731183</td>\n",
       "      <td>0.064516</td>\n",
       "      <td>0.204301</td>\n",
       "      <td>0.000000</td>\n",
       "    </tr>\n",
       "  </tbody>\n",
       "</table>\n",
       "</div>"
      ],
      "text/plain": [
       "Mayo_predicted         0         1         2         3\n",
       "Mayo_true                                             \n",
       "0               0.830571  0.060773  0.089626  0.019030\n",
       "1               0.804545  0.027273  0.131818  0.036364\n",
       "2               0.731183  0.064516  0.204301  0.000000"
      ]
     },
     "execution_count": 87,
     "metadata": {},
     "output_type": "execute_result"
    }
   ],
   "source": [
    "pd.crosstab(index=y_true, columns=y_pred, normalize='index')"
   ]
  },
  {
   "cell_type": "code",
   "execution_count": 91,
   "metadata": {},
   "outputs": [
    {
     "data": {
      "text/html": [
       "<div>\n",
       "<style scoped>\n",
       "    .dataframe tbody tr th:only-of-type {\n",
       "        vertical-align: middle;\n",
       "    }\n",
       "\n",
       "    .dataframe tbody tr th {\n",
       "        vertical-align: top;\n",
       "    }\n",
       "\n",
       "    .dataframe thead th {\n",
       "        text-align: right;\n",
       "    }\n",
       "</style>\n",
       "<table border=\"1\" class=\"dataframe\">\n",
       "  <thead>\n",
       "    <tr style=\"text-align: right;\">\n",
       "      <th>Mayo_predicted</th>\n",
       "      <th>0</th>\n",
       "      <th>1</th>\n",
       "      <th>2</th>\n",
       "      <th>3</th>\n",
       "      <th>All</th>\n",
       "    </tr>\n",
       "    <tr>\n",
       "      <th>Mayo_true</th>\n",
       "      <th></th>\n",
       "      <th></th>\n",
       "      <th></th>\n",
       "      <th></th>\n",
       "      <th></th>\n",
       "    </tr>\n",
       "  </thead>\n",
       "  <tbody>\n",
       "    <tr>\n",
       "      <th>0</th>\n",
       "      <td>5086</td>\n",
       "      <td>180</td>\n",
       "      <td>169</td>\n",
       "      <td>40</td>\n",
       "      <td>5475</td>\n",
       "    </tr>\n",
       "    <tr>\n",
       "      <th>1</th>\n",
       "      <td>389</td>\n",
       "      <td>483</td>\n",
       "      <td>197</td>\n",
       "      <td>12</td>\n",
       "      <td>1081</td>\n",
       "    </tr>\n",
       "    <tr>\n",
       "      <th>2</th>\n",
       "      <td>63</td>\n",
       "      <td>116</td>\n",
       "      <td>390</td>\n",
       "      <td>14</td>\n",
       "      <td>583</td>\n",
       "    </tr>\n",
       "    <tr>\n",
       "      <th>3</th>\n",
       "      <td>18</td>\n",
       "      <td>8</td>\n",
       "      <td>165</td>\n",
       "      <td>90</td>\n",
       "      <td>281</td>\n",
       "    </tr>\n",
       "    <tr>\n",
       "      <th>All</th>\n",
       "      <td>5556</td>\n",
       "      <td>787</td>\n",
       "      <td>921</td>\n",
       "      <td>156</td>\n",
       "      <td>7420</td>\n",
       "    </tr>\n",
       "  </tbody>\n",
       "</table>\n",
       "</div>"
      ],
      "text/plain": [
       "Mayo_predicted     0    1    2    3   All\n",
       "Mayo_true                                \n",
       "0               5086  180  169   40  5475\n",
       "1                389  483  197   12  1081\n",
       "2                 63  116  390   14   583\n",
       "3                 18    8  165   90   281\n",
       "All             5556  787  921  156  7420"
      ]
     },
     "execution_count": 91,
     "metadata": {},
     "output_type": "execute_result"
    }
   ],
   "source": [
    "pd.crosstab(pd.Series(y_true.values, name='Mayo_true'), pd.Series(y_pred.values, name='Mayo_predicted'), margins=True)"
   ]
  },
  {
   "cell_type": "code",
   "execution_count": 92,
   "metadata": {},
   "outputs": [
    {
     "data": {
      "text/html": [
       "<div>\n",
       "<style scoped>\n",
       "    .dataframe tbody tr th:only-of-type {\n",
       "        vertical-align: middle;\n",
       "    }\n",
       "\n",
       "    .dataframe tbody tr th {\n",
       "        vertical-align: top;\n",
       "    }\n",
       "\n",
       "    .dataframe thead th {\n",
       "        text-align: right;\n",
       "    }\n",
       "</style>\n",
       "<table border=\"1\" class=\"dataframe\">\n",
       "  <thead>\n",
       "    <tr style=\"text-align: right;\">\n",
       "      <th>Mayo_predicted</th>\n",
       "      <th>0</th>\n",
       "      <th>1</th>\n",
       "      <th>2</th>\n",
       "      <th>3</th>\n",
       "    </tr>\n",
       "    <tr>\n",
       "      <th>Mayo_true</th>\n",
       "      <th></th>\n",
       "      <th></th>\n",
       "      <th></th>\n",
       "      <th></th>\n",
       "    </tr>\n",
       "  </thead>\n",
       "  <tbody>\n",
       "    <tr>\n",
       "      <th>0</th>\n",
       "      <td>0.928950</td>\n",
       "      <td>0.032877</td>\n",
       "      <td>0.030868</td>\n",
       "      <td>0.007306</td>\n",
       "    </tr>\n",
       "    <tr>\n",
       "      <th>1</th>\n",
       "      <td>0.359852</td>\n",
       "      <td>0.446809</td>\n",
       "      <td>0.182239</td>\n",
       "      <td>0.011101</td>\n",
       "    </tr>\n",
       "    <tr>\n",
       "      <th>2</th>\n",
       "      <td>0.108062</td>\n",
       "      <td>0.198971</td>\n",
       "      <td>0.668954</td>\n",
       "      <td>0.024014</td>\n",
       "    </tr>\n",
       "    <tr>\n",
       "      <th>3</th>\n",
       "      <td>0.064057</td>\n",
       "      <td>0.028470</td>\n",
       "      <td>0.587189</td>\n",
       "      <td>0.320285</td>\n",
       "    </tr>\n",
       "  </tbody>\n",
       "</table>\n",
       "</div>"
      ],
      "text/plain": [
       "Mayo_predicted         0         1         2         3\n",
       "Mayo_true                                             \n",
       "0               0.928950  0.032877  0.030868  0.007306\n",
       "1               0.359852  0.446809  0.182239  0.011101\n",
       "2               0.108062  0.198971  0.668954  0.024014\n",
       "3               0.064057  0.028470  0.587189  0.320285"
      ]
     },
     "execution_count": 92,
     "metadata": {},
     "output_type": "execute_result"
    }
   ],
   "source": [
    "pd.crosstab(pd.Series(y_true.values, name='Mayo_true'), pd.Series(y_pred.values, name='Mayo_predicted'), normalize='index')"
   ]
  },
  {
   "cell_type": "markdown",
   "metadata": {},
   "source": [
    "## Model with Continuous Output"
   ]
  },
  {
   "cell_type": "code",
   "execution_count": 11,
   "metadata": {},
   "outputs": [],
   "source": [
    "from keras.applications.inception_v3 import InceptionV3"
   ]
  },
  {
   "cell_type": "code",
   "execution_count": 33,
   "metadata": {},
   "outputs": [],
   "source": [
    "from ggplot import *"
   ]
  },
  {
   "cell_type": "code",
   "execution_count": 12,
   "metadata": {},
   "outputs": [],
   "source": [
    "base_model = InceptionV3(weights='imagenet', include_top=False)"
   ]
  },
  {
   "cell_type": "code",
   "execution_count": 13,
   "metadata": {},
   "outputs": [],
   "source": [
    "x = base_model.output\n",
    "x = GlobalAveragePooling2D()(x)\n",
    "\n",
    "output1 = Dense(1, activation='linear', name='Mayo_score')(x)\n",
    "\n",
    "model = Model(inputs=base_model.input, outputs=output1)"
   ]
  },
  {
   "cell_type": "code",
   "execution_count": 60,
   "metadata": {},
   "outputs": [],
   "source": [
    "model.load_weights(model_path+'phase2_0512_cont_f.h5')"
   ]
  },
  {
   "cell_type": "code",
   "execution_count": 61,
   "metadata": {},
   "outputs": [
    {
     "name": "stdout",
     "output_type": "stream",
     "text": [
      "41/41 [==============================] - 19s 460ms/step\n"
     ]
    }
   ],
   "source": [
    "y = model.predict_generator(tst_itr, verbose=1)"
   ]
  },
  {
   "cell_type": "code",
   "execution_count": 62,
   "metadata": {},
   "outputs": [],
   "source": [
    "y_pred = y.reshape((y.shape[0],))"
   ]
  },
  {
   "cell_type": "code",
   "execution_count": 17,
   "metadata": {},
   "outputs": [],
   "source": [
    "y_true = tst_df.Mayo_score.values"
   ]
  },
  {
   "cell_type": "code",
   "execution_count": 20,
   "metadata": {
    "scrolled": true
   },
   "outputs": [
    {
     "data": {
      "text/plain": [
       "((1304,), (1304,))"
      ]
     },
     "execution_count": 20,
     "metadata": {},
     "output_type": "execute_result"
    }
   ],
   "source": [
    "y_pred.shape, y_true.shape"
   ]
  },
  {
   "cell_type": "code",
   "execution_count": 64,
   "metadata": {},
   "outputs": [],
   "source": [
    "out_df = pd.DataFrame(dict(y_pred=y_pred, y_true=y_true))"
   ]
  },
  {
   "cell_type": "code",
   "execution_count": 66,
   "metadata": {},
   "outputs": [],
   "source": [
    "out_df.y_true = out_df.y_true.astype('str')"
   ]
  },
  {
   "cell_type": "code",
   "execution_count": 54,
   "metadata": {
    "scrolled": false
   },
   "outputs": [
    {
     "data": {
      "image/png": "[encoded data removed]",
      "text/plain": [
       "<Figure size 792x576 with 1 Axes>"
      ]
     },
     "metadata": {},
     "output_type": "display_data"
    },
    {
     "data": {
      "text/plain": [
       "<ggplot: (-9223369082710965269)>"
      ]
     },
     "execution_count": 54,
     "metadata": {},
     "output_type": "execute_result"
    }
   ],
   "source": [
    "ggplot(out_df, aes(x='y_pred', colour='y_true')) + geom_density(alpha=0.9) + xlim(low=-1, high=5)"
   ]
  },
  {
   "cell_type": "code",
   "execution_count": 65,
   "metadata": {},
   "outputs": [
    {
     "data": {
      "text/plain": [
       "<matplotlib.axes._subplots.AxesSubplot at 0x2afd0b84c470>"
      ]
     },
     "execution_count": 65,
     "metadata": {},
     "output_type": "execute_result"
    },
    {
     "data": {
      "image/png": "[encoded data removed]",
      "text/plain": [
       "<Figure size 432x288 with 1 Axes>"
      ]
     },
     "metadata": {},
     "output_type": "display_data"
    }
   ],
   "source": [
    "out_df.plot.scatter(x='y_true', y='y_pred', ylim=(-1, 5))"
   ]
  },
  {
   "cell_type": "code",
   "execution_count": 67,
   "metadata": {},
   "outputs": [
    {
     "data": {
      "text/html": [
       "<div>\n",
       "<style scoped>\n",
       "    .dataframe tbody tr th:only-of-type {\n",
       "        vertical-align: middle;\n",
       "    }\n",
       "\n",
       "    .dataframe tbody tr th {\n",
       "        vertical-align: top;\n",
       "    }\n",
       "\n",
       "    .dataframe thead tr th {\n",
       "        text-align: left;\n",
       "    }\n",
       "\n",
       "    .dataframe thead tr:last-of-type th {\n",
       "        text-align: right;\n",
       "    }\n",
       "</style>\n",
       "<table border=\"1\" class=\"dataframe\">\n",
       "  <thead>\n",
       "    <tr>\n",
       "      <th></th>\n",
       "      <th colspan=\"8\" halign=\"left\">y_pred</th>\n",
       "    </tr>\n",
       "    <tr>\n",
       "      <th></th>\n",
       "      <th>count</th>\n",
       "      <th>mean</th>\n",
       "      <th>std</th>\n",
       "      <th>min</th>\n",
       "      <th>25%</th>\n",
       "      <th>50%</th>\n",
       "      <th>75%</th>\n",
       "      <th>max</th>\n",
       "    </tr>\n",
       "    <tr>\n",
       "      <th>y_true</th>\n",
       "      <th></th>\n",
       "      <th></th>\n",
       "      <th></th>\n",
       "      <th></th>\n",
       "      <th></th>\n",
       "      <th></th>\n",
       "      <th></th>\n",
       "      <th></th>\n",
       "    </tr>\n",
       "  </thead>\n",
       "  <tbody>\n",
       "    <tr>\n",
       "      <th>0</th>\n",
       "      <td>741.0</td>\n",
       "      <td>0.791134</td>\n",
       "      <td>1.953692</td>\n",
       "      <td>0.498022</td>\n",
       "      <td>0.660901</td>\n",
       "      <td>0.662145</td>\n",
       "      <td>0.685567</td>\n",
       "      <td>51.665691</td>\n",
       "    </tr>\n",
       "    <tr>\n",
       "      <th>1</th>\n",
       "      <td>277.0</td>\n",
       "      <td>3.531302</td>\n",
       "      <td>35.020256</td>\n",
       "      <td>0.622300</td>\n",
       "      <td>0.660998</td>\n",
       "      <td>0.665059</td>\n",
       "      <td>0.787127</td>\n",
       "      <td>546.386963</td>\n",
       "    </tr>\n",
       "    <tr>\n",
       "      <th>2</th>\n",
       "      <td>147.0</td>\n",
       "      <td>0.788031</td>\n",
       "      <td>0.200312</td>\n",
       "      <td>0.639661</td>\n",
       "      <td>0.661511</td>\n",
       "      <td>0.675686</td>\n",
       "      <td>0.855202</td>\n",
       "      <td>1.540114</td>\n",
       "    </tr>\n",
       "    <tr>\n",
       "      <th>3</th>\n",
       "      <td>139.0</td>\n",
       "      <td>0.823122</td>\n",
       "      <td>0.230037</td>\n",
       "      <td>0.657027</td>\n",
       "      <td>0.662225</td>\n",
       "      <td>0.683953</td>\n",
       "      <td>0.923668</td>\n",
       "      <td>1.625863</td>\n",
       "    </tr>\n",
       "  </tbody>\n",
       "</table>\n",
       "</div>"
      ],
      "text/plain": [
       "       y_pred                                                               \\\n",
       "        count      mean        std       min       25%       50%       75%   \n",
       "y_true                                                                       \n",
       "0       741.0  0.791134   1.953692  0.498022  0.660901  0.662145  0.685567   \n",
       "1       277.0  3.531302  35.020256  0.622300  0.660998  0.665059  0.787127   \n",
       "2       147.0  0.788031   0.200312  0.639661  0.661511  0.675686  0.855202   \n",
       "3       139.0  0.823122   0.230037  0.657027  0.662225  0.683953  0.923668   \n",
       "\n",
       "                    \n",
       "               max  \n",
       "y_true              \n",
       "0        51.665691  \n",
       "1       546.386963  \n",
       "2         1.540114  \n",
       "3         1.625863  "
      ]
     },
     "execution_count": 67,
     "metadata": {},
     "output_type": "execute_result"
    }
   ],
   "source": [
    "out_df.groupby('y_true').describe()"
   ]
  }
 ],
 "metadata": {
  "kernelspec": {
   "display_name": "Python 3",
   "language": "python",
   "name": "python3"
  },
  "language_info": {
   "codemirror_mode": {
    "name": "ipython",
    "version": 3
   },
   "file_extension": ".py",
   "mimetype": "text/x-python",
   "name": "python",
   "nbconvert_exporter": "python",
   "pygments_lexer": "ipython3",
   "version": "3.5.4"
  }
 },
 "nbformat": 4,
 "nbformat_minor": 2
}
