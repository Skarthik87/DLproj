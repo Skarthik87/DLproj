{
 "cells": [
  {
   "cell_type": "markdown",
   "metadata": {},
   "source": [
    "# Models for Larger Dataset"
   ]
  },
  {
   "cell_type": "code",
   "execution_count": 1,
   "metadata": {
    "scrolled": false
   },
   "outputs": [
    {
     "name": "stderr",
     "output_type": "stream",
     "text": [
      "/sw/lsa/centos7/python-anaconda-arc-connect/created-20170421/lib/python3.5/site-packages/h5py/__init__.py:36: FutureWarning: Conversion of the second argument of issubdtype from `float` to `np.floating` is deprecated. In future, it will be treated as `np.float64 == np.dtype(float).type`.\n",
      "  from ._conv import register_converters as _register_converters\n",
      "Using TensorFlow backend.\n"
     ]
    }
   ],
   "source": [
    "from keras import backend as K\n",
    "from keras.models import Sequential, Model\n",
    "from keras.layers import GlobalAveragePooling2D\n",
    "from keras.layers.core import Dense, Activation, Dropout, Lambda\n",
    "from keras.layers.convolutional import Conv2D\n",
    "from keras.optimizers import SGD, RMSprop, Adam\n",
    "from keras.preprocessing.image import ImageDataGenerator\n",
    "from keras.callbacks import ModelCheckpoint, ReduceLROnPlateau, EarlyStopping"
   ]
  },
  {
   "cell_type": "code",
   "execution_count": 2,
   "metadata": {},
   "outputs": [],
   "source": [
    "from keras.applications.inception_v3 import InceptionV3"
   ]
  },
  {
   "cell_type": "code",
   "execution_count": 3,
   "metadata": {},
   "outputs": [],
   "source": [
    "import os, sys\n",
    "import numpy as np\n",
    "import pandas as pd\n",
    "from sklearn.model_selection import train_test_split, GroupShuffleSplit\n",
    "from sklearn.metrics import cohen_kappa_score\n",
    "import matplotlib.pyplot as plt\n",
    "%matplotlib inline\n",
    "import pickle"
   ]
  },
  {
   "cell_type": "code",
   "execution_count": 4,
   "metadata": {},
   "outputs": [],
   "source": [
    "module_path = os.path.abspath(os.path.join('..'))\n",
    "if module_path not in sys.path:\n",
    "    sys.path.append(module_path)\n",
    "\n",
    "from keras_addon import ImageFrameGenerator, AUCCheckPoint\n",
    "\n",
    "from DL_utils import plot_roc"
   ]
  },
  {
   "cell_type": "code",
   "execution_count": 5,
   "metadata": {},
   "outputs": [],
   "source": [
    "path  =  \"/nfs/turbo/intmed-bnallamo-turbo/wsliu/Data/colonoscopy2/\"\n",
    "model_path = path + 'models/'\n",
    "if not os.path.exists(model_path): \n",
    "    os.mkdir(model_path)\n",
    "data_path = path+'subset/'"
   ]
  },
  {
   "cell_type": "code",
   "execution_count": 6,
   "metadata": {},
   "outputs": [],
   "source": [
    "batch_size = 32"
   ]
  },
  {
   "cell_type": "markdown",
   "metadata": {},
   "source": [
    "## Preparation\n",
    "Check up the labels and image files. Split into training and validation sets. "
   ]
  },
  {
   "cell_type": "code",
   "execution_count": 27,
   "metadata": {},
   "outputs": [],
   "source": [
    "filenames = os.listdir(path+'all_images/')"
   ]
  },
  {
   "cell_type": "code",
   "execution_count": 7,
   "metadata": {},
   "outputs": [],
   "source": [
    "labels = pd.read_excel(path+'UC_Provation_trainingSet_labels_27MAY2018.xlsx')"
   ]
  },
  {
   "cell_type": "code",
   "execution_count": 8,
   "metadata": {},
   "outputs": [
    {
     "data": {
      "text/plain": [
       "Index(['basefile', 'pathname', 'SourceReportName', 'Inflamm_Mayo_0',\n",
       "       'Inflamm_Mayo_1', 'Inflamm_Mayo_2', 'Inflamm_Mayo_3'],\n",
       "      dtype='object')"
      ]
     },
     "execution_count": 8,
     "metadata": {},
     "output_type": "execute_result"
    }
   ],
   "source": [
    "labels.columns"
   ]
  },
  {
   "cell_type": "code",
   "execution_count": 9,
   "metadata": {
    "scrolled": true
   },
   "outputs": [],
   "source": [
    "double_labeled = labels[['Inflamm_Mayo_0', 'Inflamm_Mayo_1', 'Inflamm_Mayo_2', 'Inflamm_Mayo_3']].apply(sum, axis=1)>1"
   ]
  },
  {
   "cell_type": "code",
   "execution_count": 10,
   "metadata": {},
   "outputs": [
    {
     "data": {
      "text/html": [
       "<div>\n",
       "<style scoped>\n",
       "    .dataframe tbody tr th:only-of-type {\n",
       "        vertical-align: middle;\n",
       "    }\n",
       "\n",
       "    .dataframe tbody tr th {\n",
       "        vertical-align: top;\n",
       "    }\n",
       "\n",
       "    .dataframe thead th {\n",
       "        text-align: right;\n",
       "    }\n",
       "</style>\n",
       "<table border=\"1\" class=\"dataframe\">\n",
       "  <thead>\n",
       "    <tr style=\"text-align: right;\">\n",
       "      <th></th>\n",
       "      <th>basefile</th>\n",
       "      <th>pathname</th>\n",
       "      <th>SourceReportName</th>\n",
       "      <th>Inflamm_Mayo_0</th>\n",
       "      <th>Inflamm_Mayo_1</th>\n",
       "      <th>Inflamm_Mayo_2</th>\n",
       "      <th>Inflamm_Mayo_3</th>\n",
       "    </tr>\n",
       "  </thead>\n",
       "  <tbody>\n",
       "  </tbody>\n",
       "</table>\n",
       "</div>"
      ],
      "text/plain": [
       "Empty DataFrame\n",
       "Columns: [basefile, pathname, SourceReportName, Inflamm_Mayo_0, Inflamm_Mayo_1, Inflamm_Mayo_2, Inflamm_Mayo_3]\n",
       "Index: []"
      ]
     },
     "execution_count": 10,
     "metadata": {},
     "output_type": "execute_result"
    }
   ],
   "source": [
    "labels.loc[double_labeled==True]"
   ]
  },
  {
   "cell_type": "code",
   "execution_count": 11,
   "metadata": {},
   "outputs": [
    {
     "data": {
      "text/html": [
       "<div>\n",
       "<style scoped>\n",
       "    .dataframe tbody tr th:only-of-type {\n",
       "        vertical-align: middle;\n",
       "    }\n",
       "\n",
       "    .dataframe tbody tr th {\n",
       "        vertical-align: top;\n",
       "    }\n",
       "\n",
       "    .dataframe thead th {\n",
       "        text-align: right;\n",
       "    }\n",
       "</style>\n",
       "<table border=\"1\" class=\"dataframe\">\n",
       "  <thead>\n",
       "    <tr style=\"text-align: right;\">\n",
       "      <th></th>\n",
       "      <th>basefile</th>\n",
       "      <th>pathname</th>\n",
       "      <th>SourceReportName</th>\n",
       "      <th>Inflamm_Mayo_0</th>\n",
       "      <th>Inflamm_Mayo_1</th>\n",
       "      <th>Inflamm_Mayo_2</th>\n",
       "      <th>Inflamm_Mayo_3</th>\n",
       "    </tr>\n",
       "  </thead>\n",
       "  <tbody>\n",
       "    <tr>\n",
       "      <th>0</th>\n",
       "      <td>BM_col_1000-2.jpg</td>\n",
       "      <td>E:\\TEMP\\UPDATED FILES\\Colon_Images_Original_07...</td>\n",
       "      <td>BM_col_1000</td>\n",
       "      <td>False</td>\n",
       "      <td>True</td>\n",
       "      <td>False</td>\n",
       "      <td>False</td>\n",
       "    </tr>\n",
       "    <tr>\n",
       "      <th>1</th>\n",
       "      <td>BM_col_1000-3.jpg</td>\n",
       "      <td>E:\\TEMP\\UPDATED FILES\\Colon_Images_Original_07...</td>\n",
       "      <td>BM_col_1000</td>\n",
       "      <td>False</td>\n",
       "      <td>False</td>\n",
       "      <td>True</td>\n",
       "      <td>False</td>\n",
       "    </tr>\n",
       "    <tr>\n",
       "      <th>2</th>\n",
       "      <td>BM_col_1000-5.jpg</td>\n",
       "      <td>E:\\TEMP\\UPDATED FILES\\Colon_Images_Original_07...</td>\n",
       "      <td>BM_col_1000</td>\n",
       "      <td>True</td>\n",
       "      <td>False</td>\n",
       "      <td>False</td>\n",
       "      <td>False</td>\n",
       "    </tr>\n",
       "    <tr>\n",
       "      <th>3</th>\n",
       "      <td>BM_col_1000-7.jpg</td>\n",
       "      <td>E:\\TEMP\\UPDATED FILES\\Colon_Images_Original_07...</td>\n",
       "      <td>BM_col_1000</td>\n",
       "      <td>True</td>\n",
       "      <td>False</td>\n",
       "      <td>False</td>\n",
       "      <td>False</td>\n",
       "    </tr>\n",
       "    <tr>\n",
       "      <th>4</th>\n",
       "      <td>BM_col_1000-8.jpg</td>\n",
       "      <td>E:\\TEMP\\UPDATED FILES\\Colon_Images_Original_07...</td>\n",
       "      <td>BM_col_1000</td>\n",
       "      <td>True</td>\n",
       "      <td>False</td>\n",
       "      <td>False</td>\n",
       "      <td>False</td>\n",
       "    </tr>\n",
       "  </tbody>\n",
       "</table>\n",
       "</div>"
      ],
      "text/plain": [
       "            basefile                                           pathname  \\\n",
       "0  BM_col_1000-2.jpg  E:\\TEMP\\UPDATED FILES\\Colon_Images_Original_07...   \n",
       "1  BM_col_1000-3.jpg  E:\\TEMP\\UPDATED FILES\\Colon_Images_Original_07...   \n",
       "2  BM_col_1000-5.jpg  E:\\TEMP\\UPDATED FILES\\Colon_Images_Original_07...   \n",
       "3  BM_col_1000-7.jpg  E:\\TEMP\\UPDATED FILES\\Colon_Images_Original_07...   \n",
       "4  BM_col_1000-8.jpg  E:\\TEMP\\UPDATED FILES\\Colon_Images_Original_07...   \n",
       "\n",
       "  SourceReportName  Inflamm_Mayo_0  Inflamm_Mayo_1  Inflamm_Mayo_2  \\\n",
       "0      BM_col_1000           False            True           False   \n",
       "1      BM_col_1000           False           False            True   \n",
       "2      BM_col_1000            True           False           False   \n",
       "3      BM_col_1000            True           False           False   \n",
       "4      BM_col_1000            True           False           False   \n",
       "\n",
       "   Inflamm_Mayo_3  \n",
       "0           False  \n",
       "1           False  \n",
       "2           False  \n",
       "3           False  \n",
       "4           False  "
      ]
     },
     "execution_count": 11,
     "metadata": {},
     "output_type": "execute_result"
    }
   ],
   "source": [
    "labels.head()"
   ]
  },
  {
   "cell_type": "markdown",
   "metadata": {},
   "source": [
    "Mayo-0  Mayo-1  Mayo-2  Mayo-3\n",
    "7943       2690       1457       1159\n"
   ]
  },
  {
   "cell_type": "code",
   "execution_count": 12,
   "metadata": {},
   "outputs": [
    {
     "data": {
      "text/plain": [
       "False    13494\n",
       "True      1336\n",
       "Name: Inflamm_Mayo_3, dtype: int64"
      ]
     },
     "execution_count": 12,
     "metadata": {},
     "output_type": "execute_result"
    }
   ],
   "source": [
    "labels.Inflamm_Mayo_3.value_counts()"
   ]
  },
  {
   "cell_type": "code",
   "execution_count": 8,
   "metadata": {},
   "outputs": [
    {
     "data": {
      "text/plain": [
       "False    13226\n",
       "Name: Poor_Image_UNCLASSIFIED, dtype: int64"
      ]
     },
     "execution_count": 8,
     "metadata": {},
     "output_type": "execute_result"
    }
   ],
   "source": [
    "labels['Poor_Image_UNCLASSIFIED'].value_counts()"
   ]
  },
  {
   "cell_type": "code",
   "execution_count": 9,
   "metadata": {},
   "outputs": [
    {
     "data": {
      "text/plain": [
       "False    13226\n",
       "Name: Poor_GRAPHIC, dtype: int64"
      ]
     },
     "execution_count": 9,
     "metadata": {},
     "output_type": "execute_result"
    }
   ],
   "source": [
    "labels['Poor_GRAPHIC'].value_counts()"
   ]
  },
  {
   "cell_type": "code",
   "execution_count": 17,
   "metadata": {},
   "outputs": [],
   "source": [
    "errors = ['BM_col_2608-2.jpg', 'FS_273.jpg', 'FS_405.jpg', 'FS_1434.jpg', 'FS_2259.jpg', 'FS_2916.jpg']"
   ]
  },
  {
   "cell_type": "code",
   "execution_count": 20,
   "metadata": {},
   "outputs": [],
   "source": [
    "labels = labels.loc[~labels['basefile'].isin(errors)]"
   ]
  },
  {
   "cell_type": "code",
   "execution_count": 18,
   "metadata": {},
   "outputs": [],
   "source": [
    "labels = labels.loc[~double_labeled]"
   ]
  },
  {
   "cell_type": "code",
   "execution_count": 13,
   "metadata": {
    "scrolled": true
   },
   "outputs": [
    {
     "data": {
      "text/plain": [
       "(14830, 7)"
      ]
     },
     "execution_count": 13,
     "metadata": {},
     "output_type": "execute_result"
    }
   ],
   "source": [
    "labels.shape"
   ]
  },
  {
   "cell_type": "markdown",
   "metadata": {},
   "source": [
    "Make a subset copy of the images, so the generator can run faster. "
   ]
  },
  {
   "cell_type": "code",
   "execution_count": 28,
   "metadata": {},
   "outputs": [],
   "source": [
    "labeled = set(labels.basefile)\n",
    "\n",
    "from shutil import copyfile\n",
    "\n",
    "for f in filenames:\n",
    "    if f in labeled:\n",
    "        copyfile(path+'all_images/'+f, path+'subset/'+f)"
   ]
  },
  {
   "cell_type": "code",
   "execution_count": 33,
   "metadata": {
    "scrolled": true
   },
   "outputs": [
    {
     "data": {
      "text/plain": [
       "False    13494\n",
       "True      1336\n",
       "Name: Inflamm_Mayo_3, dtype: int64"
      ]
     },
     "execution_count": 33,
     "metadata": {},
     "output_type": "execute_result"
    }
   ],
   "source": [
    "labels.Inflamm_Mayo_3.value_counts()"
   ]
  },
  {
   "cell_type": "markdown",
   "metadata": {},
   "source": [
    "Create labels for multi-binary classification:"
   ]
  },
  {
   "cell_type": "code",
   "execution_count": 29,
   "metadata": {},
   "outputs": [],
   "source": [
    "labels['split0_123'] = (~labels.Inflamm_Mayo_0).astype(int)\n",
    "labels['split01_23'] = (labels.Inflamm_Mayo_2 | labels.Inflamm_Mayo_3).astype(int)\n",
    "labels['split012_3'] = labels.Inflamm_Mayo_3.astype(int)"
   ]
  },
  {
   "cell_type": "code",
   "execution_count": 30,
   "metadata": {},
   "outputs": [
    {
     "data": {
      "text/plain": [
       "0    8594\n",
       "1    6236\n",
       "Name: split0_123, dtype: int64"
      ]
     },
     "execution_count": 30,
     "metadata": {},
     "output_type": "execute_result"
    }
   ],
   "source": [
    "labels.split0_123.value_counts()"
   ]
  },
  {
   "cell_type": "code",
   "execution_count": 31,
   "metadata": {},
   "outputs": [
    {
     "data": {
      "text/plain": [
       "0    12020\n",
       "1     2810\n",
       "Name: split01_23, dtype: int64"
      ]
     },
     "execution_count": 31,
     "metadata": {},
     "output_type": "execute_result"
    }
   ],
   "source": [
    "labels.split01_23.value_counts()"
   ]
  },
  {
   "cell_type": "code",
   "execution_count": 32,
   "metadata": {
    "scrolled": true
   },
   "outputs": [
    {
     "data": {
      "text/plain": [
       "0    13494\n",
       "1     1336\n",
       "Name: split012_3, dtype: int64"
      ]
     },
     "execution_count": 32,
     "metadata": {},
     "output_type": "execute_result"
    }
   ],
   "source": [
    "labels.split012_3.value_counts()"
   ]
  },
  {
   "cell_type": "code",
   "execution_count": 34,
   "metadata": {},
   "outputs": [],
   "source": [
    "labels['Mayo_score'] = 0\n",
    "labels.loc[labels.Inflamm_Mayo_1, 'Mayo_score'] = 1\n",
    "labels.loc[labels.Inflamm_Mayo_2, 'Mayo_score'] = 2\n",
    "labels.loc[labels.Inflamm_Mayo_3, 'Mayo_score'] = 3"
   ]
  },
  {
   "cell_type": "code",
   "execution_count": 35,
   "metadata": {
    "scrolled": true
   },
   "outputs": [
    {
     "data": {
      "text/plain": [
       "0    8594\n",
       "1    3426\n",
       "2    1474\n",
       "3    1336\n",
       "Name: Mayo_score, dtype: int64"
      ]
     },
     "execution_count": 35,
     "metadata": {},
     "output_type": "execute_result"
    }
   ],
   "source": [
    "labels.Mayo_score.value_counts()"
   ]
  },
  {
   "cell_type": "code",
   "execution_count": 36,
   "metadata": {},
   "outputs": [
    {
     "data": {
      "text/plain": [
       "(14830, 3038)"
      ]
     },
     "execution_count": 36,
     "metadata": {},
     "output_type": "execute_result"
    }
   ],
   "source": [
    "len(labels), len(labels.SourceReportName.value_counts())"
   ]
  },
  {
   "cell_type": "markdown",
   "metadata": {},
   "source": [
    "Splitting of training/validation and testing (I use \"train\" to denote training and validation data, and \"tst\" to denote testing data; use \"trn\" and \"val\" for the training/validation splitting):"
   ]
  },
  {
   "cell_type": "code",
   "execution_count": 40,
   "metadata": {},
   "outputs": [],
   "source": [
    "labels = labels.reset_index(drop=True)\n",
    "split = GroupShuffleSplit(n_splits=1, test_size=0.1, random_state=24)\n",
    "ind = split.split(labels, groups=labels['SourceReportName'])\n",
    "train_ind, tst_ind = next(ind)\n",
    "train_patients = set(labels.loc[train_ind, 'SourceReportName'])\n",
    "tst_patients = set(labels.loc[tst_ind, 'SourceReportName'])\n",
    "train_df = labels.loc[train_ind]\n",
    "tst_df = labels.loc[tst_ind]"
   ]
  },
  {
   "cell_type": "code",
   "execution_count": 41,
   "metadata": {},
   "outputs": [
    {
     "data": {
      "text/plain": [
       "((13312,), (1518,), 2734, 304)"
      ]
     },
     "execution_count": 41,
     "metadata": {},
     "output_type": "execute_result"
    }
   ],
   "source": [
    "train_ind.shape, tst_ind.shape, len(train_patients), len(tst_patients)"
   ]
  },
  {
   "cell_type": "code",
   "execution_count": 43,
   "metadata": {},
   "outputs": [],
   "source": [
    "train_df.to_csv(path+'train_labels.csv', index=False)\n",
    "tst_df.to_csv(path+'tst_labels.csv', index=False)"
   ]
  },
  {
   "cell_type": "markdown",
   "metadata": {},
   "source": [
    "Splitting of training and validation sets:"
   ]
  },
  {
   "cell_type": "code",
   "execution_count": 62,
   "metadata": {},
   "outputs": [],
   "source": [
    "labels = pd.read_csv(path+'train_labels.csv')"
   ]
  },
  {
   "cell_type": "code",
   "execution_count": 63,
   "metadata": {},
   "outputs": [],
   "source": [
    "labels = labels.reset_index(drop=True)\n",
    "split = GroupShuffleSplit(n_splits=1, test_size=0.11, random_state=24)\n",
    "ind = split.split(labels, groups=labels['SourceReportName'])\n",
    "trn_ind, val_ind = next(ind)\n",
    "\n",
    "trn_patients = set(labels.loc[trn_ind, 'SourceReportName'])\n",
    "val_patients = set(labels.loc[val_ind, 'SourceReportName'])\n",
    "\n",
    "trn_df = labels.loc[trn_ind]\n",
    "val_df = labels.loc[val_ind]"
   ]
  },
  {
   "cell_type": "code",
   "execution_count": 64,
   "metadata": {},
   "outputs": [
    {
     "data": {
      "text/plain": [
       "((11832,), (1480,), 2433, 301)"
      ]
     },
     "execution_count": 64,
     "metadata": {},
     "output_type": "execute_result"
    }
   ],
   "source": [
    "trn_ind.shape, val_ind.shape, len(trn_patients), len(val_patients)"
   ]
  },
  {
   "cell_type": "code",
   "execution_count": 10,
   "metadata": {
    "scrolled": false
   },
   "outputs": [
    {
     "data": {
      "text/plain": [
       "0    1344\n",
       "1     136\n",
       "Name: split012_3, dtype: int64"
      ]
     },
     "execution_count": 10,
     "metadata": {},
     "output_type": "execute_result"
    }
   ],
   "source": [
    "val_df.split012_3.value_counts()"
   ]
  },
  {
   "cell_type": "code",
   "execution_count": 48,
   "metadata": {},
   "outputs": [
    {
     "data": {
      "text/plain": [
       "0    865\n",
       "1    340\n",
       "2    139\n",
       "3    136\n",
       "Name: Mayo_score, dtype: int64"
      ]
     },
     "execution_count": 48,
     "metadata": {},
     "output_type": "execute_result"
    }
   ],
   "source": [
    "val_df.Mayo_score.value_counts()"
   ]
  },
  {
   "cell_type": "markdown",
   "metadata": {},
   "source": [
    "## Data Generator"
   ]
  },
  {
   "cell_type": "code",
   "execution_count": 9,
   "metadata": {},
   "outputs": [],
   "source": [
    "from keras_addon import ImageFrameGenerator"
   ]
  },
  {
   "cell_type": "code",
   "execution_count": 56,
   "metadata": {},
   "outputs": [
    {
     "data": {
      "text/plain": [
       "<module 'keras_addon' from '/home/wsliu/Codes/DLproj/keras_addon.py'>"
      ]
     },
     "execution_count": 56,
     "metadata": {},
     "output_type": "execute_result"
    }
   ],
   "source": [
    "import keras_addon\n",
    "from importlib import reload\n",
    "reload(keras_addon)"
   ]
  },
  {
   "cell_type": "code",
   "execution_count": 10,
   "metadata": {},
   "outputs": [],
   "source": [
    "train_gen = ImageFrameGenerator( \n",
    "        rotation_range=180,\n",
    "        width_shift_range=0.2,\n",
    "        height_shift_range=0.2,\n",
    "        shear_range=0.1,\n",
    "        zoom_range=0.2,\n",
    "        horizontal_flip=True,\n",
    "        vertical_flip=True,\n",
    "        fill_mode='nearest')"
   ]
  },
  {
   "cell_type": "code",
   "execution_count": 11,
   "metadata": {
    "scrolled": true
   },
   "outputs": [],
   "source": [
    "validation_gen = ImageFrameGenerator()"
   ]
  },
  {
   "cell_type": "code",
   "execution_count": 12,
   "metadata": {},
   "outputs": [
    {
     "name": "stdout",
     "output_type": "stream",
     "text": [
      "Found 14830 images in the directory.\n",
      "Using split0_123 as categorical label, with levels: {0: 0, 1: 1}\n",
      "Using split01_23 as categorical label, with levels: {0: 0, 1: 1}\n",
      "Using split012_3 as categorical label, with levels: {0: 0, 1: 1}\n",
      "Using 11832 images to generate mini-batches.\n"
     ]
    }
   ],
   "source": [
    "trn_itr = train_gen.flow_from_frame(data_path, trn_df, 'basefile', ['split0_123', 'split01_23', 'split012_3'], \n",
    "                                     target_size=(256, 320), label_types = ['categorical']*3, batch_size=batch_size)"
   ]
  },
  {
   "cell_type": "code",
   "execution_count": 13,
   "metadata": {
    "scrolled": false
   },
   "outputs": [
    {
     "name": "stdout",
     "output_type": "stream",
     "text": [
      "Found 14830 images in the directory.\n",
      "Using split0_123 as categorical label, with levels: {0: 0, 1: 1}\n",
      "Using split01_23 as categorical label, with levels: {0: 0, 1: 1}\n",
      "Using split012_3 as categorical label, with levels: {0: 0, 1: 1}\n",
      "Using 1480 images to generate mini-batches.\n"
     ]
    }
   ],
   "source": [
    "val_itr = validation_gen.flow_from_frame(data_path, val_df, 'basefile', ['split0_123', 'split01_23', 'split012_3'], \n",
    "                                     target_size=(256, 320), label_types = ['categorical']*3, batch_size=batch_size, \n",
    "                                         shuffle=False)"
   ]
  },
  {
   "cell_type": "markdown",
   "metadata": {},
   "source": [
    "## Model with 3 binary output"
   ]
  },
  {
   "cell_type": "code",
   "execution_count": 175,
   "metadata": {},
   "outputs": [],
   "source": [
    "base_model = InceptionV3(weights='imagenet', include_top=False)\n",
    "\n",
    "x = base_model.output\n",
    "x = GlobalAveragePooling2D()(x)\n",
    "\n",
    "output1 = Dense(2, activation='softmax', name='split0_123')(x)\n",
    "output2 = Dense(2, activation='softmax', name='split01_23')(x)\n",
    "output3 = Dense(2, activation='softmax', name='split012_3')(x)\n",
    "\n",
    "model = Model(inputs=base_model.input, outputs=[output1, output2, output3])"
   ]
  },
  {
   "cell_type": "code",
   "execution_count": 15,
   "metadata": {},
   "outputs": [],
   "source": [
    "model.compile(optimizer='adam', loss='categorical_crossentropy')"
   ]
  },
  {
   "cell_type": "code",
   "execution_count": 16,
   "metadata": {},
   "outputs": [],
   "source": [
    "checkpointer = ModelCheckpoint(filepath=model_path+'binary3_valloss_0528.h5', verbose=0, save_best_only=True, \n",
    "                               save_weights_only=True)\n",
    "auccheckpt = AUCCheckPoint(filepath=model_path+'binary3_auc_0528.h5', \n",
    "                           validation_y=val_df[['split0_123', 'split01_23', 'split012_3']].values, validation_itr=val_itr)\n",
    "reduce_lr = ReduceLROnPlateau(monitor='loss', factor=0.2, patience=5, min_lr=1.e-8)\n",
    "earlystop = EarlyStopping(monitor='val_loss', patience=40)"
   ]
  },
  {
   "cell_type": "code",
   "execution_count": 17,
   "metadata": {},
   "outputs": [],
   "source": [
    "class_weight = {'split0_123':{0:len(trn_df)/sum(trn_df.split0_123==0), 1:len(trn_df)/sum(trn_df.split0_123==1)}, \n",
    "               'split01_23':{0:len(trn_df)/sum(trn_df.split01_23==0), 1:len(trn_df)/sum(trn_df.split01_23==1)}, \n",
    "               'split012_3':{0:len(trn_df)/sum(trn_df.split012_3==0), 1:len(trn_df)/sum(trn_df.split012_3==1)}}"
   ]
  },
  {
   "cell_type": "code",
   "execution_count": 63,
   "metadata": {},
   "outputs": [
    {
     "data": {
      "text/plain": [
       "{'split012_3': {0: 1.0975881261595548, 1: 11.247148288973383},\n",
       " 'split01_23': {0: 1.234686423875613, 1: 5.2610048910626945},\n",
       " 'split0_123': {0: 1.7190178701147756, 1: 2.390786017377248}}"
      ]
     },
     "execution_count": 63,
     "metadata": {},
     "output_type": "execute_result"
    }
   ],
   "source": [
    "class_weight"
   ]
  },
  {
   "cell_type": "code",
   "execution_count": 18,
   "metadata": {
    "scrolled": true
   },
   "outputs": [
    {
     "name": "stdout",
     "output_type": "stream",
     "text": [
      "Epoch 1/5\n",
      "369/369 [==============================] - 554s 2s/step - loss: 2.5670 - split0_123_loss: 1.0197 - split01_23_loss: 0.8199 - split012_3_loss: 0.7274 - val_loss: 1.9721 - val_split0_123_loss: 0.9213 - val_split01_23_loss: 0.6542 - val_split012_3_loss: 0.3966\n",
      "AUC_split0_123: 0.4652\n",
      "AUC_split01_23: 0.5405\n",
      "AUC_split012_3: 0.5990\n",
      "AUC: 0.5349\n",
      "\n",
      "Epoch 2/5\n",
      "369/369 [==============================] - 537s 1s/step - loss: 2.2538 - split0_123_loss: 0.9314 - split01_23_loss: 0.7098 - split012_3_loss: 0.6126 - val_loss: 2.0468 - val_split0_123_loss: 0.7240 - val_split01_23_loss: 0.7554 - val_split012_3_loss: 0.5673\n",
      "AUC_split0_123: 0.9094\n",
      "AUC_split01_23: 0.9512\n",
      "AUC_split012_3: 0.9642\n",
      "AUC: 0.9416\n",
      "\n",
      "Epoch 3/5\n",
      "369/369 [==============================] - 537s 1s/step - loss: 1.9997 - split0_123_loss: 0.8498 - split01_23_loss: 0.6189 - split012_3_loss: 0.5310 - val_loss: 3.1233 - val_split0_123_loss: 1.7791 - val_split01_23_loss: 0.9919 - val_split012_3_loss: 0.3522\n",
      "AUC_split0_123: 0.7529\n",
      "AUC_split01_23: 0.7473\n",
      "AUC_split012_3: 0.8041\n",
      "AUC: 0.7681\n",
      "\n",
      "Epoch 4/5\n",
      "369/369 [==============================] - 537s 1s/step - loss: 1.8665 - split0_123_loss: 0.7975 - split01_23_loss: 0.5796 - split012_3_loss: 0.4894 - val_loss: 0.9720 - val_split0_123_loss: 0.5587 - val_split01_23_loss: 0.2579 - val_split012_3_loss: 0.1555\n",
      "AUC_split0_123: 0.9019\n",
      "AUC_split01_23: 0.9368\n",
      "AUC_split012_3: 0.9491\n",
      "AUC: 0.9293\n",
      "\n",
      "Epoch 5/5\n",
      "369/369 [==============================] - 538s 1s/step - loss: 1.8503 - split0_123_loss: 0.8135 - split01_23_loss: 0.5608 - split012_3_loss: 0.4761 - val_loss: 2.8549 - val_split0_123_loss: 2.2717 - val_split01_23_loss: 0.4386 - val_split012_3_loss: 0.1446\n",
      "AUC_split0_123: 0.6948\n",
      "AUC_split01_23: 0.9659\n",
      "AUC_split012_3: 0.9739\n",
      "AUC: 0.8782\n",
      "\n"
     ]
    }
   ],
   "source": [
    "history = model.fit_generator(trn_itr, steps_per_epoch=trn_itr.n // batch_size, epochs=5, \n",
    "                              validation_data=val_itr, validation_steps=val_itr.n // batch_size, \n",
    "                              callbacks=[checkpointer, auccheckpt, reduce_lr, earlystop], class_weight = class_weight, \n",
    "                                verbose=1)"
   ]
  },
  {
   "cell_type": "code",
   "execution_count": 19,
   "metadata": {},
   "outputs": [
    {
     "data": {
      "text/plain": [
       "{'split012_3': [0.5990349264705882,\n",
       "  0.9641653536414567,\n",
       "  0.804107580532213,\n",
       "  0.949076505602241,\n",
       "  0.9738817401960784],\n",
       " 'split01_23': [0.5405084873632591,\n",
       "  0.9512214258770275,\n",
       "  0.7472802715956244,\n",
       "  0.9368359109769899,\n",
       "  0.9659298377970578],\n",
       " 'split0_123': [0.46521171107664827,\n",
       "  0.909426194839983,\n",
       "  0.7528568071807886,\n",
       "  0.9019314817425632,\n",
       "  0.6948230649936558]}"
      ]
     },
     "execution_count": 19,
     "metadata": {},
     "output_type": "execute_result"
    }
   ],
   "source": [
    "auccheckpt.auc_history"
   ]
  },
  {
   "cell_type": "markdown",
   "metadata": {},
   "source": [
    "### Result Evaluation"
   ]
  },
  {
   "cell_type": "code",
   "execution_count": 65,
   "metadata": {},
   "outputs": [],
   "source": [
    "with open('output/binary3_auc_0528.pkl', 'rb') as f:\n",
    "    auc_history = pickle.load(f)"
   ]
  },
  {
   "cell_type": "code",
   "execution_count": 66,
   "metadata": {},
   "outputs": [
    {
     "data": {
      "text/plain": [
       "Text(0,0.5,'AUCs')"
      ]
     },
     "execution_count": 66,
     "metadata": {},
     "output_type": "execute_result"
    },
    {
     "data": {
      "image/png": "[encoded data removed]",
      "text/plain": [
       "<Figure size 432x288 with 1 Axes>"
      ]
     },
     "metadata": {},
     "output_type": "display_data"
    }
   ],
   "source": [
    "plt.plot(auc_history['split0_123'])\n",
    "plt.plot(auc_history['split01_23'])\n",
    "plt.plot(auc_history['split012_3'])\n",
    "plt.xlabel('Number of epochs')\n",
    "plt.ylabel('AUCs')"
   ]
  },
  {
   "cell_type": "code",
   "execution_count": 32,
   "metadata": {},
   "outputs": [],
   "source": [
    "tst_df = pd.read_csv(path+'tst_labels.csv')\n",
    "tst_df = tst_df.reset_index(drop=True)"
   ]
  },
  {
   "cell_type": "code",
   "execution_count": 34,
   "metadata": {
    "scrolled": true
   },
   "outputs": [],
   "source": [
    "validation_gen = ImageFrameGenerator()"
   ]
  },
  {
   "cell_type": "code",
   "execution_count": 79,
   "metadata": {
    "scrolled": false
   },
   "outputs": [
    {
     "name": "stdout",
     "output_type": "stream",
     "text": [
      "Found 14830 images in the directory.\n",
      "Using split0_123 as categorical label, with levels: {0: 0, 1: 1}\n",
      "Using split01_23 as categorical label, with levels: {0: 0, 1: 1}\n",
      "Using split012_3 as categorical label, with levels: {0: 0, 1: 1}\n",
      "Using 1518 images to generate mini-batches.\n"
     ]
    }
   ],
   "source": [
    "tst_itr = validation_gen.flow_from_frame(data_path, tst_df, 'basefile', ['split0_123', 'split01_23', 'split012_3'], \n",
    "                                     target_size=(256, 320), label_types = ['categorical']*3, batch_size=batch_size, \n",
    "                                         shuffle=False)"
   ]
  },
  {
   "cell_type": "code",
   "execution_count": 100,
   "metadata": {},
   "outputs": [],
   "source": [
    "model.load_weights(model_path+'binary3_auc_0528.h5')"
   ]
  },
  {
   "cell_type": "code",
   "execution_count": 101,
   "metadata": {},
   "outputs": [
    {
     "name": "stdout",
     "output_type": "stream",
     "text": [
      "48/48 [==============================] - 22s 457ms/step\n"
     ]
    }
   ],
   "source": [
    "y = model.predict_generator(tst_itr, verbose=1)"
   ]
  },
  {
   "cell_type": "code",
   "execution_count": 102,
   "metadata": {},
   "outputs": [],
   "source": [
    "y_pred = np.concatenate([l[:, 1].reshape((l.shape[0], 1)) for l in y], axis=1)"
   ]
  },
  {
   "cell_type": "code",
   "execution_count": 86,
   "metadata": {},
   "outputs": [],
   "source": [
    "y_true = tst_df[['split0_123', 'split01_23', 'split012_3']].values"
   ]
  },
  {
   "cell_type": "code",
   "execution_count": 44,
   "metadata": {},
   "outputs": [
    {
     "data": {
      "text/plain": [
       "((1518, 3), (1518, 3))"
      ]
     },
     "execution_count": 44,
     "metadata": {},
     "output_type": "execute_result"
    }
   ],
   "source": [
    "y_pred.shape, y_true.shape"
   ]
  },
  {
   "cell_type": "code",
   "execution_count": 87,
   "metadata": {
    "scrolled": true
   },
   "outputs": [
    {
     "data": {
      "text/plain": [
       "{0: 0.9286611364403918, 1: 0.9783966033966034, 2: 0.9798382323929768}"
      ]
     },
     "execution_count": 87,
     "metadata": {},
     "output_type": "execute_result"
    },
    {
     "data": {
      "image/png": "[encoded data removed]",
      "text/plain": [
       "<Figure size 432x288 with 1 Axes>"
      ]
     },
     "metadata": {},
     "output_type": "display_data"
    }
   ],
   "source": [
    "plot_roc(y_pred, y_true, classes=['split0_123', 'split01_23', 'split012_3'])"
   ]
  },
  {
   "cell_type": "code",
   "execution_count": 46,
   "metadata": {},
   "outputs": [
    {
     "data": {
      "text/plain": [
       "array([[5.99314153e-01, 2.28909478e-02, 1.07496395e-03],\n",
       "       [8.61447155e-01, 1.06399626e-01, 3.75232834e-04],\n",
       "       [9.84677792e-01, 5.70016980e-01, 1.62384529e-02],\n",
       "       ...,\n",
       "       [5.58475222e-05, 1.10411385e-07, 1.36902200e-11],\n",
       "       [1.45818262e-06, 2.15458140e-09, 2.50117960e-13],\n",
       "       [1.26331742e-03, 9.31455659e-08, 8.23103807e-11]], dtype=float32)"
      ]
     },
     "execution_count": 46,
     "metadata": {},
     "output_type": "execute_result"
    }
   ],
   "source": [
    "y_pred"
   ]
  },
  {
   "cell_type": "code",
   "execution_count": 103,
   "metadata": {},
   "outputs": [],
   "source": [
    "score4 = np.zeros((y_pred.shape[0], y_pred.shape[1]+1), dtype=float)"
   ]
  },
  {
   "cell_type": "code",
   "execution_count": 48,
   "metadata": {},
   "outputs": [],
   "source": [
    "score4[:, 0] = 1 - y_pred[:, 0]\n",
    "for j in range(1, score4.shape[1]-1):\n",
    "    score4[:, j] = y_pred[:, j-1] - y_pred[:, j]\n",
    "score4[:, -1] = y_pred[:, -1]"
   ]
  },
  {
   "cell_type": "code",
   "execution_count": 104,
   "metadata": {},
   "outputs": [],
   "source": [
    "score4[:, 0] = 1 - y_pred[:, 0]\n",
    "score4[:, 1] = y_pred[:, 0]*(1-y_pred[:,1])\n",
    "score4[:, 2] = y_pred[:, 0]*y_pred[:,1]*(1-y_pred[:,2])\n",
    "score4[:, 3] = y_pred[:, 0]*y_pred[:,1]*y_pred[:,2]"
   ]
  },
  {
   "cell_type": "code",
   "execution_count": 90,
   "metadata": {},
   "outputs": [
    {
     "data": {
      "text/plain": [
       "array([0, 0, 0, 0])"
      ]
     },
     "execution_count": 90,
     "metadata": {},
     "output_type": "execute_result"
    }
   ],
   "source": [
    "sum(score4<0)"
   ]
  },
  {
   "cell_type": "code",
   "execution_count": 105,
   "metadata": {},
   "outputs": [],
   "source": [
    "mayo_pred = pd.Series(score4.argmax(axis=1), name='Mayo_pred')"
   ]
  },
  {
   "cell_type": "code",
   "execution_count": 106,
   "metadata": {},
   "outputs": [],
   "source": [
    "mayo_true = tst_df.Mayo_score\n",
    "mayo_true.name = 'Mayo_true'"
   ]
  },
  {
   "cell_type": "code",
   "execution_count": 107,
   "metadata": {
    "scrolled": false
   },
   "outputs": [
    {
     "data": {
      "text/html": [
       "<div>\n",
       "<style scoped>\n",
       "    .dataframe tbody tr th:only-of-type {\n",
       "        vertical-align: middle;\n",
       "    }\n",
       "\n",
       "    .dataframe tbody tr th {\n",
       "        vertical-align: top;\n",
       "    }\n",
       "\n",
       "    .dataframe thead th {\n",
       "        text-align: right;\n",
       "    }\n",
       "</style>\n",
       "<table border=\"1\" class=\"dataframe\">\n",
       "  <thead>\n",
       "    <tr style=\"text-align: right;\">\n",
       "      <th>Mayo_pred</th>\n",
       "      <th>0</th>\n",
       "      <th>1</th>\n",
       "      <th>2</th>\n",
       "      <th>3</th>\n",
       "      <th>All</th>\n",
       "    </tr>\n",
       "    <tr>\n",
       "      <th>Mayo_true</th>\n",
       "      <th></th>\n",
       "      <th></th>\n",
       "      <th></th>\n",
       "      <th></th>\n",
       "      <th></th>\n",
       "    </tr>\n",
       "  </thead>\n",
       "  <tbody>\n",
       "    <tr>\n",
       "      <th>0</th>\n",
       "      <td>771</td>\n",
       "      <td>73</td>\n",
       "      <td>2</td>\n",
       "      <td>0</td>\n",
       "      <td>846</td>\n",
       "    </tr>\n",
       "    <tr>\n",
       "      <th>1</th>\n",
       "      <td>139</td>\n",
       "      <td>216</td>\n",
       "      <td>26</td>\n",
       "      <td>5</td>\n",
       "      <td>386</td>\n",
       "    </tr>\n",
       "    <tr>\n",
       "      <th>2</th>\n",
       "      <td>7</td>\n",
       "      <td>36</td>\n",
       "      <td>61</td>\n",
       "      <td>34</td>\n",
       "      <td>138</td>\n",
       "    </tr>\n",
       "    <tr>\n",
       "      <th>3</th>\n",
       "      <td>1</td>\n",
       "      <td>7</td>\n",
       "      <td>28</td>\n",
       "      <td>112</td>\n",
       "      <td>148</td>\n",
       "    </tr>\n",
       "    <tr>\n",
       "      <th>All</th>\n",
       "      <td>918</td>\n",
       "      <td>332</td>\n",
       "      <td>117</td>\n",
       "      <td>151</td>\n",
       "      <td>1518</td>\n",
       "    </tr>\n",
       "  </tbody>\n",
       "</table>\n",
       "</div>"
      ],
      "text/plain": [
       "Mayo_pred    0    1    2    3   All\n",
       "Mayo_true                          \n",
       "0          771   73    2    0   846\n",
       "1          139  216   26    5   386\n",
       "2            7   36   61   34   138\n",
       "3            1    7   28  112   148\n",
       "All        918  332  117  151  1518"
      ]
     },
     "execution_count": 107,
     "metadata": {},
     "output_type": "execute_result"
    }
   ],
   "source": [
    "pd.crosstab(index=mayo_true, columns=mayo_pred, margins=True)"
   ]
  },
  {
   "cell_type": "code",
   "execution_count": 53,
   "metadata": {
    "scrolled": true
   },
   "outputs": [
    {
     "data": {
      "text/html": [
       "<div>\n",
       "<style scoped>\n",
       "    .dataframe tbody tr th:only-of-type {\n",
       "        vertical-align: middle;\n",
       "    }\n",
       "\n",
       "    .dataframe tbody tr th {\n",
       "        vertical-align: top;\n",
       "    }\n",
       "\n",
       "    .dataframe thead th {\n",
       "        text-align: right;\n",
       "    }\n",
       "</style>\n",
       "<table border=\"1\" class=\"dataframe\">\n",
       "  <thead>\n",
       "    <tr style=\"text-align: right;\">\n",
       "      <th>Mayo_pred</th>\n",
       "      <th>0</th>\n",
       "      <th>1</th>\n",
       "      <th>2</th>\n",
       "      <th>3</th>\n",
       "    </tr>\n",
       "    <tr>\n",
       "      <th>Mayo_true</th>\n",
       "      <th></th>\n",
       "      <th></th>\n",
       "      <th></th>\n",
       "      <th></th>\n",
       "    </tr>\n",
       "  </thead>\n",
       "  <tbody>\n",
       "    <tr>\n",
       "      <th>0</th>\n",
       "      <td>0.911348</td>\n",
       "      <td>0.085106</td>\n",
       "      <td>0.003546</td>\n",
       "      <td>0.000000</td>\n",
       "    </tr>\n",
       "    <tr>\n",
       "      <th>1</th>\n",
       "      <td>0.362694</td>\n",
       "      <td>0.551813</td>\n",
       "      <td>0.067358</td>\n",
       "      <td>0.018135</td>\n",
       "    </tr>\n",
       "    <tr>\n",
       "      <th>2</th>\n",
       "      <td>0.043478</td>\n",
       "      <td>0.260870</td>\n",
       "      <td>0.442029</td>\n",
       "      <td>0.253623</td>\n",
       "    </tr>\n",
       "    <tr>\n",
       "      <th>3</th>\n",
       "      <td>0.006757</td>\n",
       "      <td>0.047297</td>\n",
       "      <td>0.175676</td>\n",
       "      <td>0.770270</td>\n",
       "    </tr>\n",
       "  </tbody>\n",
       "</table>\n",
       "</div>"
      ],
      "text/plain": [
       "Mayo_pred         0         1         2         3\n",
       "Mayo_true                                        \n",
       "0          0.911348  0.085106  0.003546  0.000000\n",
       "1          0.362694  0.551813  0.067358  0.018135\n",
       "2          0.043478  0.260870  0.442029  0.253623\n",
       "3          0.006757  0.047297  0.175676  0.770270"
      ]
     },
     "execution_count": 53,
     "metadata": {},
     "output_type": "execute_result"
    }
   ],
   "source": [
    "pd.crosstab(index=mayo_true, columns=mayo_pred, normalize='index')"
   ]
  },
  {
   "cell_type": "code",
   "execution_count": 58,
   "metadata": {
    "scrolled": true
   },
   "outputs": [
    {
     "data": {
      "text/html": [
       "<div>\n",
       "<style scoped>\n",
       "    .dataframe tbody tr th:only-of-type {\n",
       "        vertical-align: middle;\n",
       "    }\n",
       "\n",
       "    .dataframe tbody tr th {\n",
       "        vertical-align: top;\n",
       "    }\n",
       "\n",
       "    .dataframe thead th {\n",
       "        text-align: right;\n",
       "    }\n",
       "</style>\n",
       "<table border=\"1\" class=\"dataframe\">\n",
       "  <thead>\n",
       "    <tr style=\"text-align: right;\">\n",
       "      <th>Mayo_pred</th>\n",
       "      <th>0</th>\n",
       "      <th>1</th>\n",
       "      <th>2</th>\n",
       "      <th>3</th>\n",
       "    </tr>\n",
       "    <tr>\n",
       "      <th>Mayo_true</th>\n",
       "      <th></th>\n",
       "      <th></th>\n",
       "      <th></th>\n",
       "      <th></th>\n",
       "    </tr>\n",
       "  </thead>\n",
       "  <tbody>\n",
       "    <tr>\n",
       "      <th>0</th>\n",
       "      <td>0.911348</td>\n",
       "      <td>0.086288</td>\n",
       "      <td>0.002364</td>\n",
       "      <td>0.000000</td>\n",
       "    </tr>\n",
       "    <tr>\n",
       "      <th>1</th>\n",
       "      <td>0.360104</td>\n",
       "      <td>0.559585</td>\n",
       "      <td>0.067358</td>\n",
       "      <td>0.012953</td>\n",
       "    </tr>\n",
       "    <tr>\n",
       "      <th>2</th>\n",
       "      <td>0.050725</td>\n",
       "      <td>0.260870</td>\n",
       "      <td>0.442029</td>\n",
       "      <td>0.246377</td>\n",
       "    </tr>\n",
       "    <tr>\n",
       "      <th>3</th>\n",
       "      <td>0.006757</td>\n",
       "      <td>0.047297</td>\n",
       "      <td>0.189189</td>\n",
       "      <td>0.756757</td>\n",
       "    </tr>\n",
       "  </tbody>\n",
       "</table>\n",
       "</div>"
      ],
      "text/plain": [
       "Mayo_pred         0         1         2         3\n",
       "Mayo_true                                        \n",
       "0          0.911348  0.086288  0.002364  0.000000\n",
       "1          0.360104  0.559585  0.067358  0.012953\n",
       "2          0.050725  0.260870  0.442029  0.246377\n",
       "3          0.006757  0.047297  0.189189  0.756757"
      ]
     },
     "execution_count": 58,
     "metadata": {},
     "output_type": "execute_result"
    }
   ],
   "source": [
    "pd.crosstab(index=mayo_true, columns=mayo_pred, normalize='index')"
   ]
  },
  {
   "cell_type": "code",
   "execution_count": 108,
   "metadata": {},
   "outputs": [
    {
     "data": {
      "text/plain": [
       "0.7396376450801716"
      ]
     },
     "execution_count": 108,
     "metadata": {},
     "output_type": "execute_result"
    }
   ],
   "source": [
    "cohen_kappa_score(mayo_pred.values, mayo_true.values, weights='linear')"
   ]
  },
  {
   "cell_type": "code",
   "execution_count": 109,
   "metadata": {},
   "outputs": [
    {
     "data": {
      "text/plain": [
       "0.8542864776064767"
      ]
     },
     "execution_count": 109,
     "metadata": {},
     "output_type": "execute_result"
    }
   ],
   "source": [
    "cohen_kappa_score(mayo_pred.values, mayo_true.values, weights='quadratic')"
   ]
  },
  {
   "cell_type": "markdown",
   "metadata": {},
   "source": [
    "## Model with 4 binary output"
   ]
  },
  {
   "cell_type": "code",
   "execution_count": 67,
   "metadata": {},
   "outputs": [
    {
     "name": "stdout",
     "output_type": "stream",
     "text": [
      "Found 14830 images in the directory.\n",
      "Using Inflamm_Mayo_0 as continuous label. \n",
      "Using Inflamm_Mayo_1 as continuous label. \n",
      "Using Inflamm_Mayo_2 as continuous label. \n",
      "Using Inflamm_Mayo_3 as continuous label. \n",
      "Using 1518 images to generate mini-batches.\n"
     ]
    }
   ],
   "source": [
    "tst_gen = ImageFrameGenerator()\n",
    "tst_itr = tst_gen.flow_from_frame(data_path, tst_df, 'basefile', \n",
    "                                   ['Inflamm_Mayo_0', 'Inflamm_Mayo_1', 'Inflamm_Mayo_2', 'Inflamm_Mayo_3'], \n",
    "                                     target_size=(256, 320), batch_size=batch_size, shuffle=False)"
   ]
  },
  {
   "cell_type": "code",
   "execution_count": 68,
   "metadata": {},
   "outputs": [],
   "source": [
    "base_model = InceptionV3(weights='imagenet', include_top=False)\n",
    "x = base_model.output\n",
    "x = GlobalAveragePooling2D()(x)\n",
    "\n",
    "output0 = Dense(1, activation='sigmoid', name='Inflamm_Mayo_0')(x)\n",
    "output1 = Dense(1, activation='sigmoid', name='Inflamm_Mayo_1')(x)\n",
    "output2 = Dense(1, activation='sigmoid', name='Inflamm_Mayo_2')(x)\n",
    "output3 = Dense(1, activation='sigmoid', name='Inflamm_Mayo_3')(x)\n",
    "\n",
    "model = Model(inputs=base_model.input, outputs=[output0, output1, output2, output3])"
   ]
  },
  {
   "cell_type": "code",
   "execution_count": 74,
   "metadata": {},
   "outputs": [],
   "source": [
    "model.load_weights(model_path+'binary4_valloss_0528.h5')"
   ]
  },
  {
   "cell_type": "code",
   "execution_count": 75,
   "metadata": {},
   "outputs": [
    {
     "name": "stdout",
     "output_type": "stream",
     "text": [
      "48/48 [==============================] - 22s 460ms/step\n"
     ]
    }
   ],
   "source": [
    "y = model.predict_generator(tst_itr, verbose=1)"
   ]
  },
  {
   "cell_type": "code",
   "execution_count": 76,
   "metadata": {},
   "outputs": [],
   "source": [
    "y_pred = np.concatenate(y, axis=1)"
   ]
  },
  {
   "cell_type": "code",
   "execution_count": 77,
   "metadata": {},
   "outputs": [],
   "source": [
    "y_true = tst_df[['Inflamm_Mayo_0', 'Inflamm_Mayo_1', 'Inflamm_Mayo_2', 'Inflamm_Mayo_3']].values"
   ]
  },
  {
   "cell_type": "code",
   "execution_count": 78,
   "metadata": {
    "scrolled": false
   },
   "outputs": [
    {
     "data": {
      "text/plain": [
       "{0: 0.9191433074411797,\n",
       " 1: 0.8408658159248613,\n",
       " 2: 0.9138468809073724,\n",
       " 3: 0.9796458867626751}"
      ]
     },
     "execution_count": 78,
     "metadata": {},
     "output_type": "execute_result"
    },
    {
     "data": {
      "image/png": "[encoded data removed]",
      "text/plain": [
       "<Figure size 432x288 with 1 Axes>"
      ]
     },
     "metadata": {},
     "output_type": "display_data"
    }
   ],
   "source": [
    "plot_roc(y_pred, y_true, classes=['Mayo_0', 'Mayo_1', 'Mayo_2', 'Mayo_3'])"
   ]
  },
  {
   "cell_type": "markdown",
   "metadata": {},
   "source": [
    "## Multi-Class Classification"
   ]
  },
  {
   "cell_type": "code",
   "execution_count": 110,
   "metadata": {},
   "outputs": [
    {
     "name": "stdout",
     "output_type": "stream",
     "text": [
      "Found 14830 images in the directory.\n",
      "Using Mayo_score as categorical label, with levels: {0: 0, 1: 1, 2: 2, 3: 3}\n",
      "Using 1518 images to generate mini-batches.\n"
     ]
    }
   ],
   "source": [
    "tst_gen = ImageFrameGenerator()\n",
    "tst_itr = tst_gen.flow_from_frame(data_path, tst_df, 'basefile', \n",
    "                                   ['Mayo_score'], label_types=['categorical'],\n",
    "                                     target_size=(256, 320), batch_size=batch_size, shuffle=False)"
   ]
  },
  {
   "cell_type": "code",
   "execution_count": 111,
   "metadata": {},
   "outputs": [],
   "source": [
    "base_model = InceptionV3(weights='imagenet', include_top=False)\n",
    "x = base_model.output\n",
    "x = GlobalAveragePooling2D()(x)\n",
    "\n",
    "output = Dense(4, activation='softmax', name='Mayo_score')(x)\n",
    "\n",
    "model = Model(inputs=base_model.input, outputs=output)"
   ]
  },
  {
   "cell_type": "code",
   "execution_count": 112,
   "metadata": {},
   "outputs": [],
   "source": [
    "model.load_weights(model_path+'multiclass_valloss_0528.h5')"
   ]
  },
  {
   "cell_type": "code",
   "execution_count": 113,
   "metadata": {},
   "outputs": [
    {
     "name": "stdout",
     "output_type": "stream",
     "text": [
      "48/48 [==============================] - 26s 538ms/step\n"
     ]
    }
   ],
   "source": [
    "y = model.predict_generator(tst_itr, verbose=1)"
   ]
  },
  {
   "cell_type": "code",
   "execution_count": 114,
   "metadata": {},
   "outputs": [],
   "source": [
    "y_pred = pd.Series(y.argmax(axis=1), dtype=int, name='Mayo_predicted')"
   ]
  },
  {
   "cell_type": "code",
   "execution_count": 115,
   "metadata": {},
   "outputs": [],
   "source": [
    "y_true = tst_df['Mayo_score']\n",
    "y_true.name = 'Mayo_true'\n",
    "y_true = y_true.astype(int)"
   ]
  },
  {
   "cell_type": "code",
   "execution_count": 65,
   "metadata": {},
   "outputs": [
    {
     "data": {
      "text/html": [
       "<div>\n",
       "<style scoped>\n",
       "    .dataframe tbody tr th:only-of-type {\n",
       "        vertical-align: middle;\n",
       "    }\n",
       "\n",
       "    .dataframe tbody tr th {\n",
       "        vertical-align: top;\n",
       "    }\n",
       "\n",
       "    .dataframe thead th {\n",
       "        text-align: right;\n",
       "    }\n",
       "</style>\n",
       "<table border=\"1\" class=\"dataframe\">\n",
       "  <thead>\n",
       "    <tr style=\"text-align: right;\">\n",
       "      <th>Mayo_predicted</th>\n",
       "      <th>0</th>\n",
       "      <th>1</th>\n",
       "      <th>2</th>\n",
       "      <th>3</th>\n",
       "      <th>All</th>\n",
       "    </tr>\n",
       "    <tr>\n",
       "      <th>Mayo_true</th>\n",
       "      <th></th>\n",
       "      <th></th>\n",
       "      <th></th>\n",
       "      <th></th>\n",
       "      <th></th>\n",
       "    </tr>\n",
       "  </thead>\n",
       "  <tbody>\n",
       "    <tr>\n",
       "      <th>0</th>\n",
       "      <td>750</td>\n",
       "      <td>81</td>\n",
       "      <td>14</td>\n",
       "      <td>1</td>\n",
       "      <td>846</td>\n",
       "    </tr>\n",
       "    <tr>\n",
       "      <th>1</th>\n",
       "      <td>122</td>\n",
       "      <td>202</td>\n",
       "      <td>55</td>\n",
       "      <td>7</td>\n",
       "      <td>386</td>\n",
       "    </tr>\n",
       "    <tr>\n",
       "      <th>2</th>\n",
       "      <td>9</td>\n",
       "      <td>17</td>\n",
       "      <td>81</td>\n",
       "      <td>31</td>\n",
       "      <td>138</td>\n",
       "    </tr>\n",
       "    <tr>\n",
       "      <th>3</th>\n",
       "      <td>3</td>\n",
       "      <td>3</td>\n",
       "      <td>26</td>\n",
       "      <td>116</td>\n",
       "      <td>148</td>\n",
       "    </tr>\n",
       "    <tr>\n",
       "      <th>All</th>\n",
       "      <td>884</td>\n",
       "      <td>303</td>\n",
       "      <td>176</td>\n",
       "      <td>155</td>\n",
       "      <td>1518</td>\n",
       "    </tr>\n",
       "  </tbody>\n",
       "</table>\n",
       "</div>"
      ],
      "text/plain": [
       "Mayo_predicted    0    1    2    3   All\n",
       "Mayo_true                               \n",
       "0               750   81   14    1   846\n",
       "1               122  202   55    7   386\n",
       "2                 9   17   81   31   138\n",
       "3                 3    3   26  116   148\n",
       "All             884  303  176  155  1518"
      ]
     },
     "execution_count": 65,
     "metadata": {},
     "output_type": "execute_result"
    }
   ],
   "source": [
    "pd.crosstab(index=y_true, columns=y_pred, margins=True)"
   ]
  },
  {
   "cell_type": "code",
   "execution_count": 66,
   "metadata": {
    "scrolled": false
   },
   "outputs": [
    {
     "data": {
      "text/html": [
       "<div>\n",
       "<style scoped>\n",
       "    .dataframe tbody tr th:only-of-type {\n",
       "        vertical-align: middle;\n",
       "    }\n",
       "\n",
       "    .dataframe tbody tr th {\n",
       "        vertical-align: top;\n",
       "    }\n",
       "\n",
       "    .dataframe thead th {\n",
       "        text-align: right;\n",
       "    }\n",
       "</style>\n",
       "<table border=\"1\" class=\"dataframe\">\n",
       "  <thead>\n",
       "    <tr style=\"text-align: right;\">\n",
       "      <th>Mayo_predicted</th>\n",
       "      <th>0</th>\n",
       "      <th>1</th>\n",
       "      <th>2</th>\n",
       "      <th>3</th>\n",
       "    </tr>\n",
       "    <tr>\n",
       "      <th>Mayo_true</th>\n",
       "      <th></th>\n",
       "      <th></th>\n",
       "      <th></th>\n",
       "      <th></th>\n",
       "    </tr>\n",
       "  </thead>\n",
       "  <tbody>\n",
       "    <tr>\n",
       "      <th>0</th>\n",
       "      <td>0.886525</td>\n",
       "      <td>0.095745</td>\n",
       "      <td>0.016548</td>\n",
       "      <td>0.001182</td>\n",
       "    </tr>\n",
       "    <tr>\n",
       "      <th>1</th>\n",
       "      <td>0.316062</td>\n",
       "      <td>0.523316</td>\n",
       "      <td>0.142487</td>\n",
       "      <td>0.018135</td>\n",
       "    </tr>\n",
       "    <tr>\n",
       "      <th>2</th>\n",
       "      <td>0.065217</td>\n",
       "      <td>0.123188</td>\n",
       "      <td>0.586957</td>\n",
       "      <td>0.224638</td>\n",
       "    </tr>\n",
       "    <tr>\n",
       "      <th>3</th>\n",
       "      <td>0.020270</td>\n",
       "      <td>0.020270</td>\n",
       "      <td>0.175676</td>\n",
       "      <td>0.783784</td>\n",
       "    </tr>\n",
       "  </tbody>\n",
       "</table>\n",
       "</div>"
      ],
      "text/plain": [
       "Mayo_predicted         0         1         2         3\n",
       "Mayo_true                                             \n",
       "0               0.886525  0.095745  0.016548  0.001182\n",
       "1               0.316062  0.523316  0.142487  0.018135\n",
       "2               0.065217  0.123188  0.586957  0.224638\n",
       "3               0.020270  0.020270  0.175676  0.783784"
      ]
     },
     "execution_count": 66,
     "metadata": {},
     "output_type": "execute_result"
    }
   ],
   "source": [
    "pd.crosstab(index=y_true, columns=y_pred, normalize='index')"
   ]
  },
  {
   "cell_type": "code",
   "execution_count": 116,
   "metadata": {},
   "outputs": [
    {
     "data": {
      "text/plain": [
       "0.7284270604251755"
      ]
     },
     "execution_count": 116,
     "metadata": {},
     "output_type": "execute_result"
    }
   ],
   "source": [
    "cohen_kappa_score(y_pred.values, y_true.values, weights='linear')"
   ]
  },
  {
   "cell_type": "code",
   "execution_count": 117,
   "metadata": {},
   "outputs": [
    {
     "data": {
      "text/plain": [
       "0.8355240347276156"
      ]
     },
     "execution_count": 117,
     "metadata": {},
     "output_type": "execute_result"
    }
   ],
   "source": [
    "cohen_kappa_score(y_pred.values, y_true.values, weights='quadratic')"
   ]
  },
  {
   "cell_type": "markdown",
   "metadata": {},
   "source": [
    "## Test on Video data"
   ]
  },
  {
   "cell_type": "code",
   "execution_count": 8,
   "metadata": {},
   "outputs": [],
   "source": [
    "vfilenames = os.listdir(path+'all_video_images/')"
   ]
  },
  {
   "cell_type": "code",
   "execution_count": 9,
   "metadata": {},
   "outputs": [],
   "source": [
    "vfilenames = set(vfilenames)"
   ]
  },
  {
   "cell_type": "code",
   "execution_count": 7,
   "metadata": {},
   "outputs": [],
   "source": [
    "video_labels = pd.read_excel(path+'VideoTestSet_labels_27MAY2018.xlsx')"
   ]
  },
  {
   "cell_type": "code",
   "execution_count": 119,
   "metadata": {},
   "outputs": [
    {
     "data": {
      "text/plain": [
       "Index(['ID', 'basefile', 'pathname', 'file_seq', 'SubjectID', 'Mayo_0',\n",
       "       'Mayo_1', 'Mayo_2', 'Mayo_3'],\n",
       "      dtype='object')"
      ]
     },
     "execution_count": 119,
     "metadata": {},
     "output_type": "execute_result"
    }
   ],
   "source": [
    "video_labels.columns"
   ]
  },
  {
   "cell_type": "code",
   "execution_count": 10,
   "metadata": {},
   "outputs": [],
   "source": [
    "video_labels['filename'] = [s+b for s, b in zip(video_labels.SubjectID, video_labels.basefile)]"
   ]
  },
  {
   "cell_type": "code",
   "execution_count": 11,
   "metadata": {},
   "outputs": [],
   "source": [
    "video_labels = video_labels.loc[video_labels.filename.isin(vfilenames)]"
   ]
  },
  {
   "cell_type": "code",
   "execution_count": 22,
   "metadata": {
    "scrolled": false
   },
   "outputs": [
    {
     "data": {
      "text/plain": [
       "24"
      ]
     },
     "execution_count": 22,
     "metadata": {},
     "output_type": "execute_result"
    }
   ],
   "source": [
    "len(video_labels.SubjectID.value_counts())"
   ]
  },
  {
   "cell_type": "code",
   "execution_count": 17,
   "metadata": {},
   "outputs": [],
   "source": [
    "video_labels = video_labels.loc[video_labels[['Mayo_0', 'Mayo_1', 'Mayo_2', 'Mayo_3']].apply(sum, axis=1)==1]"
   ]
  },
  {
   "cell_type": "code",
   "execution_count": 16,
   "metadata": {},
   "outputs": [],
   "source": [
    "video_labels = video_labels.dropna(subset=['filename', 'Mayo_0', 'Mayo_1', 'Mayo_2', 'Mayo_3'])"
   ]
  },
  {
   "cell_type": "code",
   "execution_count": 19,
   "metadata": {},
   "outputs": [],
   "source": [
    "video_labels['split0_123'] = (~video_labels.Mayo_0).astype(int)\n",
    "video_labels['split01_23'] = (video_labels.Mayo_2 | video_labels.Mayo_3).astype(int)\n",
    "video_labels['split012_3'] = video_labels.Mayo_3.astype(int)"
   ]
  },
  {
   "cell_type": "code",
   "execution_count": 20,
   "metadata": {},
   "outputs": [],
   "source": [
    "video_labels['Mayo_score'] = 0\n",
    "video_labels.loc[video_labels.Mayo_1, 'Mayo_score'] = 1\n",
    "video_labels.loc[video_labels.Mayo_2, 'Mayo_score'] = 2\n",
    "video_labels.loc[video_labels.Mayo_3, 'Mayo_score'] = 3"
   ]
  },
  {
   "cell_type": "code",
   "execution_count": 21,
   "metadata": {
    "scrolled": true
   },
   "outputs": [
    {
     "data": {
      "text/plain": [
       "0    6131\n",
       "1    1181\n",
       "2     971\n",
       "3     320\n",
       "Name: Mayo_score, dtype: int64"
      ]
     },
     "execution_count": 21,
     "metadata": {},
     "output_type": "execute_result"
    }
   ],
   "source": [
    "video_labels.Mayo_score.value_counts()"
   ]
  },
  {
   "cell_type": "code",
   "execution_count": 18,
   "metadata": {
    "scrolled": true
   },
   "outputs": [
    {
     "data": {
      "text/plain": [
       "(8603, 10)"
      ]
     },
     "execution_count": 18,
     "metadata": {},
     "output_type": "execute_result"
    }
   ],
   "source": [
    "video_labels.shape"
   ]
  },
  {
   "cell_type": "markdown",
   "metadata": {},
   "source": [
    "### Prediction by 3 binary model"
   ]
  },
  {
   "cell_type": "code",
   "execution_count": 23,
   "metadata": {
    "scrolled": false
   },
   "outputs": [
    {
     "name": "stdout",
     "output_type": "stream",
     "text": [
      "Found 14011 images in the directory.\n",
      "Using Mayo_score as categorical label, with levels: {0: 0, 1: 1, 2: 2, 3: 3}\n",
      "Using 8603 images to generate mini-batches.\n"
     ]
    }
   ],
   "source": [
    "tst_gen = ImageFrameGenerator()\n",
    "tst_itr = tst_gen.flow_from_frame(path+'all_video_images/', video_labels, 'filename', \n",
    "                                   ['Mayo_score'], label_types=['categorical'], \n",
    "                                     target_size=(256, 320), batch_size=batch_size, shuffle=False)"
   ]
  },
  {
   "cell_type": "code",
   "execution_count": 24,
   "metadata": {},
   "outputs": [],
   "source": [
    "base_model = InceptionV3(weights='imagenet', include_top=False)\n",
    "\n",
    "x = base_model.output\n",
    "x = GlobalAveragePooling2D()(x)\n",
    "\n",
    "output1 = Dense(2, activation='softmax', name='split0_123')(x)\n",
    "output2 = Dense(2, activation='softmax', name='split01_23')(x)\n",
    "output3 = Dense(2, activation='softmax', name='split012_3')(x)\n",
    "\n",
    "model = Model(inputs=base_model.input, outputs=[output1, output2, output3])"
   ]
  },
  {
   "cell_type": "code",
   "execution_count": 39,
   "metadata": {},
   "outputs": [],
   "source": [
    "model.load_weights(model_path+'binary3_valloss_0528.h5')"
   ]
  },
  {
   "cell_type": "code",
   "execution_count": 40,
   "metadata": {},
   "outputs": [
    {
     "name": "stdout",
     "output_type": "stream",
     "text": [
      "269/269 [==============================] - 235s 875ms/step\n"
     ]
    }
   ],
   "source": [
    "y = model.predict_generator(tst_itr, verbose=1)"
   ]
  },
  {
   "cell_type": "code",
   "execution_count": 41,
   "metadata": {},
   "outputs": [],
   "source": [
    "y_pred = np.concatenate([l[:, 1].reshape((l.shape[0], 1)) for l in y], axis=1)"
   ]
  },
  {
   "cell_type": "code",
   "execution_count": 42,
   "metadata": {},
   "outputs": [],
   "source": [
    "y_true = video_labels[['split0_123', 'split01_23', 'split012_3']].values"
   ]
  },
  {
   "cell_type": "code",
   "execution_count": 29,
   "metadata": {},
   "outputs": [
    {
     "data": {
      "text/plain": [
       "((8603, 3), (8603, 3))"
      ]
     },
     "execution_count": 29,
     "metadata": {},
     "output_type": "execute_result"
    }
   ],
   "source": [
    "y_pred.shape, y_true.shape"
   ]
  },
  {
   "cell_type": "code",
   "execution_count": 43,
   "metadata": {
    "scrolled": true
   },
   "outputs": [
    {
     "data": {
      "text/plain": [
       "{0: 0.9603513023897335, 1: 0.9674000232208507, 2: 0.9884001871302667}"
      ]
     },
     "execution_count": 43,
     "metadata": {},
     "output_type": "execute_result"
    },
    {
     "data": {
      "image/png": "[encoded data removed]",
      "text/plain": [
       "<Figure size 432x288 with 1 Axes>"
      ]
     },
     "metadata": {},
     "output_type": "display_data"
    }
   ],
   "source": [
    "plot_roc(y_pred, y_true, classes=['split0_123', 'split01_23', 'split012_3'])"
   ]
  },
  {
   "cell_type": "code",
   "execution_count": 44,
   "metadata": {},
   "outputs": [],
   "source": [
    "score4 = np.zeros((y_pred.shape[0], y_pred.shape[1]+1), dtype=float)"
   ]
  },
  {
   "cell_type": "code",
   "execution_count": 45,
   "metadata": {},
   "outputs": [],
   "source": [
    "score4[:, 0] = 1 - y_pred[:, 0]\n",
    "score4[:, 1] = y_pred[:, 0]*(1-y_pred[:,1])\n",
    "score4[:, 2] = y_pred[:, 0]*y_pred[:,1]*(1-y_pred[:,2])\n",
    "score4[:, 3] = y_pred[:, 0]*y_pred[:,1]*y_pred[:,2]"
   ]
  },
  {
   "cell_type": "code",
   "execution_count": 46,
   "metadata": {},
   "outputs": [],
   "source": [
    "mayo_pred = pd.Series(score4.argmax(axis=1), name='Mayo_pred')"
   ]
  },
  {
   "cell_type": "code",
   "execution_count": 47,
   "metadata": {},
   "outputs": [],
   "source": [
    "mayo_true = video_labels.Mayo_score.reset_index(drop=True)\n",
    "mayo_true.name = 'Mayo_true'"
   ]
  },
  {
   "cell_type": "code",
   "execution_count": 50,
   "metadata": {
    "scrolled": false
   },
   "outputs": [
    {
     "data": {
      "text/html": [
       "<div>\n",
       "<style scoped>\n",
       "    .dataframe tbody tr th:only-of-type {\n",
       "        vertical-align: middle;\n",
       "    }\n",
       "\n",
       "    .dataframe tbody tr th {\n",
       "        vertical-align: top;\n",
       "    }\n",
       "\n",
       "    .dataframe thead th {\n",
       "        text-align: right;\n",
       "    }\n",
       "</style>\n",
       "<table border=\"1\" class=\"dataframe\">\n",
       "  <thead>\n",
       "    <tr style=\"text-align: right;\">\n",
       "      <th>Mayo_pred</th>\n",
       "      <th>0</th>\n",
       "      <th>1</th>\n",
       "      <th>2</th>\n",
       "      <th>3</th>\n",
       "      <th>All</th>\n",
       "    </tr>\n",
       "    <tr>\n",
       "      <th>Mayo_true</th>\n",
       "      <th></th>\n",
       "      <th></th>\n",
       "      <th></th>\n",
       "      <th></th>\n",
       "      <th></th>\n",
       "    </tr>\n",
       "  </thead>\n",
       "  <tbody>\n",
       "    <tr>\n",
       "      <th>0</th>\n",
       "      <td>5441</td>\n",
       "      <td>579</td>\n",
       "      <td>64</td>\n",
       "      <td>47</td>\n",
       "      <td>6131</td>\n",
       "    </tr>\n",
       "    <tr>\n",
       "      <th>1</th>\n",
       "      <td>160</td>\n",
       "      <td>855</td>\n",
       "      <td>151</td>\n",
       "      <td>15</td>\n",
       "      <td>1181</td>\n",
       "    </tr>\n",
       "    <tr>\n",
       "      <th>2</th>\n",
       "      <td>43</td>\n",
       "      <td>236</td>\n",
       "      <td>553</td>\n",
       "      <td>139</td>\n",
       "      <td>971</td>\n",
       "    </tr>\n",
       "    <tr>\n",
       "      <th>3</th>\n",
       "      <td>0</td>\n",
       "      <td>4</td>\n",
       "      <td>26</td>\n",
       "      <td>290</td>\n",
       "      <td>320</td>\n",
       "    </tr>\n",
       "    <tr>\n",
       "      <th>All</th>\n",
       "      <td>5644</td>\n",
       "      <td>1674</td>\n",
       "      <td>794</td>\n",
       "      <td>491</td>\n",
       "      <td>8603</td>\n",
       "    </tr>\n",
       "  </tbody>\n",
       "</table>\n",
       "</div>"
      ],
      "text/plain": [
       "Mayo_pred     0     1    2    3   All\n",
       "Mayo_true                            \n",
       "0          5441   579   64   47  6131\n",
       "1           160   855  151   15  1181\n",
       "2            43   236  553  139   971\n",
       "3             0     4   26  290   320\n",
       "All        5644  1674  794  491  8603"
      ]
     },
     "execution_count": 50,
     "metadata": {},
     "output_type": "execute_result"
    }
   ],
   "source": [
    "pd.crosstab(index=mayo_true, columns=mayo_pred, margins=True)"
   ]
  },
  {
   "cell_type": "code",
   "execution_count": 51,
   "metadata": {
    "scrolled": true
   },
   "outputs": [
    {
     "data": {
      "text/html": [
       "<div>\n",
       "<style scoped>\n",
       "    .dataframe tbody tr th:only-of-type {\n",
       "        vertical-align: middle;\n",
       "    }\n",
       "\n",
       "    .dataframe tbody tr th {\n",
       "        vertical-align: top;\n",
       "    }\n",
       "\n",
       "    .dataframe thead th {\n",
       "        text-align: right;\n",
       "    }\n",
       "</style>\n",
       "<table border=\"1\" class=\"dataframe\">\n",
       "  <thead>\n",
       "    <tr style=\"text-align: right;\">\n",
       "      <th>Mayo_pred</th>\n",
       "      <th>0</th>\n",
       "      <th>1</th>\n",
       "      <th>2</th>\n",
       "      <th>3</th>\n",
       "    </tr>\n",
       "    <tr>\n",
       "      <th>Mayo_true</th>\n",
       "      <th></th>\n",
       "      <th></th>\n",
       "      <th></th>\n",
       "      <th></th>\n",
       "    </tr>\n",
       "  </thead>\n",
       "  <tbody>\n",
       "    <tr>\n",
       "      <th>0</th>\n",
       "      <td>0.887457</td>\n",
       "      <td>0.094438</td>\n",
       "      <td>0.010439</td>\n",
       "      <td>0.007666</td>\n",
       "    </tr>\n",
       "    <tr>\n",
       "      <th>1</th>\n",
       "      <td>0.135478</td>\n",
       "      <td>0.723963</td>\n",
       "      <td>0.127858</td>\n",
       "      <td>0.012701</td>\n",
       "    </tr>\n",
       "    <tr>\n",
       "      <th>2</th>\n",
       "      <td>0.044284</td>\n",
       "      <td>0.243048</td>\n",
       "      <td>0.569516</td>\n",
       "      <td>0.143151</td>\n",
       "    </tr>\n",
       "    <tr>\n",
       "      <th>3</th>\n",
       "      <td>0.000000</td>\n",
       "      <td>0.012500</td>\n",
       "      <td>0.081250</td>\n",
       "      <td>0.906250</td>\n",
       "    </tr>\n",
       "  </tbody>\n",
       "</table>\n",
       "</div>"
      ],
      "text/plain": [
       "Mayo_pred         0         1         2         3\n",
       "Mayo_true                                        \n",
       "0          0.887457  0.094438  0.010439  0.007666\n",
       "1          0.135478  0.723963  0.127858  0.012701\n",
       "2          0.044284  0.243048  0.569516  0.143151\n",
       "3          0.000000  0.012500  0.081250  0.906250"
      ]
     },
     "execution_count": 51,
     "metadata": {},
     "output_type": "execute_result"
    }
   ],
   "source": [
    "pd.crosstab(index=mayo_true, columns=mayo_pred, normalize='index')"
   ]
  },
  {
   "cell_type": "code",
   "execution_count": 48,
   "metadata": {},
   "outputs": [
    {
     "data": {
      "text/plain": [
       "0.7484810723806077"
      ]
     },
     "execution_count": 48,
     "metadata": {},
     "output_type": "execute_result"
    }
   ],
   "source": [
    "cohen_kappa_score(mayo_pred.values, mayo_true.values, weights='linear')"
   ]
  },
  {
   "cell_type": "code",
   "execution_count": 49,
   "metadata": {},
   "outputs": [
    {
     "data": {
      "text/plain": [
       "0.8256223528236863"
      ]
     },
     "execution_count": 49,
     "metadata": {},
     "output_type": "execute_result"
    }
   ],
   "source": [
    "cohen_kappa_score(mayo_pred.values, mayo_true.values, weights='quadratic')"
   ]
  },
  {
   "cell_type": "markdown",
   "metadata": {},
   "source": [
    "### Prediction by 4 binary model"
   ]
  },
  {
   "cell_type": "code",
   "execution_count": 65,
   "metadata": {
    "scrolled": true
   },
   "outputs": [
    {
     "name": "stdout",
     "output_type": "stream",
     "text": [
      "Found 7433 images in the directory.\n",
      "Using Mayo_0 as binary label. \n",
      "Using Mayo_1 as binary label. \n",
      "Using Mayo_2 as binary label. \n",
      "Using Mayo_3 as binary label. \n",
      "Using 7420 images to generate mini-batches.\n"
     ]
    }
   ],
   "source": [
    "tst_gen = ImageFrameGenerator()\n",
    "tst_itr = tst_gen.flow_from_frame(video_path+'all/', video_labels, 'filename', \n",
    "                                   ['Mayo_0', 'Mayo_1', 'Mayo_2', 'Mayo_3'], label_types=['binary']*4, \n",
    "                                     target_size=(256, 320), batch_size=batch_size, shuffle=False)"
   ]
  },
  {
   "cell_type": "code",
   "execution_count": 67,
   "metadata": {},
   "outputs": [],
   "source": [
    "base_model = InceptionV3(weights='imagenet', include_top=False)\n",
    "x = base_model.output\n",
    "x = GlobalAveragePooling2D()(x)\n",
    "\n",
    "output0 = Dense(1, activation='sigmoid', name='Inflamm_Mayo_0')(x)\n",
    "output1 = Dense(1, activation='sigmoid', name='Inflamm_Mayo_1')(x)\n",
    "output2 = Dense(1, activation='sigmoid', name='Inflamm_Mayo_2')(x)\n",
    "output3 = Dense(1, activation='sigmoid', name='Inflamm_Mayo_3')(x)\n",
    "\n",
    "model = Model(inputs=base_model.input, outputs=[output0, output1, output2, output3])"
   ]
  },
  {
   "cell_type": "code",
   "execution_count": 68,
   "metadata": {},
   "outputs": [],
   "source": [
    "model.load_weights(model_path+'phase2_4binary0515.h5')"
   ]
  },
  {
   "cell_type": "code",
   "execution_count": 69,
   "metadata": {},
   "outputs": [
    {
     "name": "stdout",
     "output_type": "stream",
     "text": [
      "232/232 [==============================] - 211s 911ms/step\n"
     ]
    }
   ],
   "source": [
    "y = model.predict_generator(tst_itr, verbose=1)"
   ]
  },
  {
   "cell_type": "code",
   "execution_count": 70,
   "metadata": {},
   "outputs": [],
   "source": [
    "y_pred = np.concatenate(y, axis=1)"
   ]
  },
  {
   "cell_type": "code",
   "execution_count": 71,
   "metadata": {},
   "outputs": [],
   "source": [
    "y_true = video_labels[['Mayo_0', 'Mayo_1', 'Mayo_2', 'Mayo_3']].values"
   ]
  },
  {
   "cell_type": "code",
   "execution_count": 72,
   "metadata": {},
   "outputs": [
    {
     "data": {
      "text/plain": [
       "{0: 0.9352069584815298,\n",
       " 1: 0.883489415989209,\n",
       " 2: 0.9197086481562459,\n",
       " 3: 0.9557600250042497}"
      ]
     },
     "execution_count": 72,
     "metadata": {},
     "output_type": "execute_result"
    },
    {
     "data": {
      "image/png": "[encoded data removed]",
      "text/plain": [
       "<Figure size 432x288 with 1 Axes>"
      ]
     },
     "metadata": {},
     "output_type": "display_data"
    }
   ],
   "source": [
    "plot_roc(y_pred, y_true, classes=['Mayo_0', 'Mayo_1', 'Mayo_2', 'Mayo_3'])"
   ]
  },
  {
   "cell_type": "markdown",
   "metadata": {},
   "source": [
    "### Prediction by multiclass model"
   ]
  },
  {
   "cell_type": "code",
   "execution_count": 52,
   "metadata": {
    "scrolled": true
   },
   "outputs": [
    {
     "name": "stdout",
     "output_type": "stream",
     "text": [
      "Found 14011 images in the directory.\n",
      "Using Mayo_score as categorical label, with levels: {0: 0, 1: 1, 2: 2, 3: 3}\n",
      "Using 8603 images to generate mini-batches.\n"
     ]
    }
   ],
   "source": [
    "tst_gen = ImageFrameGenerator()\n",
    "tst_itr = tst_gen.flow_from_frame(path+'all_video_images/', video_labels, 'filename', \n",
    "                                   ['Mayo_score'], label_types=['categorical'], \n",
    "                                     target_size=(256, 320), batch_size=batch_size, shuffle=False)"
   ]
  },
  {
   "cell_type": "code",
   "execution_count": 53,
   "metadata": {},
   "outputs": [],
   "source": [
    "base_model = InceptionV3(weights='imagenet', include_top=False)\n",
    "x = base_model.output\n",
    "x = GlobalAveragePooling2D()(x)\n",
    "\n",
    "output = Dense(4, activation='softmax', name='Mayo_score')(x)\n",
    "\n",
    "model = Model(inputs=base_model.input, outputs=output)"
   ]
  },
  {
   "cell_type": "code",
   "execution_count": 54,
   "metadata": {},
   "outputs": [],
   "source": [
    "model.load_weights(model_path+'multiclass_valloss_0528.h5')"
   ]
  },
  {
   "cell_type": "code",
   "execution_count": 55,
   "metadata": {},
   "outputs": [
    {
     "name": "stdout",
     "output_type": "stream",
     "text": [
      "269/269 [==============================] - 236s 876ms/step\n"
     ]
    }
   ],
   "source": [
    "y = model.predict_generator(tst_itr, verbose=1)"
   ]
  },
  {
   "cell_type": "code",
   "execution_count": 56,
   "metadata": {},
   "outputs": [],
   "source": [
    "y_pred = pd.Series(y.argmax(axis=1), dtype=int, name='Mayo_predicted')"
   ]
  },
  {
   "cell_type": "code",
   "execution_count": 57,
   "metadata": {},
   "outputs": [],
   "source": [
    "y_true = video_labels['Mayo_score']\n",
    "y_true.name = 'Mayo_true'\n",
    "y_true = y_true.astype(int).reset_index(drop=True)"
   ]
  },
  {
   "cell_type": "code",
   "execution_count": 58,
   "metadata": {},
   "outputs": [
    {
     "data": {
      "text/html": [
       "<div>\n",
       "<style scoped>\n",
       "    .dataframe tbody tr th:only-of-type {\n",
       "        vertical-align: middle;\n",
       "    }\n",
       "\n",
       "    .dataframe tbody tr th {\n",
       "        vertical-align: top;\n",
       "    }\n",
       "\n",
       "    .dataframe thead th {\n",
       "        text-align: right;\n",
       "    }\n",
       "</style>\n",
       "<table border=\"1\" class=\"dataframe\">\n",
       "  <thead>\n",
       "    <tr style=\"text-align: right;\">\n",
       "      <th>Mayo_predicted</th>\n",
       "      <th>0</th>\n",
       "      <th>1</th>\n",
       "      <th>2</th>\n",
       "      <th>3</th>\n",
       "      <th>All</th>\n",
       "    </tr>\n",
       "    <tr>\n",
       "      <th>Mayo_true</th>\n",
       "      <th></th>\n",
       "      <th></th>\n",
       "      <th></th>\n",
       "      <th></th>\n",
       "      <th></th>\n",
       "    </tr>\n",
       "  </thead>\n",
       "  <tbody>\n",
       "    <tr>\n",
       "      <th>0</th>\n",
       "      <td>5413</td>\n",
       "      <td>552</td>\n",
       "      <td>130</td>\n",
       "      <td>36</td>\n",
       "      <td>6131</td>\n",
       "    </tr>\n",
       "    <tr>\n",
       "      <th>1</th>\n",
       "      <td>206</td>\n",
       "      <td>801</td>\n",
       "      <td>168</td>\n",
       "      <td>6</td>\n",
       "      <td>1181</td>\n",
       "    </tr>\n",
       "    <tr>\n",
       "      <th>2</th>\n",
       "      <td>56</td>\n",
       "      <td>185</td>\n",
       "      <td>660</td>\n",
       "      <td>70</td>\n",
       "      <td>971</td>\n",
       "    </tr>\n",
       "    <tr>\n",
       "      <th>3</th>\n",
       "      <td>0</td>\n",
       "      <td>6</td>\n",
       "      <td>80</td>\n",
       "      <td>234</td>\n",
       "      <td>320</td>\n",
       "    </tr>\n",
       "    <tr>\n",
       "      <th>All</th>\n",
       "      <td>5675</td>\n",
       "      <td>1544</td>\n",
       "      <td>1038</td>\n",
       "      <td>346</td>\n",
       "      <td>8603</td>\n",
       "    </tr>\n",
       "  </tbody>\n",
       "</table>\n",
       "</div>"
      ],
      "text/plain": [
       "Mayo_predicted     0     1     2    3   All\n",
       "Mayo_true                                  \n",
       "0               5413   552   130   36  6131\n",
       "1                206   801   168    6  1181\n",
       "2                 56   185   660   70   971\n",
       "3                  0     6    80  234   320\n",
       "All             5675  1544  1038  346  8603"
      ]
     },
     "execution_count": 58,
     "metadata": {},
     "output_type": "execute_result"
    }
   ],
   "source": [
    "pd.crosstab(index=y_true, columns=y_pred, margins=True)"
   ]
  },
  {
   "cell_type": "code",
   "execution_count": 59,
   "metadata": {
    "scrolled": true
   },
   "outputs": [
    {
     "data": {
      "text/html": [
       "<div>\n",
       "<style scoped>\n",
       "    .dataframe tbody tr th:only-of-type {\n",
       "        vertical-align: middle;\n",
       "    }\n",
       "\n",
       "    .dataframe tbody tr th {\n",
       "        vertical-align: top;\n",
       "    }\n",
       "\n",
       "    .dataframe thead th {\n",
       "        text-align: right;\n",
       "    }\n",
       "</style>\n",
       "<table border=\"1\" class=\"dataframe\">\n",
       "  <thead>\n",
       "    <tr style=\"text-align: right;\">\n",
       "      <th>Mayo_predicted</th>\n",
       "      <th>0</th>\n",
       "      <th>1</th>\n",
       "      <th>2</th>\n",
       "      <th>3</th>\n",
       "    </tr>\n",
       "    <tr>\n",
       "      <th>Mayo_true</th>\n",
       "      <th></th>\n",
       "      <th></th>\n",
       "      <th></th>\n",
       "      <th></th>\n",
       "    </tr>\n",
       "  </thead>\n",
       "  <tbody>\n",
       "    <tr>\n",
       "      <th>0</th>\n",
       "      <td>0.882890</td>\n",
       "      <td>0.090034</td>\n",
       "      <td>0.021204</td>\n",
       "      <td>0.005872</td>\n",
       "    </tr>\n",
       "    <tr>\n",
       "      <th>1</th>\n",
       "      <td>0.174428</td>\n",
       "      <td>0.678239</td>\n",
       "      <td>0.142252</td>\n",
       "      <td>0.005080</td>\n",
       "    </tr>\n",
       "    <tr>\n",
       "      <th>2</th>\n",
       "      <td>0.057673</td>\n",
       "      <td>0.190525</td>\n",
       "      <td>0.679712</td>\n",
       "      <td>0.072091</td>\n",
       "    </tr>\n",
       "    <tr>\n",
       "      <th>3</th>\n",
       "      <td>0.000000</td>\n",
       "      <td>0.018750</td>\n",
       "      <td>0.250000</td>\n",
       "      <td>0.731250</td>\n",
       "    </tr>\n",
       "  </tbody>\n",
       "</table>\n",
       "</div>"
      ],
      "text/plain": [
       "Mayo_predicted         0         1         2         3\n",
       "Mayo_true                                             \n",
       "0               0.882890  0.090034  0.021204  0.005872\n",
       "1               0.174428  0.678239  0.142252  0.005080\n",
       "2               0.057673  0.190525  0.679712  0.072091\n",
       "3               0.000000  0.018750  0.250000  0.731250"
      ]
     },
     "execution_count": 59,
     "metadata": {},
     "output_type": "execute_result"
    }
   ],
   "source": [
    "pd.crosstab(index=y_true, columns=y_pred, normalize='index')"
   ]
  },
  {
   "cell_type": "code",
   "execution_count": 60,
   "metadata": {},
   "outputs": [
    {
     "data": {
      "text/plain": [
       "0.7332712980987887"
      ]
     },
     "execution_count": 60,
     "metadata": {},
     "output_type": "execute_result"
    }
   ],
   "source": [
    "cohen_kappa_score(y_pred.values, y_true.values, weights='linear')"
   ]
  },
  {
   "cell_type": "code",
   "execution_count": 61,
   "metadata": {},
   "outputs": [
    {
     "data": {
      "text/plain": [
       "0.8072745757152348"
      ]
     },
     "execution_count": 61,
     "metadata": {},
     "output_type": "execute_result"
    }
   ],
   "source": [
    "cohen_kappa_score(y_pred.values, y_true.values, weights='quadratic')"
   ]
  },
  {
   "cell_type": "markdown",
   "metadata": {},
   "source": [
    "## Model with Continuous Output"
   ]
  },
  {
   "cell_type": "code",
   "execution_count": 11,
   "metadata": {},
   "outputs": [],
   "source": [
    "from keras.applications.inception_v3 import InceptionV3"
   ]
  },
  {
   "cell_type": "code",
   "execution_count": 33,
   "metadata": {},
   "outputs": [],
   "source": [
    "from ggplot import *"
   ]
  },
  {
   "cell_type": "code",
   "execution_count": 12,
   "metadata": {},
   "outputs": [],
   "source": [
    "base_model = InceptionV3(weights='imagenet', include_top=False)"
   ]
  },
  {
   "cell_type": "code",
   "execution_count": 13,
   "metadata": {},
   "outputs": [],
   "source": [
    "x = base_model.output\n",
    "x = GlobalAveragePooling2D()(x)\n",
    "\n",
    "output1 = Dense(1, activation='linear', name='Mayo_score')(x)\n",
    "\n",
    "model = Model(inputs=base_model.input, outputs=output1)"
   ]
  },
  {
   "cell_type": "code",
   "execution_count": 60,
   "metadata": {},
   "outputs": [],
   "source": [
    "model.load_weights(model_path+'phase2_0512_cont_f.h5')"
   ]
  },
  {
   "cell_type": "code",
   "execution_count": 61,
   "metadata": {},
   "outputs": [
    {
     "name": "stdout",
     "output_type": "stream",
     "text": [
      "41/41 [==============================] - 19s 460ms/step\n"
     ]
    }
   ],
   "source": [
    "y = model.predict_generator(tst_itr, verbose=1)"
   ]
  },
  {
   "cell_type": "code",
   "execution_count": 62,
   "metadata": {},
   "outputs": [],
   "source": [
    "y_pred = y.reshape((y.shape[0],))"
   ]
  },
  {
   "cell_type": "code",
   "execution_count": 17,
   "metadata": {},
   "outputs": [],
   "source": [
    "y_true = tst_df.Mayo_score.values"
   ]
  },
  {
   "cell_type": "code",
   "execution_count": 20,
   "metadata": {
    "scrolled": true
   },
   "outputs": [
    {
     "data": {
      "text/plain": [
       "((1304,), (1304,))"
      ]
     },
     "execution_count": 20,
     "metadata": {},
     "output_type": "execute_result"
    }
   ],
   "source": [
    "y_pred.shape, y_true.shape"
   ]
  },
  {
   "cell_type": "code",
   "execution_count": 64,
   "metadata": {},
   "outputs": [],
   "source": [
    "out_df = pd.DataFrame(dict(y_pred=y_pred, y_true=y_true))"
   ]
  },
  {
   "cell_type": "code",
   "execution_count": 66,
   "metadata": {},
   "outputs": [],
   "source": [
    "out_df.y_true = out_df.y_true.astype('str')"
   ]
  },
  {
   "cell_type": "code",
   "execution_count": 54,
   "metadata": {
    "scrolled": false
   },
   "outputs": [
    {
     "data": {
      "image/png": "[encoded data removed]",
      "text/plain": [
       "<Figure size 792x576 with 1 Axes>"
      ]
     },
     "metadata": {},
     "output_type": "display_data"
    },
    {
     "data": {
      "text/plain": [
       "<ggplot: (-9223369082710965269)>"
      ]
     },
     "execution_count": 54,
     "metadata": {},
     "output_type": "execute_result"
    }
   ],
   "source": [
    "ggplot(out_df, aes(x='y_pred', colour='y_true')) + geom_density(alpha=0.9) + xlim(low=-1, high=5)"
   ]
  },
  {
   "cell_type": "code",
   "execution_count": 65,
   "metadata": {},
   "outputs": [
    {
     "data": {
      "text/plain": [
       "<matplotlib.axes._subplots.AxesSubplot at 0x2afd0b84c470>"
      ]
     },
     "execution_count": 65,
     "metadata": {},
     "output_type": "execute_result"
    },
    {
     "data": {
      "image/png": "[encoded data removed]",
      "text/plain": [
       "<Figure size 432x288 with 1 Axes>"
      ]
     },
     "metadata": {},
     "output_type": "display_data"
    }
   ],
   "source": [
    "out_df.plot.scatter(x='y_true', y='y_pred', ylim=(-1, 5))"
   ]
  },
  {
   "cell_type": "code",
   "execution_count": 67,
   "metadata": {},
   "outputs": [
    {
     "data": {
      "text/html": [
       "<div>\n",
       "<style scoped>\n",
       "    .dataframe tbody tr th:only-of-type {\n",
       "        vertical-align: middle;\n",
       "    }\n",
       "\n",
       "    .dataframe tbody tr th {\n",
       "        vertical-align: top;\n",
       "    }\n",
       "\n",
       "    .dataframe thead tr th {\n",
       "        text-align: left;\n",
       "    }\n",
       "\n",
       "    .dataframe thead tr:last-of-type th {\n",
       "        text-align: right;\n",
       "    }\n",
       "</style>\n",
       "<table border=\"1\" class=\"dataframe\">\n",
       "  <thead>\n",
       "    <tr>\n",
       "      <th></th>\n",
       "      <th colspan=\"8\" halign=\"left\">y_pred</th>\n",
       "    </tr>\n",
       "    <tr>\n",
       "      <th></th>\n",
       "      <th>count</th>\n",
       "      <th>mean</th>\n",
       "      <th>std</th>\n",
       "      <th>min</th>\n",
       "      <th>25%</th>\n",
       "      <th>50%</th>\n",
       "      <th>75%</th>\n",
       "      <th>max</th>\n",
       "    </tr>\n",
       "    <tr>\n",
       "      <th>y_true</th>\n",
       "      <th></th>\n",
       "      <th></th>\n",
       "      <th></th>\n",
       "      <th></th>\n",
       "      <th></th>\n",
       "      <th></th>\n",
       "      <th></th>\n",
       "      <th></th>\n",
       "    </tr>\n",
       "  </thead>\n",
       "  <tbody>\n",
       "    <tr>\n",
       "      <th>0</th>\n",
       "      <td>741.0</td>\n",
       "      <td>0.791134</td>\n",
       "      <td>1.953692</td>\n",
       "      <td>0.498022</td>\n",
       "      <td>0.660901</td>\n",
       "      <td>0.662145</td>\n",
       "      <td>0.685567</td>\n",
       "      <td>51.665691</td>\n",
       "    </tr>\n",
       "    <tr>\n",
       "      <th>1</th>\n",
       "      <td>277.0</td>\n",
       "      <td>3.531302</td>\n",
       "      <td>35.020256</td>\n",
       "      <td>0.622300</td>\n",
       "      <td>0.660998</td>\n",
       "      <td>0.665059</td>\n",
       "      <td>0.787127</td>\n",
       "      <td>546.386963</td>\n",
       "    </tr>\n",
       "    <tr>\n",
       "      <th>2</th>\n",
       "      <td>147.0</td>\n",
       "      <td>0.788031</td>\n",
       "      <td>0.200312</td>\n",
       "      <td>0.639661</td>\n",
       "      <td>0.661511</td>\n",
       "      <td>0.675686</td>\n",
       "      <td>0.855202</td>\n",
       "      <td>1.540114</td>\n",
       "    </tr>\n",
       "    <tr>\n",
       "      <th>3</th>\n",
       "      <td>139.0</td>\n",
       "      <td>0.823122</td>\n",
       "      <td>0.230037</td>\n",
       "      <td>0.657027</td>\n",
       "      <td>0.662225</td>\n",
       "      <td>0.683953</td>\n",
       "      <td>0.923668</td>\n",
       "      <td>1.625863</td>\n",
       "    </tr>\n",
       "  </tbody>\n",
       "</table>\n",
       "</div>"
      ],
      "text/plain": [
       "       y_pred                                                               \\\n",
       "        count      mean        std       min       25%       50%       75%   \n",
       "y_true                                                                       \n",
       "0       741.0  0.791134   1.953692  0.498022  0.660901  0.662145  0.685567   \n",
       "1       277.0  3.531302  35.020256  0.622300  0.660998  0.665059  0.787127   \n",
       "2       147.0  0.788031   0.200312  0.639661  0.661511  0.675686  0.855202   \n",
       "3       139.0  0.823122   0.230037  0.657027  0.662225  0.683953  0.923668   \n",
       "\n",
       "                    \n",
       "               max  \n",
       "y_true              \n",
       "0        51.665691  \n",
       "1       546.386963  \n",
       "2         1.540114  \n",
       "3         1.625863  "
      ]
     },
     "execution_count": 67,
     "metadata": {},
     "output_type": "execute_result"
    }
   ],
   "source": [
    "out_df.groupby('y_true').describe()"
   ]
  }
 ],
 "metadata": {
  "kernelspec": {
   "display_name": "Python 3",
   "language": "python",
   "name": "python3"
  },
  "language_info": {
   "codemirror_mode": {
    "name": "ipython",
    "version": 3
   },
   "file_extension": ".py",
   "mimetype": "text/x-python",
   "name": "python",
   "nbconvert_exporter": "python",
   "pygments_lexer": "ipython3",
   "version": "3.5.4"
  }
 },
 "nbformat": 4,
 "nbformat_minor": 2
}
