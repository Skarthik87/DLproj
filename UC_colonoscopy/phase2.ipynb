{
 "cells": [
  {
   "cell_type": "markdown",
   "metadata": {},
   "source": [
    "# Models for Larger Dataset"
   ]
  },
  {
   "cell_type": "code",
   "execution_count": 1,
   "metadata": {
    "scrolled": true
   },
   "outputs": [
    {
     "name": "stderr",
     "output_type": "stream",
     "text": [
      "/sw/lsa/centos7/python-anaconda-arc-connect/created-20170421/lib/python3.5/site-packages/h5py/__init__.py:36: FutureWarning: Conversion of the second argument of issubdtype from `float` to `np.floating` is deprecated. In future, it will be treated as `np.float64 == np.dtype(float).type`.\n",
      "  from ._conv import register_converters as _register_converters\n",
      "Using TensorFlow backend.\n"
     ]
    }
   ],
   "source": [
    "from keras import backend as K\n",
    "from keras.models import Sequential, Model\n",
    "from keras.layers import GlobalAveragePooling2D\n",
    "from keras.layers.core import Dense, Activation, Dropout, Lambda\n",
    "from keras.layers.convolutional import Conv2D\n",
    "from keras.optimizers import SGD, RMSprop, Adam\n",
    "from keras.preprocessing.image import ImageDataGenerator\n",
    "from keras.callbacks import ModelCheckpoint, ReduceLROnPlateau, EarlyStopping"
   ]
  },
  {
   "cell_type": "code",
   "execution_count": 2,
   "metadata": {},
   "outputs": [],
   "source": [
    "import os, sys\n",
    "import numpy as np\n",
    "import pandas as pd\n",
    "from sklearn.model_selection import train_test_split, GroupShuffleSplit\n",
    "import matplotlib.pyplot as plt\n",
    "%matplotlib inline\n",
    "import pickle"
   ]
  },
  {
   "cell_type": "code",
   "execution_count": 8,
   "metadata": {},
   "outputs": [],
   "source": [
    "path  =  \"/nfs/turbo/intmed-bnallamo-turbo/wsliu/Data/colonoscopy2/\"\n",
    "model_path = path + 'models/'\n",
    "if not os.path.exists(model_path): \n",
    "    os.mkdir(model_path)\n",
    "data_path = path+'subset/'"
   ]
  },
  {
   "cell_type": "code",
   "execution_count": 3,
   "metadata": {},
   "outputs": [],
   "source": [
    "batch_size = 32"
   ]
  },
  {
   "cell_type": "markdown",
   "metadata": {},
   "source": [
    "## Preparation\n",
    "Check up the labels and image files. Split into training and validation sets. "
   ]
  },
  {
   "cell_type": "code",
   "execution_count": 6,
   "metadata": {},
   "outputs": [],
   "source": [
    "filenames = os.listdir(data_path)"
   ]
  },
  {
   "cell_type": "code",
   "execution_count": 9,
   "metadata": {},
   "outputs": [],
   "source": [
    "labels = pd.read_excel(path+'colonoscopy_mayo_labeled_07May.xlsx')"
   ]
  },
  {
   "cell_type": "code",
   "execution_count": 15,
   "metadata": {},
   "outputs": [
    {
     "data": {
      "text/plain": [
       "Index(['basefile', 'pathname', 'SourceReportName', 'Inflamm_Mayo_0',\n",
       "       'Inflamm_Mayo_1', 'Inflamm_Mayo_2', 'Inflamm_Mayo_3', 'Poor_GRAPHIC',\n",
       "       'Poor_Image_UNCLASSIFIED'],\n",
       "      dtype='object')"
      ]
     },
     "execution_count": 15,
     "metadata": {},
     "output_type": "execute_result"
    }
   ],
   "source": [
    "labels.columns"
   ]
  },
  {
   "cell_type": "markdown",
   "metadata": {},
   "source": [
    "Make a subset copy of the images, so the generator can run faster. "
   ]
  },
  {
   "cell_type": "code",
   "execution_count": 34,
   "metadata": {},
   "outputs": [],
   "source": [
    "labeled = set(labels.basefile)\n",
    "\n",
    "from shutil import copyfile\n",
    "\n",
    "for f in filenames:\n",
    "    if f in labeled:\n",
    "        copyfile(data_path+f, path+'subset/'+f)"
   ]
  },
  {
   "cell_type": "code",
   "execution_count": 62,
   "metadata": {},
   "outputs": [
    {
     "data": {
      "text/plain": [
       "False    11666\n",
       "True      1150\n",
       "Name: Inflamm_Mayo_3, dtype: int64"
      ]
     },
     "execution_count": 62,
     "metadata": {},
     "output_type": "execute_result"
    }
   ],
   "source": [
    "labels.Inflamm_Mayo_3.value_counts()"
   ]
  },
  {
   "cell_type": "markdown",
   "metadata": {},
   "source": [
    "Create labels for multi-binary classification:"
   ]
  },
  {
   "cell_type": "code",
   "execution_count": 16,
   "metadata": {},
   "outputs": [],
   "source": [
    "labels['split0_123'] = (~labels.Inflamm_Mayo_0).astype(int)\n",
    "labels['split01_23'] = (labels.Inflamm_Mayo_2 | labels.Inflamm_Mayo_3).astype(int)\n",
    "labels['split012_3'] = labels.Inflamm_Mayo_3.astype(int)"
   ]
  },
  {
   "cell_type": "code",
   "execution_count": 73,
   "metadata": {},
   "outputs": [
    {
     "data": {
      "text/plain": [
       "0    7214\n",
       "1    5602\n",
       "Name: split0_123, dtype: int64"
      ]
     },
     "execution_count": 73,
     "metadata": {},
     "output_type": "execute_result"
    }
   ],
   "source": [
    "labels.split0_123.value_counts()"
   ]
  },
  {
   "cell_type": "code",
   "execution_count": 74,
   "metadata": {},
   "outputs": [
    {
     "data": {
      "text/plain": [
       "0    9961\n",
       "1    2855\n",
       "Name: split01_23, dtype: int64"
      ]
     },
     "execution_count": 74,
     "metadata": {},
     "output_type": "execute_result"
    }
   ],
   "source": [
    "labels.split01_23.value_counts()"
   ]
  },
  {
   "cell_type": "code",
   "execution_count": 41,
   "metadata": {
    "scrolled": true
   },
   "outputs": [
    {
     "data": {
      "text/plain": [
       "0    10396\n",
       "1     1041\n",
       "Name: split012_3, dtype: int64"
      ]
     },
     "execution_count": 41,
     "metadata": {},
     "output_type": "execute_result"
    }
   ],
   "source": [
    "labels.split012_3.value_counts()"
   ]
  },
  {
   "cell_type": "code",
   "execution_count": 10,
   "metadata": {},
   "outputs": [],
   "source": [
    "labels['Mayo_score'] = 0\n",
    "labels.loc[labels.Inflamm_Mayo_1, 'Mayo_score'] = 1\n",
    "labels.loc[labels.Inflamm_Mayo_2, 'Mayo_score'] = 2\n",
    "labels.loc[labels.Inflamm_Mayo_3, 'Mayo_score'] = 3"
   ]
  },
  {
   "cell_type": "code",
   "execution_count": 11,
   "metadata": {},
   "outputs": [
    {
     "data": {
      "text/plain": [
       "0    7187\n",
       "1    2774\n",
       "2    1705\n",
       "3    1150\n",
       "Name: Mayo_score, dtype: int64"
      ]
     },
     "execution_count": 11,
     "metadata": {},
     "output_type": "execute_result"
    }
   ],
   "source": [
    "labels.Mayo_score.value_counts()"
   ]
  },
  {
   "cell_type": "code",
   "execution_count": 5,
   "metadata": {},
   "outputs": [],
   "source": [
    "labels = pd.read_csv(path+'train_labels.csv')"
   ]
  },
  {
   "cell_type": "code",
   "execution_count": 17,
   "metadata": {},
   "outputs": [],
   "source": [
    "split = GroupShuffleSplit(n_splits=1, test_size=0.1, random_state=24)\n",
    "ind = split.split(labels, groups=labels['SourceReportName'])\n",
    "trn_ind, val_ind = next(ind)\n",
    "\n",
    "trn_patients = set(labels.loc[trn_ind, 'SourceReportName'])\n",
    "val_patients = set(labels.loc[val_ind, 'SourceReportName'])"
   ]
  },
  {
   "cell_type": "code",
   "execution_count": 18,
   "metadata": {},
   "outputs": [],
   "source": [
    "trn_df = labels.loc[trn_ind, ]\n",
    "val_df = labels.loc[val_ind, ]"
   ]
  },
  {
   "cell_type": "code",
   "execution_count": 19,
   "metadata": {},
   "outputs": [
    {
     "data": {
      "text/plain": [
       "(2077, 231)"
      ]
     },
     "execution_count": 19,
     "metadata": {},
     "output_type": "execute_result"
    }
   ],
   "source": [
    "len(trn_patients), len(val_patients)"
   ]
  },
  {
   "cell_type": "code",
   "execution_count": 20,
   "metadata": {
    "scrolled": true
   },
   "outputs": [
    {
     "data": {
      "text/plain": [
       "0    1165\n",
       "1     139\n",
       "Name: split012_3, dtype: int64"
      ]
     },
     "execution_count": 20,
     "metadata": {},
     "output_type": "execute_result"
    }
   ],
   "source": [
    "val_df.split012_3.value_counts()"
   ]
  },
  {
   "cell_type": "code",
   "execution_count": 21,
   "metadata": {},
   "outputs": [
    {
     "data": {
      "text/plain": [
       "0    741\n",
       "1    277\n",
       "2    147\n",
       "3    139\n",
       "Name: Mayo_score, dtype: int64"
      ]
     },
     "execution_count": 21,
     "metadata": {},
     "output_type": "execute_result"
    }
   ],
   "source": [
    "val_df.Mayo_score.value_counts()"
   ]
  },
  {
   "cell_type": "code",
   "execution_count": 23,
   "metadata": {},
   "outputs": [],
   "source": [
    "tst_df.to_csv(path+'test_labels.csv', index=False)"
   ]
  },
  {
   "cell_type": "code",
   "execution_count": 24,
   "metadata": {},
   "outputs": [],
   "source": [
    "trn_df.to_csv(path+'train_labels.csv', index=False)"
   ]
  },
  {
   "cell_type": "code",
   "execution_count": 9,
   "metadata": {},
   "outputs": [],
   "source": [
    "tst_df = pd.read_csv(path+'test_labels.csv')"
   ]
  },
  {
   "cell_type": "markdown",
   "metadata": {},
   "source": [
    "## Data Generator"
   ]
  },
  {
   "cell_type": "code",
   "execution_count": 10,
   "metadata": {},
   "outputs": [],
   "source": [
    "module_path = os.path.abspath(os.path.join('..'))\n",
    "if module_path not in sys.path:\n",
    "    sys.path.append(module_path)"
   ]
  },
  {
   "cell_type": "code",
   "execution_count": 36,
   "metadata": {},
   "outputs": [],
   "source": [
    "from keras_addon import ImageFrameGenerator"
   ]
  },
  {
   "cell_type": "code",
   "execution_count": 29,
   "metadata": {},
   "outputs": [
    {
     "data": {
      "text/plain": [
       "<module 'keras_addon' from '/home/wsliu/Codes/DLproj/keras_addon.py'>"
      ]
     },
     "execution_count": 29,
     "metadata": {},
     "output_type": "execute_result"
    }
   ],
   "source": [
    "import keras_addon\n",
    "from importlib import reload\n",
    "reload(keras_addon)"
   ]
  },
  {
   "cell_type": "code",
   "execution_count": 37,
   "metadata": {},
   "outputs": [],
   "source": [
    "train_gen = ImageFrameGenerator( \n",
    "        rotation_range=180,\n",
    "        width_shift_range=0.2,\n",
    "        height_shift_range=0.2,\n",
    "        shear_range=0.1,\n",
    "        zoom_range=0.2,\n",
    "        horizontal_flip=True,\n",
    "        vertical_flip=True,\n",
    "        fill_mode='nearest')"
   ]
  },
  {
   "cell_type": "code",
   "execution_count": 38,
   "metadata": {},
   "outputs": [],
   "source": [
    "validation_gen = ImageFrameGenerator()"
   ]
  },
  {
   "cell_type": "code",
   "execution_count": 39,
   "metadata": {},
   "outputs": [
    {
     "name": "stdout",
     "output_type": "stream",
     "text": [
      "Found 12816 images in the directory.\n",
      "Using 9161 images to generate mini-batches.\n"
     ]
    }
   ],
   "source": [
    "train_itr = train_gen.flow_from_frame(data_path, trn_df, 'basefile', ['split0_123', 'split01_23', 'split012_3'], \n",
    "                                     target_size=(256, 320), batch_size=batch_size)"
   ]
  },
  {
   "cell_type": "code",
   "execution_count": 59,
   "metadata": {
    "scrolled": false
   },
   "outputs": [
    {
     "name": "stdout",
     "output_type": "stream",
     "text": [
      "Found 12816 images in the directory.\n",
      "Using 2271 images to generate mini-batches.\n"
     ]
    }
   ],
   "source": [
    "val_itr = validation_gen.flow_from_frame(data_path, val_df, 'basefile', ['split0_123', 'split01_23', 'split012_3'], \n",
    "                                     target_size=(256, 320), batch_size=batch_size, shuffle=False)"
   ]
  },
  {
   "cell_type": "code",
   "execution_count": 60,
   "metadata": {},
   "outputs": [
    {
     "name": "stdout",
     "output_type": "stream",
     "text": [
      "Found 12816 images in the directory.\n",
      "Using 1378 images to generate mini-batches.\n"
     ]
    }
   ],
   "source": [
    "tst_itr = validation_gen.flow_from_frame(data_path, tst_df, 'basefile', ['split0_123', 'split01_23', 'split012_3'], \n",
    "                                     target_size=(256, 320), batch_size=batch_size, shuffle=False)"
   ]
  },
  {
   "cell_type": "code",
   "execution_count": 53,
   "metadata": {},
   "outputs": [
    {
     "name": "stdout",
     "output_type": "stream",
     "text": [
      "FS_1493-2.jpg\n",
      "FS_416-5.jpg\n",
      "BM_col_1821-5.jpg\n",
      "EW_col_1190-4.jpg\n",
      "EW_col_944-4.jpg\n",
      "FS_1146-2.jpg\n",
      "FS_1239-4.jpg\n",
      "FS_1634-2.jpg\n"
     ]
    }
   ],
   "source": [
    "X_batch, y_batch = next(train_itr)"
   ]
  },
  {
   "cell_type": "code",
   "execution_count": 54,
   "metadata": {},
   "outputs": [
    {
     "data": {
      "text/plain": [
       "{'split012_3': array([1, 0, 0, 0, 0, 0, 0, 0]),\n",
       " 'split01_23': array([1, 0, 0, 0, 0, 1, 0, 0]),\n",
       " 'split0_123': array([1, 0, 0, 0, 0, 1, 0, 1])}"
      ]
     },
     "execution_count": 54,
     "metadata": {},
     "output_type": "execute_result"
    }
   ],
   "source": [
    "y_batch"
   ]
  },
  {
   "cell_type": "code",
   "execution_count": 56,
   "metadata": {},
   "outputs": [],
   "source": [
    "fn = '''FS_1493-2.jpg\n",
    "FS_416-5.jpg\n",
    "BM_col_1821-5.jpg\n",
    "EW_col_1190-4.jpg\n",
    "EW_col_944-4.jpg\n",
    "FS_1146-2.jpg\n",
    "FS_1239-4.jpg\n",
    "FS_1634-2.jpg'''.split('\\n')"
   ]
  },
  {
   "cell_type": "code",
   "execution_count": 60,
   "metadata": {},
   "outputs": [
    {
     "data": {
      "text/html": [
       "<div>\n",
       "<style scoped>\n",
       "    .dataframe tbody tr th:only-of-type {\n",
       "        vertical-align: middle;\n",
       "    }\n",
       "\n",
       "    .dataframe tbody tr th {\n",
       "        vertical-align: top;\n",
       "    }\n",
       "\n",
       "    .dataframe thead th {\n",
       "        text-align: right;\n",
       "    }\n",
       "</style>\n",
       "<table border=\"1\" class=\"dataframe\">\n",
       "  <thead>\n",
       "    <tr style=\"text-align: right;\">\n",
       "      <th></th>\n",
       "      <th>basefile</th>\n",
       "      <th>split0_123</th>\n",
       "      <th>split01_23</th>\n",
       "      <th>split012_3</th>\n",
       "    </tr>\n",
       "  </thead>\n",
       "  <tbody>\n",
       "    <tr>\n",
       "      <th>670</th>\n",
       "      <td>BM_col_1821-5.jpg</td>\n",
       "      <td>0</td>\n",
       "      <td>0</td>\n",
       "      <td>0</td>\n",
       "    </tr>\n",
       "    <tr>\n",
       "      <th>2615</th>\n",
       "      <td>EW_col_1190-4.jpg</td>\n",
       "      <td>0</td>\n",
       "      <td>0</td>\n",
       "      <td>0</td>\n",
       "    </tr>\n",
       "    <tr>\n",
       "      <th>3418</th>\n",
       "      <td>EW_col_944-4.jpg</td>\n",
       "      <td>0</td>\n",
       "      <td>0</td>\n",
       "      <td>0</td>\n",
       "    </tr>\n",
       "    <tr>\n",
       "      <th>4397</th>\n",
       "      <td>FS_1146-2.jpg</td>\n",
       "      <td>1</td>\n",
       "      <td>1</td>\n",
       "      <td>0</td>\n",
       "    </tr>\n",
       "    <tr>\n",
       "      <th>4570</th>\n",
       "      <td>FS_1239-4.jpg</td>\n",
       "      <td>0</td>\n",
       "      <td>0</td>\n",
       "      <td>0</td>\n",
       "    </tr>\n",
       "    <tr>\n",
       "      <th>5027</th>\n",
       "      <td>FS_1493-2.jpg</td>\n",
       "      <td>1</td>\n",
       "      <td>1</td>\n",
       "      <td>1</td>\n",
       "    </tr>\n",
       "    <tr>\n",
       "      <th>5337</th>\n",
       "      <td>FS_1634-2.jpg</td>\n",
       "      <td>1</td>\n",
       "      <td>0</td>\n",
       "      <td>0</td>\n",
       "    </tr>\n",
       "    <tr>\n",
       "      <th>8590</th>\n",
       "      <td>FS_416-5.jpg</td>\n",
       "      <td>0</td>\n",
       "      <td>0</td>\n",
       "      <td>0</td>\n",
       "    </tr>\n",
       "  </tbody>\n",
       "</table>\n",
       "</div>"
      ],
      "text/plain": [
       "               basefile  split0_123  split01_23  split012_3\n",
       "670   BM_col_1821-5.jpg           0           0           0\n",
       "2615  EW_col_1190-4.jpg           0           0           0\n",
       "3418   EW_col_944-4.jpg           0           0           0\n",
       "4397      FS_1146-2.jpg           1           1           0\n",
       "4570      FS_1239-4.jpg           0           0           0\n",
       "5027      FS_1493-2.jpg           1           1           1\n",
       "5337      FS_1634-2.jpg           1           0           0\n",
       "8590       FS_416-5.jpg           0           0           0"
      ]
     },
     "execution_count": 60,
     "metadata": {},
     "output_type": "execute_result"
    }
   ],
   "source": [
    "trn_df.loc[trn_df['basefile'].isin(fn), ['basefile', 'split0_123', 'split01_23', 'split012_3']]"
   ]
  },
  {
   "cell_type": "code",
   "execution_count": 14,
   "metadata": {},
   "outputs": [],
   "source": [
    "from utils import plots"
   ]
  },
  {
   "cell_type": "markdown",
   "metadata": {},
   "source": [
    "## Model Building"
   ]
  },
  {
   "cell_type": "code",
   "execution_count": 19,
   "metadata": {},
   "outputs": [],
   "source": [
    "from keras.applications.inception_v3 import InceptionV3"
   ]
  },
  {
   "cell_type": "code",
   "execution_count": 20,
   "metadata": {},
   "outputs": [],
   "source": [
    "base_model = InceptionV3(weights='imagenet', include_top=False)"
   ]
  },
  {
   "cell_type": "code",
   "execution_count": 21,
   "metadata": {},
   "outputs": [],
   "source": [
    "x = base_model.output\n",
    "x = GlobalAveragePooling2D()(x)\n",
    "\n",
    "output1 = Dense(1, activation='sigmoid', name='split0_123')(x)\n",
    "output2 = Dense(1, activation='sigmoid', name='split01_23')(x)\n",
    "output3 = Dense(1, activation='sigmoid', name='split012_3')(x)\n",
    "\n",
    "model = Model(inputs=base_model.input, outputs=[output1, output2, output3])"
   ]
  },
  {
   "cell_type": "code",
   "execution_count": 64,
   "metadata": {},
   "outputs": [],
   "source": [
    "model.compile(optimizer='adam', loss='binary_crossentropy',metrics=['accuracy'])"
   ]
  },
  {
   "cell_type": "code",
   "execution_count": 65,
   "metadata": {},
   "outputs": [],
   "source": [
    "checkpointer = ModelCheckpoint(filepath=model_path+'phase2_0511.h5', verbose=0, save_best_only=True, \n",
    "                               save_weights_only=True)\n",
    "reduce_lr = ReduceLROnPlateau(monitor='val_loss', factor=0.2, patience=10, min_lr=1.e-8)\n",
    "earlystop = EarlyStopping(monitor='val_loss', patience=30)"
   ]
  },
  {
   "cell_type": "code",
   "execution_count": null,
   "metadata": {
    "collapsed": true
   },
   "outputs": [
    {
     "name": "stdout",
     "output_type": "stream",
     "text": [
      "Epoch 1/200\n",
      "286/286 [==============================] - 457s 2s/step - loss: 1.0631 - split0_123_loss: 0.5156 - split01_23_loss: 0.3514 - split012_3_loss: 0.1961 - split0_123_acc: 0.7462 - split01_23_acc: 0.8523 - split012_3_acc: 0.9227 - val_loss: 1.3938 - val_split0_123_loss: 0.6226 - val_split01_23_loss: 0.4715 - val_split012_3_loss: 0.2997 - val_split0_123_acc: 0.7384 - val_split01_23_acc: 0.8094 - val_split012_3_acc: 0.8839\n",
      "Epoch 2/200\n",
      "286/286 [==============================] - 444s 2s/step - loss: 0.9114 - split0_123_loss: 0.4434 - split01_23_loss: 0.2974 - split012_3_loss: 0.1706 - split0_123_acc: 0.7975 - split01_23_acc: 0.8738 - split012_3_acc: 0.9332 - val_loss: 1.8149 - val_split0_123_loss: 0.9771 - val_split01_23_loss: 0.6006 - val_split012_3_loss: 0.2373 - val_split0_123_acc: 0.6710 - val_split01_23_acc: 0.8496 - val_split012_3_acc: 0.9411\n",
      "Epoch 3/200\n",
      "286/286 [==============================] - 439s 2s/step - loss: 0.8662 - split0_123_loss: 0.4284 - split01_23_loss: 0.2751 - split012_3_loss: 0.1628 - split0_123_acc: 0.8067 - split01_23_acc: 0.8850 - split012_3_acc: 0.9330 - val_loss: 4.0599 - val_split0_123_loss: 1.4251 - val_split01_23_loss: 1.6606 - val_split012_3_loss: 0.9742 - val_split0_123_acc: 0.6402 - val_split01_23_acc: 0.6580 - val_split012_3_acc: 0.7379\n",
      "Epoch 4/200\n",
      "286/286 [==============================] - 434s 2s/step - loss: 0.8573 - split0_123_loss: 0.4155 - split01_23_loss: 0.2815 - split012_3_loss: 0.1603 - split0_123_acc: 0.8078 - split01_23_acc: 0.8856 - split012_3_acc: 0.9321 - val_loss: 0.9722 - val_split0_123_loss: 0.5285 - val_split01_23_loss: 0.3121 - val_split012_3_loss: 0.1315 - val_split0_123_acc: 0.7661 - val_split01_23_acc: 0.8714 - val_split012_3_acc: 0.9442\n",
      "Epoch 5/200\n",
      "286/286 [==============================] - 435s 2s/step - loss: 0.8272 - split0_123_loss: 0.4096 - split01_23_loss: 0.2688 - split012_3_loss: 0.1488 - split0_123_acc: 0.8178 - split01_23_acc: 0.8889 - split012_3_acc: 0.9369 - val_loss: 1.2448 - val_split0_123_loss: 0.6108 - val_split01_23_loss: 0.4052 - val_split012_3_loss: 0.2288 - val_split0_123_acc: 0.7455 - val_split01_23_acc: 0.8478 - val_split012_3_acc: 0.9326\n",
      "Epoch 6/200\n",
      "286/286 [==============================] - 434s 2s/step - loss: 0.8322 - split0_123_loss: 0.4115 - split01_23_loss: 0.2659 - split012_3_loss: 0.1548 - split0_123_acc: 0.8154 - split01_23_acc: 0.8894 - split012_3_acc: 0.9356 - val_loss: 0.9761 - val_split0_123_loss: 0.5511 - val_split01_23_loss: 0.2620 - val_split012_3_loss: 0.1630 - val_split0_123_acc: 0.7536 - val_split01_23_acc: 0.8938 - val_split012_3_acc: 0.9277\n",
      "Epoch 7/200\n",
      "286/286 [==============================] - 433s 2s/step - loss: 0.8202 - split0_123_loss: 0.4083 - split01_23_loss: 0.2606 - split012_3_loss: 0.1512 - split0_123_acc: 0.8179 - split01_23_acc: 0.8900 - split012_3_acc: 0.9351 - val_loss: 1.3913 - val_split0_123_loss: 0.4967 - val_split01_23_loss: 0.5589 - val_split012_3_loss: 0.3357 - val_split0_123_acc: 0.7741 - val_split01_23_acc: 0.7496 - val_split012_3_acc: 0.8254\n",
      "Epoch 8/200\n",
      "286/286 [==============================] - 435s 2s/step - loss: 0.8134 - split0_123_loss: 0.4019 - split01_23_loss: 0.2656 - split012_3_loss: 0.1459 - split0_123_acc: 0.8184 - split01_23_acc: 0.8881 - split012_3_acc: 0.9394 - val_loss: 0.8889 - val_split0_123_loss: 0.4325 - val_split01_23_loss: 0.2590 - val_split012_3_loss: 0.1975 - val_split0_123_acc: 0.8058 - val_split01_23_acc: 0.8893 - val_split012_3_acc: 0.9246\n",
      "Epoch 9/200\n",
      "286/286 [==============================] - 435s 2s/step - loss: 0.8007 - split0_123_loss: 0.3943 - split01_23_loss: 0.2587 - split012_3_loss: 0.1477 - split0_123_acc: 0.8259 - split01_23_acc: 0.8919 - split012_3_acc: 0.9357 - val_loss: 1.4718 - val_split0_123_loss: 0.8709 - val_split01_23_loss: 0.4238 - val_split012_3_loss: 0.1771 - val_split0_123_acc: 0.6768 - val_split01_23_acc: 0.8562 - val_split012_3_acc: 0.9451\n",
      "Epoch 10/200\n",
      "286/286 [==============================] - 435s 2s/step - loss: 0.7844 - split0_123_loss: 0.3906 - split01_23_loss: 0.2501 - split012_3_loss: 0.1437 - split0_123_acc: 0.8282 - split01_23_acc: 0.8948 - split012_3_acc: 0.9377 - val_loss: 0.9916 - val_split0_123_loss: 0.4992 - val_split01_23_loss: 0.3178 - val_split012_3_loss: 0.1746 - val_split0_123_acc: 0.7830 - val_split01_23_acc: 0.8750 - val_split012_3_acc: 0.9429\n",
      "Epoch 11/200\n",
      "286/286 [==============================] - 434s 2s/step - loss: 0.7798 - split0_123_loss: 0.3855 - split01_23_loss: 0.2512 - split012_3_loss: 0.1431 - split0_123_acc: 0.8233 - split01_23_acc: 0.8966 - split012_3_acc: 0.9388 - val_loss: 0.7942 - val_split0_123_loss: 0.4381 - val_split01_23_loss: 0.2373 - val_split012_3_loss: 0.1187 - val_split0_123_acc: 0.8170 - val_split01_23_acc: 0.9031 - val_split012_3_acc: 0.9504\n",
      "Epoch 12/200\n",
      "286/286 [==============================] - 434s 2s/step - loss: 0.7702 - split0_123_loss: 0.3800 - split01_23_loss: 0.2474 - split012_3_loss: 0.1429 - split0_123_acc: 0.8328 - split01_23_acc: 0.8963 - split012_3_acc: 0.9396 - val_loss: 0.8706 - val_split0_123_loss: 0.4302 - val_split01_23_loss: 0.2955 - val_split012_3_loss: 0.1449 - val_split0_123_acc: 0.8259 - val_split01_23_acc: 0.8848 - val_split012_3_acc: 0.9388\n",
      "Epoch 13/200\n",
      "168/286 [================>.............] - ETA: 2:45 - loss: 0.7727 - split0_123_loss: 0.3878 - split01_23_loss: 0.2437 - split012_3_loss: 0.1412 - split0_123_acc: 0.8324 - split01_23_acc: 0.9012 - split012_3_acc: 0.9396"
     ]
    }
   ],
   "source": [
    "history = model.fit_generator(train_itr, steps_per_epoch=train_itr.n // batch_size, epochs=200, \n",
    "                              validation_data=val_itr, validation_steps=val_itr.n // batch_size, \n",
    "                              callbacks=[checkpointer, reduce_lr, earlystop], \n",
    "                                verbose=1)"
   ]
  },
  {
   "cell_type": "markdown",
   "metadata": {},
   "source": [
    "## Result Evaluation"
   ]
  },
  {
   "cell_type": "code",
   "execution_count": 79,
   "metadata": {},
   "outputs": [],
   "source": [
    "model.load_weights(model_path+'phase2_0511_2.h5')"
   ]
  },
  {
   "cell_type": "code",
   "execution_count": 80,
   "metadata": {},
   "outputs": [
    {
     "name": "stdout",
     "output_type": "stream",
     "text": [
      "44/44 [==============================] - 20s 451ms/step\n"
     ]
    }
   ],
   "source": [
    "y = model.predict_generator(tst_itr, verbose=1)"
   ]
  },
  {
   "cell_type": "code",
   "execution_count": 81,
   "metadata": {},
   "outputs": [],
   "source": [
    "y_pred = np.concatenate(y, axis=1)"
   ]
  },
  {
   "cell_type": "code",
   "execution_count": 63,
   "metadata": {},
   "outputs": [],
   "source": [
    "y_true = tst_df[['split0_123', 'split01_23', 'split012_3']].values"
   ]
  },
  {
   "cell_type": "code",
   "execution_count": 64,
   "metadata": {},
   "outputs": [
    {
     "data": {
      "text/plain": [
       "((1378, 3), (1378, 3))"
      ]
     },
     "execution_count": 64,
     "metadata": {},
     "output_type": "execute_result"
    }
   ],
   "source": [
    "y_pred.shape, y_true.shape"
   ]
  },
  {
   "cell_type": "code",
   "execution_count": 27,
   "metadata": {},
   "outputs": [],
   "source": [
    "from DL_utils import plot_roc"
   ]
  },
  {
   "cell_type": "code",
   "execution_count": 82,
   "metadata": {
    "scrolled": true
   },
   "outputs": [
    {
     "data": {
      "text/plain": [
       "{0: 0.9108663344697963, 1: 0.9609973839110529, 2: 0.9733952183688666}"
      ]
     },
     "execution_count": 82,
     "metadata": {},
     "output_type": "execute_result"
    },
    {
     "data": {
      "image/png": "[encoded data removed]",
      "text/plain": [
       "<Figure size 432x288 with 1 Axes>"
      ]
     },
     "metadata": {},
     "output_type": "display_data"
    }
   ],
   "source": [
    "plot_roc(y_pred, y_true, classes=['split0_123', 'split01_23', 'split012_3'])"
   ]
  },
  {
   "cell_type": "markdown",
   "metadata": {},
   "source": [
    "## Test on Video data"
   ]
  },
  {
   "cell_type": "code",
   "execution_count": 6,
   "metadata": {},
   "outputs": [],
   "source": [
    "video_path = '/nfs/turbo/intmed-bnallamo-turbo/wsliu/Data/UC_colonoscopy/'"
   ]
  },
  {
   "cell_type": "code",
   "execution_count": 7,
   "metadata": {},
   "outputs": [],
   "source": [
    "video_labels = pd.read_excel(video_path+'UC_Images_Labels/UC_deeplearning_imageLabels.xlsx')"
   ]
  }
 ],
 "metadata": {
  "kernelspec": {
   "display_name": "Python 3",
   "language": "python",
   "name": "python3"
  },
  "language_info": {
   "codemirror_mode": {
    "name": "ipython",
    "version": 3
   },
   "file_extension": ".py",
   "mimetype": "text/x-python",
   "name": "python",
   "nbconvert_exporter": "python",
   "pygments_lexer": "ipython3",
   "version": "3.5.4"
  }
 },
 "nbformat": 4,
 "nbformat_minor": 2
}
