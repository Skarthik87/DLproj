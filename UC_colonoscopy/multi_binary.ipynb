{
 "cells": [
  {
   "cell_type": "markdown",
   "metadata": {},
   "source": [
    "# Multi-Binary Classification\n",
    "In this notebook, we reformulate the problems as 3 binary classification problems. We train a neural net to output 3 binary classification scores. "
   ]
  },
  {
   "cell_type": "code",
   "execution_count": 1,
   "metadata": {},
   "outputs": [
    {
     "name": "stderr",
     "output_type": "stream",
     "text": [
      "Using TensorFlow backend.\n"
     ]
    }
   ],
   "source": [
    "import os\n",
    "from keras import backend as K\n",
    "from keras.models import Sequential, Model\n",
    "from keras.layers import GlobalAveragePooling2D\n",
    "from keras.layers.core import Dense, Activation, Dropout, Lambda\n",
    "from keras.layers.convolutional import Conv2D\n",
    "from keras.optimizers import SGD, RMSprop, Adam\n",
    "from keras.preprocessing.image import ImageDataGenerator\n",
    "from keras.callbacks import ModelCheckpoint, ReduceLROnPlateau, EarlyStopping\n",
    "import pickle"
   ]
  },
  {
   "cell_type": "code",
   "execution_count": 2,
   "metadata": {},
   "outputs": [],
   "source": [
    "import numpy as np\n",
    "import matplotlib.pyplot as plt\n",
    "%matplotlib inline"
   ]
  },
  {
   "cell_type": "code",
   "execution_count": 3,
   "metadata": {},
   "outputs": [],
   "source": [
    "path = \"/nfs/turbo/intmed-bnallamo-turbo/wsliu/Data/UC_colonoscopy/\"\n",
    "model_path = path + 'models/'\n",
    "if not os.path.exists(model_path): os.mkdir(model_path)"
   ]
  },
  {
   "cell_type": "code",
   "execution_count": 4,
   "metadata": {},
   "outputs": [],
   "source": [
    "batch_size=32"
   ]
  },
  {
   "cell_type": "markdown",
   "metadata": {},
   "source": [
    "## Save Image Data as Numpy Arrays, and Generate Binary Labels"
   ]
  },
  {
   "cell_type": "code",
   "execution_count": 4,
   "metadata": {},
   "outputs": [],
   "source": [
    "array_datagen = ImageDataGenerator()"
   ]
  },
  {
   "cell_type": "code",
   "execution_count": 43,
   "metadata": {},
   "outputs": [],
   "source": [
    "n0 = 4467; n1 = 828; n2 = 389; n3 = 211; N_trn = n0+n1+n2+n3; N_tst = 1538"
   ]
  },
  {
   "cell_type": "code",
   "execution_count": 9,
   "metadata": {},
   "outputs": [
    {
     "name": "stdout",
     "output_type": "stream",
     "text": [
      "Found 5895 images belonging to 4 classes.\n",
      "Found 1538 images belonging to 4 classes.\n"
     ]
    }
   ],
   "source": [
    "train_generator = array_datagen.flow_from_directory(\n",
    "        path+'split_patients/train/', \n",
    "        target_size=(256, 320),  \n",
    "        batch_size=N_trn,\n",
    "        shuffle=False,\n",
    "        class_mode='categorical')\n",
    "validation_generator = array_datagen.flow_from_directory(\n",
    "        path+'split_patients/validation/',\n",
    "        target_size=(256, 320),\n",
    "        batch_size=N_tst,\n",
    "        shuffle=False,\n",
    "        class_mode='categorical')"
   ]
  },
  {
   "cell_type": "code",
   "execution_count": 10,
   "metadata": {},
   "outputs": [],
   "source": [
    "X_trn, Y_trn = next(train_generator)"
   ]
  },
  {
   "cell_type": "code",
   "execution_count": 13,
   "metadata": {},
   "outputs": [],
   "source": [
    "X_tst, Y_tst = next(validation_generator)"
   ]
  },
  {
   "cell_type": "code",
   "execution_count": 16,
   "metadata": {},
   "outputs": [],
   "source": [
    "np.save(path+'array_data/image_array_256_320_train.npy', X_trn)"
   ]
  },
  {
   "cell_type": "code",
   "execution_count": 17,
   "metadata": {},
   "outputs": [],
   "source": [
    "np.save(path+'array_data/image_array_256_320_test.npy', X_tst)"
   ]
  },
  {
   "cell_type": "code",
   "execution_count": 18,
   "metadata": {},
   "outputs": [],
   "source": [
    "np.save(path+'array_data/class_labels_train.npy', Y_trn)\n",
    "np.save(path+'array_data/class_lables_test.npy', Y_tst)"
   ]
  },
  {
   "cell_type": "code",
   "execution_count": 26,
   "metadata": {},
   "outputs": [],
   "source": [
    "y_trn = Y_trn.argmax(axis=1)\n",
    "y_tst = Y_tst.argmax(axis=1)"
   ]
  },
  {
   "cell_type": "code",
   "execution_count": 24,
   "metadata": {},
   "outputs": [],
   "source": [
    "binary_label_trn = np.zeros([Y_trn.shape[0], Y_trn.shape[1]-1], dtype=int)\n",
    "binary_label_tst = np.zeros([Y_tst.shape[0], Y_tst.shape[1]-1], dtype=int)"
   ]
  },
  {
   "cell_type": "code",
   "execution_count": 51,
   "metadata": {},
   "outputs": [],
   "source": [
    "binary_label_trn[:, 0] = (y_trn != 0)\n",
    "binary_label_trn[:, 1] = (y_trn == 2) | (y_trn == 3)\n",
    "binary_label_trn[:, 2] = (y_trn == 3)\n",
    "\n",
    "binary_label_tst[:, 0] = (y_tst != 0)\n",
    "binary_label_tst[:, 1] = (y_tst == 2) | (y_tst == 3)\n",
    "binary_label_tst[:, 2] = (y_tst == 3)"
   ]
  },
  {
   "cell_type": "code",
   "execution_count": 52,
   "metadata": {},
   "outputs": [],
   "source": [
    "np.save(path+'array_data/binary_labels_train.npy', binary_label_trn)\n",
    "np.save(path+'array_data/binary_labels_test.npy', binary_label_tst)"
   ]
  },
  {
   "cell_type": "markdown",
   "metadata": {},
   "source": [
    "## Fine Tuning"
   ]
  },
  {
   "cell_type": "code",
   "execution_count": 5,
   "metadata": {},
   "outputs": [],
   "source": [
    "X_trn = np.load(path+'array_data/image_array_256_320_train.npy')\n",
    "X_tst = np.load(path+'array_data/image_array_256_320_test.npy')\n",
    "binary_label_trn = np.load(path+'array_data/binary_labels_train.npy')\n",
    "binary_label_tst = np.load(path+'array_data/binary_labels_test.npy')"
   ]
  },
  {
   "cell_type": "code",
   "execution_count": 6,
   "metadata": {},
   "outputs": [],
   "source": [
    "from keras.applications.inception_v3 import InceptionV3"
   ]
  },
  {
   "cell_type": "code",
   "execution_count": 7,
   "metadata": {},
   "outputs": [],
   "source": [
    "base_model = InceptionV3(weights='imagenet', include_top=False)"
   ]
  },
  {
   "cell_type": "code",
   "execution_count": 8,
   "metadata": {},
   "outputs": [],
   "source": [
    "x = base_model.output\n",
    "x = GlobalAveragePooling2D()(x)\n",
    "predictions = Dense(3, activation='sigmoid')(x)\n",
    "\n",
    "model = Model(inputs=base_model.input, outputs=predictions)"
   ]
  },
  {
   "cell_type": "code",
   "execution_count": 62,
   "metadata": {},
   "outputs": [],
   "source": [
    "for layer in base_model.layers:\n",
    "    layer.trainable = False"
   ]
  },
  {
   "cell_type": "code",
   "execution_count": 63,
   "metadata": {},
   "outputs": [],
   "source": [
    "model.compile(optimizer='adam', loss='binary_crossentropy',metrics=['accuracy'])\n",
    "\n",
    "checkpointer = ModelCheckpoint(filepath=model_path+'binary_inceptionv3_trn_top.h5', verbose=0, save_best_only=True, \n",
    "                               save_weights_only=True)\n",
    "reduce_lr = ReduceLROnPlateau(monitor='loss', factor=0.3, patience=3, min_lr=1.e-8)\n",
    "earlystop = EarlyStopping(monitor='loss', patience=5)"
   ]
  },
  {
   "cell_type": "code",
   "execution_count": 19,
   "metadata": {},
   "outputs": [],
   "source": [
    "trntop_gen = ImageDataGenerator()\n",
    "\n",
    "trn_gen = trntop_gen.flow(X_trn, binary_label_trn, batch_size=batch_size)\n",
    "tst_gen = trntop_gen.flow(X_tst, binary_label_tst, batch_size=batch_size, shuffle=False## History Visualization\n",
    "\n",
    "with open('output/inceptionv3_e2e0212.pkl', 'rb') as f:\n",
    "    hist = pickle.load(f)\n",
    "\n",
    "hist.keys()\n",
    "\n",
    "plt.figure(figsize=(15, 4))\n",
    "plt.plot(hist['val_loss']))"
   ]
  },
  {
   "cell_type": "code",
   "execution_count": 64,
   "metadata": {},
   "outputs": [
    {
     "name": "stdout",
     "output_type": "stream",
     "text": [
      "Epoch 1/10\n",
      "184/184 [==============================] - 113s 613ms/step - loss: 0.2783 - acc: 0.8946 - val_loss: 0.4520 - val_acc: 0.8019\n",
      "Epoch 2/10\n",
      "184/184 [==============================] - 110s 599ms/step - loss: 0.2006 - acc: 0.9235 - val_loss: 0.4969 - val_acc: 0.8164\n",
      "Epoch 3/10\n",
      "184/184 [==============================] - 111s 605ms/step - loss: 0.1774 - acc: 0.9319 - val_loss: 0.4786 - val_acc: 0.8077\n",
      "Epoch 4/10\n",
      "184/184 [==============================] - 112s 606ms/step - loss: 0.1590 - acc: 0.9396 - val_loss: 0.5099 - val_acc: 0.8149\n",
      "Epoch 5/10\n",
      "184/184 [==============================] - 112s 608ms/step - loss: 0.1547 - acc: 0.9404 - val_loss: 0.5006 - val_acc: 0.8088\n",
      "Epoch 6/10\n",
      "184/184 [==============================] - 112s 608ms/step - loss: 0.1446 - acc: 0.9430 - val_loss: 0.5297 - val_acc: 0.8132\n",
      "Epoch 7/10\n",
      "184/184 [==============================] - 112s 607ms/step - loss: 0.1394 - acc: 0.9447 - val_loss: 0.5198 - val_acc: 0.8147\n",
      "Epoch 8/10\n",
      "184/184 [==============================] - 111s 605ms/step - loss: 0.1336 - acc: 0.9473 - val_loss: 0.5580 - val_acc: 0.8158\n",
      "Epoch 9/10\n",
      "184/184 [==============================] - 112s 607ms/step - loss: 0.1326 - acc: 0.9475 - val_loss: 0.6347 - val_acc: 0.8186\n",
      "Epoch 10/10\n",
      "184/184 [==============================] - 112s 607ms/step - loss: 0.1231 - acc: 0.9518 - val_loss: 0.5450 - val_acc: 0.8151\n"
     ]
    }
   ],
   "source": [
    "history = model.fit_generator(trn_gen, steps_per_epoch=trn_gen.n // batch_size, epochs=10, \n",
    "                              validation_data=tst_gen, validation_steps=tst_gen.n // batch_size, \n",
    "                              callbacks=[checkpointer, reduce_lr, earlystop], \n",
    "                                verbose=1)"
   ]
  },
  {
   "cell_type": "code",
   "execution_count": 65,
   "metadata": {},
   "outputs": [],
   "source": [
    "model.save_weights(model_path+'binary_inceptionv3_trntop_f.h5')"
   ]
  },
  {
   "cell_type": "markdown",
   "metadata": {},
   "source": [
    "## History Visualization"
   ]
  },
  {
   "cell_type": "code",
   "execution_count": 23,
   "metadata": {},
   "outputs": [],
   "source": [
    "with open('output/binary_inceptionv3_e2e0212.pkl', 'rb') as f:\n",
    "    hist = pickle.load(f)"
   ]
  },
  {
   "cell_type": "code",
   "execution_count": 24,
   "metadata": {},
   "outputs": [
    {
     "data": {
      "text/plain": [
       "dict_keys(['val_loss', 'lr', 'loss', 'val_acc', 'acc'])"
      ]
     },
     "execution_count": 24,
     "metadata": {},
     "output_type": "execute_result"
    }
   ],
   "source": [
    "hist.keys()"
   ]
  },
  {
   "cell_type": "code",
   "execution_count": 31,
   "metadata": {},
   "outputs": [
    {
     "data": {
      "text/plain": [
       "[<matplotlib.lines.Line2D at 0x2b489f6244a8>]"
      ]
     },
     "execution_count": 31,
     "metadata": {},
     "output_type": "execute_result"
    },
    {
     "data": {
      "image/png": "[encoded data removed]",
      "text/plain": [
       "<matplotlib.figure.Figure at 0x2b489f66b278>"
      ]
     },
     "metadata": {},
     "output_type": "display_data"
    }
   ],
   "source": [
    "plt.figure(figsize=(15, 4))\n",
    "plt.plot(hist['val_acc'])"
   ]
  },
  {
   "cell_type": "code",
   "execution_count": 28,
   "metadata": {},
   "outputs": [
    {
     "data": {
      "text/plain": [
       "17"
      ]
     },
     "execution_count": 28,
     "metadata": {},
     "output_type": "execute_result"
    }
   ],
   "source": [
    "np.array(hist['val_loss']).argmin()"
   ]
  },
  {
   "cell_type": "markdown",
   "metadata": {},
   "source": [
    "## Model Evaluation"
   ]
  },
  {
   "cell_type": "code",
   "execution_count": 9,
   "metadata": {},
   "outputs": [],
   "source": [
    "import pandas as pd\n",
    "from itertools import cycle\n",
    "from sklearn.metrics import roc_curve, auc"
   ]
  },
  {
   "cell_type": "code",
   "execution_count": 17,
   "metadata": {},
   "outputs": [],
   "source": [
    "model.load_weights(model_path+'binary_inceptionv3_e2e0212.h5')"
   ]
  },
  {
   "cell_type": "code",
   "execution_count": 20,
   "metadata": {},
   "outputs": [],
   "source": [
    "y_pred = model.predict_generator(tst_gen)"
   ]
  },
  {
   "cell_type": "code",
   "execution_count": 13,
   "metadata": {},
   "outputs": [],
   "source": [
    "y_true = binary_label_tst"
   ]
  },
  {
   "cell_type": "code",
   "execution_count": 14,
   "metadata": {},
   "outputs": [],
   "source": [
    "legends = {0:'0_123', 1:'01_23', 2:'012_3'}"
   ]
  },
  {
   "cell_type": "code",
   "execution_count": 21,
   "metadata": {},
   "outputs": [],
   "source": [
    "n_classes = y_pred.shape[1]\n",
    "fpr = dict()\n",
    "tpr = dict()\n",
    "roc_auc = dict()\n",
    "for i in range(n_classes):\n",
    "    fpr[i], tpr[i], _ = roc_curve(y_true[:, i], y_pred[:, i])\n",
    "    roc_auc[i] = auc(fpr[i], tpr[i])"
   ]
  },
  {
   "cell_type": "code",
   "execution_count": 22,
   "metadata": {
    "scrolled": true
   },
   "outputs": [
    {
     "data": {
      "text/plain": [
       "<matplotlib.legend.Legend at 0x2b489c77c2e8>"
      ]
     },
     "execution_count": 22,
     "metadata": {},
     "output_type": "execute_result"
    },
    {
     "data": {
      "image/png": "[encoded data removed]",
      "text/plain": [
       "<matplotlib.figure.Figure at 0x2b489b28c6a0>"
      ]
     },
     "metadata": {},
     "output_type": "display_data"
    }
   ],
   "source": [
    "colors = cycle(['aqua', 'darkorange', 'cornflowerblue', 'navy'])\n",
    "for i, color in zip(range(n_classes), colors):\n",
    "    plt.plot(fpr[i], tpr[i], color=color,\n",
    "             label='ROC curve of {0} (area = {1:0.2f})'\n",
    "             ''.format(legends[i], roc_auc[i]))\n",
    "plt.plot([0, 1], [0, 1], 'k--')\n",
    "plt.xlim([0.0, 1.0])\n",
    "plt.ylim([0.0, 1.05])\n",
    "plt.xlabel('False Positive Rate')\n",
    "plt.ylabel('True Positive Rate')\n",
    "plt.title('ROC for each class')\n",
    "plt.legend(loc=\"lower right\")"
   ]
  },
  {
   "cell_type": "code",
   "execution_count": 32,
   "metadata": {},
   "outputs": [
    {
     "data": {
      "text/plain": [
       "array([[  5.45838499e-04,   2.40623151e-04,   1.54403606e-05],\n",
       "       [  1.02562755e-01,   1.84402511e-01,   2.50797690e-04],\n",
       "       [  3.93863231e-01,   3.79657358e-01,   8.73501040e-03],\n",
       "       ..., \n",
       "       [  7.39346027e-01,   1.43529279e-02,   1.39018302e-04],\n",
       "       [  1.79509446e-01,   1.52357653e-01,   1.77870551e-03],\n",
       "       [  4.79531974e-01,   2.76607066e-01,   9.36566200e-03]], dtype=float32)"
      ]
     },
     "execution_count": 32,
     "metadata": {},
     "output_type": "execute_result"
    }
   ],
   "source": [
    "y_pred"
   ]
  }
 ],
 "metadata": {
  "kernelspec": {
   "display_name": "Python 3",
   "language": "python",
   "name": "python3"
  },
  "language_info": {
   "codemirror_mode": {
    "name": "ipython",
    "version": 3
   },
   "file_extension": ".py",
   "mimetype": "text/x-python",
   "name": "python",
   "nbconvert_exporter": "python",
   "pygments_lexer": "ipython3",
   "version": "3.5.4"
  }
 },
 "nbformat": 4,
 "nbformat_minor": 2
}
