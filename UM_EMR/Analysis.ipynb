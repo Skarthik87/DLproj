{
 "cells": [
  {
   "cell_type": "markdown",
   "metadata": {},
   "source": [
    "## Data Preprocessing"
   ]
  },
  {
   "cell_type": "code",
   "execution_count": 1,
   "metadata": {},
   "outputs": [],
   "source": [
    "import numpy as np\n",
    "import pandas as pd\n",
    "import matplotlib.pyplot as plt\n",
    "%matplotlib inline\n",
    "from pathlib import Path"
   ]
  },
  {
   "cell_type": "code",
   "execution_count": 2,
   "metadata": {},
   "outputs": [],
   "source": [
    "path = Path('/nfs/turbo/umms-awaljee/wsliu/Data/UM_EMR/')\n",
    "model_path = path/'models/'\n",
    "model_path.mkdir(exist_ok=True)"
   ]
  },
  {
   "cell_type": "code",
   "execution_count": 18,
   "metadata": {},
   "outputs": [
    {
     "data": {
      "text/plain": [
       "[PosixPath('/nfs/turbo/umms-awaljee/wsliu/Data/UM_EMR/readmission_cohort_2014_2019.sas7bdat'),\n",
       " PosixPath('/nfs/turbo/umms-awaljee/wsliu/Data/UM_EMR/randomgroups10.sas7bdat'),\n",
       " PosixPath('/nfs/turbo/umms-awaljee/wsliu/Data/UM_EMR/esr_cohort_first_draft.sas7bdat'),\n",
       " PosixPath('/nfs/turbo/umms-awaljee/wsliu/Data/UM_EMR/randomgroups5.sas7bdat')]"
      ]
     },
     "execution_count": 18,
     "metadata": {},
     "output_type": "execute_result"
    }
   ],
   "source": [
    "[x for x in path.iterdir() if x.is_file()]"
   ]
  },
  {
   "cell_type": "code",
   "execution_count": 3,
   "metadata": {},
   "outputs": [],
   "source": [
    "data_df = pd.read_sas(path/'readmission_cohort_2014_2019.sas7bdat')"
   ]
  },
  {
   "cell_type": "code",
   "execution_count": 4,
   "metadata": {},
   "outputs": [
    {
     "data": {
      "text/plain": [
       "(12588, 290)"
      ]
     },
     "execution_count": 4,
     "metadata": {},
     "output_type": "execute_result"
    }
   ],
   "source": [
    "data_df.shape"
   ]
  },
  {
   "cell_type": "code",
   "execution_count": 5,
   "metadata": {},
   "outputs": [
    {
     "data": {
      "text/plain": [
       "1.0    12588\n",
       "Name: index_case, dtype: int64"
      ]
     },
     "execution_count": 5,
     "metadata": {},
     "output_type": "execute_result"
    }
   ],
   "source": [
    "data_df.index_case.value_counts()"
   ]
  },
  {
   "cell_type": "code",
   "execution_count": 4,
   "metadata": {},
   "outputs": [],
   "source": [
    "clean_df = data_df[['PatID', 'Weekend_Discharge', 'readmit_case', 'Age_at_AD_DX', 'Age_at_Admit', 'Length_of_Stay', \n",
    "                    'BMI', 'Gender', 'MaritalStatus', 'Race', 'Ethnicity', 'discharge_to_hh_w_services', 'discharge_to_home', \n",
    "                    'discharge_to_hospice', 'discharge_to_nursing_home', 'discharge_to_other', 'discharge_to_psych_hosp', \n",
    "                    'discharge_to_short_term_hosp', 'discharge_to_subacute_nurs_rehab', 'Outpatient', 'Scheduled', 'Urgent', \n",
    "                    'Emergent', 'index_px_ctsx', 'index_px_ent', 'index_px_mia', 'index_px_neuro', 'index_px_ortho', \n",
    "                    'index_px_pv', 'index_dx_dvt_pe', 'index_dx_gi_bleed', 'index_dx_hem', 'index_dx_mi', 'index_dx_pf', \n",
    "                    'index_dx_pna', 'index_dx_rf', 'index_dx_ssi', 'prev_12mo_ip_ct', 'prev_6mo_ip_ct', 'prev_3mo_ip_ct', \n",
    "                    'prev_1mo_ip_ct', 'prev_12mo_ed_urg_ct', 'prev_6mo_ed_urg_ct', 'prev_3mo_ed_urg_ct', 'prev_1mo_ed_urg_ct', \n",
    "                    'prev_12mo_visit_ct', 'prev_6mo_visit_ct', 'prev_3mo_visit_ct', 'prev_1mo_visit_ct', 'unique_medication_ct', \n",
    "                    'tobacco_user', 'alcohol_user', 'drug_user', 'Payor_Private', 'Payor_Medicaid', 'Payor_Medicare', \n",
    "                    'Payor_Governmental', 'Payor_Self', 'Payor_Workers_Comp', 'Payor_Other_Unknown', 'OperationDate_ct', \n",
    "                    'Has_OperationDate', 'SurgicalProcedure_ct', 'Has_SurgicalProcedureStartDate', 'admit_from_op_px_adp_clinic', \n",
    "                    'admit_from_ed', 'admit_from_home', 'admit_from_missing', 'admit_from_other', 'admit_from_snf', \n",
    "                    'prev_yr_hosp_charge_sum', 'prev_yr_nonhosp_charge_sum', 'invasive_bp', 'hcc_1', 'hcc_2', 'hcc_6', 'hcc_8', \n",
    "                    'hcc_9', 'hcc_10', 'hcc_11', 'hcc_12', 'hcc_17', 'hcc_18', 'hcc_19', 'hcc_20', 'hcc_21', 'hcc_22', 'hcc_23', \n",
    "                    'hcc_27', 'hcc_28', 'hcc_29', 'hcc_32', 'hcc_33', 'hcc_34', 'hcc_35', 'hcc_39', 'hcc_40', 'hcc_41', 'hcc_42',\n",
    "                    'hcc_45', 'hcc_46', 'hcc_47', 'hcc_48', 'hcc_54', 'hcc_55', 'hcc_56', 'hcc_57', 'hcc_58', 'hcc_59', 'hcc_60', \n",
    "                    'hcc_61', 'hcc_62', 'hcc_63', 'hcc_65', 'hcc_66', 'hcc_67', 'hcc_68', 'hcc_70', 'hcc_71', 'hcc_72', 'hcc_73', \n",
    "                    'hcc_74', 'hcc_75', 'hcc_76', 'hcc_77', 'hcc_78', 'hcc_79', 'hcc_80', 'hcc_81', 'hcc_82', 'hcc_83', 'hcc_84', \n",
    "                    'hcc_85', 'hcc_86', 'hcc_87', 'hcc_88', 'hcc_89', 'hcc_96', 'hcc_97', 'hcc_98', 'hcc_99', 'hcc_100', \n",
    "                    'hcc_103', 'hcc_104', 'hcc_106', 'hcc_107', 'hcc_108', 'hcc_110', 'hcc_111', 'hcc_112', 'hcc_113', 'hcc_114',\n",
    "                    'hcc_115', 'hcc_120', 'hcc_122', 'hcc_124', 'hcc_133', 'hcc_134', 'hcc_135', 'hcc_136', 'hcc_137', 'hcc_138', \n",
    "                    'hcc_139', 'hcc_140', 'hcc_141', 'hcc_145', 'hcc_146', 'hcc_147', 'hcc_148', 'hcc_156', 'hcc_157', 'hcc_158',\n",
    "                    'hcc_159', 'hcc_160', 'hcc_161', 'hcc_162', 'hcc_164', 'hcc_166', 'hcc_167', 'hcc_168', 'hcc_169', 'hcc_170', \n",
    "                    'hcc_173', 'hcc_176', 'hcc_186', 'hcc_187', 'hcc_188', 'hcc_189', 'hcc_206', 'hcc_226', 'hcc_243']]"
   ]
  },
  {
   "cell_type": "code",
   "execution_count": 7,
   "metadata": {},
   "outputs": [
    {
     "data": {
      "text/plain": [
       "(12588, 191)"
      ]
     },
     "execution_count": 7,
     "metadata": {},
     "output_type": "execute_result"
    }
   ],
   "source": [
    "clean_df.shape"
   ]
  },
  {
   "cell_type": "code",
   "execution_count": 5,
   "metadata": {},
   "outputs": [
    {
     "data": {
      "text/plain": [
       "b'Caucasian'                                     10492\n",
       "b'African American'                               1632\n",
       "b'Asian'                                           186\n",
       "b'Other'                                           167\n",
       "b'Unknown'                                          42\n",
       "b'American Indian or Alaska Native'                 36\n",
       "b'Patient Refused'                                  14\n",
       "b'Native Hawaiian and Other Pacific Islander'       10\n",
       "NaN                                                  9\n",
       "Name: Race, dtype: int64"
      ]
     },
     "execution_count": 5,
     "metadata": {},
     "output_type": "execute_result"
    }
   ],
   "source": [
    "clean_df.Race.value_counts(dropna=False)"
   ]
  },
  {
   "cell_type": "code",
   "execution_count": 6,
   "metadata": {},
   "outputs": [
    {
     "data": {
      "text/plain": [
       "NaN     6918\n",
       " 0.0    5670\n",
       "Name: admit_from_missing, dtype: int64"
      ]
     },
     "execution_count": 6,
     "metadata": {},
     "output_type": "execute_result"
    }
   ],
   "source": [
    "clean_df.admit_from_missing.value_counts(dropna=False)"
   ]
  },
  {
   "cell_type": "code",
   "execution_count": 7,
   "metadata": {},
   "outputs": [
    {
     "data": {
      "text/plain": [
       "NaN     6918\n",
       " 0.0    5518\n",
       " 1.0     152\n",
       "Name: admit_from_home, dtype: int64"
      ]
     },
     "execution_count": 7,
     "metadata": {},
     "output_type": "execute_result"
    }
   ],
   "source": [
    "clean_df.admit_from_home.value_counts(dropna=False)"
   ]
  },
  {
   "cell_type": "markdown",
   "metadata": {},
   "source": [
    "### Missing value imputation\n",
    "1. for continuous variables, fill missing with cohort mean.\n",
    "1. for categorical variables, fill missing with an extra level \"missing\". \n",
    "1. binary variables with no missing can be treated as continuous; binary variables with missing are treated as categorical. "
   ]
  },
  {
   "cell_type": "code",
   "execution_count": 8,
   "metadata": {},
   "outputs": [],
   "source": [
    "categorical = list(clean_df.dtypes.loc[clean_df.dtypes=='object'].index)\n",
    "binary_with_missing = ['discharge_to_hh_w_services', 'discharge_to_home', 'discharge_to_hospice', 'discharge_to_nursing_home', \n",
    "                       'discharge_to_other', 'discharge_to_psych_hosp', 'discharge_to_short_term_hosp', \n",
    "                       'discharge_to_subacute_nurs_rehab', 'admit_from_op_px_adp_clinic', 'admit_from_ed', 'admit_from_home', \n",
    "                       'admit_from_missing', 'admit_from_other', 'admit_from_snf']\n",
    "continous = [c for c in clean_df.columns if c not in categorical and c not in binary_with_missing]\n",
    "continous.remove('readmit_case')\n",
    "categorical.remove('PatID')"
   ]
  },
  {
   "cell_type": "code",
   "execution_count": 9,
   "metadata": {},
   "outputs": [
    {
     "data": {
      "text/plain": [
       "(4, 14, 171)"
      ]
     },
     "execution_count": 9,
     "metadata": {},
     "output_type": "execute_result"
    }
   ],
   "source": [
    "len(categorical), len(binary_with_missing), len(continous)"
   ]
  },
  {
   "cell_type": "code",
   "execution_count": 10,
   "metadata": {},
   "outputs": [],
   "source": [
    "cnt_df = clean_df[continous].fillna(clean_df[continous].mean())\n",
    "bnr_df = pd.get_dummies(clean_df[binary_with_missing].fillna('missing'))\n",
    "ctg_df = pd.get_dummies(clean_df[categorical].fillna('missing'))"
   ]
  },
  {
   "cell_type": "code",
   "execution_count": 11,
   "metadata": {},
   "outputs": [
    {
     "data": {
      "text/plain": [
       "((12588, 171), (12588, 41), (12588, 19))"
      ]
     },
     "execution_count": 11,
     "metadata": {},
     "output_type": "execute_result"
    }
   ],
   "source": [
    "cnt_df.shape, bnr_df.shape, ctg_df.shape"
   ]
  },
  {
   "cell_type": "code",
   "execution_count": 12,
   "metadata": {},
   "outputs": [],
   "source": [
    "all_df = pd.concat([clean_df[['PatID', 'readmit_case']], cnt_df, bnr_df, ctg_df], axis=1)"
   ]
  },
  {
   "cell_type": "code",
   "execution_count": 13,
   "metadata": {},
   "outputs": [
    {
     "data": {
      "text/plain": [
       "(12588, 233)"
      ]
     },
     "execution_count": 13,
     "metadata": {},
     "output_type": "execute_result"
    }
   ],
   "source": [
    "all_df.shape"
   ]
  },
  {
   "cell_type": "markdown",
   "metadata": {},
   "source": [
    "### Training/Testing Splitting"
   ]
  },
  {
   "cell_type": "code",
   "execution_count": 14,
   "metadata": {},
   "outputs": [],
   "source": [
    "group5 = pd.read_sas(path/'randomgroups5.sas7bdat')"
   ]
  },
  {
   "cell_type": "code",
   "execution_count": 14,
   "metadata": {},
   "outputs": [],
   "source": [
    "group10 = pd.read_sas(path/'randomgroups10.sas7bdat')"
   ]
  },
  {
   "cell_type": "code",
   "execution_count": 295,
   "metadata": {},
   "outputs": [],
   "source": [
    "tst_id = 7.\n",
    "val_id = 2."
   ]
  },
  {
   "cell_type": "code",
   "execution_count": 296,
   "metadata": {},
   "outputs": [],
   "source": [
    "#tst_set = set(group5.loc[group5.GroupID==tst_id, 'PatID'])\n",
    "#val_set = set(group5.loc[group5.GroupID==val_id, 'PatID'])\n",
    "\n",
    "tst_set = set(group10.loc[group10.GroupID==tst_id, 'PatID'])\n",
    "val_set = set(group10.loc[group10.GroupID==val_id, 'PatID'])\n",
    "\n",
    "tst_df = all_df.loc[all_df.PatID.isin(tst_set)]\n",
    "train_df = all_df.loc[~all_df.PatID.isin(tst_set)]\n",
    "val_df = all_df.loc[all_df.PatID.isin(val_set)]\n",
    "trn_df = train_df.loc[~train_df.PatID.isin(val_set)]\n",
    "\n",
    "X_trn = trn_df.drop(['PatID', 'readmit_case'], axis=1).values\n",
    "Y_trn = pd.get_dummies(trn_df['readmit_case']).values\n",
    "\n",
    "X_train = train_df.drop(['PatID', 'readmit_case'], axis=1).values\n",
    "Y_train = pd.get_dummies(train_df['readmit_case']).values\n",
    "\n",
    "X_val = val_df.drop(['PatID', 'readmit_case'], axis=1).values\n",
    "Y_val = pd.get_dummies(val_df['readmit_case']).values\n",
    "\n",
    "X_tst = tst_df.drop(['PatID', 'readmit_case'], axis=1).values\n",
    "Y_tst = pd.get_dummies(tst_df['readmit_case']).values"
   ]
  },
  {
   "cell_type": "code",
   "execution_count": 169,
   "metadata": {},
   "outputs": [
    {
     "data": {
      "text/plain": [
       "((1218, 233), (1256, 233), (10114, 233))"
      ]
     },
     "execution_count": 169,
     "metadata": {},
     "output_type": "execute_result"
    }
   ],
   "source": [
    "tst_df.shape, val_df.shape, trn_df.shape"
   ]
  },
  {
   "cell_type": "code",
   "execution_count": 165,
   "metadata": {},
   "outputs": [
    {
     "data": {
      "text/plain": [
       "((10050, 231), (1282, 231), (1256, 231))"
      ]
     },
     "execution_count": 165,
     "metadata": {},
     "output_type": "execute_result"
    }
   ],
   "source": [
    "X_trn.shape, X_val.shape, X_tst.shape"
   ]
  },
  {
   "cell_type": "markdown",
   "metadata": {},
   "source": [
    "## Modeling by Neural Networks (NN)"
   ]
  },
  {
   "cell_type": "code",
   "execution_count": 22,
   "metadata": {},
   "outputs": [
    {
     "name": "stderr",
     "output_type": "stream",
     "text": [
      "Using TensorFlow backend.\n"
     ]
    }
   ],
   "source": [
    "from keras.layers import Input, Reshape, Dense, Activation, Dropout\n",
    "from keras.models import Model\n",
    "from keras.callbacks import ModelCheckpoint, ReduceLROnPlateau, EarlyStopping\n",
    "from keras.optimizers import Adam\n",
    "import keras.backend as K\n",
    "import sys, os"
   ]
  },
  {
   "cell_type": "code",
   "execution_count": 32,
   "metadata": {},
   "outputs": [],
   "source": [
    "module_path = os.path.abspath(os.path.join('..'))\n",
    "if module_path not in sys.path:\n",
    "    sys.path.append(module_path)\n",
    "from keras_addon import AUCCheckPoint\n",
    "from DL_utils import plot_roc"
   ]
  },
  {
   "cell_type": "markdown",
   "metadata": {},
   "source": [
    "Model definition:"
   ]
  },
  {
   "cell_type": "code",
   "execution_count": 249,
   "metadata": {},
   "outputs": [],
   "source": [
    "input_X = Input(shape=(X_trn.shape[1],))\n",
    "x = Dense(2, activation='relu')(input_X)\n",
    "#x = Dense(8, activation='relu')(x)\n",
    "x = Dropout(0.5)(x)\n",
    "prediction = Dense(2, activation='softmax')(x)\n",
    "model = Model(inputs=input_X, outputs=prediction)"
   ]
  },
  {
   "cell_type": "code",
   "execution_count": 250,
   "metadata": {},
   "outputs": [],
   "source": [
    "adam = Adam(lr=0.001)\n",
    "model.compile(optimizer=adam, loss='categorical_crossentropy')"
   ]
  },
  {
   "cell_type": "code",
   "execution_count": 251,
   "metadata": {},
   "outputs": [],
   "source": [
    "checkpoint = AUCCheckPoint((model_path/'temp.h5').as_posix(), validation_x=X_val, validation_y=Y_val)\n",
    "reducelr = ReduceLROnPlateau(factor=0.2, patience=5, min_lr=K.epsilon())\n",
    "earlystop = EarlyStopping(patience=30)"
   ]
  },
  {
   "cell_type": "code",
   "execution_count": 252,
   "metadata": {},
   "outputs": [],
   "source": [
    "batch_size = 256"
   ]
  },
  {
   "cell_type": "code",
   "execution_count": 253,
   "metadata": {
    "scrolled": true
   },
   "outputs": [
    {
     "name": "stdout",
     "output_type": "stream",
     "text": [
      "Train on 10114 samples, validate on 1218 samples\n",
      "Epoch 1/100\n",
      "10114/10114 [==============================] - 1s 52us/step - loss: 2.3105 - val_loss: 1.4517\n",
      "AUC: 0.5505\n",
      "\n",
      "Epoch 2/100\n",
      "10114/10114 [==============================] - 0s 12us/step - loss: 1.7475 - val_loss: 1.0165\n",
      "AUC: 0.5347\n",
      "\n",
      "Epoch 3/100\n",
      "10114/10114 [==============================] - 0s 12us/step - loss: 1.0134 - val_loss: 0.9820\n",
      "AUC: 0.5238\n",
      "\n",
      "Epoch 4/100\n",
      "10114/10114 [==============================] - 0s 12us/step - loss: 0.9340 - val_loss: 0.9676\n",
      "AUC: 0.5233\n",
      "\n",
      "Epoch 5/100\n",
      "10114/10114 [==============================] - 0s 12us/step - loss: 0.8999 - val_loss: 0.9526\n",
      "AUC: 0.5219\n",
      "\n",
      "Epoch 6/100\n",
      "10114/10114 [==============================] - 0s 12us/step - loss: 0.8158 - val_loss: 0.9422\n",
      "AUC: 0.5217\n",
      "\n",
      "Epoch 7/100\n",
      "10114/10114 [==============================] - 0s 12us/step - loss: 0.8317 - val_loss: 0.9363\n",
      "AUC: 0.5248\n",
      "\n",
      "Epoch 8/100\n",
      "10114/10114 [==============================] - 0s 12us/step - loss: 0.8106 - val_loss: 0.9221\n",
      "AUC: 0.5166\n",
      "\n",
      "Epoch 9/100\n",
      "10114/10114 [==============================] - 0s 12us/step - loss: 0.7638 - val_loss: 0.9022\n",
      "AUC: 0.5168\n",
      "\n",
      "Epoch 10/100\n",
      "10114/10114 [==============================] - 0s 12us/step - loss: 0.8088 - val_loss: 0.8935\n",
      "AUC: 0.5173\n",
      "\n",
      "Epoch 11/100\n",
      "10114/10114 [==============================] - 0s 12us/step - loss: 0.7851 - val_loss: 0.8846\n",
      "AUC: 0.5192\n",
      "\n",
      "Epoch 12/100\n",
      "10114/10114 [==============================] - 0s 12us/step - loss: 0.7991 - val_loss: 0.8831\n",
      "AUC: 0.5123\n",
      "\n",
      "Epoch 13/100\n",
      "10114/10114 [==============================] - 0s 12us/step - loss: 0.7117 - val_loss: 0.8721\n",
      "AUC: 0.5206\n",
      "\n",
      "Epoch 14/100\n",
      "10114/10114 [==============================] - 0s 12us/step - loss: 0.7401 - val_loss: 0.8695\n",
      "AUC: 0.5161\n",
      "\n",
      "Epoch 15/100\n",
      "10114/10114 [==============================] - 0s 12us/step - loss: 0.7213 - val_loss: 0.8625\n",
      "AUC: 0.5207\n",
      "\n",
      "Epoch 16/100\n",
      "10114/10114 [==============================] - 0s 12us/step - loss: 0.7060 - val_loss: 0.8616\n",
      "AUC: 0.5138\n",
      "\n",
      "Epoch 17/100\n",
      "10114/10114 [==============================] - 0s 12us/step - loss: 0.7040 - val_loss: 0.8586\n",
      "AUC: 0.5114\n",
      "\n",
      "Epoch 18/100\n",
      "10114/10114 [==============================] - 0s 12us/step - loss: 0.7094 - val_loss: 0.8541\n",
      "AUC: 0.5139\n",
      "\n",
      "Epoch 19/100\n",
      "10114/10114 [==============================] - 0s 12us/step - loss: 0.6994 - val_loss: 0.8503\n",
      "AUC: 0.5181\n",
      "\n",
      "Epoch 20/100\n",
      "10114/10114 [==============================] - 0s 12us/step - loss: 0.6961 - val_loss: 0.8215\n",
      "AUC: 0.5145\n",
      "\n",
      "Epoch 21/100\n",
      "10114/10114 [==============================] - 0s 12us/step - loss: 0.6486 - val_loss: 0.8186\n",
      "AUC: 0.5151\n",
      "\n",
      "Epoch 22/100\n",
      "10114/10114 [==============================] - 0s 12us/step - loss: 0.6708 - val_loss: 0.8163\n",
      "AUC: 0.5112\n",
      "\n",
      "Epoch 23/100\n",
      "10114/10114 [==============================] - 0s 12us/step - loss: 0.6583 - val_loss: 0.8133\n",
      "AUC: 0.5097\n",
      "\n",
      "Epoch 24/100\n",
      "10114/10114 [==============================] - 0s 12us/step - loss: 0.6455 - val_loss: 0.8114\n",
      "AUC: 0.5058\n",
      "\n",
      "Epoch 25/100\n",
      "10114/10114 [==============================] - 0s 12us/step - loss: 0.6576 - val_loss: 0.8081\n",
      "AUC: 0.5106\n",
      "\n",
      "Epoch 26/100\n",
      "10114/10114 [==============================] - 0s 12us/step - loss: 0.6579 - val_loss: 0.8051\n",
      "AUC: 0.5211\n",
      "\n",
      "Epoch 27/100\n",
      "10114/10114 [==============================] - 0s 12us/step - loss: 0.6476 - val_loss: 0.8028\n",
      "AUC: 0.5193\n",
      "\n",
      "Epoch 28/100\n",
      "10114/10114 [==============================] - 0s 12us/step - loss: 0.6549 - val_loss: 0.7961\n",
      "AUC: 0.5202\n",
      "\n",
      "Epoch 29/100\n",
      "10114/10114 [==============================] - 0s 12us/step - loss: 0.6357 - val_loss: 0.7911\n",
      "AUC: 0.5103\n",
      "\n",
      "Epoch 30/100\n",
      "10114/10114 [==============================] - 0s 12us/step - loss: 0.6060 - val_loss: 0.7879\n",
      "AUC: 0.5094\n",
      "\n",
      "Epoch 31/100\n",
      "10114/10114 [==============================] - 0s 12us/step - loss: 0.6401 - val_loss: 0.7867\n",
      "AUC: 0.5096\n",
      "\n",
      "Epoch 32/100\n",
      "10114/10114 [==============================] - 0s 12us/step - loss: 0.6247 - val_loss: 0.7853\n",
      "AUC: 0.5075\n",
      "\n",
      "Epoch 33/100\n",
      "10114/10114 [==============================] - 0s 11us/step - loss: 0.6360 - val_loss: 0.7845\n",
      "AUC: 0.5075\n",
      "\n",
      "Epoch 34/100\n",
      "10114/10114 [==============================] - 0s 12us/step - loss: 0.6408 - val_loss: 0.7831\n",
      "AUC: 0.5070\n",
      "\n",
      "Epoch 35/100\n",
      "10114/10114 [==============================] - 0s 12us/step - loss: 0.6216 - val_loss: 0.7244\n",
      "AUC: 0.5113\n",
      "\n",
      "Epoch 36/100\n",
      "10114/10114 [==============================] - 0s 12us/step - loss: 0.6229 - val_loss: 0.7018\n",
      "AUC: 0.5133\n",
      "\n",
      "Epoch 37/100\n",
      "10114/10114 [==============================] - 0s 12us/step - loss: 0.6262 - val_loss: 0.6927\n",
      "AUC: 0.5115\n",
      "\n",
      "Epoch 38/100\n",
      "10114/10114 [==============================] - 0s 12us/step - loss: 0.6218 - val_loss: 0.6853\n",
      "AUC: 0.5109\n",
      "\n",
      "Epoch 39/100\n",
      "10114/10114 [==============================] - 0s 12us/step - loss: 0.6113 - val_loss: 0.6750\n",
      "AUC: 0.5111\n",
      "\n",
      "Epoch 40/100\n",
      "10114/10114 [==============================] - 0s 12us/step - loss: 0.6086 - val_loss: 0.6625\n",
      "AUC: 0.5117\n",
      "\n",
      "Epoch 41/100\n",
      "10114/10114 [==============================] - 0s 12us/step - loss: 0.6123 - val_loss: 0.6436\n",
      "AUC: 0.5132\n",
      "\n",
      "Epoch 42/100\n",
      "10114/10114 [==============================] - 0s 12us/step - loss: 0.6084 - val_loss: 0.6333\n",
      "AUC: 0.5159\n",
      "\n",
      "Epoch 43/100\n",
      "10114/10114 [==============================] - 0s 12us/step - loss: 0.6044 - val_loss: 0.6279\n",
      "AUC: 0.5235\n",
      "\n",
      "Epoch 44/100\n",
      "10114/10114 [==============================] - 0s 12us/step - loss: 0.6094 - val_loss: 0.6243\n",
      "AUC: 0.5272\n",
      "\n",
      "Epoch 45/100\n",
      "10114/10114 [==============================] - 0s 12us/step - loss: 0.5984 - val_loss: 0.6151\n",
      "AUC: 0.5253\n",
      "\n",
      "Epoch 46/100\n",
      "10114/10114 [==============================] - 0s 12us/step - loss: 0.6044 - val_loss: 0.6102\n",
      "AUC: 0.5209\n",
      "\n",
      "Epoch 47/100\n",
      "10114/10114 [==============================] - 0s 12us/step - loss: 0.5749 - val_loss: 0.6081\n",
      "AUC: 0.5197\n",
      "\n",
      "Epoch 48/100\n",
      "10114/10114 [==============================] - 0s 11us/step - loss: 0.5745 - val_loss: 0.5861\n",
      "AUC: 0.5175\n",
      "\n",
      "Epoch 49/100\n",
      "10114/10114 [==============================] - 0s 12us/step - loss: 0.5221 - val_loss: 0.4189\n",
      "AUC: 0.5000\n",
      "\n",
      "Epoch 50/100\n",
      "10114/10114 [==============================] - 0s 11us/step - loss: 0.4426 - val_loss: 0.4187\n",
      "AUC: 0.5000\n",
      "\n",
      "Epoch 51/100\n",
      "10114/10114 [==============================] - 0s 11us/step - loss: 0.4426 - val_loss: 0.4186\n",
      "AUC: 0.5000\n",
      "\n",
      "Epoch 52/100\n",
      "10114/10114 [==============================] - 0s 12us/step - loss: 0.4426 - val_loss: 0.4186\n",
      "AUC: 0.5000\n",
      "\n",
      "Epoch 53/100\n",
      "10114/10114 [==============================] - 0s 14us/step - loss: 0.4426 - val_loss: 0.4185\n",
      "AUC: 0.5000\n",
      "\n",
      "Epoch 54/100\n",
      "10114/10114 [==============================] - 0s 11us/step - loss: 0.4426 - val_loss: 0.4185\n",
      "AUC: 0.5000\n",
      "\n",
      "Epoch 55/100\n",
      "10114/10114 [==============================] - 0s 11us/step - loss: 0.4426 - val_loss: 0.4184\n",
      "AUC: 0.5000\n",
      "\n",
      "Epoch 56/100\n",
      "10114/10114 [==============================] - 0s 11us/step - loss: 0.4426 - val_loss: 0.4184\n",
      "AUC: 0.5000\n",
      "\n",
      "Epoch 57/100\n",
      "10114/10114 [==============================] - 0s 12us/step - loss: 0.4426 - val_loss: 0.4184\n",
      "AUC: 0.5000\n",
      "\n",
      "Epoch 58/100\n",
      "10114/10114 [==============================] - 0s 11us/step - loss: 0.4426 - val_loss: 0.4184\n",
      "AUC: 0.5000\n",
      "\n",
      "Epoch 59/100\n",
      "10114/10114 [==============================] - 0s 11us/step - loss: 0.4426 - val_loss: 0.4183\n",
      "AUC: 0.5000\n",
      "\n",
      "Epoch 60/100\n",
      "10114/10114 [==============================] - 0s 12us/step - loss: 0.4426 - val_loss: 0.4183\n",
      "AUC: 0.5000\n",
      "\n",
      "Epoch 61/100\n",
      "10114/10114 [==============================] - 0s 11us/step - loss: 0.4426 - val_loss: 0.4183\n",
      "AUC: 0.5000\n",
      "\n",
      "Epoch 62/100\n",
      "10114/10114 [==============================] - 0s 11us/step - loss: 0.4426 - val_loss: 0.4183\n",
      "AUC: 0.5000\n",
      "\n",
      "Epoch 63/100\n",
      "10114/10114 [==============================] - 0s 11us/step - loss: 0.4426 - val_loss: 0.4183\n",
      "AUC: 0.5000\n",
      "\n",
      "Epoch 64/100\n",
      "10114/10114 [==============================] - 0s 13us/step - loss: 0.4426 - val_loss: 0.4183\n",
      "AUC: 0.5000\n",
      "\n",
      "Epoch 65/100\n",
      "10114/10114 [==============================] - 0s 12us/step - loss: 0.4426 - val_loss: 0.4183\n",
      "AUC: 0.5000\n",
      "\n",
      "Epoch 66/100\n",
      "10114/10114 [==============================] - 0s 11us/step - loss: 0.4426 - val_loss: 0.4182\n",
      "AUC: 0.5000\n",
      "\n",
      "Epoch 67/100\n",
      "10114/10114 [==============================] - 0s 11us/step - loss: 0.4426 - val_loss: 0.4183\n",
      "AUC: 0.5000\n",
      "\n",
      "Epoch 68/100\n",
      "10114/10114 [==============================] - 0s 11us/step - loss: 0.4426 - val_loss: 0.4182\n",
      "AUC: 0.5000\n",
      "\n",
      "Epoch 69/100\n"
     ]
    },
    {
     "name": "stdout",
     "output_type": "stream",
     "text": [
      "10114/10114 [==============================] - 0s 11us/step - loss: 0.4426 - val_loss: 0.4182\n",
      "AUC: 0.5000\n",
      "\n",
      "Epoch 70/100\n",
      "10114/10114 [==============================] - 0s 11us/step - loss: 0.4426 - val_loss: 0.4182\n",
      "AUC: 0.5000\n",
      "\n",
      "Epoch 71/100\n",
      "10114/10114 [==============================] - 0s 11us/step - loss: 0.4426 - val_loss: 0.4182\n",
      "AUC: 0.5000\n",
      "\n",
      "Epoch 72/100\n",
      "10114/10114 [==============================] - 0s 11us/step - loss: 0.4426 - val_loss: 0.4182\n",
      "AUC: 0.5000\n",
      "\n",
      "Epoch 73/100\n",
      "10114/10114 [==============================] - 0s 11us/step - loss: 0.4426 - val_loss: 0.4182\n",
      "AUC: 0.5000\n",
      "\n",
      "Epoch 74/100\n",
      "10114/10114 [==============================] - 0s 11us/step - loss: 0.4426 - val_loss: 0.4182\n",
      "AUC: 0.5000\n",
      "\n",
      "Epoch 75/100\n",
      "10114/10114 [==============================] - 0s 11us/step - loss: 0.4426 - val_loss: 0.4182\n",
      "AUC: 0.5000\n",
      "\n",
      "Epoch 76/100\n",
      "10114/10114 [==============================] - 0s 11us/step - loss: 0.4426 - val_loss: 0.4182\n",
      "AUC: 0.5000\n",
      "\n",
      "Epoch 77/100\n",
      "10114/10114 [==============================] - 0s 11us/step - loss: 0.4426 - val_loss: 0.4182\n",
      "AUC: 0.5000\n",
      "\n",
      "Epoch 78/100\n",
      "10114/10114 [==============================] - 0s 11us/step - loss: 0.4426 - val_loss: 0.4182\n",
      "AUC: 0.5000\n",
      "\n",
      "Epoch 79/100\n",
      "10114/10114 [==============================] - 0s 11us/step - loss: 0.4426 - val_loss: 0.4182\n",
      "AUC: 0.5000\n",
      "\n",
      "Epoch 80/100\n",
      "10114/10114 [==============================] - 0s 11us/step - loss: 0.4426 - val_loss: 0.4182\n",
      "AUC: 0.5000\n",
      "\n",
      "Epoch 81/100\n",
      "10114/10114 [==============================] - 0s 10us/step - loss: 0.4426 - val_loss: 0.4182\n",
      "AUC: 0.5000\n",
      "\n",
      "Epoch 82/100\n",
      "10114/10114 [==============================] - 0s 10us/step - loss: 0.4426 - val_loss: 0.4182\n",
      "AUC: 0.5000\n",
      "\n",
      "Epoch 83/100\n",
      "10114/10114 [==============================] - 0s 10us/step - loss: 0.4426 - val_loss: 0.4182\n",
      "AUC: 0.5000\n",
      "\n",
      "Epoch 84/100\n",
      "10114/10114 [==============================] - 0s 10us/step - loss: 0.4426 - val_loss: 0.4182\n",
      "AUC: 0.5000\n",
      "\n",
      "Epoch 85/100\n",
      "10114/10114 [==============================] - 0s 10us/step - loss: 0.4426 - val_loss: 0.4182\n",
      "AUC: 0.5000\n",
      "\n",
      "Epoch 86/100\n",
      "10114/10114 [==============================] - 0s 10us/step - loss: 0.4426 - val_loss: 0.4182\n",
      "AUC: 0.5000\n",
      "\n",
      "Epoch 87/100\n",
      "10114/10114 [==============================] - 0s 10us/step - loss: 0.4426 - val_loss: 0.4182\n",
      "AUC: 0.5000\n",
      "\n",
      "Epoch 88/100\n",
      "10114/10114 [==============================] - 0s 12us/step - loss: 0.4426 - val_loss: 0.4182\n",
      "AUC: 0.5000\n",
      "\n",
      "Epoch 89/100\n",
      "10114/10114 [==============================] - 0s 11us/step - loss: 0.4426 - val_loss: 0.4182\n",
      "AUC: 0.5000\n",
      "\n",
      "Epoch 90/100\n",
      "10114/10114 [==============================] - 0s 10us/step - loss: 0.4426 - val_loss: 0.4182\n",
      "AUC: 0.5000\n",
      "\n",
      "Epoch 91/100\n",
      "10114/10114 [==============================] - 0s 10us/step - loss: 0.4426 - val_loss: 0.4182\n",
      "AUC: 0.5000\n",
      "\n",
      "Epoch 92/100\n",
      "10114/10114 [==============================] - 0s 11us/step - loss: 0.4426 - val_loss: 0.4182\n",
      "AUC: 0.5000\n",
      "\n",
      "Epoch 93/100\n",
      "10114/10114 [==============================] - 0s 10us/step - loss: 0.4426 - val_loss: 0.4182\n",
      "AUC: 0.5000\n",
      "\n",
      "Epoch 94/100\n",
      "10114/10114 [==============================] - 0s 10us/step - loss: 0.4426 - val_loss: 0.4182\n",
      "AUC: 0.5000\n",
      "\n",
      "Epoch 95/100\n",
      "10114/10114 [==============================] - 0s 10us/step - loss: 0.4426 - val_loss: 0.4182\n",
      "AUC: 0.5000\n",
      "\n",
      "Epoch 96/100\n",
      "10114/10114 [==============================] - 0s 11us/step - loss: 0.4426 - val_loss: 0.4182\n",
      "AUC: 0.5000\n",
      "\n",
      "Epoch 97/100\n",
      "10114/10114 [==============================] - 0s 10us/step - loss: 0.4426 - val_loss: 0.4182\n",
      "AUC: 0.5000\n",
      "\n",
      "Epoch 98/100\n",
      "10114/10114 [==============================] - 0s 10us/step - loss: 0.4426 - val_loss: 0.4182\n",
      "AUC: 0.5000\n",
      "\n",
      "Epoch 99/100\n",
      "10114/10114 [==============================] - 0s 10us/step - loss: 0.4426 - val_loss: 0.4182\n",
      "AUC: 0.5000\n",
      "\n"
     ]
    }
   ],
   "source": [
    "history = model.fit(x=X_trn, y=Y_trn, batch_size=batch_size, epochs=100, verbose=1, callbacks=[checkpoint, reducelr, earlystop], \n",
    "                    validation_data=[X_val, Y_val])"
   ]
  },
  {
   "cell_type": "code",
   "execution_count": 254,
   "metadata": {},
   "outputs": [
    {
     "data": {
      "text/plain": [
       "[<matplotlib.lines.Line2D at 0x2b7e5f828080>]"
      ]
     },
     "execution_count": 254,
     "metadata": {},
     "output_type": "execute_result"
    },
    {
     "data": {
      "image/png": "[encoded data removed]",
      "text/plain": [
       "<Figure size 432x288 with 1 Axes>"
      ]
     },
     "metadata": {},
     "output_type": "display_data"
    }
   ],
   "source": [
    "plt.plot(history.history['val_loss'])"
   ]
  },
  {
   "cell_type": "code",
   "execution_count": 255,
   "metadata": {},
   "outputs": [
    {
     "data": {
      "text/plain": [
       "[<matplotlib.lines.Line2D at 0x2b7e5f8af588>]"
      ]
     },
     "execution_count": 255,
     "metadata": {},
     "output_type": "execute_result"
    },
    {
     "data": {
      "image/png": "[encoded data removed]",
      "text/plain": [
       "<Figure size 432x288 with 1 Axes>"
      ]
     },
     "metadata": {},
     "output_type": "display_data"
    }
   ],
   "source": [
    "plt.plot(history.history['lr'])"
   ]
  },
  {
   "cell_type": "code",
   "execution_count": 256,
   "metadata": {},
   "outputs": [],
   "source": [
    "model.load_weights((model_path/'temp.h5').as_posix())"
   ]
  },
  {
   "cell_type": "code",
   "execution_count": 257,
   "metadata": {},
   "outputs": [],
   "source": [
    "Y_pred = model.predict(X_tst)"
   ]
  },
  {
   "cell_type": "code",
   "execution_count": 258,
   "metadata": {},
   "outputs": [
    {
     "data": {
      "text/plain": [
       "{0: 0.5571829888451443}"
      ]
     },
     "execution_count": 258,
     "metadata": {},
     "output_type": "execute_result"
    },
    {
     "data": {
      "image/png": "[encoded data removed]",
      "text/plain": [
       "<Figure size 432x288 with 1 Axes>"
      ]
     },
     "metadata": {},
     "output_type": "display_data"
    }
   ],
   "source": [
    "plot_roc(Y_pred[:, 1], Y_tst[:, 1])"
   ]
  },
  {
   "cell_type": "markdown",
   "metadata": {},
   "source": [
    "## Modeling by XGBoost"
   ]
  },
  {
   "cell_type": "code",
   "execution_count": 40,
   "metadata": {},
   "outputs": [],
   "source": [
    "from xgboost import XGBClassifier\n",
    "import time"
   ]
  },
  {
   "cell_type": "code",
   "execution_count": 297,
   "metadata": {},
   "outputs": [],
   "source": [
    "model_xgb = XGBClassifier(max_depth=2, n_estimators=100)"
   ]
  },
  {
   "cell_type": "code",
   "execution_count": 298,
   "metadata": {},
   "outputs": [
    {
     "name": "stdout",
     "output_type": "stream",
     "text": [
      "It takes 4.388597011566162 sec to train.\n"
     ]
    }
   ],
   "source": [
    "start = time.time()\n",
    "xgb = model_xgb.fit(X_train, Y_train[:, 1])\n",
    "print('It takes {} sec to train.'.format(time.time()-start))"
   ]
  },
  {
   "cell_type": "code",
   "execution_count": 299,
   "metadata": {},
   "outputs": [],
   "source": [
    "y_pred = xgb.predict_proba(X_tst)"
   ]
  },
  {
   "cell_type": "code",
   "execution_count": 300,
   "metadata": {},
   "outputs": [
    {
     "data": {
      "text/plain": [
       "{0: 0.7029568569553806}"
      ]
     },
     "execution_count": 300,
     "metadata": {},
     "output_type": "execute_result"
    },
    {
     "data": {
      "image/png": "[encoded data removed]",
      "text/plain": [
       "<Figure size 432x288 with 1 Axes>"
      ]
     },
     "metadata": {},
     "output_type": "display_data"
    }
   ],
   "source": [
    "plot_roc(y_pred[:, 1], Y_tst[:, 1])"
   ]
  },
  {
   "cell_type": "code",
   "execution_count": 287,
   "metadata": {},
   "outputs": [
    {
     "data": {
      "image/png": "[encoded data removed]",
      "text/plain": [
       "<Figure size 432x288 with 1 Axes>"
      ]
     },
     "metadata": {},
     "output_type": "display_data"
    }
   ],
   "source": [
    "auc_lst = []\n",
    "for tst_id in range(1, 11):\n",
    "    tst_set = set(group10.loc[group10.GroupID==tst_id, 'PatID'])\n",
    "    tst_df = all_df.loc[all_df.PatID.isin(tst_set)]\n",
    "    train_df = all_df.loc[~all_df.PatID.isin(tst_set)]\n",
    "    X_train = train_df.drop(['PatID', 'readmit_case'], axis=1).values\n",
    "    Y_train = pd.get_dummies(train_df['readmit_case']).values\n",
    "    X_tst = tst_df.drop(['PatID', 'readmit_case'], axis=1).values\n",
    "    Y_tst = pd.get_dummies(tst_df['readmit_case']).values\n",
    "    model_xgb = XGBClassifier(max_depth=2, n_estimators=100)\n",
    "    xgb = model_xgb.fit(X_train, Y_train[:, 1])\n",
    "    y_pred = xgb.predict_proba(X_tst)\n",
    "    auc = plot_roc(y_pred[:, 1], Y_tst[:, 1])\n",
    "    auc_lst.append(auc[0])"
   ]
  },
  {
   "cell_type": "code",
   "execution_count": 288,
   "metadata": {},
   "outputs": [
    {
     "data": {
      "text/plain": [
       "(0.6507918158496263, 0.008605263490946417)"
      ]
     },
     "execution_count": 288,
     "metadata": {},
     "output_type": "execute_result"
    }
   ],
   "source": [
    "np.mean(auc_lst), np.std(auc_lst)/np.sqrt(10)"
   ]
  },
  {
   "cell_type": "code",
   "execution_count": 301,
   "metadata": {},
   "outputs": [],
   "source": [
    "feature_imp = pd.Series(model_xgb.feature_importances_, index=trn_df.drop(['PatID', 'readmit_case'], axis=1).columns)"
   ]
  },
  {
   "cell_type": "code",
   "execution_count": 302,
   "metadata": {},
   "outputs": [
    {
     "data": {
      "text/plain": [
       "prev_12mo_ip_ct                         0.067245\n",
       "prev_12mo_ed_urg_ct                     0.059116\n",
       "prev_6mo_ed_urg_ct                      0.046957\n",
       "prev_6mo_visit_ct                       0.039741\n",
       "hcc_135                                 0.039737\n",
       "discharge_to_hospice_0.0                0.031317\n",
       "prev_1mo_visit_ct                       0.024772\n",
       "hcc_59                                  0.024301\n",
       "discharge_to_psych_hosp_1.0             0.024285\n",
       "discharge_to_hospice_1.0                0.023712\n",
       "admit_from_ed_1.0                       0.022915\n",
       "hcc_27                                  0.020930\n",
       "hcc_28                                  0.020927\n",
       "Length_of_Stay                          0.019440\n",
       "hcc_139                                 0.018489\n",
       "unique_medication_ct                    0.018477\n",
       "discharge_to_subacute_nurs_rehab_1.0    0.018236\n",
       "Age_at_AD_DX                            0.018203\n",
       "hcc_136                                 0.018173\n",
       "prev_6mo_ip_ct                          0.017321\n",
       "dtype: float32"
      ]
     },
     "execution_count": 302,
     "metadata": {},
     "output_type": "execute_result"
    }
   ],
   "source": [
    "feature_imp.sort_values(ascending=False).head(20)"
   ]
  },
  {
   "cell_type": "code",
   "execution_count": 303,
   "metadata": {},
   "outputs": [
    {
     "data": {
      "text/plain": [
       "<matplotlib.axes._subplots.AxesSubplot at 0x2b7e6018c358>"
      ]
     },
     "execution_count": 303,
     "metadata": {},
     "output_type": "execute_result"
    },
    {
     "data": {
      "image/png": "[encoded data removed]",
      "text/plain": [
       "<Figure size 432x288 with 1 Axes>"
      ]
     },
     "metadata": {},
     "output_type": "display_data"
    }
   ],
   "source": [
    "feature_imp.sort_values(ascending=False).head(20).plot.bar()"
   ]
  },
  {
   "cell_type": "code",
   "execution_count": 68,
   "metadata": {},
   "outputs": [
    {
     "data": {
      "text/plain": [
       "126"
      ]
     },
     "execution_count": 68,
     "metadata": {},
     "output_type": "execute_result"
    }
   ],
   "source": [
    "sum(feature_imp<0.00001)"
   ]
  },
  {
   "cell_type": "code",
   "execution_count": 56,
   "metadata": {},
   "outputs": [
    {
     "data": {
      "text/plain": [
       "(10017, 231)"
      ]
     },
     "execution_count": 56,
     "metadata": {},
     "output_type": "execute_result"
    }
   ],
   "source": [
    "trn_df.drop(['PatID', 'readmit_case'], axis=1).shape"
   ]
  },
  {
   "cell_type": "code",
   "execution_count": 52,
   "metadata": {},
   "outputs": [],
   "source": [
    "features = all_df.columns"
   ]
  },
  {
   "cell_type": "code",
   "execution_count": 57,
   "metadata": {},
   "outputs": [
    {
     "data": {
      "text/plain": [
       "(231,)"
      ]
     },
     "execution_count": 57,
     "metadata": {},
     "output_type": "execute_result"
    }
   ],
   "source": [
    "feature_imp.shape"
   ]
  }
 ],
 "metadata": {
  "kernelspec": {
   "display_name": "Python 3",
   "language": "python",
   "name": "python3"
  },
  "language_info": {
   "codemirror_mode": {
    "name": "ipython",
    "version": 3
   },
   "file_extension": ".py",
   "mimetype": "text/x-python",
   "name": "python",
   "nbconvert_exporter": "python",
   "pygments_lexer": "ipython3",
   "version": "3.5.4"
  }
 },
 "nbformat": 4,
 "nbformat_minor": 2
}
