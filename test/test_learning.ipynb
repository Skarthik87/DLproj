{
 "cells": [
  {
   "cell_type": "code",
   "execution_count": 3,
   "metadata": {},
   "outputs": [],
   "source": [
    "import numpy as np\n",
    "import pandas as pd"
   ]
  },
  {
   "cell_type": "code",
   "execution_count": 36,
   "metadata": {
    "scrolled": true
   },
   "outputs": [],
   "source": [
    "import keras.backend as K\n",
    "from keras.layers import Embedding, Input, Dense\n",
    "from keras.models import Model"
   ]
  },
  {
   "cell_type": "code",
   "execution_count": 4,
   "metadata": {},
   "outputs": [],
   "source": [
    "x = np.random.randn(3, 4, 5)"
   ]
  },
  {
   "cell_type": "code",
   "execution_count": 6,
   "metadata": {},
   "outputs": [],
   "source": [
    "var = K.variable(x)"
   ]
  },
  {
   "cell_type": "code",
   "execution_count": 28,
   "metadata": {},
   "outputs": [],
   "source": [
    "ph = K.placeholder(x.shape, dtype=K.floatx())"
   ]
  },
  {
   "cell_type": "code",
   "execution_count": 26,
   "metadata": {
    "collapsed": true
   },
   "outputs": [
    {
     "data": {
      "text/plain": [
       "array([[[-0.02284439,  0.4838886 ,  0.26542306,  0.36580336,\n",
       "          0.28012747],\n",
       "        [-1.        , -0.5426219 ,  1.        ,  0.19673014,\n",
       "          1.        ],\n",
       "        [-1.        , -0.22352152, -0.39949334, -0.46143553,\n",
       "         -0.37169105],\n",
       "        [ 1.        ,  0.5180339 ,  0.489838  , -1.        ,\n",
       "          0.53039026]],\n",
       "\n",
       "       [[-0.12953585,  0.69376326, -0.2595462 , -0.57852185,\n",
       "          1.        ],\n",
       "        [ 1.        , -0.08259084,  0.5607856 , -0.0302591 ,\n",
       "          0.6788567 ],\n",
       "        [ 1.        ,  1.        ,  0.17079732, -0.4052453 ,\n",
       "          0.2665788 ],\n",
       "        [ 0.07751191, -1.        , -1.        , -0.37179363,\n",
       "         -1.        ]],\n",
       "\n",
       "       [[ 1.        , -0.6063099 ,  0.7407354 ,  0.40236753,\n",
       "         -0.16194609],\n",
       "        [ 1.        ,  0.81574905,  1.        ,  1.        ,\n",
       "          1.        ],\n",
       "        [-0.49584875, -0.4641553 , -1.        , -1.        ,\n",
       "          0.33147326],\n",
       "        [ 0.57106376, -0.12132348,  1.        ,  0.35760227,\n",
       "          0.00313886]]], dtype=float32)"
      ]
     },
     "execution_count": 26,
     "metadata": {},
     "output_type": "execute_result"
    }
   ],
   "source": [
    "K.eval(K.clip(var, -1, 1))"
   ]
  },
  {
   "cell_type": "code",
   "execution_count": 31,
   "metadata": {},
   "outputs": [],
   "source": [
    "embd = Embedding(input_dim=100, output_dim=5, input_length=10)"
   ]
  },
  {
   "cell_type": "code",
   "execution_count": 44,
   "metadata": {},
   "outputs": [],
   "source": [
    "input_DX= Input(shape = (10,))\n",
    "DX_embed = Embedding(input_dim=50, output_dim=3, input_length=10)(input_DX)\n",
    "x = Dense(16)(DX_embed)\n",
    "prediction = Dense(2, activation='softmax')(x)\n",
    "model = Model(inputs=input_DX, outputs=prediction)"
   ]
  },
  {
   "cell_type": "code",
   "execution_count": 45,
   "metadata": {},
   "outputs": [],
   "source": [
    "layers = model.layers"
   ]
  },
  {
   "cell_type": "code",
   "execution_count": 46,
   "metadata": {},
   "outputs": [],
   "source": [
    "embed_layer = layers[1]"
   ]
  },
  {
   "cell_type": "code",
   "execution_count": 49,
   "metadata": {},
   "outputs": [
    {
     "data": {
      "text/plain": [
       "(50, 3)"
      ]
     },
     "execution_count": 49,
     "metadata": {},
     "output_type": "execute_result"
    }
   ],
   "source": [
    "embed_layer.get_weights()[0].shape"
   ]
  }
 ],
 "metadata": {
  "kernelspec": {
   "display_name": "Python 3",
   "language": "python",
   "name": "python3"
  },
  "language_info": {
   "codemirror_mode": {
    "name": "ipython",
    "version": 3
   },
   "file_extension": ".py",
   "mimetype": "text/x-python",
   "name": "python",
   "nbconvert_exporter": "python",
   "pygments_lexer": "ipython3",
   "version": "3.5.4"
  }
 },
 "nbformat": 4,
 "nbformat_minor": 2
}
