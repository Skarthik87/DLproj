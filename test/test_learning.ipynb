{
 "cells": [
  {
   "cell_type": "code",
   "execution_count": 1,
   "metadata": {},
   "outputs": [],
   "source": [
    "import numpy as np\n",
    "import pandas as pd"
   ]
  },
  {
   "cell_type": "code",
   "execution_count": 2,
   "metadata": {
    "scrolled": true
   },
   "outputs": [
    {
     "name": "stderr",
     "output_type": "stream",
     "text": [
      "Using TensorFlow backend.\n"
     ]
    }
   ],
   "source": [
    "import keras.backend as K\n",
    "from keras.layers import Embedding, Input, Dense\n",
    "from keras.models import Model"
   ]
  },
  {
   "cell_type": "code",
   "execution_count": 4,
   "metadata": {},
   "outputs": [],
   "source": [
    "x = np.random.randn(3, 4, 5)"
   ]
  },
  {
   "cell_type": "code",
   "execution_count": 6,
   "metadata": {},
   "outputs": [],
   "source": [
    "var = K.variable(x)"
   ]
  },
  {
   "cell_type": "code",
   "execution_count": 28,
   "metadata": {},
   "outputs": [],
   "source": [
    "ph = K.placeholder(x.shape, dtype=K.floatx())"
   ]
  },
  {
   "cell_type": "code",
   "execution_count": 26,
   "metadata": {
    "collapsed": true
   },
   "outputs": [
    {
     "data": {
      "text/plain": [
       "array([[[-0.02284439,  0.4838886 ,  0.26542306,  0.36580336,\n",
       "          0.28012747],\n",
       "        [-1.        , -0.5426219 ,  1.        ,  0.19673014,\n",
       "          1.        ],\n",
       "        [-1.        , -0.22352152, -0.39949334, -0.46143553,\n",
       "         -0.37169105],\n",
       "        [ 1.        ,  0.5180339 ,  0.489838  , -1.        ,\n",
       "          0.53039026]],\n",
       "\n",
       "       [[-0.12953585,  0.69376326, -0.2595462 , -0.57852185,\n",
       "          1.        ],\n",
       "        [ 1.        , -0.08259084,  0.5607856 , -0.0302591 ,\n",
       "          0.6788567 ],\n",
       "        [ 1.        ,  1.        ,  0.17079732, -0.4052453 ,\n",
       "          0.2665788 ],\n",
       "        [ 0.07751191, -1.        , -1.        , -0.37179363,\n",
       "         -1.        ]],\n",
       "\n",
       "       [[ 1.        , -0.6063099 ,  0.7407354 ,  0.40236753,\n",
       "         -0.16194609],\n",
       "        [ 1.        ,  0.81574905,  1.        ,  1.        ,\n",
       "          1.        ],\n",
       "        [-0.49584875, -0.4641553 , -1.        , -1.        ,\n",
       "          0.33147326],\n",
       "        [ 0.57106376, -0.12132348,  1.        ,  0.35760227,\n",
       "          0.00313886]]], dtype=float32)"
      ]
     },
     "execution_count": 26,
     "metadata": {},
     "output_type": "execute_result"
    }
   ],
   "source": [
    "K.eval(K.clip(var, -1, 1))"
   ]
  },
  {
   "cell_type": "code",
   "execution_count": 31,
   "metadata": {},
   "outputs": [],
   "source": [
    "embd = Embedding(input_dim=100, output_dim=5, input_length=10)"
   ]
  },
  {
   "cell_type": "code",
   "execution_count": 44,
   "metadata": {},
   "outputs": [],
   "source": [
    "input_DX= Input(shape = (10,))\n",
    "DX_embed = Embedding(input_dim=50, output_dim=3, input_length=10)(input_DX)\n",
    "x = Dense(16)(DX_embed)\n",
    "prediction = Dense(2, activation='softmax')(x)\n",
    "model = Model(inputs=input_DX, outputs=prediction)"
   ]
  },
  {
   "cell_type": "code",
   "execution_count": 45,
   "metadata": {},
   "outputs": [],
   "source": [
    "layers = model.layers"
   ]
  },
  {
   "cell_type": "code",
   "execution_count": 46,
   "metadata": {},
   "outputs": [],
   "source": [
    "embed_layer = layers[1]"
   ]
  },
  {
   "cell_type": "code",
   "execution_count": 49,
   "metadata": {
    "scrolled": true
   },
   "outputs": [
    {
     "data": {
      "text/plain": [
       "(50, 3)"
      ]
     },
     "execution_count": 49,
     "metadata": {},
     "output_type": "execute_result"
    }
   ],
   "source": [
    "embed_layer.get_weights()[0].shape"
   ]
  },
  {
   "cell_type": "code",
   "execution_count": 73,
   "metadata": {},
   "outputs": [],
   "source": [
    "lamb = K.variable(0.1)"
   ]
  },
  {
   "cell_type": "code",
   "execution_count": 62,
   "metadata": {},
   "outputs": [],
   "source": [
    "from keras.regularizers import l2"
   ]
  },
  {
   "cell_type": "code",
   "execution_count": 75,
   "metadata": {},
   "outputs": [],
   "source": [
    "inputs = Input(shape=(10, ))\n",
    "\n",
    "x = Dense(1, activation='linear', kernel_regularizer=l2(0.1))(inputs)\n",
    "\n",
    "model = Model(inputs=inputs, outputs=x)"
   ]
  },
  {
   "cell_type": "code",
   "execution_count": 27,
   "metadata": {},
   "outputs": [
    {
     "data": {
      "text/plain": [
       "[<keras.engine.input_layer.InputLayer at 0x2b980e5a8898>,\n",
       " <keras.layers.core.Dense at 0x2b980e5a8908>]"
      ]
     },
     "execution_count": 27,
     "metadata": {},
     "output_type": "execute_result"
    }
   ],
   "source": [
    "model.layers"
   ]
  },
  {
   "cell_type": "code",
   "execution_count": 48,
   "metadata": {},
   "outputs": [],
   "source": [
    "X = np.random.randn(1000, 10)"
   ]
  },
  {
   "cell_type": "code",
   "execution_count": 49,
   "metadata": {},
   "outputs": [],
   "source": [
    "beta = np.arange(10)"
   ]
  },
  {
   "cell_type": "code",
   "execution_count": 50,
   "metadata": {},
   "outputs": [],
   "source": [
    "y = X.dot(beta)"
   ]
  },
  {
   "cell_type": "code",
   "execution_count": 70,
   "metadata": {},
   "outputs": [],
   "source": [
    "model.compile(optimizer='sgd', loss='mse')"
   ]
  },
  {
   "cell_type": "code",
   "execution_count": 71,
   "metadata": {
    "scrolled": true
   },
   "outputs": [
    {
     "name": "stdout",
     "output_type": "stream",
     "text": [
      "Train on 700 samples, validate on 300 samples\n",
      "Epoch 1/100\n",
      "700/700 [==============================] - 0s 416us/step - loss: 219.3328 - val_loss: 103.9201\n",
      "Epoch 2/100\n",
      "700/700 [==============================] - 0s 117us/step - loss: 93.5262 - val_loss: 52.1609\n",
      "Epoch 3/100\n",
      "700/700 [==============================] - 0s 97us/step - loss: 49.7892 - val_loss: 34.3955\n",
      "Epoch 4/100\n",
      "700/700 [==============================] - 0s 87us/step - loss: 34.4856 - val_loss: 28.3988\n",
      "Epoch 5/100\n",
      "700/700 [==============================] - 0s 79us/step - loss: 29.1382 - val_loss: 26.4304\n",
      "Epoch 6/100\n",
      "700/700 [==============================] - 0s 75us/step - loss: 27.2212 - val_loss: 25.7842\n",
      "Epoch 7/100\n",
      "700/700 [==============================] - 0s 75us/step - loss: 26.4996 - val_loss: 25.6076\n",
      "Epoch 8/100\n",
      "700/700 [==============================] - 0s 77us/step - loss: 26.2326 - val_loss: 25.5747\n",
      "Epoch 9/100\n",
      "700/700 [==============================] - 0s 81us/step - loss: 26.1410 - val_loss: 25.5750\n",
      "Epoch 10/100\n",
      "700/700 [==============================] - 0s 75us/step - loss: 26.1068 - val_loss: 25.5922\n",
      "Epoch 11/100\n",
      "700/700 [==============================] - 0s 80us/step - loss: 26.0918 - val_loss: 25.6059\n",
      "Epoch 12/100\n",
      "700/700 [==============================] - 0s 83us/step - loss: 26.0837 - val_loss: 25.6144\n",
      "Epoch 13/100\n",
      "700/700 [==============================] - 0s 85us/step - loss: 26.0822 - val_loss: 25.6145\n",
      "Epoch 14/100\n",
      "700/700 [==============================] - 0s 78us/step - loss: 26.0829 - val_loss: 25.6146\n",
      "Epoch 15/100\n",
      "700/700 [==============================] - 0s 80us/step - loss: 26.0839 - val_loss: 25.6219\n",
      "Epoch 16/100\n",
      "700/700 [==============================] - 0s 81us/step - loss: 26.0822 - val_loss: 25.6235\n",
      "Epoch 17/100\n",
      "700/700 [==============================] - 0s 78us/step - loss: 26.0812 - val_loss: 25.6138\n",
      "Epoch 18/100\n",
      "700/700 [==============================] - 0s 80us/step - loss: 26.0821 - val_loss: 25.6261\n",
      "Epoch 19/100\n",
      "700/700 [==============================] - 0s 76us/step - loss: 26.0796 - val_loss: 25.6265\n",
      "Epoch 20/100\n",
      "700/700 [==============================] - 0s 75us/step - loss: 26.0808 - val_loss: 25.6211\n",
      "Epoch 21/100\n",
      "700/700 [==============================] - 0s 75us/step - loss: 26.0829 - val_loss: 25.6190\n",
      "Epoch 22/100\n",
      "700/700 [==============================] - 0s 76us/step - loss: 26.0815 - val_loss: 25.6165\n",
      "Epoch 23/100\n",
      "700/700 [==============================] - 0s 76us/step - loss: 26.0820 - val_loss: 25.6197\n",
      "Epoch 24/100\n",
      "700/700 [==============================] - 0s 81us/step - loss: 26.0852 - val_loss: 25.6197\n",
      "Epoch 25/100\n",
      "700/700 [==============================] - 0s 78us/step - loss: 26.0841 - val_loss: 25.6201\n",
      "Epoch 26/100\n",
      "700/700 [==============================] - 0s 74us/step - loss: 26.0784 - val_loss: 25.6220\n",
      "Epoch 27/100\n",
      "700/700 [==============================] - 0s 74us/step - loss: 26.0812 - val_loss: 25.6107\n",
      "Epoch 28/100\n",
      "700/700 [==============================] - 0s 74us/step - loss: 26.0807 - val_loss: 25.6151\n",
      "Epoch 29/100\n",
      "700/700 [==============================] - 0s 76us/step - loss: 26.0813 - val_loss: 25.6135\n",
      "Epoch 30/100\n",
      "700/700 [==============================] - 0s 80us/step - loss: 26.0790 - val_loss: 25.6171\n",
      "Epoch 31/100\n",
      "700/700 [==============================] - 0s 76us/step - loss: 26.0807 - val_loss: 25.6290\n",
      "Epoch 32/100\n",
      "700/700 [==============================] - 0s 78us/step - loss: 26.0805 - val_loss: 25.6247\n",
      "Epoch 33/100\n",
      "700/700 [==============================] - 0s 84us/step - loss: 26.0788 - val_loss: 25.6264\n",
      "Epoch 34/100\n",
      "700/700 [==============================] - 0s 80us/step - loss: 26.0827 - val_loss: 25.6242\n",
      "Epoch 35/100\n",
      "700/700 [==============================] - 0s 85us/step - loss: 26.0791 - val_loss: 25.6217\n",
      "Epoch 36/100\n",
      "700/700 [==============================] - 0s 78us/step - loss: 26.0828 - val_loss: 25.6217\n",
      "Epoch 37/100\n",
      "700/700 [==============================] - 0s 76us/step - loss: 26.0787 - val_loss: 25.6248\n",
      "Epoch 38/100\n",
      "700/700 [==============================] - 0s 75us/step - loss: 26.0835 - val_loss: 25.6218\n",
      "Epoch 39/100\n",
      "700/700 [==============================] - 0s 74us/step - loss: 26.0812 - val_loss: 25.6206\n",
      "Epoch 40/100\n",
      "700/700 [==============================] - 0s 75us/step - loss: 26.0808 - val_loss: 25.6244\n",
      "Epoch 41/100\n",
      "700/700 [==============================] - 0s 74us/step - loss: 26.0845 - val_loss: 25.6164\n",
      "Epoch 42/100\n",
      "700/700 [==============================] - 0s 74us/step - loss: 26.0837 - val_loss: 25.6136\n",
      "Epoch 43/100\n",
      "700/700 [==============================] - 0s 84us/step - loss: 26.0802 - val_loss: 25.6195\n",
      "Epoch 44/100\n",
      "700/700 [==============================] - 0s 79us/step - loss: 26.0811 - val_loss: 25.6263\n",
      "Epoch 45/100\n",
      "700/700 [==============================] - 0s 77us/step - loss: 26.0794 - val_loss: 25.6222\n",
      "Epoch 46/100\n",
      "700/700 [==============================] - 0s 75us/step - loss: 26.0836 - val_loss: 25.6210\n",
      "Epoch 47/100\n",
      "700/700 [==============================] - 0s 75us/step - loss: 26.0827 - val_loss: 25.6179\n",
      "Epoch 48/100\n",
      "700/700 [==============================] - 0s 77us/step - loss: 26.0811 - val_loss: 25.6194\n",
      "Epoch 49/100\n",
      "700/700 [==============================] - 0s 76us/step - loss: 26.0815 - val_loss: 25.6210\n",
      "Epoch 50/100\n",
      "700/700 [==============================] - 0s 78us/step - loss: 26.0794 - val_loss: 25.6312\n",
      "Epoch 51/100\n",
      "700/700 [==============================] - 0s 79us/step - loss: 26.0807 - val_loss: 25.6374\n",
      "Epoch 52/100\n",
      "700/700 [==============================] - 0s 80us/step - loss: 26.0838 - val_loss: 25.6277\n",
      "Epoch 53/100\n",
      "700/700 [==============================] - 0s 83us/step - loss: 26.0799 - val_loss: 25.6211\n",
      "Epoch 54/100\n",
      "700/700 [==============================] - 0s 78us/step - loss: 26.0815 - val_loss: 25.6254\n",
      "Epoch 55/100\n",
      "700/700 [==============================] - 0s 75us/step - loss: 26.0814 - val_loss: 25.6202\n",
      "Epoch 56/100\n",
      "700/700 [==============================] - 0s 81us/step - loss: 26.0802 - val_loss: 25.6182\n",
      "Epoch 57/100\n",
      "700/700 [==============================] - 0s 80us/step - loss: 26.0856 - val_loss: 25.6202\n",
      "Epoch 58/100\n",
      "700/700 [==============================] - 0s 85us/step - loss: 26.0814 - val_loss: 25.6261\n",
      "Epoch 59/100\n",
      "700/700 [==============================] - 0s 77us/step - loss: 26.0805 - val_loss: 25.6178\n",
      "Epoch 60/100\n",
      "700/700 [==============================] - 0s 80us/step - loss: 26.0829 - val_loss: 25.6231\n",
      "Epoch 61/100\n",
      "700/700 [==============================] - 0s 79us/step - loss: 26.0795 - val_loss: 25.6243\n",
      "Epoch 62/100\n",
      "700/700 [==============================] - 0s 84us/step - loss: 26.0778 - val_loss: 25.6135\n",
      "Epoch 63/100\n",
      "700/700 [==============================] - 0s 85us/step - loss: 26.0811 - val_loss: 25.6237\n",
      "Epoch 64/100\n",
      "700/700 [==============================] - 0s 82us/step - loss: 26.0846 - val_loss: 25.6292\n",
      "Epoch 65/100\n",
      "700/700 [==============================] - 0s 92us/step - loss: 26.0806 - val_loss: 25.6215\n",
      "Epoch 66/100\n",
      "700/700 [==============================] - 0s 88us/step - loss: 26.0836 - val_loss: 25.6210\n",
      "Epoch 67/100\n",
      "700/700 [==============================] - 0s 82us/step - loss: 26.0783 - val_loss: 25.6174\n",
      "Epoch 68/100\n",
      "700/700 [==============================] - 0s 79us/step - loss: 26.0815 - val_loss: 25.6186\n",
      "Epoch 69/100\n",
      "700/700 [==============================] - 0s 81us/step - loss: 26.0805 - val_loss: 25.6181\n",
      "Epoch 70/100\n",
      "700/700 [==============================] - 0s 94us/step - loss: 26.0808 - val_loss: 25.6173\n",
      "Epoch 71/100\n",
      "700/700 [==============================] - 0s 83us/step - loss: 26.0816 - val_loss: 25.6221\n",
      "Epoch 72/100\n",
      "700/700 [==============================] - 0s 85us/step - loss: 26.0816 - val_loss: 25.6246\n",
      "Epoch 73/100\n",
      "700/700 [==============================] - 0s 83us/step - loss: 26.0807 - val_loss: 25.6238\n",
      "Epoch 74/100\n",
      "700/700 [==============================] - 0s 83us/step - loss: 26.0825 - val_loss: 25.6199\n",
      "Epoch 75/100\n",
      "700/700 [==============================] - 0s 82us/step - loss: 26.0818 - val_loss: 25.6314\n",
      "Epoch 76/100\n",
      "700/700 [==============================] - 0s 82us/step - loss: 26.0834 - val_loss: 25.6320\n",
      "Epoch 77/100\n",
      "700/700 [==============================] - 0s 80us/step - loss: 26.0816 - val_loss: 25.6326\n",
      "Epoch 78/100\n"
     ]
    },
    {
     "name": "stdout",
     "output_type": "stream",
     "text": [
      "700/700 [==============================] - 0s 80us/step - loss: 26.0817 - val_loss: 25.6299\n",
      "Epoch 79/100\n",
      "700/700 [==============================] - 0s 82us/step - loss: 26.0820 - val_loss: 25.6360\n",
      "Epoch 80/100\n",
      "700/700 [==============================] - 0s 82us/step - loss: 26.0803 - val_loss: 25.6298\n",
      "Epoch 81/100\n",
      "700/700 [==============================] - 0s 99us/step - loss: 26.0806 - val_loss: 25.6259\n",
      "Epoch 82/100\n",
      "700/700 [==============================] - 0s 98us/step - loss: 26.0813 - val_loss: 25.6225\n",
      "Epoch 83/100\n",
      "700/700 [==============================] - 0s 81us/step - loss: 26.0807 - val_loss: 25.6216\n",
      "Epoch 84/100\n",
      "700/700 [==============================] - 0s 82us/step - loss: 26.0822 - val_loss: 25.6320\n",
      "Epoch 85/100\n",
      "700/700 [==============================] - 0s 83us/step - loss: 26.0815 - val_loss: 25.6228\n",
      "Epoch 86/100\n",
      "700/700 [==============================] - 0s 83us/step - loss: 26.0812 - val_loss: 25.6247\n",
      "Epoch 87/100\n",
      "700/700 [==============================] - 0s 82us/step - loss: 26.0790 - val_loss: 25.6255\n",
      "Epoch 88/100\n",
      "700/700 [==============================] - 0s 77us/step - loss: 26.0839 - val_loss: 25.6309\n",
      "Epoch 89/100\n",
      "700/700 [==============================] - 0s 80us/step - loss: 26.0808 - val_loss: 25.6242\n",
      "Epoch 90/100\n",
      "700/700 [==============================] - 0s 83us/step - loss: 26.0802 - val_loss: 25.6240\n",
      "Epoch 91/100\n",
      "700/700 [==============================] - 0s 89us/step - loss: 26.0834 - val_loss: 25.6250\n",
      "Epoch 92/100\n",
      "700/700 [==============================] - 0s 81us/step - loss: 26.0807 - val_loss: 25.6235\n",
      "Epoch 93/100\n",
      "700/700 [==============================] - 0s 82us/step - loss: 26.0808 - val_loss: 25.6223\n",
      "Epoch 94/100\n",
      "700/700 [==============================] - 0s 90us/step - loss: 26.0799 - val_loss: 25.6187\n",
      "Epoch 95/100\n",
      "700/700 [==============================] - 0s 83us/step - loss: 26.0794 - val_loss: 25.6182\n",
      "Epoch 96/100\n",
      "700/700 [==============================] - 0s 81us/step - loss: 26.0835 - val_loss: 25.6225\n",
      "Epoch 97/100\n",
      "700/700 [==============================] - 0s 82us/step - loss: 26.0820 - val_loss: 25.6328\n",
      "Epoch 98/100\n",
      "700/700 [==============================] - 0s 80us/step - loss: 26.0814 - val_loss: 25.6272\n",
      "Epoch 99/100\n",
      "700/700 [==============================] - 0s 86us/step - loss: 26.0872 - val_loss: 25.6234\n",
      "Epoch 100/100\n",
      "700/700 [==============================] - 0s 88us/step - loss: 26.0819 - val_loss: 25.6295\n"
     ]
    },
    {
     "data": {
      "text/plain": [
       "<keras.callbacks.History at 0x2b9b1bff9e48>"
      ]
     },
     "execution_count": 71,
     "metadata": {},
     "output_type": "execute_result"
    }
   ],
   "source": [
    "model.fit(X, y, batch_size=32, epochs=100, validation_split=0.3)"
   ]
  },
  {
   "cell_type": "code",
   "execution_count": 72,
   "metadata": {
    "scrolled": false
   },
   "outputs": [
    {
     "data": {
      "text/plain": [
       "[array([[-0.07500659],\n",
       "        [ 0.90505487],\n",
       "        [ 1.859108  ],\n",
       "        [ 2.7112339 ],\n",
       "        [ 3.599961  ],\n",
       "        [ 4.564257  ],\n",
       "        [ 5.519722  ],\n",
       "        [ 6.3469424 ],\n",
       "        [ 7.412048  ],\n",
       "        [ 8.224165  ]], dtype=float32), array([-0.02775599], dtype=float32)]"
      ]
     },
     "execution_count": 72,
     "metadata": {},
     "output_type": "execute_result"
    }
   ],
   "source": [
    "model.layers[1].get_weights()"
   ]
  }
 ],
 "metadata": {
  "kernelspec": {
   "display_name": "Python 3",
   "language": "python",
   "name": "python3"
  },
  "language_info": {
   "codemirror_mode": {
    "name": "ipython",
    "version": 3
   },
   "file_extension": ".py",
   "mimetype": "text/x-python",
   "name": "python",
   "nbconvert_exporter": "python",
   "pygments_lexer": "ipython3",
   "version": "3.5.4"
  }
 },
 "nbformat": 4,
 "nbformat_minor": 2
}
