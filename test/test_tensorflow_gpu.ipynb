{
 "cells": [
  {
   "cell_type": "code",
   "execution_count": 2,
   "metadata": {},
   "outputs": [
    {
     "name": "stderr",
     "output_type": "stream",
     "text": [
      "/sw/lsa/centos7/python-anaconda-arc-connect/created-20170421/lib/python3.5/site-packages/h5py/__init__.py:36: FutureWarning: Conversion of the second argument of issubdtype from `float` to `np.floating` is deprecated. In future, it will be treated as `np.float64 == np.dtype(float).type`.\n",
      "  from ._conv import register_converters as _register_converters\n"
     ]
    }
   ],
   "source": [
    "import tensorflow as tf"
   ]
  },
  {
   "cell_type": "code",
   "execution_count": 2,
   "metadata": {},
   "outputs": [],
   "source": [
    "a = tf.constant(5)\n",
    "b = tf.constant(6)\n",
    "sess = tf.Session()\n",
    "sess.run(a+b)\n",
    "sess.close()"
   ]
  },
  {
   "cell_type": "code",
   "execution_count": 3,
   "metadata": {},
   "outputs": [
    {
     "name": "stdout",
     "output_type": "stream",
     "text": [
      "[name: \"/device:CPU:0\"\n",
      "device_type: \"CPU\"\n",
      "memory_limit: 268435456\n",
      "locality {\n",
      "}\n",
      "incarnation: 3892425872527059760\n",
      ", name: \"/device:GPU:0\"\n",
      "device_type: \"GPU\"\n",
      "memory_limit: 11323952333\n",
      "locality {\n",
      "  bus_id: 2\n",
      "}\n",
      "incarnation: 8036190973275206349\n",
      "physical_device_desc: \"device: 0, name: Tesla K40m, pci bus id: 0000:83:00.0, compute capability: 3.5\"\n",
      "]\n"
     ]
    }
   ],
   "source": [
    "from tensorflow.python.client import device_lib\n",
    "print(device_lib.list_local_devices())"
   ]
  },
  {
   "cell_type": "code",
   "execution_count": 1,
   "metadata": {},
   "outputs": [
    {
     "name": "stdout",
     "output_type": "stream",
     "text": [
      "Traceback (most recent call last):\r\n",
      "  File \"/sw/lsa/centos7/python-anaconda-arc-connect/created-20170421/bin/pip\", line 7, in <module>\r\n",
      "    from pip import main\r\n",
      "  File \"/sw/lsa/centos7/python-anaconda-arc-connect/created-20170421/lib/python3.5/site-packages/pip/__init__.py\", line 43, in <module>\r\n",
      "    from pip.utils import get_installed_distributions, get_prog\r\n",
      "  File \"/sw/lsa/centos7/python-anaconda-arc-connect/created-20170421/lib/python3.5/site-packages/pip/utils/__init__.py\", line 27, in <module>\r\n",
      "    from pip._vendor import pkg_resources\r\n",
      "  File \"/sw/lsa/centos7/python-anaconda-arc-connect/created-20170421/lib/python3.5/site-packages/pip/_vendor/pkg_resources/__init__.py\", line 3018, in <module>\r\n",
      "    @_call_aside\r\n",
      "  File \"/sw/lsa/centos7/python-anaconda-arc-connect/created-20170421/lib/python3.5/site-packages/pip/_vendor/pkg_resources/__init__.py\", line 3004, in _call_aside\r\n",
      "    f(*args, **kwargs)\r\n",
      "  File \"/sw/lsa/centos7/python-anaconda-arc-connect/created-20170421/lib/python3.5/site-packages/pip/_vendor/pkg_resources/__init__.py\", line 3046, in _initialize_master_working_set\r\n",
      "    dist.activate(replace=False)\r\n",
      "  File \"/sw/lsa/centos7/python-anaconda-arc-connect/created-20170421/lib/python3.5/site-packages/pip/_vendor/pkg_resources/__init__.py\", line 2578, in activate\r\n",
      "    declare_namespace(pkg)\r\n",
      "  File \"/sw/lsa/centos7/python-anaconda-arc-connect/created-20170421/lib/python3.5/site-packages/pip/_vendor/pkg_resources/__init__.py\", line 2152, in declare_namespace\r\n",
      "    _handle_ns(packageName, path_item)\r\n",
      "  File \"/sw/lsa/centos7/python-anaconda-arc-connect/created-20170421/lib/python3.5/site-packages/pip/_vendor/pkg_resources/__init__.py\", line 2092, in _handle_ns\r\n",
      "    _rebuild_mod_path(path, packageName, module)\r\n",
      "  File \"/sw/lsa/centos7/python-anaconda-arc-connect/created-20170421/lib/python3.5/site-packages/pip/_vendor/pkg_resources/__init__.py\", line 2121, in _rebuild_mod_path\r\n",
      "    orig_path.sort(key=position_in_sys_path)\r\n",
      "AttributeError: '_NamespacePath' object has no attribute 'sort'\r\n"
     ]
    }
   ],
   "source": [
    "!pip list"
   ]
  }
 ],
 "metadata": {
  "kernelspec": {
   "display_name": "Python 3",
   "language": "python",
   "name": "python3"
  },
  "language_info": {
   "codemirror_mode": {
    "name": "ipython",
    "version": 3
   },
   "file_extension": ".py",
   "mimetype": "text/x-python",
   "name": "python",
   "nbconvert_exporter": "python",
   "pygments_lexer": "ipython3",
   "version": "3.5.4"
  }
 },
 "nbformat": 4,
 "nbformat_minor": 2
}
