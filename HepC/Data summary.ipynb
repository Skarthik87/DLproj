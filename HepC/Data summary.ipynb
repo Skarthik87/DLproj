{
 "cells": [
  {
   "cell_type": "code",
   "execution_count": 1,
   "metadata": {},
   "outputs": [],
   "source": [
    "import pandas as pd\n",
    "import numpy as np\n",
    "import matplotlib.pyplot as plt"
   ]
  },
  {
   "cell_type": "code",
   "execution_count": 2,
   "metadata": {},
   "outputs": [],
   "source": [
    "%matplotlib inline"
   ]
  },
  {
   "cell_type": "code",
   "execution_count": 4,
   "metadata": {},
   "outputs": [
    {
     "name": "stdout",
     "output_type": "stream",
     "text": [
      "Cohort\tLongitudinal  merged_time_varying_data\tRead me.txt\r\n"
     ]
    }
   ],
   "source": [
    "!ls /nfs/turbo/umms-awaljee/Cohort_ALL_deidentified_to_UMICH/Cohort_ALL_deidentified/DeepLearning/DataPreprocess/"
   ]
  },
  {
   "cell_type": "code",
   "execution_count": 3,
   "metadata": {},
   "outputs": [],
   "source": [
    "path = '/nfs/turbo/umms-awaljee/Cohort_ALL_deidentified_to_UMICH/Cohort_ALL_deidentified/DeepLearning/DataPreprocess/'"
   ]
  },
  {
   "cell_type": "code",
   "execution_count": 5,
   "metadata": {},
   "outputs": [
    {
     "name": "stdout",
     "output_type": "stream",
     "text": [
      "1, Original data in csv format\r\n",
      "--> Folder \"Longitudinal\" + \"Cohort\"\r\n",
      "\r\n",
      "2, Unique pair (PatientID, Time) with 20 labs and 11 treatment type (Ordered by \r\n",
      "Patient ID at first and then by Time).\r\n",
      "--> Folder \"merged_time_varying_data\" --> File \"MergedData.csv\"\r\n",
      "\r\n",
      "Note, the size of merged data is around 1GB. You could use function `fread()` in\r\n",
      " package `data.table` to load it into R using 20 seconds. \r\n",
      "\r\n",
      "Data Details: 10987831 rows and 33 columns, use blank \"\" for missing.\r\n",
      "\"PatientID\", \"Time\", 20 labs, 11 types of treatment. For example, if treatment \"\r\n",
      "BOCEPREVIR\" = 1, it means that the patient took this medication on this visit ti\r\n",
      "me. It was calculated by the table \"antiviral_rxfills\" to check whether this vis\r\n",
      "it time locates in the interval [DaysToDispend, DaysToDispend + DaysToSupply].\r\n",
      "\r\n",
      "I remove 1772 patients with negative treatment time (118078 records). \r\n",
      "\r\n"
     ]
    }
   ],
   "source": [
    "!more /nfs/turbo/umms-awaljee/Cohort_ALL_deidentified_to_UMICH/Cohort_ALL_deidentified/DeepLearning/DataPreprocess/Read\\ me.txt"
   ]
  },
  {
   "cell_type": "code",
   "execution_count": 6,
   "metadata": {},
   "outputs": [],
   "source": [
    "dat = pd.read_csv(path+'merged_time_varying_data/MergedData.csv')"
   ]
  },
  {
   "cell_type": "code",
   "execution_count": 19,
   "metadata": {},
   "outputs": [
    {
     "data": {
      "text/html": [
       "<div>\n",
       "<style scoped>\n",
       "    .dataframe tbody tr th:only-of-type {\n",
       "        vertical-align: middle;\n",
       "    }\n",
       "\n",
       "    .dataframe tbody tr th {\n",
       "        vertical-align: top;\n",
       "    }\n",
       "\n",
       "    .dataframe thead th {\n",
       "        text-align: right;\n",
       "    }\n",
       "</style>\n",
       "<table border=\"1\" class=\"dataframe\">\n",
       "  <thead>\n",
       "    <tr style=\"text-align: right;\">\n",
       "      <th></th>\n",
       "      <th>PatientID</th>\n",
       "      <th>Time</th>\n",
       "      <th>labalbumin</th>\n",
       "      <th>labalkalinephosphataseratio</th>\n",
       "      <th>labalphafetoproteinratio</th>\n",
       "      <th>labaltratio</th>\n",
       "      <th>labastratio</th>\n",
       "      <th>labbilirubin</th>\n",
       "      <th>labbloodureanitro</th>\n",
       "      <th>labchloride</th>\n",
       "      <th>...</th>\n",
       "      <th>DACLATASVIR</th>\n",
       "      <th>EPCLUSA</th>\n",
       "      <th>HARVONI</th>\n",
       "      <th>INTERFERON</th>\n",
       "      <th>PEGASYS</th>\n",
       "      <th>SIMEPREVIR</th>\n",
       "      <th>SOFOSBUVIR</th>\n",
       "      <th>TELAPREVIR</th>\n",
       "      <th>VIEKIRA</th>\n",
       "      <th>ZEPATIER</th>\n",
       "    </tr>\n",
       "  </thead>\n",
       "  <tbody>\n",
       "    <tr>\n",
       "      <th>0</th>\n",
       "      <td>000010BE-20C2</td>\n",
       "      <td>0</td>\n",
       "      <td>4.6</td>\n",
       "      <td>0.968</td>\n",
       "      <td>NaN</td>\n",
       "      <td>NaN</td>\n",
       "      <td>1.0667</td>\n",
       "      <td>0.5</td>\n",
       "      <td>14.0</td>\n",
       "      <td>100.0</td>\n",
       "      <td>...</td>\n",
       "      <td>0</td>\n",
       "      <td>0</td>\n",
       "      <td>0</td>\n",
       "      <td>0</td>\n",
       "      <td>0</td>\n",
       "      <td>0</td>\n",
       "      <td>0</td>\n",
       "      <td>0</td>\n",
       "      <td>0</td>\n",
       "      <td>0</td>\n",
       "    </tr>\n",
       "    <tr>\n",
       "      <th>1</th>\n",
       "      <td>000010BE-20C2</td>\n",
       "      <td>19</td>\n",
       "      <td>NaN</td>\n",
       "      <td>NaN</td>\n",
       "      <td>NaN</td>\n",
       "      <td>NaN</td>\n",
       "      <td>NaN</td>\n",
       "      <td>NaN</td>\n",
       "      <td>NaN</td>\n",
       "      <td>NaN</td>\n",
       "      <td>...</td>\n",
       "      <td>0</td>\n",
       "      <td>0</td>\n",
       "      <td>0</td>\n",
       "      <td>0</td>\n",
       "      <td>0</td>\n",
       "      <td>0</td>\n",
       "      <td>0</td>\n",
       "      <td>0</td>\n",
       "      <td>0</td>\n",
       "      <td>0</td>\n",
       "    </tr>\n",
       "    <tr>\n",
       "      <th>2</th>\n",
       "      <td>000010BE-20C2</td>\n",
       "      <td>36</td>\n",
       "      <td>NaN</td>\n",
       "      <td>NaN</td>\n",
       "      <td>NaN</td>\n",
       "      <td>NaN</td>\n",
       "      <td>NaN</td>\n",
       "      <td>NaN</td>\n",
       "      <td>NaN</td>\n",
       "      <td>NaN</td>\n",
       "      <td>...</td>\n",
       "      <td>0</td>\n",
       "      <td>0</td>\n",
       "      <td>0</td>\n",
       "      <td>0</td>\n",
       "      <td>0</td>\n",
       "      <td>0</td>\n",
       "      <td>0</td>\n",
       "      <td>0</td>\n",
       "      <td>0</td>\n",
       "      <td>0</td>\n",
       "    </tr>\n",
       "    <tr>\n",
       "      <th>3</th>\n",
       "      <td>000010BE-20C2</td>\n",
       "      <td>312</td>\n",
       "      <td>NaN</td>\n",
       "      <td>NaN</td>\n",
       "      <td>NaN</td>\n",
       "      <td>NaN</td>\n",
       "      <td>NaN</td>\n",
       "      <td>NaN</td>\n",
       "      <td>NaN</td>\n",
       "      <td>NaN</td>\n",
       "      <td>...</td>\n",
       "      <td>0</td>\n",
       "      <td>0</td>\n",
       "      <td>0</td>\n",
       "      <td>0</td>\n",
       "      <td>0</td>\n",
       "      <td>0</td>\n",
       "      <td>0</td>\n",
       "      <td>0</td>\n",
       "      <td>0</td>\n",
       "      <td>0</td>\n",
       "    </tr>\n",
       "    <tr>\n",
       "      <th>4</th>\n",
       "      <td>000010BE-20C2</td>\n",
       "      <td>361</td>\n",
       "      <td>4.7</td>\n",
       "      <td>0.912</td>\n",
       "      <td>NaN</td>\n",
       "      <td>1.4</td>\n",
       "      <td>0.9778</td>\n",
       "      <td>0.5</td>\n",
       "      <td>11.0</td>\n",
       "      <td>99.0</td>\n",
       "      <td>...</td>\n",
       "      <td>0</td>\n",
       "      <td>0</td>\n",
       "      <td>0</td>\n",
       "      <td>0</td>\n",
       "      <td>0</td>\n",
       "      <td>0</td>\n",
       "      <td>0</td>\n",
       "      <td>0</td>\n",
       "      <td>0</td>\n",
       "      <td>0</td>\n",
       "    </tr>\n",
       "  </tbody>\n",
       "</table>\n",
       "<p>5 rows × 33 columns</p>\n",
       "</div>"
      ],
      "text/plain": [
       "       PatientID  Time  labalbumin  labalkalinephosphataseratio  \\\n",
       "0  000010BE-20C2     0         4.6                        0.968   \n",
       "1  000010BE-20C2    19         NaN                          NaN   \n",
       "2  000010BE-20C2    36         NaN                          NaN   \n",
       "3  000010BE-20C2   312         NaN                          NaN   \n",
       "4  000010BE-20C2   361         4.7                        0.912   \n",
       "\n",
       "   labalphafetoproteinratio  labaltratio  labastratio  labbilirubin  \\\n",
       "0                       NaN          NaN       1.0667           0.5   \n",
       "1                       NaN          NaN          NaN           NaN   \n",
       "2                       NaN          NaN          NaN           NaN   \n",
       "3                       NaN          NaN          NaN           NaN   \n",
       "4                       NaN          1.4       0.9778           0.5   \n",
       "\n",
       "   labbloodureanitro  labchloride    ...     DACLATASVIR  EPCLUSA  HARVONI  \\\n",
       "0               14.0        100.0    ...               0        0        0   \n",
       "1                NaN          NaN    ...               0        0        0   \n",
       "2                NaN          NaN    ...               0        0        0   \n",
       "3                NaN          NaN    ...               0        0        0   \n",
       "4               11.0         99.0    ...               0        0        0   \n",
       "\n",
       "   INTERFERON  PEGASYS  SIMEPREVIR  SOFOSBUVIR  TELAPREVIR  VIEKIRA  ZEPATIER  \n",
       "0           0        0           0           0           0        0         0  \n",
       "1           0        0           0           0           0        0         0  \n",
       "2           0        0           0           0           0        0         0  \n",
       "3           0        0           0           0           0        0         0  \n",
       "4           0        0           0           0           0        0         0  \n",
       "\n",
       "[5 rows x 33 columns]"
      ]
     },
     "execution_count": 19,
     "metadata": {},
     "output_type": "execute_result"
    }
   ],
   "source": [
    "dat.head()"
   ]
  },
  {
   "cell_type": "code",
   "execution_count": 7,
   "metadata": {},
   "outputs": [
    {
     "data": {
      "text/plain": [
       "(10987831, 33)"
      ]
     },
     "execution_count": 7,
     "metadata": {},
     "output_type": "execute_result"
    }
   ],
   "source": [
    "dat.shape"
   ]
  },
  {
   "cell_type": "code",
   "execution_count": 8,
   "metadata": {},
   "outputs": [
    {
     "data": {
      "text/plain": [
       "count    154628.000000\n",
       "mean         71.059776\n",
       "std          90.399444\n",
       "min           2.000000\n",
       "25%          26.000000\n",
       "50%          50.000000\n",
       "75%          87.000000\n",
       "max        3912.000000\n",
       "Name: PatientID, dtype: float64"
      ]
     },
     "execution_count": 8,
     "metadata": {},
     "output_type": "execute_result"
    }
   ],
   "source": [
    "dat['PatientID'].value_counts().describe()"
   ]
  },
  {
   "cell_type": "code",
   "execution_count": 22,
   "metadata": {},
   "outputs": [
    {
     "data": {
      "text/plain": [
       "PatientID                      0.000000\n",
       "Time                           0.000000\n",
       "labalbumin                     0.630693\n",
       "labalkalinephosphataseratio    0.637866\n",
       "labalphafetoproteinratio       0.948254\n",
       "labaltratio                    0.640166\n",
       "labastratio                    0.633857\n",
       "labbilirubin                   0.628024\n",
       "labbloodureanitro              0.505036\n",
       "labchloride                    0.519027\n",
       "labcreatinine                  0.499947\n",
       "labglucose                     0.416291\n",
       "labhemoglobin                  0.513398\n",
       "labinr                         0.837040\n",
       "labplt                         0.538871\n",
       "labpotassium                   0.501823\n",
       "labsodium                      0.504065\n",
       "labtotprotein                  0.678069\n",
       "labwbc                         0.542640\n",
       "scoreapri                      0.574477\n",
       "scoreastalt                    0.647892\n",
       "scorebmi                       0.556354\n",
       "BOCEPREVIR                     0.000000\n",
       "DACLATASVIR                    0.000000\n",
       "EPCLUSA                        0.000000\n",
       "HARVONI                        0.000000\n",
       "INTERFERON                     0.000000\n",
       "PEGASYS                        0.000000\n",
       "SIMEPREVIR                     0.000000\n",
       "SOFOSBUVIR                     0.000000\n",
       "TELAPREVIR                     0.000000\n",
       "VIEKIRA                        0.000000\n",
       "ZEPATIER                       0.000000\n",
       "dtype: float64"
      ]
     },
     "execution_count": 22,
     "metadata": {},
     "output_type": "execute_result"
    }
   ],
   "source": [
    "dat.isna().apply(sum, axis=0)/len(dat)"
   ]
  },
  {
   "cell_type": "code",
   "execution_count": 24,
   "metadata": {},
   "outputs": [
    {
     "data": {
      "text/plain": [
       "Index(['PatientID', 'Time', 'labalbumin', 'labalkalinephosphataseratio',\n",
       "       'labalphafetoproteinratio', 'labaltratio', 'labastratio',\n",
       "       'labbilirubin', 'labbloodureanitro', 'labchloride', 'labcreatinine',\n",
       "       'labglucose', 'labhemoglobin', 'labinr', 'labplt', 'labpotassium',\n",
       "       'labsodium', 'labtotprotein', 'labwbc', 'scoreapri', 'scoreastalt',\n",
       "       'scorebmi', 'BOCEPREVIR', 'DACLATASVIR', 'EPCLUSA', 'HARVONI',\n",
       "       'INTERFERON', 'PEGASYS', 'SIMEPREVIR', 'SOFOSBUVIR', 'TELAPREVIR',\n",
       "       'VIEKIRA', 'ZEPATIER'],\n",
       "      dtype='object')"
      ]
     },
     "execution_count": 24,
     "metadata": {},
     "output_type": "execute_result"
    }
   ],
   "source": [
    "dat.columns"
   ]
  },
  {
   "cell_type": "code",
   "execution_count": 25,
   "metadata": {},
   "outputs": [],
   "source": [
    "labs = ['labalbumin', 'labalkalinephosphataseratio',\n",
    "       'labalphafetoproteinratio', 'labaltratio', 'labastratio',\n",
    "       'labbilirubin', 'labbloodureanitro', 'labchloride', 'labcreatinine',\n",
    "       'labglucose', 'labhemoglobin', 'labinr', 'labplt', 'labpotassium',\n",
    "       'labsodium', 'labtotprotein', 'labwbc', 'scoreapri', 'scoreastalt',\n",
    "       'scorebmi']"
   ]
  },
  {
   "cell_type": "code",
   "execution_count": 27,
   "metadata": {},
   "outputs": [],
   "source": [
    "treatment = ['BOCEPREVIR', 'DACLATASVIR', 'EPCLUSA', 'HARVONI',\n",
    "       'INTERFERON', 'PEGASYS', 'SIMEPREVIR', 'SOFOSBUVIR', 'TELAPREVIR',\n",
    "       'VIEKIRA', 'ZEPATIER']"
   ]
  },
  {
   "cell_type": "code",
   "execution_count": 28,
   "metadata": {},
   "outputs": [
    {
     "data": {
      "text/plain": [
       "BOCEPREVIR     0.003489\n",
       "DACLATASVIR    0.000357\n",
       "EPCLUSA        0.000644\n",
       "HARVONI        0.010306\n",
       "INTERFERON     0.001783\n",
       "PEGASYS        0.031077\n",
       "SIMEPREVIR     0.001159\n",
       "SOFOSBUVIR     0.004040\n",
       "TELAPREVIR     0.000349\n",
       "VIEKIRA        0.002213\n",
       "ZEPATIER       0.001435\n",
       "dtype: float64"
      ]
     },
     "execution_count": 28,
     "metadata": {},
     "output_type": "execute_result"
    }
   ],
   "source": [
    "(dat[treatment] == 1).apply(sum, axis=0)/len(dat)"
   ]
  }
 ],
 "metadata": {
  "kernelspec": {
   "display_name": "Python 3",
   "language": "python",
   "name": "python3"
  },
  "language_info": {
   "codemirror_mode": {
    "name": "ipython",
    "version": 3
   },
   "file_extension": ".py",
   "mimetype": "text/x-python",
   "name": "python",
   "nbconvert_exporter": "python",
   "pygments_lexer": "ipython3",
   "version": "3.5.4"
  }
 },
 "nbformat": 4,
 "nbformat_minor": 2
}
