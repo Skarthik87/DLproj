{
 "cells": [
  {
   "cell_type": "markdown",
   "metadata": {},
   "source": [
    "# Disease Detection from CT Scans by 3D CNN"
   ]
  },
  {
   "cell_type": "code",
   "execution_count": 1,
   "metadata": {},
   "outputs": [
    {
     "name": "stderr",
     "output_type": "stream",
     "text": [
      "/sw/lsa/centos7/python-anaconda-arc-connect/created-20170421/lib/python3.5/site-packages/h5py/__init__.py:36: FutureWarning: Conversion of the second argument of issubdtype from `float` to `np.floating` is deprecated. In future, it will be treated as `np.float64 == np.dtype(float).type`.\n",
      "  from ._conv import register_converters as _register_converters\n",
      "Using TensorFlow backend.\n"
     ]
    }
   ],
   "source": [
    "from keras import backend as K\n",
    "from keras.models import Sequential, Model\n",
    "from keras.layers import GlobalAveragePooling3D, Input, ZeroPadding3D, BatchNormalization, MaxPooling3D, Concatenate, AveragePooling3D\n",
    "from keras.layers.core import Dense, Activation, Dropout, Lambda\n",
    "from keras.layers.convolutional import Conv3D\n",
    "from keras.optimizers import SGD, RMSprop, Adam\n",
    "from keras.preprocessing.image import ImageDataGenerator\n",
    "from keras.callbacks import ModelCheckpoint, ReduceLROnPlateau, EarlyStopping\n",
    "from keras.utils import multi_gpu_model\n",
    "import tensorflow as tf"
   ]
  },
  {
   "cell_type": "code",
   "execution_count": 2,
   "metadata": {},
   "outputs": [],
   "source": [
    "import numpy as np\n",
    "import pandas as pd\n",
    "import matplotlib.pyplot as plt\n",
    "%matplotlib inline\n",
    "import os, sys\n",
    "module_path = os.path.abspath(os.path.join('..'))\n",
    "if module_path not in sys.path:\n",
    "    sys.path.append(module_path)\n",
    "\n",
    "from importlib import reload\n",
    "from sklearn.model_selection import train_test_split"
   ]
  },
  {
   "cell_type": "code",
   "execution_count": 3,
   "metadata": {
    "scrolled": true
   },
   "outputs": [],
   "source": [
    "#path = '/nfs/turbo/intmed-bnallamo-turbo/wsliu/Data/CT_scans/'\n",
    "path = '/nfs/turbo/umms-awaljee/wsliu/Data/CT_scans/'\n",
    "model_path = path + 'models/'\n",
    "if not os.path.exists(model_path): \n",
    "    os.mkdir(model_path)"
   ]
  },
  {
   "cell_type": "code",
   "execution_count": 4,
   "metadata": {},
   "outputs": [],
   "source": [
    "batch_size = 1\n",
    "G = 4"
   ]
  },
  {
   "cell_type": "markdown",
   "metadata": {},
   "source": [
    "## Prepare Data Generators"
   ]
  },
  {
   "cell_type": "code",
   "execution_count": 5,
   "metadata": {},
   "outputs": [],
   "source": [
    "df = pd.read_excel(path+'K23_Crohn_RadiologyReport_Labels_27MAR2018.xlsx')\n",
    "\n",
    "df = df.dropna(subset=['StudyID'])\n",
    "\n",
    "df['filename'] = ['s'+str(int(f)) for f in df['StudyID']]\n",
    "\n",
    "df = df.drop_duplicates(subset=['filename'])"
   ]
  },
  {
   "cell_type": "code",
   "execution_count": 8,
   "metadata": {},
   "outputs": [
    {
     "data": {
      "text/plain": [
       "Index(['Database_ID', 'StudyID', 'Ileum', 'ascending', 'transverse',\n",
       "       'Descending', 'Sigmoid', 'rectum', 'prox_small_bowel', 'Prox_Ileum',\n",
       "       'Jejunum', 'Duodenum', 'Stomach', 'Esophagus', 'fistula_enteral',\n",
       "       'fistula_perianal', 'abscess_enteral', 'abscess_perianal',\n",
       "       'StrictureNoted', 'Bowel_Dilation_Noted', 'Lumen_Narrowing_Noted',\n",
       "       'Prior_Surgery', 'Ostomy', 'Pouch', 'CD_Active_AnyLocation',\n",
       "       'CD_Active_SmallBowel', 'CD_Active_RtColon', 'CD_Active_LtColon',\n",
       "       'CD_Active_Pancolitis', 'Fistula_Any', 'Abscess_any',\n",
       "       'Stricture_Suspected', 'Surgery_Prior_Any', 'filename'],\n",
       "      dtype='object')"
      ]
     },
     "execution_count": 8,
     "metadata": {},
     "output_type": "execute_result"
    }
   ],
   "source": [
    "df.columns"
   ]
  },
  {
   "cell_type": "code",
   "execution_count": 16,
   "metadata": {},
   "outputs": [
    {
     "data": {
      "text/plain": [
       "1    2127\n",
       "0    1353\n",
       "Name: CD_Active_AnyLocation, dtype: int64"
      ]
     },
     "execution_count": 16,
     "metadata": {},
     "output_type": "execute_result"
    }
   ],
   "source": [
    "df['CD_Active_AnyLocation'].value_counts(dropna=False)"
   ]
  },
  {
   "cell_type": "code",
   "execution_count": 6,
   "metadata": {},
   "outputs": [],
   "source": [
    "trn_df, tst_df = train_test_split(df, test_size=0.2, stratify=df[['CD_Active_AnyLocation', 'Fistula_Any', 'Abscess_any']])"
   ]
  },
  {
   "cell_type": "code",
   "execution_count": 25,
   "metadata": {},
   "outputs": [
    {
     "data": {
      "text/plain": [
       "0    2639\n",
       "1     142\n",
       "Name: Abscess_any, dtype: int64"
      ]
     },
     "execution_count": 25,
     "metadata": {},
     "output_type": "execute_result"
    }
   ],
   "source": [
    "trn_df['Abscess_any'].value_counts(dropna=False)"
   ]
  },
  {
   "cell_type": "code",
   "execution_count": 23,
   "metadata": {},
   "outputs": [
    {
     "data": {
      "text/plain": [
       "0    660\n",
       "1     36\n",
       "Name: Abscess_any, dtype: int64"
      ]
     },
     "execution_count": 23,
     "metadata": {},
     "output_type": "execute_result"
    }
   ],
   "source": [
    "tst_df['Abscess_any'].value_counts()"
   ]
  },
  {
   "cell_type": "code",
   "execution_count": 7,
   "metadata": {},
   "outputs": [],
   "source": [
    "import keras_addon\n",
    "reload(keras_addon)\n",
    "from keras_addon import ImageFrameGenerator"
   ]
  },
  {
   "cell_type": "code",
   "execution_count": 8,
   "metadata": {},
   "outputs": [],
   "source": [
    "gen = ImageFrameGenerator()"
   ]
  },
  {
   "cell_type": "code",
   "execution_count": 9,
   "metadata": {},
   "outputs": [
    {
     "name": "stdout",
     "output_type": "stream",
     "text": [
      "Found 3474 images in the directory.\n",
      "Using 2779 images to generate mini-batches.\n"
     ]
    }
   ],
   "source": [
    "trn_gen = gen.flow_from_frame(path+'ndarray/', trn_df, 'filename', ['CD_Active_AnyLocation', 'Fistula_Any', 'Abscess_any'], \n",
    "                             target_size=(256, 256, 192), color_mode='3d', batch_size=batch_size*G)"
   ]
  },
  {
   "cell_type": "code",
   "execution_count": 10,
   "metadata": {
    "scrolled": true
   },
   "outputs": [
    {
     "name": "stdout",
     "output_type": "stream",
     "text": [
      "Found 3474 images in the directory.\n",
      "Using 695 images to generate mini-batches.\n"
     ]
    }
   ],
   "source": [
    "tst_gen = gen.flow_from_frame(path+'ndarray/', tst_df, 'filename', ['CD_Active_AnyLocation', 'Fistula_Any', 'Abscess_any'], \n",
    "                             target_size=(256, 256, 192), color_mode='3d', batch_size=batch_size*G)"
   ]
  },
  {
   "cell_type": "markdown",
   "metadata": {},
   "source": [
    "## Model Building"
   ]
  },
  {
   "cell_type": "code",
   "execution_count": 11,
   "metadata": {},
   "outputs": [],
   "source": [
    "from dense3dnet import Dense3DNet"
   ]
  },
  {
   "cell_type": "code",
   "execution_count": 12,
   "metadata": {},
   "outputs": [],
   "source": [
    "blocks = [6, 12, 24, 16]"
   ]
  },
  {
   "cell_type": "code",
   "execution_count": 13,
   "metadata": {},
   "outputs": [],
   "source": [
    "model = Dense3DNet(blocks, growth_rate=12)"
   ]
  },
  {
   "cell_type": "code",
   "execution_count": 14,
   "metadata": {},
   "outputs": [],
   "source": [
    "with tf.device('/cpu:0'):\n",
    "    base_model = Dense3DNet(blocks, pooling='avg')\n",
    "\n",
    "    x = base_model.output\n",
    "    output_CD = Dense(1, activation='sigmoid', name='CD_Active_AnyLocation')(x)\n",
    "    output_fist = Dense(1, activation='sigmoid', name='Fistula_Any')(x)\n",
    "    output_absc = Dense(1, activation='sigmoid', name='Abscess_any')(x)\n",
    "\n",
    "    model = Model(inputs=base_model.input, outputs=[output_CD, output_fist, output_absc])"
   ]
  },
  {
   "cell_type": "code",
   "execution_count": 15,
   "metadata": {},
   "outputs": [],
   "source": [
    "parallel_model = multi_gpu_model(model, gpus=G)\n",
    "parallel_model.compile(optimizer='adam', loss={'CD_Active_AnyLocation':'binary_crossentropy', 'Fistula_Any':'binary_crossentropy', \n",
    "                                     'Abscess_any':'binary_crossentropy'}, metrics=['accuracy'], \n",
    "             loss_weights={'CD_Active_AnyLocation':0.4, 'Fistula_Any':0.3, 'Abscess_any':0.3})"
   ]
  },
  {
   "cell_type": "code",
   "execution_count": null,
   "metadata": {},
   "outputs": [
    {
     "name": "stdout",
     "output_type": "stream",
     "text": [
      "Epoch 1/3\n",
      "568/694 [=======================>......] - ETA: 4:17 - loss: 0.4663 - CD_Active_AnyLocation_loss: 0.6707 - Fistula_Any_loss: 0.4229 - Abscess_any_loss: 0.2371 - CD_Active_AnyLocation_acc: 0.6083 - Fistula_Any_acc: 0.8614 - Abscess_any_acc: 0.9481"
     ]
    }
   ],
   "source": [
    "hist = parallel_model.fit_generator(trn_gen, steps_per_epoch=trn_gen.n // (batch_size*G), epochs=3, validation_data=tst_gen, \n",
    "                    validation_steps=tst_gen.n // (batch_size*G))"
   ]
  }
 ],
 "metadata": {
  "kernelspec": {
   "display_name": "Python 3",
   "language": "python",
   "name": "python3"
  },
  "language_info": {
   "codemirror_mode": {
    "name": "ipython",
    "version": 3
   },
   "file_extension": ".py",
   "mimetype": "text/x-python",
   "name": "python",
   "nbconvert_exporter": "python",
   "pygments_lexer": "ipython3",
   "version": "3.5.4"
  }
 },
 "nbformat": 4,
 "nbformat_minor": 2
}
