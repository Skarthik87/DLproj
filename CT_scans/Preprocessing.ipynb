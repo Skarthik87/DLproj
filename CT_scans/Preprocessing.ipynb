{
 "cells": [
  {
   "cell_type": "markdown",
   "metadata": {},
   "source": [
    "# Preprocessing of the CT Scan Data"
   ]
  },
  {
   "cell_type": "code",
   "execution_count": 1,
   "metadata": {},
   "outputs": [],
   "source": [
    "from importlib import reload\n",
    "import utils3d\n",
    "reload(utils3d)\n",
    "from utils3d import *\n",
    "import pandas as pd\n",
    "import matplotlib.pyplot as plt\n",
    "import scipy.io as sio"
   ]
  },
  {
   "cell_type": "markdown",
   "metadata": {},
   "source": [
    "## Details of one scan"
   ]
  },
  {
   "cell_type": "code",
   "execution_count": 2,
   "metadata": {},
   "outputs": [],
   "source": [
    "path = '/nfs/turbo/intmed-bnallamo-turbo/wsliu/Data/CT_scans/'"
   ]
  },
  {
   "cell_type": "code",
   "execution_count": 27,
   "metadata": {},
   "outputs": [],
   "source": [
    "raw_folder, array_lst, etc_files = next(os.walk(path+'raw2'))\n",
    "array_lst.sort()"
   ]
  },
  {
   "cell_type": "code",
   "execution_count": 28,
   "metadata": {},
   "outputs": [
    {
     "data": {
      "text/plain": [
       "0"
      ]
     },
     "execution_count": 28,
     "metadata": {},
     "output_type": "execute_result"
    }
   ],
   "source": [
    "len(etc_files)"
   ]
  },
  {
   "cell_type": "code",
   "execution_count": 8,
   "metadata": {},
   "outputs": [
    {
     "data": {
      "text/plain": [
       "['s91220.npy', 's96012.npy', 's96056.npy', 's96045.npy', 's91343.npy']"
      ]
     },
     "execution_count": 8,
     "metadata": {},
     "output_type": "execute_result"
    }
   ],
   "source": [
    "etc_files[:5]"
   ]
  },
  {
   "cell_type": "code",
   "execution_count": 9,
   "metadata": {},
   "outputs": [
    {
     "data": {
      "text/plain": [
       "['s11418', 's13564', 's14226', 's21018', 's21802']"
      ]
     },
     "execution_count": 9,
     "metadata": {},
     "output_type": "execute_result"
    }
   ],
   "source": [
    "scan_lst[:5]"
   ]
  },
  {
   "cell_type": "code",
   "execution_count": 10,
   "metadata": {},
   "outputs": [
    {
     "data": {
      "text/plain": [
       "['s11418', 's94214', 's95108']"
      ]
     },
     "execution_count": 10,
     "metadata": {},
     "output_type": "execute_result"
    }
   ],
   "source": [
    "[n for n in scan_lst if n+'.npy' not in etc_files]"
   ]
  },
  {
   "cell_type": "code",
   "execution_count": 4,
   "metadata": {},
   "outputs": [],
   "source": [
    "mat_lst = []\n",
    "for f in scan_lst:\n",
    "    if not f[:2] == 's9':\n",
    "        mat_lst.append(f)"
   ]
  },
  {
   "cell_type": "code",
   "execution_count": 5,
   "metadata": {},
   "outputs": [],
   "source": [
    "mat_lst.remove('s89457')"
   ]
  },
  {
   "cell_type": "code",
   "execution_count": 9,
   "metadata": {},
   "outputs": [],
   "source": [
    "mat_lst.remove('s11418')"
   ]
  },
  {
   "cell_type": "code",
   "execution_count": 29,
   "metadata": {},
   "outputs": [],
   "source": [
    "scan = 's94214'"
   ]
  },
  {
   "cell_type": "code",
   "execution_count": 6,
   "metadata": {
    "collapsed": true
   },
   "outputs": [
    {
     "ename": "KeyboardInterrupt",
     "evalue": "",
     "output_type": "error",
     "traceback": [
      "\u001b[0;31m---------------------------------------------------------------------------\u001b[0m",
      "\u001b[0;31mKeyboardInterrupt\u001b[0m                         Traceback (most recent call last)",
      "\u001b[0;32m<ipython-input-6-51e09cdd727c>\u001b[0m in \u001b[0;36m<module>\u001b[0;34m()\u001b[0m\n\u001b[1;32m      3\u001b[0m     \u001b[0;32mtry\u001b[0m\u001b[0;34m:\u001b[0m\u001b[0;34m\u001b[0m\u001b[0m\n\u001b[1;32m      4\u001b[0m         \u001b[0mscan_path\u001b[0m \u001b[0;34m=\u001b[0m \u001b[0mos\u001b[0m\u001b[0;34m.\u001b[0m\u001b[0mpath\u001b[0m\u001b[0;34m.\u001b[0m\u001b[0mjoin\u001b[0m\u001b[0;34m(\u001b[0m\u001b[0mraw_folder\u001b[0m\u001b[0;34m,\u001b[0m \u001b[0mf\u001b[0m\u001b[0;34m)\u001b[0m\u001b[0;34m\u001b[0m\u001b[0m\n\u001b[0;32m----> 5\u001b[0;31m         \u001b[0mmat\u001b[0m \u001b[0;34m=\u001b[0m \u001b[0msio\u001b[0m\u001b[0;34m.\u001b[0m\u001b[0mloadmat\u001b[0m\u001b[0;34m(\u001b[0m\u001b[0mos\u001b[0m\u001b[0;34m.\u001b[0m\u001b[0mpath\u001b[0m\u001b[0;34m.\u001b[0m\u001b[0mjoin\u001b[0m\u001b[0;34m(\u001b[0m\u001b[0mscan_path\u001b[0m\u001b[0;34m,\u001b[0m \u001b[0;34m'VOX.mat'\u001b[0m\u001b[0;34m)\u001b[0m\u001b[0;34m)\u001b[0m\u001b[0;34m\u001b[0m\u001b[0m\n\u001b[0m\u001b[1;32m      6\u001b[0m     \u001b[0;32mexcept\u001b[0m \u001b[0mValueError\u001b[0m\u001b[0;34m:\u001b[0m\u001b[0;34m\u001b[0m\u001b[0m\n\u001b[1;32m      7\u001b[0m         \u001b[0mfail_lst\u001b[0m\u001b[0;34m.\u001b[0m\u001b[0mappend\u001b[0m\u001b[0;34m(\u001b[0m\u001b[0mf\u001b[0m\u001b[0;34m)\u001b[0m\u001b[0;34m\u001b[0m\u001b[0m\n",
      "\u001b[0;32m/sw/lsa/centos7/python-anaconda-arc-connect/created-20170421/lib/python3.5/site-packages/scipy/io/matlab/mio.py\u001b[0m in \u001b[0;36mloadmat\u001b[0;34m(file_name, mdict, appendmat, **kwargs)\u001b[0m\n\u001b[1;32m    140\u001b[0m     \u001b[0mvariable_names\u001b[0m \u001b[0;34m=\u001b[0m \u001b[0mkwargs\u001b[0m\u001b[0;34m.\u001b[0m\u001b[0mpop\u001b[0m\u001b[0;34m(\u001b[0m\u001b[0;34m'variable_names'\u001b[0m\u001b[0;34m,\u001b[0m \u001b[0;32mNone\u001b[0m\u001b[0;34m)\u001b[0m\u001b[0;34m\u001b[0m\u001b[0m\n\u001b[1;32m    141\u001b[0m     \u001b[0mMR\u001b[0m\u001b[0;34m,\u001b[0m \u001b[0mfile_opened\u001b[0m \u001b[0;34m=\u001b[0m \u001b[0mmat_reader_factory\u001b[0m\u001b[0;34m(\u001b[0m\u001b[0mfile_name\u001b[0m\u001b[0;34m,\u001b[0m \u001b[0mappendmat\u001b[0m\u001b[0;34m,\u001b[0m \u001b[0;34m**\u001b[0m\u001b[0mkwargs\u001b[0m\u001b[0;34m)\u001b[0m\u001b[0;34m\u001b[0m\u001b[0m\n\u001b[0;32m--> 142\u001b[0;31m     \u001b[0mmatfile_dict\u001b[0m \u001b[0;34m=\u001b[0m \u001b[0mMR\u001b[0m\u001b[0;34m.\u001b[0m\u001b[0mget_variables\u001b[0m\u001b[0;34m(\u001b[0m\u001b[0mvariable_names\u001b[0m\u001b[0;34m)\u001b[0m\u001b[0;34m\u001b[0m\u001b[0m\n\u001b[0m\u001b[1;32m    143\u001b[0m     \u001b[0;32mif\u001b[0m \u001b[0mmdict\u001b[0m \u001b[0;32mis\u001b[0m \u001b[0;32mnot\u001b[0m \u001b[0;32mNone\u001b[0m\u001b[0;34m:\u001b[0m\u001b[0;34m\u001b[0m\u001b[0m\n\u001b[1;32m    144\u001b[0m         \u001b[0mmdict\u001b[0m\u001b[0;34m.\u001b[0m\u001b[0mupdate\u001b[0m\u001b[0;34m(\u001b[0m\u001b[0mmatfile_dict\u001b[0m\u001b[0;34m)\u001b[0m\u001b[0;34m\u001b[0m\u001b[0m\n",
      "\u001b[0;32m/sw/lsa/centos7/python-anaconda-arc-connect/created-20170421/lib/python3.5/site-packages/scipy/io/matlab/mio5.py\u001b[0m in \u001b[0;36mget_variables\u001b[0;34m(self, variable_names)\u001b[0m\n\u001b[1;32m    290\u001b[0m                 \u001b[0;32mcontinue\u001b[0m\u001b[0;34m\u001b[0m\u001b[0m\n\u001b[1;32m    291\u001b[0m             \u001b[0;32mtry\u001b[0m\u001b[0;34m:\u001b[0m\u001b[0;34m\u001b[0m\u001b[0m\n\u001b[0;32m--> 292\u001b[0;31m                 \u001b[0mres\u001b[0m \u001b[0;34m=\u001b[0m \u001b[0mself\u001b[0m\u001b[0;34m.\u001b[0m\u001b[0mread_var_array\u001b[0m\u001b[0;34m(\u001b[0m\u001b[0mhdr\u001b[0m\u001b[0;34m,\u001b[0m \u001b[0mprocess\u001b[0m\u001b[0;34m)\u001b[0m\u001b[0;34m\u001b[0m\u001b[0m\n\u001b[0m\u001b[1;32m    293\u001b[0m             \u001b[0;32mexcept\u001b[0m \u001b[0mMatReadError\u001b[0m \u001b[0;32mas\u001b[0m \u001b[0merr\u001b[0m\u001b[0;34m:\u001b[0m\u001b[0;34m\u001b[0m\u001b[0m\n\u001b[1;32m    294\u001b[0m                 warnings.warn(\n",
      "\u001b[0;32m/sw/lsa/centos7/python-anaconda-arc-connect/created-20170421/lib/python3.5/site-packages/scipy/io/matlab/mio5.py\u001b[0m in \u001b[0;36mread_var_array\u001b[0;34m(self, header, process)\u001b[0m\n\u001b[1;32m    250\u001b[0m            \u001b[0;31m`\u001b[0m\u001b[0mprocess\u001b[0m\u001b[0;31m`\u001b[0m\u001b[0;34m.\u001b[0m\u001b[0;34m\u001b[0m\u001b[0m\n\u001b[1;32m    251\u001b[0m         '''\n\u001b[0;32m--> 252\u001b[0;31m         \u001b[0;32mreturn\u001b[0m \u001b[0mself\u001b[0m\u001b[0;34m.\u001b[0m\u001b[0m_matrix_reader\u001b[0m\u001b[0;34m.\u001b[0m\u001b[0marray_from_header\u001b[0m\u001b[0;34m(\u001b[0m\u001b[0mheader\u001b[0m\u001b[0;34m,\u001b[0m \u001b[0mprocess\u001b[0m\u001b[0;34m)\u001b[0m\u001b[0;34m\u001b[0m\u001b[0m\n\u001b[0m\u001b[1;32m    253\u001b[0m \u001b[0;34m\u001b[0m\u001b[0m\n\u001b[1;32m    254\u001b[0m     \u001b[0;32mdef\u001b[0m \u001b[0mget_variables\u001b[0m\u001b[0;34m(\u001b[0m\u001b[0mself\u001b[0m\u001b[0;34m,\u001b[0m \u001b[0mvariable_names\u001b[0m\u001b[0;34m=\u001b[0m\u001b[0;32mNone\u001b[0m\u001b[0;34m)\u001b[0m\u001b[0;34m:\u001b[0m\u001b[0;34m\u001b[0m\u001b[0m\n",
      "\u001b[0;31mKeyboardInterrupt\u001b[0m: "
     ]
    }
   ],
   "source": [
    "fail_lst = []\n",
    "for f in mat_lst:\n",
    "    try:\n",
    "        scan_path = os.path.join(raw_folder, f)\n",
    "        mat = sio.loadmat(os.path.join(scan_path, 'VOX.mat'))\n",
    "    except ValueError:\n",
    "        fail_lst.append(f)"
   ]
  },
  {
   "cell_type": "code",
   "execution_count": 38,
   "metadata": {},
   "outputs": [
    {
     "data": {
      "text/plain": [
       "['s11418']"
      ]
     },
     "execution_count": 38,
     "metadata": {},
     "output_type": "execute_result"
    }
   ],
   "source": [
    "fail_lst"
   ]
  },
  {
   "cell_type": "code",
   "execution_count": 30,
   "metadata": {},
   "outputs": [],
   "source": [
    "scan_path = os.path.join(raw_folder, scan)"
   ]
  },
  {
   "cell_type": "code",
   "execution_count": 17,
   "metadata": {},
   "outputs": [],
   "source": [
    "ndarray = dcm_to_ndarray(scan_path, target_size=(256, 256, 192))"
   ]
  },
  {
   "cell_type": "code",
   "execution_count": 13,
   "metadata": {},
   "outputs": [],
   "source": [
    "ndarray = mat_to_ndarray(scan_path, target_size=(256, 256, 192))"
   ]
  },
  {
   "cell_type": "code",
   "execution_count": 41,
   "metadata": {},
   "outputs": [
    {
     "data": {
      "text/plain": [
       "'/nfs/turbo/intmed-bnallamo-turbo/wsliu/Data/CT_scans/raw2/s4134/VOX.mat'"
      ]
     },
     "execution_count": 41,
     "metadata": {},
     "output_type": "execute_result"
    }
   ],
   "source": [
    "os.path.join(scan_path, 'VOX.mat')"
   ]
  },
  {
   "cell_type": "code",
   "execution_count": 42,
   "metadata": {
    "scrolled": true
   },
   "outputs": [],
   "source": [
    "mat =  sio.loadmat(os.path.join(scan_path, 'VOX.mat'))"
   ]
  },
  {
   "cell_type": "code",
   "execution_count": 6,
   "metadata": {},
   "outputs": [],
   "source": [
    "meta = get_metadata(path+'raw/'+scan)"
   ]
  },
  {
   "cell_type": "code",
   "execution_count": 31,
   "metadata": {},
   "outputs": [],
   "source": [
    "file_lst = []  \n",
    "for dirName, subdirList, fileList in os.walk(scan_path):\n",
    "    for filename in fileList:\n",
    "        if \".dcm\" in filename.lower():  \n",
    "            file_lst.append(os.path.join(dirName,filename))"
   ]
  },
  {
   "cell_type": "code",
   "execution_count": 22,
   "metadata": {},
   "outputs": [],
   "source": [
    "for f in file_lst[:]:\n",
    "    dcm = dicom.read_file(f)\n",
    "    if dcm.Rows>520 or dcm.Rows<504 or dcm.Columns>520 or dcm.Columns<504:\n",
    "        file_lst.remove(f)"
   ]
  },
  {
   "cell_type": "code",
   "execution_count": 22,
   "metadata": {},
   "outputs": [],
   "source": [
    "rows = []\n",
    "for f in file_lst:\n",
    "    dcm = dicom.read_file(f)\n",
    "    rows.append(dcm.Rows)"
   ]
  },
  {
   "cell_type": "code",
   "execution_count": 32,
   "metadata": {},
   "outputs": [],
   "source": [
    "file_lst.sort()"
   ]
  },
  {
   "cell_type": "code",
   "execution_count": 33,
   "metadata": {},
   "outputs": [
    {
     "data": {
      "text/plain": [
       "[]"
      ]
     },
     "execution_count": 33,
     "metadata": {},
     "output_type": "execute_result"
    }
   ],
   "source": [
    "file_lst[:5]"
   ]
  },
  {
   "cell_type": "code",
   "execution_count": 14,
   "metadata": {},
   "outputs": [],
   "source": [
    "dcm1 = dicom.read_file(file_lst[0])"
   ]
  },
  {
   "cell_type": "code",
   "execution_count": 17,
   "metadata": {},
   "outputs": [
    {
     "data": {
      "text/plain": [
       "(603, 603, ['0.546875', '0.546875'], \"2.5\")"
      ]
     },
     "execution_count": 17,
     "metadata": {},
     "output_type": "execute_result"
    }
   ],
   "source": [
    "dcm1.Rows, dcm1.Columns, dcm1.PixelSpacing, dcm1.SliceThickness"
   ]
  },
  {
   "cell_type": "code",
   "execution_count": 7,
   "metadata": {},
   "outputs": [
    {
     "data": {
      "text/plain": [
       "{'x_dim': 512,\n",
       " 'x_spacing': 0.703125,\n",
       " 'y_dim': 512,\n",
       " 'y_spacing': 0.703125,\n",
       " 'z_dim': 127,\n",
       " 'z_spacing': 5.0}"
      ]
     },
     "execution_count": 7,
     "metadata": {},
     "output_type": "execute_result"
    }
   ],
   "source": [
    "meta"
   ]
  },
  {
   "cell_type": "markdown",
   "metadata": {},
   "source": [
    "## Batch preprocessing"
   ]
  },
  {
   "cell_type": "code",
   "execution_count": 3,
   "metadata": {},
   "outputs": [],
   "source": [
    "%matplotlib inline"
   ]
  },
  {
   "cell_type": "code",
   "execution_count": 44,
   "metadata": {},
   "outputs": [],
   "source": [
    "path = '/nfs/turbo/intmed-bnallamo-turbo/wsliu/Data/CT_scans/'"
   ]
  },
  {
   "cell_type": "code",
   "execution_count": 45,
   "metadata": {},
   "outputs": [],
   "source": [
    "raw_folder, scan_lst, etc_files = next(os.walk(path+'raw2'))"
   ]
  },
  {
   "cell_type": "code",
   "execution_count": 46,
   "metadata": {},
   "outputs": [],
   "source": [
    "scan_lst.sort()"
   ]
  },
  {
   "cell_type": "code",
   "execution_count": 47,
   "metadata": {},
   "outputs": [
    {
     "data": {
      "text/plain": [
       "1272"
      ]
     },
     "execution_count": 47,
     "metadata": {},
     "output_type": "execute_result"
    }
   ],
   "source": [
    "len(scan_lst)"
   ]
  },
  {
   "cell_type": "code",
   "execution_count": 37,
   "metadata": {},
   "outputs": [
    {
     "data": {
      "text/plain": [
       "811"
      ]
     },
     "execution_count": 37,
     "metadata": {},
     "output_type": "execute_result"
    }
   ],
   "source": [
    "scan_lst.index('s88725')"
   ]
  },
  {
   "cell_type": "code",
   "execution_count": 21,
   "metadata": {},
   "outputs": [],
   "source": [
    "scan_lst = scan_lst[:20]"
   ]
  },
  {
   "cell_type": "code",
   "execution_count": 48,
   "metadata": {},
   "outputs": [
    {
     "data": {
      "text/plain": [
       "'s11418'"
      ]
     },
     "execution_count": 48,
     "metadata": {},
     "output_type": "execute_result"
    }
   ],
   "source": [
    "scan_lst[0]"
   ]
  },
  {
   "cell_type": "code",
   "execution_count": 22,
   "metadata": {},
   "outputs": [],
   "source": [
    "x_spacing = []\n",
    "y_spacing = []\n",
    "z_spacing = []\n",
    "x_dim = []\n",
    "y_dim = []\n",
    "z_dim = []\n",
    "extra_dim = []\n",
    "for scan in scan_lst:\n",
    "    scan_path = os.path.join(raw_folder, scan)\n",
    "    meta = get_metadata(scan_path)\n",
    "    x_spacing.append(meta['x_spacing'])\n",
    "    y_spacing.append(meta['y_spacing'])\n",
    "    z_spacing.append(meta['z_spacing'])\n",
    "    x_dim.append(meta['x_dim'])\n",
    "    y_dim.append(meta['y_dim'])\n",
    "    z_dim.append(meta['z_dim'])\n",
    "    extra_dim.append(meta['extra_dim'])"
   ]
  },
  {
   "cell_type": "code",
   "execution_count": 18,
   "metadata": {
    "collapsed": true
   },
   "outputs": [
    {
     "name": "stdout",
     "output_type": "stream",
     "text": [
      "s13564\n",
      "s14226\n",
      "s21018\n",
      "s21802\n",
      "s22079\n",
      "s22322\n",
      "s22897\n",
      "s23390\n"
     ]
    },
    {
     "name": "stderr",
     "output_type": "stream",
     "text": [
      "/sw/lsa/centos7/python-anaconda-arc-connect/created-20170421/lib/python3.5/site-packages/scipy/ndimage/interpolation.py:616: UserWarning: From scipy 0.13.0, the output shape of zoom() is calculated with round() instead of int() - for these inputs the size of the returned array has changed.\n",
      "  \"the returned array has changed.\", UserWarning)\n"
     ]
    },
    {
     "name": "stdout",
     "output_type": "stream",
     "text": [
      "s23425\n",
      "s25508\n",
      "s25795\n",
      "s25812\n",
      "s25818\n",
      "s25828\n",
      "s25902\n",
      "s26571\n",
      "s26651\n",
      "s26670\n",
      "s26730\n",
      "s27008\n",
      "s27310\n",
      "s28642\n",
      "s28662\n",
      "s29522\n",
      "s29567\n",
      "s29654\n",
      "s30666\n",
      "s30668\n",
      "s31360\n",
      "s31474\n",
      "s31851\n",
      "s32190\n",
      "s32296\n",
      "s32745\n",
      "s33037\n",
      "s33090\n",
      "s33313\n",
      "s33328\n",
      "s33332\n",
      "s34027\n",
      "s34038\n",
      "s34263\n",
      "s34565\n",
      "s34653\n",
      "s3939\n",
      "s4134\n",
      "s42243\n",
      "s4558\n",
      "s4590\n",
      "s4638\n",
      "s46470\n",
      "s4737\n",
      "s4765\n",
      "s4781\n",
      "s4798\n",
      "s4829\n",
      "s4935\n",
      "s4996\n",
      "s5043\n",
      "s62225\n",
      "s62681\n",
      "s68098\n",
      "s68109\n",
      "s68404\n",
      "s68418\n",
      "s68597\n",
      "s68975\n",
      "s69259\n",
      "s69307\n",
      "s69393\n",
      "s70287\n",
      "s70848\n",
      "s70857\n",
      "s70884\n",
      "s70905\n",
      "s70918\n",
      "s70929\n",
      "s70931\n",
      "s70932\n",
      "s71097\n",
      "s89487\n",
      "s89858\n"
     ]
    }
   ],
   "source": [
    "for scan in mat_lst:\n",
    "    print(scan)\n",
    "    scan_path = os.path.join(raw_folder, scan)\n",
    "    ndarray = mat_to_ndarray(scan_path, target_size=(256, 256, 192))\n",
    "    np.save(path+'ndarray2/'+scan+'.npy', ndarray)"
   ]
  },
  {
   "cell_type": "code",
   "execution_count": 23,
   "metadata": {},
   "outputs": [],
   "source": [
    "meta_df = pd.DataFrame(dict(ID=scan_lst, x_spacing=x_spacing, y_spacing=y_spacing, z_spacing=z_spacing, x_dim=x_dim, \n",
    "                            y_dim=y_dim, z_dim=z_dim, extra_dim=extra_dim))"
   ]
  },
  {
   "cell_type": "code",
   "execution_count": 24,
   "metadata": {
    "collapsed": true
   },
   "outputs": [
    {
     "data": {
      "text/html": [
       "<div>\n",
       "<style scoped>\n",
       "    .dataframe tbody tr th:only-of-type {\n",
       "        vertical-align: middle;\n",
       "    }\n",
       "\n",
       "    .dataframe tbody tr th {\n",
       "        vertical-align: top;\n",
       "    }\n",
       "\n",
       "    .dataframe thead th {\n",
       "        text-align: right;\n",
       "    }\n",
       "</style>\n",
       "<table border=\"1\" class=\"dataframe\">\n",
       "  <thead>\n",
       "    <tr style=\"text-align: right;\">\n",
       "      <th></th>\n",
       "      <th>ID</th>\n",
       "      <th>extra_dim</th>\n",
       "      <th>x_dim</th>\n",
       "      <th>x_spacing</th>\n",
       "      <th>y_dim</th>\n",
       "      <th>y_spacing</th>\n",
       "      <th>z_dim</th>\n",
       "      <th>z_spacing</th>\n",
       "    </tr>\n",
       "  </thead>\n",
       "  <tbody>\n",
       "    <tr>\n",
       "      <th>0</th>\n",
       "      <td>s17313</td>\n",
       "      <td>False</td>\n",
       "      <td>512</td>\n",
       "      <td>0.703125</td>\n",
       "      <td>512</td>\n",
       "      <td>0.703125</td>\n",
       "      <td>191</td>\n",
       "      <td>2.500</td>\n",
       "    </tr>\n",
       "    <tr>\n",
       "      <th>1</th>\n",
       "      <td>s19382</td>\n",
       "      <td>False</td>\n",
       "      <td>512</td>\n",
       "      <td>0.664062</td>\n",
       "      <td>512</td>\n",
       "      <td>0.664062</td>\n",
       "      <td>421</td>\n",
       "      <td>1.250</td>\n",
       "    </tr>\n",
       "    <tr>\n",
       "      <th>2</th>\n",
       "      <td>s25054</td>\n",
       "      <td>False</td>\n",
       "      <td>512</td>\n",
       "      <td>0.664062</td>\n",
       "      <td>512</td>\n",
       "      <td>0.664062</td>\n",
       "      <td>173</td>\n",
       "      <td>2.500</td>\n",
       "    </tr>\n",
       "    <tr>\n",
       "      <th>3</th>\n",
       "      <td>s25080</td>\n",
       "      <td>False</td>\n",
       "      <td>512</td>\n",
       "      <td>0.742188</td>\n",
       "      <td>512</td>\n",
       "      <td>0.742188</td>\n",
       "      <td>180</td>\n",
       "      <td>2.500</td>\n",
       "    </tr>\n",
       "    <tr>\n",
       "      <th>4</th>\n",
       "      <td>s25223</td>\n",
       "      <td>False</td>\n",
       "      <td>512</td>\n",
       "      <td>0.742188</td>\n",
       "      <td>512</td>\n",
       "      <td>0.742188</td>\n",
       "      <td>863</td>\n",
       "      <td>0.625</td>\n",
       "    </tr>\n",
       "    <tr>\n",
       "      <th>5</th>\n",
       "      <td>s25426</td>\n",
       "      <td>False</td>\n",
       "      <td>512</td>\n",
       "      <td>0.683594</td>\n",
       "      <td>512</td>\n",
       "      <td>0.683594</td>\n",
       "      <td>739</td>\n",
       "      <td>0.625</td>\n",
       "    </tr>\n",
       "    <tr>\n",
       "      <th>6</th>\n",
       "      <td>s26218</td>\n",
       "      <td>False</td>\n",
       "      <td>512</td>\n",
       "      <td>0.781250</td>\n",
       "      <td>512</td>\n",
       "      <td>0.781250</td>\n",
       "      <td>796</td>\n",
       "      <td>0.625</td>\n",
       "    </tr>\n",
       "    <tr>\n",
       "      <th>7</th>\n",
       "      <td>s26696</td>\n",
       "      <td>False</td>\n",
       "      <td>512</td>\n",
       "      <td>0.625000</td>\n",
       "      <td>512</td>\n",
       "      <td>0.625000</td>\n",
       "      <td>800</td>\n",
       "      <td>0.625</td>\n",
       "    </tr>\n",
       "    <tr>\n",
       "      <th>8</th>\n",
       "      <td>s26984</td>\n",
       "      <td>False</td>\n",
       "      <td>512</td>\n",
       "      <td>0.703125</td>\n",
       "      <td>512</td>\n",
       "      <td>0.703125</td>\n",
       "      <td>85</td>\n",
       "      <td>5.000</td>\n",
       "    </tr>\n",
       "    <tr>\n",
       "      <th>9</th>\n",
       "      <td>s27029</td>\n",
       "      <td>False</td>\n",
       "      <td>512</td>\n",
       "      <td>0.781250</td>\n",
       "      <td>512</td>\n",
       "      <td>0.781250</td>\n",
       "      <td>785</td>\n",
       "      <td>0.625</td>\n",
       "    </tr>\n",
       "    <tr>\n",
       "      <th>10</th>\n",
       "      <td>s27112</td>\n",
       "      <td>False</td>\n",
       "      <td>512</td>\n",
       "      <td>0.703125</td>\n",
       "      <td>512</td>\n",
       "      <td>0.703125</td>\n",
       "      <td>816</td>\n",
       "      <td>0.625</td>\n",
       "    </tr>\n",
       "    <tr>\n",
       "      <th>11</th>\n",
       "      <td>s27717</td>\n",
       "      <td>False</td>\n",
       "      <td>512</td>\n",
       "      <td>0.703125</td>\n",
       "      <td>512</td>\n",
       "      <td>0.703125</td>\n",
       "      <td>550</td>\n",
       "      <td>1.250</td>\n",
       "    </tr>\n",
       "    <tr>\n",
       "      <th>12</th>\n",
       "      <td>s27807</td>\n",
       "      <td>False</td>\n",
       "      <td>512</td>\n",
       "      <td>0.625000</td>\n",
       "      <td>512</td>\n",
       "      <td>0.625000</td>\n",
       "      <td>688</td>\n",
       "      <td>1.250</td>\n",
       "    </tr>\n",
       "    <tr>\n",
       "      <th>13</th>\n",
       "      <td>s27964</td>\n",
       "      <td>False</td>\n",
       "      <td>512</td>\n",
       "      <td>0.859375</td>\n",
       "      <td>512</td>\n",
       "      <td>0.859375</td>\n",
       "      <td>805</td>\n",
       "      <td>0.625</td>\n",
       "    </tr>\n",
       "    <tr>\n",
       "      <th>14</th>\n",
       "      <td>s28010</td>\n",
       "      <td>False</td>\n",
       "      <td>512</td>\n",
       "      <td>0.781250</td>\n",
       "      <td>512</td>\n",
       "      <td>0.781250</td>\n",
       "      <td>752</td>\n",
       "      <td>0.625</td>\n",
       "    </tr>\n",
       "    <tr>\n",
       "      <th>15</th>\n",
       "      <td>s28635</td>\n",
       "      <td>False</td>\n",
       "      <td>512</td>\n",
       "      <td>0.664062</td>\n",
       "      <td>512</td>\n",
       "      <td>0.664062</td>\n",
       "      <td>720</td>\n",
       "      <td>0.625</td>\n",
       "    </tr>\n",
       "    <tr>\n",
       "      <th>16</th>\n",
       "      <td>s28656</td>\n",
       "      <td>False</td>\n",
       "      <td>512</td>\n",
       "      <td>0.664062</td>\n",
       "      <td>512</td>\n",
       "      <td>0.664062</td>\n",
       "      <td>754</td>\n",
       "      <td>0.625</td>\n",
       "    </tr>\n",
       "    <tr>\n",
       "      <th>17</th>\n",
       "      <td>s28719</td>\n",
       "      <td>False</td>\n",
       "      <td>512</td>\n",
       "      <td>0.625000</td>\n",
       "      <td>512</td>\n",
       "      <td>0.625000</td>\n",
       "      <td>707</td>\n",
       "      <td>0.625</td>\n",
       "    </tr>\n",
       "    <tr>\n",
       "      <th>18</th>\n",
       "      <td>s29418</td>\n",
       "      <td>False</td>\n",
       "      <td>512</td>\n",
       "      <td>0.703125</td>\n",
       "      <td>512</td>\n",
       "      <td>0.703125</td>\n",
       "      <td>516</td>\n",
       "      <td>0.625</td>\n",
       "    </tr>\n",
       "    <tr>\n",
       "      <th>19</th>\n",
       "      <td>s29562</td>\n",
       "      <td>False</td>\n",
       "      <td>512</td>\n",
       "      <td>0.703125</td>\n",
       "      <td>512</td>\n",
       "      <td>0.703125</td>\n",
       "      <td>789</td>\n",
       "      <td>0.625</td>\n",
       "    </tr>\n",
       "  </tbody>\n",
       "</table>\n",
       "</div>"
      ],
      "text/plain": [
       "        ID  extra_dim  x_dim  x_spacing  y_dim  y_spacing  z_dim  z_spacing\n",
       "0   s17313      False    512   0.703125    512   0.703125    191      2.500\n",
       "1   s19382      False    512   0.664062    512   0.664062    421      1.250\n",
       "2   s25054      False    512   0.664062    512   0.664062    173      2.500\n",
       "3   s25080      False    512   0.742188    512   0.742188    180      2.500\n",
       "4   s25223      False    512   0.742188    512   0.742188    863      0.625\n",
       "5   s25426      False    512   0.683594    512   0.683594    739      0.625\n",
       "6   s26218      False    512   0.781250    512   0.781250    796      0.625\n",
       "7   s26696      False    512   0.625000    512   0.625000    800      0.625\n",
       "8   s26984      False    512   0.703125    512   0.703125     85      5.000\n",
       "9   s27029      False    512   0.781250    512   0.781250    785      0.625\n",
       "10  s27112      False    512   0.703125    512   0.703125    816      0.625\n",
       "11  s27717      False    512   0.703125    512   0.703125    550      1.250\n",
       "12  s27807      False    512   0.625000    512   0.625000    688      1.250\n",
       "13  s27964      False    512   0.859375    512   0.859375    805      0.625\n",
       "14  s28010      False    512   0.781250    512   0.781250    752      0.625\n",
       "15  s28635      False    512   0.664062    512   0.664062    720      0.625\n",
       "16  s28656      False    512   0.664062    512   0.664062    754      0.625\n",
       "17  s28719      False    512   0.625000    512   0.625000    707      0.625\n",
       "18  s29418      False    512   0.703125    512   0.703125    516      0.625\n",
       "19  s29562      False    512   0.703125    512   0.703125    789      0.625"
      ]
     },
     "execution_count": 24,
     "metadata": {},
     "output_type": "execute_result"
    }
   ],
   "source": [
    "meta_df"
   ]
  },
  {
   "cell_type": "code",
   "execution_count": 19,
   "metadata": {},
   "outputs": [],
   "source": [
    "meta_df.to_csv('output/meta_data.csv', index=False)"
   ]
  },
  {
   "cell_type": "code",
   "execution_count": 17,
   "metadata": {},
   "outputs": [],
   "source": [
    "meta_df = pd.read_csv('output/meta_data.csv')"
   ]
  },
  {
   "cell_type": "code",
   "execution_count": 15,
   "metadata": {},
   "outputs": [
    {
     "data": {
      "text/plain": [
       "(2205, 8)"
      ]
     },
     "execution_count": 15,
     "metadata": {},
     "output_type": "execute_result"
    }
   ],
   "source": [
    "meta_df.shape"
   ]
  },
  {
   "cell_type": "code",
   "execution_count": 12,
   "metadata": {},
   "outputs": [
    {
     "data": {
      "text/html": [
       "<div>\n",
       "<style scoped>\n",
       "    .dataframe tbody tr th:only-of-type {\n",
       "        vertical-align: middle;\n",
       "    }\n",
       "\n",
       "    .dataframe tbody tr th {\n",
       "        vertical-align: top;\n",
       "    }\n",
       "\n",
       "    .dataframe thead th {\n",
       "        text-align: right;\n",
       "    }\n",
       "</style>\n",
       "<table border=\"1\" class=\"dataframe\">\n",
       "  <thead>\n",
       "    <tr style=\"text-align: right;\">\n",
       "      <th></th>\n",
       "      <th>ID</th>\n",
       "      <th>extra_dim</th>\n",
       "      <th>x_dim</th>\n",
       "      <th>x_spacing</th>\n",
       "      <th>y_dim</th>\n",
       "      <th>y_spacing</th>\n",
       "      <th>z_dim</th>\n",
       "      <th>z_spacing</th>\n",
       "    </tr>\n",
       "  </thead>\n",
       "  <tbody>\n",
       "    <tr>\n",
       "      <th>0</th>\n",
       "      <td>s17313</td>\n",
       "      <td>False</td>\n",
       "      <td>512</td>\n",
       "      <td>0.703125</td>\n",
       "      <td>512</td>\n",
       "      <td>0.703125</td>\n",
       "      <td>191</td>\n",
       "      <td>2.500</td>\n",
       "    </tr>\n",
       "    <tr>\n",
       "      <th>1</th>\n",
       "      <td>s19382</td>\n",
       "      <td>False</td>\n",
       "      <td>512</td>\n",
       "      <td>0.664062</td>\n",
       "      <td>512</td>\n",
       "      <td>0.664062</td>\n",
       "      <td>421</td>\n",
       "      <td>1.250</td>\n",
       "    </tr>\n",
       "    <tr>\n",
       "      <th>2</th>\n",
       "      <td>s25054</td>\n",
       "      <td>False</td>\n",
       "      <td>512</td>\n",
       "      <td>0.664062</td>\n",
       "      <td>512</td>\n",
       "      <td>0.664062</td>\n",
       "      <td>173</td>\n",
       "      <td>2.500</td>\n",
       "    </tr>\n",
       "    <tr>\n",
       "      <th>3</th>\n",
       "      <td>s25080</td>\n",
       "      <td>False</td>\n",
       "      <td>512</td>\n",
       "      <td>0.742188</td>\n",
       "      <td>512</td>\n",
       "      <td>0.742188</td>\n",
       "      <td>180</td>\n",
       "      <td>2.500</td>\n",
       "    </tr>\n",
       "    <tr>\n",
       "      <th>4</th>\n",
       "      <td>s25223</td>\n",
       "      <td>False</td>\n",
       "      <td>512</td>\n",
       "      <td>0.742188</td>\n",
       "      <td>512</td>\n",
       "      <td>0.742188</td>\n",
       "      <td>863</td>\n",
       "      <td>0.625</td>\n",
       "    </tr>\n",
       "  </tbody>\n",
       "</table>\n",
       "</div>"
      ],
      "text/plain": [
       "       ID  extra_dim  x_dim  x_spacing  y_dim  y_spacing  z_dim  z_spacing\n",
       "0  s17313      False    512   0.703125    512   0.703125    191      2.500\n",
       "1  s19382      False    512   0.664062    512   0.664062    421      1.250\n",
       "2  s25054      False    512   0.664062    512   0.664062    173      2.500\n",
       "3  s25080      False    512   0.742188    512   0.742188    180      2.500\n",
       "4  s25223      False    512   0.742188    512   0.742188    863      0.625"
      ]
     },
     "execution_count": 12,
     "metadata": {},
     "output_type": "execute_result"
    }
   ],
   "source": [
    "meta_df.head()"
   ]
  },
  {
   "cell_type": "markdown",
   "metadata": {},
   "source": [
    "## Combining MetaData"
   ]
  },
  {
   "cell_type": "code",
   "execution_count": 51,
   "metadata": {},
   "outputs": [],
   "source": [
    "meta_dcm = pd.read_csv('./output/meta_dcm/meta_datadcm23.csv')"
   ]
  },
  {
   "cell_type": "code",
   "execution_count": 52,
   "metadata": {},
   "outputs": [],
   "source": [
    "meta_mat = pd.read_csv('./output/meta_mat/meta_data1.csv')"
   ]
  },
  {
   "cell_type": "code",
   "execution_count": 58,
   "metadata": {},
   "outputs": [],
   "source": [
    "meta1 = pd.read_csv('./output/meta_data.csv')"
   ]
  },
  {
   "cell_type": "code",
   "execution_count": 63,
   "metadata": {},
   "outputs": [],
   "source": [
    "meta_dcm = meta_dcm.drop(columns=['Unnamed: 0'])"
   ]
  },
  {
   "cell_type": "code",
   "execution_count": 66,
   "metadata": {},
   "outputs": [],
   "source": [
    "meta_mat = meta_mat.drop(columns=['Unnamed: 0'])"
   ]
  },
  {
   "cell_type": "code",
   "execution_count": 72,
   "metadata": {},
   "outputs": [],
   "source": [
    "meta = pd.concat([meta_dcm, meta_mat, meta1], ignore_index=True)"
   ]
  },
  {
   "cell_type": "code",
   "execution_count": 74,
   "metadata": {},
   "outputs": [],
   "source": [
    "ids = meta.ID.values"
   ]
  },
  {
   "cell_type": "code",
   "execution_count": 75,
   "metadata": {},
   "outputs": [
    {
     "data": {
      "text/plain": [
       "array(['s91122', 's91123', 's91124', ..., 's91119', 's91120', 's91121'], dtype=object)"
      ]
     },
     "execution_count": 75,
     "metadata": {},
     "output_type": "execute_result"
    }
   ],
   "source": [
    "ids"
   ]
  },
  {
   "cell_type": "code",
   "execution_count": 76,
   "metadata": {},
   "outputs": [],
   "source": [
    "f, sf, array_lst1 = next(os.walk(path+'ndarray'))"
   ]
  },
  {
   "cell_type": "code",
   "execution_count": 79,
   "metadata": {},
   "outputs": [],
   "source": [
    "f, sf, array_lst2 = next(os.walk(path+'ndarray2'))"
   ]
  },
  {
   "cell_type": "code",
   "execution_count": 81,
   "metadata": {},
   "outputs": [],
   "source": [
    "array_lst = array_lst1 + array_lst2"
   ]
  },
  {
   "cell_type": "code",
   "execution_count": 83,
   "metadata": {},
   "outputs": [],
   "source": [
    "id_lst = [os.path.splitext(s)[0] for s in array_lst]"
   ]
  },
  {
   "cell_type": "code",
   "execution_count": 85,
   "metadata": {},
   "outputs": [],
   "source": [
    "check = [n for n in ids if not n in id_lst]"
   ]
  },
  {
   "cell_type": "code",
   "execution_count": 88,
   "metadata": {},
   "outputs": [
    {
     "data": {
      "text/plain": [
       "(3474, 3474)"
      ]
     },
     "execution_count": 88,
     "metadata": {},
     "output_type": "execute_result"
    }
   ],
   "source": [
    "len(id_lst), len(ids)"
   ]
  },
  {
   "cell_type": "code",
   "execution_count": 89,
   "metadata": {},
   "outputs": [
    {
     "data": {
      "text/plain": [
       "[]"
      ]
     },
     "execution_count": 89,
     "metadata": {},
     "output_type": "execute_result"
    }
   ],
   "source": [
    "[n for n in array_lst if array_lst.count(n)>1]"
   ]
  },
  {
   "cell_type": "code",
   "execution_count": 90,
   "metadata": {},
   "outputs": [],
   "source": [
    "meta = meta.sort_values(by=['ID'])"
   ]
  },
  {
   "cell_type": "code",
   "execution_count": 91,
   "metadata": {},
   "outputs": [],
   "source": [
    "meta.to_csv('./output/meta_data.csv', index=False)"
   ]
  },
  {
   "cell_type": "code",
   "execution_count": 92,
   "metadata": {},
   "outputs": [
    {
     "data": {
      "text/plain": [
       "(3474, 8)"
      ]
     },
     "execution_count": 92,
     "metadata": {},
     "output_type": "execute_result"
    }
   ],
   "source": [
    "meta.shape"
   ]
  },
  {
   "cell_type": "markdown",
   "metadata": {},
   "source": [
    "## Label Preprocessing"
   ]
  },
  {
   "cell_type": "code",
   "execution_count": 9,
   "metadata": {},
   "outputs": [],
   "source": [
    "import math"
   ]
  },
  {
   "cell_type": "code",
   "execution_count": 3,
   "metadata": {},
   "outputs": [],
   "source": [
    "labels = pd.read_excel(path+'K23_Crohn_RadiologyReport_Labels_27MAR2018.xlsx')"
   ]
  },
  {
   "cell_type": "code",
   "execution_count": 4,
   "metadata": {},
   "outputs": [
    {
     "data": {
      "text/html": [
       "<div>\n",
       "<style scoped>\n",
       "    .dataframe tbody tr th:only-of-type {\n",
       "        vertical-align: middle;\n",
       "    }\n",
       "\n",
       "    .dataframe tbody tr th {\n",
       "        vertical-align: top;\n",
       "    }\n",
       "\n",
       "    .dataframe thead th {\n",
       "        text-align: right;\n",
       "    }\n",
       "</style>\n",
       "<table border=\"1\" class=\"dataframe\">\n",
       "  <thead>\n",
       "    <tr style=\"text-align: right;\">\n",
       "      <th></th>\n",
       "      <th>Database_ID</th>\n",
       "      <th>StudyID</th>\n",
       "      <th>Ileum</th>\n",
       "      <th>ascending</th>\n",
       "      <th>transverse</th>\n",
       "      <th>Descending</th>\n",
       "      <th>Sigmoid</th>\n",
       "      <th>rectum</th>\n",
       "      <th>prox_small_bowel</th>\n",
       "      <th>Prox_Ileum</th>\n",
       "      <th>...</th>\n",
       "      <th>Pouch</th>\n",
       "      <th>CD_Active_AnyLocation</th>\n",
       "      <th>CD_Active_SmallBowel</th>\n",
       "      <th>CD_Active_RtColon</th>\n",
       "      <th>CD_Active_LtColon</th>\n",
       "      <th>CD_Active_Pancolitis</th>\n",
       "      <th>Fistula_Any</th>\n",
       "      <th>Abscess_any</th>\n",
       "      <th>Stricture_Suspected</th>\n",
       "      <th>Surgery_Prior_Any</th>\n",
       "    </tr>\n",
       "  </thead>\n",
       "  <tbody>\n",
       "    <tr>\n",
       "      <th>0</th>\n",
       "      <td>67</td>\n",
       "      <td>88933.0</td>\n",
       "      <td>True</td>\n",
       "      <td>False</td>\n",
       "      <td>False</td>\n",
       "      <td>False</td>\n",
       "      <td>False</td>\n",
       "      <td>False</td>\n",
       "      <td>False</td>\n",
       "      <td>False</td>\n",
       "      <td>...</td>\n",
       "      <td>False</td>\n",
       "      <td>1</td>\n",
       "      <td>1</td>\n",
       "      <td>0</td>\n",
       "      <td>0</td>\n",
       "      <td>0</td>\n",
       "      <td>0</td>\n",
       "      <td>0</td>\n",
       "      <td>0</td>\n",
       "      <td>0</td>\n",
       "    </tr>\n",
       "    <tr>\n",
       "      <th>1</th>\n",
       "      <td>68</td>\n",
       "      <td>88867.0</td>\n",
       "      <td>False</td>\n",
       "      <td>False</td>\n",
       "      <td>False</td>\n",
       "      <td>False</td>\n",
       "      <td>False</td>\n",
       "      <td>False</td>\n",
       "      <td>False</td>\n",
       "      <td>False</td>\n",
       "      <td>...</td>\n",
       "      <td>False</td>\n",
       "      <td>0</td>\n",
       "      <td>0</td>\n",
       "      <td>0</td>\n",
       "      <td>0</td>\n",
       "      <td>0</td>\n",
       "      <td>0</td>\n",
       "      <td>0</td>\n",
       "      <td>0</td>\n",
       "      <td>1</td>\n",
       "    </tr>\n",
       "    <tr>\n",
       "      <th>2</th>\n",
       "      <td>69</td>\n",
       "      <td>44653.0</td>\n",
       "      <td>True</td>\n",
       "      <td>False</td>\n",
       "      <td>False</td>\n",
       "      <td>False</td>\n",
       "      <td>False</td>\n",
       "      <td>False</td>\n",
       "      <td>False</td>\n",
       "      <td>False</td>\n",
       "      <td>...</td>\n",
       "      <td>False</td>\n",
       "      <td>1</td>\n",
       "      <td>1</td>\n",
       "      <td>0</td>\n",
       "      <td>0</td>\n",
       "      <td>0</td>\n",
       "      <td>0</td>\n",
       "      <td>0</td>\n",
       "      <td>1</td>\n",
       "      <td>1</td>\n",
       "    </tr>\n",
       "    <tr>\n",
       "      <th>3</th>\n",
       "      <td>70</td>\n",
       "      <td>88736.0</td>\n",
       "      <td>True</td>\n",
       "      <td>False</td>\n",
       "      <td>False</td>\n",
       "      <td>False</td>\n",
       "      <td>False</td>\n",
       "      <td>False</td>\n",
       "      <td>False</td>\n",
       "      <td>False</td>\n",
       "      <td>...</td>\n",
       "      <td>False</td>\n",
       "      <td>1</td>\n",
       "      <td>1</td>\n",
       "      <td>0</td>\n",
       "      <td>0</td>\n",
       "      <td>0</td>\n",
       "      <td>1</td>\n",
       "      <td>0</td>\n",
       "      <td>0</td>\n",
       "      <td>1</td>\n",
       "    </tr>\n",
       "    <tr>\n",
       "      <th>4</th>\n",
       "      <td>71</td>\n",
       "      <td>88747.0</td>\n",
       "      <td>False</td>\n",
       "      <td>False</td>\n",
       "      <td>False</td>\n",
       "      <td>False</td>\n",
       "      <td>False</td>\n",
       "      <td>False</td>\n",
       "      <td>False</td>\n",
       "      <td>False</td>\n",
       "      <td>...</td>\n",
       "      <td>False</td>\n",
       "      <td>0</td>\n",
       "      <td>0</td>\n",
       "      <td>0</td>\n",
       "      <td>0</td>\n",
       "      <td>0</td>\n",
       "      <td>0</td>\n",
       "      <td>0</td>\n",
       "      <td>0</td>\n",
       "      <td>1</td>\n",
       "    </tr>\n",
       "  </tbody>\n",
       "</table>\n",
       "<p>5 rows × 33 columns</p>\n",
       "</div>"
      ],
      "text/plain": [
       "   Database_ID  StudyID  Ileum  ascending  transverse  Descending  Sigmoid  \\\n",
       "0           67  88933.0   True      False       False       False    False   \n",
       "1           68  88867.0  False      False       False       False    False   \n",
       "2           69  44653.0   True      False       False       False    False   \n",
       "3           70  88736.0   True      False       False       False    False   \n",
       "4           71  88747.0  False      False       False       False    False   \n",
       "\n",
       "   rectum  prox_small_bowel  Prox_Ileum        ...          Pouch  \\\n",
       "0   False             False       False        ...          False   \n",
       "1   False             False       False        ...          False   \n",
       "2   False             False       False        ...          False   \n",
       "3   False             False       False        ...          False   \n",
       "4   False             False       False        ...          False   \n",
       "\n",
       "   CD_Active_AnyLocation  CD_Active_SmallBowel  CD_Active_RtColon  \\\n",
       "0                      1                     1                  0   \n",
       "1                      0                     0                  0   \n",
       "2                      1                     1                  0   \n",
       "3                      1                     1                  0   \n",
       "4                      0                     0                  0   \n",
       "\n",
       "   CD_Active_LtColon  CD_Active_Pancolitis  Fistula_Any  Abscess_any  \\\n",
       "0                  0                     0            0            0   \n",
       "1                  0                     0            0            0   \n",
       "2                  0                     0            0            0   \n",
       "3                  0                     0            1            0   \n",
       "4                  0                     0            0            0   \n",
       "\n",
       "   Stricture_Suspected  Surgery_Prior_Any  \n",
       "0                    0                  0  \n",
       "1                    0                  1  \n",
       "2                    1                  1  \n",
       "3                    0                  1  \n",
       "4                    0                  1  \n",
       "\n",
       "[5 rows x 33 columns]"
      ]
     },
     "execution_count": 4,
     "metadata": {},
     "output_type": "execute_result"
    }
   ],
   "source": [
    "labels.head()"
   ]
  },
  {
   "cell_type": "code",
   "execution_count": 5,
   "metadata": {},
   "outputs": [
    {
     "data": {
      "text/plain": [
       "(4361, 33)"
      ]
     },
     "execution_count": 5,
     "metadata": {},
     "output_type": "execute_result"
    }
   ],
   "source": [
    "labels.shape"
   ]
  },
  {
   "cell_type": "code",
   "execution_count": 8,
   "metadata": {},
   "outputs": [
    {
     "data": {
      "text/plain": [
       "array([ 88933.,  88867.,  44653., ...,     nan,     nan,     nan])"
      ]
     },
     "execution_count": 8,
     "metadata": {},
     "output_type": "execute_result"
    }
   ],
   "source": [
    "labels.StudyID.values"
   ]
  },
  {
   "cell_type": "code",
   "execution_count": 15,
   "metadata": {},
   "outputs": [],
   "source": [
    "label_id = ['s'+str(int(n)) for n in labels.StudyID.values if not math.isnan(n)]"
   ]
  },
  {
   "cell_type": "code",
   "execution_count": 16,
   "metadata": {},
   "outputs": [],
   "source": [
    "label_id.sort()"
   ]
  },
  {
   "cell_type": "code",
   "execution_count": 17,
   "metadata": {},
   "outputs": [
    {
     "data": {
      "text/plain": [
       "3480"
      ]
     },
     "execution_count": 17,
     "metadata": {},
     "output_type": "execute_result"
    }
   ],
   "source": [
    "len(label_id)"
   ]
  },
  {
   "cell_type": "code",
   "execution_count": 27,
   "metadata": {},
   "outputs": [],
   "source": [
    "dup = [n for n in label_id if label_id.count(n)>1]"
   ]
  },
  {
   "cell_type": "code",
   "execution_count": 29,
   "metadata": {},
   "outputs": [],
   "source": [
    "dup_float = [float(n[1:]) for n in dup]"
   ]
  },
  {
   "cell_type": "code",
   "execution_count": 32,
   "metadata": {},
   "outputs": [
    {
     "data": {
      "text/html": [
       "<div>\n",
       "<style scoped>\n",
       "    .dataframe tbody tr th:only-of-type {\n",
       "        vertical-align: middle;\n",
       "    }\n",
       "\n",
       "    .dataframe tbody tr th {\n",
       "        vertical-align: top;\n",
       "    }\n",
       "\n",
       "    .dataframe thead th {\n",
       "        text-align: right;\n",
       "    }\n",
       "</style>\n",
       "<table border=\"1\" class=\"dataframe\">\n",
       "  <thead>\n",
       "    <tr style=\"text-align: right;\">\n",
       "      <th></th>\n",
       "      <th>Database_ID</th>\n",
       "      <th>StudyID</th>\n",
       "      <th>Ileum</th>\n",
       "      <th>ascending</th>\n",
       "      <th>transverse</th>\n",
       "      <th>Descending</th>\n",
       "      <th>Sigmoid</th>\n",
       "      <th>rectum</th>\n",
       "      <th>prox_small_bowel</th>\n",
       "      <th>Prox_Ileum</th>\n",
       "      <th>...</th>\n",
       "      <th>Pouch</th>\n",
       "      <th>CD_Active_AnyLocation</th>\n",
       "      <th>CD_Active_SmallBowel</th>\n",
       "      <th>CD_Active_RtColon</th>\n",
       "      <th>CD_Active_LtColon</th>\n",
       "      <th>CD_Active_Pancolitis</th>\n",
       "      <th>Fistula_Any</th>\n",
       "      <th>Abscess_any</th>\n",
       "      <th>Stricture_Suspected</th>\n",
       "      <th>Surgery_Prior_Any</th>\n",
       "    </tr>\n",
       "  </thead>\n",
       "  <tbody>\n",
       "    <tr>\n",
       "      <th>1819</th>\n",
       "      <td>1141</td>\n",
       "      <td>92866.0</td>\n",
       "      <td>False</td>\n",
       "      <td>False</td>\n",
       "      <td>True</td>\n",
       "      <td>True</td>\n",
       "      <td>False</td>\n",
       "      <td>True</td>\n",
       "      <td>False</td>\n",
       "      <td>False</td>\n",
       "      <td>...</td>\n",
       "      <td>False</td>\n",
       "      <td>1</td>\n",
       "      <td>0</td>\n",
       "      <td>1</td>\n",
       "      <td>1</td>\n",
       "      <td>0</td>\n",
       "      <td>0</td>\n",
       "      <td>0</td>\n",
       "      <td>0</td>\n",
       "      <td>0</td>\n",
       "    </tr>\n",
       "    <tr>\n",
       "      <th>1820</th>\n",
       "      <td>1142</td>\n",
       "      <td>92866.0</td>\n",
       "      <td>False</td>\n",
       "      <td>False</td>\n",
       "      <td>True</td>\n",
       "      <td>True</td>\n",
       "      <td>False</td>\n",
       "      <td>True</td>\n",
       "      <td>False</td>\n",
       "      <td>False</td>\n",
       "      <td>...</td>\n",
       "      <td>False</td>\n",
       "      <td>1</td>\n",
       "      <td>0</td>\n",
       "      <td>1</td>\n",
       "      <td>1</td>\n",
       "      <td>0</td>\n",
       "      <td>0</td>\n",
       "      <td>0</td>\n",
       "      <td>0</td>\n",
       "      <td>0</td>\n",
       "    </tr>\n",
       "    <tr>\n",
       "      <th>2011</th>\n",
       "      <td>2005</td>\n",
       "      <td>93241.0</td>\n",
       "      <td>False</td>\n",
       "      <td>False</td>\n",
       "      <td>False</td>\n",
       "      <td>False</td>\n",
       "      <td>False</td>\n",
       "      <td>False</td>\n",
       "      <td>False</td>\n",
       "      <td>False</td>\n",
       "      <td>...</td>\n",
       "      <td>False</td>\n",
       "      <td>0</td>\n",
       "      <td>0</td>\n",
       "      <td>0</td>\n",
       "      <td>0</td>\n",
       "      <td>0</td>\n",
       "      <td>0</td>\n",
       "      <td>0</td>\n",
       "      <td>0</td>\n",
       "      <td>0</td>\n",
       "    </tr>\n",
       "    <tr>\n",
       "      <th>2012</th>\n",
       "      <td>2004</td>\n",
       "      <td>93241.0</td>\n",
       "      <td>False</td>\n",
       "      <td>False</td>\n",
       "      <td>False</td>\n",
       "      <td>False</td>\n",
       "      <td>False</td>\n",
       "      <td>False</td>\n",
       "      <td>False</td>\n",
       "      <td>False</td>\n",
       "      <td>...</td>\n",
       "      <td>False</td>\n",
       "      <td>0</td>\n",
       "      <td>0</td>\n",
       "      <td>0</td>\n",
       "      <td>0</td>\n",
       "      <td>0</td>\n",
       "      <td>0</td>\n",
       "      <td>1</td>\n",
       "      <td>0</td>\n",
       "      <td>0</td>\n",
       "    </tr>\n",
       "    <tr>\n",
       "      <th>2109</th>\n",
       "      <td>2378</td>\n",
       "      <td>93461.0</td>\n",
       "      <td>True</td>\n",
       "      <td>False</td>\n",
       "      <td>False</td>\n",
       "      <td>False</td>\n",
       "      <td>False</td>\n",
       "      <td>False</td>\n",
       "      <td>False</td>\n",
       "      <td>False</td>\n",
       "      <td>...</td>\n",
       "      <td>False</td>\n",
       "      <td>1</td>\n",
       "      <td>1</td>\n",
       "      <td>0</td>\n",
       "      <td>0</td>\n",
       "      <td>0</td>\n",
       "      <td>0</td>\n",
       "      <td>1</td>\n",
       "      <td>0</td>\n",
       "      <td>0</td>\n",
       "    </tr>\n",
       "    <tr>\n",
       "      <th>2110</th>\n",
       "      <td>2379</td>\n",
       "      <td>93461.0</td>\n",
       "      <td>True</td>\n",
       "      <td>False</td>\n",
       "      <td>False</td>\n",
       "      <td>False</td>\n",
       "      <td>False</td>\n",
       "      <td>False</td>\n",
       "      <td>False</td>\n",
       "      <td>False</td>\n",
       "      <td>...</td>\n",
       "      <td>False</td>\n",
       "      <td>1</td>\n",
       "      <td>1</td>\n",
       "      <td>0</td>\n",
       "      <td>0</td>\n",
       "      <td>0</td>\n",
       "      <td>0</td>\n",
       "      <td>1</td>\n",
       "      <td>0</td>\n",
       "      <td>0</td>\n",
       "    </tr>\n",
       "  </tbody>\n",
       "</table>\n",
       "<p>6 rows × 33 columns</p>\n",
       "</div>"
      ],
      "text/plain": [
       "      Database_ID  StudyID  Ileum  ascending  transverse  Descending  Sigmoid  \\\n",
       "1819         1141  92866.0  False      False        True        True    False   \n",
       "1820         1142  92866.0  False      False        True        True    False   \n",
       "2011         2005  93241.0  False      False       False       False    False   \n",
       "2012         2004  93241.0  False      False       False       False    False   \n",
       "2109         2378  93461.0   True      False       False       False    False   \n",
       "2110         2379  93461.0   True      False       False       False    False   \n",
       "\n",
       "      rectum  prox_small_bowel  Prox_Ileum        ...          Pouch  \\\n",
       "1819    True             False       False        ...          False   \n",
       "1820    True             False       False        ...          False   \n",
       "2011   False             False       False        ...          False   \n",
       "2012   False             False       False        ...          False   \n",
       "2109   False             False       False        ...          False   \n",
       "2110   False             False       False        ...          False   \n",
       "\n",
       "      CD_Active_AnyLocation  CD_Active_SmallBowel  CD_Active_RtColon  \\\n",
       "1819                      1                     0                  1   \n",
       "1820                      1                     0                  1   \n",
       "2011                      0                     0                  0   \n",
       "2012                      0                     0                  0   \n",
       "2109                      1                     1                  0   \n",
       "2110                      1                     1                  0   \n",
       "\n",
       "      CD_Active_LtColon  CD_Active_Pancolitis  Fistula_Any  Abscess_any  \\\n",
       "1819                  1                     0            0            0   \n",
       "1820                  1                     0            0            0   \n",
       "2011                  0                     0            0            0   \n",
       "2012                  0                     0            0            1   \n",
       "2109                  0                     0            0            1   \n",
       "2110                  0                     0            0            1   \n",
       "\n",
       "      Stricture_Suspected  Surgery_Prior_Any  \n",
       "1819                    0                  0  \n",
       "1820                    0                  0  \n",
       "2011                    0                  0  \n",
       "2012                    0                  0  \n",
       "2109                    0                  0  \n",
       "2110                    0                  0  \n",
       "\n",
       "[6 rows x 33 columns]"
      ]
     },
     "execution_count": 32,
     "metadata": {},
     "output_type": "execute_result"
    }
   ],
   "source": [
    "labels[labels['StudyID'].isin(dup_float)]"
   ]
  },
  {
   "cell_type": "code",
   "execution_count": 14,
   "metadata": {},
   "outputs": [],
   "source": [
    "meta = pd.read_csv('output/meta_data.csv')"
   ]
  },
  {
   "cell_type": "code",
   "execution_count": 18,
   "metadata": {},
   "outputs": [],
   "source": [
    "meta_id = meta.ID.values"
   ]
  },
  {
   "cell_type": "code",
   "execution_count": 22,
   "metadata": {},
   "outputs": [],
   "source": [
    "check = [n for n in label_id if not n in meta_id]"
   ]
  },
  {
   "cell_type": "code",
   "execution_count": 23,
   "metadata": {},
   "outputs": [
    {
     "data": {
      "text/plain": [
       "['s11418', 's94214', 's95108']"
      ]
     },
     "execution_count": 23,
     "metadata": {},
     "output_type": "execute_result"
    }
   ],
   "source": [
    "check"
   ]
  },
  {
   "cell_type": "code",
   "execution_count": 24,
   "metadata": {},
   "outputs": [],
   "source": [
    "common = [n for n in meta_id if n in label_id]"
   ]
  },
  {
   "cell_type": "code",
   "execution_count": 25,
   "metadata": {},
   "outputs": [
    {
     "data": {
      "text/plain": [
       "3474"
      ]
     },
     "execution_count": 25,
     "metadata": {},
     "output_type": "execute_result"
    }
   ],
   "source": [
    "len(common)"
   ]
  },
  {
   "cell_type": "markdown",
   "metadata": {},
   "source": [
    "## Visualization"
   ]
  },
  {
   "cell_type": "code",
   "execution_count": 21,
   "metadata": {},
   "outputs": [],
   "source": [
    "array_folder, etc_folder, array_lst = next(os.walk(path+'ndarray'))"
   ]
  },
  {
   "cell_type": "code",
   "execution_count": 23,
   "metadata": {},
   "outputs": [],
   "source": [
    "array_lst.sort()"
   ]
  },
  {
   "cell_type": "code",
   "execution_count": 25,
   "metadata": {},
   "outputs": [
    {
     "data": {
      "text/plain": [
       "2205"
      ]
     },
     "execution_count": 25,
     "metadata": {},
     "output_type": "execute_result"
    }
   ],
   "source": [
    "len(array_lst)"
   ]
  },
  {
   "cell_type": "code",
   "execution_count": 3,
   "metadata": {},
   "outputs": [],
   "source": [
    "scan = 's26984'"
   ]
  },
  {
   "cell_type": "code",
   "execution_count": 5,
   "metadata": {},
   "outputs": [],
   "source": [
    "meta = get_metadata(path+'raw/'+scan)"
   ]
  },
  {
   "cell_type": "code",
   "execution_count": 4,
   "metadata": {},
   "outputs": [],
   "source": [
    "ndarray = np.load(path+'ndarray/'+scan+'.npy')"
   ]
  },
  {
   "cell_type": "code",
   "execution_count": 14,
   "metadata": {},
   "outputs": [],
   "source": [
    "meta = get_metadata(scan_path, 'mat')"
   ]
  },
  {
   "cell_type": "code",
   "execution_count": 6,
   "metadata": {},
   "outputs": [
    {
     "data": {
      "text/plain": [
       "{'extra_dim': False,\n",
       " 'x_dim': 512,\n",
       " 'x_spacing': 0.703125,\n",
       " 'y_dim': 512,\n",
       " 'y_spacing': 0.703125,\n",
       " 'z_dim': 85,\n",
       " 'z_spacing': 5.0}"
      ]
     },
     "execution_count": 6,
     "metadata": {},
     "output_type": "execute_result"
    }
   ],
   "source": [
    "meta"
   ]
  },
  {
   "cell_type": "code",
   "execution_count": 96,
   "metadata": {},
   "outputs": [],
   "source": [
    "ndarray = dcm_to_ndarray(path+'raw/'+scan, target_size=(256, 256, 192))"
   ]
  },
  {
   "cell_type": "code",
   "execution_count": 17,
   "metadata": {},
   "outputs": [
    {
     "data": {
      "image/png": "[encoded data removed]",
      "text/plain": [
       "<Figure size 1152x288 with 4 Axes>"
      ]
     },
     "metadata": {},
     "output_type": "display_data"
    }
   ],
   "source": [
    "plot_ndarray(ndarray)"
   ]
  },
  {
   "cell_type": "code",
   "execution_count": 15,
   "metadata": {},
   "outputs": [],
   "source": [
    "x = np.linspace(0, (meta['x_dim']+1)*meta['x_spacing'], num = 256)\n",
    "y = np.linspace(0, (meta['y_dim']+1)*meta['y_spacing'], num = 256)\n",
    "z = np.linspace(0, (meta['z_dim']+1)*meta['z_spacing'], num = 192)"
   ]
  },
  {
   "cell_type": "code",
   "execution_count": 16,
   "metadata": {},
   "outputs": [
    {
     "data": {
      "image/png": "[encoded data removed]",
      "text/plain": [
       "<Figure size 1800x1200 with 1 Axes>"
      ]
     },
     "metadata": {},
     "output_type": "display_data"
    }
   ],
   "source": [
    "plt.figure(dpi=300)\n",
    "plt.axes().set_aspect('equal', 'datalim')\n",
    "plt.set_cmap(plt.gray())\n",
    "plt.pcolormesh(x, z, np.transpose(ndarray[:, 128, :]));"
   ]
  }
 ],
 "metadata": {
  "kernelspec": {
   "display_name": "Python 3",
   "language": "python",
   "name": "python3"
  },
  "language_info": {
   "codemirror_mode": {
    "name": "ipython",
    "version": 3
   },
   "file_extension": ".py",
   "mimetype": "text/x-python",
   "name": "python",
   "nbconvert_exporter": "python",
   "pygments_lexer": "ipython3",
   "version": "3.5.4"
  }
 },
 "nbformat": 4,
 "nbformat_minor": 2
}
